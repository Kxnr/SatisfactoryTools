{
 "cells": [
  {
   "cell_type": "code",
   "execution_count": 2,
   "id": "89117efb-12c3-4039-95ee-ebf4a532631e",
   "metadata": {},
   "outputs": [],
   "source": [
    "import json\n",
    "import plotly\n",
    "from ipywidgets import interact, interactive, fixed, interact_manual\n",
    "from pprint import pprint\n",
    " \n",
    "def simplify_config(game_config: dict) -> dict:\n",
    "    simple_config = {}\n",
    "    for config in game_config:\n",
    "        simple_config[config[\"NativeClass\"]] = {item[\"ClassName\"]: item for item in config[\"Classes\"]}\n",
    "    return simple_config\n",
    "\n",
    "CONFIG_LOCATION = \"D:\\SteamLibrary\\steamapps\\common\\Satisfactory\\CommunityResources\\Docs\\Docs.json\"\n",
    "with open(CONFIG_LOCATION, \"r\", encoding=\"utf-16\") as f:\n",
    "    data = f.read()\n",
    "    BASE_CONFIG = simplify_config(json.loads(data))\n",
    "    \n",
    "def standardize(value: str):\n",
    "    return \"_\".join(value.replace(\"-\", \"_\").replace(\":\", \"\").split()).lower()\n",
    "\n",
    "# missing miner, rebar spreadshot\n",
    "RESOURCE_KEYS = (\"Class'/Script/FactoryGame.FGItemDescriptor'\", \n",
    "                 \"Class'/Script/FactoryGame.FGResourceDescriptor'\",\n",
    "                 \"Class'/Script/FactoryGame.FGConsumableDescriptor'\",\n",
    "                 \"Class'/Script/FactoryGame.FGItemDescriptorBiomass'\",\n",
    "                 \"Class'/Script/FactoryGame.FGAmmoTypeProjectile'\",\n",
    "                 \"Class'/Script/FactoryGame.FGItemDescriptorNuclearFuel'\",\n",
    "                 \"Class'/Script/FactoryGame.FGAmmoTypeInstantHit'\")"
   ]
  },
  {
   "cell_type": "code",
   "execution_count": 3,
   "id": "8e933410-e642-4af2-88df-a63d520f4819",
   "metadata": {},
   "outputs": [],
   "source": [
    "# TODO: make an intermediate config with cleaned up keys\n",
    "# material/recipe: internal_name: useful info\n",
    "import itertools\n",
    "\n",
    "def get_materials(simple_config: dict) -> list[str]:\n",
    "    resources = []\n",
    "    for item in itertools.chain.from_iterable((simple_config[key].values() for key in RESOURCE_KEYS)):\n",
    "        resources.append(standardize(item[\"mDisplayName\"]))\n",
    "    return resources"
   ]
  },
  {
   "cell_type": "code",
   "execution_count": 106,
   "id": "d6fe6b91-475b-41e9-890a-9b62fd44d7ab",
   "metadata": {},
   "outputs": [],
   "source": [
    "from abc import ABC\n",
    "from dataclasses import dataclass, fields, make_dataclass\n",
    "from enum import Enum, auto\n",
    "from collections import deque\n",
    "from typing import Optional\n",
    "from itertools import zip_longest\n",
    "import plotly.express as px\n",
    "\n",
    "# TODO: how much of this can be expressed/solved with matrices?\n",
    "\n",
    "class ConfigurationError(Exception):\n",
    "    pass\n",
    "\n",
    "class __MaterialSpec:\n",
    "    \"\"\"\n",
    "    TODO: give this a widget\n",
    "    \"\"\"    \n",
    "    def __add__(self, other):\n",
    "        if not isinstance(other, type(self)):\n",
    "            return NotImplemented\n",
    "        \n",
    "        result = {}\n",
    "        for name, value in self:\n",
    "            result[name] = value + getattr(other, name)\n",
    "        return type(self)(**result)\n",
    "    \n",
    "    def __sub__(self, other):\n",
    "        if not isinstance(other, type(self)):\n",
    "            return NotImplemented\n",
    "        \n",
    "        result = {}\n",
    "        for name, value in self:\n",
    "            result[name] = value - getattr(other, name)\n",
    "        return type(self)(**result)\n",
    "    \n",
    "    def __mul__(self, scalar):\n",
    "        result = {}\n",
    "        for name, value in self:\n",
    "            result[name] = value * scalar \n",
    "        return type(self)(**result)\n",
    "    \n",
    "    def __iter__(self):\n",
    "        for f in fields(self):\n",
    "            yield f.name, getattr(self, f.name)\n",
    "                       \n",
    "    def __or__(self, other):\n",
    "        if isinstance(other, type(self)):\n",
    "            return type(self)(**{name: value for (name, value), (_, matched_value) in zip(self, other) if matched_value > 0})\n",
    "        # elif isinstance(other, Material):\n",
    "        #     return type(self)(**{other.name: getattr(self, other.name)})\n",
    "        elif isinstance(other, str):\n",
    "            return type(self)(**{other: getattr(self, other)})\n",
    "        \n",
    "        return NotImplemented\n",
    "    \n",
    "    def __repr__(self):\n",
    "        return \"\\n\".join(f\"{name}: {value}\" for name, value in self if value > 0)\n",
    "\n",
    "MaterialSpec = make_dataclass(\"MaterialSpec\", [(mat, float, 0) for mat in get_materials(BASE_CONFIG)], bases=(__MaterialSpec,), repr=False)\n",
    "    \n",
    "class Recipe:\n",
    "    name: str\n",
    "    \n",
    "    def __init__(self, name: str, ingredients: MaterialSpec, products: MaterialSpec):\n",
    "        self.ingredients = ingredients\n",
    "        self.products = products\n",
    "        self.name = name\n",
    "        \n",
    "    def __add__(self, material_spec: MaterialSpec):\n",
    "        return material_spec + self.products - self.ingredients\n",
    "    \n",
    "    def __radd__(self, material_spec: MaterialSpec):\n",
    "        return self + material_spec\n",
    "    \n",
    "    def __rsub__(self, material_spec: MaterialSpec):\n",
    "        return material_spec + self.ingredients - self.products\n",
    "    \n",
    "    def __mul__(self, scalar: float):\n",
    "        \"\"\"\n",
    "        Scale up this recipe\n",
    "        \"\"\"\n",
    "        return type(self)(self.name, self.ingredients * scalar, self.products * scalar)\n",
    "    \n",
    "    def __rtruediv__(self, material_spec: MaterialSpec):\n",
    "        \"\"\"\n",
    "        Get the number of iterations of this recipe that can be produced from the given material_spec\n",
    "        \"\"\"\n",
    "        return min(getattr(material_spec, name) / value for name, value in self.ingredients if value > 0)\n",
    "    \n",
    "    def __repr__(self):\n",
    "        ingredients = \" \".join(repr(self.ingredients).splitlines())\n",
    "        products = \" \".join(repr(self.products).splitlines())\n",
    "                \n",
    "        return f\"{ingredients} >> {products}\"\n",
    "        \n",
    "        \n",
    "class Machine(ABC):    \n",
    "    # TODO: weakref these\n",
    "    input_producers: dict[\"Machine\", str]\n",
    "    output_consumers: dict[\"Machine\", str]\n",
    "    \n",
    "    power_consumption: float\n",
    "    inputs: int\n",
    "    outputs: int\n",
    "    color: str\n",
    "    \n",
    "    _color_generator = iter(px.colors.qualitative.Dark24)\n",
    "    \n",
    "    def __init__(self, recipe: Recipe):\n",
    "        inputs = sum(material > 0 for _, material in recipe.ingredients)\n",
    "        outputs = sum(material > 0 for _, material in recipe.products)\n",
    "        self.input_producers = {}\n",
    "        self.output_consumers = {}\n",
    "        \n",
    "        if inputs != self.inputs or outputs != self.outputs:\n",
    "            raise ConfigurationError(f\"{self.__class__} must have {self.inputs} inputs and {self.outputs} outputs\")\n",
    "            \n",
    "        self.recipe = recipe\n",
    "        \n",
    "    def __init_subclass__(cls, skip_color=False):\n",
    "        if not skip_color:\n",
    "            cls.color = next(cls._color_generator)\n",
    "        \n",
    "    def __str__(self):\n",
    "        return f\"<{self.__class__.__name__}: {self.recipe}>\"\n",
    "        \n",
    "    def __repr__(self):\n",
    "        return str(self)\n",
    "        \n",
    "    def __rshift__(self, material_spec: MaterialSpec):\n",
    "        \"\"\"\n",
    "        Solve for inputs\n",
    "        Recipe >> MaterialSpec\n",
    "        \"\"\"\n",
    "        # TODO: what should the inverse of div be?\n",
    "        scale = max(getattr(material_spec, name) / value for name, value in self.recipe.products if value > 0)\n",
    "        scaled = self.recipe * scale\n",
    "        return material_spec - scaled\n",
    "    \n",
    "    def __lshift__(self, material_spec: MaterialSpec):\n",
    "        \"\"\"\n",
    "        Solve for outputs\n",
    "        Recipe << MaterialSpec\n",
    "        \"\"\"\n",
    "        scale = material_spec / self.recipe\n",
    "        scaled = self.recipe * scale\n",
    "        return material_spec + scaled\n",
    "        \n",
    "    def __rrshift__(self, material_spec: MaterialSpec):\n",
    "        \"\"\"\n",
    "        Solve for inputs\n",
    "        MaterialSpec << Recipe\n",
    "        \"\"\"\n",
    "        return self << material_spec\n",
    "    \n",
    "    def __rlshift__(self, material_spec: MaterialSpec):\n",
    "        \"\"\"\n",
    "        Solve for outputs\n",
    "        MaterialSpec >> Recipe\n",
    "        \"\"\"\n",
    "        return self >> material_spec\n",
    "        \n",
    "    def has_input(self, material: str):\n",
    "        return getattr(self.recipe.ingredients, material) > 0\n",
    "    \n",
    "    def has_output(self, material: str):\n",
    "        return getattr(self.recipe.products, material) > 0\n",
    "    \n",
    "    # TODO: there's some serious confusion of responsibilities between this and recipe\n",
    "    def products(self):\n",
    "        return [product for product, value in self.recipe.products if value > 0]\n",
    "    \n",
    "    def ingredients(self):\n",
    "        return [ingredient for ingredient, value in self.recipe.ingredients if value > 0]\n",
    "    \n",
    "    # TODO: use belt objects instead of bind to produce multiple graphs from the same set of machines\n",
    "    def bind(self, other: \"Machine\", material: str):\n",
    "        \"\"\"\n",
    "        Verify that there is a matching input-output pair for these two machines\n",
    "        \n",
    "        # TODO: can only handle binding one output to a given machine\n",
    "        \"\"\"\n",
    "        if self.has_output(material) and other.has_input(material):\n",
    "            other.input_producers[self] = material\n",
    "            self.output_consumers[other] = material\n",
    "        elif self.has_input(material) and other.has_output(material):\n",
    "            self.input_producers[other] = material\n",
    "            other.output_consumers[self] = material\n",
    "        else:\n",
    "            raise ConfigurationError(f\"{self} and {other} do not have a matching input and output.\")\n",
    "            \n",
    "        return self\n",
    "    \n",
    "class Process:\n",
    "    \"\"\"\n",
    "    TODO: power\n",
    "    \"\"\"\n",
    "    scale: int\n",
    "    power: float = 0\n",
    "    process_root: Machine\n",
    "    input_materials: MaterialSpec\n",
    "    output_materials: MaterialSpec\n",
    "    surplus_materials: MaterialSpec\n",
    "    \n",
    "    def __init__(self, process_root: Machine, target_output: MaterialSpec=None, _registry=None):\n",
    "        # TODO: scale process to desired output\n",
    "        self.process_root = process_root\n",
    "        \n",
    "        if _registry is None:\n",
    "            self.process_registry = {}\n",
    "        else:\n",
    "            self.process_registry = _registry\n",
    "            \n",
    "        self.process_registry[process_root] = self\n",
    "\n",
    "        if len(self.process_root.output_consumers) > 0:\n",
    "            # TODO: how to deal with cycles?\n",
    "            # TODO: if input material is the result of an output further up in the process (ie already in registry),\n",
    "            # TODO: subtract that from sizing\n",
    "            required_output = sum((self.process_registry[output_consumer].input_materials | bound_material \n",
    "                                   for output_consumer, bound_material \n",
    "                                   in process_root.output_consumers.items()), MaterialSpec())\n",
    "            self.input_materials = (process_root >> required_output) | process_root.recipe.ingredients\n",
    "        else:\n",
    "            required_output = process_root.recipe.products if target_output is None else target_output | process_root.recipe.products\n",
    "            self.input_materials = process_root >> required_output\n",
    "  \n",
    "        raw_output = self.input_materials >> process_root\n",
    "        self._required = required_output # for debugging\n",
    "        self._raw = raw_output\n",
    "        self.output_materials = raw_output | required_output\n",
    "        self.surplus_materials = raw_output - required_output\n",
    "        self.scale = self.input_materials / process_root.recipe\n",
    "    \n",
    "    @classmethod\n",
    "    def from_machines(cls, target_output: MaterialSpec, machines: list[Machine]):\n",
    "        \"\"\"\n",
    "        Builds a process tree from a list of machines\n",
    "        \"\"\"        \n",
    "        output = Aggregator(Recipe(\"products\", target_output, target_output))\n",
    "        nodes = deque([output])\n",
    "        visited = set()\n",
    "        registry = {}\n",
    "\n",
    "        \n",
    "        while len(nodes):\n",
    "            current_node = nodes.popleft()\n",
    "            visited.add(current_node)\n",
    "            \n",
    "            for machine in machines:\n",
    "                for ingredient in current_node.ingredients():\n",
    "                    if machine.has_output(ingredient):\n",
    "                        current_node.bind(machine, ingredient)\n",
    "                        if machine not in visited:\n",
    "                            nodes.append(machine)\n",
    "        \n",
    "        nodes = deque([output])\n",
    "        while len(nodes):\n",
    "            current_node = nodes.popleft()\n",
    "            \n",
    "            if not all(oc in registry for oc in current_node.output_consumers):\n",
    "                for node in current_node.output_consumers:\n",
    "                    if node not in registry and node not in nodes:\n",
    "                        nodes.append(node)\n",
    "                    nodes.append(current_node)       \n",
    "            else:\n",
    "                cls(current_node, target_output, registry)\n",
    "                for node in current_node.input_producers:\n",
    "                    if node not in registry and node not in nodes:\n",
    "                        nodes.append(node)\n",
    "            \n",
    "        return registry[output]\n",
    "\n",
    "\n",
    "class VariableOutputMachine(Machine, skip_color=True):\n",
    "        \n",
    "    def __init__(self, recipe: Recipe):\n",
    "        self.outputs = min(sum(material > 0 for _, material in recipe.products), self.outputs)\n",
    "        \n",
    "        super().__init__(recipe)\n",
    "        \n",
    "class VariableInputMachine(Machine, skip_color=True):\n",
    "        \n",
    "    def __init__(self, recipe: Recipe):\n",
    "        self.inputs = min(sum(material > 0 for _, material in recipe.ingredients), self.inputs)\n",
    "        \n",
    "        super().__init__(recipe)\n",
    "                                                                                  \n",
    "    \n",
    "class Constructor(Machine):\n",
    "    power_consumption = 300\n",
    "    inputs = 1\n",
    "    outputs = 1\n",
    "    \n",
    "class Assembler(Machine):\n",
    "    power_consumption = 300\n",
    "    inputs = 2\n",
    "    outputs = 1\n",
    "    \n",
    "class Manufacturer(VariableInputMachine):\n",
    "    power_consumption = 300\n",
    "    inputs = 4\n",
    "    outputs = 1\n",
    "    \n",
    "class Smelter(Machine):\n",
    "    power_consumption = 300\n",
    "    inputs = 1\n",
    "    outputs = 1\n",
    "    \n",
    "class Foundry(Machine):\n",
    "    power_consumption = 300 \n",
    "    inputs = 2\n",
    "    outputs = 1\n",
    "    \n",
    "class Packager(VariableOutputMachine, VariableInputMachine):\n",
    "    power_consumption = 300\n",
    "    inputs = 2\n",
    "    outputs = 2\n",
    "    \n",
    "class Refinery(VariableOutputMachine, VariableInputMachine):\n",
    "    power_consumption = 300\n",
    "    inputs = 2\n",
    "    outputs = 2\n",
    "\n",
    "# Not yet implemented    \n",
    "class Extractor(Machine):\n",
    "    power_consumption = 300\n",
    "    inputs = 0\n",
    "    outputs = 1\n",
    "    \n",
    "class Blender(Machine):\n",
    "    power_consumption = 300\n",
    "    inputs = 2\n",
    "    outputs = 2\n",
    "    \n",
    "    \n",
    "class Aggregator(Machine):\n",
    "    \"\"\"\n",
    "    Special class to join disjoint trees so that every process can be expressed as a tree, \n",
    "    regardless of desired outputs. Can be used, for example, to represent a factory floor as a 'Machine'\n",
    "    \"\"\"\n",
    "    def __init__(self, recipe: Recipe):\n",
    "        self.inputs = sum(material > 0 for _, material in recipe.ingredients)\n",
    "        self.outputs = sum(material > 0 for _, material in recipe.products)\n",
    "        super().__init__(recipe)\n",
    "        \n",
    "    \n",
    "class ParticleAccelerator(Machine):\n",
    "    power_consumption = 300\n",
    "    inputs = 2\n",
    "    outputs = 2\n",
    "\n",
    "    \n",
    "# class Blender(Machine):\n",
    "#     pass\n",
    "\n",
    "\n",
    "# TODO: merge/split machines producing the same item\n",
    "# TODO: dummy machine to create tree from disjoint processes\n",
    "\n",
    "# def optimize_recipe(recipe: Recipe, weights: MaterialSpec):\n",
    "#     # TODO: consider power\n",
    "#     # TODO: this will likely be most efficient with pre-processing of the costs of various sub-processes\n",
    "#     pass"
   ]
  },
  {
   "cell_type": "code",
   "execution_count": 107,
   "id": "6cc2276c-b062-47da-941b-ad5457cbd63f",
   "metadata": {},
   "outputs": [],
   "source": [
    "import re\n",
    "\n",
    "machine_mapping = {\"/Game/FactoryGame/Buildable/Factory/AssemblerMk1/Build_AssemblerMk1.Build_AssemblerMk1_C\": Assembler, \n",
    " \"/Game/FactoryGame/Buildable/Factory/ManufacturerMk1/Build_ManufacturerMk1.Build_ManufacturerMk1_C\": Manufacturer, \n",
    " \"/Game/FactoryGame/Buildable/Factory/SmelterMk1/Build_SmelterMk1.Build_SmelterMk1_C\": Smelter,\n",
    " \"/Game/FactoryGame/Buildable/Factory/ConstructorMk1/Build_ConstructorMk1.Build_ConstructorMk1_C\": Constructor, \n",
    " \"/Game/FactoryGame/Buildable/Factory/FoundryMk1/Build_FoundryMk1.Build_FoundryMk1_C\": Foundry,\n",
    " # \"/Game/FactoryGame/Buildable/Factory/HadronCollider/Build_HadronCollider.Build_HadronCollider_C\",\n",
    " \"/Game/FactoryGame/Buildable/Factory/Packager/Build_Packager.Build_Packager_C\": Packager,\n",
    " \"/Game/FactoryGame/Buildable/Factory/OilRefinery/Build_OilRefinery.Build_OilRefinery_C\": Refinery}\n",
    "\n",
    "def make_recipes(simple_config: dict, machine_mapping: dict[str, Machine]) -> list:\n",
    "    ingredients_pattern = r\"\\(ItemClass=.*?\\.(\\w+).*?,Amount=(\\d+)\\)\"\n",
    "    machines_pattern = fr\"({'|'.join(re.escape(m) for m in machine_mapping.keys())})\"\n",
    "    known_crafters = (\"Smelter\", \"Manufacturer\", \"Assembler\", \"Packager\", \"Refinery\", \"Collider\", \"Foundry\", \"Blender\", \"Constructor\")\n",
    "    \n",
    "    machines = {}\n",
    "    material_config = {}\n",
    "    for key in RESOURCE_KEYS:\n",
    "        material_config.update(simple_config[key])\n",
    "\n",
    "    for config in simple_config[\"Class'/Script/FactoryGame.FGRecipe'\"].values():\n",
    "        machine = re.search(machines_pattern, config[\"mProducedIn\"])\n",
    "        \n",
    "        if machine is None:\n",
    "            continue\n",
    "\n",
    "        machine = machine_mapping[machine[0]]\n",
    "            \n",
    "        # TODO: convert resources to friendly names\n",
    "        try:\n",
    "            ingredients = {standardize(material_config[name][\"mDisplayName\"]): int(amt) for name, amt in re.findall(ingredients_pattern, config[\"mIngredients\"])}\n",
    "            products = {standardize(material_config[name][\"mDisplayName\"]): int(amt) for name, amt in re.findall(ingredients_pattern, config[\"mProduct\"])}\n",
    "            machines[standardize(config[\"mDisplayName\"])] = machine(Recipe(standardize(config[\"mDisplayName\"]), MaterialSpec(**ingredients), MaterialSpec(**products)))\n",
    "        except Exception as e:\n",
    "            print(f\"missing: {e}\")\n",
    "            print(config)\n",
    "            print()\n",
    "        \n",
    "    return machines"
   ]
  },
  {
   "cell_type": "code",
   "execution_count": 108,
   "id": "a8e88b4a-61a5-4db8-bb16-9ed1bc454bec",
   "metadata": {
    "tags": []
   },
   "outputs": [
    {
     "name": "stdout",
     "output_type": "stream",
     "text": [
      "missing: 'BP_ItemDescriptorPortableMiner_C'\n",
      "{'ClassName': 'Recipe_Alternate_AutomatedMiner_C', 'FullName': 'BlueprintGeneratedClass /Game/FactoryGame/Recipes/AlternateRecipes/New_Update4/Recipe_Alternate_AutomatedMiner.Recipe_Alternate_AutomatedMiner_C', 'mDisplayName': 'Alternate: Automated Miner', 'mIngredients': '((ItemClass=BlueprintGeneratedClass\\'\"/Game/FactoryGame/Resource/Parts/Motor/Desc_Motor.Desc_Motor_C\"\\',Amount=1),(ItemClass=BlueprintGeneratedClass\\'\"/Game/FactoryGame/Resource/Parts/SteelPipe/Desc_SteelPipe.Desc_SteelPipe_C\"\\',Amount=4),(ItemClass=BlueprintGeneratedClass\\'\"/Game/FactoryGame/Resource/Parts/IronRod/Desc_IronRod.Desc_IronRod_C\"\\',Amount=4),(ItemClass=BlueprintGeneratedClass\\'\"/Game/FactoryGame/Resource/Parts/IronPlate/Desc_IronPlate.Desc_IronPlate_C\"\\',Amount=2))', 'mProduct': '((ItemClass=BlueprintGeneratedClass\\'\"/Game/FactoryGame/Resource/Equipment/PortableMiner/BP_ItemDescriptorPortableMiner.BP_ItemDescriptorPortableMiner_C\"\\',Amount=1))', 'mManufacturingMenuPriority': '0.000000', 'mManufactoringDuration': '60.000000', 'mManualManufacturingMultiplier': '1.000000', 'mProducedIn': '(/Game/FactoryGame/Buildable/Factory/ManufacturerMk1/Build_ManufacturerMk1.Build_ManufacturerMk1_C)', 'mRelevantEvents': '', 'mVariablePowerConsumptionConstant': '0.000000', 'mVariablePowerConsumptionFactor': '1.000000'}\n",
      "\n",
      "missing: 'Desc_Rebar_Spreadshot_C'\n",
      "{'ClassName': 'Recipe_Rebar_Spreadshot_C', 'FullName': 'BlueprintGeneratedClass /Game/FactoryGame/Equipment/RebarGun/Ammo/Recipe_Rebar_Spreadshot.Recipe_Rebar_Spreadshot_C', 'mDisplayName': 'Shatter Rebar', 'mIngredients': '((ItemClass=BlueprintGeneratedClass\\'\"/Game/FactoryGame/Resource/Parts/SpikedRebar/Desc_SpikedRebar.Desc_SpikedRebar_C\"\\',Amount=2),(ItemClass=BlueprintGeneratedClass\\'\"/Game/FactoryGame/Resource/Parts/QuartzCrystal/Desc_QuartzCrystal.Desc_QuartzCrystal_C\"\\',Amount=3))', 'mProduct': '((ItemClass=BlueprintGeneratedClass\\'\"/Game/FactoryGame/Equipment/RebarGun/Ammo/Desc_Rebar_Spreadshot.Desc_Rebar_Spreadshot_C\"\\',Amount=1))', 'mManufacturingMenuPriority': '103.000000', 'mManufactoringDuration': '12.000000', 'mManualManufacturingMultiplier': '1.000000', 'mProducedIn': '(/Game/FactoryGame/Buildable/Factory/AssemblerMk1/Build_AssemblerMk1.Build_AssemblerMk1_C,/Game/FactoryGame/Buildable/-Shared/WorkBench/BP_WorkshopComponent.BP_WorkshopComponent_C)', 'mRelevantEvents': '', 'mVariablePowerConsumptionConstant': '0.000000', 'mVariablePowerConsumptionFactor': '1.000000'}\n",
      "\n"
     ]
    }
   ],
   "source": [
    "available_machines = dict(sorted(make_recipes(BASE_CONFIG, machine_mapping).items()))\n",
    "#available_machines"
   ]
  },
  {
   "cell_type": "code",
   "execution_count": 113,
   "id": "dc2a6928-99f7-4018-968d-c369e3e1d824",
   "metadata": {},
   "outputs": [],
   "source": [
    "import igraph\n",
    "from igraph import Graph, EdgeSeq\n",
    "import itertools\n",
    "import plotly.graph_objects as go\n",
    "import os\n",
    "from textwrap import dedent\n",
    "\n",
    "import math\n",
    "\n",
    "def make_hover_label(process: Process):\n",
    "    return dedent(f\"\"\"\n",
    "    {process.process_root.__class__.__name__}<br>\n",
    "    Recipe: {process.process_root.recipe.name}<br>\n",
    "    Scale: {process.scale}\n",
    "    \"\"\")\n",
    "\n",
    "\n",
    "def plot_process(process: Process):\n",
    "    ordered_vertices = list(process.process_registry.values())\n",
    "    n_vertices = len(ordered_vertices)\n",
    "    \n",
    "    edges = [(ordered_vertices.index(process.process_registry[other]), ordered_vertices.index(self)) for self in ordered_vertices for other in self.process_root.input_producers]\n",
    "\n",
    "    G = Graph(n_vertices, edges)\n",
    "    layout = G.layout(Graph.layout_auto)\n",
    "    Xn, Yn = list(zip(*layout))\n",
    "    edge_coords = itertools.chain.from_iterable([[(Xn[n], Yn[n]) for n in e] + [(None, None)] for e in edges])\n",
    "    Xe, Ye = list(zip(*edge_coords))\n",
    "    \n",
    "    max_scale = max(n.scale for n in ordered_vertices)\n",
    "    point_scale = 20\n",
    "    point_sizes = [(math.tanh(n.scale  / max_scale) + 1) * point_scale for n in ordered_vertices]\n",
    "\n",
    "    fig = go.Figure()\n",
    "    fig.add_trace(go.Scatter(\n",
    "                        x=Xe,\n",
    "                       y=Ye,\n",
    "                       mode='lines+markers',\n",
    "                       hoverinfo='none',\n",
    "                       marker=dict(\n",
    "                            symbol=\"arrow-wide\",\n",
    "                            size=10,\n",
    "                            color=\"black\",\n",
    "                            angleref=\"previous\",\n",
    "                            standoff=point_scale//2\n",
    "                        ),\n",
    "                        showlegend=False\n",
    "                    ),\n",
    "                    \n",
    "                 )\n",
    "\n",
    "    fig.add_trace(go.Scatter(x=Xn,\n",
    "                      y=Yn,\n",
    "                      mode='markers',\n",
    "                      marker=dict(symbol='circle-dot',\n",
    "                                  size=point_sizes,\n",
    "                                  color=[m.process_root.color for m in ordered_vertices],\n",
    "                                ),\n",
    "                      text=[make_hover_label(v) for v in ordered_vertices],\n",
    "                      hovertemplate=\"%{text}<extra></extra>\",\n",
    "                      showlegend=False,\n",
    "                      )\n",
    "                 )\n",
    "\n",
    "    # TODO: better sizing\n",
    "    fig.update_layout(\n",
    "        autosize=True,\n",
    "    )\n",
    "\n",
    "    fig.show()\n",
    "    \n",
    "    \n",
    "def plot_sankey(process: Process):\n",
    "    ordered_vertices = list(process.process_registry.values())\n",
    "    n_vertices = len(ordered_vertices)\n",
    "    \n",
    "    edges = [(ordered_vertices.index(process.process_registry[other]), ordered_vertices.index(self)) for self in ordered_vertices for other in self.process_root.input_producers]\n",
    "    source, target = zip(*edges)\n",
    "    weights = [1 for _ in edges]\n",
    "    \n",
    "    fig = go.Figure()\n",
    "    fig.add_trace(go.Sankey(link=dict(\n",
    "        source=source,\n",
    "        target=target,\n",
    "        value=weights)))\n",
    "    fig.show()\n",
    "\n",
    "# TODO: use plotly tables and link rows to scatter/sankey nodes\n",
    "def make_row(values: list[str]):\n",
    "    return \"<tr>\" + \"\".join([f\"<td>{v}</td>\" for v in values]) + \"</tr>\"\n",
    "\n",
    "def make_table(headers: list[str], values: list[list[str]]):\n",
    "    header = make_row(headers)\n",
    "    rows = \"\\n\".join([make_row(row) for row in values])\n",
    "    \n",
    "    return dedent(f\"\"\"\n",
    "    <table>\n",
    "    <thead>\n",
    "    {header}\n",
    "    </thead>\n",
    "    <tbody>\n",
    "    {rows}\n",
    "    </tbody>\n",
    "    </table>\"\"\")\n",
    "\n",
    "def recipe_summary(process: Process):\n",
    "    headers = [\"Machine Type\", \"Count\", \"Recipe\", \"\"]\n",
    "    rows = []\n",
    "    for process in process.process_registry.values():\n",
    "        rows.append([process.process_root.__class__.__name__,\n",
    "                     process.scale,\n",
    "                     process.process_root.recipe.name,\n",
    "                     repr(process.process_root.recipe)])\n",
    "                     \n",
    "    return make_table(headers, rows)\n",
    "\n",
    "\n",
    "def material_summary(process: Process):\n",
    "    net = MaterialSpec()\n",
    "    \n",
    "    for process_node in solution.process_registry.values():\n",
    "        net = net + process_node.process_root.recipe * process_node.scale\n",
    "        \n",
    "    rows = [[\"Net Input\", repr(net*-1)], [\"Net Output\", repr(net)]]\n",
    "    return make_table([], rows)\n",
    "    "
   ]
  },
  {
   "cell_type": "code",
   "execution_count": 114,
   "id": "664fdbdf-85ca-41f3-b53d-5f981e8fbe09",
   "metadata": {},
   "outputs": [
    {
     "name": "stdout",
     "output_type": "stream",
     "text": [
      "missing: 'BP_ItemDescriptorPortableMiner_C'\n",
      "{'ClassName': 'Recipe_Alternate_AutomatedMiner_C', 'FullName': 'BlueprintGeneratedClass /Game/FactoryGame/Recipes/AlternateRecipes/New_Update4/Recipe_Alternate_AutomatedMiner.Recipe_Alternate_AutomatedMiner_C', 'mDisplayName': 'Alternate: Automated Miner', 'mIngredients': '((ItemClass=BlueprintGeneratedClass\\'\"/Game/FactoryGame/Resource/Parts/Motor/Desc_Motor.Desc_Motor_C\"\\',Amount=1),(ItemClass=BlueprintGeneratedClass\\'\"/Game/FactoryGame/Resource/Parts/SteelPipe/Desc_SteelPipe.Desc_SteelPipe_C\"\\',Amount=4),(ItemClass=BlueprintGeneratedClass\\'\"/Game/FactoryGame/Resource/Parts/IronRod/Desc_IronRod.Desc_IronRod_C\"\\',Amount=4),(ItemClass=BlueprintGeneratedClass\\'\"/Game/FactoryGame/Resource/Parts/IronPlate/Desc_IronPlate.Desc_IronPlate_C\"\\',Amount=2))', 'mProduct': '((ItemClass=BlueprintGeneratedClass\\'\"/Game/FactoryGame/Resource/Equipment/PortableMiner/BP_ItemDescriptorPortableMiner.BP_ItemDescriptorPortableMiner_C\"\\',Amount=1))', 'mManufacturingMenuPriority': '0.000000', 'mManufactoringDuration': '60.000000', 'mManualManufacturingMultiplier': '1.000000', 'mProducedIn': '(/Game/FactoryGame/Buildable/Factory/ManufacturerMk1/Build_ManufacturerMk1.Build_ManufacturerMk1_C)', 'mRelevantEvents': '', 'mVariablePowerConsumptionConstant': '0.000000', 'mVariablePowerConsumptionFactor': '1.000000'}\n",
      "\n",
      "missing: 'Desc_Rebar_Spreadshot_C'\n",
      "{'ClassName': 'Recipe_Rebar_Spreadshot_C', 'FullName': 'BlueprintGeneratedClass /Game/FactoryGame/Equipment/RebarGun/Ammo/Recipe_Rebar_Spreadshot.Recipe_Rebar_Spreadshot_C', 'mDisplayName': 'Shatter Rebar', 'mIngredients': '((ItemClass=BlueprintGeneratedClass\\'\"/Game/FactoryGame/Resource/Parts/SpikedRebar/Desc_SpikedRebar.Desc_SpikedRebar_C\"\\',Amount=2),(ItemClass=BlueprintGeneratedClass\\'\"/Game/FactoryGame/Resource/Parts/QuartzCrystal/Desc_QuartzCrystal.Desc_QuartzCrystal_C\"\\',Amount=3))', 'mProduct': '((ItemClass=BlueprintGeneratedClass\\'\"/Game/FactoryGame/Equipment/RebarGun/Ammo/Desc_Rebar_Spreadshot.Desc_Rebar_Spreadshot_C\"\\',Amount=1))', 'mManufacturingMenuPriority': '103.000000', 'mManufactoringDuration': '12.000000', 'mManualManufacturingMultiplier': '1.000000', 'mProducedIn': '(/Game/FactoryGame/Buildable/Factory/AssemblerMk1/Build_AssemblerMk1.Build_AssemblerMk1_C,/Game/FactoryGame/Buildable/-Shared/WorkBench/BP_WorkshopComponent.BP_WorkshopComponent_C)', 'mRelevantEvents': '', 'mVariablePowerConsumptionConstant': '0.000000', 'mVariablePowerConsumptionFactor': '1.000000'}\n",
      "\n"
     ]
    },
    {
     "data": {
      "application/vnd.plotly.v1+json": {
       "config": {
        "plotlyServerURL": "https://plot.ly"
       },
       "data": [
        {
         "hoverinfo": "none",
         "marker": {
          "angleref": "previous",
          "color": "black",
          "size": 10,
          "standoff": 10,
          "symbol": "arrow-wide"
         },
         "mode": "lines+markers",
         "showlegend": false,
         "type": "scatter",
         "x": [
          -0.19756204828695753,
          0.0470092348444658,
          null,
          0.43283524489766695,
          0.0470092348444658,
          null,
          0.02047846196059116,
          0.0470092348444658,
          null,
          -0.19756204828695753,
          0.43283524489766695,
          null,
          0.28484400250851105,
          0.02047846196059116,
          null,
          -0.3140925535938081,
          0.02047846196059116,
          null,
          -0.5837686157141313,
          -0.19756204828695753,
          null,
          -0.44712747688449583,
          -0.3140925535938081,
          null,
          0.17903040836079728,
          -0.3140925535938081,
          null,
          0.28484400250851105,
          -0.44712747688449583,
          null,
          0.7741664150708195,
          0.28484400250851105,
          null,
          0.7741664150708195,
          0.17903040836079728,
          null
         ],
         "y": [
          1.2016786026119626,
          0.5957602172629497,
          null,
          1.1264304293272194,
          0.5957602172629497,
          null,
          -0.0731382695626178,
          0.5957602172629497,
          null,
          1.2016786026119626,
          1.1264304293272194,
          null,
          -0.668502553211321,
          -0.0731382695626178,
          null,
          -0.6611980635158052,
          -0.0731382695626178,
          null,
          1.7320052017880072,
          1.2016786026119626,
          null,
          -1.1486914560043668,
          -0.6611980635158052,
          null,
          -1.350022460383393,
          -0.6611980635158052,
          null,
          -0.668502553211321,
          -1.1486914560043668,
          null,
          -1.1223673930461426,
          -0.668502553211321,
          null,
          -1.1223673930461426,
          -1.350022460383393,
          null
         ]
        },
        {
         "hovertemplate": "%{text}<extra></extra>",
         "marker": {
          "color": [
           "#511CFB",
           "#E15F99",
           "#E15F99",
           "#2E91E5",
           "#E15F99",
           "#DA16FF",
           "#2E91E5",
           "#2E91E5",
           "#2E91E5",
           "#FB0D0D"
          ],
          "size": [
           20.049999895833594,
           22.977700672466362,
           20.249986979980417,
           32.70297904774574,
           20.749648635141412,
           35.231883119115295,
           22.240555621784797,
           25.13264753181465,
           22.240555621784797,
           30.740991339960708
          ],
          "symbol": "circle-dot"
         },
         "mode": "markers",
         "showlegend": false,
         "text": [
          "\nAggregator<br>\nRecipe: products<br>\nScale: 1.0\n",
          "\nAssembler<br>\nRecipe: encased_industrial_beam<br>\nScale: 60.0\n",
          "\nAssembler<br>\nRecipe: modular_frame<br>\nScale: 5.0\n",
          "\nConstructor<br>\nRecipe: steel_beam<br>\nScale: 300.0\n",
          "\nAssembler<br>\nRecipe: reinforced_iron_plate<br>\nScale: 15.0\n",
          "\nFoundry<br>\nRecipe: steel_ingot<br>\nScale: 400.0\n",
          "\nConstructor<br>\nRecipe: screw<br>\nScale: 45.0\n",
          "\nConstructor<br>\nRecipe: iron_rod<br>\nScale: 105.0\n",
          "\nConstructor<br>\nRecipe: iron_plate<br>\nScale: 45.0\n",
          "\nSmelter<br>\nRecipe: iron_ingot<br>\nScale: 240.0\n"
         ],
         "type": "scatter",
         "x": [
          0.0470092348444658,
          0.43283524489766695,
          0.02047846196059116,
          -0.19756204828695753,
          -0.3140925535938081,
          -0.5837686157141313,
          -0.44712747688449583,
          0.28484400250851105,
          0.17903040836079728,
          0.7741664150708195
         ],
         "y": [
          0.5957602172629497,
          1.1264304293272194,
          -0.0731382695626178,
          1.2016786026119626,
          -0.6611980635158052,
          1.7320052017880072,
          -1.1486914560043668,
          -0.668502553211321,
          -1.350022460383393,
          -1.1223673930461426
         ]
        }
       ],
       "layout": {
        "autosize": true,
        "template": {
         "data": {
          "bar": [
           {
            "error_x": {
             "color": "#2a3f5f"
            },
            "error_y": {
             "color": "#2a3f5f"
            },
            "marker": {
             "line": {
              "color": "#E5ECF6",
              "width": 0.5
             },
             "pattern": {
              "fillmode": "overlay",
              "size": 10,
              "solidity": 0.2
             }
            },
            "type": "bar"
           }
          ],
          "barpolar": [
           {
            "marker": {
             "line": {
              "color": "#E5ECF6",
              "width": 0.5
             },
             "pattern": {
              "fillmode": "overlay",
              "size": 10,
              "solidity": 0.2
             }
            },
            "type": "barpolar"
           }
          ],
          "carpet": [
           {
            "aaxis": {
             "endlinecolor": "#2a3f5f",
             "gridcolor": "white",
             "linecolor": "white",
             "minorgridcolor": "white",
             "startlinecolor": "#2a3f5f"
            },
            "baxis": {
             "endlinecolor": "#2a3f5f",
             "gridcolor": "white",
             "linecolor": "white",
             "minorgridcolor": "white",
             "startlinecolor": "#2a3f5f"
            },
            "type": "carpet"
           }
          ],
          "choropleth": [
           {
            "colorbar": {
             "outlinewidth": 0,
             "ticks": ""
            },
            "type": "choropleth"
           }
          ],
          "contour": [
           {
            "colorbar": {
             "outlinewidth": 0,
             "ticks": ""
            },
            "colorscale": [
             [
              0,
              "#0d0887"
             ],
             [
              0.1111111111111111,
              "#46039f"
             ],
             [
              0.2222222222222222,
              "#7201a8"
             ],
             [
              0.3333333333333333,
              "#9c179e"
             ],
             [
              0.4444444444444444,
              "#bd3786"
             ],
             [
              0.5555555555555556,
              "#d8576b"
             ],
             [
              0.6666666666666666,
              "#ed7953"
             ],
             [
              0.7777777777777778,
              "#fb9f3a"
             ],
             [
              0.8888888888888888,
              "#fdca26"
             ],
             [
              1,
              "#f0f921"
             ]
            ],
            "type": "contour"
           }
          ],
          "contourcarpet": [
           {
            "colorbar": {
             "outlinewidth": 0,
             "ticks": ""
            },
            "type": "contourcarpet"
           }
          ],
          "heatmap": [
           {
            "colorbar": {
             "outlinewidth": 0,
             "ticks": ""
            },
            "colorscale": [
             [
              0,
              "#0d0887"
             ],
             [
              0.1111111111111111,
              "#46039f"
             ],
             [
              0.2222222222222222,
              "#7201a8"
             ],
             [
              0.3333333333333333,
              "#9c179e"
             ],
             [
              0.4444444444444444,
              "#bd3786"
             ],
             [
              0.5555555555555556,
              "#d8576b"
             ],
             [
              0.6666666666666666,
              "#ed7953"
             ],
             [
              0.7777777777777778,
              "#fb9f3a"
             ],
             [
              0.8888888888888888,
              "#fdca26"
             ],
             [
              1,
              "#f0f921"
             ]
            ],
            "type": "heatmap"
           }
          ],
          "heatmapgl": [
           {
            "colorbar": {
             "outlinewidth": 0,
             "ticks": ""
            },
            "colorscale": [
             [
              0,
              "#0d0887"
             ],
             [
              0.1111111111111111,
              "#46039f"
             ],
             [
              0.2222222222222222,
              "#7201a8"
             ],
             [
              0.3333333333333333,
              "#9c179e"
             ],
             [
              0.4444444444444444,
              "#bd3786"
             ],
             [
              0.5555555555555556,
              "#d8576b"
             ],
             [
              0.6666666666666666,
              "#ed7953"
             ],
             [
              0.7777777777777778,
              "#fb9f3a"
             ],
             [
              0.8888888888888888,
              "#fdca26"
             ],
             [
              1,
              "#f0f921"
             ]
            ],
            "type": "heatmapgl"
           }
          ],
          "histogram": [
           {
            "marker": {
             "pattern": {
              "fillmode": "overlay",
              "size": 10,
              "solidity": 0.2
             }
            },
            "type": "histogram"
           }
          ],
          "histogram2d": [
           {
            "colorbar": {
             "outlinewidth": 0,
             "ticks": ""
            },
            "colorscale": [
             [
              0,
              "#0d0887"
             ],
             [
              0.1111111111111111,
              "#46039f"
             ],
             [
              0.2222222222222222,
              "#7201a8"
             ],
             [
              0.3333333333333333,
              "#9c179e"
             ],
             [
              0.4444444444444444,
              "#bd3786"
             ],
             [
              0.5555555555555556,
              "#d8576b"
             ],
             [
              0.6666666666666666,
              "#ed7953"
             ],
             [
              0.7777777777777778,
              "#fb9f3a"
             ],
             [
              0.8888888888888888,
              "#fdca26"
             ],
             [
              1,
              "#f0f921"
             ]
            ],
            "type": "histogram2d"
           }
          ],
          "histogram2dcontour": [
           {
            "colorbar": {
             "outlinewidth": 0,
             "ticks": ""
            },
            "colorscale": [
             [
              0,
              "#0d0887"
             ],
             [
              0.1111111111111111,
              "#46039f"
             ],
             [
              0.2222222222222222,
              "#7201a8"
             ],
             [
              0.3333333333333333,
              "#9c179e"
             ],
             [
              0.4444444444444444,
              "#bd3786"
             ],
             [
              0.5555555555555556,
              "#d8576b"
             ],
             [
              0.6666666666666666,
              "#ed7953"
             ],
             [
              0.7777777777777778,
              "#fb9f3a"
             ],
             [
              0.8888888888888888,
              "#fdca26"
             ],
             [
              1,
              "#f0f921"
             ]
            ],
            "type": "histogram2dcontour"
           }
          ],
          "mesh3d": [
           {
            "colorbar": {
             "outlinewidth": 0,
             "ticks": ""
            },
            "type": "mesh3d"
           }
          ],
          "parcoords": [
           {
            "line": {
             "colorbar": {
              "outlinewidth": 0,
              "ticks": ""
             }
            },
            "type": "parcoords"
           }
          ],
          "pie": [
           {
            "automargin": true,
            "type": "pie"
           }
          ],
          "scatter": [
           {
            "fillpattern": {
             "fillmode": "overlay",
             "size": 10,
             "solidity": 0.2
            },
            "type": "scatter"
           }
          ],
          "scatter3d": [
           {
            "line": {
             "colorbar": {
              "outlinewidth": 0,
              "ticks": ""
             }
            },
            "marker": {
             "colorbar": {
              "outlinewidth": 0,
              "ticks": ""
             }
            },
            "type": "scatter3d"
           }
          ],
          "scattercarpet": [
           {
            "marker": {
             "colorbar": {
              "outlinewidth": 0,
              "ticks": ""
             }
            },
            "type": "scattercarpet"
           }
          ],
          "scattergeo": [
           {
            "marker": {
             "colorbar": {
              "outlinewidth": 0,
              "ticks": ""
             }
            },
            "type": "scattergeo"
           }
          ],
          "scattergl": [
           {
            "marker": {
             "colorbar": {
              "outlinewidth": 0,
              "ticks": ""
             }
            },
            "type": "scattergl"
           }
          ],
          "scattermapbox": [
           {
            "marker": {
             "colorbar": {
              "outlinewidth": 0,
              "ticks": ""
             }
            },
            "type": "scattermapbox"
           }
          ],
          "scatterpolar": [
           {
            "marker": {
             "colorbar": {
              "outlinewidth": 0,
              "ticks": ""
             }
            },
            "type": "scatterpolar"
           }
          ],
          "scatterpolargl": [
           {
            "marker": {
             "colorbar": {
              "outlinewidth": 0,
              "ticks": ""
             }
            },
            "type": "scatterpolargl"
           }
          ],
          "scatterternary": [
           {
            "marker": {
             "colorbar": {
              "outlinewidth": 0,
              "ticks": ""
             }
            },
            "type": "scatterternary"
           }
          ],
          "surface": [
           {
            "colorbar": {
             "outlinewidth": 0,
             "ticks": ""
            },
            "colorscale": [
             [
              0,
              "#0d0887"
             ],
             [
              0.1111111111111111,
              "#46039f"
             ],
             [
              0.2222222222222222,
              "#7201a8"
             ],
             [
              0.3333333333333333,
              "#9c179e"
             ],
             [
              0.4444444444444444,
              "#bd3786"
             ],
             [
              0.5555555555555556,
              "#d8576b"
             ],
             [
              0.6666666666666666,
              "#ed7953"
             ],
             [
              0.7777777777777778,
              "#fb9f3a"
             ],
             [
              0.8888888888888888,
              "#fdca26"
             ],
             [
              1,
              "#f0f921"
             ]
            ],
            "type": "surface"
           }
          ],
          "table": [
           {
            "cells": {
             "fill": {
              "color": "#EBF0F8"
             },
             "line": {
              "color": "white"
             }
            },
            "header": {
             "fill": {
              "color": "#C8D4E3"
             },
             "line": {
              "color": "white"
             }
            },
            "type": "table"
           }
          ]
         },
         "layout": {
          "annotationdefaults": {
           "arrowcolor": "#2a3f5f",
           "arrowhead": 0,
           "arrowwidth": 1
          },
          "autotypenumbers": "strict",
          "coloraxis": {
           "colorbar": {
            "outlinewidth": 0,
            "ticks": ""
           }
          },
          "colorscale": {
           "diverging": [
            [
             0,
             "#8e0152"
            ],
            [
             0.1,
             "#c51b7d"
            ],
            [
             0.2,
             "#de77ae"
            ],
            [
             0.3,
             "#f1b6da"
            ],
            [
             0.4,
             "#fde0ef"
            ],
            [
             0.5,
             "#f7f7f7"
            ],
            [
             0.6,
             "#e6f5d0"
            ],
            [
             0.7,
             "#b8e186"
            ],
            [
             0.8,
             "#7fbc41"
            ],
            [
             0.9,
             "#4d9221"
            ],
            [
             1,
             "#276419"
            ]
           ],
           "sequential": [
            [
             0,
             "#0d0887"
            ],
            [
             0.1111111111111111,
             "#46039f"
            ],
            [
             0.2222222222222222,
             "#7201a8"
            ],
            [
             0.3333333333333333,
             "#9c179e"
            ],
            [
             0.4444444444444444,
             "#bd3786"
            ],
            [
             0.5555555555555556,
             "#d8576b"
            ],
            [
             0.6666666666666666,
             "#ed7953"
            ],
            [
             0.7777777777777778,
             "#fb9f3a"
            ],
            [
             0.8888888888888888,
             "#fdca26"
            ],
            [
             1,
             "#f0f921"
            ]
           ],
           "sequentialminus": [
            [
             0,
             "#0d0887"
            ],
            [
             0.1111111111111111,
             "#46039f"
            ],
            [
             0.2222222222222222,
             "#7201a8"
            ],
            [
             0.3333333333333333,
             "#9c179e"
            ],
            [
             0.4444444444444444,
             "#bd3786"
            ],
            [
             0.5555555555555556,
             "#d8576b"
            ],
            [
             0.6666666666666666,
             "#ed7953"
            ],
            [
             0.7777777777777778,
             "#fb9f3a"
            ],
            [
             0.8888888888888888,
             "#fdca26"
            ],
            [
             1,
             "#f0f921"
            ]
           ]
          },
          "colorway": [
           "#636efa",
           "#EF553B",
           "#00cc96",
           "#ab63fa",
           "#FFA15A",
           "#19d3f3",
           "#FF6692",
           "#B6E880",
           "#FF97FF",
           "#FECB52"
          ],
          "font": {
           "color": "#2a3f5f"
          },
          "geo": {
           "bgcolor": "white",
           "lakecolor": "white",
           "landcolor": "#E5ECF6",
           "showlakes": true,
           "showland": true,
           "subunitcolor": "white"
          },
          "hoverlabel": {
           "align": "left"
          },
          "hovermode": "closest",
          "mapbox": {
           "style": "light"
          },
          "paper_bgcolor": "white",
          "plot_bgcolor": "#E5ECF6",
          "polar": {
           "angularaxis": {
            "gridcolor": "white",
            "linecolor": "white",
            "ticks": ""
           },
           "bgcolor": "#E5ECF6",
           "radialaxis": {
            "gridcolor": "white",
            "linecolor": "white",
            "ticks": ""
           }
          },
          "scene": {
           "xaxis": {
            "backgroundcolor": "#E5ECF6",
            "gridcolor": "white",
            "gridwidth": 2,
            "linecolor": "white",
            "showbackground": true,
            "ticks": "",
            "zerolinecolor": "white"
           },
           "yaxis": {
            "backgroundcolor": "#E5ECF6",
            "gridcolor": "white",
            "gridwidth": 2,
            "linecolor": "white",
            "showbackground": true,
            "ticks": "",
            "zerolinecolor": "white"
           },
           "zaxis": {
            "backgroundcolor": "#E5ECF6",
            "gridcolor": "white",
            "gridwidth": 2,
            "linecolor": "white",
            "showbackground": true,
            "ticks": "",
            "zerolinecolor": "white"
           }
          },
          "shapedefaults": {
           "line": {
            "color": "#2a3f5f"
           }
          },
          "ternary": {
           "aaxis": {
            "gridcolor": "white",
            "linecolor": "white",
            "ticks": ""
           },
           "baxis": {
            "gridcolor": "white",
            "linecolor": "white",
            "ticks": ""
           },
           "bgcolor": "#E5ECF6",
           "caxis": {
            "gridcolor": "white",
            "linecolor": "white",
            "ticks": ""
           }
          },
          "title": {
           "x": 0.05
          },
          "xaxis": {
           "automargin": true,
           "gridcolor": "white",
           "linecolor": "white",
           "ticks": "",
           "title": {
            "standoff": 15
           },
           "zerolinecolor": "white",
           "zerolinewidth": 2
          },
          "yaxis": {
           "automargin": true,
           "gridcolor": "white",
           "linecolor": "white",
           "ticks": "",
           "title": {
            "standoff": 15
           },
           "zerolinecolor": "white",
           "zerolinewidth": 2
          }
         }
        },
        "xaxis": {
         "autorange": true,
         "range": [
          -0.713535731714736,
          0.8976612432338762
         ],
         "type": "linear"
        },
        "yaxis": {
         "autorange": true,
         "range": [
          -1.9098230413195114,
          2.490289472633376
         ],
         "type": "linear"
        }
       }
      },
      "image/png": "[encoded data removed]",
      "text/html": [
       "<div>                            <div id=\"b76da3d5-b257-46e1-a93e-0badbf9f99d6\" class=\"plotly-graph-div\" style=\"height:525px; width:100%;\"></div>            <script type=\"text/javascript\">                require([\"plotly\"], function(Plotly) {                    window.PLOTLYENV=window.PLOTLYENV || {};                                    if (document.getElementById(\"b76da3d5-b257-46e1-a93e-0badbf9f99d6\")) {                    Plotly.newPlot(                        \"b76da3d5-b257-46e1-a93e-0badbf9f99d6\",                        [{\"hoverinfo\":\"none\",\"marker\":{\"angleref\":\"previous\",\"color\":\"black\",\"size\":10,\"standoff\":10,\"symbol\":\"arrow-wide\"},\"mode\":\"lines+markers\",\"showlegend\":false,\"x\":[-0.19756204828695753,0.0470092348444658,null,0.43283524489766695,0.0470092348444658,null,0.02047846196059116,0.0470092348444658,null,-0.19756204828695753,0.43283524489766695,null,0.28484400250851105,0.02047846196059116,null,-0.3140925535938081,0.02047846196059116,null,-0.5837686157141313,-0.19756204828695753,null,-0.44712747688449583,-0.3140925535938081,null,0.17903040836079728,-0.3140925535938081,null,0.28484400250851105,-0.44712747688449583,null,0.7741664150708195,0.28484400250851105,null,0.7741664150708195,0.17903040836079728,null],\"y\":[1.2016786026119626,0.5957602172629497,null,1.1264304293272194,0.5957602172629497,null,-0.0731382695626178,0.5957602172629497,null,1.2016786026119626,1.1264304293272194,null,-0.668502553211321,-0.0731382695626178,null,-0.6611980635158052,-0.0731382695626178,null,1.7320052017880072,1.2016786026119626,null,-1.1486914560043668,-0.6611980635158052,null,-1.350022460383393,-0.6611980635158052,null,-0.668502553211321,-1.1486914560043668,null,-1.1223673930461426,-0.668502553211321,null,-1.1223673930461426,-1.350022460383393,null],\"type\":\"scatter\"},{\"hovertemplate\":\"%{text}<extra></extra>\",\"marker\":{\"color\":[\"#511CFB\",\"#E15F99\",\"#E15F99\",\"#2E91E5\",\"#E15F99\",\"#DA16FF\",\"#2E91E5\",\"#2E91E5\",\"#2E91E5\",\"#FB0D0D\"],\"size\":[20.049999895833594,22.977700672466362,20.249986979980417,32.70297904774574,20.749648635141412,35.231883119115295,22.240555621784797,25.13264753181465,22.240555621784797,30.740991339960708],\"symbol\":\"circle-dot\"},\"mode\":\"markers\",\"showlegend\":false,\"text\":[\"\\nAggregator<br>\\nRecipe: products<br>\\nScale: 1.0\\n\",\"\\nAssembler<br>\\nRecipe: encased_industrial_beam<br>\\nScale: 60.0\\n\",\"\\nAssembler<br>\\nRecipe: modular_frame<br>\\nScale: 5.0\\n\",\"\\nConstructor<br>\\nRecipe: steel_beam<br>\\nScale: 300.0\\n\",\"\\nAssembler<br>\\nRecipe: reinforced_iron_plate<br>\\nScale: 15.0\\n\",\"\\nFoundry<br>\\nRecipe: steel_ingot<br>\\nScale: 400.0\\n\",\"\\nConstructor<br>\\nRecipe: screw<br>\\nScale: 45.0\\n\",\"\\nConstructor<br>\\nRecipe: iron_rod<br>\\nScale: 105.0\\n\",\"\\nConstructor<br>\\nRecipe: iron_plate<br>\\nScale: 45.0\\n\",\"\\nSmelter<br>\\nRecipe: iron_ingot<br>\\nScale: 240.0\\n\"],\"x\":[0.0470092348444658,0.43283524489766695,0.02047846196059116,-0.19756204828695753,-0.3140925535938081,-0.5837686157141313,-0.44712747688449583,0.28484400250851105,0.17903040836079728,0.7741664150708195],\"y\":[0.5957602172629497,1.1264304293272194,-0.0731382695626178,1.2016786026119626,-0.6611980635158052,1.7320052017880072,-1.1486914560043668,-0.668502553211321,-1.350022460383393,-1.1223673930461426],\"type\":\"scatter\"}],                        {\"template\":{\"data\":{\"histogram2dcontour\":[{\"type\":\"histogram2dcontour\",\"colorbar\":{\"outlinewidth\":0,\"ticks\":\"\"},\"colorscale\":[[0.0,\"#0d0887\"],[0.1111111111111111,\"#46039f\"],[0.2222222222222222,\"#7201a8\"],[0.3333333333333333,\"#9c179e\"],[0.4444444444444444,\"#bd3786\"],[0.5555555555555556,\"#d8576b\"],[0.6666666666666666,\"#ed7953\"],[0.7777777777777778,\"#fb9f3a\"],[0.8888888888888888,\"#fdca26\"],[1.0,\"#f0f921\"]]}],\"choropleth\":[{\"type\":\"choropleth\",\"colorbar\":{\"outlinewidth\":0,\"ticks\":\"\"}}],\"histogram2d\":[{\"type\":\"histogram2d\",\"colorbar\":{\"outlinewidth\":0,\"ticks\":\"\"},\"colorscale\":[[0.0,\"#0d0887\"],[0.1111111111111111,\"#46039f\"],[0.2222222222222222,\"#7201a8\"],[0.3333333333333333,\"#9c179e\"],[0.4444444444444444,\"#bd3786\"],[0.5555555555555556,\"#d8576b\"],[0.6666666666666666,\"#ed7953\"],[0.7777777777777778,\"#fb9f3a\"],[0.8888888888888888,\"#fdca26\"],[1.0,\"#f0f921\"]]}],\"heatmap\":[{\"type\":\"heatmap\",\"colorbar\":{\"outlinewidth\":0,\"ticks\":\"\"},\"colorscale\":[[0.0,\"#0d0887\"],[0.1111111111111111,\"#46039f\"],[0.2222222222222222,\"#7201a8\"],[0.3333333333333333,\"#9c179e\"],[0.4444444444444444,\"#bd3786\"],[0.5555555555555556,\"#d8576b\"],[0.6666666666666666,\"#ed7953\"],[0.7777777777777778,\"#fb9f3a\"],[0.8888888888888888,\"#fdca26\"],[1.0,\"#f0f921\"]]}],\"heatmapgl\":[{\"type\":\"heatmapgl\",\"colorbar\":{\"outlinewidth\":0,\"ticks\":\"\"},\"colorscale\":[[0.0,\"#0d0887\"],[0.1111111111111111,\"#46039f\"],[0.2222222222222222,\"#7201a8\"],[0.3333333333333333,\"#9c179e\"],[0.4444444444444444,\"#bd3786\"],[0.5555555555555556,\"#d8576b\"],[0.6666666666666666,\"#ed7953\"],[0.7777777777777778,\"#fb9f3a\"],[0.8888888888888888,\"#fdca26\"],[1.0,\"#f0f921\"]]}],\"contourcarpet\":[{\"type\":\"contourcarpet\",\"colorbar\":{\"outlinewidth\":0,\"ticks\":\"\"}}],\"contour\":[{\"type\":\"contour\",\"colorbar\":{\"outlinewidth\":0,\"ticks\":\"\"},\"colorscale\":[[0.0,\"#0d0887\"],[0.1111111111111111,\"#46039f\"],[0.2222222222222222,\"#7201a8\"],[0.3333333333333333,\"#9c179e\"],[0.4444444444444444,\"#bd3786\"],[0.5555555555555556,\"#d8576b\"],[0.6666666666666666,\"#ed7953\"],[0.7777777777777778,\"#fb9f3a\"],[0.8888888888888888,\"#fdca26\"],[1.0,\"#f0f921\"]]}],\"surface\":[{\"type\":\"surface\",\"colorbar\":{\"outlinewidth\":0,\"ticks\":\"\"},\"colorscale\":[[0.0,\"#0d0887\"],[0.1111111111111111,\"#46039f\"],[0.2222222222222222,\"#7201a8\"],[0.3333333333333333,\"#9c179e\"],[0.4444444444444444,\"#bd3786\"],[0.5555555555555556,\"#d8576b\"],[0.6666666666666666,\"#ed7953\"],[0.7777777777777778,\"#fb9f3a\"],[0.8888888888888888,\"#fdca26\"],[1.0,\"#f0f921\"]]}],\"mesh3d\":[{\"type\":\"mesh3d\",\"colorbar\":{\"outlinewidth\":0,\"ticks\":\"\"}}],\"scatter\":[{\"fillpattern\":{\"fillmode\":\"overlay\",\"size\":10,\"solidity\":0.2},\"type\":\"scatter\"}],\"parcoords\":[{\"type\":\"parcoords\",\"line\":{\"colorbar\":{\"outlinewidth\":0,\"ticks\":\"\"}}}],\"scatterpolargl\":[{\"type\":\"scatterpolargl\",\"marker\":{\"colorbar\":{\"outlinewidth\":0,\"ticks\":\"\"}}}],\"bar\":[{\"error_x\":{\"color\":\"#2a3f5f\"},\"error_y\":{\"color\":\"#2a3f5f\"},\"marker\":{\"line\":{\"color\":\"#E5ECF6\",\"width\":0.5},\"pattern\":{\"fillmode\":\"overlay\",\"size\":10,\"solidity\":0.2}},\"type\":\"bar\"}],\"scattergeo\":[{\"type\":\"scattergeo\",\"marker\":{\"colorbar\":{\"outlinewidth\":0,\"ticks\":\"\"}}}],\"scatterpolar\":[{\"type\":\"scatterpolar\",\"marker\":{\"colorbar\":{\"outlinewidth\":0,\"ticks\":\"\"}}}],\"histogram\":[{\"marker\":{\"pattern\":{\"fillmode\":\"overlay\",\"size\":10,\"solidity\":0.2}},\"type\":\"histogram\"}],\"scattergl\":[{\"type\":\"scattergl\",\"marker\":{\"colorbar\":{\"outlinewidth\":0,\"ticks\":\"\"}}}],\"scatter3d\":[{\"type\":\"scatter3d\",\"line\":{\"colorbar\":{\"outlinewidth\":0,\"ticks\":\"\"}},\"marker\":{\"colorbar\":{\"outlinewidth\":0,\"ticks\":\"\"}}}],\"scattermapbox\":[{\"type\":\"scattermapbox\",\"marker\":{\"colorbar\":{\"outlinewidth\":0,\"ticks\":\"\"}}}],\"scatterternary\":[{\"type\":\"scatterternary\",\"marker\":{\"colorbar\":{\"outlinewidth\":0,\"ticks\":\"\"}}}],\"scattercarpet\":[{\"type\":\"scattercarpet\",\"marker\":{\"colorbar\":{\"outlinewidth\":0,\"ticks\":\"\"}}}],\"carpet\":[{\"aaxis\":{\"endlinecolor\":\"#2a3f5f\",\"gridcolor\":\"white\",\"linecolor\":\"white\",\"minorgridcolor\":\"white\",\"startlinecolor\":\"#2a3f5f\"},\"baxis\":{\"endlinecolor\":\"#2a3f5f\",\"gridcolor\":\"white\",\"linecolor\":\"white\",\"minorgridcolor\":\"white\",\"startlinecolor\":\"#2a3f5f\"},\"type\":\"carpet\"}],\"table\":[{\"cells\":{\"fill\":{\"color\":\"#EBF0F8\"},\"line\":{\"color\":\"white\"}},\"header\":{\"fill\":{\"color\":\"#C8D4E3\"},\"line\":{\"color\":\"white\"}},\"type\":\"table\"}],\"barpolar\":[{\"marker\":{\"line\":{\"color\":\"#E5ECF6\",\"width\":0.5},\"pattern\":{\"fillmode\":\"overlay\",\"size\":10,\"solidity\":0.2}},\"type\":\"barpolar\"}],\"pie\":[{\"automargin\":true,\"type\":\"pie\"}]},\"layout\":{\"autotypenumbers\":\"strict\",\"colorway\":[\"#636efa\",\"#EF553B\",\"#00cc96\",\"#ab63fa\",\"#FFA15A\",\"#19d3f3\",\"#FF6692\",\"#B6E880\",\"#FF97FF\",\"#FECB52\"],\"font\":{\"color\":\"#2a3f5f\"},\"hovermode\":\"closest\",\"hoverlabel\":{\"align\":\"left\"},\"paper_bgcolor\":\"white\",\"plot_bgcolor\":\"#E5ECF6\",\"polar\":{\"bgcolor\":\"#E5ECF6\",\"angularaxis\":{\"gridcolor\":\"white\",\"linecolor\":\"white\",\"ticks\":\"\"},\"radialaxis\":{\"gridcolor\":\"white\",\"linecolor\":\"white\",\"ticks\":\"\"}},\"ternary\":{\"bgcolor\":\"#E5ECF6\",\"aaxis\":{\"gridcolor\":\"white\",\"linecolor\":\"white\",\"ticks\":\"\"},\"baxis\":{\"gridcolor\":\"white\",\"linecolor\":\"white\",\"ticks\":\"\"},\"caxis\":{\"gridcolor\":\"white\",\"linecolor\":\"white\",\"ticks\":\"\"}},\"coloraxis\":{\"colorbar\":{\"outlinewidth\":0,\"ticks\":\"\"}},\"colorscale\":{\"sequential\":[[0.0,\"#0d0887\"],[0.1111111111111111,\"#46039f\"],[0.2222222222222222,\"#7201a8\"],[0.3333333333333333,\"#9c179e\"],[0.4444444444444444,\"#bd3786\"],[0.5555555555555556,\"#d8576b\"],[0.6666666666666666,\"#ed7953\"],[0.7777777777777778,\"#fb9f3a\"],[0.8888888888888888,\"#fdca26\"],[1.0,\"#f0f921\"]],\"sequentialminus\":[[0.0,\"#0d0887\"],[0.1111111111111111,\"#46039f\"],[0.2222222222222222,\"#7201a8\"],[0.3333333333333333,\"#9c179e\"],[0.4444444444444444,\"#bd3786\"],[0.5555555555555556,\"#d8576b\"],[0.6666666666666666,\"#ed7953\"],[0.7777777777777778,\"#fb9f3a\"],[0.8888888888888888,\"#fdca26\"],[1.0,\"#f0f921\"]],\"diverging\":[[0,\"#8e0152\"],[0.1,\"#c51b7d\"],[0.2,\"#de77ae\"],[0.3,\"#f1b6da\"],[0.4,\"#fde0ef\"],[0.5,\"#f7f7f7\"],[0.6,\"#e6f5d0\"],[0.7,\"#b8e186\"],[0.8,\"#7fbc41\"],[0.9,\"#4d9221\"],[1,\"#276419\"]]},\"xaxis\":{\"gridcolor\":\"white\",\"linecolor\":\"white\",\"ticks\":\"\",\"title\":{\"standoff\":15},\"zerolinecolor\":\"white\",\"automargin\":true,\"zerolinewidth\":2},\"yaxis\":{\"gridcolor\":\"white\",\"linecolor\":\"white\",\"ticks\":\"\",\"title\":{\"standoff\":15},\"zerolinecolor\":\"white\",\"automargin\":true,\"zerolinewidth\":2},\"scene\":{\"xaxis\":{\"backgroundcolor\":\"#E5ECF6\",\"gridcolor\":\"white\",\"linecolor\":\"white\",\"showbackground\":true,\"ticks\":\"\",\"zerolinecolor\":\"white\",\"gridwidth\":2},\"yaxis\":{\"backgroundcolor\":\"#E5ECF6\",\"gridcolor\":\"white\",\"linecolor\":\"white\",\"showbackground\":true,\"ticks\":\"\",\"zerolinecolor\":\"white\",\"gridwidth\":2},\"zaxis\":{\"backgroundcolor\":\"#E5ECF6\",\"gridcolor\":\"white\",\"linecolor\":\"white\",\"showbackground\":true,\"ticks\":\"\",\"zerolinecolor\":\"white\",\"gridwidth\":2}},\"shapedefaults\":{\"line\":{\"color\":\"#2a3f5f\"}},\"annotationdefaults\":{\"arrowcolor\":\"#2a3f5f\",\"arrowhead\":0,\"arrowwidth\":1},\"geo\":{\"bgcolor\":\"white\",\"landcolor\":\"#E5ECF6\",\"subunitcolor\":\"white\",\"showland\":true,\"showlakes\":true,\"lakecolor\":\"white\"},\"title\":{\"x\":0.05},\"mapbox\":{\"style\":\"light\"}}},\"autosize\":true},                        {\"responsive\": true}                    ).then(function(){\n",
       "                            \n",
       "var gd = document.getElementById('b76da3d5-b257-46e1-a93e-0badbf9f99d6');\n",
       "var x = new MutationObserver(function (mutations, observer) {{\n",
       "        var display = window.getComputedStyle(gd).display;\n",
       "        if (!display || display === 'none') {{\n",
       "            console.log([gd, 'removed!']);\n",
       "            Plotly.purge(gd);\n",
       "            observer.disconnect();\n",
       "        }}\n",
       "}});\n",
       "\n",
       "// Listen for the removal of the full notebook cells\n",
       "var notebookContainer = gd.closest('#notebook-container');\n",
       "if (notebookContainer) {{\n",
       "    x.observe(notebookContainer, {childList: true});\n",
       "}}\n",
       "\n",
       "// Listen for the clearing of the current output cell\n",
       "var outputEl = gd.closest('.output');\n",
       "if (outputEl) {{\n",
       "    x.observe(outputEl, {childList: true});\n",
       "}}\n",
       "\n",
       "                        })                };                });            </script>        </div>"
      ]
     },
     "metadata": {},
     "output_type": "display_data"
    },
    {
     "data": {
      "application/vnd.plotly.v1+json": {
       "config": {
        "plotlyServerURL": "https://plot.ly"
       },
       "data": [
        {
         "link": {
          "source": [
           3,
           1,
           2,
           3,
           7,
           4,
           5,
           6,
           8,
           7,
           9,
           9
          ],
          "target": [
           0,
           0,
           0,
           1,
           2,
           2,
           3,
           4,
           4,
           6,
           7,
           8
          ],
          "value": [
           1,
           1,
           1,
           1,
           1,
           1,
           1,
           1,
           1,
           1,
           1,
           1
          ]
         },
         "type": "sankey"
        }
       ],
       "layout": {
        "autosize": true,
        "template": {
         "data": {
          "bar": [
           {
            "error_x": {
             "color": "#2a3f5f"
            },
            "error_y": {
             "color": "#2a3f5f"
            },
            "marker": {
             "line": {
              "color": "#E5ECF6",
              "width": 0.5
             },
             "pattern": {
              "fillmode": "overlay",
              "size": 10,
              "solidity": 0.2
             }
            },
            "type": "bar"
           }
          ],
          "barpolar": [
           {
            "marker": {
             "line": {
              "color": "#E5ECF6",
              "width": 0.5
             },
             "pattern": {
              "fillmode": "overlay",
              "size": 10,
              "solidity": 0.2
             }
            },
            "type": "barpolar"
           }
          ],
          "carpet": [
           {
            "aaxis": {
             "endlinecolor": "#2a3f5f",
             "gridcolor": "white",
             "linecolor": "white",
             "minorgridcolor": "white",
             "startlinecolor": "#2a3f5f"
            },
            "baxis": {
             "endlinecolor": "#2a3f5f",
             "gridcolor": "white",
             "linecolor": "white",
             "minorgridcolor": "white",
             "startlinecolor": "#2a3f5f"
            },
            "type": "carpet"
           }
          ],
          "choropleth": [
           {
            "colorbar": {
             "outlinewidth": 0,
             "ticks": ""
            },
            "type": "choropleth"
           }
          ],
          "contour": [
           {
            "colorbar": {
             "outlinewidth": 0,
             "ticks": ""
            },
            "colorscale": [
             [
              0,
              "#0d0887"
             ],
             [
              0.1111111111111111,
              "#46039f"
             ],
             [
              0.2222222222222222,
              "#7201a8"
             ],
             [
              0.3333333333333333,
              "#9c179e"
             ],
             [
              0.4444444444444444,
              "#bd3786"
             ],
             [
              0.5555555555555556,
              "#d8576b"
             ],
             [
              0.6666666666666666,
              "#ed7953"
             ],
             [
              0.7777777777777778,
              "#fb9f3a"
             ],
             [
              0.8888888888888888,
              "#fdca26"
             ],
             [
              1,
              "#f0f921"
             ]
            ],
            "type": "contour"
           }
          ],
          "contourcarpet": [
           {
            "colorbar": {
             "outlinewidth": 0,
             "ticks": ""
            },
            "type": "contourcarpet"
           }
          ],
          "heatmap": [
           {
            "colorbar": {
             "outlinewidth": 0,
             "ticks": ""
            },
            "colorscale": [
             [
              0,
              "#0d0887"
             ],
             [
              0.1111111111111111,
              "#46039f"
             ],
             [
              0.2222222222222222,
              "#7201a8"
             ],
             [
              0.3333333333333333,
              "#9c179e"
             ],
             [
              0.4444444444444444,
              "#bd3786"
             ],
             [
              0.5555555555555556,
              "#d8576b"
             ],
             [
              0.6666666666666666,
              "#ed7953"
             ],
             [
              0.7777777777777778,
              "#fb9f3a"
             ],
             [
              0.8888888888888888,
              "#fdca26"
             ],
             [
              1,
              "#f0f921"
             ]
            ],
            "type": "heatmap"
           }
          ],
          "heatmapgl": [
           {
            "colorbar": {
             "outlinewidth": 0,
             "ticks": ""
            },
            "colorscale": [
             [
              0,
              "#0d0887"
             ],
             [
              0.1111111111111111,
              "#46039f"
             ],
             [
              0.2222222222222222,
              "#7201a8"
             ],
             [
              0.3333333333333333,
              "#9c179e"
             ],
             [
              0.4444444444444444,
              "#bd3786"
             ],
             [
              0.5555555555555556,
              "#d8576b"
             ],
             [
              0.6666666666666666,
              "#ed7953"
             ],
             [
              0.7777777777777778,
              "#fb9f3a"
             ],
             [
              0.8888888888888888,
              "#fdca26"
             ],
             [
              1,
              "#f0f921"
             ]
            ],
            "type": "heatmapgl"
           }
          ],
          "histogram": [
           {
            "marker": {
             "pattern": {
              "fillmode": "overlay",
              "size": 10,
              "solidity": 0.2
             }
            },
            "type": "histogram"
           }
          ],
          "histogram2d": [
           {
            "colorbar": {
             "outlinewidth": 0,
             "ticks": ""
            },
            "colorscale": [
             [
              0,
              "#0d0887"
             ],
             [
              0.1111111111111111,
              "#46039f"
             ],
             [
              0.2222222222222222,
              "#7201a8"
             ],
             [
              0.3333333333333333,
              "#9c179e"
             ],
             [
              0.4444444444444444,
              "#bd3786"
             ],
             [
              0.5555555555555556,
              "#d8576b"
             ],
             [
              0.6666666666666666,
              "#ed7953"
             ],
             [
              0.7777777777777778,
              "#fb9f3a"
             ],
             [
              0.8888888888888888,
              "#fdca26"
             ],
             [
              1,
              "#f0f921"
             ]
            ],
            "type": "histogram2d"
           }
          ],
          "histogram2dcontour": [
           {
            "colorbar": {
             "outlinewidth": 0,
             "ticks": ""
            },
            "colorscale": [
             [
              0,
              "#0d0887"
             ],
             [
              0.1111111111111111,
              "#46039f"
             ],
             [
              0.2222222222222222,
              "#7201a8"
             ],
             [
              0.3333333333333333,
              "#9c179e"
             ],
             [
              0.4444444444444444,
              "#bd3786"
             ],
             [
              0.5555555555555556,
              "#d8576b"
             ],
             [
              0.6666666666666666,
              "#ed7953"
             ],
             [
              0.7777777777777778,
              "#fb9f3a"
             ],
             [
              0.8888888888888888,
              "#fdca26"
             ],
             [
              1,
              "#f0f921"
             ]
            ],
            "type": "histogram2dcontour"
           }
          ],
          "mesh3d": [
           {
            "colorbar": {
             "outlinewidth": 0,
             "ticks": ""
            },
            "type": "mesh3d"
           }
          ],
          "parcoords": [
           {
            "line": {
             "colorbar": {
              "outlinewidth": 0,
              "ticks": ""
             }
            },
            "type": "parcoords"
           }
          ],
          "pie": [
           {
            "automargin": true,
            "type": "pie"
           }
          ],
          "scatter": [
           {
            "fillpattern": {
             "fillmode": "overlay",
             "size": 10,
             "solidity": 0.2
            },
            "type": "scatter"
           }
          ],
          "scatter3d": [
           {
            "line": {
             "colorbar": {
              "outlinewidth": 0,
              "ticks": ""
             }
            },
            "marker": {
             "colorbar": {
              "outlinewidth": 0,
              "ticks": ""
             }
            },
            "type": "scatter3d"
           }
          ],
          "scattercarpet": [
           {
            "marker": {
             "colorbar": {
              "outlinewidth": 0,
              "ticks": ""
             }
            },
            "type": "scattercarpet"
           }
          ],
          "scattergeo": [
           {
            "marker": {
             "colorbar": {
              "outlinewidth": 0,
              "ticks": ""
             }
            },
            "type": "scattergeo"
           }
          ],
          "scattergl": [
           {
            "marker": {
             "colorbar": {
              "outlinewidth": 0,
              "ticks": ""
             }
            },
            "type": "scattergl"
           }
          ],
          "scattermapbox": [
           {
            "marker": {
             "colorbar": {
              "outlinewidth": 0,
              "ticks": ""
             }
            },
            "type": "scattermapbox"
           }
          ],
          "scatterpolar": [
           {
            "marker": {
             "colorbar": {
              "outlinewidth": 0,
              "ticks": ""
             }
            },
            "type": "scatterpolar"
           }
          ],
          "scatterpolargl": [
           {
            "marker": {
             "colorbar": {
              "outlinewidth": 0,
              "ticks": ""
             }
            },
            "type": "scatterpolargl"
           }
          ],
          "scatterternary": [
           {
            "marker": {
             "colorbar": {
              "outlinewidth": 0,
              "ticks": ""
             }
            },
            "type": "scatterternary"
           }
          ],
          "surface": [
           {
            "colorbar": {
             "outlinewidth": 0,
             "ticks": ""
            },
            "colorscale": [
             [
              0,
              "#0d0887"
             ],
             [
              0.1111111111111111,
              "#46039f"
             ],
             [
              0.2222222222222222,
              "#7201a8"
             ],
             [
              0.3333333333333333,
              "#9c179e"
             ],
             [
              0.4444444444444444,
              "#bd3786"
             ],
             [
              0.5555555555555556,
              "#d8576b"
             ],
             [
              0.6666666666666666,
              "#ed7953"
             ],
             [
              0.7777777777777778,
              "#fb9f3a"
             ],
             [
              0.8888888888888888,
              "#fdca26"
             ],
             [
              1,
              "#f0f921"
             ]
            ],
            "type": "surface"
           }
          ],
          "table": [
           {
            "cells": {
             "fill": {
              "color": "#EBF0F8"
             },
             "line": {
              "color": "white"
             }
            },
            "header": {
             "fill": {
              "color": "#C8D4E3"
             },
             "line": {
              "color": "white"
             }
            },
            "type": "table"
           }
          ]
         },
         "layout": {
          "annotationdefaults": {
           "arrowcolor": "#2a3f5f",
           "arrowhead": 0,
           "arrowwidth": 1
          },
          "autotypenumbers": "strict",
          "coloraxis": {
           "colorbar": {
            "outlinewidth": 0,
            "ticks": ""
           }
          },
          "colorscale": {
           "diverging": [
            [
             0,
             "#8e0152"
            ],
            [
             0.1,
             "#c51b7d"
            ],
            [
             0.2,
             "#de77ae"
            ],
            [
             0.3,
             "#f1b6da"
            ],
            [
             0.4,
             "#fde0ef"
            ],
            [
             0.5,
             "#f7f7f7"
            ],
            [
             0.6,
             "#e6f5d0"
            ],
            [
             0.7,
             "#b8e186"
            ],
            [
             0.8,
             "#7fbc41"
            ],
            [
             0.9,
             "#4d9221"
            ],
            [
             1,
             "#276419"
            ]
           ],
           "sequential": [
            [
             0,
             "#0d0887"
            ],
            [
             0.1111111111111111,
             "#46039f"
            ],
            [
             0.2222222222222222,
             "#7201a8"
            ],
            [
             0.3333333333333333,
             "#9c179e"
            ],
            [
             0.4444444444444444,
             "#bd3786"
            ],
            [
             0.5555555555555556,
             "#d8576b"
            ],
            [
             0.6666666666666666,
             "#ed7953"
            ],
            [
             0.7777777777777778,
             "#fb9f3a"
            ],
            [
             0.8888888888888888,
             "#fdca26"
            ],
            [
             1,
             "#f0f921"
            ]
           ],
           "sequentialminus": [
            [
             0,
             "#0d0887"
            ],
            [
             0.1111111111111111,
             "#46039f"
            ],
            [
             0.2222222222222222,
             "#7201a8"
            ],
            [
             0.3333333333333333,
             "#9c179e"
            ],
            [
             0.4444444444444444,
             "#bd3786"
            ],
            [
             0.5555555555555556,
             "#d8576b"
            ],
            [
             0.6666666666666666,
             "#ed7953"
            ],
            [
             0.7777777777777778,
             "#fb9f3a"
            ],
            [
             0.8888888888888888,
             "#fdca26"
            ],
            [
             1,
             "#f0f921"
            ]
           ]
          },
          "colorway": [
           "#636efa",
           "#EF553B",
           "#00cc96",
           "#ab63fa",
           "#FFA15A",
           "#19d3f3",
           "#FF6692",
           "#B6E880",
           "#FF97FF",
           "#FECB52"
          ],
          "font": {
           "color": "#2a3f5f"
          },
          "geo": {
           "bgcolor": "white",
           "lakecolor": "white",
           "landcolor": "#E5ECF6",
           "showlakes": true,
           "showland": true,
           "subunitcolor": "white"
          },
          "hoverlabel": {
           "align": "left"
          },
          "hovermode": "closest",
          "mapbox": {
           "style": "light"
          },
          "paper_bgcolor": "white",
          "plot_bgcolor": "#E5ECF6",
          "polar": {
           "angularaxis": {
            "gridcolor": "white",
            "linecolor": "white",
            "ticks": ""
           },
           "bgcolor": "#E5ECF6",
           "radialaxis": {
            "gridcolor": "white",
            "linecolor": "white",
            "ticks": ""
           }
          },
          "scene": {
           "xaxis": {
            "backgroundcolor": "#E5ECF6",
            "gridcolor": "white",
            "gridwidth": 2,
            "linecolor": "white",
            "showbackground": true,
            "ticks": "",
            "zerolinecolor": "white"
           },
           "yaxis": {
            "backgroundcolor": "#E5ECF6",
            "gridcolor": "white",
            "gridwidth": 2,
            "linecolor": "white",
            "showbackground": true,
            "ticks": "",
            "zerolinecolor": "white"
           },
           "zaxis": {
            "backgroundcolor": "#E5ECF6",
            "gridcolor": "white",
            "gridwidth": 2,
            "linecolor": "white",
            "showbackground": true,
            "ticks": "",
            "zerolinecolor": "white"
           }
          },
          "shapedefaults": {
           "line": {
            "color": "#2a3f5f"
           }
          },
          "ternary": {
           "aaxis": {
            "gridcolor": "white",
            "linecolor": "white",
            "ticks": ""
           },
           "baxis": {
            "gridcolor": "white",
            "linecolor": "white",
            "ticks": ""
           },
           "bgcolor": "#E5ECF6",
           "caxis": {
            "gridcolor": "white",
            "linecolor": "white",
            "ticks": ""
           }
          },
          "title": {
           "x": 0.05
          },
          "xaxis": {
           "automargin": true,
           "gridcolor": "white",
           "linecolor": "white",
           "ticks": "",
           "title": {
            "standoff": 15
           },
           "zerolinecolor": "white",
           "zerolinewidth": 2
          },
          "yaxis": {
           "automargin": true,
           "gridcolor": "white",
           "linecolor": "white",
           "ticks": "",
           "title": {
            "standoff": 15
           },
           "zerolinecolor": "white",
           "zerolinewidth": 2
          }
         }
        }
       }
      },
      "image/png": "[encoded data removed]",
      "text/html": [
       "<div>                            <div id=\"41e2b1db-1df5-49c8-89ef-dd675cae3b66\" class=\"plotly-graph-div\" style=\"height:525px; width:100%;\"></div>            <script type=\"text/javascript\">                require([\"plotly\"], function(Plotly) {                    window.PLOTLYENV=window.PLOTLYENV || {};                                    if (document.getElementById(\"41e2b1db-1df5-49c8-89ef-dd675cae3b66\")) {                    Plotly.newPlot(                        \"41e2b1db-1df5-49c8-89ef-dd675cae3b66\",                        [{\"link\":{\"source\":[3,1,2,3,7,4,5,6,8,7,9,9],\"target\":[0,0,0,1,2,2,3,4,4,6,7,8],\"value\":[1,1,1,1,1,1,1,1,1,1,1,1]},\"type\":\"sankey\"}],                        {\"template\":{\"data\":{\"histogram2dcontour\":[{\"type\":\"histogram2dcontour\",\"colorbar\":{\"outlinewidth\":0,\"ticks\":\"\"},\"colorscale\":[[0.0,\"#0d0887\"],[0.1111111111111111,\"#46039f\"],[0.2222222222222222,\"#7201a8\"],[0.3333333333333333,\"#9c179e\"],[0.4444444444444444,\"#bd3786\"],[0.5555555555555556,\"#d8576b\"],[0.6666666666666666,\"#ed7953\"],[0.7777777777777778,\"#fb9f3a\"],[0.8888888888888888,\"#fdca26\"],[1.0,\"#f0f921\"]]}],\"choropleth\":[{\"type\":\"choropleth\",\"colorbar\":{\"outlinewidth\":0,\"ticks\":\"\"}}],\"histogram2d\":[{\"type\":\"histogram2d\",\"colorbar\":{\"outlinewidth\":0,\"ticks\":\"\"},\"colorscale\":[[0.0,\"#0d0887\"],[0.1111111111111111,\"#46039f\"],[0.2222222222222222,\"#7201a8\"],[0.3333333333333333,\"#9c179e\"],[0.4444444444444444,\"#bd3786\"],[0.5555555555555556,\"#d8576b\"],[0.6666666666666666,\"#ed7953\"],[0.7777777777777778,\"#fb9f3a\"],[0.8888888888888888,\"#fdca26\"],[1.0,\"#f0f921\"]]}],\"heatmap\":[{\"type\":\"heatmap\",\"colorbar\":{\"outlinewidth\":0,\"ticks\":\"\"},\"colorscale\":[[0.0,\"#0d0887\"],[0.1111111111111111,\"#46039f\"],[0.2222222222222222,\"#7201a8\"],[0.3333333333333333,\"#9c179e\"],[0.4444444444444444,\"#bd3786\"],[0.5555555555555556,\"#d8576b\"],[0.6666666666666666,\"#ed7953\"],[0.7777777777777778,\"#fb9f3a\"],[0.8888888888888888,\"#fdca26\"],[1.0,\"#f0f921\"]]}],\"heatmapgl\":[{\"type\":\"heatmapgl\",\"colorbar\":{\"outlinewidth\":0,\"ticks\":\"\"},\"colorscale\":[[0.0,\"#0d0887\"],[0.1111111111111111,\"#46039f\"],[0.2222222222222222,\"#7201a8\"],[0.3333333333333333,\"#9c179e\"],[0.4444444444444444,\"#bd3786\"],[0.5555555555555556,\"#d8576b\"],[0.6666666666666666,\"#ed7953\"],[0.7777777777777778,\"#fb9f3a\"],[0.8888888888888888,\"#fdca26\"],[1.0,\"#f0f921\"]]}],\"contourcarpet\":[{\"type\":\"contourcarpet\",\"colorbar\":{\"outlinewidth\":0,\"ticks\":\"\"}}],\"contour\":[{\"type\":\"contour\",\"colorbar\":{\"outlinewidth\":0,\"ticks\":\"\"},\"colorscale\":[[0.0,\"#0d0887\"],[0.1111111111111111,\"#46039f\"],[0.2222222222222222,\"#7201a8\"],[0.3333333333333333,\"#9c179e\"],[0.4444444444444444,\"#bd3786\"],[0.5555555555555556,\"#d8576b\"],[0.6666666666666666,\"#ed7953\"],[0.7777777777777778,\"#fb9f3a\"],[0.8888888888888888,\"#fdca26\"],[1.0,\"#f0f921\"]]}],\"surface\":[{\"type\":\"surface\",\"colorbar\":{\"outlinewidth\":0,\"ticks\":\"\"},\"colorscale\":[[0.0,\"#0d0887\"],[0.1111111111111111,\"#46039f\"],[0.2222222222222222,\"#7201a8\"],[0.3333333333333333,\"#9c179e\"],[0.4444444444444444,\"#bd3786\"],[0.5555555555555556,\"#d8576b\"],[0.6666666666666666,\"#ed7953\"],[0.7777777777777778,\"#fb9f3a\"],[0.8888888888888888,\"#fdca26\"],[1.0,\"#f0f921\"]]}],\"mesh3d\":[{\"type\":\"mesh3d\",\"colorbar\":{\"outlinewidth\":0,\"ticks\":\"\"}}],\"scatter\":[{\"fillpattern\":{\"fillmode\":\"overlay\",\"size\":10,\"solidity\":0.2},\"type\":\"scatter\"}],\"parcoords\":[{\"type\":\"parcoords\",\"line\":{\"colorbar\":{\"outlinewidth\":0,\"ticks\":\"\"}}}],\"scatterpolargl\":[{\"type\":\"scatterpolargl\",\"marker\":{\"colorbar\":{\"outlinewidth\":0,\"ticks\":\"\"}}}],\"bar\":[{\"error_x\":{\"color\":\"#2a3f5f\"},\"error_y\":{\"color\":\"#2a3f5f\"},\"marker\":{\"line\":{\"color\":\"#E5ECF6\",\"width\":0.5},\"pattern\":{\"fillmode\":\"overlay\",\"size\":10,\"solidity\":0.2}},\"type\":\"bar\"}],\"scattergeo\":[{\"type\":\"scattergeo\",\"marker\":{\"colorbar\":{\"outlinewidth\":0,\"ticks\":\"\"}}}],\"scatterpolar\":[{\"type\":\"scatterpolar\",\"marker\":{\"colorbar\":{\"outlinewidth\":0,\"ticks\":\"\"}}}],\"histogram\":[{\"marker\":{\"pattern\":{\"fillmode\":\"overlay\",\"size\":10,\"solidity\":0.2}},\"type\":\"histogram\"}],\"scattergl\":[{\"type\":\"scattergl\",\"marker\":{\"colorbar\":{\"outlinewidth\":0,\"ticks\":\"\"}}}],\"scatter3d\":[{\"type\":\"scatter3d\",\"line\":{\"colorbar\":{\"outlinewidth\":0,\"ticks\":\"\"}},\"marker\":{\"colorbar\":{\"outlinewidth\":0,\"ticks\":\"\"}}}],\"scattermapbox\":[{\"type\":\"scattermapbox\",\"marker\":{\"colorbar\":{\"outlinewidth\":0,\"ticks\":\"\"}}}],\"scatterternary\":[{\"type\":\"scatterternary\",\"marker\":{\"colorbar\":{\"outlinewidth\":0,\"ticks\":\"\"}}}],\"scattercarpet\":[{\"type\":\"scattercarpet\",\"marker\":{\"colorbar\":{\"outlinewidth\":0,\"ticks\":\"\"}}}],\"carpet\":[{\"aaxis\":{\"endlinecolor\":\"#2a3f5f\",\"gridcolor\":\"white\",\"linecolor\":\"white\",\"minorgridcolor\":\"white\",\"startlinecolor\":\"#2a3f5f\"},\"baxis\":{\"endlinecolor\":\"#2a3f5f\",\"gridcolor\":\"white\",\"linecolor\":\"white\",\"minorgridcolor\":\"white\",\"startlinecolor\":\"#2a3f5f\"},\"type\":\"carpet\"}],\"table\":[{\"cells\":{\"fill\":{\"color\":\"#EBF0F8\"},\"line\":{\"color\":\"white\"}},\"header\":{\"fill\":{\"color\":\"#C8D4E3\"},\"line\":{\"color\":\"white\"}},\"type\":\"table\"}],\"barpolar\":[{\"marker\":{\"line\":{\"color\":\"#E5ECF6\",\"width\":0.5},\"pattern\":{\"fillmode\":\"overlay\",\"size\":10,\"solidity\":0.2}},\"type\":\"barpolar\"}],\"pie\":[{\"automargin\":true,\"type\":\"pie\"}]},\"layout\":{\"autotypenumbers\":\"strict\",\"colorway\":[\"#636efa\",\"#EF553B\",\"#00cc96\",\"#ab63fa\",\"#FFA15A\",\"#19d3f3\",\"#FF6692\",\"#B6E880\",\"#FF97FF\",\"#FECB52\"],\"font\":{\"color\":\"#2a3f5f\"},\"hovermode\":\"closest\",\"hoverlabel\":{\"align\":\"left\"},\"paper_bgcolor\":\"white\",\"plot_bgcolor\":\"#E5ECF6\",\"polar\":{\"bgcolor\":\"#E5ECF6\",\"angularaxis\":{\"gridcolor\":\"white\",\"linecolor\":\"white\",\"ticks\":\"\"},\"radialaxis\":{\"gridcolor\":\"white\",\"linecolor\":\"white\",\"ticks\":\"\"}},\"ternary\":{\"bgcolor\":\"#E5ECF6\",\"aaxis\":{\"gridcolor\":\"white\",\"linecolor\":\"white\",\"ticks\":\"\"},\"baxis\":{\"gridcolor\":\"white\",\"linecolor\":\"white\",\"ticks\":\"\"},\"caxis\":{\"gridcolor\":\"white\",\"linecolor\":\"white\",\"ticks\":\"\"}},\"coloraxis\":{\"colorbar\":{\"outlinewidth\":0,\"ticks\":\"\"}},\"colorscale\":{\"sequential\":[[0.0,\"#0d0887\"],[0.1111111111111111,\"#46039f\"],[0.2222222222222222,\"#7201a8\"],[0.3333333333333333,\"#9c179e\"],[0.4444444444444444,\"#bd3786\"],[0.5555555555555556,\"#d8576b\"],[0.6666666666666666,\"#ed7953\"],[0.7777777777777778,\"#fb9f3a\"],[0.8888888888888888,\"#fdca26\"],[1.0,\"#f0f921\"]],\"sequentialminus\":[[0.0,\"#0d0887\"],[0.1111111111111111,\"#46039f\"],[0.2222222222222222,\"#7201a8\"],[0.3333333333333333,\"#9c179e\"],[0.4444444444444444,\"#bd3786\"],[0.5555555555555556,\"#d8576b\"],[0.6666666666666666,\"#ed7953\"],[0.7777777777777778,\"#fb9f3a\"],[0.8888888888888888,\"#fdca26\"],[1.0,\"#f0f921\"]],\"diverging\":[[0,\"#8e0152\"],[0.1,\"#c51b7d\"],[0.2,\"#de77ae\"],[0.3,\"#f1b6da\"],[0.4,\"#fde0ef\"],[0.5,\"#f7f7f7\"],[0.6,\"#e6f5d0\"],[0.7,\"#b8e186\"],[0.8,\"#7fbc41\"],[0.9,\"#4d9221\"],[1,\"#276419\"]]},\"xaxis\":{\"gridcolor\":\"white\",\"linecolor\":\"white\",\"ticks\":\"\",\"title\":{\"standoff\":15},\"zerolinecolor\":\"white\",\"automargin\":true,\"zerolinewidth\":2},\"yaxis\":{\"gridcolor\":\"white\",\"linecolor\":\"white\",\"ticks\":\"\",\"title\":{\"standoff\":15},\"zerolinecolor\":\"white\",\"automargin\":true,\"zerolinewidth\":2},\"scene\":{\"xaxis\":{\"backgroundcolor\":\"#E5ECF6\",\"gridcolor\":\"white\",\"linecolor\":\"white\",\"showbackground\":true,\"ticks\":\"\",\"zerolinecolor\":\"white\",\"gridwidth\":2},\"yaxis\":{\"backgroundcolor\":\"#E5ECF6\",\"gridcolor\":\"white\",\"linecolor\":\"white\",\"showbackground\":true,\"ticks\":\"\",\"zerolinecolor\":\"white\",\"gridwidth\":2},\"zaxis\":{\"backgroundcolor\":\"#E5ECF6\",\"gridcolor\":\"white\",\"linecolor\":\"white\",\"showbackground\":true,\"ticks\":\"\",\"zerolinecolor\":\"white\",\"gridwidth\":2}},\"shapedefaults\":{\"line\":{\"color\":\"#2a3f5f\"}},\"annotationdefaults\":{\"arrowcolor\":\"#2a3f5f\",\"arrowhead\":0,\"arrowwidth\":1},\"geo\":{\"bgcolor\":\"white\",\"landcolor\":\"#E5ECF6\",\"subunitcolor\":\"white\",\"showland\":true,\"showlakes\":true,\"lakecolor\":\"white\"},\"title\":{\"x\":0.05},\"mapbox\":{\"style\":\"light\"}}}},                        {\"responsive\": true}                    ).then(function(){\n",
       "                            \n",
       "var gd = document.getElementById('41e2b1db-1df5-49c8-89ef-dd675cae3b66');\n",
       "var x = new MutationObserver(function (mutations, observer) {{\n",
       "        var display = window.getComputedStyle(gd).display;\n",
       "        if (!display || display === 'none') {{\n",
       "            console.log([gd, 'removed!']);\n",
       "            Plotly.purge(gd);\n",
       "            observer.disconnect();\n",
       "        }}\n",
       "}});\n",
       "\n",
       "// Listen for the removal of the full notebook cells\n",
       "var notebookContainer = gd.closest('#notebook-container');\n",
       "if (notebookContainer) {{\n",
       "    x.observe(notebookContainer, {childList: true});\n",
       "}}\n",
       "\n",
       "// Listen for the clearing of the current output cell\n",
       "var outputEl = gd.closest('.output');\n",
       "if (outputEl) {{\n",
       "    x.observe(outputEl, {childList: true});\n",
       "}}\n",
       "\n",
       "                        })                };                });            </script>        </div>"
      ]
     },
     "metadata": {},
     "output_type": "display_data"
    },
    {
     "data": {
      "text/html": [
       "\n",
       "    <table>\n",
       "    <thead>\n",
       "    <tr><td>Machine Type</td><td>Count</td><td>Recipe</td><td></td></tr>\n",
       "    </thead>\n",
       "    <tbody>\n",
       "    <tr><td>Aggregator</td><td>1.0</td><td>products</td><td>steel_beam: 60 modular_frame: 10 encased_industrial_beam: 60 >> steel_beam: 60 modular_frame: 10 encased_industrial_beam: 60</td></tr>\n",
       "<tr><td>Assembler</td><td>60.0</td><td>encased_industrial_beam</td><td>concrete: 5 steel_beam: 4 >> encased_industrial_beam: 1</td></tr>\n",
       "<tr><td>Assembler</td><td>5.0</td><td>modular_frame</td><td>iron_rod: 12 reinforced_iron_plate: 3 >> modular_frame: 2</td></tr>\n",
       "<tr><td>Constructor</td><td>300.0</td><td>steel_beam</td><td>steel_ingot: 4 >> steel_beam: 1</td></tr>\n",
       "<tr><td>Assembler</td><td>15.0</td><td>reinforced_iron_plate</td><td>screw: 12 iron_plate: 6 >> reinforced_iron_plate: 1</td></tr>\n",
       "<tr><td>Foundry</td><td>400.0</td><td>steel_ingot</td><td>coal: 3 iron_ore: 3 >> steel_ingot: 3</td></tr>\n",
       "<tr><td>Constructor</td><td>45.0</td><td>screw</td><td>iron_rod: 1 >> screw: 4</td></tr>\n",
       "<tr><td>Constructor</td><td>105.0</td><td>iron_rod</td><td>iron_ingot: 1 >> iron_rod: 1</td></tr>\n",
       "<tr><td>Constructor</td><td>45.0</td><td>iron_plate</td><td>iron_ingot: 3 >> iron_plate: 2</td></tr>\n",
       "<tr><td>Smelter</td><td>240.0</td><td>iron_ingot</td><td>iron_ore: 1 >> iron_ingot: 1</td></tr>\n",
       "    </tbody>\n",
       "    </table>"
      ],
      "text/plain": [
       "<IPython.core.display.HTML object>"
      ]
     },
     "metadata": {},
     "output_type": "display_data"
    },
    {
     "data": {
      "text/html": [
       "\n",
       "    <table>\n",
       "    <thead>\n",
       "    <tr></tr>\n",
       "    </thead>\n",
       "    <tbody>\n",
       "    <tr><td>Net Input</td><td>concrete: 300.0\n",
       "coal: 1200.0\n",
       "iron_ore: 1440.0</td></tr>\n",
       "<tr><td>Net Output</td><td>steel_beam: 60.0\n",
       "modular_frame: 10.0\n",
       "encased_industrial_beam: 60.0</td></tr>\n",
       "    </tbody>\n",
       "    </table>"
      ],
      "text/plain": [
       "<IPython.core.display.HTML object>"
      ]
     },
     "metadata": {},
     "output_type": "display_data"
    }
   ],
   "source": [
    "from IPython.core.display import display, HTML\n",
    "\n",
    "available_machines = make_recipes(BASE_CONFIG, machine_mapping)\n",
    "target_product = MaterialSpec(steel_beam=60, encased_industrial_beam=30, modular_frame=10)\n",
    "solution = Process.from_machines(target_product, [available_machines[\"heavy_modular_frame\"], \n",
    "                                                  available_machines[\"steel_pipe\"], \n",
    "                                                  available_machines[\"iron_rod\"], \n",
    "                                                  available_machines[\"screw\"], \n",
    "                                                  available_machines[\"iron_plate\"],\n",
    "                                                  available_machines[\"iron_ingot\"],\n",
    "                                                  available_machines[\"reinforced_iron_plate\"], \n",
    "                                                  available_machines[\"steel_beam\"],\n",
    "                                                  available_machines[\"steel_ingot\"],\n",
    "                                                  available_machines[\"stator\"],\n",
    "                                                  available_machines[\"encased_industrial_beam\"],\n",
    "                                                  available_machines[\"rotor\"],\n",
    "                                                  available_machines[\"modular_frame\"]])\n",
    "plot_process(solution)\n",
    "plot_sankey(solution)\n",
    "display(HTML(recipe_summary(solution)))\n",
    "display(HTML(material_summary(solution)))\n"
   ]
  },
  {
   "cell_type": "code",
   "execution_count": 112,
   "id": "85fa9505-9ab3-4799-ac0c-a2cb61f58188",
   "metadata": {},
   "outputs": [
    {
     "data": {
      "text/plain": [
       "'MaterialSpec(uranium_waste=0, plutonium_waste=0, battery=0, aluminum_ingot=0, non_fissile_uranium=0, plutonium_pellet=0, encased_plutonium_cell=0, blue_power_slug=0, iron_rod=0, screw=0, wire=0, yellow_power_slug=0, purple_power_slug=0, concrete=0, silica=0, iron_plate=0, steel_beam=0, color_cartridge=0, power_shard=0, cable=0, modular_frame=0, packaged_fuel=0, packaged_turbofuel=0, iodine_infused_filter=0, gas_filter=0, hub_parts=0, reinforced_iron_plate=0, copper_ingot=0, ficsmas_gift=0, candy_cane=0, ficsmas_tree_branch=0, ficsmas_bow=0, actual_snow=0, ficsmas_wonder_star=0, red_ficsmas_ornament=0, blue_ficsmas_ornament=0, copper_ficsmas_ornament=0, iron_ficsmas_ornament=0, ficsmas_ornament_bundle=0, ficsmas_decoration=0, fused_modular_frame=0, circuit_board=0, copper_sheet=0, crystal_oscillator=0, smart_plating=0, versatile_framework=0, automated_wiring=0, modular_engine=0, packaged_water=0, alien_dna_capsule=0, high_speed_connector=0, motor=0, adaptive_control_unit=0, magnetic_field_generator=0, assembly_director_system=0, thermal_propulsion_rocket=0, nuclear_pasta=0, iron_ingot=0, alclad_aluminum_sheet=0, rotor=0, rubber=0, plastic=0, encased_industrial_beam=0, steel_pipe=0, fuel=0, polymer_resin=0, heavy_oil_residue=0, petroleum_coke=0, empty_canister=0, heavy_modular_frame=0, packaged_oil=0, packaged_heavy_oil_residue=0, steel_ingot=0, alumina_solution=0, aluminum_scrap=0, sulfuric_acid=0, encased_uranium_cell=0, heat_sink=0, cooling_system=0, nitric_acid=0, aluminum_casing=0, radio_control_unit=0, computer=0, quartz_crystal=0, caterium_ingot=0, stator=0, ai_limiter=0, quickwire=0, compacted_coal=0, turbofuel=0, supercomputer=0, empty_fluid_tank=0, electromagnetic_control_rod=0, pressure_conversion_cube=0, turbo_motor=0, copper_powder=0, black_powder=0, alien_protein=0, smokeless_powder=0, coal=0, copper_ore=0, caterium_ore=0, iron_ore=0, raw_quartz=0, limestone=0, sulfur=0, crude_oil=0, nitrogen_gas=0, water=0, bauxite=0, uranium=0, paleberry=0, bacon_agaric=0, beryl_nut=0, medicinal_inhaler=0, beacon=0, parachute=0, hog_remains=0, plasma_spitter_remains=0, flower_petals=0, leaves=0, mycelia=0, wood=0, hatcher_remains=0, stinger_remains=0, solid_biofuel=0, packaged_liquid_biofuel=0, biomass=0, liquid_biofuel=0, packaged_alumina_solution=0, packaged_sulfuric_acid=0, packaged_nitrogen_gas=0, packaged_nitric_acid=0, fabric=0, explosive_rebar=0, stun_rebar=0, iron_rebar=0, homing_rifle_ammo=0, cluster_nobelisk=0, nobelisk=0, gas_nobelisk=0, nuke_nobelisk=0, pulse_nobelisk=0, sweet_fireworks=0, fancy_fireworks=0, sparkly_fireworks=0, snowball=0, uranium_fuel_rod=0, plutonium_fuel_rod=0, turbo_rifle_ammo=0, rifle_ammo=0)'"
      ]
     },
     "execution_count": 112,
     "metadata": {},
     "output_type": "execute_result"
    }
   ],
   "source": [
    "str(net)"
   ]
  },
  {
   "cell_type": "code",
   "execution_count": null,
   "id": "d6ca1f27-a321-4543-9a30-085c18b3e563",
   "metadata": {},
   "outputs": [],
   "source": []
  }
 ],
 "metadata": {
  "kernelspec": {
   "display_name": "Python 3 (ipykernel)",
   "language": "python",
   "name": "python3"
  },
  "language_info": {
   "codemirror_mode": {
    "name": "ipython",
    "version": 3
   },
   "file_extension": ".py",
   "mimetype": "text/x-python",
   "name": "python",
   "nbconvert_exporter": "python",
   "pygments_lexer": "ipython3",
   "version": "3.9.13"
  }
 },
 "nbformat": 4,
 "nbformat_minor": 5
}
