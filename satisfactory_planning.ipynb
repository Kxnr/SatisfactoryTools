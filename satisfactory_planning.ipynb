{
 "cells": [
  {
   "cell_type": "code",
   "execution_count": 1,
   "id": "89117efb-12c3-4039-95ee-ebf4a532631e",
   "metadata": {},
   "outputs": [],
   "source": [
    "from config_parsing import parse_config\n",
    "import plotly.io as pio\n",
    "\n",
    "%load_ext autoreload\n",
    "%autoreload 2\n",
    "\n",
    "pio.renderers.default = \"jupyterlab\"\n",
    " \n",
    "CONFIG_LOCATION = \"D:/SteamLibrary/steamapps/common/Satisfactory/CommunityResources/Docs/Docs.json\"\n",
    "config = parse_config(CONFIG_LOCATION)"
   ]
  },
  {
   "cell_type": "code",
   "execution_count": 2,
   "id": "c73abb8c",
   "metadata": {},
   "outputs": [],
   "source": [
    "from material import MaterialSpec\n",
    "from plotting.tables import recipe_summary\n",
    "from plotting.sankey import plot_sankey\n",
    "from plotting.graph import plot_process\n",
    "from process import Process\n",
    "from machine import Machine\n",
    "from IPython.display import display, HTML\n",
    "from igraph import Graph\n",
    "\n",
    "def factory_plan(available_machines: list[Machine], target: MaterialSpec):\n",
    "    Machine.autobind(available_machines)\n",
    "\n",
    "    solution = Process.from_outputs(target,\n",
    "                                    available_machines\n",
    "                                    )\n",
    "\n",
    "    # TODO: color by machine or recipe type\n",
    "    plot_process(solution, Graph.layout_reingold_tilford)\n",
    "    plot_sankey(solution)\n",
    "    display(HTML(recipe_summary(solution)))\n",
    "    # total_power(solution)\n",
    "    return solution"
   ]
  },
  {
   "cell_type": "code",
   "execution_count": 32,
   "id": "06ecc772-14d6-4fec-9150-dd85fc546ba8",
   "metadata": {
    "tags": []
   },
   "outputs": [],
   "source": [
    "# total production\n",
    "config = parse_config(CONFIG_LOCATION)\n",
    "available_machines = [m.instance() for m in config.recipes.values()]\n",
    "target_product = config.materials(iron_rod=10, iron_plate=10, reinforced_iron_plate=5, rotor=5,\n",
    "                                  steel_beam=5, encased_industrial_beam=2, modular_frame=5, heavy_modular_frame=5)\n",
    "\n",
    "# factory_plan(available_machines, target_product)"
   ]
  },
  {
   "cell_type": "code",
   "execution_count": 3,
   "id": "179999f0-e114-4994-b6b4-34a618dba542",
   "metadata": {
    "tags": []
   },
   "outputs": [
    {
     "ename": "NameError",
     "evalue": "name 'make_recipes' is not defined",
     "output_type": "error",
     "traceback": [
      "\u001b[1;31m---------------------------------------------------------------------------\u001b[0m",
      "\u001b[1;31mNameError\u001b[0m                                 Traceback (most recent call last)",
      "Cell \u001b[1;32mIn[3], line 1\u001b[0m\n\u001b[1;32m----> 1\u001b[0m available_machines \u001b[38;5;241m=\u001b[39m \u001b[43mmake_recipes\u001b[49m(BASE_CONFIG, machine_mapping)\n\u001b[0;32m      2\u001b[0m available_machines \u001b[38;5;241m=\u001b[39m [\u001b[38;5;241m*\u001b[39mavailable_machines\u001b[38;5;241m.\u001b[39mcore]\n\u001b[0;32m      3\u001b[0m Machine\u001b[38;5;241m.\u001b[39mautobind(available_machines)\n",
      "\u001b[1;31mNameError\u001b[0m: name 'make_recipes' is not defined"
     ]
    }
   ],
   "source": [
    "available_machines = make_recipes(BASE_CONFIG, machine_mapping)\n",
    "available_machines = [*available_machines.core]\n",
    "Machine.autobind(available_machines)\n",
    "\n",
    "target_product = MaterialSpec(iron_plate=1, iron_rod=2)\n",
    "target_available = MaterialSpec(iron_ore=360)\n",
    "solution = Process.from_inputs(target_available,\n",
    "                               target_product,\n",
    "                               available_machines)\n",
    "\n",
    "plot_process(solution, Graph.layout_reingold_tilford)\n",
    "plot_sankey(solution)\n",
    "display(HTML(recipe_summary(solution)))"
   ]
  },
  {
   "cell_type": "code",
   "execution_count": 4,
   "id": "326b6427",
   "metadata": {},
   "outputs": [
    {
     "data": {
      "application/vnd.jupyter.widget-view+json": {
       "model_id": "30b1fba91cb74fec8ec5d954d2ef2c78",
       "version_major": 2,
       "version_minor": 0
      },
      "text/plain": [
       "Accordion(children=(interactive(children=(IntSlider(value=0, description='uranium_waste', max=1000, min=-1000)…"
      ]
     },
     "execution_count": 4,
     "metadata": {},
     "output_type": "execute_result"
    }
   ],
   "source": [
    "from plotting.widgets import material_widget, recipe_widget, optimize_outputs_widget, optimize_inputs_widget\n",
    "from ipywidgets.widgets import Accordion\n",
    "from IPython.display import display\n",
    "\n",
    "a = None\n",
    "\n",
    "def callback(process):\n",
    "    global a\n",
    "    a = process\n",
    "    \n",
    "\n",
    "m_w, materials = material_widget(config.materials)\n",
    "r_w, recipes = recipe_widget(config.recipes)\n",
    "o_b = optimize_outputs_widget(callback, materials, recipes)\n",
    "\n",
    "accordion = Accordion(children=[m_w, r_w, o_b])\n",
    "accordion.set_title(0, 'Materials')\n",
    "accordion.set_title(1, 'Recipes')\n",
    "accordion.set_title(2, 'Run')\n",
    "accordion"
   ]
  },
  {
   "cell_type": "code",
   "execution_count": 9,
   "id": "44019134",
   "metadata": {
    "tags": []
   },
   "outputs": [
    {
     "data": {
      "application/vnd.jupyter.widget-view+json": {
       "model_id": "13862efe606543c185d99c318b7a811b",
       "version_major": 2,
       "version_minor": 0
      },
      "text/plain": [
       "HBox(children=(Text(value='', placeholder='Search Recipes'), Button(description='clear', style=ButtonStyle()))…"
      ]
     },
     "metadata": {},
     "output_type": "display_data"
    },
    {
     "data": {
      "application/vnd.jupyter.widget-view+json": {
       "model_id": "0a6f591e4594475ebb0cf4c01c42a719",
       "version_major": 2,
       "version_minor": 0
      },
      "text/plain": [
       "HBox(children=(CustomToggle(description='alternate', style=ButtonStyle()), CustomToggle(description='Build_Con…"
      ]
     },
     "metadata": {},
     "output_type": "display_data"
    },
    {
     "data": {
      "application/vnd.jupyter.widget-view+json": {
       "model_id": "d4d5a92a09f74ee4ad96304fc694e597",
       "version_major": 2,
       "version_minor": 0
      },
      "text/plain": [
       "VBox(children=(Checkbox(value=False, description='alternate_iron_wire', indent=False), Checkbox(value=False, d…"
      ]
     },
     "metadata": {},
     "output_type": "display_data"
    }
   ],
   "source": [
    "from ipywidgets import widgets\n",
    "from categorized_collection import CategorizedCollection\n",
    "from fuzzywuzzy import process\n",
    "from IPython.display import display\n",
    "from traitlets import Bool\n",
    "\n",
    "options = CategorizedCollection({\"a\": 1, \"b\": 2, \"c\": 3, \"d\": 4})\n",
    "options.set_tag(\"a\", \"tag_1\")\n",
    "options.set_tag(\"b\", \"tag_1\")\n",
    "options.set_tag(\"b\", \"tag_2\")\n",
    "options.set_tag(\"c\", \"tag_3\")\n",
    "options.set_tag(\"d\", \"tag_4\")\n",
    "\n",
    "options = config.recipes\n",
    "\n",
    "fuzz_threshold = .5\n",
    "\n",
    "search = widgets.Text(\n",
    "    placeholder='Search Recipes',\n",
    "    disabled=False,\n",
    ")\n",
    "\n",
    "class CustomToggle(widgets.Button):\n",
    "    value = Bool(False).tag(sync=True)\n",
    "    \n",
    "    def __init__(self, *args, **kwargs):\n",
    "        super().__init__(*args, **kwargs)\n",
    "        self.on_click(self.toggle)\n",
    "    \n",
    "    def toggle(self, *_, **__):\n",
    "        self.value = not self.value\n",
    "        self.button_style = \"info\" if self.value else \"\"\n",
    "\n",
    "category_selectors = {tag: CustomToggle(description=tag) for tag in options.tags}\n",
    "\n",
    "item_selectors = {name: widgets.Checkbox(value=False, description=name, indent=False) for name in options.keys()}\n",
    "\n",
    "filtered = []\n",
    "\n",
    "\n",
    "        \n",
    "def unselect_category_selectors(change):\n",
    "    new_value = change[\"new\"]\n",
    "    if not new_value:\n",
    "        for tag in options.value_tags(change[\"owner\"].description):\n",
    "            if (selector := category_selectors[tag]).value:\n",
    "                selector.toggle()\n",
    "            \n",
    "    # TODO: if all in category selected, select category\n",
    "            \n",
    "for selector in item_selectors.values():\n",
    "    selector.observe(unselect_category_selectors, names=\"value\")\n",
    "        \n",
    "def select_by_category(b):\n",
    "    tag = b.description\n",
    "    # TODO: de-selecting a sub group de-selects a super group\n",
    "    for item in options.tags[tag]:\n",
    "        item_selectors[item].value = b.value\n",
    "\n",
    "for selector in category_selectors.values():\n",
    "    selector.on_click(select_by_category)\n",
    "\n",
    "checkboxes = widgets.VBox(list(item_selectors.values())) \n",
    "\n",
    "def filter_results(change):\n",
    "    new_value = change[\"new\"]\n",
    "    threshold = 75\n",
    "    \n",
    "    if not new_value:\n",
    "        # TODO: cache this value\n",
    "        filtered = list(item_selectors.values())\n",
    "    else:\n",
    "        filtered = [item_selectors[k] for k, score in process.extract(change[\"new\"], options.keys(), limit=None) if score > threshold]\n",
    "        \n",
    "    checkboxes.children = filtered\n",
    "    \n",
    "def clear_search(b):\n",
    "    search.value = \"\"\n",
    "\n",
    "clear = widgets.Button(description=\"clear\")\n",
    "clear.on_click(clear_search)\n",
    "    \n",
    "search.observe(filter_results, names=\"value\")\n",
    "display(widgets.HBox([search, clear])) # TODO: clear button\n",
    "display(widgets.HBox(list(category_selectors.values())))\n",
    "display(checkboxes)"
   ]
  },
  {
   "cell_type": "code",
   "execution_count": null,
   "id": "275c4573-7af6-40a1-8544-ac4a5952c823",
   "metadata": {},
   "outputs": [],
   "source": []
  }
 ],
 "metadata": {
  "kernelspec": {
   "display_name": "Python 3 (ipykernel)",
   "language": "python",
   "name": "python3"
  },
  "language_info": {
   "codemirror_mode": {
    "name": "ipython",
    "version": 3
   },
   "file_extension": ".py",
   "mimetype": "text/x-python",
   "name": "python",
   "nbconvert_exporter": "python",
   "pygments_lexer": "ipython3",
   "version": "3.10.8"
  }
 },
 "nbformat": 4,
 "nbformat_minor": 5
}
