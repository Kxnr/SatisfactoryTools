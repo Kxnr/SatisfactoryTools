{
 "cells": [
  {
   "cell_type": "code",
   "execution_count": 5,
   "id": "89117efb-12c3-4039-95ee-ebf4a532631e",
   "metadata": {
    "tags": []
   },
   "outputs": [
    {
     "name": "stdout",
     "output_type": "stream",
     "text": [
      "The autoreload extension is already loaded. To reload it, use:\n",
      "  %reload_ext autoreload\n"
     ]
    }
   ],
   "source": [
    "from config_parsing import parse_config\n",
    "import plotly.io as pio\n",
    "\n",
    "%load_ext autoreload\n",
    "%autoreload 2\n",
    "\n",
    "pio.renderers.default = \"jupyterlab\"\n",
    " \n",
    "CONFIG_LOCATION = \"./Docs.json\"\n",
    "config = parse_config(CONFIG_LOCATION)"
   ]
  },
  {
   "cell_type": "code",
   "execution_count": 8,
   "id": "b7e3a161-edc2-4800-be5a-cf923c25d3ca",
   "metadata": {
    "tags": []
   },
   "outputs": [
    {
     "data": {
      "text/plain": [
       "['Build_OilRefinery_C',\n",
       " 'Build_FoundryMk1_C',\n",
       " 'Build_Packager_C',\n",
       " 'Build_Blender_C',\n",
       " 'Build_ManufacturerMk1_C',\n",
       " 'Build_AssemblerMk1_C',\n",
       " 'Build_SmelterMk1_C',\n",
       " 'Build_ConstructorMk1_C',\n",
       " 'Build_HadronCollider_C',\n",
       " 'Build_OilPump_C',\n",
       " 'Build_MinerMk2_C',\n",
       " 'Build_MinerMk3_C',\n",
       " 'Build_MinerMk1_C',\n",
       " 'Build_WaterPump_C',\n",
       " 'Build_GeneratorCoal_C',\n",
       " 'Build_GeneratorFuel_C',\n",
       " 'Build_GeneratorBiomass_C',\n",
       " 'Build_GeneratorNuclear_C',\n",
       " 'Build_GeneratorGeoThermal_C']"
      ]
     },
     "execution_count": 8,
     "metadata": {},
     "output_type": "execute_result"
    }
   ],
   "source": [
    "list(config.machines.keys())"
   ]
  },
  {
   "cell_type": "code",
   "execution_count": 10,
   "id": "c73abb8c",
   "metadata": {
    "tags": []
   },
   "outputs": [],
   "source": [
    "from material import MaterialSpec\n",
    "from plotting.tables import recipe_summary\n",
    "from plotting.sankey import plot_sankey\n",
    "from plotting.graph import plot_process\n",
    "from process import Process\n",
    "from machine import Machine\n",
    "from IPython.display import display, HTML\n",
    "from igraph import Graph\n",
    "\n",
    "def factory_plan(available_machines: list[Machine], target: MaterialSpec):\n",
    "    Machine.autobind(available_machines)\n",
    "\n",
    "    solution = Process.from_outputs(target,\n",
    "                                    available_machines\n",
    "                                    )\n",
    "\n",
    "    # TODO: color by machine or recipe type\n",
    "    plot_process(solution, Graph.layout_reingold_tilford)\n",
    "    plot_sankey(solution)\n",
    "    display(HTML(recipe_summary(solution)))\n",
    "    # total_power(solution)\n",
    "    return solution"
   ]
  },
  {
   "cell_type": "code",
   "execution_count": 11,
   "id": "06ecc772-14d6-4fec-9150-dd85fc546ba8",
   "metadata": {
    "tags": []
   },
   "outputs": [],
   "source": [
    "# total production\n",
    "config = parse_config(CONFIG_LOCATION)\n",
    "available_machines = [m.instance() for m in config.recipes.values()]\n",
    "target_product = config.materials(iron_rod=10, iron_plate=10, reinforced_iron_plate=5, rotor=5,\n",
    "                                  steel_beam=5, encased_industrial_beam=2, modular_frame=5, heavy_modular_frame=5)\n",
    "\n",
    "# factory_plan(available_machines, target_product)"
   ]
  },
  {
   "cell_type": "code",
   "execution_count": 10,
   "id": "179999f0-e114-4994-b6b4-34a618dba542",
   "metadata": {
    "tags": []
   },
   "outputs": [
    {
     "ename": "AttributeError",
     "evalue": "'NoneType' object has no attribute 'round'",
     "output_type": "error",
     "traceback": [
      "\u001b[0;31m---------------------------------------------------------------------------\u001b[0m",
      "\u001b[0;31mAttributeError\u001b[0m                            Traceback (most recent call last)",
      "Cell \u001b[0;32mIn[10], line 5\u001b[0m\n\u001b[1;32m      3\u001b[0m target_product \u001b[38;5;241m=\u001b[39m config\u001b[38;5;241m.\u001b[39mmaterials(iron_plate\u001b[38;5;241m=\u001b[39m\u001b[38;5;241m1\u001b[39m, iron_rod\u001b[38;5;241m=\u001b[39m\u001b[38;5;241m2\u001b[39m)\n\u001b[1;32m      4\u001b[0m target_available \u001b[38;5;241m=\u001b[39m config\u001b[38;5;241m.\u001b[39mmaterials(iron_ore\u001b[38;5;241m=\u001b[39m\u001b[38;5;241m360\u001b[39m)\n\u001b[0;32m----> 5\u001b[0m solution \u001b[38;5;241m=\u001b[39m \u001b[43mProcess\u001b[49m\u001b[38;5;241;43m.\u001b[39;49m\u001b[43mfrom_inputs\u001b[49m\u001b[43m(\u001b[49m\u001b[43mtarget_available\u001b[49m\u001b[43m,\u001b[49m\n\u001b[1;32m      6\u001b[0m \u001b[43m                               \u001b[49m\u001b[43mtarget_product\u001b[49m\u001b[43m,\u001b[49m\n\u001b[1;32m      7\u001b[0m \u001b[43m                               \u001b[49m\u001b[43mavailable_machines\u001b[49m\u001b[43m)\u001b[49m\n\u001b[1;32m      9\u001b[0m plot_process(solution, Graph\u001b[38;5;241m.\u001b[39mlayout_reingold_tilford)\n\u001b[1;32m     10\u001b[0m plot_sankey(solution)\n",
      "File \u001b[0;32m~/src/satisfactory_tools/process.py:143\u001b[0m, in \u001b[0;36mProcess.from_inputs\u001b[0;34m(cls, available_materials, target_output, machines, generators)\u001b[0m\n\u001b[1;32m    137\u001b[0m output_bounds \u001b[38;5;241m=\u001b[39m np\u001b[38;5;241m.\u001b[39marray([\u001b[38;5;241m*\u001b[39m[material \u001b[38;5;241m-\u001b[39m \u001b[38;5;241m.001\u001b[39m \u001b[38;5;241m*\u001b[39m (i \u001b[38;5;129;01min\u001b[39;00m production_indices) \u001b[38;5;28;01mfor\u001b[39;00m i, material \u001b[38;5;129;01min\u001b[39;00m\n\u001b[1;32m    138\u001b[0m                             \u001b[38;5;28menumerate\u001b[39m(dataclass_to_list(available_materials))]])\n\u001b[1;32m    140\u001b[0m solution \u001b[38;5;241m=\u001b[39m linprog(c\u001b[38;5;241m=\u001b[39mcosts, A_ub\u001b[38;5;241m=\u001b[39mproduction_matrix, b_ub\u001b[38;5;241m=\u001b[39moutput_bounds, A_eq\u001b[38;5;241m=\u001b[39mconnect_eq_constraints,\n\u001b[1;32m    141\u001b[0m                    b_eq\u001b[38;5;241m=\u001b[39mconnect_eq_bounds)\n\u001b[0;32m--> 143\u001b[0m \u001b[38;5;28;01mfor\u001b[39;00m m, s \u001b[38;5;129;01min\u001b[39;00m \u001b[38;5;28mzip\u001b[39m(visited, \u001b[43msolution\u001b[49m\u001b[38;5;241;43m.\u001b[39;49m\u001b[43mx\u001b[49m\u001b[38;5;241;43m.\u001b[39;49m\u001b[43mround\u001b[49m(\u001b[38;5;241m4\u001b[39m)):\n\u001b[1;32m    144\u001b[0m     \u001b[38;5;28mcls\u001b[39m(m, registry, s)\n\u001b[1;32m    146\u001b[0m \u001b[38;5;28mcls\u001b[39m(inputs, registry, \u001b[38;5;241m1\u001b[39m)\n",
      "\u001b[0;31mAttributeError\u001b[0m: 'NoneType' object has no attribute 'round'"
     ]
    }
   ],
   "source": [
    "Machine.autobind(available_machines)\n",
    "\n",
    "target_product = config.materials(iron_plate=1, iron_rod=2)\n",
    "target_available = config.materials(iron_ore=360)\n",
    "solution = Process.from_inputs(target_available,\n",
    "                               target_product,\n",
    "                               available_machines)\n",
    "\n",
    "plot_process(solution, Graph.layout_reingold_tilford)\n",
    "plot_sankey(solution)\n",
    "display(HTML(recipe_summary(solution)))"
   ]
  },
  {
   "cell_type": "code",
   "execution_count": 16,
   "id": "326b6427",
   "metadata": {
    "tags": []
   },
   "outputs": [
    {
     "data": {
      "application/vnd.jupyter.widget-view+json": {
       "model_id": "732152b857af4e7dae3ec5a5ffdae3f4",
       "version_major": 2,
       "version_minor": 0
      },
      "text/plain": [
       "Accordion(children=(interactive(children=(IntSlider(value=0, description='uranium_waste', max=1000, min=-1000)…"
      ]
     },
     "execution_count": 16,
     "metadata": {},
     "output_type": "execute_result"
    }
   ],
   "source": [
    "from plotting.widgets import material_widget, recipe_widget, optimize_outputs_widget, optimize_inputs_widget\n",
    "from ipywidgets.widgets import Accordion\n",
    "from IPython.display import display\n",
    "\n",
    "a = None\n",
    "\n",
    "def callback(process):\n",
    "    global a\n",
    "    print(process)\n",
    "    a = process\n",
    "    \n",
    "\n",
    "m_w, materials = material_widget(config.materials)\n",
    "r_w, recipes = recipe_widget(config.recipes)\n",
    "o_b = optimize_outputs_widget(callback, materials, recipes)\n",
    "\n",
    "accordion = Accordion(children=[m_w, r_w, o_b])\n",
    "accordion.set_title(0, 'Materials')\n",
    "accordion.set_title(1, 'Recipes')\n",
    "accordion.set_title(2, 'Run')\n",
    "accordion"
   ]
  },
  {
   "cell_type": "code",
   "execution_count": 17,
   "id": "faab8901-27ed-4649-92f5-7f4d2da570cc",
   "metadata": {
    "tags": []
   },
   "outputs": [],
   "source": [
    "a"
   ]
  },
  {
   "cell_type": "code",
   "execution_count": 12,
   "id": "44019134",
   "metadata": {
    "tags": []
   },
   "outputs": [
    {
     "data": {
      "application/vnd.jupyter.widget-view+json": {
       "model_id": "6fc9f61a65e24189a8f7b73da05f1090",
       "version_major": 2,
       "version_minor": 0
      },
      "text/plain": [
       "HBox(children=(Text(value='', placeholder='Search Recipes'), Button(button_style='danger', description='clear'…"
      ]
     },
     "metadata": {},
     "output_type": "display_data"
    },
    {
     "data": {
      "application/vnd.jupyter.widget-view+json": {
       "model_id": "36f4738de461475da44e38e28b37effa",
       "version_major": 2,
       "version_minor": 0
      },
      "text/plain": [
       "HBox(children=(CustomToggle(description='core', style=ButtonStyle()), CustomToggle(description='Build_OilRefin…"
      ]
     },
     "metadata": {},
     "output_type": "display_data"
    },
    {
     "data": {
      "application/vnd.jupyter.widget-view+json": {
       "model_id": "f15d3db026fd49d1a6de48913c7c1ffe",
       "version_major": 2,
       "version_minor": 0
      },
      "text/plain": [
       "VBox(children=(Checkbox(value=False, description='liquid_biofuel', indent=False), Checkbox(value=False, descri…"
      ]
     },
     "metadata": {},
     "output_type": "display_data"
    }
   ],
   "source": [
    "from ipywidgets import widgets\n",
    "from categorized_collection import CategorizedCollection\n",
    "from thefuzz import process\n",
    "from IPython.display import display\n",
    "from traitlets import Bool\n",
    "\n",
    "options = config.recipes\n",
    "\n",
    "fuzz_threshold = .5\n",
    "\n",
    "search = widgets.Text(\n",
    "    placeholder='Search Recipes',\n",
    "    disabled=False,\n",
    ")\n",
    "\n",
    "class CustomToggle(widgets.Button):\n",
    "    value = Bool(False).tag(sync=True)\n",
    "    \n",
    "    def __init__(self, *args, **kwargs):\n",
    "        super().__init__(*args, **kwargs)\n",
    "        self.on_click(self.toggle)\n",
    "    \n",
    "    def toggle(self, *_, **__):\n",
    "        self.value = not self.value\n",
    "        self.button_style = \"info\" if self.value else \"\"\n",
    "\n",
    "category_selectors = {tag: CustomToggle(description=tag) for tag in options.tags}\n",
    "item_selectors = {name: widgets.Checkbox(value=False, description=name, indent=False) for name in options.keys()}\n",
    "\n",
    "        \n",
    "def unselect_category_selectors(change):\n",
    "    new_value = change[\"new\"]\n",
    "    if not new_value:\n",
    "        for tag in options.value_tags(change[\"owner\"].description):\n",
    "            if (selector := category_selectors[tag]).value:\n",
    "                selector.toggle()\n",
    "                        \n",
    "for selector in item_selectors.values():\n",
    "    selector.observe(unselect_category_selectors, names=\"value\")\n",
    "        \n",
    "def select_by_category(b):\n",
    "    tag = b.description\n",
    "    for item in options.tags[tag]:\n",
    "        item_selectors[item].value = b.value\n",
    "\n",
    "for selector in category_selectors.values():\n",
    "    selector.on_click(select_by_category)\n",
    "    \n",
    "layout_row_flexwrap = widgets.Layout(flex_flow=\"row wrap\")\n",
    "layout_col_flexwrap = widgets.Layout(flex_flow=\"row wrap\", height=\"auto\", align_content=\"flex-start\")\n",
    "\n",
    "checkboxes = widgets.VBox(list(item_selectors.values()), layout=layout_col_flexwrap) \n",
    "\n",
    "def filter_results(change):\n",
    "    new_value = change[\"new\"]\n",
    "    threshold = 75\n",
    "    \n",
    "    if not new_value:\n",
    "        # TODO: cache this value\n",
    "        filtered = list(item_selectors.values())\n",
    "    else:\n",
    "        filtered = [item_selectors[k] for k, score in process.extract(change[\"new\"], options.keys(), limit=None) if score > threshold]\n",
    "        \n",
    "    checkboxes.children = filtered\n",
    "    \n",
    "def clear_search(b):\n",
    "    search.value = \"\"\n",
    "\n",
    "clear = widgets.Button(description=\"clear\", button_style=\"danger\", layout=widgets.Layout(width=\"6em\"))\n",
    "clear.on_click(clear_search)\n",
    "    \n",
    "search.observe(filter_results, names=\"value\")\n",
    "display(widgets.HBox([search, clear]))\n",
    "display(widgets.HBox(list(category_selectors.values()), layout=layout_row_flexwrap))\n",
    "display(checkboxes)"
   ]
  },
  {
   "cell_type": "code",
   "execution_count": 7,
   "id": "275c4573-7af6-40a1-8544-ac4a5952c823",
   "metadata": {},
   "outputs": [
    {
     "data": {
      "text/plain": [
       "defaultdict(set,\n",
       "            {'mk1': {'crude_oil_mk_1', 'water_mk_1'},\n",
       "             'Build_OilPump_C': {'crude_oil_mk_1'},\n",
       "             'extractor': {'crude_oil_mk_1', 'water_mk_1'},\n",
       "             'Build_WaterPump_C': {'water_mk_1'},\n",
       "             'generator': {'biomass_burner_biomass',\n",
       "              'biomass_burner_fabric',\n",
       "              'biomass_burner_flower_petals',\n",
       "              'biomass_burner_hatcher_remains',\n",
       "              'biomass_burner_hog_remains',\n",
       "              'biomass_burner_leaves',\n",
       "              'biomass_burner_liquid_biofuel',\n",
       "              'biomass_burner_mycelia',\n",
       "              'biomass_burner_packaged_liquid_biofuel',\n",
       "              'biomass_burner_plasma_spitter_remains',\n",
       "              'biomass_burner_solid_biofuel',\n",
       "              'biomass_burner_stinger_remains',\n",
       "              'biomass_burner_wood',\n",
       "              'coal_generator_coal',\n",
       "              'coal_generator_compacted_coal',\n",
       "              'coal_generator_petroleum_coke',\n",
       "              'fuel_generator_fuel',\n",
       "              'fuel_generator_liquid_biofuel',\n",
       "              'fuel_generator_turbofuel',\n",
       "              'nuclear_power_plant_plutonium_fuel_rod',\n",
       "              'nuclear_power_plant_uranium_fuel_rod'},\n",
       "             'Build_GeneratorCoal_C': {'coal_generator_coal',\n",
       "              'coal_generator_compacted_coal',\n",
       "              'coal_generator_petroleum_coke'},\n",
       "             'Build_GeneratorFuel_C': {'fuel_generator_fuel',\n",
       "              'fuel_generator_liquid_biofuel',\n",
       "              'fuel_generator_turbofuel'},\n",
       "             'Build_GeneratorBiomass_C': {'biomass_burner_biomass',\n",
       "              'biomass_burner_fabric',\n",
       "              'biomass_burner_flower_petals',\n",
       "              'biomass_burner_hatcher_remains',\n",
       "              'biomass_burner_hog_remains',\n",
       "              'biomass_burner_leaves',\n",
       "              'biomass_burner_liquid_biofuel',\n",
       "              'biomass_burner_mycelia',\n",
       "              'biomass_burner_packaged_liquid_biofuel',\n",
       "              'biomass_burner_plasma_spitter_remains',\n",
       "              'biomass_burner_solid_biofuel',\n",
       "              'biomass_burner_stinger_remains',\n",
       "              'biomass_burner_wood'},\n",
       "             'Build_GeneratorNuclear_C': {'nuclear_power_plant_plutonium_fuel_rod',\n",
       "              'nuclear_power_plant_uranium_fuel_rod'}})"
      ]
     },
     "execution_count": 7,
     "metadata": {},
     "output_type": "execute_result"
    }
   ],
   "source": [
    "config.recipes.tags"
   ]
  },
  {
   "cell_type": "code",
   "execution_count": 8,
   "id": "b9118418",
   "metadata": {},
   "outputs": [
    {
     "ename": "NameError",
     "evalue": "name 'a' is not defined",
     "output_type": "error",
     "traceback": [
      "\u001b[0;31m---------------------------------------------------------------------------\u001b[0m",
      "\u001b[0;31mNameError\u001b[0m                                 Traceback (most recent call last)",
      "Cell \u001b[0;32mIn[8], line 1\u001b[0m\n\u001b[0;32m----> 1\u001b[0m \u001b[43ma\u001b[49m\n",
      "\u001b[0;31mNameError\u001b[0m: name 'a' is not defined"
     ]
    }
   ],
   "source": [
    "a"
   ]
  },
  {
   "cell_type": "code",
   "execution_count": null,
   "id": "7dc549b3-85a1-4749-a3be-729285e6d10a",
   "metadata": {},
   "outputs": [],
   "source": [
    "process_1 >> process_2"
   ]
  },
  {
   "cell_type": "code",
   "execution_count": 20,
   "id": "3b9c45a3-e0cd-4a82-a131-3ce655533eb9",
   "metadata": {
    "tags": []
   },
   "outputs": [
    {
     "data": {
      "text/plain": [
       "16"
      ]
     },
     "execution_count": 20,
     "metadata": {},
     "output_type": "execute_result"
    }
   ],
   "source": [
    "1 << 4"
   ]
  },
  {
   "cell_type": "code",
   "execution_count": 21,
   "id": "757cc993-497c-4f42-b78a-b228265ae709",
   "metadata": {
    "tags": []
   },
   "outputs": [
    {
     "ename": "TypeError",
     "evalue": "unsupported operand type(s) for <<: 'float' and 'int'",
     "output_type": "error",
     "traceback": [
      "\u001b[0;31m---------------------------------------------------------------------------\u001b[0m",
      "\u001b[0;31mTypeError\u001b[0m                                 Traceback (most recent call last)",
      "Cell \u001b[0;32mIn[21], line 1\u001b[0m\n\u001b[0;32m----> 1\u001b[0m \u001b[38;5;241;43m0.1\u001b[39;49m\u001b[43m \u001b[49m\u001b[38;5;241;43m<<\u001b[39;49m\u001b[43m \u001b[49m\u001b[38;5;241;43m4\u001b[39;49m\n",
      "\u001b[0;31mTypeError\u001b[0m: unsupported operand type(s) for <<: 'float' and 'int'"
     ]
    }
   ],
   "source": [
    "0.1 << 4"
   ]
  },
  {
   "cell_type": "code",
   "execution_count": null,
   "id": "253fea3f-f545-48c4-9138-b4091e907388",
   "metadata": {},
   "outputs": [],
   "source": [
    "iron_process = input_materials >> iron_rod_factory >> reinforced_iron_plate_factory\n",
    "\n",
    "steel_inputs = iron_process & coal_process\n",
    "\n",
    "steel_process = steel_inputs >> steel_factory "
   ]
  }
 ],
 "metadata": {
  "kernelspec": {
   "display_name": "Python 3 (ipykernel)",
   "language": "python",
   "name": "python3"
  },
  "language_info": {
   "codemirror_mode": {
    "name": "ipython",
    "version": 3
   },
   "file_extension": ".py",
   "mimetype": "text/x-python",
   "name": "python",
   "nbconvert_exporter": "python",
   "pygments_lexer": "ipython3",
   "version": "3.10.13"
  }
 },
 "nbformat": 4,
 "nbformat_minor": 5
}
