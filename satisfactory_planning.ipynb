{
 "cells": [
  {
   "cell_type": "code",
   "execution_count": 413,
   "id": "89117efb-12c3-4039-95ee-ebf4a532631e",
   "metadata": {},
   "outputs": [],
   "source": [
    "import json\n",
    "import plotly\n",
    "from ipywidgets import interact, interactive, fixed, interact_manual\n",
    "from pprint import pprint\n",
    " \n",
    "def simplify_config(game_config: dict) -> dict:\n",
    "    simple_config = {}\n",
    "    for config in game_config:\n",
    "        simple_config[config[\"NativeClass\"]] = {item[\"ClassName\"]: item for item in config[\"Classes\"]}\n",
    "    return simple_config\n",
    "\n",
    "CONFIG_LOCATION = \"D:\\SteamLibrary\\steamapps\\common\\Satisfactory\\CommunityResources\\Docs\\Docs.json\"\n",
    "with open(CONFIG_LOCATION, \"r\", encoding=\"utf-16\") as f:\n",
    "    data = f.read()\n",
    "    BASE_CONFIG = simplify_config(json.loads(data))\n",
    "    \n",
    "def standardize(value: str):\n",
    "    return \"_\".join(value.replace(\"-\", \"_\").replace(\":\", \"\").split()).lower()\n",
    "\n",
    "# missing miner, rebar spreadshot\n",
    "RESOURCE_KEYS = (\"Class'/Script/FactoryGame.FGItemDescriptor'\", \n",
    "                 \"Class'/Script/FactoryGame.FGResourceDescriptor'\",\n",
    "                 \"Class'/Script/FactoryGame.FGConsumableDescriptor'\",\n",
    "                 \"Class'/Script/FactoryGame.FGItemDescriptorBiomass'\",\n",
    "                 \"Class'/Script/FactoryGame.FGAmmoTypeProjectile'\",\n",
    "                 \"Class'/Script/FactoryGame.FGItemDescriptorNuclearFuel'\",\n",
    "                 \"Class'/Script/FactoryGame.FGAmmoTypeInstantHit'\")"
   ]
  },
  {
   "cell_type": "code",
   "execution_count": 423,
   "id": "4d42f874-a728-4603-aef8-6860999b3cc5",
   "metadata": {},
   "outputs": [
    {
     "data": {
      "text/plain": [
       "188327"
      ]
     },
     "execution_count": 423,
     "metadata": {},
     "output_type": "execute_result"
    }
   ],
   "source": [
    "data.find(\"BP_ItemDescriptorPortableMiner_C\")"
   ]
  },
  {
   "cell_type": "code",
   "execution_count": 426,
   "id": "0b89bb9d-409a-4689-b475-2497e11c4962",
   "metadata": {},
   "outputs": [
    {
     "data": {
      "text/plain": [
       "4961"
      ]
     },
     "execution_count": 426,
     "metadata": {},
     "output_type": "execute_result"
    }
   ],
   "source": [
    "data[188327 + 10:].find(\"BP_ItemDescriptorPortableMiner_C\")"
   ]
  },
  {
   "cell_type": "code",
   "execution_count": 429,
   "id": "364703f4-5dfc-46e6-b5a5-5e64acf34b38",
   "metadata": {},
   "outputs": [
    {
     "data": {
      "text/plain": [
       "0"
      ]
     },
     "execution_count": 429,
     "metadata": {},
     "output_type": "execute_result"
    }
   ],
   "source": [
    "data[188327 + 10 + 4961:].find(\"BP_ItemDescriptorPortableMiner_C\")"
   ]
  },
  {
   "cell_type": "code",
   "execution_count": 428,
   "id": "df24b728-08c5-4e42-b073-6a4b65ad2feb",
   "metadata": {},
   "outputs": [
    {
     "data": {
      "text/plain": [
       "'ufacturingMultiplier\":\"1.000000\",\"mProducedIn\":\"(/Game/FactoryGame/Equipment/BuildGun/BP_BuildGun.BP_BuildGun_C)\",\"mRelevantEvents\":\"\",\"mVariablePowerConsumptionConstant\":\"0.000000\",\"mVariablePowerConsumptionFactor\":\"1.000000\"},{\"ClassName\":\"Recipe_PortableMiner_C\",\"FullName\":\"BlueprintGeneratedClass /Game/FactoryGame/Recipes/Equipment/Recipe_PortableMiner.Recipe_PortableMiner_C\",\"mDisplayName\":\"Portable Miner\",\"mIngredients\":\"((ItemClass=BlueprintGeneratedClass\\'\\\\\"/Game/FactoryGame/Resource/Parts/IronPlate/Desc_IronPlate.Desc_IronPlate_C\\\\\"\\',Amount=2),(ItemClass=BlueprintGeneratedClass\\'\\\\\"/Game/FactoryGame/Resource/Parts/IronRod/Desc_IronRod.Desc_IronRod_C\\\\\"\\',Amount=4))\",\"mProduct\":\"((ItemClass=BlueprintGeneratedClass\\'\\\\\"/Game/FactoryGame/Resource/Equipment/PortableMiner/BP_ItemDescriptorPortableMiner.BP_ItemDescriptorPortableMiner_C\\\\\"\\',Amount=1))\",\"mManufacturingMenuPriority\":\"0.000000\",\"mManufactoringDuration\":\"40.000000\",\"mManualManufacturingMultiplier\":\"1.000000\",\"mProducedIn\":\"(/Game/FactoryGame/Buildable/-Shared/WorkBench/BP_WorkshopComponent.BP_WorkshopComponent_C)\",\"mRelevantEvents\":\"\",\"mVariablePowerConsumptionConstant\":\"0.000000\",\"mVariablePowerConsumptionFactor\":\"1.000000\"},{\"ClassName\":\"Recipe_Cable_C\",\"FullName\":\"BlueprintGeneratedClass /Game/FactoryGame/Recipes/Constru'"
      ]
     },
     "execution_count": 428,
     "metadata": {},
     "output_type": "execute_result"
    }
   ],
   "source": [
    "data[188327 + 4961 - 800:188327 + 4961 + 500]"
   ]
  },
  {
   "cell_type": "code",
   "execution_count": 415,
   "id": "8e933410-e642-4af2-88df-a63d520f4819",
   "metadata": {},
   "outputs": [],
   "source": [
    "# TODO: make an intermediate config with cleaned up keys\n",
    "# material/recipe: internal_name: useful info\n",
    "import itertools\n",
    "\n",
    "def get_materials(simple_config: dict) -> list[str]:\n",
    "\n",
    "    resources = []\n",
    "    for item in itertools.chain.from_iterable((simple_config[key].values() for key in RESOURCE_KEYS)):\n",
    "        resources.append(standardize(item[\"mDisplayName\"]))\n",
    "    return resources"
   ]
  },
  {
   "cell_type": "code",
   "execution_count": 416,
   "id": "2a5db96b-cb25-461d-b247-0973bf3ae7f1",
   "metadata": {
    "tags": []
   },
   "outputs": [
    {
     "data": {
      "text/plain": [
       "{'Desc_CartridgeChaos_C': {'ClassName': 'Desc_CartridgeChaos_C',\n",
       "  'Location': '(X=0.000000,Y=0.000000,Z=0.000000)',\n",
       "  'Trail_Velocity': '7555.000000',\n",
       "  'mPlayFireEffects': 'True',\n",
       "  'AmmoFiredDelegate': '()',\n",
       "  'mFiringTransform': '(Rotation=(X=-0.007296,Y=-0.012003,Z=-0.519339,W=0.854453),Translation=(X=1763.678467,Y=8088.381836,Z=1104.262939),Scale3D=(X=1.000000,Y=1.000000,Z=1.000000))',\n",
       "  'mFiringDirection': '(X=0.000000,Y=0.000000,Z=0.000000)',\n",
       "  'mMagazineSize': '75',\n",
       "  'mMaxAmmoEffectiveRange': '10000.000000',\n",
       "  'mReloadTimeMultiplier': '1.000000',\n",
       "  'mFireRate': '0.400000',\n",
       "  'mFiringTransformIgnoresDispersion': 'False',\n",
       "  'mDispersionFireRateMultiplier': '5.000000',\n",
       "  'mDispersionPerShot': '0.200000',\n",
       "  'mRestingDispersion': '0.000000',\n",
       "  'mFiringDispersion': '5.000000',\n",
       "  'mDispersionRecoveryTime': '2.500000',\n",
       "  'mHasBeenInitialized': 'True',\n",
       "  'mWeaponDamageMultiplier': '1.000000',\n",
       "  'mMagazineMeshMaterials': '((MaterialInterface=MaterialInstanceConstant\\'\"/Game/FactoryGame/Equipment/Rifle/Material/MI_RifleMagDrop_RapidAmmo_01.MI_RifleMagDrop_RapidAmmo_01\"\\',MaterialSlotName=\"Rifle\",ImportedMaterialSlotName=\"Rifle\",UVChannelData=(bInitialized=True,LocalUVDensities[0]=103.676422)))',\n",
       "  'mDamageTypesOnImpact': '(BP_PointDamageType_Physical_C\\'\"/Game/FactoryGame/Equipment/Rifle/Ammo/Desc_CartridgeChaos.Default__Desc_CartridgeChaos_C:BP_PointDamageType_Physical_C_0\"\\')',\n",
       "  'mAmmoDamageFalloff': '(EditorCurveData=(DefaultValue=340282346638528859811704183484516925440.000000,PreInfinityExtrap=RCCE_Constant,PostInfinityExtrap=RCCE_Constant),ExternalCurve=CurveFloat\\'\"/Game/FactoryGame/Resource/Parts/CartridgeStandard/LinearDamageFalloff.LinearDamageFalloff\"\\')',\n",
       "  'mMuzzleFlashScale': '(X=3.000000,Y=1.000000,Z=1.000000)',\n",
       "  'mFiringSounds': '(AkAudioEvent\\'\"/Game/WwiseAudio/Events/Equipment/Rifle/Play_Rifle_ChaosAmmo_Shot.Play_Rifle_ChaosAmmo_Shot\"\\')',\n",
       "  'mAmmoColor': '(R=1.000000,G=1.000000,B=1.000000,A=1.000000)',\n",
       "  'mAmmoScale': '1.000000',\n",
       "  'mAmmoTickFunction': '(bCanEverTick=True,bStartWithTickEnabled=True,bAllowTickOnDedicatedServer=True)',\n",
       "  'mDisplayName': 'Turbo Rifle Ammo',\n",
       "  'mDescription': 'Lightweight, compact, and volatile. These rounds provide extreme capacity and fire rates, at the cost of accuracy.',\n",
       "  'mAbbreviatedDisplayName': 'TA',\n",
       "  'mStackSize': 'SS_HUGE',\n",
       "  'mCanBeDiscarded': 'True',\n",
       "  'mRememberPickUp': 'False',\n",
       "  'mEnergyValue': '0.000000',\n",
       "  'mRadioactiveDecay': '0.000000',\n",
       "  'mForm': 'RF_SOLID',\n",
       "  'mSmallIcon': 'Texture2D /Game/FactoryGame/Equipment/Rifle/UI/IconDesc_TurboRifle_64.IconDesc_TurboRifle_64',\n",
       "  'mPersistentBigIcon': 'Texture2D /Game/FactoryGame/Equipment/Rifle/UI/IconDesc_TurboRifle_256.IconDesc_TurboRifle_256',\n",
       "  'mCrosshairMaterial': '/Game/FactoryGame/Interface/UI/Material/Crosshairs/MI_UI_Crosshair_RifleTurbo.MI_UI_Crosshair_RifleTurbo',\n",
       "  'mDescriptorStatBars': '((Value=1))',\n",
       "  'mSubCategories': '',\n",
       "  'mMenuPriority': '303.000000',\n",
       "  'mFluidColor': '(B=0,G=0,R=0,A=0)',\n",
       "  'mGasColor': '(B=0,G=0,R=0,A=0)',\n",
       "  'mCompatibleItemDescriptors': '((CompatibleItemType=CIT_WEAPON,CompatibleItemDescriptors=(BlueprintGeneratedClass\\'\"/Game/FactoryGame/Resource/Equipment/Rifle/BP_EquipmentDescriptorRifle.BP_EquipmentDescriptorRifle_C\"\\')))',\n",
       "  'mClassToScanFor': 'None',\n",
       "  'mScannableType': 'RTWOT_Default',\n",
       "  'mShouldOverrideScannerDisplayText': 'False',\n",
       "  'mScannerDisplayText': '',\n",
       "  'mScannerLightColor': '(B=0,G=0,R=0,A=0)',\n",
       "  'mResourceSinkPoints': '120'},\n",
       " 'Desc_CartridgeStandard_C': {'ClassName': 'Desc_CartridgeStandard_C',\n",
       "  'mPlayFireEffects': 'True',\n",
       "  'AmmoFiredDelegate': '()',\n",
       "  'mFiringTransform': '(Rotation=(X=-0.007296,Y=-0.012003,Z=-0.519339,W=0.854453),Translation=(X=1763.678467,Y=8088.381836,Z=1104.262939),Scale3D=(X=1.000000,Y=1.000000,Z=1.000000))',\n",
       "  'mFiringDirection': '(X=0.000000,Y=0.000000,Z=0.000000)',\n",
       "  'mMagazineSize': '15',\n",
       "  'mMaxAmmoEffectiveRange': '10000.000000',\n",
       "  'mReloadTimeMultiplier': '1.000000',\n",
       "  'mFireRate': '0.200000',\n",
       "  'mFiringTransformIgnoresDispersion': 'False',\n",
       "  'mDispersionFireRateMultiplier': '1.000000',\n",
       "  'mDispersionPerShot': '0.200000',\n",
       "  'mRestingDispersion': '0.000000',\n",
       "  'mFiringDispersion': '3.000000',\n",
       "  'mDispersionRecoveryTime': '1.500000',\n",
       "  'mHasBeenInitialized': 'True',\n",
       "  'mWeaponDamageMultiplier': '1.000000',\n",
       "  'mMagazineMeshMaterials': '((MaterialInterface=MaterialInstanceConstant\\'\"/Game/FactoryGame/Equipment/Rifle/Material/MI_RifleMagDrop_RegularAmmo_01.MI_RifleMagDrop_RegularAmmo_01\"\\',MaterialSlotName=\"Rifle\",ImportedMaterialSlotName=\"Rifle\",UVChannelData=(bInitialized=True,LocalUVDensities[0]=103.676422)))',\n",
       "  'mDamageTypesOnImpact': '(BP_PointDamageType_Physical_C\\'\"/Game/FactoryGame/Resource/Parts/CartridgeStandard/Desc_CartridgeStandard.Default__Desc_CartridgeStandard_C:BP_PointDamageType_Physical_C_0\"\\')',\n",
       "  'mAmmoDamageFalloff': '(EditorCurveData=(DefaultValue=340282346638528859811704183484516925440.000000,PreInfinityExtrap=RCCE_Constant,PostInfinityExtrap=RCCE_Constant),ExternalCurve=CurveFloat\\'\"/Game/FactoryGame/Resource/Parts/CartridgeStandard/LinearDamageFalloff.LinearDamageFalloff\"\\')',\n",
       "  'mMuzzleFlashScale': '(X=3.000000,Y=1.000000,Z=1.000000)',\n",
       "  'mFiringSounds': '(AkAudioEvent\\'\"/Game/WwiseAudio/Events/Equipment/Rifle/Play_E_Rifle_GunShot.Play_E_Rifle_GunShot\"\\')',\n",
       "  'mAmmoColor': '(R=1.000000,G=1.000000,B=1.000000,A=1.000000)',\n",
       "  'mAmmoScale': '1.000000',\n",
       "  'mAmmoTickFunction': '(bCanEverTick=True,bStartWithTickEnabled=True,bAllowTickOnDedicatedServer=True)',\n",
       "  'mDisplayName': 'Rifle Ammo',\n",
       "  'mDescription': 'Standard issue Rifle ammunition, useful for establishing dominance.',\n",
       "  'mAbbreviatedDisplayName': 'RA',\n",
       "  'mStackSize': 'SS_HUGE',\n",
       "  'mCanBeDiscarded': 'True',\n",
       "  'mRememberPickUp': 'False',\n",
       "  'mEnergyValue': '0.000000',\n",
       "  'mRadioactiveDecay': '0.000000',\n",
       "  'mForm': 'RF_SOLID',\n",
       "  'mSmallIcon': 'Texture2D /Game/FactoryGame/Equipment/Rifle/UI/IconDesc_Rifle_64.IconDesc_Rifle_64',\n",
       "  'mPersistentBigIcon': 'Texture2D /Game/FactoryGame/Equipment/Rifle/UI/IconDesc_Rifle_256.IconDesc_Rifle_256',\n",
       "  'mCrosshairMaterial': '/Game/FactoryGame/Interface/UI/Material/Crosshairs/MI_UI_Crosshair_Rifle.MI_UI_Crosshair_Rifle',\n",
       "  'mDescriptorStatBars': '((Value=2))',\n",
       "  'mSubCategories': '',\n",
       "  'mMenuPriority': '301.000000',\n",
       "  'mFluidColor': '(B=0,G=0,R=0,A=0)',\n",
       "  'mGasColor': '(B=0,G=0,R=0,A=0)',\n",
       "  'mCompatibleItemDescriptors': '((CompatibleItemType=CIT_WEAPON,CompatibleItemDescriptors=(BlueprintGeneratedClass\\'\"/Game/FactoryGame/Resource/Equipment/Rifle/BP_EquipmentDescriptorRifle.BP_EquipmentDescriptorRifle_C\"\\')))',\n",
       "  'mClassToScanFor': 'None',\n",
       "  'mScannableType': 'RTWOT_Default',\n",
       "  'mShouldOverrideScannerDisplayText': 'False',\n",
       "  'mScannerDisplayText': '',\n",
       "  'mScannerLightColor': '(B=0,G=0,R=0,A=0)',\n",
       "  'mResourceSinkPoints': '25'}}"
      ]
     },
     "execution_count": 416,
     "metadata": {},
     "output_type": "execute_result"
    }
   ],
   "source": [
    "BASE_CONFIG[\"Class'/Script/FactoryGame.FGAmmoTypeInstantHit'\"]"
   ]
  },
  {
   "cell_type": "code",
   "execution_count": 565,
   "id": "d6fe6b91-475b-41e9-890a-9b62fd44d7ab",
   "metadata": {},
   "outputs": [],
   "source": [
    "from abc import ABC\n",
    "from dataclasses import dataclass, fields, make_dataclass\n",
    "from enum import Enum, auto\n",
    "from collections import deque\n",
    "from typing import Optional\n",
    "from itertools import zip_longest\n",
    "\n",
    "# TODO: how much of this can be expressed/solved with matrices?\n",
    "\n",
    "class ConfigurationError(Exception):\n",
    "    pass\n",
    "\n",
    "class __MaterialSpec:\n",
    "    \"\"\"\n",
    "    TODO: give this a widget\n",
    "    \"\"\"    \n",
    "    def __add__(self, other):\n",
    "        if not isinstance(other, type(self)):\n",
    "            return NotImplemented\n",
    "        \n",
    "        result = {}\n",
    "        for name, value in self:\n",
    "            result[name] = value + getattr(other, name)\n",
    "        return type(self)(**result)\n",
    "    \n",
    "    def __sub__(self, other):\n",
    "        if not isinstance(other, type(self)):\n",
    "            return NotImplemented\n",
    "        \n",
    "        result = {}\n",
    "        for name, value in self:\n",
    "            result[name] = value - getattr(other, name)\n",
    "        return type(self)(**result)\n",
    "    \n",
    "    def __mul__(self, scalar):\n",
    "        result = {}\n",
    "        for name, value in self:\n",
    "            result[name] = value * scalar \n",
    "        return type(self)(**result)\n",
    "    \n",
    "    def __iter__(self):\n",
    "        for f in fields(self):\n",
    "            yield f.name, getattr(self, f.name)\n",
    "                       \n",
    "    def __or__(self, other):\n",
    "        if isinstance(other, type(self)):\n",
    "            return type(self)(**{name: value for (name, value), (_, matched_value) in zip(self, other) if matched_value > 0})\n",
    "        elif isinstance(other, Material):\n",
    "            return type(self)(**{other.name: getattr(self, other.name)})\n",
    "        elif isinstance(other, str):\n",
    "            return type(self)(**{other: getattr(self, other)})\n",
    "        \n",
    "        return NotImplemented\n",
    "    \n",
    "    def __str__(self):\n",
    "        return \"\\n\".join(f\"{name}: {value}\" for name, value in self if value > 0)\n",
    "\n",
    "MaterialSpec = make_dataclass(\"MaterialSpec\", [(mat, float, 0) for mat in get_materials(BASE_CONFIG)], bases=(__MaterialSpec,))\n",
    "    \n",
    "class Recipe:\n",
    "    def __init__(self, ingredients: MaterialSpec, products: MaterialSpec):\n",
    "        self.ingredients = ingredients\n",
    "        self.products = products\n",
    "        \n",
    "    def __add__(self, material_spec: MaterialSpec):\n",
    "        return material_spec + self.products - self.ingredients\n",
    "    \n",
    "    def __radd__(self, material_spec: MaterialSpec):\n",
    "        return self + material_spec\n",
    "    \n",
    "    def __rsub__(self, material_spec: MaterialSpec):\n",
    "        return material_spec + self.ingredients - self.products\n",
    "    \n",
    "    def __mul__(self, scalar: float):\n",
    "        \"\"\"\n",
    "        Scale up this recipe\n",
    "        \"\"\"\n",
    "        return type(self)(self.ingredients * scalar, self.products * scalar)\n",
    "    \n",
    "    def __rtruediv__(self, material_spec: MaterialSpec):\n",
    "        \"\"\"\n",
    "        Get the number of iterations of this recipe that can be produced from the given material_spec\n",
    "        \"\"\"\n",
    "        return min(getattr(material_spec, name) / value for name, value in self.ingredients if value > 0)\n",
    "    \n",
    "    def __str__(self):\n",
    "        ingredients = \" \".join(str(self.ingredients).splitlines())\n",
    "        products = \" \".join(str(self.products).splitlines())\n",
    "                \n",
    "        return f\"{ingredients} >> {products}\"\n",
    "        \n",
    "        \n",
    "class Machine(ABC):\n",
    "    available_recipes: list[Recipe]\n",
    "    input_producers: dict[\"Self\", Material]\n",
    "    output_consumers: dict[\"Self\", Material]\n",
    "    \n",
    "    power_consumption: float\n",
    "    inputs: int\n",
    "    outputs: int\n",
    "    \n",
    "    def __init__(self, recipe: Recipe):\n",
    "        inputs = sum(material > 0 for _, material in recipe.ingredients)\n",
    "        outputs = sum(material > 0 for _, material in recipe.products)\n",
    "        self.input_producers = {}\n",
    "        self.output_consumers = {}\n",
    "        \n",
    "        if inputs != self.inputs or outputs != self.outputs:\n",
    "            raise ConfigurationError(f\"{self.__class__} must have {self.inputs} inputs and {self.outputs} outputs\")\n",
    "            \n",
    "        self.recipe = recipe\n",
    "        \n",
    "    def __init_subclass__(cls, *args, **kwargs):\n",
    "        super().__init_subclass__(*args, **kwargs)\n",
    "        cls.available_recipes = []\n",
    "        \n",
    "    def __rshift__(self, material_spec: MaterialSpec):\n",
    "        \"\"\"\n",
    "        Solve for inputs\n",
    "        Recipe >> MaterialSpec\n",
    "        \"\"\"\n",
    "        # TODO: what should the inverse of div be?\n",
    "        scale = max(getattr(material_spec, name) / value for name, value in self.recipe.products if value > 0)\n",
    "        scaled = self.recipe * scale\n",
    "        return material_spec - scaled\n",
    "    \n",
    "    def __lshift__(self, material_spec: MaterialSpec):\n",
    "        \"\"\"\n",
    "        Solve for outputs\n",
    "        Recipe << MaterialSpec\n",
    "        \"\"\"\n",
    "        scale = material_spec / self.recipe\n",
    "        scaled = self.recipe * scale\n",
    "        return material_spec + scaled\n",
    "        \n",
    "    def __rrshift__(self, material_spec: MaterialSpec):\n",
    "        \"\"\"\n",
    "        Solve for inputs\n",
    "        MaterialSpec << Recipe\n",
    "        \"\"\"\n",
    "        return self << material_spec\n",
    "    \n",
    "    def __rlshift__(self, material_spec: MaterialSpec):\n",
    "        \"\"\"\n",
    "        Solve for outputs\n",
    "        MaterialSpec >> Recipe\n",
    "        \"\"\"\n",
    "        return self >> material_spec\n",
    "        \n",
    "    def has_input(self, material: Material):\n",
    "        return getattr(self.recipe.ingredients, material) > 0\n",
    "    \n",
    "    def has_output(self, material: Material):\n",
    "        return getattr(self.recipe.products, material) > 0\n",
    "    \n",
    "    def bind(self, other: \"Machine\", material: Material):\n",
    "        \"\"\"\n",
    "        Verify that there is a matching input-output pair for these two machines\n",
    "        \n",
    "        # TODO: can only handle binding one output to a given machine\n",
    "        \"\"\"\n",
    "        if self.has_output(material) and other.has_input(material):\n",
    "            other.input_producers[self] = material\n",
    "            self.output_consumers[other] = material\n",
    "        elif self.has_input(material) and other.has_output(material):\n",
    "            self.input_producers[other] = material\n",
    "            other.output_consumers[self] = material\n",
    "        else:\n",
    "            raise ConfigurationError(f\"{self} and {other} do not have a matching input and output.\")\n",
    "            \n",
    "        return self\n",
    "    \n",
    "    \n",
    "class ProcessSpec:\n",
    "    \"\"\"\n",
    "    TODO: power\n",
    "    \"\"\"\n",
    "    scale: int\n",
    "    power: float = 0\n",
    "    process_root: Machine\n",
    "    input_materials: MaterialSpec\n",
    "    output_materials: MaterialSpec\n",
    "    surplus_materials: MaterialSpec\n",
    "    process_registry = {}\n",
    "    \n",
    "    def __init__(self, process_root: Machine, target_output: MaterialSpec=None):\n",
    "        # TODO: scale process to desired output\n",
    "        self.process_root = process_root\n",
    "        \n",
    "        if len(self.process_root.output_consumers) > 0:\n",
    "            required_output = sum((self.process_registry[output_consumer].input_materials | bound_material for output_consumer, bound_material in process_root.output_consumers.items()), MaterialSpec())\n",
    "            self.input_materials = (process_root >> required_output) | process_root.recipe.ingredients\n",
    "        else:\n",
    "            required_output = process_root.recipe.products if target_output is None else target_output | process_root.recipe.products\n",
    "            self.input_materials = process_root >> required_output\n",
    "            self.process_registry[process_root] = self\n",
    "            \n",
    "        for subprocess in process_root.input_producers:\n",
    "            if subprocess not in self.process_registry:\n",
    "                self.process_registry[subprocess] = type(self)(subprocess)\n",
    "             \n",
    "        raw_output = self.input_materials >> process_root\n",
    "        self._required = required_output # for debugging\n",
    "        self._raw = raw_output\n",
    "        self.output_materials = raw_output | required_output\n",
    "        self.surplus_materials = raw_output - required_output\n",
    "        self.scale = self.input_materials / process_root.recipe\n",
    "        \n",
    "    def __str__(self):\n",
    "        return (f\"Type    |  {self.process_root.__class__.__name__}<br>\"\n",
    "                f\"Recipe  |  {self.process_root.recipe}<br>\"\n",
    "                f\"Scale   |  {self.scale}<br>\")\n",
    "\n",
    "\n",
    "class VariableOutputMachine(Machine):\n",
    "        \n",
    "    def __init__(self, recipe: Recipe):\n",
    "        self.outputs = min(sum(material > 0 for _, material in recipe.products), self.outputs)\n",
    "        \n",
    "        super().__init__(recipe)\n",
    "        \n",
    "class VariableInputMachine(Machine):\n",
    "        \n",
    "    def __init__(self, recipe: Recipe):\n",
    "        self.inputs = min(sum(material > 0 for _, material in recipe.ingredients), self.inputs)\n",
    "        \n",
    "        super().__init__(recipe)\n",
    "        \n",
    "# class Extractor(Machine):\n",
    "#     inputs = 0\n",
    "#     outputs = 1                                                                                  \n",
    "    \n",
    "class Constructor(Machine):\n",
    "    power_consumption = 300\n",
    "    inputs = 1\n",
    "    outputs = 1\n",
    "    \n",
    "class Assembler(Machine):\n",
    "    power_consumption = 300\n",
    "    inputs = 2\n",
    "    outputs = 1\n",
    "    \n",
    "class Manufacturer(VariableInputMachine):\n",
    "    power_consumption = 300\n",
    "    inputs = 4\n",
    "    outputs = 1\n",
    "    \n",
    "class Smelter(Machine):\n",
    "    power_consumption = 300\n",
    "    inputs = 1\n",
    "    outputs = 1\n",
    "    \n",
    "class Foundry(Machine):\n",
    "    power_consumption = 300 \n",
    "    inputs = 2\n",
    "    outputs = 1\n",
    "    \n",
    "class Packager(VariableOutputMachine, VariableInputMachine):\n",
    "    power_consumption = 300\n",
    "    inputs = 2\n",
    "    outputs = 2\n",
    "    \n",
    "class Refinery(VariableOutputMachine, VariableInputMachine):\n",
    "    power_consumption = 300\n",
    "    inputs = 2\n",
    "    outputs = 2\n",
    "    \n",
    "class Aggregator(VariableOutputMachine, VariableInputMachine):\n",
    "    \"\"\"\n",
    "    Special class to join disjoint trees so that every process can be expressed as a tree, regardless of desired outputs. Can be used, for example, to represent a factory floor as a 'Machine'\n",
    "    \"\"\"\n",
    "    pass\n",
    "\n",
    "    \n",
    "# class Blender(Machine):\n",
    "#     pass\n",
    "\n",
    "\n",
    "# TODO: merge/split machines producing the same item\n",
    "# TODO: dummy machine to create tree from disjoint processes\n",
    "\n",
    "# def optimize_recipe(recipe: Recipe, weights: MaterialSpec):\n",
    "#     # TODO: consider power\n",
    "#     # TODO: this will likely be most efficient with pre-processing of the costs of various sub-processes\n",
    "#     pass"
   ]
  },
  {
   "cell_type": "code",
   "execution_count": 566,
   "id": "6cc2276c-b062-47da-941b-ad5457cbd63f",
   "metadata": {},
   "outputs": [],
   "source": [
    "import re\n",
    "\n",
    "machine_mapping = {\"/Game/FactoryGame/Buildable/Factory/AssemblerMk1/Build_AssemblerMk1.Build_AssemblerMk1_C\": Assembler, \n",
    " \"/Game/FactoryGame/Buildable/Factory/ManufacturerMk1/Build_ManufacturerMk1.Build_ManufacturerMk1_C\": Manufacturer, \n",
    " \"/Game/FactoryGame/Buildable/Factory/SmelterMk1/Build_SmelterMk1.Build_SmelterMk1_C\": Smelter,\n",
    " \"/Game/FactoryGame/Buildable/Factory/ConstructorMk1/Build_ConstructorMk1.Build_ConstructorMk1_C\": Constructor, \n",
    " \"/Game/FactoryGame/Buildable/Factory/FoundryMk1/Build_FoundryMk1.Build_FoundryMk1_C\": Foundry,\n",
    " # \"/Game/FactoryGame/Buildable/Factory/HadronCollider/Build_HadronCollider.Build_HadronCollider_C\",\n",
    " \"/Game/FactoryGame/Buildable/Factory/Packager/Build_Packager.Build_Packager_C\": Packager,\n",
    " \"/Game/FactoryGame/Buildable/Factory/OilRefinery/Build_OilRefinery.Build_OilRefinery_C\": Refinery}\n",
    "\n",
    "def make_recipes(simple_config: dict, machine_mapping: dict[str, Machine]) -> list:\n",
    "    ingredients_pattern = r\"\\(ItemClass=.*?\\.(\\w+).*?,Amount=(\\d+)\\)\"\n",
    "    machines_pattern = fr\"({'|'.join(re.escape(m) for m in machine_mapping.keys())})\"\n",
    "    known_crafters = (\"Smelter\", \"Manufacturer\", \"Assembler\", \"Packager\", \"Refinery\", \"Collider\", \"Foundry\", \"Blender\", \"Constructor\")\n",
    "    \n",
    "    machines = {}\n",
    "    material_config = {}\n",
    "    for key in RESOURCE_KEYS:\n",
    "        material_config.update(simple_config[key])\n",
    "\n",
    "    for config in simple_config[\"Class'/Script/FactoryGame.FGRecipe'\"].values():\n",
    "        machine = re.search(machines_pattern, config[\"mProducedIn\"])\n",
    "        \n",
    "        if machine is None:\n",
    "            continue\n",
    "\n",
    "        machine = machine_mapping[machine[0]]\n",
    "            \n",
    "        # TODO: convert resources to friendly names\n",
    "        try:\n",
    "            ingredients = {standardize(material_config[name][\"mDisplayName\"]): int(amt) for name, amt in re.findall(ingredients_pattern, config[\"mIngredients\"])}\n",
    "            products = {standardize(material_config[name][\"mDisplayName\"]): int(amt) for name, amt in re.findall(ingredients_pattern, config[\"mProduct\"])}\n",
    "            machines[standardize(config[\"mDisplayName\"])] = machine(Recipe(MaterialSpec(**ingredients), MaterialSpec(**products)))\n",
    "        except Exception as e:\n",
    "            print(f\"missing: {e}\")\n",
    "            print(config)\n",
    "            print()\n",
    "        \n",
    "    return machines"
   ]
  },
  {
   "cell_type": "code",
   "execution_count": 567,
   "id": "a8e88b4a-61a5-4db8-bb16-9ed1bc454bec",
   "metadata": {},
   "outputs": [
    {
     "name": "stdout",
     "output_type": "stream",
     "text": [
      "missing: 'BP_ItemDescriptorPortableMiner_C'\n",
      "{'ClassName': 'Recipe_Alternate_AutomatedMiner_C', 'FullName': 'BlueprintGeneratedClass /Game/FactoryGame/Recipes/AlternateRecipes/New_Update4/Recipe_Alternate_AutomatedMiner.Recipe_Alternate_AutomatedMiner_C', 'mDisplayName': 'Alternate: Automated Miner', 'mIngredients': '((ItemClass=BlueprintGeneratedClass\\'\"/Game/FactoryGame/Resource/Parts/Motor/Desc_Motor.Desc_Motor_C\"\\',Amount=1),(ItemClass=BlueprintGeneratedClass\\'\"/Game/FactoryGame/Resource/Parts/SteelPipe/Desc_SteelPipe.Desc_SteelPipe_C\"\\',Amount=4),(ItemClass=BlueprintGeneratedClass\\'\"/Game/FactoryGame/Resource/Parts/IronRod/Desc_IronRod.Desc_IronRod_C\"\\',Amount=4),(ItemClass=BlueprintGeneratedClass\\'\"/Game/FactoryGame/Resource/Parts/IronPlate/Desc_IronPlate.Desc_IronPlate_C\"\\',Amount=2))', 'mProduct': '((ItemClass=BlueprintGeneratedClass\\'\"/Game/FactoryGame/Resource/Equipment/PortableMiner/BP_ItemDescriptorPortableMiner.BP_ItemDescriptorPortableMiner_C\"\\',Amount=1))', 'mManufacturingMenuPriority': '0.000000', 'mManufactoringDuration': '60.000000', 'mManualManufacturingMultiplier': '1.000000', 'mProducedIn': '(/Game/FactoryGame/Buildable/Factory/ManufacturerMk1/Build_ManufacturerMk1.Build_ManufacturerMk1_C)', 'mRelevantEvents': '', 'mVariablePowerConsumptionConstant': '0.000000', 'mVariablePowerConsumptionFactor': '1.000000'}\n",
      "\n",
      "missing: 'Desc_Rebar_Spreadshot_C'\n",
      "{'ClassName': 'Recipe_Rebar_Spreadshot_C', 'FullName': 'BlueprintGeneratedClass /Game/FactoryGame/Equipment/RebarGun/Ammo/Recipe_Rebar_Spreadshot.Recipe_Rebar_Spreadshot_C', 'mDisplayName': 'Shatter Rebar', 'mIngredients': '((ItemClass=BlueprintGeneratedClass\\'\"/Game/FactoryGame/Resource/Parts/SpikedRebar/Desc_SpikedRebar.Desc_SpikedRebar_C\"\\',Amount=2),(ItemClass=BlueprintGeneratedClass\\'\"/Game/FactoryGame/Resource/Parts/QuartzCrystal/Desc_QuartzCrystal.Desc_QuartzCrystal_C\"\\',Amount=3))', 'mProduct': '((ItemClass=BlueprintGeneratedClass\\'\"/Game/FactoryGame/Equipment/RebarGun/Ammo/Desc_Rebar_Spreadshot.Desc_Rebar_Spreadshot_C\"\\',Amount=1))', 'mManufacturingMenuPriority': '103.000000', 'mManufactoringDuration': '12.000000', 'mManualManufacturingMultiplier': '1.000000', 'mProducedIn': '(/Game/FactoryGame/Buildable/Factory/AssemblerMk1/Build_AssemblerMk1.Build_AssemblerMk1_C,/Game/FactoryGame/Buildable/-Shared/WorkBench/BP_WorkshopComponent.BP_WorkshopComponent_C)', 'mRelevantEvents': '', 'mVariablePowerConsumptionConstant': '0.000000', 'mVariablePowerConsumptionFactor': '1.000000'}\n",
      "\n"
     ]
    },
    {
     "data": {
      "text/plain": [
       "{'actual_snow': <__main__.Constructor at 0x2d4555d1190>,\n",
       " 'adaptive_control_unit': <__main__.Manufacturer at 0x2d454b639d0>,\n",
       " 'ai_limiter': <__main__.Assembler at 0x2d454b550d0>,\n",
       " 'alclad_aluminum_sheet': <__main__.Assembler at 0x2d456178670>,\n",
       " 'alternate_adhered_iron_plate': <__main__.Assembler at 0x2d455737e50>,\n",
       " 'alternate_alclad_casing': <__main__.Assembler at 0x2d459a85910>,\n",
       " 'alternate_automated_speed_wiring': <__main__.Manufacturer at 0x2d454b639a0>,\n",
       " 'alternate_biocoal': <__main__.Constructor at 0x2d4561d6940>,\n",
       " 'alternate_bolted_frame': <__main__.Assembler at 0x2d454ad89d0>,\n",
       " 'alternate_bolted_iron_plate': <__main__.Assembler at 0x2d4556e7b20>,\n",
       " 'alternate_cast_screw': <__main__.Constructor at 0x2d4555d7a30>,\n",
       " 'alternate_caterium_circuit_board': <__main__.Assembler at 0x2d455642070>,\n",
       " 'alternate_caterium_computer': <__main__.Manufacturer at 0x2d455642ac0>,\n",
       " 'alternate_caterium_wire': <__main__.Constructor at 0x2d454a558e0>,\n",
       " 'alternate_charcoal': <__main__.Constructor at 0x2d455399a30>,\n",
       " 'alternate_cheap_silica': <__main__.Assembler at 0x2d4555d7a00>,\n",
       " 'alternate_classic_battery': <__main__.Manufacturer at 0x2d455b886d0>,\n",
       " 'alternate_coated_cable': <__main__.Refinery at 0x2d456187820>,\n",
       " 'alternate_coated_iron_canister': <__main__.Assembler at 0x2d454c92340>,\n",
       " 'alternate_coated_iron_plate': <__main__.Assembler at 0x2d454b49c40>,\n",
       " 'alternate_coke_steel_ingot': <__main__.Foundry at 0x2d454b49b20>,\n",
       " 'alternate_compacted_coal': <__main__.Assembler at 0x2d4561d6370>,\n",
       " 'alternate_compacted_steel_ingot': <__main__.Foundry at 0x2d4556d8640>,\n",
       " 'alternate_copper_alloy_ingot': <__main__.Foundry at 0x2d454b49850>,\n",
       " 'alternate_copper_rotor': <__main__.Assembler at 0x2d454b490a0>,\n",
       " 'alternate_crystal_beacon': <__main__.Manufacturer at 0x2d455642c40>,\n",
       " 'alternate_crystal_computer': <__main__.Assembler at 0x2d4556d8f10>,\n",
       " 'alternate_diluted_packaged_fuel': <__main__.Refinery at 0x2d454b49ac0>,\n",
       " 'alternate_electric_motor': <__main__.Assembler at 0x2d459a851f0>,\n",
       " 'alternate_electrode___aluminum_scrap': <__main__.Refinery at 0x2d454b49be0>,\n",
       " 'alternate_electrode_circuit_board': <__main__.Assembler at 0x2d455649b80>,\n",
       " 'alternate_electromagnetic_connection_rod': <__main__.Assembler at 0x2d4556d8fa0>,\n",
       " 'alternate_encased_industrial_pipe': <__main__.Assembler at 0x2d4556e72e0>,\n",
       " 'alternate_fine_black_powder': <__main__.Assembler at 0x2d4556d8160>,\n",
       " 'alternate_fine_concrete': <__main__.Assembler at 0x2d4556d82e0>,\n",
       " 'alternate_flexible_framework': <__main__.Manufacturer at 0x2d45565e910>,\n",
       " 'alternate_fused_quickwire': <__main__.Assembler at 0x2d4556e7880>,\n",
       " 'alternate_fused_wire': <__main__.Assembler at 0x2d45565e8b0>,\n",
       " 'alternate_heat_exchanger': <__main__.Assembler at 0x2d4556d8a00>,\n",
       " 'alternate_heavy_encased_frame': <__main__.Manufacturer at 0x2d4556d8460>,\n",
       " 'alternate_heavy_flexible_frame': <__main__.Manufacturer at 0x2d45565e730>,\n",
       " 'alternate_heavy_oil_residue': <__main__.Refinery at 0x2d454b63b20>,\n",
       " 'alternate_infused_uranium_cell': <__main__.Manufacturer at 0x2d454a55c70>,\n",
       " 'alternate_insulated_cable': <__main__.Assembler at 0x2d455642b50>,\n",
       " 'alternate_insulated_crystal_oscillator': <__main__.Manufacturer at 0x2d4556d8550>,\n",
       " 'alternate_iron_alloy_ingot': <__main__.Foundry at 0x2d4556d8cd0>,\n",
       " 'alternate_iron_wire': <__main__.Constructor at 0x2d454a55ac0>,\n",
       " 'alternate_oc_supercomputer': <__main__.Assembler at 0x2d45573a6d0>,\n",
       " 'alternate_plastic_smart_plating': <__main__.Manufacturer at 0x2d454b55d30>,\n",
       " 'alternate_plutonium_fuel_unit': <__main__.Assembler at 0x2d45573a940>,\n",
       " 'alternate_polyester_fabric': <__main__.Refinery at 0x2d455bd1280>,\n",
       " 'alternate_polymer_resin': <__main__.Refinery at 0x2d454b55bb0>,\n",
       " 'alternate_pure_aluminum_ingot': <__main__.Smelter at 0x2d454b55790>,\n",
       " 'alternate_pure_caterium_ingot': <__main__.Refinery at 0x2d454b55b20>,\n",
       " 'alternate_pure_copper_ingot': <__main__.Refinery at 0x2d454b557f0>,\n",
       " 'alternate_pure_iron_ingot': <__main__.Refinery at 0x2d454b55340>,\n",
       " 'alternate_pure_quartz_crystal': <__main__.Refinery at 0x2d454b555b0>,\n",
       " 'alternate_quickwire_cable': <__main__.Assembler at 0x2d455642850>,\n",
       " 'alternate_quickwire_stator': <__main__.Assembler at 0x2d4555d7070>,\n",
       " 'alternate_radio_connection_unit': <__main__.Manufacturer at 0x2d4556e7400>,\n",
       " 'alternate_radio_control_system': <__main__.Manufacturer at 0x2d45573a880>,\n",
       " 'alternate_recycled_plastic': <__main__.Refinery at 0x2d4556e7640>,\n",
       " 'alternate_recycled_rubber': <__main__.Refinery at 0x2d454b55520>,\n",
       " 'alternate_rigour_motor': <__main__.Manufacturer at 0x2d4556e7fa0>,\n",
       " 'alternate_rubber_concrete': <__main__.Assembler at 0x2d454b55370>,\n",
       " 'alternate_silicon_circuit_board': <__main__.Assembler at 0x2d455642460>,\n",
       " 'alternate_silicon_high_speed_connector': <__main__.Manufacturer at 0x2d4556d80d0>,\n",
       " 'alternate_sloppy_alumina': <__main__.Refinery at 0x2d45573a250>,\n",
       " 'alternate_solid_steel_ingot': <__main__.Foundry at 0x2d4556d8ac0>,\n",
       " 'alternate_steamed_copper_sheet': <__main__.Refinery at 0x2d454b55820>,\n",
       " 'alternate_steel_canister': <__main__.Constructor at 0x2d459c89e50>,\n",
       " 'alternate_steel_coated_plate': <__main__.Assembler at 0x2d4594898b0>,\n",
       " 'alternate_steel_rod': <__main__.Constructor at 0x2d459c82340>,\n",
       " 'alternate_steel_rotor': <__main__.Assembler at 0x2d4555d7ca0>,\n",
       " 'alternate_steel_screw': <__main__.Constructor at 0x2d4555d7c40>,\n",
       " 'alternate_steeled_frame': <__main__.Assembler at 0x2d4556d83d0>,\n",
       " 'alternate_stitched_iron_plate': <__main__.Assembler at 0x2d4556e7700>,\n",
       " 'alternate_super_state_computer': <__main__.Manufacturer at 0x2d45573aa60>,\n",
       " 'alternate_turbo_electric_motor': <__main__.Manufacturer at 0x2d454a55220>,\n",
       " 'alternate_turbo_heavy_fuel': <__main__.Refinery at 0x2d459945ca0>,\n",
       " 'alternate_turbo_pressure_motor': <__main__.Manufacturer at 0x2d45573a5b0>,\n",
       " 'alternate_uranium_fuel_unit': <__main__.Manufacturer at 0x2d4556e7520>,\n",
       " 'alternate_wet_concrete': <__main__.Refinery at 0x2d4556f8070>,\n",
       " 'alumina_solution': <__main__.Refinery at 0x2d4553744c0>,\n",
       " 'aluminum_casing': <__main__.Constructor at 0x2d456178c10>,\n",
       " 'aluminum_ingot': <__main__.Foundry at 0x2d455878850>,\n",
       " 'aluminum_scrap': <__main__.Refinery at 0x2d455376220>,\n",
       " 'assembly_director_system': <__main__.Assembler at 0x2d459a85d30>,\n",
       " 'automated_wiring': <__main__.Assembler at 0x2d454b55fa0>,\n",
       " 'beacon': <__main__.Manufacturer at 0x2d454a55730>,\n",
       " 'biomass_(alien_protein)': <__main__.Constructor at 0x2d455bbe490>,\n",
       " 'biomass_(leaves)': <__main__.Constructor at 0x2d459bb1ca0>,\n",
       " 'biomass_(mycelia)': <__main__.Constructor at 0x2d455bd1760>,\n",
       " 'biomass_(wood)': <__main__.Constructor at 0x2d459bb1af0>,\n",
       " 'black_powder': <__main__.Assembler at 0x2d4556edbe0>,\n",
       " 'blue_ficsmas_ornament': <__main__.Smelter at 0x2d4555d1610>,\n",
       " 'cable': <__main__.Constructor at 0x2d455b882e0>,\n",
       " 'candy_cane': <__main__.Constructor at 0x2d4556edd30>,\n",
       " 'caterium_ingot': <__main__.Smelter at 0x2d4556425b0>,\n",
       " 'circuit_board': <__main__.Assembler at 0x2d4557371c0>,\n",
       " 'cluster_nobelisk': <__main__.Assembler at 0x2d4556ed610>,\n",
       " 'color_cartridge': <__main__.Constructor at 0x2d4552ff670>,\n",
       " 'computer': <__main__.Manufacturer at 0x2d45565e3a0>,\n",
       " 'concrete': <__main__.Constructor at 0x2d454af1c40>,\n",
       " 'copper_ficsmas_ornament': <__main__.Foundry at 0x2d4555d12b0>,\n",
       " 'copper_ingot': <__main__.Smelter at 0x2d455b88550>,\n",
       " 'copper_powder': <__main__.Constructor at 0x2d45573a2e0>,\n",
       " 'copper_sheet': <__main__.Constructor at 0x2d4599649d0>,\n",
       " 'crystal_oscillator': <__main__.Manufacturer at 0x2d455653dc0>,\n",
       " 'electromagnetic_control_rod': <__main__.Assembler at 0x2d45573adc0>,\n",
       " 'empty_canister': <__main__.Constructor at 0x2d4552fff40>,\n",
       " 'empty_fluid_tank': <__main__.Constructor at 0x2d459a85550>,\n",
       " 'encased_industrial_beam': <__main__.Assembler at 0x2d454b63eb0>,\n",
       " 'encased_plutonium_cell': <__main__.Assembler at 0x2d459a850d0>,\n",
       " 'explosive_rebar': <__main__.Manufacturer at 0x2d4556ed6a0>,\n",
       " 'fabric': <__main__.Assembler at 0x2d455bd10d0>,\n",
       " 'fancy_fireworks': <__main__.Assembler at 0x2d455737070>,\n",
       " 'ficsmas_bow': <__main__.Constructor at 0x2d4555d1070>,\n",
       " 'ficsmas_decoration': <__main__.Assembler at 0x2d4555d1850>,\n",
       " 'ficsmas_ornament_bundle': <__main__.Assembler at 0x2d4555d1730>,\n",
       " 'ficsmas_tree_branch': <__main__.Constructor at 0x2d455737c10>,\n",
       " 'ficsmas_wonder_star': <__main__.Assembler at 0x2d4555d1970>,\n",
       " 'fuel': <__main__.Refinery at 0x2d4557377c0>,\n",
       " 'gas_filter': <__main__.Manufacturer at 0x2d454a555b0>,\n",
       " 'gas_nobelisk': <__main__.Assembler at 0x2d455bd1310>,\n",
       " 'hatcher_protein': <__main__.Constructor at 0x2d455bbe850>,\n",
       " 'heat_sink': <__main__.Assembler at 0x2d459a85730>,\n",
       " 'heavy_modular_frame': <__main__.Manufacturer at 0x2d454b551f0>,\n",
       " 'high_speed_connector': <__main__.Manufacturer at 0x2d459a85e50>,\n",
       " 'hog_protein': <__main__.Constructor at 0x2d454a55790>,\n",
       " 'homing_rifle_ammo': <__main__.Assembler at 0x2d455bd1400>,\n",
       " 'iodine_infused_filter': <__main__.Manufacturer at 0x2d454a55640>,\n",
       " 'iron_ficsmas_ornament': <__main__.Foundry at 0x2d4555d13d0>,\n",
       " 'iron_ingot': <__main__.Smelter at 0x2d455737190>,\n",
       " 'iron_plate': <__main__.Constructor at 0x2d455737370>,\n",
       " 'iron_rebar': <__main__.Constructor at 0x2d454a55c10>,\n",
       " 'iron_rod': <__main__.Constructor at 0x2d4557378b0>,\n",
       " 'liquid_biofuel': <__main__.Refinery at 0x2d4557d24f0>,\n",
       " 'magnetic_field_generator': <__main__.Manufacturer at 0x2d45573a490>,\n",
       " 'modular_engine': <__main__.Manufacturer at 0x2d45565e430>,\n",
       " 'modular_frame': <__main__.Assembler at 0x2d455bcf430>,\n",
       " 'motor': <__main__.Assembler at 0x2d454bb7670>,\n",
       " 'nobelisk': <__main__.Assembler at 0x2d4556eda60>,\n",
       " 'nuke_nobelisk': <__main__.Manufacturer at 0x2d4556ed310>,\n",
       " 'organic_data_capsule': <__main__.Constructor at 0x2d4556648e0>,\n",
       " 'packaged_alumina_solution': <__main__.Packager at 0x2d45587d430>,\n",
       " 'packaged_fuel': <__main__.Packager at 0x2d4552ff460>,\n",
       " 'packaged_heavy_oil_residue': <__main__.Packager at 0x2d459c9c910>,\n",
       " 'packaged_liquid_biofuel': <__main__.Packager at 0x2d4557e24f0>,\n",
       " 'packaged_nitric_acid': <__main__.Packager at 0x2d45573adf0>,\n",
       " 'packaged_nitrogen_gas': <__main__.Packager at 0x2d459a85430>,\n",
       " 'packaged_oil': <__main__.Packager at 0x2d45994e550>,\n",
       " 'packaged_sulfuric_acid': <__main__.Packager at 0x2d459a85c10>,\n",
       " 'packaged_turbofuel': <__main__.Packager at 0x2d4557d0220>,\n",
       " 'packaged_water': <__main__.Packager at 0x2d459c9c940>,\n",
       " 'petroleum_coke': <__main__.Refinery at 0x2d455737400>,\n",
       " 'plastic': <__main__.Refinery at 0x2d455737ca0>,\n",
       " 'plutonium_fuel_rod': <__main__.Manufacturer at 0x2d45573af10>,\n",
       " 'power_shard_(1)': <__main__.Constructor at 0x2d4556ed160>,\n",
       " 'power_shard_(2)': <__main__.Constructor at 0x2d4556ed040>,\n",
       " 'power_shard_(5)': <__main__.Constructor at 0x2d4556edd60>,\n",
       " 'pressure_conversion_cube': <__main__.Assembler at 0x2d45564d880>,\n",
       " 'pulse_nobelisk': <__main__.Assembler at 0x2d4556ed8e0>,\n",
       " 'quartz_crystal': <__main__.Constructor at 0x2d4555d6c40>,\n",
       " 'quickwire': <__main__.Constructor at 0x2d455bfec10>,\n",
       " 'radio_control_unit': <__main__.Manufacturer at 0x2d455374430>,\n",
       " 'red_ficsmas_ornament': <__main__.Smelter at 0x2d4555d14f0>,\n",
       " 'reinforced_iron_plate': <__main__.Assembler at 0x2d454af1d00>,\n",
       " 'residual_fuel': <__main__.Refinery at 0x2d455316730>,\n",
       " 'residual_plastic': <__main__.Refinery at 0x2d455316a60>,\n",
       " 'residual_rubber': <__main__.Refinery at 0x2d45526ad30>,\n",
       " 'rifle_ammo': <__main__.Assembler at 0x2d4556ed7c0>,\n",
       " 'rotor': <__main__.Assembler at 0x2d455bcf1c0>,\n",
       " 'rubber': <__main__.Refinery at 0x2d455316d60>,\n",
       " 'screw': <__main__.Constructor at 0x2d45585c8b0>,\n",
       " 'silica': <__main__.Constructor at 0x2d455653fd0>,\n",
       " 'smart_plating': <__main__.Assembler at 0x2d4599695e0>,\n",
       " 'smokeless_powder': <__main__.Refinery at 0x2d4556eda00>,\n",
       " 'snowball': <__main__.Constructor at 0x2d4555d1a90>,\n",
       " 'solid_biofuel': <__main__.Constructor at 0x2d454a55400>,\n",
       " 'sparkly_fireworks': <__main__.Assembler at 0x2d455737f70>,\n",
       " 'spitter_protein': <__main__.Constructor at 0x2d454a55970>,\n",
       " 'stator': <__main__.Assembler at 0x2d454bb7640>,\n",
       " 'steel_beam': <__main__.Constructor at 0x2d4557c7e20>,\n",
       " 'steel_ingot': <__main__.Foundry at 0x2d455319370>,\n",
       " 'steel_pipe': <__main__.Constructor at 0x2d4561dea00>,\n",
       " 'stinger_protein': <__main__.Constructor at 0x2d455bbe220>,\n",
       " 'stun_rebar': <__main__.Assembler at 0x2d455bfeb50>,\n",
       " 'sulfuric_acid': <__main__.Refinery at 0x2d459a85af0>,\n",
       " 'supercomputer': <__main__.Manufacturer at 0x2d459a85850>,\n",
       " 'sweet_fireworks': <__main__.Assembler at 0x2d455737790>,\n",
       " 'thermal_propulsion_rocket': <__main__.Manufacturer at 0x2d454a55d90>,\n",
       " 'turbo_motor': <__main__.Manufacturer at 0x2d454a55ee0>,\n",
       " 'turbo_rifle_ammo': <__main__.Manufacturer at 0x2d4556ed3a0>,\n",
       " 'turbofuel': <__main__.Refinery at 0x2d454a55100>,\n",
       " 'unpackage_alumina_solution': <__main__.Packager at 0x2d455653cd0>,\n",
       " 'unpackage_fuel': <__main__.Packager at 0x2d459c9cdf0>,\n",
       " 'unpackage_heavy_oil_residue': <__main__.Packager at 0x2d459c9caf0>,\n",
       " 'unpackage_liquid_biofuel': <__main__.Packager at 0x2d459c9c310>,\n",
       " 'unpackage_nitric_acid': <__main__.Packager at 0x2d45573aa30>,\n",
       " 'unpackage_nitrogen_gas': <__main__.Packager at 0x2d459a85310>,\n",
       " 'unpackage_oil': <__main__.Packager at 0x2d459c9ce80>,\n",
       " 'unpackage_sulfuric_acid': <__main__.Packager at 0x2d459a85f70>,\n",
       " 'unpackage_turbofuel': <__main__.Packager at 0x2d455315340>,\n",
       " 'unpackage_water': <__main__.Packager at 0x2d459c9c070>,\n",
       " 'uranium_fuel_rod': <__main__.Manufacturer at 0x2d45573aca0>,\n",
       " 'versatile_framework': <__main__.Assembler at 0x2d4553190d0>,\n",
       " 'wire': <__main__.Constructor at 0x2d455b88730>}"
      ]
     },
     "execution_count": 567,
     "metadata": {},
     "output_type": "execute_result"
    }
   ],
   "source": [
    "available_machines = dict(sorted(make_recipes(BASE_CONFIG, machine_mapping).items()))\n",
    "available_machines"
   ]
  },
  {
   "cell_type": "code",
   "execution_count": 568,
   "id": "664fdbdf-85ca-41f3-b53d-5f981e8fbe09",
   "metadata": {},
   "outputs": [],
   "source": [
    "target_product = MaterialSpec(steel_pipe=60)\n",
    "process = available_machines[\"steel_pipe\"].bind(available_machines[\"steel_ingot\"], \"steel_ingot\")\n",
    "solution = ProcessSpec(process, target_product)"
   ]
  },
  {
   "cell_type": "code",
   "execution_count": 569,
   "id": "dc2a6928-99f7-4018-968d-c369e3e1d824",
   "metadata": {},
   "outputs": [
    {
     "data": {
      "application/vnd.plotly.v1+json": {
       "config": {
        "plotlyServerURL": "https://plot.ly"
       },
       "data": [
        {
         "hoverinfo": "none",
         "line": {
          "color": "rgba(210,210,210, 255)",
          "width": 4
         },
         "mode": "lines",
         "type": "scatter",
         "x": [
          6.797511855295717,
          5.244212632556071,
          null
         ],
         "y": [
          2.8508123711375797,
          3.728016254722175,
          null
         ]
        },
        {
         "hovertemplate": "%{text}",
         "marker": {
          "color": "#6175c1",
          "size": 10,
          "symbol": "circle-dot"
         },
         "mode": "markers",
         "text": [
          "Type    |  Constructor<br>Recipe  |  steel_ingot: 3 >> steel_pipe: 2<br>Scale   |  30.0<br>",
          "Type    |  Foundry<br>Recipe  |  coal: 3 iron_ore: 3 >> steel_ingot: 3<br>Scale   |  30.0<br>"
         ],
         "type": "scatter",
         "x": [
          6.797511855295717,
          5.244212632556071
         ],
         "y": [
          2.8508123711375797,
          3.728016254722175
         ]
        }
       ],
       "layout": {
        "autosize": true,
        "template": {
         "data": {
          "bar": [
           {
            "error_x": {
             "color": "#2a3f5f"
            },
            "error_y": {
             "color": "#2a3f5f"
            },
            "marker": {
             "line": {
              "color": "#E5ECF6",
              "width": 0.5
             },
             "pattern": {
              "fillmode": "overlay",
              "size": 10,
              "solidity": 0.2
             }
            },
            "type": "bar"
           }
          ],
          "barpolar": [
           {
            "marker": {
             "line": {
              "color": "#E5ECF6",
              "width": 0.5
             },
             "pattern": {
              "fillmode": "overlay",
              "size": 10,
              "solidity": 0.2
             }
            },
            "type": "barpolar"
           }
          ],
          "carpet": [
           {
            "aaxis": {
             "endlinecolor": "#2a3f5f",
             "gridcolor": "white",
             "linecolor": "white",
             "minorgridcolor": "white",
             "startlinecolor": "#2a3f5f"
            },
            "baxis": {
             "endlinecolor": "#2a3f5f",
             "gridcolor": "white",
             "linecolor": "white",
             "minorgridcolor": "white",
             "startlinecolor": "#2a3f5f"
            },
            "type": "carpet"
           }
          ],
          "choropleth": [
           {
            "colorbar": {
             "outlinewidth": 0,
             "ticks": ""
            },
            "type": "choropleth"
           }
          ],
          "contour": [
           {
            "colorbar": {
             "outlinewidth": 0,
             "ticks": ""
            },
            "colorscale": [
             [
              0,
              "#0d0887"
             ],
             [
              0.1111111111111111,
              "#46039f"
             ],
             [
              0.2222222222222222,
              "#7201a8"
             ],
             [
              0.3333333333333333,
              "#9c179e"
             ],
             [
              0.4444444444444444,
              "#bd3786"
             ],
             [
              0.5555555555555556,
              "#d8576b"
             ],
             [
              0.6666666666666666,
              "#ed7953"
             ],
             [
              0.7777777777777778,
              "#fb9f3a"
             ],
             [
              0.8888888888888888,
              "#fdca26"
             ],
             [
              1,
              "#f0f921"
             ]
            ],
            "type": "contour"
           }
          ],
          "contourcarpet": [
           {
            "colorbar": {
             "outlinewidth": 0,
             "ticks": ""
            },
            "type": "contourcarpet"
           }
          ],
          "heatmap": [
           {
            "colorbar": {
             "outlinewidth": 0,
             "ticks": ""
            },
            "colorscale": [
             [
              0,
              "#0d0887"
             ],
             [
              0.1111111111111111,
              "#46039f"
             ],
             [
              0.2222222222222222,
              "#7201a8"
             ],
             [
              0.3333333333333333,
              "#9c179e"
             ],
             [
              0.4444444444444444,
              "#bd3786"
             ],
             [
              0.5555555555555556,
              "#d8576b"
             ],
             [
              0.6666666666666666,
              "#ed7953"
             ],
             [
              0.7777777777777778,
              "#fb9f3a"
             ],
             [
              0.8888888888888888,
              "#fdca26"
             ],
             [
              1,
              "#f0f921"
             ]
            ],
            "type": "heatmap"
           }
          ],
          "heatmapgl": [
           {
            "colorbar": {
             "outlinewidth": 0,
             "ticks": ""
            },
            "colorscale": [
             [
              0,
              "#0d0887"
             ],
             [
              0.1111111111111111,
              "#46039f"
             ],
             [
              0.2222222222222222,
              "#7201a8"
             ],
             [
              0.3333333333333333,
              "#9c179e"
             ],
             [
              0.4444444444444444,
              "#bd3786"
             ],
             [
              0.5555555555555556,
              "#d8576b"
             ],
             [
              0.6666666666666666,
              "#ed7953"
             ],
             [
              0.7777777777777778,
              "#fb9f3a"
             ],
             [
              0.8888888888888888,
              "#fdca26"
             ],
             [
              1,
              "#f0f921"
             ]
            ],
            "type": "heatmapgl"
           }
          ],
          "histogram": [
           {
            "marker": {
             "pattern": {
              "fillmode": "overlay",
              "size": 10,
              "solidity": 0.2
             }
            },
            "type": "histogram"
           }
          ],
          "histogram2d": [
           {
            "colorbar": {
             "outlinewidth": 0,
             "ticks": ""
            },
            "colorscale": [
             [
              0,
              "#0d0887"
             ],
             [
              0.1111111111111111,
              "#46039f"
             ],
             [
              0.2222222222222222,
              "#7201a8"
             ],
             [
              0.3333333333333333,
              "#9c179e"
             ],
             [
              0.4444444444444444,
              "#bd3786"
             ],
             [
              0.5555555555555556,
              "#d8576b"
             ],
             [
              0.6666666666666666,
              "#ed7953"
             ],
             [
              0.7777777777777778,
              "#fb9f3a"
             ],
             [
              0.8888888888888888,
              "#fdca26"
             ],
             [
              1,
              "#f0f921"
             ]
            ],
            "type": "histogram2d"
           }
          ],
          "histogram2dcontour": [
           {
            "colorbar": {
             "outlinewidth": 0,
             "ticks": ""
            },
            "colorscale": [
             [
              0,
              "#0d0887"
             ],
             [
              0.1111111111111111,
              "#46039f"
             ],
             [
              0.2222222222222222,
              "#7201a8"
             ],
             [
              0.3333333333333333,
              "#9c179e"
             ],
             [
              0.4444444444444444,
              "#bd3786"
             ],
             [
              0.5555555555555556,
              "#d8576b"
             ],
             [
              0.6666666666666666,
              "#ed7953"
             ],
             [
              0.7777777777777778,
              "#fb9f3a"
             ],
             [
              0.8888888888888888,
              "#fdca26"
             ],
             [
              1,
              "#f0f921"
             ]
            ],
            "type": "histogram2dcontour"
           }
          ],
          "mesh3d": [
           {
            "colorbar": {
             "outlinewidth": 0,
             "ticks": ""
            },
            "type": "mesh3d"
           }
          ],
          "parcoords": [
           {
            "line": {
             "colorbar": {
              "outlinewidth": 0,
              "ticks": ""
             }
            },
            "type": "parcoords"
           }
          ],
          "pie": [
           {
            "automargin": true,
            "type": "pie"
           }
          ],
          "scatter": [
           {
            "fillpattern": {
             "fillmode": "overlay",
             "size": 10,
             "solidity": 0.2
            },
            "type": "scatter"
           }
          ],
          "scatter3d": [
           {
            "line": {
             "colorbar": {
              "outlinewidth": 0,
              "ticks": ""
             }
            },
            "marker": {
             "colorbar": {
              "outlinewidth": 0,
              "ticks": ""
             }
            },
            "type": "scatter3d"
           }
          ],
          "scattercarpet": [
           {
            "marker": {
             "colorbar": {
              "outlinewidth": 0,
              "ticks": ""
             }
            },
            "type": "scattercarpet"
           }
          ],
          "scattergeo": [
           {
            "marker": {
             "colorbar": {
              "outlinewidth": 0,
              "ticks": ""
             }
            },
            "type": "scattergeo"
           }
          ],
          "scattergl": [
           {
            "marker": {
             "colorbar": {
              "outlinewidth": 0,
              "ticks": ""
             }
            },
            "type": "scattergl"
           }
          ],
          "scattermapbox": [
           {
            "marker": {
             "colorbar": {
              "outlinewidth": 0,
              "ticks": ""
             }
            },
            "type": "scattermapbox"
           }
          ],
          "scatterpolar": [
           {
            "marker": {
             "colorbar": {
              "outlinewidth": 0,
              "ticks": ""
             }
            },
            "type": "scatterpolar"
           }
          ],
          "scatterpolargl": [
           {
            "marker": {
             "colorbar": {
              "outlinewidth": 0,
              "ticks": ""
             }
            },
            "type": "scatterpolargl"
           }
          ],
          "scatterternary": [
           {
            "marker": {
             "colorbar": {
              "outlinewidth": 0,
              "ticks": ""
             }
            },
            "type": "scatterternary"
           }
          ],
          "surface": [
           {
            "colorbar": {
             "outlinewidth": 0,
             "ticks": ""
            },
            "colorscale": [
             [
              0,
              "#0d0887"
             ],
             [
              0.1111111111111111,
              "#46039f"
             ],
             [
              0.2222222222222222,
              "#7201a8"
             ],
             [
              0.3333333333333333,
              "#9c179e"
             ],
             [
              0.4444444444444444,
              "#bd3786"
             ],
             [
              0.5555555555555556,
              "#d8576b"
             ],
             [
              0.6666666666666666,
              "#ed7953"
             ],
             [
              0.7777777777777778,
              "#fb9f3a"
             ],
             [
              0.8888888888888888,
              "#fdca26"
             ],
             [
              1,
              "#f0f921"
             ]
            ],
            "type": "surface"
           }
          ],
          "table": [
           {
            "cells": {
             "fill": {
              "color": "#EBF0F8"
             },
             "line": {
              "color": "white"
             }
            },
            "header": {
             "fill": {
              "color": "#C8D4E3"
             },
             "line": {
              "color": "white"
             }
            },
            "type": "table"
           }
          ]
         },
         "layout": {
          "annotationdefaults": {
           "arrowcolor": "#2a3f5f",
           "arrowhead": 0,
           "arrowwidth": 1
          },
          "autotypenumbers": "strict",
          "coloraxis": {
           "colorbar": {
            "outlinewidth": 0,
            "ticks": ""
           }
          },
          "colorscale": {
           "diverging": [
            [
             0,
             "#8e0152"
            ],
            [
             0.1,
             "#c51b7d"
            ],
            [
             0.2,
             "#de77ae"
            ],
            [
             0.3,
             "#f1b6da"
            ],
            [
             0.4,
             "#fde0ef"
            ],
            [
             0.5,
             "#f7f7f7"
            ],
            [
             0.6,
             "#e6f5d0"
            ],
            [
             0.7,
             "#b8e186"
            ],
            [
             0.8,
             "#7fbc41"
            ],
            [
             0.9,
             "#4d9221"
            ],
            [
             1,
             "#276419"
            ]
           ],
           "sequential": [
            [
             0,
             "#0d0887"
            ],
            [
             0.1111111111111111,
             "#46039f"
            ],
            [
             0.2222222222222222,
             "#7201a8"
            ],
            [
             0.3333333333333333,
             "#9c179e"
            ],
            [
             0.4444444444444444,
             "#bd3786"
            ],
            [
             0.5555555555555556,
             "#d8576b"
            ],
            [
             0.6666666666666666,
             "#ed7953"
            ],
            [
             0.7777777777777778,
             "#fb9f3a"
            ],
            [
             0.8888888888888888,
             "#fdca26"
            ],
            [
             1,
             "#f0f921"
            ]
           ],
           "sequentialminus": [
            [
             0,
             "#0d0887"
            ],
            [
             0.1111111111111111,
             "#46039f"
            ],
            [
             0.2222222222222222,
             "#7201a8"
            ],
            [
             0.3333333333333333,
             "#9c179e"
            ],
            [
             0.4444444444444444,
             "#bd3786"
            ],
            [
             0.5555555555555556,
             "#d8576b"
            ],
            [
             0.6666666666666666,
             "#ed7953"
            ],
            [
             0.7777777777777778,
             "#fb9f3a"
            ],
            [
             0.8888888888888888,
             "#fdca26"
            ],
            [
             1,
             "#f0f921"
            ]
           ]
          },
          "colorway": [
           "#636efa",
           "#EF553B",
           "#00cc96",
           "#ab63fa",
           "#FFA15A",
           "#19d3f3",
           "#FF6692",
           "#B6E880",
           "#FF97FF",
           "#FECB52"
          ],
          "font": {
           "color": "#2a3f5f"
          },
          "geo": {
           "bgcolor": "white",
           "lakecolor": "white",
           "landcolor": "#E5ECF6",
           "showlakes": true,
           "showland": true,
           "subunitcolor": "white"
          },
          "hoverlabel": {
           "align": "left"
          },
          "hovermode": "closest",
          "mapbox": {
           "style": "light"
          },
          "paper_bgcolor": "white",
          "plot_bgcolor": "#E5ECF6",
          "polar": {
           "angularaxis": {
            "gridcolor": "white",
            "linecolor": "white",
            "ticks": ""
           },
           "bgcolor": "#E5ECF6",
           "radialaxis": {
            "gridcolor": "white",
            "linecolor": "white",
            "ticks": ""
           }
          },
          "scene": {
           "xaxis": {
            "backgroundcolor": "#E5ECF6",
            "gridcolor": "white",
            "gridwidth": 2,
            "linecolor": "white",
            "showbackground": true,
            "ticks": "",
            "zerolinecolor": "white"
           },
           "yaxis": {
            "backgroundcolor": "#E5ECF6",
            "gridcolor": "white",
            "gridwidth": 2,
            "linecolor": "white",
            "showbackground": true,
            "ticks": "",
            "zerolinecolor": "white"
           },
           "zaxis": {
            "backgroundcolor": "#E5ECF6",
            "gridcolor": "white",
            "gridwidth": 2,
            "linecolor": "white",
            "showbackground": true,
            "ticks": "",
            "zerolinecolor": "white"
           }
          },
          "shapedefaults": {
           "line": {
            "color": "#2a3f5f"
           }
          },
          "ternary": {
           "aaxis": {
            "gridcolor": "white",
            "linecolor": "white",
            "ticks": ""
           },
           "baxis": {
            "gridcolor": "white",
            "linecolor": "white",
            "ticks": ""
           },
           "bgcolor": "#E5ECF6",
           "caxis": {
            "gridcolor": "white",
            "linecolor": "white",
            "ticks": ""
           }
          },
          "title": {
           "x": 0.05
          },
          "xaxis": {
           "automargin": true,
           "gridcolor": "white",
           "linecolor": "white",
           "ticks": "",
           "title": {
            "standoff": 15
           },
           "zerolinecolor": "white",
           "zerolinewidth": 2
          },
          "yaxis": {
           "automargin": true,
           "gridcolor": "white",
           "linecolor": "white",
           "ticks": "",
           "title": {
            "standoff": 15
           },
           "zerolinecolor": "white",
           "zerolinewidth": 2
          }
         }
        },
        "xaxis": {
         "autorange": true,
         "range": [
          5.152265068377861,
          6.889459419473927
         ],
         "type": "linear"
        },
        "yaxis": {
         "autorange": true,
         "range": [
          2.7613317074274453,
          3.8174969184323095
         ],
         "type": "linear"
        }
       }
      },
      "image/png": "[encoded data removed]",
      "text/html": [
       "<div>                            <div id=\"628adbe7-04b9-472c-b182-379d651135df\" class=\"plotly-graph-div\" style=\"height:525px; width:100%;\"></div>            <script type=\"text/javascript\">                require([\"plotly\"], function(Plotly) {                    window.PLOTLYENV=window.PLOTLYENV || {};                                    if (document.getElementById(\"628adbe7-04b9-472c-b182-379d651135df\")) {                    Plotly.newPlot(                        \"628adbe7-04b9-472c-b182-379d651135df\",                        [{\"hoverinfo\":\"none\",\"line\":{\"color\":\"rgba(210,210,210, 255)\",\"width\":4},\"mode\":\"lines\",\"x\":[6.797511855295717,5.244212632556071,null],\"y\":[2.8508123711375797,3.728016254722175,null],\"type\":\"scatter\"},{\"hovertemplate\":\"%{text}\",\"marker\":{\"color\":\"#6175c1\",\"size\":10,\"symbol\":\"circle-dot\"},\"mode\":\"markers\",\"text\":[\"Type    |  Constructor<br>Recipe  |  steel_ingot: 3 >> steel_pipe: 2<br>Scale   |  30.0<br>\",\"Type    |  Foundry<br>Recipe  |  coal: 3 iron_ore: 3 >> steel_ingot: 3<br>Scale   |  30.0<br>\"],\"x\":[6.797511855295717,5.244212632556071],\"y\":[2.8508123711375797,3.728016254722175],\"type\":\"scatter\"}],                        {\"template\":{\"data\":{\"histogram2dcontour\":[{\"type\":\"histogram2dcontour\",\"colorbar\":{\"outlinewidth\":0,\"ticks\":\"\"},\"colorscale\":[[0.0,\"#0d0887\"],[0.1111111111111111,\"#46039f\"],[0.2222222222222222,\"#7201a8\"],[0.3333333333333333,\"#9c179e\"],[0.4444444444444444,\"#bd3786\"],[0.5555555555555556,\"#d8576b\"],[0.6666666666666666,\"#ed7953\"],[0.7777777777777778,\"#fb9f3a\"],[0.8888888888888888,\"#fdca26\"],[1.0,\"#f0f921\"]]}],\"choropleth\":[{\"type\":\"choropleth\",\"colorbar\":{\"outlinewidth\":0,\"ticks\":\"\"}}],\"histogram2d\":[{\"type\":\"histogram2d\",\"colorbar\":{\"outlinewidth\":0,\"ticks\":\"\"},\"colorscale\":[[0.0,\"#0d0887\"],[0.1111111111111111,\"#46039f\"],[0.2222222222222222,\"#7201a8\"],[0.3333333333333333,\"#9c179e\"],[0.4444444444444444,\"#bd3786\"],[0.5555555555555556,\"#d8576b\"],[0.6666666666666666,\"#ed7953\"],[0.7777777777777778,\"#fb9f3a\"],[0.8888888888888888,\"#fdca26\"],[1.0,\"#f0f921\"]]}],\"heatmap\":[{\"type\":\"heatmap\",\"colorbar\":{\"outlinewidth\":0,\"ticks\":\"\"},\"colorscale\":[[0.0,\"#0d0887\"],[0.1111111111111111,\"#46039f\"],[0.2222222222222222,\"#7201a8\"],[0.3333333333333333,\"#9c179e\"],[0.4444444444444444,\"#bd3786\"],[0.5555555555555556,\"#d8576b\"],[0.6666666666666666,\"#ed7953\"],[0.7777777777777778,\"#fb9f3a\"],[0.8888888888888888,\"#fdca26\"],[1.0,\"#f0f921\"]]}],\"heatmapgl\":[{\"type\":\"heatmapgl\",\"colorbar\":{\"outlinewidth\":0,\"ticks\":\"\"},\"colorscale\":[[0.0,\"#0d0887\"],[0.1111111111111111,\"#46039f\"],[0.2222222222222222,\"#7201a8\"],[0.3333333333333333,\"#9c179e\"],[0.4444444444444444,\"#bd3786\"],[0.5555555555555556,\"#d8576b\"],[0.6666666666666666,\"#ed7953\"],[0.7777777777777778,\"#fb9f3a\"],[0.8888888888888888,\"#fdca26\"],[1.0,\"#f0f921\"]]}],\"contourcarpet\":[{\"type\":\"contourcarpet\",\"colorbar\":{\"outlinewidth\":0,\"ticks\":\"\"}}],\"contour\":[{\"type\":\"contour\",\"colorbar\":{\"outlinewidth\":0,\"ticks\":\"\"},\"colorscale\":[[0.0,\"#0d0887\"],[0.1111111111111111,\"#46039f\"],[0.2222222222222222,\"#7201a8\"],[0.3333333333333333,\"#9c179e\"],[0.4444444444444444,\"#bd3786\"],[0.5555555555555556,\"#d8576b\"],[0.6666666666666666,\"#ed7953\"],[0.7777777777777778,\"#fb9f3a\"],[0.8888888888888888,\"#fdca26\"],[1.0,\"#f0f921\"]]}],\"surface\":[{\"type\":\"surface\",\"colorbar\":{\"outlinewidth\":0,\"ticks\":\"\"},\"colorscale\":[[0.0,\"#0d0887\"],[0.1111111111111111,\"#46039f\"],[0.2222222222222222,\"#7201a8\"],[0.3333333333333333,\"#9c179e\"],[0.4444444444444444,\"#bd3786\"],[0.5555555555555556,\"#d8576b\"],[0.6666666666666666,\"#ed7953\"],[0.7777777777777778,\"#fb9f3a\"],[0.8888888888888888,\"#fdca26\"],[1.0,\"#f0f921\"]]}],\"mesh3d\":[{\"type\":\"mesh3d\",\"colorbar\":{\"outlinewidth\":0,\"ticks\":\"\"}}],\"scatter\":[{\"fillpattern\":{\"fillmode\":\"overlay\",\"size\":10,\"solidity\":0.2},\"type\":\"scatter\"}],\"parcoords\":[{\"type\":\"parcoords\",\"line\":{\"colorbar\":{\"outlinewidth\":0,\"ticks\":\"\"}}}],\"scatterpolargl\":[{\"type\":\"scatterpolargl\",\"marker\":{\"colorbar\":{\"outlinewidth\":0,\"ticks\":\"\"}}}],\"bar\":[{\"error_x\":{\"color\":\"#2a3f5f\"},\"error_y\":{\"color\":\"#2a3f5f\"},\"marker\":{\"line\":{\"color\":\"#E5ECF6\",\"width\":0.5},\"pattern\":{\"fillmode\":\"overlay\",\"size\":10,\"solidity\":0.2}},\"type\":\"bar\"}],\"scattergeo\":[{\"type\":\"scattergeo\",\"marker\":{\"colorbar\":{\"outlinewidth\":0,\"ticks\":\"\"}}}],\"scatterpolar\":[{\"type\":\"scatterpolar\",\"marker\":{\"colorbar\":{\"outlinewidth\":0,\"ticks\":\"\"}}}],\"histogram\":[{\"marker\":{\"pattern\":{\"fillmode\":\"overlay\",\"size\":10,\"solidity\":0.2}},\"type\":\"histogram\"}],\"scattergl\":[{\"type\":\"scattergl\",\"marker\":{\"colorbar\":{\"outlinewidth\":0,\"ticks\":\"\"}}}],\"scatter3d\":[{\"type\":\"scatter3d\",\"line\":{\"colorbar\":{\"outlinewidth\":0,\"ticks\":\"\"}},\"marker\":{\"colorbar\":{\"outlinewidth\":0,\"ticks\":\"\"}}}],\"scattermapbox\":[{\"type\":\"scattermapbox\",\"marker\":{\"colorbar\":{\"outlinewidth\":0,\"ticks\":\"\"}}}],\"scatterternary\":[{\"type\":\"scatterternary\",\"marker\":{\"colorbar\":{\"outlinewidth\":0,\"ticks\":\"\"}}}],\"scattercarpet\":[{\"type\":\"scattercarpet\",\"marker\":{\"colorbar\":{\"outlinewidth\":0,\"ticks\":\"\"}}}],\"carpet\":[{\"aaxis\":{\"endlinecolor\":\"#2a3f5f\",\"gridcolor\":\"white\",\"linecolor\":\"white\",\"minorgridcolor\":\"white\",\"startlinecolor\":\"#2a3f5f\"},\"baxis\":{\"endlinecolor\":\"#2a3f5f\",\"gridcolor\":\"white\",\"linecolor\":\"white\",\"minorgridcolor\":\"white\",\"startlinecolor\":\"#2a3f5f\"},\"type\":\"carpet\"}],\"table\":[{\"cells\":{\"fill\":{\"color\":\"#EBF0F8\"},\"line\":{\"color\":\"white\"}},\"header\":{\"fill\":{\"color\":\"#C8D4E3\"},\"line\":{\"color\":\"white\"}},\"type\":\"table\"}],\"barpolar\":[{\"marker\":{\"line\":{\"color\":\"#E5ECF6\",\"width\":0.5},\"pattern\":{\"fillmode\":\"overlay\",\"size\":10,\"solidity\":0.2}},\"type\":\"barpolar\"}],\"pie\":[{\"automargin\":true,\"type\":\"pie\"}]},\"layout\":{\"autotypenumbers\":\"strict\",\"colorway\":[\"#636efa\",\"#EF553B\",\"#00cc96\",\"#ab63fa\",\"#FFA15A\",\"#19d3f3\",\"#FF6692\",\"#B6E880\",\"#FF97FF\",\"#FECB52\"],\"font\":{\"color\":\"#2a3f5f\"},\"hovermode\":\"closest\",\"hoverlabel\":{\"align\":\"left\"},\"paper_bgcolor\":\"white\",\"plot_bgcolor\":\"#E5ECF6\",\"polar\":{\"bgcolor\":\"#E5ECF6\",\"angularaxis\":{\"gridcolor\":\"white\",\"linecolor\":\"white\",\"ticks\":\"\"},\"radialaxis\":{\"gridcolor\":\"white\",\"linecolor\":\"white\",\"ticks\":\"\"}},\"ternary\":{\"bgcolor\":\"#E5ECF6\",\"aaxis\":{\"gridcolor\":\"white\",\"linecolor\":\"white\",\"ticks\":\"\"},\"baxis\":{\"gridcolor\":\"white\",\"linecolor\":\"white\",\"ticks\":\"\"},\"caxis\":{\"gridcolor\":\"white\",\"linecolor\":\"white\",\"ticks\":\"\"}},\"coloraxis\":{\"colorbar\":{\"outlinewidth\":0,\"ticks\":\"\"}},\"colorscale\":{\"sequential\":[[0.0,\"#0d0887\"],[0.1111111111111111,\"#46039f\"],[0.2222222222222222,\"#7201a8\"],[0.3333333333333333,\"#9c179e\"],[0.4444444444444444,\"#bd3786\"],[0.5555555555555556,\"#d8576b\"],[0.6666666666666666,\"#ed7953\"],[0.7777777777777778,\"#fb9f3a\"],[0.8888888888888888,\"#fdca26\"],[1.0,\"#f0f921\"]],\"sequentialminus\":[[0.0,\"#0d0887\"],[0.1111111111111111,\"#46039f\"],[0.2222222222222222,\"#7201a8\"],[0.3333333333333333,\"#9c179e\"],[0.4444444444444444,\"#bd3786\"],[0.5555555555555556,\"#d8576b\"],[0.6666666666666666,\"#ed7953\"],[0.7777777777777778,\"#fb9f3a\"],[0.8888888888888888,\"#fdca26\"],[1.0,\"#f0f921\"]],\"diverging\":[[0,\"#8e0152\"],[0.1,\"#c51b7d\"],[0.2,\"#de77ae\"],[0.3,\"#f1b6da\"],[0.4,\"#fde0ef\"],[0.5,\"#f7f7f7\"],[0.6,\"#e6f5d0\"],[0.7,\"#b8e186\"],[0.8,\"#7fbc41\"],[0.9,\"#4d9221\"],[1,\"#276419\"]]},\"xaxis\":{\"gridcolor\":\"white\",\"linecolor\":\"white\",\"ticks\":\"\",\"title\":{\"standoff\":15},\"zerolinecolor\":\"white\",\"automargin\":true,\"zerolinewidth\":2},\"yaxis\":{\"gridcolor\":\"white\",\"linecolor\":\"white\",\"ticks\":\"\",\"title\":{\"standoff\":15},\"zerolinecolor\":\"white\",\"automargin\":true,\"zerolinewidth\":2},\"scene\":{\"xaxis\":{\"backgroundcolor\":\"#E5ECF6\",\"gridcolor\":\"white\",\"linecolor\":\"white\",\"showbackground\":true,\"ticks\":\"\",\"zerolinecolor\":\"white\",\"gridwidth\":2},\"yaxis\":{\"backgroundcolor\":\"#E5ECF6\",\"gridcolor\":\"white\",\"linecolor\":\"white\",\"showbackground\":true,\"ticks\":\"\",\"zerolinecolor\":\"white\",\"gridwidth\":2},\"zaxis\":{\"backgroundcolor\":\"#E5ECF6\",\"gridcolor\":\"white\",\"linecolor\":\"white\",\"showbackground\":true,\"ticks\":\"\",\"zerolinecolor\":\"white\",\"gridwidth\":2}},\"shapedefaults\":{\"line\":{\"color\":\"#2a3f5f\"}},\"annotationdefaults\":{\"arrowcolor\":\"#2a3f5f\",\"arrowhead\":0,\"arrowwidth\":1},\"geo\":{\"bgcolor\":\"white\",\"landcolor\":\"#E5ECF6\",\"subunitcolor\":\"white\",\"showland\":true,\"showlakes\":true,\"lakecolor\":\"white\"},\"title\":{\"x\":0.05},\"mapbox\":{\"style\":\"light\"}}}},                        {\"responsive\": true}                    ).then(function(){\n",
       "                            \n",
       "var gd = document.getElementById('628adbe7-04b9-472c-b182-379d651135df');\n",
       "var x = new MutationObserver(function (mutations, observer) {{\n",
       "        var display = window.getComputedStyle(gd).display;\n",
       "        if (!display || display === 'none') {{\n",
       "            console.log([gd, 'removed!']);\n",
       "            Plotly.purge(gd);\n",
       "            observer.disconnect();\n",
       "        }}\n",
       "}});\n",
       "\n",
       "// Listen for the removal of the full notebook cells\n",
       "var notebookContainer = gd.closest('#notebook-container');\n",
       "if (notebookContainer) {{\n",
       "    x.observe(notebookContainer, {childList: true});\n",
       "}}\n",
       "\n",
       "// Listen for the clearing of the current output cell\n",
       "var outputEl = gd.closest('.output');\n",
       "if (outputEl) {{\n",
       "    x.observe(outputEl, {childList: true});\n",
       "}}\n",
       "\n",
       "                        })                };                });            </script>        </div>"
      ]
     },
     "metadata": {},
     "output_type": "display_data"
    }
   ],
   "source": [
    "import igraph\n",
    "from igraph import Graph, EdgeSeq\n",
    "import itertools\n",
    "import plotly.graph_objects as go\n",
    "\n",
    "n_vertices = len(solution.process_registry)\n",
    "ordered_vertices = list(solution.process_registry.keys())\n",
    "# setup all edges as \n",
    "edges = [(ordered_vertices.index(self), ordered_vertices.index(other)) for self in ordered_vertices for other in self.input_producers]\n",
    "\n",
    "G = Graph(n_vertices, edges)\n",
    "layout = G.layout(Graph.layout_davidson_harel)\n",
    "Xn, Yn = list(zip(*layout))\n",
    "edge_coords = itertools.chain.from_iterable([[(Xn[n], Yn[n]) for n in e] + [(None, None)] for e in edges])\n",
    "Xe, Ye = list(zip(*edge_coords))\n",
    "\n",
    "fig = go.Figure()\n",
    "fig.add_trace(go.Scatter(x=Xe,\n",
    "                   y=Ye,\n",
    "                   mode='lines',\n",
    "                   line=dict(color='rgba(210,210,210, 255)', width=4),\n",
    "                   hoverinfo='none'\n",
    "                   ))\n",
    "fig.add_trace(go.Scatter(x=Xn,\n",
    "                  y=Yn,\n",
    "                  mode='markers',\n",
    "                  marker=dict(symbol='circle-dot',\n",
    "                                size=10, # TODO: size by node scale\n",
    "                                color='#6175c1',    #'#DB4551',\n",
    "                            ),\n",
    "                  text=[solution.process_registry[m] for m in ordered_vertices],\n",
    "                  hovertemplate=\"%{text}\"\n",
    "                  ))\n",
    "\n",
    "# TODO: show ratio on trace"
   ]
  },
  {
   "cell_type": "code",
   "execution_count": null,
   "id": "6557f673-7cf8-4dc3-bd92-11467300ddb9",
   "metadata": {},
   "outputs": [],
   "source": [
    "# graph"
   ]
  },
  {
   "cell_type": "code",
   "execution_count": 93,
   "id": "bfed5426-04cf-47fa-bf58-7de8f100d09d",
   "metadata": {},
   "outputs": [],
   "source": [
    "# sunburst"
   ]
  },
  {
   "cell_type": "code",
   "execution_count": 94,
   "id": "dd4502ca-29d3-438e-bdb5-1fc9acf71efc",
   "metadata": {},
   "outputs": [],
   "source": [
    "#sankey"
   ]
  }
 ],
 "metadata": {
  "kernelspec": {
   "display_name": "Python 3 (ipykernel)",
   "language": "python",
   "name": "python3"
  },
  "language_info": {
   "codemirror_mode": {
    "name": "ipython",
    "version": 3
   },
   "file_extension": ".py",
   "mimetype": "text/x-python",
   "name": "python",
   "nbconvert_exporter": "python",
   "pygments_lexer": "ipython3",
   "version": "3.9.13"
  }
 },
 "nbformat": 4,
 "nbformat_minor": 5
}
