{
 "cells": [
  {
   "cell_type": "code",
   "execution_count": 36,
   "id": "89117efb-12c3-4039-95ee-ebf4a532631e",
   "metadata": {},
   "outputs": [
    {
     "name": "stdout",
     "output_type": "stream",
     "text": [
      "The autoreload extension is already loaded. To reload it, use:\n",
      "  %reload_ext autoreload\n"
     ]
    }
   ],
   "source": [
    "from config_parsing import simplify_config\n",
    "from config_parsing.standardization import standardize\n",
    "import json\n",
    "import plotly.io as pio\n",
    "\n",
    "%load_ext autoreload\n",
    "%autoreload 2\n",
    "\n",
    "pio.renderers.default = \"jupyterlab\"\n",
    " \n",
    "CONFIG_LOCATION = \"D:/SteamLibrary/steamapps/common/Satisfactory/CommunityResources/Docs/Docs.json\"\n",
    "with open(CONFIG_LOCATION, \"r\", encoding=\"utf-16\") as f:\n",
    "    data = str(f.read())\n",
    "    BASE_CONFIG = simplify_config(json.loads(data))\n",
    "\n",
    "# with open(\"/home/kxnr/basic_config.json\", \"w\") as f:\n",
    "#     json.dump(BASE_CONFIG, f, indent=1)\n",
    "\n",
    "# missing miner, rebar spreadshot\n",
    "RESOURCE_KEYS = (\"Class'/Script/FactoryGame.FGItemDescriptor'\", \n",
    "                 \"Class'/Script/FactoryGame.FGResourceDescriptor'\",\n",
    "                 \"Class'/Script/FactoryGame.FGConsumableDescriptor'\",\n",
    "                 \"Class'/Script/FactoryGame.FGItemDescriptorBiomass'\",\n",
    "                 \"Class'/Script/FactoryGame.FGAmmoTypeProjectile'\",\n",
    "                 \"Class'/Script/FactoryGame.FGItemDescriptorNuclearFuel'\",\n",
    "                 \"Class'/Script/FactoryGame.FGAmmoTypeInstantHit'\",\n",
    "                 \"Class'/Script/FactoryGame.FGAmmoTypeSpreadshot'\")\n",
    "\n",
    "EXTRACTOR_KEYS = (\n",
    "    \"Class'/Script/FactoryGame.FGBuildableResourceExtractor'\", \n",
    "    \"Class'/Script/FactoryGame.FGBuildableFrackingExtractor'\"\n",
    ")\n",
    "\n",
    "GENERATOR_KEYS = (\n",
    "     \"Class'/Script/FactoryGame.FGBuildableGeneratorFuel'\",\n",
    "     \"Class'/Script/FactoryGame.FGBuildableGeneratorGeoThermal'\",\n",
    "     \"Class'/Script/FactoryGame.FGBuildableGeneratorNuclear'\",\n",
    ")\n",
    "\n",
    "# equipment descriptors contain the recipe for automated portable miners"
   ]
  },
  {
   "cell_type": "code",
   "execution_count": 39,
   "outputs": [
    {
     "data": {
      "text/plain": "'[{\"NativeClass\":\"Class\\'/Script/FactoryGame.FGItemDescriptor\\'\",\"Classes\":[{\"ClassName\":\"Desc_NuclearWaste_C\",\"mDisplayName\":\"Uranium Waste\",\"mDescription\":\"The by-product of consuming Uran'"
     },
     "execution_count": 39,
     "metadata": {},
     "output_type": "execute_result"
    }
   ],
   "source": [
    "data[data.find(\"Desc_NuclearWaste_C\") - 87:data.find(\"Desc_NuclearWaste_C\") + 100]"
   ],
   "metadata": {
    "collapsed": false
   }
  },
  {
   "cell_type": "code",
   "execution_count": 26,
   "outputs": [
    {
     "name": "stdout",
     "output_type": "stream",
     "text": [
      "(Field(name='uranium_waste',type=<class 'float'>,default=0,default_factory=<dataclasses._MISSING_TYPE object at 0x000001D0B7C59120>,init=True,repr=True,hash=None,compare=True,metadata=mappingproxy({'C:\\\\Users\\\\conno\\\\Documents\\\\Python Scripts\\\\Satisfactory\\\\config_parsing\\\\materials.py': MaterialMetadata(internal_name='Desc_NuclearWaste_C', friendly_name='uranium_waste', material_type=<MaterialType.SOLID: 'RF_SOLID'>, energy_value=0.0)}),kw_only=False,_field_type=_FIELD), Field(name='plutonium_waste',type=<class 'float'>,default=0,default_factory=<dataclasses._MISSING_TYPE object at 0x000001D0B7C59120>,init=True,repr=True,hash=None,compare=True,metadata=mappingproxy({'C:\\\\Users\\\\conno\\\\Documents\\\\Python Scripts\\\\Satisfactory\\\\config_parsing\\\\materials.py': MaterialMetadata(internal_name='Desc_PlutoniumWaste_C', friendly_name='plutonium_waste', material_type=<MaterialType.SOLID: 'RF_SOLID'>, energy_value=0.0)}),kw_only=False,_field_type=_FIELD), Field(name='battery',type=<class 'float'>,default=0,default_factory=<dataclasses._MISSING_TYPE object at 0x000001D0B7C59120>,init=True,repr=True,hash=None,compare=True,metadata=mappingproxy({'C:\\\\Users\\\\conno\\\\Documents\\\\Python Scripts\\\\Satisfactory\\\\config_parsing\\\\materials.py': MaterialMetadata(internal_name='Desc_Battery_C', friendly_name='battery', material_type=<MaterialType.SOLID: 'RF_SOLID'>, energy_value=6000.0)}),kw_only=False,_field_type=_FIELD), Field(name='aluminum_ingot',type=<class 'float'>,default=0,default_factory=<dataclasses._MISSING_TYPE object at 0x000001D0B7C59120>,init=True,repr=True,hash=None,compare=True,metadata=mappingproxy({'C:\\\\Users\\\\conno\\\\Documents\\\\Python Scripts\\\\Satisfactory\\\\config_parsing\\\\materials.py': MaterialMetadata(internal_name='Desc_AluminumIngot_C', friendly_name='aluminum_ingot', material_type=<MaterialType.SOLID: 'RF_SOLID'>, energy_value=0.0)}),kw_only=False,_field_type=_FIELD), Field(name='non_fissile_uranium',type=<class 'float'>,default=0,default_factory=<dataclasses._MISSING_TYPE object at 0x000001D0B7C59120>,init=True,repr=True,hash=None,compare=True,metadata=mappingproxy({'C:\\\\Users\\\\conno\\\\Documents\\\\Python Scripts\\\\Satisfactory\\\\config_parsing\\\\materials.py': MaterialMetadata(internal_name='Desc_NonFissibleUranium_C', friendly_name='non_fissile_uranium', material_type=<MaterialType.SOLID: 'RF_SOLID'>, energy_value=0.0)}),kw_only=False,_field_type=_FIELD), Field(name='plutonium_pellet',type=<class 'float'>,default=0,default_factory=<dataclasses._MISSING_TYPE object at 0x000001D0B7C59120>,init=True,repr=True,hash=None,compare=True,metadata=mappingproxy({'C:\\\\Users\\\\conno\\\\Documents\\\\Python Scripts\\\\Satisfactory\\\\config_parsing\\\\materials.py': MaterialMetadata(internal_name='Desc_PlutoniumPellet_C', friendly_name='plutonium_pellet', material_type=<MaterialType.SOLID: 'RF_SOLID'>, energy_value=0.0)}),kw_only=False,_field_type=_FIELD), Field(name='encased_plutonium_cell',type=<class 'float'>,default=0,default_factory=<dataclasses._MISSING_TYPE object at 0x000001D0B7C59120>,init=True,repr=True,hash=None,compare=True,metadata=mappingproxy({'C:\\\\Users\\\\conno\\\\Documents\\\\Python Scripts\\\\Satisfactory\\\\config_parsing\\\\materials.py': MaterialMetadata(internal_name='Desc_PlutoniumCell_C', friendly_name='encased_plutonium_cell', material_type=<MaterialType.SOLID: 'RF_SOLID'>, energy_value=0.0)}),kw_only=False,_field_type=_FIELD), Field(name='blue_power_slug',type=<class 'float'>,default=0,default_factory=<dataclasses._MISSING_TYPE object at 0x000001D0B7C59120>,init=True,repr=True,hash=None,compare=True,metadata=mappingproxy({'C:\\\\Users\\\\conno\\\\Documents\\\\Python Scripts\\\\Satisfactory\\\\config_parsing\\\\materials.py': MaterialMetadata(internal_name='Desc_Crystal_C', friendly_name='blue_power_slug', material_type=<MaterialType.SOLID: 'RF_SOLID'>, energy_value=0.0)}),kw_only=False,_field_type=_FIELD), Field(name='iron_rod',type=<class 'float'>,default=0,default_factory=<dataclasses._MISSING_TYPE object at 0x000001D0B7C59120>,init=True,repr=True,hash=None,compare=True,metadata=mappingproxy({'C:\\\\Users\\\\conno\\\\Documents\\\\Python Scripts\\\\Satisfactory\\\\config_parsing\\\\materials.py': MaterialMetadata(internal_name='Desc_IronRod_C', friendly_name='iron_rod', material_type=<MaterialType.SOLID: 'RF_SOLID'>, energy_value=0.0)}),kw_only=False,_field_type=_FIELD), Field(name='screw',type=<class 'float'>,default=0,default_factory=<dataclasses._MISSING_TYPE object at 0x000001D0B7C59120>,init=True,repr=True,hash=None,compare=True,metadata=mappingproxy({'C:\\\\Users\\\\conno\\\\Documents\\\\Python Scripts\\\\Satisfactory\\\\config_parsing\\\\materials.py': MaterialMetadata(internal_name='Desc_IronScrew_C', friendly_name='screw', material_type=<MaterialType.SOLID: 'RF_SOLID'>, energy_value=0.0)}),kw_only=False,_field_type=_FIELD), Field(name='wire',type=<class 'float'>,default=0,default_factory=<dataclasses._MISSING_TYPE object at 0x000001D0B7C59120>,init=True,repr=True,hash=None,compare=True,metadata=mappingproxy({'C:\\\\Users\\\\conno\\\\Documents\\\\Python Scripts\\\\Satisfactory\\\\config_parsing\\\\materials.py': MaterialMetadata(internal_name='Desc_Wire_C', friendly_name='wire', material_type=<MaterialType.SOLID: 'RF_SOLID'>, energy_value=0.0)}),kw_only=False,_field_type=_FIELD), Field(name='yellow_power_slug',type=<class 'float'>,default=0,default_factory=<dataclasses._MISSING_TYPE object at 0x000001D0B7C59120>,init=True,repr=True,hash=None,compare=True,metadata=mappingproxy({'C:\\\\Users\\\\conno\\\\Documents\\\\Python Scripts\\\\Satisfactory\\\\config_parsing\\\\materials.py': MaterialMetadata(internal_name='Desc_Crystal_mk2_C', friendly_name='yellow_power_slug', material_type=<MaterialType.SOLID: 'RF_SOLID'>, energy_value=0.0)}),kw_only=False,_field_type=_FIELD), Field(name='purple_power_slug',type=<class 'float'>,default=0,default_factory=<dataclasses._MISSING_TYPE object at 0x000001D0B7C59120>,init=True,repr=True,hash=None,compare=True,metadata=mappingproxy({'C:\\\\Users\\\\conno\\\\Documents\\\\Python Scripts\\\\Satisfactory\\\\config_parsing\\\\materials.py': MaterialMetadata(internal_name='Desc_Crystal_mk3_C', friendly_name='purple_power_slug', material_type=<MaterialType.SOLID: 'RF_SOLID'>, energy_value=0.0)}),kw_only=False,_field_type=_FIELD), Field(name='concrete',type=<class 'float'>,default=0,default_factory=<dataclasses._MISSING_TYPE object at 0x000001D0B7C59120>,init=True,repr=True,hash=None,compare=True,metadata=mappingproxy({'C:\\\\Users\\\\conno\\\\Documents\\\\Python Scripts\\\\Satisfactory\\\\config_parsing\\\\materials.py': MaterialMetadata(internal_name='Desc_Cement_C', friendly_name='concrete', material_type=<MaterialType.SOLID: 'RF_SOLID'>, energy_value=0.0)}),kw_only=False,_field_type=_FIELD), Field(name='silica',type=<class 'float'>,default=0,default_factory=<dataclasses._MISSING_TYPE object at 0x000001D0B7C59120>,init=True,repr=True,hash=None,compare=True,metadata=mappingproxy({'C:\\\\Users\\\\conno\\\\Documents\\\\Python Scripts\\\\Satisfactory\\\\config_parsing\\\\materials.py': MaterialMetadata(internal_name='Desc_Silica_C', friendly_name='silica', material_type=<MaterialType.SOLID: 'RF_SOLID'>, energy_value=0.0)}),kw_only=False,_field_type=_FIELD), Field(name='iron_plate',type=<class 'float'>,default=0,default_factory=<dataclasses._MISSING_TYPE object at 0x000001D0B7C59120>,init=True,repr=True,hash=None,compare=True,metadata=mappingproxy({'C:\\\\Users\\\\conno\\\\Documents\\\\Python Scripts\\\\Satisfactory\\\\config_parsing\\\\materials.py': MaterialMetadata(internal_name='Desc_IronPlate_C', friendly_name='iron_plate', material_type=<MaterialType.SOLID: 'RF_SOLID'>, energy_value=0.0)}),kw_only=False,_field_type=_FIELD), Field(name='steel_beam',type=<class 'float'>,default=0,default_factory=<dataclasses._MISSING_TYPE object at 0x000001D0B7C59120>,init=True,repr=True,hash=None,compare=True,metadata=mappingproxy({'C:\\\\Users\\\\conno\\\\Documents\\\\Python Scripts\\\\Satisfactory\\\\config_parsing\\\\materials.py': MaterialMetadata(internal_name='Desc_SteelPlate_C', friendly_name='steel_beam', material_type=<MaterialType.SOLID: 'RF_SOLID'>, energy_value=0.0)}),kw_only=False,_field_type=_FIELD), Field(name='color_cartridge',type=<class 'float'>,default=0,default_factory=<dataclasses._MISSING_TYPE object at 0x000001D0B7C59120>,init=True,repr=True,hash=None,compare=True,metadata=mappingproxy({'C:\\\\Users\\\\conno\\\\Documents\\\\Python Scripts\\\\Satisfactory\\\\config_parsing\\\\materials.py': MaterialMetadata(internal_name='Desc_ColorCartridge_C', friendly_name='color_cartridge', material_type=<MaterialType.SOLID: 'RF_SOLID'>, energy_value=900.0)}),kw_only=False,_field_type=_FIELD), Field(name='power_shard',type=<class 'float'>,default=0,default_factory=<dataclasses._MISSING_TYPE object at 0x000001D0B7C59120>,init=True,repr=True,hash=None,compare=True,metadata=mappingproxy({'C:\\\\Users\\\\conno\\\\Documents\\\\Python Scripts\\\\Satisfactory\\\\config_parsing\\\\materials.py': MaterialMetadata(internal_name='Desc_CrystalShard_C', friendly_name='power_shard', material_type=<MaterialType.SOLID: 'RF_SOLID'>, energy_value=0.0)}),kw_only=False,_field_type=_FIELD), Field(name='cable',type=<class 'float'>,default=0,default_factory=<dataclasses._MISSING_TYPE object at 0x000001D0B7C59120>,init=True,repr=True,hash=None,compare=True,metadata=mappingproxy({'C:\\\\Users\\\\conno\\\\Documents\\\\Python Scripts\\\\Satisfactory\\\\config_parsing\\\\materials.py': MaterialMetadata(internal_name='Desc_Cable_C', friendly_name='cable', material_type=<MaterialType.SOLID: 'RF_SOLID'>, energy_value=0.0)}),kw_only=False,_field_type=_FIELD), Field(name='modular_frame',type=<class 'float'>,default=0,default_factory=<dataclasses._MISSING_TYPE object at 0x000001D0B7C59120>,init=True,repr=True,hash=None,compare=True,metadata=mappingproxy({'C:\\\\Users\\\\conno\\\\Documents\\\\Python Scripts\\\\Satisfactory\\\\config_parsing\\\\materials.py': MaterialMetadata(internal_name='Desc_ModularFrame_C', friendly_name='modular_frame', material_type=<MaterialType.SOLID: 'RF_SOLID'>, energy_value=0.0)}),kw_only=False,_field_type=_FIELD), Field(name='packaged_fuel',type=<class 'float'>,default=0,default_factory=<dataclasses._MISSING_TYPE object at 0x000001D0B7C59120>,init=True,repr=True,hash=None,compare=True,metadata=mappingproxy({'C:\\\\Users\\\\conno\\\\Documents\\\\Python Scripts\\\\Satisfactory\\\\config_parsing\\\\materials.py': MaterialMetadata(internal_name='Desc_Fuel_C', friendly_name='packaged_fuel', material_type=<MaterialType.SOLID: 'RF_SOLID'>, energy_value=750.0)}),kw_only=False,_field_type=_FIELD), Field(name='packaged_turbofuel',type=<class 'float'>,default=0,default_factory=<dataclasses._MISSING_TYPE object at 0x000001D0B7C59120>,init=True,repr=True,hash=None,compare=True,metadata=mappingproxy({'C:\\\\Users\\\\conno\\\\Documents\\\\Python Scripts\\\\Satisfactory\\\\config_parsing\\\\materials.py': MaterialMetadata(internal_name='Desc_TurboFuel_C', friendly_name='packaged_turbofuel', material_type=<MaterialType.SOLID: 'RF_SOLID'>, energy_value=2000.0)}),kw_only=False,_field_type=_FIELD), Field(name='iodine_infused_filter',type=<class 'float'>,default=0,default_factory=<dataclasses._MISSING_TYPE object at 0x000001D0B7C59120>,init=True,repr=True,hash=None,compare=True,metadata=mappingproxy({'C:\\\\Users\\\\conno\\\\Documents\\\\Python Scripts\\\\Satisfactory\\\\config_parsing\\\\materials.py': MaterialMetadata(internal_name='Desc_HazmatFilter_C', friendly_name='iodine_infused_filter', material_type=<MaterialType.SOLID: 'RF_SOLID'>, energy_value=0.0)}),kw_only=False,_field_type=_FIELD), Field(name='gas_filter',type=<class 'float'>,default=0,default_factory=<dataclasses._MISSING_TYPE object at 0x000001D0B7C59120>,init=True,repr=True,hash=None,compare=True,metadata=mappingproxy({'C:\\\\Users\\\\conno\\\\Documents\\\\Python Scripts\\\\Satisfactory\\\\config_parsing\\\\materials.py': MaterialMetadata(internal_name='Desc_Filter_C', friendly_name='gas_filter', material_type=<MaterialType.SOLID: 'RF_SOLID'>, energy_value=0.0)}),kw_only=False,_field_type=_FIELD), Field(name='hub_parts',type=<class 'float'>,default=0,default_factory=<dataclasses._MISSING_TYPE object at 0x000001D0B7C59120>,init=True,repr=True,hash=None,compare=True,metadata=mappingproxy({'C:\\\\Users\\\\conno\\\\Documents\\\\Python Scripts\\\\Satisfactory\\\\config_parsing\\\\materials.py': MaterialMetadata(internal_name='Desc_HUBParts_C', friendly_name='hub_parts', material_type=<MaterialType.SOLID: 'RF_SOLID'>, energy_value=0.0)}),kw_only=False,_field_type=_FIELD), Field(name='reinforced_iron_plate',type=<class 'float'>,default=0,default_factory=<dataclasses._MISSING_TYPE object at 0x000001D0B7C59120>,init=True,repr=True,hash=None,compare=True,metadata=mappingproxy({'C:\\\\Users\\\\conno\\\\Documents\\\\Python Scripts\\\\Satisfactory\\\\config_parsing\\\\materials.py': MaterialMetadata(internal_name='Desc_IronPlateReinforced_C', friendly_name='reinforced_iron_plate', material_type=<MaterialType.SOLID: 'RF_SOLID'>, energy_value=0.0)}),kw_only=False,_field_type=_FIELD), Field(name='copper_ingot',type=<class 'float'>,default=0,default_factory=<dataclasses._MISSING_TYPE object at 0x000001D0B7C59120>,init=True,repr=True,hash=None,compare=True,metadata=mappingproxy({'C:\\\\Users\\\\conno\\\\Documents\\\\Python Scripts\\\\Satisfactory\\\\config_parsing\\\\materials.py': MaterialMetadata(internal_name='Desc_CopperIngot_C', friendly_name='copper_ingot', material_type=<MaterialType.SOLID: 'RF_SOLID'>, energy_value=0.0)}),kw_only=False,_field_type=_FIELD), Field(name='ficsmas_gift',type=<class 'float'>,default=0,default_factory=<dataclasses._MISSING_TYPE object at 0x000001D0B7C59120>,init=True,repr=True,hash=None,compare=True,metadata=mappingproxy({'C:\\\\Users\\\\conno\\\\Documents\\\\Python Scripts\\\\Satisfactory\\\\config_parsing\\\\materials.py': MaterialMetadata(internal_name='Desc_Gift_C', friendly_name='ficsmas_gift', material_type=<MaterialType.SOLID: 'RF_SOLID'>, energy_value=0.0)}),kw_only=False,_field_type=_FIELD), Field(name='candy_cane',type=<class 'float'>,default=0,default_factory=<dataclasses._MISSING_TYPE object at 0x000001D0B7C59120>,init=True,repr=True,hash=None,compare=True,metadata=mappingproxy({'C:\\\\Users\\\\conno\\\\Documents\\\\Python Scripts\\\\Satisfactory\\\\config_parsing\\\\materials.py': MaterialMetadata(internal_name='Desc_CandyCane_C', friendly_name='candy_cane', material_type=<MaterialType.SOLID: 'RF_SOLID'>, energy_value=0.0)}),kw_only=False,_field_type=_FIELD), Field(name='ficsmas_tree_branch',type=<class 'float'>,default=0,default_factory=<dataclasses._MISSING_TYPE object at 0x000001D0B7C59120>,init=True,repr=True,hash=None,compare=True,metadata=mappingproxy({'C:\\\\Users\\\\conno\\\\Documents\\\\Python Scripts\\\\Satisfactory\\\\config_parsing\\\\materials.py': MaterialMetadata(internal_name='Desc_XmasBranch_C', friendly_name='ficsmas_tree_branch', material_type=<MaterialType.SOLID: 'RF_SOLID'>, energy_value=0.0)}),kw_only=False,_field_type=_FIELD), Field(name='ficsmas_bow',type=<class 'float'>,default=0,default_factory=<dataclasses._MISSING_TYPE object at 0x000001D0B7C59120>,init=True,repr=True,hash=None,compare=True,metadata=mappingproxy({'C:\\\\Users\\\\conno\\\\Documents\\\\Python Scripts\\\\Satisfactory\\\\config_parsing\\\\materials.py': MaterialMetadata(internal_name='Desc_XmasBow_C', friendly_name='ficsmas_bow', material_type=<MaterialType.SOLID: 'RF_SOLID'>, energy_value=0.0)}),kw_only=False,_field_type=_FIELD), Field(name='actual_snow',type=<class 'float'>,default=0,default_factory=<dataclasses._MISSING_TYPE object at 0x000001D0B7C59120>,init=True,repr=True,hash=None,compare=True,metadata=mappingproxy({'C:\\\\Users\\\\conno\\\\Documents\\\\Python Scripts\\\\Satisfactory\\\\config_parsing\\\\materials.py': MaterialMetadata(internal_name='Desc_Snow_C', friendly_name='actual_snow', material_type=<MaterialType.SOLID: 'RF_SOLID'>, energy_value=0.0)}),kw_only=False,_field_type=_FIELD), Field(name='ficsmas_wonder_star',type=<class 'float'>,default=0,default_factory=<dataclasses._MISSING_TYPE object at 0x000001D0B7C59120>,init=True,repr=True,hash=None,compare=True,metadata=mappingproxy({'C:\\\\Users\\\\conno\\\\Documents\\\\Python Scripts\\\\Satisfactory\\\\config_parsing\\\\materials.py': MaterialMetadata(internal_name='Desc_XmasStar_C', friendly_name='ficsmas_wonder_star', material_type=<MaterialType.SOLID: 'RF_SOLID'>, energy_value=0.0)}),kw_only=False,_field_type=_FIELD), Field(name='red_ficsmas_ornament',type=<class 'float'>,default=0,default_factory=<dataclasses._MISSING_TYPE object at 0x000001D0B7C59120>,init=True,repr=True,hash=None,compare=True,metadata=mappingproxy({'C:\\\\Users\\\\conno\\\\Documents\\\\Python Scripts\\\\Satisfactory\\\\config_parsing\\\\materials.py': MaterialMetadata(internal_name='Desc_XmasBall1_C', friendly_name='red_ficsmas_ornament', material_type=<MaterialType.SOLID: 'RF_SOLID'>, energy_value=0.0)}),kw_only=False,_field_type=_FIELD), Field(name='blue_ficsmas_ornament',type=<class 'float'>,default=0,default_factory=<dataclasses._MISSING_TYPE object at 0x000001D0B7C59120>,init=True,repr=True,hash=None,compare=True,metadata=mappingproxy({'C:\\\\Users\\\\conno\\\\Documents\\\\Python Scripts\\\\Satisfactory\\\\config_parsing\\\\materials.py': MaterialMetadata(internal_name='Desc_XmasBall2_C', friendly_name='blue_ficsmas_ornament', material_type=<MaterialType.SOLID: 'RF_SOLID'>, energy_value=0.0)}),kw_only=False,_field_type=_FIELD), Field(name='copper_ficsmas_ornament',type=<class 'float'>,default=0,default_factory=<dataclasses._MISSING_TYPE object at 0x000001D0B7C59120>,init=True,repr=True,hash=None,compare=True,metadata=mappingproxy({'C:\\\\Users\\\\conno\\\\Documents\\\\Python Scripts\\\\Satisfactory\\\\config_parsing\\\\materials.py': MaterialMetadata(internal_name='Desc_XmasBall3_C', friendly_name='copper_ficsmas_ornament', material_type=<MaterialType.SOLID: 'RF_SOLID'>, energy_value=0.0)}),kw_only=False,_field_type=_FIELD), Field(name='iron_ficsmas_ornament',type=<class 'float'>,default=0,default_factory=<dataclasses._MISSING_TYPE object at 0x000001D0B7C59120>,init=True,repr=True,hash=None,compare=True,metadata=mappingproxy({'C:\\\\Users\\\\conno\\\\Documents\\\\Python Scripts\\\\Satisfactory\\\\config_parsing\\\\materials.py': MaterialMetadata(internal_name='Desc_XmasBall4_C', friendly_name='iron_ficsmas_ornament', material_type=<MaterialType.SOLID: 'RF_SOLID'>, energy_value=0.0)}),kw_only=False,_field_type=_FIELD), Field(name='ficsmas_ornament_bundle',type=<class 'float'>,default=0,default_factory=<dataclasses._MISSING_TYPE object at 0x000001D0B7C59120>,init=True,repr=True,hash=None,compare=True,metadata=mappingproxy({'C:\\\\Users\\\\conno\\\\Documents\\\\Python Scripts\\\\Satisfactory\\\\config_parsing\\\\materials.py': MaterialMetadata(internal_name='Desc_XmasBallCluster_C', friendly_name='ficsmas_ornament_bundle', material_type=<MaterialType.SOLID: 'RF_SOLID'>, energy_value=0.0)}),kw_only=False,_field_type=_FIELD), Field(name='ficsmas_decoration',type=<class 'float'>,default=0,default_factory=<dataclasses._MISSING_TYPE object at 0x000001D0B7C59120>,init=True,repr=True,hash=None,compare=True,metadata=mappingproxy({'C:\\\\Users\\\\conno\\\\Documents\\\\Python Scripts\\\\Satisfactory\\\\config_parsing\\\\materials.py': MaterialMetadata(internal_name='Desc_XmasWreath_C', friendly_name='ficsmas_decoration', material_type=<MaterialType.SOLID: 'RF_SOLID'>, energy_value=0.0)}),kw_only=False,_field_type=_FIELD), Field(name='fused_modular_frame',type=<class 'float'>,default=0,default_factory=<dataclasses._MISSING_TYPE object at 0x000001D0B7C59120>,init=True,repr=True,hash=None,compare=True,metadata=mappingproxy({'C:\\\\Users\\\\conno\\\\Documents\\\\Python Scripts\\\\Satisfactory\\\\config_parsing\\\\materials.py': MaterialMetadata(internal_name='Desc_ModularFrameFused_C', friendly_name='fused_modular_frame', material_type=<MaterialType.SOLID: 'RF_SOLID'>, energy_value=0.0)}),kw_only=False,_field_type=_FIELD), Field(name='circuit_board',type=<class 'float'>,default=0,default_factory=<dataclasses._MISSING_TYPE object at 0x000001D0B7C59120>,init=True,repr=True,hash=None,compare=True,metadata=mappingproxy({'C:\\\\Users\\\\conno\\\\Documents\\\\Python Scripts\\\\Satisfactory\\\\config_parsing\\\\materials.py': MaterialMetadata(internal_name='Desc_CircuitBoard_C', friendly_name='circuit_board', material_type=<MaterialType.SOLID: 'RF_SOLID'>, energy_value=0.0)}),kw_only=False,_field_type=_FIELD), Field(name='copper_sheet',type=<class 'float'>,default=0,default_factory=<dataclasses._MISSING_TYPE object at 0x000001D0B7C59120>,init=True,repr=True,hash=None,compare=True,metadata=mappingproxy({'C:\\\\Users\\\\conno\\\\Documents\\\\Python Scripts\\\\Satisfactory\\\\config_parsing\\\\materials.py': MaterialMetadata(internal_name='Desc_CopperSheet_C', friendly_name='copper_sheet', material_type=<MaterialType.SOLID: 'RF_SOLID'>, energy_value=0.0)}),kw_only=False,_field_type=_FIELD), Field(name='crystal_oscillator',type=<class 'float'>,default=0,default_factory=<dataclasses._MISSING_TYPE object at 0x000001D0B7C59120>,init=True,repr=True,hash=None,compare=True,metadata=mappingproxy({'C:\\\\Users\\\\conno\\\\Documents\\\\Python Scripts\\\\Satisfactory\\\\config_parsing\\\\materials.py': MaterialMetadata(internal_name='Desc_CrystalOscillator_C', friendly_name='crystal_oscillator', material_type=<MaterialType.SOLID: 'RF_SOLID'>, energy_value=0.0)}),kw_only=False,_field_type=_FIELD), Field(name='smart_plating',type=<class 'float'>,default=0,default_factory=<dataclasses._MISSING_TYPE object at 0x000001D0B7C59120>,init=True,repr=True,hash=None,compare=True,metadata=mappingproxy({'C:\\\\Users\\\\conno\\\\Documents\\\\Python Scripts\\\\Satisfactory\\\\config_parsing\\\\materials.py': MaterialMetadata(internal_name='Desc_SpaceElevatorPart_1_C', friendly_name='smart_plating', material_type=<MaterialType.SOLID: 'RF_SOLID'>, energy_value=0.0)}),kw_only=False,_field_type=_FIELD), Field(name='versatile_framework',type=<class 'float'>,default=0,default_factory=<dataclasses._MISSING_TYPE object at 0x000001D0B7C59120>,init=True,repr=True,hash=None,compare=True,metadata=mappingproxy({'C:\\\\Users\\\\conno\\\\Documents\\\\Python Scripts\\\\Satisfactory\\\\config_parsing\\\\materials.py': MaterialMetadata(internal_name='Desc_SpaceElevatorPart_2_C', friendly_name='versatile_framework', material_type=<MaterialType.SOLID: 'RF_SOLID'>, energy_value=0.0)}),kw_only=False,_field_type=_FIELD), Field(name='automated_wiring',type=<class 'float'>,default=0,default_factory=<dataclasses._MISSING_TYPE object at 0x000001D0B7C59120>,init=True,repr=True,hash=None,compare=True,metadata=mappingproxy({'C:\\\\Users\\\\conno\\\\Documents\\\\Python Scripts\\\\Satisfactory\\\\config_parsing\\\\materials.py': MaterialMetadata(internal_name='Desc_SpaceElevatorPart_3_C', friendly_name='automated_wiring', material_type=<MaterialType.SOLID: 'RF_SOLID'>, energy_value=0.0)}),kw_only=False,_field_type=_FIELD), Field(name='modular_engine',type=<class 'float'>,default=0,default_factory=<dataclasses._MISSING_TYPE object at 0x000001D0B7C59120>,init=True,repr=True,hash=None,compare=True,metadata=mappingproxy({'C:\\\\Users\\\\conno\\\\Documents\\\\Python Scripts\\\\Satisfactory\\\\config_parsing\\\\materials.py': MaterialMetadata(internal_name='Desc_SpaceElevatorPart_4_C', friendly_name='modular_engine', material_type=<MaterialType.SOLID: 'RF_SOLID'>, energy_value=0.0)}),kw_only=False,_field_type=_FIELD), Field(name='packaged_water',type=<class 'float'>,default=0,default_factory=<dataclasses._MISSING_TYPE object at 0x000001D0B7C59120>,init=True,repr=True,hash=None,compare=True,metadata=mappingproxy({'C:\\\\Users\\\\conno\\\\Documents\\\\Python Scripts\\\\Satisfactory\\\\config_parsing\\\\materials.py': MaterialMetadata(internal_name='Desc_PackagedWater_C', friendly_name='packaged_water', material_type=<MaterialType.SOLID: 'RF_SOLID'>, energy_value=0.0)}),kw_only=False,_field_type=_FIELD), Field(name='alien_dna_capsule',type=<class 'float'>,default=0,default_factory=<dataclasses._MISSING_TYPE object at 0x000001D0B7C59120>,init=True,repr=True,hash=None,compare=True,metadata=mappingproxy({'C:\\\\Users\\\\conno\\\\Documents\\\\Python Scripts\\\\Satisfactory\\\\config_parsing\\\\materials.py': MaterialMetadata(internal_name='Desc_AlienDNACapsule_C', friendly_name='alien_dna_capsule', material_type=<MaterialType.SOLID: 'RF_SOLID'>, energy_value=0.0)}),kw_only=False,_field_type=_FIELD), Field(name='high_speed_connector',type=<class 'float'>,default=0,default_factory=<dataclasses._MISSING_TYPE object at 0x000001D0B7C59120>,init=True,repr=True,hash=None,compare=True,metadata=mappingproxy({'C:\\\\Users\\\\conno\\\\Documents\\\\Python Scripts\\\\Satisfactory\\\\config_parsing\\\\materials.py': MaterialMetadata(internal_name='Desc_HighSpeedConnector_C', friendly_name='high_speed_connector', material_type=<MaterialType.SOLID: 'RF_SOLID'>, energy_value=0.0)}),kw_only=False,_field_type=_FIELD), Field(name='motor',type=<class 'float'>,default=0,default_factory=<dataclasses._MISSING_TYPE object at 0x000001D0B7C59120>,init=True,repr=True,hash=None,compare=True,metadata=mappingproxy({'C:\\\\Users\\\\conno\\\\Documents\\\\Python Scripts\\\\Satisfactory\\\\config_parsing\\\\materials.py': MaterialMetadata(internal_name='Desc_Motor_C', friendly_name='motor', material_type=<MaterialType.SOLID: 'RF_SOLID'>, energy_value=0.0)}),kw_only=False,_field_type=_FIELD), Field(name='adaptive_control_unit',type=<class 'float'>,default=0,default_factory=<dataclasses._MISSING_TYPE object at 0x000001D0B7C59120>,init=True,repr=True,hash=None,compare=True,metadata=mappingproxy({'C:\\\\Users\\\\conno\\\\Documents\\\\Python Scripts\\\\Satisfactory\\\\config_parsing\\\\materials.py': MaterialMetadata(internal_name='Desc_SpaceElevatorPart_5_C', friendly_name='adaptive_control_unit', material_type=<MaterialType.SOLID: 'RF_SOLID'>, energy_value=0.0)}),kw_only=False,_field_type=_FIELD), Field(name='magnetic_field_generator',type=<class 'float'>,default=0,default_factory=<dataclasses._MISSING_TYPE object at 0x000001D0B7C59120>,init=True,repr=True,hash=None,compare=True,metadata=mappingproxy({'C:\\\\Users\\\\conno\\\\Documents\\\\Python Scripts\\\\Satisfactory\\\\config_parsing\\\\materials.py': MaterialMetadata(internal_name='Desc_SpaceElevatorPart_6_C', friendly_name='magnetic_field_generator', material_type=<MaterialType.SOLID: 'RF_SOLID'>, energy_value=0.0)}),kw_only=False,_field_type=_FIELD), Field(name='assembly_director_system',type=<class 'float'>,default=0,default_factory=<dataclasses._MISSING_TYPE object at 0x000001D0B7C59120>,init=True,repr=True,hash=None,compare=True,metadata=mappingproxy({'C:\\\\Users\\\\conno\\\\Documents\\\\Python Scripts\\\\Satisfactory\\\\config_parsing\\\\materials.py': MaterialMetadata(internal_name='Desc_SpaceElevatorPart_7_C', friendly_name='assembly_director_system', material_type=<MaterialType.SOLID: 'RF_SOLID'>, energy_value=0.0)}),kw_only=False,_field_type=_FIELD), Field(name='thermal_propulsion_rocket',type=<class 'float'>,default=0,default_factory=<dataclasses._MISSING_TYPE object at 0x000001D0B7C59120>,init=True,repr=True,hash=None,compare=True,metadata=mappingproxy({'C:\\\\Users\\\\conno\\\\Documents\\\\Python Scripts\\\\Satisfactory\\\\config_parsing\\\\materials.py': MaterialMetadata(internal_name='Desc_SpaceElevatorPart_8_C', friendly_name='thermal_propulsion_rocket', material_type=<MaterialType.SOLID: 'RF_SOLID'>, energy_value=0.0)}),kw_only=False,_field_type=_FIELD), Field(name='nuclear_pasta',type=<class 'float'>,default=0,default_factory=<dataclasses._MISSING_TYPE object at 0x000001D0B7C59120>,init=True,repr=True,hash=None,compare=True,metadata=mappingproxy({'C:\\\\Users\\\\conno\\\\Documents\\\\Python Scripts\\\\Satisfactory\\\\config_parsing\\\\materials.py': MaterialMetadata(internal_name='Desc_SpaceElevatorPart_9_C', friendly_name='nuclear_pasta', material_type=<MaterialType.SOLID: 'RF_SOLID'>, energy_value=0.0)}),kw_only=False,_field_type=_FIELD), Field(name='iron_ingot',type=<class 'float'>,default=0,default_factory=<dataclasses._MISSING_TYPE object at 0x000001D0B7C59120>,init=True,repr=True,hash=None,compare=True,metadata=mappingproxy({'C:\\\\Users\\\\conno\\\\Documents\\\\Python Scripts\\\\Satisfactory\\\\config_parsing\\\\materials.py': MaterialMetadata(internal_name='Desc_IronIngot_C', friendly_name='iron_ingot', material_type=<MaterialType.SOLID: 'RF_SOLID'>, energy_value=0.0)}),kw_only=False,_field_type=_FIELD), Field(name='alclad_aluminum_sheet',type=<class 'float'>,default=0,default_factory=<dataclasses._MISSING_TYPE object at 0x000001D0B7C59120>,init=True,repr=True,hash=None,compare=True,metadata=mappingproxy({'C:\\\\Users\\\\conno\\\\Documents\\\\Python Scripts\\\\Satisfactory\\\\config_parsing\\\\materials.py': MaterialMetadata(internal_name='Desc_AluminumPlate_C', friendly_name='alclad_aluminum_sheet', material_type=<MaterialType.SOLID: 'RF_SOLID'>, energy_value=0.0)}),kw_only=False,_field_type=_FIELD), Field(name='rotor',type=<class 'float'>,default=0,default_factory=<dataclasses._MISSING_TYPE object at 0x000001D0B7C59120>,init=True,repr=True,hash=None,compare=True,metadata=mappingproxy({'C:\\\\Users\\\\conno\\\\Documents\\\\Python Scripts\\\\Satisfactory\\\\config_parsing\\\\materials.py': MaterialMetadata(internal_name='Desc_Rotor_C', friendly_name='rotor', material_type=<MaterialType.SOLID: 'RF_SOLID'>, energy_value=0.0)}),kw_only=False,_field_type=_FIELD), Field(name='rubber',type=<class 'float'>,default=0,default_factory=<dataclasses._MISSING_TYPE object at 0x000001D0B7C59120>,init=True,repr=True,hash=None,compare=True,metadata=mappingproxy({'C:\\\\Users\\\\conno\\\\Documents\\\\Python Scripts\\\\Satisfactory\\\\config_parsing\\\\materials.py': MaterialMetadata(internal_name='Desc_Rubber_C', friendly_name='rubber', material_type=<MaterialType.SOLID: 'RF_SOLID'>, energy_value=0.0)}),kw_only=False,_field_type=_FIELD), Field(name='plastic',type=<class 'float'>,default=0,default_factory=<dataclasses._MISSING_TYPE object at 0x000001D0B7C59120>,init=True,repr=True,hash=None,compare=True,metadata=mappingproxy({'C:\\\\Users\\\\conno\\\\Documents\\\\Python Scripts\\\\Satisfactory\\\\config_parsing\\\\materials.py': MaterialMetadata(internal_name='Desc_Plastic_C', friendly_name='plastic', material_type=<MaterialType.SOLID: 'RF_SOLID'>, energy_value=0.0)}),kw_only=False,_field_type=_FIELD), Field(name='encased_industrial_beam',type=<class 'float'>,default=0,default_factory=<dataclasses._MISSING_TYPE object at 0x000001D0B7C59120>,init=True,repr=True,hash=None,compare=True,metadata=mappingproxy({'C:\\\\Users\\\\conno\\\\Documents\\\\Python Scripts\\\\Satisfactory\\\\config_parsing\\\\materials.py': MaterialMetadata(internal_name='Desc_SteelPlateReinforced_C', friendly_name='encased_industrial_beam', material_type=<MaterialType.SOLID: 'RF_SOLID'>, energy_value=0.0)}),kw_only=False,_field_type=_FIELD), Field(name='steel_pipe',type=<class 'float'>,default=0,default_factory=<dataclasses._MISSING_TYPE object at 0x000001D0B7C59120>,init=True,repr=True,hash=None,compare=True,metadata=mappingproxy({'C:\\\\Users\\\\conno\\\\Documents\\\\Python Scripts\\\\Satisfactory\\\\config_parsing\\\\materials.py': MaterialMetadata(internal_name='Desc_SteelPipe_C', friendly_name='steel_pipe', material_type=<MaterialType.SOLID: 'RF_SOLID'>, energy_value=0.0)}),kw_only=False,_field_type=_FIELD), Field(name='fuel',type=<class 'float'>,default=0,default_factory=<dataclasses._MISSING_TYPE object at 0x000001D0B7C59120>,init=True,repr=True,hash=None,compare=True,metadata=mappingproxy({'C:\\\\Users\\\\conno\\\\Documents\\\\Python Scripts\\\\Satisfactory\\\\config_parsing\\\\materials.py': MaterialMetadata(internal_name='Desc_LiquidFuel_C', friendly_name='fuel', material_type=<MaterialType.LIQUID: 'RF_LIQUID'>, energy_value=0.75)}),kw_only=False,_field_type=_FIELD), Field(name='polymer_resin',type=<class 'float'>,default=0,default_factory=<dataclasses._MISSING_TYPE object at 0x000001D0B7C59120>,init=True,repr=True,hash=None,compare=True,metadata=mappingproxy({'C:\\\\Users\\\\conno\\\\Documents\\\\Python Scripts\\\\Satisfactory\\\\config_parsing\\\\materials.py': MaterialMetadata(internal_name='Desc_PolymerResin_C', friendly_name='polymer_resin', material_type=<MaterialType.SOLID: 'RF_SOLID'>, energy_value=0.0)}),kw_only=False,_field_type=_FIELD), Field(name='heavy_oil_residue',type=<class 'float'>,default=0,default_factory=<dataclasses._MISSING_TYPE object at 0x000001D0B7C59120>,init=True,repr=True,hash=None,compare=True,metadata=mappingproxy({'C:\\\\Users\\\\conno\\\\Documents\\\\Python Scripts\\\\Satisfactory\\\\config_parsing\\\\materials.py': MaterialMetadata(internal_name='Desc_HeavyOilResidue_C', friendly_name='heavy_oil_residue', material_type=<MaterialType.LIQUID: 'RF_LIQUID'>, energy_value=0.4)}),kw_only=False,_field_type=_FIELD), Field(name='petroleum_coke',type=<class 'float'>,default=0,default_factory=<dataclasses._MISSING_TYPE object at 0x000001D0B7C59120>,init=True,repr=True,hash=None,compare=True,metadata=mappingproxy({'C:\\\\Users\\\\conno\\\\Documents\\\\Python Scripts\\\\Satisfactory\\\\config_parsing\\\\materials.py': MaterialMetadata(internal_name='Desc_PetroleumCoke_C', friendly_name='petroleum_coke', material_type=<MaterialType.SOLID: 'RF_SOLID'>, energy_value=180.0)}),kw_only=False,_field_type=_FIELD), Field(name='empty_canister',type=<class 'float'>,default=0,default_factory=<dataclasses._MISSING_TYPE object at 0x000001D0B7C59120>,init=True,repr=True,hash=None,compare=True,metadata=mappingproxy({'C:\\\\Users\\\\conno\\\\Documents\\\\Python Scripts\\\\Satisfactory\\\\config_parsing\\\\materials.py': MaterialMetadata(internal_name='Desc_FluidCanister_C', friendly_name='empty_canister', material_type=<MaterialType.SOLID: 'RF_SOLID'>, energy_value=0.0)}),kw_only=False,_field_type=_FIELD), Field(name='heavy_modular_frame',type=<class 'float'>,default=0,default_factory=<dataclasses._MISSING_TYPE object at 0x000001D0B7C59120>,init=True,repr=True,hash=None,compare=True,metadata=mappingproxy({'C:\\\\Users\\\\conno\\\\Documents\\\\Python Scripts\\\\Satisfactory\\\\config_parsing\\\\materials.py': MaterialMetadata(internal_name='Desc_ModularFrameHeavy_C', friendly_name='heavy_modular_frame', material_type=<MaterialType.SOLID: 'RF_SOLID'>, energy_value=0.0)}),kw_only=False,_field_type=_FIELD), Field(name='packaged_oil',type=<class 'float'>,default=0,default_factory=<dataclasses._MISSING_TYPE object at 0x000001D0B7C59120>,init=True,repr=True,hash=None,compare=True,metadata=mappingproxy({'C:\\\\Users\\\\conno\\\\Documents\\\\Python Scripts\\\\Satisfactory\\\\config_parsing\\\\materials.py': MaterialMetadata(internal_name='Desc_PackagedOil_C', friendly_name='packaged_oil', material_type=<MaterialType.SOLID: 'RF_SOLID'>, energy_value=320.0)}),kw_only=False,_field_type=_FIELD), Field(name='packaged_heavy_oil_residue',type=<class 'float'>,default=0,default_factory=<dataclasses._MISSING_TYPE object at 0x000001D0B7C59120>,init=True,repr=True,hash=None,compare=True,metadata=mappingproxy({'C:\\\\Users\\\\conno\\\\Documents\\\\Python Scripts\\\\Satisfactory\\\\config_parsing\\\\materials.py': MaterialMetadata(internal_name='Desc_PackagedOilResidue_C', friendly_name='packaged_heavy_oil_residue', material_type=<MaterialType.SOLID: 'RF_SOLID'>, energy_value=400.0)}),kw_only=False,_field_type=_FIELD), Field(name='steel_ingot',type=<class 'float'>,default=0,default_factory=<dataclasses._MISSING_TYPE object at 0x000001D0B7C59120>,init=True,repr=True,hash=None,compare=True,metadata=mappingproxy({'C:\\\\Users\\\\conno\\\\Documents\\\\Python Scripts\\\\Satisfactory\\\\config_parsing\\\\materials.py': MaterialMetadata(internal_name='Desc_SteelIngot_C', friendly_name='steel_ingot', material_type=<MaterialType.SOLID: 'RF_SOLID'>, energy_value=0.0)}),kw_only=False,_field_type=_FIELD), Field(name='alumina_solution',type=<class 'float'>,default=0,default_factory=<dataclasses._MISSING_TYPE object at 0x000001D0B7C59120>,init=True,repr=True,hash=None,compare=True,metadata=mappingproxy({'C:\\\\Users\\\\conno\\\\Documents\\\\Python Scripts\\\\Satisfactory\\\\config_parsing\\\\materials.py': MaterialMetadata(internal_name='Desc_AluminaSolution_C', friendly_name='alumina_solution', material_type=<MaterialType.LIQUID: 'RF_LIQUID'>, energy_value=0.0)}),kw_only=False,_field_type=_FIELD), Field(name='aluminum_scrap',type=<class 'float'>,default=0,default_factory=<dataclasses._MISSING_TYPE object at 0x000001D0B7C59120>,init=True,repr=True,hash=None,compare=True,metadata=mappingproxy({'C:\\\\Users\\\\conno\\\\Documents\\\\Python Scripts\\\\Satisfactory\\\\config_parsing\\\\materials.py': MaterialMetadata(internal_name='Desc_AluminumScrap_C', friendly_name='aluminum_scrap', material_type=<MaterialType.SOLID: 'RF_SOLID'>, energy_value=0.0)}),kw_only=False,_field_type=_FIELD), Field(name='sulfuric_acid',type=<class 'float'>,default=0,default_factory=<dataclasses._MISSING_TYPE object at 0x000001D0B7C59120>,init=True,repr=True,hash=None,compare=True,metadata=mappingproxy({'C:\\\\Users\\\\conno\\\\Documents\\\\Python Scripts\\\\Satisfactory\\\\config_parsing\\\\materials.py': MaterialMetadata(internal_name='Desc_SulfuricAcid_C', friendly_name='sulfuric_acid', material_type=<MaterialType.LIQUID: 'RF_LIQUID'>, energy_value=0.0)}),kw_only=False,_field_type=_FIELD), Field(name='encased_uranium_cell',type=<class 'float'>,default=0,default_factory=<dataclasses._MISSING_TYPE object at 0x000001D0B7C59120>,init=True,repr=True,hash=None,compare=True,metadata=mappingproxy({'C:\\\\Users\\\\conno\\\\Documents\\\\Python Scripts\\\\Satisfactory\\\\config_parsing\\\\materials.py': MaterialMetadata(internal_name='Desc_UraniumCell_C', friendly_name='encased_uranium_cell', material_type=<MaterialType.SOLID: 'RF_SOLID'>, energy_value=0.0)}),kw_only=False,_field_type=_FIELD), Field(name='heat_sink',type=<class 'float'>,default=0,default_factory=<dataclasses._MISSING_TYPE object at 0x000001D0B7C59120>,init=True,repr=True,hash=None,compare=True,metadata=mappingproxy({'C:\\\\Users\\\\conno\\\\Documents\\\\Python Scripts\\\\Satisfactory\\\\config_parsing\\\\materials.py': MaterialMetadata(internal_name='Desc_AluminumPlateReinforced_C', friendly_name='heat_sink', material_type=<MaterialType.SOLID: 'RF_SOLID'>, energy_value=0.0)}),kw_only=False,_field_type=_FIELD), Field(name='cooling_system',type=<class 'float'>,default=0,default_factory=<dataclasses._MISSING_TYPE object at 0x000001D0B7C59120>,init=True,repr=True,hash=None,compare=True,metadata=mappingproxy({'C:\\\\Users\\\\conno\\\\Documents\\\\Python Scripts\\\\Satisfactory\\\\config_parsing\\\\materials.py': MaterialMetadata(internal_name='Desc_CoolingSystem_C', friendly_name='cooling_system', material_type=<MaterialType.SOLID: 'RF_SOLID'>, energy_value=0.0)}),kw_only=False,_field_type=_FIELD), Field(name='nitric_acid',type=<class 'float'>,default=0,default_factory=<dataclasses._MISSING_TYPE object at 0x000001D0B7C59120>,init=True,repr=True,hash=None,compare=True,metadata=mappingproxy({'C:\\\\Users\\\\conno\\\\Documents\\\\Python Scripts\\\\Satisfactory\\\\config_parsing\\\\materials.py': MaterialMetadata(internal_name='Desc_NitricAcid_C', friendly_name='nitric_acid', material_type=<MaterialType.LIQUID: 'RF_LIQUID'>, energy_value=0.0)}),kw_only=False,_field_type=_FIELD), Field(name='aluminum_casing',type=<class 'float'>,default=0,default_factory=<dataclasses._MISSING_TYPE object at 0x000001D0B7C59120>,init=True,repr=True,hash=None,compare=True,metadata=mappingproxy({'C:\\\\Users\\\\conno\\\\Documents\\\\Python Scripts\\\\Satisfactory\\\\config_parsing\\\\materials.py': MaterialMetadata(internal_name='Desc_AluminumCasing_C', friendly_name='aluminum_casing', material_type=<MaterialType.SOLID: 'RF_SOLID'>, energy_value=0.0)}),kw_only=False,_field_type=_FIELD), Field(name='radio_control_unit',type=<class 'float'>,default=0,default_factory=<dataclasses._MISSING_TYPE object at 0x000001D0B7C59120>,init=True,repr=True,hash=None,compare=True,metadata=mappingproxy({'C:\\\\Users\\\\conno\\\\Documents\\\\Python Scripts\\\\Satisfactory\\\\config_parsing\\\\materials.py': MaterialMetadata(internal_name='Desc_ModularFrameLightweight_C', friendly_name='radio_control_unit', material_type=<MaterialType.SOLID: 'RF_SOLID'>, energy_value=0.0)}),kw_only=False,_field_type=_FIELD), Field(name='computer',type=<class 'float'>,default=0,default_factory=<dataclasses._MISSING_TYPE object at 0x000001D0B7C59120>,init=True,repr=True,hash=None,compare=True,metadata=mappingproxy({'C:\\\\Users\\\\conno\\\\Documents\\\\Python Scripts\\\\Satisfactory\\\\config_parsing\\\\materials.py': MaterialMetadata(internal_name='Desc_Computer_C', friendly_name='computer', material_type=<MaterialType.SOLID: 'RF_SOLID'>, energy_value=0.0)}),kw_only=False,_field_type=_FIELD), Field(name='quartz_crystal',type=<class 'float'>,default=0,default_factory=<dataclasses._MISSING_TYPE object at 0x000001D0B7C59120>,init=True,repr=True,hash=None,compare=True,metadata=mappingproxy({'C:\\\\Users\\\\conno\\\\Documents\\\\Python Scripts\\\\Satisfactory\\\\config_parsing\\\\materials.py': MaterialMetadata(internal_name='Desc_QuartzCrystal_C', friendly_name='quartz_crystal', material_type=<MaterialType.SOLID: 'RF_SOLID'>, energy_value=0.0)}),kw_only=False,_field_type=_FIELD), Field(name='caterium_ingot',type=<class 'float'>,default=0,default_factory=<dataclasses._MISSING_TYPE object at 0x000001D0B7C59120>,init=True,repr=True,hash=None,compare=True,metadata=mappingproxy({'C:\\\\Users\\\\conno\\\\Documents\\\\Python Scripts\\\\Satisfactory\\\\config_parsing\\\\materials.py': MaterialMetadata(internal_name='Desc_GoldIngot_C', friendly_name='caterium_ingot', material_type=<MaterialType.SOLID: 'RF_SOLID'>, energy_value=0.0)}),kw_only=False,_field_type=_FIELD), Field(name='stator',type=<class 'float'>,default=0,default_factory=<dataclasses._MISSING_TYPE object at 0x000001D0B7C59120>,init=True,repr=True,hash=None,compare=True,metadata=mappingproxy({'C:\\\\Users\\\\conno\\\\Documents\\\\Python Scripts\\\\Satisfactory\\\\config_parsing\\\\materials.py': MaterialMetadata(internal_name='Desc_Stator_C', friendly_name='stator', material_type=<MaterialType.SOLID: 'RF_SOLID'>, energy_value=0.0)}),kw_only=False,_field_type=_FIELD), Field(name='ai_limiter',type=<class 'float'>,default=0,default_factory=<dataclasses._MISSING_TYPE object at 0x000001D0B7C59120>,init=True,repr=True,hash=None,compare=True,metadata=mappingproxy({'C:\\\\Users\\\\conno\\\\Documents\\\\Python Scripts\\\\Satisfactory\\\\config_parsing\\\\materials.py': MaterialMetadata(internal_name='Desc_CircuitBoardHighSpeed_C', friendly_name='ai_limiter', material_type=<MaterialType.SOLID: 'RF_SOLID'>, energy_value=0.0)}),kw_only=False,_field_type=_FIELD), Field(name='quickwire',type=<class 'float'>,default=0,default_factory=<dataclasses._MISSING_TYPE object at 0x000001D0B7C59120>,init=True,repr=True,hash=None,compare=True,metadata=mappingproxy({'C:\\\\Users\\\\conno\\\\Documents\\\\Python Scripts\\\\Satisfactory\\\\config_parsing\\\\materials.py': MaterialMetadata(internal_name='Desc_HighSpeedWire_C', friendly_name='quickwire', material_type=<MaterialType.SOLID: 'RF_SOLID'>, energy_value=0.0)}),kw_only=False,_field_type=_FIELD), Field(name='compacted_coal',type=<class 'float'>,default=0,default_factory=<dataclasses._MISSING_TYPE object at 0x000001D0B7C59120>,init=True,repr=True,hash=None,compare=True,metadata=mappingproxy({'C:\\\\Users\\\\conno\\\\Documents\\\\Python Scripts\\\\Satisfactory\\\\config_parsing\\\\materials.py': MaterialMetadata(internal_name='Desc_CompactedCoal_C', friendly_name='compacted_coal', material_type=<MaterialType.SOLID: 'RF_SOLID'>, energy_value=630.0)}),kw_only=False,_field_type=_FIELD), Field(name='turbofuel',type=<class 'float'>,default=0,default_factory=<dataclasses._MISSING_TYPE object at 0x000001D0B7C59120>,init=True,repr=True,hash=None,compare=True,metadata=mappingproxy({'C:\\\\Users\\\\conno\\\\Documents\\\\Python Scripts\\\\Satisfactory\\\\config_parsing\\\\materials.py': MaterialMetadata(internal_name='Desc_LiquidTurboFuel_C', friendly_name='turbofuel', material_type=<MaterialType.LIQUID: 'RF_LIQUID'>, energy_value=2.0)}),kw_only=False,_field_type=_FIELD), Field(name='supercomputer',type=<class 'float'>,default=0,default_factory=<dataclasses._MISSING_TYPE object at 0x000001D0B7C59120>,init=True,repr=True,hash=None,compare=True,metadata=mappingproxy({'C:\\\\Users\\\\conno\\\\Documents\\\\Python Scripts\\\\Satisfactory\\\\config_parsing\\\\materials.py': MaterialMetadata(internal_name='Desc_ComputerSuper_C', friendly_name='supercomputer', material_type=<MaterialType.SOLID: 'RF_SOLID'>, energy_value=0.0)}),kw_only=False,_field_type=_FIELD), Field(name='empty_fluid_tank',type=<class 'float'>,default=0,default_factory=<dataclasses._MISSING_TYPE object at 0x000001D0B7C59120>,init=True,repr=True,hash=None,compare=True,metadata=mappingproxy({'C:\\\\Users\\\\conno\\\\Documents\\\\Python Scripts\\\\Satisfactory\\\\config_parsing\\\\materials.py': MaterialMetadata(internal_name='Desc_GasTank_C', friendly_name='empty_fluid_tank', material_type=<MaterialType.SOLID: 'RF_SOLID'>, energy_value=0.0)}),kw_only=False,_field_type=_FIELD), Field(name='electromagnetic_control_rod',type=<class 'float'>,default=0,default_factory=<dataclasses._MISSING_TYPE object at 0x000001D0B7C59120>,init=True,repr=True,hash=None,compare=True,metadata=mappingproxy({'C:\\\\Users\\\\conno\\\\Documents\\\\Python Scripts\\\\Satisfactory\\\\config_parsing\\\\materials.py': MaterialMetadata(internal_name='Desc_ElectromagneticControlRod_C', friendly_name='electromagnetic_control_rod', material_type=<MaterialType.SOLID: 'RF_SOLID'>, energy_value=0.0)}),kw_only=False,_field_type=_FIELD), Field(name='pressure_conversion_cube',type=<class 'float'>,default=0,default_factory=<dataclasses._MISSING_TYPE object at 0x000001D0B7C59120>,init=True,repr=True,hash=None,compare=True,metadata=mappingproxy({'C:\\\\Users\\\\conno\\\\Documents\\\\Python Scripts\\\\Satisfactory\\\\config_parsing\\\\materials.py': MaterialMetadata(internal_name='Desc_PressureConversionCube_C', friendly_name='pressure_conversion_cube', material_type=<MaterialType.SOLID: 'RF_SOLID'>, energy_value=0.0)}),kw_only=False,_field_type=_FIELD), Field(name='turbo_motor',type=<class 'float'>,default=0,default_factory=<dataclasses._MISSING_TYPE object at 0x000001D0B7C59120>,init=True,repr=True,hash=None,compare=True,metadata=mappingproxy({'C:\\\\Users\\\\conno\\\\Documents\\\\Python Scripts\\\\Satisfactory\\\\config_parsing\\\\materials.py': MaterialMetadata(internal_name='Desc_MotorLightweight_C', friendly_name='turbo_motor', material_type=<MaterialType.SOLID: 'RF_SOLID'>, energy_value=0.0)}),kw_only=False,_field_type=_FIELD), Field(name='copper_powder',type=<class 'float'>,default=0,default_factory=<dataclasses._MISSING_TYPE object at 0x000001D0B7C59120>,init=True,repr=True,hash=None,compare=True,metadata=mappingproxy({'C:\\\\Users\\\\conno\\\\Documents\\\\Python Scripts\\\\Satisfactory\\\\config_parsing\\\\materials.py': MaterialMetadata(internal_name='Desc_CopperDust_C', friendly_name='copper_powder', material_type=<MaterialType.SOLID: 'RF_SOLID'>, energy_value=0.0)}),kw_only=False,_field_type=_FIELD), Field(name='black_powder',type=<class 'float'>,default=0,default_factory=<dataclasses._MISSING_TYPE object at 0x000001D0B7C59120>,init=True,repr=True,hash=None,compare=True,metadata=mappingproxy({'C:\\\\Users\\\\conno\\\\Documents\\\\Python Scripts\\\\Satisfactory\\\\config_parsing\\\\materials.py': MaterialMetadata(internal_name='Desc_Gunpowder_C', friendly_name='black_powder', material_type=<MaterialType.SOLID: 'RF_SOLID'>, energy_value=0.0)}),kw_only=False,_field_type=_FIELD), Field(name='alien_protein',type=<class 'float'>,default=0,default_factory=<dataclasses._MISSING_TYPE object at 0x000001D0B7C59120>,init=True,repr=True,hash=None,compare=True,metadata=mappingproxy({'C:\\\\Users\\\\conno\\\\Documents\\\\Python Scripts\\\\Satisfactory\\\\config_parsing\\\\materials.py': MaterialMetadata(internal_name='Desc_AlienProtein_C', friendly_name='alien_protein', material_type=<MaterialType.SOLID: 'RF_SOLID'>, energy_value=0.0)}),kw_only=False,_field_type=_FIELD), Field(name='smokeless_powder',type=<class 'float'>,default=0,default_factory=<dataclasses._MISSING_TYPE object at 0x000001D0B7C59120>,init=True,repr=True,hash=None,compare=True,metadata=mappingproxy({'C:\\\\Users\\\\conno\\\\Documents\\\\Python Scripts\\\\Satisfactory\\\\config_parsing\\\\materials.py': MaterialMetadata(internal_name='Desc_GunpowderMK2_C', friendly_name='smokeless_powder', material_type=<MaterialType.SOLID: 'RF_SOLID'>, energy_value=0.0)}),kw_only=False,_field_type=_FIELD), Field(name='coal',type=<class 'float'>,default=0,default_factory=<dataclasses._MISSING_TYPE object at 0x000001D0B7C59120>,init=True,repr=True,hash=None,compare=True,metadata=mappingproxy({'C:\\\\Users\\\\conno\\\\Documents\\\\Python Scripts\\\\Satisfactory\\\\config_parsing\\\\materials.py': MaterialMetadata(internal_name='Desc_Coal_C', friendly_name='coal', material_type=<MaterialType.SOLID: 'RF_SOLID'>, energy_value=300.0)}),kw_only=False,_field_type=_FIELD), Field(name='copper_ore',type=<class 'float'>,default=0,default_factory=<dataclasses._MISSING_TYPE object at 0x000001D0B7C59120>,init=True,repr=True,hash=None,compare=True,metadata=mappingproxy({'C:\\\\Users\\\\conno\\\\Documents\\\\Python Scripts\\\\Satisfactory\\\\config_parsing\\\\materials.py': MaterialMetadata(internal_name='Desc_OreCopper_C', friendly_name='copper_ore', material_type=<MaterialType.SOLID: 'RF_SOLID'>, energy_value=0.0)}),kw_only=False,_field_type=_FIELD), Field(name='caterium_ore',type=<class 'float'>,default=0,default_factory=<dataclasses._MISSING_TYPE object at 0x000001D0B7C59120>,init=True,repr=True,hash=None,compare=True,metadata=mappingproxy({'C:\\\\Users\\\\conno\\\\Documents\\\\Python Scripts\\\\Satisfactory\\\\config_parsing\\\\materials.py': MaterialMetadata(internal_name='Desc_OreGold_C', friendly_name='caterium_ore', material_type=<MaterialType.SOLID: 'RF_SOLID'>, energy_value=0.0)}),kw_only=False,_field_type=_FIELD), Field(name='iron_ore',type=<class 'float'>,default=0,default_factory=<dataclasses._MISSING_TYPE object at 0x000001D0B7C59120>,init=True,repr=True,hash=None,compare=True,metadata=mappingproxy({'C:\\\\Users\\\\conno\\\\Documents\\\\Python Scripts\\\\Satisfactory\\\\config_parsing\\\\materials.py': MaterialMetadata(internal_name='Desc_OreIron_C', friendly_name='iron_ore', material_type=<MaterialType.SOLID: 'RF_SOLID'>, energy_value=0.0)}),kw_only=False,_field_type=_FIELD), Field(name='raw_quartz',type=<class 'float'>,default=0,default_factory=<dataclasses._MISSING_TYPE object at 0x000001D0B7C59120>,init=True,repr=True,hash=None,compare=True,metadata=mappingproxy({'C:\\\\Users\\\\conno\\\\Documents\\\\Python Scripts\\\\Satisfactory\\\\config_parsing\\\\materials.py': MaterialMetadata(internal_name='Desc_RawQuartz_C', friendly_name='raw_quartz', material_type=<MaterialType.SOLID: 'RF_SOLID'>, energy_value=0.0)}),kw_only=False,_field_type=_FIELD), Field(name='limestone',type=<class 'float'>,default=0,default_factory=<dataclasses._MISSING_TYPE object at 0x000001D0B7C59120>,init=True,repr=True,hash=None,compare=True,metadata=mappingproxy({'C:\\\\Users\\\\conno\\\\Documents\\\\Python Scripts\\\\Satisfactory\\\\config_parsing\\\\materials.py': MaterialMetadata(internal_name='Desc_Stone_C', friendly_name='limestone', material_type=<MaterialType.SOLID: 'RF_SOLID'>, energy_value=0.0)}),kw_only=False,_field_type=_FIELD), Field(name='sulfur',type=<class 'float'>,default=0,default_factory=<dataclasses._MISSING_TYPE object at 0x000001D0B7C59120>,init=True,repr=True,hash=None,compare=True,metadata=mappingproxy({'C:\\\\Users\\\\conno\\\\Documents\\\\Python Scripts\\\\Satisfactory\\\\config_parsing\\\\materials.py': MaterialMetadata(internal_name='Desc_Sulfur_C', friendly_name='sulfur', material_type=<MaterialType.SOLID: 'RF_SOLID'>, energy_value=0.0)}),kw_only=False,_field_type=_FIELD), Field(name='crude_oil',type=<class 'float'>,default=0,default_factory=<dataclasses._MISSING_TYPE object at 0x000001D0B7C59120>,init=True,repr=True,hash=None,compare=True,metadata=mappingproxy({'C:\\\\Users\\\\conno\\\\Documents\\\\Python Scripts\\\\Satisfactory\\\\config_parsing\\\\materials.py': MaterialMetadata(internal_name='Desc_LiquidOil_C', friendly_name='crude_oil', material_type=<MaterialType.LIQUID: 'RF_LIQUID'>, energy_value=0.32)}),kw_only=False,_field_type=_FIELD), Field(name='nitrogen_gas',type=<class 'float'>,default=0,default_factory=<dataclasses._MISSING_TYPE object at 0x000001D0B7C59120>,init=True,repr=True,hash=None,compare=True,metadata=mappingproxy({'C:\\\\Users\\\\conno\\\\Documents\\\\Python Scripts\\\\Satisfactory\\\\config_parsing\\\\materials.py': MaterialMetadata(internal_name='Desc_NitrogenGas_C', friendly_name='nitrogen_gas', material_type=<MaterialType.GAS: 'RF_GAS'>, energy_value=0.0)}),kw_only=False,_field_type=_FIELD), Field(name='water',type=<class 'float'>,default=0,default_factory=<dataclasses._MISSING_TYPE object at 0x000001D0B7C59120>,init=True,repr=True,hash=None,compare=True,metadata=mappingproxy({'C:\\\\Users\\\\conno\\\\Documents\\\\Python Scripts\\\\Satisfactory\\\\config_parsing\\\\materials.py': MaterialMetadata(internal_name='Desc_Water_C', friendly_name='water', material_type=<MaterialType.LIQUID: 'RF_LIQUID'>, energy_value=0.0)}),kw_only=False,_field_type=_FIELD), Field(name='bauxite',type=<class 'float'>,default=0,default_factory=<dataclasses._MISSING_TYPE object at 0x000001D0B7C59120>,init=True,repr=True,hash=None,compare=True,metadata=mappingproxy({'C:\\\\Users\\\\conno\\\\Documents\\\\Python Scripts\\\\Satisfactory\\\\config_parsing\\\\materials.py': MaterialMetadata(internal_name='Desc_OreBauxite_C', friendly_name='bauxite', material_type=<MaterialType.SOLID: 'RF_SOLID'>, energy_value=0.0)}),kw_only=False,_field_type=_FIELD), Field(name='uranium',type=<class 'float'>,default=0,default_factory=<dataclasses._MISSING_TYPE object at 0x000001D0B7C59120>,init=True,repr=True,hash=None,compare=True,metadata=mappingproxy({'C:\\\\Users\\\\conno\\\\Documents\\\\Python Scripts\\\\Satisfactory\\\\config_parsing\\\\materials.py': MaterialMetadata(internal_name='Desc_OreUranium_C', friendly_name='uranium', material_type=<MaterialType.SOLID: 'RF_SOLID'>, energy_value=0.0)}),kw_only=False,_field_type=_FIELD), Field(name='paleberry',type=<class 'float'>,default=0,default_factory=<dataclasses._MISSING_TYPE object at 0x000001D0B7C59120>,init=True,repr=True,hash=None,compare=True,metadata=mappingproxy({'C:\\\\Users\\\\conno\\\\Documents\\\\Python Scripts\\\\Satisfactory\\\\config_parsing\\\\materials.py': MaterialMetadata(internal_name='Desc_Berry_C', friendly_name='paleberry', material_type=<MaterialType.SOLID: 'RF_SOLID'>, energy_value=0.0)}),kw_only=False,_field_type=_FIELD), Field(name='bacon_agaric',type=<class 'float'>,default=0,default_factory=<dataclasses._MISSING_TYPE object at 0x000001D0B7C59120>,init=True,repr=True,hash=None,compare=True,metadata=mappingproxy({'C:\\\\Users\\\\conno\\\\Documents\\\\Python Scripts\\\\Satisfactory\\\\config_parsing\\\\materials.py': MaterialMetadata(internal_name='Desc_Shroom_C', friendly_name='bacon_agaric', material_type=<MaterialType.SOLID: 'RF_SOLID'>, energy_value=0.0)}),kw_only=False,_field_type=_FIELD), Field(name='beryl_nut',type=<class 'float'>,default=0,default_factory=<dataclasses._MISSING_TYPE object at 0x000001D0B7C59120>,init=True,repr=True,hash=None,compare=True,metadata=mappingproxy({'C:\\\\Users\\\\conno\\\\Documents\\\\Python Scripts\\\\Satisfactory\\\\config_parsing\\\\materials.py': MaterialMetadata(internal_name='Desc_Nut_C', friendly_name='beryl_nut', material_type=<MaterialType.SOLID: 'RF_SOLID'>, energy_value=0.0)}),kw_only=False,_field_type=_FIELD), Field(name='medicinal_inhaler',type=<class 'float'>,default=0,default_factory=<dataclasses._MISSING_TYPE object at 0x000001D0B7C59120>,init=True,repr=True,hash=None,compare=True,metadata=mappingproxy({'C:\\\\Users\\\\conno\\\\Documents\\\\Python Scripts\\\\Satisfactory\\\\config_parsing\\\\materials.py': MaterialMetadata(internal_name='Desc_Medkit_C', friendly_name='medicinal_inhaler', material_type=<MaterialType.SOLID: 'RF_SOLID'>, energy_value=0.0)}),kw_only=False,_field_type=_FIELD), Field(name='beacon',type=<class 'float'>,default=0,default_factory=<dataclasses._MISSING_TYPE object at 0x000001D0B7C59120>,init=True,repr=True,hash=None,compare=True,metadata=mappingproxy({'C:\\\\Users\\\\conno\\\\Documents\\\\Python Scripts\\\\Satisfactory\\\\config_parsing\\\\materials.py': MaterialMetadata(internal_name='BP_EquipmentDescriptorBeacon_C', friendly_name='beacon', material_type=<MaterialType.SOLID: 'RF_SOLID'>, energy_value=0.0)}),kw_only=False,_field_type=_FIELD), Field(name='parachute',type=<class 'float'>,default=0,default_factory=<dataclasses._MISSING_TYPE object at 0x000001D0B7C59120>,init=True,repr=True,hash=None,compare=True,metadata=mappingproxy({'C:\\\\Users\\\\conno\\\\Documents\\\\Python Scripts\\\\Satisfactory\\\\config_parsing\\\\materials.py': MaterialMetadata(internal_name='Desc_Parachute_C', friendly_name='parachute', material_type=<MaterialType.SOLID: 'RF_SOLID'>, energy_value=0.0)}),kw_only=False,_field_type=_FIELD), Field(name='hog_remains',type=<class 'float'>,default=0,default_factory=<dataclasses._MISSING_TYPE object at 0x000001D0B7C59120>,init=True,repr=True,hash=None,compare=True,metadata=mappingproxy({'C:\\\\Users\\\\conno\\\\Documents\\\\Python Scripts\\\\Satisfactory\\\\config_parsing\\\\materials.py': MaterialMetadata(internal_name='Desc_HogParts_C', friendly_name='hog_remains', material_type=<MaterialType.SOLID: 'RF_SOLID'>, energy_value=250.0)}),kw_only=False,_field_type=_FIELD), Field(name='plasma_spitter_remains',type=<class 'float'>,default=0,default_factory=<dataclasses._MISSING_TYPE object at 0x000001D0B7C59120>,init=True,repr=True,hash=None,compare=True,metadata=mappingproxy({'C:\\\\Users\\\\conno\\\\Documents\\\\Python Scripts\\\\Satisfactory\\\\config_parsing\\\\materials.py': MaterialMetadata(internal_name='Desc_SpitterParts_C', friendly_name='plasma_spitter_remains', material_type=<MaterialType.SOLID: 'RF_SOLID'>, energy_value=250.0)}),kw_only=False,_field_type=_FIELD), Field(name='flower_petals',type=<class 'float'>,default=0,default_factory=<dataclasses._MISSING_TYPE object at 0x000001D0B7C59120>,init=True,repr=True,hash=None,compare=True,metadata=mappingproxy({'C:\\\\Users\\\\conno\\\\Documents\\\\Python Scripts\\\\Satisfactory\\\\config_parsing\\\\materials.py': MaterialMetadata(internal_name='Desc_FlowerPetals_C', friendly_name='flower_petals', material_type=<MaterialType.SOLID: 'RF_SOLID'>, energy_value=100.0)}),kw_only=False,_field_type=_FIELD), Field(name='leaves',type=<class 'float'>,default=0,default_factory=<dataclasses._MISSING_TYPE object at 0x000001D0B7C59120>,init=True,repr=True,hash=None,compare=True,metadata=mappingproxy({'C:\\\\Users\\\\conno\\\\Documents\\\\Python Scripts\\\\Satisfactory\\\\config_parsing\\\\materials.py': MaterialMetadata(internal_name='Desc_Leaves_C', friendly_name='leaves', material_type=<MaterialType.SOLID: 'RF_SOLID'>, energy_value=15.0)}),kw_only=False,_field_type=_FIELD), Field(name='mycelia',type=<class 'float'>,default=0,default_factory=<dataclasses._MISSING_TYPE object at 0x000001D0B7C59120>,init=True,repr=True,hash=None,compare=True,metadata=mappingproxy({'C:\\\\Users\\\\conno\\\\Documents\\\\Python Scripts\\\\Satisfactory\\\\config_parsing\\\\materials.py': MaterialMetadata(internal_name='Desc_Mycelia_C', friendly_name='mycelia', material_type=<MaterialType.SOLID: 'RF_SOLID'>, energy_value=20.0)}),kw_only=False,_field_type=_FIELD), Field(name='wood',type=<class 'float'>,default=0,default_factory=<dataclasses._MISSING_TYPE object at 0x000001D0B7C59120>,init=True,repr=True,hash=None,compare=True,metadata=mappingproxy({'C:\\\\Users\\\\conno\\\\Documents\\\\Python Scripts\\\\Satisfactory\\\\config_parsing\\\\materials.py': MaterialMetadata(internal_name='Desc_Wood_C', friendly_name='wood', material_type=<MaterialType.SOLID: 'RF_SOLID'>, energy_value=100.0)}),kw_only=False,_field_type=_FIELD), Field(name='hatcher_remains',type=<class 'float'>,default=0,default_factory=<dataclasses._MISSING_TYPE object at 0x000001D0B7C59120>,init=True,repr=True,hash=None,compare=True,metadata=mappingproxy({'C:\\\\Users\\\\conno\\\\Documents\\\\Python Scripts\\\\Satisfactory\\\\config_parsing\\\\materials.py': MaterialMetadata(internal_name='Desc_HatcherParts_C', friendly_name='hatcher_remains', material_type=<MaterialType.SOLID: 'RF_SOLID'>, energy_value=250.0)}),kw_only=False,_field_type=_FIELD), Field(name='stinger_remains',type=<class 'float'>,default=0,default_factory=<dataclasses._MISSING_TYPE object at 0x000001D0B7C59120>,init=True,repr=True,hash=None,compare=True,metadata=mappingproxy({'C:\\\\Users\\\\conno\\\\Documents\\\\Python Scripts\\\\Satisfactory\\\\config_parsing\\\\materials.py': MaterialMetadata(internal_name='Desc_StingerParts_C', friendly_name='stinger_remains', material_type=<MaterialType.SOLID: 'RF_SOLID'>, energy_value=250.0)}),kw_only=False,_field_type=_FIELD), Field(name='solid_biofuel',type=<class 'float'>,default=0,default_factory=<dataclasses._MISSING_TYPE object at 0x000001D0B7C59120>,init=True,repr=True,hash=None,compare=True,metadata=mappingproxy({'C:\\\\Users\\\\conno\\\\Documents\\\\Python Scripts\\\\Satisfactory\\\\config_parsing\\\\materials.py': MaterialMetadata(internal_name='Desc_Biofuel_C', friendly_name='solid_biofuel', material_type=<MaterialType.SOLID: 'RF_SOLID'>, energy_value=450.0)}),kw_only=False,_field_type=_FIELD), Field(name='packaged_liquid_biofuel',type=<class 'float'>,default=0,default_factory=<dataclasses._MISSING_TYPE object at 0x000001D0B7C59120>,init=True,repr=True,hash=None,compare=True,metadata=mappingproxy({'C:\\\\Users\\\\conno\\\\Documents\\\\Python Scripts\\\\Satisfactory\\\\config_parsing\\\\materials.py': MaterialMetadata(internal_name='Desc_PackagedBiofuel_C', friendly_name='packaged_liquid_biofuel', material_type=<MaterialType.SOLID: 'RF_SOLID'>, energy_value=750.0)}),kw_only=False,_field_type=_FIELD), Field(name='biomass',type=<class 'float'>,default=0,default_factory=<dataclasses._MISSING_TYPE object at 0x000001D0B7C59120>,init=True,repr=True,hash=None,compare=True,metadata=mappingproxy({'C:\\\\Users\\\\conno\\\\Documents\\\\Python Scripts\\\\Satisfactory\\\\config_parsing\\\\materials.py': MaterialMetadata(internal_name='Desc_GenericBiomass_C', friendly_name='biomass', material_type=<MaterialType.SOLID: 'RF_SOLID'>, energy_value=180.0)}),kw_only=False,_field_type=_FIELD), Field(name='liquid_biofuel',type=<class 'float'>,default=0,default_factory=<dataclasses._MISSING_TYPE object at 0x000001D0B7C59120>,init=True,repr=True,hash=None,compare=True,metadata=mappingproxy({'C:\\\\Users\\\\conno\\\\Documents\\\\Python Scripts\\\\Satisfactory\\\\config_parsing\\\\materials.py': MaterialMetadata(internal_name='Desc_LiquidBiofuel_C', friendly_name='liquid_biofuel', material_type=<MaterialType.LIQUID: 'RF_LIQUID'>, energy_value=0.75)}),kw_only=False,_field_type=_FIELD), Field(name='packaged_alumina_solution',type=<class 'float'>,default=0,default_factory=<dataclasses._MISSING_TYPE object at 0x000001D0B7C59120>,init=True,repr=True,hash=None,compare=True,metadata=mappingproxy({'C:\\\\Users\\\\conno\\\\Documents\\\\Python Scripts\\\\Satisfactory\\\\config_parsing\\\\materials.py': MaterialMetadata(internal_name='Desc_PackagedAlumina_C', friendly_name='packaged_alumina_solution', material_type=<MaterialType.SOLID: 'RF_SOLID'>, energy_value=0.0)}),kw_only=False,_field_type=_FIELD), Field(name='packaged_sulfuric_acid',type=<class 'float'>,default=0,default_factory=<dataclasses._MISSING_TYPE object at 0x000001D0B7C59120>,init=True,repr=True,hash=None,compare=True,metadata=mappingproxy({'C:\\\\Users\\\\conno\\\\Documents\\\\Python Scripts\\\\Satisfactory\\\\config_parsing\\\\materials.py': MaterialMetadata(internal_name='Desc_PackagedSulfuricAcid_C', friendly_name='packaged_sulfuric_acid', material_type=<MaterialType.SOLID: 'RF_SOLID'>, energy_value=0.0)}),kw_only=False,_field_type=_FIELD), Field(name='packaged_nitrogen_gas',type=<class 'float'>,default=0,default_factory=<dataclasses._MISSING_TYPE object at 0x000001D0B7C59120>,init=True,repr=True,hash=None,compare=True,metadata=mappingproxy({'C:\\\\Users\\\\conno\\\\Documents\\\\Python Scripts\\\\Satisfactory\\\\config_parsing\\\\materials.py': MaterialMetadata(internal_name='Desc_PackagedNitrogenGas_C', friendly_name='packaged_nitrogen_gas', material_type=<MaterialType.SOLID: 'RF_SOLID'>, energy_value=0.0)}),kw_only=False,_field_type=_FIELD), Field(name='packaged_nitric_acid',type=<class 'float'>,default=0,default_factory=<dataclasses._MISSING_TYPE object at 0x000001D0B7C59120>,init=True,repr=True,hash=None,compare=True,metadata=mappingproxy({'C:\\\\Users\\\\conno\\\\Documents\\\\Python Scripts\\\\Satisfactory\\\\config_parsing\\\\materials.py': MaterialMetadata(internal_name='Desc_PackagedNitricAcid_C', friendly_name='packaged_nitric_acid', material_type=<MaterialType.SOLID: 'RF_SOLID'>, energy_value=0.0)}),kw_only=False,_field_type=_FIELD), Field(name='fabric',type=<class 'float'>,default=0,default_factory=<dataclasses._MISSING_TYPE object at 0x000001D0B7C59120>,init=True,repr=True,hash=None,compare=True,metadata=mappingproxy({'C:\\\\Users\\\\conno\\\\Documents\\\\Python Scripts\\\\Satisfactory\\\\config_parsing\\\\materials.py': MaterialMetadata(internal_name='Desc_Fabric_C', friendly_name='fabric', material_type=<MaterialType.SOLID: 'RF_SOLID'>, energy_value=15.0)}),kw_only=False,_field_type=_FIELD), Field(name='explosive_rebar',type=<class 'float'>,default=0,default_factory=<dataclasses._MISSING_TYPE object at 0x000001D0B7C59120>,init=True,repr=True,hash=None,compare=True,metadata=mappingproxy({'C:\\\\Users\\\\conno\\\\Documents\\\\Python Scripts\\\\Satisfactory\\\\config_parsing\\\\materials.py': MaterialMetadata(internal_name='Desc_Rebar_Explosive_C', friendly_name='explosive_rebar', material_type=<MaterialType.SOLID: 'RF_SOLID'>, energy_value=0.0)}),kw_only=False,_field_type=_FIELD), Field(name='stun_rebar',type=<class 'float'>,default=0,default_factory=<dataclasses._MISSING_TYPE object at 0x000001D0B7C59120>,init=True,repr=True,hash=None,compare=True,metadata=mappingproxy({'C:\\\\Users\\\\conno\\\\Documents\\\\Python Scripts\\\\Satisfactory\\\\config_parsing\\\\materials.py': MaterialMetadata(internal_name='Desc_Rebar_Stunshot_C', friendly_name='stun_rebar', material_type=<MaterialType.SOLID: 'RF_SOLID'>, energy_value=0.0)}),kw_only=False,_field_type=_FIELD), Field(name='iron_rebar',type=<class 'float'>,default=0,default_factory=<dataclasses._MISSING_TYPE object at 0x000001D0B7C59120>,init=True,repr=True,hash=None,compare=True,metadata=mappingproxy({'C:\\\\Users\\\\conno\\\\Documents\\\\Python Scripts\\\\Satisfactory\\\\config_parsing\\\\materials.py': MaterialMetadata(internal_name='Desc_SpikedRebar_C', friendly_name='iron_rebar', material_type=<MaterialType.SOLID: 'RF_SOLID'>, energy_value=0.0)}),kw_only=False,_field_type=_FIELD), Field(name='homing_rifle_ammo',type=<class 'float'>,default=0,default_factory=<dataclasses._MISSING_TYPE object at 0x000001D0B7C59120>,init=True,repr=True,hash=None,compare=True,metadata=mappingproxy({'C:\\\\Users\\\\conno\\\\Documents\\\\Python Scripts\\\\Satisfactory\\\\config_parsing\\\\materials.py': MaterialMetadata(internal_name='Desc_CartridgeSmartProjectile_C', friendly_name='homing_rifle_ammo', material_type=<MaterialType.SOLID: 'RF_SOLID'>, energy_value=0.0)}),kw_only=False,_field_type=_FIELD), Field(name='cluster_nobelisk',type=<class 'float'>,default=0,default_factory=<dataclasses._MISSING_TYPE object at 0x000001D0B7C59120>,init=True,repr=True,hash=None,compare=True,metadata=mappingproxy({'C:\\\\Users\\\\conno\\\\Documents\\\\Python Scripts\\\\Satisfactory\\\\config_parsing\\\\materials.py': MaterialMetadata(internal_name='Desc_NobeliskCluster_C', friendly_name='cluster_nobelisk', material_type=<MaterialType.SOLID: 'RF_SOLID'>, energy_value=0.0)}),kw_only=False,_field_type=_FIELD), Field(name='nobelisk',type=<class 'float'>,default=0,default_factory=<dataclasses._MISSING_TYPE object at 0x000001D0B7C59120>,init=True,repr=True,hash=None,compare=True,metadata=mappingproxy({'C:\\\\Users\\\\conno\\\\Documents\\\\Python Scripts\\\\Satisfactory\\\\config_parsing\\\\materials.py': MaterialMetadata(internal_name='Desc_NobeliskExplosive_C', friendly_name='nobelisk', material_type=<MaterialType.SOLID: 'RF_SOLID'>, energy_value=0.0)}),kw_only=False,_field_type=_FIELD), Field(name='gas_nobelisk',type=<class 'float'>,default=0,default_factory=<dataclasses._MISSING_TYPE object at 0x000001D0B7C59120>,init=True,repr=True,hash=None,compare=True,metadata=mappingproxy({'C:\\\\Users\\\\conno\\\\Documents\\\\Python Scripts\\\\Satisfactory\\\\config_parsing\\\\materials.py': MaterialMetadata(internal_name='Desc_NobeliskGas_C', friendly_name='gas_nobelisk', material_type=<MaterialType.SOLID: 'RF_SOLID'>, energy_value=0.0)}),kw_only=False,_field_type=_FIELD), Field(name='nuke_nobelisk',type=<class 'float'>,default=0,default_factory=<dataclasses._MISSING_TYPE object at 0x000001D0B7C59120>,init=True,repr=True,hash=None,compare=True,metadata=mappingproxy({'C:\\\\Users\\\\conno\\\\Documents\\\\Python Scripts\\\\Satisfactory\\\\config_parsing\\\\materials.py': MaterialMetadata(internal_name='Desc_NobeliskNuke_C', friendly_name='nuke_nobelisk', material_type=<MaterialType.SOLID: 'RF_SOLID'>, energy_value=0.0)}),kw_only=False,_field_type=_FIELD), Field(name='pulse_nobelisk',type=<class 'float'>,default=0,default_factory=<dataclasses._MISSING_TYPE object at 0x000001D0B7C59120>,init=True,repr=True,hash=None,compare=True,metadata=mappingproxy({'C:\\\\Users\\\\conno\\\\Documents\\\\Python Scripts\\\\Satisfactory\\\\config_parsing\\\\materials.py': MaterialMetadata(internal_name='Desc_NobeliskShockwave_C', friendly_name='pulse_nobelisk', material_type=<MaterialType.SOLID: 'RF_SOLID'>, energy_value=0.0)}),kw_only=False,_field_type=_FIELD), Field(name='sweet_fireworks',type=<class 'float'>,default=0,default_factory=<dataclasses._MISSING_TYPE object at 0x000001D0B7C59120>,init=True,repr=True,hash=None,compare=True,metadata=mappingproxy({'C:\\\\Users\\\\conno\\\\Documents\\\\Python Scripts\\\\Satisfactory\\\\config_parsing\\\\materials.py': MaterialMetadata(internal_name='Desc_Fireworks_Projectile_01_C', friendly_name='sweet_fireworks', material_type=<MaterialType.SOLID: 'RF_SOLID'>, energy_value=0.0)}),kw_only=False,_field_type=_FIELD), Field(name='fancy_fireworks',type=<class 'float'>,default=0,default_factory=<dataclasses._MISSING_TYPE object at 0x000001D0B7C59120>,init=True,repr=True,hash=None,compare=True,metadata=mappingproxy({'C:\\\\Users\\\\conno\\\\Documents\\\\Python Scripts\\\\Satisfactory\\\\config_parsing\\\\materials.py': MaterialMetadata(internal_name='Desc_Fireworks_Projectile_02_C', friendly_name='fancy_fireworks', material_type=<MaterialType.SOLID: 'RF_SOLID'>, energy_value=0.0)}),kw_only=False,_field_type=_FIELD), Field(name='sparkly_fireworks',type=<class 'float'>,default=0,default_factory=<dataclasses._MISSING_TYPE object at 0x000001D0B7C59120>,init=True,repr=True,hash=None,compare=True,metadata=mappingproxy({'C:\\\\Users\\\\conno\\\\Documents\\\\Python Scripts\\\\Satisfactory\\\\config_parsing\\\\materials.py': MaterialMetadata(internal_name='Desc_Fireworks_Projectile_03_C', friendly_name='sparkly_fireworks', material_type=<MaterialType.SOLID: 'RF_SOLID'>, energy_value=0.0)}),kw_only=False,_field_type=_FIELD), Field(name='snowball',type=<class 'float'>,default=0,default_factory=<dataclasses._MISSING_TYPE object at 0x000001D0B7C59120>,init=True,repr=True,hash=None,compare=True,metadata=mappingproxy({'C:\\\\Users\\\\conno\\\\Documents\\\\Python Scripts\\\\Satisfactory\\\\config_parsing\\\\materials.py': MaterialMetadata(internal_name='Desc_SnowballProjectile_C', friendly_name='snowball', material_type=<MaterialType.SOLID: 'RF_SOLID'>, energy_value=0.0)}),kw_only=False,_field_type=_FIELD), Field(name='uranium_fuel_rod',type=<class 'float'>,default=0,default_factory=<dataclasses._MISSING_TYPE object at 0x000001D0B7C59120>,init=True,repr=True,hash=None,compare=True,metadata=mappingproxy({'C:\\\\Users\\\\conno\\\\Documents\\\\Python Scripts\\\\Satisfactory\\\\config_parsing\\\\materials.py': MaterialMetadata(internal_name='Desc_NuclearFuelRod_C', friendly_name='uranium_fuel_rod', material_type=<MaterialType.SOLID: 'RF_SOLID'>, energy_value=750000.0)}),kw_only=False,_field_type=_FIELD), Field(name='plutonium_fuel_rod',type=<class 'float'>,default=0,default_factory=<dataclasses._MISSING_TYPE object at 0x000001D0B7C59120>,init=True,repr=True,hash=None,compare=True,metadata=mappingproxy({'C:\\\\Users\\\\conno\\\\Documents\\\\Python Scripts\\\\Satisfactory\\\\config_parsing\\\\materials.py': MaterialMetadata(internal_name='Desc_PlutoniumFuelRod_C', friendly_name='plutonium_fuel_rod', material_type=<MaterialType.SOLID: 'RF_SOLID'>, energy_value=1500000.0)}),kw_only=False,_field_type=_FIELD), Field(name='turbo_rifle_ammo',type=<class 'float'>,default=0,default_factory=<dataclasses._MISSING_TYPE object at 0x000001D0B7C59120>,init=True,repr=True,hash=None,compare=True,metadata=mappingproxy({'C:\\\\Users\\\\conno\\\\Documents\\\\Python Scripts\\\\Satisfactory\\\\config_parsing\\\\materials.py': MaterialMetadata(internal_name='Desc_CartridgeChaos_C', friendly_name='turbo_rifle_ammo', material_type=<MaterialType.SOLID: 'RF_SOLID'>, energy_value=0.0)}),kw_only=False,_field_type=_FIELD), Field(name='rifle_ammo',type=<class 'float'>,default=0,default_factory=<dataclasses._MISSING_TYPE object at 0x000001D0B7C59120>,init=True,repr=True,hash=None,compare=True,metadata=mappingproxy({'C:\\\\Users\\\\conno\\\\Documents\\\\Python Scripts\\\\Satisfactory\\\\config_parsing\\\\materials.py': MaterialMetadata(internal_name='Desc_CartridgeStandard_C', friendly_name='rifle_ammo', material_type=<MaterialType.SOLID: 'RF_SOLID'>, energy_value=0.0)}),kw_only=False,_field_type=_FIELD), Field(name='shatter_rebar',type=<class 'float'>,default=0,default_factory=<dataclasses._MISSING_TYPE object at 0x000001D0B7C59120>,init=True,repr=True,hash=None,compare=True,metadata=mappingproxy({'C:\\\\Users\\\\conno\\\\Documents\\\\Python Scripts\\\\Satisfactory\\\\config_parsing\\\\materials.py': MaterialMetadata(internal_name='Desc_Rebar_Spreadshot_C', friendly_name='shatter_rebar', material_type=<MaterialType.SOLID: 'RF_SOLID'>, energy_value=0.0)}),kw_only=False,_field_type=_FIELD))\n"
     ]
    }
   ],
   "source": [
    "from config_parsing import parse_materials\n",
    "from dataclasses import fields\n",
    "\n",
    "mats = parse_materials(BASE_CONFIG)\n",
    "print(fields(mats))"
   ],
   "metadata": {
    "collapsed": false
   }
  },
  {
   "cell_type": "code",
   "execution_count": 27,
   "outputs": [
    {
     "name": "stdout",
     "output_type": "stream",
     "text": [
      "['Build_ConstructorMk1_C', 'Build_SmelterMk1_C', 'Build_FoundryMk1_C', 'Build_OilRefinery_C', 'Build_AssemblerMk1_C', 'Build_Packager_C', 'Build_Blender_C', 'Build_ManufacturerMk1_C', 'Build_HadronCollider_C', 'Build_MinerMk1_C', 'Build_MinerMk2_C', 'Build_MinerMk3_C', 'Build_OilPump_C', 'Build_WaterPump_C', 'Build_GeneratorBiomass_C', 'Build_GeneratorCoal_C', 'Build_GeneratorFuel_C', 'Build_GeneratorNuclear_C', 'Build_GeneratorGeoThermal_C']\n"
     ]
    }
   ],
   "source": [
    "from config_parsing import parse_machines\n",
    "\n",
    "machines = parse_machines(BASE_CONFIG)\n",
    "print([k for k in machines.keys()])"
   ],
   "metadata": {
    "collapsed": false
   }
  },
  {
   "cell_type": "code",
   "execution_count": 47,
   "outputs": [
    {
     "name": "stdout",
     "output_type": "stream",
     "text": [
      "Desc_HogParts_C\n",
      "Desc_SpitterParts_C\n",
      "Desc_FlowerPetals_C\n",
      "Desc_Leaves_C\n",
      "Desc_Mycelia_C\n",
      "Desc_Wood_C\n",
      "Desc_HatcherParts_C\n",
      "Desc_StingerParts_C\n",
      "Desc_Biofuel_C\n",
      "Desc_PackagedBiofuel_C\n",
      "Desc_GenericBiomass_C\n",
      "Desc_LiquidBiofuel_C\n",
      "Desc_PackagedAlumina_C\n",
      "Desc_PackagedSulfuricAcid_C\n",
      "Desc_PackagedNitrogenGas_C\n",
      "Desc_PackagedNitricAcid_C\n",
      "Desc_Fabric_C\n"
     ]
    }
   ],
   "source": [
    "%autoreload 2\n",
    "from config_parsing.recipes import _parse_normal_recipes, _parse_extractor_recipes, _parse_generator_recipes\n",
    "\n",
    "# normal = _parse_normal_recipes(BASE_CONFIG, mats)\n",
    "# extractor = _parse_ex\n",
    "# tractor_recipes(BASE_CONFIG, mats)\n",
    "generator = _parse_generator_recipes(BASE_CONFIG, mats)\n"
   ],
   "metadata": {
    "collapsed": false
   }
  },
  {
   "cell_type": "code",
   "execution_count": 30,
   "outputs": [
    {
     "data": {
      "text/plain": "{actual_snow: 15.0 >> snowball: 5.0,\n alien_protein: 10.0 >> alien_dna_capsule: 10.0,\n alien_protein: 15.0 >> biomass: 1500.0,\n aluminum_ingot: 60.0 >> empty_fluid_tank: 60.0,\n aluminum_ingot: 90.0 >> aluminum_casing: 60.0,\n biomass: 120.0 >> solid_biofuel: 60.0,\n biomass: 37.5 >> coal: 45.0,\n blue_power_slug: 7.5 >> power_shard: 7.5,\n caterium_ingot: 12.0 >> quickwire: 60.0,\n caterium_ingot: 15.0 >> wire: 120.0,\n copper_ingot: 15.0 >> wire: 30.0,\n copper_ingot: 20.0 >> copper_sheet: 10.0,\n copper_ingot: 300.0 >> copper_powder: 50.0,\n ficsmas_gift: 10.0 >> ficsmas_bow: 5.0,\n ficsmas_gift: 10.0 >> ficsmas_tree_branch: 10.0,\n ficsmas_gift: 15.0 >> candy_cane: 5.0,\n ficsmas_gift: 25.0 >> actual_snow: 10.0,\n flower_petals: 50.0 >> color_cartridge: 100.0,\n hatcher_remains: 20.0 >> alien_protein: 20.0,\n hog_remains: 20.0 >> alien_protein: 20.0,\n iron_ingot: 12.5 >> screw: 50.0,\n iron_ingot: 12.5 >> wire: 22.5,\n iron_ingot: 15.0 >> iron_rod: 15.0,\n iron_ingot: 30.0 >> iron_plate: 20.0,\n iron_rod: 10.0 >> screw: 40.0,\n iron_rod: 15.0 >> iron_rebar: 15.0,\n leaves: 120.0 >> biomass: 60.0,\n limestone: 45.0 >> concrete: 15.0,\n mycelia: 15.0 >> biomass: 150.0,\n plasma_spitter_remains: 20.0 >> alien_protein: 20.0,\n plastic: 30.0 >> empty_canister: 60.0,\n purple_power_slug: 2.5 >> power_shard: 12.5,\n raw_quartz: 22.5 >> silica: 37.5,\n raw_quartz: 37.5 >> quartz_crystal: 22.5,\n steel_beam: 5.0 >> screw: 260.0,\n steel_ingot: 12.0 >> iron_rod: 48.0,\n steel_ingot: 30.0 >> steel_pipe: 20.0,\n steel_ingot: 60.0 >> empty_canister: 40.0,\n steel_ingot: 60.0 >> steel_beam: 15.0,\n stinger_remains: 20.0 >> alien_protein: 20.0,\n wire: 60.0 >> cable: 30.0,\n wood: 15.0 >> coal: 150.0,\n wood: 60.0 >> biomass: 300.0,\n yellow_power_slug: 5.0 >> power_shard: 10.0}"
     },
     "execution_count": 30,
     "metadata": {},
     "output_type": "execute_result"
    }
   ],
   "source": [
    "normal.tag(\"Build_ConstructorMk1_C\")"
   ],
   "metadata": {
    "collapsed": false
   }
  },
  {
   "cell_type": "code",
   "execution_count": 3,
   "outputs": [
    {
     "data": {
      "text/plain": "['FGItemDescriptor',\n 'FGBuildableDroneStation',\n 'FGConsumableEquipment',\n 'FGSchematic',\n 'FGConsumableDescriptor',\n 'FGItemDescriptorBiomass',\n 'FGResourceDescriptor',\n 'FGBuildableWallLightweight',\n 'FGBuildableWall',\n 'FGBuildableDoor',\n 'FGRecipe',\n 'FGCustomizationRecipe',\n 'FGBuildingDescriptor',\n 'FGBuildableCornerWall',\n 'FGBuildableRailroadTrack',\n 'FGBuildableBlueprintDesigner',\n 'FGBuildableFrackingExtractor',\n 'FGBuildableFrackingActivator',\n 'FGBuildableGeneratorGeoThermal',\n 'FGBuildableResourceExtractor',\n 'FGBuildableSpaceElevator',\n 'FGBuildableTradingPost',\n 'FGBuildable',\n 'FGBuildablePoleLightweight',\n 'FGPoleDescriptor',\n 'FGBuildableConveyorBelt',\n 'FGBuildableWire',\n 'FGBuildablePowerPole',\n 'FGChainsaw',\n 'FGEquipmentDescriptor',\n 'FGItemDescriptorNuclearFuel',\n 'FGGolfCartDispenser',\n 'FGSuitBase',\n 'FGJetPack',\n 'FGJumpingStilts',\n 'FGAmmoTypeProjectile',\n 'FGAmmoTypeSpreadshot',\n 'FGWeapon',\n 'FGAmmoTypeInstantHit',\n 'FGEquipmentStunSpear',\n 'FGChargedWeapon',\n 'FGGasMask',\n 'FGBuildableWaterPump',\n 'FGBuildableManufacturer',\n 'FGPortableMinerDispenser',\n 'FGBuildableStorage',\n 'FGBuildableGeneratorFuel',\n 'FGBuildableMAM',\n 'FGObjectScanner',\n 'FGBuildableBeamLightweight',\n 'FGBuildablePillarLightweight',\n 'FGBuildableFactory',\n 'FGBuildableWalkwayLightweight',\n 'FGBuildableWalkway',\n 'FGBuildablePipelinePump',\n 'FGBuildablePipelineSupport',\n 'FGBuildablePipeline',\n 'FGBuildablePipelineJunction',\n 'FGBuildablePipeReservoir',\n 'FGBuildableResourceSink',\n 'FGBuildableResourceSinkShop',\n 'FGVehicleDescriptor',\n 'FGBuildableManufacturerVariablePower',\n 'FGBuildableGeneratorNuclear',\n 'FGBuildableConveyorLift',\n 'FGBuildableFoundation',\n 'FGBuildableFoundationLightweight',\n 'FGBuildableRamp',\n 'FGBuildableSplitterSmart',\n 'FGBuildableAttachmentMerger',\n 'FGBuildableAttachmentSplitter',\n 'FGBuildableJumppad',\n 'FGConveyorPoleStackable',\n 'FGBuildableDockingStation',\n 'FGPipeHyperStart',\n 'FGBuildablePipeHyper',\n 'FGBuildablePowerStorage',\n 'FGBuildableRailroadSignal',\n 'FGBuildableTrainPlatformCargo',\n 'FGBuildableTrainPlatformEmpty',\n 'FGBuildableRailroadStation',\n 'FGHoverPack',\n 'FGEquipmentZipline',\n 'FGBuildableCircuitSwitch',\n 'FGParachute',\n 'FGBuildableRadarTower',\n 'FGBuildableFactorySimpleProducer',\n 'FGBuildableSnowDispenser',\n 'FGBuildableFactoryBuilding',\n 'FGBuildableWidgetSign',\n 'FGBuildableLightSource',\n 'FGBuildableLadder',\n 'FGBuildableStair',\n 'FGBuildableFloodlight',\n 'FGBuildableLightsControlPanel',\n 'FGBuildablePassthrough']"
     },
     "execution_count": 3,
     "metadata": {},
     "output_type": "execute_result"
    }
   ],
   "source": [
    "list(BASE_CONFIG.keys())"
   ],
   "metadata": {
    "collapsed": false
   }
  },
  {
   "cell_type": "code",
   "execution_count": 32,
   "outputs": [
    {
     "data": {
      "text/plain": "{'Desc_HogParts_C': {'ClassName': 'Desc_HogParts_C',\n  'mDisplayName': 'Hog Remains',\n  'mDescription': 'The carapace of the alien Hog creature.\\r\\nUsed for MAM research.',\n  'mAbbreviatedDisplayName': '',\n  'mStackSize': 'SS_SMALL',\n  'mCanBeDiscarded': 'True',\n  'mRememberPickUp': 'True',\n  'mEnergyValue': '250.000000',\n  'mRadioactiveDecay': '0.000000',\n  'mForm': 'RF_SOLID',\n  'mSmallIcon': 'Texture2D /Game/FactoryGame/Resource/Parts/AnimalParts/UI/IconDesc_HogPart_64.IconDesc_HogPart_64',\n  'mPersistentBigIcon': 'Texture2D /Game/FactoryGame/Resource/Parts/AnimalParts/UI/IconDesc_HogPart_256.IconDesc_HogPart_256',\n  'mCrosshairMaterial': 'None',\n  'mDescriptorStatBars': '',\n  'mSubCategories': '',\n  'mMenuPriority': '0.000000',\n  'mFluidColor': '(B=0,G=0,R=0,A=0)',\n  'mGasColor': '(B=0,G=0,R=0,A=0)',\n  'mCompatibleItemDescriptors': '',\n  'mClassToScanFor': 'None',\n  'mScannableType': 'RTWOT_Default',\n  'mShouldOverrideScannerDisplayText': 'False',\n  'mScannerDisplayText': '',\n  'mScannerLightColor': '(B=0,G=0,R=0,A=0)',\n  'mResourceSinkPoints': '0'},\n 'Desc_SpitterParts_C': {'ClassName': 'Desc_SpitterParts_C',\n  'mDisplayName': 'Plasma Spitter Remains',\n  'mDescription': 'The remains of a plasma spitting alien creature.\\r\\nUsed for MAM research.',\n  'mAbbreviatedDisplayName': '',\n  'mStackSize': 'SS_SMALL',\n  'mCanBeDiscarded': 'True',\n  'mRememberPickUp': 'True',\n  'mEnergyValue': '250.000000',\n  'mRadioactiveDecay': '0.000000',\n  'mForm': 'RF_SOLID',\n  'mSmallIcon': 'Texture2D /Game/FactoryGame/Resource/Parts/AnimalParts/UI/IconDesc_SpitterPart_64.IconDesc_SpitterPart_64',\n  'mPersistentBigIcon': 'Texture2D /Game/FactoryGame/Resource/Parts/AnimalParts/UI/IconDesc_SpitterPart_256.IconDesc_SpitterPart_256',\n  'mCrosshairMaterial': 'None',\n  'mDescriptorStatBars': '',\n  'mSubCategories': '',\n  'mMenuPriority': '0.000000',\n  'mFluidColor': '(B=0,G=0,R=0,A=0)',\n  'mGasColor': '(B=0,G=0,R=0,A=0)',\n  'mCompatibleItemDescriptors': '',\n  'mClassToScanFor': 'None',\n  'mScannableType': 'RTWOT_Default',\n  'mShouldOverrideScannerDisplayText': 'False',\n  'mScannerDisplayText': '',\n  'mScannerLightColor': '(B=0,G=0,R=0,A=0)',\n  'mResourceSinkPoints': '0'},\n 'Desc_FlowerPetals_C': {'ClassName': 'Desc_FlowerPetals_C',\n  'mDisplayName': 'Flower Petals',\n  'mDescription': 'Used for crafting.\\r\\nColorful native flower petals.',\n  'mAbbreviatedDisplayName': '',\n  'mStackSize': 'SS_HUGE',\n  'mCanBeDiscarded': 'True',\n  'mRememberPickUp': 'True',\n  'mEnergyValue': '100.000000',\n  'mRadioactiveDecay': '0.000000',\n  'mForm': 'RF_SOLID',\n  'mSmallIcon': 'Texture2D /Game/FactoryGame/Resource/Parts/GenericBiomass/UI/FlowerPetals_Final_64.FlowerPetals_Final_64',\n  'mPersistentBigIcon': 'Texture2D /Game/FactoryGame/Resource/Parts/GenericBiomass/UI/FlowerPetals_Final_256.FlowerPetals_Final_256',\n  'mCrosshairMaterial': 'None',\n  'mDescriptorStatBars': '',\n  'mSubCategories': '',\n  'mMenuPriority': '0.000000',\n  'mFluidColor': '(B=0,G=0,R=0,A=0)',\n  'mGasColor': '(B=0,G=0,R=0,A=0)',\n  'mCompatibleItemDescriptors': '',\n  'mClassToScanFor': 'None',\n  'mScannableType': 'RTWOT_Default',\n  'mShouldOverrideScannerDisplayText': 'False',\n  'mScannerDisplayText': '',\n  'mScannerLightColor': '(B=0,G=0,R=0,A=0)',\n  'mResourceSinkPoints': '10'},\n 'Desc_Leaves_C': {'ClassName': 'Desc_Leaves_C',\n  'mDisplayName': 'Leaves',\n  'mDescription': 'Primarily used as fuel.\\r\\nBiomass Burners and vehicles can use it for power.',\n  'mAbbreviatedDisplayName': '',\n  'mStackSize': 'SS_HUGE',\n  'mCanBeDiscarded': 'True',\n  'mRememberPickUp': 'True',\n  'mEnergyValue': '15.000000',\n  'mRadioactiveDecay': '0.000000',\n  'mForm': 'RF_SOLID',\n  'mSmallIcon': 'Texture2D /Game/FactoryGame/Resource/Parts/GenericBiomass/UI/IconDesc_Leaves_64.IconDesc_Leaves_64',\n  'mPersistentBigIcon': 'Texture2D /Game/FactoryGame/Resource/Parts/GenericBiomass/IconDesc_Leaves_256.IconDesc_Leaves_256',\n  'mCrosshairMaterial': 'None',\n  'mDescriptorStatBars': '',\n  'mSubCategories': '',\n  'mMenuPriority': '0.000000',\n  'mFluidColor': '(B=0,G=0,R=0,A=0)',\n  'mGasColor': '(B=0,G=0,R=0,A=0)',\n  'mCompatibleItemDescriptors': '',\n  'mClassToScanFor': 'None',\n  'mScannableType': 'RTWOT_Default',\n  'mShouldOverrideScannerDisplayText': 'False',\n  'mScannerDisplayText': '',\n  'mScannerLightColor': '(B=0,G=0,R=0,A=0)',\n  'mResourceSinkPoints': '3'},\n 'Desc_Mycelia_C': {'ClassName': 'Desc_Mycelia_C',\n  'mDisplayName': 'Mycelia',\n  'mDescription': 'Used for crafting.\\r\\nBiomass Burners and vehicles can use it for power.',\n  'mAbbreviatedDisplayName': '',\n  'mStackSize': 'SS_BIG',\n  'mCanBeDiscarded': 'True',\n  'mRememberPickUp': 'True',\n  'mEnergyValue': '20.000000',\n  'mRadioactiveDecay': '0.000000',\n  'mForm': 'RF_SOLID',\n  'mSmallIcon': 'Texture2D /Game/FactoryGame/Resource/Parts/GenericBiomass/UI/IconDesc_Mycelia_64.IconDesc_Mycelia_64',\n  'mPersistentBigIcon': 'Texture2D /Game/FactoryGame/Resource/Parts/GenericBiomass/UI/IconDesc_Mycelia_256.IconDesc_Mycelia_256',\n  'mCrosshairMaterial': 'None',\n  'mDescriptorStatBars': '',\n  'mSubCategories': '',\n  'mMenuPriority': '0.000000',\n  'mFluidColor': '(B=0,G=0,R=0,A=0)',\n  'mGasColor': '(B=0,G=0,R=0,A=0)',\n  'mCompatibleItemDescriptors': '',\n  'mClassToScanFor': 'None',\n  'mScannableType': 'RTWOT_Default',\n  'mShouldOverrideScannerDisplayText': 'False',\n  'mScannerDisplayText': '',\n  'mScannerLightColor': '(B=0,G=0,R=0,A=0)',\n  'mResourceSinkPoints': '10'},\n 'Desc_Wood_C': {'ClassName': 'Desc_Wood_C',\n  'mDisplayName': 'Wood',\n  'mDescription': 'Primarily used as fuel.\\r\\nBiomass Burners and vehicles can use it for power.',\n  'mAbbreviatedDisplayName': '',\n  'mStackSize': 'SS_BIG',\n  'mCanBeDiscarded': 'True',\n  'mRememberPickUp': 'True',\n  'mEnergyValue': '100.000000',\n  'mRadioactiveDecay': '0.000000',\n  'mForm': 'RF_SOLID',\n  'mSmallIcon': 'Texture2D /Game/FactoryGame/Resource/Parts/GenericBiomass/UI/IconDesc_Wood_64.IconDesc_Wood_64',\n  'mPersistentBigIcon': 'Texture2D /Game/FactoryGame/Resource/Parts/GenericBiomass/UI/IconDesc_Wood_256.IconDesc_Wood_256',\n  'mCrosshairMaterial': 'None',\n  'mDescriptorStatBars': '',\n  'mSubCategories': '',\n  'mMenuPriority': '0.000000',\n  'mFluidColor': '(B=0,G=0,R=0,A=0)',\n  'mGasColor': '(B=0,G=0,R=0,A=0)',\n  'mCompatibleItemDescriptors': '',\n  'mClassToScanFor': 'None',\n  'mScannableType': 'RTWOT_Default',\n  'mShouldOverrideScannerDisplayText': 'False',\n  'mScannerDisplayText': '',\n  'mScannerLightColor': '(B=0,G=0,R=0,A=0)',\n  'mResourceSinkPoints': '30'},\n 'Desc_HatcherParts_C': {'ClassName': 'Desc_HatcherParts_C',\n  'mDisplayName': 'Hatcher Remains',\n  'mDescription': 'The shell-like remains an alien... thing.\\r\\nUsed for MAM research.',\n  'mAbbreviatedDisplayName': '',\n  'mStackSize': 'SS_SMALL',\n  'mCanBeDiscarded': 'True',\n  'mRememberPickUp': 'True',\n  'mEnergyValue': '250.000000',\n  'mRadioactiveDecay': '0.000000',\n  'mForm': 'RF_SOLID',\n  'mSmallIcon': 'Texture2D /Game/FactoryGame/Resource/Environment/AnimalParts/UI/IconDesc_HatcherPart_64.IconDesc_HatcherPart_64',\n  'mPersistentBigIcon': 'Texture2D /Game/FactoryGame/Resource/Environment/AnimalParts/UI/IconDesc_HatcherPart_256.IconDesc_HatcherPart_256',\n  'mCrosshairMaterial': 'None',\n  'mDescriptorStatBars': '',\n  'mSubCategories': '',\n  'mMenuPriority': '0.000000',\n  'mFluidColor': '(B=0,G=0,R=0,A=0)',\n  'mGasColor': '(B=0,G=0,R=0,A=0)',\n  'mCompatibleItemDescriptors': '',\n  'mClassToScanFor': 'None',\n  'mScannableType': 'RTWOT_Default',\n  'mShouldOverrideScannerDisplayText': 'False',\n  'mScannerDisplayText': '',\n  'mScannerLightColor': '(B=0,G=0,R=0,A=0)',\n  'mResourceSinkPoints': '0'},\n 'Desc_StingerParts_C': {'ClassName': 'Desc_StingerParts_C',\n  'mDisplayName': 'Stinger Remains',\n  'mDescription': 'The remains of whatever that creepy thing was.\\r\\nUsed for MAM research.',\n  'mAbbreviatedDisplayName': '',\n  'mStackSize': 'SS_SMALL',\n  'mCanBeDiscarded': 'True',\n  'mRememberPickUp': 'True',\n  'mEnergyValue': '250.000000',\n  'mRadioactiveDecay': '0.000000',\n  'mForm': 'RF_SOLID',\n  'mSmallIcon': 'Texture2D /Game/FactoryGame/Resource/Environment/AnimalParts/UI/IconDesc_StingerPart_64.IconDesc_StingerPart_64',\n  'mPersistentBigIcon': 'Texture2D /Game/FactoryGame/Resource/Environment/AnimalParts/UI/IconDesc_StingerPart_256.IconDesc_StingerPart_256',\n  'mCrosshairMaterial': 'None',\n  'mDescriptorStatBars': '',\n  'mSubCategories': '',\n  'mMenuPriority': '0.000000',\n  'mFluidColor': '(B=0,G=0,R=0,A=0)',\n  'mGasColor': '(B=0,G=0,R=0,A=0)',\n  'mCompatibleItemDescriptors': '',\n  'mClassToScanFor': 'None',\n  'mScannableType': 'RTWOT_Default',\n  'mShouldOverrideScannerDisplayText': 'False',\n  'mScannerDisplayText': '',\n  'mScannerLightColor': '(B=0,G=0,R=0,A=0)',\n  'mResourceSinkPoints': '0'},\n 'Desc_Biofuel_C': {'ClassName': 'Desc_Biofuel_C',\n  'mDisplayName': 'Solid Biofuel',\n  'mDescription': 'The most energy-efficient form of solid biomass. Can be used as fuel for the Chainsaw.',\n  'mAbbreviatedDisplayName': '',\n  'mStackSize': 'SS_BIG',\n  'mCanBeDiscarded': 'True',\n  'mRememberPickUp': 'False',\n  'mEnergyValue': '450.000000',\n  'mRadioactiveDecay': '0.000000',\n  'mForm': 'RF_SOLID',\n  'mSmallIcon': 'Texture2D /Game/FactoryGame/Resource/Parts/SolidBiofuel/UI/IconDesc_SolidBiofuel_64.IconDesc_SolidBiofuel_64',\n  'mPersistentBigIcon': 'Texture2D /Game/FactoryGame/Resource/Parts/SolidBiofuel/UI/IconDesc_SolidBiofuel_256.IconDesc_SolidBiofuel_256',\n  'mCrosshairMaterial': 'None',\n  'mDescriptorStatBars': '',\n  'mSubCategories': '',\n  'mMenuPriority': '0.000000',\n  'mFluidColor': '(B=0,G=0,R=0,A=0)',\n  'mGasColor': '(B=0,G=0,R=0,A=0)',\n  'mCompatibleItemDescriptors': '',\n  'mClassToScanFor': 'None',\n  'mScannableType': 'RTWOT_Default',\n  'mShouldOverrideScannerDisplayText': 'False',\n  'mScannerDisplayText': '',\n  'mScannerLightColor': '(B=0,G=0,R=0,A=0)',\n  'mResourceSinkPoints': '48'},\n 'Desc_PackagedBiofuel_C': {'ClassName': 'Desc_PackagedBiofuel_C',\n  'mDisplayName': 'Packaged Liquid Biofuel',\n  'mDescription': 'Liquid Biofuel, packaged for alternative transport. Can be used as fuel for Vehicles.',\n  'mAbbreviatedDisplayName': 'Bio',\n  'mStackSize': 'SS_MEDIUM',\n  'mCanBeDiscarded': 'True',\n  'mRememberPickUp': 'False',\n  'mEnergyValue': '750.000000',\n  'mRadioactiveDecay': '0.000000',\n  'mForm': 'RF_SOLID',\n  'mSmallIcon': 'Texture2D /Game/FactoryGame/Resource/Parts/Turbofuel/UI/IconDesc_LiquidBiofuel_64.IconDesc_LiquidBiofuel_64',\n  'mPersistentBigIcon': 'Texture2D /Game/FactoryGame/Resource/Parts/Turbofuel/UI/IconDesc_LiquidBiofuel_256.IconDesc_LiquidBiofuel_256',\n  'mCrosshairMaterial': 'None',\n  'mDescriptorStatBars': '',\n  'mSubCategories': '',\n  'mMenuPriority': '0.000000',\n  'mFluidColor': '(B=42,G=83,R=58,A=255)',\n  'mGasColor': '(B=0,G=0,R=0,A=0)',\n  'mCompatibleItemDescriptors': '',\n  'mClassToScanFor': 'None',\n  'mScannableType': 'RTWOT_Default',\n  'mShouldOverrideScannerDisplayText': 'False',\n  'mScannerDisplayText': '',\n  'mScannerLightColor': '(B=0,G=0,R=0,A=0)',\n  'mResourceSinkPoints': '370'},\n 'Desc_GenericBiomass_C': {'ClassName': 'Desc_GenericBiomass_C',\n  'mDisplayName': 'Biomass',\n  'mDescription': 'Primarily used as fuel.\\r\\nBiomass burners and vehicles can use it for power.\\r\\nBiomass is much more energy-efficient than raw biological matter.',\n  'mAbbreviatedDisplayName': '',\n  'mStackSize': 'SS_BIG',\n  'mCanBeDiscarded': 'True',\n  'mRememberPickUp': 'False',\n  'mEnergyValue': '180.000000',\n  'mRadioactiveDecay': '0.000000',\n  'mForm': 'RF_SOLID',\n  'mSmallIcon': 'Texture2D /Game/FactoryGame/Resource/Parts/GenericBiomass/UI/IconDesc_Biomass_Final_64.IconDesc_Biomass_Final_64',\n  'mPersistentBigIcon': 'Texture2D /Game/FactoryGame/Resource/Parts/GenericBiomass/UI/IconDesc_Biomass_Final_256.IconDesc_Biomass_Final_256',\n  'mCrosshairMaterial': 'None',\n  'mDescriptorStatBars': '',\n  'mSubCategories': '',\n  'mMenuPriority': '0.000000',\n  'mFluidColor': '(B=0,G=0,R=0,A=0)',\n  'mGasColor': '(B=0,G=0,R=0,A=0)',\n  'mCompatibleItemDescriptors': '',\n  'mClassToScanFor': 'None',\n  'mScannableType': 'RTWOT_Default',\n  'mShouldOverrideScannerDisplayText': 'False',\n  'mScannerDisplayText': '',\n  'mScannerLightColor': '(B=0,G=0,R=0,A=0)',\n  'mResourceSinkPoints': '12'},\n 'Desc_LiquidBiofuel_C': {'ClassName': 'Desc_LiquidBiofuel_C',\n  'mDisplayName': 'Liquid Biofuel',\n  'mDescription': 'Liquid Biofuel can be used to generate power or packaged to be used as fuel for Vehicles.',\n  'mAbbreviatedDisplayName': 'Bio',\n  'mStackSize': 'SS_FLUID',\n  'mCanBeDiscarded': 'True',\n  'mRememberPickUp': 'False',\n  'mEnergyValue': '0.750000',\n  'mRadioactiveDecay': '0.000000',\n  'mForm': 'RF_LIQUID',\n  'mSmallIcon': 'Texture2D /Game/FactoryGame/Resource/Parts/BioFuel/UI/IconDesc_LiquidBiofuel_Pipe_256.IconDesc_LiquidBiofuel_Pipe_256',\n  'mPersistentBigIcon': 'Texture2D /Game/FactoryGame/Resource/Parts/BioFuel/UI/IconDesc_LiquidBiofuel_Pipe_512.IconDesc_LiquidBiofuel_Pipe_512',\n  'mCrosshairMaterial': 'None',\n  'mDescriptorStatBars': '',\n  'mSubCategories': '',\n  'mMenuPriority': '0.000000',\n  'mFluidColor': '(B=44,G=83,R=59,A=255)',\n  'mGasColor': '(B=0,G=0,R=0,A=0)',\n  'mCompatibleItemDescriptors': '',\n  'mClassToScanFor': 'None',\n  'mScannableType': 'RTWOT_Default',\n  'mShouldOverrideScannerDisplayText': 'False',\n  'mScannerDisplayText': '',\n  'mScannerLightColor': '(B=0,G=0,R=0,A=0)',\n  'mResourceSinkPoints': '261'},\n 'Desc_PackagedAlumina_C': {'ClassName': 'Desc_PackagedAlumina_C',\n  'mDisplayName': 'Packaged Alumina Solution',\n  'mDescription': 'Alumina Solution, packaged for alternative transport.',\n  'mAbbreviatedDisplayName': 'AL',\n  'mStackSize': 'SS_MEDIUM',\n  'mCanBeDiscarded': 'True',\n  'mRememberPickUp': 'False',\n  'mEnergyValue': '0.000000',\n  'mRadioactiveDecay': '0.000000',\n  'mForm': 'RF_SOLID',\n  'mSmallIcon': 'Texture2D /Game/FactoryGame/Resource/Parts/Alumina/UI/IconDesc_PackagedAluminaSolution_64.IconDesc_PackagedAluminaSolution_64',\n  'mPersistentBigIcon': 'Texture2D /Game/FactoryGame/Resource/Parts/Alumina/UI/IconDesc_PackagedAluminaSolution_256.IconDesc_PackagedAluminaSolution_256',\n  'mCrosshairMaterial': 'None',\n  'mDescriptorStatBars': '',\n  'mSubCategories': '',\n  'mMenuPriority': '0.000000',\n  'mFluidColor': '(B=42,G=83,R=58,A=255)',\n  'mGasColor': '(B=0,G=0,R=0,A=0)',\n  'mCompatibleItemDescriptors': '',\n  'mClassToScanFor': 'None',\n  'mScannableType': 'RTWOT_Default',\n  'mShouldOverrideScannerDisplayText': 'False',\n  'mScannerDisplayText': '',\n  'mScannerLightColor': '(B=0,G=0,R=0,A=0)',\n  'mResourceSinkPoints': '160'},\n 'Desc_PackagedSulfuricAcid_C': {'ClassName': 'Desc_PackagedSulfuricAcid_C',\n  'mDisplayName': 'Packaged Sulfuric Acid',\n  'mDescription': 'Sulfuric Acid, packaged for alternative transport.',\n  'mAbbreviatedDisplayName': 'SA',\n  'mStackSize': 'SS_MEDIUM',\n  'mCanBeDiscarded': 'True',\n  'mRememberPickUp': 'False',\n  'mEnergyValue': '0.000000',\n  'mRadioactiveDecay': '0.000000',\n  'mForm': 'RF_SOLID',\n  'mSmallIcon': 'Texture2D /Game/FactoryGame/Resource/Parts/SulfuricAcid/UI/IconDesc_PckagedSulphuricAcid_64.IconDesc_PckagedSulphuricAcid_64',\n  'mPersistentBigIcon': 'Texture2D /Game/FactoryGame/Resource/Parts/SulfuricAcid/UI/IconDesc_PckagedSulphuricAcid_256.IconDesc_PckagedSulphuricAcid_256',\n  'mCrosshairMaterial': 'None',\n  'mDescriptorStatBars': '',\n  'mSubCategories': '',\n  'mMenuPriority': '0.000000',\n  'mFluidColor': '(B=42,G=83,R=58,A=255)',\n  'mGasColor': '(B=0,G=0,R=0,A=0)',\n  'mCompatibleItemDescriptors': '',\n  'mClassToScanFor': 'None',\n  'mScannableType': 'RTWOT_Default',\n  'mShouldOverrideScannerDisplayText': 'False',\n  'mScannerDisplayText': '',\n  'mScannerLightColor': '(B=0,G=0,R=0,A=0)',\n  'mResourceSinkPoints': '152'},\n 'Desc_PackagedNitrogenGas_C': {'ClassName': 'Desc_PackagedNitrogenGas_C',\n  'mDisplayName': 'Packaged Nitrogen Gas',\n  'mDescription': 'Nitrogen Gas, packaged for alternative transport.',\n  'mAbbreviatedDisplayName': 'N',\n  'mStackSize': 'SS_MEDIUM',\n  'mCanBeDiscarded': 'True',\n  'mRememberPickUp': 'False',\n  'mEnergyValue': '0.000000',\n  'mRadioactiveDecay': '0.000000',\n  'mForm': 'RF_SOLID',\n  'mSmallIcon': 'Texture2D /Game/FactoryGame/Resource/Parts/PackagedNitrogen/UI/IconDesc_PackagedNitrogen_64.IconDesc_PackagedNitrogen_64',\n  'mPersistentBigIcon': 'Texture2D /Game/FactoryGame/Resource/Parts/PackagedNitrogen/UI/IconDesc_PackagedNitrogen_256.IconDesc_PackagedNitrogen_256',\n  'mCrosshairMaterial': 'None',\n  'mDescriptorStatBars': '',\n  'mSubCategories': '',\n  'mMenuPriority': '0.000000',\n  'mFluidColor': '(B=42,G=83,R=58,A=255)',\n  'mGasColor': '(B=0,G=0,R=0,A=0)',\n  'mCompatibleItemDescriptors': '',\n  'mClassToScanFor': 'None',\n  'mScannableType': 'RTWOT_Default',\n  'mShouldOverrideScannerDisplayText': 'False',\n  'mScannerDisplayText': '',\n  'mScannerLightColor': '(B=0,G=0,R=0,A=0)',\n  'mResourceSinkPoints': '312'},\n 'Desc_PackagedNitricAcid_C': {'ClassName': 'Desc_PackagedNitricAcid_C',\n  'mDisplayName': 'Packaged Nitric Acid',\n  'mDescription': 'Nitric Acid, packaged for alternative transport.',\n  'mAbbreviatedDisplayName': 'NA',\n  'mStackSize': 'SS_MEDIUM',\n  'mCanBeDiscarded': 'True',\n  'mRememberPickUp': 'False',\n  'mEnergyValue': '0.000000',\n  'mRadioactiveDecay': '0.000000',\n  'mForm': 'RF_SOLID',\n  'mSmallIcon': 'Texture2D /Game/FactoryGame/Resource/Parts/NitricAcid/UI/IconDesc_PackagedNitricAcid_64.IconDesc_PackagedNitricAcid_64',\n  'mPersistentBigIcon': 'Texture2D /Game/FactoryGame/Resource/Parts/NitricAcid/UI/IconDesc_PackagedNitricAcid_256.IconDesc_PackagedNitricAcid_256',\n  'mCrosshairMaterial': 'None',\n  'mDescriptorStatBars': '',\n  'mSubCategories': '',\n  'mMenuPriority': '0.000000',\n  'mFluidColor': '(B=42,G=83,R=58,A=255)',\n  'mGasColor': '(B=0,G=0,R=0,A=0)',\n  'mCompatibleItemDescriptors': '',\n  'mClassToScanFor': 'None',\n  'mScannableType': 'RTWOT_Default',\n  'mShouldOverrideScannerDisplayText': 'False',\n  'mScannerDisplayText': '',\n  'mScannerLightColor': '(B=0,G=0,R=0,A=0)',\n  'mResourceSinkPoints': '412'},\n 'Desc_Fabric_C': {'ClassName': 'Desc_Fabric_C',\n  'mDisplayName': 'Fabric',\n  'mDescription': 'Used for equipment crafting.\\r\\nFlexible but durable fabric.',\n  'mAbbreviatedDisplayName': '',\n  'mStackSize': 'SS_MEDIUM',\n  'mCanBeDiscarded': 'True',\n  'mRememberPickUp': 'False',\n  'mEnergyValue': '15.000000',\n  'mRadioactiveDecay': '0.000000',\n  'mForm': 'RF_SOLID',\n  'mSmallIcon': 'Texture2D /Game/FactoryGame/Resource/Parts/GenericBiomass/UI/IconDesc_Fabric_64.IconDesc_Fabric_64',\n  'mPersistentBigIcon': 'Texture2D /Game/FactoryGame/Resource/Parts/GenericBiomass/UI/IconDesc_Fabric_256.IconDesc_Fabric_256',\n  'mCrosshairMaterial': 'None',\n  'mDescriptorStatBars': '',\n  'mSubCategories': '',\n  'mMenuPriority': '0.000000',\n  'mFluidColor': '(B=0,G=0,R=0,A=0)',\n  'mGasColor': '(B=0,G=0,R=0,A=0)',\n  'mCompatibleItemDescriptors': '',\n  'mClassToScanFor': 'None',\n  'mScannableType': 'RTWOT_Default',\n  'mShouldOverrideScannerDisplayText': 'False',\n  'mScannerDisplayText': '',\n  'mScannerLightColor': '(B=0,G=0,R=0,A=0)',\n  'mResourceSinkPoints': '140'}}"
     },
     "execution_count": 32,
     "metadata": {},
     "output_type": "execute_result"
    }
   ],
   "source": [
    "BASE_CONFIG[\"FGItemDescriptorBiomass\"]"
   ],
   "metadata": {
    "collapsed": false
   }
  },
  {
   "cell_type": "code",
   "execution_count": 10,
   "id": "8e933410-e642-4af2-88df-a63d520f4819",
   "metadata": {},
   "outputs": [],
   "source": [
    "2# TODO: make an intermediate config with cleaned up keys\n",
    "# material/recipe: internal_name: useful info\n",
    "import itertools\n",
    "\n",
    "def get_materials(simple_config: dict) -> list[str]:\n",
    "    resources = []\n",
    "    for item in itertools.chain.from_iterable((simple_config[key].values() for key in RESOURCE_KEYS)):\n",
    "        resources.append(standardize(item[\"mDisplayName\"]))\n",
    "    return resources\n",
    "\n",
    "def get_recipes(simple_config: dict) -> list[str]:\n",
    "    pass\n",
    "\n",
    "def get_extractors():\n",
    "    pass\n",
    "\n",
    "def get_generators():\n",
    "    pass"
   ]
  },
  {
   "cell_type": "code",
   "execution_count": 11,
   "id": "aaf61b04-6df0-4438-988f-0e938141aeab",
   "metadata": {
    "tags": []
   },
   "outputs": [],
   "source": [
    "from abc import ABC\n",
    "from dataclasses import dataclass, fields, make_dataclass\n",
    "from enum import Enum, auto\n",
    "from collections import deque\n",
    "from typing import Optional\n",
    "from itertools import zip_longest\n",
    "import plotly.express as px\n",
    "import numpy as np\n",
    "from scipy.optimize import linprog\n",
    "\n",
    "# TODO: how much of this can be expressed/solved with matrices?\n",
    "\n",
    "class ConfigurationError(Exception):\n",
    "    pass\n",
    "\n",
    "class __MaterialSpec:\n",
    "    \"\"\"\n",
    "    TODO: give this a widget\n",
    "    \"\"\"    \n",
    "    def __add__(self, other):\n",
    "        if not isinstance(other, type(self)):\n",
    "            return NotImplemented\n",
    "        \n",
    "        result = {}\n",
    "        for name, value in self:\n",
    "            result[name] = value + getattr(other, name)\n",
    "        return type(self)(**result)\n",
    "    \n",
    "    def __sub__(self, other):\n",
    "        if not isinstance(other, type(self)):\n",
    "            return NotImplemented\n",
    "        \n",
    "        result = {}\n",
    "        for name, value in self:\n",
    "            result[name] = value - getattr(other, name)\n",
    "        return type(self)(**result)\n",
    "    \n",
    "    def __mul__(self, scalar):\n",
    "        result = {}\n",
    "        for name, value in self:\n",
    "            result[name] = value * scalar \n",
    "        return type(self)(**result)\n",
    "    \n",
    "    def __iter__(self):\n",
    "        for f in fields(self):\n",
    "            yield f.name, getattr(self, f.name)\n",
    "                       \n",
    "    def __or__(self, other):\n",
    "        if isinstance(other, type(self)):\n",
    "            return type(self)(**{name: value for (name, value), (_, matched_value) in zip(self, other) if matched_value > 0})\n",
    "        # elif isinstance(other, Material):\n",
    "        #     return type(self)(**{other.name: getattr(self, other.name)})\n",
    "        elif isinstance(other, str):\n",
    "            return type(self)(**{other: getattr(self, other)})\n",
    "        \n",
    "        return NotImplemented\n",
    "    \n",
    "    def __repr__(self):\n",
    "        return \"\\n\".join(f\"{name}: {value}\" for name, value in self if value > 0)\n",
    "\n",
    "MaterialSpec = make_dataclass(\"MaterialSpec\", [(mat, float, 0) for mat in get_materials(BASE_CONFIG)], bases=(__MaterialSpec,), repr=False)\n",
    "    \n",
    "class Recipe:\n",
    "    name: str\n",
    "    # TODO: duration: float\n",
    "    \n",
    "    def __init__(self, name: str, ingredients: MaterialSpec, products: MaterialSpec):\n",
    "        self.ingredients = ingredients\n",
    "        self.products = products\n",
    "        self.name = name\n",
    "        \n",
    "    def __add__(self, material_spec: MaterialSpec):\n",
    "        return material_spec + self.products - self.ingredients\n",
    "    \n",
    "    def __radd__(self, material_spec: MaterialSpec):\n",
    "        return self + material_spec\n",
    "    \n",
    "    def __rsub__(self, material_spec: MaterialSpec):\n",
    "        return material_spec + self.ingredients - self.products\n",
    "    \n",
    "    def __mul__(self, scalar: float):\n",
    "        \"\"\"\n",
    "        Scale up this recipe\n",
    "        \"\"\"\n",
    "        return type(self)(self.name, self.ingredients * scalar, self.products * scalar)\n",
    "    \n",
    "    def __rtruediv__(self, material_spec: MaterialSpec):\n",
    "        \"\"\"\n",
    "        Get the number of iterations of this recipe that can be produced from the given material_spec\n",
    "        \"\"\"\n",
    "        return min(getattr(material_spec, name) / value for name, value in self.ingredients if value > 0)\n",
    "    \n",
    "    def __repr__(self):\n",
    "        ingredients = \" \".join(repr(self.ingredients).splitlines())\n",
    "        products = \" \".join(repr(self.products).splitlines())\n",
    "                \n",
    "        return f\"{ingredients} >> {products}\"\n",
    "        \n",
    "        \n",
    "class Machine(ABC):\n",
    "    # TODO: don't subclass machines, just take a category argument and set parameters from config/recipe. It doesn't matter what the number of outputs is\n",
    "    \n",
    "    # TODO: weakref these\n",
    "    input_producers: dict[\"Machine\", str]\n",
    "    output_consumers: dict[\"Machine\", str]\n",
    "    \n",
    "    power_consumption: float\n",
    "    power_production: float\n",
    "    \n",
    "    clock_speed: float # TODO\n",
    "    _consumption_exponent: float # TODO\n",
    "    inputs: int\n",
    "    outputs: int\n",
    "    color: str\n",
    "    \n",
    "    _color_generator = iter(px.colors.qualitative.Dark24)\n",
    "    \n",
    "    def __init__(self, recipe: Recipe):\n",
    "        inputs = sum(material > 0 for _, material in recipe.ingredients)\n",
    "        outputs = sum(material > 0 for _, material in recipe.products)\n",
    "        self.input_producers = {}\n",
    "        self.output_consumers = {}\n",
    "        \n",
    "        if inputs != self.inputs or outputs != self.outputs:\n",
    "            raise ConfigurationError(f\"{self.__class__} must have {self.inputs} inputs and {self.outputs} outputs\")\n",
    "            \n",
    "        self.recipe = recipe\n",
    "        \n",
    "    def __init_subclass__(cls, skip_color=False):\n",
    "        if not skip_color:\n",
    "            cls.color = next(cls._color_generator)\n",
    "        \n",
    "    def __str__(self):\n",
    "        return f\"<{self.__class__.__name__}: {self.recipe}>\"\n",
    "        \n",
    "    def __repr__(self):\n",
    "        return str(self)\n",
    "        \n",
    "    def __rshift__(self, material_spec: MaterialSpec):\n",
    "        \"\"\"\n",
    "        Solve for inputs\n",
    "        Recipe >> MaterialSpec\n",
    "        \"\"\"\n",
    "        # TODO: what should the inverse of div be?\n",
    "        scale = max(getattr(material_spec, name) / value for name, value in self.recipe.products if value > 0)\n",
    "        scaled = self.recipe * scale\n",
    "        return material_spec - scaled\n",
    "    \n",
    "    def __lshift__(self, material_spec: MaterialSpec):\n",
    "        \"\"\"\n",
    "        Solve for outputs\n",
    "        Recipe << MaterialSpec\n",
    "        \"\"\"\n",
    "        scale = material_spec / self.recipe\n",
    "        scaled = self.recipe * scale\n",
    "        return material_spec + scaled\n",
    "        \n",
    "    def __rrshift__(self, material_spec: MaterialSpec):\n",
    "        \"\"\"\n",
    "        Solve for inputs\n",
    "        MaterialSpec << Recipe\n",
    "        \"\"\"\n",
    "        return self << material_spec\n",
    "    \n",
    "    def __rlshift__(self, material_spec: MaterialSpec):\n",
    "        \"\"\"\n",
    "        Solve for outputs\n",
    "        MaterialSpec >> Recipe\n",
    "        \"\"\"\n",
    "        return self >> material_spec\n",
    "        \n",
    "    def has_input(self, material: str):\n",
    "        return getattr(self.recipe.ingredients, material) > 0\n",
    "    \n",
    "    def has_output(self, material: str):\n",
    "        return getattr(self.recipe.products, material) > 0\n",
    "    \n",
    "    # TODO: there's some serious confusion of responsibilities between this and recipe\n",
    "    def products(self):\n",
    "        return [product for product, value in self.recipe.products if value > 0]\n",
    "    \n",
    "    def ingredients(self):\n",
    "        return [ingredient for ingredient, value in self.recipe.ingredients if value > 0]\n",
    "    \n",
    "    def bind(self, other: \"Machine\", material: str):\n",
    "        \"\"\"\n",
    "        Verify that there is a matching input-output pair for these two machines\n",
    "        \n",
    "        # TODO: can only handle binding one output to a given machine\n",
    "        \"\"\"\n",
    "        if self.has_output(material) and other.has_input(material):\n",
    "            other.input_producers[self] = material\n",
    "            self.output_consumers[other] = material\n",
    "        elif self.has_input(material) and other.has_output(material):\n",
    "            self.input_producers[other] = material\n",
    "            other.output_consumers[self] = material\n",
    "        else:\n",
    "            raise ConfigurationError(f\"{self} and {other} do not have a matching input and output.\")\n",
    "            \n",
    "        return self\n",
    "    \n",
    "    @staticmethod\n",
    "    def autobind(machines: list[\"Self\"]):\n",
    "        for i, machine in enumerate(machines):\n",
    "            for other_machine in machines[i:]:\n",
    "                for ingredient in machine.ingredients():\n",
    "                    if other_machine.has_output(ingredient):\n",
    "                        machine.bind(other_machine, ingredient)\n",
    "                for product in machine.products():\n",
    "                    if other_machine.has_input(product):\n",
    "                        machine.bind(other_machine, product)\n",
    "        \n",
    "\n",
    "def dataclass_to_list(cd: \"dataclass\"):\n",
    "    return [getattr(cd, f.name) for f in sorted(fields(cd), key=lambda f: f.name)]\n",
    "    "
   ]
  },
  {
   "cell_type": "code",
   "execution_count": 12,
   "id": "1185d670-8b54-4e17-9d2e-679fc55726c7",
   "metadata": {
    "tags": []
   },
   "outputs": [],
   "source": [
    "class Process:\n",
    "    \"\"\"\n",
    "    TODO: power\n",
    "    \"\"\"\n",
    "    scale: int\n",
    "    power: float = 0\n",
    "    process_root: Machine\n",
    "    input_materials: MaterialSpec\n",
    "    output_materials: MaterialSpec\n",
    "    \n",
    "    def __init__(self, process_root: Machine, registry, scale: float=1):\n",
    "        self.process_root = process_root\n",
    "        self.scale = scale\n",
    "        self.input_materials = process_root.recipe.ingredients * scale\n",
    "        self.output_materials = process_root.recipe.products * scale\n",
    "        \n",
    "        # TODO: this is terrible\n",
    "        self.process_registry = registry\n",
    "        registry[process_root] = self\n",
    "        \n",
    "        \n",
    "    @classmethod\n",
    "    def from_outputs(cls, target_output: MaterialSpec, machines: list[Machine], include_power=False):\n",
    "        \"\"\"\n",
    "        Builds a process tree from a list of machines\n",
    "        \n",
    "        TODO: co-optimize generation, use less than constraint, multiple gen/load by -1 to ensure excess consumption\n",
    "        TODO: allow surplos\n",
    "        \"\"\"\n",
    "        output = Aggregator(Recipe(\"output\", target_output, target_output))\n",
    "        nodes = deque([output])\n",
    "        visited = set()\n",
    "        registry = {}\n",
    "\n",
    "        # collect possible nodes in tree\n",
    "        while len(nodes):\n",
    "            current_node = nodes.popleft()\n",
    "            visited.add(current_node)\n",
    "            \n",
    "            for machine in machines:\n",
    "                for ingredient in current_node.ingredients():\n",
    "                    if machine.has_output(ingredient):\n",
    "                        if machine not in visited:\n",
    "                            nodes.append(machine)\n",
    "        \n",
    "        visited = list(visited)\n",
    "        costs = [1 for _ in visited] # TODO: pre-process cost per recipe\n",
    "        output_equals = dataclass_to_list(target_output)\n",
    "        \n",
    "        material_constraints = np.array([dataclass_to_list(m.recipe.products - m.recipe.ingredients) for m in visited]).T\n",
    "        \n",
    "        if include_power:\n",
    "            A_ub = [m.power_consumption - m.power_production for m in visited]\n",
    "            b_ub = [0]\n",
    "            solution = linprog(c=costs, A_eq=material_constraints, b_eq=output_equals, A_ub=A_ub, b_ub=b_ub)\n",
    "        else:\n",
    "            solution = linprog(c=costs, A_eq=material_constraints, b_eq=output_equals)\n",
    "        \n",
    "        for m, s in zip(visited, solution.x.round(4)):\n",
    "            cls(m, registry, s)\n",
    "                \n",
    "        cls(output, registry, 1)\n",
    "            \n",
    "        return registry[output]\n",
    "    \n",
    "    \n",
    "    @classmethod\n",
    "    def from_inputs(cls, available_materials, target_output, machines, generators=None):\n",
    "        \"\"\"\n",
    "        NOTE: if extractors are passed in here, this optimization is unbounded, since extractors are currently modelled as requiring no resources\n",
    "              to output their expected output. This may be why extractors in the config have a balanced in and output rate. In the case of this\n",
    "              problem, however, the optimizer will ignore extractors since consuming materials directly is equivalent.\n",
    "              FIXME: this can be addressed by adding an additional constraint on producers/extractors. May be trick for intermediate products\n",
    "        \"\"\"\n",
    "        inputs = Aggregator(Recipe(\"input\", available_materials, available_materials))\n",
    "        nodes = deque([inputs])\n",
    "        visited = set()\n",
    "        registry = {}\n",
    "\n",
    "        # collect possible nodes in tree\n",
    "        while len(nodes):\n",
    "            current_node = nodes.popleft()\n",
    "            visited.add(current_node)\n",
    "            for machine in machines:\n",
    "                for product in current_node.products():\n",
    "                    # TODO: this works, for unknown reasons. Without this, solution includes extraneous recipes, seemingly\n",
    "                    # to balance consumption\n",
    "                    if machine.has_input(product):\n",
    "                        if machine not in visited:\n",
    "                            nodes.append(machine)\n",
    "        \n",
    "        visited = list(visited)\n",
    "        \n",
    "        # FIXME: this setup of getattrs/weird loop order is heinous, even by the standards of this project\n",
    "        costs = np.array([*[sum((getattr(target_output, mat) > 0) * getattr(m.recipe.ingredients - m.recipe.products, mat) for mat in [*m.products(), *m.ingredients()]) for m in visited], *[.001 for _ in visited]])\n",
    "        \n",
    "        connect_eq_constraints = [[(j == i % len(visited)) * (1 - 2*(i // len(visited))) for i, _ in enumerate([*visited, *visited])] for j, _ in enumerate(visited)]\n",
    "        connect_eq_bounds = [0 for _ in range(len(visited))]\n",
    "        \n",
    "        production_matrix = np.array([dataclass_to_list(m.recipe.ingredients - m.recipe.products) for m in visited]).T\n",
    "        production_matrix = np.concatenate((production_matrix, np.zeros_like(production_matrix)), axis=1)\n",
    "        \n",
    "        production_amounts = dataclass_to_list(target_output)\n",
    "        production_indices, *_ = np.nonzero(production_amounts)\n",
    "        \n",
    "        for mat_1_idx, mat_2_idx in zip(production_indices[:-1], production_indices[1:]):\n",
    "            ratio = production_amounts[mat_1_idx] / production_amounts[mat_2_idx]\n",
    "            connect_eq_constraints.append(-1*production_matrix[mat_1_idx, :] + ratio * production_matrix[mat_2_idx, :])\n",
    "            connect_eq_bounds.append(0)\n",
    "            \n",
    "        connect_eq_constraints = np.array(connect_eq_constraints)\n",
    "        connect_eq_bounds = np.array(connect_eq_bounds)\n",
    "        \n",
    "        \n",
    "        # make products hove positive value, require consumption to be <= available\n",
    "        output_bounds = np.array([*[material - .001 * (i in production_indices) for i, material in enumerate(dataclass_to_list(available_materials))]])                        \n",
    "\n",
    "        solution = linprog(c=costs, A_ub=production_matrix, b_ub=output_bounds, A_eq=connect_eq_constraints, b_eq=connect_eq_bounds)\n",
    "                \n",
    "        for m, s in zip(visited, solution.x.round(4)):\n",
    "            cls(m, registry, s)\n",
    "                \n",
    "        cls(inputs, registry, 1)\n",
    "        \n",
    "        return registry[inputs]"
   ]
  },
  {
   "cell_type": "code",
   "execution_count": 13,
   "id": "48f5f301-9c2d-4a3c-9f4d-9bfcf29aca18",
   "metadata": {
    "tags": []
   },
   "outputs": [],
   "source": [
    "class VariableOutputMachine(Machine, skip_color=True):\n",
    "        \n",
    "    def __init__(self, recipe: Recipe):\n",
    "        self.outputs = min(sum(material > 0 for _, material in recipe.products), self.outputs)\n",
    "        \n",
    "        super().__init__(recipe)\n",
    "        \n",
    "class VariableInputMachine(Machine, skip_color=True):\n",
    "        \n",
    "    def __init__(self, recipe: Recipe):\n",
    "        self.inputs = min(sum(material > 0 for _, material in recipe.ingredients), self.inputs)\n",
    "        \n",
    "        super().__init__(recipe)\n",
    "                                                                                  \n",
    "    \n",
    "class Constructor(Machine):\n",
    "    power_consumption = 4\n",
    "    inputs = 1\n",
    "    outputs = 1\n",
    "    \n",
    "    \n",
    "class Assembler(Machine):\n",
    "    power_consumption = 15\n",
    "    inputs = 2\n",
    "    outputs = 1\n",
    "    \n",
    "    \n",
    "class Manufacturer(VariableInputMachine):\n",
    "    power_consumption = 55\n",
    "    inputs = 4\n",
    "    outputs = 1\n",
    "    \n",
    "    \n",
    "class Smelter(Machine):\n",
    "    power_consumption = 4\n",
    "    inputs = 1\n",
    "    outputs = 1\n",
    "    \n",
    "    \n",
    "class Foundry(Machine):\n",
    "    power_consumption = 16 \n",
    "    inputs = 2\n",
    "    outputs = 1\n",
    "    \n",
    "    \n",
    "class Packager(VariableOutputMachine, VariableInputMachine):\n",
    "    power_consumption = 10\n",
    "    inputs = 2\n",
    "    outputs = 2\n",
    "    \n",
    "    \n",
    "class Refinery(VariableOutputMachine, VariableInputMachine):\n",
    "    power_consumption = 30\n",
    "    inputs = 2\n",
    "    outputs = 2\n",
    "\n",
    "    \n",
    "class Extractor(Machine):\n",
    "    # TODO: different extractor types have different consumption\n",
    "    power_consumption = 10\n",
    "    inputs = 0\n",
    "    outputs = 1\n",
    "    \n",
    "    \n",
    "class Blender(VariableOutputMachine, VariableInputMachine):\n",
    "    # TODO: power consumption varies by recipe\n",
    "    power_consumption = 1500\n",
    "    inputs = 4\n",
    "    outputs = 2\n",
    "    \n",
    "    \n",
    "class Aggregator(Machine):\n",
    "    \"\"\"\n",
    "    Special class to join disjoint trees so that every process can be expressed as a tree, \n",
    "    regardless of desired outputs. Can be used, for example, to represent a factory floor as a 'Machine'\n",
    "    \"\"\"\n",
    "    power_consumption = 0\n",
    "    def __init__(self, recipe: Recipe):\n",
    "        self.inputs = sum(material > 0 for _, material in recipe.ingredients)\n",
    "        self.outputs = sum(material > 0 for _, material in recipe.products)\n",
    "        super().__init__(recipe)\n",
    "        \n",
    "    \n",
    "class ParticleAccelerator(VariableInputMachine):\n",
    "    power_consumption = 300\n",
    "    inputs = 3\n",
    "    outputs = 1\n",
    "    \n",
    "# TODO: get resource cost for proposed factory (buildings)"
   ]
  },
  {
   "cell_type": "code",
   "execution_count": 14,
   "id": "6cc2276c-b062-47da-941b-ad5457cbd63f",
   "metadata": {
    "tags": []
   },
   "outputs": [],
   "source": [
    "import re\n",
    "from dataclasses import dataclass, field\n",
    "\n",
    "machine_mapping = {\"/Game/FactoryGame/Buildable/Factory/AssemblerMk1/Build_AssemblerMk1.Build_AssemblerMk1_C\": Assembler, \n",
    " \"/Game/FactoryGame/Buildable/Factory/ManufacturerMk1/Build_ManufacturerMk1.Build_ManufacturerMk1_C\": Manufacturer, \n",
    " \"/Game/FactoryGame/Buildable/Factory/SmelterMk1/Build_SmelterMk1.Build_SmelterMk1_C\": Smelter,\n",
    " \"/Game/FactoryGame/Buildable/Factory/ConstructorMk1/Build_ConstructorMk1.Build_ConstructorMk1_C\": Constructor, \n",
    " \"/Game/FactoryGame/Buildable/Factory/FoundryMk1/Build_FoundryMk1.Build_FoundryMk1_C\": Foundry,\n",
    " \"/Game/FactoryGame/Buildable/Factory/HadronCollider/Build_HadronCollider.Build_HadronCollider_C\": ParticleAccelerator,\n",
    " \"/Game/FactoryGame/Buildable/Factory/Blender/Build_Blender.Build_Blender_C\": Blender,\n",
    " \"/Game/FactoryGame/Buildable/Factory/Packager/Build_Packager.Build_Packager_C\": Packager,\n",
    " \"/Game/FactoryGame/Buildable/Factory/OilRefinery/Build_OilRefinery.Build_OilRefinery_C\": Refinery}\n",
    "\n",
    "@dataclass\n",
    "class Machines:\n",
    "    alternates: list[Machine] = field(default_factory=list)\n",
    "    core: list[Machine] = field(default_factory=list)\n",
    "    fluid_extractors: list[Machine] = field(default_factory=list)\n",
    "    extractors_mk1: list[Machine] = field(default_factory=list)\n",
    "    extractors_mk2: list[Machine] = field(default_factory=list)\n",
    "    extractors_mk3: list[Machine] = field(default_factory=list)\n",
    "    \n",
    "    \n",
    "# TODO: keep dict of recipes, store collections of core/alternate as strings so that available recipes can be specified as a collection of strings\n",
    "# TOODO: use recipes config key, rather than all of this nonsense--retain class name to material name\n",
    "# FIXME: smelters are 1:1\n",
    "# FIXME: add generators\n",
    "def make_recipes(simple_config: dict, machine_mapping: dict[str, Machine]) -> list:\n",
    "    resource_capture_group = r\".*?\\.(\\w+).*?\"\n",
    "    ingredients_pattern = rf\"\\(ItemClass={resource_capture_group},Amount=(\\d+)\\)\"\n",
    "    machines_pattern = fr\"({'|'.join(re.escape(m) for m in machine_mapping.keys())})\"\n",
    "    known_crafters = (\"Smelter\", \"Manufacturer\", \"Assembler\", \"Packager\", \"Refinery\", \"Collider\", \"Foundry\", \"Blender\", \"Constructor\")\n",
    "    \n",
    "    machines = Machines()\n",
    "    material_config = {}\n",
    "    for key in RESOURCE_KEYS:\n",
    "        material_config.update(simple_config[key])\n",
    "\n",
    "    for config in simple_config[\"Class'/Script/FactoryGame.FGRecipe'\"].values():\n",
    "        machine = re.search(machines_pattern, config[\"mProducedIn\"])\n",
    "        \n",
    "        if machine is None:\n",
    "            continue\n",
    "\n",
    "        machine = machine_mapping[machine[0]]\n",
    "            \n",
    "        # TODO: convert resources to friendly names\n",
    "        try:\n",
    "            ingredients = {standardize(material_config[name][\"mDisplayName\"]): float(amt) / 1000 if material_config[name][\"mForm\"] in [\"RF_LIQUID\", \"RF_GAS\"] else float(amt) for name, amt in re.findall(ingredients_pattern, config[\"mIngredients\"])}\n",
    "            products = {standardize(material_config[name][\"mDisplayName\"]): float(amt) / 1000 if material_config[name][\"mForm\"] in [\"RF_LIQUID\", \"RF_GAS\"] else float(amt) for name, amt in re.findall(ingredients_pattern, config[\"mProduct\"])}\n",
    "            if \"alternate\" in config[\"FullName\"].lower():\n",
    "                machines.alternates.append(machine(Recipe(standardize(config[\"mDisplayName\"]), MaterialSpec(**ingredients), MaterialSpec(**products)) * (60 / float(config[\"mManufactoringDuration\"]))))\n",
    "            else:\n",
    "                machines.core.append(machine(Recipe(standardize(config[\"mDisplayName\"]), MaterialSpec(**ingredients), MaterialSpec(**products)) * (60 / float(config[\"mManufactoringDuration\"]))))\n",
    "                                \n",
    "        except Exception as e:\n",
    "            print(f\"missing: {e}\")\n",
    "            print()\n",
    "            \n",
    "    def get_production_rate(config):\n",
    "        return (60 / float(config[\"mExtractCycleTime\"])) * float(config[\"mItemsPerCycle\"])\n",
    "            \n",
    "    # FIXME: I think this qualifies as a mess\n",
    "    for key in EXTRACTOR_KEYS:\n",
    "        for extractor in simple_config[key].values():\n",
    "            if \"RF_SOLID\" in extractor[\"mAllowedResourceForms\"]:\n",
    "                for material in map(lambda x:standardize(material_config[x][\"mDisplayName\"]), simple_config[\"Class'/Script/FactoryGame.FGResourceDescriptor'\"].keys()):\n",
    "                    if \"mk1\" in  extractor[\"ClassName\"].lower():\n",
    "                        machines.extractors_mk1.append(Extractor(Recipe(material, MaterialSpec(), MaterialSpec(**{material: get_production_rate(extractor)}))))\n",
    "                    elif \"mk2\" in  extractor[\"ClassName\"].lower():\n",
    "                        machines.extractors_mk2.append(Extractor(Recipe(material, MaterialSpec(), MaterialSpec(**{material: get_production_rate(extractor)}))))\n",
    "                    elif \"mk3\" in  extractor[\"ClassName\"].lower():\n",
    "                        machines.extractors_mk3.append(Extractor(Recipe(material, MaterialSpec(), MaterialSpec(**{material: get_production_rate(extractor)}))))\n",
    "            elif \"RF_LIQUID\" in extractor[\"mAllowedResourceForms\"] or \"RF_GAS\" in extractor[\"mAllowedResourceForms\"]:\n",
    "                for material in map(lambda x: standardize(material_config[re.search(resource_capture_group, x)[1]][\"mDisplayName\"]), extractor[\"mAllowedResources\"].strip(\"()\").split(\",\")):\n",
    "                    machines.fluid_extractors.append(Extractor(Recipe(material, MaterialSpec(), MaterialSpec(**{material: get_production_rate(extractor) / 1000}))))\n",
    "        \n",
    "        \n",
    "    return machines"
   ]
  },
  {
   "cell_type": "code",
   "execution_count": 15,
   "id": "dc2a6928-99f7-4018-968d-c369e3e1d824",
   "metadata": {
    "tags": []
   },
   "outputs": [],
   "source": [
    "import igraph\n",
    "from igraph import Graph, EdgeSeq\n",
    "import itertools\n",
    "import plotly.graph_objects as go\n",
    "import os\n",
    "from textwrap import dedent\n",
    "import numpy as np\n",
    "\n",
    "import math\n",
    "\n",
    "def make_hover_label(process: Process):\n",
    "    return dedent(f\"\"\"\n",
    "    {process.process_root.__class__.__name__}<br>\n",
    "    Recipe: {process.process_root.recipe.name}<br>\n",
    "    Scale: {process.scale}\n",
    "    \"\"\")\n",
    "\n",
    "\n",
    "# TODO: show machine types in legend\n",
    "def plot_process(process: Process, layout=Graph.layout_auto):\n",
    "    ordered_vertices = [m for m in process.process_registry.values() if m.scale > 0]\n",
    "    n_vertices = len(ordered_vertices)\n",
    "    \n",
    "    edges = [(ordered_vertices.index(process.process_registry[other]), ordered_vertices.index(self)) for self in ordered_vertices for other in self.process_root.input_producers if process.process_registry[other] in ordered_vertices]\n",
    "    breakpoint()\n",
    "\n",
    "    G = Graph(n_vertices, edges)\n",
    "    layout = G.layout(layout)\n",
    "    Xn, Yn = list(zip(*layout))\n",
    "    edge_coords = itertools.chain.from_iterable([[(Xn[n], Yn[n]) for n in e] + [(None, None)] for e in edges])\n",
    "    Xe, Ye = list(zip(*edge_coords))\n",
    "    \n",
    "    max_scale = max(n.scale for n in ordered_vertices)\n",
    "    point_scale = 20\n",
    "    point_sizes = [(math.tanh(n.scale  / max_scale) + 1) * point_scale for n in ordered_vertices]\n",
    "\n",
    "    fig = go.Figure()\n",
    "    fig.add_trace(go.Scatter(\n",
    "                       x=Xe,\n",
    "                       y=Ye,\n",
    "                       mode='lines+markers',\n",
    "                       hoverinfo='none',\n",
    "                       line_shape='spline',\n",
    "                       marker=dict(\n",
    "                            symbol=\"arrow-wide\",\n",
    "                            size=10,\n",
    "                            color=\"black\",\n",
    "                            angleref=\"previous\",\n",
    "                            standoff=point_scale//2\n",
    "                        ),\n",
    "                        showlegend=False\n",
    "                    ),\n",
    "                    \n",
    "                 )\n",
    "\n",
    "    fig.add_trace(go.Scatter(x=Xn,\n",
    "                      y=Yn,\n",
    "                      mode='markers',\n",
    "                      marker=dict(symbol='circle-dot',\n",
    "                                  size=point_sizes,\n",
    "                                  color=[m.process_root.color for m in ordered_vertices],\n",
    "                                ),\n",
    "                      text=[make_hover_label(v) for v in ordered_vertices],\n",
    "                      hovertemplate=\"%{text}<extra></extra>\",\n",
    "                      showlegend=False,\n",
    "                      )\n",
    "                 )\n",
    "\n",
    "    # TODO: better sizing\n",
    "    fig.update_layout(\n",
    "        autosize=True,\n",
    "        xaxis= {\n",
    "            'showgrid': False, # thin lines in the background\n",
    "            'zeroline': False, # thick line at x=0\n",
    "            'visible': False,  # numbers below\n",
    "        },\n",
    "        yaxis= {\n",
    "            'showgrid': False, # thin lines in the background\n",
    "            'zeroline': False, # thick line at x=0\n",
    "            'visible': False,  # numbers below\n",
    "        },\n",
    "        height=1000\n",
    "    )\n",
    "\n",
    "    fig.show()\n",
    "    \n",
    "    \n",
    "def plot_sankey(process: Process):\n",
    "    ordered_vertices = [m for m in process.process_registry.values() if m.scale > 0]\n",
    "    n_vertices = len(ordered_vertices)\n",
    "    \n",
    "    edges = [(ordered_vertices.index(process.process_registry[other]), ordered_vertices.index(self)) for self in ordered_vertices for other in self.process_root.input_producers if process.process_registry[other] in ordered_vertices]\n",
    "    source, target = zip(*edges)\n",
    "    # TODO: get the bound resource and multiply by the source scale\n",
    "    \n",
    "    def get_materials_for_link(start: int, end: int, vertices: list[Process]):\n",
    "        start_process = vertices[start]\n",
    "        end_process = vertices[end]\n",
    "        bound_material = start_process.process_root.output_consumers[end_process.process_root]\n",
    "        return bound_material, (getattr(end_process.process_root.recipe.ingredients, bound_material) * end_process.scale)\n",
    "    \n",
    "    labels, weights = zip(*[get_materials_for_link(start, end, ordered_vertices) for (start, end) in edges])\n",
    "    \n",
    "    fig = go.Figure()\n",
    "    fig.add_trace(\n",
    "        go.Sankey(\n",
    "            node=dict(\n",
    "                label = [f\"{v.process_root.__class__.__name__}: {v.process_root.recipe.name}\" for v in ordered_vertices]\n",
    "            ),\n",
    "            link=dict(\n",
    "                source=source,\n",
    "                target=target,\n",
    "                value=weights,\n",
    "                label=labels\n",
    "            )\n",
    "        )\n",
    "    )\n",
    "    fig.show()\n",
    "\n",
    "# TODO: use plotly tables and link rows to scatter/sankey nodes\n",
    "def make_row(values: list[str]):\n",
    "    return \"<tr>\" + \"\".join([f\"<td>{v}</td>\" for v in values]) + \"</tr>\"\n",
    "\n",
    "def make_table(headers: list[str], values: list[list[str]]):\n",
    "    header = make_row(headers)\n",
    "    rows = \"\\n\".join([make_row(row) for row in values])\n",
    "    \n",
    "    return dedent(f\"\"\"\n",
    "    <table>\n",
    "    <thead>\n",
    "    {header}\n",
    "    </thead>\n",
    "    <tbody>\n",
    "    {rows}\n",
    "    </tbody>\n",
    "    </table>\"\"\")\n",
    "\n",
    "def recipe_summary(process: Process):\n",
    "    headers = [\"Machine Type\", \"Count\", \"Recipe\", \"Ingredients\", \"Products\"]\n",
    "    rows = []\n",
    "    for process in process.process_registry.values():\n",
    "        if process.scale > 0:\n",
    "            rows.append([process.process_root.__class__.__name__,\n",
    "                         process.scale,\n",
    "                         process.process_root.recipe.name,\n",
    "                         \"<br>\".join([f\"{name}: {value * process.scale:.2f}\" for name, value in process.process_root.recipe.ingredients if value > 0]),\n",
    "                         \"<br>\".join([f\"{name}: {value * process.scale:.2f}\" for name, value in process.process_root.recipe.products if value > 0]),\n",
    "                        ])\n",
    "                     \n",
    "    return make_table(headers, rows)\n",
    "    \n",
    "\n",
    "def total_power(process: Process):\n",
    "    total =  sum(p.scale * p.process_root.power_consumption for p in filter(lambda p: p.scale > 0, process.process_registry.values()))\n",
    "    print(f\"Total Power: {total}\")\n"
   ]
  },
  {
   "cell_type": "code",
   "execution_count": 16,
   "id": "664fdbdf-85ca-41f3-b53d-5f981e8fbe09",
   "metadata": {
    "tags": []
   },
   "outputs": [
    {
     "name": "stderr",
     "output_type": "stream",
     "text": [
      "/tmp/ipykernel_401496/2770569113.py:1: DeprecationWarning:\n",
      "\n",
      "Importing display from IPython.core.display is deprecated since IPython 7.14, please import from IPython display\n",
      "\n"
     ]
    }
   ],
   "source": [
    "from IPython.core.display import display, HTML\n",
    "\n",
    "def factory_plan(target):\n",
    "    available_machines = make_recipes(BASE_CONFIG, machine_mapping)\n",
    "    # stator?\n",
    "    #target_product = MaterialSpec(steel_beam=5, encased_industrial_beam=5, modular_frame=2, heavy_modular_frame=2)\n",
    "    available_machines = [*available_machines.core,\n",
    "                                     *available_machines.extractors_mk1,\n",
    "                                     *available_machines.fluid_extractors]\n",
    "    Machine.autobind(available_machines)\n",
    "    \n",
    "\n",
    "    solution = Process.from_outputs(target, \n",
    "                                    available_machines\n",
    "                                    )\n",
    "    \n",
    "    plot_process(solution, Graph.layout_reingold_tilford)\n",
    "    plot_sankey(solution)\n",
    "    display(HTML(recipe_summary(solution)))\n",
    "    total_power(solution)\n",
    "    return solution"
   ]
  },
  {
   "cell_type": "code",
   "execution_count": 17,
   "id": "06ecc772-14d6-4fec-9150-dd85fc546ba8",
   "metadata": {
    "tags": []
   },
   "outputs": [
    {
     "name": "stdout",
     "output_type": "stream",
     "text": [
      "missing: 'BP_ItemDescriptorPortableMiner_C'\n",
      "\n"
     ]
    },
    {
     "data": {
      "application/vnd.plotly.v1+json": {
       "data": [
        {
         "hoverinfo": "none",
         "line": {
          "shape": "spline"
         },
         "marker": {
          "angleref": "previous",
          "color": "black",
          "size": 10,
          "standoff": 10,
          "symbol": "arrow-wide"
         },
         "mode": "lines+markers",
         "showlegend": false,
         "x": [
          -0.5,
          -2.0,
          null,
          -2.0,
          -2.5,
          null,
          1.0,
          -2.5,
          null,
          -3.0,
          -2.5,
          null,
          -2.0,
          -2.5,
          null,
          -0.5,
          -3.5,
          null,
          -0.5,
          -0.5,
          null,
          -0.5,
          -0.5,
          null,
          0.0,
          -0.5,
          null,
          0.0,
          0.5,
          null,
          -2.0,
          -1.0,
          null,
          -0.5,
          -1.0,
          null,
          -2.5,
          -3.0,
          null,
          -3.5,
          -3.0,
          null,
          -0.5,
          -2.0,
          null,
          -0.5,
          0.0,
          null,
          -2.5,
          -2.5,
          null,
          -2.0,
          -1.5,
          null,
          0.5,
          -1.5,
          null,
          -1.5,
          1.0,
          null,
          -0.5,
          1.0,
          null
         ],
         "y": [
          1.0,
          2.0,
          null,
          2.0,
          3.0,
          null,
          2.0,
          3.0,
          null,
          4.0,
          3.0,
          null,
          4.0,
          3.0,
          null,
          4.0,
          5.0,
          null,
          5.0,
          4.0,
          null,
          3.0,
          4.0,
          null,
          2.0,
          1.0,
          null,
          2.0,
          3.0,
          null,
          2.0,
          2.0,
          null,
          1.0,
          2.0,
          null,
          5.0,
          4.0,
          null,
          5.0,
          4.0,
          null,
          4.0,
          4.0,
          null,
          3.0,
          2.0,
          null,
          6.0,
          5.0,
          null,
          2.0,
          3.0,
          null,
          3.0,
          3.0,
          null,
          3.0,
          2.0,
          null,
          1.0,
          2.0,
          null
         ],
         "type": "scatter"
        },
        {
         "hovertemplate": "%{text}<extra></extra>",
         "marker": {
          "color": [
           "#2E91E5",
           "#1CA71C",
           "#2E91E5",
           "#DA16FF",
           "#2E91E5",
           "#750D86",
           "#2E91E5",
           "#E15F99",
           "#750D86",
           "#E15F99",
           "#511CFB",
           "#2E91E5",
           "#750D86",
           "#FB0D0D",
           "#2E91E5",
           "#E15F99",
           "#E15F99"
          ],
          "size": [
           34.14134935011215,
           21.436371691735832,
           24.26904481188341,
           26.921713832043892,
           35.231883119115295,
           32.62827830489215,
           28.3728212128055,
           20.71911432625049,
           23.836758167595214,
           22.575547401999305,
           20.57538075006824,
           22.149934267122845,
           25.286310952843532,
           34.75972918870305,
           25.06706457590722,
           25.601616662731054,
           28.13406435568603
          ],
          "symbol": "circle-dot"
         },
         "mode": "markers",
         "showlegend": false,
         "text": [
          "\nConstructor<br>\nRecipe: screw<br>\nScale: 30.625\n",
          "\nManufacturer<br>\nRecipe: heavy_modular_frame<br>\nScale: 2.5\n",
          "\nConstructor<br>\nRecipe: steel_beam<br>\nScale: 7.5333\n",
          "\nFoundry<br>\nRecipe: steel_ingot<br>\nScale: 12.5444\n",
          "\nConstructor<br>\nRecipe: iron_rod<br>\nScale: 34.75\n",
          "\nExtractor<br>\nRecipe: iron_ore<br>\nScale: 25.8458\n",
          "\nConstructor<br>\nRecipe: iron_plate<br>\nScale: 15.5\n",
          "\nAssembler<br>\nRecipe: rotor<br>\nScale: 1.25\n",
          "\nExtractor<br>\nRecipe: limestone<br>\nScale: 6.75\n",
          "\nAssembler<br>\nRecipe: encased_industrial_beam<br>\nScale: 4.5\n",
          "\nAggregator<br>\nRecipe: output<br>\nScale: 1\n",
          "\nConstructor<br>\nRecipe: steel_pipe<br>\nScale: 3.75\n",
          "\nExtractor<br>\nRecipe: coal<br>\nScale: 9.4083\n",
          "\nSmelter<br>\nRecipe: iron_ingot<br>\nScale: 32.875\n",
          "\nConstructor<br>\nRecipe: concrete<br>\nScale: 9.0\n",
          "\nAssembler<br>\nRecipe: reinforced_iron_plate<br>\nScale: 10.0\n",
          "\nAssembler<br>\nRecipe: modular_frame<br>\nScale: 15.0\n"
         ],
         "x": [
          -2.0,
          -2.5,
          -3.5,
          -0.5,
          -0.5,
          -0.5,
          0.5,
          -1.0,
          -2.5,
          -3.0,
          0.5,
          -2.0,
          -0.5,
          0.0,
          -2.5,
          -1.5,
          1.0
         ],
         "y": [
          2.0,
          3.0,
          5.0,
          4.0,
          1.0,
          3.0,
          3.0,
          2.0,
          6.0,
          4.0,
          1.0,
          4.0,
          5.0,
          2.0,
          5.0,
          3.0,
          2.0
         ],
         "type": "scatter"
        }
       ],
       "layout": {
        "template": {
         "data": {
          "histogram2dcontour": [
           {
            "type": "histogram2dcontour",
            "colorbar": {
             "outlinewidth": 0,
             "ticks": ""
            },
            "colorscale": [
             [
              0.0,
              "#0d0887"
             ],
             [
              0.1111111111111111,
              "#46039f"
             ],
             [
              0.2222222222222222,
              "#7201a8"
             ],
             [
              0.3333333333333333,
              "#9c179e"
             ],
             [
              0.4444444444444444,
              "#bd3786"
             ],
             [
              0.5555555555555556,
              "#d8576b"
             ],
             [
              0.6666666666666666,
              "#ed7953"
             ],
             [
              0.7777777777777778,
              "#fb9f3a"
             ],
             [
              0.8888888888888888,
              "#fdca26"
             ],
             [
              1.0,
              "#f0f921"
             ]
            ]
           }
          ],
          "choropleth": [
           {
            "type": "choropleth",
            "colorbar": {
             "outlinewidth": 0,
             "ticks": ""
            }
           }
          ],
          "histogram2d": [
           {
            "type": "histogram2d",
            "colorbar": {
             "outlinewidth": 0,
             "ticks": ""
            },
            "colorscale": [
             [
              0.0,
              "#0d0887"
             ],
             [
              0.1111111111111111,
              "#46039f"
             ],
             [
              0.2222222222222222,
              "#7201a8"
             ],
             [
              0.3333333333333333,
              "#9c179e"
             ],
             [
              0.4444444444444444,
              "#bd3786"
             ],
             [
              0.5555555555555556,
              "#d8576b"
             ],
             [
              0.6666666666666666,
              "#ed7953"
             ],
             [
              0.7777777777777778,
              "#fb9f3a"
             ],
             [
              0.8888888888888888,
              "#fdca26"
             ],
             [
              1.0,
              "#f0f921"
             ]
            ]
           }
          ],
          "heatmap": [
           {
            "type": "heatmap",
            "colorbar": {
             "outlinewidth": 0,
             "ticks": ""
            },
            "colorscale": [
             [
              0.0,
              "#0d0887"
             ],
             [
              0.1111111111111111,
              "#46039f"
             ],
             [
              0.2222222222222222,
              "#7201a8"
             ],
             [
              0.3333333333333333,
              "#9c179e"
             ],
             [
              0.4444444444444444,
              "#bd3786"
             ],
             [
              0.5555555555555556,
              "#d8576b"
             ],
             [
              0.6666666666666666,
              "#ed7953"
             ],
             [
              0.7777777777777778,
              "#fb9f3a"
             ],
             [
              0.8888888888888888,
              "#fdca26"
             ],
             [
              1.0,
              "#f0f921"
             ]
            ]
           }
          ],
          "heatmapgl": [
           {
            "type": "heatmapgl",
            "colorbar": {
             "outlinewidth": 0,
             "ticks": ""
            },
            "colorscale": [
             [
              0.0,
              "#0d0887"
             ],
             [
              0.1111111111111111,
              "#46039f"
             ],
             [
              0.2222222222222222,
              "#7201a8"
             ],
             [
              0.3333333333333333,
              "#9c179e"
             ],
             [
              0.4444444444444444,
              "#bd3786"
             ],
             [
              0.5555555555555556,
              "#d8576b"
             ],
             [
              0.6666666666666666,
              "#ed7953"
             ],
             [
              0.7777777777777778,
              "#fb9f3a"
             ],
             [
              0.8888888888888888,
              "#fdca26"
             ],
             [
              1.0,
              "#f0f921"
             ]
            ]
           }
          ],
          "contourcarpet": [
           {
            "type": "contourcarpet",
            "colorbar": {
             "outlinewidth": 0,
             "ticks": ""
            }
           }
          ],
          "contour": [
           {
            "type": "contour",
            "colorbar": {
             "outlinewidth": 0,
             "ticks": ""
            },
            "colorscale": [
             [
              0.0,
              "#0d0887"
             ],
             [
              0.1111111111111111,
              "#46039f"
             ],
             [
              0.2222222222222222,
              "#7201a8"
             ],
             [
              0.3333333333333333,
              "#9c179e"
             ],
             [
              0.4444444444444444,
              "#bd3786"
             ],
             [
              0.5555555555555556,
              "#d8576b"
             ],
             [
              0.6666666666666666,
              "#ed7953"
             ],
             [
              0.7777777777777778,
              "#fb9f3a"
             ],
             [
              0.8888888888888888,
              "#fdca26"
             ],
             [
              1.0,
              "#f0f921"
             ]
            ]
           }
          ],
          "surface": [
           {
            "type": "surface",
            "colorbar": {
             "outlinewidth": 0,
             "ticks": ""
            },
            "colorscale": [
             [
              0.0,
              "#0d0887"
             ],
             [
              0.1111111111111111,
              "#46039f"
             ],
             [
              0.2222222222222222,
              "#7201a8"
             ],
             [
              0.3333333333333333,
              "#9c179e"
             ],
             [
              0.4444444444444444,
              "#bd3786"
             ],
             [
              0.5555555555555556,
              "#d8576b"
             ],
             [
              0.6666666666666666,
              "#ed7953"
             ],
             [
              0.7777777777777778,
              "#fb9f3a"
             ],
             [
              0.8888888888888888,
              "#fdca26"
             ],
             [
              1.0,
              "#f0f921"
             ]
            ]
           }
          ],
          "mesh3d": [
           {
            "type": "mesh3d",
            "colorbar": {
             "outlinewidth": 0,
             "ticks": ""
            }
           }
          ],
          "scatter": [
           {
            "marker": {
             "line": {
              "color": "#283442"
             }
            },
            "type": "scatter"
           }
          ],
          "parcoords": [
           {
            "type": "parcoords",
            "line": {
             "colorbar": {
              "outlinewidth": 0,
              "ticks": ""
             }
            }
           }
          ],
          "scatterpolargl": [
           {
            "type": "scatterpolargl",
            "marker": {
             "colorbar": {
              "outlinewidth": 0,
              "ticks": ""
             }
            }
           }
          ],
          "bar": [
           {
            "error_x": {
             "color": "#f2f5fa"
            },
            "error_y": {
             "color": "#f2f5fa"
            },
            "marker": {
             "line": {
              "color": "rgb(17,17,17)",
              "width": 0.5
             },
             "pattern": {
              "fillmode": "overlay",
              "size": 10,
              "solidity": 0.2
             }
            },
            "type": "bar"
           }
          ],
          "scattergeo": [
           {
            "type": "scattergeo",
            "marker": {
             "colorbar": {
              "outlinewidth": 0,
              "ticks": ""
             }
            }
           }
          ],
          "scatterpolar": [
           {
            "type": "scatterpolar",
            "marker": {
             "colorbar": {
              "outlinewidth": 0,
              "ticks": ""
             }
            }
           }
          ],
          "histogram": [
           {
            "marker": {
             "pattern": {
              "fillmode": "overlay",
              "size": 10,
              "solidity": 0.2
             }
            },
            "type": "histogram"
           }
          ],
          "scattergl": [
           {
            "marker": {
             "line": {
              "color": "#283442"
             }
            },
            "type": "scattergl"
           }
          ],
          "scatter3d": [
           {
            "type": "scatter3d",
            "line": {
             "colorbar": {
              "outlinewidth": 0,
              "ticks": ""
             }
            },
            "marker": {
             "colorbar": {
              "outlinewidth": 0,
              "ticks": ""
             }
            }
           }
          ],
          "scattermapbox": [
           {
            "type": "scattermapbox",
            "marker": {
             "colorbar": {
              "outlinewidth": 0,
              "ticks": ""
             }
            }
           }
          ],
          "scatterternary": [
           {
            "type": "scatterternary",
            "marker": {
             "colorbar": {
              "outlinewidth": 0,
              "ticks": ""
             }
            }
           }
          ],
          "scattercarpet": [
           {
            "type": "scattercarpet",
            "marker": {
             "colorbar": {
              "outlinewidth": 0,
              "ticks": ""
             }
            }
           }
          ],
          "carpet": [
           {
            "aaxis": {
             "endlinecolor": "#A2B1C6",
             "gridcolor": "#506784",
             "linecolor": "#506784",
             "minorgridcolor": "#506784",
             "startlinecolor": "#A2B1C6"
            },
            "baxis": {
             "endlinecolor": "#A2B1C6",
             "gridcolor": "#506784",
             "linecolor": "#506784",
             "minorgridcolor": "#506784",
             "startlinecolor": "#A2B1C6"
            },
            "type": "carpet"
           }
          ],
          "table": [
           {
            "cells": {
             "fill": {
              "color": "#506784"
             },
             "line": {
              "color": "rgb(17,17,17)"
             }
            },
            "header": {
             "fill": {
              "color": "#2a3f5f"
             },
             "line": {
              "color": "rgb(17,17,17)"
             }
            },
            "type": "table"
           }
          ],
          "barpolar": [
           {
            "marker": {
             "line": {
              "color": "rgb(17,17,17)",
              "width": 0.5
             },
             "pattern": {
              "fillmode": "overlay",
              "size": 10,
              "solidity": 0.2
             }
            },
            "type": "barpolar"
           }
          ],
          "pie": [
           {
            "automargin": true,
            "type": "pie"
           }
          ]
         },
         "layout": {
          "autotypenumbers": "strict",
          "colorway": [
           "#636efa",
           "#EF553B",
           "#00cc96",
           "#ab63fa",
           "#FFA15A",
           "#19d3f3",
           "#FF6692",
           "#B6E880",
           "#FF97FF",
           "#FECB52"
          ],
          "font": {
           "color": "#f2f5fa"
          },
          "hovermode": "closest",
          "hoverlabel": {
           "align": "left"
          },
          "paper_bgcolor": "rgb(17,17,17)",
          "plot_bgcolor": "rgb(17,17,17)",
          "polar": {
           "bgcolor": "rgb(17,17,17)",
           "angularaxis": {
            "gridcolor": "#506784",
            "linecolor": "#506784",
            "ticks": ""
           },
           "radialaxis": {
            "gridcolor": "#506784",
            "linecolor": "#506784",
            "ticks": ""
           }
          },
          "ternary": {
           "bgcolor": "rgb(17,17,17)",
           "aaxis": {
            "gridcolor": "#506784",
            "linecolor": "#506784",
            "ticks": ""
           },
           "baxis": {
            "gridcolor": "#506784",
            "linecolor": "#506784",
            "ticks": ""
           },
           "caxis": {
            "gridcolor": "#506784",
            "linecolor": "#506784",
            "ticks": ""
           }
          },
          "coloraxis": {
           "colorbar": {
            "outlinewidth": 0,
            "ticks": ""
           }
          },
          "colorscale": {
           "sequential": [
            [
             0.0,
             "#0d0887"
            ],
            [
             0.1111111111111111,
             "#46039f"
            ],
            [
             0.2222222222222222,
             "#7201a8"
            ],
            [
             0.3333333333333333,
             "#9c179e"
            ],
            [
             0.4444444444444444,
             "#bd3786"
            ],
            [
             0.5555555555555556,
             "#d8576b"
            ],
            [
             0.6666666666666666,
             "#ed7953"
            ],
            [
             0.7777777777777778,
             "#fb9f3a"
            ],
            [
             0.8888888888888888,
             "#fdca26"
            ],
            [
             1.0,
             "#f0f921"
            ]
           ],
           "sequentialminus": [
            [
             0.0,
             "#0d0887"
            ],
            [
             0.1111111111111111,
             "#46039f"
            ],
            [
             0.2222222222222222,
             "#7201a8"
            ],
            [
             0.3333333333333333,
             "#9c179e"
            ],
            [
             0.4444444444444444,
             "#bd3786"
            ],
            [
             0.5555555555555556,
             "#d8576b"
            ],
            [
             0.6666666666666666,
             "#ed7953"
            ],
            [
             0.7777777777777778,
             "#fb9f3a"
            ],
            [
             0.8888888888888888,
             "#fdca26"
            ],
            [
             1.0,
             "#f0f921"
            ]
           ],
           "diverging": [
            [
             0,
             "#8e0152"
            ],
            [
             0.1,
             "#c51b7d"
            ],
            [
             0.2,
             "#de77ae"
            ],
            [
             0.3,
             "#f1b6da"
            ],
            [
             0.4,
             "#fde0ef"
            ],
            [
             0.5,
             "#f7f7f7"
            ],
            [
             0.6,
             "#e6f5d0"
            ],
            [
             0.7,
             "#b8e186"
            ],
            [
             0.8,
             "#7fbc41"
            ],
            [
             0.9,
             "#4d9221"
            ],
            [
             1,
             "#276419"
            ]
           ]
          },
          "xaxis": {
           "gridcolor": "#283442",
           "linecolor": "#506784",
           "ticks": "",
           "title": {
            "standoff": 15
           },
           "zerolinecolor": "#283442",
           "automargin": true,
           "zerolinewidth": 2
          },
          "yaxis": {
           "gridcolor": "#283442",
           "linecolor": "#506784",
           "ticks": "",
           "title": {
            "standoff": 15
           },
           "zerolinecolor": "#283442",
           "automargin": true,
           "zerolinewidth": 2
          },
          "scene": {
           "xaxis": {
            "backgroundcolor": "rgb(17,17,17)",
            "gridcolor": "#506784",
            "linecolor": "#506784",
            "showbackground": true,
            "ticks": "",
            "zerolinecolor": "#C8D4E3",
            "gridwidth": 2
           },
           "yaxis": {
            "backgroundcolor": "rgb(17,17,17)",
            "gridcolor": "#506784",
            "linecolor": "#506784",
            "showbackground": true,
            "ticks": "",
            "zerolinecolor": "#C8D4E3",
            "gridwidth": 2
           },
           "zaxis": {
            "backgroundcolor": "rgb(17,17,17)",
            "gridcolor": "#506784",
            "linecolor": "#506784",
            "showbackground": true,
            "ticks": "",
            "zerolinecolor": "#C8D4E3",
            "gridwidth": 2
           }
          },
          "shapedefaults": {
           "line": {
            "color": "#f2f5fa"
           }
          },
          "annotationdefaults": {
           "arrowcolor": "#f2f5fa",
           "arrowhead": 0,
           "arrowwidth": 1
          },
          "geo": {
           "bgcolor": "rgb(17,17,17)",
           "landcolor": "rgb(17,17,17)",
           "subunitcolor": "#506784",
           "showland": true,
           "showlakes": true,
           "lakecolor": "rgb(17,17,17)"
          },
          "title": {
           "x": 0.05
          },
          "updatemenudefaults": {
           "bgcolor": "#506784",
           "borderwidth": 0
          },
          "sliderdefaults": {
           "bgcolor": "#C8D4E3",
           "borderwidth": 1,
           "bordercolor": "rgb(17,17,17)",
           "tickwidth": 0
          },
          "mapbox": {
           "style": "dark"
          }
         }
        },
        "xaxis": {
         "showgrid": false,
         "zeroline": false,
         "visible": false
        },
        "yaxis": {
         "showgrid": false,
         "zeroline": false,
         "visible": false
        },
        "autosize": true,
        "height": 1000
       },
       "config": {
        "plotlyServerURL": "https://plot.ly"
       }
      }
     },
     "metadata": {},
     "output_type": "display_data"
    },
    {
     "data": {
      "application/vnd.plotly.v1+json": {
       "data": [
        {
         "link": {
          "label": [
           "iron_rod",
           "screw",
           "modular_frame",
           "encased_industrial_beam",
           "steel_pipe",
           "steel_ingot",
           "coal",
           "iron_ore",
           "iron_ingot",
           "iron_ingot",
           "screw",
           "iron_rod",
           "concrete",
           "steel_beam",
           "steel_ingot",
           "iron_ore",
           "limestone",
           "screw",
           "iron_plate",
           "reinforced_iron_plate",
           "iron_rod"
          ],
          "source": [
           4,
           0,
           16,
           9,
           11,
           3,
           12,
           5,
           13,
           13,
           0,
           4,
           14,
           2,
           3,
           5,
           8,
           0,
           6,
           15,
           4
          ],
          "target": [
           0,
           1,
           1,
           1,
           1,
           2,
           3,
           3,
           4,
           6,
           7,
           7,
           9,
           9,
           11,
           13,
           14,
           15,
           15,
           16,
           16
          ],
          "value": [
           306.25,
           500.0,
           25.0,
           25.0,
           75.0,
           451.998,
           564.4979999999999,
           564.4979999999999,
           521.25,
           465.0,
           125.0,
           25.0,
           135.0,
           108.0,
           112.5,
           986.25,
           405.0,
           600.0,
           300.0,
           45.0,
           180.0
          ]
         },
         "node": {
          "label": [
           "Constructor: screw",
           "Manufacturer: heavy_modular_frame",
           "Constructor: steel_beam",
           "Foundry: steel_ingot",
           "Constructor: iron_rod",
           "Extractor: iron_ore",
           "Constructor: iron_plate",
           "Assembler: rotor",
           "Extractor: limestone",
           "Assembler: encased_industrial_beam",
           "Aggregator: output",
           "Constructor: steel_pipe",
           "Extractor: coal",
           "Smelter: iron_ingot",
           "Constructor: concrete",
           "Assembler: reinforced_iron_plate",
           "Assembler: modular_frame"
          ]
         },
         "type": "sankey"
        }
       ],
       "layout": {
        "template": {
         "data": {
          "histogram2dcontour": [
           {
            "type": "histogram2dcontour",
            "colorbar": {
             "outlinewidth": 0,
             "ticks": ""
            },
            "colorscale": [
             [
              0.0,
              "#0d0887"
             ],
             [
              0.1111111111111111,
              "#46039f"
             ],
             [
              0.2222222222222222,
              "#7201a8"
             ],
             [
              0.3333333333333333,
              "#9c179e"
             ],
             [
              0.4444444444444444,
              "#bd3786"
             ],
             [
              0.5555555555555556,
              "#d8576b"
             ],
             [
              0.6666666666666666,
              "#ed7953"
             ],
             [
              0.7777777777777778,
              "#fb9f3a"
             ],
             [
              0.8888888888888888,
              "#fdca26"
             ],
             [
              1.0,
              "#f0f921"
             ]
            ]
           }
          ],
          "choropleth": [
           {
            "type": "choropleth",
            "colorbar": {
             "outlinewidth": 0,
             "ticks": ""
            }
           }
          ],
          "histogram2d": [
           {
            "type": "histogram2d",
            "colorbar": {
             "outlinewidth": 0,
             "ticks": ""
            },
            "colorscale": [
             [
              0.0,
              "#0d0887"
             ],
             [
              0.1111111111111111,
              "#46039f"
             ],
             [
              0.2222222222222222,
              "#7201a8"
             ],
             [
              0.3333333333333333,
              "#9c179e"
             ],
             [
              0.4444444444444444,
              "#bd3786"
             ],
             [
              0.5555555555555556,
              "#d8576b"
             ],
             [
              0.6666666666666666,
              "#ed7953"
             ],
             [
              0.7777777777777778,
              "#fb9f3a"
             ],
             [
              0.8888888888888888,
              "#fdca26"
             ],
             [
              1.0,
              "#f0f921"
             ]
            ]
           }
          ],
          "heatmap": [
           {
            "type": "heatmap",
            "colorbar": {
             "outlinewidth": 0,
             "ticks": ""
            },
            "colorscale": [
             [
              0.0,
              "#0d0887"
             ],
             [
              0.1111111111111111,
              "#46039f"
             ],
             [
              0.2222222222222222,
              "#7201a8"
             ],
             [
              0.3333333333333333,
              "#9c179e"
             ],
             [
              0.4444444444444444,
              "#bd3786"
             ],
             [
              0.5555555555555556,
              "#d8576b"
             ],
             [
              0.6666666666666666,
              "#ed7953"
             ],
             [
              0.7777777777777778,
              "#fb9f3a"
             ],
             [
              0.8888888888888888,
              "#fdca26"
             ],
             [
              1.0,
              "#f0f921"
             ]
            ]
           }
          ],
          "heatmapgl": [
           {
            "type": "heatmapgl",
            "colorbar": {
             "outlinewidth": 0,
             "ticks": ""
            },
            "colorscale": [
             [
              0.0,
              "#0d0887"
             ],
             [
              0.1111111111111111,
              "#46039f"
             ],
             [
              0.2222222222222222,
              "#7201a8"
             ],
             [
              0.3333333333333333,
              "#9c179e"
             ],
             [
              0.4444444444444444,
              "#bd3786"
             ],
             [
              0.5555555555555556,
              "#d8576b"
             ],
             [
              0.6666666666666666,
              "#ed7953"
             ],
             [
              0.7777777777777778,
              "#fb9f3a"
             ],
             [
              0.8888888888888888,
              "#fdca26"
             ],
             [
              1.0,
              "#f0f921"
             ]
            ]
           }
          ],
          "contourcarpet": [
           {
            "type": "contourcarpet",
            "colorbar": {
             "outlinewidth": 0,
             "ticks": ""
            }
           }
          ],
          "contour": [
           {
            "type": "contour",
            "colorbar": {
             "outlinewidth": 0,
             "ticks": ""
            },
            "colorscale": [
             [
              0.0,
              "#0d0887"
             ],
             [
              0.1111111111111111,
              "#46039f"
             ],
             [
              0.2222222222222222,
              "#7201a8"
             ],
             [
              0.3333333333333333,
              "#9c179e"
             ],
             [
              0.4444444444444444,
              "#bd3786"
             ],
             [
              0.5555555555555556,
              "#d8576b"
             ],
             [
              0.6666666666666666,
              "#ed7953"
             ],
             [
              0.7777777777777778,
              "#fb9f3a"
             ],
             [
              0.8888888888888888,
              "#fdca26"
             ],
             [
              1.0,
              "#f0f921"
             ]
            ]
           }
          ],
          "surface": [
           {
            "type": "surface",
            "colorbar": {
             "outlinewidth": 0,
             "ticks": ""
            },
            "colorscale": [
             [
              0.0,
              "#0d0887"
             ],
             [
              0.1111111111111111,
              "#46039f"
             ],
             [
              0.2222222222222222,
              "#7201a8"
             ],
             [
              0.3333333333333333,
              "#9c179e"
             ],
             [
              0.4444444444444444,
              "#bd3786"
             ],
             [
              0.5555555555555556,
              "#d8576b"
             ],
             [
              0.6666666666666666,
              "#ed7953"
             ],
             [
              0.7777777777777778,
              "#fb9f3a"
             ],
             [
              0.8888888888888888,
              "#fdca26"
             ],
             [
              1.0,
              "#f0f921"
             ]
            ]
           }
          ],
          "mesh3d": [
           {
            "type": "mesh3d",
            "colorbar": {
             "outlinewidth": 0,
             "ticks": ""
            }
           }
          ],
          "scatter": [
           {
            "marker": {
             "line": {
              "color": "#283442"
             }
            },
            "type": "scatter"
           }
          ],
          "parcoords": [
           {
            "type": "parcoords",
            "line": {
             "colorbar": {
              "outlinewidth": 0,
              "ticks": ""
             }
            }
           }
          ],
          "scatterpolargl": [
           {
            "type": "scatterpolargl",
            "marker": {
             "colorbar": {
              "outlinewidth": 0,
              "ticks": ""
             }
            }
           }
          ],
          "bar": [
           {
            "error_x": {
             "color": "#f2f5fa"
            },
            "error_y": {
             "color": "#f2f5fa"
            },
            "marker": {
             "line": {
              "color": "rgb(17,17,17)",
              "width": 0.5
             },
             "pattern": {
              "fillmode": "overlay",
              "size": 10,
              "solidity": 0.2
             }
            },
            "type": "bar"
           }
          ],
          "scattergeo": [
           {
            "type": "scattergeo",
            "marker": {
             "colorbar": {
              "outlinewidth": 0,
              "ticks": ""
             }
            }
           }
          ],
          "scatterpolar": [
           {
            "type": "scatterpolar",
            "marker": {
             "colorbar": {
              "outlinewidth": 0,
              "ticks": ""
             }
            }
           }
          ],
          "histogram": [
           {
            "marker": {
             "pattern": {
              "fillmode": "overlay",
              "size": 10,
              "solidity": 0.2
             }
            },
            "type": "histogram"
           }
          ],
          "scattergl": [
           {
            "marker": {
             "line": {
              "color": "#283442"
             }
            },
            "type": "scattergl"
           }
          ],
          "scatter3d": [
           {
            "type": "scatter3d",
            "line": {
             "colorbar": {
              "outlinewidth": 0,
              "ticks": ""
             }
            },
            "marker": {
             "colorbar": {
              "outlinewidth": 0,
              "ticks": ""
             }
            }
           }
          ],
          "scattermapbox": [
           {
            "type": "scattermapbox",
            "marker": {
             "colorbar": {
              "outlinewidth": 0,
              "ticks": ""
             }
            }
           }
          ],
          "scatterternary": [
           {
            "type": "scatterternary",
            "marker": {
             "colorbar": {
              "outlinewidth": 0,
              "ticks": ""
             }
            }
           }
          ],
          "scattercarpet": [
           {
            "type": "scattercarpet",
            "marker": {
             "colorbar": {
              "outlinewidth": 0,
              "ticks": ""
             }
            }
           }
          ],
          "carpet": [
           {
            "aaxis": {
             "endlinecolor": "#A2B1C6",
             "gridcolor": "#506784",
             "linecolor": "#506784",
             "minorgridcolor": "#506784",
             "startlinecolor": "#A2B1C6"
            },
            "baxis": {
             "endlinecolor": "#A2B1C6",
             "gridcolor": "#506784",
             "linecolor": "#506784",
             "minorgridcolor": "#506784",
             "startlinecolor": "#A2B1C6"
            },
            "type": "carpet"
           }
          ],
          "table": [
           {
            "cells": {
             "fill": {
              "color": "#506784"
             },
             "line": {
              "color": "rgb(17,17,17)"
             }
            },
            "header": {
             "fill": {
              "color": "#2a3f5f"
             },
             "line": {
              "color": "rgb(17,17,17)"
             }
            },
            "type": "table"
           }
          ],
          "barpolar": [
           {
            "marker": {
             "line": {
              "color": "rgb(17,17,17)",
              "width": 0.5
             },
             "pattern": {
              "fillmode": "overlay",
              "size": 10,
              "solidity": 0.2
             }
            },
            "type": "barpolar"
           }
          ],
          "pie": [
           {
            "automargin": true,
            "type": "pie"
           }
          ]
         },
         "layout": {
          "autotypenumbers": "strict",
          "colorway": [
           "#636efa",
           "#EF553B",
           "#00cc96",
           "#ab63fa",
           "#FFA15A",
           "#19d3f3",
           "#FF6692",
           "#B6E880",
           "#FF97FF",
           "#FECB52"
          ],
          "font": {
           "color": "#f2f5fa"
          },
          "hovermode": "closest",
          "hoverlabel": {
           "align": "left"
          },
          "paper_bgcolor": "rgb(17,17,17)",
          "plot_bgcolor": "rgb(17,17,17)",
          "polar": {
           "bgcolor": "rgb(17,17,17)",
           "angularaxis": {
            "gridcolor": "#506784",
            "linecolor": "#506784",
            "ticks": ""
           },
           "radialaxis": {
            "gridcolor": "#506784",
            "linecolor": "#506784",
            "ticks": ""
           }
          },
          "ternary": {
           "bgcolor": "rgb(17,17,17)",
           "aaxis": {
            "gridcolor": "#506784",
            "linecolor": "#506784",
            "ticks": ""
           },
           "baxis": {
            "gridcolor": "#506784",
            "linecolor": "#506784",
            "ticks": ""
           },
           "caxis": {
            "gridcolor": "#506784",
            "linecolor": "#506784",
            "ticks": ""
           }
          },
          "coloraxis": {
           "colorbar": {
            "outlinewidth": 0,
            "ticks": ""
           }
          },
          "colorscale": {
           "sequential": [
            [
             0.0,
             "#0d0887"
            ],
            [
             0.1111111111111111,
             "#46039f"
            ],
            [
             0.2222222222222222,
             "#7201a8"
            ],
            [
             0.3333333333333333,
             "#9c179e"
            ],
            [
             0.4444444444444444,
             "#bd3786"
            ],
            [
             0.5555555555555556,
             "#d8576b"
            ],
            [
             0.6666666666666666,
             "#ed7953"
            ],
            [
             0.7777777777777778,
             "#fb9f3a"
            ],
            [
             0.8888888888888888,
             "#fdca26"
            ],
            [
             1.0,
             "#f0f921"
            ]
           ],
           "sequentialminus": [
            [
             0.0,
             "#0d0887"
            ],
            [
             0.1111111111111111,
             "#46039f"
            ],
            [
             0.2222222222222222,
             "#7201a8"
            ],
            [
             0.3333333333333333,
             "#9c179e"
            ],
            [
             0.4444444444444444,
             "#bd3786"
            ],
            [
             0.5555555555555556,
             "#d8576b"
            ],
            [
             0.6666666666666666,
             "#ed7953"
            ],
            [
             0.7777777777777778,
             "#fb9f3a"
            ],
            [
             0.8888888888888888,
             "#fdca26"
            ],
            [
             1.0,
             "#f0f921"
            ]
           ],
           "diverging": [
            [
             0,
             "#8e0152"
            ],
            [
             0.1,
             "#c51b7d"
            ],
            [
             0.2,
             "#de77ae"
            ],
            [
             0.3,
             "#f1b6da"
            ],
            [
             0.4,
             "#fde0ef"
            ],
            [
             0.5,
             "#f7f7f7"
            ],
            [
             0.6,
             "#e6f5d0"
            ],
            [
             0.7,
             "#b8e186"
            ],
            [
             0.8,
             "#7fbc41"
            ],
            [
             0.9,
             "#4d9221"
            ],
            [
             1,
             "#276419"
            ]
           ]
          },
          "xaxis": {
           "gridcolor": "#283442",
           "linecolor": "#506784",
           "ticks": "",
           "title": {
            "standoff": 15
           },
           "zerolinecolor": "#283442",
           "automargin": true,
           "zerolinewidth": 2
          },
          "yaxis": {
           "gridcolor": "#283442",
           "linecolor": "#506784",
           "ticks": "",
           "title": {
            "standoff": 15
           },
           "zerolinecolor": "#283442",
           "automargin": true,
           "zerolinewidth": 2
          },
          "scene": {
           "xaxis": {
            "backgroundcolor": "rgb(17,17,17)",
            "gridcolor": "#506784",
            "linecolor": "#506784",
            "showbackground": true,
            "ticks": "",
            "zerolinecolor": "#C8D4E3",
            "gridwidth": 2
           },
           "yaxis": {
            "backgroundcolor": "rgb(17,17,17)",
            "gridcolor": "#506784",
            "linecolor": "#506784",
            "showbackground": true,
            "ticks": "",
            "zerolinecolor": "#C8D4E3",
            "gridwidth": 2
           },
           "zaxis": {
            "backgroundcolor": "rgb(17,17,17)",
            "gridcolor": "#506784",
            "linecolor": "#506784",
            "showbackground": true,
            "ticks": "",
            "zerolinecolor": "#C8D4E3",
            "gridwidth": 2
           }
          },
          "shapedefaults": {
           "line": {
            "color": "#f2f5fa"
           }
          },
          "annotationdefaults": {
           "arrowcolor": "#f2f5fa",
           "arrowhead": 0,
           "arrowwidth": 1
          },
          "geo": {
           "bgcolor": "rgb(17,17,17)",
           "landcolor": "rgb(17,17,17)",
           "subunitcolor": "#506784",
           "showland": true,
           "showlakes": true,
           "lakecolor": "rgb(17,17,17)"
          },
          "title": {
           "x": 0.05
          },
          "updatemenudefaults": {
           "bgcolor": "#506784",
           "borderwidth": 0
          },
          "sliderdefaults": {
           "bgcolor": "#C8D4E3",
           "borderwidth": 1,
           "bordercolor": "rgb(17,17,17)",
           "tickwidth": 0
          },
          "mapbox": {
           "style": "dark"
          }
         }
        }
       },
       "config": {
        "plotlyServerURL": "https://plot.ly"
       }
      }
     },
     "metadata": {},
     "output_type": "display_data"
    },
    {
     "data": {
      "text/plain": "<IPython.core.display.HTML object>",
      "text/html": "\n    <table>\n    <thead>\n    <tr><td>Machine Type</td><td>Count</td><td>Recipe</td><td>Ingredients</td><td>Products</td></tr>\n    </thead>\n    <tbody>\n    <tr><td>Constructor</td><td>30.625</td><td>screw</td><td>iron_rod: 306.25</td><td>screw: 1225.00</td></tr>\n<tr><td>Manufacturer</td><td>2.5</td><td>heavy_modular_frame</td><td>screw: 500.00<br>modular_frame: 25.00<br>encased_industrial_beam: 25.00<br>steel_pipe: 75.00</td><td>heavy_modular_frame: 5.00</td></tr>\n<tr><td>Constructor</td><td>7.5333</td><td>steel_beam</td><td>steel_ingot: 452.00</td><td>steel_beam: 113.00</td></tr>\n<tr><td>Foundry</td><td>12.5444</td><td>steel_ingot</td><td>coal: 564.50<br>iron_ore: 564.50</td><td>steel_ingot: 564.50</td></tr>\n<tr><td>Constructor</td><td>34.75</td><td>iron_rod</td><td>iron_ingot: 521.25</td><td>iron_rod: 521.25</td></tr>\n<tr><td>Extractor</td><td>25.8458</td><td>iron_ore</td><td></td><td>iron_ore: 1550.75</td></tr>\n<tr><td>Constructor</td><td>15.5</td><td>iron_plate</td><td>iron_ingot: 465.00</td><td>iron_plate: 310.00</td></tr>\n<tr><td>Assembler</td><td>1.25</td><td>rotor</td><td>iron_rod: 25.00<br>screw: 125.00</td><td>rotor: 5.00</td></tr>\n<tr><td>Extractor</td><td>6.75</td><td>limestone</td><td></td><td>limestone: 405.00</td></tr>\n<tr><td>Assembler</td><td>4.5</td><td>encased_industrial_beam</td><td>concrete: 135.00<br>steel_beam: 108.00</td><td>encased_industrial_beam: 27.00</td></tr>\n<tr><td>Aggregator</td><td>1</td><td>output</td><td>iron_rod: 10.00<br>iron_plate: 10.00<br>steel_beam: 5.00<br>modular_frame: 5.00<br>reinforced_iron_plate: 5.00<br>rotor: 5.00<br>encased_industrial_beam: 2.00<br>heavy_modular_frame: 5.00</td><td>iron_rod: 10.00<br>iron_plate: 10.00<br>steel_beam: 5.00<br>modular_frame: 5.00<br>reinforced_iron_plate: 5.00<br>rotor: 5.00<br>encased_industrial_beam: 2.00<br>heavy_modular_frame: 5.00</td></tr>\n<tr><td>Constructor</td><td>3.75</td><td>steel_pipe</td><td>steel_ingot: 112.50</td><td>steel_pipe: 75.00</td></tr>\n<tr><td>Extractor</td><td>9.4083</td><td>coal</td><td></td><td>coal: 564.50</td></tr>\n<tr><td>Smelter</td><td>32.875</td><td>iron_ingot</td><td>iron_ore: 986.25</td><td>iron_ingot: 986.25</td></tr>\n<tr><td>Constructor</td><td>9.0</td><td>concrete</td><td>limestone: 405.00</td><td>concrete: 135.00</td></tr>\n<tr><td>Assembler</td><td>10.0</td><td>reinforced_iron_plate</td><td>screw: 600.00<br>iron_plate: 300.00</td><td>reinforced_iron_plate: 50.00</td></tr>\n<tr><td>Assembler</td><td>15.0</td><td>modular_frame</td><td>iron_rod: 180.00<br>reinforced_iron_plate: 45.00</td><td>modular_frame: 30.00</td></tr>\n    </tbody>\n    </table>"
     },
     "metadata": {},
     "output_type": "display_data"
    },
    {
     "name": "stdout",
     "output_type": "stream",
     "text": [
      "Total Power: 1755.6346\n"
     ]
    },
    {
     "data": {
      "text/plain": "<__main__.Process at 0x7f7a14906950>"
     },
     "execution_count": 17,
     "metadata": {},
     "output_type": "execute_result"
    }
   ],
   "source": [
    "# total production\n",
    "target_product = MaterialSpec(iron_rod=10, iron_plate=10, reinforced_iron_plate=5, rotor=5,\n",
    "                                  steel_beam=5, encased_industrial_beam=2, modular_frame=5, heavy_modular_frame=5)\n",
    "\n",
    "factory_plan(target_product)"
   ]
  },
  {
   "cell_type": "code",
   "execution_count": 18,
   "id": "2ebd00f4-afb7-4e09-b607-e6758c00a32d",
   "metadata": {
    "tags": []
   },
   "outputs": [
    {
     "name": "stdout",
     "output_type": "stream",
     "text": [
      "missing: 'BP_ItemDescriptorPortableMiner_C'\n",
      "\n"
     ]
    },
    {
     "data": {
      "application/vnd.plotly.v1+json": {
       "data": [
        {
         "hoverinfo": "none",
         "line": {
          "shape": "spline"
         },
         "marker": {
          "angleref": "previous",
          "color": "black",
          "size": 10,
          "standoff": 10,
          "symbol": "arrow-wide"
         },
         "mode": "lines+markers",
         "showlegend": false,
         "x": [
          0.5,
          1.5,
          null,
          1.5,
          1.5,
          null,
          0.5,
          0.5,
          null,
          0.5,
          0.5,
          null,
          0.5,
          1.5,
          null,
          -0.5,
          0.5,
          null
         ],
         "y": [
          3.0,
          3.0,
          null,
          2.0,
          3.0,
          null,
          1.0,
          2.0,
          null,
          2.0,
          3.0,
          null,
          1.0,
          2.0,
          null,
          2.0,
          1.0,
          null
         ],
         "type": "scatter"
        },
        {
         "hovertemplate": "%{text}<extra></extra>",
         "marker": {
          "color": [
           "#750D86",
           "#E15F99",
           "#2E91E5",
           "#2E91E5",
           "#2E91E5",
           "#511CFB",
           "#FB0D0D"
          ],
          "size": [
           29.242343145200195,
           25.96672499955091,
           30.958127171467464,
           28.62674539751169,
           31.989249137763153,
           21.53543426250563,
           35.231883119115295
          ],
          "symbol": "circle-dot"
         },
         "mode": "markers",
         "showlegend": false,
         "text": [
          "\nExtractor<br>\nRecipe: iron_ore<br>\nScale: 6.5\n",
          "\nAssembler<br>\nRecipe: reinforced_iron_plate<br>\nScale: 4.0\n",
          "\nConstructor<br>\nRecipe: iron_rod<br>\nScale: 8.0\n",
          "\nConstructor<br>\nRecipe: screw<br>\nScale: 6.0\n",
          "\nConstructor<br>\nRecipe: iron_plate<br>\nScale: 9.0\n",
          "\nAggregator<br>\nRecipe: output<br>\nScale: 1\n",
          "\nSmelter<br>\nRecipe: iron_ingot<br>\nScale: 13.0\n"
         ],
         "x": [
          -0.5,
          1.5,
          0.5,
          0.5,
          1.5,
          -0.5,
          0.5
         ],
         "y": [
          2.0,
          3.0,
          2.0,
          3.0,
          2.0,
          1.0,
          1.0
         ],
         "type": "scatter"
        }
       ],
       "layout": {
        "template": {
         "data": {
          "histogram2dcontour": [
           {
            "type": "histogram2dcontour",
            "colorbar": {
             "outlinewidth": 0,
             "ticks": ""
            },
            "colorscale": [
             [
              0.0,
              "#0d0887"
             ],
             [
              0.1111111111111111,
              "#46039f"
             ],
             [
              0.2222222222222222,
              "#7201a8"
             ],
             [
              0.3333333333333333,
              "#9c179e"
             ],
             [
              0.4444444444444444,
              "#bd3786"
             ],
             [
              0.5555555555555556,
              "#d8576b"
             ],
             [
              0.6666666666666666,
              "#ed7953"
             ],
             [
              0.7777777777777778,
              "#fb9f3a"
             ],
             [
              0.8888888888888888,
              "#fdca26"
             ],
             [
              1.0,
              "#f0f921"
             ]
            ]
           }
          ],
          "choropleth": [
           {
            "type": "choropleth",
            "colorbar": {
             "outlinewidth": 0,
             "ticks": ""
            }
           }
          ],
          "histogram2d": [
           {
            "type": "histogram2d",
            "colorbar": {
             "outlinewidth": 0,
             "ticks": ""
            },
            "colorscale": [
             [
              0.0,
              "#0d0887"
             ],
             [
              0.1111111111111111,
              "#46039f"
             ],
             [
              0.2222222222222222,
              "#7201a8"
             ],
             [
              0.3333333333333333,
              "#9c179e"
             ],
             [
              0.4444444444444444,
              "#bd3786"
             ],
             [
              0.5555555555555556,
              "#d8576b"
             ],
             [
              0.6666666666666666,
              "#ed7953"
             ],
             [
              0.7777777777777778,
              "#fb9f3a"
             ],
             [
              0.8888888888888888,
              "#fdca26"
             ],
             [
              1.0,
              "#f0f921"
             ]
            ]
           }
          ],
          "heatmap": [
           {
            "type": "heatmap",
            "colorbar": {
             "outlinewidth": 0,
             "ticks": ""
            },
            "colorscale": [
             [
              0.0,
              "#0d0887"
             ],
             [
              0.1111111111111111,
              "#46039f"
             ],
             [
              0.2222222222222222,
              "#7201a8"
             ],
             [
              0.3333333333333333,
              "#9c179e"
             ],
             [
              0.4444444444444444,
              "#bd3786"
             ],
             [
              0.5555555555555556,
              "#d8576b"
             ],
             [
              0.6666666666666666,
              "#ed7953"
             ],
             [
              0.7777777777777778,
              "#fb9f3a"
             ],
             [
              0.8888888888888888,
              "#fdca26"
             ],
             [
              1.0,
              "#f0f921"
             ]
            ]
           }
          ],
          "heatmapgl": [
           {
            "type": "heatmapgl",
            "colorbar": {
             "outlinewidth": 0,
             "ticks": ""
            },
            "colorscale": [
             [
              0.0,
              "#0d0887"
             ],
             [
              0.1111111111111111,
              "#46039f"
             ],
             [
              0.2222222222222222,
              "#7201a8"
             ],
             [
              0.3333333333333333,
              "#9c179e"
             ],
             [
              0.4444444444444444,
              "#bd3786"
             ],
             [
              0.5555555555555556,
              "#d8576b"
             ],
             [
              0.6666666666666666,
              "#ed7953"
             ],
             [
              0.7777777777777778,
              "#fb9f3a"
             ],
             [
              0.8888888888888888,
              "#fdca26"
             ],
             [
              1.0,
              "#f0f921"
             ]
            ]
           }
          ],
          "contourcarpet": [
           {
            "type": "contourcarpet",
            "colorbar": {
             "outlinewidth": 0,
             "ticks": ""
            }
           }
          ],
          "contour": [
           {
            "type": "contour",
            "colorbar": {
             "outlinewidth": 0,
             "ticks": ""
            },
            "colorscale": [
             [
              0.0,
              "#0d0887"
             ],
             [
              0.1111111111111111,
              "#46039f"
             ],
             [
              0.2222222222222222,
              "#7201a8"
             ],
             [
              0.3333333333333333,
              "#9c179e"
             ],
             [
              0.4444444444444444,
              "#bd3786"
             ],
             [
              0.5555555555555556,
              "#d8576b"
             ],
             [
              0.6666666666666666,
              "#ed7953"
             ],
             [
              0.7777777777777778,
              "#fb9f3a"
             ],
             [
              0.8888888888888888,
              "#fdca26"
             ],
             [
              1.0,
              "#f0f921"
             ]
            ]
           }
          ],
          "surface": [
           {
            "type": "surface",
            "colorbar": {
             "outlinewidth": 0,
             "ticks": ""
            },
            "colorscale": [
             [
              0.0,
              "#0d0887"
             ],
             [
              0.1111111111111111,
              "#46039f"
             ],
             [
              0.2222222222222222,
              "#7201a8"
             ],
             [
              0.3333333333333333,
              "#9c179e"
             ],
             [
              0.4444444444444444,
              "#bd3786"
             ],
             [
              0.5555555555555556,
              "#d8576b"
             ],
             [
              0.6666666666666666,
              "#ed7953"
             ],
             [
              0.7777777777777778,
              "#fb9f3a"
             ],
             [
              0.8888888888888888,
              "#fdca26"
             ],
             [
              1.0,
              "#f0f921"
             ]
            ]
           }
          ],
          "mesh3d": [
           {
            "type": "mesh3d",
            "colorbar": {
             "outlinewidth": 0,
             "ticks": ""
            }
           }
          ],
          "scatter": [
           {
            "marker": {
             "line": {
              "color": "#283442"
             }
            },
            "type": "scatter"
           }
          ],
          "parcoords": [
           {
            "type": "parcoords",
            "line": {
             "colorbar": {
              "outlinewidth": 0,
              "ticks": ""
             }
            }
           }
          ],
          "scatterpolargl": [
           {
            "type": "scatterpolargl",
            "marker": {
             "colorbar": {
              "outlinewidth": 0,
              "ticks": ""
             }
            }
           }
          ],
          "bar": [
           {
            "error_x": {
             "color": "#f2f5fa"
            },
            "error_y": {
             "color": "#f2f5fa"
            },
            "marker": {
             "line": {
              "color": "rgb(17,17,17)",
              "width": 0.5
             },
             "pattern": {
              "fillmode": "overlay",
              "size": 10,
              "solidity": 0.2
             }
            },
            "type": "bar"
           }
          ],
          "scattergeo": [
           {
            "type": "scattergeo",
            "marker": {
             "colorbar": {
              "outlinewidth": 0,
              "ticks": ""
             }
            }
           }
          ],
          "scatterpolar": [
           {
            "type": "scatterpolar",
            "marker": {
             "colorbar": {
              "outlinewidth": 0,
              "ticks": ""
             }
            }
           }
          ],
          "histogram": [
           {
            "marker": {
             "pattern": {
              "fillmode": "overlay",
              "size": 10,
              "solidity": 0.2
             }
            },
            "type": "histogram"
           }
          ],
          "scattergl": [
           {
            "marker": {
             "line": {
              "color": "#283442"
             }
            },
            "type": "scattergl"
           }
          ],
          "scatter3d": [
           {
            "type": "scatter3d",
            "line": {
             "colorbar": {
              "outlinewidth": 0,
              "ticks": ""
             }
            },
            "marker": {
             "colorbar": {
              "outlinewidth": 0,
              "ticks": ""
             }
            }
           }
          ],
          "scattermapbox": [
           {
            "type": "scattermapbox",
            "marker": {
             "colorbar": {
              "outlinewidth": 0,
              "ticks": ""
             }
            }
           }
          ],
          "scatterternary": [
           {
            "type": "scatterternary",
            "marker": {
             "colorbar": {
              "outlinewidth": 0,
              "ticks": ""
             }
            }
           }
          ],
          "scattercarpet": [
           {
            "type": "scattercarpet",
            "marker": {
             "colorbar": {
              "outlinewidth": 0,
              "ticks": ""
             }
            }
           }
          ],
          "carpet": [
           {
            "aaxis": {
             "endlinecolor": "#A2B1C6",
             "gridcolor": "#506784",
             "linecolor": "#506784",
             "minorgridcolor": "#506784",
             "startlinecolor": "#A2B1C6"
            },
            "baxis": {
             "endlinecolor": "#A2B1C6",
             "gridcolor": "#506784",
             "linecolor": "#506784",
             "minorgridcolor": "#506784",
             "startlinecolor": "#A2B1C6"
            },
            "type": "carpet"
           }
          ],
          "table": [
           {
            "cells": {
             "fill": {
              "color": "#506784"
             },
             "line": {
              "color": "rgb(17,17,17)"
             }
            },
            "header": {
             "fill": {
              "color": "#2a3f5f"
             },
             "line": {
              "color": "rgb(17,17,17)"
             }
            },
            "type": "table"
           }
          ],
          "barpolar": [
           {
            "marker": {
             "line": {
              "color": "rgb(17,17,17)",
              "width": 0.5
             },
             "pattern": {
              "fillmode": "overlay",
              "size": 10,
              "solidity": 0.2
             }
            },
            "type": "barpolar"
           }
          ],
          "pie": [
           {
            "automargin": true,
            "type": "pie"
           }
          ]
         },
         "layout": {
          "autotypenumbers": "strict",
          "colorway": [
           "#636efa",
           "#EF553B",
           "#00cc96",
           "#ab63fa",
           "#FFA15A",
           "#19d3f3",
           "#FF6692",
           "#B6E880",
           "#FF97FF",
           "#FECB52"
          ],
          "font": {
           "color": "#f2f5fa"
          },
          "hovermode": "closest",
          "hoverlabel": {
           "align": "left"
          },
          "paper_bgcolor": "rgb(17,17,17)",
          "plot_bgcolor": "rgb(17,17,17)",
          "polar": {
           "bgcolor": "rgb(17,17,17)",
           "angularaxis": {
            "gridcolor": "#506784",
            "linecolor": "#506784",
            "ticks": ""
           },
           "radialaxis": {
            "gridcolor": "#506784",
            "linecolor": "#506784",
            "ticks": ""
           }
          },
          "ternary": {
           "bgcolor": "rgb(17,17,17)",
           "aaxis": {
            "gridcolor": "#506784",
            "linecolor": "#506784",
            "ticks": ""
           },
           "baxis": {
            "gridcolor": "#506784",
            "linecolor": "#506784",
            "ticks": ""
           },
           "caxis": {
            "gridcolor": "#506784",
            "linecolor": "#506784",
            "ticks": ""
           }
          },
          "coloraxis": {
           "colorbar": {
            "outlinewidth": 0,
            "ticks": ""
           }
          },
          "colorscale": {
           "sequential": [
            [
             0.0,
             "#0d0887"
            ],
            [
             0.1111111111111111,
             "#46039f"
            ],
            [
             0.2222222222222222,
             "#7201a8"
            ],
            [
             0.3333333333333333,
             "#9c179e"
            ],
            [
             0.4444444444444444,
             "#bd3786"
            ],
            [
             0.5555555555555556,
             "#d8576b"
            ],
            [
             0.6666666666666666,
             "#ed7953"
            ],
            [
             0.7777777777777778,
             "#fb9f3a"
            ],
            [
             0.8888888888888888,
             "#fdca26"
            ],
            [
             1.0,
             "#f0f921"
            ]
           ],
           "sequentialminus": [
            [
             0.0,
             "#0d0887"
            ],
            [
             0.1111111111111111,
             "#46039f"
            ],
            [
             0.2222222222222222,
             "#7201a8"
            ],
            [
             0.3333333333333333,
             "#9c179e"
            ],
            [
             0.4444444444444444,
             "#bd3786"
            ],
            [
             0.5555555555555556,
             "#d8576b"
            ],
            [
             0.6666666666666666,
             "#ed7953"
            ],
            [
             0.7777777777777778,
             "#fb9f3a"
            ],
            [
             0.8888888888888888,
             "#fdca26"
            ],
            [
             1.0,
             "#f0f921"
            ]
           ],
           "diverging": [
            [
             0,
             "#8e0152"
            ],
            [
             0.1,
             "#c51b7d"
            ],
            [
             0.2,
             "#de77ae"
            ],
            [
             0.3,
             "#f1b6da"
            ],
            [
             0.4,
             "#fde0ef"
            ],
            [
             0.5,
             "#f7f7f7"
            ],
            [
             0.6,
             "#e6f5d0"
            ],
            [
             0.7,
             "#b8e186"
            ],
            [
             0.8,
             "#7fbc41"
            ],
            [
             0.9,
             "#4d9221"
            ],
            [
             1,
             "#276419"
            ]
           ]
          },
          "xaxis": {
           "gridcolor": "#283442",
           "linecolor": "#506784",
           "ticks": "",
           "title": {
            "standoff": 15
           },
           "zerolinecolor": "#283442",
           "automargin": true,
           "zerolinewidth": 2
          },
          "yaxis": {
           "gridcolor": "#283442",
           "linecolor": "#506784",
           "ticks": "",
           "title": {
            "standoff": 15
           },
           "zerolinecolor": "#283442",
           "automargin": true,
           "zerolinewidth": 2
          },
          "scene": {
           "xaxis": {
            "backgroundcolor": "rgb(17,17,17)",
            "gridcolor": "#506784",
            "linecolor": "#506784",
            "showbackground": true,
            "ticks": "",
            "zerolinecolor": "#C8D4E3",
            "gridwidth": 2
           },
           "yaxis": {
            "backgroundcolor": "rgb(17,17,17)",
            "gridcolor": "#506784",
            "linecolor": "#506784",
            "showbackground": true,
            "ticks": "",
            "zerolinecolor": "#C8D4E3",
            "gridwidth": 2
           },
           "zaxis": {
            "backgroundcolor": "rgb(17,17,17)",
            "gridcolor": "#506784",
            "linecolor": "#506784",
            "showbackground": true,
            "ticks": "",
            "zerolinecolor": "#C8D4E3",
            "gridwidth": 2
           }
          },
          "shapedefaults": {
           "line": {
            "color": "#f2f5fa"
           }
          },
          "annotationdefaults": {
           "arrowcolor": "#f2f5fa",
           "arrowhead": 0,
           "arrowwidth": 1
          },
          "geo": {
           "bgcolor": "rgb(17,17,17)",
           "landcolor": "rgb(17,17,17)",
           "subunitcolor": "#506784",
           "showland": true,
           "showlakes": true,
           "lakecolor": "rgb(17,17,17)"
          },
          "title": {
           "x": 0.05
          },
          "updatemenudefaults": {
           "bgcolor": "#506784",
           "borderwidth": 0
          },
          "sliderdefaults": {
           "bgcolor": "#C8D4E3",
           "borderwidth": 1,
           "bordercolor": "rgb(17,17,17)",
           "tickwidth": 0
          },
          "mapbox": {
           "style": "dark"
          }
         }
        },
        "xaxis": {
         "showgrid": false,
         "zeroline": false,
         "visible": false
        },
        "yaxis": {
         "showgrid": false,
         "zeroline": false,
         "visible": false
        },
        "autosize": true,
        "height": 1000
       },
       "config": {
        "plotlyServerURL": "https://plot.ly"
       }
      }
     },
     "metadata": {},
     "output_type": "display_data"
    },
    {
     "data": {
      "application/vnd.plotly.v1+json": {
       "data": [
        {
         "link": {
          "label": [
           "screw",
           "iron_plate",
           "iron_ingot",
           "iron_rod",
           "iron_ingot",
           "iron_ore"
          ],
          "source": [
           3,
           4,
           6,
           2,
           6,
           0
          ],
          "target": [
           1,
           1,
           2,
           3,
           4,
           6
          ],
          "value": [
           240.0,
           120.0,
           120.0,
           60.0,
           270.0,
           390.0
          ]
         },
         "node": {
          "label": [
           "Extractor: iron_ore",
           "Assembler: reinforced_iron_plate",
           "Constructor: iron_rod",
           "Constructor: screw",
           "Constructor: iron_plate",
           "Aggregator: output",
           "Smelter: iron_ingot"
          ]
         },
         "type": "sankey"
        }
       ],
       "layout": {
        "template": {
         "data": {
          "histogram2dcontour": [
           {
            "type": "histogram2dcontour",
            "colorbar": {
             "outlinewidth": 0,
             "ticks": ""
            },
            "colorscale": [
             [
              0.0,
              "#0d0887"
             ],
             [
              0.1111111111111111,
              "#46039f"
             ],
             [
              0.2222222222222222,
              "#7201a8"
             ],
             [
              0.3333333333333333,
              "#9c179e"
             ],
             [
              0.4444444444444444,
              "#bd3786"
             ],
             [
              0.5555555555555556,
              "#d8576b"
             ],
             [
              0.6666666666666666,
              "#ed7953"
             ],
             [
              0.7777777777777778,
              "#fb9f3a"
             ],
             [
              0.8888888888888888,
              "#fdca26"
             ],
             [
              1.0,
              "#f0f921"
             ]
            ]
           }
          ],
          "choropleth": [
           {
            "type": "choropleth",
            "colorbar": {
             "outlinewidth": 0,
             "ticks": ""
            }
           }
          ],
          "histogram2d": [
           {
            "type": "histogram2d",
            "colorbar": {
             "outlinewidth": 0,
             "ticks": ""
            },
            "colorscale": [
             [
              0.0,
              "#0d0887"
             ],
             [
              0.1111111111111111,
              "#46039f"
             ],
             [
              0.2222222222222222,
              "#7201a8"
             ],
             [
              0.3333333333333333,
              "#9c179e"
             ],
             [
              0.4444444444444444,
              "#bd3786"
             ],
             [
              0.5555555555555556,
              "#d8576b"
             ],
             [
              0.6666666666666666,
              "#ed7953"
             ],
             [
              0.7777777777777778,
              "#fb9f3a"
             ],
             [
              0.8888888888888888,
              "#fdca26"
             ],
             [
              1.0,
              "#f0f921"
             ]
            ]
           }
          ],
          "heatmap": [
           {
            "type": "heatmap",
            "colorbar": {
             "outlinewidth": 0,
             "ticks": ""
            },
            "colorscale": [
             [
              0.0,
              "#0d0887"
             ],
             [
              0.1111111111111111,
              "#46039f"
             ],
             [
              0.2222222222222222,
              "#7201a8"
             ],
             [
              0.3333333333333333,
              "#9c179e"
             ],
             [
              0.4444444444444444,
              "#bd3786"
             ],
             [
              0.5555555555555556,
              "#d8576b"
             ],
             [
              0.6666666666666666,
              "#ed7953"
             ],
             [
              0.7777777777777778,
              "#fb9f3a"
             ],
             [
              0.8888888888888888,
              "#fdca26"
             ],
             [
              1.0,
              "#f0f921"
             ]
            ]
           }
          ],
          "heatmapgl": [
           {
            "type": "heatmapgl",
            "colorbar": {
             "outlinewidth": 0,
             "ticks": ""
            },
            "colorscale": [
             [
              0.0,
              "#0d0887"
             ],
             [
              0.1111111111111111,
              "#46039f"
             ],
             [
              0.2222222222222222,
              "#7201a8"
             ],
             [
              0.3333333333333333,
              "#9c179e"
             ],
             [
              0.4444444444444444,
              "#bd3786"
             ],
             [
              0.5555555555555556,
              "#d8576b"
             ],
             [
              0.6666666666666666,
              "#ed7953"
             ],
             [
              0.7777777777777778,
              "#fb9f3a"
             ],
             [
              0.8888888888888888,
              "#fdca26"
             ],
             [
              1.0,
              "#f0f921"
             ]
            ]
           }
          ],
          "contourcarpet": [
           {
            "type": "contourcarpet",
            "colorbar": {
             "outlinewidth": 0,
             "ticks": ""
            }
           }
          ],
          "contour": [
           {
            "type": "contour",
            "colorbar": {
             "outlinewidth": 0,
             "ticks": ""
            },
            "colorscale": [
             [
              0.0,
              "#0d0887"
             ],
             [
              0.1111111111111111,
              "#46039f"
             ],
             [
              0.2222222222222222,
              "#7201a8"
             ],
             [
              0.3333333333333333,
              "#9c179e"
             ],
             [
              0.4444444444444444,
              "#bd3786"
             ],
             [
              0.5555555555555556,
              "#d8576b"
             ],
             [
              0.6666666666666666,
              "#ed7953"
             ],
             [
              0.7777777777777778,
              "#fb9f3a"
             ],
             [
              0.8888888888888888,
              "#fdca26"
             ],
             [
              1.0,
              "#f0f921"
             ]
            ]
           }
          ],
          "surface": [
           {
            "type": "surface",
            "colorbar": {
             "outlinewidth": 0,
             "ticks": ""
            },
            "colorscale": [
             [
              0.0,
              "#0d0887"
             ],
             [
              0.1111111111111111,
              "#46039f"
             ],
             [
              0.2222222222222222,
              "#7201a8"
             ],
             [
              0.3333333333333333,
              "#9c179e"
             ],
             [
              0.4444444444444444,
              "#bd3786"
             ],
             [
              0.5555555555555556,
              "#d8576b"
             ],
             [
              0.6666666666666666,
              "#ed7953"
             ],
             [
              0.7777777777777778,
              "#fb9f3a"
             ],
             [
              0.8888888888888888,
              "#fdca26"
             ],
             [
              1.0,
              "#f0f921"
             ]
            ]
           }
          ],
          "mesh3d": [
           {
            "type": "mesh3d",
            "colorbar": {
             "outlinewidth": 0,
             "ticks": ""
            }
           }
          ],
          "scatter": [
           {
            "marker": {
             "line": {
              "color": "#283442"
             }
            },
            "type": "scatter"
           }
          ],
          "parcoords": [
           {
            "type": "parcoords",
            "line": {
             "colorbar": {
              "outlinewidth": 0,
              "ticks": ""
             }
            }
           }
          ],
          "scatterpolargl": [
           {
            "type": "scatterpolargl",
            "marker": {
             "colorbar": {
              "outlinewidth": 0,
              "ticks": ""
             }
            }
           }
          ],
          "bar": [
           {
            "error_x": {
             "color": "#f2f5fa"
            },
            "error_y": {
             "color": "#f2f5fa"
            },
            "marker": {
             "line": {
              "color": "rgb(17,17,17)",
              "width": 0.5
             },
             "pattern": {
              "fillmode": "overlay",
              "size": 10,
              "solidity": 0.2
             }
            },
            "type": "bar"
           }
          ],
          "scattergeo": [
           {
            "type": "scattergeo",
            "marker": {
             "colorbar": {
              "outlinewidth": 0,
              "ticks": ""
             }
            }
           }
          ],
          "scatterpolar": [
           {
            "type": "scatterpolar",
            "marker": {
             "colorbar": {
              "outlinewidth": 0,
              "ticks": ""
             }
            }
           }
          ],
          "histogram": [
           {
            "marker": {
             "pattern": {
              "fillmode": "overlay",
              "size": 10,
              "solidity": 0.2
             }
            },
            "type": "histogram"
           }
          ],
          "scattergl": [
           {
            "marker": {
             "line": {
              "color": "#283442"
             }
            },
            "type": "scattergl"
           }
          ],
          "scatter3d": [
           {
            "type": "scatter3d",
            "line": {
             "colorbar": {
              "outlinewidth": 0,
              "ticks": ""
             }
            },
            "marker": {
             "colorbar": {
              "outlinewidth": 0,
              "ticks": ""
             }
            }
           }
          ],
          "scattermapbox": [
           {
            "type": "scattermapbox",
            "marker": {
             "colorbar": {
              "outlinewidth": 0,
              "ticks": ""
             }
            }
           }
          ],
          "scatterternary": [
           {
            "type": "scatterternary",
            "marker": {
             "colorbar": {
              "outlinewidth": 0,
              "ticks": ""
             }
            }
           }
          ],
          "scattercarpet": [
           {
            "type": "scattercarpet",
            "marker": {
             "colorbar": {
              "outlinewidth": 0,
              "ticks": ""
             }
            }
           }
          ],
          "carpet": [
           {
            "aaxis": {
             "endlinecolor": "#A2B1C6",
             "gridcolor": "#506784",
             "linecolor": "#506784",
             "minorgridcolor": "#506784",
             "startlinecolor": "#A2B1C6"
            },
            "baxis": {
             "endlinecolor": "#A2B1C6",
             "gridcolor": "#506784",
             "linecolor": "#506784",
             "minorgridcolor": "#506784",
             "startlinecolor": "#A2B1C6"
            },
            "type": "carpet"
           }
          ],
          "table": [
           {
            "cells": {
             "fill": {
              "color": "#506784"
             },
             "line": {
              "color": "rgb(17,17,17)"
             }
            },
            "header": {
             "fill": {
              "color": "#2a3f5f"
             },
             "line": {
              "color": "rgb(17,17,17)"
             }
            },
            "type": "table"
           }
          ],
          "barpolar": [
           {
            "marker": {
             "line": {
              "color": "rgb(17,17,17)",
              "width": 0.5
             },
             "pattern": {
              "fillmode": "overlay",
              "size": 10,
              "solidity": 0.2
             }
            },
            "type": "barpolar"
           }
          ],
          "pie": [
           {
            "automargin": true,
            "type": "pie"
           }
          ]
         },
         "layout": {
          "autotypenumbers": "strict",
          "colorway": [
           "#636efa",
           "#EF553B",
           "#00cc96",
           "#ab63fa",
           "#FFA15A",
           "#19d3f3",
           "#FF6692",
           "#B6E880",
           "#FF97FF",
           "#FECB52"
          ],
          "font": {
           "color": "#f2f5fa"
          },
          "hovermode": "closest",
          "hoverlabel": {
           "align": "left"
          },
          "paper_bgcolor": "rgb(17,17,17)",
          "plot_bgcolor": "rgb(17,17,17)",
          "polar": {
           "bgcolor": "rgb(17,17,17)",
           "angularaxis": {
            "gridcolor": "#506784",
            "linecolor": "#506784",
            "ticks": ""
           },
           "radialaxis": {
            "gridcolor": "#506784",
            "linecolor": "#506784",
            "ticks": ""
           }
          },
          "ternary": {
           "bgcolor": "rgb(17,17,17)",
           "aaxis": {
            "gridcolor": "#506784",
            "linecolor": "#506784",
            "ticks": ""
           },
           "baxis": {
            "gridcolor": "#506784",
            "linecolor": "#506784",
            "ticks": ""
           },
           "caxis": {
            "gridcolor": "#506784",
            "linecolor": "#506784",
            "ticks": ""
           }
          },
          "coloraxis": {
           "colorbar": {
            "outlinewidth": 0,
            "ticks": ""
           }
          },
          "colorscale": {
           "sequential": [
            [
             0.0,
             "#0d0887"
            ],
            [
             0.1111111111111111,
             "#46039f"
            ],
            [
             0.2222222222222222,
             "#7201a8"
            ],
            [
             0.3333333333333333,
             "#9c179e"
            ],
            [
             0.4444444444444444,
             "#bd3786"
            ],
            [
             0.5555555555555556,
             "#d8576b"
            ],
            [
             0.6666666666666666,
             "#ed7953"
            ],
            [
             0.7777777777777778,
             "#fb9f3a"
            ],
            [
             0.8888888888888888,
             "#fdca26"
            ],
            [
             1.0,
             "#f0f921"
            ]
           ],
           "sequentialminus": [
            [
             0.0,
             "#0d0887"
            ],
            [
             0.1111111111111111,
             "#46039f"
            ],
            [
             0.2222222222222222,
             "#7201a8"
            ],
            [
             0.3333333333333333,
             "#9c179e"
            ],
            [
             0.4444444444444444,
             "#bd3786"
            ],
            [
             0.5555555555555556,
             "#d8576b"
            ],
            [
             0.6666666666666666,
             "#ed7953"
            ],
            [
             0.7777777777777778,
             "#fb9f3a"
            ],
            [
             0.8888888888888888,
             "#fdca26"
            ],
            [
             1.0,
             "#f0f921"
            ]
           ],
           "diverging": [
            [
             0,
             "#8e0152"
            ],
            [
             0.1,
             "#c51b7d"
            ],
            [
             0.2,
             "#de77ae"
            ],
            [
             0.3,
             "#f1b6da"
            ],
            [
             0.4,
             "#fde0ef"
            ],
            [
             0.5,
             "#f7f7f7"
            ],
            [
             0.6,
             "#e6f5d0"
            ],
            [
             0.7,
             "#b8e186"
            ],
            [
             0.8,
             "#7fbc41"
            ],
            [
             0.9,
             "#4d9221"
            ],
            [
             1,
             "#276419"
            ]
           ]
          },
          "xaxis": {
           "gridcolor": "#283442",
           "linecolor": "#506784",
           "ticks": "",
           "title": {
            "standoff": 15
           },
           "zerolinecolor": "#283442",
           "automargin": true,
           "zerolinewidth": 2
          },
          "yaxis": {
           "gridcolor": "#283442",
           "linecolor": "#506784",
           "ticks": "",
           "title": {
            "standoff": 15
           },
           "zerolinecolor": "#283442",
           "automargin": true,
           "zerolinewidth": 2
          },
          "scene": {
           "xaxis": {
            "backgroundcolor": "rgb(17,17,17)",
            "gridcolor": "#506784",
            "linecolor": "#506784",
            "showbackground": true,
            "ticks": "",
            "zerolinecolor": "#C8D4E3",
            "gridwidth": 2
           },
           "yaxis": {
            "backgroundcolor": "rgb(17,17,17)",
            "gridcolor": "#506784",
            "linecolor": "#506784",
            "showbackground": true,
            "ticks": "",
            "zerolinecolor": "#C8D4E3",
            "gridwidth": 2
           },
           "zaxis": {
            "backgroundcolor": "rgb(17,17,17)",
            "gridcolor": "#506784",
            "linecolor": "#506784",
            "showbackground": true,
            "ticks": "",
            "zerolinecolor": "#C8D4E3",
            "gridwidth": 2
           }
          },
          "shapedefaults": {
           "line": {
            "color": "#f2f5fa"
           }
          },
          "annotationdefaults": {
           "arrowcolor": "#f2f5fa",
           "arrowhead": 0,
           "arrowwidth": 1
          },
          "geo": {
           "bgcolor": "rgb(17,17,17)",
           "landcolor": "rgb(17,17,17)",
           "subunitcolor": "#506784",
           "showland": true,
           "showlakes": true,
           "lakecolor": "rgb(17,17,17)"
          },
          "title": {
           "x": 0.05
          },
          "updatemenudefaults": {
           "bgcolor": "#506784",
           "borderwidth": 0
          },
          "sliderdefaults": {
           "bgcolor": "#C8D4E3",
           "borderwidth": 1,
           "bordercolor": "rgb(17,17,17)",
           "tickwidth": 0
          },
          "mapbox": {
           "style": "dark"
          }
         }
        }
       },
       "config": {
        "plotlyServerURL": "https://plot.ly"
       }
      }
     },
     "metadata": {},
     "output_type": "display_data"
    },
    {
     "data": {
      "text/plain": "<IPython.core.display.HTML object>",
      "text/html": "\n    <table>\n    <thead>\n    <tr><td>Machine Type</td><td>Count</td><td>Recipe</td><td>Ingredients</td><td>Products</td></tr>\n    </thead>\n    <tbody>\n    <tr><td>Extractor</td><td>6.5</td><td>iron_ore</td><td></td><td>iron_ore: 390.00</td></tr>\n<tr><td>Assembler</td><td>4.0</td><td>reinforced_iron_plate</td><td>screw: 240.00<br>iron_plate: 120.00</td><td>reinforced_iron_plate: 20.00</td></tr>\n<tr><td>Constructor</td><td>8.0</td><td>iron_rod</td><td>iron_ingot: 120.00</td><td>iron_rod: 120.00</td></tr>\n<tr><td>Constructor</td><td>6.0</td><td>screw</td><td>iron_rod: 60.00</td><td>screw: 240.00</td></tr>\n<tr><td>Constructor</td><td>9.0</td><td>iron_plate</td><td>iron_ingot: 270.00</td><td>iron_plate: 180.00</td></tr>\n<tr><td>Aggregator</td><td>1</td><td>output</td><td>iron_rod: 60.00<br>iron_plate: 60.00<br>reinforced_iron_plate: 20.00</td><td>iron_rod: 60.00<br>iron_plate: 60.00<br>reinforced_iron_plate: 20.00</td></tr>\n<tr><td>Smelter</td><td>13.0</td><td>iron_ingot</td><td>iron_ore: 390.00</td><td>iron_ingot: 390.00</td></tr>\n    </tbody>\n    </table>"
     },
     "metadata": {},
     "output_type": "display_data"
    },
    {
     "name": "stdout",
     "output_type": "stream",
     "text": [
      "Total Power: 269.0\n"
     ]
    },
    {
     "data": {
      "text/plain": "<__main__.Process at 0x7f79ea77e140>"
     },
     "execution_count": 18,
     "metadata": {},
     "output_type": "execute_result"
    }
   ],
   "source": [
    "# small iron factory\n",
    "target_product = MaterialSpec(iron_rod=60, iron_plate=60, reinforced_iron_plate=20)\n",
    "\n",
    "factory_plan(target_product)"
   ]
  },
  {
   "cell_type": "code",
   "execution_count": 19,
   "id": "179999f0-e114-4994-b6b4-34a618dba542",
   "metadata": {
    "tags": []
   },
   "outputs": [
    {
     "name": "stdout",
     "output_type": "stream",
     "text": [
      "missing: 'BP_ItemDescriptorPortableMiner_C'\n",
      "\n"
     ]
    },
    {
     "data": {
      "application/vnd.plotly.v1+json": {
       "data": [
        {
         "hoverinfo": "none",
         "line": {
          "shape": "spline"
         },
         "marker": {
          "angleref": "previous",
          "color": "black",
          "size": 10,
          "standoff": 10,
          "symbol": "arrow-wide"
         },
         "mode": "lines+markers",
         "showlegend": false,
         "x": [
          0.5,
          0.0,
          null,
          0.5,
          1.0,
          null
         ],
         "y": [
          1.0,
          2.0,
          null,
          1.0,
          2.0,
          null
         ],
         "type": "scatter"
        },
        {
         "hovertemplate": "%{text}<extra></extra>",
         "marker": {
          "color": [
           "#511CFB",
           "#FB0D0D",
           "#2E91E5",
           "#2E91E5"
          ],
          "size": [
           21.455752732056386,
           34.078102881813436,
           35.231883119115295,
           27.167195631449246
          ],
          "symbol": "circle-dot"
         },
         "mode": "markers",
         "showlegend": false,
         "text": [
          "\nAggregator<br>\nRecipe: input<br>\nScale: 1\n",
          "\nSmelter<br>\nRecipe: iron_ingot<br>\nScale: 12.0\n",
          "\nConstructor<br>\nRecipe: iron_rod<br>\nScale: 13.7143\n",
          "\nConstructor<br>\nRecipe: iron_plate<br>\nScale: 5.1429\n"
         ],
         "x": [
          -0.5,
          0.5,
          0.0,
          1.0
         ],
         "y": [
          1.0,
          1.0,
          2.0,
          2.0
         ],
         "type": "scatter"
        }
       ],
       "layout": {
        "template": {
         "data": {
          "histogram2dcontour": [
           {
            "type": "histogram2dcontour",
            "colorbar": {
             "outlinewidth": 0,
             "ticks": ""
            },
            "colorscale": [
             [
              0.0,
              "#0d0887"
             ],
             [
              0.1111111111111111,
              "#46039f"
             ],
             [
              0.2222222222222222,
              "#7201a8"
             ],
             [
              0.3333333333333333,
              "#9c179e"
             ],
             [
              0.4444444444444444,
              "#bd3786"
             ],
             [
              0.5555555555555556,
              "#d8576b"
             ],
             [
              0.6666666666666666,
              "#ed7953"
             ],
             [
              0.7777777777777778,
              "#fb9f3a"
             ],
             [
              0.8888888888888888,
              "#fdca26"
             ],
             [
              1.0,
              "#f0f921"
             ]
            ]
           }
          ],
          "choropleth": [
           {
            "type": "choropleth",
            "colorbar": {
             "outlinewidth": 0,
             "ticks": ""
            }
           }
          ],
          "histogram2d": [
           {
            "type": "histogram2d",
            "colorbar": {
             "outlinewidth": 0,
             "ticks": ""
            },
            "colorscale": [
             [
              0.0,
              "#0d0887"
             ],
             [
              0.1111111111111111,
              "#46039f"
             ],
             [
              0.2222222222222222,
              "#7201a8"
             ],
             [
              0.3333333333333333,
              "#9c179e"
             ],
             [
              0.4444444444444444,
              "#bd3786"
             ],
             [
              0.5555555555555556,
              "#d8576b"
             ],
             [
              0.6666666666666666,
              "#ed7953"
             ],
             [
              0.7777777777777778,
              "#fb9f3a"
             ],
             [
              0.8888888888888888,
              "#fdca26"
             ],
             [
              1.0,
              "#f0f921"
             ]
            ]
           }
          ],
          "heatmap": [
           {
            "type": "heatmap",
            "colorbar": {
             "outlinewidth": 0,
             "ticks": ""
            },
            "colorscale": [
             [
              0.0,
              "#0d0887"
             ],
             [
              0.1111111111111111,
              "#46039f"
             ],
             [
              0.2222222222222222,
              "#7201a8"
             ],
             [
              0.3333333333333333,
              "#9c179e"
             ],
             [
              0.4444444444444444,
              "#bd3786"
             ],
             [
              0.5555555555555556,
              "#d8576b"
             ],
             [
              0.6666666666666666,
              "#ed7953"
             ],
             [
              0.7777777777777778,
              "#fb9f3a"
             ],
             [
              0.8888888888888888,
              "#fdca26"
             ],
             [
              1.0,
              "#f0f921"
             ]
            ]
           }
          ],
          "heatmapgl": [
           {
            "type": "heatmapgl",
            "colorbar": {
             "outlinewidth": 0,
             "ticks": ""
            },
            "colorscale": [
             [
              0.0,
              "#0d0887"
             ],
             [
              0.1111111111111111,
              "#46039f"
             ],
             [
              0.2222222222222222,
              "#7201a8"
             ],
             [
              0.3333333333333333,
              "#9c179e"
             ],
             [
              0.4444444444444444,
              "#bd3786"
             ],
             [
              0.5555555555555556,
              "#d8576b"
             ],
             [
              0.6666666666666666,
              "#ed7953"
             ],
             [
              0.7777777777777778,
              "#fb9f3a"
             ],
             [
              0.8888888888888888,
              "#fdca26"
             ],
             [
              1.0,
              "#f0f921"
             ]
            ]
           }
          ],
          "contourcarpet": [
           {
            "type": "contourcarpet",
            "colorbar": {
             "outlinewidth": 0,
             "ticks": ""
            }
           }
          ],
          "contour": [
           {
            "type": "contour",
            "colorbar": {
             "outlinewidth": 0,
             "ticks": ""
            },
            "colorscale": [
             [
              0.0,
              "#0d0887"
             ],
             [
              0.1111111111111111,
              "#46039f"
             ],
             [
              0.2222222222222222,
              "#7201a8"
             ],
             [
              0.3333333333333333,
              "#9c179e"
             ],
             [
              0.4444444444444444,
              "#bd3786"
             ],
             [
              0.5555555555555556,
              "#d8576b"
             ],
             [
              0.6666666666666666,
              "#ed7953"
             ],
             [
              0.7777777777777778,
              "#fb9f3a"
             ],
             [
              0.8888888888888888,
              "#fdca26"
             ],
             [
              1.0,
              "#f0f921"
             ]
            ]
           }
          ],
          "surface": [
           {
            "type": "surface",
            "colorbar": {
             "outlinewidth": 0,
             "ticks": ""
            },
            "colorscale": [
             [
              0.0,
              "#0d0887"
             ],
             [
              0.1111111111111111,
              "#46039f"
             ],
             [
              0.2222222222222222,
              "#7201a8"
             ],
             [
              0.3333333333333333,
              "#9c179e"
             ],
             [
              0.4444444444444444,
              "#bd3786"
             ],
             [
              0.5555555555555556,
              "#d8576b"
             ],
             [
              0.6666666666666666,
              "#ed7953"
             ],
             [
              0.7777777777777778,
              "#fb9f3a"
             ],
             [
              0.8888888888888888,
              "#fdca26"
             ],
             [
              1.0,
              "#f0f921"
             ]
            ]
           }
          ],
          "mesh3d": [
           {
            "type": "mesh3d",
            "colorbar": {
             "outlinewidth": 0,
             "ticks": ""
            }
           }
          ],
          "scatter": [
           {
            "marker": {
             "line": {
              "color": "#283442"
             }
            },
            "type": "scatter"
           }
          ],
          "parcoords": [
           {
            "type": "parcoords",
            "line": {
             "colorbar": {
              "outlinewidth": 0,
              "ticks": ""
             }
            }
           }
          ],
          "scatterpolargl": [
           {
            "type": "scatterpolargl",
            "marker": {
             "colorbar": {
              "outlinewidth": 0,
              "ticks": ""
             }
            }
           }
          ],
          "bar": [
           {
            "error_x": {
             "color": "#f2f5fa"
            },
            "error_y": {
             "color": "#f2f5fa"
            },
            "marker": {
             "line": {
              "color": "rgb(17,17,17)",
              "width": 0.5
             },
             "pattern": {
              "fillmode": "overlay",
              "size": 10,
              "solidity": 0.2
             }
            },
            "type": "bar"
           }
          ],
          "scattergeo": [
           {
            "type": "scattergeo",
            "marker": {
             "colorbar": {
              "outlinewidth": 0,
              "ticks": ""
             }
            }
           }
          ],
          "scatterpolar": [
           {
            "type": "scatterpolar",
            "marker": {
             "colorbar": {
              "outlinewidth": 0,
              "ticks": ""
             }
            }
           }
          ],
          "histogram": [
           {
            "marker": {
             "pattern": {
              "fillmode": "overlay",
              "size": 10,
              "solidity": 0.2
             }
            },
            "type": "histogram"
           }
          ],
          "scattergl": [
           {
            "marker": {
             "line": {
              "color": "#283442"
             }
            },
            "type": "scattergl"
           }
          ],
          "scatter3d": [
           {
            "type": "scatter3d",
            "line": {
             "colorbar": {
              "outlinewidth": 0,
              "ticks": ""
             }
            },
            "marker": {
             "colorbar": {
              "outlinewidth": 0,
              "ticks": ""
             }
            }
           }
          ],
          "scattermapbox": [
           {
            "type": "scattermapbox",
            "marker": {
             "colorbar": {
              "outlinewidth": 0,
              "ticks": ""
             }
            }
           }
          ],
          "scatterternary": [
           {
            "type": "scatterternary",
            "marker": {
             "colorbar": {
              "outlinewidth": 0,
              "ticks": ""
             }
            }
           }
          ],
          "scattercarpet": [
           {
            "type": "scattercarpet",
            "marker": {
             "colorbar": {
              "outlinewidth": 0,
              "ticks": ""
             }
            }
           }
          ],
          "carpet": [
           {
            "aaxis": {
             "endlinecolor": "#A2B1C6",
             "gridcolor": "#506784",
             "linecolor": "#506784",
             "minorgridcolor": "#506784",
             "startlinecolor": "#A2B1C6"
            },
            "baxis": {
             "endlinecolor": "#A2B1C6",
             "gridcolor": "#506784",
             "linecolor": "#506784",
             "minorgridcolor": "#506784",
             "startlinecolor": "#A2B1C6"
            },
            "type": "carpet"
           }
          ],
          "table": [
           {
            "cells": {
             "fill": {
              "color": "#506784"
             },
             "line": {
              "color": "rgb(17,17,17)"
             }
            },
            "header": {
             "fill": {
              "color": "#2a3f5f"
             },
             "line": {
              "color": "rgb(17,17,17)"
             }
            },
            "type": "table"
           }
          ],
          "barpolar": [
           {
            "marker": {
             "line": {
              "color": "rgb(17,17,17)",
              "width": 0.5
             },
             "pattern": {
              "fillmode": "overlay",
              "size": 10,
              "solidity": 0.2
             }
            },
            "type": "barpolar"
           }
          ],
          "pie": [
           {
            "automargin": true,
            "type": "pie"
           }
          ]
         },
         "layout": {
          "autotypenumbers": "strict",
          "colorway": [
           "#636efa",
           "#EF553B",
           "#00cc96",
           "#ab63fa",
           "#FFA15A",
           "#19d3f3",
           "#FF6692",
           "#B6E880",
           "#FF97FF",
           "#FECB52"
          ],
          "font": {
           "color": "#f2f5fa"
          },
          "hovermode": "closest",
          "hoverlabel": {
           "align": "left"
          },
          "paper_bgcolor": "rgb(17,17,17)",
          "plot_bgcolor": "rgb(17,17,17)",
          "polar": {
           "bgcolor": "rgb(17,17,17)",
           "angularaxis": {
            "gridcolor": "#506784",
            "linecolor": "#506784",
            "ticks": ""
           },
           "radialaxis": {
            "gridcolor": "#506784",
            "linecolor": "#506784",
            "ticks": ""
           }
          },
          "ternary": {
           "bgcolor": "rgb(17,17,17)",
           "aaxis": {
            "gridcolor": "#506784",
            "linecolor": "#506784",
            "ticks": ""
           },
           "baxis": {
            "gridcolor": "#506784",
            "linecolor": "#506784",
            "ticks": ""
           },
           "caxis": {
            "gridcolor": "#506784",
            "linecolor": "#506784",
            "ticks": ""
           }
          },
          "coloraxis": {
           "colorbar": {
            "outlinewidth": 0,
            "ticks": ""
           }
          },
          "colorscale": {
           "sequential": [
            [
             0.0,
             "#0d0887"
            ],
            [
             0.1111111111111111,
             "#46039f"
            ],
            [
             0.2222222222222222,
             "#7201a8"
            ],
            [
             0.3333333333333333,
             "#9c179e"
            ],
            [
             0.4444444444444444,
             "#bd3786"
            ],
            [
             0.5555555555555556,
             "#d8576b"
            ],
            [
             0.6666666666666666,
             "#ed7953"
            ],
            [
             0.7777777777777778,
             "#fb9f3a"
            ],
            [
             0.8888888888888888,
             "#fdca26"
            ],
            [
             1.0,
             "#f0f921"
            ]
           ],
           "sequentialminus": [
            [
             0.0,
             "#0d0887"
            ],
            [
             0.1111111111111111,
             "#46039f"
            ],
            [
             0.2222222222222222,
             "#7201a8"
            ],
            [
             0.3333333333333333,
             "#9c179e"
            ],
            [
             0.4444444444444444,
             "#bd3786"
            ],
            [
             0.5555555555555556,
             "#d8576b"
            ],
            [
             0.6666666666666666,
             "#ed7953"
            ],
            [
             0.7777777777777778,
             "#fb9f3a"
            ],
            [
             0.8888888888888888,
             "#fdca26"
            ],
            [
             1.0,
             "#f0f921"
            ]
           ],
           "diverging": [
            [
             0,
             "#8e0152"
            ],
            [
             0.1,
             "#c51b7d"
            ],
            [
             0.2,
             "#de77ae"
            ],
            [
             0.3,
             "#f1b6da"
            ],
            [
             0.4,
             "#fde0ef"
            ],
            [
             0.5,
             "#f7f7f7"
            ],
            [
             0.6,
             "#e6f5d0"
            ],
            [
             0.7,
             "#b8e186"
            ],
            [
             0.8,
             "#7fbc41"
            ],
            [
             0.9,
             "#4d9221"
            ],
            [
             1,
             "#276419"
            ]
           ]
          },
          "xaxis": {
           "gridcolor": "#283442",
           "linecolor": "#506784",
           "ticks": "",
           "title": {
            "standoff": 15
           },
           "zerolinecolor": "#283442",
           "automargin": true,
           "zerolinewidth": 2
          },
          "yaxis": {
           "gridcolor": "#283442",
           "linecolor": "#506784",
           "ticks": "",
           "title": {
            "standoff": 15
           },
           "zerolinecolor": "#283442",
           "automargin": true,
           "zerolinewidth": 2
          },
          "scene": {
           "xaxis": {
            "backgroundcolor": "rgb(17,17,17)",
            "gridcolor": "#506784",
            "linecolor": "#506784",
            "showbackground": true,
            "ticks": "",
            "zerolinecolor": "#C8D4E3",
            "gridwidth": 2
           },
           "yaxis": {
            "backgroundcolor": "rgb(17,17,17)",
            "gridcolor": "#506784",
            "linecolor": "#506784",
            "showbackground": true,
            "ticks": "",
            "zerolinecolor": "#C8D4E3",
            "gridwidth": 2
           },
           "zaxis": {
            "backgroundcolor": "rgb(17,17,17)",
            "gridcolor": "#506784",
            "linecolor": "#506784",
            "showbackground": true,
            "ticks": "",
            "zerolinecolor": "#C8D4E3",
            "gridwidth": 2
           }
          },
          "shapedefaults": {
           "line": {
            "color": "#f2f5fa"
           }
          },
          "annotationdefaults": {
           "arrowcolor": "#f2f5fa",
           "arrowhead": 0,
           "arrowwidth": 1
          },
          "geo": {
           "bgcolor": "rgb(17,17,17)",
           "landcolor": "rgb(17,17,17)",
           "subunitcolor": "#506784",
           "showland": true,
           "showlakes": true,
           "lakecolor": "rgb(17,17,17)"
          },
          "title": {
           "x": 0.05
          },
          "updatemenudefaults": {
           "bgcolor": "#506784",
           "borderwidth": 0
          },
          "sliderdefaults": {
           "bgcolor": "#C8D4E3",
           "borderwidth": 1,
           "bordercolor": "rgb(17,17,17)",
           "tickwidth": 0
          },
          "mapbox": {
           "style": "dark"
          }
         }
        },
        "xaxis": {
         "showgrid": false,
         "zeroline": false,
         "visible": false
        },
        "yaxis": {
         "showgrid": false,
         "zeroline": false,
         "visible": false
        },
        "autosize": true,
        "height": 1000
       },
       "config": {
        "plotlyServerURL": "https://plot.ly"
       }
      }
     },
     "metadata": {},
     "output_type": "display_data"
    },
    {
     "data": {
      "application/vnd.plotly.v1+json": {
       "data": [
        {
         "link": {
          "label": [
           "iron_ingot",
           "iron_ingot"
          ],
          "source": [
           1,
           1
          ],
          "target": [
           2,
           3
          ],
          "value": [
           205.7145,
           154.287
          ]
         },
         "node": {
          "label": [
           "Aggregator: input",
           "Smelter: iron_ingot",
           "Constructor: iron_rod",
           "Constructor: iron_plate"
          ]
         },
         "type": "sankey"
        }
       ],
       "layout": {
        "template": {
         "data": {
          "histogram2dcontour": [
           {
            "type": "histogram2dcontour",
            "colorbar": {
             "outlinewidth": 0,
             "ticks": ""
            },
            "colorscale": [
             [
              0.0,
              "#0d0887"
             ],
             [
              0.1111111111111111,
              "#46039f"
             ],
             [
              0.2222222222222222,
              "#7201a8"
             ],
             [
              0.3333333333333333,
              "#9c179e"
             ],
             [
              0.4444444444444444,
              "#bd3786"
             ],
             [
              0.5555555555555556,
              "#d8576b"
             ],
             [
              0.6666666666666666,
              "#ed7953"
             ],
             [
              0.7777777777777778,
              "#fb9f3a"
             ],
             [
              0.8888888888888888,
              "#fdca26"
             ],
             [
              1.0,
              "#f0f921"
             ]
            ]
           }
          ],
          "choropleth": [
           {
            "type": "choropleth",
            "colorbar": {
             "outlinewidth": 0,
             "ticks": ""
            }
           }
          ],
          "histogram2d": [
           {
            "type": "histogram2d",
            "colorbar": {
             "outlinewidth": 0,
             "ticks": ""
            },
            "colorscale": [
             [
              0.0,
              "#0d0887"
             ],
             [
              0.1111111111111111,
              "#46039f"
             ],
             [
              0.2222222222222222,
              "#7201a8"
             ],
             [
              0.3333333333333333,
              "#9c179e"
             ],
             [
              0.4444444444444444,
              "#bd3786"
             ],
             [
              0.5555555555555556,
              "#d8576b"
             ],
             [
              0.6666666666666666,
              "#ed7953"
             ],
             [
              0.7777777777777778,
              "#fb9f3a"
             ],
             [
              0.8888888888888888,
              "#fdca26"
             ],
             [
              1.0,
              "#f0f921"
             ]
            ]
           }
          ],
          "heatmap": [
           {
            "type": "heatmap",
            "colorbar": {
             "outlinewidth": 0,
             "ticks": ""
            },
            "colorscale": [
             [
              0.0,
              "#0d0887"
             ],
             [
              0.1111111111111111,
              "#46039f"
             ],
             [
              0.2222222222222222,
              "#7201a8"
             ],
             [
              0.3333333333333333,
              "#9c179e"
             ],
             [
              0.4444444444444444,
              "#bd3786"
             ],
             [
              0.5555555555555556,
              "#d8576b"
             ],
             [
              0.6666666666666666,
              "#ed7953"
             ],
             [
              0.7777777777777778,
              "#fb9f3a"
             ],
             [
              0.8888888888888888,
              "#fdca26"
             ],
             [
              1.0,
              "#f0f921"
             ]
            ]
           }
          ],
          "heatmapgl": [
           {
            "type": "heatmapgl",
            "colorbar": {
             "outlinewidth": 0,
             "ticks": ""
            },
            "colorscale": [
             [
              0.0,
              "#0d0887"
             ],
             [
              0.1111111111111111,
              "#46039f"
             ],
             [
              0.2222222222222222,
              "#7201a8"
             ],
             [
              0.3333333333333333,
              "#9c179e"
             ],
             [
              0.4444444444444444,
              "#bd3786"
             ],
             [
              0.5555555555555556,
              "#d8576b"
             ],
             [
              0.6666666666666666,
              "#ed7953"
             ],
             [
              0.7777777777777778,
              "#fb9f3a"
             ],
             [
              0.8888888888888888,
              "#fdca26"
             ],
             [
              1.0,
              "#f0f921"
             ]
            ]
           }
          ],
          "contourcarpet": [
           {
            "type": "contourcarpet",
            "colorbar": {
             "outlinewidth": 0,
             "ticks": ""
            }
           }
          ],
          "contour": [
           {
            "type": "contour",
            "colorbar": {
             "outlinewidth": 0,
             "ticks": ""
            },
            "colorscale": [
             [
              0.0,
              "#0d0887"
             ],
             [
              0.1111111111111111,
              "#46039f"
             ],
             [
              0.2222222222222222,
              "#7201a8"
             ],
             [
              0.3333333333333333,
              "#9c179e"
             ],
             [
              0.4444444444444444,
              "#bd3786"
             ],
             [
              0.5555555555555556,
              "#d8576b"
             ],
             [
              0.6666666666666666,
              "#ed7953"
             ],
             [
              0.7777777777777778,
              "#fb9f3a"
             ],
             [
              0.8888888888888888,
              "#fdca26"
             ],
             [
              1.0,
              "#f0f921"
             ]
            ]
           }
          ],
          "surface": [
           {
            "type": "surface",
            "colorbar": {
             "outlinewidth": 0,
             "ticks": ""
            },
            "colorscale": [
             [
              0.0,
              "#0d0887"
             ],
             [
              0.1111111111111111,
              "#46039f"
             ],
             [
              0.2222222222222222,
              "#7201a8"
             ],
             [
              0.3333333333333333,
              "#9c179e"
             ],
             [
              0.4444444444444444,
              "#bd3786"
             ],
             [
              0.5555555555555556,
              "#d8576b"
             ],
             [
              0.6666666666666666,
              "#ed7953"
             ],
             [
              0.7777777777777778,
              "#fb9f3a"
             ],
             [
              0.8888888888888888,
              "#fdca26"
             ],
             [
              1.0,
              "#f0f921"
             ]
            ]
           }
          ],
          "mesh3d": [
           {
            "type": "mesh3d",
            "colorbar": {
             "outlinewidth": 0,
             "ticks": ""
            }
           }
          ],
          "scatter": [
           {
            "marker": {
             "line": {
              "color": "#283442"
             }
            },
            "type": "scatter"
           }
          ],
          "parcoords": [
           {
            "type": "parcoords",
            "line": {
             "colorbar": {
              "outlinewidth": 0,
              "ticks": ""
             }
            }
           }
          ],
          "scatterpolargl": [
           {
            "type": "scatterpolargl",
            "marker": {
             "colorbar": {
              "outlinewidth": 0,
              "ticks": ""
             }
            }
           }
          ],
          "bar": [
           {
            "error_x": {
             "color": "#f2f5fa"
            },
            "error_y": {
             "color": "#f2f5fa"
            },
            "marker": {
             "line": {
              "color": "rgb(17,17,17)",
              "width": 0.5
             },
             "pattern": {
              "fillmode": "overlay",
              "size": 10,
              "solidity": 0.2
             }
            },
            "type": "bar"
           }
          ],
          "scattergeo": [
           {
            "type": "scattergeo",
            "marker": {
             "colorbar": {
              "outlinewidth": 0,
              "ticks": ""
             }
            }
           }
          ],
          "scatterpolar": [
           {
            "type": "scatterpolar",
            "marker": {
             "colorbar": {
              "outlinewidth": 0,
              "ticks": ""
             }
            }
           }
          ],
          "histogram": [
           {
            "marker": {
             "pattern": {
              "fillmode": "overlay",
              "size": 10,
              "solidity": 0.2
             }
            },
            "type": "histogram"
           }
          ],
          "scattergl": [
           {
            "marker": {
             "line": {
              "color": "#283442"
             }
            },
            "type": "scattergl"
           }
          ],
          "scatter3d": [
           {
            "type": "scatter3d",
            "line": {
             "colorbar": {
              "outlinewidth": 0,
              "ticks": ""
             }
            },
            "marker": {
             "colorbar": {
              "outlinewidth": 0,
              "ticks": ""
             }
            }
           }
          ],
          "scattermapbox": [
           {
            "type": "scattermapbox",
            "marker": {
             "colorbar": {
              "outlinewidth": 0,
              "ticks": ""
             }
            }
           }
          ],
          "scatterternary": [
           {
            "type": "scatterternary",
            "marker": {
             "colorbar": {
              "outlinewidth": 0,
              "ticks": ""
             }
            }
           }
          ],
          "scattercarpet": [
           {
            "type": "scattercarpet",
            "marker": {
             "colorbar": {
              "outlinewidth": 0,
              "ticks": ""
             }
            }
           }
          ],
          "carpet": [
           {
            "aaxis": {
             "endlinecolor": "#A2B1C6",
             "gridcolor": "#506784",
             "linecolor": "#506784",
             "minorgridcolor": "#506784",
             "startlinecolor": "#A2B1C6"
            },
            "baxis": {
             "endlinecolor": "#A2B1C6",
             "gridcolor": "#506784",
             "linecolor": "#506784",
             "minorgridcolor": "#506784",
             "startlinecolor": "#A2B1C6"
            },
            "type": "carpet"
           }
          ],
          "table": [
           {
            "cells": {
             "fill": {
              "color": "#506784"
             },
             "line": {
              "color": "rgb(17,17,17)"
             }
            },
            "header": {
             "fill": {
              "color": "#2a3f5f"
             },
             "line": {
              "color": "rgb(17,17,17)"
             }
            },
            "type": "table"
           }
          ],
          "barpolar": [
           {
            "marker": {
             "line": {
              "color": "rgb(17,17,17)",
              "width": 0.5
             },
             "pattern": {
              "fillmode": "overlay",
              "size": 10,
              "solidity": 0.2
             }
            },
            "type": "barpolar"
           }
          ],
          "pie": [
           {
            "automargin": true,
            "type": "pie"
           }
          ]
         },
         "layout": {
          "autotypenumbers": "strict",
          "colorway": [
           "#636efa",
           "#EF553B",
           "#00cc96",
           "#ab63fa",
           "#FFA15A",
           "#19d3f3",
           "#FF6692",
           "#B6E880",
           "#FF97FF",
           "#FECB52"
          ],
          "font": {
           "color": "#f2f5fa"
          },
          "hovermode": "closest",
          "hoverlabel": {
           "align": "left"
          },
          "paper_bgcolor": "rgb(17,17,17)",
          "plot_bgcolor": "rgb(17,17,17)",
          "polar": {
           "bgcolor": "rgb(17,17,17)",
           "angularaxis": {
            "gridcolor": "#506784",
            "linecolor": "#506784",
            "ticks": ""
           },
           "radialaxis": {
            "gridcolor": "#506784",
            "linecolor": "#506784",
            "ticks": ""
           }
          },
          "ternary": {
           "bgcolor": "rgb(17,17,17)",
           "aaxis": {
            "gridcolor": "#506784",
            "linecolor": "#506784",
            "ticks": ""
           },
           "baxis": {
            "gridcolor": "#506784",
            "linecolor": "#506784",
            "ticks": ""
           },
           "caxis": {
            "gridcolor": "#506784",
            "linecolor": "#506784",
            "ticks": ""
           }
          },
          "coloraxis": {
           "colorbar": {
            "outlinewidth": 0,
            "ticks": ""
           }
          },
          "colorscale": {
           "sequential": [
            [
             0.0,
             "#0d0887"
            ],
            [
             0.1111111111111111,
             "#46039f"
            ],
            [
             0.2222222222222222,
             "#7201a8"
            ],
            [
             0.3333333333333333,
             "#9c179e"
            ],
            [
             0.4444444444444444,
             "#bd3786"
            ],
            [
             0.5555555555555556,
             "#d8576b"
            ],
            [
             0.6666666666666666,
             "#ed7953"
            ],
            [
             0.7777777777777778,
             "#fb9f3a"
            ],
            [
             0.8888888888888888,
             "#fdca26"
            ],
            [
             1.0,
             "#f0f921"
            ]
           ],
           "sequentialminus": [
            [
             0.0,
             "#0d0887"
            ],
            [
             0.1111111111111111,
             "#46039f"
            ],
            [
             0.2222222222222222,
             "#7201a8"
            ],
            [
             0.3333333333333333,
             "#9c179e"
            ],
            [
             0.4444444444444444,
             "#bd3786"
            ],
            [
             0.5555555555555556,
             "#d8576b"
            ],
            [
             0.6666666666666666,
             "#ed7953"
            ],
            [
             0.7777777777777778,
             "#fb9f3a"
            ],
            [
             0.8888888888888888,
             "#fdca26"
            ],
            [
             1.0,
             "#f0f921"
            ]
           ],
           "diverging": [
            [
             0,
             "#8e0152"
            ],
            [
             0.1,
             "#c51b7d"
            ],
            [
             0.2,
             "#de77ae"
            ],
            [
             0.3,
             "#f1b6da"
            ],
            [
             0.4,
             "#fde0ef"
            ],
            [
             0.5,
             "#f7f7f7"
            ],
            [
             0.6,
             "#e6f5d0"
            ],
            [
             0.7,
             "#b8e186"
            ],
            [
             0.8,
             "#7fbc41"
            ],
            [
             0.9,
             "#4d9221"
            ],
            [
             1,
             "#276419"
            ]
           ]
          },
          "xaxis": {
           "gridcolor": "#283442",
           "linecolor": "#506784",
           "ticks": "",
           "title": {
            "standoff": 15
           },
           "zerolinecolor": "#283442",
           "automargin": true,
           "zerolinewidth": 2
          },
          "yaxis": {
           "gridcolor": "#283442",
           "linecolor": "#506784",
           "ticks": "",
           "title": {
            "standoff": 15
           },
           "zerolinecolor": "#283442",
           "automargin": true,
           "zerolinewidth": 2
          },
          "scene": {
           "xaxis": {
            "backgroundcolor": "rgb(17,17,17)",
            "gridcolor": "#506784",
            "linecolor": "#506784",
            "showbackground": true,
            "ticks": "",
            "zerolinecolor": "#C8D4E3",
            "gridwidth": 2
           },
           "yaxis": {
            "backgroundcolor": "rgb(17,17,17)",
            "gridcolor": "#506784",
            "linecolor": "#506784",
            "showbackground": true,
            "ticks": "",
            "zerolinecolor": "#C8D4E3",
            "gridwidth": 2
           },
           "zaxis": {
            "backgroundcolor": "rgb(17,17,17)",
            "gridcolor": "#506784",
            "linecolor": "#506784",
            "showbackground": true,
            "ticks": "",
            "zerolinecolor": "#C8D4E3",
            "gridwidth": 2
           }
          },
          "shapedefaults": {
           "line": {
            "color": "#f2f5fa"
           }
          },
          "annotationdefaults": {
           "arrowcolor": "#f2f5fa",
           "arrowhead": 0,
           "arrowwidth": 1
          },
          "geo": {
           "bgcolor": "rgb(17,17,17)",
           "landcolor": "rgb(17,17,17)",
           "subunitcolor": "#506784",
           "showland": true,
           "showlakes": true,
           "lakecolor": "rgb(17,17,17)"
          },
          "title": {
           "x": 0.05
          },
          "updatemenudefaults": {
           "bgcolor": "#506784",
           "borderwidth": 0
          },
          "sliderdefaults": {
           "bgcolor": "#C8D4E3",
           "borderwidth": 1,
           "bordercolor": "rgb(17,17,17)",
           "tickwidth": 0
          },
          "mapbox": {
           "style": "dark"
          }
         }
        }
       },
       "config": {
        "plotlyServerURL": "https://plot.ly"
       }
      }
     },
     "metadata": {},
     "output_type": "display_data"
    },
    {
     "data": {
      "text/plain": "<IPython.core.display.HTML object>",
      "text/html": "\n    <table>\n    <thead>\n    <tr><td>Machine Type</td><td>Count</td><td>Recipe</td><td>Ingredients</td><td>Products</td></tr>\n    </thead>\n    <tbody>\n    <tr><td>Aggregator</td><td>1</td><td>input</td><td>iron_ore: 360.00</td><td>iron_ore: 360.00</td></tr>\n<tr><td>Smelter</td><td>12.0</td><td>iron_ingot</td><td>iron_ore: 360.00</td><td>iron_ingot: 360.00</td></tr>\n<tr><td>Constructor</td><td>13.7143</td><td>iron_rod</td><td>iron_ingot: 205.71</td><td>iron_rod: 205.71</td></tr>\n<tr><td>Constructor</td><td>5.1429</td><td>iron_plate</td><td>iron_ingot: 154.29</td><td>iron_plate: 102.86</td></tr>\n    </tbody>\n    </table>"
     },
     "metadata": {},
     "output_type": "display_data"
    }
   ],
   "source": [
    "available_machines = make_recipes(BASE_CONFIG, machine_mapping)\n",
    "available_machines = [*available_machines.core]\n",
    "Machine.autobind(available_machines)\n",
    "\n",
    "target_product = MaterialSpec(iron_plate=1, iron_rod=2)\n",
    "target_available = MaterialSpec(iron_ore=360)\n",
    "solution = Process.from_inputs(target_available,\n",
    "                               target_product,\n",
    "                               available_machines)\n",
    "\n",
    "plot_process(solution, Graph.layout_reingold_tilford)\n",
    "plot_sankey(solution)\n",
    "display(HTML(recipe_summary(solution)))"
   ]
  },
  {
   "cell_type": "code",
   "execution_count": 450,
   "id": "a2e4bd07-617b-494f-8456-bcbe02b966a5",
   "metadata": {},
   "outputs": [],
   "source": [
    "# small steel factory"
   ]
  },
  {
   "cell_type": "code",
   "execution_count": 451,
   "id": "033c0c55-604c-41c3-9309-721c2facc47c",
   "metadata": {},
   "outputs": [],
   "source": [
    "# big steel factory"
   ]
  },
  {
   "cell_type": "code",
   "execution_count": null,
   "id": "c050adf2-9bf8-4ce9-b1f6-3a458cb837f0",
   "metadata": {},
   "outputs": [],
   "source": []
  }
 ],
 "metadata": {
  "kernelspec": {
   "display_name": "Python 3 (ipykernel)",
   "language": "python",
   "name": "python3"
  },
  "language_info": {
   "codemirror_mode": {
    "name": "ipython",
    "version": 3
   },
   "file_extension": ".py",
   "mimetype": "text/x-python",
   "name": "python",
   "nbconvert_exporter": "python",
   "pygments_lexer": "ipython3",
   "version": "3.9.13"
  }
 },
 "nbformat": 4,
 "nbformat_minor": 5
}
