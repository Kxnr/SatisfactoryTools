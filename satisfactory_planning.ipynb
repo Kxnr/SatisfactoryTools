{
 "cells": [
  {
   "cell_type": "code",
   "execution_count": null,
   "outputs": [],
   "source": [],
   "metadata": {
    "collapsed": false
   }
  },
  {
   "cell_type": "code",
   "execution_count": 22,
   "id": "89117efb-12c3-4039-95ee-ebf4a532631e",
   "metadata": {},
   "outputs": [],
   "source": [
    "import json\n",
    "import plotly\n",
    "from ipywidgets import interact, interactive, fixed, interact_manual\n",
    "from pprint import pprint\n",
    "import plotly.io as pio\n",
    "pio.renderers.default = \"jupyterlab\"\n",
    " \n",
    "def simplify_config(game_config: dict) -> dict:\n",
    "    simple_config = {}\n",
    "    for config in game_config:\n",
    "        simple_config[config[\"NativeClass\"]] = {item[\"ClassName\"]: item for item in config[\"Classes\"]}\n",
    "    return simple_config\n",
    "\n",
    "CONFIG_LOCATION = \"/home/kxnr/snap/steam/common/.local/share/Steam/steamapps/common/Satisfactory/CommunityResources/Docs/Docs.json\"\n",
    "with open(CONFIG_LOCATION, \"r\", encoding=\"utf-16\") as f:\n",
    "    data = f.read()\n",
    "    BASE_CONFIG = simplify_config(json.loads(data))\n",
    "\n",
    "with open(\"/home/kxnr/basic_config.json\", \"w\") as f:\n",
    "    json.dump(BASE_CONFIG, f, indent=1)\n",
    "    \n",
    "def standardize(value: str):\n",
    "    return \"_\".join(value.replace(\"-\", \"_\").replace(\":\", \"\").split()).lower()\n",
    "\n",
    "# missing miner, rebar spreadshot\n",
    "RESOURCE_KEYS = (\"Class'/Script/FactoryGame.FGItemDescriptor'\", \n",
    "                 \"Class'/Script/FactoryGame.FGResourceDescriptor'\",\n",
    "                 \"Class'/Script/FactoryGame.FGConsumableDescriptor'\",\n",
    "                 \"Class'/Script/FactoryGame.FGItemDescriptorBiomass'\",\n",
    "                 \"Class'/Script/FactoryGame.FGAmmoTypeProjectile'\",\n",
    "                 \"Class'/Script/FactoryGame.FGItemDescriptorNuclearFuel'\",\n",
    "                 \"Class'/Script/FactoryGame.FGAmmoTypeInstantHit'\",\n",
    "                 \"Class'/Script/FactoryGame.FGAmmoTypeSpreadshot'\")\n",
    "\n",
    "EXTRACTOR_KEYS = (\n",
    "    \"Class'/Script/FactoryGame.FGBuildableResourceExtractor'\", \n",
    "    \"Class'/Script/FactoryGame.FGBuildableFrackingExtractor'\"\n",
    ")\n",
    "\n",
    "GENERATOR_KEYS = (\n",
    "     \"Class'/Script/FactoryGame.FGBuildableGeneratorFuel'\",\n",
    "     \"Class'/Script/FactoryGame.FGBuildableGeneratorGeoThermal'\",\n",
    "     \"Class'/Script/FactoryGame.FGBuildableGeneratorNuclear'\",\n",
    ")\n",
    "\n",
    "# equipment descriptors contain the recipe for automated portable miners"
   ]
  },
  {
   "cell_type": "code",
   "execution_count": 47,
   "outputs": [
    {
     "data": {
      "text/plain": "{'NativeClass': \"Class'/Script/FactoryGame.FGItemDescriptor'\",\n 'Classes': [{'ClassName': 'Desc_NuclearWaste_C',\n   'mDisplayName': 'Uranium Waste',\n   'mDescription': 'The by-product of consuming Uranium Fuel Rods in the Nuclear Power Plant.\\r\\nNon-fissible Uranium can be extracted. Handle with caution.\\r\\n\\r\\nCaution: HIGHLY Radioactive.',\n   'mAbbreviatedDisplayName': '',\n   'mStackSize': 'SS_HUGE',\n   'mCanBeDiscarded': 'False',\n   'mRememberPickUp': 'False',\n   'mEnergyValue': '0.000000',\n   'mRadioactiveDecay': '10.000000',\n   'mForm': 'RF_SOLID',\n   'mSmallIcon': 'Texture2D /Game/FactoryGame/Resource/Parts/NuclearWaste/UI/IconDesc_NuclearWaste_64.IconDesc_NuclearWaste_64',\n   'mPersistentBigIcon': 'Texture2D /Game/FactoryGame/Resource/Parts/NuclearWaste/UI/IconDesc_NuclearWaste_256.IconDesc_NuclearWaste_256',\n   'mCrosshairMaterial': 'None',\n   'mDescriptorStatBars': '',\n   'mSubCategories': '',\n   'mMenuPriority': '0.000000',\n   'mFluidColor': '(B=0,G=0,R=0,A=0)',\n   'mGasColor': '(B=0,G=0,R=0,A=0)',\n   'mCompatibleItemDescriptors': '',\n   'mClassToScanFor': 'None',\n   'mScannableType': 'RTWOT_Default',\n   'mShouldOverrideScannerDisplayText': 'False',\n   'mScannerDisplayText': '',\n   'mScannerLightColor': '(B=0,G=0,R=0,A=0)',\n   'mResourceSinkPoints': '0'},\n  {'ClassName': 'Desc_PlutoniumWaste_C',\n   'mDisplayName': 'Plutonium Waste',\n   'mDescription': 'The by-product of consuming Plutonium Fuel Rods in the Nuclear Power Plant.\\r\\nNeeds to be stored in a safe location. Handle with caution.\\r\\n\\r\\nCaution: EXTREMELY Radioactive.',\n   'mAbbreviatedDisplayName': '',\n   'mStackSize': 'SS_HUGE',\n   'mCanBeDiscarded': 'False',\n   'mRememberPickUp': 'False',\n   'mEnergyValue': '0.000000',\n   'mRadioactiveDecay': '200.000000',\n   'mForm': 'RF_SOLID',\n   'mSmallIcon': 'Texture2D /Game/FactoryGame/Resource/Parts/NuclearWaste/UI/IconDesc_PlutoniumWaste_64.IconDesc_PlutoniumWaste_64',\n   'mPersistentBigIcon': 'Texture2D /Game/FactoryGame/Resource/Parts/NuclearWaste/UI/IconDesc_PlutoniumWaste_256.IconDesc_PlutoniumWaste_256',\n   'mCrosshairMaterial': 'None',\n   'mDescriptorStatBars': '',\n   'mSubCategories': '',\n   'mMenuPriority': '0.000000',\n   'mFluidColor': '(B=0,G=0,R=0,A=0)',\n   'mGasColor': '(B=0,G=0,R=0,A=0)',\n   'mCompatibleItemDescriptors': '',\n   'mClassToScanFor': 'None',\n   'mScannableType': 'RTWOT_Default',\n   'mShouldOverrideScannerDisplayText': 'False',\n   'mScannerDisplayText': '',\n   'mScannerLightColor': '(B=0,G=0,R=0,A=0)',\n   'mResourceSinkPoints': '0'},\n  {'ClassName': 'Desc_Battery_C',\n   'mDisplayName': 'Battery',\n   'mDescription': 'Primarily used as fuel for Drones and Vehicles.',\n   'mAbbreviatedDisplayName': '',\n   'mStackSize': 'SS_BIG',\n   'mCanBeDiscarded': 'True',\n   'mRememberPickUp': 'False',\n   'mEnergyValue': '6000.000000',\n   'mRadioactiveDecay': '0.000000',\n   'mForm': 'RF_SOLID',\n   'mSmallIcon': 'Texture2D /Game/FactoryGame/Resource/Parts/Battery/UI/IconDesc_Battery_64.IconDesc_Battery_64',\n   'mPersistentBigIcon': 'Texture2D /Game/FactoryGame/Resource/Parts/Battery/UI/IconDesc_Battery_256.IconDesc_Battery_256',\n   'mCrosshairMaterial': 'None',\n   'mDescriptorStatBars': '',\n   'mSubCategories': '',\n   'mMenuPriority': '0.000000',\n   'mFluidColor': '(B=0,G=0,R=0,A=0)',\n   'mGasColor': '(B=0,G=0,R=0,A=0)',\n   'mCompatibleItemDescriptors': '',\n   'mClassToScanFor': 'None',\n   'mScannableType': 'RTWOT_Default',\n   'mShouldOverrideScannerDisplayText': 'False',\n   'mScannerDisplayText': '',\n   'mScannerLightColor': '(B=0,G=0,R=0,A=0)',\n   'mResourceSinkPoints': '465'},\n  {'ClassName': 'Desc_AluminumIngot_C',\n   'mDisplayName': 'Aluminum Ingot',\n   'mDescription': 'Aluminum Ingots are made from Aluminum Scrap, which is refined from Alumina Solution.\\r\\nUsed to produce specialized aluminum-based parts.',\n   'mAbbreviatedDisplayName': 'AL',\n   'mStackSize': 'SS_MEDIUM',\n   'mCanBeDiscarded': 'True',\n   'mRememberPickUp': 'False',\n   'mEnergyValue': '0.000000',\n   'mRadioactiveDecay': '0.000000',\n   'mForm': 'RF_SOLID',\n   'mSmallIcon': 'Texture2D /Game/FactoryGame/Resource/Parts/AluminumIngot/UI/IconDesc_AluminiumIngot_64.IconDesc_AluminiumIngot_64',\n   'mPersistentBigIcon': 'Texture2D /Game/FactoryGame/Resource/Parts/AluminumIngot/UI/IconDesc_AluminiumIngot_256.IconDesc_AluminiumIngot_256',\n   'mCrosshairMaterial': 'None',\n   'mDescriptorStatBars': '',\n   'mSubCategories': '',\n   'mMenuPriority': '0.000000',\n   'mFluidColor': '(B=0,G=0,R=0,A=0)',\n   'mGasColor': '(B=0,G=0,R=0,A=0)',\n   'mCompatibleItemDescriptors': '',\n   'mClassToScanFor': 'None',\n   'mScannableType': 'RTWOT_Default',\n   'mShouldOverrideScannerDisplayText': 'False',\n   'mScannerDisplayText': '',\n   'mScannerLightColor': '(B=0,G=0,R=0,A=0)',\n   'mResourceSinkPoints': '131'},\n  {'ClassName': 'Desc_NonFissibleUranium_C',\n   'mDisplayName': 'Non-fissile Uranium',\n   'mDescription': 'The isotope Uranium-238 is non-fissile, meaning it cannot be used for nuclear fission. It can, however, be conversed into fissile Plutonium in the Particle Accelerator.\\r\\n\\r\\nCaution: Mildly Radioactive.',\n   'mAbbreviatedDisplayName': '',\n   'mStackSize': 'SS_HUGE',\n   'mCanBeDiscarded': 'False',\n   'mRememberPickUp': 'False',\n   'mEnergyValue': '0.000000',\n   'mRadioactiveDecay': '0.750000',\n   'mForm': 'RF_SOLID',\n   'mSmallIcon': 'Texture2D /Game/FactoryGame/Resource/Parts/Non-FissibleUranium/UI/IconDesc_NonFissileUranium_64.IconDesc_NonFissileUranium_64',\n   'mPersistentBigIcon': 'Texture2D /Game/FactoryGame/Resource/Parts/Non-FissibleUranium/UI/IconDesc_NonFissileUranium_256.IconDesc_NonFissileUranium_256',\n   'mCrosshairMaterial': 'None',\n   'mDescriptorStatBars': '',\n   'mSubCategories': '',\n   'mMenuPriority': '0.000000',\n   'mFluidColor': '(B=0,G=0,R=0,A=0)',\n   'mGasColor': '(B=0,G=0,R=0,A=0)',\n   'mCompatibleItemDescriptors': '',\n   'mClassToScanFor': 'None',\n   'mScannableType': 'RTWOT_Default',\n   'mShouldOverrideScannerDisplayText': 'False',\n   'mScannerDisplayText': '',\n   'mScannerLightColor': '(B=0,G=0,R=0,A=0)',\n   'mResourceSinkPoints': '0'},\n  {'ClassName': 'Desc_PlutoniumPellet_C',\n   'mDisplayName': 'Plutonium Pellet',\n   'mDescription': 'Produced in the Particle Accelerator through conversion of Non-fissile Uranium.\\r\\nUsed to produce Encased Plutonium Cells for Plutonium Fuel Rods.\\r\\n\\r\\nPower Usage: 250-750 MW (500 MW average).\\r\\nCaution: Moderately Radioactive.',\n   'mAbbreviatedDisplayName': '',\n   'mStackSize': 'SS_MEDIUM',\n   'mCanBeDiscarded': 'False',\n   'mRememberPickUp': 'False',\n   'mEnergyValue': '0.000000',\n   'mRadioactiveDecay': '20.000000',\n   'mForm': 'RF_SOLID',\n   'mSmallIcon': 'Texture2D /Game/FactoryGame/Resource/Parts/PlutoniumPellet/UI/IconDesc_PlutoniumPellet_64.IconDesc_PlutoniumPellet_64',\n   'mPersistentBigIcon': 'Texture2D /Game/FactoryGame/Resource/Parts/PlutoniumPellet/UI/IconDesc_PlutoniumPellet_256.IconDesc_PlutoniumPellet_256',\n   'mCrosshairMaterial': 'None',\n   'mDescriptorStatBars': '',\n   'mSubCategories': '',\n   'mMenuPriority': '0.000000',\n   'mFluidColor': '(B=0,G=0,R=0,A=0)',\n   'mGasColor': '(B=0,G=0,R=0,A=0)',\n   'mCompatibleItemDescriptors': '',\n   'mClassToScanFor': 'None',\n   'mScannableType': 'RTWOT_Default',\n   'mShouldOverrideScannerDisplayText': 'False',\n   'mScannerDisplayText': '',\n   'mScannerLightColor': '(B=0,G=0,R=0,A=0)',\n   'mResourceSinkPoints': '0'},\n  {'ClassName': 'Desc_PlutoniumCell_C',\n   'mDisplayName': 'Encased Plutonium Cell',\n   'mDescription': 'Plutonium Cells are concrete encased Plutonium Pellets.\\r\\nUsed to produce Plutonium Fuel Rods for Nuclear Power production.\\r\\n\\r\\nCaution: Moderately Radioactive.',\n   'mAbbreviatedDisplayName': '',\n   'mStackSize': 'SS_BIG',\n   'mCanBeDiscarded': 'False',\n   'mRememberPickUp': 'False',\n   'mEnergyValue': '0.000000',\n   'mRadioactiveDecay': '120.000000',\n   'mForm': 'RF_SOLID',\n   'mSmallIcon': 'Texture2D /Game/FactoryGame/Resource/Parts/PlutoniumCell/UI/IconDesc_EncasedPlutoniumCell_64.IconDesc_EncasedPlutoniumCell_64',\n   'mPersistentBigIcon': 'Texture2D /Game/FactoryGame/Resource/Parts/PlutoniumCell/UI/IconDesc_EncasedPlutoniumCell_256.IconDesc_EncasedPlutoniumCell_256',\n   'mCrosshairMaterial': 'None',\n   'mDescriptorStatBars': '',\n   'mSubCategories': '',\n   'mMenuPriority': '0.000000',\n   'mFluidColor': '(B=0,G=0,R=0,A=0)',\n   'mGasColor': '(B=0,G=0,R=0,A=0)',\n   'mCompatibleItemDescriptors': '',\n   'mClassToScanFor': 'None',\n   'mScannableType': 'RTWOT_Default',\n   'mShouldOverrideScannerDisplayText': 'False',\n   'mScannerDisplayText': '',\n   'mScannerLightColor': '(B=0,G=0,R=0,A=0)',\n   'mResourceSinkPoints': '0'},\n  {'ClassName': 'Desc_Crystal_C',\n   'mDisplayName': 'Blue Power Slug',\n   'mDescription': 'A strange slug radiating a weak strange power.',\n   'mAbbreviatedDisplayName': '',\n   'mStackSize': 'SS_SMALL',\n   'mCanBeDiscarded': 'False',\n   'mRememberPickUp': 'True',\n   'mEnergyValue': '0.000000',\n   'mRadioactiveDecay': '0.000000',\n   'mForm': 'RF_SOLID',\n   'mSmallIcon': 'Texture2D /Game/FactoryGame/Resource/Environment/Crystal/UI/PowerSlugGreen_64.PowerSlugGreen_64',\n   'mPersistentBigIcon': 'Texture2D /Game/FactoryGame/Resource/Environment/Crystal/UI/PowerSlugGreen_256.PowerSlugGreen_256',\n   'mCrosshairMaterial': 'None',\n   'mDescriptorStatBars': '',\n   'mSubCategories': '',\n   'mMenuPriority': '0.000000',\n   'mFluidColor': '(B=0,G=0,R=0,A=0)',\n   'mGasColor': '(B=0,G=0,R=0,A=0)',\n   'mCompatibleItemDescriptors': '',\n   'mClassToScanFor': '/Game/FactoryGame/Resource/Environment/Crystal/BP_Crystal.BP_Crystal_C',\n   'mScannableType': 'RTWOT_WeakSignal',\n   'mShouldOverrideScannerDisplayText': 'True',\n   'mScannerDisplayText': 'Power Slugs',\n   'mScannerLightColor': '(B=177,G=146,R=0,A=0)',\n   'mResourceSinkPoints': '0'},\n  {'ClassName': 'Desc_IronRod_C',\n   'mDisplayName': 'Iron Rod',\n   'mDescription': 'Used for crafting.\\r\\nOne of the most basic parts.',\n   'mAbbreviatedDisplayName': '',\n   'mStackSize': 'SS_BIG',\n   'mCanBeDiscarded': 'True',\n   'mRememberPickUp': 'False',\n   'mEnergyValue': '0.000000',\n   'mRadioactiveDecay': '0.000000',\n   'mForm': 'RF_SOLID',\n   'mSmallIcon': 'Texture2D /Game/FactoryGame/Resource/Parts/IronRod/UI/IconDesc_IronRods_64.IconDesc_IronRods_64',\n   'mPersistentBigIcon': 'Texture2D /Game/FactoryGame/Resource/Parts/IronRod/UI/IconDesc_IronRods_256.IconDesc_IronRods_256',\n   'mCrosshairMaterial': 'None',\n   'mDescriptorStatBars': '',\n   'mSubCategories': '',\n   'mMenuPriority': '0.000000',\n   'mFluidColor': '(B=0,G=0,R=0,A=0)',\n   'mGasColor': '(B=0,G=0,R=0,A=0)',\n   'mCompatibleItemDescriptors': '',\n   'mClassToScanFor': 'None',\n   'mScannableType': 'RTWOT_Default',\n   'mShouldOverrideScannerDisplayText': 'False',\n   'mScannerDisplayText': '',\n   'mScannerLightColor': '(B=0,G=0,R=0,A=0)',\n   'mResourceSinkPoints': '4'},\n  {'ClassName': 'Desc_IronScrew_C',\n   'mDisplayName': 'Screw',\n   'mDescription': 'Used for crafting.\\r\\nOne of the most basic parts.',\n   'mAbbreviatedDisplayName': '',\n   'mStackSize': 'SS_HUGE',\n   'mCanBeDiscarded': 'True',\n   'mRememberPickUp': 'False',\n   'mEnergyValue': '0.000000',\n   'mRadioactiveDecay': '0.000000',\n   'mForm': 'RF_SOLID',\n   'mSmallIcon': 'Texture2D /Game/FactoryGame/Resource/Parts/IronScrew/UI/IconDesc_IronScrews_64.IconDesc_IronScrews_64',\n   'mPersistentBigIcon': 'Texture2D /Game/FactoryGame/Resource/Parts/IronScrew/UI/IconDesc_IronScrews_256.IconDesc_IronScrews_256',\n   'mCrosshairMaterial': 'None',\n   'mDescriptorStatBars': '',\n   'mSubCategories': '',\n   'mMenuPriority': '0.000000',\n   'mFluidColor': '(B=0,G=0,R=0,A=0)',\n   'mGasColor': '(B=0,G=0,R=0,A=0)',\n   'mCompatibleItemDescriptors': '',\n   'mClassToScanFor': 'None',\n   'mScannableType': 'RTWOT_Default',\n   'mShouldOverrideScannerDisplayText': 'False',\n   'mScannerDisplayText': '',\n   'mScannerLightColor': '(B=0,G=0,R=0,A=0)',\n   'mResourceSinkPoints': '2'},\n  {'ClassName': 'Desc_Wire_C',\n   'mDisplayName': 'Wire',\n   'mDescription': 'Used for crafting.\\r\\nOne of the most basic parts.',\n   'mAbbreviatedDisplayName': '',\n   'mStackSize': 'SS_HUGE',\n   'mCanBeDiscarded': 'True',\n   'mRememberPickUp': 'False',\n   'mEnergyValue': '0.000000',\n   'mRadioactiveDecay': '0.000000',\n   'mForm': 'RF_SOLID',\n   'mSmallIcon': 'Texture2D /Game/FactoryGame/Resource/Parts/Wire/UI/IconDesc_Wire_64.IconDesc_Wire_64',\n   'mPersistentBigIcon': 'Texture2D /Game/FactoryGame/Resource/Parts/Wire/UI/IconDesc_Wire_256.IconDesc_Wire_256',\n   'mCrosshairMaterial': 'None',\n   'mDescriptorStatBars': '',\n   'mSubCategories': '',\n   'mMenuPriority': '0.000000',\n   'mFluidColor': '(B=0,G=0,R=0,A=0)',\n   'mGasColor': '(B=0,G=0,R=0,A=0)',\n   'mCompatibleItemDescriptors': '',\n   'mClassToScanFor': 'None',\n   'mScannableType': 'RTWOT_Default',\n   'mShouldOverrideScannerDisplayText': 'False',\n   'mScannerDisplayText': '',\n   'mScannerLightColor': '(B=0,G=0,R=0,A=0)',\n   'mResourceSinkPoints': '6'},\n  {'ClassName': 'Desc_Crystal_mk2_C',\n   'mDisplayName': 'Yellow Power Slug',\n   'mDescription': 'A strange slug radiating a strange power.',\n   'mAbbreviatedDisplayName': '',\n   'mStackSize': 'SS_SMALL',\n   'mCanBeDiscarded': 'False',\n   'mRememberPickUp': 'True',\n   'mEnergyValue': '0.000000',\n   'mRadioactiveDecay': '0.000000',\n   'mForm': 'RF_SOLID',\n   'mSmallIcon': 'Texture2D /Game/FactoryGame/Resource/Environment/Crystal/UI/PowerSlugYellow_64.PowerSlugYellow_64',\n   'mPersistentBigIcon': 'Texture2D /Game/FactoryGame/Resource/Environment/Crystal/UI/PowerSlugYellow_256.PowerSlugYellow_256',\n   'mCrosshairMaterial': 'None',\n   'mDescriptorStatBars': '',\n   'mSubCategories': '',\n   'mMenuPriority': '0.000000',\n   'mFluidColor': '(B=0,G=0,R=0,A=0)',\n   'mGasColor': '(B=0,G=0,R=0,A=0)',\n   'mCompatibleItemDescriptors': '',\n   'mClassToScanFor': 'None',\n   'mScannableType': 'RTWOT_Default',\n   'mShouldOverrideScannerDisplayText': 'False',\n   'mScannerDisplayText': '',\n   'mScannerLightColor': '(B=0,G=0,R=0,A=0)',\n   'mResourceSinkPoints': '0'},\n  {'ClassName': 'Desc_Crystal_mk3_C',\n   'mDisplayName': 'Purple Power Slug',\n   'mDescription': 'A strange slug radiating a powerful strange power.',\n   'mAbbreviatedDisplayName': '',\n   'mStackSize': 'SS_SMALL',\n   'mCanBeDiscarded': 'False',\n   'mRememberPickUp': 'True',\n   'mEnergyValue': '0.000000',\n   'mRadioactiveDecay': '0.000000',\n   'mForm': 'RF_SOLID',\n   'mSmallIcon': 'Texture2D /Game/FactoryGame/Resource/Environment/Crystal/UI/PowerSlugPurple_64.PowerSlugPurple_64',\n   'mPersistentBigIcon': 'Texture2D /Game/FactoryGame/Resource/Environment/Crystal/UI/PowerSlugPurple_256.PowerSlugPurple_256',\n   'mCrosshairMaterial': 'None',\n   'mDescriptorStatBars': '',\n   'mSubCategories': '',\n   'mMenuPriority': '0.000000',\n   'mFluidColor': '(B=0,G=0,R=0,A=0)',\n   'mGasColor': '(B=0,G=0,R=0,A=0)',\n   'mCompatibleItemDescriptors': '',\n   'mClassToScanFor': 'None',\n   'mScannableType': 'RTWOT_Default',\n   'mShouldOverrideScannerDisplayText': 'False',\n   'mScannerDisplayText': '',\n   'mScannerLightColor': '(B=0,G=0,R=0,A=0)',\n   'mResourceSinkPoints': '0'},\n  {'ClassName': 'Desc_Cement_C',\n   'mDisplayName': 'Concrete',\n   'mDescription': 'Used for building.\\r\\nGood for stable foundations.',\n   'mAbbreviatedDisplayName': 'Con',\n   'mStackSize': 'SS_HUGE',\n   'mCanBeDiscarded': 'True',\n   'mRememberPickUp': 'False',\n   'mEnergyValue': '0.000000',\n   'mRadioactiveDecay': '0.000000',\n   'mForm': 'RF_SOLID',\n   'mSmallIcon': 'Texture2D /Game/FactoryGame/Resource/Parts/Cement/UI/IconDesc_Concrete_64.IconDesc_Concrete_64',\n   'mPersistentBigIcon': 'Texture2D /Game/FactoryGame/Resource/Parts/Cement/UI/IconDesc_Concrete_256.IconDesc_Concrete_256',\n   'mCrosshairMaterial': 'None',\n   'mDescriptorStatBars': '',\n   'mSubCategories': '',\n   'mMenuPriority': '0.000000',\n   'mFluidColor': '(B=0,G=0,R=0,A=0)',\n   'mGasColor': '(B=0,G=0,R=0,A=0)',\n   'mCompatibleItemDescriptors': '',\n   'mClassToScanFor': 'None',\n   'mScannableType': 'RTWOT_Default',\n   'mShouldOverrideScannerDisplayText': 'False',\n   'mScannerDisplayText': '',\n   'mScannerLightColor': '(B=0,G=0,R=0,A=0)',\n   'mResourceSinkPoints': '12'},\n  {'ClassName': 'Desc_Silica_C',\n   'mDisplayName': 'Silica',\n   'mDescription': 'Derived from Raw Quartz. Commonly used to create glass structures, advanced refinement processes, and alternative production of electronics.',\n   'mAbbreviatedDisplayName': 'Silica',\n   'mStackSize': 'SS_BIG',\n   'mCanBeDiscarded': 'True',\n   'mRememberPickUp': 'False',\n   'mEnergyValue': '0.000000',\n   'mRadioactiveDecay': '0.000000',\n   'mForm': 'RF_SOLID',\n   'mSmallIcon': 'Texture2D /Game/FactoryGame/Resource/Parts/Silica/UI/IconDesc_Silica_64.IconDesc_Silica_64',\n   'mPersistentBigIcon': 'Texture2D /Game/FactoryGame/Resource/Parts/Silica/UI/IconDesc_Silica_256.IconDesc_Silica_256',\n   'mCrosshairMaterial': 'None',\n   'mDescriptorStatBars': '',\n   'mSubCategories': '',\n   'mMenuPriority': '0.000000',\n   'mFluidColor': '(B=0,G=0,R=0,A=0)',\n   'mGasColor': '(B=0,G=0,R=0,A=0)',\n   'mCompatibleItemDescriptors': '',\n   'mClassToScanFor': 'None',\n   'mScannableType': 'RTWOT_Default',\n   'mShouldOverrideScannerDisplayText': 'False',\n   'mScannerDisplayText': '',\n   'mScannerLightColor': '(B=0,G=0,R=0,A=0)',\n   'mResourceSinkPoints': '20'},\n  {'ClassName': 'Desc_IronPlate_C',\n   'mDisplayName': 'Iron Plate',\n   'mDescription': 'Used for crafting.\\r\\nOne of the most basic parts.',\n   'mAbbreviatedDisplayName': '',\n   'mStackSize': 'SS_BIG',\n   'mCanBeDiscarded': 'True',\n   'mRememberPickUp': 'False',\n   'mEnergyValue': '0.000000',\n   'mRadioactiveDecay': '0.000000',\n   'mForm': 'RF_SOLID',\n   'mSmallIcon': 'Texture2D /Game/FactoryGame/Resource/Parts/IronPlate/UI/IconDesc_IronPlates_64.IconDesc_IronPlates_64',\n   'mPersistentBigIcon': 'Texture2D /Game/FactoryGame/Resource/Parts/IronPlate/UI/IconDesc_IronPlates_256.IconDesc_IronPlates_256',\n   'mCrosshairMaterial': 'None',\n   'mDescriptorStatBars': '',\n   'mSubCategories': '',\n   'mMenuPriority': '0.000000',\n   'mFluidColor': '(B=0,G=0,R=0,A=0)',\n   'mGasColor': '(B=0,G=0,R=0,A=0)',\n   'mCompatibleItemDescriptors': '',\n   'mClassToScanFor': 'None',\n   'mScannableType': 'RTWOT_Default',\n   'mShouldOverrideScannerDisplayText': 'False',\n   'mScannerDisplayText': '',\n   'mScannerLightColor': '(B=0,G=0,R=0,A=0)',\n   'mResourceSinkPoints': '6'},\n  {'ClassName': 'Desc_SteelPlate_C',\n   'mDisplayName': 'Steel Beam',\n   'mDescription': 'Steel Beams are used most often when constructing a little more advanced buildings.',\n   'mAbbreviatedDisplayName': '',\n   'mStackSize': 'SS_BIG',\n   'mCanBeDiscarded': 'True',\n   'mRememberPickUp': 'False',\n   'mEnergyValue': '0.000000',\n   'mRadioactiveDecay': '0.000000',\n   'mForm': 'RF_SOLID',\n   'mSmallIcon': 'Texture2D /Game/FactoryGame/Resource/Parts/SteelPlate/UI/IconDesc_SteelBeam_64.IconDesc_SteelBeam_64',\n   'mPersistentBigIcon': 'Texture2D /Game/FactoryGame/Resource/Parts/SteelPlate/UI/IconDesc_SteelBeam_256.IconDesc_SteelBeam_256',\n   'mCrosshairMaterial': 'None',\n   'mDescriptorStatBars': '',\n   'mSubCategories': '',\n   'mMenuPriority': '0.000000',\n   'mFluidColor': '(B=0,G=0,R=0,A=0)',\n   'mGasColor': '(B=0,G=0,R=0,A=0)',\n   'mCompatibleItemDescriptors': '',\n   'mClassToScanFor': 'None',\n   'mScannableType': 'RTWOT_Default',\n   'mShouldOverrideScannerDisplayText': 'False',\n   'mScannerDisplayText': '',\n   'mScannerLightColor': '(B=0,G=0,R=0,A=0)',\n   'mResourceSinkPoints': '64'},\n  {'ClassName': 'Desc_ColorCartridge_C',\n   'mDisplayName': 'Color Cartridge',\n   'mDescription': 'Used for applying Patterns to structures with the Customizer.\\r\\n\\r\\n(Patterns can be purchased in the AWESOME Shop.)',\n   'mAbbreviatedDisplayName': '',\n   'mStackSize': 'SS_BIG',\n   'mCanBeDiscarded': 'True',\n   'mRememberPickUp': 'False',\n   'mEnergyValue': '900.000000',\n   'mRadioactiveDecay': '0.000000',\n   'mForm': 'RF_SOLID',\n   'mSmallIcon': 'Texture2D /Game/FactoryGame/Resource/Parts/ColorCartridge/UI/IconDesc_ColorCartridge_64.IconDesc_ColorCartridge_64',\n   'mPersistentBigIcon': 'Texture2D /Game/FactoryGame/Resource/Parts/ColorCartridge/UI/IconDesc_ColorCartridge_256.IconDesc_ColorCartridge_256',\n   'mCrosshairMaterial': 'None',\n   'mDescriptorStatBars': '',\n   'mSubCategories': '',\n   'mMenuPriority': '0.000000',\n   'mFluidColor': '(B=0,G=0,R=0,A=0)',\n   'mGasColor': '(B=0,G=0,R=0,A=0)',\n   'mCompatibleItemDescriptors': '',\n   'mClassToScanFor': 'None',\n   'mScannableType': 'RTWOT_Default',\n   'mShouldOverrideScannerDisplayText': 'False',\n   'mScannerDisplayText': '',\n   'mScannerLightColor': '(B=0,G=0,R=0,A=0)',\n   'mResourceSinkPoints': '10'},\n  {'ClassName': 'Desc_CrystalShard_C',\n   'mDisplayName': 'Power Shard',\n   'mDescription': 'Mucus from the power slugs compressed into a solid crystal-like shard. \\r\\nIt radiates a strange power.',\n   'mAbbreviatedDisplayName': '',\n   'mStackSize': 'SS_MEDIUM',\n   'mCanBeDiscarded': 'True',\n   'mRememberPickUp': 'False',\n   'mEnergyValue': '0.000000',\n   'mRadioactiveDecay': '0.000000',\n   'mForm': 'RF_SOLID',\n   'mSmallIcon': 'Texture2D /Game/FactoryGame/Resource/Environment/Crystal/UI/PowerShard_64.PowerShard_64',\n   'mPersistentBigIcon': 'Texture2D /Game/FactoryGame/Resource/Environment/Crystal/UI/PowerShard_256.PowerShard_256',\n   'mCrosshairMaterial': 'None',\n   'mDescriptorStatBars': '',\n   'mSubCategories': '',\n   'mMenuPriority': '0.000000',\n   'mFluidColor': '(B=0,G=0,R=0,A=0)',\n   'mGasColor': '(B=0,G=0,R=0,A=0)',\n   'mCompatibleItemDescriptors': '',\n   'mClassToScanFor': 'None',\n   'mScannableType': 'RTWOT_Default',\n   'mShouldOverrideScannerDisplayText': 'False',\n   'mScannerDisplayText': '',\n   'mScannerLightColor': '(B=0,G=0,R=0,A=0)',\n   'mResourceSinkPoints': '0'},\n  {'ClassName': 'Desc_Cable_C',\n   'mDisplayName': 'Cable',\n   'mDescription': 'Used for crafting.\\r\\nPrimarily used to build power lines.',\n   'mAbbreviatedDisplayName': '',\n   'mStackSize': 'SS_BIG',\n   'mCanBeDiscarded': 'True',\n   'mRememberPickUp': 'False',\n   'mEnergyValue': '0.000000',\n   'mRadioactiveDecay': '0.000000',\n   'mForm': 'RF_SOLID',\n   'mSmallIcon': 'Texture2D /Game/FactoryGame/Resource/Parts/Cable/UI/IconDesc_Cables_64.IconDesc_Cables_64',\n   'mPersistentBigIcon': 'Texture2D /Game/FactoryGame/Resource/Parts/Cable/UI/IconDesc_Cables_256.IconDesc_Cables_256',\n   'mCrosshairMaterial': 'None',\n   'mDescriptorStatBars': '',\n   'mSubCategories': '',\n   'mMenuPriority': '0.000000',\n   'mFluidColor': '(B=0,G=0,R=0,A=0)',\n   'mGasColor': '(B=0,G=0,R=0,A=0)',\n   'mCompatibleItemDescriptors': '',\n   'mClassToScanFor': 'None',\n   'mScannableType': 'RTWOT_Default',\n   'mShouldOverrideScannerDisplayText': 'False',\n   'mScannerDisplayText': '',\n   'mScannerLightColor': '(B=0,G=0,R=0,A=0)',\n   'mResourceSinkPoints': '24'},\n  {'ClassName': 'Desc_ModularFrame_C',\n   'mDisplayName': 'Modular Frame',\n   'mDescription': 'Used for crafting.\\r\\nMulti-purpose building block.',\n   'mAbbreviatedDisplayName': '',\n   'mStackSize': 'SS_SMALL',\n   'mCanBeDiscarded': 'True',\n   'mRememberPickUp': 'False',\n   'mEnergyValue': '0.000000',\n   'mRadioactiveDecay': '0.000000',\n   'mForm': 'RF_SOLID',\n   'mSmallIcon': 'Texture2D /Game/FactoryGame/Resource/Parts/ModularFrame/UI/IconDesc_ModularFrame_64.IconDesc_ModularFrame_64',\n   'mPersistentBigIcon': 'Texture2D /Game/FactoryGame/Resource/Parts/ModularFrame/UI/IconDesc_ModularFrame_256.IconDesc_ModularFrame_256',\n   'mCrosshairMaterial': 'None',\n   'mDescriptorStatBars': '',\n   'mSubCategories': '',\n   'mMenuPriority': '0.000000',\n   'mFluidColor': '(B=0,G=0,R=0,A=0)',\n   'mGasColor': '(B=0,G=0,R=0,A=0)',\n   'mCompatibleItemDescriptors': '',\n   'mClassToScanFor': 'None',\n   'mScannableType': 'RTWOT_Default',\n   'mShouldOverrideScannerDisplayText': 'False',\n   'mScannerDisplayText': '',\n   'mScannerLightColor': '(B=0,G=0,R=0,A=0)',\n   'mResourceSinkPoints': '408'},\n  {'ClassName': 'Desc_Fuel_C',\n   'mDisplayName': 'Packaged Fuel',\n   'mDescription': 'Fuel, packaged for alternative transport. Can be used as fuel for Vehicles or the Jetpack.',\n   'mAbbreviatedDisplayName': 'Fuel',\n   'mStackSize': 'SS_MEDIUM',\n   'mCanBeDiscarded': 'True',\n   'mRememberPickUp': 'False',\n   'mEnergyValue': '750.000000',\n   'mRadioactiveDecay': '0.000000',\n   'mForm': 'RF_SOLID',\n   'mSmallIcon': 'Texture2D /Game/FactoryGame/Resource/Parts/Fuel/UI/IconDesc_Fuel_64.IconDesc_Fuel_64',\n   'mPersistentBigIcon': 'Texture2D /Game/FactoryGame/Resource/Parts/Fuel/UI/IconDesc_Fuel_256.IconDesc_Fuel_256',\n   'mCrosshairMaterial': 'None',\n   'mDescriptorStatBars': '',\n   'mSubCategories': '',\n   'mMenuPriority': '0.000000',\n   'mFluidColor': '(B=21,G=125,R=235,A=255)',\n   'mGasColor': '(B=0,G=0,R=0,A=0)',\n   'mCompatibleItemDescriptors': '',\n   'mClassToScanFor': 'None',\n   'mScannableType': 'RTWOT_Default',\n   'mShouldOverrideScannerDisplayText': 'False',\n   'mScannerDisplayText': '',\n   'mScannerLightColor': '(B=0,G=0,R=0,A=0)',\n   'mResourceSinkPoints': '270'},\n  {'ClassName': 'Desc_TurboFuel_C',\n   'mDisplayName': 'Packaged Turbofuel',\n   'mDescription': 'Turbofuel, packaged for alternative transport. Can be used as fuel for Vehicles.',\n   'mAbbreviatedDisplayName': 'Turbo',\n   'mStackSize': 'SS_MEDIUM',\n   'mCanBeDiscarded': 'True',\n   'mRememberPickUp': 'False',\n   'mEnergyValue': '2000.000000',\n   'mRadioactiveDecay': '0.000000',\n   'mForm': 'RF_SOLID',\n   'mSmallIcon': 'Texture2D /Game/FactoryGame/Resource/Parts/Turbofuel/UI/IconDesc_TurboFuel_64.IconDesc_TurboFuel_64',\n   'mPersistentBigIcon': 'Texture2D /Game/FactoryGame/Resource/Parts/Turbofuel/UI/IconDesc_TurboFuel_256.IconDesc_TurboFuel_256',\n   'mCrosshairMaterial': 'None',\n   'mDescriptorStatBars': '',\n   'mSubCategories': '',\n   'mMenuPriority': '0.000000',\n   'mFluidColor': '(B=46,G=41,R=212,A=255)',\n   'mGasColor': '(B=0,G=0,R=0,A=0)',\n   'mCompatibleItemDescriptors': '',\n   'mClassToScanFor': 'None',\n   'mScannableType': 'RTWOT_Default',\n   'mShouldOverrideScannerDisplayText': 'False',\n   'mScannerDisplayText': '',\n   'mScannerLightColor': '(B=0,G=0,R=0,A=0)',\n   'mResourceSinkPoints': '570'},\n  {'ClassName': 'Desc_HazmatFilter_C',\n   'mDisplayName': 'Iodine Infused Filter',\n   'mDescription': 'Used in the Hazmat Suit to absorb radioactive particles.',\n   'mAbbreviatedDisplayName': '',\n   'mStackSize': 'SS_SMALL',\n   'mCanBeDiscarded': 'True',\n   'mRememberPickUp': 'False',\n   'mEnergyValue': '0.000000',\n   'mRadioactiveDecay': '0.000000',\n   'mForm': 'RF_SOLID',\n   'mSmallIcon': 'Texture2D /Game/FactoryGame/Resource/Parts/IodineInfusedFilter/UI/IconDesc_HazmatFilter_64.IconDesc_HazmatFilter_64',\n   'mPersistentBigIcon': 'Texture2D /Game/FactoryGame/Resource/Parts/IodineInfusedFilter/UI/IconDesc_HazmatFilter_256.IconDesc_HazmatFilter_256',\n   'mCrosshairMaterial': 'None',\n   'mDescriptorStatBars': '',\n   'mSubCategories': '',\n   'mMenuPriority': '0.000000',\n   'mFluidColor': '(B=0,G=0,R=0,A=0)',\n   'mGasColor': '(B=0,G=0,R=0,A=0)',\n   'mCompatibleItemDescriptors': '',\n   'mClassToScanFor': 'None',\n   'mScannableType': 'RTWOT_Default',\n   'mShouldOverrideScannerDisplayText': 'False',\n   'mScannerDisplayText': '',\n   'mScannerLightColor': '(B=0,G=0,R=0,A=0)',\n   'mResourceSinkPoints': '2718'},\n  {'ClassName': 'Desc_Filter_C',\n   'mDisplayName': 'Gas Filter',\n   'mDescription': 'Used in the Gas Mask to filter out toxics and pollutants from the air.',\n   'mAbbreviatedDisplayName': '',\n   'mStackSize': 'SS_SMALL',\n   'mCanBeDiscarded': 'True',\n   'mRememberPickUp': 'False',\n   'mEnergyValue': '0.000000',\n   'mRadioactiveDecay': '0.000000',\n   'mForm': 'RF_SOLID',\n   'mSmallIcon': 'Texture2D /Game/FactoryGame/Resource/Parts/Filter/UI/IconDesc_GasMaskFilter_64.IconDesc_GasMaskFilter_64',\n   'mPersistentBigIcon': 'Texture2D /Game/FactoryGame/Resource/Parts/Filter/UI/IconDesc_GasMaskFilter_256.IconDesc_GasMaskFilter_256',\n   'mCrosshairMaterial': 'None',\n   'mDescriptorStatBars': '',\n   'mSubCategories': '',\n   'mMenuPriority': '0.000000',\n   'mFluidColor': '(B=0,G=0,R=0,A=0)',\n   'mGasColor': '(B=0,G=0,R=0,A=0)',\n   'mCompatibleItemDescriptors': '',\n   'mClassToScanFor': 'None',\n   'mScannableType': 'RTWOT_Default',\n   'mShouldOverrideScannerDisplayText': 'False',\n   'mScannerDisplayText': '',\n   'mScannerLightColor': '(B=0,G=0,R=0,A=0)',\n   'mResourceSinkPoints': '830'},\n  {'ClassName': 'Desc_HUBParts_C',\n   'mDisplayName': 'HUB Parts',\n   'mDescription': 'The parts required to build the basic structure of the HUB.',\n   'mAbbreviatedDisplayName': '',\n   'mStackSize': 'SS_ONE',\n   'mCanBeDiscarded': 'False',\n   'mRememberPickUp': 'False',\n   'mEnergyValue': '0.000000',\n   'mRadioactiveDecay': '0.000000',\n   'mForm': 'RF_SOLID',\n   'mSmallIcon': 'Texture2D /Game/FactoryGame/Resource/Parts/HUBParts/UI/IconDesc_HubParts_64.IconDesc_HubParts_64',\n   'mPersistentBigIcon': 'Texture2D /Game/FactoryGame/Resource/Parts/HUBParts/UI/IconDesc_HubParts_256.IconDesc_HubParts_256',\n   'mCrosshairMaterial': 'None',\n   'mDescriptorStatBars': '',\n   'mSubCategories': '',\n   'mMenuPriority': '0.000000',\n   'mFluidColor': '(B=0,G=0,R=0,A=0)',\n   'mGasColor': '(B=0,G=0,R=0,A=0)',\n   'mCompatibleItemDescriptors': '',\n   'mClassToScanFor': 'None',\n   'mScannableType': 'RTWOT_Default',\n   'mShouldOverrideScannerDisplayText': 'False',\n   'mScannerDisplayText': '',\n   'mScannerLightColor': '(B=0,G=0,R=0,A=0)',\n   'mResourceSinkPoints': '0'},\n  {'ClassName': 'Desc_IronPlateReinforced_C',\n   'mDisplayName': 'Reinforced Iron Plate',\n   'mDescription': 'Used for crafting.\\r\\nA sturdier and more durable Iron Plate.',\n   'mAbbreviatedDisplayName': '',\n   'mStackSize': 'SS_MEDIUM',\n   'mCanBeDiscarded': 'True',\n   'mRememberPickUp': 'False',\n   'mEnergyValue': '0.000000',\n   'mRadioactiveDecay': '0.000000',\n   'mForm': 'RF_SOLID',\n   'mSmallIcon': 'Texture2D /Game/FactoryGame/Resource/Parts/IronPlateReinforced/UI/IconDesc_ReinforcedIronPlates_64.IconDesc_ReinforcedIronPlates_64',\n   'mPersistentBigIcon': 'Texture2D /Game/FactoryGame/Resource/Parts/IronPlateReinforced/UI/IconDesc_ReinforcedIronPlates_256.IconDesc_ReinforcedIronPlates_256',\n   'mCrosshairMaterial': 'None',\n   'mDescriptorStatBars': '',\n   'mSubCategories': '',\n   'mMenuPriority': '0.000000',\n   'mFluidColor': '(B=0,G=0,R=0,A=0)',\n   'mGasColor': '(B=0,G=0,R=0,A=0)',\n   'mCompatibleItemDescriptors': '',\n   'mClassToScanFor': 'None',\n   'mScannableType': 'RTWOT_Default',\n   'mShouldOverrideScannerDisplayText': 'False',\n   'mScannerDisplayText': '',\n   'mScannerLightColor': '(B=0,G=0,R=0,A=0)',\n   'mResourceSinkPoints': '120'},\n  {'ClassName': 'Desc_CopperIngot_C',\n   'mDisplayName': 'Copper Ingot',\n   'mDescription': 'Used for crafting.\\r\\nCrafted into the most basic parts.',\n   'mAbbreviatedDisplayName': 'Cop',\n   'mStackSize': 'SS_MEDIUM',\n   'mCanBeDiscarded': 'True',\n   'mRememberPickUp': 'False',\n   'mEnergyValue': '0.000000',\n   'mRadioactiveDecay': '0.000000',\n   'mForm': 'RF_SOLID',\n   'mSmallIcon': 'Texture2D /Game/FactoryGame/Resource/Parts/CopperIngot/UI/IconDesc_CopperIngot_64.IconDesc_CopperIngot_64',\n   'mPersistentBigIcon': 'Texture2D /Game/FactoryGame/Resource/Parts/CopperIngot/UI/IconDesc_CopperIngot_256.IconDesc_CopperIngot_256',\n   'mCrosshairMaterial': 'None',\n   'mDescriptorStatBars': '',\n   'mSubCategories': '',\n   'mMenuPriority': '0.000000',\n   'mFluidColor': '(B=0,G=0,R=0,A=0)',\n   'mGasColor': '(B=0,G=0,R=0,A=0)',\n   'mCompatibleItemDescriptors': '',\n   'mClassToScanFor': 'None',\n   'mScannableType': 'RTWOT_Default',\n   'mShouldOverrideScannerDisplayText': 'False',\n   'mScannerDisplayText': '',\n   'mScannerLightColor': '(B=0,G=0,R=0,A=0)',\n   'mResourceSinkPoints': '6'},\n  {'ClassName': 'Desc_Gift_C',\n   'mDisplayName': 'FICSMAS Gift',\n   'mDescription': 'Special FICSMAS buildings and parts can be obtained and produced from this FICSIT Holiday present.\\r\\n\\r\\n*Watch the sky for deliveries from orbit!',\n   'mAbbreviatedDisplayName': '',\n   'mStackSize': 'SS_HUGE',\n   'mCanBeDiscarded': 'True',\n   'mRememberPickUp': 'True',\n   'mEnergyValue': '0.000000',\n   'mRadioactiveDecay': '0.000000',\n   'mForm': 'RF_SOLID',\n   'mSmallIcon': 'Texture2D /Game/FactoryGame/Events/Christmas/Parts/UI/IconDesc_Gift_64.IconDesc_Gift_64',\n   'mPersistentBigIcon': 'Texture2D /Game/FactoryGame/Events/Christmas/Parts/UI/IconDesc_Gift_256.IconDesc_Gift_256',\n   'mCrosshairMaterial': 'None',\n   'mDescriptorStatBars': '',\n   'mSubCategories': '',\n   'mMenuPriority': '0.000000',\n   'mFluidColor': '(B=0,G=0,R=0,A=0)',\n   'mGasColor': '(B=0,G=0,R=0,A=0)',\n   'mCompatibleItemDescriptors': '',\n   'mClassToScanFor': 'None',\n   'mScannableType': 'RTWOT_Default',\n   'mShouldOverrideScannerDisplayText': 'False',\n   'mScannerDisplayText': '',\n   'mScannerLightColor': '(B=0,G=0,R=0,A=0)',\n   'mResourceSinkPoints': '1'},\n  {'ClassName': 'Desc_CandyCane_C',\n   'mDisplayName': 'Candy Cane',\n   'mDescription': \"A delicious Candy Cane to be enjoyed during the FICSMAS Holidays. \\r\\n*Disclaimer: Can't be consumed...\",\n   'mAbbreviatedDisplayName': '',\n   'mStackSize': 'SS_HUGE',\n   'mCanBeDiscarded': 'True',\n   'mRememberPickUp': 'False',\n   'mEnergyValue': '0.000000',\n   'mRadioactiveDecay': '0.000000',\n   'mForm': 'RF_SOLID',\n   'mSmallIcon': 'Texture2D /Game/FactoryGame/Events/Christmas/Parts/UI/IconDesc_CanePart_64.IconDesc_CanePart_64',\n   'mPersistentBigIcon': 'Texture2D /Game/FactoryGame/Events/Christmas/Parts/UI/IconDesc_CanePart_256.IconDesc_CanePart_256',\n   'mCrosshairMaterial': 'None',\n   'mDescriptorStatBars': '',\n   'mSubCategories': '',\n   'mMenuPriority': '0.000000',\n   'mFluidColor': '(B=0,G=0,R=0,A=0)',\n   'mGasColor': '(B=0,G=0,R=0,A=0)',\n   'mCompatibleItemDescriptors': '',\n   'mClassToScanFor': 'None',\n   'mScannableType': 'RTWOT_Default',\n   'mShouldOverrideScannerDisplayText': 'False',\n   'mScannerDisplayText': '',\n   'mScannerLightColor': '(B=0,G=0,R=0,A=0)',\n   'mResourceSinkPoints': '1'},\n  {'ClassName': 'Desc_XmasBranch_C',\n   'mDisplayName': 'FICSMAS Tree Branch',\n   'mDescription': 'A special Tree Branch, used to produce parts and buildings during the FICSMAS Event.',\n   'mAbbreviatedDisplayName': '',\n   'mStackSize': 'SS_HUGE',\n   'mCanBeDiscarded': 'True',\n   'mRememberPickUp': 'False',\n   'mEnergyValue': '0.000000',\n   'mRadioactiveDecay': '0.000000',\n   'mForm': 'RF_SOLID',\n   'mSmallIcon': 'Texture2D /Game/FactoryGame/Events/Christmas/Parts/UI/IconDesc_Branch_64.IconDesc_Branch_64',\n   'mPersistentBigIcon': 'Texture2D /Game/FactoryGame/Events/Christmas/Parts/UI/IconDesc_Branch_256.IconDesc_Branch_256',\n   'mCrosshairMaterial': 'None',\n   'mDescriptorStatBars': '',\n   'mSubCategories': '',\n   'mMenuPriority': '0.000000',\n   'mFluidColor': '(B=0,G=0,R=0,A=0)',\n   'mGasColor': '(B=0,G=0,R=0,A=0)',\n   'mCompatibleItemDescriptors': '',\n   'mClassToScanFor': 'None',\n   'mScannableType': 'RTWOT_Default',\n   'mShouldOverrideScannerDisplayText': 'False',\n   'mScannerDisplayText': '',\n   'mScannerLightColor': '(B=0,G=0,R=0,A=0)',\n   'mResourceSinkPoints': '1'},\n  {'ClassName': 'Desc_XmasBow_C',\n   'mDisplayName': 'FICSMAS Bow',\n   'mDescription': \"A fancy Bow, maybe someone can wear this? You certainly can't! Probably, some parts and decorations can be made from this.\",\n   'mAbbreviatedDisplayName': '',\n   'mStackSize': 'SS_HUGE',\n   'mCanBeDiscarded': 'True',\n   'mRememberPickUp': 'False',\n   'mEnergyValue': '0.000000',\n   'mRadioactiveDecay': '0.000000',\n   'mForm': 'RF_SOLID',\n   'mSmallIcon': 'Texture2D /Game/FactoryGame/Events/Christmas/Parts/UI/IconDesc_Bow_64.IconDesc_Bow_64',\n   'mPersistentBigIcon': 'Texture2D /Game/FactoryGame/Events/Christmas/Parts/UI/IconDesc_Bow_256.IconDesc_Bow_256',\n   'mCrosshairMaterial': 'None',\n   'mDescriptorStatBars': '',\n   'mSubCategories': '',\n   'mMenuPriority': '0.000000',\n   'mFluidColor': '(B=0,G=0,R=0,A=0)',\n   'mGasColor': '(B=0,G=0,R=0,A=0)',\n   'mCompatibleItemDescriptors': '',\n   'mClassToScanFor': 'None',\n   'mScannableType': 'RTWOT_Default',\n   'mShouldOverrideScannerDisplayText': 'False',\n   'mScannerDisplayText': '',\n   'mScannerLightColor': '(B=0,G=0,R=0,A=0)',\n   'mResourceSinkPoints': '1'},\n  {'ClassName': 'Desc_Snow_C',\n   'mDisplayName': 'Actual Snow',\n   'mDescription': \"It's snow. Not the nice, thick, crunchy kind though... more the disgustingly wet, slushy kind... Guess we can make stuff from it.\",\n   'mAbbreviatedDisplayName': '',\n   'mStackSize': 'SS_HUGE',\n   'mCanBeDiscarded': 'True',\n   'mRememberPickUp': 'False',\n   'mEnergyValue': '0.000000',\n   'mRadioactiveDecay': '0.000000',\n   'mForm': 'RF_SOLID',\n   'mSmallIcon': 'Texture2D /Game/FactoryGame/Events/Christmas/Parts/UI/IconDesc_Snow_64.IconDesc_Snow_64',\n   'mPersistentBigIcon': 'Texture2D /Game/FactoryGame/Events/Christmas/Parts/UI/IconDesc_Snow_256.IconDesc_Snow_256',\n   'mCrosshairMaterial': 'None',\n   'mDescriptorStatBars': '',\n   'mSubCategories': '',\n   'mMenuPriority': '0.000000',\n   'mFluidColor': '(B=0,G=0,R=0,A=0)',\n   'mGasColor': '(B=0,G=0,R=0,A=0)',\n   'mCompatibleItemDescriptors': '',\n   'mClassToScanFor': 'None',\n   'mScannableType': 'RTWOT_Default',\n   'mShouldOverrideScannerDisplayText': 'False',\n   'mScannerDisplayText': '',\n   'mScannerLightColor': '(B=0,G=0,R=0,A=0)',\n   'mResourceSinkPoints': '1'},\n  {'ClassName': 'Desc_XmasStar_C',\n   'mDisplayName': 'FICSMAS Wonder Star',\n   'mDescription': \"This special FICSMAS Star signifies the productivity of FICSIT all across the universe. It also signifies the fact that you have nearly completed the Holiday Event, so it's time to get back to work.\",\n   'mAbbreviatedDisplayName': '',\n   'mStackSize': 'SS_SMALL',\n   'mCanBeDiscarded': 'True',\n   'mRememberPickUp': 'False',\n   'mEnergyValue': '0.000000',\n   'mRadioactiveDecay': '0.000000',\n   'mForm': 'RF_SOLID',\n   'mSmallIcon': 'Texture2D /Game/FactoryGame/Events/Christmas/Parts/UI/IconDesc_Star_64.IconDesc_Star_64',\n   'mPersistentBigIcon': 'Texture2D /Game/FactoryGame/Events/Christmas/Parts/UI/IconDesc_Star_256.IconDesc_Star_256',\n   'mCrosshairMaterial': 'None',\n   'mDescriptorStatBars': '',\n   'mSubCategories': '',\n   'mMenuPriority': '0.000000',\n   'mFluidColor': '(B=0,G=0,R=0,A=0)',\n   'mGasColor': '(B=0,G=0,R=0,A=0)',\n   'mCompatibleItemDescriptors': '',\n   'mClassToScanFor': 'None',\n   'mScannableType': 'RTWOT_Default',\n   'mShouldOverrideScannerDisplayText': 'False',\n   'mScannerDisplayText': '',\n   'mScannerLightColor': '(B=0,G=0,R=0,A=0)',\n   'mResourceSinkPoints': '1'},\n  {'ClassName': 'Desc_XmasBall1_C',\n   'mDisplayName': 'Red FICSMAS Ornament',\n   'mDescription': 'Used for making FICSMAS Decorations.',\n   'mAbbreviatedDisplayName': '',\n   'mStackSize': 'SS_HUGE',\n   'mCanBeDiscarded': 'True',\n   'mRememberPickUp': 'False',\n   'mEnergyValue': '0.000000',\n   'mRadioactiveDecay': '0.000000',\n   'mForm': 'RF_SOLID',\n   'mSmallIcon': 'Texture2D /Game/FactoryGame/Events/Christmas/Parts/UI/IconDesc_XmasBall_Red_64.IconDesc_XmasBall_Red_64',\n   'mPersistentBigIcon': 'Texture2D /Game/FactoryGame/Events/Christmas/Parts/UI/IconDesc_XmasBall_Red_256.IconDesc_XmasBall_Red_256',\n   'mCrosshairMaterial': 'None',\n   'mDescriptorStatBars': '',\n   'mSubCategories': '',\n   'mMenuPriority': '0.000000',\n   'mFluidColor': '(B=0,G=0,R=0,A=0)',\n   'mGasColor': '(B=0,G=0,R=0,A=0)',\n   'mCompatibleItemDescriptors': '',\n   'mClassToScanFor': 'None',\n   'mScannableType': 'RTWOT_Default',\n   'mShouldOverrideScannerDisplayText': 'False',\n   'mScannerDisplayText': '',\n   'mScannerLightColor': '(B=0,G=0,R=0,A=0)',\n   'mResourceSinkPoints': '1'},\n  {'ClassName': 'Desc_XmasBall2_C',\n   'mDisplayName': 'Blue FICSMAS Ornament',\n   'mDescription': 'Again, used for making FICSMAS Decorations.',\n   'mAbbreviatedDisplayName': '',\n   'mStackSize': 'SS_HUGE',\n   'mCanBeDiscarded': 'True',\n   'mRememberPickUp': 'False',\n   'mEnergyValue': '0.000000',\n   'mRadioactiveDecay': '0.000000',\n   'mForm': 'RF_SOLID',\n   'mSmallIcon': 'Texture2D /Game/FactoryGame/Events/Christmas/Parts/UI/IconDesc_XmasBall_Blue_64.IconDesc_XmasBall_Blue_64',\n   'mPersistentBigIcon': 'Texture2D /Game/FactoryGame/Events/Christmas/Parts/UI/IconDesc_XmasBall_Blue_256.IconDesc_XmasBall_Blue_256',\n   'mCrosshairMaterial': 'None',\n   'mDescriptorStatBars': '',\n   'mSubCategories': '',\n   'mMenuPriority': '0.000000',\n   'mFluidColor': '(B=0,G=0,R=0,A=0)',\n   'mGasColor': '(B=0,G=0,R=0,A=0)',\n   'mCompatibleItemDescriptors': '',\n   'mClassToScanFor': 'None',\n   'mScannableType': 'RTWOT_Default',\n   'mShouldOverrideScannerDisplayText': 'False',\n   'mScannerDisplayText': '',\n   'mScannerLightColor': '(B=0,G=0,R=0,A=0)',\n   'mResourceSinkPoints': '1'},\n  {'ClassName': 'Desc_XmasBall3_C',\n   'mDisplayName': 'Copper FICSMAS Ornament',\n   'mDescription': 'Still used for making FICSMAS Decorations.',\n   'mAbbreviatedDisplayName': '',\n   'mStackSize': 'SS_BIG',\n   'mCanBeDiscarded': 'True',\n   'mRememberPickUp': 'False',\n   'mEnergyValue': '0.000000',\n   'mRadioactiveDecay': '0.000000',\n   'mForm': 'RF_SOLID',\n   'mSmallIcon': 'Texture2D /Game/FactoryGame/Events/Christmas/Parts/UI/IconDesc_XmasBall_Yellow_64.IconDesc_XmasBall_Yellow_64',\n   'mPersistentBigIcon': 'Texture2D /Game/FactoryGame/Events/Christmas/Parts/UI/IconDesc_XmasBall_Yellow_256.IconDesc_XmasBall_Yellow_256',\n   'mCrosshairMaterial': 'None',\n   'mDescriptorStatBars': '',\n   'mSubCategories': '',\n   'mMenuPriority': '0.000000',\n   'mFluidColor': '(B=0,G=0,R=0,A=0)',\n   'mGasColor': '(B=0,G=0,R=0,A=0)',\n   'mCompatibleItemDescriptors': '',\n   'mClassToScanFor': 'None',\n   'mScannableType': 'RTWOT_Default',\n   'mShouldOverrideScannerDisplayText': 'False',\n   'mScannerDisplayText': '',\n   'mScannerLightColor': '(B=0,G=0,R=0,A=0)',\n   'mResourceSinkPoints': '1'},\n  {'ClassName': 'Desc_XmasBall4_C',\n   'mDisplayName': 'Iron FICSMAS Ornament',\n   'mDescription': 'This super special... nope... still just used for making FICSMAS Decorations.',\n   'mAbbreviatedDisplayName': '',\n   'mStackSize': 'SS_BIG',\n   'mCanBeDiscarded': 'True',\n   'mRememberPickUp': 'False',\n   'mEnergyValue': '0.000000',\n   'mRadioactiveDecay': '0.000000',\n   'mForm': 'RF_SOLID',\n   'mSmallIcon': 'Texture2D /Game/FactoryGame/Events/Christmas/Parts/UI/IconDesc_XmasBall_Silver_64.IconDesc_XmasBall_Silver_64',\n   'mPersistentBigIcon': 'Texture2D /Game/FactoryGame/Events/Christmas/Parts/UI/IconDesc_XmasBall_Silver_256.IconDesc_XmasBall_Silver_256',\n   'mCrosshairMaterial': 'None',\n   'mDescriptorStatBars': '',\n   'mSubCategories': '',\n   'mMenuPriority': '0.000000',\n   'mFluidColor': '(B=0,G=0,R=0,A=0)',\n   'mGasColor': '(B=0,G=0,R=0,A=0)',\n   'mCompatibleItemDescriptors': '',\n   'mClassToScanFor': 'None',\n   'mScannableType': 'RTWOT_Default',\n   'mShouldOverrideScannerDisplayText': 'False',\n   'mScannerDisplayText': '',\n   'mScannerLightColor': '(B=0,G=0,R=0,A=0)',\n   'mResourceSinkPoints': '1'},\n  {'ClassName': 'Desc_XmasBallCluster_C',\n   'mDisplayName': 'FICSMAS Ornament Bundle',\n   'mDescription': 'All the FICSMAS Ornaments smashed together to make even more FICSMAS Decorations!',\n   'mAbbreviatedDisplayName': '',\n   'mStackSize': 'SS_MEDIUM',\n   'mCanBeDiscarded': 'True',\n   'mRememberPickUp': 'False',\n   'mEnergyValue': '0.000000',\n   'mRadioactiveDecay': '0.000000',\n   'mForm': 'RF_SOLID',\n   'mSmallIcon': 'Texture2D /Game/FactoryGame/Events/Christmas/Parts/UI/IconDesc_Balls_64.IconDesc_Balls_64',\n   'mPersistentBigIcon': 'Texture2D /Game/FactoryGame/Events/Christmas/Parts/UI/IconDesc_Balls_256.IconDesc_Balls_256',\n   'mCrosshairMaterial': 'None',\n   'mDescriptorStatBars': '',\n   'mSubCategories': '',\n   'mMenuPriority': '0.000000',\n   'mFluidColor': '(B=0,G=0,R=0,A=0)',\n   'mGasColor': '(B=0,G=0,R=0,A=0)',\n   'mCompatibleItemDescriptors': '',\n   'mClassToScanFor': 'None',\n   'mScannableType': 'RTWOT_Default',\n   'mShouldOverrideScannerDisplayText': 'False',\n   'mScannerDisplayText': '',\n   'mScannerLightColor': '(B=0,G=0,R=0,A=0)',\n   'mResourceSinkPoints': '1'},\n  {'ClassName': 'Desc_XmasWreath_C',\n   'mDisplayName': 'FICSMAS Decoration',\n   'mDescription': 'A decoration used to make decorations. Its use cases are questionable.',\n   'mAbbreviatedDisplayName': '',\n   'mStackSize': 'SS_MEDIUM',\n   'mCanBeDiscarded': 'True',\n   'mRememberPickUp': 'False',\n   'mEnergyValue': '0.000000',\n   'mRadioactiveDecay': '0.000000',\n   'mForm': 'RF_SOLID',\n   'mSmallIcon': 'Texture2D /Game/FactoryGame/Events/Christmas/Parts/UI/IconDesc_Wreath_64.IconDesc_Wreath_64',\n   'mPersistentBigIcon': 'Texture2D /Game/FactoryGame/Events/Christmas/Parts/UI/IconDesc_Wreath_256.IconDesc_Wreath_256',\n   'mCrosshairMaterial': 'None',\n   'mDescriptorStatBars': '',\n   'mSubCategories': '',\n   'mMenuPriority': '0.000000',\n   'mFluidColor': '(B=0,G=0,R=0,A=0)',\n   'mGasColor': '(B=0,G=0,R=0,A=0)',\n   'mCompatibleItemDescriptors': '',\n   'mClassToScanFor': 'None',\n   'mScannableType': 'RTWOT_Default',\n   'mShouldOverrideScannerDisplayText': 'False',\n   'mScannerDisplayText': '',\n   'mScannerLightColor': '(B=0,G=0,R=0,A=0)',\n   'mResourceSinkPoints': '1'},\n  {'ClassName': 'Desc_ModularFrameFused_C',\n   'mDisplayName': 'Fused Modular Frame',\n   'mDescription': 'A corrosion resistant, nitride hardened, highly robust, yet lightweight modular frame.',\n   'mAbbreviatedDisplayName': '',\n   'mStackSize': 'SS_SMALL',\n   'mCanBeDiscarded': 'True',\n   'mRememberPickUp': 'False',\n   'mEnergyValue': '0.000000',\n   'mRadioactiveDecay': '0.000000',\n   'mForm': 'RF_SOLID',\n   'mSmallIcon': 'Texture2D /Game/FactoryGame/Resource/Parts/ModularFrameFused/UI/IconDesc_FusedModularFrame_64.IconDesc_FusedModularFrame_64',\n   'mPersistentBigIcon': 'Texture2D /Game/FactoryGame/Resource/Parts/ModularFrameFused/UI/IconDesc_FusedModularFrame_256.IconDesc_FusedModularFrame_256',\n   'mCrosshairMaterial': 'None',\n   'mDescriptorStatBars': '',\n   'mSubCategories': '',\n   'mMenuPriority': '0.000000',\n   'mFluidColor': '(B=0,G=0,R=0,A=0)',\n   'mGasColor': '(B=0,G=0,R=0,A=0)',\n   'mCompatibleItemDescriptors': '',\n   'mClassToScanFor': 'None',\n   'mScannableType': 'RTWOT_Default',\n   'mShouldOverrideScannerDisplayText': 'False',\n   'mScannerDisplayText': '',\n   'mScannerLightColor': '(B=0,G=0,R=0,A=0)',\n   'mResourceSinkPoints': '62840'},\n  {'ClassName': 'Desc_CircuitBoard_C',\n   'mDisplayName': 'Circuit Board',\n   'mDescription': 'Circuit Boards are advanced electronics that are used in a plethora of different ways.',\n   'mAbbreviatedDisplayName': '',\n   'mStackSize': 'SS_BIG',\n   'mCanBeDiscarded': 'True',\n   'mRememberPickUp': 'False',\n   'mEnergyValue': '0.000000',\n   'mRadioactiveDecay': '0.000000',\n   'mForm': 'RF_SOLID',\n   'mSmallIcon': 'Texture2D /Game/FactoryGame/Resource/Parts/CircuitBoard/UI/IconDesc_CircuitBoard_64.IconDesc_CircuitBoard_64',\n   'mPersistentBigIcon': 'Texture2D /Game/FactoryGame/Resource/Parts/CircuitBoard/UI/IconDesc_CircuitBoard_256.IconDesc_CircuitBoard_256',\n   'mCrosshairMaterial': 'None',\n   'mDescriptorStatBars': '',\n   'mSubCategories': '',\n   'mMenuPriority': '0.000000',\n   'mFluidColor': '(B=0,G=0,R=0,A=0)',\n   'mGasColor': '(B=0,G=0,R=0,A=0)',\n   'mCompatibleItemDescriptors': '',\n   'mClassToScanFor': 'None',\n   'mScannableType': 'RTWOT_Default',\n   'mShouldOverrideScannerDisplayText': 'False',\n   'mScannerDisplayText': '',\n   'mScannerLightColor': '(B=0,G=0,R=0,A=0)',\n   'mResourceSinkPoints': '696'},\n  {'ClassName': 'Desc_CopperSheet_C',\n   'mDisplayName': 'Copper Sheet',\n   'mDescription': 'Used for crafting.\\r\\nPrimarily used for pipelines due to its high corrosion resistance.',\n   'mAbbreviatedDisplayName': '',\n   'mStackSize': 'SS_BIG',\n   'mCanBeDiscarded': 'True',\n   'mRememberPickUp': 'False',\n   'mEnergyValue': '0.000000',\n   'mRadioactiveDecay': '0.000000',\n   'mForm': 'RF_SOLID',\n   'mSmallIcon': 'Texture2D /Game/FactoryGame/Resource/Parts/CopperSheet/UI/IconDesc_CopperSheet_64.IconDesc_CopperSheet_64',\n   'mPersistentBigIcon': 'Texture2D /Game/FactoryGame/Resource/Parts/CopperSheet/UI/IconDesc_CopperSheet_256.IconDesc_CopperSheet_256',\n   'mCrosshairMaterial': 'None',\n   'mDescriptorStatBars': '',\n   'mSubCategories': '',\n   'mMenuPriority': '0.000000',\n   'mFluidColor': '(B=0,G=0,R=0,A=0)',\n   'mGasColor': '(B=0,G=0,R=0,A=0)',\n   'mCompatibleItemDescriptors': '',\n   'mClassToScanFor': 'None',\n   'mScannableType': 'RTWOT_Default',\n   'mShouldOverrideScannerDisplayText': 'False',\n   'mScannerDisplayText': '',\n   'mScannerLightColor': '(B=0,G=0,R=0,A=0)',\n   'mResourceSinkPoints': '24'},\n  {'ClassName': 'Desc_CrystalOscillator_C',\n   'mDisplayName': 'Crystal Oscillator',\n   'mDescription': 'A crystal oscillator is an electronic oscillator circuit that uses the mechanical resonance of a vibrating crystal to create an electrical signal with a precise frequency.',\n   'mAbbreviatedDisplayName': '',\n   'mStackSize': 'SS_MEDIUM',\n   'mCanBeDiscarded': 'True',\n   'mRememberPickUp': 'False',\n   'mEnergyValue': '0.000000',\n   'mRadioactiveDecay': '0.000000',\n   'mForm': 'RF_SOLID',\n   'mSmallIcon': 'Texture2D /Game/FactoryGame/Resource/Parts/CrystalOscillator/UI/IconDesc_CrystalOscillator_64.IconDesc_CrystalOscillator_64',\n   'mPersistentBigIcon': 'Texture2D /Game/FactoryGame/Resource/Parts/CrystalOscillator/UI/IconDesc_CrystalOscillator_256.IconDesc_CrystalOscillator_256',\n   'mCrosshairMaterial': 'None',\n   'mDescriptorStatBars': '',\n   'mSubCategories': '',\n   'mMenuPriority': '0.000000',\n   'mFluidColor': '(B=0,G=0,R=0,A=0)',\n   'mGasColor': '(B=0,G=0,R=0,A=0)',\n   'mCompatibleItemDescriptors': '',\n   'mClassToScanFor': 'None',\n   'mScannableType': 'RTWOT_Default',\n   'mShouldOverrideScannerDisplayText': 'False',\n   'mScannerDisplayText': '',\n   'mScannerLightColor': '(B=0,G=0,R=0,A=0)',\n   'mResourceSinkPoints': '3072'},\n  {'ClassName': 'Desc_SpaceElevatorPart_1_C',\n   'mDisplayName': 'Smart Plating',\n   'mDescription': 'Project Part #1. Ship with the Space Elevator to complete phases of Project Assembly.',\n   'mAbbreviatedDisplayName': '',\n   'mStackSize': 'SS_SMALL',\n   'mCanBeDiscarded': 'True',\n   'mRememberPickUp': 'False',\n   'mEnergyValue': '0.000000',\n   'mRadioactiveDecay': '0.000000',\n   'mForm': 'RF_SOLID',\n   'mSmallIcon': 'Texture2D /Game/FactoryGame/Resource/Parts/SmartPlate/UI/IconDesc_SpelevatorPart_1_64.IconDesc_SpelevatorPart_1_64',\n   'mPersistentBigIcon': 'Texture2D /Game/FactoryGame/Resource/Parts/SmartPlate/UI/IconDesc_SpelevatorPart_1_256.IconDesc_SpelevatorPart_1_256',\n   'mCrosshairMaterial': 'None',\n   'mDescriptorStatBars': '',\n   'mSubCategories': '',\n   'mMenuPriority': '0.000000',\n   'mFluidColor': '(B=0,G=0,R=0,A=0)',\n   'mGasColor': '(B=0,G=0,R=0,A=0)',\n   'mCompatibleItemDescriptors': '',\n   'mClassToScanFor': 'None',\n   'mScannableType': 'RTWOT_Default',\n   'mShouldOverrideScannerDisplayText': 'False',\n   'mScannerDisplayText': '',\n   'mScannerLightColor': '(B=0,G=0,R=0,A=0)',\n   'mResourceSinkPoints': '520'},\n  {'ClassName': 'Desc_SpaceElevatorPart_2_C',\n   'mDisplayName': 'Versatile Framework',\n   'mDescription': 'Project Part #2. Ship with the Space Elevator to complete phases of Project Assembly.',\n   'mAbbreviatedDisplayName': '',\n   'mStackSize': 'SS_SMALL',\n   'mCanBeDiscarded': 'True',\n   'mRememberPickUp': 'False',\n   'mEnergyValue': '0.000000',\n   'mRadioactiveDecay': '0.000000',\n   'mForm': 'RF_SOLID',\n   'mSmallIcon': 'Texture2D /Game/FactoryGame/Resource/Parts/Skeletalframework/UI/IconDesc_SpelevatorPart_2_64.IconDesc_SpelevatorPart_2_64',\n   'mPersistentBigIcon': 'Texture2D /Game/FactoryGame/Resource/Parts/Skeletalframework/UI/IconDesc_SpelevatorPart_2_256.IconDesc_SpelevatorPart_2_256',\n   'mCrosshairMaterial': 'None',\n   'mDescriptorStatBars': '',\n   'mSubCategories': '',\n   'mMenuPriority': '0.000000',\n   'mFluidColor': '(B=0,G=0,R=0,A=0)',\n   'mGasColor': '(B=0,G=0,R=0,A=0)',\n   'mCompatibleItemDescriptors': '',\n   'mClassToScanFor': 'None',\n   'mScannableType': 'RTWOT_Default',\n   'mShouldOverrideScannerDisplayText': 'False',\n   'mScannerDisplayText': '',\n   'mScannerLightColor': '(B=0,G=0,R=0,A=0)',\n   'mResourceSinkPoints': '1176'},\n  {'ClassName': 'Desc_SpaceElevatorPart_3_C',\n   'mDisplayName': 'Automated Wiring',\n   'mDescription': 'Project Part #3. Ship with the Space Elevator to complete phases of Project Assembly.',\n   'mAbbreviatedDisplayName': '',\n   'mStackSize': 'SS_SMALL',\n   'mCanBeDiscarded': 'True',\n   'mRememberPickUp': 'False',\n   'mEnergyValue': '0.000000',\n   'mRadioactiveDecay': '0.000000',\n   'mForm': 'RF_SOLID',\n   'mSmallIcon': 'Texture2D /Game/FactoryGame/Resource/Parts/AutomatedWiring/UI/SpelevatorPart_3_64.SpelevatorPart_3_64',\n   'mPersistentBigIcon': 'Texture2D /Game/FactoryGame/Resource/Parts/AutomatedWiring/UI/SpelevatorPart_3_256.SpelevatorPart_3_256',\n   'mCrosshairMaterial': 'None',\n   'mDescriptorStatBars': '',\n   'mSubCategories': '',\n   'mMenuPriority': '0.000000',\n   'mFluidColor': '(B=0,G=0,R=0,A=0)',\n   'mGasColor': '(B=0,G=0,R=0,A=0)',\n   'mCompatibleItemDescriptors': '',\n   'mClassToScanFor': 'None',\n   'mScannableType': 'RTWOT_Default',\n   'mShouldOverrideScannerDisplayText': 'False',\n   'mScannerDisplayText': '',\n   'mScannerLightColor': '(B=0,G=0,R=0,A=0)',\n   'mResourceSinkPoints': '1440'},\n  {'ClassName': 'Desc_SpaceElevatorPart_4_C',\n   'mDisplayName': 'Modular Engine',\n   'mDescription': 'Project Part #4. Ship with the Space Elevator to complete phases of Project Assembly.',\n   'mAbbreviatedDisplayName': '',\n   'mStackSize': 'SS_SMALL',\n   'mCanBeDiscarded': 'True',\n   'mRememberPickUp': 'False',\n   'mEnergyValue': '0.000000',\n   'mRadioactiveDecay': '0.000000',\n   'mForm': 'RF_SOLID',\n   'mSmallIcon': 'Texture2D /Game/FactoryGame/Resource/Parts/ModularEngine/UI/IconDesc_SpelevatorPart_4_64.IconDesc_SpelevatorPart_4_64',\n   'mPersistentBigIcon': 'Texture2D /Game/FactoryGame/Resource/Parts/ModularEngine/UI/IconDesc_SpelevatorPart_4_256.IconDesc_SpelevatorPart_4_256',\n   'mCrosshairMaterial': 'None',\n   'mDescriptorStatBars': '',\n   'mSubCategories': '',\n   'mMenuPriority': '0.000000',\n   'mFluidColor': '(B=0,G=0,R=0,A=0)',\n   'mGasColor': '(B=0,G=0,R=0,A=0)',\n   'mCompatibleItemDescriptors': '',\n   'mClassToScanFor': 'None',\n   'mScannableType': 'RTWOT_Default',\n   'mShouldOverrideScannerDisplayText': 'False',\n   'mScannerDisplayText': '',\n   'mScannerLightColor': '(B=0,G=0,R=0,A=0)',\n   'mResourceSinkPoints': '9960'},\n  {'ClassName': 'Desc_PackagedWater_C',\n   'mDisplayName': 'Packaged Water',\n   'mDescription': 'Water, packaged for alternative transport.',\n   'mAbbreviatedDisplayName': 'H2O',\n   'mStackSize': 'SS_MEDIUM',\n   'mCanBeDiscarded': 'True',\n   'mRememberPickUp': 'False',\n   'mEnergyValue': '0.000000',\n   'mRadioactiveDecay': '0.000000',\n   'mForm': 'RF_SOLID',\n   'mSmallIcon': 'Texture2D /Game/FactoryGame/Resource/Parts/PackagedWater/UI/IconDesc_PackagedWater_64.IconDesc_PackagedWater_64',\n   'mPersistentBigIcon': 'Texture2D /Game/FactoryGame/Resource/Parts/PackagedWater/UI/IconDesc_PackagedWater_256.IconDesc_PackagedWater_256',\n   'mCrosshairMaterial': 'None',\n   'mDescriptorStatBars': '',\n   'mSubCategories': '',\n   'mMenuPriority': '0.000000',\n   'mFluidColor': '(B=212,G=176,R=122,A=255)',\n   'mGasColor': '(B=0,G=0,R=0,A=0)',\n   'mCompatibleItemDescriptors': '',\n   'mClassToScanFor': 'None',\n   'mScannableType': 'RTWOT_Default',\n   'mShouldOverrideScannerDisplayText': 'False',\n   'mScannerDisplayText': '',\n   'mScannerLightColor': '(B=0,G=0,R=0,A=0)',\n   'mResourceSinkPoints': '130'},\n  {'ClassName': 'Desc_AlienDNACapsule_C',\n   'mDisplayName': 'Alien DNA Capsule',\n   'mDescription': 'This data capsule translates organic chemicals into readable alien genetics information.\\r\\nUsed for researching alien organisms.\\r\\n\\r\\nGo the extra kilometer! Knowledge is power, and power is just efficiency with fewer steps. Depositing Alien DNA Capsules in the AWESOME Sink provides FICSIT with knowledge, and Pioneers with Coupons.',\n   'mAbbreviatedDisplayName': '',\n   'mStackSize': 'SS_SMALL',\n   'mCanBeDiscarded': 'True',\n   'mRememberPickUp': 'False',\n   'mEnergyValue': '0.000000',\n   'mRadioactiveDecay': '0.000000',\n   'mForm': 'RF_SOLID',\n   'mSmallIcon': 'Texture2D /Game/FactoryGame/Resource/Parts/AlienDNACapsule/UI/IconDesc_AlienDNA_64.IconDesc_AlienDNA_64',\n   'mPersistentBigIcon': 'Texture2D /Game/FactoryGame/Resource/Parts/AlienDNACapsule/UI/IconDesc_AlienDNA_256.IconDesc_AlienDNA_256',\n   'mCrosshairMaterial': 'None',\n   'mDescriptorStatBars': '',\n   'mSubCategories': '',\n   'mMenuPriority': '10.000000',\n   'mFluidColor': '(B=0,G=0,R=0,A=0)',\n   'mGasColor': '(B=0,G=0,R=0,A=0)',\n   'mCompatibleItemDescriptors': '',\n   'mClassToScanFor': 'None',\n   'mScannableType': 'RTWOT_Default',\n   'mShouldOverrideScannerDisplayText': 'False',\n   'mScannerDisplayText': '',\n   'mScannerLightColor': '(B=0,G=0,R=0,A=0)',\n   'mResourceSinkPoints': '0'},\n  {'ClassName': 'Desc_HighSpeedConnector_C',\n   'mDisplayName': 'High-Speed Connector',\n   'mDescription': 'The high-speed connector connects several cables and wires in a very efficient way. Uses a standard pattern so its applications are many and varied.',\n   'mAbbreviatedDisplayName': '',\n   'mStackSize': 'SS_MEDIUM',\n   'mCanBeDiscarded': 'True',\n   'mRememberPickUp': 'False',\n   'mEnergyValue': '0.000000',\n   'mRadioactiveDecay': '0.000000',\n   'mForm': 'RF_SOLID',\n   'mSmallIcon': 'Texture2D /Game/FactoryGame/Resource/Parts/HighSpeedConnector/UI/IconDesc_HighSpeedConnector_64.IconDesc_HighSpeedConnector_64',\n   'mPersistentBigIcon': 'Texture2D /Game/FactoryGame/Resource/Parts/HighSpeedConnector/UI/IconDesc_HighSpeedConnector_256.IconDesc_HighSpeedConnector_256',\n   'mCrosshairMaterial': 'None',\n   'mDescriptorStatBars': '',\n   'mSubCategories': '',\n   'mMenuPriority': '0.000000',\n   'mFluidColor': '(B=0,G=0,R=0,A=0)',\n   'mGasColor': '(B=0,G=0,R=0,A=0)',\n   'mCompatibleItemDescriptors': '',\n   'mClassToScanFor': 'None',\n   'mScannableType': 'RTWOT_Default',\n   'mShouldOverrideScannerDisplayText': 'False',\n   'mScannerDisplayText': '',\n   'mScannerLightColor': '(B=0,G=0,R=0,A=0)',\n   'mResourceSinkPoints': '3776'},\n  {'ClassName': 'Desc_Motor_C',\n   'mDisplayName': 'Motor',\n   'mDescription': 'The Motor creates a mechanical force that is used to move things from machines to vehicles.',\n   'mAbbreviatedDisplayName': '',\n   'mStackSize': 'SS_SMALL',\n   'mCanBeDiscarded': 'True',\n   'mRememberPickUp': 'False',\n   'mEnergyValue': '0.000000',\n   'mRadioactiveDecay': '0.000000',\n   'mForm': 'RF_SOLID',\n   'mSmallIcon': 'Texture2D /Game/FactoryGame/Resource/Parts/Motor/UI/IconDesc_Engine_64.IconDesc_Engine_64',\n   'mPersistentBigIcon': 'Texture2D /Game/FactoryGame/Resource/Parts/Motor/UI/IconDesc_Engine_256.IconDesc_Engine_256',\n   'mCrosshairMaterial': 'None',\n   'mDescriptorStatBars': '',\n   'mSubCategories': '',\n   'mMenuPriority': '0.000000',\n   'mFluidColor': '(B=0,G=0,R=0,A=0)',\n   'mGasColor': '(B=0,G=0,R=0,A=0)',\n   'mCompatibleItemDescriptors': '',\n   'mClassToScanFor': 'None',\n   'mScannableType': 'RTWOT_Default',\n   'mShouldOverrideScannerDisplayText': 'False',\n   'mScannerDisplayText': '',\n   'mScannerLightColor': '(B=0,G=0,R=0,A=0)',\n   'mResourceSinkPoints': '1520'},\n  {'ClassName': 'Desc_SpaceElevatorPart_5_C',\n   'mDisplayName': 'Adaptive Control Unit',\n   'mDescription': 'Project Part #5. Ship with the Space Elevator to complete phases of Project Assembly.',\n   'mAbbreviatedDisplayName': '',\n   'mStackSize': 'SS_SMALL',\n   'mCanBeDiscarded': 'True',\n   'mRememberPickUp': 'False',\n   'mEnergyValue': '0.000000',\n   'mRadioactiveDecay': '0.000000',\n   'mForm': 'RF_SOLID',\n   'mSmallIcon': 'Texture2D /Game/FactoryGame/Resource/Parts/ControlSystem/UI/IconDesc_SpelevatorPart_5_64.IconDesc_SpelevatorPart_5_64',\n   'mPersistentBigIcon': 'Texture2D /Game/FactoryGame/Resource/Parts/ControlSystem/UI/IconDesc_SpelevatorPart_5_256.IconDesc_SpelevatorPart_5_256',\n   'mCrosshairMaterial': 'None',\n   'mDescriptorStatBars': '',\n   'mSubCategories': '',\n   'mMenuPriority': '0.000000',\n   'mFluidColor': '(B=0,G=0,R=0,A=0)',\n   'mGasColor': '(B=0,G=0,R=0,A=0)',\n   'mCompatibleItemDescriptors': '',\n   'mClassToScanFor': 'None',\n   'mScannableType': 'RTWOT_Default',\n   'mShouldOverrideScannerDisplayText': 'False',\n   'mScannerDisplayText': '',\n   'mScannerLightColor': '(B=0,G=0,R=0,A=0)',\n   'mResourceSinkPoints': '86120'},\n  {'ClassName': 'Desc_SpaceElevatorPart_6_C',\n   'mDisplayName': 'Magnetic Field Generator',\n   'mDescription': 'Project Part #7. Ship with the Space Elevator to complete phases of Project Assembly.\\r\\n\\r\\nThese modular generators use superconducting magnets and vast amounts of electricity to produce an easily expandable and powerful magnetic field.',\n   'mAbbreviatedDisplayName': '',\n   'mStackSize': 'SS_SMALL',\n   'mCanBeDiscarded': 'True',\n   'mRememberPickUp': 'False',\n   'mEnergyValue': '0.000000',\n   'mRadioactiveDecay': '0.000000',\n   'mForm': 'RF_SOLID',\n   'mSmallIcon': 'Texture2D /Game/FactoryGame/Resource/Parts/MagneticFieldGenerator/UI/IconDesc_MagneticFieldGenerator_64.IconDesc_MagneticFieldGenerator_64',\n   'mPersistentBigIcon': 'Texture2D /Game/FactoryGame/Resource/Parts/MagneticFieldGenerator/UI/IconDesc_MagneticFieldGenerator_256.IconDesc_MagneticFieldGenerator_256',\n   'mCrosshairMaterial': 'None',\n   'mDescriptorStatBars': '',\n   'mSubCategories': '',\n   'mMenuPriority': '0.000000',\n   'mFluidColor': '(B=0,G=0,R=0,A=0)',\n   'mGasColor': '(B=0,G=0,R=0,A=0)',\n   'mCompatibleItemDescriptors': '',\n   'mClassToScanFor': 'None',\n   'mScannableType': 'RTWOT_Default',\n   'mShouldOverrideScannerDisplayText': 'False',\n   'mScannerDisplayText': '',\n   'mScannerLightColor': '(B=0,G=0,R=0,A=0)',\n   'mResourceSinkPoints': '15650'},\n  {'ClassName': 'Desc_SpaceElevatorPart_7_C',\n   'mDisplayName': 'Assembly Director System',\n   'mDescription': 'Project Part #6. Ship with the Space Elevator to complete phases of Project Assembly.\\r\\n\\r\\nThis extremely fast and precise computing system is specifically designed to direct the Project Assembly: Assembly Phase.',\n   'mAbbreviatedDisplayName': '',\n   'mStackSize': 'SS_SMALL',\n   'mCanBeDiscarded': 'True',\n   'mRememberPickUp': 'False',\n   'mEnergyValue': '0.000000',\n   'mRadioactiveDecay': '0.000000',\n   'mForm': 'RF_SOLID',\n   'mSmallIcon': 'Texture2D /Game/FactoryGame/Resource/Parts/AssemblyControlUnit/UI/IconDesc_AssemblyDirectorSystem_64.IconDesc_AssemblyDirectorSystem_64',\n   'mPersistentBigIcon': 'Texture2D /Game/FactoryGame/Resource/Parts/AssemblyControlUnit/UI/IconDesc_AssemblyDirectorSystem_256.IconDesc_AssemblyDirectorSystem_256',\n   'mCrosshairMaterial': 'None',\n   'mDescriptorStatBars': '',\n   'mSubCategories': '',\n   'mMenuPriority': '0.000000',\n   'mFluidColor': '(B=0,G=0,R=0,A=0)',\n   'mGasColor': '(B=0,G=0,R=0,A=0)',\n   'mCompatibleItemDescriptors': '',\n   'mClassToScanFor': 'None',\n   'mScannableType': 'RTWOT_Default',\n   'mShouldOverrideScannerDisplayText': 'False',\n   'mScannerDisplayText': '',\n   'mScannerLightColor': '(B=0,G=0,R=0,A=0)',\n   'mResourceSinkPoints': '543632'},\n  {'ClassName': 'Desc_SpaceElevatorPart_8_C',\n   'mDisplayName': 'Thermal Propulsion Rocket',\n   'mDescription': 'Project Part #8. Ship with the Space Elevator to complete phases of Project Assembly.\\r\\n\\r\\nUses extreme heat to produce the high pressure plasma required to get Project Assembly into motion.',\n   'mAbbreviatedDisplayName': '',\n   'mStackSize': 'SS_SMALL',\n   'mCanBeDiscarded': 'True',\n   'mRememberPickUp': 'False',\n   'mEnergyValue': '0.000000',\n   'mRadioactiveDecay': '0.000000',\n   'mForm': 'RF_SOLID',\n   'mSmallIcon': 'Texture2D /Game/FactoryGame/Resource/Parts/ThermalAntimatterPropulsionRocket/UI/IconDesc_ThermalPropulsionRocket_64.IconDesc_ThermalPropulsionRocket_64',\n   'mPersistentBigIcon': 'Texture2D /Game/FactoryGame/Resource/Parts/ThermalAntimatterPropulsionRocket/UI/IconDesc_ThermalPropulsionRocket_256.IconDesc_ThermalPropulsionRocket_256',\n   'mCrosshairMaterial': 'None',\n   'mDescriptorStatBars': '',\n   'mSubCategories': '',\n   'mMenuPriority': '0.000000',\n   'mFluidColor': '(B=0,G=0,R=0,A=0)',\n   'mGasColor': '(B=0,G=0,R=0,A=0)',\n   'mCompatibleItemDescriptors': '',\n   'mClassToScanFor': 'None',\n   'mScannableType': 'RTWOT_Default',\n   'mShouldOverrideScannerDisplayText': 'False',\n   'mScannerDisplayText': '',\n   'mScannerLightColor': '(B=0,G=0,R=0,A=0)',\n   'mResourceSinkPoints': '732956'},\n  {'ClassName': 'Desc_SpaceElevatorPart_9_C',\n   'mDisplayName': 'Nuclear Pasta',\n   'mDescription': 'Project Part #9. Ship with the Space Elevator to complete phases of Project Assembly.\\r\\nPower Usage: 500-1500 MW (1000 MW average).\\r\\n\\r\\nNuclear Pasta is extremely dense degenerate matter, formed when extreme pressure forces protons and electrons together into neutrons. It is theorized to exist naturally within the crust of neutron stars.',\n   'mAbbreviatedDisplayName': '',\n   'mStackSize': 'SS_SMALL',\n   'mCanBeDiscarded': 'True',\n   'mRememberPickUp': 'False',\n   'mEnergyValue': '0.000000',\n   'mRadioactiveDecay': '0.000000',\n   'mForm': 'RF_SOLID',\n   'mSmallIcon': 'Texture2D /Game/FactoryGame/Resource/Parts/NuclearPasta/UI/IconDesc_NuclearPasta_64.IconDesc_NuclearPasta_64',\n   'mPersistentBigIcon': 'Texture2D /Game/FactoryGame/Resource/Parts/NuclearPasta/UI/IconDesc_NuclearPasta_256.IconDesc_NuclearPasta_256',\n   'mCrosshairMaterial': 'None',\n   'mDescriptorStatBars': '',\n   'mSubCategories': '',\n   'mMenuPriority': '0.000000',\n   'mFluidColor': '(B=0,G=0,R=0,A=0)',\n   'mGasColor': '(B=0,G=0,R=0,A=0)',\n   'mCompatibleItemDescriptors': '',\n   'mClassToScanFor': 'None',\n   'mScannableType': 'RTWOT_Default',\n   'mShouldOverrideScannerDisplayText': 'False',\n   'mScannerDisplayText': '',\n   'mScannerLightColor': '(B=0,G=0,R=0,A=0)',\n   'mResourceSinkPoints': '543424'},\n  {'ClassName': 'Desc_IronIngot_C',\n   'mDisplayName': 'Iron Ingot',\n   'mDescription': 'Used for crafting.\\r\\nCrafted into the most basic parts.',\n   'mAbbreviatedDisplayName': 'Iron',\n   'mStackSize': 'SS_MEDIUM',\n   'mCanBeDiscarded': 'True',\n   'mRememberPickUp': 'False',\n   'mEnergyValue': '0.000000',\n   'mRadioactiveDecay': '0.000000',\n   'mForm': 'RF_SOLID',\n   'mSmallIcon': 'Texture2D /Game/FactoryGame/Resource/Parts/IronIngot/UI/IconDesc_IronIngot_64.IconDesc_IronIngot_64',\n   'mPersistentBigIcon': 'Texture2D /Game/FactoryGame/Resource/Parts/IronIngot/UI/IconDesc_IronIngot_256.IconDesc_IronIngot_256',\n   'mCrosshairMaterial': 'None',\n   'mDescriptorStatBars': '',\n   'mSubCategories': '',\n   'mMenuPriority': '0.000000',\n   'mFluidColor': '(B=0,G=0,R=0,A=0)',\n   'mGasColor': '(B=0,G=0,R=0,A=0)',\n   'mCompatibleItemDescriptors': '',\n   'mClassToScanFor': 'None',\n   'mScannableType': 'RTWOT_Default',\n   'mShouldOverrideScannerDisplayText': 'False',\n   'mScannerDisplayText': '',\n   'mScannerLightColor': '(B=0,G=0,R=0,A=0)',\n   'mResourceSinkPoints': '2'},\n  {'ClassName': 'Desc_AluminumPlate_C',\n   'mDisplayName': 'Alclad Aluminum Sheet',\n   'mDescription': 'Thin, lightweight, and highly durable sheets that are mainly used for products that require high heat conduction or a high specific strength.',\n   'mAbbreviatedDisplayName': '',\n   'mStackSize': 'SS_BIG',\n   'mCanBeDiscarded': 'True',\n   'mRememberPickUp': 'False',\n   'mEnergyValue': '0.000000',\n   'mRadioactiveDecay': '0.000000',\n   'mForm': 'RF_SOLID',\n   'mSmallIcon': 'Texture2D /Game/FactoryGame/Resource/Parts/AluminumPlate/UI/IconDesc_AluminiumSheet_64.IconDesc_AluminiumSheet_64',\n   'mPersistentBigIcon': 'Texture2D /Game/FactoryGame/Resource/Parts/AluminumPlate/UI/IconDesc_AluminiumSheet_256.IconDesc_AluminiumSheet_256',\n   'mCrosshairMaterial': 'None',\n   'mDescriptorStatBars': '',\n   'mSubCategories': '',\n   'mMenuPriority': '0.000000',\n   'mFluidColor': '(B=0,G=0,R=0,A=0)',\n   'mGasColor': '(B=0,G=0,R=0,A=0)',\n   'mCompatibleItemDescriptors': '',\n   'mClassToScanFor': 'None',\n   'mScannableType': 'RTWOT_Default',\n   'mShouldOverrideScannerDisplayText': 'False',\n   'mScannerDisplayText': '',\n   'mScannerLightColor': '(B=0,G=0,R=0,A=0)',\n   'mResourceSinkPoints': '266'},\n  {'ClassName': 'Desc_Rotor_C',\n   'mDisplayName': 'Rotor',\n   'mDescription': 'Used for crafting.\\r\\nThe moving parts of a motor.',\n   'mAbbreviatedDisplayName': '',\n   'mStackSize': 'SS_MEDIUM',\n   'mCanBeDiscarded': 'True',\n   'mRememberPickUp': 'False',\n   'mEnergyValue': '0.000000',\n   'mRadioactiveDecay': '0.000000',\n   'mForm': 'RF_SOLID',\n   'mSmallIcon': 'Texture2D /Game/FactoryGame/Resource/Parts/Rotor/UI/IconDesc_Rotor_64.IconDesc_Rotor_64',\n   'mPersistentBigIcon': 'Texture2D /Game/FactoryGame/Resource/Parts/Rotor/UI/IconDesc_Rotor_256.IconDesc_Rotor_256',\n   'mCrosshairMaterial': 'None',\n   'mDescriptorStatBars': '',\n   'mSubCategories': '',\n   'mMenuPriority': '0.000000',\n   'mFluidColor': '(B=0,G=0,R=0,A=0)',\n   'mGasColor': '(B=0,G=0,R=0,A=0)',\n   'mCompatibleItemDescriptors': '',\n   'mClassToScanFor': 'None',\n   'mScannableType': 'RTWOT_Default',\n   'mShouldOverrideScannerDisplayText': 'False',\n   'mScannerDisplayText': '',\n   'mScannerLightColor': '(B=0,G=0,R=0,A=0)',\n   'mResourceSinkPoints': '140'},\n  {'ClassName': 'Desc_Rubber_C',\n   'mDisplayName': 'Rubber',\n   'mDescription': 'Rubber is a material that is very flexible and has a lot of friction.',\n   'mAbbreviatedDisplayName': '',\n   'mStackSize': 'SS_BIG',\n   'mCanBeDiscarded': 'True',\n   'mRememberPickUp': 'False',\n   'mEnergyValue': '0.000000',\n   'mRadioactiveDecay': '0.000000',\n   'mForm': 'RF_SOLID',\n   'mSmallIcon': 'Texture2D /Game/FactoryGame/Resource/Parts/Rubber/UI/IconDesc_Rubber_64.IconDesc_Rubber_64',\n   'mPersistentBigIcon': 'Texture2D /Game/FactoryGame/Resource/Parts/Rubber/UI/IconDesc_Rubber_256.IconDesc_Rubber_256',\n   'mCrosshairMaterial': 'None',\n   'mDescriptorStatBars': '',\n   'mSubCategories': '',\n   'mMenuPriority': '0.000000',\n   'mFluidColor': '(B=0,G=0,R=0,A=0)',\n   'mGasColor': '(B=0,G=0,R=0,A=0)',\n   'mCompatibleItemDescriptors': '',\n   'mClassToScanFor': 'None',\n   'mScannableType': 'RTWOT_Default',\n   'mShouldOverrideScannerDisplayText': 'False',\n   'mScannerDisplayText': '',\n   'mScannerLightColor': '(B=0,G=0,R=0,A=0)',\n   'mResourceSinkPoints': '60'},\n  {'ClassName': 'Desc_Plastic_C',\n   'mDisplayName': 'Plastic',\n   'mDescription': 'A versatile and easy to manufacture material that can be used for a lot of things.',\n   'mAbbreviatedDisplayName': '',\n   'mStackSize': 'SS_BIG',\n   'mCanBeDiscarded': 'True',\n   'mRememberPickUp': 'False',\n   'mEnergyValue': '0.000000',\n   'mRadioactiveDecay': '0.000000',\n   'mForm': 'RF_SOLID',\n   'mSmallIcon': 'Texture2D /Game/FactoryGame/Resource/Parts/Plastic/UI/IconDesc_Plastic_64.IconDesc_Plastic_64',\n   'mPersistentBigIcon': 'Texture2D /Game/FactoryGame/Resource/Parts/Plastic/UI/IconDesc_Plastic_256.IconDesc_Plastic_256',\n   'mCrosshairMaterial': 'None',\n   'mDescriptorStatBars': '',\n   'mSubCategories': '',\n   'mMenuPriority': '0.000000',\n   'mFluidColor': '(B=0,G=0,R=0,A=0)',\n   'mGasColor': '(B=0,G=0,R=0,A=0)',\n   'mCompatibleItemDescriptors': '',\n   'mClassToScanFor': 'None',\n   'mScannableType': 'RTWOT_Default',\n   'mShouldOverrideScannerDisplayText': 'False',\n   'mScannerDisplayText': '',\n   'mScannerLightColor': '(B=0,G=0,R=0,A=0)',\n   'mResourceSinkPoints': '75'},\n  {'ClassName': 'Desc_SteelPlateReinforced_C',\n   'mDisplayName': 'Encased Industrial Beam',\n   'mDescription': 'Encased Industrial Beams utilizes the compressive strength of concrete and tensile strength of steel simultaneously.\\r\\nMostly used as a stable basis for constructing buildings.',\n   'mAbbreviatedDisplayName': '',\n   'mStackSize': 'SS_MEDIUM',\n   'mCanBeDiscarded': 'True',\n   'mRememberPickUp': 'False',\n   'mEnergyValue': '0.000000',\n   'mRadioactiveDecay': '0.000000',\n   'mForm': 'RF_SOLID',\n   'mSmallIcon': 'Texture2D /Game/FactoryGame/Resource/Parts/SteelPlateReinforced/UI/IconDesc_EncasedSteelBeam_64.IconDesc_EncasedSteelBeam_64',\n   'mPersistentBigIcon': 'Texture2D /Game/FactoryGame/Resource/Parts/SteelPlateReinforced/UI/IconDesc_EncasedSteelBeam_256.IconDesc_EncasedSteelBeam_256',\n   'mCrosshairMaterial': 'None',\n   'mDescriptorStatBars': '',\n   'mSubCategories': '',\n   'mMenuPriority': '0.000000',\n   'mFluidColor': '(B=0,G=0,R=0,A=0)',\n   'mGasColor': '(B=0,G=0,R=0,A=0)',\n   'mCompatibleItemDescriptors': '',\n   'mClassToScanFor': 'None',\n   'mScannableType': 'RTWOT_Default',\n   'mShouldOverrideScannerDisplayText': 'False',\n   'mScannerDisplayText': '',\n   'mScannerLightColor': '(B=0,G=0,R=0,A=0)',\n   'mResourceSinkPoints': '632'},\n  {'ClassName': 'Desc_SteelPipe_C',\n   'mDisplayName': 'Steel Pipe',\n   'mDescription': 'Steel Pipes are used most often when constructing a little more advanced buildings.',\n   'mAbbreviatedDisplayName': '',\n   'mStackSize': 'SS_BIG',\n   'mCanBeDiscarded': 'True',\n   'mRememberPickUp': 'False',\n   'mEnergyValue': '0.000000',\n   'mRadioactiveDecay': '0.000000',\n   'mForm': 'RF_SOLID',\n   'mSmallIcon': 'Texture2D /Game/FactoryGame/Resource/Parts/SteelPipe/UI/IconDesc_SteelPipe_64.IconDesc_SteelPipe_64',\n   'mPersistentBigIcon': 'Texture2D /Game/FactoryGame/Resource/Parts/SteelPipe/UI/IconDesc_SteelPipe_256.IconDesc_SteelPipe_256',\n   'mCrosshairMaterial': 'None',\n   'mDescriptorStatBars': '',\n   'mSubCategories': '',\n   'mMenuPriority': '0.000000',\n   'mFluidColor': '(B=0,G=0,R=0,A=0)',\n   'mGasColor': '(B=0,G=0,R=0,A=0)',\n   'mCompatibleItemDescriptors': '',\n   'mClassToScanFor': 'None',\n   'mScannableType': 'RTWOT_Default',\n   'mShouldOverrideScannerDisplayText': 'False',\n   'mScannerDisplayText': '',\n   'mScannerLightColor': '(B=0,G=0,R=0,A=0)',\n   'mResourceSinkPoints': '24'},\n  {'ClassName': 'Desc_LiquidFuel_C',\n   'mDisplayName': 'Fuel',\n   'mDescription': 'Fuel can be used to generate power or packaged to be used as fuel for Vehicles or the Jetpack.',\n   'mAbbreviatedDisplayName': 'Fuel',\n   'mStackSize': 'SS_FLUID',\n   'mCanBeDiscarded': 'True',\n   'mRememberPickUp': 'False',\n   'mEnergyValue': '0.750000',\n   'mRadioactiveDecay': '0.000000',\n   'mForm': 'RF_LIQUID',\n   'mSmallIcon': 'Texture2D /Game/FactoryGame/Resource/Parts/Fuel/UI/IconDesc_LiquidFuel_Pipe_256.IconDesc_LiquidFuel_Pipe_256',\n   'mPersistentBigIcon': 'Texture2D /Game/FactoryGame/Resource/Parts/Fuel/UI/IconDesc_LiquidFuel_Pipe_512.IconDesc_LiquidFuel_Pipe_512',\n   'mCrosshairMaterial': 'None',\n   'mDescriptorStatBars': '',\n   'mSubCategories': '',\n   'mMenuPriority': '0.000000',\n   'mFluidColor': '(B=21,G=125,R=235,A=255)',\n   'mGasColor': '(B=0,G=0,R=0,A=0)',\n   'mCompatibleItemDescriptors': '',\n   'mClassToScanFor': 'None',\n   'mScannableType': 'RTWOT_Default',\n   'mShouldOverrideScannerDisplayText': 'False',\n   'mScannerDisplayText': '',\n   'mScannerLightColor': '(B=0,G=0,R=0,A=0)',\n   'mResourceSinkPoints': '75'},\n  {'ClassName': 'Desc_PolymerResin_C',\n   'mDisplayName': 'Polymer Resin',\n   'mDescription': 'Used for crafting.\\r\\nA by-product of oil refinement into fuel. Commonly used to manufacture plastics.',\n   'mAbbreviatedDisplayName': '',\n   'mStackSize': 'SS_BIG',\n   'mCanBeDiscarded': 'True',\n   'mRememberPickUp': 'False',\n   'mEnergyValue': '0.000000',\n   'mRadioactiveDecay': '0.000000',\n   'mForm': 'RF_SOLID',\n   'mSmallIcon': 'Texture2D /Game/FactoryGame/Resource/Parts/PolymerResin/UI/IconDesc_PolymerResin_64.IconDesc_PolymerResin_64',\n   'mPersistentBigIcon': 'Texture2D /Game/FactoryGame/Resource/Parts/PolymerResin/UI/IconDesc_PolymerResin_256.IconDesc_PolymerResin_256',\n   'mCrosshairMaterial': 'None',\n   'mDescriptorStatBars': '',\n   'mSubCategories': '',\n   'mMenuPriority': '0.000000',\n   'mFluidColor': '(B=0,G=0,R=0,A=0)',\n   'mGasColor': '(B=0,G=0,R=0,A=0)',\n   'mCompatibleItemDescriptors': '',\n   'mClassToScanFor': 'None',\n   'mScannableType': 'RTWOT_Default',\n   'mShouldOverrideScannerDisplayText': 'False',\n   'mScannerDisplayText': '',\n   'mScannerLightColor': '(B=0,G=0,R=0,A=0)',\n   'mResourceSinkPoints': '12'},\n  {'ClassName': 'Desc_HeavyOilResidue_C',\n   'mDisplayName': 'Heavy Oil Residue',\n   'mDescription': 'A by-product of Plastic and Rubber production. Can be further refined into Fuel and Petroleum Coke.',\n   'mAbbreviatedDisplayName': 'HOR',\n   'mStackSize': 'SS_FLUID',\n   'mCanBeDiscarded': 'True',\n   'mRememberPickUp': 'False',\n   'mEnergyValue': '0.400000',\n   'mRadioactiveDecay': '0.000000',\n   'mForm': 'RF_LIQUID',\n   'mSmallIcon': 'Texture2D /Game/FactoryGame/Resource/Parts/HeavyOilResidue/UI/IconDesc_LiquidHeavyOilResidue_Pipe_256.IconDesc_LiquidHeavyOilResidue_Pipe_256',\n   'mPersistentBigIcon': 'Texture2D /Game/FactoryGame/Resource/Parts/HeavyOilResidue/UI/IconDesc_LiquidHeavyOilResidue_Pipe_512.IconDesc_LiquidHeavyOilResidue_Pipe_512',\n   'mCrosshairMaterial': 'None',\n   'mDescriptorStatBars': '',\n   'mSubCategories': '',\n   'mMenuPriority': '0.000000',\n   'mFluidColor': '(B=120,G=45,R=109,A=255)',\n   'mGasColor': '(B=0,G=0,R=0,A=0)',\n   'mCompatibleItemDescriptors': '',\n   'mClassToScanFor': 'None',\n   'mScannableType': 'RTWOT_Default',\n   'mShouldOverrideScannerDisplayText': 'False',\n   'mScannerDisplayText': '',\n   'mScannerLightColor': '(B=0,G=0,R=0,A=0)',\n   'mResourceSinkPoints': '30'},\n  {'ClassName': 'Desc_PetroleumCoke_C',\n   'mDisplayName': 'Petroleum Coke',\n   'mDescription': 'Used for crafting.\\r\\nA carbon-rich material distilled from Heavy Oil Residue. \\r\\nUsed as a less efficient coal replacement or for aluminum refinement.',\n   'mAbbreviatedDisplayName': 'Coke',\n   'mStackSize': 'SS_BIG',\n   'mCanBeDiscarded': 'True',\n   'mRememberPickUp': 'False',\n   'mEnergyValue': '180.000000',\n   'mRadioactiveDecay': '0.000000',\n   'mForm': 'RF_SOLID',\n   'mSmallIcon': 'Texture2D /Game/FactoryGame/Resource/Parts/PetroleumCoke/UI/IconDesc_PetroleumCoke_64.IconDesc_PetroleumCoke_64',\n   'mPersistentBigIcon': 'Texture2D /Game/FactoryGame/Resource/Parts/PetroleumCoke/UI/IconDesc_PetroleumCoke_256.IconDesc_PetroleumCoke_256',\n   'mCrosshairMaterial': 'None',\n   'mDescriptorStatBars': '',\n   'mSubCategories': '',\n   'mMenuPriority': '0.000000',\n   'mFluidColor': '(B=0,G=0,R=0,A=0)',\n   'mGasColor': '(B=0,G=0,R=0,A=0)',\n   'mCompatibleItemDescriptors': '',\n   'mClassToScanFor': 'None',\n   'mScannableType': 'RTWOT_Default',\n   'mShouldOverrideScannerDisplayText': 'False',\n   'mScannerDisplayText': '',\n   'mScannerLightColor': '(B=0,G=0,R=0,A=0)',\n   'mResourceSinkPoints': '20'},\n  {'ClassName': 'Desc_FluidCanister_C',\n   'mDisplayName': 'Empty Canister',\n   'mDescription': 'Used to package fluids for transportation.',\n   'mAbbreviatedDisplayName': '',\n   'mStackSize': 'SS_MEDIUM',\n   'mCanBeDiscarded': 'True',\n   'mRememberPickUp': 'False',\n   'mEnergyValue': '0.000000',\n   'mRadioactiveDecay': '0.000000',\n   'mForm': 'RF_SOLID',\n   'mSmallIcon': 'Texture2D /Game/FactoryGame/Resource/Parts/FluidCanister/UI/IconDesc_EmptyCannister_64.IconDesc_EmptyCannister_64',\n   'mPersistentBigIcon': 'Texture2D /Game/FactoryGame/Resource/Parts/FluidCanister/UI/IconDesc_EmptyCannister_256.IconDesc_EmptyCannister_256',\n   'mCrosshairMaterial': 'None',\n   'mDescriptorStatBars': '',\n   'mSubCategories': '',\n   'mMenuPriority': '0.000000',\n   'mFluidColor': '(B=0,G=0,R=0,A=0)',\n   'mGasColor': '(B=0,G=0,R=0,A=0)',\n   'mCompatibleItemDescriptors': '',\n   'mClassToScanFor': 'None',\n   'mScannableType': 'RTWOT_Default',\n   'mShouldOverrideScannerDisplayText': 'False',\n   'mScannerDisplayText': '',\n   'mScannerLightColor': '(B=0,G=0,R=0,A=0)',\n   'mResourceSinkPoints': '60'},\n  {'ClassName': 'Desc_ModularFrameHeavy_C',\n   'mDisplayName': 'Heavy Modular Frame',\n   'mDescription': 'A more robust multi-purpose frame.',\n   'mAbbreviatedDisplayName': '',\n   'mStackSize': 'SS_SMALL',\n   'mCanBeDiscarded': 'True',\n   'mRememberPickUp': 'False',\n   'mEnergyValue': '0.000000',\n   'mRadioactiveDecay': '0.000000',\n   'mForm': 'RF_SOLID',\n   'mSmallIcon': 'Texture2D /Game/FactoryGame/Resource/Parts/ModularFrameHeavy/UI/IconDesc_ModularFrameHeavy_64.IconDesc_ModularFrameHeavy_64',\n   'mPersistentBigIcon': 'Texture2D /Game/FactoryGame/Resource/Parts/ModularFrameHeavy/UI/IconDesc_ModularFrameHeavy_256.IconDesc_ModularFrameHeavy_256',\n   'mCrosshairMaterial': 'None',\n   'mDescriptorStatBars': '',\n   'mSubCategories': '',\n   'mMenuPriority': '0.000000',\n   'mFluidColor': '(B=0,G=0,R=0,A=0)',\n   'mGasColor': '(B=0,G=0,R=0,A=0)',\n   'mCompatibleItemDescriptors': '',\n   'mClassToScanFor': 'None',\n   'mScannableType': 'RTWOT_Default',\n   'mShouldOverrideScannerDisplayText': 'False',\n   'mScannerDisplayText': '',\n   'mScannerLightColor': '(B=0,G=0,R=0,A=0)',\n   'mResourceSinkPoints': '11520'},\n  {'ClassName': 'Desc_PackagedOil_C',\n   'mDisplayName': 'Packaged Oil',\n   'mDescription': 'Crude Oil, packaged for alternative transport. Can be used as fuel for Vehicles.',\n   'mAbbreviatedDisplayName': 'Oil',\n   'mStackSize': 'SS_MEDIUM',\n   'mCanBeDiscarded': 'True',\n   'mRememberPickUp': 'False',\n   'mEnergyValue': '320.000000',\n   'mRadioactiveDecay': '0.000000',\n   'mForm': 'RF_SOLID',\n   'mSmallIcon': 'Texture2D /Game/FactoryGame/Resource/RawResources/CrudeOil/UI/Oil_64.Oil_64',\n   'mPersistentBigIcon': 'Texture2D /Game/FactoryGame/Resource/RawResources/CrudeOil/UI/Oil_256.Oil_256',\n   'mCrosshairMaterial': 'None',\n   'mDescriptorStatBars': '',\n   'mSubCategories': '',\n   'mMenuPriority': '0.000000',\n   'mFluidColor': '(B=0,G=0,R=0,A=0)',\n   'mGasColor': '(B=0,G=0,R=0,A=0)',\n   'mCompatibleItemDescriptors': '',\n   'mClassToScanFor': 'None',\n   'mScannableType': 'RTWOT_Default',\n   'mShouldOverrideScannerDisplayText': 'False',\n   'mScannerDisplayText': '',\n   'mScannerLightColor': '(B=0,G=0,R=0,A=0)',\n   'mResourceSinkPoints': '180'},\n  {'ClassName': 'Desc_PackagedOilResidue_C',\n   'mDisplayName': 'Packaged Heavy Oil Residue',\n   'mDescription': 'Heavy Oil Residue, packaged for alternative transport. Can be used as fuel for Vehicles.',\n   'mAbbreviatedDisplayName': 'HOR',\n   'mStackSize': 'SS_MEDIUM',\n   'mCanBeDiscarded': 'True',\n   'mRememberPickUp': 'False',\n   'mEnergyValue': '400.000000',\n   'mRadioactiveDecay': '0.000000',\n   'mForm': 'RF_SOLID',\n   'mSmallIcon': 'Texture2D /Game/FactoryGame/Resource/RawResources/CrudeOil/UI/OilResidue_64.OilResidue_64',\n   'mPersistentBigIcon': 'Texture2D /Game/FactoryGame/Resource/RawResources/CrudeOil/UI/OilResidue_256.OilResidue_256',\n   'mCrosshairMaterial': 'None',\n   'mDescriptorStatBars': '',\n   'mSubCategories': '',\n   'mMenuPriority': '0.000000',\n   'mFluidColor': '(B=120,G=45,R=109,A=255)',\n   'mGasColor': '(B=0,G=0,R=0,A=0)',\n   'mCompatibleItemDescriptors': '',\n   'mClassToScanFor': 'None',\n   'mScannableType': 'RTWOT_Default',\n   'mShouldOverrideScannerDisplayText': 'False',\n   'mScannerDisplayText': '',\n   'mScannerLightColor': '(B=0,G=0,R=0,A=0)',\n   'mResourceSinkPoints': '180'},\n  {'ClassName': 'Desc_SteelIngot_C',\n   'mDisplayName': 'Steel Ingot',\n   'mDescription': \"Steel Ingots are made from Iron Ore that's been smelted with Coal. They are made into several parts used in building construction.\",\n   'mAbbreviatedDisplayName': 'Steel',\n   'mStackSize': 'SS_MEDIUM',\n   'mCanBeDiscarded': 'True',\n   'mRememberPickUp': 'False',\n   'mEnergyValue': '0.000000',\n   'mRadioactiveDecay': '0.000000',\n   'mForm': 'RF_SOLID',\n   'mSmallIcon': 'Texture2D /Game/FactoryGame/Resource/Parts/SteelIngot/UI/IconDesc_SteelIngot_64.IconDesc_SteelIngot_64',\n   'mPersistentBigIcon': 'Texture2D /Game/FactoryGame/Resource/Parts/SteelIngot/UI/IconDesc_SteelIngot_256.IconDesc_SteelIngot_256',\n   'mCrosshairMaterial': 'None',\n   'mDescriptorStatBars': '',\n   'mSubCategories': '',\n   'mMenuPriority': '0.000000',\n   'mFluidColor': '(B=0,G=0,R=0,A=0)',\n   'mGasColor': '(B=0,G=0,R=0,A=0)',\n   'mCompatibleItemDescriptors': '',\n   'mClassToScanFor': 'None',\n   'mScannableType': 'RTWOT_Default',\n   'mShouldOverrideScannerDisplayText': 'False',\n   'mScannerDisplayText': '',\n   'mScannerLightColor': '(B=0,G=0,R=0,A=0)',\n   'mResourceSinkPoints': '8'},\n  {'ClassName': 'Desc_AluminaSolution_C',\n   'mDisplayName': 'Alumina Solution',\n   'mDescription': 'Dissolved Alumina, extracted from Bauxite. Can be further refined into Aluminum Scrap for Aluminum Ingot production.',\n   'mAbbreviatedDisplayName': 'AL',\n   'mStackSize': 'SS_FLUID',\n   'mCanBeDiscarded': 'True',\n   'mRememberPickUp': 'False',\n   'mEnergyValue': '0.000000',\n   'mRadioactiveDecay': '0.000000',\n   'mForm': 'RF_LIQUID',\n   'mSmallIcon': 'Texture2D /Game/FactoryGame/Resource/Parts/Alumina/UI/LiquidAlumina_Pipe_256.LiquidAlumina_Pipe_256',\n   'mPersistentBigIcon': 'Texture2D /Game/FactoryGame/Resource/Parts/Alumina/UI/LiquidAlumina_Pipe_512.LiquidAlumina_Pipe_512',\n   'mCrosshairMaterial': 'None',\n   'mDescriptorStatBars': '',\n   'mSubCategories': '',\n   'mMenuPriority': '0.000000',\n   'mFluidColor': '(B=193,G=193,R=193,A=255)',\n   'mGasColor': '(B=0,G=0,R=0,A=0)',\n   'mCompatibleItemDescriptors': '',\n   'mClassToScanFor': 'None',\n   'mScannableType': 'RTWOT_Default',\n   'mShouldOverrideScannerDisplayText': 'False',\n   'mScannerDisplayText': '',\n   'mScannerLightColor': '(B=0,G=0,R=0,A=0)',\n   'mResourceSinkPoints': '20'},\n  {'ClassName': 'Desc_AluminumScrap_C',\n   'mDisplayName': 'Aluminum Scrap',\n   'mDescription': 'Aluminum Scrap is pure aluminum refined from Alumina. Can be smelted down to Aluminum Ingots for industrial usage.',\n   'mAbbreviatedDisplayName': '',\n   'mStackSize': 'SS_HUGE',\n   'mCanBeDiscarded': 'True',\n   'mRememberPickUp': 'False',\n   'mEnergyValue': '0.000000',\n   'mRadioactiveDecay': '0.000000',\n   'mForm': 'RF_SOLID',\n   'mSmallIcon': 'Texture2D /Game/FactoryGame/Resource/Parts/AluminumScrap/UI/IconDesc_AluminiumScrap_64.IconDesc_AluminiumScrap_64',\n   'mPersistentBigIcon': 'Texture2D /Game/FactoryGame/Resource/Parts/AluminumScrap/UI/IconDesc_AluminiumScrap_256.IconDesc_AluminiumScrap_256',\n   'mCrosshairMaterial': 'None',\n   'mDescriptorStatBars': '',\n   'mSubCategories': '',\n   'mMenuPriority': '0.000000',\n   'mFluidColor': '(B=0,G=0,R=0,A=0)',\n   'mGasColor': '(B=0,G=0,R=0,A=0)',\n   'mCompatibleItemDescriptors': '',\n   'mClassToScanFor': 'None',\n   'mScannableType': 'RTWOT_Default',\n   'mShouldOverrideScannerDisplayText': 'False',\n   'mScannerDisplayText': '',\n   'mScannerLightColor': '(B=0,G=0,R=0,A=0)',\n   'mResourceSinkPoints': '27'},\n  {'ClassName': 'Desc_SulfuricAcid_C',\n   'mDisplayName': 'Sulfuric Acid',\n   'mDescription': 'A mineral acid produced by combining Sulfur and Water in a complex reaction. Primarily used in refinement processes and Battery production.',\n   'mAbbreviatedDisplayName': 'SA',\n   'mStackSize': 'SS_FLUID',\n   'mCanBeDiscarded': 'True',\n   'mRememberPickUp': 'False',\n   'mEnergyValue': '0.000000',\n   'mRadioactiveDecay': '0.000000',\n   'mForm': 'RF_LIQUID',\n   'mSmallIcon': 'Texture2D /Game/FactoryGame/Resource/Parts/SulfuricAcid/UI/IconDesc_LiquidSulfuricAcid_Pipe_256.IconDesc_LiquidSulfuricAcid_Pipe_256',\n   'mPersistentBigIcon': 'Texture2D /Game/FactoryGame/Resource/Parts/SulfuricAcid/UI/IconDesc_LiquidSulfuricAcid_Pipe_512.IconDesc_LiquidSulfuricAcid_Pipe_512',\n   'mCrosshairMaterial': 'None',\n   'mDescriptorStatBars': '',\n   'mSubCategories': '',\n   'mMenuPriority': '0.000000',\n   'mFluidColor': '(B=0,G=255,R=255,A=255)',\n   'mGasColor': '(B=0,G=0,R=0,A=0)',\n   'mCompatibleItemDescriptors': '',\n   'mClassToScanFor': 'None',\n   'mScannableType': 'RTWOT_Default',\n   'mShouldOverrideScannerDisplayText': 'False',\n   'mScannerDisplayText': '',\n   'mScannerLightColor': '(B=0,G=0,R=0,A=0)',\n   'mResourceSinkPoints': '16'},\n  {'ClassName': 'Desc_UraniumCell_C',\n   'mDisplayName': 'Encased Uranium Cell',\n   'mDescription': 'Uranium Cells are produced from Uranium Ore. \\r\\nUsed to produce Uranium Fuel Rods for Nuclear Power production.\\r\\n\\r\\nCaution: Mildly Radioactive.',\n   'mAbbreviatedDisplayName': '',\n   'mStackSize': 'SS_BIG',\n   'mCanBeDiscarded': 'True',\n   'mRememberPickUp': 'False',\n   'mEnergyValue': '0.000000',\n   'mRadioactiveDecay': '0.500000',\n   'mForm': 'RF_SOLID',\n   'mSmallIcon': 'Texture2D /Game/FactoryGame/Resource/Parts/UraniumCell/UI/IconDesc_NuclearCell_64.IconDesc_NuclearCell_64',\n   'mPersistentBigIcon': 'Texture2D /Game/FactoryGame/Resource/Parts/UraniumCell/UI/IconDesc_NuclearCell_256.IconDesc_NuclearCell_256',\n   'mCrosshairMaterial': 'None',\n   'mDescriptorStatBars': '',\n   'mSubCategories': '',\n   'mMenuPriority': '0.000000',\n   'mFluidColor': '(B=0,G=0,R=0,A=0)',\n   'mGasColor': '(B=0,G=0,R=0,A=0)',\n   'mCompatibleItemDescriptors': '',\n   'mClassToScanFor': 'None',\n   'mScannableType': 'RTWOT_Default',\n   'mShouldOverrideScannerDisplayText': 'False',\n   'mScannerDisplayText': '',\n   'mScannerLightColor': '(B=0,G=0,R=0,A=0)',\n   'mResourceSinkPoints': '147'},\n  {'ClassName': 'Desc_AluminumPlateReinforced_C',\n   'mDisplayName': 'Heat Sink',\n   'mDescription': 'Used to dissipate heat faster.',\n   'mAbbreviatedDisplayName': '',\n   'mStackSize': 'SS_MEDIUM',\n   'mCanBeDiscarded': 'True',\n   'mRememberPickUp': 'False',\n   'mEnergyValue': '0.000000',\n   'mRadioactiveDecay': '0.000000',\n   'mForm': 'RF_SOLID',\n   'mSmallIcon': 'Texture2D /Game/FactoryGame/Resource/Parts/HeatSink/UI/IconDesc_Heatsink_64.IconDesc_Heatsink_64',\n   'mPersistentBigIcon': 'Texture2D /Game/FactoryGame/Resource/Parts/HeatSink/UI/IconDesc_Heatsink_256.IconDesc_Heatsink_256',\n   'mCrosshairMaterial': 'None',\n   'mDescriptorStatBars': '',\n   'mSubCategories': '',\n   'mMenuPriority': '0.000000',\n   'mFluidColor': '(B=0,G=0,R=0,A=0)',\n   'mGasColor': '(B=0,G=0,R=0,A=0)',\n   'mCompatibleItemDescriptors': '',\n   'mClassToScanFor': 'None',\n   'mScannableType': 'RTWOT_Default',\n   'mShouldOverrideScannerDisplayText': 'False',\n   'mScannerDisplayText': '',\n   'mScannerLightColor': '(B=0,G=0,R=0,A=0)',\n   'mResourceSinkPoints': '2804'},\n  {'ClassName': 'Desc_CoolingSystem_C',\n   'mDisplayName': 'Cooling System',\n   'mDescription': 'Used to keep temperatures of advanced parts and buildings from exceeding to inefficient levels.',\n   'mAbbreviatedDisplayName': '',\n   'mStackSize': 'SS_MEDIUM',\n   'mCanBeDiscarded': 'True',\n   'mRememberPickUp': 'False',\n   'mEnergyValue': '0.000000',\n   'mRadioactiveDecay': '0.000000',\n   'mForm': 'RF_SOLID',\n   'mSmallIcon': 'Texture2D /Game/FactoryGame/Resource/Parts/CoolingSystem/UI/IconDesc_CoolingSystem_64.IconDesc_CoolingSystem_64',\n   'mPersistentBigIcon': 'Texture2D /Game/FactoryGame/Resource/Parts/CoolingSystem/UI/IconDesc_CoolingSystem_256.IconDesc_CoolingSystem_256',\n   'mCrosshairMaterial': 'None',\n   'mDescriptorStatBars': '',\n   'mSubCategories': '',\n   'mMenuPriority': '0.000000',\n   'mFluidColor': '(B=0,G=0,R=0,A=0)',\n   'mGasColor': '(B=0,G=0,R=0,A=0)',\n   'mCompatibleItemDescriptors': '',\n   'mClassToScanFor': 'None',\n   'mScannableType': 'RTWOT_Default',\n   'mShouldOverrideScannerDisplayText': 'False',\n   'mScannerDisplayText': '',\n   'mScannerLightColor': '(B=0,G=0,R=0,A=0)',\n   'mResourceSinkPoints': '12006'},\n  {'ClassName': 'Desc_NitricAcid_C',\n   'mDisplayName': 'Nitric Acid',\n   'mDescription': 'Produced by reaction of Nitrogen Gas with Water. Its high corrosiveness and oxidizing properties make it an excellent choice for refinement and fuel production processes.',\n   'mAbbreviatedDisplayName': 'NA',\n   'mStackSize': 'SS_FLUID',\n   'mCanBeDiscarded': 'True',\n   'mRememberPickUp': 'False',\n   'mEnergyValue': '0.000000',\n   'mRadioactiveDecay': '0.000000',\n   'mForm': 'RF_LIQUID',\n   'mSmallIcon': 'Texture2D /Game/FactoryGame/Resource/Parts/NitricAcid/UI/IconDesc_NitricAcid_64.IconDesc_NitricAcid_64',\n   'mPersistentBigIcon': 'Texture2D /Game/FactoryGame/Resource/Parts/NitricAcid/UI/IconDesc_NitricAcid_256.IconDesc_NitricAcid_256',\n   'mCrosshairMaterial': 'None',\n   'mDescriptorStatBars': '',\n   'mSubCategories': '',\n   'mMenuPriority': '0.000000',\n   'mFluidColor': '(B=162,G=217,R=217,A=255)',\n   'mGasColor': '(B=0,G=0,R=0,A=0)',\n   'mCompatibleItemDescriptors': '',\n   'mClassToScanFor': 'None',\n   'mScannableType': 'RTWOT_Default',\n   'mShouldOverrideScannerDisplayText': 'False',\n   'mScannerDisplayText': '',\n   'mScannerLightColor': '(B=0,G=0,R=0,A=0)',\n   'mResourceSinkPoints': '94'},\n  {'ClassName': 'Desc_AluminumCasing_C',\n   'mDisplayName': 'Aluminum Casing',\n   'mDescription': 'A versatile container cast from Aluminum Ingots.',\n   'mAbbreviatedDisplayName': '',\n   'mStackSize': 'SS_BIG',\n   'mCanBeDiscarded': 'True',\n   'mRememberPickUp': 'False',\n   'mEnergyValue': '0.000000',\n   'mRadioactiveDecay': '0.000000',\n   'mForm': 'RF_SOLID',\n   'mSmallIcon': 'Texture2D /Game/FactoryGame/Resource/Parts/AluminumCasing/UI/IconDesc_AluminiumCasing_64.IconDesc_AluminiumCasing_64',\n   'mPersistentBigIcon': 'Texture2D /Game/FactoryGame/Resource/Parts/AluminumCasing/UI/IconDesc_AluminiumCasing_256.IconDesc_AluminiumCasing_256',\n   'mCrosshairMaterial': 'None',\n   'mDescriptorStatBars': '',\n   'mSubCategories': '',\n   'mMenuPriority': '0.000000',\n   'mFluidColor': '(B=0,G=0,R=0,A=0)',\n   'mGasColor': '(B=0,G=0,R=0,A=0)',\n   'mCompatibleItemDescriptors': '',\n   'mClassToScanFor': 'None',\n   'mScannableType': 'RTWOT_Default',\n   'mShouldOverrideScannerDisplayText': 'False',\n   'mScannerDisplayText': '',\n   'mScannerLightColor': '(B=0,G=0,R=0,A=0)',\n   'mResourceSinkPoints': '393'},\n  {'ClassName': 'Desc_ModularFrameLightweight_C',\n   'mDisplayName': 'Radio Control Unit',\n   'mDescription': 'Enhances and directs radio signals.',\n   'mAbbreviatedDisplayName': '',\n   'mStackSize': 'SS_SMALL',\n   'mCanBeDiscarded': 'True',\n   'mRememberPickUp': 'False',\n   'mEnergyValue': '0.000000',\n   'mRadioactiveDecay': '0.000000',\n   'mForm': 'RF_SOLID',\n   'mSmallIcon': 'Texture2D /Game/FactoryGame/Resource/Parts/RadioControlUnit/UI/IconDesc_RadioControlUnit_64.IconDesc_RadioControlUnit_64',\n   'mPersistentBigIcon': 'Texture2D /Game/FactoryGame/Resource/Parts/RadioControlUnit/UI/IconDesc_RadioControlUnit_256.IconDesc_RadioControlUnit_256',\n   'mCrosshairMaterial': 'None',\n   'mDescriptorStatBars': '',\n   'mSubCategories': '',\n   'mMenuPriority': '0.000000',\n   'mFluidColor': '(B=0,G=0,R=0,A=0)',\n   'mGasColor': '(B=0,G=0,R=0,A=0)',\n   'mCompatibleItemDescriptors': '',\n   'mClassToScanFor': 'None',\n   'mScannableType': 'RTWOT_Default',\n   'mShouldOverrideScannerDisplayText': 'False',\n   'mScannerDisplayText': '',\n   'mScannerLightColor': '(B=0,G=0,R=0,A=0)',\n   'mResourceSinkPoints': '19600'},\n  {'ClassName': 'Desc_Computer_C',\n   'mDisplayName': 'Computer',\n   'mDescription': 'A Computer is a complex logic machine that is used to control advanced behaviour in machines.',\n   'mAbbreviatedDisplayName': '',\n   'mStackSize': 'SS_SMALL',\n   'mCanBeDiscarded': 'True',\n   'mRememberPickUp': 'False',\n   'mEnergyValue': '0.000000',\n   'mRadioactiveDecay': '0.000000',\n   'mForm': 'RF_SOLID',\n   'mSmallIcon': 'Texture2D /Game/FactoryGame/Resource/Parts/Computer/UI/IconDesc_Computer_64.IconDesc_Computer_64',\n   'mPersistentBigIcon': 'Texture2D /Game/FactoryGame/Resource/Parts/Computer/UI/IconDesc_Computer_256.IconDesc_Computer_256',\n   'mCrosshairMaterial': 'None',\n   'mDescriptorStatBars': '',\n   'mSubCategories': '',\n   'mMenuPriority': '0.000000',\n   'mFluidColor': '(B=0,G=0,R=0,A=0)',\n   'mGasColor': '(B=0,G=0,R=0,A=0)',\n   'mCompatibleItemDescriptors': '',\n   'mClassToScanFor': 'None',\n   'mScannableType': 'RTWOT_Default',\n   'mShouldOverrideScannerDisplayText': 'False',\n   'mScannerDisplayText': '',\n   'mScannerLightColor': '(B=0,G=0,R=0,A=0)',\n   'mResourceSinkPoints': '17260'},\n  {'ClassName': 'Desc_QuartzCrystal_C',\n   'mDisplayName': 'Quartz Crystal',\n   'mDescription': 'Derived from Raw Quartz. Used in the production of advanced radar technology and high-quality display screens.',\n   'mAbbreviatedDisplayName': '',\n   'mStackSize': 'SS_BIG',\n   'mCanBeDiscarded': 'True',\n   'mRememberPickUp': 'False',\n   'mEnergyValue': '0.000000',\n   'mRadioactiveDecay': '0.000000',\n   'mForm': 'RF_SOLID',\n   'mSmallIcon': 'Texture2D /Game/FactoryGame/Resource/Parts/QuartzCrystal/UI/IconDesc_QuartzResource_64.IconDesc_QuartzResource_64',\n   'mPersistentBigIcon': 'Texture2D /Game/FactoryGame/Resource/Parts/QuartzCrystal/UI/IconDesc_QuartzResource_256.IconDesc_QuartzResource_256',\n   'mCrosshairMaterial': 'None',\n   'mDescriptorStatBars': '',\n   'mSubCategories': '',\n   'mMenuPriority': '0.000000',\n   'mFluidColor': '(B=0,G=0,R=0,A=0)',\n   'mGasColor': '(B=0,G=0,R=0,A=0)',\n   'mCompatibleItemDescriptors': '',\n   'mClassToScanFor': 'None',\n   'mScannableType': 'RTWOT_Default',\n   'mShouldOverrideScannerDisplayText': 'False',\n   'mScannerDisplayText': '',\n   'mScannerLightColor': '(B=0,G=0,R=0,A=0)',\n   'mResourceSinkPoints': '50'},\n  {'ClassName': 'Desc_GoldIngot_C',\n   'mDisplayName': 'Caterium Ingot',\n   'mDescription': 'Caterium Ingots are smelted from Caterium Ore. Caterium Ingots are mostly used for advanced electronics.',\n   'mAbbreviatedDisplayName': 'Cat',\n   'mStackSize': 'SS_MEDIUM',\n   'mCanBeDiscarded': 'True',\n   'mRememberPickUp': 'False',\n   'mEnergyValue': '0.000000',\n   'mRadioactiveDecay': '0.000000',\n   'mForm': 'RF_SOLID',\n   'mSmallIcon': 'Texture2D /Game/FactoryGame/Resource/Parts/GoldIngot/UI/IconDesc_CateriumIngot_64.IconDesc_CateriumIngot_64',\n   'mPersistentBigIcon': 'Texture2D /Game/FactoryGame/Resource/Parts/GoldIngot/UI/IconDesc_CateriumIngot_256.IconDesc_CateriumIngot_256',\n   'mCrosshairMaterial': 'None',\n   'mDescriptorStatBars': '',\n   'mSubCategories': '',\n   'mMenuPriority': '0.000000',\n   'mFluidColor': '(B=0,G=0,R=0,A=0)',\n   'mGasColor': '(B=0,G=0,R=0,A=0)',\n   'mCompatibleItemDescriptors': '',\n   'mClassToScanFor': 'None',\n   'mScannableType': 'RTWOT_Default',\n   'mShouldOverrideScannerDisplayText': 'False',\n   'mScannerDisplayText': '',\n   'mScannerLightColor': '(B=0,G=0,R=0,A=0)',\n   'mResourceSinkPoints': '42'},\n  {'ClassName': 'Desc_Stator_C',\n   'mDisplayName': 'Stator',\n   'mDescription': 'Used for crafting.\\r\\nThe static parts of a motor.',\n   'mAbbreviatedDisplayName': '',\n   'mStackSize': 'SS_MEDIUM',\n   'mCanBeDiscarded': 'True',\n   'mRememberPickUp': 'False',\n   'mEnergyValue': '0.000000',\n   'mRadioactiveDecay': '0.000000',\n   'mForm': 'RF_SOLID',\n   'mSmallIcon': 'Texture2D /Game/FactoryGame/Resource/Parts/Stator/UI/IconDesc_Stator_64.IconDesc_Stator_64',\n   'mPersistentBigIcon': 'Texture2D /Game/FactoryGame/Resource/Parts/Stator/UI/IconDesc_Stator_256.IconDesc_Stator_256',\n   'mCrosshairMaterial': 'None',\n   'mDescriptorStatBars': '',\n   'mSubCategories': '',\n   'mMenuPriority': '0.000000',\n   'mFluidColor': '(B=0,G=0,R=0,A=0)',\n   'mGasColor': '(B=0,G=0,R=0,A=0)',\n   'mCompatibleItemDescriptors': '',\n   'mClassToScanFor': 'None',\n   'mScannableType': 'RTWOT_Default',\n   'mShouldOverrideScannerDisplayText': 'False',\n   'mScannerDisplayText': '',\n   'mScannerLightColor': '(B=0,G=0,R=0,A=0)',\n   'mResourceSinkPoints': '240'},\n  {'ClassName': 'Desc_CircuitBoardHighSpeed_C',\n   'mDisplayName': 'AI Limiter',\n   'mDescription': 'AI Limiters are super advanced electronics that are used to control AIs and keep them from evolving in malicious ways.',\n   'mAbbreviatedDisplayName': '',\n   'mStackSize': 'SS_MEDIUM',\n   'mCanBeDiscarded': 'True',\n   'mRememberPickUp': 'False',\n   'mEnergyValue': '0.000000',\n   'mRadioactiveDecay': '0.000000',\n   'mForm': 'RF_SOLID',\n   'mSmallIcon': 'Texture2D /Game/FactoryGame/Resource/Parts/AIlimiter/UI/IconDesc_AILimiter_64.IconDesc_AILimiter_64',\n   'mPersistentBigIcon': 'Texture2D /Game/FactoryGame/Resource/Parts/AIlimiter/UI/IconDesc_AILimiter_256.IconDesc_AILimiter_256',\n   'mCrosshairMaterial': 'None',\n   'mDescriptorStatBars': '',\n   'mSubCategories': '',\n   'mMenuPriority': '0.000000',\n   'mFluidColor': '(B=0,G=0,R=0,A=0)',\n   'mGasColor': '(B=0,G=0,R=0,A=0)',\n   'mCompatibleItemDescriptors': '',\n   'mClassToScanFor': 'None',\n   'mScannableType': 'RTWOT_Default',\n   'mShouldOverrideScannerDisplayText': 'False',\n   'mScannerDisplayText': '',\n   'mScannerLightColor': '(B=0,G=0,R=0,A=0)',\n   'mResourceSinkPoints': '920'},\n  {'ClassName': 'Desc_HighSpeedWire_C',\n   'mDisplayName': 'Quickwire',\n   'mDescription': \"Caterium's high conductivity and resistance to corrosion makes it ideal for small, advanced electronics.\",\n   'mAbbreviatedDisplayName': '',\n   'mStackSize': 'SS_HUGE',\n   'mCanBeDiscarded': 'True',\n   'mRememberPickUp': 'False',\n   'mEnergyValue': '0.000000',\n   'mRadioactiveDecay': '0.000000',\n   'mForm': 'RF_SOLID',\n   'mSmallIcon': 'Texture2D /Game/FactoryGame/Resource/Parts/HighSpeedWire/UI/IconDesc_Quickwire_64.IconDesc_Quickwire_64',\n   'mPersistentBigIcon': 'Texture2D /Game/FactoryGame/Resource/Parts/HighSpeedWire/UI/IconDesc_Quickwire_256.IconDesc_Quickwire_256',\n   'mCrosshairMaterial': 'None',\n   'mDescriptorStatBars': '',\n   'mSubCategories': '',\n   'mMenuPriority': '0.000000',\n   'mFluidColor': '(B=0,G=0,R=0,A=0)',\n   'mGasColor': '(B=0,G=0,R=0,A=0)',\n   'mCompatibleItemDescriptors': '',\n   'mClassToScanFor': 'None',\n   'mScannableType': 'RTWOT_Default',\n   'mShouldOverrideScannerDisplayText': 'False',\n   'mScannerDisplayText': '',\n   'mScannerLightColor': '(B=0,G=0,R=0,A=0)',\n   'mResourceSinkPoints': '17'},\n  {'ClassName': 'Desc_CompactedCoal_C',\n   'mDisplayName': 'Compacted Coal',\n   'mDescription': 'A much more efficient alternative for Coal. Used as fuel for vehicles & coal generators.',\n   'mAbbreviatedDisplayName': 'Comp',\n   'mStackSize': 'SS_MEDIUM',\n   'mCanBeDiscarded': 'True',\n   'mRememberPickUp': 'False',\n   'mEnergyValue': '630.000000',\n   'mRadioactiveDecay': '0.000000',\n   'mForm': 'RF_SOLID',\n   'mSmallIcon': 'Texture2D /Game/FactoryGame/Resource/Parts/CompactedCoal/UI/IconDesc_CompactedCoal_64.IconDesc_CompactedCoal_64',\n   'mPersistentBigIcon': 'Texture2D /Game/FactoryGame/Resource/Parts/CompactedCoal/UI/IconDesc_CompactedCoal_256.IconDesc_CompactedCoal_256',\n   'mCrosshairMaterial': 'None',\n   'mDescriptorStatBars': '',\n   'mSubCategories': '',\n   'mMenuPriority': '0.000000',\n   'mFluidColor': '(B=0,G=0,R=0,A=0)',\n   'mGasColor': '(B=0,G=0,R=0,A=0)',\n   'mCompatibleItemDescriptors': '',\n   'mClassToScanFor': 'None',\n   'mScannableType': 'RTWOT_Default',\n   'mShouldOverrideScannerDisplayText': 'False',\n   'mScannerDisplayText': '',\n   'mScannerLightColor': '(B=0,G=0,R=0,A=0)',\n   'mResourceSinkPoints': '28'},\n  {'ClassName': 'Desc_LiquidTurboFuel_C',\n   'mDisplayName': 'Turbofuel',\n   'mDescription': 'A more efficient alternative to Fuel. Can be used to generate power or packaged to be used as fuel for Vehicles.',\n   'mAbbreviatedDisplayName': 'Turbo',\n   'mStackSize': 'SS_FLUID',\n   'mCanBeDiscarded': 'True',\n   'mRememberPickUp': 'False',\n   'mEnergyValue': '2.000000',\n   'mRadioactiveDecay': '0.000000',\n   'mForm': 'RF_LIQUID',\n   'mSmallIcon': 'Texture2D /Game/FactoryGame/Resource/Parts/Turbofuel/UI/IconDesc_LiquidTurboFuel_Pipe_256.IconDesc_LiquidTurboFuel_Pipe_256',\n   'mPersistentBigIcon': 'Texture2D /Game/FactoryGame/Resource/Parts/Turbofuel/UI/IconDesc_LiquidTurboFuel_Pipe_512.IconDesc_LiquidTurboFuel_Pipe_512',\n   'mCrosshairMaterial': 'None',\n   'mDescriptorStatBars': '',\n   'mSubCategories': '',\n   'mMenuPriority': '0.000000',\n   'mFluidColor': '(B=46,G=41,R=212,A=255)',\n   'mGasColor': '(B=0,G=0,R=0,A=0)',\n   'mCompatibleItemDescriptors': '',\n   'mClassToScanFor': 'None',\n   'mScannableType': 'RTWOT_Default',\n   'mShouldOverrideScannerDisplayText': 'False',\n   'mScannerDisplayText': '',\n   'mScannerLightColor': '(B=0,G=0,R=0,A=0)',\n   'mResourceSinkPoints': '225'},\n  {'ClassName': 'Desc_ComputerSuper_C',\n   'mDisplayName': 'Supercomputer',\n   'mDescription': 'The supercomputer is the next-gen version of the computer.',\n   'mAbbreviatedDisplayName': '',\n   'mStackSize': 'SS_SMALL',\n   'mCanBeDiscarded': 'True',\n   'mRememberPickUp': 'False',\n   'mEnergyValue': '0.000000',\n   'mRadioactiveDecay': '0.000000',\n   'mForm': 'RF_SOLID',\n   'mSmallIcon': 'Texture2D /Game/FactoryGame/Resource/Parts/ComputerSuper/UI/IconDesc_SuperComputer_64.IconDesc_SuperComputer_64',\n   'mPersistentBigIcon': 'Texture2D /Game/FactoryGame/Resource/Parts/ComputerSuper/UI/IconDesc_SuperComputer_256.IconDesc_SuperComputer_256',\n   'mCrosshairMaterial': 'None',\n   'mDescriptorStatBars': '',\n   'mSubCategories': '',\n   'mMenuPriority': '0.000000',\n   'mFluidColor': '(B=0,G=0,R=0,A=0)',\n   'mGasColor': '(B=0,G=0,R=0,A=0)',\n   'mCompatibleItemDescriptors': '',\n   'mClassToScanFor': 'None',\n   'mScannableType': 'RTWOT_Default',\n   'mShouldOverrideScannerDisplayText': 'False',\n   'mScannerDisplayText': '',\n   'mScannerLightColor': '(B=0,G=0,R=0,A=0)',\n   'mResourceSinkPoints': '99576'},\n  {'ClassName': 'Desc_GasTank_C',\n   'mDisplayName': 'Empty Fluid Tank',\n   'mDescription': 'Used to package gases and volatile liquids for transportation.',\n   'mAbbreviatedDisplayName': '',\n   'mStackSize': 'SS_MEDIUM',\n   'mCanBeDiscarded': 'True',\n   'mRememberPickUp': 'False',\n   'mEnergyValue': '0.000000',\n   'mRadioactiveDecay': '0.000000',\n   'mForm': 'RF_SOLID',\n   'mSmallIcon': 'Texture2D /Game/FactoryGame/Resource/Parts/GasTank/UI/IconDesc_PressureTank_64.IconDesc_PressureTank_64',\n   'mPersistentBigIcon': 'Texture2D /Game/FactoryGame/Resource/Parts/GasTank/UI/IconDesc_PressureTank_256.IconDesc_PressureTank_256',\n   'mCrosshairMaterial': 'None',\n   'mDescriptorStatBars': '',\n   'mSubCategories': '',\n   'mMenuPriority': '0.000000',\n   'mFluidColor': '(B=0,G=0,R=0,A=0)',\n   'mGasColor': '(B=0,G=0,R=0,A=0)',\n   'mCompatibleItemDescriptors': '',\n   'mClassToScanFor': 'None',\n   'mScannableType': 'RTWOT_Default',\n   'mShouldOverrideScannerDisplayText': 'False',\n   'mScannerDisplayText': '',\n   'mScannerLightColor': '(B=0,G=0,R=0,A=0)',\n   'mResourceSinkPoints': '225'},\n  {'ClassName': 'Desc_ElectromagneticControlRod_C',\n   'mDisplayName': 'Electromagnetic Control Rod',\n   'mDescription': 'Control Rods regulate power output via electromagnetism.',\n   'mAbbreviatedDisplayName': '',\n   'mStackSize': 'SS_MEDIUM',\n   'mCanBeDiscarded': 'True',\n   'mRememberPickUp': 'False',\n   'mEnergyValue': '0.000000',\n   'mRadioactiveDecay': '0.000000',\n   'mForm': 'RF_SOLID',\n   'mSmallIcon': 'Texture2D /Game/FactoryGame/Resource/Parts/ElectromagneticControlRod/UI/IconDesc_ElectromagneticControlRod_64.IconDesc_ElectromagneticControlRod_64',\n   'mPersistentBigIcon': 'Texture2D /Game/FactoryGame/Resource/Parts/ElectromagneticControlRod/UI/IconDesc_ElectromagneticControlRod_256.IconDesc_ElectromagneticControlRod_256',\n   'mCrosshairMaterial': 'None',\n   'mDescriptorStatBars': '',\n   'mSubCategories': '',\n   'mMenuPriority': '0.000000',\n   'mFluidColor': '(B=0,G=0,R=0,A=0)',\n   'mGasColor': '(B=0,G=0,R=0,A=0)',\n   'mCompatibleItemDescriptors': '',\n   'mClassToScanFor': 'None',\n   'mScannableType': 'RTWOT_Default',\n   'mShouldOverrideScannerDisplayText': 'False',\n   'mScannerDisplayText': '',\n   'mScannerLightColor': '(B=0,G=0,R=0,A=0)',\n   'mResourceSinkPoints': '2560'},\n  {'ClassName': 'Desc_PressureConversionCube_C',\n   'mDisplayName': 'Pressure Conversion Cube',\n   'mDescription': 'Converts outgoing force into internal pressure. Required to contain unstable, high-energy matter.',\n   'mAbbreviatedDisplayName': '',\n   'mStackSize': 'SS_SMALL',\n   'mCanBeDiscarded': 'True',\n   'mRememberPickUp': 'False',\n   'mEnergyValue': '0.000000',\n   'mRadioactiveDecay': '0.000000',\n   'mForm': 'RF_SOLID',\n   'mSmallIcon': 'Texture2D /Game/FactoryGame/Resource/Parts/PressureConversionCube/UI/IconDesc_ConversionCube_64.IconDesc_ConversionCube_64',\n   'mPersistentBigIcon': 'Texture2D /Game/FactoryGame/Resource/Parts/PressureConversionCube/UI/IconDesc_ConversionCube_256.IconDesc_ConversionCube_256',\n   'mCrosshairMaterial': 'None',\n   'mDescriptorStatBars': '',\n   'mSubCategories': '',\n   'mMenuPriority': '0.000000',\n   'mFluidColor': '(B=0,G=0,R=0,A=0)',\n   'mGasColor': '(B=0,G=0,R=0,A=0)',\n   'mCompatibleItemDescriptors': '',\n   'mClassToScanFor': 'None',\n   'mScannableType': 'RTWOT_Default',\n   'mShouldOverrideScannerDisplayText': 'False',\n   'mScannerDisplayText': '',\n   'mScannerLightColor': '(B=0,G=0,R=0,A=0)',\n   'mResourceSinkPoints': '257312'},\n  {'ClassName': 'Desc_MotorLightweight_C',\n   'mDisplayName': 'Turbo Motor',\n   'mDescription': 'The Turbo Motor is a more complex, and more powerful, version of the regular Motor.',\n   'mAbbreviatedDisplayName': '',\n   'mStackSize': 'SS_SMALL',\n   'mCanBeDiscarded': 'True',\n   'mRememberPickUp': 'False',\n   'mEnergyValue': '0.000000',\n   'mRadioactiveDecay': '0.000000',\n   'mForm': 'RF_SOLID',\n   'mSmallIcon': 'Texture2D /Game/FactoryGame/Resource/Parts/TurboMotor/UI/IconDesc_TurboMotor_64.IconDesc_TurboMotor_64',\n   'mPersistentBigIcon': 'Texture2D /Game/FactoryGame/Resource/Parts/TurboMotor/UI/IconDesc_TurboMotor_256.IconDesc_TurboMotor_256',\n   'mCrosshairMaterial': 'None',\n   'mDescriptorStatBars': '',\n   'mSubCategories': '',\n   'mMenuPriority': '0.000000',\n   'mFluidColor': '(B=0,G=0,R=0,A=0)',\n   'mGasColor': '(B=0,G=0,R=0,A=0)',\n   'mCompatibleItemDescriptors': '',\n   'mClassToScanFor': 'None',\n   'mScannableType': 'RTWOT_Default',\n   'mShouldOverrideScannerDisplayText': 'False',\n   'mScannerDisplayText': '',\n   'mScannerLightColor': '(B=0,G=0,R=0,A=0)',\n   'mResourceSinkPoints': '242720'},\n  {'ClassName': 'Desc_CopperDust_C',\n   'mDisplayName': 'Copper Powder',\n   'mDescription': 'Ground down Copper Ingots.\\r\\nThe high natural density of Copper, combined with the granularity of the powder, make this part fit for producing Nuclear Pasta in the Particle Accelerator.',\n   'mAbbreviatedDisplayName': 'Cop',\n   'mStackSize': 'SS_HUGE',\n   'mCanBeDiscarded': 'True',\n   'mRememberPickUp': 'False',\n   'mEnergyValue': '0.000000',\n   'mRadioactiveDecay': '0.000000',\n   'mForm': 'RF_SOLID',\n   'mSmallIcon': 'Texture2D /Game/FactoryGame/Resource/Parts/CopperDust/UI/IconDesc_CopperDust_64.IconDesc_CopperDust_64',\n   'mPersistentBigIcon': 'Texture2D /Game/FactoryGame/Resource/Parts/CopperDust/UI/IconDesc_CopperDust_256.IconDesc_CopperDust_256',\n   'mCrosshairMaterial': 'None',\n   'mDescriptorStatBars': '',\n   'mSubCategories': '',\n   'mMenuPriority': '0.000000',\n   'mFluidColor': '(B=0,G=0,R=0,A=0)',\n   'mGasColor': '(B=0,G=0,R=0,A=0)',\n   'mCompatibleItemDescriptors': '',\n   'mClassToScanFor': 'None',\n   'mScannableType': 'RTWOT_Default',\n   'mShouldOverrideScannerDisplayText': 'False',\n   'mScannerDisplayText': '',\n   'mScannerLightColor': '(B=0,G=0,R=0,A=0)',\n   'mResourceSinkPoints': '72'},\n  {'ClassName': 'Desc_Gunpowder_C',\n   'mDisplayName': 'Black Powder',\n   'mDescription': 'An explosive powder that is commonly used to produce simple explosives.',\n   'mAbbreviatedDisplayName': '',\n   'mStackSize': 'SS_BIG',\n   'mCanBeDiscarded': 'True',\n   'mRememberPickUp': 'False',\n   'mEnergyValue': '0.000000',\n   'mRadioactiveDecay': '0.000000',\n   'mForm': 'RF_SOLID',\n   'mSmallIcon': 'Texture2D /Game/FactoryGame/Resource/Parts/GunPowder/UI/IconDesc_Gunpowder_64.IconDesc_Gunpowder_64',\n   'mPersistentBigIcon': 'Texture2D /Game/FactoryGame/Resource/Parts/GunPowder/UI/IconDesc_Gunpowder_256.IconDesc_Gunpowder_256',\n   'mCrosshairMaterial': 'None',\n   'mDescriptorStatBars': '',\n   'mSubCategories': '',\n   'mMenuPriority': '0.000000',\n   'mFluidColor': '(B=0,G=0,R=0,A=0)',\n   'mGasColor': '(B=0,G=0,R=0,A=0)',\n   'mCompatibleItemDescriptors': '',\n   'mClassToScanFor': 'None',\n   'mScannableType': 'RTWOT_Default',\n   'mShouldOverrideScannerDisplayText': 'False',\n   'mScannerDisplayText': '',\n   'mScannerLightColor': '(B=0,G=0,R=0,A=0)',\n   'mResourceSinkPoints': '14'},\n  {'ClassName': 'Desc_AlienProtein_C',\n   'mDisplayName': 'Alien Protein',\n   'mDescription': 'Ground down Alien Remains in a neat little package.\\r\\nUsed for medical purposes and to research alien organisms.',\n   'mAbbreviatedDisplayName': '',\n   'mStackSize': 'SS_MEDIUM',\n   'mCanBeDiscarded': 'True',\n   'mRememberPickUp': 'False',\n   'mEnergyValue': '0.000000',\n   'mRadioactiveDecay': '0.000000',\n   'mForm': 'RF_SOLID',\n   'mSmallIcon': 'Texture2D /Game/FactoryGame/Resource/Parts/AlienProtein/UI/IconDesc_AlienProtein_64.IconDesc_AlienProtein_64',\n   'mPersistentBigIcon': 'Texture2D /Game/FactoryGame/Resource/Parts/AlienProtein/UI/IconDesc_AlienProtein_256.IconDesc_AlienProtein_256',\n   'mCrosshairMaterial': 'None',\n   'mDescriptorStatBars': '',\n   'mSubCategories': '',\n   'mMenuPriority': '0.000000',\n   'mFluidColor': '(B=0,G=0,R=0,A=0)',\n   'mGasColor': '(B=0,G=0,R=0,A=0)',\n   'mCompatibleItemDescriptors': '',\n   'mClassToScanFor': 'None',\n   'mScannableType': 'RTWOT_Default',\n   'mShouldOverrideScannerDisplayText': 'False',\n   'mScannerDisplayText': '',\n   'mScannerLightColor': '(B=0,G=0,R=0,A=0)',\n   'mResourceSinkPoints': '0'},\n  {'ClassName': 'Desc_GunpowderMK2_C',\n   'mDisplayName': 'Smokeless Powder',\n   'mDescription': 'An explosive powder that is commonly used to produce modern firearms.',\n   'mAbbreviatedDisplayName': '',\n   'mStackSize': 'SS_MEDIUM',\n   'mCanBeDiscarded': 'True',\n   'mRememberPickUp': 'False',\n   'mEnergyValue': '0.000000',\n   'mRadioactiveDecay': '0.000000',\n   'mForm': 'RF_SOLID',\n   'mSmallIcon': 'Texture2D /Game/FactoryGame/Resource/Parts/GunPowder/UI/IconDesc_GunpowderMk2_64.IconDesc_GunpowderMk2_64',\n   'mPersistentBigIcon': 'Texture2D /Game/FactoryGame/Resource/Parts/GunPowder/UI/IconDesc_GunpowderMk2_256.IconDesc_GunpowderMk2_256',\n   'mCrosshairMaterial': 'None',\n   'mDescriptorStatBars': '',\n   'mSubCategories': '',\n   'mMenuPriority': '1.000000',\n   'mFluidColor': '(B=0,G=0,R=0,A=0)',\n   'mGasColor': '(B=0,G=0,R=0,A=0)',\n   'mCompatibleItemDescriptors': '',\n   'mClassToScanFor': 'None',\n   'mScannableType': 'RTWOT_Default',\n   'mShouldOverrideScannerDisplayText': 'False',\n   'mScannerDisplayText': '',\n   'mScannerLightColor': '(B=0,G=0,R=0,A=0)',\n   'mResourceSinkPoints': '58'}]}"
     },
     "execution_count": 47,
     "metadata": {},
     "output_type": "execute_result"
    }
   ],
   "source": [
    "json.loads(data)[0]"
   ],
   "metadata": {
    "collapsed": false
   }
  },
  {
   "cell_type": "code",
   "execution_count": 5,
   "outputs": [
    {
     "data": {
      "text/plain": "[\"Class'/Script/FactoryGame.FGItemDescriptor'\",\n \"Class'/Script/FactoryGame.FGBuildableDroneStation'\",\n \"Class'/Script/FactoryGame.FGConsumableEquipment'\",\n \"Class'/Script/FactoryGame.FGSchematic'\",\n \"Class'/Script/FactoryGame.FGConsumableDescriptor'\",\n \"Class'/Script/FactoryGame.FGItemDescriptorBiomass'\",\n \"Class'/Script/FactoryGame.FGResourceDescriptor'\",\n \"Class'/Script/FactoryGame.FGBuildableWallLightweight'\",\n \"Class'/Script/FactoryGame.FGBuildableWall'\",\n \"Class'/Script/FactoryGame.FGBuildableDoor'\",\n \"Class'/Script/FactoryGame.FGRecipe'\",\n \"Class'/Script/FactoryGame.FGCustomizationRecipe'\",\n \"Class'/Script/FactoryGame.FGBuildingDescriptor'\",\n \"Class'/Script/FactoryGame.FGBuildableCornerWall'\",\n \"Class'/Script/FactoryGame.FGBuildableRailroadTrack'\",\n \"Class'/Script/FactoryGame.FGBuildableBlueprintDesigner'\",\n \"Class'/Script/FactoryGame.FGBuildableFrackingExtractor'\",\n \"Class'/Script/FactoryGame.FGBuildableFrackingActivator'\",\n \"Class'/Script/FactoryGame.FGBuildableGeneratorGeoThermal'\",\n \"Class'/Script/FactoryGame.FGBuildableResourceExtractor'\",\n \"Class'/Script/FactoryGame.FGBuildableSpaceElevator'\",\n \"Class'/Script/FactoryGame.FGBuildableTradingPost'\",\n \"Class'/Script/FactoryGame.FGBuildable'\",\n \"Class'/Script/FactoryGame.FGBuildablePoleLightweight'\",\n \"Class'/Script/FactoryGame.FGPoleDescriptor'\",\n \"Class'/Script/FactoryGame.FGBuildableConveyorBelt'\",\n \"Class'/Script/FactoryGame.FGBuildableWire'\",\n \"Class'/Script/FactoryGame.FGBuildablePowerPole'\",\n \"Class'/Script/FactoryGame.FGChainsaw'\",\n \"Class'/Script/FactoryGame.FGEquipmentDescriptor'\",\n \"Class'/Script/FactoryGame.FGItemDescriptorNuclearFuel'\",\n \"Class'/Script/FactoryGame.FGGolfCartDispenser'\",\n \"Class'/Script/FactoryGame.FGSuitBase'\",\n \"Class'/Script/FactoryGame.FGJetPack'\",\n \"Class'/Script/FactoryGame.FGJumpingStilts'\",\n \"Class'/Script/FactoryGame.FGAmmoTypeProjectile'\",\n \"Class'/Script/FactoryGame.FGAmmoTypeSpreadshot'\",\n \"Class'/Script/FactoryGame.FGWeapon'\",\n \"Class'/Script/FactoryGame.FGAmmoTypeInstantHit'\",\n \"Class'/Script/FactoryGame.FGEquipmentStunSpear'\",\n \"Class'/Script/FactoryGame.FGChargedWeapon'\",\n \"Class'/Script/FactoryGame.FGGasMask'\",\n \"Class'/Script/FactoryGame.FGBuildableWaterPump'\",\n \"Class'/Script/FactoryGame.FGBuildableManufacturer'\",\n \"Class'/Script/FactoryGame.FGPortableMinerDispenser'\",\n \"Class'/Script/FactoryGame.FGBuildableStorage'\",\n \"Class'/Script/FactoryGame.FGBuildableGeneratorFuel'\",\n \"Class'/Script/FactoryGame.FGBuildableMAM'\",\n \"Class'/Script/FactoryGame.FGObjectScanner'\",\n \"Class'/Script/FactoryGame.FGBuildableBeamLightweight'\",\n \"Class'/Script/FactoryGame.FGBuildablePillarLightweight'\",\n \"Class'/Script/FactoryGame.FGBuildableFactory'\",\n \"Class'/Script/FactoryGame.FGBuildableWalkwayLightweight'\",\n \"Class'/Script/FactoryGame.FGBuildableWalkway'\",\n \"Class'/Script/FactoryGame.FGBuildablePipelinePump'\",\n \"Class'/Script/FactoryGame.FGBuildablePipelineSupport'\",\n \"Class'/Script/FactoryGame.FGBuildablePipeline'\",\n \"Class'/Script/FactoryGame.FGBuildablePipelineJunction'\",\n \"Class'/Script/FactoryGame.FGBuildablePipeReservoir'\",\n \"Class'/Script/FactoryGame.FGBuildableResourceSink'\",\n \"Class'/Script/FactoryGame.FGBuildableResourceSinkShop'\",\n \"Class'/Script/FactoryGame.FGVehicleDescriptor'\",\n \"Class'/Script/FactoryGame.FGBuildableManufacturerVariablePower'\",\n \"Class'/Script/FactoryGame.FGBuildableGeneratorNuclear'\",\n \"Class'/Script/FactoryGame.FGBuildableConveyorLift'\",\n \"Class'/Script/FactoryGame.FGBuildableFoundation'\",\n \"Class'/Script/FactoryGame.FGBuildableFoundationLightweight'\",\n \"Class'/Script/FactoryGame.FGBuildableRamp'\",\n \"Class'/Script/FactoryGame.FGBuildableSplitterSmart'\",\n \"Class'/Script/FactoryGame.FGBuildableAttachmentMerger'\",\n \"Class'/Script/FactoryGame.FGBuildableAttachmentSplitter'\",\n \"Class'/Script/FactoryGame.FGBuildableJumppad'\",\n \"Class'/Script/FactoryGame.FGConveyorPoleStackable'\",\n \"Class'/Script/FactoryGame.FGBuildableDockingStation'\",\n \"Class'/Script/FactoryGame.FGPipeHyperStart'\",\n \"Class'/Script/FactoryGame.FGBuildablePipeHyper'\",\n \"Class'/Script/FactoryGame.FGBuildablePowerStorage'\",\n \"Class'/Script/FactoryGame.FGBuildableRailroadSignal'\",\n \"Class'/Script/FactoryGame.FGBuildableTrainPlatformCargo'\",\n \"Class'/Script/FactoryGame.FGBuildableTrainPlatformEmpty'\",\n \"Class'/Script/FactoryGame.FGBuildableRailroadStation'\",\n \"Class'/Script/FactoryGame.FGHoverPack'\",\n \"Class'/Script/FactoryGame.FGEquipmentZipline'\",\n \"Class'/Script/FactoryGame.FGBuildableCircuitSwitch'\",\n \"Class'/Script/FactoryGame.FGParachute'\",\n \"Class'/Script/FactoryGame.FGBuildableRadarTower'\",\n \"Class'/Script/FactoryGame.FGBuildableFactorySimpleProducer'\",\n \"Class'/Script/FactoryGame.FGBuildableSnowDispenser'\",\n \"Class'/Script/FactoryGame.FGBuildableFactoryBuilding'\",\n \"Class'/Script/FactoryGame.FGBuildableWidgetSign'\",\n \"Class'/Script/FactoryGame.FGBuildableLightSource'\",\n \"Class'/Script/FactoryGame.FGBuildableLadder'\",\n \"Class'/Script/FactoryGame.FGBuildableStair'\",\n \"Class'/Script/FactoryGame.FGBuildableFloodlight'\",\n \"Class'/Script/FactoryGame.FGBuildableLightsControlPanel'\",\n \"Class'/Script/FactoryGame.FGBuildablePassthrough'\"]"
     },
     "execution_count": 5,
     "metadata": {},
     "output_type": "execute_result"
    }
   ],
   "source": [
    "list(BASE_CONFIG.keys())"
   ],
   "metadata": {
    "collapsed": false
   }
  },
  {
   "cell_type": "code",
   "execution_count": 48,
   "outputs": [
    {
     "data": {
      "text/plain": "{'Build_GeneratorBiomass_C': {'ClassName': 'Build_GeneratorBiomass_C',\n  'mCachedLoadPercentage': '0.000000',\n  'mFuelClasses': '',\n  'mDefaultFuelClasses': '(/Script/FactoryGame.FGItemDescriptorBiomass)',\n  'mFuel': [{'mFuelClass': 'FGItemDescriptorBiomass',\n    'mSupplementalResourceClass': '',\n    'mByproduct': '',\n    'mByproductAmount': ''}],\n  'mAvailableFuelClasses': '',\n  'mFuelResourceForm': 'RF_SOLID',\n  'mFuelLoadAmount': '1',\n  'mRequiresSupplementalResource': 'False',\n  'mSupplementalLoadAmount': '0',\n  'mSupplementalToPowerRatio': '0.000000',\n  'mIsFullBlast': 'False',\n  'mCachedInputConnections': '',\n  'mCachedPipeInputConnections': '',\n  'mPowerProduction': '30.000000',\n  'mLoadPercentage': '0.000000',\n  'mPowerConsumption': '0.000000',\n  'mPowerConsumptionExponent': '1.600000',\n  'mDoesHaveShutdownAnimation': 'False',\n  'mOnHasPowerChanged': '()',\n  'mOnHasProductionChanged': '()',\n  'mOnHasStandbyChanged': '()',\n  'mMinimumProducingTime': '2.000000',\n  'mMinimumStoppedTime': '5.000000',\n  'mCanEverMonitorProductivity': 'True',\n  'mCanChangePotential': 'True',\n  'mMinPotential': '0.010000',\n  'mMaxPotential': '1.000000',\n  'mMaxPotentialIncreasePerCrystal': '0.500000',\n  'mFluidStackSizeDefault': 'SS_FLUID',\n  'mFluidStackSizeMultiplier': '1',\n  'OnReplicationDetailActorCreatedEvent': '()',\n  'mEffectUpdateInterval': '1.000000',\n  'mDefaultProductivityMeasurementDuration': '300.000000',\n  'mLastProductivityMeasurementProduceDuration': '300.000000',\n  'mLastProductivityMeasurementDuration': '300.000000',\n  'mCurrentProductivityMeasurementProduceDuration': '0.000000',\n  'mCurrentProductivityMeasurementDuration': '0.000000',\n  'mProductivityMonitorEnabled': 'False',\n  'mCachedSkeletalMeshes': '',\n  'mAddToSignificanceManager': 'True',\n  'mSignificanceRange': '12000.000000',\n  'mDisplayName': 'Biomass Burner',\n  'mDescription': 'Burns various forms of biomass to generate electricity for the power grid.\\r\\nHas no input and must therefore be fed biomass manually.\\r\\n\\r\\nResource consumption will automatically be lowered to meet power demands.',\n  'MaxRenderDistance': '-1.000000',\n  'mHighlightVector': '(X=0.000000,Y=0.000000,Z=0.000000)',\n  'mAlternativeMaterialRecipes': '',\n  'mContainsComponents': 'True',\n  'mBuildEffectSpeed': '0.000000',\n  'mAllowColoring': 'True',\n  'mAllowPatterning': 'True',\n  'mSkipBuildEffect': 'False',\n  'mForceNetUpdateOnRegisterPlayer': 'False',\n  'mToggleDormancyOnInteraction': 'False',\n  'mIsMultiSpawnedBuildable': 'False',\n  'mShouldShowHighlight': 'False',\n  'mShouldShowAttachmentPointVisuals': 'False',\n  'mCreateClearanceMeshRepresentation': 'True',\n  'mCanContainLightweightInstances': 'False',\n  'mAffectsOcclusion': 'False',\n  'mOcclusionShape': 'ROCS_Box',\n  'mScaleCustomOffset': '1.000000',\n  'mCustomScaleType': 'ROCSS_Center',\n  'mOcclusionBoxInfo': '',\n  'mAttachmentPoints': '',\n  'mInteractingPlayers': '',\n  'mIsUseable': 'True',\n  'mHideOnBuildEffectStart': 'False',\n  'mShouldModifyWorldGrid': 'True',\n  'mBlueprintBuildEffectID': '-1'},\n 'Build_GeneratorCoal_C': {'ClassName': 'Build_GeneratorCoal_C',\n  'm_SFXSockets': '(\"AudioSocketTurbine\",\"CoalGeneratorPotential\")',\n  'm_CurrentPotential': '1',\n  'mFuelClasses': '',\n  'mDefaultFuelClasses': '(/Game/FactoryGame/Resource/RawResources/Coal/Desc_Coal.Desc_Coal_C,/Game/FactoryGame/Resource/Parts/CompactedCoal/Desc_CompactedCoal.Desc_CompactedCoal_C,/Game/FactoryGame/Resource/Parts/PetroleumCoke/Desc_PetroleumCoke.Desc_PetroleumCoke_C)',\n  'mFuel': [{'mFuelClass': 'Desc_Coal_C',\n    'mSupplementalResourceClass': 'Desc_Water_C',\n    'mByproduct': '',\n    'mByproductAmount': ''},\n   {'mFuelClass': 'Desc_CompactedCoal_C',\n    'mSupplementalResourceClass': 'Desc_Water_C',\n    'mByproduct': '',\n    'mByproductAmount': ''},\n   {'mFuelClass': 'Desc_PetroleumCoke_C',\n    'mSupplementalResourceClass': 'Desc_Water_C',\n    'mByproduct': '',\n    'mByproductAmount': ''}],\n  'mAvailableFuelClasses': '',\n  'mFuelResourceForm': 'RF_SOLID',\n  'mFuelLoadAmount': '1',\n  'mRequiresSupplementalResource': 'True',\n  'mSupplementalLoadAmount': '1000',\n  'mSupplementalToPowerRatio': '10.000000',\n  'mIsFullBlast': 'True',\n  'mCachedInputConnections': '',\n  'mCachedPipeInputConnections': '',\n  'mPowerProduction': '75.000000',\n  'mLoadPercentage': '0.000000',\n  'mPowerConsumption': '0.000000',\n  'mPowerConsumptionExponent': '1.600000',\n  'mDoesHaveShutdownAnimation': 'True',\n  'mOnHasPowerChanged': '()',\n  'mOnHasProductionChanged': '()',\n  'mOnHasStandbyChanged': '()',\n  'mMinimumProducingTime': '2.000000',\n  'mMinimumStoppedTime': '5.000000',\n  'mCanEverMonitorProductivity': 'True',\n  'mCanChangePotential': 'True',\n  'mMinPotential': '0.010000',\n  'mMaxPotential': '1.000000',\n  'mMaxPotentialIncreasePerCrystal': '0.500000',\n  'mFluidStackSizeDefault': 'SS_FLUID',\n  'mFluidStackSizeMultiplier': '1',\n  'OnReplicationDetailActorCreatedEvent': '()',\n  'mEffectUpdateInterval': '0.000000',\n  'mDefaultProductivityMeasurementDuration': '300.000000',\n  'mLastProductivityMeasurementProduceDuration': '300.000000',\n  'mLastProductivityMeasurementDuration': '300.000000',\n  'mCurrentProductivityMeasurementProduceDuration': '0.000000',\n  'mCurrentProductivityMeasurementDuration': '0.000000',\n  'mProductivityMonitorEnabled': 'False',\n  'mCachedSkeletalMeshes': '',\n  'mAddToSignificanceManager': 'True',\n  'mSignificanceRange': '20000.000000',\n  'mDisplayName': 'Coal Generator',\n  'mDescription': 'Burns Coal to boil Water, the produced steam rotates turbines to generate electricity for the power grid.\\r\\nHas a Conveyor Belt and Pipe input, so both the Coal and Water supply can be automated.\\r\\n\\r\\nCaution: Always generates at the set clock speed. Shuts down if fuel requirements are not met.',\n  'MaxRenderDistance': '-1.000000',\n  'mHighlightVector': '(X=0.000000,Y=0.000000,Z=0.000000)',\n  'mAlternativeMaterialRecipes': '',\n  'mContainsComponents': 'True',\n  'mBuildEffectSpeed': '0.000000',\n  'mAllowColoring': 'True',\n  'mAllowPatterning': 'True',\n  'mSkipBuildEffect': 'False',\n  'mForceNetUpdateOnRegisterPlayer': 'False',\n  'mToggleDormancyOnInteraction': 'False',\n  'mIsMultiSpawnedBuildable': 'False',\n  'mShouldShowHighlight': 'False',\n  'mShouldShowAttachmentPointVisuals': 'False',\n  'mCreateClearanceMeshRepresentation': 'True',\n  'mCanContainLightweightInstances': 'False',\n  'mAffectsOcclusion': 'False',\n  'mOcclusionShape': 'ROCS_Box',\n  'mScaleCustomOffset': '1.000000',\n  'mCustomScaleType': 'ROCSS_Center',\n  'mOcclusionBoxInfo': '',\n  'mAttachmentPoints': '',\n  'mInteractingPlayers': '',\n  'mIsUseable': 'True',\n  'mHideOnBuildEffectStart': 'False',\n  'mShouldModifyWorldGrid': 'True',\n  'mBlueprintBuildEffectID': '-1'},\n 'Build_GeneratorFuel_C': {'ClassName': 'Build_GeneratorFuel_C',\n  'mRTPCInterval': '0.000000',\n  'mCachedLoadPercentage': '0.000000',\n  'm_CurrentPotential': '0',\n  'm_SFXSockets': '(\"AudioSocket_Exhaust\",\"AudioSocket_Root\")',\n  'mFuelClasses': '',\n  'mDefaultFuelClasses': '(/Game/FactoryGame/Resource/Parts/Fuel/Desc_LiquidFuel.Desc_LiquidFuel_C,/Game/FactoryGame/Resource/Parts/Turbofuel/Desc_LiquidTurboFuel.Desc_LiquidTurboFuel_C,/Game/FactoryGame/Resource/Parts/BioFuel/Desc_LiquidBiofuel.Desc_LiquidBiofuel_C)',\n  'mFuel': [{'mFuelClass': 'Desc_LiquidFuel_C',\n    'mSupplementalResourceClass': '',\n    'mByproduct': '',\n    'mByproductAmount': ''},\n   {'mFuelClass': 'Desc_LiquidTurboFuel_C',\n    'mSupplementalResourceClass': '',\n    'mByproduct': '',\n    'mByproductAmount': ''},\n   {'mFuelClass': 'Desc_LiquidBiofuel_C',\n    'mSupplementalResourceClass': '',\n    'mByproduct': '',\n    'mByproductAmount': ''}],\n  'mAvailableFuelClasses': '',\n  'mFuelResourceForm': 'RF_LIQUID',\n  'mFuelLoadAmount': '1000',\n  'mRequiresSupplementalResource': 'False',\n  'mSupplementalLoadAmount': '0',\n  'mSupplementalToPowerRatio': '0.000000',\n  'mIsFullBlast': 'True',\n  'mCachedInputConnections': '',\n  'mCachedPipeInputConnections': '',\n  'mPowerProduction': '150.000000',\n  'mLoadPercentage': '0.000000',\n  'mPowerConsumption': '0.000000',\n  'mPowerConsumptionExponent': '1.600000',\n  'mDoesHaveShutdownAnimation': 'False',\n  'mOnHasPowerChanged': '()',\n  'mOnHasProductionChanged': '()',\n  'mOnHasStandbyChanged': '()',\n  'mMinimumProducingTime': '2.000000',\n  'mMinimumStoppedTime': '5.000000',\n  'mCanEverMonitorProductivity': 'True',\n  'mCanChangePotential': 'True',\n  'mMinPotential': '0.010000',\n  'mMaxPotential': '1.000000',\n  'mMaxPotentialIncreasePerCrystal': '0.500000',\n  'mFluidStackSizeDefault': 'SS_FLUID',\n  'mFluidStackSizeMultiplier': '1',\n  'OnReplicationDetailActorCreatedEvent': '()',\n  'mEffectUpdateInterval': '2.000000',\n  'mDefaultProductivityMeasurementDuration': '300.000000',\n  'mLastProductivityMeasurementProduceDuration': '300.000000',\n  'mLastProductivityMeasurementDuration': '300.000000',\n  'mCurrentProductivityMeasurementProduceDuration': '0.000000',\n  'mCurrentProductivityMeasurementDuration': '0.000000',\n  'mProductivityMonitorEnabled': 'False',\n  'mCachedSkeletalMeshes': '',\n  'mAddToSignificanceManager': 'True',\n  'mSignificanceRange': '18000.000000',\n  'mDisplayName': 'Fuel Generator',\n  'mDescription': 'Consumes Fuel to generate electricity for the power grid.\\r\\nHas a Pipe input so the Fuel supply can be automated.\\r\\n\\r\\nCaution: Always generates at the set clock speed. Shuts down if fuel requirements are not met.',\n  'MaxRenderDistance': '-1.000000',\n  'mHighlightVector': '(X=0.000000,Y=0.000000,Z=0.000000)',\n  'mAlternativeMaterialRecipes': '',\n  'mContainsComponents': 'True',\n  'mBuildEffectSpeed': '0.000000',\n  'mAllowColoring': 'True',\n  'mAllowPatterning': 'True',\n  'mSkipBuildEffect': 'False',\n  'mForceNetUpdateOnRegisterPlayer': 'False',\n  'mToggleDormancyOnInteraction': 'False',\n  'mIsMultiSpawnedBuildable': 'False',\n  'mShouldShowHighlight': 'False',\n  'mShouldShowAttachmentPointVisuals': 'False',\n  'mCreateClearanceMeshRepresentation': 'True',\n  'mCanContainLightweightInstances': 'False',\n  'mAffectsOcclusion': 'False',\n  'mOcclusionShape': 'ROCS_Box',\n  'mScaleCustomOffset': '1.000000',\n  'mCustomScaleType': 'ROCSS_Center',\n  'mOcclusionBoxInfo': '',\n  'mAttachmentPoints': '',\n  'mInteractingPlayers': '',\n  'mIsUseable': 'True',\n  'mHideOnBuildEffectStart': 'False',\n  'mShouldModifyWorldGrid': 'True',\n  'mBlueprintBuildEffectID': '-1'}}"
     },
     "execution_count": 48,
     "metadata": {},
     "output_type": "execute_result"
    }
   ],
   "source": [
    "BASE_CONFIG[\"Class'/Script/FactoryGame.FGBuildableGeneratorFuel'\"]"
   ],
   "metadata": {
    "collapsed": false
   }
  },
  {
   "cell_type": "code",
   "execution_count": 10,
   "id": "8e933410-e642-4af2-88df-a63d520f4819",
   "metadata": {},
   "outputs": [],
   "source": [
    "# TODO: make an intermediate config with cleaned up keys\n",
    "# material/recipe: internal_name: useful info\n",
    "import itertools\n",
    "\n",
    "def get_materials(simple_config: dict) -> list[str]:\n",
    "    resources = []\n",
    "    for item in itertools.chain.from_iterable((simple_config[key].values() for key in RESOURCE_KEYS)):\n",
    "        resources.append(standardize(item[\"mDisplayName\"]))\n",
    "    return resources\n",
    "\n",
    "def get_recipes(simple_config: dict) -> list[str]:\n",
    "    pass\n",
    "\n",
    "def get_extractors():\n",
    "    pass\n",
    "\n",
    "def get_generators():\n",
    "    pass"
   ]
  },
  {
   "cell_type": "code",
   "execution_count": 11,
   "id": "aaf61b04-6df0-4438-988f-0e938141aeab",
   "metadata": {
    "tags": []
   },
   "outputs": [],
   "source": [
    "from abc import ABC\n",
    "from dataclasses import dataclass, fields, make_dataclass\n",
    "from enum import Enum, auto\n",
    "from collections import deque\n",
    "from typing import Optional\n",
    "from itertools import zip_longest\n",
    "import plotly.express as px\n",
    "import numpy as np\n",
    "from scipy.optimize import linprog\n",
    "\n",
    "# TODO: how much of this can be expressed/solved with matrices?\n",
    "\n",
    "class ConfigurationError(Exception):\n",
    "    pass\n",
    "\n",
    "class __MaterialSpec:\n",
    "    \"\"\"\n",
    "    TODO: give this a widget\n",
    "    \"\"\"    \n",
    "    def __add__(self, other):\n",
    "        if not isinstance(other, type(self)):\n",
    "            return NotImplemented\n",
    "        \n",
    "        result = {}\n",
    "        for name, value in self:\n",
    "            result[name] = value + getattr(other, name)\n",
    "        return type(self)(**result)\n",
    "    \n",
    "    def __sub__(self, other):\n",
    "        if not isinstance(other, type(self)):\n",
    "            return NotImplemented\n",
    "        \n",
    "        result = {}\n",
    "        for name, value in self:\n",
    "            result[name] = value - getattr(other, name)\n",
    "        return type(self)(**result)\n",
    "    \n",
    "    def __mul__(self, scalar):\n",
    "        result = {}\n",
    "        for name, value in self:\n",
    "            result[name] = value * scalar \n",
    "        return type(self)(**result)\n",
    "    \n",
    "    def __iter__(self):\n",
    "        for f in fields(self):\n",
    "            yield f.name, getattr(self, f.name)\n",
    "                       \n",
    "    def __or__(self, other):\n",
    "        if isinstance(other, type(self)):\n",
    "            return type(self)(**{name: value for (name, value), (_, matched_value) in zip(self, other) if matched_value > 0})\n",
    "        # elif isinstance(other, Material):\n",
    "        #     return type(self)(**{other.name: getattr(self, other.name)})\n",
    "        elif isinstance(other, str):\n",
    "            return type(self)(**{other: getattr(self, other)})\n",
    "        \n",
    "        return NotImplemented\n",
    "    \n",
    "    def __repr__(self):\n",
    "        return \"\\n\".join(f\"{name}: {value}\" for name, value in self if value > 0)\n",
    "\n",
    "MaterialSpec = make_dataclass(\"MaterialSpec\", [(mat, float, 0) for mat in get_materials(BASE_CONFIG)], bases=(__MaterialSpec,), repr=False)\n",
    "    \n",
    "class Recipe:\n",
    "    name: str\n",
    "    # TODO: duration: float\n",
    "    \n",
    "    def __init__(self, name: str, ingredients: MaterialSpec, products: MaterialSpec):\n",
    "        self.ingredients = ingredients\n",
    "        self.products = products\n",
    "        self.name = name\n",
    "        \n",
    "    def __add__(self, material_spec: MaterialSpec):\n",
    "        return material_spec + self.products - self.ingredients\n",
    "    \n",
    "    def __radd__(self, material_spec: MaterialSpec):\n",
    "        return self + material_spec\n",
    "    \n",
    "    def __rsub__(self, material_spec: MaterialSpec):\n",
    "        return material_spec + self.ingredients - self.products\n",
    "    \n",
    "    def __mul__(self, scalar: float):\n",
    "        \"\"\"\n",
    "        Scale up this recipe\n",
    "        \"\"\"\n",
    "        return type(self)(self.name, self.ingredients * scalar, self.products * scalar)\n",
    "    \n",
    "    def __rtruediv__(self, material_spec: MaterialSpec):\n",
    "        \"\"\"\n",
    "        Get the number of iterations of this recipe that can be produced from the given material_spec\n",
    "        \"\"\"\n",
    "        return min(getattr(material_spec, name) / value for name, value in self.ingredients if value > 0)\n",
    "    \n",
    "    def __repr__(self):\n",
    "        ingredients = \" \".join(repr(self.ingredients).splitlines())\n",
    "        products = \" \".join(repr(self.products).splitlines())\n",
    "                \n",
    "        return f\"{ingredients} >> {products}\"\n",
    "        \n",
    "        \n",
    "class Machine(ABC):\n",
    "    # TODO: don't subclass machines, just take a category argument and set parameters from config/recipe. It doesn't matter what the number of outputs is\n",
    "    \n",
    "    # TODO: weakref these\n",
    "    input_producers: dict[\"Machine\", str]\n",
    "    output_consumers: dict[\"Machine\", str]\n",
    "    \n",
    "    power_consumption: float\n",
    "    power_production: float\n",
    "    \n",
    "    clock_speed: float # TODO\n",
    "    _consumption_exponent: float # TODO\n",
    "    inputs: int\n",
    "    outputs: int\n",
    "    color: str\n",
    "    \n",
    "    _color_generator = iter(px.colors.qualitative.Dark24)\n",
    "    \n",
    "    def __init__(self, recipe: Recipe):\n",
    "        inputs = sum(material > 0 for _, material in recipe.ingredients)\n",
    "        outputs = sum(material > 0 for _, material in recipe.products)\n",
    "        self.input_producers = {}\n",
    "        self.output_consumers = {}\n",
    "        \n",
    "        if inputs != self.inputs or outputs != self.outputs:\n",
    "            raise ConfigurationError(f\"{self.__class__} must have {self.inputs} inputs and {self.outputs} outputs\")\n",
    "            \n",
    "        self.recipe = recipe\n",
    "        \n",
    "    def __init_subclass__(cls, skip_color=False):\n",
    "        if not skip_color:\n",
    "            cls.color = next(cls._color_generator)\n",
    "        \n",
    "    def __str__(self):\n",
    "        return f\"<{self.__class__.__name__}: {self.recipe}>\"\n",
    "        \n",
    "    def __repr__(self):\n",
    "        return str(self)\n",
    "        \n",
    "    def __rshift__(self, material_spec: MaterialSpec):\n",
    "        \"\"\"\n",
    "        Solve for inputs\n",
    "        Recipe >> MaterialSpec\n",
    "        \"\"\"\n",
    "        # TODO: what should the inverse of div be?\n",
    "        scale = max(getattr(material_spec, name) / value for name, value in self.recipe.products if value > 0)\n",
    "        scaled = self.recipe * scale\n",
    "        return material_spec - scaled\n",
    "    \n",
    "    def __lshift__(self, material_spec: MaterialSpec):\n",
    "        \"\"\"\n",
    "        Solve for outputs\n",
    "        Recipe << MaterialSpec\n",
    "        \"\"\"\n",
    "        scale = material_spec / self.recipe\n",
    "        scaled = self.recipe * scale\n",
    "        return material_spec + scaled\n",
    "        \n",
    "    def __rrshift__(self, material_spec: MaterialSpec):\n",
    "        \"\"\"\n",
    "        Solve for inputs\n",
    "        MaterialSpec << Recipe\n",
    "        \"\"\"\n",
    "        return self << material_spec\n",
    "    \n",
    "    def __rlshift__(self, material_spec: MaterialSpec):\n",
    "        \"\"\"\n",
    "        Solve for outputs\n",
    "        MaterialSpec >> Recipe\n",
    "        \"\"\"\n",
    "        return self >> material_spec\n",
    "        \n",
    "    def has_input(self, material: str):\n",
    "        return getattr(self.recipe.ingredients, material) > 0\n",
    "    \n",
    "    def has_output(self, material: str):\n",
    "        return getattr(self.recipe.products, material) > 0\n",
    "    \n",
    "    # TODO: there's some serious confusion of responsibilities between this and recipe\n",
    "    def products(self):\n",
    "        return [product for product, value in self.recipe.products if value > 0]\n",
    "    \n",
    "    def ingredients(self):\n",
    "        return [ingredient for ingredient, value in self.recipe.ingredients if value > 0]\n",
    "    \n",
    "    def bind(self, other: \"Machine\", material: str):\n",
    "        \"\"\"\n",
    "        Verify that there is a matching input-output pair for these two machines\n",
    "        \n",
    "        # TODO: can only handle binding one output to a given machine\n",
    "        \"\"\"\n",
    "        if self.has_output(material) and other.has_input(material):\n",
    "            other.input_producers[self] = material\n",
    "            self.output_consumers[other] = material\n",
    "        elif self.has_input(material) and other.has_output(material):\n",
    "            self.input_producers[other] = material\n",
    "            other.output_consumers[self] = material\n",
    "        else:\n",
    "            raise ConfigurationError(f\"{self} and {other} do not have a matching input and output.\")\n",
    "            \n",
    "        return self\n",
    "    \n",
    "    @staticmethod\n",
    "    def autobind(machines: list[\"Self\"]):\n",
    "        for i, machine in enumerate(machines):\n",
    "            for other_machine in machines[i:]:\n",
    "                for ingredient in machine.ingredients():\n",
    "                    if other_machine.has_output(ingredient):\n",
    "                        machine.bind(other_machine, ingredient)\n",
    "                for product in machine.products():\n",
    "                    if other_machine.has_input(product):\n",
    "                        machine.bind(other_machine, product)\n",
    "        \n",
    "\n",
    "def dataclass_to_list(cd: \"dataclass\"):\n",
    "    return [getattr(cd, f.name) for f in sorted(fields(cd), key=lambda f: f.name)]\n",
    "    "
   ]
  },
  {
   "cell_type": "code",
   "execution_count": 12,
   "id": "1185d670-8b54-4e17-9d2e-679fc55726c7",
   "metadata": {
    "tags": []
   },
   "outputs": [],
   "source": [
    "class Process:\n",
    "    \"\"\"\n",
    "    TODO: power\n",
    "    \"\"\"\n",
    "    scale: int\n",
    "    power: float = 0\n",
    "    process_root: Machine\n",
    "    input_materials: MaterialSpec\n",
    "    output_materials: MaterialSpec\n",
    "    \n",
    "    def __init__(self, process_root: Machine, registry, scale: float=1):\n",
    "        self.process_root = process_root\n",
    "        self.scale = scale\n",
    "        self.input_materials = process_root.recipe.ingredients * scale\n",
    "        self.output_materials = process_root.recipe.products * scale\n",
    "        \n",
    "        # TODO: this is terrible\n",
    "        self.process_registry = registry\n",
    "        registry[process_root] = self\n",
    "        \n",
    "        \n",
    "    @classmethod\n",
    "    def from_outputs(cls, target_output: MaterialSpec, machines: list[Machine], include_power=False):\n",
    "        \"\"\"\n",
    "        Builds a process tree from a list of machines\n",
    "        \n",
    "        TODO: co-optimize generation, use less than constraint, multiple gen/load by -1 to ensure excess consumption\n",
    "        TODO: allow surplos\n",
    "        \"\"\"\n",
    "        output = Aggregator(Recipe(\"output\", target_output, target_output))\n",
    "        nodes = deque([output])\n",
    "        visited = set()\n",
    "        registry = {}\n",
    "\n",
    "        # collect possible nodes in tree\n",
    "        while len(nodes):\n",
    "            current_node = nodes.popleft()\n",
    "            visited.add(current_node)\n",
    "            \n",
    "            for machine in machines:\n",
    "                for ingredient in current_node.ingredients():\n",
    "                    if machine.has_output(ingredient):\n",
    "                        if machine not in visited:\n",
    "                            nodes.append(machine)\n",
    "        \n",
    "        visited = list(visited)\n",
    "        costs = [1 for _ in visited] # TODO: pre-process cost per recipe\n",
    "        output_equals = dataclass_to_list(target_output)\n",
    "        \n",
    "        material_constraints = np.array([dataclass_to_list(m.recipe.products - m.recipe.ingredients) for m in visited]).T\n",
    "        \n",
    "        if include_power:\n",
    "            A_ub = [m.power_consumption - m.power_production for m in visited]\n",
    "            b_ub = [0]\n",
    "            solution = linprog(c=costs, A_eq=material_constraints, b_eq=output_equals, A_ub=A_ub, b_ub=b_ub)\n",
    "        else:\n",
    "            solution = linprog(c=costs, A_eq=material_constraints, b_eq=output_equals)\n",
    "        \n",
    "        for m, s in zip(visited, solution.x.round(4)):\n",
    "            cls(m, registry, s)\n",
    "                \n",
    "        cls(output, registry, 1)\n",
    "            \n",
    "        return registry[output]\n",
    "    \n",
    "    \n",
    "    @classmethod\n",
    "    def from_inputs(cls, available_materials, target_output, machines, generators=None):\n",
    "        \"\"\"\n",
    "        NOTE: if extractors are passed in here, this optimization is unbounded, since extractors are currently modelled as requiring no resources\n",
    "              to output their expected output. This may be why extractors in the config have a balanced in and output rate. In the case of this\n",
    "              problem, however, the optimizer will ignore extractors since consuming materials directly is equivalent.\n",
    "              FIXME: this can be addressed by adding an additional constraint on producers/extractors. May be trick for intermediate products\n",
    "        \"\"\"\n",
    "        inputs = Aggregator(Recipe(\"input\", available_materials, available_materials))\n",
    "        nodes = deque([inputs])\n",
    "        visited = set()\n",
    "        registry = {}\n",
    "\n",
    "        # collect possible nodes in tree\n",
    "        while len(nodes):\n",
    "            current_node = nodes.popleft()\n",
    "            visited.add(current_node)\n",
    "            for machine in machines:\n",
    "                for product in current_node.products():\n",
    "                    # TODO: this works, for unknown reasons. Without this, solution includes extraneous recipes, seemingly\n",
    "                    # to balance consumption\n",
    "                    if machine.has_input(product):\n",
    "                        if machine not in visited:\n",
    "                            nodes.append(machine)\n",
    "        \n",
    "        visited = list(visited)\n",
    "        \n",
    "        # FIXME: this setup of getattrs/weird loop order is heinous, even by the standards of this project\n",
    "        costs = np.array([*[sum((getattr(target_output, mat) > 0) * getattr(m.recipe.ingredients - m.recipe.products, mat) for mat in [*m.products(), *m.ingredients()]) for m in visited], *[.001 for _ in visited]])\n",
    "        \n",
    "        connect_eq_constraints = [[(j == i % len(visited)) * (1 - 2*(i // len(visited))) for i, _ in enumerate([*visited, *visited])] for j, _ in enumerate(visited)]\n",
    "        connect_eq_bounds = [0 for _ in range(len(visited))]\n",
    "        \n",
    "        production_matrix = np.array([dataclass_to_list(m.recipe.ingredients - m.recipe.products) for m in visited]).T\n",
    "        production_matrix = np.concatenate((production_matrix, np.zeros_like(production_matrix)), axis=1)\n",
    "        \n",
    "        production_amounts = dataclass_to_list(target_output)\n",
    "        production_indices, *_ = np.nonzero(production_amounts)\n",
    "        \n",
    "        for mat_1_idx, mat_2_idx in zip(production_indices[:-1], production_indices[1:]):\n",
    "            ratio = production_amounts[mat_1_idx] / production_amounts[mat_2_idx]\n",
    "            connect_eq_constraints.append(-1*production_matrix[mat_1_idx, :] + ratio * production_matrix[mat_2_idx, :])\n",
    "            connect_eq_bounds.append(0)\n",
    "            \n",
    "        connect_eq_constraints = np.array(connect_eq_constraints)\n",
    "        connect_eq_bounds = np.array(connect_eq_bounds)\n",
    "        \n",
    "        \n",
    "        # make products hove positive value, require consumption to be <= available\n",
    "        output_bounds = np.array([*[material - .001 * (i in production_indices) for i, material in enumerate(dataclass_to_list(available_materials))]])                        \n",
    "\n",
    "        solution = linprog(c=costs, A_ub=production_matrix, b_ub=output_bounds, A_eq=connect_eq_constraints, b_eq=connect_eq_bounds)\n",
    "                \n",
    "        for m, s in zip(visited, solution.x.round(4)):\n",
    "            cls(m, registry, s)\n",
    "                \n",
    "        cls(inputs, registry, 1)\n",
    "        \n",
    "        return registry[inputs]"
   ]
  },
  {
   "cell_type": "code",
   "execution_count": 13,
   "id": "48f5f301-9c2d-4a3c-9f4d-9bfcf29aca18",
   "metadata": {
    "tags": []
   },
   "outputs": [],
   "source": [
    "class VariableOutputMachine(Machine, skip_color=True):\n",
    "        \n",
    "    def __init__(self, recipe: Recipe):\n",
    "        self.outputs = min(sum(material > 0 for _, material in recipe.products), self.outputs)\n",
    "        \n",
    "        super().__init__(recipe)\n",
    "        \n",
    "class VariableInputMachine(Machine, skip_color=True):\n",
    "        \n",
    "    def __init__(self, recipe: Recipe):\n",
    "        self.inputs = min(sum(material > 0 for _, material in recipe.ingredients), self.inputs)\n",
    "        \n",
    "        super().__init__(recipe)\n",
    "                                                                                  \n",
    "    \n",
    "class Constructor(Machine):\n",
    "    power_consumption = 4\n",
    "    inputs = 1\n",
    "    outputs = 1\n",
    "    \n",
    "    \n",
    "class Assembler(Machine):\n",
    "    power_consumption = 15\n",
    "    inputs = 2\n",
    "    outputs = 1\n",
    "    \n",
    "    \n",
    "class Manufacturer(VariableInputMachine):\n",
    "    power_consumption = 55\n",
    "    inputs = 4\n",
    "    outputs = 1\n",
    "    \n",
    "    \n",
    "class Smelter(Machine):\n",
    "    power_consumption = 4\n",
    "    inputs = 1\n",
    "    outputs = 1\n",
    "    \n",
    "    \n",
    "class Foundry(Machine):\n",
    "    power_consumption = 16 \n",
    "    inputs = 2\n",
    "    outputs = 1\n",
    "    \n",
    "    \n",
    "class Packager(VariableOutputMachine, VariableInputMachine):\n",
    "    power_consumption = 10\n",
    "    inputs = 2\n",
    "    outputs = 2\n",
    "    \n",
    "    \n",
    "class Refinery(VariableOutputMachine, VariableInputMachine):\n",
    "    power_consumption = 30\n",
    "    inputs = 2\n",
    "    outputs = 2\n",
    "\n",
    "    \n",
    "class Extractor(Machine):\n",
    "    # TODO: different extractor types have different consumption\n",
    "    power_consumption = 10\n",
    "    inputs = 0\n",
    "    outputs = 1\n",
    "    \n",
    "    \n",
    "class Blender(VariableOutputMachine, VariableInputMachine):\n",
    "    # TODO: power consumption varies by recipe\n",
    "    power_consumption = 1500\n",
    "    inputs = 4\n",
    "    outputs = 2\n",
    "    \n",
    "    \n",
    "class Aggregator(Machine):\n",
    "    \"\"\"\n",
    "    Special class to join disjoint trees so that every process can be expressed as a tree, \n",
    "    regardless of desired outputs. Can be used, for example, to represent a factory floor as a 'Machine'\n",
    "    \"\"\"\n",
    "    power_consumption = 0\n",
    "    def __init__(self, recipe: Recipe):\n",
    "        self.inputs = sum(material > 0 for _, material in recipe.ingredients)\n",
    "        self.outputs = sum(material > 0 for _, material in recipe.products)\n",
    "        super().__init__(recipe)\n",
    "        \n",
    "    \n",
    "class ParticleAccelerator(VariableInputMachine):\n",
    "    power_consumption = 300\n",
    "    inputs = 3\n",
    "    outputs = 1\n",
    "    \n",
    "# TODO: get resource cost for proposed factory (buildings)"
   ]
  },
  {
   "cell_type": "code",
   "execution_count": 14,
   "id": "6cc2276c-b062-47da-941b-ad5457cbd63f",
   "metadata": {
    "tags": []
   },
   "outputs": [],
   "source": [
    "import re\n",
    "from dataclasses import dataclass, field\n",
    "\n",
    "machine_mapping = {\"/Game/FactoryGame/Buildable/Factory/AssemblerMk1/Build_AssemblerMk1.Build_AssemblerMk1_C\": Assembler, \n",
    " \"/Game/FactoryGame/Buildable/Factory/ManufacturerMk1/Build_ManufacturerMk1.Build_ManufacturerMk1_C\": Manufacturer, \n",
    " \"/Game/FactoryGame/Buildable/Factory/SmelterMk1/Build_SmelterMk1.Build_SmelterMk1_C\": Smelter,\n",
    " \"/Game/FactoryGame/Buildable/Factory/ConstructorMk1/Build_ConstructorMk1.Build_ConstructorMk1_C\": Constructor, \n",
    " \"/Game/FactoryGame/Buildable/Factory/FoundryMk1/Build_FoundryMk1.Build_FoundryMk1_C\": Foundry,\n",
    " \"/Game/FactoryGame/Buildable/Factory/HadronCollider/Build_HadronCollider.Build_HadronCollider_C\": ParticleAccelerator,\n",
    " \"/Game/FactoryGame/Buildable/Factory/Blender/Build_Blender.Build_Blender_C\": Blender,\n",
    " \"/Game/FactoryGame/Buildable/Factory/Packager/Build_Packager.Build_Packager_C\": Packager,\n",
    " \"/Game/FactoryGame/Buildable/Factory/OilRefinery/Build_OilRefinery.Build_OilRefinery_C\": Refinery}\n",
    "\n",
    "@dataclass\n",
    "class Machines:\n",
    "    alternates: list[Machine] = field(default_factory=list)\n",
    "    core: list[Machine] = field(default_factory=list)\n",
    "    fluid_extractors: list[Machine] = field(default_factory=list)\n",
    "    extractors_mk1: list[Machine] = field(default_factory=list)\n",
    "    extractors_mk2: list[Machine] = field(default_factory=list)\n",
    "    extractors_mk3: list[Machine] = field(default_factory=list)\n",
    "    \n",
    "    \n",
    "# TODO: keep dict of recipes, store collections of core/alternate as strings so that available recipes can be specified as a collection of strings\n",
    "# TOODO: use recipes config key, rather than all of this nonsense--retain class name to material name\n",
    "# FIXME: smelters are 1:1\n",
    "# FIXME: add generators\n",
    "def make_recipes(simple_config: dict, machine_mapping: dict[str, Machine]) -> list:\n",
    "    resource_capture_group = r\".*?\\.(\\w+).*?\"\n",
    "    ingredients_pattern = rf\"\\(ItemClass={resource_capture_group},Amount=(\\d+)\\)\"\n",
    "    machines_pattern = fr\"({'|'.join(re.escape(m) for m in machine_mapping.keys())})\"\n",
    "    known_crafters = (\"Smelter\", \"Manufacturer\", \"Assembler\", \"Packager\", \"Refinery\", \"Collider\", \"Foundry\", \"Blender\", \"Constructor\")\n",
    "    \n",
    "    machines = Machines()\n",
    "    material_config = {}\n",
    "    for key in RESOURCE_KEYS:\n",
    "        material_config.update(simple_config[key])\n",
    "\n",
    "    for config in simple_config[\"Class'/Script/FactoryGame.FGRecipe'\"].values():\n",
    "        machine = re.search(machines_pattern, config[\"mProducedIn\"])\n",
    "        \n",
    "        if machine is None:\n",
    "            continue\n",
    "\n",
    "        machine = machine_mapping[machine[0]]\n",
    "            \n",
    "        # TODO: convert resources to friendly names\n",
    "        try:\n",
    "            ingredients = {standardize(material_config[name][\"mDisplayName\"]): float(amt) / 1000 if material_config[name][\"mForm\"] in [\"RF_LIQUID\", \"RF_GAS\"] else float(amt) for name, amt in re.findall(ingredients_pattern, config[\"mIngredients\"])}\n",
    "            products = {standardize(material_config[name][\"mDisplayName\"]): float(amt) / 1000 if material_config[name][\"mForm\"] in [\"RF_LIQUID\", \"RF_GAS\"] else float(amt) for name, amt in re.findall(ingredients_pattern, config[\"mProduct\"])}\n",
    "            if \"alternate\" in config[\"FullName\"].lower():\n",
    "                machines.alternates.append(machine(Recipe(standardize(config[\"mDisplayName\"]), MaterialSpec(**ingredients), MaterialSpec(**products)) * (60 / float(config[\"mManufactoringDuration\"]))))\n",
    "            else:\n",
    "                machines.core.append(machine(Recipe(standardize(config[\"mDisplayName\"]), MaterialSpec(**ingredients), MaterialSpec(**products)) * (60 / float(config[\"mManufactoringDuration\"]))))\n",
    "                                \n",
    "        except Exception as e:\n",
    "            print(f\"missing: {e}\")\n",
    "            print()\n",
    "            \n",
    "    def get_production_rate(config):\n",
    "        return (60 / float(config[\"mExtractCycleTime\"])) * float(config[\"mItemsPerCycle\"])\n",
    "            \n",
    "    # FIXME: I think this qualifies as a mess\n",
    "    for key in EXTRACTOR_KEYS:\n",
    "        for extractor in simple_config[key].values():\n",
    "            if \"RF_SOLID\" in extractor[\"mAllowedResourceForms\"]:\n",
    "                for material in map(lambda x:standardize(material_config[x][\"mDisplayName\"]), simple_config[\"Class'/Script/FactoryGame.FGResourceDescriptor'\"].keys()):\n",
    "                    if \"mk1\" in  extractor[\"ClassName\"].lower():\n",
    "                        machines.extractors_mk1.append(Extractor(Recipe(material, MaterialSpec(), MaterialSpec(**{material: get_production_rate(extractor)}))))\n",
    "                    elif \"mk2\" in  extractor[\"ClassName\"].lower():\n",
    "                        machines.extractors_mk2.append(Extractor(Recipe(material, MaterialSpec(), MaterialSpec(**{material: get_production_rate(extractor)}))))\n",
    "                    elif \"mk3\" in  extractor[\"ClassName\"].lower():\n",
    "                        machines.extractors_mk3.append(Extractor(Recipe(material, MaterialSpec(), MaterialSpec(**{material: get_production_rate(extractor)}))))\n",
    "            elif \"RF_LIQUID\" in extractor[\"mAllowedResourceForms\"] or \"RF_GAS\" in extractor[\"mAllowedResourceForms\"]:\n",
    "                for material in map(lambda x: standardize(material_config[re.search(resource_capture_group, x)[1]][\"mDisplayName\"]), extractor[\"mAllowedResources\"].strip(\"()\").split(\",\")):\n",
    "                    machines.fluid_extractors.append(Extractor(Recipe(material, MaterialSpec(), MaterialSpec(**{material: get_production_rate(extractor) / 1000}))))\n",
    "        \n",
    "        \n",
    "    return machines"
   ]
  },
  {
   "cell_type": "code",
   "execution_count": 15,
   "id": "dc2a6928-99f7-4018-968d-c369e3e1d824",
   "metadata": {
    "tags": []
   },
   "outputs": [],
   "source": [
    "import igraph\n",
    "from igraph import Graph, EdgeSeq\n",
    "import itertools\n",
    "import plotly.graph_objects as go\n",
    "import os\n",
    "from textwrap import dedent\n",
    "import numpy as np\n",
    "\n",
    "import math\n",
    "\n",
    "def make_hover_label(process: Process):\n",
    "    return dedent(f\"\"\"\n",
    "    {process.process_root.__class__.__name__}<br>\n",
    "    Recipe: {process.process_root.recipe.name}<br>\n",
    "    Scale: {process.scale}\n",
    "    \"\"\")\n",
    "\n",
    "\n",
    "# TODO: show machine types in legend\n",
    "def plot_process(process: Process, layout=Graph.layout_auto):\n",
    "    ordered_vertices = [m for m in process.process_registry.values() if m.scale > 0]\n",
    "    n_vertices = len(ordered_vertices)\n",
    "    \n",
    "    edges = [(ordered_vertices.index(process.process_registry[other]), ordered_vertices.index(self)) for self in ordered_vertices for other in self.process_root.input_producers if process.process_registry[other] in ordered_vertices]\n",
    "    breakpoint()\n",
    "\n",
    "    G = Graph(n_vertices, edges)\n",
    "    layout = G.layout(layout)\n",
    "    Xn, Yn = list(zip(*layout))\n",
    "    edge_coords = itertools.chain.from_iterable([[(Xn[n], Yn[n]) for n in e] + [(None, None)] for e in edges])\n",
    "    Xe, Ye = list(zip(*edge_coords))\n",
    "    \n",
    "    max_scale = max(n.scale for n in ordered_vertices)\n",
    "    point_scale = 20\n",
    "    point_sizes = [(math.tanh(n.scale  / max_scale) + 1) * point_scale for n in ordered_vertices]\n",
    "\n",
    "    fig = go.Figure()\n",
    "    fig.add_trace(go.Scatter(\n",
    "                       x=Xe,\n",
    "                       y=Ye,\n",
    "                       mode='lines+markers',\n",
    "                       hoverinfo='none',\n",
    "                       line_shape='spline',\n",
    "                       marker=dict(\n",
    "                            symbol=\"arrow-wide\",\n",
    "                            size=10,\n",
    "                            color=\"black\",\n",
    "                            angleref=\"previous\",\n",
    "                            standoff=point_scale//2\n",
    "                        ),\n",
    "                        showlegend=False\n",
    "                    ),\n",
    "                    \n",
    "                 )\n",
    "\n",
    "    fig.add_trace(go.Scatter(x=Xn,\n",
    "                      y=Yn,\n",
    "                      mode='markers',\n",
    "                      marker=dict(symbol='circle-dot',\n",
    "                                  size=point_sizes,\n",
    "                                  color=[m.process_root.color for m in ordered_vertices],\n",
    "                                ),\n",
    "                      text=[make_hover_label(v) for v in ordered_vertices],\n",
    "                      hovertemplate=\"%{text}<extra></extra>\",\n",
    "                      showlegend=False,\n",
    "                      )\n",
    "                 )\n",
    "\n",
    "    # TODO: better sizing\n",
    "    fig.update_layout(\n",
    "        autosize=True,\n",
    "        xaxis= {\n",
    "            'showgrid': False, # thin lines in the background\n",
    "            'zeroline': False, # thick line at x=0\n",
    "            'visible': False,  # numbers below\n",
    "        },\n",
    "        yaxis= {\n",
    "            'showgrid': False, # thin lines in the background\n",
    "            'zeroline': False, # thick line at x=0\n",
    "            'visible': False,  # numbers below\n",
    "        },\n",
    "        height=1000\n",
    "    )\n",
    "\n",
    "    fig.show()\n",
    "    \n",
    "    \n",
    "def plot_sankey(process: Process):\n",
    "    ordered_vertices = [m for m in process.process_registry.values() if m.scale > 0]\n",
    "    n_vertices = len(ordered_vertices)\n",
    "    \n",
    "    edges = [(ordered_vertices.index(process.process_registry[other]), ordered_vertices.index(self)) for self in ordered_vertices for other in self.process_root.input_producers if process.process_registry[other] in ordered_vertices]\n",
    "    source, target = zip(*edges)\n",
    "    # TODO: get the bound resource and multiply by the source scale\n",
    "    \n",
    "    def get_materials_for_link(start: int, end: int, vertices: list[Process]):\n",
    "        start_process = vertices[start]\n",
    "        end_process = vertices[end]\n",
    "        bound_material = start_process.process_root.output_consumers[end_process.process_root]\n",
    "        return bound_material, (getattr(end_process.process_root.recipe.ingredients, bound_material) * end_process.scale)\n",
    "    \n",
    "    labels, weights = zip(*[get_materials_for_link(start, end, ordered_vertices) for (start, end) in edges])\n",
    "    \n",
    "    fig = go.Figure()\n",
    "    fig.add_trace(\n",
    "        go.Sankey(\n",
    "            node=dict(\n",
    "                label = [f\"{v.process_root.__class__.__name__}: {v.process_root.recipe.name}\" for v in ordered_vertices]\n",
    "            ),\n",
    "            link=dict(\n",
    "                source=source,\n",
    "                target=target,\n",
    "                value=weights,\n",
    "                label=labels\n",
    "            )\n",
    "        )\n",
    "    )\n",
    "    fig.show()\n",
    "\n",
    "# TODO: use plotly tables and link rows to scatter/sankey nodes\n",
    "def make_row(values: list[str]):\n",
    "    return \"<tr>\" + \"\".join([f\"<td>{v}</td>\" for v in values]) + \"</tr>\"\n",
    "\n",
    "def make_table(headers: list[str], values: list[list[str]]):\n",
    "    header = make_row(headers)\n",
    "    rows = \"\\n\".join([make_row(row) for row in values])\n",
    "    \n",
    "    return dedent(f\"\"\"\n",
    "    <table>\n",
    "    <thead>\n",
    "    {header}\n",
    "    </thead>\n",
    "    <tbody>\n",
    "    {rows}\n",
    "    </tbody>\n",
    "    </table>\"\"\")\n",
    "\n",
    "def recipe_summary(process: Process):\n",
    "    headers = [\"Machine Type\", \"Count\", \"Recipe\", \"Ingredients\", \"Products\"]\n",
    "    rows = []\n",
    "    for process in process.process_registry.values():\n",
    "        if process.scale > 0:\n",
    "            rows.append([process.process_root.__class__.__name__,\n",
    "                         process.scale,\n",
    "                         process.process_root.recipe.name,\n",
    "                         \"<br>\".join([f\"{name}: {value * process.scale:.2f}\" for name, value in process.process_root.recipe.ingredients if value > 0]),\n",
    "                         \"<br>\".join([f\"{name}: {value * process.scale:.2f}\" for name, value in process.process_root.recipe.products if value > 0]),\n",
    "                        ])\n",
    "                     \n",
    "    return make_table(headers, rows)\n",
    "    \n",
    "\n",
    "def total_power(process: Process):\n",
    "    total =  sum(p.scale * p.process_root.power_consumption for p in filter(lambda p: p.scale > 0, process.process_registry.values()))\n",
    "    print(f\"Total Power: {total}\")\n"
   ]
  },
  {
   "cell_type": "code",
   "execution_count": 16,
   "id": "664fdbdf-85ca-41f3-b53d-5f981e8fbe09",
   "metadata": {
    "tags": []
   },
   "outputs": [
    {
     "name": "stderr",
     "output_type": "stream",
     "text": [
      "/tmp/ipykernel_401496/2770569113.py:1: DeprecationWarning:\n",
      "\n",
      "Importing display from IPython.core.display is deprecated since IPython 7.14, please import from IPython display\n",
      "\n"
     ]
    }
   ],
   "source": [
    "from IPython.core.display import display, HTML\n",
    "\n",
    "def factory_plan(target):\n",
    "    available_machines = make_recipes(BASE_CONFIG, machine_mapping)\n",
    "    # stator?\n",
    "    #target_product = MaterialSpec(steel_beam=5, encased_industrial_beam=5, modular_frame=2, heavy_modular_frame=2)\n",
    "    available_machines = [*available_machines.core,\n",
    "                                     *available_machines.extractors_mk1,\n",
    "                                     *available_machines.fluid_extractors]\n",
    "    Machine.autobind(available_machines)\n",
    "    \n",
    "\n",
    "    solution = Process.from_outputs(target, \n",
    "                                    available_machines\n",
    "                                    )\n",
    "    \n",
    "    plot_process(solution, Graph.layout_reingold_tilford)\n",
    "    plot_sankey(solution)\n",
    "    display(HTML(recipe_summary(solution)))\n",
    "    total_power(solution)\n",
    "    return solution"
   ]
  },
  {
   "cell_type": "code",
   "execution_count": 17,
   "id": "06ecc772-14d6-4fec-9150-dd85fc546ba8",
   "metadata": {
    "tags": []
   },
   "outputs": [
    {
     "name": "stdout",
     "output_type": "stream",
     "text": [
      "missing: 'BP_ItemDescriptorPortableMiner_C'\n",
      "\n"
     ]
    },
    {
     "data": {
      "application/vnd.plotly.v1+json": {
       "data": [
        {
         "hoverinfo": "none",
         "line": {
          "shape": "spline"
         },
         "marker": {
          "angleref": "previous",
          "color": "black",
          "size": 10,
          "standoff": 10,
          "symbol": "arrow-wide"
         },
         "mode": "lines+markers",
         "showlegend": false,
         "x": [
          -0.5,
          -2.0,
          null,
          -2.0,
          -2.5,
          null,
          1.0,
          -2.5,
          null,
          -3.0,
          -2.5,
          null,
          -2.0,
          -2.5,
          null,
          -0.5,
          -3.5,
          null,
          -0.5,
          -0.5,
          null,
          -0.5,
          -0.5,
          null,
          0.0,
          -0.5,
          null,
          0.0,
          0.5,
          null,
          -2.0,
          -1.0,
          null,
          -0.5,
          -1.0,
          null,
          -2.5,
          -3.0,
          null,
          -3.5,
          -3.0,
          null,
          -0.5,
          -2.0,
          null,
          -0.5,
          0.0,
          null,
          -2.5,
          -2.5,
          null,
          -2.0,
          -1.5,
          null,
          0.5,
          -1.5,
          null,
          -1.5,
          1.0,
          null,
          -0.5,
          1.0,
          null
         ],
         "y": [
          1.0,
          2.0,
          null,
          2.0,
          3.0,
          null,
          2.0,
          3.0,
          null,
          4.0,
          3.0,
          null,
          4.0,
          3.0,
          null,
          4.0,
          5.0,
          null,
          5.0,
          4.0,
          null,
          3.0,
          4.0,
          null,
          2.0,
          1.0,
          null,
          2.0,
          3.0,
          null,
          2.0,
          2.0,
          null,
          1.0,
          2.0,
          null,
          5.0,
          4.0,
          null,
          5.0,
          4.0,
          null,
          4.0,
          4.0,
          null,
          3.0,
          2.0,
          null,
          6.0,
          5.0,
          null,
          2.0,
          3.0,
          null,
          3.0,
          3.0,
          null,
          3.0,
          2.0,
          null,
          1.0,
          2.0,
          null
         ],
         "type": "scatter"
        },
        {
         "hovertemplate": "%{text}<extra></extra>",
         "marker": {
          "color": [
           "#2E91E5",
           "#1CA71C",
           "#2E91E5",
           "#DA16FF",
           "#2E91E5",
           "#750D86",
           "#2E91E5",
           "#E15F99",
           "#750D86",
           "#E15F99",
           "#511CFB",
           "#2E91E5",
           "#750D86",
           "#FB0D0D",
           "#2E91E5",
           "#E15F99",
           "#E15F99"
          ],
          "size": [
           34.14134935011215,
           21.436371691735832,
           24.26904481188341,
           26.921713832043892,
           35.231883119115295,
           32.62827830489215,
           28.3728212128055,
           20.71911432625049,
           23.836758167595214,
           22.575547401999305,
           20.57538075006824,
           22.149934267122845,
           25.286310952843532,
           34.75972918870305,
           25.06706457590722,
           25.601616662731054,
           28.13406435568603
          ],
          "symbol": "circle-dot"
         },
         "mode": "markers",
         "showlegend": false,
         "text": [
          "\nConstructor<br>\nRecipe: screw<br>\nScale: 30.625\n",
          "\nManufacturer<br>\nRecipe: heavy_modular_frame<br>\nScale: 2.5\n",
          "\nConstructor<br>\nRecipe: steel_beam<br>\nScale: 7.5333\n",
          "\nFoundry<br>\nRecipe: steel_ingot<br>\nScale: 12.5444\n",
          "\nConstructor<br>\nRecipe: iron_rod<br>\nScale: 34.75\n",
          "\nExtractor<br>\nRecipe: iron_ore<br>\nScale: 25.8458\n",
          "\nConstructor<br>\nRecipe: iron_plate<br>\nScale: 15.5\n",
          "\nAssembler<br>\nRecipe: rotor<br>\nScale: 1.25\n",
          "\nExtractor<br>\nRecipe: limestone<br>\nScale: 6.75\n",
          "\nAssembler<br>\nRecipe: encased_industrial_beam<br>\nScale: 4.5\n",
          "\nAggregator<br>\nRecipe: output<br>\nScale: 1\n",
          "\nConstructor<br>\nRecipe: steel_pipe<br>\nScale: 3.75\n",
          "\nExtractor<br>\nRecipe: coal<br>\nScale: 9.4083\n",
          "\nSmelter<br>\nRecipe: iron_ingot<br>\nScale: 32.875\n",
          "\nConstructor<br>\nRecipe: concrete<br>\nScale: 9.0\n",
          "\nAssembler<br>\nRecipe: reinforced_iron_plate<br>\nScale: 10.0\n",
          "\nAssembler<br>\nRecipe: modular_frame<br>\nScale: 15.0\n"
         ],
         "x": [
          -2.0,
          -2.5,
          -3.5,
          -0.5,
          -0.5,
          -0.5,
          0.5,
          -1.0,
          -2.5,
          -3.0,
          0.5,
          -2.0,
          -0.5,
          0.0,
          -2.5,
          -1.5,
          1.0
         ],
         "y": [
          2.0,
          3.0,
          5.0,
          4.0,
          1.0,
          3.0,
          3.0,
          2.0,
          6.0,
          4.0,
          1.0,
          4.0,
          5.0,
          2.0,
          5.0,
          3.0,
          2.0
         ],
         "type": "scatter"
        }
       ],
       "layout": {
        "template": {
         "data": {
          "histogram2dcontour": [
           {
            "type": "histogram2dcontour",
            "colorbar": {
             "outlinewidth": 0,
             "ticks": ""
            },
            "colorscale": [
             [
              0.0,
              "#0d0887"
             ],
             [
              0.1111111111111111,
              "#46039f"
             ],
             [
              0.2222222222222222,
              "#7201a8"
             ],
             [
              0.3333333333333333,
              "#9c179e"
             ],
             [
              0.4444444444444444,
              "#bd3786"
             ],
             [
              0.5555555555555556,
              "#d8576b"
             ],
             [
              0.6666666666666666,
              "#ed7953"
             ],
             [
              0.7777777777777778,
              "#fb9f3a"
             ],
             [
              0.8888888888888888,
              "#fdca26"
             ],
             [
              1.0,
              "#f0f921"
             ]
            ]
           }
          ],
          "choropleth": [
           {
            "type": "choropleth",
            "colorbar": {
             "outlinewidth": 0,
             "ticks": ""
            }
           }
          ],
          "histogram2d": [
           {
            "type": "histogram2d",
            "colorbar": {
             "outlinewidth": 0,
             "ticks": ""
            },
            "colorscale": [
             [
              0.0,
              "#0d0887"
             ],
             [
              0.1111111111111111,
              "#46039f"
             ],
             [
              0.2222222222222222,
              "#7201a8"
             ],
             [
              0.3333333333333333,
              "#9c179e"
             ],
             [
              0.4444444444444444,
              "#bd3786"
             ],
             [
              0.5555555555555556,
              "#d8576b"
             ],
             [
              0.6666666666666666,
              "#ed7953"
             ],
             [
              0.7777777777777778,
              "#fb9f3a"
             ],
             [
              0.8888888888888888,
              "#fdca26"
             ],
             [
              1.0,
              "#f0f921"
             ]
            ]
           }
          ],
          "heatmap": [
           {
            "type": "heatmap",
            "colorbar": {
             "outlinewidth": 0,
             "ticks": ""
            },
            "colorscale": [
             [
              0.0,
              "#0d0887"
             ],
             [
              0.1111111111111111,
              "#46039f"
             ],
             [
              0.2222222222222222,
              "#7201a8"
             ],
             [
              0.3333333333333333,
              "#9c179e"
             ],
             [
              0.4444444444444444,
              "#bd3786"
             ],
             [
              0.5555555555555556,
              "#d8576b"
             ],
             [
              0.6666666666666666,
              "#ed7953"
             ],
             [
              0.7777777777777778,
              "#fb9f3a"
             ],
             [
              0.8888888888888888,
              "#fdca26"
             ],
             [
              1.0,
              "#f0f921"
             ]
            ]
           }
          ],
          "heatmapgl": [
           {
            "type": "heatmapgl",
            "colorbar": {
             "outlinewidth": 0,
             "ticks": ""
            },
            "colorscale": [
             [
              0.0,
              "#0d0887"
             ],
             [
              0.1111111111111111,
              "#46039f"
             ],
             [
              0.2222222222222222,
              "#7201a8"
             ],
             [
              0.3333333333333333,
              "#9c179e"
             ],
             [
              0.4444444444444444,
              "#bd3786"
             ],
             [
              0.5555555555555556,
              "#d8576b"
             ],
             [
              0.6666666666666666,
              "#ed7953"
             ],
             [
              0.7777777777777778,
              "#fb9f3a"
             ],
             [
              0.8888888888888888,
              "#fdca26"
             ],
             [
              1.0,
              "#f0f921"
             ]
            ]
           }
          ],
          "contourcarpet": [
           {
            "type": "contourcarpet",
            "colorbar": {
             "outlinewidth": 0,
             "ticks": ""
            }
           }
          ],
          "contour": [
           {
            "type": "contour",
            "colorbar": {
             "outlinewidth": 0,
             "ticks": ""
            },
            "colorscale": [
             [
              0.0,
              "#0d0887"
             ],
             [
              0.1111111111111111,
              "#46039f"
             ],
             [
              0.2222222222222222,
              "#7201a8"
             ],
             [
              0.3333333333333333,
              "#9c179e"
             ],
             [
              0.4444444444444444,
              "#bd3786"
             ],
             [
              0.5555555555555556,
              "#d8576b"
             ],
             [
              0.6666666666666666,
              "#ed7953"
             ],
             [
              0.7777777777777778,
              "#fb9f3a"
             ],
             [
              0.8888888888888888,
              "#fdca26"
             ],
             [
              1.0,
              "#f0f921"
             ]
            ]
           }
          ],
          "surface": [
           {
            "type": "surface",
            "colorbar": {
             "outlinewidth": 0,
             "ticks": ""
            },
            "colorscale": [
             [
              0.0,
              "#0d0887"
             ],
             [
              0.1111111111111111,
              "#46039f"
             ],
             [
              0.2222222222222222,
              "#7201a8"
             ],
             [
              0.3333333333333333,
              "#9c179e"
             ],
             [
              0.4444444444444444,
              "#bd3786"
             ],
             [
              0.5555555555555556,
              "#d8576b"
             ],
             [
              0.6666666666666666,
              "#ed7953"
             ],
             [
              0.7777777777777778,
              "#fb9f3a"
             ],
             [
              0.8888888888888888,
              "#fdca26"
             ],
             [
              1.0,
              "#f0f921"
             ]
            ]
           }
          ],
          "mesh3d": [
           {
            "type": "mesh3d",
            "colorbar": {
             "outlinewidth": 0,
             "ticks": ""
            }
           }
          ],
          "scatter": [
           {
            "marker": {
             "line": {
              "color": "#283442"
             }
            },
            "type": "scatter"
           }
          ],
          "parcoords": [
           {
            "type": "parcoords",
            "line": {
             "colorbar": {
              "outlinewidth": 0,
              "ticks": ""
             }
            }
           }
          ],
          "scatterpolargl": [
           {
            "type": "scatterpolargl",
            "marker": {
             "colorbar": {
              "outlinewidth": 0,
              "ticks": ""
             }
            }
           }
          ],
          "bar": [
           {
            "error_x": {
             "color": "#f2f5fa"
            },
            "error_y": {
             "color": "#f2f5fa"
            },
            "marker": {
             "line": {
              "color": "rgb(17,17,17)",
              "width": 0.5
             },
             "pattern": {
              "fillmode": "overlay",
              "size": 10,
              "solidity": 0.2
             }
            },
            "type": "bar"
           }
          ],
          "scattergeo": [
           {
            "type": "scattergeo",
            "marker": {
             "colorbar": {
              "outlinewidth": 0,
              "ticks": ""
             }
            }
           }
          ],
          "scatterpolar": [
           {
            "type": "scatterpolar",
            "marker": {
             "colorbar": {
              "outlinewidth": 0,
              "ticks": ""
             }
            }
           }
          ],
          "histogram": [
           {
            "marker": {
             "pattern": {
              "fillmode": "overlay",
              "size": 10,
              "solidity": 0.2
             }
            },
            "type": "histogram"
           }
          ],
          "scattergl": [
           {
            "marker": {
             "line": {
              "color": "#283442"
             }
            },
            "type": "scattergl"
           }
          ],
          "scatter3d": [
           {
            "type": "scatter3d",
            "line": {
             "colorbar": {
              "outlinewidth": 0,
              "ticks": ""
             }
            },
            "marker": {
             "colorbar": {
              "outlinewidth": 0,
              "ticks": ""
             }
            }
           }
          ],
          "scattermapbox": [
           {
            "type": "scattermapbox",
            "marker": {
             "colorbar": {
              "outlinewidth": 0,
              "ticks": ""
             }
            }
           }
          ],
          "scatterternary": [
           {
            "type": "scatterternary",
            "marker": {
             "colorbar": {
              "outlinewidth": 0,
              "ticks": ""
             }
            }
           }
          ],
          "scattercarpet": [
           {
            "type": "scattercarpet",
            "marker": {
             "colorbar": {
              "outlinewidth": 0,
              "ticks": ""
             }
            }
           }
          ],
          "carpet": [
           {
            "aaxis": {
             "endlinecolor": "#A2B1C6",
             "gridcolor": "#506784",
             "linecolor": "#506784",
             "minorgridcolor": "#506784",
             "startlinecolor": "#A2B1C6"
            },
            "baxis": {
             "endlinecolor": "#A2B1C6",
             "gridcolor": "#506784",
             "linecolor": "#506784",
             "minorgridcolor": "#506784",
             "startlinecolor": "#A2B1C6"
            },
            "type": "carpet"
           }
          ],
          "table": [
           {
            "cells": {
             "fill": {
              "color": "#506784"
             },
             "line": {
              "color": "rgb(17,17,17)"
             }
            },
            "header": {
             "fill": {
              "color": "#2a3f5f"
             },
             "line": {
              "color": "rgb(17,17,17)"
             }
            },
            "type": "table"
           }
          ],
          "barpolar": [
           {
            "marker": {
             "line": {
              "color": "rgb(17,17,17)",
              "width": 0.5
             },
             "pattern": {
              "fillmode": "overlay",
              "size": 10,
              "solidity": 0.2
             }
            },
            "type": "barpolar"
           }
          ],
          "pie": [
           {
            "automargin": true,
            "type": "pie"
           }
          ]
         },
         "layout": {
          "autotypenumbers": "strict",
          "colorway": [
           "#636efa",
           "#EF553B",
           "#00cc96",
           "#ab63fa",
           "#FFA15A",
           "#19d3f3",
           "#FF6692",
           "#B6E880",
           "#FF97FF",
           "#FECB52"
          ],
          "font": {
           "color": "#f2f5fa"
          },
          "hovermode": "closest",
          "hoverlabel": {
           "align": "left"
          },
          "paper_bgcolor": "rgb(17,17,17)",
          "plot_bgcolor": "rgb(17,17,17)",
          "polar": {
           "bgcolor": "rgb(17,17,17)",
           "angularaxis": {
            "gridcolor": "#506784",
            "linecolor": "#506784",
            "ticks": ""
           },
           "radialaxis": {
            "gridcolor": "#506784",
            "linecolor": "#506784",
            "ticks": ""
           }
          },
          "ternary": {
           "bgcolor": "rgb(17,17,17)",
           "aaxis": {
            "gridcolor": "#506784",
            "linecolor": "#506784",
            "ticks": ""
           },
           "baxis": {
            "gridcolor": "#506784",
            "linecolor": "#506784",
            "ticks": ""
           },
           "caxis": {
            "gridcolor": "#506784",
            "linecolor": "#506784",
            "ticks": ""
           }
          },
          "coloraxis": {
           "colorbar": {
            "outlinewidth": 0,
            "ticks": ""
           }
          },
          "colorscale": {
           "sequential": [
            [
             0.0,
             "#0d0887"
            ],
            [
             0.1111111111111111,
             "#46039f"
            ],
            [
             0.2222222222222222,
             "#7201a8"
            ],
            [
             0.3333333333333333,
             "#9c179e"
            ],
            [
             0.4444444444444444,
             "#bd3786"
            ],
            [
             0.5555555555555556,
             "#d8576b"
            ],
            [
             0.6666666666666666,
             "#ed7953"
            ],
            [
             0.7777777777777778,
             "#fb9f3a"
            ],
            [
             0.8888888888888888,
             "#fdca26"
            ],
            [
             1.0,
             "#f0f921"
            ]
           ],
           "sequentialminus": [
            [
             0.0,
             "#0d0887"
            ],
            [
             0.1111111111111111,
             "#46039f"
            ],
            [
             0.2222222222222222,
             "#7201a8"
            ],
            [
             0.3333333333333333,
             "#9c179e"
            ],
            [
             0.4444444444444444,
             "#bd3786"
            ],
            [
             0.5555555555555556,
             "#d8576b"
            ],
            [
             0.6666666666666666,
             "#ed7953"
            ],
            [
             0.7777777777777778,
             "#fb9f3a"
            ],
            [
             0.8888888888888888,
             "#fdca26"
            ],
            [
             1.0,
             "#f0f921"
            ]
           ],
           "diverging": [
            [
             0,
             "#8e0152"
            ],
            [
             0.1,
             "#c51b7d"
            ],
            [
             0.2,
             "#de77ae"
            ],
            [
             0.3,
             "#f1b6da"
            ],
            [
             0.4,
             "#fde0ef"
            ],
            [
             0.5,
             "#f7f7f7"
            ],
            [
             0.6,
             "#e6f5d0"
            ],
            [
             0.7,
             "#b8e186"
            ],
            [
             0.8,
             "#7fbc41"
            ],
            [
             0.9,
             "#4d9221"
            ],
            [
             1,
             "#276419"
            ]
           ]
          },
          "xaxis": {
           "gridcolor": "#283442",
           "linecolor": "#506784",
           "ticks": "",
           "title": {
            "standoff": 15
           },
           "zerolinecolor": "#283442",
           "automargin": true,
           "zerolinewidth": 2
          },
          "yaxis": {
           "gridcolor": "#283442",
           "linecolor": "#506784",
           "ticks": "",
           "title": {
            "standoff": 15
           },
           "zerolinecolor": "#283442",
           "automargin": true,
           "zerolinewidth": 2
          },
          "scene": {
           "xaxis": {
            "backgroundcolor": "rgb(17,17,17)",
            "gridcolor": "#506784",
            "linecolor": "#506784",
            "showbackground": true,
            "ticks": "",
            "zerolinecolor": "#C8D4E3",
            "gridwidth": 2
           },
           "yaxis": {
            "backgroundcolor": "rgb(17,17,17)",
            "gridcolor": "#506784",
            "linecolor": "#506784",
            "showbackground": true,
            "ticks": "",
            "zerolinecolor": "#C8D4E3",
            "gridwidth": 2
           },
           "zaxis": {
            "backgroundcolor": "rgb(17,17,17)",
            "gridcolor": "#506784",
            "linecolor": "#506784",
            "showbackground": true,
            "ticks": "",
            "zerolinecolor": "#C8D4E3",
            "gridwidth": 2
           }
          },
          "shapedefaults": {
           "line": {
            "color": "#f2f5fa"
           }
          },
          "annotationdefaults": {
           "arrowcolor": "#f2f5fa",
           "arrowhead": 0,
           "arrowwidth": 1
          },
          "geo": {
           "bgcolor": "rgb(17,17,17)",
           "landcolor": "rgb(17,17,17)",
           "subunitcolor": "#506784",
           "showland": true,
           "showlakes": true,
           "lakecolor": "rgb(17,17,17)"
          },
          "title": {
           "x": 0.05
          },
          "updatemenudefaults": {
           "bgcolor": "#506784",
           "borderwidth": 0
          },
          "sliderdefaults": {
           "bgcolor": "#C8D4E3",
           "borderwidth": 1,
           "bordercolor": "rgb(17,17,17)",
           "tickwidth": 0
          },
          "mapbox": {
           "style": "dark"
          }
         }
        },
        "xaxis": {
         "showgrid": false,
         "zeroline": false,
         "visible": false
        },
        "yaxis": {
         "showgrid": false,
         "zeroline": false,
         "visible": false
        },
        "autosize": true,
        "height": 1000
       },
       "config": {
        "plotlyServerURL": "https://plot.ly"
       }
      }
     },
     "metadata": {},
     "output_type": "display_data"
    },
    {
     "data": {
      "application/vnd.plotly.v1+json": {
       "data": [
        {
         "link": {
          "label": [
           "iron_rod",
           "screw",
           "modular_frame",
           "encased_industrial_beam",
           "steel_pipe",
           "steel_ingot",
           "coal",
           "iron_ore",
           "iron_ingot",
           "iron_ingot",
           "screw",
           "iron_rod",
           "concrete",
           "steel_beam",
           "steel_ingot",
           "iron_ore",
           "limestone",
           "screw",
           "iron_plate",
           "reinforced_iron_plate",
           "iron_rod"
          ],
          "source": [
           4,
           0,
           16,
           9,
           11,
           3,
           12,
           5,
           13,
           13,
           0,
           4,
           14,
           2,
           3,
           5,
           8,
           0,
           6,
           15,
           4
          ],
          "target": [
           0,
           1,
           1,
           1,
           1,
           2,
           3,
           3,
           4,
           6,
           7,
           7,
           9,
           9,
           11,
           13,
           14,
           15,
           15,
           16,
           16
          ],
          "value": [
           306.25,
           500.0,
           25.0,
           25.0,
           75.0,
           451.998,
           564.4979999999999,
           564.4979999999999,
           521.25,
           465.0,
           125.0,
           25.0,
           135.0,
           108.0,
           112.5,
           986.25,
           405.0,
           600.0,
           300.0,
           45.0,
           180.0
          ]
         },
         "node": {
          "label": [
           "Constructor: screw",
           "Manufacturer: heavy_modular_frame",
           "Constructor: steel_beam",
           "Foundry: steel_ingot",
           "Constructor: iron_rod",
           "Extractor: iron_ore",
           "Constructor: iron_plate",
           "Assembler: rotor",
           "Extractor: limestone",
           "Assembler: encased_industrial_beam",
           "Aggregator: output",
           "Constructor: steel_pipe",
           "Extractor: coal",
           "Smelter: iron_ingot",
           "Constructor: concrete",
           "Assembler: reinforced_iron_plate",
           "Assembler: modular_frame"
          ]
         },
         "type": "sankey"
        }
       ],
       "layout": {
        "template": {
         "data": {
          "histogram2dcontour": [
           {
            "type": "histogram2dcontour",
            "colorbar": {
             "outlinewidth": 0,
             "ticks": ""
            },
            "colorscale": [
             [
              0.0,
              "#0d0887"
             ],
             [
              0.1111111111111111,
              "#46039f"
             ],
             [
              0.2222222222222222,
              "#7201a8"
             ],
             [
              0.3333333333333333,
              "#9c179e"
             ],
             [
              0.4444444444444444,
              "#bd3786"
             ],
             [
              0.5555555555555556,
              "#d8576b"
             ],
             [
              0.6666666666666666,
              "#ed7953"
             ],
             [
              0.7777777777777778,
              "#fb9f3a"
             ],
             [
              0.8888888888888888,
              "#fdca26"
             ],
             [
              1.0,
              "#f0f921"
             ]
            ]
           }
          ],
          "choropleth": [
           {
            "type": "choropleth",
            "colorbar": {
             "outlinewidth": 0,
             "ticks": ""
            }
           }
          ],
          "histogram2d": [
           {
            "type": "histogram2d",
            "colorbar": {
             "outlinewidth": 0,
             "ticks": ""
            },
            "colorscale": [
             [
              0.0,
              "#0d0887"
             ],
             [
              0.1111111111111111,
              "#46039f"
             ],
             [
              0.2222222222222222,
              "#7201a8"
             ],
             [
              0.3333333333333333,
              "#9c179e"
             ],
             [
              0.4444444444444444,
              "#bd3786"
             ],
             [
              0.5555555555555556,
              "#d8576b"
             ],
             [
              0.6666666666666666,
              "#ed7953"
             ],
             [
              0.7777777777777778,
              "#fb9f3a"
             ],
             [
              0.8888888888888888,
              "#fdca26"
             ],
             [
              1.0,
              "#f0f921"
             ]
            ]
           }
          ],
          "heatmap": [
           {
            "type": "heatmap",
            "colorbar": {
             "outlinewidth": 0,
             "ticks": ""
            },
            "colorscale": [
             [
              0.0,
              "#0d0887"
             ],
             [
              0.1111111111111111,
              "#46039f"
             ],
             [
              0.2222222222222222,
              "#7201a8"
             ],
             [
              0.3333333333333333,
              "#9c179e"
             ],
             [
              0.4444444444444444,
              "#bd3786"
             ],
             [
              0.5555555555555556,
              "#d8576b"
             ],
             [
              0.6666666666666666,
              "#ed7953"
             ],
             [
              0.7777777777777778,
              "#fb9f3a"
             ],
             [
              0.8888888888888888,
              "#fdca26"
             ],
             [
              1.0,
              "#f0f921"
             ]
            ]
           }
          ],
          "heatmapgl": [
           {
            "type": "heatmapgl",
            "colorbar": {
             "outlinewidth": 0,
             "ticks": ""
            },
            "colorscale": [
             [
              0.0,
              "#0d0887"
             ],
             [
              0.1111111111111111,
              "#46039f"
             ],
             [
              0.2222222222222222,
              "#7201a8"
             ],
             [
              0.3333333333333333,
              "#9c179e"
             ],
             [
              0.4444444444444444,
              "#bd3786"
             ],
             [
              0.5555555555555556,
              "#d8576b"
             ],
             [
              0.6666666666666666,
              "#ed7953"
             ],
             [
              0.7777777777777778,
              "#fb9f3a"
             ],
             [
              0.8888888888888888,
              "#fdca26"
             ],
             [
              1.0,
              "#f0f921"
             ]
            ]
           }
          ],
          "contourcarpet": [
           {
            "type": "contourcarpet",
            "colorbar": {
             "outlinewidth": 0,
             "ticks": ""
            }
           }
          ],
          "contour": [
           {
            "type": "contour",
            "colorbar": {
             "outlinewidth": 0,
             "ticks": ""
            },
            "colorscale": [
             [
              0.0,
              "#0d0887"
             ],
             [
              0.1111111111111111,
              "#46039f"
             ],
             [
              0.2222222222222222,
              "#7201a8"
             ],
             [
              0.3333333333333333,
              "#9c179e"
             ],
             [
              0.4444444444444444,
              "#bd3786"
             ],
             [
              0.5555555555555556,
              "#d8576b"
             ],
             [
              0.6666666666666666,
              "#ed7953"
             ],
             [
              0.7777777777777778,
              "#fb9f3a"
             ],
             [
              0.8888888888888888,
              "#fdca26"
             ],
             [
              1.0,
              "#f0f921"
             ]
            ]
           }
          ],
          "surface": [
           {
            "type": "surface",
            "colorbar": {
             "outlinewidth": 0,
             "ticks": ""
            },
            "colorscale": [
             [
              0.0,
              "#0d0887"
             ],
             [
              0.1111111111111111,
              "#46039f"
             ],
             [
              0.2222222222222222,
              "#7201a8"
             ],
             [
              0.3333333333333333,
              "#9c179e"
             ],
             [
              0.4444444444444444,
              "#bd3786"
             ],
             [
              0.5555555555555556,
              "#d8576b"
             ],
             [
              0.6666666666666666,
              "#ed7953"
             ],
             [
              0.7777777777777778,
              "#fb9f3a"
             ],
             [
              0.8888888888888888,
              "#fdca26"
             ],
             [
              1.0,
              "#f0f921"
             ]
            ]
           }
          ],
          "mesh3d": [
           {
            "type": "mesh3d",
            "colorbar": {
             "outlinewidth": 0,
             "ticks": ""
            }
           }
          ],
          "scatter": [
           {
            "marker": {
             "line": {
              "color": "#283442"
             }
            },
            "type": "scatter"
           }
          ],
          "parcoords": [
           {
            "type": "parcoords",
            "line": {
             "colorbar": {
              "outlinewidth": 0,
              "ticks": ""
             }
            }
           }
          ],
          "scatterpolargl": [
           {
            "type": "scatterpolargl",
            "marker": {
             "colorbar": {
              "outlinewidth": 0,
              "ticks": ""
             }
            }
           }
          ],
          "bar": [
           {
            "error_x": {
             "color": "#f2f5fa"
            },
            "error_y": {
             "color": "#f2f5fa"
            },
            "marker": {
             "line": {
              "color": "rgb(17,17,17)",
              "width": 0.5
             },
             "pattern": {
              "fillmode": "overlay",
              "size": 10,
              "solidity": 0.2
             }
            },
            "type": "bar"
           }
          ],
          "scattergeo": [
           {
            "type": "scattergeo",
            "marker": {
             "colorbar": {
              "outlinewidth": 0,
              "ticks": ""
             }
            }
           }
          ],
          "scatterpolar": [
           {
            "type": "scatterpolar",
            "marker": {
             "colorbar": {
              "outlinewidth": 0,
              "ticks": ""
             }
            }
           }
          ],
          "histogram": [
           {
            "marker": {
             "pattern": {
              "fillmode": "overlay",
              "size": 10,
              "solidity": 0.2
             }
            },
            "type": "histogram"
           }
          ],
          "scattergl": [
           {
            "marker": {
             "line": {
              "color": "#283442"
             }
            },
            "type": "scattergl"
           }
          ],
          "scatter3d": [
           {
            "type": "scatter3d",
            "line": {
             "colorbar": {
              "outlinewidth": 0,
              "ticks": ""
             }
            },
            "marker": {
             "colorbar": {
              "outlinewidth": 0,
              "ticks": ""
             }
            }
           }
          ],
          "scattermapbox": [
           {
            "type": "scattermapbox",
            "marker": {
             "colorbar": {
              "outlinewidth": 0,
              "ticks": ""
             }
            }
           }
          ],
          "scatterternary": [
           {
            "type": "scatterternary",
            "marker": {
             "colorbar": {
              "outlinewidth": 0,
              "ticks": ""
             }
            }
           }
          ],
          "scattercarpet": [
           {
            "type": "scattercarpet",
            "marker": {
             "colorbar": {
              "outlinewidth": 0,
              "ticks": ""
             }
            }
           }
          ],
          "carpet": [
           {
            "aaxis": {
             "endlinecolor": "#A2B1C6",
             "gridcolor": "#506784",
             "linecolor": "#506784",
             "minorgridcolor": "#506784",
             "startlinecolor": "#A2B1C6"
            },
            "baxis": {
             "endlinecolor": "#A2B1C6",
             "gridcolor": "#506784",
             "linecolor": "#506784",
             "minorgridcolor": "#506784",
             "startlinecolor": "#A2B1C6"
            },
            "type": "carpet"
           }
          ],
          "table": [
           {
            "cells": {
             "fill": {
              "color": "#506784"
             },
             "line": {
              "color": "rgb(17,17,17)"
             }
            },
            "header": {
             "fill": {
              "color": "#2a3f5f"
             },
             "line": {
              "color": "rgb(17,17,17)"
             }
            },
            "type": "table"
           }
          ],
          "barpolar": [
           {
            "marker": {
             "line": {
              "color": "rgb(17,17,17)",
              "width": 0.5
             },
             "pattern": {
              "fillmode": "overlay",
              "size": 10,
              "solidity": 0.2
             }
            },
            "type": "barpolar"
           }
          ],
          "pie": [
           {
            "automargin": true,
            "type": "pie"
           }
          ]
         },
         "layout": {
          "autotypenumbers": "strict",
          "colorway": [
           "#636efa",
           "#EF553B",
           "#00cc96",
           "#ab63fa",
           "#FFA15A",
           "#19d3f3",
           "#FF6692",
           "#B6E880",
           "#FF97FF",
           "#FECB52"
          ],
          "font": {
           "color": "#f2f5fa"
          },
          "hovermode": "closest",
          "hoverlabel": {
           "align": "left"
          },
          "paper_bgcolor": "rgb(17,17,17)",
          "plot_bgcolor": "rgb(17,17,17)",
          "polar": {
           "bgcolor": "rgb(17,17,17)",
           "angularaxis": {
            "gridcolor": "#506784",
            "linecolor": "#506784",
            "ticks": ""
           },
           "radialaxis": {
            "gridcolor": "#506784",
            "linecolor": "#506784",
            "ticks": ""
           }
          },
          "ternary": {
           "bgcolor": "rgb(17,17,17)",
           "aaxis": {
            "gridcolor": "#506784",
            "linecolor": "#506784",
            "ticks": ""
           },
           "baxis": {
            "gridcolor": "#506784",
            "linecolor": "#506784",
            "ticks": ""
           },
           "caxis": {
            "gridcolor": "#506784",
            "linecolor": "#506784",
            "ticks": ""
           }
          },
          "coloraxis": {
           "colorbar": {
            "outlinewidth": 0,
            "ticks": ""
           }
          },
          "colorscale": {
           "sequential": [
            [
             0.0,
             "#0d0887"
            ],
            [
             0.1111111111111111,
             "#46039f"
            ],
            [
             0.2222222222222222,
             "#7201a8"
            ],
            [
             0.3333333333333333,
             "#9c179e"
            ],
            [
             0.4444444444444444,
             "#bd3786"
            ],
            [
             0.5555555555555556,
             "#d8576b"
            ],
            [
             0.6666666666666666,
             "#ed7953"
            ],
            [
             0.7777777777777778,
             "#fb9f3a"
            ],
            [
             0.8888888888888888,
             "#fdca26"
            ],
            [
             1.0,
             "#f0f921"
            ]
           ],
           "sequentialminus": [
            [
             0.0,
             "#0d0887"
            ],
            [
             0.1111111111111111,
             "#46039f"
            ],
            [
             0.2222222222222222,
             "#7201a8"
            ],
            [
             0.3333333333333333,
             "#9c179e"
            ],
            [
             0.4444444444444444,
             "#bd3786"
            ],
            [
             0.5555555555555556,
             "#d8576b"
            ],
            [
             0.6666666666666666,
             "#ed7953"
            ],
            [
             0.7777777777777778,
             "#fb9f3a"
            ],
            [
             0.8888888888888888,
             "#fdca26"
            ],
            [
             1.0,
             "#f0f921"
            ]
           ],
           "diverging": [
            [
             0,
             "#8e0152"
            ],
            [
             0.1,
             "#c51b7d"
            ],
            [
             0.2,
             "#de77ae"
            ],
            [
             0.3,
             "#f1b6da"
            ],
            [
             0.4,
             "#fde0ef"
            ],
            [
             0.5,
             "#f7f7f7"
            ],
            [
             0.6,
             "#e6f5d0"
            ],
            [
             0.7,
             "#b8e186"
            ],
            [
             0.8,
             "#7fbc41"
            ],
            [
             0.9,
             "#4d9221"
            ],
            [
             1,
             "#276419"
            ]
           ]
          },
          "xaxis": {
           "gridcolor": "#283442",
           "linecolor": "#506784",
           "ticks": "",
           "title": {
            "standoff": 15
           },
           "zerolinecolor": "#283442",
           "automargin": true,
           "zerolinewidth": 2
          },
          "yaxis": {
           "gridcolor": "#283442",
           "linecolor": "#506784",
           "ticks": "",
           "title": {
            "standoff": 15
           },
           "zerolinecolor": "#283442",
           "automargin": true,
           "zerolinewidth": 2
          },
          "scene": {
           "xaxis": {
            "backgroundcolor": "rgb(17,17,17)",
            "gridcolor": "#506784",
            "linecolor": "#506784",
            "showbackground": true,
            "ticks": "",
            "zerolinecolor": "#C8D4E3",
            "gridwidth": 2
           },
           "yaxis": {
            "backgroundcolor": "rgb(17,17,17)",
            "gridcolor": "#506784",
            "linecolor": "#506784",
            "showbackground": true,
            "ticks": "",
            "zerolinecolor": "#C8D4E3",
            "gridwidth": 2
           },
           "zaxis": {
            "backgroundcolor": "rgb(17,17,17)",
            "gridcolor": "#506784",
            "linecolor": "#506784",
            "showbackground": true,
            "ticks": "",
            "zerolinecolor": "#C8D4E3",
            "gridwidth": 2
           }
          },
          "shapedefaults": {
           "line": {
            "color": "#f2f5fa"
           }
          },
          "annotationdefaults": {
           "arrowcolor": "#f2f5fa",
           "arrowhead": 0,
           "arrowwidth": 1
          },
          "geo": {
           "bgcolor": "rgb(17,17,17)",
           "landcolor": "rgb(17,17,17)",
           "subunitcolor": "#506784",
           "showland": true,
           "showlakes": true,
           "lakecolor": "rgb(17,17,17)"
          },
          "title": {
           "x": 0.05
          },
          "updatemenudefaults": {
           "bgcolor": "#506784",
           "borderwidth": 0
          },
          "sliderdefaults": {
           "bgcolor": "#C8D4E3",
           "borderwidth": 1,
           "bordercolor": "rgb(17,17,17)",
           "tickwidth": 0
          },
          "mapbox": {
           "style": "dark"
          }
         }
        }
       },
       "config": {
        "plotlyServerURL": "https://plot.ly"
       }
      }
     },
     "metadata": {},
     "output_type": "display_data"
    },
    {
     "data": {
      "text/plain": "<IPython.core.display.HTML object>",
      "text/html": "\n    <table>\n    <thead>\n    <tr><td>Machine Type</td><td>Count</td><td>Recipe</td><td>Ingredients</td><td>Products</td></tr>\n    </thead>\n    <tbody>\n    <tr><td>Constructor</td><td>30.625</td><td>screw</td><td>iron_rod: 306.25</td><td>screw: 1225.00</td></tr>\n<tr><td>Manufacturer</td><td>2.5</td><td>heavy_modular_frame</td><td>screw: 500.00<br>modular_frame: 25.00<br>encased_industrial_beam: 25.00<br>steel_pipe: 75.00</td><td>heavy_modular_frame: 5.00</td></tr>\n<tr><td>Constructor</td><td>7.5333</td><td>steel_beam</td><td>steel_ingot: 452.00</td><td>steel_beam: 113.00</td></tr>\n<tr><td>Foundry</td><td>12.5444</td><td>steel_ingot</td><td>coal: 564.50<br>iron_ore: 564.50</td><td>steel_ingot: 564.50</td></tr>\n<tr><td>Constructor</td><td>34.75</td><td>iron_rod</td><td>iron_ingot: 521.25</td><td>iron_rod: 521.25</td></tr>\n<tr><td>Extractor</td><td>25.8458</td><td>iron_ore</td><td></td><td>iron_ore: 1550.75</td></tr>\n<tr><td>Constructor</td><td>15.5</td><td>iron_plate</td><td>iron_ingot: 465.00</td><td>iron_plate: 310.00</td></tr>\n<tr><td>Assembler</td><td>1.25</td><td>rotor</td><td>iron_rod: 25.00<br>screw: 125.00</td><td>rotor: 5.00</td></tr>\n<tr><td>Extractor</td><td>6.75</td><td>limestone</td><td></td><td>limestone: 405.00</td></tr>\n<tr><td>Assembler</td><td>4.5</td><td>encased_industrial_beam</td><td>concrete: 135.00<br>steel_beam: 108.00</td><td>encased_industrial_beam: 27.00</td></tr>\n<tr><td>Aggregator</td><td>1</td><td>output</td><td>iron_rod: 10.00<br>iron_plate: 10.00<br>steel_beam: 5.00<br>modular_frame: 5.00<br>reinforced_iron_plate: 5.00<br>rotor: 5.00<br>encased_industrial_beam: 2.00<br>heavy_modular_frame: 5.00</td><td>iron_rod: 10.00<br>iron_plate: 10.00<br>steel_beam: 5.00<br>modular_frame: 5.00<br>reinforced_iron_plate: 5.00<br>rotor: 5.00<br>encased_industrial_beam: 2.00<br>heavy_modular_frame: 5.00</td></tr>\n<tr><td>Constructor</td><td>3.75</td><td>steel_pipe</td><td>steel_ingot: 112.50</td><td>steel_pipe: 75.00</td></tr>\n<tr><td>Extractor</td><td>9.4083</td><td>coal</td><td></td><td>coal: 564.50</td></tr>\n<tr><td>Smelter</td><td>32.875</td><td>iron_ingot</td><td>iron_ore: 986.25</td><td>iron_ingot: 986.25</td></tr>\n<tr><td>Constructor</td><td>9.0</td><td>concrete</td><td>limestone: 405.00</td><td>concrete: 135.00</td></tr>\n<tr><td>Assembler</td><td>10.0</td><td>reinforced_iron_plate</td><td>screw: 600.00<br>iron_plate: 300.00</td><td>reinforced_iron_plate: 50.00</td></tr>\n<tr><td>Assembler</td><td>15.0</td><td>modular_frame</td><td>iron_rod: 180.00<br>reinforced_iron_plate: 45.00</td><td>modular_frame: 30.00</td></tr>\n    </tbody>\n    </table>"
     },
     "metadata": {},
     "output_type": "display_data"
    },
    {
     "name": "stdout",
     "output_type": "stream",
     "text": [
      "Total Power: 1755.6346\n"
     ]
    },
    {
     "data": {
      "text/plain": "<__main__.Process at 0x7f7a14906950>"
     },
     "execution_count": 17,
     "metadata": {},
     "output_type": "execute_result"
    }
   ],
   "source": [
    "# total production\n",
    "target_product = MaterialSpec(iron_rod=10, iron_plate=10, reinforced_iron_plate=5, rotor=5,\n",
    "                                  steel_beam=5, encased_industrial_beam=2, modular_frame=5, heavy_modular_frame=5)\n",
    "\n",
    "factory_plan(target_product)"
   ]
  },
  {
   "cell_type": "code",
   "execution_count": 18,
   "id": "2ebd00f4-afb7-4e09-b607-e6758c00a32d",
   "metadata": {
    "tags": []
   },
   "outputs": [
    {
     "name": "stdout",
     "output_type": "stream",
     "text": [
      "missing: 'BP_ItemDescriptorPortableMiner_C'\n",
      "\n"
     ]
    },
    {
     "data": {
      "application/vnd.plotly.v1+json": {
       "data": [
        {
         "hoverinfo": "none",
         "line": {
          "shape": "spline"
         },
         "marker": {
          "angleref": "previous",
          "color": "black",
          "size": 10,
          "standoff": 10,
          "symbol": "arrow-wide"
         },
         "mode": "lines+markers",
         "showlegend": false,
         "x": [
          0.5,
          1.5,
          null,
          1.5,
          1.5,
          null,
          0.5,
          0.5,
          null,
          0.5,
          0.5,
          null,
          0.5,
          1.5,
          null,
          -0.5,
          0.5,
          null
         ],
         "y": [
          3.0,
          3.0,
          null,
          2.0,
          3.0,
          null,
          1.0,
          2.0,
          null,
          2.0,
          3.0,
          null,
          1.0,
          2.0,
          null,
          2.0,
          1.0,
          null
         ],
         "type": "scatter"
        },
        {
         "hovertemplate": "%{text}<extra></extra>",
         "marker": {
          "color": [
           "#750D86",
           "#E15F99",
           "#2E91E5",
           "#2E91E5",
           "#2E91E5",
           "#511CFB",
           "#FB0D0D"
          ],
          "size": [
           29.242343145200195,
           25.96672499955091,
           30.958127171467464,
           28.62674539751169,
           31.989249137763153,
           21.53543426250563,
           35.231883119115295
          ],
          "symbol": "circle-dot"
         },
         "mode": "markers",
         "showlegend": false,
         "text": [
          "\nExtractor<br>\nRecipe: iron_ore<br>\nScale: 6.5\n",
          "\nAssembler<br>\nRecipe: reinforced_iron_plate<br>\nScale: 4.0\n",
          "\nConstructor<br>\nRecipe: iron_rod<br>\nScale: 8.0\n",
          "\nConstructor<br>\nRecipe: screw<br>\nScale: 6.0\n",
          "\nConstructor<br>\nRecipe: iron_plate<br>\nScale: 9.0\n",
          "\nAggregator<br>\nRecipe: output<br>\nScale: 1\n",
          "\nSmelter<br>\nRecipe: iron_ingot<br>\nScale: 13.0\n"
         ],
         "x": [
          -0.5,
          1.5,
          0.5,
          0.5,
          1.5,
          -0.5,
          0.5
         ],
         "y": [
          2.0,
          3.0,
          2.0,
          3.0,
          2.0,
          1.0,
          1.0
         ],
         "type": "scatter"
        }
       ],
       "layout": {
        "template": {
         "data": {
          "histogram2dcontour": [
           {
            "type": "histogram2dcontour",
            "colorbar": {
             "outlinewidth": 0,
             "ticks": ""
            },
            "colorscale": [
             [
              0.0,
              "#0d0887"
             ],
             [
              0.1111111111111111,
              "#46039f"
             ],
             [
              0.2222222222222222,
              "#7201a8"
             ],
             [
              0.3333333333333333,
              "#9c179e"
             ],
             [
              0.4444444444444444,
              "#bd3786"
             ],
             [
              0.5555555555555556,
              "#d8576b"
             ],
             [
              0.6666666666666666,
              "#ed7953"
             ],
             [
              0.7777777777777778,
              "#fb9f3a"
             ],
             [
              0.8888888888888888,
              "#fdca26"
             ],
             [
              1.0,
              "#f0f921"
             ]
            ]
           }
          ],
          "choropleth": [
           {
            "type": "choropleth",
            "colorbar": {
             "outlinewidth": 0,
             "ticks": ""
            }
           }
          ],
          "histogram2d": [
           {
            "type": "histogram2d",
            "colorbar": {
             "outlinewidth": 0,
             "ticks": ""
            },
            "colorscale": [
             [
              0.0,
              "#0d0887"
             ],
             [
              0.1111111111111111,
              "#46039f"
             ],
             [
              0.2222222222222222,
              "#7201a8"
             ],
             [
              0.3333333333333333,
              "#9c179e"
             ],
             [
              0.4444444444444444,
              "#bd3786"
             ],
             [
              0.5555555555555556,
              "#d8576b"
             ],
             [
              0.6666666666666666,
              "#ed7953"
             ],
             [
              0.7777777777777778,
              "#fb9f3a"
             ],
             [
              0.8888888888888888,
              "#fdca26"
             ],
             [
              1.0,
              "#f0f921"
             ]
            ]
           }
          ],
          "heatmap": [
           {
            "type": "heatmap",
            "colorbar": {
             "outlinewidth": 0,
             "ticks": ""
            },
            "colorscale": [
             [
              0.0,
              "#0d0887"
             ],
             [
              0.1111111111111111,
              "#46039f"
             ],
             [
              0.2222222222222222,
              "#7201a8"
             ],
             [
              0.3333333333333333,
              "#9c179e"
             ],
             [
              0.4444444444444444,
              "#bd3786"
             ],
             [
              0.5555555555555556,
              "#d8576b"
             ],
             [
              0.6666666666666666,
              "#ed7953"
             ],
             [
              0.7777777777777778,
              "#fb9f3a"
             ],
             [
              0.8888888888888888,
              "#fdca26"
             ],
             [
              1.0,
              "#f0f921"
             ]
            ]
           }
          ],
          "heatmapgl": [
           {
            "type": "heatmapgl",
            "colorbar": {
             "outlinewidth": 0,
             "ticks": ""
            },
            "colorscale": [
             [
              0.0,
              "#0d0887"
             ],
             [
              0.1111111111111111,
              "#46039f"
             ],
             [
              0.2222222222222222,
              "#7201a8"
             ],
             [
              0.3333333333333333,
              "#9c179e"
             ],
             [
              0.4444444444444444,
              "#bd3786"
             ],
             [
              0.5555555555555556,
              "#d8576b"
             ],
             [
              0.6666666666666666,
              "#ed7953"
             ],
             [
              0.7777777777777778,
              "#fb9f3a"
             ],
             [
              0.8888888888888888,
              "#fdca26"
             ],
             [
              1.0,
              "#f0f921"
             ]
            ]
           }
          ],
          "contourcarpet": [
           {
            "type": "contourcarpet",
            "colorbar": {
             "outlinewidth": 0,
             "ticks": ""
            }
           }
          ],
          "contour": [
           {
            "type": "contour",
            "colorbar": {
             "outlinewidth": 0,
             "ticks": ""
            },
            "colorscale": [
             [
              0.0,
              "#0d0887"
             ],
             [
              0.1111111111111111,
              "#46039f"
             ],
             [
              0.2222222222222222,
              "#7201a8"
             ],
             [
              0.3333333333333333,
              "#9c179e"
             ],
             [
              0.4444444444444444,
              "#bd3786"
             ],
             [
              0.5555555555555556,
              "#d8576b"
             ],
             [
              0.6666666666666666,
              "#ed7953"
             ],
             [
              0.7777777777777778,
              "#fb9f3a"
             ],
             [
              0.8888888888888888,
              "#fdca26"
             ],
             [
              1.0,
              "#f0f921"
             ]
            ]
           }
          ],
          "surface": [
           {
            "type": "surface",
            "colorbar": {
             "outlinewidth": 0,
             "ticks": ""
            },
            "colorscale": [
             [
              0.0,
              "#0d0887"
             ],
             [
              0.1111111111111111,
              "#46039f"
             ],
             [
              0.2222222222222222,
              "#7201a8"
             ],
             [
              0.3333333333333333,
              "#9c179e"
             ],
             [
              0.4444444444444444,
              "#bd3786"
             ],
             [
              0.5555555555555556,
              "#d8576b"
             ],
             [
              0.6666666666666666,
              "#ed7953"
             ],
             [
              0.7777777777777778,
              "#fb9f3a"
             ],
             [
              0.8888888888888888,
              "#fdca26"
             ],
             [
              1.0,
              "#f0f921"
             ]
            ]
           }
          ],
          "mesh3d": [
           {
            "type": "mesh3d",
            "colorbar": {
             "outlinewidth": 0,
             "ticks": ""
            }
           }
          ],
          "scatter": [
           {
            "marker": {
             "line": {
              "color": "#283442"
             }
            },
            "type": "scatter"
           }
          ],
          "parcoords": [
           {
            "type": "parcoords",
            "line": {
             "colorbar": {
              "outlinewidth": 0,
              "ticks": ""
             }
            }
           }
          ],
          "scatterpolargl": [
           {
            "type": "scatterpolargl",
            "marker": {
             "colorbar": {
              "outlinewidth": 0,
              "ticks": ""
             }
            }
           }
          ],
          "bar": [
           {
            "error_x": {
             "color": "#f2f5fa"
            },
            "error_y": {
             "color": "#f2f5fa"
            },
            "marker": {
             "line": {
              "color": "rgb(17,17,17)",
              "width": 0.5
             },
             "pattern": {
              "fillmode": "overlay",
              "size": 10,
              "solidity": 0.2
             }
            },
            "type": "bar"
           }
          ],
          "scattergeo": [
           {
            "type": "scattergeo",
            "marker": {
             "colorbar": {
              "outlinewidth": 0,
              "ticks": ""
             }
            }
           }
          ],
          "scatterpolar": [
           {
            "type": "scatterpolar",
            "marker": {
             "colorbar": {
              "outlinewidth": 0,
              "ticks": ""
             }
            }
           }
          ],
          "histogram": [
           {
            "marker": {
             "pattern": {
              "fillmode": "overlay",
              "size": 10,
              "solidity": 0.2
             }
            },
            "type": "histogram"
           }
          ],
          "scattergl": [
           {
            "marker": {
             "line": {
              "color": "#283442"
             }
            },
            "type": "scattergl"
           }
          ],
          "scatter3d": [
           {
            "type": "scatter3d",
            "line": {
             "colorbar": {
              "outlinewidth": 0,
              "ticks": ""
             }
            },
            "marker": {
             "colorbar": {
              "outlinewidth": 0,
              "ticks": ""
             }
            }
           }
          ],
          "scattermapbox": [
           {
            "type": "scattermapbox",
            "marker": {
             "colorbar": {
              "outlinewidth": 0,
              "ticks": ""
             }
            }
           }
          ],
          "scatterternary": [
           {
            "type": "scatterternary",
            "marker": {
             "colorbar": {
              "outlinewidth": 0,
              "ticks": ""
             }
            }
           }
          ],
          "scattercarpet": [
           {
            "type": "scattercarpet",
            "marker": {
             "colorbar": {
              "outlinewidth": 0,
              "ticks": ""
             }
            }
           }
          ],
          "carpet": [
           {
            "aaxis": {
             "endlinecolor": "#A2B1C6",
             "gridcolor": "#506784",
             "linecolor": "#506784",
             "minorgridcolor": "#506784",
             "startlinecolor": "#A2B1C6"
            },
            "baxis": {
             "endlinecolor": "#A2B1C6",
             "gridcolor": "#506784",
             "linecolor": "#506784",
             "minorgridcolor": "#506784",
             "startlinecolor": "#A2B1C6"
            },
            "type": "carpet"
           }
          ],
          "table": [
           {
            "cells": {
             "fill": {
              "color": "#506784"
             },
             "line": {
              "color": "rgb(17,17,17)"
             }
            },
            "header": {
             "fill": {
              "color": "#2a3f5f"
             },
             "line": {
              "color": "rgb(17,17,17)"
             }
            },
            "type": "table"
           }
          ],
          "barpolar": [
           {
            "marker": {
             "line": {
              "color": "rgb(17,17,17)",
              "width": 0.5
             },
             "pattern": {
              "fillmode": "overlay",
              "size": 10,
              "solidity": 0.2
             }
            },
            "type": "barpolar"
           }
          ],
          "pie": [
           {
            "automargin": true,
            "type": "pie"
           }
          ]
         },
         "layout": {
          "autotypenumbers": "strict",
          "colorway": [
           "#636efa",
           "#EF553B",
           "#00cc96",
           "#ab63fa",
           "#FFA15A",
           "#19d3f3",
           "#FF6692",
           "#B6E880",
           "#FF97FF",
           "#FECB52"
          ],
          "font": {
           "color": "#f2f5fa"
          },
          "hovermode": "closest",
          "hoverlabel": {
           "align": "left"
          },
          "paper_bgcolor": "rgb(17,17,17)",
          "plot_bgcolor": "rgb(17,17,17)",
          "polar": {
           "bgcolor": "rgb(17,17,17)",
           "angularaxis": {
            "gridcolor": "#506784",
            "linecolor": "#506784",
            "ticks": ""
           },
           "radialaxis": {
            "gridcolor": "#506784",
            "linecolor": "#506784",
            "ticks": ""
           }
          },
          "ternary": {
           "bgcolor": "rgb(17,17,17)",
           "aaxis": {
            "gridcolor": "#506784",
            "linecolor": "#506784",
            "ticks": ""
           },
           "baxis": {
            "gridcolor": "#506784",
            "linecolor": "#506784",
            "ticks": ""
           },
           "caxis": {
            "gridcolor": "#506784",
            "linecolor": "#506784",
            "ticks": ""
           }
          },
          "coloraxis": {
           "colorbar": {
            "outlinewidth": 0,
            "ticks": ""
           }
          },
          "colorscale": {
           "sequential": [
            [
             0.0,
             "#0d0887"
            ],
            [
             0.1111111111111111,
             "#46039f"
            ],
            [
             0.2222222222222222,
             "#7201a8"
            ],
            [
             0.3333333333333333,
             "#9c179e"
            ],
            [
             0.4444444444444444,
             "#bd3786"
            ],
            [
             0.5555555555555556,
             "#d8576b"
            ],
            [
             0.6666666666666666,
             "#ed7953"
            ],
            [
             0.7777777777777778,
             "#fb9f3a"
            ],
            [
             0.8888888888888888,
             "#fdca26"
            ],
            [
             1.0,
             "#f0f921"
            ]
           ],
           "sequentialminus": [
            [
             0.0,
             "#0d0887"
            ],
            [
             0.1111111111111111,
             "#46039f"
            ],
            [
             0.2222222222222222,
             "#7201a8"
            ],
            [
             0.3333333333333333,
             "#9c179e"
            ],
            [
             0.4444444444444444,
             "#bd3786"
            ],
            [
             0.5555555555555556,
             "#d8576b"
            ],
            [
             0.6666666666666666,
             "#ed7953"
            ],
            [
             0.7777777777777778,
             "#fb9f3a"
            ],
            [
             0.8888888888888888,
             "#fdca26"
            ],
            [
             1.0,
             "#f0f921"
            ]
           ],
           "diverging": [
            [
             0,
             "#8e0152"
            ],
            [
             0.1,
             "#c51b7d"
            ],
            [
             0.2,
             "#de77ae"
            ],
            [
             0.3,
             "#f1b6da"
            ],
            [
             0.4,
             "#fde0ef"
            ],
            [
             0.5,
             "#f7f7f7"
            ],
            [
             0.6,
             "#e6f5d0"
            ],
            [
             0.7,
             "#b8e186"
            ],
            [
             0.8,
             "#7fbc41"
            ],
            [
             0.9,
             "#4d9221"
            ],
            [
             1,
             "#276419"
            ]
           ]
          },
          "xaxis": {
           "gridcolor": "#283442",
           "linecolor": "#506784",
           "ticks": "",
           "title": {
            "standoff": 15
           },
           "zerolinecolor": "#283442",
           "automargin": true,
           "zerolinewidth": 2
          },
          "yaxis": {
           "gridcolor": "#283442",
           "linecolor": "#506784",
           "ticks": "",
           "title": {
            "standoff": 15
           },
           "zerolinecolor": "#283442",
           "automargin": true,
           "zerolinewidth": 2
          },
          "scene": {
           "xaxis": {
            "backgroundcolor": "rgb(17,17,17)",
            "gridcolor": "#506784",
            "linecolor": "#506784",
            "showbackground": true,
            "ticks": "",
            "zerolinecolor": "#C8D4E3",
            "gridwidth": 2
           },
           "yaxis": {
            "backgroundcolor": "rgb(17,17,17)",
            "gridcolor": "#506784",
            "linecolor": "#506784",
            "showbackground": true,
            "ticks": "",
            "zerolinecolor": "#C8D4E3",
            "gridwidth": 2
           },
           "zaxis": {
            "backgroundcolor": "rgb(17,17,17)",
            "gridcolor": "#506784",
            "linecolor": "#506784",
            "showbackground": true,
            "ticks": "",
            "zerolinecolor": "#C8D4E3",
            "gridwidth": 2
           }
          },
          "shapedefaults": {
           "line": {
            "color": "#f2f5fa"
           }
          },
          "annotationdefaults": {
           "arrowcolor": "#f2f5fa",
           "arrowhead": 0,
           "arrowwidth": 1
          },
          "geo": {
           "bgcolor": "rgb(17,17,17)",
           "landcolor": "rgb(17,17,17)",
           "subunitcolor": "#506784",
           "showland": true,
           "showlakes": true,
           "lakecolor": "rgb(17,17,17)"
          },
          "title": {
           "x": 0.05
          },
          "updatemenudefaults": {
           "bgcolor": "#506784",
           "borderwidth": 0
          },
          "sliderdefaults": {
           "bgcolor": "#C8D4E3",
           "borderwidth": 1,
           "bordercolor": "rgb(17,17,17)",
           "tickwidth": 0
          },
          "mapbox": {
           "style": "dark"
          }
         }
        },
        "xaxis": {
         "showgrid": false,
         "zeroline": false,
         "visible": false
        },
        "yaxis": {
         "showgrid": false,
         "zeroline": false,
         "visible": false
        },
        "autosize": true,
        "height": 1000
       },
       "config": {
        "plotlyServerURL": "https://plot.ly"
       }
      }
     },
     "metadata": {},
     "output_type": "display_data"
    },
    {
     "data": {
      "application/vnd.plotly.v1+json": {
       "data": [
        {
         "link": {
          "label": [
           "screw",
           "iron_plate",
           "iron_ingot",
           "iron_rod",
           "iron_ingot",
           "iron_ore"
          ],
          "source": [
           3,
           4,
           6,
           2,
           6,
           0
          ],
          "target": [
           1,
           1,
           2,
           3,
           4,
           6
          ],
          "value": [
           240.0,
           120.0,
           120.0,
           60.0,
           270.0,
           390.0
          ]
         },
         "node": {
          "label": [
           "Extractor: iron_ore",
           "Assembler: reinforced_iron_plate",
           "Constructor: iron_rod",
           "Constructor: screw",
           "Constructor: iron_plate",
           "Aggregator: output",
           "Smelter: iron_ingot"
          ]
         },
         "type": "sankey"
        }
       ],
       "layout": {
        "template": {
         "data": {
          "histogram2dcontour": [
           {
            "type": "histogram2dcontour",
            "colorbar": {
             "outlinewidth": 0,
             "ticks": ""
            },
            "colorscale": [
             [
              0.0,
              "#0d0887"
             ],
             [
              0.1111111111111111,
              "#46039f"
             ],
             [
              0.2222222222222222,
              "#7201a8"
             ],
             [
              0.3333333333333333,
              "#9c179e"
             ],
             [
              0.4444444444444444,
              "#bd3786"
             ],
             [
              0.5555555555555556,
              "#d8576b"
             ],
             [
              0.6666666666666666,
              "#ed7953"
             ],
             [
              0.7777777777777778,
              "#fb9f3a"
             ],
             [
              0.8888888888888888,
              "#fdca26"
             ],
             [
              1.0,
              "#f0f921"
             ]
            ]
           }
          ],
          "choropleth": [
           {
            "type": "choropleth",
            "colorbar": {
             "outlinewidth": 0,
             "ticks": ""
            }
           }
          ],
          "histogram2d": [
           {
            "type": "histogram2d",
            "colorbar": {
             "outlinewidth": 0,
             "ticks": ""
            },
            "colorscale": [
             [
              0.0,
              "#0d0887"
             ],
             [
              0.1111111111111111,
              "#46039f"
             ],
             [
              0.2222222222222222,
              "#7201a8"
             ],
             [
              0.3333333333333333,
              "#9c179e"
             ],
             [
              0.4444444444444444,
              "#bd3786"
             ],
             [
              0.5555555555555556,
              "#d8576b"
             ],
             [
              0.6666666666666666,
              "#ed7953"
             ],
             [
              0.7777777777777778,
              "#fb9f3a"
             ],
             [
              0.8888888888888888,
              "#fdca26"
             ],
             [
              1.0,
              "#f0f921"
             ]
            ]
           }
          ],
          "heatmap": [
           {
            "type": "heatmap",
            "colorbar": {
             "outlinewidth": 0,
             "ticks": ""
            },
            "colorscale": [
             [
              0.0,
              "#0d0887"
             ],
             [
              0.1111111111111111,
              "#46039f"
             ],
             [
              0.2222222222222222,
              "#7201a8"
             ],
             [
              0.3333333333333333,
              "#9c179e"
             ],
             [
              0.4444444444444444,
              "#bd3786"
             ],
             [
              0.5555555555555556,
              "#d8576b"
             ],
             [
              0.6666666666666666,
              "#ed7953"
             ],
             [
              0.7777777777777778,
              "#fb9f3a"
             ],
             [
              0.8888888888888888,
              "#fdca26"
             ],
             [
              1.0,
              "#f0f921"
             ]
            ]
           }
          ],
          "heatmapgl": [
           {
            "type": "heatmapgl",
            "colorbar": {
             "outlinewidth": 0,
             "ticks": ""
            },
            "colorscale": [
             [
              0.0,
              "#0d0887"
             ],
             [
              0.1111111111111111,
              "#46039f"
             ],
             [
              0.2222222222222222,
              "#7201a8"
             ],
             [
              0.3333333333333333,
              "#9c179e"
             ],
             [
              0.4444444444444444,
              "#bd3786"
             ],
             [
              0.5555555555555556,
              "#d8576b"
             ],
             [
              0.6666666666666666,
              "#ed7953"
             ],
             [
              0.7777777777777778,
              "#fb9f3a"
             ],
             [
              0.8888888888888888,
              "#fdca26"
             ],
             [
              1.0,
              "#f0f921"
             ]
            ]
           }
          ],
          "contourcarpet": [
           {
            "type": "contourcarpet",
            "colorbar": {
             "outlinewidth": 0,
             "ticks": ""
            }
           }
          ],
          "contour": [
           {
            "type": "contour",
            "colorbar": {
             "outlinewidth": 0,
             "ticks": ""
            },
            "colorscale": [
             [
              0.0,
              "#0d0887"
             ],
             [
              0.1111111111111111,
              "#46039f"
             ],
             [
              0.2222222222222222,
              "#7201a8"
             ],
             [
              0.3333333333333333,
              "#9c179e"
             ],
             [
              0.4444444444444444,
              "#bd3786"
             ],
             [
              0.5555555555555556,
              "#d8576b"
             ],
             [
              0.6666666666666666,
              "#ed7953"
             ],
             [
              0.7777777777777778,
              "#fb9f3a"
             ],
             [
              0.8888888888888888,
              "#fdca26"
             ],
             [
              1.0,
              "#f0f921"
             ]
            ]
           }
          ],
          "surface": [
           {
            "type": "surface",
            "colorbar": {
             "outlinewidth": 0,
             "ticks": ""
            },
            "colorscale": [
             [
              0.0,
              "#0d0887"
             ],
             [
              0.1111111111111111,
              "#46039f"
             ],
             [
              0.2222222222222222,
              "#7201a8"
             ],
             [
              0.3333333333333333,
              "#9c179e"
             ],
             [
              0.4444444444444444,
              "#bd3786"
             ],
             [
              0.5555555555555556,
              "#d8576b"
             ],
             [
              0.6666666666666666,
              "#ed7953"
             ],
             [
              0.7777777777777778,
              "#fb9f3a"
             ],
             [
              0.8888888888888888,
              "#fdca26"
             ],
             [
              1.0,
              "#f0f921"
             ]
            ]
           }
          ],
          "mesh3d": [
           {
            "type": "mesh3d",
            "colorbar": {
             "outlinewidth": 0,
             "ticks": ""
            }
           }
          ],
          "scatter": [
           {
            "marker": {
             "line": {
              "color": "#283442"
             }
            },
            "type": "scatter"
           }
          ],
          "parcoords": [
           {
            "type": "parcoords",
            "line": {
             "colorbar": {
              "outlinewidth": 0,
              "ticks": ""
             }
            }
           }
          ],
          "scatterpolargl": [
           {
            "type": "scatterpolargl",
            "marker": {
             "colorbar": {
              "outlinewidth": 0,
              "ticks": ""
             }
            }
           }
          ],
          "bar": [
           {
            "error_x": {
             "color": "#f2f5fa"
            },
            "error_y": {
             "color": "#f2f5fa"
            },
            "marker": {
             "line": {
              "color": "rgb(17,17,17)",
              "width": 0.5
             },
             "pattern": {
              "fillmode": "overlay",
              "size": 10,
              "solidity": 0.2
             }
            },
            "type": "bar"
           }
          ],
          "scattergeo": [
           {
            "type": "scattergeo",
            "marker": {
             "colorbar": {
              "outlinewidth": 0,
              "ticks": ""
             }
            }
           }
          ],
          "scatterpolar": [
           {
            "type": "scatterpolar",
            "marker": {
             "colorbar": {
              "outlinewidth": 0,
              "ticks": ""
             }
            }
           }
          ],
          "histogram": [
           {
            "marker": {
             "pattern": {
              "fillmode": "overlay",
              "size": 10,
              "solidity": 0.2
             }
            },
            "type": "histogram"
           }
          ],
          "scattergl": [
           {
            "marker": {
             "line": {
              "color": "#283442"
             }
            },
            "type": "scattergl"
           }
          ],
          "scatter3d": [
           {
            "type": "scatter3d",
            "line": {
             "colorbar": {
              "outlinewidth": 0,
              "ticks": ""
             }
            },
            "marker": {
             "colorbar": {
              "outlinewidth": 0,
              "ticks": ""
             }
            }
           }
          ],
          "scattermapbox": [
           {
            "type": "scattermapbox",
            "marker": {
             "colorbar": {
              "outlinewidth": 0,
              "ticks": ""
             }
            }
           }
          ],
          "scatterternary": [
           {
            "type": "scatterternary",
            "marker": {
             "colorbar": {
              "outlinewidth": 0,
              "ticks": ""
             }
            }
           }
          ],
          "scattercarpet": [
           {
            "type": "scattercarpet",
            "marker": {
             "colorbar": {
              "outlinewidth": 0,
              "ticks": ""
             }
            }
           }
          ],
          "carpet": [
           {
            "aaxis": {
             "endlinecolor": "#A2B1C6",
             "gridcolor": "#506784",
             "linecolor": "#506784",
             "minorgridcolor": "#506784",
             "startlinecolor": "#A2B1C6"
            },
            "baxis": {
             "endlinecolor": "#A2B1C6",
             "gridcolor": "#506784",
             "linecolor": "#506784",
             "minorgridcolor": "#506784",
             "startlinecolor": "#A2B1C6"
            },
            "type": "carpet"
           }
          ],
          "table": [
           {
            "cells": {
             "fill": {
              "color": "#506784"
             },
             "line": {
              "color": "rgb(17,17,17)"
             }
            },
            "header": {
             "fill": {
              "color": "#2a3f5f"
             },
             "line": {
              "color": "rgb(17,17,17)"
             }
            },
            "type": "table"
           }
          ],
          "barpolar": [
           {
            "marker": {
             "line": {
              "color": "rgb(17,17,17)",
              "width": 0.5
             },
             "pattern": {
              "fillmode": "overlay",
              "size": 10,
              "solidity": 0.2
             }
            },
            "type": "barpolar"
           }
          ],
          "pie": [
           {
            "automargin": true,
            "type": "pie"
           }
          ]
         },
         "layout": {
          "autotypenumbers": "strict",
          "colorway": [
           "#636efa",
           "#EF553B",
           "#00cc96",
           "#ab63fa",
           "#FFA15A",
           "#19d3f3",
           "#FF6692",
           "#B6E880",
           "#FF97FF",
           "#FECB52"
          ],
          "font": {
           "color": "#f2f5fa"
          },
          "hovermode": "closest",
          "hoverlabel": {
           "align": "left"
          },
          "paper_bgcolor": "rgb(17,17,17)",
          "plot_bgcolor": "rgb(17,17,17)",
          "polar": {
           "bgcolor": "rgb(17,17,17)",
           "angularaxis": {
            "gridcolor": "#506784",
            "linecolor": "#506784",
            "ticks": ""
           },
           "radialaxis": {
            "gridcolor": "#506784",
            "linecolor": "#506784",
            "ticks": ""
           }
          },
          "ternary": {
           "bgcolor": "rgb(17,17,17)",
           "aaxis": {
            "gridcolor": "#506784",
            "linecolor": "#506784",
            "ticks": ""
           },
           "baxis": {
            "gridcolor": "#506784",
            "linecolor": "#506784",
            "ticks": ""
           },
           "caxis": {
            "gridcolor": "#506784",
            "linecolor": "#506784",
            "ticks": ""
           }
          },
          "coloraxis": {
           "colorbar": {
            "outlinewidth": 0,
            "ticks": ""
           }
          },
          "colorscale": {
           "sequential": [
            [
             0.0,
             "#0d0887"
            ],
            [
             0.1111111111111111,
             "#46039f"
            ],
            [
             0.2222222222222222,
             "#7201a8"
            ],
            [
             0.3333333333333333,
             "#9c179e"
            ],
            [
             0.4444444444444444,
             "#bd3786"
            ],
            [
             0.5555555555555556,
             "#d8576b"
            ],
            [
             0.6666666666666666,
             "#ed7953"
            ],
            [
             0.7777777777777778,
             "#fb9f3a"
            ],
            [
             0.8888888888888888,
             "#fdca26"
            ],
            [
             1.0,
             "#f0f921"
            ]
           ],
           "sequentialminus": [
            [
             0.0,
             "#0d0887"
            ],
            [
             0.1111111111111111,
             "#46039f"
            ],
            [
             0.2222222222222222,
             "#7201a8"
            ],
            [
             0.3333333333333333,
             "#9c179e"
            ],
            [
             0.4444444444444444,
             "#bd3786"
            ],
            [
             0.5555555555555556,
             "#d8576b"
            ],
            [
             0.6666666666666666,
             "#ed7953"
            ],
            [
             0.7777777777777778,
             "#fb9f3a"
            ],
            [
             0.8888888888888888,
             "#fdca26"
            ],
            [
             1.0,
             "#f0f921"
            ]
           ],
           "diverging": [
            [
             0,
             "#8e0152"
            ],
            [
             0.1,
             "#c51b7d"
            ],
            [
             0.2,
             "#de77ae"
            ],
            [
             0.3,
             "#f1b6da"
            ],
            [
             0.4,
             "#fde0ef"
            ],
            [
             0.5,
             "#f7f7f7"
            ],
            [
             0.6,
             "#e6f5d0"
            ],
            [
             0.7,
             "#b8e186"
            ],
            [
             0.8,
             "#7fbc41"
            ],
            [
             0.9,
             "#4d9221"
            ],
            [
             1,
             "#276419"
            ]
           ]
          },
          "xaxis": {
           "gridcolor": "#283442",
           "linecolor": "#506784",
           "ticks": "",
           "title": {
            "standoff": 15
           },
           "zerolinecolor": "#283442",
           "automargin": true,
           "zerolinewidth": 2
          },
          "yaxis": {
           "gridcolor": "#283442",
           "linecolor": "#506784",
           "ticks": "",
           "title": {
            "standoff": 15
           },
           "zerolinecolor": "#283442",
           "automargin": true,
           "zerolinewidth": 2
          },
          "scene": {
           "xaxis": {
            "backgroundcolor": "rgb(17,17,17)",
            "gridcolor": "#506784",
            "linecolor": "#506784",
            "showbackground": true,
            "ticks": "",
            "zerolinecolor": "#C8D4E3",
            "gridwidth": 2
           },
           "yaxis": {
            "backgroundcolor": "rgb(17,17,17)",
            "gridcolor": "#506784",
            "linecolor": "#506784",
            "showbackground": true,
            "ticks": "",
            "zerolinecolor": "#C8D4E3",
            "gridwidth": 2
           },
           "zaxis": {
            "backgroundcolor": "rgb(17,17,17)",
            "gridcolor": "#506784",
            "linecolor": "#506784",
            "showbackground": true,
            "ticks": "",
            "zerolinecolor": "#C8D4E3",
            "gridwidth": 2
           }
          },
          "shapedefaults": {
           "line": {
            "color": "#f2f5fa"
           }
          },
          "annotationdefaults": {
           "arrowcolor": "#f2f5fa",
           "arrowhead": 0,
           "arrowwidth": 1
          },
          "geo": {
           "bgcolor": "rgb(17,17,17)",
           "landcolor": "rgb(17,17,17)",
           "subunitcolor": "#506784",
           "showland": true,
           "showlakes": true,
           "lakecolor": "rgb(17,17,17)"
          },
          "title": {
           "x": 0.05
          },
          "updatemenudefaults": {
           "bgcolor": "#506784",
           "borderwidth": 0
          },
          "sliderdefaults": {
           "bgcolor": "#C8D4E3",
           "borderwidth": 1,
           "bordercolor": "rgb(17,17,17)",
           "tickwidth": 0
          },
          "mapbox": {
           "style": "dark"
          }
         }
        }
       },
       "config": {
        "plotlyServerURL": "https://plot.ly"
       }
      }
     },
     "metadata": {},
     "output_type": "display_data"
    },
    {
     "data": {
      "text/plain": "<IPython.core.display.HTML object>",
      "text/html": "\n    <table>\n    <thead>\n    <tr><td>Machine Type</td><td>Count</td><td>Recipe</td><td>Ingredients</td><td>Products</td></tr>\n    </thead>\n    <tbody>\n    <tr><td>Extractor</td><td>6.5</td><td>iron_ore</td><td></td><td>iron_ore: 390.00</td></tr>\n<tr><td>Assembler</td><td>4.0</td><td>reinforced_iron_plate</td><td>screw: 240.00<br>iron_plate: 120.00</td><td>reinforced_iron_plate: 20.00</td></tr>\n<tr><td>Constructor</td><td>8.0</td><td>iron_rod</td><td>iron_ingot: 120.00</td><td>iron_rod: 120.00</td></tr>\n<tr><td>Constructor</td><td>6.0</td><td>screw</td><td>iron_rod: 60.00</td><td>screw: 240.00</td></tr>\n<tr><td>Constructor</td><td>9.0</td><td>iron_plate</td><td>iron_ingot: 270.00</td><td>iron_plate: 180.00</td></tr>\n<tr><td>Aggregator</td><td>1</td><td>output</td><td>iron_rod: 60.00<br>iron_plate: 60.00<br>reinforced_iron_plate: 20.00</td><td>iron_rod: 60.00<br>iron_plate: 60.00<br>reinforced_iron_plate: 20.00</td></tr>\n<tr><td>Smelter</td><td>13.0</td><td>iron_ingot</td><td>iron_ore: 390.00</td><td>iron_ingot: 390.00</td></tr>\n    </tbody>\n    </table>"
     },
     "metadata": {},
     "output_type": "display_data"
    },
    {
     "name": "stdout",
     "output_type": "stream",
     "text": [
      "Total Power: 269.0\n"
     ]
    },
    {
     "data": {
      "text/plain": "<__main__.Process at 0x7f79ea77e140>"
     },
     "execution_count": 18,
     "metadata": {},
     "output_type": "execute_result"
    }
   ],
   "source": [
    "# small iron factory\n",
    "target_product = MaterialSpec(iron_rod=60, iron_plate=60, reinforced_iron_plate=20)\n",
    "\n",
    "factory_plan(target_product)"
   ]
  },
  {
   "cell_type": "code",
   "execution_count": 19,
   "id": "179999f0-e114-4994-b6b4-34a618dba542",
   "metadata": {
    "tags": []
   },
   "outputs": [
    {
     "name": "stdout",
     "output_type": "stream",
     "text": [
      "missing: 'BP_ItemDescriptorPortableMiner_C'\n",
      "\n"
     ]
    },
    {
     "data": {
      "application/vnd.plotly.v1+json": {
       "data": [
        {
         "hoverinfo": "none",
         "line": {
          "shape": "spline"
         },
         "marker": {
          "angleref": "previous",
          "color": "black",
          "size": 10,
          "standoff": 10,
          "symbol": "arrow-wide"
         },
         "mode": "lines+markers",
         "showlegend": false,
         "x": [
          0.5,
          0.0,
          null,
          0.5,
          1.0,
          null
         ],
         "y": [
          1.0,
          2.0,
          null,
          1.0,
          2.0,
          null
         ],
         "type": "scatter"
        },
        {
         "hovertemplate": "%{text}<extra></extra>",
         "marker": {
          "color": [
           "#511CFB",
           "#FB0D0D",
           "#2E91E5",
           "#2E91E5"
          ],
          "size": [
           21.455752732056386,
           34.078102881813436,
           35.231883119115295,
           27.167195631449246
          ],
          "symbol": "circle-dot"
         },
         "mode": "markers",
         "showlegend": false,
         "text": [
          "\nAggregator<br>\nRecipe: input<br>\nScale: 1\n",
          "\nSmelter<br>\nRecipe: iron_ingot<br>\nScale: 12.0\n",
          "\nConstructor<br>\nRecipe: iron_rod<br>\nScale: 13.7143\n",
          "\nConstructor<br>\nRecipe: iron_plate<br>\nScale: 5.1429\n"
         ],
         "x": [
          -0.5,
          0.5,
          0.0,
          1.0
         ],
         "y": [
          1.0,
          1.0,
          2.0,
          2.0
         ],
         "type": "scatter"
        }
       ],
       "layout": {
        "template": {
         "data": {
          "histogram2dcontour": [
           {
            "type": "histogram2dcontour",
            "colorbar": {
             "outlinewidth": 0,
             "ticks": ""
            },
            "colorscale": [
             [
              0.0,
              "#0d0887"
             ],
             [
              0.1111111111111111,
              "#46039f"
             ],
             [
              0.2222222222222222,
              "#7201a8"
             ],
             [
              0.3333333333333333,
              "#9c179e"
             ],
             [
              0.4444444444444444,
              "#bd3786"
             ],
             [
              0.5555555555555556,
              "#d8576b"
             ],
             [
              0.6666666666666666,
              "#ed7953"
             ],
             [
              0.7777777777777778,
              "#fb9f3a"
             ],
             [
              0.8888888888888888,
              "#fdca26"
             ],
             [
              1.0,
              "#f0f921"
             ]
            ]
           }
          ],
          "choropleth": [
           {
            "type": "choropleth",
            "colorbar": {
             "outlinewidth": 0,
             "ticks": ""
            }
           }
          ],
          "histogram2d": [
           {
            "type": "histogram2d",
            "colorbar": {
             "outlinewidth": 0,
             "ticks": ""
            },
            "colorscale": [
             [
              0.0,
              "#0d0887"
             ],
             [
              0.1111111111111111,
              "#46039f"
             ],
             [
              0.2222222222222222,
              "#7201a8"
             ],
             [
              0.3333333333333333,
              "#9c179e"
             ],
             [
              0.4444444444444444,
              "#bd3786"
             ],
             [
              0.5555555555555556,
              "#d8576b"
             ],
             [
              0.6666666666666666,
              "#ed7953"
             ],
             [
              0.7777777777777778,
              "#fb9f3a"
             ],
             [
              0.8888888888888888,
              "#fdca26"
             ],
             [
              1.0,
              "#f0f921"
             ]
            ]
           }
          ],
          "heatmap": [
           {
            "type": "heatmap",
            "colorbar": {
             "outlinewidth": 0,
             "ticks": ""
            },
            "colorscale": [
             [
              0.0,
              "#0d0887"
             ],
             [
              0.1111111111111111,
              "#46039f"
             ],
             [
              0.2222222222222222,
              "#7201a8"
             ],
             [
              0.3333333333333333,
              "#9c179e"
             ],
             [
              0.4444444444444444,
              "#bd3786"
             ],
             [
              0.5555555555555556,
              "#d8576b"
             ],
             [
              0.6666666666666666,
              "#ed7953"
             ],
             [
              0.7777777777777778,
              "#fb9f3a"
             ],
             [
              0.8888888888888888,
              "#fdca26"
             ],
             [
              1.0,
              "#f0f921"
             ]
            ]
           }
          ],
          "heatmapgl": [
           {
            "type": "heatmapgl",
            "colorbar": {
             "outlinewidth": 0,
             "ticks": ""
            },
            "colorscale": [
             [
              0.0,
              "#0d0887"
             ],
             [
              0.1111111111111111,
              "#46039f"
             ],
             [
              0.2222222222222222,
              "#7201a8"
             ],
             [
              0.3333333333333333,
              "#9c179e"
             ],
             [
              0.4444444444444444,
              "#bd3786"
             ],
             [
              0.5555555555555556,
              "#d8576b"
             ],
             [
              0.6666666666666666,
              "#ed7953"
             ],
             [
              0.7777777777777778,
              "#fb9f3a"
             ],
             [
              0.8888888888888888,
              "#fdca26"
             ],
             [
              1.0,
              "#f0f921"
             ]
            ]
           }
          ],
          "contourcarpet": [
           {
            "type": "contourcarpet",
            "colorbar": {
             "outlinewidth": 0,
             "ticks": ""
            }
           }
          ],
          "contour": [
           {
            "type": "contour",
            "colorbar": {
             "outlinewidth": 0,
             "ticks": ""
            },
            "colorscale": [
             [
              0.0,
              "#0d0887"
             ],
             [
              0.1111111111111111,
              "#46039f"
             ],
             [
              0.2222222222222222,
              "#7201a8"
             ],
             [
              0.3333333333333333,
              "#9c179e"
             ],
             [
              0.4444444444444444,
              "#bd3786"
             ],
             [
              0.5555555555555556,
              "#d8576b"
             ],
             [
              0.6666666666666666,
              "#ed7953"
             ],
             [
              0.7777777777777778,
              "#fb9f3a"
             ],
             [
              0.8888888888888888,
              "#fdca26"
             ],
             [
              1.0,
              "#f0f921"
             ]
            ]
           }
          ],
          "surface": [
           {
            "type": "surface",
            "colorbar": {
             "outlinewidth": 0,
             "ticks": ""
            },
            "colorscale": [
             [
              0.0,
              "#0d0887"
             ],
             [
              0.1111111111111111,
              "#46039f"
             ],
             [
              0.2222222222222222,
              "#7201a8"
             ],
             [
              0.3333333333333333,
              "#9c179e"
             ],
             [
              0.4444444444444444,
              "#bd3786"
             ],
             [
              0.5555555555555556,
              "#d8576b"
             ],
             [
              0.6666666666666666,
              "#ed7953"
             ],
             [
              0.7777777777777778,
              "#fb9f3a"
             ],
             [
              0.8888888888888888,
              "#fdca26"
             ],
             [
              1.0,
              "#f0f921"
             ]
            ]
           }
          ],
          "mesh3d": [
           {
            "type": "mesh3d",
            "colorbar": {
             "outlinewidth": 0,
             "ticks": ""
            }
           }
          ],
          "scatter": [
           {
            "marker": {
             "line": {
              "color": "#283442"
             }
            },
            "type": "scatter"
           }
          ],
          "parcoords": [
           {
            "type": "parcoords",
            "line": {
             "colorbar": {
              "outlinewidth": 0,
              "ticks": ""
             }
            }
           }
          ],
          "scatterpolargl": [
           {
            "type": "scatterpolargl",
            "marker": {
             "colorbar": {
              "outlinewidth": 0,
              "ticks": ""
             }
            }
           }
          ],
          "bar": [
           {
            "error_x": {
             "color": "#f2f5fa"
            },
            "error_y": {
             "color": "#f2f5fa"
            },
            "marker": {
             "line": {
              "color": "rgb(17,17,17)",
              "width": 0.5
             },
             "pattern": {
              "fillmode": "overlay",
              "size": 10,
              "solidity": 0.2
             }
            },
            "type": "bar"
           }
          ],
          "scattergeo": [
           {
            "type": "scattergeo",
            "marker": {
             "colorbar": {
              "outlinewidth": 0,
              "ticks": ""
             }
            }
           }
          ],
          "scatterpolar": [
           {
            "type": "scatterpolar",
            "marker": {
             "colorbar": {
              "outlinewidth": 0,
              "ticks": ""
             }
            }
           }
          ],
          "histogram": [
           {
            "marker": {
             "pattern": {
              "fillmode": "overlay",
              "size": 10,
              "solidity": 0.2
             }
            },
            "type": "histogram"
           }
          ],
          "scattergl": [
           {
            "marker": {
             "line": {
              "color": "#283442"
             }
            },
            "type": "scattergl"
           }
          ],
          "scatter3d": [
           {
            "type": "scatter3d",
            "line": {
             "colorbar": {
              "outlinewidth": 0,
              "ticks": ""
             }
            },
            "marker": {
             "colorbar": {
              "outlinewidth": 0,
              "ticks": ""
             }
            }
           }
          ],
          "scattermapbox": [
           {
            "type": "scattermapbox",
            "marker": {
             "colorbar": {
              "outlinewidth": 0,
              "ticks": ""
             }
            }
           }
          ],
          "scatterternary": [
           {
            "type": "scatterternary",
            "marker": {
             "colorbar": {
              "outlinewidth": 0,
              "ticks": ""
             }
            }
           }
          ],
          "scattercarpet": [
           {
            "type": "scattercarpet",
            "marker": {
             "colorbar": {
              "outlinewidth": 0,
              "ticks": ""
             }
            }
           }
          ],
          "carpet": [
           {
            "aaxis": {
             "endlinecolor": "#A2B1C6",
             "gridcolor": "#506784",
             "linecolor": "#506784",
             "minorgridcolor": "#506784",
             "startlinecolor": "#A2B1C6"
            },
            "baxis": {
             "endlinecolor": "#A2B1C6",
             "gridcolor": "#506784",
             "linecolor": "#506784",
             "minorgridcolor": "#506784",
             "startlinecolor": "#A2B1C6"
            },
            "type": "carpet"
           }
          ],
          "table": [
           {
            "cells": {
             "fill": {
              "color": "#506784"
             },
             "line": {
              "color": "rgb(17,17,17)"
             }
            },
            "header": {
             "fill": {
              "color": "#2a3f5f"
             },
             "line": {
              "color": "rgb(17,17,17)"
             }
            },
            "type": "table"
           }
          ],
          "barpolar": [
           {
            "marker": {
             "line": {
              "color": "rgb(17,17,17)",
              "width": 0.5
             },
             "pattern": {
              "fillmode": "overlay",
              "size": 10,
              "solidity": 0.2
             }
            },
            "type": "barpolar"
           }
          ],
          "pie": [
           {
            "automargin": true,
            "type": "pie"
           }
          ]
         },
         "layout": {
          "autotypenumbers": "strict",
          "colorway": [
           "#636efa",
           "#EF553B",
           "#00cc96",
           "#ab63fa",
           "#FFA15A",
           "#19d3f3",
           "#FF6692",
           "#B6E880",
           "#FF97FF",
           "#FECB52"
          ],
          "font": {
           "color": "#f2f5fa"
          },
          "hovermode": "closest",
          "hoverlabel": {
           "align": "left"
          },
          "paper_bgcolor": "rgb(17,17,17)",
          "plot_bgcolor": "rgb(17,17,17)",
          "polar": {
           "bgcolor": "rgb(17,17,17)",
           "angularaxis": {
            "gridcolor": "#506784",
            "linecolor": "#506784",
            "ticks": ""
           },
           "radialaxis": {
            "gridcolor": "#506784",
            "linecolor": "#506784",
            "ticks": ""
           }
          },
          "ternary": {
           "bgcolor": "rgb(17,17,17)",
           "aaxis": {
            "gridcolor": "#506784",
            "linecolor": "#506784",
            "ticks": ""
           },
           "baxis": {
            "gridcolor": "#506784",
            "linecolor": "#506784",
            "ticks": ""
           },
           "caxis": {
            "gridcolor": "#506784",
            "linecolor": "#506784",
            "ticks": ""
           }
          },
          "coloraxis": {
           "colorbar": {
            "outlinewidth": 0,
            "ticks": ""
           }
          },
          "colorscale": {
           "sequential": [
            [
             0.0,
             "#0d0887"
            ],
            [
             0.1111111111111111,
             "#46039f"
            ],
            [
             0.2222222222222222,
             "#7201a8"
            ],
            [
             0.3333333333333333,
             "#9c179e"
            ],
            [
             0.4444444444444444,
             "#bd3786"
            ],
            [
             0.5555555555555556,
             "#d8576b"
            ],
            [
             0.6666666666666666,
             "#ed7953"
            ],
            [
             0.7777777777777778,
             "#fb9f3a"
            ],
            [
             0.8888888888888888,
             "#fdca26"
            ],
            [
             1.0,
             "#f0f921"
            ]
           ],
           "sequentialminus": [
            [
             0.0,
             "#0d0887"
            ],
            [
             0.1111111111111111,
             "#46039f"
            ],
            [
             0.2222222222222222,
             "#7201a8"
            ],
            [
             0.3333333333333333,
             "#9c179e"
            ],
            [
             0.4444444444444444,
             "#bd3786"
            ],
            [
             0.5555555555555556,
             "#d8576b"
            ],
            [
             0.6666666666666666,
             "#ed7953"
            ],
            [
             0.7777777777777778,
             "#fb9f3a"
            ],
            [
             0.8888888888888888,
             "#fdca26"
            ],
            [
             1.0,
             "#f0f921"
            ]
           ],
           "diverging": [
            [
             0,
             "#8e0152"
            ],
            [
             0.1,
             "#c51b7d"
            ],
            [
             0.2,
             "#de77ae"
            ],
            [
             0.3,
             "#f1b6da"
            ],
            [
             0.4,
             "#fde0ef"
            ],
            [
             0.5,
             "#f7f7f7"
            ],
            [
             0.6,
             "#e6f5d0"
            ],
            [
             0.7,
             "#b8e186"
            ],
            [
             0.8,
             "#7fbc41"
            ],
            [
             0.9,
             "#4d9221"
            ],
            [
             1,
             "#276419"
            ]
           ]
          },
          "xaxis": {
           "gridcolor": "#283442",
           "linecolor": "#506784",
           "ticks": "",
           "title": {
            "standoff": 15
           },
           "zerolinecolor": "#283442",
           "automargin": true,
           "zerolinewidth": 2
          },
          "yaxis": {
           "gridcolor": "#283442",
           "linecolor": "#506784",
           "ticks": "",
           "title": {
            "standoff": 15
           },
           "zerolinecolor": "#283442",
           "automargin": true,
           "zerolinewidth": 2
          },
          "scene": {
           "xaxis": {
            "backgroundcolor": "rgb(17,17,17)",
            "gridcolor": "#506784",
            "linecolor": "#506784",
            "showbackground": true,
            "ticks": "",
            "zerolinecolor": "#C8D4E3",
            "gridwidth": 2
           },
           "yaxis": {
            "backgroundcolor": "rgb(17,17,17)",
            "gridcolor": "#506784",
            "linecolor": "#506784",
            "showbackground": true,
            "ticks": "",
            "zerolinecolor": "#C8D4E3",
            "gridwidth": 2
           },
           "zaxis": {
            "backgroundcolor": "rgb(17,17,17)",
            "gridcolor": "#506784",
            "linecolor": "#506784",
            "showbackground": true,
            "ticks": "",
            "zerolinecolor": "#C8D4E3",
            "gridwidth": 2
           }
          },
          "shapedefaults": {
           "line": {
            "color": "#f2f5fa"
           }
          },
          "annotationdefaults": {
           "arrowcolor": "#f2f5fa",
           "arrowhead": 0,
           "arrowwidth": 1
          },
          "geo": {
           "bgcolor": "rgb(17,17,17)",
           "landcolor": "rgb(17,17,17)",
           "subunitcolor": "#506784",
           "showland": true,
           "showlakes": true,
           "lakecolor": "rgb(17,17,17)"
          },
          "title": {
           "x": 0.05
          },
          "updatemenudefaults": {
           "bgcolor": "#506784",
           "borderwidth": 0
          },
          "sliderdefaults": {
           "bgcolor": "#C8D4E3",
           "borderwidth": 1,
           "bordercolor": "rgb(17,17,17)",
           "tickwidth": 0
          },
          "mapbox": {
           "style": "dark"
          }
         }
        },
        "xaxis": {
         "showgrid": false,
         "zeroline": false,
         "visible": false
        },
        "yaxis": {
         "showgrid": false,
         "zeroline": false,
         "visible": false
        },
        "autosize": true,
        "height": 1000
       },
       "config": {
        "plotlyServerURL": "https://plot.ly"
       }
      }
     },
     "metadata": {},
     "output_type": "display_data"
    },
    {
     "data": {
      "application/vnd.plotly.v1+json": {
       "data": [
        {
         "link": {
          "label": [
           "iron_ingot",
           "iron_ingot"
          ],
          "source": [
           1,
           1
          ],
          "target": [
           2,
           3
          ],
          "value": [
           205.7145,
           154.287
          ]
         },
         "node": {
          "label": [
           "Aggregator: input",
           "Smelter: iron_ingot",
           "Constructor: iron_rod",
           "Constructor: iron_plate"
          ]
         },
         "type": "sankey"
        }
       ],
       "layout": {
        "template": {
         "data": {
          "histogram2dcontour": [
           {
            "type": "histogram2dcontour",
            "colorbar": {
             "outlinewidth": 0,
             "ticks": ""
            },
            "colorscale": [
             [
              0.0,
              "#0d0887"
             ],
             [
              0.1111111111111111,
              "#46039f"
             ],
             [
              0.2222222222222222,
              "#7201a8"
             ],
             [
              0.3333333333333333,
              "#9c179e"
             ],
             [
              0.4444444444444444,
              "#bd3786"
             ],
             [
              0.5555555555555556,
              "#d8576b"
             ],
             [
              0.6666666666666666,
              "#ed7953"
             ],
             [
              0.7777777777777778,
              "#fb9f3a"
             ],
             [
              0.8888888888888888,
              "#fdca26"
             ],
             [
              1.0,
              "#f0f921"
             ]
            ]
           }
          ],
          "choropleth": [
           {
            "type": "choropleth",
            "colorbar": {
             "outlinewidth": 0,
             "ticks": ""
            }
           }
          ],
          "histogram2d": [
           {
            "type": "histogram2d",
            "colorbar": {
             "outlinewidth": 0,
             "ticks": ""
            },
            "colorscale": [
             [
              0.0,
              "#0d0887"
             ],
             [
              0.1111111111111111,
              "#46039f"
             ],
             [
              0.2222222222222222,
              "#7201a8"
             ],
             [
              0.3333333333333333,
              "#9c179e"
             ],
             [
              0.4444444444444444,
              "#bd3786"
             ],
             [
              0.5555555555555556,
              "#d8576b"
             ],
             [
              0.6666666666666666,
              "#ed7953"
             ],
             [
              0.7777777777777778,
              "#fb9f3a"
             ],
             [
              0.8888888888888888,
              "#fdca26"
             ],
             [
              1.0,
              "#f0f921"
             ]
            ]
           }
          ],
          "heatmap": [
           {
            "type": "heatmap",
            "colorbar": {
             "outlinewidth": 0,
             "ticks": ""
            },
            "colorscale": [
             [
              0.0,
              "#0d0887"
             ],
             [
              0.1111111111111111,
              "#46039f"
             ],
             [
              0.2222222222222222,
              "#7201a8"
             ],
             [
              0.3333333333333333,
              "#9c179e"
             ],
             [
              0.4444444444444444,
              "#bd3786"
             ],
             [
              0.5555555555555556,
              "#d8576b"
             ],
             [
              0.6666666666666666,
              "#ed7953"
             ],
             [
              0.7777777777777778,
              "#fb9f3a"
             ],
             [
              0.8888888888888888,
              "#fdca26"
             ],
             [
              1.0,
              "#f0f921"
             ]
            ]
           }
          ],
          "heatmapgl": [
           {
            "type": "heatmapgl",
            "colorbar": {
             "outlinewidth": 0,
             "ticks": ""
            },
            "colorscale": [
             [
              0.0,
              "#0d0887"
             ],
             [
              0.1111111111111111,
              "#46039f"
             ],
             [
              0.2222222222222222,
              "#7201a8"
             ],
             [
              0.3333333333333333,
              "#9c179e"
             ],
             [
              0.4444444444444444,
              "#bd3786"
             ],
             [
              0.5555555555555556,
              "#d8576b"
             ],
             [
              0.6666666666666666,
              "#ed7953"
             ],
             [
              0.7777777777777778,
              "#fb9f3a"
             ],
             [
              0.8888888888888888,
              "#fdca26"
             ],
             [
              1.0,
              "#f0f921"
             ]
            ]
           }
          ],
          "contourcarpet": [
           {
            "type": "contourcarpet",
            "colorbar": {
             "outlinewidth": 0,
             "ticks": ""
            }
           }
          ],
          "contour": [
           {
            "type": "contour",
            "colorbar": {
             "outlinewidth": 0,
             "ticks": ""
            },
            "colorscale": [
             [
              0.0,
              "#0d0887"
             ],
             [
              0.1111111111111111,
              "#46039f"
             ],
             [
              0.2222222222222222,
              "#7201a8"
             ],
             [
              0.3333333333333333,
              "#9c179e"
             ],
             [
              0.4444444444444444,
              "#bd3786"
             ],
             [
              0.5555555555555556,
              "#d8576b"
             ],
             [
              0.6666666666666666,
              "#ed7953"
             ],
             [
              0.7777777777777778,
              "#fb9f3a"
             ],
             [
              0.8888888888888888,
              "#fdca26"
             ],
             [
              1.0,
              "#f0f921"
             ]
            ]
           }
          ],
          "surface": [
           {
            "type": "surface",
            "colorbar": {
             "outlinewidth": 0,
             "ticks": ""
            },
            "colorscale": [
             [
              0.0,
              "#0d0887"
             ],
             [
              0.1111111111111111,
              "#46039f"
             ],
             [
              0.2222222222222222,
              "#7201a8"
             ],
             [
              0.3333333333333333,
              "#9c179e"
             ],
             [
              0.4444444444444444,
              "#bd3786"
             ],
             [
              0.5555555555555556,
              "#d8576b"
             ],
             [
              0.6666666666666666,
              "#ed7953"
             ],
             [
              0.7777777777777778,
              "#fb9f3a"
             ],
             [
              0.8888888888888888,
              "#fdca26"
             ],
             [
              1.0,
              "#f0f921"
             ]
            ]
           }
          ],
          "mesh3d": [
           {
            "type": "mesh3d",
            "colorbar": {
             "outlinewidth": 0,
             "ticks": ""
            }
           }
          ],
          "scatter": [
           {
            "marker": {
             "line": {
              "color": "#283442"
             }
            },
            "type": "scatter"
           }
          ],
          "parcoords": [
           {
            "type": "parcoords",
            "line": {
             "colorbar": {
              "outlinewidth": 0,
              "ticks": ""
             }
            }
           }
          ],
          "scatterpolargl": [
           {
            "type": "scatterpolargl",
            "marker": {
             "colorbar": {
              "outlinewidth": 0,
              "ticks": ""
             }
            }
           }
          ],
          "bar": [
           {
            "error_x": {
             "color": "#f2f5fa"
            },
            "error_y": {
             "color": "#f2f5fa"
            },
            "marker": {
             "line": {
              "color": "rgb(17,17,17)",
              "width": 0.5
             },
             "pattern": {
              "fillmode": "overlay",
              "size": 10,
              "solidity": 0.2
             }
            },
            "type": "bar"
           }
          ],
          "scattergeo": [
           {
            "type": "scattergeo",
            "marker": {
             "colorbar": {
              "outlinewidth": 0,
              "ticks": ""
             }
            }
           }
          ],
          "scatterpolar": [
           {
            "type": "scatterpolar",
            "marker": {
             "colorbar": {
              "outlinewidth": 0,
              "ticks": ""
             }
            }
           }
          ],
          "histogram": [
           {
            "marker": {
             "pattern": {
              "fillmode": "overlay",
              "size": 10,
              "solidity": 0.2
             }
            },
            "type": "histogram"
           }
          ],
          "scattergl": [
           {
            "marker": {
             "line": {
              "color": "#283442"
             }
            },
            "type": "scattergl"
           }
          ],
          "scatter3d": [
           {
            "type": "scatter3d",
            "line": {
             "colorbar": {
              "outlinewidth": 0,
              "ticks": ""
             }
            },
            "marker": {
             "colorbar": {
              "outlinewidth": 0,
              "ticks": ""
             }
            }
           }
          ],
          "scattermapbox": [
           {
            "type": "scattermapbox",
            "marker": {
             "colorbar": {
              "outlinewidth": 0,
              "ticks": ""
             }
            }
           }
          ],
          "scatterternary": [
           {
            "type": "scatterternary",
            "marker": {
             "colorbar": {
              "outlinewidth": 0,
              "ticks": ""
             }
            }
           }
          ],
          "scattercarpet": [
           {
            "type": "scattercarpet",
            "marker": {
             "colorbar": {
              "outlinewidth": 0,
              "ticks": ""
             }
            }
           }
          ],
          "carpet": [
           {
            "aaxis": {
             "endlinecolor": "#A2B1C6",
             "gridcolor": "#506784",
             "linecolor": "#506784",
             "minorgridcolor": "#506784",
             "startlinecolor": "#A2B1C6"
            },
            "baxis": {
             "endlinecolor": "#A2B1C6",
             "gridcolor": "#506784",
             "linecolor": "#506784",
             "minorgridcolor": "#506784",
             "startlinecolor": "#A2B1C6"
            },
            "type": "carpet"
           }
          ],
          "table": [
           {
            "cells": {
             "fill": {
              "color": "#506784"
             },
             "line": {
              "color": "rgb(17,17,17)"
             }
            },
            "header": {
             "fill": {
              "color": "#2a3f5f"
             },
             "line": {
              "color": "rgb(17,17,17)"
             }
            },
            "type": "table"
           }
          ],
          "barpolar": [
           {
            "marker": {
             "line": {
              "color": "rgb(17,17,17)",
              "width": 0.5
             },
             "pattern": {
              "fillmode": "overlay",
              "size": 10,
              "solidity": 0.2
             }
            },
            "type": "barpolar"
           }
          ],
          "pie": [
           {
            "automargin": true,
            "type": "pie"
           }
          ]
         },
         "layout": {
          "autotypenumbers": "strict",
          "colorway": [
           "#636efa",
           "#EF553B",
           "#00cc96",
           "#ab63fa",
           "#FFA15A",
           "#19d3f3",
           "#FF6692",
           "#B6E880",
           "#FF97FF",
           "#FECB52"
          ],
          "font": {
           "color": "#f2f5fa"
          },
          "hovermode": "closest",
          "hoverlabel": {
           "align": "left"
          },
          "paper_bgcolor": "rgb(17,17,17)",
          "plot_bgcolor": "rgb(17,17,17)",
          "polar": {
           "bgcolor": "rgb(17,17,17)",
           "angularaxis": {
            "gridcolor": "#506784",
            "linecolor": "#506784",
            "ticks": ""
           },
           "radialaxis": {
            "gridcolor": "#506784",
            "linecolor": "#506784",
            "ticks": ""
           }
          },
          "ternary": {
           "bgcolor": "rgb(17,17,17)",
           "aaxis": {
            "gridcolor": "#506784",
            "linecolor": "#506784",
            "ticks": ""
           },
           "baxis": {
            "gridcolor": "#506784",
            "linecolor": "#506784",
            "ticks": ""
           },
           "caxis": {
            "gridcolor": "#506784",
            "linecolor": "#506784",
            "ticks": ""
           }
          },
          "coloraxis": {
           "colorbar": {
            "outlinewidth": 0,
            "ticks": ""
           }
          },
          "colorscale": {
           "sequential": [
            [
             0.0,
             "#0d0887"
            ],
            [
             0.1111111111111111,
             "#46039f"
            ],
            [
             0.2222222222222222,
             "#7201a8"
            ],
            [
             0.3333333333333333,
             "#9c179e"
            ],
            [
             0.4444444444444444,
             "#bd3786"
            ],
            [
             0.5555555555555556,
             "#d8576b"
            ],
            [
             0.6666666666666666,
             "#ed7953"
            ],
            [
             0.7777777777777778,
             "#fb9f3a"
            ],
            [
             0.8888888888888888,
             "#fdca26"
            ],
            [
             1.0,
             "#f0f921"
            ]
           ],
           "sequentialminus": [
            [
             0.0,
             "#0d0887"
            ],
            [
             0.1111111111111111,
             "#46039f"
            ],
            [
             0.2222222222222222,
             "#7201a8"
            ],
            [
             0.3333333333333333,
             "#9c179e"
            ],
            [
             0.4444444444444444,
             "#bd3786"
            ],
            [
             0.5555555555555556,
             "#d8576b"
            ],
            [
             0.6666666666666666,
             "#ed7953"
            ],
            [
             0.7777777777777778,
             "#fb9f3a"
            ],
            [
             0.8888888888888888,
             "#fdca26"
            ],
            [
             1.0,
             "#f0f921"
            ]
           ],
           "diverging": [
            [
             0,
             "#8e0152"
            ],
            [
             0.1,
             "#c51b7d"
            ],
            [
             0.2,
             "#de77ae"
            ],
            [
             0.3,
             "#f1b6da"
            ],
            [
             0.4,
             "#fde0ef"
            ],
            [
             0.5,
             "#f7f7f7"
            ],
            [
             0.6,
             "#e6f5d0"
            ],
            [
             0.7,
             "#b8e186"
            ],
            [
             0.8,
             "#7fbc41"
            ],
            [
             0.9,
             "#4d9221"
            ],
            [
             1,
             "#276419"
            ]
           ]
          },
          "xaxis": {
           "gridcolor": "#283442",
           "linecolor": "#506784",
           "ticks": "",
           "title": {
            "standoff": 15
           },
           "zerolinecolor": "#283442",
           "automargin": true,
           "zerolinewidth": 2
          },
          "yaxis": {
           "gridcolor": "#283442",
           "linecolor": "#506784",
           "ticks": "",
           "title": {
            "standoff": 15
           },
           "zerolinecolor": "#283442",
           "automargin": true,
           "zerolinewidth": 2
          },
          "scene": {
           "xaxis": {
            "backgroundcolor": "rgb(17,17,17)",
            "gridcolor": "#506784",
            "linecolor": "#506784",
            "showbackground": true,
            "ticks": "",
            "zerolinecolor": "#C8D4E3",
            "gridwidth": 2
           },
           "yaxis": {
            "backgroundcolor": "rgb(17,17,17)",
            "gridcolor": "#506784",
            "linecolor": "#506784",
            "showbackground": true,
            "ticks": "",
            "zerolinecolor": "#C8D4E3",
            "gridwidth": 2
           },
           "zaxis": {
            "backgroundcolor": "rgb(17,17,17)",
            "gridcolor": "#506784",
            "linecolor": "#506784",
            "showbackground": true,
            "ticks": "",
            "zerolinecolor": "#C8D4E3",
            "gridwidth": 2
           }
          },
          "shapedefaults": {
           "line": {
            "color": "#f2f5fa"
           }
          },
          "annotationdefaults": {
           "arrowcolor": "#f2f5fa",
           "arrowhead": 0,
           "arrowwidth": 1
          },
          "geo": {
           "bgcolor": "rgb(17,17,17)",
           "landcolor": "rgb(17,17,17)",
           "subunitcolor": "#506784",
           "showland": true,
           "showlakes": true,
           "lakecolor": "rgb(17,17,17)"
          },
          "title": {
           "x": 0.05
          },
          "updatemenudefaults": {
           "bgcolor": "#506784",
           "borderwidth": 0
          },
          "sliderdefaults": {
           "bgcolor": "#C8D4E3",
           "borderwidth": 1,
           "bordercolor": "rgb(17,17,17)",
           "tickwidth": 0
          },
          "mapbox": {
           "style": "dark"
          }
         }
        }
       },
       "config": {
        "plotlyServerURL": "https://plot.ly"
       }
      }
     },
     "metadata": {},
     "output_type": "display_data"
    },
    {
     "data": {
      "text/plain": "<IPython.core.display.HTML object>",
      "text/html": "\n    <table>\n    <thead>\n    <tr><td>Machine Type</td><td>Count</td><td>Recipe</td><td>Ingredients</td><td>Products</td></tr>\n    </thead>\n    <tbody>\n    <tr><td>Aggregator</td><td>1</td><td>input</td><td>iron_ore: 360.00</td><td>iron_ore: 360.00</td></tr>\n<tr><td>Smelter</td><td>12.0</td><td>iron_ingot</td><td>iron_ore: 360.00</td><td>iron_ingot: 360.00</td></tr>\n<tr><td>Constructor</td><td>13.7143</td><td>iron_rod</td><td>iron_ingot: 205.71</td><td>iron_rod: 205.71</td></tr>\n<tr><td>Constructor</td><td>5.1429</td><td>iron_plate</td><td>iron_ingot: 154.29</td><td>iron_plate: 102.86</td></tr>\n    </tbody>\n    </table>"
     },
     "metadata": {},
     "output_type": "display_data"
    }
   ],
   "source": [
    "available_machines = make_recipes(BASE_CONFIG, machine_mapping)\n",
    "available_machines = [*available_machines.core]\n",
    "Machine.autobind(available_machines)\n",
    "\n",
    "target_product = MaterialSpec(iron_plate=1, iron_rod=2)\n",
    "target_available = MaterialSpec(iron_ore=360)\n",
    "solution = Process.from_inputs(target_available,\n",
    "                               target_product,\n",
    "                               available_machines)\n",
    "\n",
    "plot_process(solution, Graph.layout_reingold_tilford)\n",
    "plot_sankey(solution)\n",
    "display(HTML(recipe_summary(solution)))"
   ]
  },
  {
   "cell_type": "code",
   "execution_count": 450,
   "id": "a2e4bd07-617b-494f-8456-bcbe02b966a5",
   "metadata": {},
   "outputs": [],
   "source": [
    "# small steel factory"
   ]
  },
  {
   "cell_type": "code",
   "execution_count": 451,
   "id": "033c0c55-604c-41c3-9309-721c2facc47c",
   "metadata": {},
   "outputs": [],
   "source": [
    "# big steel factory"
   ]
  },
  {
   "cell_type": "code",
   "execution_count": null,
   "id": "c050adf2-9bf8-4ce9-b1f6-3a458cb837f0",
   "metadata": {},
   "outputs": [],
   "source": []
  }
 ],
 "metadata": {
  "kernelspec": {
   "display_name": "Python 3 (ipykernel)",
   "language": "python",
   "name": "python3"
  },
  "language_info": {
   "codemirror_mode": {
    "name": "ipython",
    "version": 3
   },
   "file_extension": ".py",
   "mimetype": "text/x-python",
   "name": "python",
   "nbconvert_exporter": "python",
   "pygments_lexer": "ipython3",
   "version": "3.9.13"
  }
 },
 "nbformat": 4,
 "nbformat_minor": 5
}
