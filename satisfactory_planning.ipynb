{
 "cells": [
  {
   "cell_type": "code",
   "execution_count": 438,
   "id": "89117efb-12c3-4039-95ee-ebf4a532631e",
   "metadata": {},
   "outputs": [],
   "source": [
    "import json\n",
    "import plotly\n",
    "from ipywidgets import interact, interactive, fixed, interact_manual\n",
    "from pprint import pprint\n",
    "import plotly.io as pio\n",
    "pio.renderers.default = \"jupyterlab\"\n",
    " \n",
    "def simplify_config(game_config: dict) -> dict:\n",
    "    simple_config = {}\n",
    "    for config in game_config:\n",
    "        simple_config[config[\"NativeClass\"]] = {item[\"ClassName\"]: item for item in config[\"Classes\"]}\n",
    "    return simple_config\n",
    "\n",
    "CONFIG_LOCATION = \"D:\\SteamLibrary\\steamapps\\common\\Satisfactory\\CommunityResources\\Docs\\Docs.json\"\n",
    "with open(CONFIG_LOCATION, \"r\", encoding=\"utf-16\") as f:\n",
    "    data = f.read()\n",
    "    BASE_CONFIG = simplify_config(json.loads(data))\n",
    "    \n",
    "def standardize(value: str):\n",
    "    return \"_\".join(value.replace(\"-\", \"_\").replace(\":\", \"\").split()).lower()\n",
    "\n",
    "# missing miner, rebar spreadshot\n",
    "RESOURCE_KEYS = (\"Class'/Script/FactoryGame.FGItemDescriptor'\", \n",
    "                 \"Class'/Script/FactoryGame.FGResourceDescriptor'\",\n",
    "                 \"Class'/Script/FactoryGame.FGConsumableDescriptor'\",\n",
    "                 \"Class'/Script/FactoryGame.FGItemDescriptorBiomass'\",\n",
    "                 \"Class'/Script/FactoryGame.FGAmmoTypeProjectile'\",\n",
    "                 \"Class'/Script/FactoryGame.FGItemDescriptorNuclearFuel'\",\n",
    "                 \"Class'/Script/FactoryGame.FGAmmoTypeInstantHit'\",\n",
    "                 \"Class'/Script/FactoryGame.FGAmmoTypeSpreadshot'\")\n",
    "\n",
    "EXTRACTOR_KEYS = (\n",
    "    \"Class'/Script/FactoryGame.FGBuildableResourceExtractor'\", \n",
    "    \"Class'/Script/FactoryGame.FGBuildableFrackingExtractor'\"\n",
    ")\n",
    "\n",
    "GENERATOR_KEYS = (\n",
    "     \"Class'/Script/FactoryGame.FGBuildableGeneratorFuel'\",\n",
    "     \"Class'/Script/FactoryGame.FGBuildableGeneratorGeoThermal'\",\n",
    "     \"Class'/Script/FactoryGame.FGBuildableGeneratorNuclear'\",\n",
    ")\n",
    "\n",
    "# equipment descriptors contain the recipe for automated portable miners"
   ]
  },
  {
   "cell_type": "code",
   "execution_count": 439,
   "id": "8e933410-e642-4af2-88df-a63d520f4819",
   "metadata": {},
   "outputs": [],
   "source": [
    "# TODO: make an intermediate config with cleaned up keys\n",
    "# material/recipe: internal_name: useful info\n",
    "import itertools\n",
    "\n",
    "def get_materials(simple_config: dict) -> list[str]:\n",
    "    resources = []\n",
    "    for item in itertools.chain.from_iterable((simple_config[key].values() for key in RESOURCE_KEYS)):\n",
    "        resources.append(standardize(item[\"mDisplayName\"]))\n",
    "    return resources\n",
    "\n",
    "def get_recipes(simple_config: dict) -> list[str]:\n",
    "    pass\n",
    "\n",
    "def get_extractors():\n",
    "    pass\n",
    "\n",
    "def get_generators():\n",
    "    pass"
   ]
  },
  {
   "cell_type": "code",
   "execution_count": 440,
   "id": "aaf61b04-6df0-4438-988f-0e938141aeab",
   "metadata": {
    "tags": []
   },
   "outputs": [],
   "source": [
    "from abc import ABC\n",
    "from dataclasses import dataclass, fields, make_dataclass\n",
    "from enum import Enum, auto\n",
    "from collections import deque\n",
    "from typing import Optional\n",
    "from itertools import zip_longest\n",
    "import plotly.express as px\n",
    "import numpy as np\n",
    "from scipy.optimize import linprog\n",
    "\n",
    "# TODO: how much of this can be expressed/solved with matrices?\n",
    "\n",
    "class ConfigurationError(Exception):\n",
    "    pass\n",
    "\n",
    "class __MaterialSpec:\n",
    "    \"\"\"\n",
    "    TODO: give this a widget\n",
    "    \"\"\"    \n",
    "    def __add__(self, other):\n",
    "        if not isinstance(other, type(self)):\n",
    "            return NotImplemented\n",
    "        \n",
    "        result = {}\n",
    "        for name, value in self:\n",
    "            result[name] = value + getattr(other, name)\n",
    "        return type(self)(**result)\n",
    "    \n",
    "    def __sub__(self, other):\n",
    "        if not isinstance(other, type(self)):\n",
    "            return NotImplemented\n",
    "        \n",
    "        result = {}\n",
    "        for name, value in self:\n",
    "            result[name] = value - getattr(other, name)\n",
    "        return type(self)(**result)\n",
    "    \n",
    "    def __mul__(self, scalar):\n",
    "        result = {}\n",
    "        for name, value in self:\n",
    "            result[name] = value * scalar \n",
    "        return type(self)(**result)\n",
    "    \n",
    "    def __iter__(self):\n",
    "        for f in fields(self):\n",
    "            yield f.name, getattr(self, f.name)\n",
    "                       \n",
    "    def __or__(self, other):\n",
    "        if isinstance(other, type(self)):\n",
    "            return type(self)(**{name: value for (name, value), (_, matched_value) in zip(self, other) if matched_value > 0})\n",
    "        # elif isinstance(other, Material):\n",
    "        #     return type(self)(**{other.name: getattr(self, other.name)})\n",
    "        elif isinstance(other, str):\n",
    "            return type(self)(**{other: getattr(self, other)})\n",
    "        \n",
    "        return NotImplemented\n",
    "    \n",
    "    def __repr__(self):\n",
    "        return \"\\n\".join(f\"{name}: {value}\" for name, value in self if value > 0)\n",
    "\n",
    "MaterialSpec = make_dataclass(\"MaterialSpec\", [(mat, float, 0) for mat in get_materials(BASE_CONFIG)], bases=(__MaterialSpec,), repr=False)\n",
    "    \n",
    "class Recipe:\n",
    "    name: str\n",
    "    # TODO: duration: float\n",
    "    \n",
    "    def __init__(self, name: str, ingredients: MaterialSpec, products: MaterialSpec):\n",
    "        self.ingredients = ingredients\n",
    "        self.products = products\n",
    "        self.name = name\n",
    "        \n",
    "    def __add__(self, material_spec: MaterialSpec):\n",
    "        return material_spec + self.products - self.ingredients\n",
    "    \n",
    "    def __radd__(self, material_spec: MaterialSpec):\n",
    "        return self + material_spec\n",
    "    \n",
    "    def __rsub__(self, material_spec: MaterialSpec):\n",
    "        return material_spec + self.ingredients - self.products\n",
    "    \n",
    "    def __mul__(self, scalar: float):\n",
    "        \"\"\"\n",
    "        Scale up this recipe\n",
    "        \"\"\"\n",
    "        return type(self)(self.name, self.ingredients * scalar, self.products * scalar)\n",
    "    \n",
    "    def __rtruediv__(self, material_spec: MaterialSpec):\n",
    "        \"\"\"\n",
    "        Get the number of iterations of this recipe that can be produced from the given material_spec\n",
    "        \"\"\"\n",
    "        return min(getattr(material_spec, name) / value for name, value in self.ingredients if value > 0)\n",
    "    \n",
    "    def __repr__(self):\n",
    "        ingredients = \" \".join(repr(self.ingredients).splitlines())\n",
    "        products = \" \".join(repr(self.products).splitlines())\n",
    "                \n",
    "        return f\"{ingredients} >> {products}\"\n",
    "        \n",
    "        \n",
    "class Machine(ABC):\n",
    "    # TODO: don't subclass machines, just take a category argument and set parameters from config/recipe. It doesn't matter what the number of outputs is\n",
    "    \n",
    "    # TODO: weakref these\n",
    "    input_producers: dict[\"Machine\", str]\n",
    "    output_consumers: dict[\"Machine\", str]\n",
    "    \n",
    "    power_consumption: float\n",
    "    power_production: float\n",
    "    \n",
    "    clock_speed: float # TODO\n",
    "    _consumption_exponent: float # TODO\n",
    "    inputs: int\n",
    "    outputs: int\n",
    "    color: str\n",
    "    \n",
    "    _color_generator = iter(px.colors.qualitative.Dark24)\n",
    "    \n",
    "    def __init__(self, recipe: Recipe):\n",
    "        inputs = sum(material > 0 for _, material in recipe.ingredients)\n",
    "        outputs = sum(material > 0 for _, material in recipe.products)\n",
    "        self.input_producers = {}\n",
    "        self.output_consumers = {}\n",
    "        \n",
    "        if inputs != self.inputs or outputs != self.outputs:\n",
    "            raise ConfigurationError(f\"{self.__class__} must have {self.inputs} inputs and {self.outputs} outputs\")\n",
    "            \n",
    "        self.recipe = recipe\n",
    "        \n",
    "    def __init_subclass__(cls, skip_color=False):\n",
    "        if not skip_color:\n",
    "            cls.color = next(cls._color_generator)\n",
    "        \n",
    "    def __str__(self):\n",
    "        return f\"<{self.__class__.__name__}: {self.recipe}>\"\n",
    "        \n",
    "    def __repr__(self):\n",
    "        return str(self)\n",
    "        \n",
    "    def __rshift__(self, material_spec: MaterialSpec):\n",
    "        \"\"\"\n",
    "        Solve for inputs\n",
    "        Recipe >> MaterialSpec\n",
    "        \"\"\"\n",
    "        # TODO: what should the inverse of div be?\n",
    "        scale = max(getattr(material_spec, name) / value for name, value in self.recipe.products if value > 0)\n",
    "        scaled = self.recipe * scale\n",
    "        return material_spec - scaled\n",
    "    \n",
    "    def __lshift__(self, material_spec: MaterialSpec):\n",
    "        \"\"\"\n",
    "        Solve for outputs\n",
    "        Recipe << MaterialSpec\n",
    "        \"\"\"\n",
    "        scale = material_spec / self.recipe\n",
    "        scaled = self.recipe * scale\n",
    "        return material_spec + scaled\n",
    "        \n",
    "    def __rrshift__(self, material_spec: MaterialSpec):\n",
    "        \"\"\"\n",
    "        Solve for inputs\n",
    "        MaterialSpec << Recipe\n",
    "        \"\"\"\n",
    "        return self << material_spec\n",
    "    \n",
    "    def __rlshift__(self, material_spec: MaterialSpec):\n",
    "        \"\"\"\n",
    "        Solve for outputs\n",
    "        MaterialSpec >> Recipe\n",
    "        \"\"\"\n",
    "        return self >> material_spec\n",
    "        \n",
    "    def has_input(self, material: str):\n",
    "        return getattr(self.recipe.ingredients, material) > 0\n",
    "    \n",
    "    def has_output(self, material: str):\n",
    "        return getattr(self.recipe.products, material) > 0\n",
    "    \n",
    "    # TODO: there's some serious confusion of responsibilities between this and recipe\n",
    "    def products(self):\n",
    "        return [product for product, value in self.recipe.products if value > 0]\n",
    "    \n",
    "    def ingredients(self):\n",
    "        return [ingredient for ingredient, value in self.recipe.ingredients if value > 0]\n",
    "    \n",
    "    def bind(self, other: \"Machine\", material: str):\n",
    "        \"\"\"\n",
    "        Verify that there is a matching input-output pair for these two machines\n",
    "        \n",
    "        # TODO: can only handle binding one output to a given machine\n",
    "        \"\"\"\n",
    "        if self.has_output(material) and other.has_input(material):\n",
    "            other.input_producers[self] = material\n",
    "            self.output_consumers[other] = material\n",
    "        elif self.has_input(material) and other.has_output(material):\n",
    "            self.input_producers[other] = material\n",
    "            other.output_consumers[self] = material\n",
    "        else:\n",
    "            raise ConfigurationError(f\"{self} and {other} do not have a matching input and output.\")\n",
    "            \n",
    "        return self\n",
    "    \n",
    "    @staticmethod\n",
    "    def autobind(machines: list[\"Self\"]):\n",
    "        for i, machine in enumerate(machines):\n",
    "            for other_machine in machines[i:]:\n",
    "                for ingredient in machine.ingredients():\n",
    "                    if other_machine.has_output(ingredient):\n",
    "                        machine.bind(other_machine, ingredient)\n",
    "                for product in machine.products():\n",
    "                    if other_machine.has_input(product):\n",
    "                        machine.bind(other_machine, product)\n",
    "        \n",
    "\n",
    "def dataclass_to_list(cd: \"dataclass\"):\n",
    "    return [getattr(cd, f.name) for f in sorted(fields(cd), key=lambda f: f.name)]\n",
    "    "
   ]
  },
  {
   "cell_type": "code",
   "execution_count": 441,
   "id": "1185d670-8b54-4e17-9d2e-679fc55726c7",
   "metadata": {
    "tags": []
   },
   "outputs": [],
   "source": [
    "class Process:\n",
    "    \"\"\"\n",
    "    TODO: power\n",
    "    \"\"\"\n",
    "    scale: int\n",
    "    power: float = 0\n",
    "    process_root: Machine\n",
    "    input_materials: MaterialSpec\n",
    "    output_materials: MaterialSpec\n",
    "    \n",
    "    def __init__(self, process_root: Machine, registry, scale: float=1):\n",
    "        self.process_root = process_root\n",
    "        self.scale = scale\n",
    "        self.input_materials = process_root.recipe.ingredients * scale\n",
    "        self.output_materials = process_root.recipe.products * scale\n",
    "        \n",
    "        # TODO: this is terrible\n",
    "        self.process_registry = registry\n",
    "        registry[process_root] = self\n",
    "        \n",
    "        \n",
    "    @classmethod\n",
    "    def from_outputs(cls, target_output: MaterialSpec, machines: list[Machine], include_power=False):\n",
    "        \"\"\"\n",
    "        Builds a process tree from a list of machines\n",
    "        \n",
    "        TODO: co-optimize generation, use less than constraint, multiple gen/load by -1 to ensure excess consumption\n",
    "        TODO: allow surplos\n",
    "        \"\"\"\n",
    "        output = Aggregator(Recipe(\"output\", target_output, target_output))\n",
    "        nodes = deque([output])\n",
    "        visited = set()\n",
    "        registry = {}\n",
    "\n",
    "        # collect possible nodes in tree\n",
    "        while len(nodes):\n",
    "            current_node = nodes.popleft()\n",
    "            visited.add(current_node)\n",
    "            \n",
    "            for machine in machines:\n",
    "                for ingredient in current_node.ingredients():\n",
    "                    if machine.has_output(ingredient):\n",
    "                        if machine not in visited:\n",
    "                            nodes.append(machine)\n",
    "        \n",
    "        visited = list(visited)\n",
    "        costs = [1 for _ in visited] # TODO: pre-process cost per recipe\n",
    "        output_equals = dataclass_to_list(target_output)\n",
    "        \n",
    "        material_constraints = np.array([dataclass_to_list(m.recipe.products - m.recipe.ingredients) for m in visited]).T\n",
    "        \n",
    "        if include_power:\n",
    "            A_ub = [m.power_consumption - m.power_production for m in visited]\n",
    "            b_ub = [0]\n",
    "            solution = linprog(c=costs, A_eq=material_constraints, b_eq=output_equals, A_ub=A_ub, b_ub=b_ub)\n",
    "        else:\n",
    "            solution = linprog(c=costs, A_eq=material_constraints, b_eq=output_equals)\n",
    "        \n",
    "        for m, s in zip(visited, solution.x.round(4)):\n",
    "            cls(m, registry, s)\n",
    "                \n",
    "        cls(output, registry, 1)\n",
    "            \n",
    "        return registry[output]\n",
    "    \n",
    "    \n",
    "    @classmethod\n",
    "    def from_inputs(cls, available_materials, target_output, machines, generators=None):\n",
    "        \"\"\"\n",
    "        NOTE: if extractors are passed in here, this optimization is unbounded, since extractors are currently modelled as requiring no resources\n",
    "              to output their expected output. This may be why extractors in the config have a balanced in and output rate. In the case of this\n",
    "              problem, however, the optimizer will ignore extractors since consuming materials directly is equivalent.\n",
    "              FIXME: this can be addressed by adding an additional constraint on producers/extractors. May be trick for intermediate products\n",
    "        \"\"\"\n",
    "        inputs = Aggregator(Recipe(\"input\", available_materials, available_materials))\n",
    "        nodes = deque([inputs])\n",
    "        visited = set()\n",
    "        registry = {}\n",
    "\n",
    "        # collect possible nodes in tree\n",
    "        while len(nodes):\n",
    "            current_node = nodes.popleft()\n",
    "            visited.add(current_node)\n",
    "            for machine in machines:\n",
    "                for product in current_node.products():\n",
    "                    # TODO: this works, for unknown reasons. Without this, solution includes extraneous recipes, seemingly\n",
    "                    # to balance consumption\n",
    "                    if machine.has_input(product):\n",
    "                        if machine not in visited:\n",
    "                            nodes.append(machine)\n",
    "        \n",
    "        visited = list(visited)\n",
    "        \n",
    "        # FIXME: this setup of getattrs/weird loop order is heinous, even by the standards of this project\n",
    "        costs = np.array([*[sum((getattr(target_output, mat) > 0) * getattr(m.recipe.ingredients - m.recipe.products, mat) for mat in [*m.products(), *m.ingredients()]) for m in visited], *[.001 for _ in visited]])\n",
    "        \n",
    "        connect_eq_constraints = [[(j == i % len(visited)) * (1 - 2*(i // len(visited))) for i, _ in enumerate([*visited, *visited])] for j, _ in enumerate(visited)]\n",
    "        connect_eq_bounds = [0 for _ in range(len(visited))]\n",
    "        \n",
    "        production_matrix = np.array([dataclass_to_list(m.recipe.ingredients - m.recipe.products) for m in visited]).T\n",
    "        production_matrix = np.concatenate((production_matrix, np.zeros_like(production_matrix)), axis=1)\n",
    "        \n",
    "        production_amounts = dataclass_to_list(target_output)\n",
    "        production_indices, *_ = np.nonzero(production_amounts)\n",
    "        \n",
    "        for mat_1_idx, mat_2_idx in zip(production_indices[:-1], production_indices[1:]):\n",
    "            ratio = production_amounts[mat_1_idx] / production_amounts[mat_2_idx]\n",
    "            connect_eq_constraints.append(-1*production_matrix[mat_1_idx, :] + ratio * production_matrix[mat_2_idx, :])\n",
    "            connect_eq_bounds.append(0)\n",
    "            \n",
    "        connect_eq_constraints = np.array(connect_eq_constraints)\n",
    "        connect_eq_bounds = np.array(connect_eq_bounds)\n",
    "        \n",
    "        \n",
    "        # make products hove positive value, require consumption to be <= available\n",
    "        output_bounds = np.array([*[material - .001 * (i in production_indices) for i, material in enumerate(dataclass_to_list(available_materials))]])                        \n",
    "\n",
    "        solution = linprog(c=costs, A_ub=production_matrix, b_ub=output_bounds, A_eq=connect_eq_constraints, b_eq=connect_eq_bounds)\n",
    "                \n",
    "        for m, s in zip(visited, solution.x.round(4)):\n",
    "            cls(m, registry, s)\n",
    "                \n",
    "        cls(inputs, registry, 1)\n",
    "        \n",
    "        return registry[inputs]"
   ]
  },
  {
   "cell_type": "code",
   "execution_count": 442,
   "id": "48f5f301-9c2d-4a3c-9f4d-9bfcf29aca18",
   "metadata": {
    "tags": []
   },
   "outputs": [],
   "source": [
    "class VariableOutputMachine(Machine, skip_color=True):\n",
    "        \n",
    "    def __init__(self, recipe: Recipe):\n",
    "        self.outputs = min(sum(material > 0 for _, material in recipe.products), self.outputs)\n",
    "        \n",
    "        super().__init__(recipe)\n",
    "        \n",
    "class VariableInputMachine(Machine, skip_color=True):\n",
    "        \n",
    "    def __init__(self, recipe: Recipe):\n",
    "        self.inputs = min(sum(material > 0 for _, material in recipe.ingredients), self.inputs)\n",
    "        \n",
    "        super().__init__(recipe)\n",
    "                                                                                  \n",
    "    \n",
    "class Constructor(Machine):\n",
    "    power_consumption = 4\n",
    "    inputs = 1\n",
    "    outputs = 1\n",
    "    \n",
    "    \n",
    "class Assembler(Machine):\n",
    "    power_consumption = 15\n",
    "    inputs = 2\n",
    "    outputs = 1\n",
    "    \n",
    "    \n",
    "class Manufacturer(VariableInputMachine):\n",
    "    power_consumption = 55\n",
    "    inputs = 4\n",
    "    outputs = 1\n",
    "    \n",
    "    \n",
    "class Smelter(Machine):\n",
    "    power_consumption = 4\n",
    "    inputs = 1\n",
    "    outputs = 1\n",
    "    \n",
    "    \n",
    "class Foundry(Machine):\n",
    "    power_consumption = 16 \n",
    "    inputs = 2\n",
    "    outputs = 1\n",
    "    \n",
    "    \n",
    "class Packager(VariableOutputMachine, VariableInputMachine):\n",
    "    power_consumption = 10\n",
    "    inputs = 2\n",
    "    outputs = 2\n",
    "    \n",
    "    \n",
    "class Refinery(VariableOutputMachine, VariableInputMachine):\n",
    "    power_consumption = 30\n",
    "    inputs = 2\n",
    "    outputs = 2\n",
    "\n",
    "    \n",
    "class Extractor(Machine):\n",
    "    # TODO: different extractor types have different consumption\n",
    "    power_consumption = 10\n",
    "    inputs = 0\n",
    "    outputs = 1\n",
    "    \n",
    "    \n",
    "class Blender(VariableOutputMachine, VariableInputMachine):\n",
    "    # TODO: power consumption varies by recipe\n",
    "    power_consumption = 1500\n",
    "    inputs = 4\n",
    "    outputs = 2\n",
    "    \n",
    "    \n",
    "class Aggregator(Machine):\n",
    "    \"\"\"\n",
    "    Special class to join disjoint trees so that every process can be expressed as a tree, \n",
    "    regardless of desired outputs. Can be used, for example, to represent a factory floor as a 'Machine'\n",
    "    \"\"\"\n",
    "    power_consumption = 0\n",
    "    def __init__(self, recipe: Recipe):\n",
    "        self.inputs = sum(material > 0 for _, material in recipe.ingredients)\n",
    "        self.outputs = sum(material > 0 for _, material in recipe.products)\n",
    "        super().__init__(recipe)\n",
    "        \n",
    "    \n",
    "class ParticleAccelerator(VariableInputMachine):\n",
    "    power_consumption = 300\n",
    "    inputs = 3\n",
    "    outputs = 1\n",
    "    \n",
    "# TODO: get resource cost for proposed factory (buildings)"
   ]
  },
  {
   "cell_type": "code",
   "execution_count": 443,
   "id": "6cc2276c-b062-47da-941b-ad5457cbd63f",
   "metadata": {
    "tags": []
   },
   "outputs": [],
   "source": [
    "import re\n",
    "from dataclasses import dataclass, field\n",
    "\n",
    "machine_mapping = {\"/Game/FactoryGame/Buildable/Factory/AssemblerMk1/Build_AssemblerMk1.Build_AssemblerMk1_C\": Assembler, \n",
    " \"/Game/FactoryGame/Buildable/Factory/ManufacturerMk1/Build_ManufacturerMk1.Build_ManufacturerMk1_C\": Manufacturer, \n",
    " \"/Game/FactoryGame/Buildable/Factory/SmelterMk1/Build_SmelterMk1.Build_SmelterMk1_C\": Smelter,\n",
    " \"/Game/FactoryGame/Buildable/Factory/ConstructorMk1/Build_ConstructorMk1.Build_ConstructorMk1_C\": Constructor, \n",
    " \"/Game/FactoryGame/Buildable/Factory/FoundryMk1/Build_FoundryMk1.Build_FoundryMk1_C\": Foundry,\n",
    " \"/Game/FactoryGame/Buildable/Factory/HadronCollider/Build_HadronCollider.Build_HadronCollider_C\": ParticleAccelerator,\n",
    " \"/Game/FactoryGame/Buildable/Factory/Blender/Build_Blender.Build_Blender_C\": Blender,\n",
    " \"/Game/FactoryGame/Buildable/Factory/Packager/Build_Packager.Build_Packager_C\": Packager,\n",
    " \"/Game/FactoryGame/Buildable/Factory/OilRefinery/Build_OilRefinery.Build_OilRefinery_C\": Refinery}\n",
    "\n",
    "@dataclass\n",
    "class Machines:\n",
    "    alternates: list[Machine] = field(default_factory=list)\n",
    "    core: list[Machine] = field(default_factory=list)\n",
    "    fluid_extractors: list[Machine] = field(default_factory=list)\n",
    "    extractors_mk1: list[Machine] = field(default_factory=list)\n",
    "    extractors_mk2: list[Machine] = field(default_factory=list)\n",
    "    extractors_mk3: list[Machine] = field(default_factory=list)\n",
    "    \n",
    "    \n",
    "# TODO: keep dict of recipes, store collections of core/alternate as strings so that available recipes can be specified as a collection of strings\n",
    "# TOODO: use recipes config key, rather than all of this nonsense--retain class name to material name\n",
    "# FIXME: smelters are 1:1\n",
    "# FIXME: add generators\n",
    "def make_recipes(simple_config: dict, machine_mapping: dict[str, Machine]) -> list:\n",
    "    resource_capture_group = r\".*?\\.(\\w+).*?\"\n",
    "    ingredients_pattern = rf\"\\(ItemClass={resource_capture_group},Amount=(\\d+)\\)\"\n",
    "    machines_pattern = fr\"({'|'.join(re.escape(m) for m in machine_mapping.keys())})\"\n",
    "    known_crafters = (\"Smelter\", \"Manufacturer\", \"Assembler\", \"Packager\", \"Refinery\", \"Collider\", \"Foundry\", \"Blender\", \"Constructor\")\n",
    "    \n",
    "    machines = Machines()\n",
    "    material_config = {}\n",
    "    for key in RESOURCE_KEYS:\n",
    "        material_config.update(simple_config[key])\n",
    "\n",
    "    for config in simple_config[\"Class'/Script/FactoryGame.FGRecipe'\"].values():\n",
    "        machine = re.search(machines_pattern, config[\"mProducedIn\"])\n",
    "        \n",
    "        if machine is None:\n",
    "            continue\n",
    "\n",
    "        machine = machine_mapping[machine[0]]\n",
    "            \n",
    "        # TODO: convert resources to friendly names\n",
    "        try:\n",
    "            ingredients = {standardize(material_config[name][\"mDisplayName\"]): float(amt) / 1000 if material_config[name][\"mForm\"] in [\"RF_LIQUID\", \"RF_GAS\"] else float(amt) for name, amt in re.findall(ingredients_pattern, config[\"mIngredients\"])}\n",
    "            products = {standardize(material_config[name][\"mDisplayName\"]): float(amt) / 1000 if material_config[name][\"mForm\"] in [\"RF_LIQUID\", \"RF_GAS\"] else float(amt) for name, amt in re.findall(ingredients_pattern, config[\"mProduct\"])}\n",
    "            if \"alternate\" in config[\"FullName\"].lower():\n",
    "                machines.alternates.append(machine(Recipe(standardize(config[\"mDisplayName\"]), MaterialSpec(**ingredients), MaterialSpec(**products)) * (60 / float(config[\"mManufactoringDuration\"]))))\n",
    "            else:\n",
    "                machines.core.append(machine(Recipe(standardize(config[\"mDisplayName\"]), MaterialSpec(**ingredients), MaterialSpec(**products)) * (60 / float(config[\"mManufactoringDuration\"]))))\n",
    "                                \n",
    "        except Exception as e:\n",
    "            print(f\"missing: {e}\")\n",
    "            print()\n",
    "            \n",
    "    def get_production_rate(config):\n",
    "        return (60 / float(config[\"mExtractCycleTime\"])) * float(config[\"mItemsPerCycle\"])\n",
    "            \n",
    "    # FIXME: I think this qualifies as a mess\n",
    "    for key in EXTRACTOR_KEYS:\n",
    "        for extractor in simple_config[key].values():\n",
    "            if \"RF_SOLID\" in extractor[\"mAllowedResourceForms\"]:\n",
    "                for material in map(lambda x:standardize(material_config[x][\"mDisplayName\"]), simple_config[\"Class'/Script/FactoryGame.FGResourceDescriptor'\"].keys()):\n",
    "                    if \"mk1\" in  extractor[\"ClassName\"].lower():\n",
    "                        machines.extractors_mk1.append(Extractor(Recipe(material, MaterialSpec(), MaterialSpec(**{material: get_production_rate(extractor)}))))\n",
    "                    elif \"mk2\" in  extractor[\"ClassName\"].lower():\n",
    "                        machines.extractors_mk2.append(Extractor(Recipe(material, MaterialSpec(), MaterialSpec(**{material: get_production_rate(extractor)}))))\n",
    "                    elif \"mk3\" in  extractor[\"ClassName\"].lower():\n",
    "                        machines.extractors_mk3.append(Extractor(Recipe(material, MaterialSpec(), MaterialSpec(**{material: get_production_rate(extractor)}))))\n",
    "            elif \"RF_LIQUID\" in extractor[\"mAllowedResourceForms\"] or \"RF_GAS\" in extractor[\"mAllowedResourceForms\"]:\n",
    "                for material in map(lambda x: standardize(material_config[re.search(resource_capture_group, x)[1]][\"mDisplayName\"]), extractor[\"mAllowedResources\"].strip(\"()\").split(\",\")):\n",
    "                    machines.fluid_extractors.append(Extractor(Recipe(material, MaterialSpec(), MaterialSpec(**{material: get_production_rate(extractor) / 1000}))))\n",
    "        \n",
    "        \n",
    "    return machines"
   ]
  },
  {
   "cell_type": "code",
   "execution_count": 444,
   "id": "dc2a6928-99f7-4018-968d-c369e3e1d824",
   "metadata": {
    "tags": []
   },
   "outputs": [],
   "source": [
    "import igraph\n",
    "from igraph import Graph, EdgeSeq\n",
    "import itertools\n",
    "import plotly.graph_objects as go\n",
    "import os\n",
    "from textwrap import dedent\n",
    "import numpy as np\n",
    "\n",
    "import math\n",
    "\n",
    "def make_hover_label(process: Process):\n",
    "    return dedent(f\"\"\"\n",
    "    {process.process_root.__class__.__name__}<br>\n",
    "    Recipe: {process.process_root.recipe.name}<br>\n",
    "    Scale: {process.scale}\n",
    "    \"\"\")\n",
    "\n",
    "\n",
    "# TODO: show machine types in legend\n",
    "def plot_process(process: Process, layout=Graph.layout_auto):\n",
    "    ordered_vertices = [m for m in process.process_registry.values() if m.scale > 0]\n",
    "    n_vertices = len(ordered_vertices)\n",
    "    \n",
    "    edges = [(ordered_vertices.index(process.process_registry[other]), ordered_vertices.index(self)) for self in ordered_vertices for other in self.process_root.input_producers if process.process_registry[other] in ordered_vertices]\n",
    "    breakpoint()\n",
    "\n",
    "    G = Graph(n_vertices, edges)\n",
    "    layout = G.layout(layout)\n",
    "    Xn, Yn = list(zip(*layout))\n",
    "    edge_coords = itertools.chain.from_iterable([[(Xn[n], Yn[n]) for n in e] + [(None, None)] for e in edges])\n",
    "    Xe, Ye = list(zip(*edge_coords))\n",
    "    \n",
    "    max_scale = max(n.scale for n in ordered_vertices)\n",
    "    point_scale = 20\n",
    "    point_sizes = [(math.tanh(n.scale  / max_scale) + 1) * point_scale for n in ordered_vertices]\n",
    "\n",
    "    fig = go.Figure()\n",
    "    fig.add_trace(go.Scatter(\n",
    "                       x=Xe,\n",
    "                       y=Ye,\n",
    "                       mode='lines+markers',\n",
    "                       hoverinfo='none',\n",
    "                       line_shape='spline',\n",
    "                       marker=dict(\n",
    "                            symbol=\"arrow-wide\",\n",
    "                            size=10,\n",
    "                            color=\"black\",\n",
    "                            angleref=\"previous\",\n",
    "                            standoff=point_scale//2\n",
    "                        ),\n",
    "                        showlegend=False\n",
    "                    ),\n",
    "                    \n",
    "                 )\n",
    "\n",
    "    fig.add_trace(go.Scatter(x=Xn,\n",
    "                      y=Yn,\n",
    "                      mode='markers',\n",
    "                      marker=dict(symbol='circle-dot',\n",
    "                                  size=point_sizes,\n",
    "                                  color=[m.process_root.color for m in ordered_vertices],\n",
    "                                ),\n",
    "                      text=[make_hover_label(v) for v in ordered_vertices],\n",
    "                      hovertemplate=\"%{text}<extra></extra>\",\n",
    "                      showlegend=False,\n",
    "                      )\n",
    "                 )\n",
    "\n",
    "    # TODO: better sizing\n",
    "    fig.update_layout(\n",
    "        autosize=True,\n",
    "        xaxis= {\n",
    "            'showgrid': False, # thin lines in the background\n",
    "            'zeroline': False, # thick line at x=0\n",
    "            'visible': False,  # numbers below\n",
    "        },\n",
    "        yaxis= {\n",
    "            'showgrid': False, # thin lines in the background\n",
    "            'zeroline': False, # thick line at x=0\n",
    "            'visible': False,  # numbers below\n",
    "        },\n",
    "        height=1000\n",
    "    )\n",
    "\n",
    "    fig.show()\n",
    "    \n",
    "    \n",
    "def plot_sankey(process: Process):\n",
    "    ordered_vertices = [m for m in process.process_registry.values() if m.scale > 0]\n",
    "    n_vertices = len(ordered_vertices)\n",
    "    \n",
    "    edges = [(ordered_vertices.index(process.process_registry[other]), ordered_vertices.index(self)) for self in ordered_vertices for other in self.process_root.input_producers if process.process_registry[other] in ordered_vertices]\n",
    "    source, target = zip(*edges)\n",
    "    # TODO: get the bound resource and multiply by the source scale\n",
    "    \n",
    "    def get_materials_for_link(start: int, end: int, vertices: list[Process]):\n",
    "        start_process = vertices[start]\n",
    "        end_process = vertices[end]\n",
    "        bound_material = start_process.process_root.output_consumers[end_process.process_root]\n",
    "        return bound_material, (getattr(end_process.process_root.recipe.ingredients, bound_material) * end_process.scale)\n",
    "    \n",
    "    labels, weights = zip(*[get_materials_for_link(start, end, ordered_vertices) for (start, end) in edges])\n",
    "    \n",
    "    fig = go.Figure()\n",
    "    fig.add_trace(\n",
    "        go.Sankey(\n",
    "            node=dict(\n",
    "                label = [f\"{v.process_root.__class__.__name__}: {v.process_root.recipe.name}\" for v in ordered_vertices]\n",
    "            ),\n",
    "            link=dict(\n",
    "                source=source,\n",
    "                target=target,\n",
    "                value=weights,\n",
    "                label=labels\n",
    "            )\n",
    "        )\n",
    "    )\n",
    "    fig.show()\n",
    "\n",
    "# TODO: use plotly tables and link rows to scatter/sankey nodes\n",
    "def make_row(values: list[str]):\n",
    "    return \"<tr>\" + \"\".join([f\"<td>{v}</td>\" for v in values]) + \"</tr>\"\n",
    "\n",
    "def make_table(headers: list[str], values: list[list[str]]):\n",
    "    header = make_row(headers)\n",
    "    rows = \"\\n\".join([make_row(row) for row in values])\n",
    "    \n",
    "    return dedent(f\"\"\"\n",
    "    <table>\n",
    "    <thead>\n",
    "    {header}\n",
    "    </thead>\n",
    "    <tbody>\n",
    "    {rows}\n",
    "    </tbody>\n",
    "    </table>\"\"\")\n",
    "\n",
    "def recipe_summary(process: Process):\n",
    "    headers = [\"Machine Type\", \"Count\", \"Recipe\", \"Ingredients\", \"Products\"]\n",
    "    rows = []\n",
    "    for process in process.process_registry.values():\n",
    "        if process.scale > 0:\n",
    "            rows.append([process.process_root.__class__.__name__,\n",
    "                         process.scale,\n",
    "                         process.process_root.recipe.name,\n",
    "                         \"<br>\".join([f\"{name}: {value * process.scale:.2f}\" for name, value in process.process_root.recipe.ingredients if value > 0]),\n",
    "                         \"<br>\".join([f\"{name}: {value * process.scale:.2f}\" for name, value in process.process_root.recipe.products if value > 0]),\n",
    "                        ])\n",
    "                     \n",
    "    return make_table(headers, rows)\n",
    "    \n",
    "\n",
    "def total_power(process: Process):\n",
    "    total =  sum(p.scale * p.process_root.power_consumption for p in filter(lambda p: p.scale > 0, process.process_registry.values()))\n",
    "    print(f\"Total Power: {total}\")\n"
   ]
  },
  {
   "cell_type": "code",
   "execution_count": 445,
   "id": "664fdbdf-85ca-41f3-b53d-5f981e8fbe09",
   "metadata": {
    "tags": []
   },
   "outputs": [],
   "source": [
    "from IPython.core.display import display, HTML\n",
    "\n",
    "def factory_plan(target):\n",
    "    available_machines = make_recipes(BASE_CONFIG, machine_mapping)\n",
    "    # stator?\n",
    "    #target_product = MaterialSpec(steel_beam=5, encased_industrial_beam=5, modular_frame=2, heavy_modular_frame=2)\n",
    "    available_machines = [*available_machines.core,\n",
    "                                     *available_machines.extractors_mk1,\n",
    "                                     *available_machines.fluid_extractors]\n",
    "    Machine.autobind(available_machines)\n",
    "    \n",
    "\n",
    "    solution = Process.from_outputs(target, \n",
    "                                    available_machines\n",
    "                                    )\n",
    "    \n",
    "    plot_process(solution, Graph.layout_reingold_tilford)\n",
    "    plot_sankey(solution)\n",
    "    display(HTML(recipe_summary(solution)))\n",
    "    total_power(solution)\n",
    "    return solution"
   ]
  },
  {
   "cell_type": "code",
   "execution_count": 446,
   "id": "06ecc772-14d6-4fec-9150-dd85fc546ba8",
   "metadata": {
    "tags": []
   },
   "outputs": [
    {
     "name": "stdout",
     "output_type": "stream",
     "text": [
      "missing: 'BP_ItemDescriptorPortableMiner_C'\n",
      "\n"
     ]
    },
    {
     "data": {
      "application/vnd.plotly.v1+json": {
       "config": {
        "plotlyServerURL": "https://plot.ly"
       },
       "data": [
        {
         "hoverinfo": "none",
         "line": {
          "shape": "spline"
         },
         "marker": {
          "angleref": "previous",
          "color": "black",
          "size": 10,
          "standoff": 10,
          "symbol": "arrow-wide"
         },
         "mode": "lines+markers",
         "showlegend": false,
         "type": "scatter",
         "x": [
          -0.625,
          -0.5,
          null,
          -2.625,
          -2.625,
          null,
          -4.125,
          -4.125,
          null,
          0.375,
          -3.125,
          null,
          -0.625,
          -3.125,
          null,
          -0.5,
          -3.125,
          null,
          -3.125,
          -3.125,
          null,
          -2.125,
          -3.125,
          null,
          -4.125,
          -3.125,
          null,
          -4.125,
          -4.125,
          null,
          -0.625,
          -4.125,
          null,
          -0.625,
          -0.625,
          null,
          -4.125,
          -1.625,
          null,
          -2.625,
          -2.125,
          null,
          -1.625,
          -2.125,
          null,
          -0.625,
          -0.625,
          null,
          -0.5,
          0.375,
          null,
          0.375,
          0.375,
          null,
          -0.5,
          1.375,
          null,
          -0.625,
          1.375,
          null,
          -0.625,
          0.375,
          null
         ],
         "y": [
          2,
          1,
          null,
          5,
          4,
          null,
          4,
          3,
          null,
          2,
          3,
          null,
          2,
          3,
          null,
          1,
          2,
          null,
          3,
          2,
          null,
          3,
          2,
          null,
          3,
          2,
          null,
          5,
          4,
          null,
          4,
          4,
          null,
          4,
          3,
          null,
          4,
          4,
          null,
          4,
          3,
          null,
          4,
          3,
          null,
          3,
          2,
          null,
          1,
          2,
          null,
          3,
          2,
          null,
          1,
          2,
          null,
          2,
          2,
          null,
          3,
          3,
          null
         ]
        },
        {
         "hovertemplate": "%{text}<extra></extra>",
         "marker": {
          "color": [
           "#750D86",
           "#2E91E5",
           "#2E91E5",
           "#2E91E5",
           "#E15F99",
           "#1CA71C",
           "#DA16FF",
           "#750D86",
           "#FB0D0D",
           "#750D86",
           "#2E91E5",
           "#E15F99",
           "#511CFB",
           "#2E91E5",
           "#E15F99",
           "#E15F99",
           "#2E91E5"
          ],
          "size": [
           25.286310952843532,
           34.14134935011215,
           25.06706457590722,
           22.149934267122845,
           28.13406435568603,
           21.436371691735832,
           26.92171383204389,
           32.62827830489215,
           34.75972918870305,
           23.836758167595214,
           24.26904481188341,
           22.575547401999305,
           20.57538075006824,
           35.231883119115295,
           25.601616662731054,
           20.71911432625049,
           28.3728212128055
          ],
          "symbol": "circle-dot"
         },
         "mode": "markers",
         "showlegend": false,
         "text": [
          "\nExtractor<br>\nRecipe: coal<br>\nScale: 9.4083\n",
          "\nConstructor<br>\nRecipe: screw<br>\nScale: 30.625\n",
          "\nConstructor<br>\nRecipe: concrete<br>\nScale: 9.0\n",
          "\nConstructor<br>\nRecipe: steel_pipe<br>\nScale: 3.75\n",
          "\nAssembler<br>\nRecipe: modular_frame<br>\nScale: 15.0\n",
          "\nManufacturer<br>\nRecipe: heavy_modular_frame<br>\nScale: 2.5\n",
          "\nFoundry<br>\nRecipe: steel_ingot<br>\nScale: 12.5444\n",
          "\nExtractor<br>\nRecipe: iron_ore<br>\nScale: 25.8458\n",
          "\nSmelter<br>\nRecipe: iron_ingot<br>\nScale: 32.875\n",
          "\nExtractor<br>\nRecipe: limestone<br>\nScale: 6.75\n",
          "\nConstructor<br>\nRecipe: steel_beam<br>\nScale: 7.5333\n",
          "\nAssembler<br>\nRecipe: encased_industrial_beam<br>\nScale: 4.5\n",
          "\nAggregator<br>\nRecipe: output<br>\nScale: 1\n",
          "\nConstructor<br>\nRecipe: iron_rod<br>\nScale: 34.75\n",
          "\nAssembler<br>\nRecipe: reinforced_iron_plate<br>\nScale: 10.0\n",
          "\nAssembler<br>\nRecipe: rotor<br>\nScale: 1.25\n",
          "\nConstructor<br>\nRecipe: iron_plate<br>\nScale: 15.5\n"
         ],
         "type": "scatter",
         "x": [
          -4.125,
          -0.5,
          -2.625,
          -4.125,
          -3.125,
          -3.125,
          -4.125,
          -0.625,
          -0.625,
          -2.625,
          -1.625,
          -2.125,
          0.5,
          -0.625,
          0.375,
          1.375,
          0.375
         ],
         "y": [
          5,
          1,
          4,
          3,
          3,
          2,
          4,
          4,
          3,
          5,
          4,
          3,
          1,
          2,
          2,
          2,
          3
         ]
        }
       ],
       "layout": {
        "autosize": true,
        "template": {
         "data": {
          "bar": [
           {
            "error_x": {
             "color": "#2a3f5f"
            },
            "error_y": {
             "color": "#2a3f5f"
            },
            "marker": {
             "line": {
              "color": "#E5ECF6",
              "width": 0.5
             },
             "pattern": {
              "fillmode": "overlay",
              "size": 10,
              "solidity": 0.2
             }
            },
            "type": "bar"
           }
          ],
          "barpolar": [
           {
            "marker": {
             "line": {
              "color": "#E5ECF6",
              "width": 0.5
             },
             "pattern": {
              "fillmode": "overlay",
              "size": 10,
              "solidity": 0.2
             }
            },
            "type": "barpolar"
           }
          ],
          "carpet": [
           {
            "aaxis": {
             "endlinecolor": "#2a3f5f",
             "gridcolor": "white",
             "linecolor": "white",
             "minorgridcolor": "white",
             "startlinecolor": "#2a3f5f"
            },
            "baxis": {
             "endlinecolor": "#2a3f5f",
             "gridcolor": "white",
             "linecolor": "white",
             "minorgridcolor": "white",
             "startlinecolor": "#2a3f5f"
            },
            "type": "carpet"
           }
          ],
          "choropleth": [
           {
            "colorbar": {
             "outlinewidth": 0,
             "ticks": ""
            },
            "type": "choropleth"
           }
          ],
          "contour": [
           {
            "colorbar": {
             "outlinewidth": 0,
             "ticks": ""
            },
            "colorscale": [
             [
              0,
              "#0d0887"
             ],
             [
              0.1111111111111111,
              "#46039f"
             ],
             [
              0.2222222222222222,
              "#7201a8"
             ],
             [
              0.3333333333333333,
              "#9c179e"
             ],
             [
              0.4444444444444444,
              "#bd3786"
             ],
             [
              0.5555555555555556,
              "#d8576b"
             ],
             [
              0.6666666666666666,
              "#ed7953"
             ],
             [
              0.7777777777777778,
              "#fb9f3a"
             ],
             [
              0.8888888888888888,
              "#fdca26"
             ],
             [
              1,
              "#f0f921"
             ]
            ],
            "type": "contour"
           }
          ],
          "contourcarpet": [
           {
            "colorbar": {
             "outlinewidth": 0,
             "ticks": ""
            },
            "type": "contourcarpet"
           }
          ],
          "heatmap": [
           {
            "colorbar": {
             "outlinewidth": 0,
             "ticks": ""
            },
            "colorscale": [
             [
              0,
              "#0d0887"
             ],
             [
              0.1111111111111111,
              "#46039f"
             ],
             [
              0.2222222222222222,
              "#7201a8"
             ],
             [
              0.3333333333333333,
              "#9c179e"
             ],
             [
              0.4444444444444444,
              "#bd3786"
             ],
             [
              0.5555555555555556,
              "#d8576b"
             ],
             [
              0.6666666666666666,
              "#ed7953"
             ],
             [
              0.7777777777777778,
              "#fb9f3a"
             ],
             [
              0.8888888888888888,
              "#fdca26"
             ],
             [
              1,
              "#f0f921"
             ]
            ],
            "type": "heatmap"
           }
          ],
          "heatmapgl": [
           {
            "colorbar": {
             "outlinewidth": 0,
             "ticks": ""
            },
            "colorscale": [
             [
              0,
              "#0d0887"
             ],
             [
              0.1111111111111111,
              "#46039f"
             ],
             [
              0.2222222222222222,
              "#7201a8"
             ],
             [
              0.3333333333333333,
              "#9c179e"
             ],
             [
              0.4444444444444444,
              "#bd3786"
             ],
             [
              0.5555555555555556,
              "#d8576b"
             ],
             [
              0.6666666666666666,
              "#ed7953"
             ],
             [
              0.7777777777777778,
              "#fb9f3a"
             ],
             [
              0.8888888888888888,
              "#fdca26"
             ],
             [
              1,
              "#f0f921"
             ]
            ],
            "type": "heatmapgl"
           }
          ],
          "histogram": [
           {
            "marker": {
             "pattern": {
              "fillmode": "overlay",
              "size": 10,
              "solidity": 0.2
             }
            },
            "type": "histogram"
           }
          ],
          "histogram2d": [
           {
            "colorbar": {
             "outlinewidth": 0,
             "ticks": ""
            },
            "colorscale": [
             [
              0,
              "#0d0887"
             ],
             [
              0.1111111111111111,
              "#46039f"
             ],
             [
              0.2222222222222222,
              "#7201a8"
             ],
             [
              0.3333333333333333,
              "#9c179e"
             ],
             [
              0.4444444444444444,
              "#bd3786"
             ],
             [
              0.5555555555555556,
              "#d8576b"
             ],
             [
              0.6666666666666666,
              "#ed7953"
             ],
             [
              0.7777777777777778,
              "#fb9f3a"
             ],
             [
              0.8888888888888888,
              "#fdca26"
             ],
             [
              1,
              "#f0f921"
             ]
            ],
            "type": "histogram2d"
           }
          ],
          "histogram2dcontour": [
           {
            "colorbar": {
             "outlinewidth": 0,
             "ticks": ""
            },
            "colorscale": [
             [
              0,
              "#0d0887"
             ],
             [
              0.1111111111111111,
              "#46039f"
             ],
             [
              0.2222222222222222,
              "#7201a8"
             ],
             [
              0.3333333333333333,
              "#9c179e"
             ],
             [
              0.4444444444444444,
              "#bd3786"
             ],
             [
              0.5555555555555556,
              "#d8576b"
             ],
             [
              0.6666666666666666,
              "#ed7953"
             ],
             [
              0.7777777777777778,
              "#fb9f3a"
             ],
             [
              0.8888888888888888,
              "#fdca26"
             ],
             [
              1,
              "#f0f921"
             ]
            ],
            "type": "histogram2dcontour"
           }
          ],
          "mesh3d": [
           {
            "colorbar": {
             "outlinewidth": 0,
             "ticks": ""
            },
            "type": "mesh3d"
           }
          ],
          "parcoords": [
           {
            "line": {
             "colorbar": {
              "outlinewidth": 0,
              "ticks": ""
             }
            },
            "type": "parcoords"
           }
          ],
          "pie": [
           {
            "automargin": true,
            "type": "pie"
           }
          ],
          "scatter": [
           {
            "fillpattern": {
             "fillmode": "overlay",
             "size": 10,
             "solidity": 0.2
            },
            "type": "scatter"
           }
          ],
          "scatter3d": [
           {
            "line": {
             "colorbar": {
              "outlinewidth": 0,
              "ticks": ""
             }
            },
            "marker": {
             "colorbar": {
              "outlinewidth": 0,
              "ticks": ""
             }
            },
            "type": "scatter3d"
           }
          ],
          "scattercarpet": [
           {
            "marker": {
             "colorbar": {
              "outlinewidth": 0,
              "ticks": ""
             }
            },
            "type": "scattercarpet"
           }
          ],
          "scattergeo": [
           {
            "marker": {
             "colorbar": {
              "outlinewidth": 0,
              "ticks": ""
             }
            },
            "type": "scattergeo"
           }
          ],
          "scattergl": [
           {
            "marker": {
             "colorbar": {
              "outlinewidth": 0,
              "ticks": ""
             }
            },
            "type": "scattergl"
           }
          ],
          "scattermapbox": [
           {
            "marker": {
             "colorbar": {
              "outlinewidth": 0,
              "ticks": ""
             }
            },
            "type": "scattermapbox"
           }
          ],
          "scatterpolar": [
           {
            "marker": {
             "colorbar": {
              "outlinewidth": 0,
              "ticks": ""
             }
            },
            "type": "scatterpolar"
           }
          ],
          "scatterpolargl": [
           {
            "marker": {
             "colorbar": {
              "outlinewidth": 0,
              "ticks": ""
             }
            },
            "type": "scatterpolargl"
           }
          ],
          "scatterternary": [
           {
            "marker": {
             "colorbar": {
              "outlinewidth": 0,
              "ticks": ""
             }
            },
            "type": "scatterternary"
           }
          ],
          "surface": [
           {
            "colorbar": {
             "outlinewidth": 0,
             "ticks": ""
            },
            "colorscale": [
             [
              0,
              "#0d0887"
             ],
             [
              0.1111111111111111,
              "#46039f"
             ],
             [
              0.2222222222222222,
              "#7201a8"
             ],
             [
              0.3333333333333333,
              "#9c179e"
             ],
             [
              0.4444444444444444,
              "#bd3786"
             ],
             [
              0.5555555555555556,
              "#d8576b"
             ],
             [
              0.6666666666666666,
              "#ed7953"
             ],
             [
              0.7777777777777778,
              "#fb9f3a"
             ],
             [
              0.8888888888888888,
              "#fdca26"
             ],
             [
              1,
              "#f0f921"
             ]
            ],
            "type": "surface"
           }
          ],
          "table": [
           {
            "cells": {
             "fill": {
              "color": "#EBF0F8"
             },
             "line": {
              "color": "white"
             }
            },
            "header": {
             "fill": {
              "color": "#C8D4E3"
             },
             "line": {
              "color": "white"
             }
            },
            "type": "table"
           }
          ]
         },
         "layout": {
          "annotationdefaults": {
           "arrowcolor": "#2a3f5f",
           "arrowhead": 0,
           "arrowwidth": 1
          },
          "autotypenumbers": "strict",
          "coloraxis": {
           "colorbar": {
            "outlinewidth": 0,
            "ticks": ""
           }
          },
          "colorscale": {
           "diverging": [
            [
             0,
             "#8e0152"
            ],
            [
             0.1,
             "#c51b7d"
            ],
            [
             0.2,
             "#de77ae"
            ],
            [
             0.3,
             "#f1b6da"
            ],
            [
             0.4,
             "#fde0ef"
            ],
            [
             0.5,
             "#f7f7f7"
            ],
            [
             0.6,
             "#e6f5d0"
            ],
            [
             0.7,
             "#b8e186"
            ],
            [
             0.8,
             "#7fbc41"
            ],
            [
             0.9,
             "#4d9221"
            ],
            [
             1,
             "#276419"
            ]
           ],
           "sequential": [
            [
             0,
             "#0d0887"
            ],
            [
             0.1111111111111111,
             "#46039f"
            ],
            [
             0.2222222222222222,
             "#7201a8"
            ],
            [
             0.3333333333333333,
             "#9c179e"
            ],
            [
             0.4444444444444444,
             "#bd3786"
            ],
            [
             0.5555555555555556,
             "#d8576b"
            ],
            [
             0.6666666666666666,
             "#ed7953"
            ],
            [
             0.7777777777777778,
             "#fb9f3a"
            ],
            [
             0.8888888888888888,
             "#fdca26"
            ],
            [
             1,
             "#f0f921"
            ]
           ],
           "sequentialminus": [
            [
             0,
             "#0d0887"
            ],
            [
             0.1111111111111111,
             "#46039f"
            ],
            [
             0.2222222222222222,
             "#7201a8"
            ],
            [
             0.3333333333333333,
             "#9c179e"
            ],
            [
             0.4444444444444444,
             "#bd3786"
            ],
            [
             0.5555555555555556,
             "#d8576b"
            ],
            [
             0.6666666666666666,
             "#ed7953"
            ],
            [
             0.7777777777777778,
             "#fb9f3a"
            ],
            [
             0.8888888888888888,
             "#fdca26"
            ],
            [
             1,
             "#f0f921"
            ]
           ]
          },
          "colorway": [
           "#636efa",
           "#EF553B",
           "#00cc96",
           "#ab63fa",
           "#FFA15A",
           "#19d3f3",
           "#FF6692",
           "#B6E880",
           "#FF97FF",
           "#FECB52"
          ],
          "font": {
           "color": "#2a3f5f"
          },
          "geo": {
           "bgcolor": "white",
           "lakecolor": "white",
           "landcolor": "#E5ECF6",
           "showlakes": true,
           "showland": true,
           "subunitcolor": "white"
          },
          "hoverlabel": {
           "align": "left"
          },
          "hovermode": "closest",
          "mapbox": {
           "style": "light"
          },
          "paper_bgcolor": "white",
          "plot_bgcolor": "#E5ECF6",
          "polar": {
           "angularaxis": {
            "gridcolor": "white",
            "linecolor": "white",
            "ticks": ""
           },
           "bgcolor": "#E5ECF6",
           "radialaxis": {
            "gridcolor": "white",
            "linecolor": "white",
            "ticks": ""
           }
          },
          "scene": {
           "xaxis": {
            "backgroundcolor": "#E5ECF6",
            "gridcolor": "white",
            "gridwidth": 2,
            "linecolor": "white",
            "showbackground": true,
            "ticks": "",
            "zerolinecolor": "white"
           },
           "yaxis": {
            "backgroundcolor": "#E5ECF6",
            "gridcolor": "white",
            "gridwidth": 2,
            "linecolor": "white",
            "showbackground": true,
            "ticks": "",
            "zerolinecolor": "white"
           },
           "zaxis": {
            "backgroundcolor": "#E5ECF6",
            "gridcolor": "white",
            "gridwidth": 2,
            "linecolor": "white",
            "showbackground": true,
            "ticks": "",
            "zerolinecolor": "white"
           }
          },
          "shapedefaults": {
           "line": {
            "color": "#2a3f5f"
           }
          },
          "ternary": {
           "aaxis": {
            "gridcolor": "white",
            "linecolor": "white",
            "ticks": ""
           },
           "baxis": {
            "gridcolor": "white",
            "linecolor": "white",
            "ticks": ""
           },
           "bgcolor": "#E5ECF6",
           "caxis": {
            "gridcolor": "white",
            "linecolor": "white",
            "ticks": ""
           }
          },
          "title": {
           "x": 0.05
          },
          "xaxis": {
           "automargin": true,
           "gridcolor": "white",
           "linecolor": "white",
           "ticks": "",
           "title": {
            "standoff": 15
           },
           "zerolinecolor": "white",
           "zerolinewidth": 2
          },
          "yaxis": {
           "automargin": true,
           "gridcolor": "white",
           "linecolor": "white",
           "ticks": "",
           "title": {
            "standoff": 15
           },
           "zerolinecolor": "white",
           "zerolinewidth": 2
          }
         }
        },
        "xaxis": {
         "autorange": true,
         "range": [
          -4.482601329488699,
          1.7216836334931271
         ],
         "showgrid": false,
         "type": "linear",
         "visible": false,
         "zeroline": false
        },
        "yaxis": {
         "autorange": true,
         "range": [
          0.6442168374616454,
          5.324196728367307
         ],
         "showgrid": false,
         "type": "linear",
         "visible": false,
         "zeroline": false
        }
       }
      },
      "image/png": "[encoded data removed]"
     },
     "metadata": {},
     "output_type": "display_data"
    },
    {
     "data": {
      "application/vnd.plotly.v1+json": {
       "config": {
        "plotlyServerURL": "https://plot.ly"
       },
       "data": [
        {
         "link": {
          "label": [
           "iron_rod",
           "limestone",
           "steel_ingot",
           "reinforced_iron_plate",
           "iron_rod",
           "screw",
           "modular_frame",
           "encased_industrial_beam",
           "steel_pipe",
           "coal",
           "iron_ore",
           "iron_ore",
           "steel_ingot",
           "concrete",
           "steel_beam",
           "iron_ingot",
           "screw",
           "iron_plate",
           "screw",
           "iron_rod",
           "iron_ingot"
          ],
          "source": [
           13,
           9,
           6,
           14,
           13,
           1,
           4,
           11,
           3,
           0,
           7,
           7,
           6,
           2,
           10,
           8,
           1,
           16,
           1,
           13,
           8
          ],
          "target": [
           1,
           2,
           3,
           4,
           4,
           5,
           5,
           5,
           5,
           6,
           6,
           8,
           10,
           11,
           11,
           13,
           14,
           14,
           15,
           15,
           16
          ],
          "value": [
           306.25,
           405,
           112.5,
           45,
           180,
           500,
           25,
           25,
           75,
           564.4979999999999,
           564.4979999999999,
           986.25,
           451.998,
           135,
           108,
           521.25,
           600,
           300,
           125,
           25,
           465
          ]
         },
         "node": {
          "label": [
           "Extractor: coal",
           "Constructor: screw",
           "Constructor: concrete",
           "Constructor: steel_pipe",
           "Assembler: modular_frame",
           "Manufacturer: heavy_modular_frame",
           "Foundry: steel_ingot",
           "Extractor: iron_ore",
           "Smelter: iron_ingot",
           "Extractor: limestone",
           "Constructor: steel_beam",
           "Assembler: encased_industrial_beam",
           "Aggregator: output",
           "Constructor: iron_rod",
           "Assembler: reinforced_iron_plate",
           "Assembler: rotor",
           "Constructor: iron_plate"
          ]
         },
         "type": "sankey"
        }
       ],
       "layout": {
        "autosize": true,
        "template": {
         "data": {
          "bar": [
           {
            "error_x": {
             "color": "#2a3f5f"
            },
            "error_y": {
             "color": "#2a3f5f"
            },
            "marker": {
             "line": {
              "color": "#E5ECF6",
              "width": 0.5
             },
             "pattern": {
              "fillmode": "overlay",
              "size": 10,
              "solidity": 0.2
             }
            },
            "type": "bar"
           }
          ],
          "barpolar": [
           {
            "marker": {
             "line": {
              "color": "#E5ECF6",
              "width": 0.5
             },
             "pattern": {
              "fillmode": "overlay",
              "size": 10,
              "solidity": 0.2
             }
            },
            "type": "barpolar"
           }
          ],
          "carpet": [
           {
            "aaxis": {
             "endlinecolor": "#2a3f5f",
             "gridcolor": "white",
             "linecolor": "white",
             "minorgridcolor": "white",
             "startlinecolor": "#2a3f5f"
            },
            "baxis": {
             "endlinecolor": "#2a3f5f",
             "gridcolor": "white",
             "linecolor": "white",
             "minorgridcolor": "white",
             "startlinecolor": "#2a3f5f"
            },
            "type": "carpet"
           }
          ],
          "choropleth": [
           {
            "colorbar": {
             "outlinewidth": 0,
             "ticks": ""
            },
            "type": "choropleth"
           }
          ],
          "contour": [
           {
            "colorbar": {
             "outlinewidth": 0,
             "ticks": ""
            },
            "colorscale": [
             [
              0,
              "#0d0887"
             ],
             [
              0.1111111111111111,
              "#46039f"
             ],
             [
              0.2222222222222222,
              "#7201a8"
             ],
             [
              0.3333333333333333,
              "#9c179e"
             ],
             [
              0.4444444444444444,
              "#bd3786"
             ],
             [
              0.5555555555555556,
              "#d8576b"
             ],
             [
              0.6666666666666666,
              "#ed7953"
             ],
             [
              0.7777777777777778,
              "#fb9f3a"
             ],
             [
              0.8888888888888888,
              "#fdca26"
             ],
             [
              1,
              "#f0f921"
             ]
            ],
            "type": "contour"
           }
          ],
          "contourcarpet": [
           {
            "colorbar": {
             "outlinewidth": 0,
             "ticks": ""
            },
            "type": "contourcarpet"
           }
          ],
          "heatmap": [
           {
            "colorbar": {
             "outlinewidth": 0,
             "ticks": ""
            },
            "colorscale": [
             [
              0,
              "#0d0887"
             ],
             [
              0.1111111111111111,
              "#46039f"
             ],
             [
              0.2222222222222222,
              "#7201a8"
             ],
             [
              0.3333333333333333,
              "#9c179e"
             ],
             [
              0.4444444444444444,
              "#bd3786"
             ],
             [
              0.5555555555555556,
              "#d8576b"
             ],
             [
              0.6666666666666666,
              "#ed7953"
             ],
             [
              0.7777777777777778,
              "#fb9f3a"
             ],
             [
              0.8888888888888888,
              "#fdca26"
             ],
             [
              1,
              "#f0f921"
             ]
            ],
            "type": "heatmap"
           }
          ],
          "heatmapgl": [
           {
            "colorbar": {
             "outlinewidth": 0,
             "ticks": ""
            },
            "colorscale": [
             [
              0,
              "#0d0887"
             ],
             [
              0.1111111111111111,
              "#46039f"
             ],
             [
              0.2222222222222222,
              "#7201a8"
             ],
             [
              0.3333333333333333,
              "#9c179e"
             ],
             [
              0.4444444444444444,
              "#bd3786"
             ],
             [
              0.5555555555555556,
              "#d8576b"
             ],
             [
              0.6666666666666666,
              "#ed7953"
             ],
             [
              0.7777777777777778,
              "#fb9f3a"
             ],
             [
              0.8888888888888888,
              "#fdca26"
             ],
             [
              1,
              "#f0f921"
             ]
            ],
            "type": "heatmapgl"
           }
          ],
          "histogram": [
           {
            "marker": {
             "pattern": {
              "fillmode": "overlay",
              "size": 10,
              "solidity": 0.2
             }
            },
            "type": "histogram"
           }
          ],
          "histogram2d": [
           {
            "colorbar": {
             "outlinewidth": 0,
             "ticks": ""
            },
            "colorscale": [
             [
              0,
              "#0d0887"
             ],
             [
              0.1111111111111111,
              "#46039f"
             ],
             [
              0.2222222222222222,
              "#7201a8"
             ],
             [
              0.3333333333333333,
              "#9c179e"
             ],
             [
              0.4444444444444444,
              "#bd3786"
             ],
             [
              0.5555555555555556,
              "#d8576b"
             ],
             [
              0.6666666666666666,
              "#ed7953"
             ],
             [
              0.7777777777777778,
              "#fb9f3a"
             ],
             [
              0.8888888888888888,
              "#fdca26"
             ],
             [
              1,
              "#f0f921"
             ]
            ],
            "type": "histogram2d"
           }
          ],
          "histogram2dcontour": [
           {
            "colorbar": {
             "outlinewidth": 0,
             "ticks": ""
            },
            "colorscale": [
             [
              0,
              "#0d0887"
             ],
             [
              0.1111111111111111,
              "#46039f"
             ],
             [
              0.2222222222222222,
              "#7201a8"
             ],
             [
              0.3333333333333333,
              "#9c179e"
             ],
             [
              0.4444444444444444,
              "#bd3786"
             ],
             [
              0.5555555555555556,
              "#d8576b"
             ],
             [
              0.6666666666666666,
              "#ed7953"
             ],
             [
              0.7777777777777778,
              "#fb9f3a"
             ],
             [
              0.8888888888888888,
              "#fdca26"
             ],
             [
              1,
              "#f0f921"
             ]
            ],
            "type": "histogram2dcontour"
           }
          ],
          "mesh3d": [
           {
            "colorbar": {
             "outlinewidth": 0,
             "ticks": ""
            },
            "type": "mesh3d"
           }
          ],
          "parcoords": [
           {
            "line": {
             "colorbar": {
              "outlinewidth": 0,
              "ticks": ""
             }
            },
            "type": "parcoords"
           }
          ],
          "pie": [
           {
            "automargin": true,
            "type": "pie"
           }
          ],
          "scatter": [
           {
            "fillpattern": {
             "fillmode": "overlay",
             "size": 10,
             "solidity": 0.2
            },
            "type": "scatter"
           }
          ],
          "scatter3d": [
           {
            "line": {
             "colorbar": {
              "outlinewidth": 0,
              "ticks": ""
             }
            },
            "marker": {
             "colorbar": {
              "outlinewidth": 0,
              "ticks": ""
             }
            },
            "type": "scatter3d"
           }
          ],
          "scattercarpet": [
           {
            "marker": {
             "colorbar": {
              "outlinewidth": 0,
              "ticks": ""
             }
            },
            "type": "scattercarpet"
           }
          ],
          "scattergeo": [
           {
            "marker": {
             "colorbar": {
              "outlinewidth": 0,
              "ticks": ""
             }
            },
            "type": "scattergeo"
           }
          ],
          "scattergl": [
           {
            "marker": {
             "colorbar": {
              "outlinewidth": 0,
              "ticks": ""
             }
            },
            "type": "scattergl"
           }
          ],
          "scattermapbox": [
           {
            "marker": {
             "colorbar": {
              "outlinewidth": 0,
              "ticks": ""
             }
            },
            "type": "scattermapbox"
           }
          ],
          "scatterpolar": [
           {
            "marker": {
             "colorbar": {
              "outlinewidth": 0,
              "ticks": ""
             }
            },
            "type": "scatterpolar"
           }
          ],
          "scatterpolargl": [
           {
            "marker": {
             "colorbar": {
              "outlinewidth": 0,
              "ticks": ""
             }
            },
            "type": "scatterpolargl"
           }
          ],
          "scatterternary": [
           {
            "marker": {
             "colorbar": {
              "outlinewidth": 0,
              "ticks": ""
             }
            },
            "type": "scatterternary"
           }
          ],
          "surface": [
           {
            "colorbar": {
             "outlinewidth": 0,
             "ticks": ""
            },
            "colorscale": [
             [
              0,
              "#0d0887"
             ],
             [
              0.1111111111111111,
              "#46039f"
             ],
             [
              0.2222222222222222,
              "#7201a8"
             ],
             [
              0.3333333333333333,
              "#9c179e"
             ],
             [
              0.4444444444444444,
              "#bd3786"
             ],
             [
              0.5555555555555556,
              "#d8576b"
             ],
             [
              0.6666666666666666,
              "#ed7953"
             ],
             [
              0.7777777777777778,
              "#fb9f3a"
             ],
             [
              0.8888888888888888,
              "#fdca26"
             ],
             [
              1,
              "#f0f921"
             ]
            ],
            "type": "surface"
           }
          ],
          "table": [
           {
            "cells": {
             "fill": {
              "color": "#EBF0F8"
             },
             "line": {
              "color": "white"
             }
            },
            "header": {
             "fill": {
              "color": "#C8D4E3"
             },
             "line": {
              "color": "white"
             }
            },
            "type": "table"
           }
          ]
         },
         "layout": {
          "annotationdefaults": {
           "arrowcolor": "#2a3f5f",
           "arrowhead": 0,
           "arrowwidth": 1
          },
          "autotypenumbers": "strict",
          "coloraxis": {
           "colorbar": {
            "outlinewidth": 0,
            "ticks": ""
           }
          },
          "colorscale": {
           "diverging": [
            [
             0,
             "#8e0152"
            ],
            [
             0.1,
             "#c51b7d"
            ],
            [
             0.2,
             "#de77ae"
            ],
            [
             0.3,
             "#f1b6da"
            ],
            [
             0.4,
             "#fde0ef"
            ],
            [
             0.5,
             "#f7f7f7"
            ],
            [
             0.6,
             "#e6f5d0"
            ],
            [
             0.7,
             "#b8e186"
            ],
            [
             0.8,
             "#7fbc41"
            ],
            [
             0.9,
             "#4d9221"
            ],
            [
             1,
             "#276419"
            ]
           ],
           "sequential": [
            [
             0,
             "#0d0887"
            ],
            [
             0.1111111111111111,
             "#46039f"
            ],
            [
             0.2222222222222222,
             "#7201a8"
            ],
            [
             0.3333333333333333,
             "#9c179e"
            ],
            [
             0.4444444444444444,
             "#bd3786"
            ],
            [
             0.5555555555555556,
             "#d8576b"
            ],
            [
             0.6666666666666666,
             "#ed7953"
            ],
            [
             0.7777777777777778,
             "#fb9f3a"
            ],
            [
             0.8888888888888888,
             "#fdca26"
            ],
            [
             1,
             "#f0f921"
            ]
           ],
           "sequentialminus": [
            [
             0,
             "#0d0887"
            ],
            [
             0.1111111111111111,
             "#46039f"
            ],
            [
             0.2222222222222222,
             "#7201a8"
            ],
            [
             0.3333333333333333,
             "#9c179e"
            ],
            [
             0.4444444444444444,
             "#bd3786"
            ],
            [
             0.5555555555555556,
             "#d8576b"
            ],
            [
             0.6666666666666666,
             "#ed7953"
            ],
            [
             0.7777777777777778,
             "#fb9f3a"
            ],
            [
             0.8888888888888888,
             "#fdca26"
            ],
            [
             1,
             "#f0f921"
            ]
           ]
          },
          "colorway": [
           "#636efa",
           "#EF553B",
           "#00cc96",
           "#ab63fa",
           "#FFA15A",
           "#19d3f3",
           "#FF6692",
           "#B6E880",
           "#FF97FF",
           "#FECB52"
          ],
          "font": {
           "color": "#2a3f5f"
          },
          "geo": {
           "bgcolor": "white",
           "lakecolor": "white",
           "landcolor": "#E5ECF6",
           "showlakes": true,
           "showland": true,
           "subunitcolor": "white"
          },
          "hoverlabel": {
           "align": "left"
          },
          "hovermode": "closest",
          "mapbox": {
           "style": "light"
          },
          "paper_bgcolor": "white",
          "plot_bgcolor": "#E5ECF6",
          "polar": {
           "angularaxis": {
            "gridcolor": "white",
            "linecolor": "white",
            "ticks": ""
           },
           "bgcolor": "#E5ECF6",
           "radialaxis": {
            "gridcolor": "white",
            "linecolor": "white",
            "ticks": ""
           }
          },
          "scene": {
           "xaxis": {
            "backgroundcolor": "#E5ECF6",
            "gridcolor": "white",
            "gridwidth": 2,
            "linecolor": "white",
            "showbackground": true,
            "ticks": "",
            "zerolinecolor": "white"
           },
           "yaxis": {
            "backgroundcolor": "#E5ECF6",
            "gridcolor": "white",
            "gridwidth": 2,
            "linecolor": "white",
            "showbackground": true,
            "ticks": "",
            "zerolinecolor": "white"
           },
           "zaxis": {
            "backgroundcolor": "#E5ECF6",
            "gridcolor": "white",
            "gridwidth": 2,
            "linecolor": "white",
            "showbackground": true,
            "ticks": "",
            "zerolinecolor": "white"
           }
          },
          "shapedefaults": {
           "line": {
            "color": "#2a3f5f"
           }
          },
          "ternary": {
           "aaxis": {
            "gridcolor": "white",
            "linecolor": "white",
            "ticks": ""
           },
           "baxis": {
            "gridcolor": "white",
            "linecolor": "white",
            "ticks": ""
           },
           "bgcolor": "#E5ECF6",
           "caxis": {
            "gridcolor": "white",
            "linecolor": "white",
            "ticks": ""
           }
          },
          "title": {
           "x": 0.05
          },
          "xaxis": {
           "automargin": true,
           "gridcolor": "white",
           "linecolor": "white",
           "ticks": "",
           "title": {
            "standoff": 15
           },
           "zerolinecolor": "white",
           "zerolinewidth": 2
          },
          "yaxis": {
           "automargin": true,
           "gridcolor": "white",
           "linecolor": "white",
           "ticks": "",
           "title": {
            "standoff": 15
           },
           "zerolinecolor": "white",
           "zerolinewidth": 2
          }
         }
        }
       }
      },
      "image/png": "[encoded data removed]"
     },
     "metadata": {},
     "output_type": "display_data"
    },
    {
     "data": {
      "text/html": [
       "\n",
       "    <table>\n",
       "    <thead>\n",
       "    <tr><td>Machine Type</td><td>Count</td><td>Recipe</td><td>Ingredients</td><td>Products</td></tr>\n",
       "    </thead>\n",
       "    <tbody>\n",
       "    <tr><td>Extractor</td><td>9.4083</td><td>coal</td><td></td><td>coal: 564.50</td></tr>\n",
       "<tr><td>Constructor</td><td>30.625</td><td>screw</td><td>iron_rod: 306.25</td><td>screw: 1225.00</td></tr>\n",
       "<tr><td>Constructor</td><td>9.0</td><td>concrete</td><td>limestone: 405.00</td><td>concrete: 135.00</td></tr>\n",
       "<tr><td>Constructor</td><td>3.75</td><td>steel_pipe</td><td>steel_ingot: 112.50</td><td>steel_pipe: 75.00</td></tr>\n",
       "<tr><td>Assembler</td><td>15.0</td><td>modular_frame</td><td>iron_rod: 180.00<br>reinforced_iron_plate: 45.00</td><td>modular_frame: 30.00</td></tr>\n",
       "<tr><td>Manufacturer</td><td>2.5</td><td>heavy_modular_frame</td><td>screw: 500.00<br>modular_frame: 25.00<br>encased_industrial_beam: 25.00<br>steel_pipe: 75.00</td><td>heavy_modular_frame: 5.00</td></tr>\n",
       "<tr><td>Foundry</td><td>12.5444</td><td>steel_ingot</td><td>coal: 564.50<br>iron_ore: 564.50</td><td>steel_ingot: 564.50</td></tr>\n",
       "<tr><td>Extractor</td><td>25.8458</td><td>iron_ore</td><td></td><td>iron_ore: 1550.75</td></tr>\n",
       "<tr><td>Smelter</td><td>32.875</td><td>iron_ingot</td><td>iron_ore: 986.25</td><td>iron_ingot: 986.25</td></tr>\n",
       "<tr><td>Extractor</td><td>6.75</td><td>limestone</td><td></td><td>limestone: 405.00</td></tr>\n",
       "<tr><td>Constructor</td><td>7.5333</td><td>steel_beam</td><td>steel_ingot: 452.00</td><td>steel_beam: 113.00</td></tr>\n",
       "<tr><td>Assembler</td><td>4.5</td><td>encased_industrial_beam</td><td>concrete: 135.00<br>steel_beam: 108.00</td><td>encased_industrial_beam: 27.00</td></tr>\n",
       "<tr><td>Aggregator</td><td>1</td><td>output</td><td>iron_rod: 10.00<br>iron_plate: 10.00<br>steel_beam: 5.00<br>modular_frame: 5.00<br>reinforced_iron_plate: 5.00<br>rotor: 5.00<br>encased_industrial_beam: 2.00<br>heavy_modular_frame: 5.00</td><td>iron_rod: 10.00<br>iron_plate: 10.00<br>steel_beam: 5.00<br>modular_frame: 5.00<br>reinforced_iron_plate: 5.00<br>rotor: 5.00<br>encased_industrial_beam: 2.00<br>heavy_modular_frame: 5.00</td></tr>\n",
       "<tr><td>Constructor</td><td>34.75</td><td>iron_rod</td><td>iron_ingot: 521.25</td><td>iron_rod: 521.25</td></tr>\n",
       "<tr><td>Assembler</td><td>10.0</td><td>reinforced_iron_plate</td><td>screw: 600.00<br>iron_plate: 300.00</td><td>reinforced_iron_plate: 50.00</td></tr>\n",
       "<tr><td>Assembler</td><td>1.25</td><td>rotor</td><td>iron_rod: 25.00<br>screw: 125.00</td><td>rotor: 5.00</td></tr>\n",
       "<tr><td>Constructor</td><td>15.5</td><td>iron_plate</td><td>iron_ingot: 465.00</td><td>iron_plate: 310.00</td></tr>\n",
       "    </tbody>\n",
       "    </table>"
      ],
      "text/plain": [
       "<IPython.core.display.HTML object>"
      ]
     },
     "metadata": {},
     "output_type": "display_data"
    },
    {
     "name": "stdout",
     "output_type": "stream",
     "text": [
      "Total Power: 1755.6346\n"
     ]
    },
    {
     "data": {
      "text/plain": [
       "<__main__.Process at 0x1ae34bb9670>"
      ]
     },
     "execution_count": 446,
     "metadata": {},
     "output_type": "execute_result"
    }
   ],
   "source": [
    "# total production\n",
    "target_product = MaterialSpec(iron_rod=10, iron_plate=10, reinforced_iron_plate=5, rotor=5,\n",
    "                                  steel_beam=5, encased_industrial_beam=2, modular_frame=5, heavy_modular_frame=5)\n",
    "\n",
    "factory_plan(target_product)"
   ]
  },
  {
   "cell_type": "code",
   "execution_count": 447,
   "id": "2ebd00f4-afb7-4e09-b607-e6758c00a32d",
   "metadata": {
    "tags": []
   },
   "outputs": [
    {
     "name": "stdout",
     "output_type": "stream",
     "text": [
      "missing: 'BP_ItemDescriptorPortableMiner_C'\n",
      "\n"
     ]
    },
    {
     "data": {
      "application/vnd.plotly.v1+json": {
       "config": {
        "plotlyServerURL": "https://plot.ly"
       },
       "data": [
        {
         "hoverinfo": "none",
         "line": {
          "shape": "spline"
         },
         "marker": {
          "angleref": "previous",
          "color": "black",
          "size": 10,
          "standoff": 10,
          "symbol": "arrow-wide"
         },
         "mode": "lines+markers",
         "showlegend": false,
         "type": "scatter",
         "x": [
          0.5,
          -0.5,
          null,
          1.5,
          -0.5,
          null,
          -0.5,
          -0.5,
          null,
          0.5,
          1.5,
          null,
          0.5,
          0.5,
          null,
          1.5,
          1.5,
          null
         ],
         "y": [
          1,
          2,
          null,
          3,
          3,
          null,
          2,
          3,
          null,
          1,
          2,
          null,
          2,
          1,
          null,
          2,
          3,
          null
         ]
        },
        {
         "hovertemplate": "%{text}<extra></extra>",
         "marker": {
          "color": [
           "#2E91E5",
           "#E15F99",
           "#750D86",
           "#2E91E5",
           "#511CFB",
           "#FB0D0D",
           "#2E91E5"
          ],
          "size": [
           31.989249137763153,
           25.96672499955091,
           29.242343145200195,
           30.958127171467464,
           21.53543426250563,
           35.231883119115295,
           28.62674539751169
          ],
          "symbol": "circle-dot"
         },
         "mode": "markers",
         "showlegend": false,
         "text": [
          "\nConstructor<br>\nRecipe: iron_plate<br>\nScale: 9.0\n",
          "\nAssembler<br>\nRecipe: reinforced_iron_plate<br>\nScale: 4.0\n",
          "\nExtractor<br>\nRecipe: iron_ore<br>\nScale: 6.5\n",
          "\nConstructor<br>\nRecipe: iron_rod<br>\nScale: 8.0\n",
          "\nAggregator<br>\nRecipe: output<br>\nScale: 1\n",
          "\nSmelter<br>\nRecipe: iron_ingot<br>\nScale: 13.0\n",
          "\nConstructor<br>\nRecipe: screw<br>\nScale: 6.0\n"
         ],
         "type": "scatter",
         "x": [
          -0.5,
          -0.5,
          0.5,
          1.5,
          -0.5,
          0.5,
          1.5
         ],
         "y": [
          2,
          3,
          2,
          2,
          1,
          1,
          3
         ]
        }
       ],
       "layout": {
        "autosize": true,
        "template": {
         "data": {
          "bar": [
           {
            "error_x": {
             "color": "#2a3f5f"
            },
            "error_y": {
             "color": "#2a3f5f"
            },
            "marker": {
             "line": {
              "color": "#E5ECF6",
              "width": 0.5
             },
             "pattern": {
              "fillmode": "overlay",
              "size": 10,
              "solidity": 0.2
             }
            },
            "type": "bar"
           }
          ],
          "barpolar": [
           {
            "marker": {
             "line": {
              "color": "#E5ECF6",
              "width": 0.5
             },
             "pattern": {
              "fillmode": "overlay",
              "size": 10,
              "solidity": 0.2
             }
            },
            "type": "barpolar"
           }
          ],
          "carpet": [
           {
            "aaxis": {
             "endlinecolor": "#2a3f5f",
             "gridcolor": "white",
             "linecolor": "white",
             "minorgridcolor": "white",
             "startlinecolor": "#2a3f5f"
            },
            "baxis": {
             "endlinecolor": "#2a3f5f",
             "gridcolor": "white",
             "linecolor": "white",
             "minorgridcolor": "white",
             "startlinecolor": "#2a3f5f"
            },
            "type": "carpet"
           }
          ],
          "choropleth": [
           {
            "colorbar": {
             "outlinewidth": 0,
             "ticks": ""
            },
            "type": "choropleth"
           }
          ],
          "contour": [
           {
            "colorbar": {
             "outlinewidth": 0,
             "ticks": ""
            },
            "colorscale": [
             [
              0,
              "#0d0887"
             ],
             [
              0.1111111111111111,
              "#46039f"
             ],
             [
              0.2222222222222222,
              "#7201a8"
             ],
             [
              0.3333333333333333,
              "#9c179e"
             ],
             [
              0.4444444444444444,
              "#bd3786"
             ],
             [
              0.5555555555555556,
              "#d8576b"
             ],
             [
              0.6666666666666666,
              "#ed7953"
             ],
             [
              0.7777777777777778,
              "#fb9f3a"
             ],
             [
              0.8888888888888888,
              "#fdca26"
             ],
             [
              1,
              "#f0f921"
             ]
            ],
            "type": "contour"
           }
          ],
          "contourcarpet": [
           {
            "colorbar": {
             "outlinewidth": 0,
             "ticks": ""
            },
            "type": "contourcarpet"
           }
          ],
          "heatmap": [
           {
            "colorbar": {
             "outlinewidth": 0,
             "ticks": ""
            },
            "colorscale": [
             [
              0,
              "#0d0887"
             ],
             [
              0.1111111111111111,
              "#46039f"
             ],
             [
              0.2222222222222222,
              "#7201a8"
             ],
             [
              0.3333333333333333,
              "#9c179e"
             ],
             [
              0.4444444444444444,
              "#bd3786"
             ],
             [
              0.5555555555555556,
              "#d8576b"
             ],
             [
              0.6666666666666666,
              "#ed7953"
             ],
             [
              0.7777777777777778,
              "#fb9f3a"
             ],
             [
              0.8888888888888888,
              "#fdca26"
             ],
             [
              1,
              "#f0f921"
             ]
            ],
            "type": "heatmap"
           }
          ],
          "heatmapgl": [
           {
            "colorbar": {
             "outlinewidth": 0,
             "ticks": ""
            },
            "colorscale": [
             [
              0,
              "#0d0887"
             ],
             [
              0.1111111111111111,
              "#46039f"
             ],
             [
              0.2222222222222222,
              "#7201a8"
             ],
             [
              0.3333333333333333,
              "#9c179e"
             ],
             [
              0.4444444444444444,
              "#bd3786"
             ],
             [
              0.5555555555555556,
              "#d8576b"
             ],
             [
              0.6666666666666666,
              "#ed7953"
             ],
             [
              0.7777777777777778,
              "#fb9f3a"
             ],
             [
              0.8888888888888888,
              "#fdca26"
             ],
             [
              1,
              "#f0f921"
             ]
            ],
            "type": "heatmapgl"
           }
          ],
          "histogram": [
           {
            "marker": {
             "pattern": {
              "fillmode": "overlay",
              "size": 10,
              "solidity": 0.2
             }
            },
            "type": "histogram"
           }
          ],
          "histogram2d": [
           {
            "colorbar": {
             "outlinewidth": 0,
             "ticks": ""
            },
            "colorscale": [
             [
              0,
              "#0d0887"
             ],
             [
              0.1111111111111111,
              "#46039f"
             ],
             [
              0.2222222222222222,
              "#7201a8"
             ],
             [
              0.3333333333333333,
              "#9c179e"
             ],
             [
              0.4444444444444444,
              "#bd3786"
             ],
             [
              0.5555555555555556,
              "#d8576b"
             ],
             [
              0.6666666666666666,
              "#ed7953"
             ],
             [
              0.7777777777777778,
              "#fb9f3a"
             ],
             [
              0.8888888888888888,
              "#fdca26"
             ],
             [
              1,
              "#f0f921"
             ]
            ],
            "type": "histogram2d"
           }
          ],
          "histogram2dcontour": [
           {
            "colorbar": {
             "outlinewidth": 0,
             "ticks": ""
            },
            "colorscale": [
             [
              0,
              "#0d0887"
             ],
             [
              0.1111111111111111,
              "#46039f"
             ],
             [
              0.2222222222222222,
              "#7201a8"
             ],
             [
              0.3333333333333333,
              "#9c179e"
             ],
             [
              0.4444444444444444,
              "#bd3786"
             ],
             [
              0.5555555555555556,
              "#d8576b"
             ],
             [
              0.6666666666666666,
              "#ed7953"
             ],
             [
              0.7777777777777778,
              "#fb9f3a"
             ],
             [
              0.8888888888888888,
              "#fdca26"
             ],
             [
              1,
              "#f0f921"
             ]
            ],
            "type": "histogram2dcontour"
           }
          ],
          "mesh3d": [
           {
            "colorbar": {
             "outlinewidth": 0,
             "ticks": ""
            },
            "type": "mesh3d"
           }
          ],
          "parcoords": [
           {
            "line": {
             "colorbar": {
              "outlinewidth": 0,
              "ticks": ""
             }
            },
            "type": "parcoords"
           }
          ],
          "pie": [
           {
            "automargin": true,
            "type": "pie"
           }
          ],
          "scatter": [
           {
            "fillpattern": {
             "fillmode": "overlay",
             "size": 10,
             "solidity": 0.2
            },
            "type": "scatter"
           }
          ],
          "scatter3d": [
           {
            "line": {
             "colorbar": {
              "outlinewidth": 0,
              "ticks": ""
             }
            },
            "marker": {
             "colorbar": {
              "outlinewidth": 0,
              "ticks": ""
             }
            },
            "type": "scatter3d"
           }
          ],
          "scattercarpet": [
           {
            "marker": {
             "colorbar": {
              "outlinewidth": 0,
              "ticks": ""
             }
            },
            "type": "scattercarpet"
           }
          ],
          "scattergeo": [
           {
            "marker": {
             "colorbar": {
              "outlinewidth": 0,
              "ticks": ""
             }
            },
            "type": "scattergeo"
           }
          ],
          "scattergl": [
           {
            "marker": {
             "colorbar": {
              "outlinewidth": 0,
              "ticks": ""
             }
            },
            "type": "scattergl"
           }
          ],
          "scattermapbox": [
           {
            "marker": {
             "colorbar": {
              "outlinewidth": 0,
              "ticks": ""
             }
            },
            "type": "scattermapbox"
           }
          ],
          "scatterpolar": [
           {
            "marker": {
             "colorbar": {
              "outlinewidth": 0,
              "ticks": ""
             }
            },
            "type": "scatterpolar"
           }
          ],
          "scatterpolargl": [
           {
            "marker": {
             "colorbar": {
              "outlinewidth": 0,
              "ticks": ""
             }
            },
            "type": "scatterpolargl"
           }
          ],
          "scatterternary": [
           {
            "marker": {
             "colorbar": {
              "outlinewidth": 0,
              "ticks": ""
             }
            },
            "type": "scatterternary"
           }
          ],
          "surface": [
           {
            "colorbar": {
             "outlinewidth": 0,
             "ticks": ""
            },
            "colorscale": [
             [
              0,
              "#0d0887"
             ],
             [
              0.1111111111111111,
              "#46039f"
             ],
             [
              0.2222222222222222,
              "#7201a8"
             ],
             [
              0.3333333333333333,
              "#9c179e"
             ],
             [
              0.4444444444444444,
              "#bd3786"
             ],
             [
              0.5555555555555556,
              "#d8576b"
             ],
             [
              0.6666666666666666,
              "#ed7953"
             ],
             [
              0.7777777777777778,
              "#fb9f3a"
             ],
             [
              0.8888888888888888,
              "#fdca26"
             ],
             [
              1,
              "#f0f921"
             ]
            ],
            "type": "surface"
           }
          ],
          "table": [
           {
            "cells": {
             "fill": {
              "color": "#EBF0F8"
             },
             "line": {
              "color": "white"
             }
            },
            "header": {
             "fill": {
              "color": "#C8D4E3"
             },
             "line": {
              "color": "white"
             }
            },
            "type": "table"
           }
          ]
         },
         "layout": {
          "annotationdefaults": {
           "arrowcolor": "#2a3f5f",
           "arrowhead": 0,
           "arrowwidth": 1
          },
          "autotypenumbers": "strict",
          "coloraxis": {
           "colorbar": {
            "outlinewidth": 0,
            "ticks": ""
           }
          },
          "colorscale": {
           "diverging": [
            [
             0,
             "#8e0152"
            ],
            [
             0.1,
             "#c51b7d"
            ],
            [
             0.2,
             "#de77ae"
            ],
            [
             0.3,
             "#f1b6da"
            ],
            [
             0.4,
             "#fde0ef"
            ],
            [
             0.5,
             "#f7f7f7"
            ],
            [
             0.6,
             "#e6f5d0"
            ],
            [
             0.7,
             "#b8e186"
            ],
            [
             0.8,
             "#7fbc41"
            ],
            [
             0.9,
             "#4d9221"
            ],
            [
             1,
             "#276419"
            ]
           ],
           "sequential": [
            [
             0,
             "#0d0887"
            ],
            [
             0.1111111111111111,
             "#46039f"
            ],
            [
             0.2222222222222222,
             "#7201a8"
            ],
            [
             0.3333333333333333,
             "#9c179e"
            ],
            [
             0.4444444444444444,
             "#bd3786"
            ],
            [
             0.5555555555555556,
             "#d8576b"
            ],
            [
             0.6666666666666666,
             "#ed7953"
            ],
            [
             0.7777777777777778,
             "#fb9f3a"
            ],
            [
             0.8888888888888888,
             "#fdca26"
            ],
            [
             1,
             "#f0f921"
            ]
           ],
           "sequentialminus": [
            [
             0,
             "#0d0887"
            ],
            [
             0.1111111111111111,
             "#46039f"
            ],
            [
             0.2222222222222222,
             "#7201a8"
            ],
            [
             0.3333333333333333,
             "#9c179e"
            ],
            [
             0.4444444444444444,
             "#bd3786"
            ],
            [
             0.5555555555555556,
             "#d8576b"
            ],
            [
             0.6666666666666666,
             "#ed7953"
            ],
            [
             0.7777777777777778,
             "#fb9f3a"
            ],
            [
             0.8888888888888888,
             "#fdca26"
            ],
            [
             1,
             "#f0f921"
            ]
           ]
          },
          "colorway": [
           "#636efa",
           "#EF553B",
           "#00cc96",
           "#ab63fa",
           "#FFA15A",
           "#19d3f3",
           "#FF6692",
           "#B6E880",
           "#FF97FF",
           "#FECB52"
          ],
          "font": {
           "color": "#2a3f5f"
          },
          "geo": {
           "bgcolor": "white",
           "lakecolor": "white",
           "landcolor": "#E5ECF6",
           "showlakes": true,
           "showland": true,
           "subunitcolor": "white"
          },
          "hoverlabel": {
           "align": "left"
          },
          "hovermode": "closest",
          "mapbox": {
           "style": "light"
          },
          "paper_bgcolor": "white",
          "plot_bgcolor": "#E5ECF6",
          "polar": {
           "angularaxis": {
            "gridcolor": "white",
            "linecolor": "white",
            "ticks": ""
           },
           "bgcolor": "#E5ECF6",
           "radialaxis": {
            "gridcolor": "white",
            "linecolor": "white",
            "ticks": ""
           }
          },
          "scene": {
           "xaxis": {
            "backgroundcolor": "#E5ECF6",
            "gridcolor": "white",
            "gridwidth": 2,
            "linecolor": "white",
            "showbackground": true,
            "ticks": "",
            "zerolinecolor": "white"
           },
           "yaxis": {
            "backgroundcolor": "#E5ECF6",
            "gridcolor": "white",
            "gridwidth": 2,
            "linecolor": "white",
            "showbackground": true,
            "ticks": "",
            "zerolinecolor": "white"
           },
           "zaxis": {
            "backgroundcolor": "#E5ECF6",
            "gridcolor": "white",
            "gridwidth": 2,
            "linecolor": "white",
            "showbackground": true,
            "ticks": "",
            "zerolinecolor": "white"
           }
          },
          "shapedefaults": {
           "line": {
            "color": "#2a3f5f"
           }
          },
          "ternary": {
           "aaxis": {
            "gridcolor": "white",
            "linecolor": "white",
            "ticks": ""
           },
           "baxis": {
            "gridcolor": "white",
            "linecolor": "white",
            "ticks": ""
           },
           "bgcolor": "#E5ECF6",
           "caxis": {
            "gridcolor": "white",
            "linecolor": "white",
            "ticks": ""
           }
          },
          "title": {
           "x": 0.05
          },
          "xaxis": {
           "automargin": true,
           "gridcolor": "white",
           "linecolor": "white",
           "ticks": "",
           "title": {
            "standoff": 15
           },
           "zerolinecolor": "white",
           "zerolinewidth": 2
          },
          "yaxis": {
           "automargin": true,
           "gridcolor": "white",
           "linecolor": "white",
           "ticks": "",
           "title": {
            "standoff": 15
           },
           "zerolinecolor": "white",
           "zerolinewidth": 2
          }
         }
        },
        "xaxis": {
         "autorange": true,
         "range": [
          -0.6339365038151,
          1.6332732690786522
         ],
         "showgrid": false,
         "type": "linear",
         "visible": false,
         "zeroline": false
        },
        "yaxis": {
         "autorange": true,
         "range": [
          0.8194499985523792,
          3.1687228135750263
         ],
         "showgrid": false,
         "type": "linear",
         "visible": false,
         "zeroline": false
        }
       }
      },
      "image/png": "[encoded data removed]"
     },
     "metadata": {},
     "output_type": "display_data"
    },
    {
     "data": {
      "application/vnd.plotly.v1+json": {
       "config": {
        "plotlyServerURL": "https://plot.ly"
       },
       "data": [
        {
         "link": {
          "label": [
           "iron_ingot",
           "screw",
           "iron_plate",
           "iron_ingot",
           "iron_ore",
           "iron_rod"
          ],
          "source": [
           5,
           6,
           0,
           5,
           2,
           3
          ],
          "target": [
           0,
           1,
           1,
           3,
           5,
           6
          ],
          "value": [
           270,
           240,
           120,
           120,
           390,
           60
          ]
         },
         "node": {
          "label": [
           "Constructor: iron_plate",
           "Assembler: reinforced_iron_plate",
           "Extractor: iron_ore",
           "Constructor: iron_rod",
           "Aggregator: output",
           "Smelter: iron_ingot",
           "Constructor: screw"
          ]
         },
         "type": "sankey"
        }
       ],
       "layout": {
        "autosize": true,
        "template": {
         "data": {
          "bar": [
           {
            "error_x": {
             "color": "#2a3f5f"
            },
            "error_y": {
             "color": "#2a3f5f"
            },
            "marker": {
             "line": {
              "color": "#E5ECF6",
              "width": 0.5
             },
             "pattern": {
              "fillmode": "overlay",
              "size": 10,
              "solidity": 0.2
             }
            },
            "type": "bar"
           }
          ],
          "barpolar": [
           {
            "marker": {
             "line": {
              "color": "#E5ECF6",
              "width": 0.5
             },
             "pattern": {
              "fillmode": "overlay",
              "size": 10,
              "solidity": 0.2
             }
            },
            "type": "barpolar"
           }
          ],
          "carpet": [
           {
            "aaxis": {
             "endlinecolor": "#2a3f5f",
             "gridcolor": "white",
             "linecolor": "white",
             "minorgridcolor": "white",
             "startlinecolor": "#2a3f5f"
            },
            "baxis": {
             "endlinecolor": "#2a3f5f",
             "gridcolor": "white",
             "linecolor": "white",
             "minorgridcolor": "white",
             "startlinecolor": "#2a3f5f"
            },
            "type": "carpet"
           }
          ],
          "choropleth": [
           {
            "colorbar": {
             "outlinewidth": 0,
             "ticks": ""
            },
            "type": "choropleth"
           }
          ],
          "contour": [
           {
            "colorbar": {
             "outlinewidth": 0,
             "ticks": ""
            },
            "colorscale": [
             [
              0,
              "#0d0887"
             ],
             [
              0.1111111111111111,
              "#46039f"
             ],
             [
              0.2222222222222222,
              "#7201a8"
             ],
             [
              0.3333333333333333,
              "#9c179e"
             ],
             [
              0.4444444444444444,
              "#bd3786"
             ],
             [
              0.5555555555555556,
              "#d8576b"
             ],
             [
              0.6666666666666666,
              "#ed7953"
             ],
             [
              0.7777777777777778,
              "#fb9f3a"
             ],
             [
              0.8888888888888888,
              "#fdca26"
             ],
             [
              1,
              "#f0f921"
             ]
            ],
            "type": "contour"
           }
          ],
          "contourcarpet": [
           {
            "colorbar": {
             "outlinewidth": 0,
             "ticks": ""
            },
            "type": "contourcarpet"
           }
          ],
          "heatmap": [
           {
            "colorbar": {
             "outlinewidth": 0,
             "ticks": ""
            },
            "colorscale": [
             [
              0,
              "#0d0887"
             ],
             [
              0.1111111111111111,
              "#46039f"
             ],
             [
              0.2222222222222222,
              "#7201a8"
             ],
             [
              0.3333333333333333,
              "#9c179e"
             ],
             [
              0.4444444444444444,
              "#bd3786"
             ],
             [
              0.5555555555555556,
              "#d8576b"
             ],
             [
              0.6666666666666666,
              "#ed7953"
             ],
             [
              0.7777777777777778,
              "#fb9f3a"
             ],
             [
              0.8888888888888888,
              "#fdca26"
             ],
             [
              1,
              "#f0f921"
             ]
            ],
            "type": "heatmap"
           }
          ],
          "heatmapgl": [
           {
            "colorbar": {
             "outlinewidth": 0,
             "ticks": ""
            },
            "colorscale": [
             [
              0,
              "#0d0887"
             ],
             [
              0.1111111111111111,
              "#46039f"
             ],
             [
              0.2222222222222222,
              "#7201a8"
             ],
             [
              0.3333333333333333,
              "#9c179e"
             ],
             [
              0.4444444444444444,
              "#bd3786"
             ],
             [
              0.5555555555555556,
              "#d8576b"
             ],
             [
              0.6666666666666666,
              "#ed7953"
             ],
             [
              0.7777777777777778,
              "#fb9f3a"
             ],
             [
              0.8888888888888888,
              "#fdca26"
             ],
             [
              1,
              "#f0f921"
             ]
            ],
            "type": "heatmapgl"
           }
          ],
          "histogram": [
           {
            "marker": {
             "pattern": {
              "fillmode": "overlay",
              "size": 10,
              "solidity": 0.2
             }
            },
            "type": "histogram"
           }
          ],
          "histogram2d": [
           {
            "colorbar": {
             "outlinewidth": 0,
             "ticks": ""
            },
            "colorscale": [
             [
              0,
              "#0d0887"
             ],
             [
              0.1111111111111111,
              "#46039f"
             ],
             [
              0.2222222222222222,
              "#7201a8"
             ],
             [
              0.3333333333333333,
              "#9c179e"
             ],
             [
              0.4444444444444444,
              "#bd3786"
             ],
             [
              0.5555555555555556,
              "#d8576b"
             ],
             [
              0.6666666666666666,
              "#ed7953"
             ],
             [
              0.7777777777777778,
              "#fb9f3a"
             ],
             [
              0.8888888888888888,
              "#fdca26"
             ],
             [
              1,
              "#f0f921"
             ]
            ],
            "type": "histogram2d"
           }
          ],
          "histogram2dcontour": [
           {
            "colorbar": {
             "outlinewidth": 0,
             "ticks": ""
            },
            "colorscale": [
             [
              0,
              "#0d0887"
             ],
             [
              0.1111111111111111,
              "#46039f"
             ],
             [
              0.2222222222222222,
              "#7201a8"
             ],
             [
              0.3333333333333333,
              "#9c179e"
             ],
             [
              0.4444444444444444,
              "#bd3786"
             ],
             [
              0.5555555555555556,
              "#d8576b"
             ],
             [
              0.6666666666666666,
              "#ed7953"
             ],
             [
              0.7777777777777778,
              "#fb9f3a"
             ],
             [
              0.8888888888888888,
              "#fdca26"
             ],
             [
              1,
              "#f0f921"
             ]
            ],
            "type": "histogram2dcontour"
           }
          ],
          "mesh3d": [
           {
            "colorbar": {
             "outlinewidth": 0,
             "ticks": ""
            },
            "type": "mesh3d"
           }
          ],
          "parcoords": [
           {
            "line": {
             "colorbar": {
              "outlinewidth": 0,
              "ticks": ""
             }
            },
            "type": "parcoords"
           }
          ],
          "pie": [
           {
            "automargin": true,
            "type": "pie"
           }
          ],
          "scatter": [
           {
            "fillpattern": {
             "fillmode": "overlay",
             "size": 10,
             "solidity": 0.2
            },
            "type": "scatter"
           }
          ],
          "scatter3d": [
           {
            "line": {
             "colorbar": {
              "outlinewidth": 0,
              "ticks": ""
             }
            },
            "marker": {
             "colorbar": {
              "outlinewidth": 0,
              "ticks": ""
             }
            },
            "type": "scatter3d"
           }
          ],
          "scattercarpet": [
           {
            "marker": {
             "colorbar": {
              "outlinewidth": 0,
              "ticks": ""
             }
            },
            "type": "scattercarpet"
           }
          ],
          "scattergeo": [
           {
            "marker": {
             "colorbar": {
              "outlinewidth": 0,
              "ticks": ""
             }
            },
            "type": "scattergeo"
           }
          ],
          "scattergl": [
           {
            "marker": {
             "colorbar": {
              "outlinewidth": 0,
              "ticks": ""
             }
            },
            "type": "scattergl"
           }
          ],
          "scattermapbox": [
           {
            "marker": {
             "colorbar": {
              "outlinewidth": 0,
              "ticks": ""
             }
            },
            "type": "scattermapbox"
           }
          ],
          "scatterpolar": [
           {
            "marker": {
             "colorbar": {
              "outlinewidth": 0,
              "ticks": ""
             }
            },
            "type": "scatterpolar"
           }
          ],
          "scatterpolargl": [
           {
            "marker": {
             "colorbar": {
              "outlinewidth": 0,
              "ticks": ""
             }
            },
            "type": "scatterpolargl"
           }
          ],
          "scatterternary": [
           {
            "marker": {
             "colorbar": {
              "outlinewidth": 0,
              "ticks": ""
             }
            },
            "type": "scatterternary"
           }
          ],
          "surface": [
           {
            "colorbar": {
             "outlinewidth": 0,
             "ticks": ""
            },
            "colorscale": [
             [
              0,
              "#0d0887"
             ],
             [
              0.1111111111111111,
              "#46039f"
             ],
             [
              0.2222222222222222,
              "#7201a8"
             ],
             [
              0.3333333333333333,
              "#9c179e"
             ],
             [
              0.4444444444444444,
              "#bd3786"
             ],
             [
              0.5555555555555556,
              "#d8576b"
             ],
             [
              0.6666666666666666,
              "#ed7953"
             ],
             [
              0.7777777777777778,
              "#fb9f3a"
             ],
             [
              0.8888888888888888,
              "#fdca26"
             ],
             [
              1,
              "#f0f921"
             ]
            ],
            "type": "surface"
           }
          ],
          "table": [
           {
            "cells": {
             "fill": {
              "color": "#EBF0F8"
             },
             "line": {
              "color": "white"
             }
            },
            "header": {
             "fill": {
              "color": "#C8D4E3"
             },
             "line": {
              "color": "white"
             }
            },
            "type": "table"
           }
          ]
         },
         "layout": {
          "annotationdefaults": {
           "arrowcolor": "#2a3f5f",
           "arrowhead": 0,
           "arrowwidth": 1
          },
          "autotypenumbers": "strict",
          "coloraxis": {
           "colorbar": {
            "outlinewidth": 0,
            "ticks": ""
           }
          },
          "colorscale": {
           "diverging": [
            [
             0,
             "#8e0152"
            ],
            [
             0.1,
             "#c51b7d"
            ],
            [
             0.2,
             "#de77ae"
            ],
            [
             0.3,
             "#f1b6da"
            ],
            [
             0.4,
             "#fde0ef"
            ],
            [
             0.5,
             "#f7f7f7"
            ],
            [
             0.6,
             "#e6f5d0"
            ],
            [
             0.7,
             "#b8e186"
            ],
            [
             0.8,
             "#7fbc41"
            ],
            [
             0.9,
             "#4d9221"
            ],
            [
             1,
             "#276419"
            ]
           ],
           "sequential": [
            [
             0,
             "#0d0887"
            ],
            [
             0.1111111111111111,
             "#46039f"
            ],
            [
             0.2222222222222222,
             "#7201a8"
            ],
            [
             0.3333333333333333,
             "#9c179e"
            ],
            [
             0.4444444444444444,
             "#bd3786"
            ],
            [
             0.5555555555555556,
             "#d8576b"
            ],
            [
             0.6666666666666666,
             "#ed7953"
            ],
            [
             0.7777777777777778,
             "#fb9f3a"
            ],
            [
             0.8888888888888888,
             "#fdca26"
            ],
            [
             1,
             "#f0f921"
            ]
           ],
           "sequentialminus": [
            [
             0,
             "#0d0887"
            ],
            [
             0.1111111111111111,
             "#46039f"
            ],
            [
             0.2222222222222222,
             "#7201a8"
            ],
            [
             0.3333333333333333,
             "#9c179e"
            ],
            [
             0.4444444444444444,
             "#bd3786"
            ],
            [
             0.5555555555555556,
             "#d8576b"
            ],
            [
             0.6666666666666666,
             "#ed7953"
            ],
            [
             0.7777777777777778,
             "#fb9f3a"
            ],
            [
             0.8888888888888888,
             "#fdca26"
            ],
            [
             1,
             "#f0f921"
            ]
           ]
          },
          "colorway": [
           "#636efa",
           "#EF553B",
           "#00cc96",
           "#ab63fa",
           "#FFA15A",
           "#19d3f3",
           "#FF6692",
           "#B6E880",
           "#FF97FF",
           "#FECB52"
          ],
          "font": {
           "color": "#2a3f5f"
          },
          "geo": {
           "bgcolor": "white",
           "lakecolor": "white",
           "landcolor": "#E5ECF6",
           "showlakes": true,
           "showland": true,
           "subunitcolor": "white"
          },
          "hoverlabel": {
           "align": "left"
          },
          "hovermode": "closest",
          "mapbox": {
           "style": "light"
          },
          "paper_bgcolor": "white",
          "plot_bgcolor": "#E5ECF6",
          "polar": {
           "angularaxis": {
            "gridcolor": "white",
            "linecolor": "white",
            "ticks": ""
           },
           "bgcolor": "#E5ECF6",
           "radialaxis": {
            "gridcolor": "white",
            "linecolor": "white",
            "ticks": ""
           }
          },
          "scene": {
           "xaxis": {
            "backgroundcolor": "#E5ECF6",
            "gridcolor": "white",
            "gridwidth": 2,
            "linecolor": "white",
            "showbackground": true,
            "ticks": "",
            "zerolinecolor": "white"
           },
           "yaxis": {
            "backgroundcolor": "#E5ECF6",
            "gridcolor": "white",
            "gridwidth": 2,
            "linecolor": "white",
            "showbackground": true,
            "ticks": "",
            "zerolinecolor": "white"
           },
           "zaxis": {
            "backgroundcolor": "#E5ECF6",
            "gridcolor": "white",
            "gridwidth": 2,
            "linecolor": "white",
            "showbackground": true,
            "ticks": "",
            "zerolinecolor": "white"
           }
          },
          "shapedefaults": {
           "line": {
            "color": "#2a3f5f"
           }
          },
          "ternary": {
           "aaxis": {
            "gridcolor": "white",
            "linecolor": "white",
            "ticks": ""
           },
           "baxis": {
            "gridcolor": "white",
            "linecolor": "white",
            "ticks": ""
           },
           "bgcolor": "#E5ECF6",
           "caxis": {
            "gridcolor": "white",
            "linecolor": "white",
            "ticks": ""
           }
          },
          "title": {
           "x": 0.05
          },
          "xaxis": {
           "automargin": true,
           "gridcolor": "white",
           "linecolor": "white",
           "ticks": "",
           "title": {
            "standoff": 15
           },
           "zerolinecolor": "white",
           "zerolinewidth": 2
          },
          "yaxis": {
           "automargin": true,
           "gridcolor": "white",
           "linecolor": "white",
           "ticks": "",
           "title": {
            "standoff": 15
           },
           "zerolinecolor": "white",
           "zerolinewidth": 2
          }
         }
        }
       }
      },
      "image/png": "[encoded data removed]"
     },
     "metadata": {},
     "output_type": "display_data"
    },
    {
     "data": {
      "text/html": [
       "\n",
       "    <table>\n",
       "    <thead>\n",
       "    <tr><td>Machine Type</td><td>Count</td><td>Recipe</td><td>Ingredients</td><td>Products</td></tr>\n",
       "    </thead>\n",
       "    <tbody>\n",
       "    <tr><td>Constructor</td><td>9.0</td><td>iron_plate</td><td>iron_ingot: 270.00</td><td>iron_plate: 180.00</td></tr>\n",
       "<tr><td>Assembler</td><td>4.0</td><td>reinforced_iron_plate</td><td>screw: 240.00<br>iron_plate: 120.00</td><td>reinforced_iron_plate: 20.00</td></tr>\n",
       "<tr><td>Extractor</td><td>6.5</td><td>iron_ore</td><td></td><td>iron_ore: 390.00</td></tr>\n",
       "<tr><td>Constructor</td><td>8.0</td><td>iron_rod</td><td>iron_ingot: 120.00</td><td>iron_rod: 120.00</td></tr>\n",
       "<tr><td>Aggregator</td><td>1</td><td>output</td><td>iron_rod: 60.00<br>iron_plate: 60.00<br>reinforced_iron_plate: 20.00</td><td>iron_rod: 60.00<br>iron_plate: 60.00<br>reinforced_iron_plate: 20.00</td></tr>\n",
       "<tr><td>Smelter</td><td>13.0</td><td>iron_ingot</td><td>iron_ore: 390.00</td><td>iron_ingot: 390.00</td></tr>\n",
       "<tr><td>Constructor</td><td>6.0</td><td>screw</td><td>iron_rod: 60.00</td><td>screw: 240.00</td></tr>\n",
       "    </tbody>\n",
       "    </table>"
      ],
      "text/plain": [
       "<IPython.core.display.HTML object>"
      ]
     },
     "metadata": {},
     "output_type": "display_data"
    },
    {
     "name": "stdout",
     "output_type": "stream",
     "text": [
      "Total Power: 269.0\n"
     ]
    },
    {
     "data": {
      "text/plain": [
       "<__main__.Process at 0x1ae33d59df0>"
      ]
     },
     "execution_count": 447,
     "metadata": {},
     "output_type": "execute_result"
    }
   ],
   "source": [
    "# small iron factory\n",
    "target_product = MaterialSpec(iron_rod=60, iron_plate=60, reinforced_iron_plate=20)\n",
    "\n",
    "factory_plan(target_product)"
   ]
  },
  {
   "cell_type": "code",
   "execution_count": 449,
   "id": "179999f0-e114-4994-b6b4-34a618dba542",
   "metadata": {
    "tags": []
   },
   "outputs": [
    {
     "name": "stdout",
     "output_type": "stream",
     "text": [
      "missing: 'BP_ItemDescriptorPortableMiner_C'\n",
      "\n"
     ]
    },
    {
     "data": {
      "application/vnd.plotly.v1+json": {
       "config": {
        "plotlyServerURL": "https://plot.ly"
       },
       "data": [
        {
         "hoverinfo": "none",
         "line": {
          "shape": "spline"
         },
         "marker": {
          "angleref": "previous",
          "color": "black",
          "size": 10,
          "standoff": 10,
          "symbol": "arrow-wide"
         },
         "mode": "lines+markers",
         "showlegend": false,
         "type": "scatter",
         "x": [
          -0.5,
          -1,
          null,
          -0.5,
          0,
          null
         ],
         "y": [
          1,
          2,
          null,
          1,
          2,
          null
         ]
        },
        {
         "hovertemplate": "%{text}<extra></extra>",
         "marker": {
          "color": [
           "#2E91E5",
           "#FB0D0D",
           "#2E91E5",
           "#511CFB"
          ],
          "size": [
           35.231883119115295,
           34.078102881813436,
           27.167195631449246,
           21.455752732056386
          ],
          "symbol": "circle-dot"
         },
         "mode": "markers",
         "showlegend": false,
         "text": [
          "\nConstructor<br>\nRecipe: iron_rod<br>\nScale: 13.7143\n",
          "\nSmelter<br>\nRecipe: iron_ingot<br>\nScale: 12.0\n",
          "\nConstructor<br>\nRecipe: iron_plate<br>\nScale: 5.1429\n",
          "\nAggregator<br>\nRecipe: input<br>\nScale: 1\n"
         ],
         "type": "scatter",
         "x": [
          -1,
          -0.5,
          0,
          0.5
         ],
         "y": [
          2,
          1,
          2,
          1
         ]
        }
       ],
       "layout": {
        "autosize": true,
        "template": {
         "data": {
          "bar": [
           {
            "error_x": {
             "color": "#2a3f5f"
            },
            "error_y": {
             "color": "#2a3f5f"
            },
            "marker": {
             "line": {
              "color": "#E5ECF6",
              "width": 0.5
             },
             "pattern": {
              "fillmode": "overlay",
              "size": 10,
              "solidity": 0.2
             }
            },
            "type": "bar"
           }
          ],
          "barpolar": [
           {
            "marker": {
             "line": {
              "color": "#E5ECF6",
              "width": 0.5
             },
             "pattern": {
              "fillmode": "overlay",
              "size": 10,
              "solidity": 0.2
             }
            },
            "type": "barpolar"
           }
          ],
          "carpet": [
           {
            "aaxis": {
             "endlinecolor": "#2a3f5f",
             "gridcolor": "white",
             "linecolor": "white",
             "minorgridcolor": "white",
             "startlinecolor": "#2a3f5f"
            },
            "baxis": {
             "endlinecolor": "#2a3f5f",
             "gridcolor": "white",
             "linecolor": "white",
             "minorgridcolor": "white",
             "startlinecolor": "#2a3f5f"
            },
            "type": "carpet"
           }
          ],
          "choropleth": [
           {
            "colorbar": {
             "outlinewidth": 0,
             "ticks": ""
            },
            "type": "choropleth"
           }
          ],
          "contour": [
           {
            "colorbar": {
             "outlinewidth": 0,
             "ticks": ""
            },
            "colorscale": [
             [
              0,
              "#0d0887"
             ],
             [
              0.1111111111111111,
              "#46039f"
             ],
             [
              0.2222222222222222,
              "#7201a8"
             ],
             [
              0.3333333333333333,
              "#9c179e"
             ],
             [
              0.4444444444444444,
              "#bd3786"
             ],
             [
              0.5555555555555556,
              "#d8576b"
             ],
             [
              0.6666666666666666,
              "#ed7953"
             ],
             [
              0.7777777777777778,
              "#fb9f3a"
             ],
             [
              0.8888888888888888,
              "#fdca26"
             ],
             [
              1,
              "#f0f921"
             ]
            ],
            "type": "contour"
           }
          ],
          "contourcarpet": [
           {
            "colorbar": {
             "outlinewidth": 0,
             "ticks": ""
            },
            "type": "contourcarpet"
           }
          ],
          "heatmap": [
           {
            "colorbar": {
             "outlinewidth": 0,
             "ticks": ""
            },
            "colorscale": [
             [
              0,
              "#0d0887"
             ],
             [
              0.1111111111111111,
              "#46039f"
             ],
             [
              0.2222222222222222,
              "#7201a8"
             ],
             [
              0.3333333333333333,
              "#9c179e"
             ],
             [
              0.4444444444444444,
              "#bd3786"
             ],
             [
              0.5555555555555556,
              "#d8576b"
             ],
             [
              0.6666666666666666,
              "#ed7953"
             ],
             [
              0.7777777777777778,
              "#fb9f3a"
             ],
             [
              0.8888888888888888,
              "#fdca26"
             ],
             [
              1,
              "#f0f921"
             ]
            ],
            "type": "heatmap"
           }
          ],
          "heatmapgl": [
           {
            "colorbar": {
             "outlinewidth": 0,
             "ticks": ""
            },
            "colorscale": [
             [
              0,
              "#0d0887"
             ],
             [
              0.1111111111111111,
              "#46039f"
             ],
             [
              0.2222222222222222,
              "#7201a8"
             ],
             [
              0.3333333333333333,
              "#9c179e"
             ],
             [
              0.4444444444444444,
              "#bd3786"
             ],
             [
              0.5555555555555556,
              "#d8576b"
             ],
             [
              0.6666666666666666,
              "#ed7953"
             ],
             [
              0.7777777777777778,
              "#fb9f3a"
             ],
             [
              0.8888888888888888,
              "#fdca26"
             ],
             [
              1,
              "#f0f921"
             ]
            ],
            "type": "heatmapgl"
           }
          ],
          "histogram": [
           {
            "marker": {
             "pattern": {
              "fillmode": "overlay",
              "size": 10,
              "solidity": 0.2
             }
            },
            "type": "histogram"
           }
          ],
          "histogram2d": [
           {
            "colorbar": {
             "outlinewidth": 0,
             "ticks": ""
            },
            "colorscale": [
             [
              0,
              "#0d0887"
             ],
             [
              0.1111111111111111,
              "#46039f"
             ],
             [
              0.2222222222222222,
              "#7201a8"
             ],
             [
              0.3333333333333333,
              "#9c179e"
             ],
             [
              0.4444444444444444,
              "#bd3786"
             ],
             [
              0.5555555555555556,
              "#d8576b"
             ],
             [
              0.6666666666666666,
              "#ed7953"
             ],
             [
              0.7777777777777778,
              "#fb9f3a"
             ],
             [
              0.8888888888888888,
              "#fdca26"
             ],
             [
              1,
              "#f0f921"
             ]
            ],
            "type": "histogram2d"
           }
          ],
          "histogram2dcontour": [
           {
            "colorbar": {
             "outlinewidth": 0,
             "ticks": ""
            },
            "colorscale": [
             [
              0,
              "#0d0887"
             ],
             [
              0.1111111111111111,
              "#46039f"
             ],
             [
              0.2222222222222222,
              "#7201a8"
             ],
             [
              0.3333333333333333,
              "#9c179e"
             ],
             [
              0.4444444444444444,
              "#bd3786"
             ],
             [
              0.5555555555555556,
              "#d8576b"
             ],
             [
              0.6666666666666666,
              "#ed7953"
             ],
             [
              0.7777777777777778,
              "#fb9f3a"
             ],
             [
              0.8888888888888888,
              "#fdca26"
             ],
             [
              1,
              "#f0f921"
             ]
            ],
            "type": "histogram2dcontour"
           }
          ],
          "mesh3d": [
           {
            "colorbar": {
             "outlinewidth": 0,
             "ticks": ""
            },
            "type": "mesh3d"
           }
          ],
          "parcoords": [
           {
            "line": {
             "colorbar": {
              "outlinewidth": 0,
              "ticks": ""
             }
            },
            "type": "parcoords"
           }
          ],
          "pie": [
           {
            "automargin": true,
            "type": "pie"
           }
          ],
          "scatter": [
           {
            "fillpattern": {
             "fillmode": "overlay",
             "size": 10,
             "solidity": 0.2
            },
            "type": "scatter"
           }
          ],
          "scatter3d": [
           {
            "line": {
             "colorbar": {
              "outlinewidth": 0,
              "ticks": ""
             }
            },
            "marker": {
             "colorbar": {
              "outlinewidth": 0,
              "ticks": ""
             }
            },
            "type": "scatter3d"
           }
          ],
          "scattercarpet": [
           {
            "marker": {
             "colorbar": {
              "outlinewidth": 0,
              "ticks": ""
             }
            },
            "type": "scattercarpet"
           }
          ],
          "scattergeo": [
           {
            "marker": {
             "colorbar": {
              "outlinewidth": 0,
              "ticks": ""
             }
            },
            "type": "scattergeo"
           }
          ],
          "scattergl": [
           {
            "marker": {
             "colorbar": {
              "outlinewidth": 0,
              "ticks": ""
             }
            },
            "type": "scattergl"
           }
          ],
          "scattermapbox": [
           {
            "marker": {
             "colorbar": {
              "outlinewidth": 0,
              "ticks": ""
             }
            },
            "type": "scattermapbox"
           }
          ],
          "scatterpolar": [
           {
            "marker": {
             "colorbar": {
              "outlinewidth": 0,
              "ticks": ""
             }
            },
            "type": "scatterpolar"
           }
          ],
          "scatterpolargl": [
           {
            "marker": {
             "colorbar": {
              "outlinewidth": 0,
              "ticks": ""
             }
            },
            "type": "scatterpolargl"
           }
          ],
          "scatterternary": [
           {
            "marker": {
             "colorbar": {
              "outlinewidth": 0,
              "ticks": ""
             }
            },
            "type": "scatterternary"
           }
          ],
          "surface": [
           {
            "colorbar": {
             "outlinewidth": 0,
             "ticks": ""
            },
            "colorscale": [
             [
              0,
              "#0d0887"
             ],
             [
              0.1111111111111111,
              "#46039f"
             ],
             [
              0.2222222222222222,
              "#7201a8"
             ],
             [
              0.3333333333333333,
              "#9c179e"
             ],
             [
              0.4444444444444444,
              "#bd3786"
             ],
             [
              0.5555555555555556,
              "#d8576b"
             ],
             [
              0.6666666666666666,
              "#ed7953"
             ],
             [
              0.7777777777777778,
              "#fb9f3a"
             ],
             [
              0.8888888888888888,
              "#fdca26"
             ],
             [
              1,
              "#f0f921"
             ]
            ],
            "type": "surface"
           }
          ],
          "table": [
           {
            "cells": {
             "fill": {
              "color": "#EBF0F8"
             },
             "line": {
              "color": "white"
             }
            },
            "header": {
             "fill": {
              "color": "#C8D4E3"
             },
             "line": {
              "color": "white"
             }
            },
            "type": "table"
           }
          ]
         },
         "layout": {
          "annotationdefaults": {
           "arrowcolor": "#2a3f5f",
           "arrowhead": 0,
           "arrowwidth": 1
          },
          "autotypenumbers": "strict",
          "coloraxis": {
           "colorbar": {
            "outlinewidth": 0,
            "ticks": ""
           }
          },
          "colorscale": {
           "diverging": [
            [
             0,
             "#8e0152"
            ],
            [
             0.1,
             "#c51b7d"
            ],
            [
             0.2,
             "#de77ae"
            ],
            [
             0.3,
             "#f1b6da"
            ],
            [
             0.4,
             "#fde0ef"
            ],
            [
             0.5,
             "#f7f7f7"
            ],
            [
             0.6,
             "#e6f5d0"
            ],
            [
             0.7,
             "#b8e186"
            ],
            [
             0.8,
             "#7fbc41"
            ],
            [
             0.9,
             "#4d9221"
            ],
            [
             1,
             "#276419"
            ]
           ],
           "sequential": [
            [
             0,
             "#0d0887"
            ],
            [
             0.1111111111111111,
             "#46039f"
            ],
            [
             0.2222222222222222,
             "#7201a8"
            ],
            [
             0.3333333333333333,
             "#9c179e"
            ],
            [
             0.4444444444444444,
             "#bd3786"
            ],
            [
             0.5555555555555556,
             "#d8576b"
            ],
            [
             0.6666666666666666,
             "#ed7953"
            ],
            [
             0.7777777777777778,
             "#fb9f3a"
            ],
            [
             0.8888888888888888,
             "#fdca26"
            ],
            [
             1,
             "#f0f921"
            ]
           ],
           "sequentialminus": [
            [
             0,
             "#0d0887"
            ],
            [
             0.1111111111111111,
             "#46039f"
            ],
            [
             0.2222222222222222,
             "#7201a8"
            ],
            [
             0.3333333333333333,
             "#9c179e"
            ],
            [
             0.4444444444444444,
             "#bd3786"
            ],
            [
             0.5555555555555556,
             "#d8576b"
            ],
            [
             0.6666666666666666,
             "#ed7953"
            ],
            [
             0.7777777777777778,
             "#fb9f3a"
            ],
            [
             0.8888888888888888,
             "#fdca26"
            ],
            [
             1,
             "#f0f921"
            ]
           ]
          },
          "colorway": [
           "#636efa",
           "#EF553B",
           "#00cc96",
           "#ab63fa",
           "#FFA15A",
           "#19d3f3",
           "#FF6692",
           "#B6E880",
           "#FF97FF",
           "#FECB52"
          ],
          "font": {
           "color": "#2a3f5f"
          },
          "geo": {
           "bgcolor": "white",
           "lakecolor": "white",
           "landcolor": "#E5ECF6",
           "showlakes": true,
           "showland": true,
           "subunitcolor": "white"
          },
          "hoverlabel": {
           "align": "left"
          },
          "hovermode": "closest",
          "mapbox": {
           "style": "light"
          },
          "paper_bgcolor": "white",
          "plot_bgcolor": "#E5ECF6",
          "polar": {
           "angularaxis": {
            "gridcolor": "white",
            "linecolor": "white",
            "ticks": ""
           },
           "bgcolor": "#E5ECF6",
           "radialaxis": {
            "gridcolor": "white",
            "linecolor": "white",
            "ticks": ""
           }
          },
          "scene": {
           "xaxis": {
            "backgroundcolor": "#E5ECF6",
            "gridcolor": "white",
            "gridwidth": 2,
            "linecolor": "white",
            "showbackground": true,
            "ticks": "",
            "zerolinecolor": "white"
           },
           "yaxis": {
            "backgroundcolor": "#E5ECF6",
            "gridcolor": "white",
            "gridwidth": 2,
            "linecolor": "white",
            "showbackground": true,
            "ticks": "",
            "zerolinecolor": "white"
           },
           "zaxis": {
            "backgroundcolor": "#E5ECF6",
            "gridcolor": "white",
            "gridwidth": 2,
            "linecolor": "white",
            "showbackground": true,
            "ticks": "",
            "zerolinecolor": "white"
           }
          },
          "shapedefaults": {
           "line": {
            "color": "#2a3f5f"
           }
          },
          "ternary": {
           "aaxis": {
            "gridcolor": "white",
            "linecolor": "white",
            "ticks": ""
           },
           "baxis": {
            "gridcolor": "white",
            "linecolor": "white",
            "ticks": ""
           },
           "bgcolor": "#E5ECF6",
           "caxis": {
            "gridcolor": "white",
            "linecolor": "white",
            "ticks": ""
           }
          },
          "title": {
           "x": 0.05
          },
          "xaxis": {
           "automargin": true,
           "gridcolor": "white",
           "linecolor": "white",
           "ticks": "",
           "title": {
            "standoff": 15
           },
           "zerolinecolor": "white",
           "zerolinewidth": 2
          },
          "yaxis": {
           "automargin": true,
           "gridcolor": "white",
           "linecolor": "white",
           "ticks": "",
           "title": {
            "standoff": 15
           },
           "zerolinecolor": "white",
           "zerolinewidth": 2
          }
         }
        },
        "xaxis": {
         "autorange": true,
         "range": [
          -1.1018116990723108,
          0.5951792748433266
         ],
         "showgrid": false,
         "type": "linear",
         "visible": false,
         "zeroline": false
        },
        "yaxis": {
         "autorange": true,
         "range": [
          0.9103202893176,
          2.0907177589084482
         ],
         "showgrid": false,
         "type": "linear",
         "visible": false,
         "zeroline": false
        }
       }
      },
      "image/png": "[encoded data removed]"
     },
     "metadata": {},
     "output_type": "display_data"
    },
    {
     "data": {
      "application/vnd.plotly.v1+json": {
       "config": {
        "plotlyServerURL": "https://plot.ly"
       },
       "data": [
        {
         "link": {
          "label": [
           "iron_ingot",
           "iron_ingot"
          ],
          "source": [
           1,
           1
          ],
          "target": [
           0,
           2
          ],
          "value": [
           205.7145,
           154.287
          ]
         },
         "node": {
          "label": [
           "Constructor: iron_rod",
           "Smelter: iron_ingot",
           "Constructor: iron_plate",
           "Aggregator: input"
          ]
         },
         "type": "sankey"
        }
       ],
       "layout": {
        "autosize": true,
        "template": {
         "data": {
          "bar": [
           {
            "error_x": {
             "color": "#2a3f5f"
            },
            "error_y": {
             "color": "#2a3f5f"
            },
            "marker": {
             "line": {
              "color": "#E5ECF6",
              "width": 0.5
             },
             "pattern": {
              "fillmode": "overlay",
              "size": 10,
              "solidity": 0.2
             }
            },
            "type": "bar"
           }
          ],
          "barpolar": [
           {
            "marker": {
             "line": {
              "color": "#E5ECF6",
              "width": 0.5
             },
             "pattern": {
              "fillmode": "overlay",
              "size": 10,
              "solidity": 0.2
             }
            },
            "type": "barpolar"
           }
          ],
          "carpet": [
           {
            "aaxis": {
             "endlinecolor": "#2a3f5f",
             "gridcolor": "white",
             "linecolor": "white",
             "minorgridcolor": "white",
             "startlinecolor": "#2a3f5f"
            },
            "baxis": {
             "endlinecolor": "#2a3f5f",
             "gridcolor": "white",
             "linecolor": "white",
             "minorgridcolor": "white",
             "startlinecolor": "#2a3f5f"
            },
            "type": "carpet"
           }
          ],
          "choropleth": [
           {
            "colorbar": {
             "outlinewidth": 0,
             "ticks": ""
            },
            "type": "choropleth"
           }
          ],
          "contour": [
           {
            "colorbar": {
             "outlinewidth": 0,
             "ticks": ""
            },
            "colorscale": [
             [
              0,
              "#0d0887"
             ],
             [
              0.1111111111111111,
              "#46039f"
             ],
             [
              0.2222222222222222,
              "#7201a8"
             ],
             [
              0.3333333333333333,
              "#9c179e"
             ],
             [
              0.4444444444444444,
              "#bd3786"
             ],
             [
              0.5555555555555556,
              "#d8576b"
             ],
             [
              0.6666666666666666,
              "#ed7953"
             ],
             [
              0.7777777777777778,
              "#fb9f3a"
             ],
             [
              0.8888888888888888,
              "#fdca26"
             ],
             [
              1,
              "#f0f921"
             ]
            ],
            "type": "contour"
           }
          ],
          "contourcarpet": [
           {
            "colorbar": {
             "outlinewidth": 0,
             "ticks": ""
            },
            "type": "contourcarpet"
           }
          ],
          "heatmap": [
           {
            "colorbar": {
             "outlinewidth": 0,
             "ticks": ""
            },
            "colorscale": [
             [
              0,
              "#0d0887"
             ],
             [
              0.1111111111111111,
              "#46039f"
             ],
             [
              0.2222222222222222,
              "#7201a8"
             ],
             [
              0.3333333333333333,
              "#9c179e"
             ],
             [
              0.4444444444444444,
              "#bd3786"
             ],
             [
              0.5555555555555556,
              "#d8576b"
             ],
             [
              0.6666666666666666,
              "#ed7953"
             ],
             [
              0.7777777777777778,
              "#fb9f3a"
             ],
             [
              0.8888888888888888,
              "#fdca26"
             ],
             [
              1,
              "#f0f921"
             ]
            ],
            "type": "heatmap"
           }
          ],
          "heatmapgl": [
           {
            "colorbar": {
             "outlinewidth": 0,
             "ticks": ""
            },
            "colorscale": [
             [
              0,
              "#0d0887"
             ],
             [
              0.1111111111111111,
              "#46039f"
             ],
             [
              0.2222222222222222,
              "#7201a8"
             ],
             [
              0.3333333333333333,
              "#9c179e"
             ],
             [
              0.4444444444444444,
              "#bd3786"
             ],
             [
              0.5555555555555556,
              "#d8576b"
             ],
             [
              0.6666666666666666,
              "#ed7953"
             ],
             [
              0.7777777777777778,
              "#fb9f3a"
             ],
             [
              0.8888888888888888,
              "#fdca26"
             ],
             [
              1,
              "#f0f921"
             ]
            ],
            "type": "heatmapgl"
           }
          ],
          "histogram": [
           {
            "marker": {
             "pattern": {
              "fillmode": "overlay",
              "size": 10,
              "solidity": 0.2
             }
            },
            "type": "histogram"
           }
          ],
          "histogram2d": [
           {
            "colorbar": {
             "outlinewidth": 0,
             "ticks": ""
            },
            "colorscale": [
             [
              0,
              "#0d0887"
             ],
             [
              0.1111111111111111,
              "#46039f"
             ],
             [
              0.2222222222222222,
              "#7201a8"
             ],
             [
              0.3333333333333333,
              "#9c179e"
             ],
             [
              0.4444444444444444,
              "#bd3786"
             ],
             [
              0.5555555555555556,
              "#d8576b"
             ],
             [
              0.6666666666666666,
              "#ed7953"
             ],
             [
              0.7777777777777778,
              "#fb9f3a"
             ],
             [
              0.8888888888888888,
              "#fdca26"
             ],
             [
              1,
              "#f0f921"
             ]
            ],
            "type": "histogram2d"
           }
          ],
          "histogram2dcontour": [
           {
            "colorbar": {
             "outlinewidth": 0,
             "ticks": ""
            },
            "colorscale": [
             [
              0,
              "#0d0887"
             ],
             [
              0.1111111111111111,
              "#46039f"
             ],
             [
              0.2222222222222222,
              "#7201a8"
             ],
             [
              0.3333333333333333,
              "#9c179e"
             ],
             [
              0.4444444444444444,
              "#bd3786"
             ],
             [
              0.5555555555555556,
              "#d8576b"
             ],
             [
              0.6666666666666666,
              "#ed7953"
             ],
             [
              0.7777777777777778,
              "#fb9f3a"
             ],
             [
              0.8888888888888888,
              "#fdca26"
             ],
             [
              1,
              "#f0f921"
             ]
            ],
            "type": "histogram2dcontour"
           }
          ],
          "mesh3d": [
           {
            "colorbar": {
             "outlinewidth": 0,
             "ticks": ""
            },
            "type": "mesh3d"
           }
          ],
          "parcoords": [
           {
            "line": {
             "colorbar": {
              "outlinewidth": 0,
              "ticks": ""
             }
            },
            "type": "parcoords"
           }
          ],
          "pie": [
           {
            "automargin": true,
            "type": "pie"
           }
          ],
          "scatter": [
           {
            "fillpattern": {
             "fillmode": "overlay",
             "size": 10,
             "solidity": 0.2
            },
            "type": "scatter"
           }
          ],
          "scatter3d": [
           {
            "line": {
             "colorbar": {
              "outlinewidth": 0,
              "ticks": ""
             }
            },
            "marker": {
             "colorbar": {
              "outlinewidth": 0,
              "ticks": ""
             }
            },
            "type": "scatter3d"
           }
          ],
          "scattercarpet": [
           {
            "marker": {
             "colorbar": {
              "outlinewidth": 0,
              "ticks": ""
             }
            },
            "type": "scattercarpet"
           }
          ],
          "scattergeo": [
           {
            "marker": {
             "colorbar": {
              "outlinewidth": 0,
              "ticks": ""
             }
            },
            "type": "scattergeo"
           }
          ],
          "scattergl": [
           {
            "marker": {
             "colorbar": {
              "outlinewidth": 0,
              "ticks": ""
             }
            },
            "type": "scattergl"
           }
          ],
          "scattermapbox": [
           {
            "marker": {
             "colorbar": {
              "outlinewidth": 0,
              "ticks": ""
             }
            },
            "type": "scattermapbox"
           }
          ],
          "scatterpolar": [
           {
            "marker": {
             "colorbar": {
              "outlinewidth": 0,
              "ticks": ""
             }
            },
            "type": "scatterpolar"
           }
          ],
          "scatterpolargl": [
           {
            "marker": {
             "colorbar": {
              "outlinewidth": 0,
              "ticks": ""
             }
            },
            "type": "scatterpolargl"
           }
          ],
          "scatterternary": [
           {
            "marker": {
             "colorbar": {
              "outlinewidth": 0,
              "ticks": ""
             }
            },
            "type": "scatterternary"
           }
          ],
          "surface": [
           {
            "colorbar": {
             "outlinewidth": 0,
             "ticks": ""
            },
            "colorscale": [
             [
              0,
              "#0d0887"
             ],
             [
              0.1111111111111111,
              "#46039f"
             ],
             [
              0.2222222222222222,
              "#7201a8"
             ],
             [
              0.3333333333333333,
              "#9c179e"
             ],
             [
              0.4444444444444444,
              "#bd3786"
             ],
             [
              0.5555555555555556,
              "#d8576b"
             ],
             [
              0.6666666666666666,
              "#ed7953"
             ],
             [
              0.7777777777777778,
              "#fb9f3a"
             ],
             [
              0.8888888888888888,
              "#fdca26"
             ],
             [
              1,
              "#f0f921"
             ]
            ],
            "type": "surface"
           }
          ],
          "table": [
           {
            "cells": {
             "fill": {
              "color": "#EBF0F8"
             },
             "line": {
              "color": "white"
             }
            },
            "header": {
             "fill": {
              "color": "#C8D4E3"
             },
             "line": {
              "color": "white"
             }
            },
            "type": "table"
           }
          ]
         },
         "layout": {
          "annotationdefaults": {
           "arrowcolor": "#2a3f5f",
           "arrowhead": 0,
           "arrowwidth": 1
          },
          "autotypenumbers": "strict",
          "coloraxis": {
           "colorbar": {
            "outlinewidth": 0,
            "ticks": ""
           }
          },
          "colorscale": {
           "diverging": [
            [
             0,
             "#8e0152"
            ],
            [
             0.1,
             "#c51b7d"
            ],
            [
             0.2,
             "#de77ae"
            ],
            [
             0.3,
             "#f1b6da"
            ],
            [
             0.4,
             "#fde0ef"
            ],
            [
             0.5,
             "#f7f7f7"
            ],
            [
             0.6,
             "#e6f5d0"
            ],
            [
             0.7,
             "#b8e186"
            ],
            [
             0.8,
             "#7fbc41"
            ],
            [
             0.9,
             "#4d9221"
            ],
            [
             1,
             "#276419"
            ]
           ],
           "sequential": [
            [
             0,
             "#0d0887"
            ],
            [
             0.1111111111111111,
             "#46039f"
            ],
            [
             0.2222222222222222,
             "#7201a8"
            ],
            [
             0.3333333333333333,
             "#9c179e"
            ],
            [
             0.4444444444444444,
             "#bd3786"
            ],
            [
             0.5555555555555556,
             "#d8576b"
            ],
            [
             0.6666666666666666,
             "#ed7953"
            ],
            [
             0.7777777777777778,
             "#fb9f3a"
            ],
            [
             0.8888888888888888,
             "#fdca26"
            ],
            [
             1,
             "#f0f921"
            ]
           ],
           "sequentialminus": [
            [
             0,
             "#0d0887"
            ],
            [
             0.1111111111111111,
             "#46039f"
            ],
            [
             0.2222222222222222,
             "#7201a8"
            ],
            [
             0.3333333333333333,
             "#9c179e"
            ],
            [
             0.4444444444444444,
             "#bd3786"
            ],
            [
             0.5555555555555556,
             "#d8576b"
            ],
            [
             0.6666666666666666,
             "#ed7953"
            ],
            [
             0.7777777777777778,
             "#fb9f3a"
            ],
            [
             0.8888888888888888,
             "#fdca26"
            ],
            [
             1,
             "#f0f921"
            ]
           ]
          },
          "colorway": [
           "#636efa",
           "#EF553B",
           "#00cc96",
           "#ab63fa",
           "#FFA15A",
           "#19d3f3",
           "#FF6692",
           "#B6E880",
           "#FF97FF",
           "#FECB52"
          ],
          "font": {
           "color": "#2a3f5f"
          },
          "geo": {
           "bgcolor": "white",
           "lakecolor": "white",
           "landcolor": "#E5ECF6",
           "showlakes": true,
           "showland": true,
           "subunitcolor": "white"
          },
          "hoverlabel": {
           "align": "left"
          },
          "hovermode": "closest",
          "mapbox": {
           "style": "light"
          },
          "paper_bgcolor": "white",
          "plot_bgcolor": "#E5ECF6",
          "polar": {
           "angularaxis": {
            "gridcolor": "white",
            "linecolor": "white",
            "ticks": ""
           },
           "bgcolor": "#E5ECF6",
           "radialaxis": {
            "gridcolor": "white",
            "linecolor": "white",
            "ticks": ""
           }
          },
          "scene": {
           "xaxis": {
            "backgroundcolor": "#E5ECF6",
            "gridcolor": "white",
            "gridwidth": 2,
            "linecolor": "white",
            "showbackground": true,
            "ticks": "",
            "zerolinecolor": "white"
           },
           "yaxis": {
            "backgroundcolor": "#E5ECF6",
            "gridcolor": "white",
            "gridwidth": 2,
            "linecolor": "white",
            "showbackground": true,
            "ticks": "",
            "zerolinecolor": "white"
           },
           "zaxis": {
            "backgroundcolor": "#E5ECF6",
            "gridcolor": "white",
            "gridwidth": 2,
            "linecolor": "white",
            "showbackground": true,
            "ticks": "",
            "zerolinecolor": "white"
           }
          },
          "shapedefaults": {
           "line": {
            "color": "#2a3f5f"
           }
          },
          "ternary": {
           "aaxis": {
            "gridcolor": "white",
            "linecolor": "white",
            "ticks": ""
           },
           "baxis": {
            "gridcolor": "white",
            "linecolor": "white",
            "ticks": ""
           },
           "bgcolor": "#E5ECF6",
           "caxis": {
            "gridcolor": "white",
            "linecolor": "white",
            "ticks": ""
           }
          },
          "title": {
           "x": 0.05
          },
          "xaxis": {
           "automargin": true,
           "gridcolor": "white",
           "linecolor": "white",
           "ticks": "",
           "title": {
            "standoff": 15
           },
           "zerolinecolor": "white",
           "zerolinewidth": 2
          },
          "yaxis": {
           "automargin": true,
           "gridcolor": "white",
           "linecolor": "white",
           "ticks": "",
           "title": {
            "standoff": 15
           },
           "zerolinecolor": "white",
           "zerolinewidth": 2
          }
         }
        }
       }
      },
      "image/png": "[encoded data removed]"
     },
     "metadata": {},
     "output_type": "display_data"
    },
    {
     "data": {
      "text/html": [
       "\n",
       "    <table>\n",
       "    <thead>\n",
       "    <tr><td>Machine Type</td><td>Count</td><td>Recipe</td><td>Ingredients</td><td>Products</td></tr>\n",
       "    </thead>\n",
       "    <tbody>\n",
       "    <tr><td>Constructor</td><td>13.7143</td><td>iron_rod</td><td>iron_ingot: 205.71</td><td>iron_rod: 205.71</td></tr>\n",
       "<tr><td>Smelter</td><td>12.0</td><td>iron_ingot</td><td>iron_ore: 360.00</td><td>iron_ingot: 360.00</td></tr>\n",
       "<tr><td>Constructor</td><td>5.1429</td><td>iron_plate</td><td>iron_ingot: 154.29</td><td>iron_plate: 102.86</td></tr>\n",
       "<tr><td>Aggregator</td><td>1</td><td>input</td><td>iron_ore: 360.00</td><td>iron_ore: 360.00</td></tr>\n",
       "    </tbody>\n",
       "    </table>"
      ],
      "text/plain": [
       "<IPython.core.display.HTML object>"
      ]
     },
     "metadata": {},
     "output_type": "display_data"
    }
   ],
   "source": [
    "available_machines = make_recipes(BASE_CONFIG, machine_mapping)\n",
    "available_machines = [*available_machines.core]\n",
    "Machine.autobind(available_machines)\n",
    "\n",
    "target_product = MaterialSpec(iron_plate=1, iron_rod=2)\n",
    "target_available = MaterialSpec(iron_ore=360)\n",
    "solution = Process.from_inputs(target_available,\n",
    "                               target_product,\n",
    "                               available_machines)\n",
    "\n",
    "plot_process(solution, Graph.layout_reingold_tilford)\n",
    "plot_sankey(solution)\n",
    "display(HTML(recipe_summary(solution)))"
   ]
  },
  {
   "cell_type": "code",
   "execution_count": 450,
   "id": "a2e4bd07-617b-494f-8456-bcbe02b966a5",
   "metadata": {},
   "outputs": [],
   "source": [
    "# small steel factory"
   ]
  },
  {
   "cell_type": "code",
   "execution_count": 451,
   "id": "033c0c55-604c-41c3-9309-721c2facc47c",
   "metadata": {},
   "outputs": [],
   "source": [
    "# big steel factory"
   ]
  },
  {
   "cell_type": "code",
   "execution_count": null,
   "id": "c050adf2-9bf8-4ce9-b1f6-3a458cb837f0",
   "metadata": {},
   "outputs": [],
   "source": []
  }
 ],
 "metadata": {
  "kernelspec": {
   "display_name": "Python 3 (ipykernel)",
   "language": "python",
   "name": "python3"
  },
  "language_info": {
   "codemirror_mode": {
    "name": "ipython",
    "version": 3
   },
   "file_extension": ".py",
   "mimetype": "text/x-python",
   "name": "python",
   "nbconvert_exporter": "python",
   "pygments_lexer": "ipython3",
   "version": "3.9.13"
  }
 },
 "nbformat": 4,
 "nbformat_minor": 5
}
