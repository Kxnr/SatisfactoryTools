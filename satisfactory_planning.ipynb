{
 "cells": [
  {
   "cell_type": "code",
   "execution_count": 1,
   "id": "89117efb-12c3-4039-95ee-ebf4a532631e",
   "metadata": {},
   "outputs": [],
   "source": [
    "import json\n",
    "import plotly\n",
    "from ipywidgets import interact, interactive, fixed, interact_manual\n",
    "from pprint import pprint\n",
    "import plotly.io as pio\n",
    "pio.renderers.default = \"jupyterlab\"\n",
    " \n",
    "def simplify_config(game_config: dict) -> dict:\n",
    "    simple_config = {}\n",
    "    for config in game_config:\n",
    "        simple_config[config[\"NativeClass\"]] = {item[\"ClassName\"]: item for item in config[\"Classes\"]}\n",
    "    return simple_config\n",
    "\n",
    "CONFIG_LOCATION = \"/home/kxnr/snap/steam/common/.local/share/Steam/steamapps/common/Satisfactory/CommunityResources/Docs/Docs.json\"\n",
    "with open(CONFIG_LOCATION, \"r\", encoding=\"utf-16\") as f:\n",
    "    data = f.read()\n",
    "    BASE_CONFIG = simplify_config(json.loads(data))\n",
    "    \n",
    "def standardize(value: str):\n",
    "    return \"_\".join(value.replace(\"-\", \"_\").replace(\":\", \"\").split()).lower()\n",
    "\n",
    "# missing miner, rebar spreadshot\n",
    "RESOURCE_KEYS = (\"Class'/Script/FactoryGame.FGItemDescriptor'\", \n",
    "                 \"Class'/Script/FactoryGame.FGResourceDescriptor'\",\n",
    "                 \"Class'/Script/FactoryGame.FGConsumableDescriptor'\",\n",
    "                 \"Class'/Script/FactoryGame.FGItemDescriptorBiomass'\",\n",
    "                 \"Class'/Script/FactoryGame.FGAmmoTypeProjectile'\",\n",
    "                 \"Class'/Script/FactoryGame.FGItemDescriptorNuclearFuel'\",\n",
    "                 \"Class'/Script/FactoryGame.FGAmmoTypeInstantHit'\",\n",
    "                 \"Class'/Script/FactoryGame.FGAmmoTypeSpreadshot'\")\n",
    "\n",
    "EXTRACTOR_KEYS = (\n",
    "    \"Class'/Script/FactoryGame.FGBuildableResourceExtractor'\", \n",
    "    \"Class'/Script/FactoryGame.FGBuildableFrackingExtractor'\"\n",
    ")\n",
    "\n",
    "GENERATOR_KEYS = (\n",
    "     \"Class'/Script/FactoryGame.FGBuildableGeneratorFuel'\",\n",
    "     \"Class'/Script/FactoryGame.FGBuildableGeneratorGeoThermal'\",\n",
    "     \"Class'/Script/FactoryGame.FGBuildableGeneratorNuclear'\",\n",
    ")\n",
    "\n",
    "# equipment descriptors contain the recipe for automated portable miners"
   ]
  },
  {
   "cell_type": "code",
   "execution_count": 5,
   "outputs": [
    {
     "data": {
      "text/plain": "[\"Class'/Script/FactoryGame.FGItemDescriptor'\",\n \"Class'/Script/FactoryGame.FGBuildableDroneStation'\",\n \"Class'/Script/FactoryGame.FGConsumableEquipment'\",\n \"Class'/Script/FactoryGame.FGSchematic'\",\n \"Class'/Script/FactoryGame.FGConsumableDescriptor'\",\n \"Class'/Script/FactoryGame.FGItemDescriptorBiomass'\",\n \"Class'/Script/FactoryGame.FGResourceDescriptor'\",\n \"Class'/Script/FactoryGame.FGBuildableWallLightweight'\",\n \"Class'/Script/FactoryGame.FGBuildableWall'\",\n \"Class'/Script/FactoryGame.FGBuildableDoor'\",\n \"Class'/Script/FactoryGame.FGRecipe'\",\n \"Class'/Script/FactoryGame.FGCustomizationRecipe'\",\n \"Class'/Script/FactoryGame.FGBuildingDescriptor'\",\n \"Class'/Script/FactoryGame.FGBuildableCornerWall'\",\n \"Class'/Script/FactoryGame.FGBuildableRailroadTrack'\",\n \"Class'/Script/FactoryGame.FGBuildableBlueprintDesigner'\",\n \"Class'/Script/FactoryGame.FGBuildableFrackingExtractor'\",\n \"Class'/Script/FactoryGame.FGBuildableFrackingActivator'\",\n \"Class'/Script/FactoryGame.FGBuildableGeneratorGeoThermal'\",\n \"Class'/Script/FactoryGame.FGBuildableResourceExtractor'\",\n \"Class'/Script/FactoryGame.FGBuildableSpaceElevator'\",\n \"Class'/Script/FactoryGame.FGBuildableTradingPost'\",\n \"Class'/Script/FactoryGame.FGBuildable'\",\n \"Class'/Script/FactoryGame.FGBuildablePoleLightweight'\",\n \"Class'/Script/FactoryGame.FGPoleDescriptor'\",\n \"Class'/Script/FactoryGame.FGBuildableConveyorBelt'\",\n \"Class'/Script/FactoryGame.FGBuildableWire'\",\n \"Class'/Script/FactoryGame.FGBuildablePowerPole'\",\n \"Class'/Script/FactoryGame.FGChainsaw'\",\n \"Class'/Script/FactoryGame.FGEquipmentDescriptor'\",\n \"Class'/Script/FactoryGame.FGItemDescriptorNuclearFuel'\",\n \"Class'/Script/FactoryGame.FGGolfCartDispenser'\",\n \"Class'/Script/FactoryGame.FGSuitBase'\",\n \"Class'/Script/FactoryGame.FGJetPack'\",\n \"Class'/Script/FactoryGame.FGJumpingStilts'\",\n \"Class'/Script/FactoryGame.FGAmmoTypeProjectile'\",\n \"Class'/Script/FactoryGame.FGAmmoTypeSpreadshot'\",\n \"Class'/Script/FactoryGame.FGWeapon'\",\n \"Class'/Script/FactoryGame.FGAmmoTypeInstantHit'\",\n \"Class'/Script/FactoryGame.FGEquipmentStunSpear'\",\n \"Class'/Script/FactoryGame.FGChargedWeapon'\",\n \"Class'/Script/FactoryGame.FGGasMask'\",\n \"Class'/Script/FactoryGame.FGBuildableWaterPump'\",\n \"Class'/Script/FactoryGame.FGBuildableManufacturer'\",\n \"Class'/Script/FactoryGame.FGPortableMinerDispenser'\",\n \"Class'/Script/FactoryGame.FGBuildableStorage'\",\n \"Class'/Script/FactoryGame.FGBuildableGeneratorFuel'\",\n \"Class'/Script/FactoryGame.FGBuildableMAM'\",\n \"Class'/Script/FactoryGame.FGObjectScanner'\",\n \"Class'/Script/FactoryGame.FGBuildableBeamLightweight'\",\n \"Class'/Script/FactoryGame.FGBuildablePillarLightweight'\",\n \"Class'/Script/FactoryGame.FGBuildableFactory'\",\n \"Class'/Script/FactoryGame.FGBuildableWalkwayLightweight'\",\n \"Class'/Script/FactoryGame.FGBuildableWalkway'\",\n \"Class'/Script/FactoryGame.FGBuildablePipelinePump'\",\n \"Class'/Script/FactoryGame.FGBuildablePipelineSupport'\",\n \"Class'/Script/FactoryGame.FGBuildablePipeline'\",\n \"Class'/Script/FactoryGame.FGBuildablePipelineJunction'\",\n \"Class'/Script/FactoryGame.FGBuildablePipeReservoir'\",\n \"Class'/Script/FactoryGame.FGBuildableResourceSink'\",\n \"Class'/Script/FactoryGame.FGBuildableResourceSinkShop'\",\n \"Class'/Script/FactoryGame.FGVehicleDescriptor'\",\n \"Class'/Script/FactoryGame.FGBuildableManufacturerVariablePower'\",\n \"Class'/Script/FactoryGame.FGBuildableGeneratorNuclear'\",\n \"Class'/Script/FactoryGame.FGBuildableConveyorLift'\",\n \"Class'/Script/FactoryGame.FGBuildableFoundation'\",\n \"Class'/Script/FactoryGame.FGBuildableFoundationLightweight'\",\n \"Class'/Script/FactoryGame.FGBuildableRamp'\",\n \"Class'/Script/FactoryGame.FGBuildableSplitterSmart'\",\n \"Class'/Script/FactoryGame.FGBuildableAttachmentMerger'\",\n \"Class'/Script/FactoryGame.FGBuildableAttachmentSplitter'\",\n \"Class'/Script/FactoryGame.FGBuildableJumppad'\",\n \"Class'/Script/FactoryGame.FGConveyorPoleStackable'\",\n \"Class'/Script/FactoryGame.FGBuildableDockingStation'\",\n \"Class'/Script/FactoryGame.FGPipeHyperStart'\",\n \"Class'/Script/FactoryGame.FGBuildablePipeHyper'\",\n \"Class'/Script/FactoryGame.FGBuildablePowerStorage'\",\n \"Class'/Script/FactoryGame.FGBuildableRailroadSignal'\",\n \"Class'/Script/FactoryGame.FGBuildableTrainPlatformCargo'\",\n \"Class'/Script/FactoryGame.FGBuildableTrainPlatformEmpty'\",\n \"Class'/Script/FactoryGame.FGBuildableRailroadStation'\",\n \"Class'/Script/FactoryGame.FGHoverPack'\",\n \"Class'/Script/FactoryGame.FGEquipmentZipline'\",\n \"Class'/Script/FactoryGame.FGBuildableCircuitSwitch'\",\n \"Class'/Script/FactoryGame.FGParachute'\",\n \"Class'/Script/FactoryGame.FGBuildableRadarTower'\",\n \"Class'/Script/FactoryGame.FGBuildableFactorySimpleProducer'\",\n \"Class'/Script/FactoryGame.FGBuildableSnowDispenser'\",\n \"Class'/Script/FactoryGame.FGBuildableFactoryBuilding'\",\n \"Class'/Script/FactoryGame.FGBuildableWidgetSign'\",\n \"Class'/Script/FactoryGame.FGBuildableLightSource'\",\n \"Class'/Script/FactoryGame.FGBuildableLadder'\",\n \"Class'/Script/FactoryGame.FGBuildableStair'\",\n \"Class'/Script/FactoryGame.FGBuildableFloodlight'\",\n \"Class'/Script/FactoryGame.FGBuildableLightsControlPanel'\",\n \"Class'/Script/FactoryGame.FGBuildablePassthrough'\"]"
     },
     "execution_count": 5,
     "metadata": {},
     "output_type": "execute_result"
    }
   ],
   "source": [
    "list(BASE_CONFIG.keys())"
   ],
   "metadata": {
    "collapsed": false
   }
  },
  {
   "cell_type": "code",
   "execution_count": 6,
   "outputs": [
    {
     "data": {
      "text/plain": "{'Desc_Wall_Concrete_8x1_C': {'ClassName': 'Desc_Wall_Concrete_8x1_C',\n  'mDisplayName': '',\n  'mDescription': '',\n  'mAbbreviatedDisplayName': '',\n  'mStackSize': 'SS_MEDIUM',\n  'mCanBeDiscarded': 'True',\n  'mRememberPickUp': 'False',\n  'mEnergyValue': '0.000000',\n  'mRadioactiveDecay': '0.000000',\n  'mForm': 'RF_INVALID',\n  'mSmallIcon': 'Texture2D /Game/FactoryGame/Buildable/Building/Wall/UI/Regular/IconDesc_ConcWall8x1_256.IconDesc_ConcWall8x1_256',\n  'mPersistentBigIcon': 'Texture2D /Game/FactoryGame/Buildable/Building/Wall/UI/Regular/IconDesc_ConcWall8x1_512.IconDesc_ConcWall8x1_512',\n  'mCrosshairMaterial': 'None',\n  'mDescriptorStatBars': '',\n  'mSubCategories': '(BlueprintGeneratedClass\\'\"/Game/FactoryGame/Interface/UI/InGame/BuildMenu/BuildCategories/Sub_Walls/SC_Walls.SC_Walls_C\"\\')',\n  'mMenuPriority': '6.000000',\n  'mFluidColor': '(B=0,G=0,R=0,A=0)',\n  'mGasColor': '(B=0,G=0,R=0,A=0)',\n  'mCompatibleItemDescriptors': '',\n  'mClassToScanFor': 'None',\n  'mScannableType': 'RTWOT_Default',\n  'mShouldOverrideScannerDisplayText': 'False',\n  'mScannerDisplayText': '',\n  'mScannerLightColor': '(B=0,G=0,R=0,A=0)'},\n 'Desc_Wall_Concrete_8x4_C': {'ClassName': 'Desc_Wall_Concrete_8x4_C',\n  'mDisplayName': '',\n  'mDescription': '',\n  'mAbbreviatedDisplayName': '',\n  'mStackSize': 'SS_MEDIUM',\n  'mCanBeDiscarded': 'True',\n  'mRememberPickUp': 'False',\n  'mEnergyValue': '0.000000',\n  'mRadioactiveDecay': '0.000000',\n  'mForm': 'RF_INVALID',\n  'mSmallIcon': 'Texture2D /Game/FactoryGame/Buildable/Building/Wall/UI/Regular/IconDesc_ConcWall8x4_256.IconDesc_ConcWall8x4_256',\n  'mPersistentBigIcon': 'Texture2D /Game/FactoryGame/Buildable/Building/Wall/UI/Regular/IconDesc_ConcWall8x4_512.IconDesc_ConcWall8x4_512',\n  'mCrosshairMaterial': 'None',\n  'mDescriptorStatBars': '',\n  'mSubCategories': '(BlueprintGeneratedClass\\'\"/Game/FactoryGame/Interface/UI/InGame/BuildMenu/BuildCategories/Sub_Walls/SC_Walls.SC_Walls_C\"\\')',\n  'mMenuPriority': '8.000000',\n  'mFluidColor': '(B=0,G=0,R=0,A=0)',\n  'mGasColor': '(B=0,G=0,R=0,A=0)',\n  'mCompatibleItemDescriptors': '',\n  'mClassToScanFor': 'None',\n  'mScannableType': 'RTWOT_Default',\n  'mShouldOverrideScannerDisplayText': 'False',\n  'mScannerDisplayText': '',\n  'mScannerLightColor': '(B=0,G=0,R=0,A=0)'},\n 'Desc_Wall_Concrete_8x4_ConveyorHole_01_C': {'ClassName': 'Desc_Wall_Concrete_8x4_ConveyorHole_01_C',\n  'mDisplayName': '',\n  'mDescription': '',\n  'mAbbreviatedDisplayName': '',\n  'mStackSize': 'SS_MEDIUM',\n  'mCanBeDiscarded': 'True',\n  'mRememberPickUp': 'False',\n  'mEnergyValue': '0.000000',\n  'mRadioactiveDecay': '0.000000',\n  'mForm': 'RF_INVALID',\n  'mSmallIcon': 'Texture2D /Game/FactoryGame/Buildable/Building/Wall/UI/ConveyorHole/IconDesc_WallConcCovHole1_256.IconDesc_WallConcCovHole1_256',\n  'mPersistentBigIcon': 'Texture2D /Game/FactoryGame/Buildable/Building/Wall/UI/ConveyorHole/IconDesc_WallConcCovHole1_512.IconDesc_WallConcCovHole1_512',\n  'mCrosshairMaterial': 'None',\n  'mDescriptorStatBars': '',\n  'mSubCategories': '(BlueprintGeneratedClass\\'\"/Game/FactoryGame/Interface/UI/InGame/BuildMenu/BuildCategories/Sub_Walls/SC_ConveyorConnections.SC_ConveyorConnections_C\"\\')',\n  'mMenuPriority': '4.000000',\n  'mFluidColor': '(B=0,G=0,R=0,A=0)',\n  'mGasColor': '(B=0,G=0,R=0,A=0)',\n  'mCompatibleItemDescriptors': '',\n  'mClassToScanFor': 'None',\n  'mScannableType': 'RTWOT_Default',\n  'mShouldOverrideScannerDisplayText': 'False',\n  'mScannerDisplayText': '',\n  'mScannerLightColor': '(B=0,G=0,R=0,A=0)'},\n 'Desc_Wall_Concrete_8x4_ConveyorHole_02_C': {'ClassName': 'Desc_Wall_Concrete_8x4_ConveyorHole_02_C',\n  'mDisplayName': '',\n  'mDescription': '',\n  'mAbbreviatedDisplayName': '',\n  'mStackSize': 'SS_MEDIUM',\n  'mCanBeDiscarded': 'True',\n  'mRememberPickUp': 'False',\n  'mEnergyValue': '0.000000',\n  'mRadioactiveDecay': '0.000000',\n  'mForm': 'RF_INVALID',\n  'mSmallIcon': 'Texture2D /Game/FactoryGame/Buildable/Building/Wall/UI/ConveyorHole/IconDesc_WallConcCovHole2_256.IconDesc_WallConcCovHole2_256',\n  'mPersistentBigIcon': 'Texture2D /Game/FactoryGame/Buildable/Building/Wall/UI/ConveyorHole/IconDesc_WallConcCovHole2_512.IconDesc_WallConcCovHole2_512',\n  'mCrosshairMaterial': 'None',\n  'mDescriptorStatBars': '',\n  'mSubCategories': '(BlueprintGeneratedClass\\'\"/Game/FactoryGame/Interface/UI/InGame/BuildMenu/BuildCategories/Sub_Walls/SC_ConveyorConnections.SC_ConveyorConnections_C\"\\')',\n  'mMenuPriority': '5.000000',\n  'mFluidColor': '(B=0,G=0,R=0,A=0)',\n  'mGasColor': '(B=0,G=0,R=0,A=0)',\n  'mCompatibleItemDescriptors': '',\n  'mClassToScanFor': 'None',\n  'mScannableType': 'RTWOT_Default',\n  'mShouldOverrideScannerDisplayText': 'False',\n  'mScannerDisplayText': '',\n  'mScannerLightColor': '(B=0,G=0,R=0,A=0)'},\n 'Desc_Wall_Concrete_8x4_ConveyorHole_03_C': {'ClassName': 'Desc_Wall_Concrete_8x4_ConveyorHole_03_C',\n  'mDisplayName': '',\n  'mDescription': '',\n  'mAbbreviatedDisplayName': '',\n  'mStackSize': 'SS_MEDIUM',\n  'mCanBeDiscarded': 'True',\n  'mRememberPickUp': 'False',\n  'mEnergyValue': '0.000000',\n  'mRadioactiveDecay': '0.000000',\n  'mForm': 'RF_INVALID',\n  'mSmallIcon': 'Texture2D /Game/FactoryGame/Buildable/Building/Wall/UI/ConveyorHole/IconDesc_WallConcCovHole3_256.IconDesc_WallConcCovHole3_256',\n  'mPersistentBigIcon': 'Texture2D /Game/FactoryGame/Buildable/Building/Wall/UI/ConveyorHole/IconDesc_WallConcCovHole3_512.IconDesc_WallConcCovHole3_512',\n  'mCrosshairMaterial': 'None',\n  'mDescriptorStatBars': '',\n  'mSubCategories': '(BlueprintGeneratedClass\\'\"/Game/FactoryGame/Interface/UI/InGame/BuildMenu/BuildCategories/Sub_Walls/SC_ConveyorConnections.SC_ConveyorConnections_C\"\\')',\n  'mMenuPriority': '6.000000',\n  'mFluidColor': '(B=0,G=0,R=0,A=0)',\n  'mGasColor': '(B=0,G=0,R=0,A=0)',\n  'mCompatibleItemDescriptors': '',\n  'mClassToScanFor': 'None',\n  'mScannableType': 'RTWOT_Default',\n  'mShouldOverrideScannerDisplayText': 'False',\n  'mScannerDisplayText': '',\n  'mScannerLightColor': '(B=0,G=0,R=0,A=0)'},\n 'Desc_Wall_Concrete_8x4_Corner_01_C': {'ClassName': 'Desc_Wall_Concrete_8x4_Corner_01_C',\n  'mDisplayName': '',\n  'mDescription': '',\n  'mAbbreviatedDisplayName': '',\n  'mStackSize': 'SS_MEDIUM',\n  'mCanBeDiscarded': 'True',\n  'mRememberPickUp': 'False',\n  'mEnergyValue': '0.000000',\n  'mRadioactiveDecay': '0.000000',\n  'mForm': 'RF_INVALID',\n  'mSmallIcon': 'Texture2D /Game/FactoryGame/Buildable/Building/Wall/UI/Triangle/IconDesc_ConcTriangleWall4m_256.IconDesc_ConcTriangleWall4m_256',\n  'mPersistentBigIcon': 'Texture2D /Game/FactoryGame/Buildable/Building/Wall/UI/Triangle/IconDesc_ConcTriangleWall4m_512.IconDesc_ConcTriangleWall4m_512',\n  'mCrosshairMaterial': 'None',\n  'mDescriptorStatBars': '',\n  'mSubCategories': '(BlueprintGeneratedClass\\'\"/Game/FactoryGame/Interface/UI/InGame/BuildMenu/BuildCategories/Sub_Walls/SC_AngularWalls.SC_AngularWalls_C\"\\')',\n  'mMenuPriority': '9.000000',\n  'mFluidColor': '(B=0,G=0,R=0,A=0)',\n  'mGasColor': '(B=0,G=0,R=0,A=0)',\n  'mCompatibleItemDescriptors': '',\n  'mClassToScanFor': 'None',\n  'mScannableType': 'RTWOT_Default',\n  'mShouldOverrideScannerDisplayText': 'False',\n  'mScannerDisplayText': '',\n  'mScannerLightColor': '(B=0,G=0,R=0,A=0)'},\n 'Desc_Wall_Concrete_8x4_Corner_2_C': {'ClassName': 'Desc_Wall_Concrete_8x4_Corner_2_C',\n  'mDisplayName': '',\n  'mDescription': '',\n  'mAbbreviatedDisplayName': '',\n  'mStackSize': 'SS_MEDIUM',\n  'mCanBeDiscarded': 'True',\n  'mRememberPickUp': 'False',\n  'mEnergyValue': '0.000000',\n  'mRadioactiveDecay': '0.000000',\n  'mForm': 'RF_INVALID',\n  'mSmallIcon': 'Texture2D /Game/FactoryGame/Buildable/Building/Wall/UI/Angular/Inwards/IconDesc_ConcWallInwards_8x4_256.IconDesc_ConcWallInwards_8x4_256',\n  'mPersistentBigIcon': 'Texture2D /Game/FactoryGame/Buildable/Building/Wall/UI/Angular/Inwards/IconDesc_ConcWallInwards_8x4_512.IconDesc_ConcWallInwards_8x4_512',\n  'mCrosshairMaterial': 'None',\n  'mDescriptorStatBars': '',\n  'mSubCategories': '(BlueprintGeneratedClass\\'\"/Game/FactoryGame/Interface/UI/InGame/BuildMenu/BuildCategories/Sub_Walls/SC_AngularWalls.SC_AngularWalls_C\"\\')',\n  'mMenuPriority': '11.000000',\n  'mFluidColor': '(B=0,G=0,R=0,A=0)',\n  'mGasColor': '(B=0,G=0,R=0,A=0)',\n  'mCompatibleItemDescriptors': '',\n  'mClassToScanFor': 'None',\n  'mScannableType': 'RTWOT_Default',\n  'mShouldOverrideScannerDisplayText': 'False',\n  'mScannerDisplayText': '',\n  'mScannerLightColor': '(B=0,G=0,R=0,A=0)'},\n 'Desc_Wall_Concrete_8x4_Window_01_C': {'ClassName': 'Desc_Wall_Concrete_8x4_Window_01_C',\n  'mDisplayName': '',\n  'mDescription': '',\n  'mAbbreviatedDisplayName': '',\n  'mStackSize': 'SS_MEDIUM',\n  'mCanBeDiscarded': 'True',\n  'mRememberPickUp': 'False',\n  'mEnergyValue': '0.000000',\n  'mRadioactiveDecay': '0.000000',\n  'mForm': 'RF_INVALID',\n  'mSmallIcon': 'Texture2D /Game/FactoryGame/Buildable/Building/Wall/UI/Portholes/IconDesc_ConcWallWindow01_256.IconDesc_ConcWallWindow01_256',\n  'mPersistentBigIcon': 'Texture2D /Game/FactoryGame/Buildable/Building/Wall/UI/Portholes/IconDesc_ConcWallWindow01_512.IconDesc_ConcWallWindow01_512',\n  'mCrosshairMaterial': 'None',\n  'mDescriptorStatBars': '',\n  'mSubCategories': '(BlueprintGeneratedClass\\'\"/Game/FactoryGame/Interface/UI/InGame/BuildMenu/BuildCategories/Sub_Walls/SC_Windows.SC_Windows_C\"\\')',\n  'mMenuPriority': '5.000000',\n  'mFluidColor': '(B=0,G=0,R=0,A=0)',\n  'mGasColor': '(B=0,G=0,R=0,A=0)',\n  'mCompatibleItemDescriptors': '',\n  'mClassToScanFor': 'None',\n  'mScannableType': 'RTWOT_Default',\n  'mShouldOverrideScannerDisplayText': 'False',\n  'mScannerDisplayText': '',\n  'mScannerLightColor': '(B=0,G=0,R=0,A=0)'},\n 'Desc_Wall_Concrete_8x4_Window_02_C': {'ClassName': 'Desc_Wall_Concrete_8x4_Window_02_C',\n  'mDisplayName': '',\n  'mDescription': '',\n  'mAbbreviatedDisplayName': '',\n  'mStackSize': 'SS_MEDIUM',\n  'mCanBeDiscarded': 'True',\n  'mRememberPickUp': 'False',\n  'mEnergyValue': '0.000000',\n  'mRadioactiveDecay': '0.000000',\n  'mForm': 'RF_INVALID',\n  'mSmallIcon': 'Texture2D /Game/FactoryGame/Buildable/Building/Wall/UI/Portholes/IconDesc_ConcWallWindow02_256.IconDesc_ConcWallWindow02_256',\n  'mPersistentBigIcon': 'Texture2D /Game/FactoryGame/Buildable/Building/Wall/UI/Portholes/IconDesc_ConcWallWindow02_512.IconDesc_ConcWallWindow02_512',\n  'mCrosshairMaterial': 'None',\n  'mDescriptorStatBars': '',\n  'mSubCategories': '(BlueprintGeneratedClass\\'\"/Game/FactoryGame/Interface/UI/InGame/BuildMenu/BuildCategories/Sub_Walls/SC_Windows.SC_Windows_C\"\\')',\n  'mMenuPriority': '6.000000',\n  'mFluidColor': '(B=0,G=0,R=0,A=0)',\n  'mGasColor': '(B=0,G=0,R=0,A=0)',\n  'mCompatibleItemDescriptors': '',\n  'mClassToScanFor': 'None',\n  'mScannableType': 'RTWOT_Default',\n  'mShouldOverrideScannerDisplayText': 'False',\n  'mScannerDisplayText': '',\n  'mScannerLightColor': '(B=0,G=0,R=0,A=0)'},\n 'Desc_Wall_Concrete_8x4_Window_03_C': {'ClassName': 'Desc_Wall_Concrete_8x4_Window_03_C',\n  'mDisplayName': '',\n  'mDescription': '',\n  'mAbbreviatedDisplayName': '',\n  'mStackSize': 'SS_MEDIUM',\n  'mCanBeDiscarded': 'True',\n  'mRememberPickUp': 'False',\n  'mEnergyValue': '0.000000',\n  'mRadioactiveDecay': '0.000000',\n  'mForm': 'RF_INVALID',\n  'mSmallIcon': 'Texture2D /Game/FactoryGame/Buildable/Building/Wall/UI/Portholes/IconDesc_ConcWallWindow03_256.IconDesc_ConcWallWindow03_256',\n  'mPersistentBigIcon': 'Texture2D /Game/FactoryGame/Buildable/Building/Wall/UI/Portholes/IconDesc_ConcWallWindow03_512.IconDesc_ConcWallWindow03_512',\n  'mCrosshairMaterial': 'None',\n  'mDescriptorStatBars': '',\n  'mSubCategories': '(BlueprintGeneratedClass\\'\"/Game/FactoryGame/Interface/UI/InGame/BuildMenu/BuildCategories/Sub_Walls/SC_Windows.SC_Windows_C\"\\')',\n  'mMenuPriority': '7.000000',\n  'mFluidColor': '(B=0,G=0,R=0,A=0)',\n  'mGasColor': '(B=0,G=0,R=0,A=0)',\n  'mCompatibleItemDescriptors': '',\n  'mClassToScanFor': 'None',\n  'mScannableType': 'RTWOT_Default',\n  'mShouldOverrideScannerDisplayText': 'False',\n  'mScannerDisplayText': '',\n  'mScannerLightColor': '(B=0,G=0,R=0,A=0)'},\n 'Desc_Wall_Concrete_8x4_Window_04_C': {'ClassName': 'Desc_Wall_Concrete_8x4_Window_04_C',\n  'mDisplayName': '',\n  'mDescription': '',\n  'mAbbreviatedDisplayName': '',\n  'mStackSize': 'SS_MEDIUM',\n  'mCanBeDiscarded': 'True',\n  'mRememberPickUp': 'False',\n  'mEnergyValue': '0.000000',\n  'mRadioactiveDecay': '0.000000',\n  'mForm': 'RF_INVALID',\n  'mSmallIcon': 'Texture2D /Game/FactoryGame/Buildable/Building/Wall/UI/Portholes/IconDesc_ConcWallWindow04_256.IconDesc_ConcWallWindow04_256',\n  'mPersistentBigIcon': 'Texture2D /Game/FactoryGame/Buildable/Building/Wall/UI/Portholes/IconDesc_ConcWallWindow04_512.IconDesc_ConcWallWindow04_512',\n  'mCrosshairMaterial': 'None',\n  'mDescriptorStatBars': '',\n  'mSubCategories': '(BlueprintGeneratedClass\\'\"/Game/FactoryGame/Interface/UI/InGame/BuildMenu/BuildCategories/Sub_Walls/SC_Windows.SC_Windows_C\"\\')',\n  'mMenuPriority': '8.000000',\n  'mFluidColor': '(B=0,G=0,R=0,A=0)',\n  'mGasColor': '(B=0,G=0,R=0,A=0)',\n  'mCompatibleItemDescriptors': '',\n  'mClassToScanFor': 'None',\n  'mScannableType': 'RTWOT_Default',\n  'mShouldOverrideScannerDisplayText': 'False',\n  'mScannerDisplayText': '',\n  'mScannerLightColor': '(B=0,G=0,R=0,A=0)'},\n 'Desc_Wall_Concrete_8x8_Corner_01_C': {'ClassName': 'Desc_Wall_Concrete_8x8_Corner_01_C',\n  'mDisplayName': '',\n  'mDescription': '',\n  'mAbbreviatedDisplayName': '',\n  'mStackSize': 'SS_MEDIUM',\n  'mCanBeDiscarded': 'True',\n  'mRememberPickUp': 'False',\n  'mEnergyValue': '0.000000',\n  'mRadioactiveDecay': '0.000000',\n  'mForm': 'RF_INVALID',\n  'mSmallIcon': 'Texture2D /Game/FactoryGame/Buildable/Building/Wall/UI/Triangle/IconDesc_ConcTriangleWall8m_256.IconDesc_ConcTriangleWall8m_256',\n  'mPersistentBigIcon': 'Texture2D /Game/FactoryGame/Buildable/Building/Wall/UI/Triangle/IconDesc_ConcTriangleWall8m_512.IconDesc_ConcTriangleWall8m_512',\n  'mCrosshairMaterial': 'None',\n  'mDescriptorStatBars': '',\n  'mSubCategories': '(BlueprintGeneratedClass\\'\"/Game/FactoryGame/Interface/UI/InGame/BuildMenu/BuildCategories/Sub_Walls/SC_AngularWalls.SC_AngularWalls_C\"\\')',\n  'mMenuPriority': '10.000000',\n  'mFluidColor': '(B=0,G=0,R=0,A=0)',\n  'mGasColor': '(B=0,G=0,R=0,A=0)',\n  'mCompatibleItemDescriptors': '',\n  'mClassToScanFor': 'None',\n  'mScannableType': 'RTWOT_Default',\n  'mShouldOverrideScannerDisplayText': 'False',\n  'mScannerDisplayText': '',\n  'mScannerLightColor': '(B=0,G=0,R=0,A=0)'},\n 'Desc_Wall_Concrete_8x8_Corner_2_C': {'ClassName': 'Desc_Wall_Concrete_8x8_Corner_2_C',\n  'mDisplayName': '',\n  'mDescription': '',\n  'mAbbreviatedDisplayName': '',\n  'mStackSize': 'SS_MEDIUM',\n  'mCanBeDiscarded': 'True',\n  'mRememberPickUp': 'False',\n  'mEnergyValue': '0.000000',\n  'mRadioactiveDecay': '0.000000',\n  'mForm': 'RF_INVALID',\n  'mSmallIcon': 'Texture2D /Game/FactoryGame/Buildable/Building/Wall/UI/Angular/Inwards/IconDesc_ConcWallInwards_8x8_256.IconDesc_ConcWallInwards_8x8_256',\n  'mPersistentBigIcon': 'Texture2D /Game/FactoryGame/Buildable/Building/Wall/UI/Angular/Inwards/IconDesc_ConcWallInwards_8x8_512.IconDesc_ConcWallInwards_8x8_512',\n  'mCrosshairMaterial': 'None',\n  'mDescriptorStatBars': '',\n  'mSubCategories': '(BlueprintGeneratedClass\\'\"/Game/FactoryGame/Interface/UI/InGame/BuildMenu/BuildCategories/Sub_Walls/SC_AngularWalls.SC_AngularWalls_C\"\\')',\n  'mMenuPriority': '12.000000',\n  'mFluidColor': '(B=0,G=0,R=0,A=0)',\n  'mGasColor': '(B=0,G=0,R=0,A=0)',\n  'mCompatibleItemDescriptors': '',\n  'mClassToScanFor': 'None',\n  'mScannableType': 'RTWOT_Default',\n  'mShouldOverrideScannerDisplayText': 'False',\n  'mScannerDisplayText': '',\n  'mScannerLightColor': '(B=0,G=0,R=0,A=0)'},\n 'Desc_Wall_Concrete_Angular_8x4_C': {'ClassName': 'Desc_Wall_Concrete_Angular_8x4_C',\n  'mDisplayName': '',\n  'mDescription': '',\n  'mAbbreviatedDisplayName': '',\n  'mStackSize': 'SS_MEDIUM',\n  'mCanBeDiscarded': 'True',\n  'mRememberPickUp': 'False',\n  'mEnergyValue': '0.000000',\n  'mRadioactiveDecay': '0.000000',\n  'mForm': 'RF_INVALID',\n  'mSmallIcon': 'Texture2D /Game/FactoryGame/Buildable/Building/Wall/UI/Angular/IconDesc_ConcAngWall4m_256.IconDesc_ConcAngWall4m_256',\n  'mPersistentBigIcon': 'Texture2D /Game/FactoryGame/Buildable/Building/Wall/UI/Angular/IconDesc_ConcAngWall4m_512.IconDesc_ConcAngWall4m_512',\n  'mCrosshairMaterial': 'None',\n  'mDescriptorStatBars': '',\n  'mSubCategories': '(BlueprintGeneratedClass\\'\"/Game/FactoryGame/Interface/UI/InGame/BuildMenu/BuildCategories/Sub_Walls/SC_AngularWalls.SC_AngularWalls_C\"\\')',\n  'mMenuPriority': '7.000000',\n  'mFluidColor': '(B=0,G=0,R=0,A=0)',\n  'mGasColor': '(B=0,G=0,R=0,A=0)',\n  'mCompatibleItemDescriptors': '',\n  'mClassToScanFor': 'None',\n  'mScannableType': 'RTWOT_Default',\n  'mShouldOverrideScannerDisplayText': 'False',\n  'mScannerDisplayText': '',\n  'mScannerLightColor': '(B=0,G=0,R=0,A=0)'},\n 'Desc_Wall_Concrete_Angular_8x8_C': {'ClassName': 'Desc_Wall_Concrete_Angular_8x8_C',\n  'mDisplayName': '',\n  'mDescription': '',\n  'mAbbreviatedDisplayName': '',\n  'mStackSize': 'SS_MEDIUM',\n  'mCanBeDiscarded': 'True',\n  'mRememberPickUp': 'False',\n  'mEnergyValue': '0.000000',\n  'mRadioactiveDecay': '0.000000',\n  'mForm': 'RF_INVALID',\n  'mSmallIcon': 'Texture2D /Game/FactoryGame/Buildable/Building/Wall/UI/Angular/IconDesc_ConcAngWall8m_256.IconDesc_ConcAngWall8m_256',\n  'mPersistentBigIcon': 'Texture2D /Game/FactoryGame/Buildable/Building/Wall/UI/Angular/IconDesc_ConcAngWall8m_512.IconDesc_ConcAngWall8m_512',\n  'mCrosshairMaterial': 'None',\n  'mDescriptorStatBars': '',\n  'mSubCategories': '(BlueprintGeneratedClass\\'\"/Game/FactoryGame/Interface/UI/InGame/BuildMenu/BuildCategories/Sub_Walls/SC_AngularWalls.SC_AngularWalls_C\"\\')',\n  'mMenuPriority': '8.000000',\n  'mFluidColor': '(B=0,G=0,R=0,A=0)',\n  'mGasColor': '(B=0,G=0,R=0,A=0)',\n  'mCompatibleItemDescriptors': '',\n  'mClassToScanFor': 'None',\n  'mScannableType': 'RTWOT_Default',\n  'mShouldOverrideScannerDisplayText': 'False',\n  'mScannerDisplayText': '',\n  'mScannerLightColor': '(B=0,G=0,R=0,A=0)'},\n 'Desc_Wall_Concrete_CDoor_8x4_C': {'ClassName': 'Desc_Wall_Concrete_CDoor_8x4_C',\n  'mDisplayName': '',\n  'mDescription': '',\n  'mAbbreviatedDisplayName': '',\n  'mStackSize': 'SS_MEDIUM',\n  'mCanBeDiscarded': 'True',\n  'mRememberPickUp': 'False',\n  'mEnergyValue': '0.000000',\n  'mRadioactiveDecay': '0.000000',\n  'mForm': 'RF_INVALID',\n  'mSmallIcon': 'Texture2D /Game/FactoryGame/Buildable/Building/Wall/UI/Doors/IconDesc_ConcreteCenterDoor_256.IconDesc_ConcreteCenterDoor_256',\n  'mPersistentBigIcon': 'Texture2D /Game/FactoryGame/Buildable/Building/Wall/UI/Doors/IconDesc_ConcreteCenterDoor_512.IconDesc_ConcreteCenterDoor_512',\n  'mCrosshairMaterial': 'None',\n  'mDescriptorStatBars': '',\n  'mSubCategories': '(BlueprintGeneratedClass\\'\"/Game/FactoryGame/Interface/UI/InGame/BuildMenu/BuildCategories/Sub_Walls/SC_Doors.SC_Doors_C\"\\')',\n  'mMenuPriority': '4.000000',\n  'mFluidColor': '(B=0,G=0,R=0,A=0)',\n  'mGasColor': '(B=0,G=0,R=0,A=0)',\n  'mCompatibleItemDescriptors': '',\n  'mClassToScanFor': 'None',\n  'mScannableType': 'RTWOT_Default',\n  'mShouldOverrideScannerDisplayText': 'False',\n  'mScannerDisplayText': '',\n  'mScannerLightColor': '(B=0,G=0,R=0,A=0)'},\n 'Desc_Wall_Concrete_8x1_FlipTris_C': {'ClassName': 'Desc_Wall_Concrete_8x1_FlipTris_C',\n  'mDisplayName': '',\n  'mDescription': '',\n  'mAbbreviatedDisplayName': '',\n  'mStackSize': 'SS_MEDIUM',\n  'mCanBeDiscarded': 'True',\n  'mRememberPickUp': 'False',\n  'mEnergyValue': '0.000000',\n  'mRadioactiveDecay': '0.000000',\n  'mForm': 'RF_INVALID',\n  'mSmallIcon': 'Texture2D /Game/FactoryGame/Buildable/Building/Wall/UI/DownDiagonal/IconDesc_ConcDownDiag1m_256.IconDesc_ConcDownDiag1m_256',\n  'mPersistentBigIcon': 'Texture2D /Game/FactoryGame/Buildable/Building/Wall/UI/DownDiagonal/IconDesc_ConcDownDiag1m_512.IconDesc_ConcDownDiag1m_512',\n  'mCrosshairMaterial': 'None',\n  'mDescriptorStatBars': '',\n  'mSubCategories': '(BlueprintGeneratedClass\\'\"/Game/FactoryGame/Interface/UI/InGame/BuildMenu/BuildCategories/Sub_Walls/SC_UpperDiagonalWalls.SC_UpperDiagonalWalls_C\"\\')',\n  'mMenuPriority': '5.000000',\n  'mFluidColor': '(B=0,G=0,R=0,A=0)',\n  'mGasColor': '(B=0,G=0,R=0,A=0)',\n  'mCompatibleItemDescriptors': '',\n  'mClassToScanFor': 'None',\n  'mScannableType': 'RTWOT_Default',\n  'mShouldOverrideScannerDisplayText': 'False',\n  'mScannerDisplayText': '',\n  'mScannerLightColor': '(B=0,G=0,R=0,A=0)'},\n 'Desc_Wall_Concrete_8x2_FlipTris_C': {'ClassName': 'Desc_Wall_Concrete_8x2_FlipTris_C',\n  'mDisplayName': '',\n  'mDescription': '',\n  'mAbbreviatedDisplayName': '',\n  'mStackSize': 'SS_MEDIUM',\n  'mCanBeDiscarded': 'True',\n  'mRememberPickUp': 'False',\n  'mEnergyValue': '0.000000',\n  'mRadioactiveDecay': '0.000000',\n  'mForm': 'RF_INVALID',\n  'mSmallIcon': 'Texture2D /Game/FactoryGame/Buildable/Building/Wall/UI/DownDiagonal/IconDesc_ConcDownDiag2m_256.IconDesc_ConcDownDiag2m_256',\n  'mPersistentBigIcon': 'Texture2D /Game/FactoryGame/Buildable/Building/Wall/UI/DownDiagonal/IconDesc_ConcDownDiag2m_512.IconDesc_ConcDownDiag2m_512',\n  'mCrosshairMaterial': 'None',\n  'mDescriptorStatBars': '',\n  'mSubCategories': '(BlueprintGeneratedClass\\'\"/Game/FactoryGame/Interface/UI/InGame/BuildMenu/BuildCategories/Sub_Walls/SC_UpperDiagonalWalls.SC_UpperDiagonalWalls_C\"\\')',\n  'mMenuPriority': '6.000000',\n  'mFluidColor': '(B=0,G=0,R=0,A=0)',\n  'mGasColor': '(B=0,G=0,R=0,A=0)',\n  'mCompatibleItemDescriptors': '',\n  'mClassToScanFor': 'None',\n  'mScannableType': 'RTWOT_Default',\n  'mShouldOverrideScannerDisplayText': 'False',\n  'mScannerDisplayText': '',\n  'mScannerLightColor': '(B=0,G=0,R=0,A=0)'},\n 'Desc_Wall_Concrete_8x4_FlipTris_C': {'ClassName': 'Desc_Wall_Concrete_8x4_FlipTris_C',\n  'mDisplayName': '',\n  'mDescription': '',\n  'mAbbreviatedDisplayName': '',\n  'mStackSize': 'SS_MEDIUM',\n  'mCanBeDiscarded': 'True',\n  'mRememberPickUp': 'False',\n  'mEnergyValue': '0.000000',\n  'mRadioactiveDecay': '0.000000',\n  'mForm': 'RF_INVALID',\n  'mSmallIcon': 'Texture2D /Game/FactoryGame/Buildable/Building/Wall/UI/DownDiagonal/IconDesc_ConcDownDiag4m_256.IconDesc_ConcDownDiag4m_256',\n  'mPersistentBigIcon': 'Texture2D /Game/FactoryGame/Buildable/Building/Wall/UI/DownDiagonal/IconDesc_ConcDownDiag4m_512.IconDesc_ConcDownDiag4m_512',\n  'mCrosshairMaterial': 'None',\n  'mDescriptorStatBars': '',\n  'mSubCategories': '(BlueprintGeneratedClass\\'\"/Game/FactoryGame/Interface/UI/InGame/BuildMenu/BuildCategories/Sub_Walls/SC_UpperDiagonalWalls.SC_UpperDiagonalWalls_C\"\\')',\n  'mMenuPriority': '7.000000',\n  'mFluidColor': '(B=0,G=0,R=0,A=0)',\n  'mGasColor': '(B=0,G=0,R=0,A=0)',\n  'mCompatibleItemDescriptors': '',\n  'mClassToScanFor': 'None',\n  'mScannableType': 'RTWOT_Default',\n  'mShouldOverrideScannerDisplayText': 'False',\n  'mScannerDisplayText': '',\n  'mScannerLightColor': '(B=0,G=0,R=0,A=0)'},\n 'Desc_Wall_Concrete_8x8_FlipTris_C': {'ClassName': 'Desc_Wall_Concrete_8x8_FlipTris_C',\n  'mDisplayName': '',\n  'mDescription': '',\n  'mAbbreviatedDisplayName': '',\n  'mStackSize': 'SS_MEDIUM',\n  'mCanBeDiscarded': 'True',\n  'mRememberPickUp': 'False',\n  'mEnergyValue': '0.000000',\n  'mRadioactiveDecay': '0.000000',\n  'mForm': 'RF_INVALID',\n  'mSmallIcon': 'Texture2D /Game/FactoryGame/Buildable/Building/Wall/UI/DownDiagonal/IconDesc_ConcDownDiag8m_256.IconDesc_ConcDownDiag8m_256',\n  'mPersistentBigIcon': 'Texture2D /Game/FactoryGame/Buildable/Building/Wall/UI/DownDiagonal/IconDesc_ConcDownDiag8m_512.IconDesc_ConcDownDiag8m_512',\n  'mCrosshairMaterial': 'None',\n  'mDescriptorStatBars': '',\n  'mSubCategories': '(BlueprintGeneratedClass\\'\"/Game/FactoryGame/Interface/UI/InGame/BuildMenu/BuildCategories/Sub_Walls/SC_UpperDiagonalWalls.SC_UpperDiagonalWalls_C\"\\')',\n  'mMenuPriority': '8.000000',\n  'mFluidColor': '(B=0,G=0,R=0,A=0)',\n  'mGasColor': '(B=0,G=0,R=0,A=0)',\n  'mCompatibleItemDescriptors': '',\n  'mClassToScanFor': 'None',\n  'mScannableType': 'RTWOT_Default',\n  'mShouldOverrideScannerDisplayText': 'False',\n  'mScannerDisplayText': '',\n  'mScannerLightColor': '(B=0,G=0,R=0,A=0)'},\n 'Desc_Wall_Concrete_Gate_8x4_C': {'ClassName': 'Desc_Wall_Concrete_Gate_8x4_C',\n  'mDisplayName': '',\n  'mDescription': '',\n  'mAbbreviatedDisplayName': '',\n  'mStackSize': 'SS_MEDIUM',\n  'mCanBeDiscarded': 'True',\n  'mRememberPickUp': 'False',\n  'mEnergyValue': '0.000000',\n  'mRadioactiveDecay': '0.000000',\n  'mForm': 'RF_INVALID',\n  'mSmallIcon': 'Texture2D /Game/FactoryGame/Buildable/Building/Wall/UI/Doors/IconDesc_ConcreteGate_256.IconDesc_ConcreteGate_256',\n  'mPersistentBigIcon': 'Texture2D /Game/FactoryGame/Buildable/Building/Wall/UI/Doors/IconDesc_ConcreteGate_512.IconDesc_ConcreteGate_512',\n  'mCrosshairMaterial': 'None',\n  'mDescriptorStatBars': '',\n  'mSubCategories': '(BlueprintGeneratedClass\\'\"/Game/FactoryGame/Interface/UI/InGame/BuildMenu/BuildCategories/Sub_Walls/SC_Doors.SC_Doors_C\"\\')',\n  'mMenuPriority': '6.000000',\n  'mFluidColor': '(B=0,G=0,R=0,A=0)',\n  'mGasColor': '(B=0,G=0,R=0,A=0)',\n  'mCompatibleItemDescriptors': '',\n  'mClassToScanFor': 'None',\n  'mScannableType': 'RTWOT_Default',\n  'mShouldOverrideScannerDisplayText': 'False',\n  'mScannerDisplayText': '',\n  'mScannerLightColor': '(B=0,G=0,R=0,A=0)'},\n 'Desc_Wall_Concrete_SDoor_8x4_C': {'ClassName': 'Desc_Wall_Concrete_SDoor_8x4_C',\n  'mDisplayName': '',\n  'mDescription': '',\n  'mAbbreviatedDisplayName': '',\n  'mStackSize': 'SS_MEDIUM',\n  'mCanBeDiscarded': 'True',\n  'mRememberPickUp': 'False',\n  'mEnergyValue': '0.000000',\n  'mRadioactiveDecay': '0.000000',\n  'mForm': 'RF_INVALID',\n  'mSmallIcon': 'Texture2D /Game/FactoryGame/Buildable/Building/Wall/UI/Doors/IconDesc_ConcreteSideDoor_256.IconDesc_ConcreteSideDoor_256',\n  'mPersistentBigIcon': 'Texture2D /Game/FactoryGame/Buildable/Building/Wall/UI/Doors/IconDesc_ConcreteSideDoor_512.IconDesc_ConcreteSideDoor_512',\n  'mCrosshairMaterial': 'None',\n  'mDescriptorStatBars': '',\n  'mSubCategories': '(BlueprintGeneratedClass\\'\"/Game/FactoryGame/Interface/UI/InGame/BuildMenu/BuildCategories/Sub_Walls/SC_Doors.SC_Doors_C\"\\')',\n  'mMenuPriority': '5.000000',\n  'mFluidColor': '(B=0,G=0,R=0,A=0)',\n  'mGasColor': '(B=0,G=0,R=0,A=0)',\n  'mCompatibleItemDescriptors': '',\n  'mClassToScanFor': 'None',\n  'mScannableType': 'RTWOT_Default',\n  'mShouldOverrideScannerDisplayText': 'False',\n  'mScannerDisplayText': '',\n  'mScannerLightColor': '(B=0,G=0,R=0,A=0)'},\n 'Desc_Wall_Concrete_8x1_Tris_C': {'ClassName': 'Desc_Wall_Concrete_8x1_Tris_C',\n  'mDisplayName': '',\n  'mDescription': '',\n  'mAbbreviatedDisplayName': '',\n  'mStackSize': 'SS_MEDIUM',\n  'mCanBeDiscarded': 'True',\n  'mRememberPickUp': 'False',\n  'mEnergyValue': '0.000000',\n  'mRadioactiveDecay': '0.000000',\n  'mForm': 'RF_INVALID',\n  'mSmallIcon': 'Texture2D /Game/FactoryGame/Buildable/Building/Wall/UI/UpDiagonal/IconDesc_ConcUpDiag1m_256.IconDesc_ConcUpDiag1m_256',\n  'mPersistentBigIcon': 'Texture2D /Game/FactoryGame/Buildable/Building/Wall/UI/UpDiagonal/IconDesc_ConcUpDiag1m_512.IconDesc_ConcUpDiag1m_512',\n  'mCrosshairMaterial': 'None',\n  'mDescriptorStatBars': '',\n  'mSubCategories': '(BlueprintGeneratedClass\\'\"/Game/FactoryGame/Interface/UI/InGame/BuildMenu/BuildCategories/Sub_Walls/SC_DiagonalWalls.SC_DiagonalWalls_C\"\\')',\n  'mMenuPriority': '5.000000',\n  'mFluidColor': '(B=0,G=0,R=0,A=0)',\n  'mGasColor': '(B=0,G=0,R=0,A=0)',\n  'mCompatibleItemDescriptors': '',\n  'mClassToScanFor': 'None',\n  'mScannableType': 'RTWOT_Default',\n  'mShouldOverrideScannerDisplayText': 'False',\n  'mScannerDisplayText': '',\n  'mScannerLightColor': '(B=0,G=0,R=0,A=0)'},\n 'Desc_Wall_Concrete_8x2_Tris_C': {'ClassName': 'Desc_Wall_Concrete_8x2_Tris_C',\n  'mDisplayName': '',\n  'mDescription': '',\n  'mAbbreviatedDisplayName': '',\n  'mStackSize': 'SS_MEDIUM',\n  'mCanBeDiscarded': 'True',\n  'mRememberPickUp': 'False',\n  'mEnergyValue': '0.000000',\n  'mRadioactiveDecay': '0.000000',\n  'mForm': 'RF_INVALID',\n  'mSmallIcon': 'Texture2D /Game/FactoryGame/Buildable/Building/Wall/UI/UpDiagonal/IconDesc_ConcUpDiag2m_256.IconDesc_ConcUpDiag2m_256',\n  'mPersistentBigIcon': 'Texture2D /Game/FactoryGame/Buildable/Building/Wall/UI/UpDiagonal/IconDesc_ConcUpDiag2m_512.IconDesc_ConcUpDiag2m_512',\n  'mCrosshairMaterial': 'None',\n  'mDescriptorStatBars': '',\n  'mSubCategories': '(BlueprintGeneratedClass\\'\"/Game/FactoryGame/Interface/UI/InGame/BuildMenu/BuildCategories/Sub_Walls/SC_DiagonalWalls.SC_DiagonalWalls_C\"\\')',\n  'mMenuPriority': '6.000000',\n  'mFluidColor': '(B=0,G=0,R=0,A=0)',\n  'mGasColor': '(B=0,G=0,R=0,A=0)',\n  'mCompatibleItemDescriptors': '',\n  'mClassToScanFor': 'None',\n  'mScannableType': 'RTWOT_Default',\n  'mShouldOverrideScannerDisplayText': 'False',\n  'mScannerDisplayText': '',\n  'mScannerLightColor': '(B=0,G=0,R=0,A=0)'},\n 'Desc_Wall_Concrete_8x4_Tris_C': {'ClassName': 'Desc_Wall_Concrete_8x4_Tris_C',\n  'mDisplayName': '',\n  'mDescription': '',\n  'mAbbreviatedDisplayName': '',\n  'mStackSize': 'SS_MEDIUM',\n  'mCanBeDiscarded': 'True',\n  'mRememberPickUp': 'False',\n  'mEnergyValue': '0.000000',\n  'mRadioactiveDecay': '0.000000',\n  'mForm': 'RF_INVALID',\n  'mSmallIcon': 'Texture2D /Game/FactoryGame/Buildable/Building/Wall/UI/UpDiagonal/IconDesc_ConcUpDiag4m_256.IconDesc_ConcUpDiag4m_256',\n  'mPersistentBigIcon': 'Texture2D /Game/FactoryGame/Buildable/Building/Wall/UI/UpDiagonal/IconDesc_ConcUpDiag4m_512.IconDesc_ConcUpDiag4m_512',\n  'mCrosshairMaterial': 'None',\n  'mDescriptorStatBars': '',\n  'mSubCategories': '(BlueprintGeneratedClass\\'\"/Game/FactoryGame/Interface/UI/InGame/BuildMenu/BuildCategories/Sub_Walls/SC_DiagonalWalls.SC_DiagonalWalls_C\"\\')',\n  'mMenuPriority': '7.000000',\n  'mFluidColor': '(B=0,G=0,R=0,A=0)',\n  'mGasColor': '(B=0,G=0,R=0,A=0)',\n  'mCompatibleItemDescriptors': '',\n  'mClassToScanFor': 'None',\n  'mScannableType': 'RTWOT_Default',\n  'mShouldOverrideScannerDisplayText': 'False',\n  'mScannerDisplayText': '',\n  'mScannerLightColor': '(B=0,G=0,R=0,A=0)'},\n 'Desc_Wall_Concrete_8x8_Tris_C': {'ClassName': 'Desc_Wall_Concrete_8x8_Tris_C',\n  'mDisplayName': '',\n  'mDescription': '',\n  'mAbbreviatedDisplayName': '',\n  'mStackSize': 'SS_MEDIUM',\n  'mCanBeDiscarded': 'True',\n  'mRememberPickUp': 'False',\n  'mEnergyValue': '0.000000',\n  'mRadioactiveDecay': '0.000000',\n  'mForm': 'RF_INVALID',\n  'mSmallIcon': 'Texture2D /Game/FactoryGame/Buildable/Building/Wall/UI/UpDiagonal/IconDesc_ConcUpDiag8m_256.IconDesc_ConcUpDiag8m_256',\n  'mPersistentBigIcon': 'Texture2D /Game/FactoryGame/Buildable/Building/Wall/UI/UpDiagonal/IconDesc_ConcUpDiag8m_512.IconDesc_ConcUpDiag8m_512',\n  'mCrosshairMaterial': 'None',\n  'mDescriptorStatBars': '',\n  'mSubCategories': '(BlueprintGeneratedClass\\'\"/Game/FactoryGame/Interface/UI/InGame/BuildMenu/BuildCategories/Sub_Walls/SC_DiagonalWalls.SC_DiagonalWalls_C\"\\')',\n  'mMenuPriority': '8.000000',\n  'mFluidColor': '(B=0,G=0,R=0,A=0)',\n  'mGasColor': '(B=0,G=0,R=0,A=0)',\n  'mCompatibleItemDescriptors': '',\n  'mClassToScanFor': 'None',\n  'mScannableType': 'RTWOT_Default',\n  'mShouldOverrideScannerDisplayText': 'False',\n  'mScannerDisplayText': '',\n  'mScannerLightColor': '(B=0,G=0,R=0,A=0)'},\n 'Desc_Wall_8x4_01_C': {'ClassName': 'Desc_Wall_8x4_01_C',\n  'mDisplayName': '',\n  'mDescription': '',\n  'mAbbreviatedDisplayName': '',\n  'mStackSize': 'SS_MEDIUM',\n  'mCanBeDiscarded': 'True',\n  'mRememberPickUp': 'False',\n  'mEnergyValue': '0.000000',\n  'mRadioactiveDecay': '0.000000',\n  'mForm': 'RF_INVALID',\n  'mSmallIcon': 'Texture2D /Game/FactoryGame/Buildable/Building/Wall/UI/Regular/IconDesc_FicsitWall8x4_256.IconDesc_FicsitWall8x4_256',\n  'mPersistentBigIcon': 'Texture2D /Game/FactoryGame/Buildable/Building/Wall/UI/Regular/IconDesc_FicsitWall8x4_512.IconDesc_FicsitWall8x4_512',\n  'mCrosshairMaterial': 'None',\n  'mDescriptorStatBars': '',\n  'mSubCategories': '(BlueprintGeneratedClass\\'\"/Game/FactoryGame/Interface/UI/InGame/BuildMenu/BuildCategories/Sub_Walls/SC_Walls.SC_Walls_C\"\\')',\n  'mMenuPriority': '3.000000',\n  'mFluidColor': '(B=0,G=0,R=0,A=0)',\n  'mGasColor': '(B=0,G=0,R=0,A=0)',\n  'mCompatibleItemDescriptors': '',\n  'mClassToScanFor': 'None',\n  'mScannableType': 'RTWOT_Default',\n  'mShouldOverrideScannerDisplayText': 'False',\n  'mScannerDisplayText': '',\n  'mScannerLightColor': '(B=0,G=0,R=0,A=0)'},\n 'Desc_Wall_Conveyor_8x4_01_C': {'ClassName': 'Desc_Wall_Conveyor_8x4_01_C',\n  'mDisplayName': '',\n  'mDescription': '',\n  'mAbbreviatedDisplayName': '',\n  'mStackSize': 'SS_MEDIUM',\n  'mCanBeDiscarded': 'True',\n  'mRememberPickUp': 'False',\n  'mEnergyValue': '0.000000',\n  'mRadioactiveDecay': '0.000000',\n  'mForm': 'RF_INVALID',\n  'mSmallIcon': 'Texture2D /Game/FactoryGame/Buildable/Building/Wall/UI/ConveyorHole/Wall_Conveyor_x3_Orange_256.Wall_Conveyor_x3_Orange_256',\n  'mPersistentBigIcon': 'Texture2D /Game/FactoryGame/Buildable/Building/Wall/UI/ConveyorHole/Wall_Conveyor_x3_Orange_512.Wall_Conveyor_x3_Orange_512',\n  'mCrosshairMaterial': 'None',\n  'mDescriptorStatBars': '',\n  'mSubCategories': '(BlueprintGeneratedClass\\'\"/Game/FactoryGame/Interface/UI/InGame/BuildMenu/BuildCategories/Sub_Walls/SC_ConveyorConnections.SC_ConveyorConnections_C\"\\')',\n  'mMenuPriority': '3.000000',\n  'mFluidColor': '(B=0,G=0,R=0,A=0)',\n  'mGasColor': '(B=0,G=0,R=0,A=0)',\n  'mCompatibleItemDescriptors': '',\n  'mClassToScanFor': 'None',\n  'mScannableType': 'RTWOT_Default',\n  'mShouldOverrideScannerDisplayText': 'False',\n  'mScannerDisplayText': '',\n  'mScannerLightColor': '(B=0,G=0,R=0,A=0)'},\n 'Desc_Wall_Conveyor_8x4_02_C': {'ClassName': 'Desc_Wall_Conveyor_8x4_02_C',\n  'mDisplayName': '',\n  'mDescription': '',\n  'mAbbreviatedDisplayName': '',\n  'mStackSize': 'SS_MEDIUM',\n  'mCanBeDiscarded': 'True',\n  'mRememberPickUp': 'False',\n  'mEnergyValue': '0.000000',\n  'mRadioactiveDecay': '0.000000',\n  'mForm': 'RF_INVALID',\n  'mSmallIcon': 'Texture2D /Game/FactoryGame/Buildable/Building/Wall/UI/ConveyorHole/Wall_Conveyor_x2_Orange_256.Wall_Conveyor_x2_Orange_256',\n  'mPersistentBigIcon': 'Texture2D /Game/FactoryGame/Buildable/Building/Wall/UI/ConveyorHole/Wall_Conveyor_x2_Orange_512.Wall_Conveyor_x2_Orange_512',\n  'mCrosshairMaterial': 'None',\n  'mDescriptorStatBars': '',\n  'mSubCategories': '(BlueprintGeneratedClass\\'\"/Game/FactoryGame/Interface/UI/InGame/BuildMenu/BuildCategories/Sub_Walls/SC_ConveyorConnections.SC_ConveyorConnections_C\"\\')',\n  'mMenuPriority': '2.000000',\n  'mFluidColor': '(B=0,G=0,R=0,A=0)',\n  'mGasColor': '(B=0,G=0,R=0,A=0)',\n  'mCompatibleItemDescriptors': '',\n  'mClassToScanFor': 'None',\n  'mScannableType': 'RTWOT_Default',\n  'mShouldOverrideScannerDisplayText': 'False',\n  'mScannerDisplayText': '',\n  'mScannerLightColor': '(B=0,G=0,R=0,A=0)'},\n 'Desc_Wall_Conveyor_8x4_03_C': {'ClassName': 'Desc_Wall_Conveyor_8x4_03_C',\n  'mDisplayName': '',\n  'mDescription': '',\n  'mAbbreviatedDisplayName': '',\n  'mStackSize': 'SS_MEDIUM',\n  'mCanBeDiscarded': 'True',\n  'mRememberPickUp': 'False',\n  'mEnergyValue': '0.000000',\n  'mRadioactiveDecay': '0.000000',\n  'mForm': 'RF_INVALID',\n  'mSmallIcon': 'Texture2D /Game/FactoryGame/Buildable/Building/Wall/UI/ConveyorHole/Wall_Conveyor_x1_Orange_256.Wall_Conveyor_x1_Orange_256',\n  'mPersistentBigIcon': 'Texture2D /Game/FactoryGame/Buildable/Building/Wall/UI/ConveyorHole/Wall_Conveyor_x1_Orange_512.Wall_Conveyor_x1_Orange_512',\n  'mCrosshairMaterial': 'None',\n  'mDescriptorStatBars': '',\n  'mSubCategories': '(BlueprintGeneratedClass\\'\"/Game/FactoryGame/Interface/UI/InGame/BuildMenu/BuildCategories/Sub_Walls/SC_ConveyorConnections.SC_ConveyorConnections_C\"\\')',\n  'mMenuPriority': '1.000000',\n  'mFluidColor': '(B=0,G=0,R=0,A=0)',\n  'mGasColor': '(B=0,G=0,R=0,A=0)',\n  'mCompatibleItemDescriptors': '',\n  'mClassToScanFor': 'None',\n  'mScannableType': 'RTWOT_Default',\n  'mShouldOverrideScannerDisplayText': 'False',\n  'mScannerDisplayText': '',\n  'mScannerLightColor': '(B=0,G=0,R=0,A=0)'},\n 'Desc_Wall_Door_8x4_01_C': {'ClassName': 'Desc_Wall_Door_8x4_01_C',\n  'mDisplayName': '',\n  'mDescription': '',\n  'mAbbreviatedDisplayName': '',\n  'mStackSize': 'SS_MEDIUM',\n  'mCanBeDiscarded': 'True',\n  'mRememberPickUp': 'False',\n  'mEnergyValue': '0.000000',\n  'mRadioactiveDecay': '0.000000',\n  'mForm': 'RF_INVALID',\n  'mSmallIcon': 'Texture2D /Game/FactoryGame/Buildable/Building/Wall/UI/Doors/IconDesc_FicsitCenterDoor_256.IconDesc_FicsitCenterDoor_256',\n  'mPersistentBigIcon': 'Texture2D /Game/FactoryGame/Buildable/Building/Wall/UI/Doors/IconDesc_FicsitCenterDoor_512.IconDesc_FicsitCenterDoor_512',\n  'mCrosshairMaterial': 'None',\n  'mDescriptorStatBars': '',\n  'mSubCategories': '(BlueprintGeneratedClass\\'\"/Game/FactoryGame/Interface/UI/InGame/BuildMenu/BuildCategories/Sub_Walls/SC_Doors.SC_Doors_C\"\\')',\n  'mMenuPriority': '1.000000',\n  'mFluidColor': '(B=0,G=0,R=0,A=0)',\n  'mGasColor': '(B=0,G=0,R=0,A=0)',\n  'mCompatibleItemDescriptors': '',\n  'mClassToScanFor': 'None',\n  'mScannableType': 'RTWOT_Default',\n  'mShouldOverrideScannerDisplayText': 'False',\n  'mScannerDisplayText': '',\n  'mScannerLightColor': '(B=0,G=0,R=0,A=0)'},\n 'Desc_Wall_Door_8x4_03_C': {'ClassName': 'Desc_Wall_Door_8x4_03_C',\n  'mDisplayName': '',\n  'mDescription': '',\n  'mAbbreviatedDisplayName': '',\n  'mStackSize': 'SS_MEDIUM',\n  'mCanBeDiscarded': 'True',\n  'mRememberPickUp': 'False',\n  'mEnergyValue': '0.000000',\n  'mRadioactiveDecay': '0.000000',\n  'mForm': 'RF_INVALID',\n  'mSmallIcon': 'Texture2D /Game/FactoryGame/Buildable/Building/Wall/UI/Doors/IconDesc_FicsitSideDoor_256.IconDesc_FicsitSideDoor_256',\n  'mPersistentBigIcon': 'Texture2D /Game/FactoryGame/Buildable/Building/Wall/UI/Doors/IconDesc_FicsitSideDoor_512.IconDesc_FicsitSideDoor_512',\n  'mCrosshairMaterial': 'None',\n  'mDescriptorStatBars': '',\n  'mSubCategories': '(BlueprintGeneratedClass\\'\"/Game/FactoryGame/Interface/UI/InGame/BuildMenu/BuildCategories/Sub_Walls/SC_Doors.SC_Doors_C\"\\')',\n  'mMenuPriority': '2.000000',\n  'mFluidColor': '(B=0,G=0,R=0,A=0)',\n  'mGasColor': '(B=0,G=0,R=0,A=0)',\n  'mCompatibleItemDescriptors': '',\n  'mClassToScanFor': 'None',\n  'mScannableType': 'RTWOT_Default',\n  'mShouldOverrideScannerDisplayText': 'False',\n  'mScannerDisplayText': '',\n  'mScannerLightColor': '(B=0,G=0,R=0,A=0)'},\n 'Desc_Wall_Gate_8x4_01_C': {'ClassName': 'Desc_Wall_Gate_8x4_01_C',\n  'mDisplayName': '',\n  'mDescription': '',\n  'mAbbreviatedDisplayName': '',\n  'mStackSize': 'SS_MEDIUM',\n  'mCanBeDiscarded': 'True',\n  'mRememberPickUp': 'False',\n  'mEnergyValue': '0.000000',\n  'mRadioactiveDecay': '0.000000',\n  'mForm': 'RF_INVALID',\n  'mSmallIcon': 'Texture2D /Game/FactoryGame/Buildable/Building/Wall/UI/Doors/IconDesc_FicsitGate_256.IconDesc_FicsitGate_256',\n  'mPersistentBigIcon': 'Texture2D /Game/FactoryGame/Buildable/Building/Wall/UI/Doors/IconDesc_FicsitGate_512.IconDesc_FicsitGate_512',\n  'mCrosshairMaterial': 'None',\n  'mDescriptorStatBars': '',\n  'mSubCategories': '(BlueprintGeneratedClass\\'\"/Game/FactoryGame/Interface/UI/InGame/BuildMenu/BuildCategories/Sub_Walls/SC_Doors.SC_Doors_C\"\\')',\n  'mMenuPriority': '3.000000',\n  'mFluidColor': '(B=0,G=0,R=0,A=0)',\n  'mGasColor': '(B=0,G=0,R=0,A=0)',\n  'mCompatibleItemDescriptors': '',\n  'mClassToScanFor': 'None',\n  'mScannableType': 'RTWOT_Default',\n  'mShouldOverrideScannerDisplayText': 'False',\n  'mScannerDisplayText': '',\n  'mScannerLightColor': '(B=0,G=0,R=0,A=0)'},\n 'Desc_Wall_Orange_8x1_C': {'ClassName': 'Desc_Wall_Orange_8x1_C',\n  'mDisplayName': '',\n  'mDescription': '',\n  'mAbbreviatedDisplayName': '',\n  'mStackSize': 'SS_MEDIUM',\n  'mCanBeDiscarded': 'True',\n  'mRememberPickUp': 'False',\n  'mEnergyValue': '0.000000',\n  'mRadioactiveDecay': '0.000000',\n  'mForm': 'RF_INVALID',\n  'mSmallIcon': 'Texture2D /Game/FactoryGame/Buildable/Building/Wall/UI/Regular/IconDesc_FicsitWall8x1_256.IconDesc_FicsitWall8x1_256',\n  'mPersistentBigIcon': 'Texture2D /Game/FactoryGame/Buildable/Building/Wall/UI/Regular/IconDesc_FicsitWall8x1_512.IconDesc_FicsitWall8x1_512',\n  'mCrosshairMaterial': 'None',\n  'mDescriptorStatBars': '',\n  'mSubCategories': '(BlueprintGeneratedClass\\'\"/Game/FactoryGame/Interface/UI/InGame/BuildMenu/BuildCategories/Sub_Walls/SC_Walls.SC_Walls_C\"\\')',\n  'mMenuPriority': '1.000000',\n  'mFluidColor': '(B=0,G=0,R=0,A=0)',\n  'mGasColor': '(B=0,G=0,R=0,A=0)',\n  'mCompatibleItemDescriptors': '',\n  'mClassToScanFor': 'None',\n  'mScannableType': 'RTWOT_Default',\n  'mShouldOverrideScannerDisplayText': 'False',\n  'mScannerDisplayText': '',\n  'mScannerLightColor': '(B=0,G=0,R=0,A=0)'},\n 'Desc_Wall_Orange_8x4_Corner_01_C': {'ClassName': 'Desc_Wall_Orange_8x4_Corner_01_C',\n  'mDisplayName': '',\n  'mDescription': '',\n  'mAbbreviatedDisplayName': '',\n  'mStackSize': 'SS_MEDIUM',\n  'mCanBeDiscarded': 'True',\n  'mRememberPickUp': 'False',\n  'mEnergyValue': '0.000000',\n  'mRadioactiveDecay': '0.000000',\n  'mForm': 'RF_INVALID',\n  'mSmallIcon': 'Texture2D /Game/FactoryGame/Buildable/Building/Wall/UI/Triangle/IconDesc_FicsitTriangleWall4m_256.IconDesc_FicsitTriangleWall4m_256',\n  'mPersistentBigIcon': 'Texture2D /Game/FactoryGame/Buildable/Building/Wall/UI/Triangle/IconDesc_FicsitTriangleWall4m_512.IconDesc_FicsitTriangleWall4m_512',\n  'mCrosshairMaterial': 'None',\n  'mDescriptorStatBars': '',\n  'mSubCategories': '(BlueprintGeneratedClass\\'\"/Game/FactoryGame/Interface/UI/InGame/BuildMenu/BuildCategories/Sub_Walls/SC_AngularWalls.SC_AngularWalls_C\"\\')',\n  'mMenuPriority': '3.000000',\n  'mFluidColor': '(B=0,G=0,R=0,A=0)',\n  'mGasColor': '(B=0,G=0,R=0,A=0)',\n  'mCompatibleItemDescriptors': '',\n  'mClassToScanFor': 'None',\n  'mScannableType': 'RTWOT_Default',\n  'mShouldOverrideScannerDisplayText': 'False',\n  'mScannerDisplayText': '',\n  'mScannerLightColor': '(B=0,G=0,R=0,A=0)'},\n 'Desc_Wall_Orange_8x4_Corner_02_C': {'ClassName': 'Desc_Wall_Orange_8x4_Corner_02_C',\n  'mDisplayName': '',\n  'mDescription': '',\n  'mAbbreviatedDisplayName': '',\n  'mStackSize': 'SS_MEDIUM',\n  'mCanBeDiscarded': 'True',\n  'mRememberPickUp': 'False',\n  'mEnergyValue': '0.000000',\n  'mRadioactiveDecay': '0.000000',\n  'mForm': 'RF_INVALID',\n  'mSmallIcon': 'Texture2D /Game/FactoryGame/Buildable/Building/Wall/UI/Angular/Inwards/IconDesc_FICSITWallInwards_8x4_256.IconDesc_FICSITWallInwards_8x4_256',\n  'mPersistentBigIcon': 'Texture2D /Game/FactoryGame/Buildable/Building/Wall/UI/Angular/Inwards/IconDesc_FICSITWallInwards_8x4_512.IconDesc_FICSITWallInwards_8x4_512',\n  'mCrosshairMaterial': 'None',\n  'mDescriptorStatBars': '',\n  'mSubCategories': '(BlueprintGeneratedClass\\'\"/Game/FactoryGame/Interface/UI/InGame/BuildMenu/BuildCategories/Sub_Walls/SC_AngularWalls.SC_AngularWalls_C\"\\')',\n  'mMenuPriority': '5.000000',\n  'mFluidColor': '(B=0,G=0,R=0,A=0)',\n  'mGasColor': '(B=0,G=0,R=0,A=0)',\n  'mCompatibleItemDescriptors': '',\n  'mClassToScanFor': 'None',\n  'mScannableType': 'RTWOT_Default',\n  'mShouldOverrideScannerDisplayText': 'False',\n  'mScannerDisplayText': '',\n  'mScannerLightColor': '(B=0,G=0,R=0,A=0)'},\n 'Desc_Wall_Orange_8x8_Corner_01_C': {'ClassName': 'Desc_Wall_Orange_8x8_Corner_01_C',\n  'mDisplayName': '',\n  'mDescription': '',\n  'mAbbreviatedDisplayName': '',\n  'mStackSize': 'SS_MEDIUM',\n  'mCanBeDiscarded': 'True',\n  'mRememberPickUp': 'False',\n  'mEnergyValue': '0.000000',\n  'mRadioactiveDecay': '0.000000',\n  'mForm': 'RF_INVALID',\n  'mSmallIcon': 'Texture2D /Game/FactoryGame/Buildable/Building/Wall/UI/Triangle/IconDesc_FicsitTriangleWall8m_256.IconDesc_FicsitTriangleWall8m_256',\n  'mPersistentBigIcon': 'Texture2D /Game/FactoryGame/Buildable/Building/Wall/UI/Triangle/IconDesc_FicsitTriangleWall8m_512.IconDesc_FicsitTriangleWall8m_512',\n  'mCrosshairMaterial': 'None',\n  'mDescriptorStatBars': '',\n  'mSubCategories': '(BlueprintGeneratedClass\\'\"/Game/FactoryGame/Interface/UI/InGame/BuildMenu/BuildCategories/Sub_Walls/SC_AngularWalls.SC_AngularWalls_C\"\\')',\n  'mMenuPriority': '4.000000',\n  'mFluidColor': '(B=0,G=0,R=0,A=0)',\n  'mGasColor': '(B=0,G=0,R=0,A=0)',\n  'mCompatibleItemDescriptors': '',\n  'mClassToScanFor': 'None',\n  'mScannableType': 'RTWOT_Default',\n  'mShouldOverrideScannerDisplayText': 'False',\n  'mScannerDisplayText': '',\n  'mScannerLightColor': '(B=0,G=0,R=0,A=0)'},\n 'Desc_Wall_Orange_8x8_Corner_02_C': {'ClassName': 'Desc_Wall_Orange_8x8_Corner_02_C',\n  'mDisplayName': '',\n  'mDescription': '',\n  'mAbbreviatedDisplayName': '',\n  'mStackSize': 'SS_MEDIUM',\n  'mCanBeDiscarded': 'True',\n  'mRememberPickUp': 'False',\n  'mEnergyValue': '0.000000',\n  'mRadioactiveDecay': '0.000000',\n  'mForm': 'RF_INVALID',\n  'mSmallIcon': 'Texture2D /Game/FactoryGame/Buildable/Building/Wall/UI/Angular/Inwards/IconDesc_FICSITWallInwards_8x8_256.IconDesc_FICSITWallInwards_8x8_256',\n  'mPersistentBigIcon': 'Texture2D /Game/FactoryGame/Buildable/Building/Wall/UI/Angular/Inwards/IconDesc_FICSITWallInwards_8x8_512.IconDesc_FICSITWallInwards_8x8_512',\n  'mCrosshairMaterial': 'None',\n  'mDescriptorStatBars': '',\n  'mSubCategories': '(BlueprintGeneratedClass\\'\"/Game/FactoryGame/Interface/UI/InGame/BuildMenu/BuildCategories/Sub_Walls/SC_AngularWalls.SC_AngularWalls_C\"\\')',\n  'mMenuPriority': '6.000000',\n  'mFluidColor': '(B=0,G=0,R=0,A=0)',\n  'mGasColor': '(B=0,G=0,R=0,A=0)',\n  'mCompatibleItemDescriptors': '',\n  'mClassToScanFor': 'None',\n  'mScannableType': 'RTWOT_Default',\n  'mShouldOverrideScannerDisplayText': 'False',\n  'mScannerDisplayText': '',\n  'mScannerLightColor': '(B=0,G=0,R=0,A=0)'},\n 'Desc_Wall_Orange_Angular_8x4_C': {'ClassName': 'Desc_Wall_Orange_Angular_8x4_C',\n  'mDisplayName': '',\n  'mDescription': '',\n  'mAbbreviatedDisplayName': '',\n  'mStackSize': 'SS_MEDIUM',\n  'mCanBeDiscarded': 'True',\n  'mRememberPickUp': 'False',\n  'mEnergyValue': '0.000000',\n  'mRadioactiveDecay': '0.000000',\n  'mForm': 'RF_INVALID',\n  'mSmallIcon': 'Texture2D /Game/FactoryGame/Buildable/Building/Wall/UI/Angular/IconDesc_FicsitAngWall4m_256.IconDesc_FicsitAngWall4m_256',\n  'mPersistentBigIcon': 'Texture2D /Game/FactoryGame/Buildable/Building/Wall/UI/Angular/IconDesc_FicsitAngWall4m_512.IconDesc_FicsitAngWall4m_512',\n  'mCrosshairMaterial': 'None',\n  'mDescriptorStatBars': '',\n  'mSubCategories': '(BlueprintGeneratedClass\\'\"/Game/FactoryGame/Interface/UI/InGame/BuildMenu/BuildCategories/Sub_Walls/SC_AngularWalls.SC_AngularWalls_C\"\\')',\n  'mMenuPriority': '1.000000',\n  'mFluidColor': '(B=0,G=0,R=0,A=0)',\n  'mGasColor': '(B=0,G=0,R=0,A=0)',\n  'mCompatibleItemDescriptors': '',\n  'mClassToScanFor': 'None',\n  'mScannableType': 'RTWOT_Default',\n  'mShouldOverrideScannerDisplayText': 'False',\n  'mScannerDisplayText': '',\n  'mScannerLightColor': '(B=0,G=0,R=0,A=0)'},\n 'Desc_Wall_Orange_Angular_8x8_C': {'ClassName': 'Desc_Wall_Orange_Angular_8x8_C',\n  'mDisplayName': '',\n  'mDescription': '',\n  'mAbbreviatedDisplayName': '',\n  'mStackSize': 'SS_MEDIUM',\n  'mCanBeDiscarded': 'True',\n  'mRememberPickUp': 'False',\n  'mEnergyValue': '0.000000',\n  'mRadioactiveDecay': '0.000000',\n  'mForm': 'RF_INVALID',\n  'mSmallIcon': 'Texture2D /Game/FactoryGame/Buildable/Building/Wall/UI/Angular/IconDesc_FicsitAngWall8m_256.IconDesc_FicsitAngWall8m_256',\n  'mPersistentBigIcon': 'Texture2D /Game/FactoryGame/Buildable/Building/Wall/UI/Angular/IconDesc_FicsitAngWall8m_512.IconDesc_FicsitAngWall8m_512',\n  'mCrosshairMaterial': 'None',\n  'mDescriptorStatBars': '',\n  'mSubCategories': '(BlueprintGeneratedClass\\'\"/Game/FactoryGame/Interface/UI/InGame/BuildMenu/BuildCategories/Sub_Walls/SC_AngularWalls.SC_AngularWalls_C\"\\')',\n  'mMenuPriority': '2.000000',\n  'mFluidColor': '(B=0,G=0,R=0,A=0)',\n  'mGasColor': '(B=0,G=0,R=0,A=0)',\n  'mCompatibleItemDescriptors': '',\n  'mClassToScanFor': 'None',\n  'mScannableType': 'RTWOT_Default',\n  'mShouldOverrideScannerDisplayText': 'False',\n  'mScannerDisplayText': '',\n  'mScannerLightColor': '(B=0,G=0,R=0,A=0)'},\n 'Desc_Wall_Orange_8x1_FlipTris_C': {'ClassName': 'Desc_Wall_Orange_8x1_FlipTris_C',\n  'mDisplayName': '',\n  'mDescription': '',\n  'mAbbreviatedDisplayName': '',\n  'mStackSize': 'SS_MEDIUM',\n  'mCanBeDiscarded': 'True',\n  'mRememberPickUp': 'False',\n  'mEnergyValue': '0.000000',\n  'mRadioactiveDecay': '0.000000',\n  'mForm': 'RF_INVALID',\n  'mSmallIcon': 'Texture2D /Game/FactoryGame/Buildable/Building/Wall/UI/DownDiagonal/IconDesc_FicsitDownDiag1m_256.IconDesc_FicsitDownDiag1m_256',\n  'mPersistentBigIcon': 'Texture2D /Game/FactoryGame/Buildable/Building/Wall/UI/DownDiagonal/IconDesc_FicsitDownDiag1m_512.IconDesc_FicsitDownDiag1m_512',\n  'mCrosshairMaterial': 'None',\n  'mDescriptorStatBars': '',\n  'mSubCategories': '(BlueprintGeneratedClass\\'\"/Game/FactoryGame/Interface/UI/InGame/BuildMenu/BuildCategories/Sub_Walls/SC_UpperDiagonalWalls.SC_UpperDiagonalWalls_C\"\\')',\n  'mMenuPriority': '1.000000',\n  'mFluidColor': '(B=0,G=0,R=0,A=0)',\n  'mGasColor': '(B=0,G=0,R=0,A=0)',\n  'mCompatibleItemDescriptors': '',\n  'mClassToScanFor': 'None',\n  'mScannableType': 'RTWOT_Default',\n  'mShouldOverrideScannerDisplayText': 'False',\n  'mScannerDisplayText': '',\n  'mScannerLightColor': '(B=0,G=0,R=0,A=0)'},\n 'Desc_Wall_Orange_8x2_FlipTris_C': {'ClassName': 'Desc_Wall_Orange_8x2_FlipTris_C',\n  'mDisplayName': '',\n  'mDescription': '',\n  'mAbbreviatedDisplayName': '',\n  'mStackSize': 'SS_MEDIUM',\n  'mCanBeDiscarded': 'True',\n  'mRememberPickUp': 'False',\n  'mEnergyValue': '0.000000',\n  'mRadioactiveDecay': '0.000000',\n  'mForm': 'RF_INVALID',\n  'mSmallIcon': 'Texture2D /Game/FactoryGame/Buildable/Building/Wall/UI/DownDiagonal/IconDesc_FicsitDownDiag2m_256.IconDesc_FicsitDownDiag2m_256',\n  'mPersistentBigIcon': 'Texture2D /Game/FactoryGame/Buildable/Building/Wall/UI/DownDiagonal/IconDesc_FicsitDownDiag2m_512.IconDesc_FicsitDownDiag2m_512',\n  'mCrosshairMaterial': 'None',\n  'mDescriptorStatBars': '',\n  'mSubCategories': '(BlueprintGeneratedClass\\'\"/Game/FactoryGame/Interface/UI/InGame/BuildMenu/BuildCategories/Sub_Walls/SC_UpperDiagonalWalls.SC_UpperDiagonalWalls_C\"\\')',\n  'mMenuPriority': '2.000000',\n  'mFluidColor': '(B=0,G=0,R=0,A=0)',\n  'mGasColor': '(B=0,G=0,R=0,A=0)',\n  'mCompatibleItemDescriptors': '',\n  'mClassToScanFor': 'None',\n  'mScannableType': 'RTWOT_Default',\n  'mShouldOverrideScannerDisplayText': 'False',\n  'mScannerDisplayText': '',\n  'mScannerLightColor': '(B=0,G=0,R=0,A=0)'},\n 'Desc_Wall_Orange_8x4_FlipTris_C': {'ClassName': 'Desc_Wall_Orange_8x4_FlipTris_C',\n  'mDisplayName': '',\n  'mDescription': '',\n  'mAbbreviatedDisplayName': '',\n  'mStackSize': 'SS_MEDIUM',\n  'mCanBeDiscarded': 'True',\n  'mRememberPickUp': 'False',\n  'mEnergyValue': '0.000000',\n  'mRadioactiveDecay': '0.000000',\n  'mForm': 'RF_INVALID',\n  'mSmallIcon': 'Texture2D /Game/FactoryGame/Buildable/Building/Wall/UI/DownDiagonal/IconDesc_FicsitDownDiag4m_256.IconDesc_FicsitDownDiag4m_256',\n  'mPersistentBigIcon': 'Texture2D /Game/FactoryGame/Buildable/Building/Wall/UI/DownDiagonal/IconDesc_FicsitDownDiag4m_512.IconDesc_FicsitDownDiag4m_512',\n  'mCrosshairMaterial': 'None',\n  'mDescriptorStatBars': '',\n  'mSubCategories': '(BlueprintGeneratedClass\\'\"/Game/FactoryGame/Interface/UI/InGame/BuildMenu/BuildCategories/Sub_Walls/SC_UpperDiagonalWalls.SC_UpperDiagonalWalls_C\"\\')',\n  'mMenuPriority': '3.000000',\n  'mFluidColor': '(B=0,G=0,R=0,A=0)',\n  'mGasColor': '(B=0,G=0,R=0,A=0)',\n  'mCompatibleItemDescriptors': '',\n  'mClassToScanFor': 'None',\n  'mScannableType': 'RTWOT_Default',\n  'mShouldOverrideScannerDisplayText': 'False',\n  'mScannerDisplayText': '',\n  'mScannerLightColor': '(B=0,G=0,R=0,A=0)'},\n 'Desc_Wall_Orange_8x8_FlipTris_C': {'ClassName': 'Desc_Wall_Orange_8x8_FlipTris_C',\n  'mDisplayName': '',\n  'mDescription': '',\n  'mAbbreviatedDisplayName': '',\n  'mStackSize': 'SS_MEDIUM',\n  'mCanBeDiscarded': 'True',\n  'mRememberPickUp': 'False',\n  'mEnergyValue': '0.000000',\n  'mRadioactiveDecay': '0.000000',\n  'mForm': 'RF_INVALID',\n  'mSmallIcon': 'Texture2D /Game/FactoryGame/Buildable/Building/Wall/UI/DownDiagonal/IconDesc_FicsitDownDiag8m_256.IconDesc_FicsitDownDiag8m_256',\n  'mPersistentBigIcon': 'Texture2D /Game/FactoryGame/Buildable/Building/Wall/UI/DownDiagonal/IconDesc_FicsitDownDiag8m_512.IconDesc_FicsitDownDiag8m_512',\n  'mCrosshairMaterial': 'None',\n  'mDescriptorStatBars': '',\n  'mSubCategories': '(BlueprintGeneratedClass\\'\"/Game/FactoryGame/Interface/UI/InGame/BuildMenu/BuildCategories/Sub_Walls/SC_UpperDiagonalWalls.SC_UpperDiagonalWalls_C\"\\')',\n  'mMenuPriority': '4.000000',\n  'mFluidColor': '(B=0,G=0,R=0,A=0)',\n  'mGasColor': '(B=0,G=0,R=0,A=0)',\n  'mCompatibleItemDescriptors': '',\n  'mClassToScanFor': 'None',\n  'mScannableType': 'RTWOT_Default',\n  'mShouldOverrideScannerDisplayText': 'False',\n  'mScannerDisplayText': '',\n  'mScannerLightColor': '(B=0,G=0,R=0,A=0)'},\n 'Desc_Wall_Orange_8x1_Tris_C': {'ClassName': 'Desc_Wall_Orange_8x1_Tris_C',\n  'mDisplayName': '',\n  'mDescription': '',\n  'mAbbreviatedDisplayName': '',\n  'mStackSize': 'SS_MEDIUM',\n  'mCanBeDiscarded': 'True',\n  'mRememberPickUp': 'False',\n  'mEnergyValue': '0.000000',\n  'mRadioactiveDecay': '0.000000',\n  'mForm': 'RF_INVALID',\n  'mSmallIcon': 'Texture2D /Game/FactoryGame/Buildable/Building/Wall/UI/UpDiagonal/IconDesc_FicsitUpDiag1m_256.IconDesc_FicsitUpDiag1m_256',\n  'mPersistentBigIcon': 'Texture2D /Game/FactoryGame/Buildable/Building/Wall/UI/UpDiagonal/IconDesc_FicsitUpDiag1m_512.IconDesc_FicsitUpDiag1m_512',\n  'mCrosshairMaterial': 'None',\n  'mDescriptorStatBars': '',\n  'mSubCategories': '(BlueprintGeneratedClass\\'\"/Game/FactoryGame/Interface/UI/InGame/BuildMenu/BuildCategories/Sub_Walls/SC_DiagonalWalls.SC_DiagonalWalls_C\"\\')',\n  'mMenuPriority': '1.000000',\n  'mFluidColor': '(B=0,G=0,R=0,A=0)',\n  'mGasColor': '(B=0,G=0,R=0,A=0)',\n  'mCompatibleItemDescriptors': '',\n  'mClassToScanFor': 'None',\n  'mScannableType': 'RTWOT_Default',\n  'mShouldOverrideScannerDisplayText': 'False',\n  'mScannerDisplayText': '',\n  'mScannerLightColor': '(B=0,G=0,R=0,A=0)'},\n 'Desc_Wall_Orange_8x2_Tris_C': {'ClassName': 'Desc_Wall_Orange_8x2_Tris_C',\n  'mDisplayName': '',\n  'mDescription': '',\n  'mAbbreviatedDisplayName': '',\n  'mStackSize': 'SS_MEDIUM',\n  'mCanBeDiscarded': 'True',\n  'mRememberPickUp': 'False',\n  'mEnergyValue': '0.000000',\n  'mRadioactiveDecay': '0.000000',\n  'mForm': 'RF_INVALID',\n  'mSmallIcon': 'Texture2D /Game/FactoryGame/Buildable/Building/Wall/UI/UpDiagonal/IconDesc_FicsitUpDiag2m_256.IconDesc_FicsitUpDiag2m_256',\n  'mPersistentBigIcon': 'Texture2D /Game/FactoryGame/Buildable/Building/Wall/UI/UpDiagonal/IconDesc_FicsitUpDiag2m_512.IconDesc_FicsitUpDiag2m_512',\n  'mCrosshairMaterial': 'None',\n  'mDescriptorStatBars': '',\n  'mSubCategories': '(BlueprintGeneratedClass\\'\"/Game/FactoryGame/Interface/UI/InGame/BuildMenu/BuildCategories/Sub_Walls/SC_DiagonalWalls.SC_DiagonalWalls_C\"\\')',\n  'mMenuPriority': '2.000000',\n  'mFluidColor': '(B=0,G=0,R=0,A=0)',\n  'mGasColor': '(B=0,G=0,R=0,A=0)',\n  'mCompatibleItemDescriptors': '',\n  'mClassToScanFor': 'None',\n  'mScannableType': 'RTWOT_Default',\n  'mShouldOverrideScannerDisplayText': 'False',\n  'mScannerDisplayText': '',\n  'mScannerLightColor': '(B=0,G=0,R=0,A=0)'},\n 'Desc_Wall_Orange_8x4_Tris_C': {'ClassName': 'Desc_Wall_Orange_8x4_Tris_C',\n  'mDisplayName': '',\n  'mDescription': '',\n  'mAbbreviatedDisplayName': '',\n  'mStackSize': 'SS_MEDIUM',\n  'mCanBeDiscarded': 'True',\n  'mRememberPickUp': 'False',\n  'mEnergyValue': '0.000000',\n  'mRadioactiveDecay': '0.000000',\n  'mForm': 'RF_INVALID',\n  'mSmallIcon': 'Texture2D /Game/FactoryGame/Buildable/Building/Wall/UI/UpDiagonal/IconDesc_FicsitUpDiag4m_256.IconDesc_FicsitUpDiag4m_256',\n  'mPersistentBigIcon': 'Texture2D /Game/FactoryGame/Buildable/Building/Wall/UI/UpDiagonal/IconDesc_FicsitUpDiag4m_512.IconDesc_FicsitUpDiag4m_512',\n  'mCrosshairMaterial': 'None',\n  'mDescriptorStatBars': '',\n  'mSubCategories': '(BlueprintGeneratedClass\\'\"/Game/FactoryGame/Interface/UI/InGame/BuildMenu/BuildCategories/Sub_Walls/SC_DiagonalWalls.SC_DiagonalWalls_C\"\\')',\n  'mMenuPriority': '3.000000',\n  'mFluidColor': '(B=0,G=0,R=0,A=0)',\n  'mGasColor': '(B=0,G=0,R=0,A=0)',\n  'mCompatibleItemDescriptors': '',\n  'mClassToScanFor': 'None',\n  'mScannableType': 'RTWOT_Default',\n  'mShouldOverrideScannerDisplayText': 'False',\n  'mScannerDisplayText': '',\n  'mScannerLightColor': '(B=0,G=0,R=0,A=0)'},\n 'Desc_Wall_Orange_8x8_Tris_C': {'ClassName': 'Desc_Wall_Orange_8x8_Tris_C',\n  'mDisplayName': '',\n  'mDescription': '',\n  'mAbbreviatedDisplayName': '',\n  'mStackSize': 'SS_MEDIUM',\n  'mCanBeDiscarded': 'True',\n  'mRememberPickUp': 'False',\n  'mEnergyValue': '0.000000',\n  'mRadioactiveDecay': '0.000000',\n  'mForm': 'RF_INVALID',\n  'mSmallIcon': 'Texture2D /Game/FactoryGame/Buildable/Building/Wall/UI/UpDiagonal/IconDesc_FicsitUpDiag8m_256.IconDesc_FicsitUpDiag8m_256',\n  'mPersistentBigIcon': 'Texture2D /Game/FactoryGame/Buildable/Building/Wall/UI/UpDiagonal/IconDesc_FicsitUpDiag8m_512.IconDesc_FicsitUpDiag8m_512',\n  'mCrosshairMaterial': 'None',\n  'mDescriptorStatBars': '',\n  'mSubCategories': '(BlueprintGeneratedClass\\'\"/Game/FactoryGame/Interface/UI/InGame/BuildMenu/BuildCategories/Sub_Walls/SC_DiagonalWalls.SC_DiagonalWalls_C\"\\')',\n  'mMenuPriority': '4.000000',\n  'mFluidColor': '(B=0,G=0,R=0,A=0)',\n  'mGasColor': '(B=0,G=0,R=0,A=0)',\n  'mCompatibleItemDescriptors': '',\n  'mClassToScanFor': 'None',\n  'mScannableType': 'RTWOT_Default',\n  'mShouldOverrideScannerDisplayText': 'False',\n  'mScannerDisplayText': '',\n  'mScannerLightColor': '(B=0,G=0,R=0,A=0)'},\n 'Desc_Wall_Window_8x4_01_C': {'ClassName': 'Desc_Wall_Window_8x4_01_C',\n  'mDisplayName': '',\n  'mDescription': '',\n  'mAbbreviatedDisplayName': '',\n  'mStackSize': 'SS_MEDIUM',\n  'mCanBeDiscarded': 'True',\n  'mRememberPickUp': 'False',\n  'mEnergyValue': '0.000000',\n  'mRadioactiveDecay': '0.000000',\n  'mForm': 'RF_INVALID',\n  'mSmallIcon': 'Texture2D /Game/FactoryGame/Buildable/Building/Wall/UI/Portholes/Wall_Window_8x4_01_256.Wall_Window_8x4_01_256',\n  'mPersistentBigIcon': 'Texture2D /Game/FactoryGame/Buildable/Building/Wall/UI/Portholes/Wall_Window_8x4_01_512.Wall_Window_8x4_01_512',\n  'mCrosshairMaterial': 'None',\n  'mDescriptorStatBars': '',\n  'mSubCategories': '(BlueprintGeneratedClass\\'\"/Game/FactoryGame/Interface/UI/InGame/BuildMenu/BuildCategories/Sub_Walls/SC_Windows.SC_Windows_C\"\\')',\n  'mMenuPriority': '1.000000',\n  'mFluidColor': '(B=0,G=0,R=0,A=0)',\n  'mGasColor': '(B=0,G=0,R=0,A=0)',\n  'mCompatibleItemDescriptors': '',\n  'mClassToScanFor': 'None',\n  'mScannableType': 'RTWOT_Default',\n  'mShouldOverrideScannerDisplayText': 'False',\n  'mScannerDisplayText': '',\n  'mScannerLightColor': '(B=0,G=0,R=0,A=0)'},\n 'Desc_Wall_Window_8x4_02_C': {'ClassName': 'Desc_Wall_Window_8x4_02_C',\n  'mDisplayName': '',\n  'mDescription': '',\n  'mAbbreviatedDisplayName': '',\n  'mStackSize': 'SS_MEDIUM',\n  'mCanBeDiscarded': 'True',\n  'mRememberPickUp': 'False',\n  'mEnergyValue': '0.000000',\n  'mRadioactiveDecay': '0.000000',\n  'mForm': 'RF_INVALID',\n  'mSmallIcon': 'Texture2D /Game/FactoryGame/Buildable/Building/Wall/UI/Portholes/Wall_Window_8x4_02_256.Wall_Window_8x4_02_256',\n  'mPersistentBigIcon': 'Texture2D /Game/FactoryGame/Buildable/Building/Wall/UI/Portholes/Wall_Window_8x4_02_512.Wall_Window_8x4_02_512',\n  'mCrosshairMaterial': 'None',\n  'mDescriptorStatBars': '',\n  'mSubCategories': '(BlueprintGeneratedClass\\'\"/Game/FactoryGame/Interface/UI/InGame/BuildMenu/BuildCategories/Sub_Walls/SC_Windows.SC_Windows_C\"\\')',\n  'mMenuPriority': '2.000000',\n  'mFluidColor': '(B=0,G=0,R=0,A=0)',\n  'mGasColor': '(B=0,G=0,R=0,A=0)',\n  'mCompatibleItemDescriptors': '',\n  'mClassToScanFor': 'None',\n  'mScannableType': 'RTWOT_Default',\n  'mShouldOverrideScannerDisplayText': 'False',\n  'mScannerDisplayText': '',\n  'mScannerLightColor': '(B=0,G=0,R=0,A=0)'},\n 'Desc_Wall_Window_8x4_03_C': {'ClassName': 'Desc_Wall_Window_8x4_03_C',\n  'mDisplayName': '',\n  'mDescription': '',\n  'mAbbreviatedDisplayName': '',\n  'mStackSize': 'SS_MEDIUM',\n  'mCanBeDiscarded': 'True',\n  'mRememberPickUp': 'False',\n  'mEnergyValue': '0.000000',\n  'mRadioactiveDecay': '0.000000',\n  'mForm': 'RF_INVALID',\n  'mSmallIcon': 'Texture2D /Game/FactoryGame/Buildable/Building/Wall/UI/Portholes/Wall_Window_8x4_03_256.Wall_Window_8x4_03_256',\n  'mPersistentBigIcon': 'Texture2D /Game/FactoryGame/Buildable/Building/Wall/UI/Portholes/Wall_Window_8x4_03_512.Wall_Window_8x4_03_512',\n  'mCrosshairMaterial': 'None',\n  'mDescriptorStatBars': '',\n  'mSubCategories': '(BlueprintGeneratedClass\\'\"/Game/FactoryGame/Interface/UI/InGame/BuildMenu/BuildCategories/Sub_Walls/SC_Windows.SC_Windows_C\"\\')',\n  'mMenuPriority': '3.000000',\n  'mFluidColor': '(B=0,G=0,R=0,A=0)',\n  'mGasColor': '(B=0,G=0,R=0,A=0)',\n  'mCompatibleItemDescriptors': '',\n  'mClassToScanFor': 'None',\n  'mScannableType': 'RTWOT_Default',\n  'mShouldOverrideScannerDisplayText': 'False',\n  'mScannerDisplayText': '',\n  'mScannerLightColor': '(B=0,G=0,R=0,A=0)'},\n 'Desc_Wall_Window_8x4_04_C': {'ClassName': 'Desc_Wall_Window_8x4_04_C',\n  'mDisplayName': '',\n  'mDescription': '',\n  'mAbbreviatedDisplayName': '',\n  'mStackSize': 'SS_MEDIUM',\n  'mCanBeDiscarded': 'True',\n  'mRememberPickUp': 'False',\n  'mEnergyValue': '0.000000',\n  'mRadioactiveDecay': '0.000000',\n  'mForm': 'RF_INVALID',\n  'mSmallIcon': 'Texture2D /Game/FactoryGame/Buildable/Building/Wall/UI/Portholes/Wall_Window_8x4_04_256.Wall_Window_8x4_04_256',\n  'mPersistentBigIcon': 'Texture2D /Game/FactoryGame/Buildable/Building/Wall/UI/Portholes/Wall_Window_8x4_04_512.Wall_Window_8x4_04_512',\n  'mCrosshairMaterial': 'None',\n  'mDescriptorStatBars': '',\n  'mSubCategories': '(BlueprintGeneratedClass\\'\"/Game/FactoryGame/Interface/UI/InGame/BuildMenu/BuildCategories/Sub_Walls/SC_Windows.SC_Windows_C\"\\')',\n  'mMenuPriority': '4.000000',\n  'mFluidColor': '(B=0,G=0,R=0,A=0)',\n  'mGasColor': '(B=0,G=0,R=0,A=0)',\n  'mCompatibleItemDescriptors': '',\n  'mClassToScanFor': 'None',\n  'mScannableType': 'RTWOT_Default',\n  'mShouldOverrideScannerDisplayText': 'False',\n  'mScannerDisplayText': '',\n  'mScannerLightColor': '(B=0,G=0,R=0,A=0)'},\n 'Desc_SteelWall_8x4_Gate_01_C': {'ClassName': 'Desc_SteelWall_8x4_Gate_01_C',\n  'mDisplayName': '',\n  'mDescription': '',\n  'mAbbreviatedDisplayName': '',\n  'mStackSize': 'SS_MEDIUM',\n  'mCanBeDiscarded': 'True',\n  'mRememberPickUp': 'False',\n  'mEnergyValue': '0.000000',\n  'mRadioactiveDecay': '0.000000',\n  'mForm': 'RF_INVALID',\n  'mSmallIcon': 'Texture2D /Game/FactoryGame/Buildable/Building/Wall/UI/Doors/IconDesc_SteelGate_256.IconDesc_SteelGate_256',\n  'mPersistentBigIcon': 'Texture2D /Game/FactoryGame/Buildable/Building/Wall/UI/Doors/IconDesc_SteelGate_512.IconDesc_SteelGate_512',\n  'mCrosshairMaterial': 'None',\n  'mDescriptorStatBars': '',\n  'mSubCategories': '(BlueprintGeneratedClass\\'\"/Game/FactoryGame/Interface/UI/InGame/BuildMenu/BuildCategories/Sub_Walls/SC_Doors.SC_Doors_C\"\\')',\n  'mMenuPriority': '9.000000',\n  'mFluidColor': '(B=0,G=0,R=0,A=0)',\n  'mGasColor': '(B=0,G=0,R=0,A=0)',\n  'mCompatibleItemDescriptors': '',\n  'mClassToScanFor': 'None',\n  'mScannableType': 'RTWOT_Default',\n  'mShouldOverrideScannerDisplayText': 'False',\n  'mScannerDisplayText': '',\n  'mScannerLightColor': '(B=0,G=0,R=0,A=0)'},\n 'Desc_SteelWall_8x4_Window_01_C': {'ClassName': 'Desc_SteelWall_8x4_Window_01_C',\n  'mDisplayName': '',\n  'mDescription': '',\n  'mAbbreviatedDisplayName': '',\n  'mStackSize': 'SS_MEDIUM',\n  'mCanBeDiscarded': 'True',\n  'mRememberPickUp': 'False',\n  'mEnergyValue': '0.000000',\n  'mRadioactiveDecay': '0.000000',\n  'mForm': 'RF_INVALID',\n  'mSmallIcon': 'Texture2D /Game/FactoryGame/Buildable/Building/Wall/UI/Portholes/IconDesc_SteelWallWindow01_256.IconDesc_SteelWallWindow01_256',\n  'mPersistentBigIcon': 'Texture2D /Game/FactoryGame/Buildable/Building/Wall/UI/Portholes/IconDesc_SteelWallWindow01_512.IconDesc_SteelWallWindow01_512',\n  'mCrosshairMaterial': 'None',\n  'mDescriptorStatBars': '',\n  'mSubCategories': '(BlueprintGeneratedClass\\'\"/Game/FactoryGame/Interface/UI/InGame/BuildMenu/BuildCategories/Sub_Walls/SC_Windows.SC_Windows_C\"\\')',\n  'mMenuPriority': '9.000000',\n  'mFluidColor': '(B=0,G=0,R=0,A=0)',\n  'mGasColor': '(B=0,G=0,R=0,A=0)',\n  'mCompatibleItemDescriptors': '',\n  'mClassToScanFor': 'None',\n  'mScannableType': 'RTWOT_Default',\n  'mShouldOverrideScannerDisplayText': 'False',\n  'mScannerDisplayText': '',\n  'mScannerLightColor': '(B=0,G=0,R=0,A=0)'},\n 'Desc_SteelWall_8x4_Window_02_C': {'ClassName': 'Desc_SteelWall_8x4_Window_02_C',\n  'mDisplayName': '',\n  'mDescription': '',\n  'mAbbreviatedDisplayName': '',\n  'mStackSize': 'SS_MEDIUM',\n  'mCanBeDiscarded': 'True',\n  'mRememberPickUp': 'False',\n  'mEnergyValue': '0.000000',\n  'mRadioactiveDecay': '0.000000',\n  'mForm': 'RF_INVALID',\n  'mSmallIcon': 'Texture2D /Game/FactoryGame/Buildable/Building/Wall/UI/Portholes/IconDesc_SteelWindow02_256.IconDesc_SteelWindow02_256',\n  'mPersistentBigIcon': 'Texture2D /Game/FactoryGame/Buildable/Building/Wall/UI/Portholes/IconDesc_SteelWindow02_512.IconDesc_SteelWindow02_512',\n  'mCrosshairMaterial': 'None',\n  'mDescriptorStatBars': '',\n  'mSubCategories': '(BlueprintGeneratedClass\\'\"/Game/FactoryGame/Interface/UI/InGame/BuildMenu/BuildCategories/Sub_Walls/SC_Windows.SC_Windows_C\"\\')',\n  'mMenuPriority': '12.000000',\n  'mFluidColor': '(B=0,G=0,R=0,A=0)',\n  'mGasColor': '(B=0,G=0,R=0,A=0)',\n  'mCompatibleItemDescriptors': '',\n  'mClassToScanFor': 'None',\n  'mScannableType': 'RTWOT_Default',\n  'mShouldOverrideScannerDisplayText': 'False',\n  'mScannerDisplayText': '',\n  'mScannerLightColor': '(B=0,G=0,R=0,A=0)'},\n 'Desc_SteelWall_8x4_Window_03_C': {'ClassName': 'Desc_SteelWall_8x4_Window_03_C',\n  'mDisplayName': '',\n  'mDescription': '',\n  'mAbbreviatedDisplayName': '',\n  'mStackSize': 'SS_MEDIUM',\n  'mCanBeDiscarded': 'True',\n  'mRememberPickUp': 'False',\n  'mEnergyValue': '0.000000',\n  'mRadioactiveDecay': '0.000000',\n  'mForm': 'RF_INVALID',\n  'mSmallIcon': 'Texture2D /Game/FactoryGame/Buildable/Building/Wall/UI/Portholes/IconDesc_SteelWIndow03_256.IconDesc_SteelWIndow03_256',\n  'mPersistentBigIcon': 'Texture2D /Game/FactoryGame/Buildable/Building/Wall/UI/Portholes/IconDesc_SteelWIndow03_512.IconDesc_SteelWIndow03_512',\n  'mCrosshairMaterial': 'None',\n  'mDescriptorStatBars': '',\n  'mSubCategories': '(BlueprintGeneratedClass\\'\"/Game/FactoryGame/Interface/UI/InGame/BuildMenu/BuildCategories/Sub_Walls/SC_Windows.SC_Windows_C\"\\')',\n  'mMenuPriority': '10.000000',\n  'mFluidColor': '(B=0,G=0,R=0,A=0)',\n  'mGasColor': '(B=0,G=0,R=0,A=0)',\n  'mCompatibleItemDescriptors': '',\n  'mClassToScanFor': 'None',\n  'mScannableType': 'RTWOT_Default',\n  'mShouldOverrideScannerDisplayText': 'False',\n  'mScannerDisplayText': '',\n  'mScannerLightColor': '(B=0,G=0,R=0,A=0)'},\n 'Desc_SteelWall_8x4_Window_04_C': {'ClassName': 'Desc_SteelWall_8x4_Window_04_C',\n  'mDisplayName': '',\n  'mDescription': '',\n  'mAbbreviatedDisplayName': '',\n  'mStackSize': 'SS_MEDIUM',\n  'mCanBeDiscarded': 'True',\n  'mRememberPickUp': 'False',\n  'mEnergyValue': '0.000000',\n  'mRadioactiveDecay': '0.000000',\n  'mForm': 'RF_INVALID',\n  'mSmallIcon': 'Texture2D /Game/FactoryGame/Buildable/Building/Wall/UI/Portholes/IconDesc_SteelWindow04_256.IconDesc_SteelWindow04_256',\n  'mPersistentBigIcon': 'Texture2D /Game/FactoryGame/Buildable/Building/Wall/UI/Portholes/IconDesc_SteelWindow04_512.IconDesc_SteelWindow04_512',\n  'mCrosshairMaterial': 'None',\n  'mDescriptorStatBars': '',\n  'mSubCategories': '(BlueprintGeneratedClass\\'\"/Game/FactoryGame/Interface/UI/InGame/BuildMenu/BuildCategories/Sub_Walls/SC_Windows.SC_Windows_C\"\\')',\n  'mMenuPriority': '11.000000',\n  'mFluidColor': '(B=0,G=0,R=0,A=0)',\n  'mGasColor': '(B=0,G=0,R=0,A=0)',\n  'mCompatibleItemDescriptors': '',\n  'mClassToScanFor': 'None',\n  'mScannableType': 'RTWOT_Default',\n  'mShouldOverrideScannerDisplayText': 'False',\n  'mScannerDisplayText': '',\n  'mScannerLightColor': '(B=0,G=0,R=0,A=0)'},\n 'Desc_Wall_Steel_8x4_Corner_01_C': {'ClassName': 'Desc_Wall_Steel_8x4_Corner_01_C',\n  'mDisplayName': '',\n  'mDescription': '',\n  'mAbbreviatedDisplayName': '',\n  'mStackSize': 'SS_MEDIUM',\n  'mCanBeDiscarded': 'True',\n  'mRememberPickUp': 'False',\n  'mEnergyValue': '0.000000',\n  'mRadioactiveDecay': '0.000000',\n  'mForm': 'RF_INVALID',\n  'mSmallIcon': 'Texture2D /Game/FactoryGame/Buildable/Building/Wall/UI/Triangle/IconDesc_SteelTriangleWall4m_256.IconDesc_SteelTriangleWall4m_256',\n  'mPersistentBigIcon': 'Texture2D /Game/FactoryGame/Buildable/Building/Wall/UI/Triangle/IconDesc_SteelTriangleWall4m_512.IconDesc_SteelTriangleWall4m_512',\n  'mCrosshairMaterial': 'None',\n  'mDescriptorStatBars': '',\n  'mSubCategories': '(BlueprintGeneratedClass\\'\"/Game/FactoryGame/Interface/UI/InGame/BuildMenu/BuildCategories/Sub_Walls/SC_AngularWalls.SC_AngularWalls_C\"\\')',\n  'mMenuPriority': '15.000000',\n  'mFluidColor': '(B=0,G=0,R=0,A=0)',\n  'mGasColor': '(B=0,G=0,R=0,A=0)',\n  'mCompatibleItemDescriptors': '',\n  'mClassToScanFor': 'None',\n  'mScannableType': 'RTWOT_Default',\n  'mShouldOverrideScannerDisplayText': 'False',\n  'mScannerDisplayText': '',\n  'mScannerLightColor': '(B=0,G=0,R=0,A=0)'},\n 'Desc_Wall_Steel_8x4_Corner_2_C': {'ClassName': 'Desc_Wall_Steel_8x4_Corner_2_C',\n  'mDisplayName': '',\n  'mDescription': '',\n  'mAbbreviatedDisplayName': '',\n  'mStackSize': 'SS_MEDIUM',\n  'mCanBeDiscarded': 'True',\n  'mRememberPickUp': 'False',\n  'mEnergyValue': '0.000000',\n  'mRadioactiveDecay': '0.000000',\n  'mForm': 'RF_INVALID',\n  'mSmallIcon': 'Texture2D /Game/FactoryGame/Buildable/Building/Wall/UI/Angular/Inwards/IconDesc_SteelWallInwards_8x4_256.IconDesc_SteelWallInwards_8x4_256',\n  'mPersistentBigIcon': 'Texture2D /Game/FactoryGame/Buildable/Building/Wall/UI/Angular/Inwards/IconDesc_SteelWallInwards_8x4_512.IconDesc_SteelWallInwards_8x4_512',\n  'mCrosshairMaterial': 'None',\n  'mDescriptorStatBars': '',\n  'mSubCategories': '(BlueprintGeneratedClass\\'\"/Game/FactoryGame/Interface/UI/InGame/BuildMenu/BuildCategories/Sub_Walls/SC_AngularWalls.SC_AngularWalls_C\"\\')',\n  'mMenuPriority': '17.000000',\n  'mFluidColor': '(B=0,G=0,R=0,A=0)',\n  'mGasColor': '(B=0,G=0,R=0,A=0)',\n  'mCompatibleItemDescriptors': '',\n  'mClassToScanFor': 'None',\n  'mScannableType': 'RTWOT_Default',\n  'mShouldOverrideScannerDisplayText': 'False',\n  'mScannerDisplayText': '',\n  'mScannerLightColor': '(B=0,G=0,R=0,A=0)'},\n 'Desc_Wall_Steel_8x8_Corner_01_C': {'ClassName': 'Desc_Wall_Steel_8x8_Corner_01_C',\n  'mDisplayName': '',\n  'mDescription': '',\n  'mAbbreviatedDisplayName': '',\n  'mStackSize': 'SS_MEDIUM',\n  'mCanBeDiscarded': 'True',\n  'mRememberPickUp': 'False',\n  'mEnergyValue': '0.000000',\n  'mRadioactiveDecay': '0.000000',\n  'mForm': 'RF_INVALID',\n  'mSmallIcon': 'Texture2D /Game/FactoryGame/Buildable/Building/Wall/UI/Triangle/IconDesc_SteelTriangleWall8m_256.IconDesc_SteelTriangleWall8m_256',\n  'mPersistentBigIcon': 'Texture2D /Game/FactoryGame/Buildable/Building/Wall/UI/Triangle/IconDesc_SteelTriangleWall8m_512.IconDesc_SteelTriangleWall8m_512',\n  'mCrosshairMaterial': 'None',\n  'mDescriptorStatBars': '',\n  'mSubCategories': '(BlueprintGeneratedClass\\'\"/Game/FactoryGame/Interface/UI/InGame/BuildMenu/BuildCategories/Sub_Walls/SC_AngularWalls.SC_AngularWalls_C\"\\')',\n  'mMenuPriority': '16.000000',\n  'mFluidColor': '(B=0,G=0,R=0,A=0)',\n  'mGasColor': '(B=0,G=0,R=0,A=0)',\n  'mCompatibleItemDescriptors': '',\n  'mClassToScanFor': 'None',\n  'mScannableType': 'RTWOT_Default',\n  'mShouldOverrideScannerDisplayText': 'False',\n  'mScannerDisplayText': '',\n  'mScannerLightColor': '(B=0,G=0,R=0,A=0)'},\n 'Desc_Wall_Steel_8x8_Corner_2_C': {'ClassName': 'Desc_Wall_Steel_8x8_Corner_2_C',\n  'mDisplayName': '',\n  'mDescription': '',\n  'mAbbreviatedDisplayName': '',\n  'mStackSize': 'SS_MEDIUM',\n  'mCanBeDiscarded': 'True',\n  'mRememberPickUp': 'False',\n  'mEnergyValue': '0.000000',\n  'mRadioactiveDecay': '0.000000',\n  'mForm': 'RF_INVALID',\n  'mSmallIcon': 'Texture2D /Game/FactoryGame/Buildable/Building/Wall/UI/Angular/Inwards/IconDesc_SteelWallInwards_8x8_256.IconDesc_SteelWallInwards_8x8_256',\n  'mPersistentBigIcon': 'Texture2D /Game/FactoryGame/Buildable/Building/Wall/UI/Angular/Inwards/IconDesc_SteelWallInwards_8x8_512.IconDesc_SteelWallInwards_8x8_512',\n  'mCrosshairMaterial': 'None',\n  'mDescriptorStatBars': '',\n  'mSubCategories': '(BlueprintGeneratedClass\\'\"/Game/FactoryGame/Interface/UI/InGame/BuildMenu/BuildCategories/Sub_Walls/SC_AngularWalls.SC_AngularWalls_C\"\\')',\n  'mMenuPriority': '18.000000',\n  'mFluidColor': '(B=0,G=0,R=0,A=0)',\n  'mGasColor': '(B=0,G=0,R=0,A=0)',\n  'mCompatibleItemDescriptors': '',\n  'mClassToScanFor': 'None',\n  'mScannableType': 'RTWOT_Default',\n  'mShouldOverrideScannerDisplayText': 'False',\n  'mScannerDisplayText': '',\n  'mScannerLightColor': '(B=0,G=0,R=0,A=0)'},\n 'Desc_SteelWall_8x1_C': {'ClassName': 'Desc_SteelWall_8x1_C',\n  'mDisplayName': '',\n  'mDescription': '',\n  'mAbbreviatedDisplayName': '',\n  'mStackSize': 'SS_MEDIUM',\n  'mCanBeDiscarded': 'True',\n  'mRememberPickUp': 'False',\n  'mEnergyValue': '0.000000',\n  'mRadioactiveDecay': '0.000000',\n  'mForm': 'RF_INVALID',\n  'mSmallIcon': 'Texture2D /Game/FactoryGame/Buildable/Building/Wall/UI/Regular/IconDesc_SteelWall8x1_256.IconDesc_SteelWall8x1_256',\n  'mPersistentBigIcon': 'Texture2D /Game/FactoryGame/Buildable/Building/Wall/UI/Regular/IconDesc_SteelWall8x1_512.IconDesc_SteelWall8x1_512',\n  'mCrosshairMaterial': 'None',\n  'mDescriptorStatBars': '',\n  'mSubCategories': '(BlueprintGeneratedClass\\'\"/Game/FactoryGame/Interface/UI/InGame/BuildMenu/BuildCategories/Sub_Walls/SC_Walls.SC_Walls_C\"\\')',\n  'mMenuPriority': '11.000000',\n  'mFluidColor': '(B=0,G=0,R=0,A=0)',\n  'mGasColor': '(B=0,G=0,R=0,A=0)',\n  'mCompatibleItemDescriptors': '',\n  'mClassToScanFor': 'None',\n  'mScannableType': 'RTWOT_Default',\n  'mShouldOverrideScannerDisplayText': 'False',\n  'mScannerDisplayText': '',\n  'mScannerLightColor': '(B=0,G=0,R=0,A=0)'},\n 'Desc_SteelWall_FlipTris_8x1_C': {'ClassName': 'Desc_SteelWall_FlipTris_8x1_C',\n  'mDisplayName': '',\n  'mDescription': '',\n  'mAbbreviatedDisplayName': '',\n  'mStackSize': 'SS_MEDIUM',\n  'mCanBeDiscarded': 'True',\n  'mRememberPickUp': 'False',\n  'mEnergyValue': '0.000000',\n  'mRadioactiveDecay': '0.000000',\n  'mForm': 'RF_INVALID',\n  'mSmallIcon': 'Texture2D /Game/FactoryGame/Buildable/Building/Wall/UI/DownDiagonal/IconDesc_SteelDownDiag1m_256.IconDesc_SteelDownDiag1m_256',\n  'mPersistentBigIcon': 'Texture2D /Game/FactoryGame/Buildable/Building/Wall/UI/DownDiagonal/IconDesc_SteelDownDiag1m_512.IconDesc_SteelDownDiag1m_512',\n  'mCrosshairMaterial': 'None',\n  'mDescriptorStatBars': '',\n  'mSubCategories': '(BlueprintGeneratedClass\\'\"/Game/FactoryGame/Interface/UI/InGame/BuildMenu/BuildCategories/Sub_Walls/SC_UpperDiagonalWalls.SC_UpperDiagonalWalls_C\"\\')',\n  'mMenuPriority': '9.000000',\n  'mFluidColor': '(B=0,G=0,R=0,A=0)',\n  'mGasColor': '(B=0,G=0,R=0,A=0)',\n  'mCompatibleItemDescriptors': '',\n  'mClassToScanFor': 'None',\n  'mScannableType': 'RTWOT_Default',\n  'mShouldOverrideScannerDisplayText': 'False',\n  'mScannerDisplayText': '',\n  'mScannerLightColor': '(B=0,G=0,R=0,A=0)'},\n 'Desc_SteelWall_FlipTris_8x2_C': {'ClassName': 'Desc_SteelWall_FlipTris_8x2_C',\n  'mDisplayName': '',\n  'mDescription': '',\n  'mAbbreviatedDisplayName': '',\n  'mStackSize': 'SS_MEDIUM',\n  'mCanBeDiscarded': 'True',\n  'mRememberPickUp': 'False',\n  'mEnergyValue': '0.000000',\n  'mRadioactiveDecay': '0.000000',\n  'mForm': 'RF_INVALID',\n  'mSmallIcon': 'Texture2D /Game/FactoryGame/Buildable/Building/Wall/UI/DownDiagonal/IconDesc_SteelDownDiag2m_256.IconDesc_SteelDownDiag2m_256',\n  'mPersistentBigIcon': 'Texture2D /Game/FactoryGame/Buildable/Building/Wall/UI/DownDiagonal/IconDesc_SteelDownDiag2m_512.IconDesc_SteelDownDiag2m_512',\n  'mCrosshairMaterial': 'None',\n  'mDescriptorStatBars': '',\n  'mSubCategories': '(BlueprintGeneratedClass\\'\"/Game/FactoryGame/Interface/UI/InGame/BuildMenu/BuildCategories/Sub_Walls/SC_UpperDiagonalWalls.SC_UpperDiagonalWalls_C\"\\')',\n  'mMenuPriority': '10.000000',\n  'mFluidColor': '(B=0,G=0,R=0,A=0)',\n  'mGasColor': '(B=0,G=0,R=0,A=0)',\n  'mCompatibleItemDescriptors': '',\n  'mClassToScanFor': 'None',\n  'mScannableType': 'RTWOT_Default',\n  'mShouldOverrideScannerDisplayText': 'False',\n  'mScannerDisplayText': '',\n  'mScannerLightColor': '(B=0,G=0,R=0,A=0)'},\n 'Desc_SteelWall_FlipTris_8x4_C': {'ClassName': 'Desc_SteelWall_FlipTris_8x4_C',\n  'mDisplayName': '',\n  'mDescription': '',\n  'mAbbreviatedDisplayName': '',\n  'mStackSize': 'SS_MEDIUM',\n  'mCanBeDiscarded': 'True',\n  'mRememberPickUp': 'False',\n  'mEnergyValue': '0.000000',\n  'mRadioactiveDecay': '0.000000',\n  'mForm': 'RF_INVALID',\n  'mSmallIcon': 'Texture2D /Game/FactoryGame/Buildable/Building/Wall/UI/DownDiagonal/IconDesc_SteelDownDiag4m_256.IconDesc_SteelDownDiag4m_256',\n  'mPersistentBigIcon': 'Texture2D /Game/FactoryGame/Buildable/Building/Wall/UI/DownDiagonal/IconDesc_SteelDownDiag4m_512.IconDesc_SteelDownDiag4m_512',\n  'mCrosshairMaterial': 'None',\n  'mDescriptorStatBars': '',\n  'mSubCategories': '(BlueprintGeneratedClass\\'\"/Game/FactoryGame/Interface/UI/InGame/BuildMenu/BuildCategories/Sub_Walls/SC_UpperDiagonalWalls.SC_UpperDiagonalWalls_C\"\\')',\n  'mMenuPriority': '11.000000',\n  'mFluidColor': '(B=0,G=0,R=0,A=0)',\n  'mGasColor': '(B=0,G=0,R=0,A=0)',\n  'mCompatibleItemDescriptors': '',\n  'mClassToScanFor': 'None',\n  'mScannableType': 'RTWOT_Default',\n  'mShouldOverrideScannerDisplayText': 'False',\n  'mScannerDisplayText': '',\n  'mScannerLightColor': '(B=0,G=0,R=0,A=0)'},\n 'Desc_SteelWall_FlipTris_8x8_C': {'ClassName': 'Desc_SteelWall_FlipTris_8x8_C',\n  'mDisplayName': '',\n  'mDescription': '',\n  'mAbbreviatedDisplayName': '',\n  'mStackSize': 'SS_MEDIUM',\n  'mCanBeDiscarded': 'True',\n  'mRememberPickUp': 'False',\n  'mEnergyValue': '0.000000',\n  'mRadioactiveDecay': '0.000000',\n  'mForm': 'RF_INVALID',\n  'mSmallIcon': 'Texture2D /Game/FactoryGame/Buildable/Building/Wall/UI/DownDiagonal/IconDesc_SteelDownDiag8m_256.IconDesc_SteelDownDiag8m_256',\n  'mPersistentBigIcon': 'Texture2D /Game/FactoryGame/Buildable/Building/Wall/UI/DownDiagonal/IconDesc_SteelDownDiag8m_512.IconDesc_SteelDownDiag8m_512',\n  'mCrosshairMaterial': 'None',\n  'mDescriptorStatBars': '',\n  'mSubCategories': '(BlueprintGeneratedClass\\'\"/Game/FactoryGame/Interface/UI/InGame/BuildMenu/BuildCategories/Sub_Walls/SC_UpperDiagonalWalls.SC_UpperDiagonalWalls_C\"\\')',\n  'mMenuPriority': '12.000000',\n  'mFluidColor': '(B=0,G=0,R=0,A=0)',\n  'mGasColor': '(B=0,G=0,R=0,A=0)',\n  'mCompatibleItemDescriptors': '',\n  'mClassToScanFor': 'None',\n  'mScannableType': 'RTWOT_Default',\n  'mShouldOverrideScannerDisplayText': 'False',\n  'mScannerDisplayText': '',\n  'mScannerLightColor': '(B=0,G=0,R=0,A=0)'},\n 'Desc_SteelWall_Tris_8x1_C': {'ClassName': 'Desc_SteelWall_Tris_8x1_C',\n  'mDisplayName': '',\n  'mDescription': '',\n  'mAbbreviatedDisplayName': '',\n  'mStackSize': 'SS_MEDIUM',\n  'mCanBeDiscarded': 'True',\n  'mRememberPickUp': 'False',\n  'mEnergyValue': '0.000000',\n  'mRadioactiveDecay': '0.000000',\n  'mForm': 'RF_INVALID',\n  'mSmallIcon': 'Texture2D /Game/FactoryGame/Buildable/Building/Wall/UI/UpDiagonal/IconDesc_SteelUpDiag1m_256.IconDesc_SteelUpDiag1m_256',\n  'mPersistentBigIcon': 'Texture2D /Game/FactoryGame/Buildable/Building/Wall/UI/UpDiagonal/IconDesc_SteelUpDiag1m_512.IconDesc_SteelUpDiag1m_512',\n  'mCrosshairMaterial': 'None',\n  'mDescriptorStatBars': '',\n  'mSubCategories': '(BlueprintGeneratedClass\\'\"/Game/FactoryGame/Interface/UI/InGame/BuildMenu/BuildCategories/Sub_Walls/SC_DiagonalWalls.SC_DiagonalWalls_C\"\\')',\n  'mMenuPriority': '9.000000',\n  'mFluidColor': '(B=0,G=0,R=0,A=0)',\n  'mGasColor': '(B=0,G=0,R=0,A=0)',\n  'mCompatibleItemDescriptors': '',\n  'mClassToScanFor': 'None',\n  'mScannableType': 'RTWOT_Default',\n  'mShouldOverrideScannerDisplayText': 'False',\n  'mScannerDisplayText': '',\n  'mScannerLightColor': '(B=0,G=0,R=0,A=0)'},\n 'Desc_SteelWall_Tris_8x2_C': {'ClassName': 'Desc_SteelWall_Tris_8x2_C',\n  'mDisplayName': '',\n  'mDescription': '',\n  'mAbbreviatedDisplayName': '',\n  'mStackSize': 'SS_MEDIUM',\n  'mCanBeDiscarded': 'True',\n  'mRememberPickUp': 'False',\n  'mEnergyValue': '0.000000',\n  'mRadioactiveDecay': '0.000000',\n  'mForm': 'RF_INVALID',\n  'mSmallIcon': 'Texture2D /Game/FactoryGame/Buildable/Building/Wall/UI/UpDiagonal/IconDesc_SteelUpDiag2m_256.IconDesc_SteelUpDiag2m_256',\n  'mPersistentBigIcon': 'Texture2D /Game/FactoryGame/Buildable/Building/Wall/UI/UpDiagonal/IconDesc_SteelUpDiag2m_512.IconDesc_SteelUpDiag2m_512',\n  'mCrosshairMaterial': 'None',\n  'mDescriptorStatBars': '',\n  'mSubCategories': '(BlueprintGeneratedClass\\'\"/Game/FactoryGame/Interface/UI/InGame/BuildMenu/BuildCategories/Sub_Walls/SC_DiagonalWalls.SC_DiagonalWalls_C\"\\')',\n  'mMenuPriority': '10.000000',\n  'mFluidColor': '(B=0,G=0,R=0,A=0)',\n  'mGasColor': '(B=0,G=0,R=0,A=0)',\n  'mCompatibleItemDescriptors': '',\n  'mClassToScanFor': 'None',\n  'mScannableType': 'RTWOT_Default',\n  'mShouldOverrideScannerDisplayText': 'False',\n  'mScannerDisplayText': '',\n  'mScannerLightColor': '(B=0,G=0,R=0,A=0)'},\n 'Desc_SteelWall_Tris_8x4_C': {'ClassName': 'Desc_SteelWall_Tris_8x4_C',\n  'mDisplayName': '',\n  'mDescription': '',\n  'mAbbreviatedDisplayName': '',\n  'mStackSize': 'SS_MEDIUM',\n  'mCanBeDiscarded': 'True',\n  'mRememberPickUp': 'False',\n  'mEnergyValue': '0.000000',\n  'mRadioactiveDecay': '0.000000',\n  'mForm': 'RF_INVALID',\n  'mSmallIcon': 'Texture2D /Game/FactoryGame/Buildable/Building/Wall/UI/UpDiagonal/IconDesc_SteelUpDiag4m_256.IconDesc_SteelUpDiag4m_256',\n  'mPersistentBigIcon': 'Texture2D /Game/FactoryGame/Buildable/Building/Wall/UI/UpDiagonal/IconDesc_SteelUpDiag4m_512.IconDesc_SteelUpDiag4m_512',\n  'mCrosshairMaterial': 'None',\n  'mDescriptorStatBars': '',\n  'mSubCategories': '(BlueprintGeneratedClass\\'\"/Game/FactoryGame/Interface/UI/InGame/BuildMenu/BuildCategories/Sub_Walls/SC_DiagonalWalls.SC_DiagonalWalls_C\"\\')',\n  'mMenuPriority': '11.000000',\n  'mFluidColor': '(B=0,G=0,R=0,A=0)',\n  'mGasColor': '(B=0,G=0,R=0,A=0)',\n  'mCompatibleItemDescriptors': '',\n  'mClassToScanFor': 'None',\n  'mScannableType': 'RTWOT_Default',\n  'mShouldOverrideScannerDisplayText': 'False',\n  'mScannerDisplayText': '',\n  'mScannerLightColor': '(B=0,G=0,R=0,A=0)'},\n 'Desc_SteelWall_Tris_8x8_C': {'ClassName': 'Desc_SteelWall_Tris_8x8_C',\n  'mDisplayName': '',\n  'mDescription': '',\n  'mAbbreviatedDisplayName': '',\n  'mStackSize': 'SS_MEDIUM',\n  'mCanBeDiscarded': 'True',\n  'mRememberPickUp': 'False',\n  'mEnergyValue': '0.000000',\n  'mRadioactiveDecay': '0.000000',\n  'mForm': 'RF_INVALID',\n  'mSmallIcon': 'Texture2D /Game/FactoryGame/Buildable/Building/Wall/UI/UpDiagonal/IconDesc_SteelUpDiag8m_256.IconDesc_SteelUpDiag8m_256',\n  'mPersistentBigIcon': 'Texture2D /Game/FactoryGame/Buildable/Building/Wall/UI/UpDiagonal/IconDesc_SteelUpDiag8m_512.IconDesc_SteelUpDiag8m_512',\n  'mCrosshairMaterial': 'None',\n  'mDescriptorStatBars': '',\n  'mSubCategories': '(BlueprintGeneratedClass\\'\"/Game/FactoryGame/Interface/UI/InGame/BuildMenu/BuildCategories/Sub_Walls/SC_DiagonalWalls.SC_DiagonalWalls_C\"\\')',\n  'mMenuPriority': '12.000000',\n  'mFluidColor': '(B=0,G=0,R=0,A=0)',\n  'mGasColor': '(B=0,G=0,R=0,A=0)',\n  'mCompatibleItemDescriptors': '',\n  'mClassToScanFor': 'None',\n  'mScannableType': 'RTWOT_Default',\n  'mShouldOverrideScannerDisplayText': 'False',\n  'mScannerDisplayText': '',\n  'mScannerLightColor': '(B=0,G=0,R=0,A=0)'},\n 'Desc_Wall_8x4_02_C': {'ClassName': 'Desc_Wall_8x4_02_C',\n  'mDisplayName': '',\n  'mDescription': '',\n  'mAbbreviatedDisplayName': '',\n  'mStackSize': 'SS_MEDIUM',\n  'mCanBeDiscarded': 'True',\n  'mRememberPickUp': 'False',\n  'mEnergyValue': '0.000000',\n  'mRadioactiveDecay': '0.000000',\n  'mForm': 'RF_INVALID',\n  'mSmallIcon': 'Texture2D /Game/FactoryGame/Buildable/Building/Wall/UI/Regular/IconDesc_SteelWall8x4_256.IconDesc_SteelWall8x4_256',\n  'mPersistentBigIcon': 'Texture2D /Game/FactoryGame/Buildable/Building/Wall/UI/Regular/IconDesc_SteelWall8x4_512.IconDesc_SteelWall8x4_512',\n  'mCrosshairMaterial': 'None',\n  'mDescriptorStatBars': '',\n  'mSubCategories': '(BlueprintGeneratedClass\\'\"/Game/FactoryGame/Interface/UI/InGame/BuildMenu/BuildCategories/Sub_Walls/SC_Walls.SC_Walls_C\"\\')',\n  'mMenuPriority': '13.000000',\n  'mFluidColor': '(B=0,G=0,R=0,A=0)',\n  'mGasColor': '(B=0,G=0,R=0,A=0)',\n  'mCompatibleItemDescriptors': '',\n  'mClassToScanFor': 'None',\n  'mScannableType': 'RTWOT_Default',\n  'mShouldOverrideScannerDisplayText': 'False',\n  'mScannerDisplayText': '',\n  'mScannerLightColor': '(B=0,G=0,R=0,A=0)'},\n 'Desc_Wall_Conveyor_8x4_01_Steel_C': {'ClassName': 'Desc_Wall_Conveyor_8x4_01_Steel_C',\n  'mDisplayName': '',\n  'mDescription': '',\n  'mAbbreviatedDisplayName': '',\n  'mStackSize': 'SS_MEDIUM',\n  'mCanBeDiscarded': 'True',\n  'mRememberPickUp': 'False',\n  'mEnergyValue': '0.000000',\n  'mRadioactiveDecay': '0.000000',\n  'mForm': 'RF_INVALID',\n  'mSmallIcon': 'Texture2D /Game/FactoryGame/Buildable/Building/Wall/UI/ConveyorHole/Wall_Conveyor_x3_Grey_256.Wall_Conveyor_x3_Grey_256',\n  'mPersistentBigIcon': 'Texture2D /Game/FactoryGame/Buildable/Building/Wall/UI/ConveyorHole/Wall_Conveyor_x3_Grey_512.Wall_Conveyor_x3_Grey_512',\n  'mCrosshairMaterial': 'None',\n  'mDescriptorStatBars': '',\n  'mSubCategories': '(BlueprintGeneratedClass\\'\"/Game/FactoryGame/Interface/UI/InGame/BuildMenu/BuildCategories/Sub_Walls/SC_ConveyorConnections.SC_ConveyorConnections_C\"\\')',\n  'mMenuPriority': '9.000000',\n  'mFluidColor': '(B=0,G=0,R=0,A=0)',\n  'mGasColor': '(B=0,G=0,R=0,A=0)',\n  'mCompatibleItemDescriptors': '',\n  'mClassToScanFor': 'None',\n  'mScannableType': 'RTWOT_Default',\n  'mShouldOverrideScannerDisplayText': 'False',\n  'mScannerDisplayText': '',\n  'mScannerLightColor': '(B=0,G=0,R=0,A=0)'},\n 'Desc_Wall_Conveyor_8x4_02_Steel_C': {'ClassName': 'Desc_Wall_Conveyor_8x4_02_Steel_C',\n  'mDisplayName': '',\n  'mDescription': '',\n  'mAbbreviatedDisplayName': '',\n  'mStackSize': 'SS_MEDIUM',\n  'mCanBeDiscarded': 'True',\n  'mRememberPickUp': 'False',\n  'mEnergyValue': '0.000000',\n  'mRadioactiveDecay': '0.000000',\n  'mForm': 'RF_INVALID',\n  'mSmallIcon': 'Texture2D /Game/FactoryGame/Buildable/Building/Wall/UI/ConveyorHole/Wall_Conveyor_x2_Grey_256.Wall_Conveyor_x2_Grey_256',\n  'mPersistentBigIcon': 'Texture2D /Game/FactoryGame/Buildable/Building/Wall/UI/ConveyorHole/Wall_Conveyor_x2_Grey_512.Wall_Conveyor_x2_Grey_512',\n  'mCrosshairMaterial': 'None',\n  'mDescriptorStatBars': '',\n  'mSubCategories': '(BlueprintGeneratedClass\\'\"/Game/FactoryGame/Interface/UI/InGame/BuildMenu/BuildCategories/Sub_Walls/SC_ConveyorConnections.SC_ConveyorConnections_C\"\\')',\n  'mMenuPriority': '8.000000',\n  'mFluidColor': '(B=0,G=0,R=0,A=0)',\n  'mGasColor': '(B=0,G=0,R=0,A=0)',\n  'mCompatibleItemDescriptors': '',\n  'mClassToScanFor': 'None',\n  'mScannableType': 'RTWOT_Default',\n  'mShouldOverrideScannerDisplayText': 'False',\n  'mScannerDisplayText': '',\n  'mScannerLightColor': '(B=0,G=0,R=0,A=0)'},\n 'Desc_Wall_Conveyor_8x4_03_Steel_C': {'ClassName': 'Desc_Wall_Conveyor_8x4_03_Steel_C',\n  'mDisplayName': '',\n  'mDescription': '',\n  'mAbbreviatedDisplayName': '',\n  'mStackSize': 'SS_MEDIUM',\n  'mCanBeDiscarded': 'True',\n  'mRememberPickUp': 'False',\n  'mEnergyValue': '0.000000',\n  'mRadioactiveDecay': '0.000000',\n  'mForm': 'RF_INVALID',\n  'mSmallIcon': 'Texture2D /Game/FactoryGame/Buildable/Building/Wall/UI/ConveyorHole/Wall_Conveyor_x1_Grey_256.Wall_Conveyor_x1_Grey_256',\n  'mPersistentBigIcon': 'Texture2D /Game/FactoryGame/Buildable/Building/Wall/UI/ConveyorHole/Wall_Conveyor_x1_Grey_512.Wall_Conveyor_x1_Grey_512',\n  'mCrosshairMaterial': 'None',\n  'mDescriptorStatBars': '',\n  'mSubCategories': '(BlueprintGeneratedClass\\'\"/Game/FactoryGame/Interface/UI/InGame/BuildMenu/BuildCategories/Sub_Walls/SC_ConveyorConnections.SC_ConveyorConnections_C\"\\')',\n  'mMenuPriority': '7.000000',\n  'mFluidColor': '(B=0,G=0,R=0,A=0)',\n  'mGasColor': '(B=0,G=0,R=0,A=0)',\n  'mCompatibleItemDescriptors': '',\n  'mClassToScanFor': 'None',\n  'mScannableType': 'RTWOT_Default',\n  'mShouldOverrideScannerDisplayText': 'False',\n  'mScannerDisplayText': '',\n  'mScannerLightColor': '(B=0,G=0,R=0,A=0)'},\n 'Desc_Wall_Door_8x4_01_Steel_C': {'ClassName': 'Desc_Wall_Door_8x4_01_Steel_C',\n  'mDisplayName': '',\n  'mDescription': '',\n  'mAbbreviatedDisplayName': '',\n  'mStackSize': 'SS_MEDIUM',\n  'mCanBeDiscarded': 'True',\n  'mRememberPickUp': 'False',\n  'mEnergyValue': '0.000000',\n  'mRadioactiveDecay': '0.000000',\n  'mForm': 'RF_INVALID',\n  'mSmallIcon': 'Texture2D /Game/FactoryGame/Buildable/Building/Wall/UI/Doors/IconDesc_SteelCenterDoor_256.IconDesc_SteelCenterDoor_256',\n  'mPersistentBigIcon': 'Texture2D /Game/FactoryGame/Buildable/Building/Wall/UI/Doors/IconDesc_SteelCenterDoor_512.IconDesc_SteelCenterDoor_512',\n  'mCrosshairMaterial': 'None',\n  'mDescriptorStatBars': '',\n  'mSubCategories': '(BlueprintGeneratedClass\\'\"/Game/FactoryGame/Interface/UI/InGame/BuildMenu/BuildCategories/Sub_Walls/SC_Doors.SC_Doors_C\"\\')',\n  'mMenuPriority': '7.000000',\n  'mFluidColor': '(B=0,G=0,R=0,A=0)',\n  'mGasColor': '(B=0,G=0,R=0,A=0)',\n  'mCompatibleItemDescriptors': '',\n  'mClassToScanFor': 'None',\n  'mScannableType': 'RTWOT_Default',\n  'mShouldOverrideScannerDisplayText': 'False',\n  'mScannerDisplayText': '',\n  'mScannerLightColor': '(B=0,G=0,R=0,A=0)'},\n 'Desc_Wall_Door_8x4_03_Steel_C': {'ClassName': 'Desc_Wall_Door_8x4_03_Steel_C',\n  'mDisplayName': '',\n  'mDescription': '',\n  'mAbbreviatedDisplayName': '',\n  'mStackSize': 'SS_MEDIUM',\n  'mCanBeDiscarded': 'True',\n  'mRememberPickUp': 'False',\n  'mEnergyValue': '0.000000',\n  'mRadioactiveDecay': '0.000000',\n  'mForm': 'RF_INVALID',\n  'mSmallIcon': 'Texture2D /Game/FactoryGame/Buildable/Building/Wall/UI/Doors/IconDesc_SteelSideDoor_256.IconDesc_SteelSideDoor_256',\n  'mPersistentBigIcon': 'Texture2D /Game/FactoryGame/Buildable/Building/Wall/UI/Doors/IconDesc_SteelSideDoor_512.IconDesc_SteelSideDoor_512',\n  'mCrosshairMaterial': 'None',\n  'mDescriptorStatBars': '',\n  'mSubCategories': '(BlueprintGeneratedClass\\'\"/Game/FactoryGame/Interface/UI/InGame/BuildMenu/BuildCategories/Sub_Walls/SC_Doors.SC_Doors_C\"\\')',\n  'mMenuPriority': '8.000000',\n  'mFluidColor': '(B=0,G=0,R=0,A=0)',\n  'mGasColor': '(B=0,G=0,R=0,A=0)',\n  'mCompatibleItemDescriptors': '',\n  'mClassToScanFor': 'None',\n  'mScannableType': 'RTWOT_Default',\n  'mShouldOverrideScannerDisplayText': 'False',\n  'mScannerDisplayText': '',\n  'mScannerLightColor': '(B=0,G=0,R=0,A=0)'},\n 'Desc_WallSet_Steel_Angular_8x4_C': {'ClassName': 'Desc_WallSet_Steel_Angular_8x4_C',\n  'mDisplayName': '',\n  'mDescription': '',\n  'mAbbreviatedDisplayName': '',\n  'mStackSize': 'SS_MEDIUM',\n  'mCanBeDiscarded': 'True',\n  'mRememberPickUp': 'False',\n  'mEnergyValue': '0.000000',\n  'mRadioactiveDecay': '0.000000',\n  'mForm': 'RF_INVALID',\n  'mSmallIcon': 'Texture2D /Game/FactoryGame/Buildable/Building/Wall/UI/Angular/IconDesc_SteelAngWall4m_256.IconDesc_SteelAngWall4m_256',\n  'mPersistentBigIcon': 'Texture2D /Game/FactoryGame/Buildable/Building/Wall/UI/Angular/IconDesc_SteelAngWall4m_512.IconDesc_SteelAngWall4m_512',\n  'mCrosshairMaterial': 'None',\n  'mDescriptorStatBars': '',\n  'mSubCategories': '(BlueprintGeneratedClass\\'\"/Game/FactoryGame/Interface/UI/InGame/BuildMenu/BuildCategories/Sub_Walls/SC_AngularWalls.SC_AngularWalls_C\"\\')',\n  'mMenuPriority': '13.000000',\n  'mFluidColor': '(B=0,G=0,R=0,A=0)',\n  'mGasColor': '(B=0,G=0,R=0,A=0)',\n  'mCompatibleItemDescriptors': '',\n  'mClassToScanFor': 'None',\n  'mScannableType': 'RTWOT_Default',\n  'mShouldOverrideScannerDisplayText': 'False',\n  'mScannerDisplayText': '',\n  'mScannerLightColor': '(B=0,G=0,R=0,A=0)'},\n 'Desc_WallSet_Steel_Angular_8x8_C': {'ClassName': 'Desc_WallSet_Steel_Angular_8x8_C',\n  'mDisplayName': '',\n  'mDescription': '',\n  'mAbbreviatedDisplayName': '',\n  'mStackSize': 'SS_MEDIUM',\n  'mCanBeDiscarded': 'True',\n  'mRememberPickUp': 'False',\n  'mEnergyValue': '0.000000',\n  'mRadioactiveDecay': '0.000000',\n  'mForm': 'RF_INVALID',\n  'mSmallIcon': 'Texture2D /Game/FactoryGame/Buildable/Building/Wall/UI/Angular/IconDesc_SteelAngWall8m_256.IconDesc_SteelAngWall8m_256',\n  'mPersistentBigIcon': 'Texture2D /Game/FactoryGame/Buildable/Building/Wall/UI/Angular/IconDesc_SteelAngWall8m_512.IconDesc_SteelAngWall8m_512',\n  'mCrosshairMaterial': 'None',\n  'mDescriptorStatBars': '',\n  'mSubCategories': '(BlueprintGeneratedClass\\'\"/Game/FactoryGame/Interface/UI/InGame/BuildMenu/BuildCategories/Sub_Walls/SC_AngularWalls.SC_AngularWalls_C\"\\')',\n  'mMenuPriority': '14.000000',\n  'mFluidColor': '(B=0,G=0,R=0,A=0)',\n  'mGasColor': '(B=0,G=0,R=0,A=0)',\n  'mCompatibleItemDescriptors': '',\n  'mClassToScanFor': 'None',\n  'mScannableType': 'RTWOT_Default',\n  'mShouldOverrideScannerDisplayText': 'False',\n  'mScannerDisplayText': '',\n  'mScannerLightColor': '(B=0,G=0,R=0,A=0)'},\n 'Desc_ConveyorCeilingAttachment_C': {'ClassName': 'Desc_ConveyorCeilingAttachment_C',\n  'mDisplayName': '',\n  'mDescription': '',\n  'mAbbreviatedDisplayName': '',\n  'mStackSize': 'SS_MEDIUM',\n  'mCanBeDiscarded': 'True',\n  'mRememberPickUp': 'False',\n  'mEnergyValue': '0.000000',\n  'mRadioactiveDecay': '0.000000',\n  'mForm': 'RF_INVALID',\n  'mSmallIcon': 'Texture2D /Game/FactoryGame/Buildable/Factory/ConveyorPoleWall/UI/IconDesc_ConvCeilingAttachment_256.IconDesc_ConvCeilingAttachment_256',\n  'mPersistentBigIcon': 'Texture2D /Game/FactoryGame/Buildable/Factory/ConveyorPoleWall/UI/IconDesc_ConvCeilingAttachment_512.IconDesc_ConvCeilingAttachment_512',\n  'mCrosshairMaterial': 'None',\n  'mDescriptorStatBars': '',\n  'mSubCategories': '(BlueprintGeneratedClass\\'\"/Game/FactoryGame/Interface/UI/InGame/BuildMenu/BuildCategories/Sub_Transport/SC_ConverPole.SC_ConverPole_C\"\\')',\n  'mMenuPriority': '32.000000',\n  'mFluidColor': '(B=0,G=0,R=0,A=0)',\n  'mGasColor': '(B=0,G=0,R=0,A=0)',\n  'mCompatibleItemDescriptors': '',\n  'mClassToScanFor': 'None',\n  'mScannableType': 'RTWOT_Default',\n  'mShouldOverrideScannerDisplayText': 'False',\n  'mScannerDisplayText': '',\n  'mScannerLightColor': '(B=0,G=0,R=0,A=0)'},\n 'Desc_ConveyorPoleWall_C': {'ClassName': 'Desc_ConveyorPoleWall_C',\n  'mDisplayName': '',\n  'mDescription': '',\n  'mAbbreviatedDisplayName': '',\n  'mStackSize': 'SS_MEDIUM',\n  'mCanBeDiscarded': 'True',\n  'mRememberPickUp': 'False',\n  'mEnergyValue': '0.000000',\n  'mRadioactiveDecay': '0.000000',\n  'mForm': 'RF_INVALID',\n  'mSmallIcon': 'Texture2D /Game/FactoryGame/Buildable/Factory/ConveyorPoleWall/UI/IconDesc_ConvWallAttachment_256.IconDesc_ConvWallAttachment_256',\n  'mPersistentBigIcon': 'Texture2D /Game/FactoryGame/Buildable/Factory/ConveyorPoleWall/UI/IconDesc_ConvWallAttachment_512.IconDesc_ConvWallAttachment_512',\n  'mCrosshairMaterial': 'None',\n  'mDescriptorStatBars': '',\n  'mSubCategories': '(BlueprintGeneratedClass\\'\"/Game/FactoryGame/Interface/UI/InGame/BuildMenu/BuildCategories/Sub_Transport/SC_ConverPole.SC_ConverPole_C\"\\')',\n  'mMenuPriority': '31.000000',\n  'mFluidColor': '(B=0,G=0,R=0,A=0)',\n  'mGasColor': '(B=0,G=0,R=0,A=0)',\n  'mCompatibleItemDescriptors': '',\n  'mClassToScanFor': 'None',\n  'mScannableType': 'RTWOT_Default',\n  'mShouldOverrideScannerDisplayText': 'False',\n  'mScannerDisplayText': '',\n  'mScannerLightColor': '(B=0,G=0,R=0,A=0)'},\n 'Desc_ConveyorBeltMk1_C': {'ClassName': 'Desc_ConveyorBeltMk1_C',\n  'mDisplayName': '',\n  'mDescription': '',\n  'mAbbreviatedDisplayName': '',\n  'mStackSize': 'SS_MEDIUM',\n  'mCanBeDiscarded': 'True',\n  'mRememberPickUp': 'False',\n  'mEnergyValue': '0.000000',\n  'mRadioactiveDecay': '0.000000',\n  'mForm': 'RF_INVALID',\n  'mSmallIcon': 'Texture2D /Game/FactoryGame/Buildable/Factory/ConveyorBeltMk1/UI/ConveyorMk1_256.ConveyorMk1_256',\n  'mPersistentBigIcon': 'Texture2D /Game/FactoryGame/Buildable/Factory/ConveyorBeltMk1/UI/ConveyorMk1_512.ConveyorMk1_512',\n  'mCrosshairMaterial': 'None',\n  'mDescriptorStatBars': '',\n  'mSubCategories': '(BlueprintGeneratedClass\\'\"/Game/FactoryGame/Interface/UI/InGame/BuildMenu/BuildCategories/Sub_Transport/SC_ConveyorBelts.SC_ConveyorBelts_C\"\\')',\n  'mMenuPriority': '31.000000',\n  'mFluidColor': '(B=0,G=0,R=0,A=0)',\n  'mGasColor': '(B=0,G=0,R=0,A=0)',\n  'mCompatibleItemDescriptors': '',\n  'mClassToScanFor': 'None',\n  'mScannableType': 'RTWOT_Default',\n  'mShouldOverrideScannerDisplayText': 'False',\n  'mScannerDisplayText': '',\n  'mScannerLightColor': '(B=0,G=0,R=0,A=0)'},\n 'Desc_PowerLine_C': {'ClassName': 'Desc_PowerLine_C',\n  'mDisplayName': '',\n  'mDescription': '',\n  'mAbbreviatedDisplayName': '',\n  'mStackSize': 'SS_MEDIUM',\n  'mCanBeDiscarded': 'True',\n  'mRememberPickUp': 'False',\n  'mEnergyValue': '0.000000',\n  'mRadioactiveDecay': '0.000000',\n  'mForm': 'RF_INVALID',\n  'mSmallIcon': 'Texture2D /Game/FactoryGame/Buildable/Factory/PowerLine/UI/Powerline_256.Powerline_256',\n  'mPersistentBigIcon': 'Texture2D /Game/FactoryGame/Buildable/Factory/PowerLine/UI/Powerline_256.Powerline_256',\n  'mCrosshairMaterial': 'None',\n  'mDescriptorStatBars': '',\n  'mSubCategories': '(BlueprintGeneratedClass\\'\"/Game/FactoryGame/Interface/UI/InGame/BuildMenu/BuildCategories/Sub_Power/SC_PowerPoles.SC_PowerPoles_C\"\\')',\n  'mMenuPriority': '0.000000',\n  'mFluidColor': '(B=0,G=0,R=0,A=0)',\n  'mGasColor': '(B=0,G=0,R=0,A=0)',\n  'mCompatibleItemDescriptors': '',\n  'mClassToScanFor': 'None',\n  'mScannableType': 'RTWOT_Default',\n  'mShouldOverrideScannerDisplayText': 'False',\n  'mScannerDisplayText': '',\n  'mScannerLightColor': '(B=0,G=0,R=0,A=0)'},\n 'Desc_PowerPoleMk1_C': {'ClassName': 'Desc_PowerPoleMk1_C',\n  'mDisplayName': '',\n  'mDescription': '',\n  'mAbbreviatedDisplayName': '',\n  'mStackSize': 'SS_MEDIUM',\n  'mCanBeDiscarded': 'True',\n  'mRememberPickUp': 'False',\n  'mEnergyValue': '0.000000',\n  'mRadioactiveDecay': '0.000000',\n  'mForm': 'RF_INVALID',\n  'mSmallIcon': 'Texture2D /Game/FactoryGame/Buildable/Factory/PowerPoleMk1/UI/PowerPoleMk1_256.PowerPoleMk1_256',\n  'mPersistentBigIcon': 'Texture2D /Game/FactoryGame/Buildable/Factory/PowerPoleMk1/UI/PowerPoleMk1_512.PowerPoleMk1_512',\n  'mCrosshairMaterial': 'None',\n  'mDescriptorStatBars': '',\n  'mSubCategories': '(BlueprintGeneratedClass\\'\"/Game/FactoryGame/Interface/UI/InGame/BuildMenu/BuildCategories/Sub_Power/SC_PowerPoles.SC_PowerPoles_C\"\\')',\n  'mMenuPriority': '1.000000',\n  'mFluidColor': '(B=0,G=0,R=0,A=0)',\n  'mGasColor': '(B=0,G=0,R=0,A=0)',\n  'mCompatibleItemDescriptors': '',\n  'mClassToScanFor': 'None',\n  'mScannableType': 'RTWOT_Default',\n  'mShouldOverrideScannerDisplayText': 'False',\n  'mScannerDisplayText': '',\n  'mScannerLightColor': '(B=0,G=0,R=0,A=0)'},\n 'Desc_PowerPoleWall_C': {'ClassName': 'Desc_PowerPoleWall_C',\n  'mDisplayName': '',\n  'mDescription': '',\n  'mAbbreviatedDisplayName': '',\n  'mStackSize': 'SS_MEDIUM',\n  'mCanBeDiscarded': 'True',\n  'mRememberPickUp': 'False',\n  'mEnergyValue': '0.000000',\n  'mRadioactiveDecay': '0.000000',\n  'mForm': 'RF_INVALID',\n  'mSmallIcon': 'Texture2D /Game/FactoryGame/Buildable/Factory/PowerPoleWall/UI/PowerPoleWall_MK1_256.PowerPoleWall_MK1_256',\n  'mPersistentBigIcon': 'Texture2D /Game/FactoryGame/Buildable/Factory/PowerPoleWall/UI/PowerPoleWall_MK1_512.PowerPoleWall_MK1_512',\n  'mCrosshairMaterial': 'None',\n  'mDescriptorStatBars': '',\n  'mSubCategories': '(BlueprintGeneratedClass\\'\"/Game/FactoryGame/Interface/UI/InGame/BuildMenu/BuildCategories/Sub_Power/SC_WallPoles.SC_WallPoles_C\"\\')',\n  'mMenuPriority': '1.000000',\n  'mFluidColor': '(B=0,G=0,R=0,A=0)',\n  'mGasColor': '(B=0,G=0,R=0,A=0)',\n  'mCompatibleItemDescriptors': '',\n  'mClassToScanFor': 'None',\n  'mScannableType': 'RTWOT_Default',\n  'mShouldOverrideScannerDisplayText': 'False',\n  'mScannerDisplayText': '',\n  'mScannerLightColor': '(B=0,G=0,R=0,A=0)'},\n 'Desc_BlueprintDesigner_C': {'ClassName': 'Desc_BlueprintDesigner_C',\n  'mDisplayName': '',\n  'mDescription': '',\n  'mAbbreviatedDisplayName': '',\n  'mStackSize': 'SS_MEDIUM',\n  'mCanBeDiscarded': 'True',\n  'mRememberPickUp': 'False',\n  'mEnergyValue': '0.000000',\n  'mRadioactiveDecay': '0.000000',\n  'mForm': 'RF_INVALID',\n  'mSmallIcon': 'Texture2D /Game/FactoryGame/Buildable/Factory/BlueprintDesigner/UI/IconDesc_BlueprintDesigner_256.IconDesc_BlueprintDesigner_256',\n  'mPersistentBigIcon': 'Texture2D /Game/FactoryGame/Buildable/Factory/BlueprintDesigner/UI/IconDesc_BlueprintDesigner_512.IconDesc_BlueprintDesigner_512',\n  'mCrosshairMaterial': 'None',\n  'mDescriptorStatBars': '',\n  'mSubCategories': '(BlueprintGeneratedClass\\'\"/Game/FactoryGame/Interface/UI/InGame/BuildMenu/BuildCategories/Sub_Special/SC_Progression.SC_Progression_C\"\\')',\n  'mMenuPriority': '10.000000',\n  'mFluidColor': '(B=0,G=0,R=0,A=0)',\n  'mGasColor': '(B=0,G=0,R=0,A=0)',\n  'mCompatibleItemDescriptors': '',\n  'mClassToScanFor': 'None',\n  'mScannableType': 'RTWOT_Default',\n  'mShouldOverrideScannerDisplayText': 'False',\n  'mScannerDisplayText': '',\n  'mScannerLightColor': '(B=0,G=0,R=0,A=0)'},\n 'Desc_TradingPost_C': {'ClassName': 'Desc_TradingPost_C',\n  'mDisplayName': '',\n  'mDescription': '',\n  'mAbbreviatedDisplayName': '',\n  'mStackSize': 'SS_ONE',\n  'mCanBeDiscarded': 'True',\n  'mRememberPickUp': 'False',\n  'mEnergyValue': '0.000000',\n  'mRadioactiveDecay': '0.000000',\n  'mForm': 'RF_INVALID',\n  'mSmallIcon': 'Texture2D /Game/FactoryGame/Buildable/Factory/TradingPost/UI/Hub_256.Hub_256',\n  'mPersistentBigIcon': 'Texture2D /Game/FactoryGame/Buildable/Factory/TradingPost/UI/Hub_512.Hub_512',\n  'mCrosshairMaterial': 'None',\n  'mDescriptorStatBars': '',\n  'mSubCategories': '(BlueprintGeneratedClass\\'\"/Game/FactoryGame/Interface/UI/InGame/BuildMenu/BuildCategories/Sub_Special/SC_Progression.SC_Progression_C\"\\')',\n  'mMenuPriority': '0.000000',\n  'mFluidColor': '(B=0,G=0,R=0,A=0)',\n  'mGasColor': '(B=0,G=0,R=0,A=0)',\n  'mCompatibleItemDescriptors': '',\n  'mClassToScanFor': 'None',\n  'mScannableType': 'RTWOT_Default',\n  'mShouldOverrideScannerDisplayText': 'False',\n  'mScannerDisplayText': '',\n  'mScannerLightColor': '(B=0,G=0,R=0,A=0)'},\n 'Desc_ConstructorMk1_C': {'ClassName': 'Desc_ConstructorMk1_C',\n  'mDisplayName': '',\n  'mDescription': '',\n  'mAbbreviatedDisplayName': '',\n  'mStackSize': 'SS_MEDIUM',\n  'mCanBeDiscarded': 'True',\n  'mRememberPickUp': 'False',\n  'mEnergyValue': '0.000000',\n  'mRadioactiveDecay': '0.000000',\n  'mForm': 'RF_INVALID',\n  'mSmallIcon': 'Texture2D /Game/FactoryGame/Buildable/Factory/ConstructorMk1/UI/IconDesc_ConstructorMk1_256.IconDesc_ConstructorMk1_256',\n  'mPersistentBigIcon': 'Texture2D /Game/FactoryGame/Buildable/Factory/ConstructorMk1/UI/IconDesc_ConstructorMk1_512.IconDesc_ConstructorMk1_512',\n  'mCrosshairMaterial': 'None',\n  'mDescriptorStatBars': '',\n  'mSubCategories': '(BlueprintGeneratedClass\\'\"/Game/FactoryGame/Interface/UI/InGame/BuildMenu/BuildCategories/Sub_Production/SC_Manufacturers.SC_Manufacturers_C\"\\')',\n  'mMenuPriority': '1.000000',\n  'mFluidColor': '(B=0,G=0,R=0,A=0)',\n  'mGasColor': '(B=0,G=0,R=0,A=0)',\n  'mCompatibleItemDescriptors': '',\n  'mClassToScanFor': 'None',\n  'mScannableType': 'RTWOT_Default',\n  'mShouldOverrideScannerDisplayText': 'False',\n  'mScannerDisplayText': '',\n  'mScannerLightColor': '(B=0,G=0,R=0,A=0)'},\n 'Desc_MinerMk1_C': {'ClassName': 'Desc_MinerMk1_C',\n  'mDisplayName': '',\n  'mDescription': '',\n  'mAbbreviatedDisplayName': '',\n  'mStackSize': 'SS_MEDIUM',\n  'mCanBeDiscarded': 'True',\n  'mRememberPickUp': 'False',\n  'mEnergyValue': '0.000000',\n  'mRadioactiveDecay': '0.000000',\n  'mForm': 'RF_INVALID',\n  'mSmallIcon': 'Texture2D /Game/FactoryGame/Buildable/Factory/MinerMK1/UI/IconDesc_MinerMk1_256.IconDesc_MinerMk1_256',\n  'mPersistentBigIcon': 'Texture2D /Game/FactoryGame/Buildable/Factory/MinerMK1/UI/IconDesc_MinerMk1_512.IconDesc_MinerMk1_512',\n  'mCrosshairMaterial': 'None',\n  'mDescriptorStatBars': '',\n  'mSubCategories': '(BlueprintGeneratedClass\\'\"/Game/FactoryGame/Interface/UI/InGame/BuildMenu/BuildCategories/Sub_Production/SC_Miners.SC_Miners_C\"\\')',\n  'mMenuPriority': '3.000000',\n  'mFluidColor': '(B=0,G=0,R=0,A=0)',\n  'mGasColor': '(B=0,G=0,R=0,A=0)',\n  'mCompatibleItemDescriptors': '',\n  'mClassToScanFor': 'None',\n  'mScannableType': 'RTWOT_Default',\n  'mShouldOverrideScannerDisplayText': 'False',\n  'mScannerDisplayText': '',\n  'mScannerLightColor': '(B=0,G=0,R=0,A=0)'},\n 'Desc_SmelterMk1_C': {'ClassName': 'Desc_SmelterMk1_C',\n  'mDisplayName': '',\n  'mDescription': '',\n  'mAbbreviatedDisplayName': '',\n  'mStackSize': 'SS_MEDIUM',\n  'mCanBeDiscarded': 'True',\n  'mRememberPickUp': 'False',\n  'mEnergyValue': '0.000000',\n  'mRadioactiveDecay': '0.000000',\n  'mForm': 'RF_INVALID',\n  'mSmallIcon': 'Texture2D /Game/FactoryGame/Buildable/Factory/SmelterMk1/UI/IconDesc_SmelterMk1_256.IconDesc_SmelterMk1_256',\n  'mPersistentBigIcon': 'Texture2D /Game/FactoryGame/Buildable/Factory/SmelterMk1/UI/IconDesc_SmelterMk1_512.IconDesc_SmelterMk1_512',\n  'mCrosshairMaterial': 'None',\n  'mDescriptorStatBars': '',\n  'mSubCategories': '(BlueprintGeneratedClass\\'\"/Game/FactoryGame/Interface/UI/InGame/BuildMenu/BuildCategories/Sub_Production/SC_Smelters.SC_Smelters_C\"\\')',\n  'mMenuPriority': '6.000000',\n  'mFluidColor': '(B=0,G=0,R=0,A=0)',\n  'mGasColor': '(B=0,G=0,R=0,A=0)',\n  'mCompatibleItemDescriptors': '',\n  'mClassToScanFor': 'None',\n  'mScannableType': 'RTWOT_Default',\n  'mShouldOverrideScannerDisplayText': 'False',\n  'mScannerDisplayText': '',\n  'mScannerLightColor': '(B=0,G=0,R=0,A=0)'},\n 'Desc_StorageContainerMk1_C': {'ClassName': 'Desc_StorageContainerMk1_C',\n  'mDisplayName': '',\n  'mDescription': '',\n  'mAbbreviatedDisplayName': '',\n  'mStackSize': 'SS_MEDIUM',\n  'mCanBeDiscarded': 'True',\n  'mRememberPickUp': 'False',\n  'mEnergyValue': '0.000000',\n  'mRadioactiveDecay': '0.000000',\n  'mForm': 'RF_INVALID',\n  'mSmallIcon': 'Texture2D /Game/FactoryGame/Buildable/Factory/StorageContainerMk1/UI/IconDesc_StorageContainer_256.IconDesc_StorageContainer_256',\n  'mPersistentBigIcon': 'Texture2D /Game/FactoryGame/Buildable/Factory/StorageContainerMk1/UI/IconDesc_StorageContainer_512.IconDesc_StorageContainer_512',\n  'mCrosshairMaterial': 'None',\n  'mDescriptorStatBars': '',\n  'mSubCategories': '(BlueprintGeneratedClass\\'\"/Game/FactoryGame/Interface/UI/InGame/BuildMenu/BuildCategories/Sub_Organisation/SC_Storage.SC_Storage_C\"\\')',\n  'mMenuPriority': '62.000000',\n  'mFluidColor': '(B=0,G=0,R=0,A=0)',\n  'mGasColor': '(B=0,G=0,R=0,A=0)',\n  'mCompatibleItemDescriptors': '',\n  'mClassToScanFor': 'None',\n  'mScannableType': 'RTWOT_Default',\n  'mShouldOverrideScannerDisplayText': 'False',\n  'mScannerDisplayText': '',\n  'mScannerLightColor': '(B=0,G=0,R=0,A=0)'},\n 'Desc_WorkBench_C': {'ClassName': 'Desc_WorkBench_C',\n  'mDisplayName': '',\n  'mDescription': '',\n  'mAbbreviatedDisplayName': '',\n  'mStackSize': 'SS_MEDIUM',\n  'mCanBeDiscarded': 'True',\n  'mRememberPickUp': 'False',\n  'mEnergyValue': '0.000000',\n  'mRadioactiveDecay': '0.000000',\n  'mForm': 'RF_INVALID',\n  'mSmallIcon': 'Texture2D /Game/FactoryGame/Buildable/Factory/WorkBench/UI/Workbench_256.Workbench_256',\n  'mPersistentBigIcon': 'Texture2D /Game/FactoryGame/Buildable/Factory/WorkBench/UI/Workbench_512.Workbench_512',\n  'mCrosshairMaterial': 'None',\n  'mDescriptorStatBars': '',\n  'mSubCategories': '(BlueprintGeneratedClass\\'\"/Game/FactoryGame/Interface/UI/InGame/BuildMenu/BuildCategories/Sub_Production/SC_Workstations.SC_Workstations_C\"\\')',\n  'mMenuPriority': '1.000000',\n  'mFluidColor': '(B=0,G=0,R=0,A=0)',\n  'mGasColor': '(B=0,G=0,R=0,A=0)',\n  'mCompatibleItemDescriptors': '',\n  'mClassToScanFor': 'None',\n  'mScannableType': 'RTWOT_Default',\n  'mShouldOverrideScannerDisplayText': 'False',\n  'mScannerDisplayText': '',\n  'mScannerLightColor': '(B=0,G=0,R=0,A=0)'},\n 'Desc_Workshop_C': {'ClassName': 'Desc_Workshop_C',\n  'mDisplayName': '',\n  'mDescription': '',\n  'mAbbreviatedDisplayName': '',\n  'mStackSize': 'SS_MEDIUM',\n  'mCanBeDiscarded': 'True',\n  'mRememberPickUp': 'False',\n  'mEnergyValue': '0.000000',\n  'mRadioactiveDecay': '0.000000',\n  'mForm': 'RF_INVALID',\n  'mSmallIcon': 'Texture2D /Game/FactoryGame/Buildable/Factory/Workshop/UI/Workshop_256.Workshop_256',\n  'mPersistentBigIcon': 'Texture2D /Game/FactoryGame/Buildable/Factory/Workshop/UI/Workshop_512.Workshop_512',\n  'mCrosshairMaterial': 'None',\n  'mDescriptorStatBars': '',\n  'mSubCategories': '(BlueprintGeneratedClass\\'\"/Game/FactoryGame/Interface/UI/InGame/BuildMenu/BuildCategories/Sub_Production/SC_Workstations.SC_Workstations_C\"\\')',\n  'mMenuPriority': '2.000000',\n  'mFluidColor': '(B=0,G=0,R=0,A=0)',\n  'mGasColor': '(B=0,G=0,R=0,A=0)',\n  'mCompatibleItemDescriptors': '',\n  'mClassToScanFor': 'None',\n  'mScannableType': 'RTWOT_Default',\n  'mShouldOverrideScannerDisplayText': 'False',\n  'mScannerDisplayText': '',\n  'mScannerLightColor': '(B=0,G=0,R=0,A=0)'},\n 'Desc_GeneratorBiomass_C': {'ClassName': 'Desc_GeneratorBiomass_C',\n  'mDisplayName': '',\n  'mDescription': '',\n  'mAbbreviatedDisplayName': '',\n  'mStackSize': 'SS_MEDIUM',\n  'mCanBeDiscarded': 'True',\n  'mRememberPickUp': 'False',\n  'mEnergyValue': '0.000000',\n  'mRadioactiveDecay': '0.000000',\n  'mForm': 'RF_INVALID',\n  'mSmallIcon': 'Texture2D /Game/FactoryGame/Buildable/Factory/GeneratorBiomass/UI/IconDesc_BiomassGenerator_256.IconDesc_BiomassGenerator_256',\n  'mPersistentBigIcon': 'Texture2D /Game/FactoryGame/Buildable/Factory/GeneratorBiomass/UI/BiomassGenerator_512.BiomassGenerator_512',\n  'mCrosshairMaterial': 'None',\n  'mDescriptorStatBars': '',\n  'mSubCategories': '(BlueprintGeneratedClass\\'\"/Game/FactoryGame/Interface/UI/InGame/BuildMenu/BuildCategories/Sub_Power/SC_Generators.SC_Generators_C\"\\')',\n  'mMenuPriority': '1.000000',\n  'mFluidColor': '(B=0,G=0,R=0,A=0)',\n  'mGasColor': '(B=0,G=0,R=0,A=0)',\n  'mCompatibleItemDescriptors': '',\n  'mClassToScanFor': 'None',\n  'mScannableType': 'RTWOT_Default',\n  'mShouldOverrideScannerDisplayText': 'False',\n  'mScannerDisplayText': '',\n  'mScannerLightColor': '(B=0,G=0,R=0,A=0)'},\n 'Desc_SpaceElevator_C': {'ClassName': 'Desc_SpaceElevator_C',\n  'mDisplayName': '',\n  'mDescription': '',\n  'mAbbreviatedDisplayName': '',\n  'mStackSize': 'SS_MEDIUM',\n  'mCanBeDiscarded': 'True',\n  'mRememberPickUp': 'False',\n  'mEnergyValue': '0.000000',\n  'mRadioactiveDecay': '0.000000',\n  'mForm': 'RF_INVALID',\n  'mSmallIcon': 'Texture2D /Game/FactoryGame/Buildable/Factory/SpaceElevator/UI/SpaceElevator_256.SpaceElevator_256',\n  'mPersistentBigIcon': 'Texture2D /Game/FactoryGame/Buildable/Factory/SpaceElevator/UI/SpaceElevator_512.SpaceElevator_512',\n  'mCrosshairMaterial': 'None',\n  'mDescriptorStatBars': '',\n  'mSubCategories': '(BlueprintGeneratedClass\\'\"/Game/FactoryGame/Interface/UI/InGame/BuildMenu/BuildCategories/Sub_Special/SC_Progression.SC_Progression_C\"\\')',\n  'mMenuPriority': '2.000000',\n  'mFluidColor': '(B=0,G=0,R=0,A=0)',\n  'mGasColor': '(B=0,G=0,R=0,A=0)',\n  'mCompatibleItemDescriptors': '',\n  'mClassToScanFor': 'None',\n  'mScannableType': 'RTWOT_Default',\n  'mShouldOverrideScannerDisplayText': 'False',\n  'mScannerDisplayText': '',\n  'mScannerLightColor': '(B=0,G=0,R=0,A=0)'},\n 'Desc_XMassTree_C': {'ClassName': 'Desc_XMassTree_C',\n  'mDisplayName': '',\n  'mDescription': '',\n  'mAbbreviatedDisplayName': '',\n  'mStackSize': 'SS_ONE',\n  'mCanBeDiscarded': 'True',\n  'mRememberPickUp': 'False',\n  'mEnergyValue': '0.000000',\n  'mRadioactiveDecay': '0.000000',\n  'mForm': 'RF_INVALID',\n  'mSmallIcon': 'Texture2D /Game/FactoryGame/Events/Christmas/Parts/UI/IconDesc_ChristmasTreeBare_256.IconDesc_ChristmasTreeBare_256',\n  'mPersistentBigIcon': 'Texture2D /Game/FactoryGame/Events/Christmas/Parts/UI/IconDesc_ChristmasTreeBare_512.IconDesc_ChristmasTreeBare_512',\n  'mCrosshairMaterial': 'None',\n  'mDescriptorStatBars': '',\n  'mSubCategories': '(BlueprintGeneratedClass\\'\"/Game/FactoryGame/Interface/UI/InGame/BuildMenu/BuildCategories/Sub_Special/SC_Event.SC_Event_C\"\\')',\n  'mMenuPriority': '0.000000',\n  'mFluidColor': '(B=0,G=0,R=0,A=0)',\n  'mGasColor': '(B=0,G=0,R=0,A=0)',\n  'mCompatibleItemDescriptors': '',\n  'mClassToScanFor': 'None',\n  'mScannableType': 'RTWOT_Default',\n  'mShouldOverrideScannerDisplayText': 'False',\n  'mScannerDisplayText': '',\n  'mScannerLightColor': '(B=0,G=0,R=0,A=0)'},\n 'Desc_Beam_C': {'ClassName': 'Desc_Beam_C',\n  'mDisplayName': '',\n  'mDescription': '',\n  'mAbbreviatedDisplayName': '',\n  'mStackSize': 'SS_MEDIUM',\n  'mCanBeDiscarded': 'True',\n  'mRememberPickUp': 'False',\n  'mEnergyValue': '0.000000',\n  'mRadioactiveDecay': '0.000000',\n  'mForm': 'RF_INVALID',\n  'mSmallIcon': 'Texture2D /Game/FactoryGame/Prototype/Buildable/Beams/UI/IconDesc_Beam_256.IconDesc_Beam_256',\n  'mPersistentBigIcon': 'Texture2D /Game/FactoryGame/Prototype/Buildable/Beams/UI/IconDesc_Beam_512.IconDesc_Beam_512',\n  'mCrosshairMaterial': 'None',\n  'mDescriptorStatBars': '',\n  'mSubCategories': '(BlueprintGeneratedClass\\'\"/Game/FactoryGame/Interface/UI/InGame/BuildMenu/BuildCategories/Sub_Organisation/SC_Beams.SC_Beams_C\"\\')',\n  'mMenuPriority': '1.000000',\n  'mFluidColor': '(B=0,G=0,R=0,A=0)',\n  'mGasColor': '(B=0,G=0,R=0,A=0)',\n  'mCompatibleItemDescriptors': '',\n  'mClassToScanFor': 'None',\n  'mScannableType': 'RTWOT_Default',\n  'mShouldOverrideScannerDisplayText': 'False',\n  'mScannerDisplayText': '',\n  'mScannerLightColor': '(B=0,G=0,R=0,A=0)'},\n 'Desc_Beam_Painted_C': {'ClassName': 'Desc_Beam_Painted_C',\n  'mDisplayName': '',\n  'mDescription': '',\n  'mAbbreviatedDisplayName': '',\n  'mStackSize': 'SS_MEDIUM',\n  'mCanBeDiscarded': 'True',\n  'mRememberPickUp': 'False',\n  'mEnergyValue': '0.000000',\n  'mRadioactiveDecay': '0.000000',\n  'mForm': 'RF_INVALID',\n  'mSmallIcon': 'Texture2D /Game/FactoryGame/Prototype/Buildable/Beams/UI/IconDesc_BeamPainted_256.IconDesc_BeamPainted_256',\n  'mPersistentBigIcon': 'Texture2D /Game/FactoryGame/Prototype/Buildable/Beams/UI/IconDesc_BeamPainted_512.IconDesc_BeamPainted_512',\n  'mCrosshairMaterial': 'None',\n  'mDescriptorStatBars': '',\n  'mSubCategories': '(BlueprintGeneratedClass\\'\"/Game/FactoryGame/Interface/UI/InGame/BuildMenu/BuildCategories/Sub_Organisation/SC_Beams.SC_Beams_C\"\\')',\n  'mMenuPriority': '2.000000',\n  'mFluidColor': '(B=0,G=0,R=0,A=0)',\n  'mGasColor': '(B=0,G=0,R=0,A=0)',\n  'mCompatibleItemDescriptors': '',\n  'mClassToScanFor': 'None',\n  'mScannableType': 'RTWOT_Default',\n  'mShouldOverrideScannerDisplayText': 'False',\n  'mScannerDisplayText': '',\n  'mScannerLightColor': '(B=0,G=0,R=0,A=0)'},\n 'Desc_Fence_01_C': {'ClassName': 'Desc_Fence_01_C',\n  'mDisplayName': '',\n  'mDescription': '',\n  'mAbbreviatedDisplayName': '',\n  'mStackSize': 'SS_MEDIUM',\n  'mCanBeDiscarded': 'True',\n  'mRememberPickUp': 'False',\n  'mEnergyValue': '0.000000',\n  'mRadioactiveDecay': '0.000000',\n  'mForm': 'RF_INVALID',\n  'mSmallIcon': 'Texture2D /Game/FactoryGame/Buildable/Building/Fence/UI/IconDesc_Fences_256.IconDesc_Fences_256',\n  'mPersistentBigIcon': 'Texture2D /Game/FactoryGame/Buildable/Building/Fence/UI/IconDesc_Fences_512.IconDesc_Fences_512',\n  'mCrosshairMaterial': 'None',\n  'mDescriptorStatBars': '',\n  'mSubCategories': '(BlueprintGeneratedClass\\'\"/Game/FactoryGame/Interface/UI/InGame/BuildMenu/BuildCategories/Sub_Organisation/SC_Attach.SC_Attach_C\"\\')',\n  'mMenuPriority': '2.000000',\n  'mFluidColor': '(B=0,G=0,R=0,A=0)',\n  'mGasColor': '(B=0,G=0,R=0,A=0)',\n  'mCompatibleItemDescriptors': '',\n  'mClassToScanFor': 'None',\n  'mScannableType': 'RTWOT_Default',\n  'mShouldOverrideScannerDisplayText': 'False',\n  'mScannerDisplayText': '',\n  'mScannerLightColor': '(B=0,G=0,R=0,A=0)'},\n 'Desc_PillarTop_C': {'ClassName': 'Desc_PillarTop_C',\n  'mDisplayName': '',\n  'mDescription': '',\n  'mAbbreviatedDisplayName': '',\n  'mStackSize': 'SS_MEDIUM',\n  'mCanBeDiscarded': 'True',\n  'mRememberPickUp': 'False',\n  'mEnergyValue': '0.000000',\n  'mRadioactiveDecay': '0.000000',\n  'mForm': 'RF_INVALID',\n  'mSmallIcon': 'None',\n  'mPersistentBigIcon': 'None',\n  'mCrosshairMaterial': 'None',\n  'mDescriptorStatBars': '',\n  'mSubCategories': '(BlueprintGeneratedClass\\'\"/Game/FactoryGame/Interface/UI/InGame/BuildMenu/BuildCategories/Sub_Organisation/SC_Pillars.SC_Pillars_C\"\\')',\n  'mMenuPriority': '1.000000',\n  'mFluidColor': '(B=0,G=0,R=0,A=0)',\n  'mGasColor': '(B=0,G=0,R=0,A=0)',\n  'mCompatibleItemDescriptors': '',\n  'mClassToScanFor': 'None',\n  'mScannableType': 'RTWOT_Default',\n  'mShouldOverrideScannerDisplayText': 'False',\n  'mScannerDisplayText': '',\n  'mScannerLightColor': '(B=0,G=0,R=0,A=0)'},\n 'Desc_JumpPad_C': {'ClassName': 'Desc_JumpPad_C',\n  'mDisplayName': '',\n  'mDescription': '',\n  'mAbbreviatedDisplayName': '',\n  'mStackSize': 'SS_MEDIUM',\n  'mCanBeDiscarded': 'True',\n  'mRememberPickUp': 'False',\n  'mEnergyValue': '0.000000',\n  'mRadioactiveDecay': '0.000000',\n  'mForm': 'RF_INVALID',\n  'mSmallIcon': 'Texture2D /Game/FactoryGame/Buildable/Factory/JumpPad/UI/IconDesc_JumpPad_256.IconDesc_JumpPad_256',\n  'mPersistentBigIcon': 'Texture2D /Game/FactoryGame/Buildable/Factory/JumpPad/UI/IconDesc_JumpPad_512.IconDesc_JumpPad_512',\n  'mCrosshairMaterial': 'None',\n  'mDescriptorStatBars': '',\n  'mSubCategories': '(BlueprintGeneratedClass\\'\"/Game/FactoryGame/Interface/UI/InGame/BuildMenu/BuildCategories/Sub_Production/SC_JumpPads.SC_JumpPads_C\"\\')',\n  'mMenuPriority': '64.000000',\n  'mFluidColor': '(B=0,G=0,R=0,A=0)',\n  'mGasColor': '(B=0,G=0,R=0,A=0)',\n  'mCompatibleItemDescriptors': '',\n  'mClassToScanFor': 'None',\n  'mScannableType': 'RTWOT_Default',\n  'mShouldOverrideScannerDisplayText': 'False',\n  'mScannerDisplayText': '',\n  'mScannerLightColor': '(B=0,G=0,R=0,A=0)'},\n 'Desc_JumpPadTilted_C': {'ClassName': 'Desc_JumpPadTilted_C',\n  'mDisplayName': '',\n  'mDescription': '',\n  'mAbbreviatedDisplayName': '',\n  'mStackSize': 'SS_MEDIUM',\n  'mCanBeDiscarded': 'True',\n  'mRememberPickUp': 'False',\n  'mEnergyValue': '0.000000',\n  'mRadioactiveDecay': '0.000000',\n  'mForm': 'RF_INVALID',\n  'mSmallIcon': 'Texture2D /Game/FactoryGame/Buildable/Factory/JumpPad/UI/IconDesc_JumpPad_256.IconDesc_JumpPad_256',\n  'mPersistentBigIcon': 'Texture2D /Game/FactoryGame/Buildable/Factory/JumpPad/UI/IconDesc_JumpPad_512.IconDesc_JumpPad_512',\n  'mCrosshairMaterial': 'None',\n  'mDescriptorStatBars': '',\n  'mSubCategories': '(BlueprintGeneratedClass\\'\"/Game/FactoryGame/Interface/UI/InGame/BuildMenu/BuildCategories/Sub_Production/SC_JumpPads.SC_JumpPads_C\"\\')',\n  'mMenuPriority': '65.000000',\n  'mFluidColor': '(B=0,G=0,R=0,A=0)',\n  'mGasColor': '(B=0,G=0,R=0,A=0)',\n  'mCompatibleItemDescriptors': '',\n  'mClassToScanFor': 'None',\n  'mScannableType': 'RTWOT_Default',\n  'mShouldOverrideScannerDisplayText': 'False',\n  'mScannerDisplayText': '',\n  'mScannerLightColor': '(B=0,G=0,R=0,A=0)'},\n 'Desc_WalkwayCross_C': {'ClassName': 'Desc_WalkwayCross_C',\n  'mDisplayName': '',\n  'mDescription': '',\n  'mAbbreviatedDisplayName': '',\n  'mStackSize': 'SS_MEDIUM',\n  'mCanBeDiscarded': 'True',\n  'mRememberPickUp': 'False',\n  'mEnergyValue': '0.000000',\n  'mRadioactiveDecay': '0.000000',\n  'mForm': 'RF_INVALID',\n  'mSmallIcon': 'Texture2D /Game/FactoryGame/Buildable/Building/Walkway/UI/IconDesc_WalkwayCross_256.IconDesc_WalkwayCross_256',\n  'mPersistentBigIcon': 'Texture2D /Game/FactoryGame/Buildable/Building/Walkway/UI/IconDesc_WalkwayCross_512.IconDesc_WalkwayCross_512',\n  'mCrosshairMaterial': 'None',\n  'mDescriptorStatBars': '',\n  'mSubCategories': '(BlueprintGeneratedClass\\'\"/Game/FactoryGame/Interface/UI/InGame/BuildMenu/BuildCategories/Sub_Organisation/SC_Walkways.SC_Walkways_C\"\\')',\n  'mMenuPriority': '4.000000',\n  'mFluidColor': '(B=0,G=0,R=0,A=0)',\n  'mGasColor': '(B=0,G=0,R=0,A=0)',\n  'mCompatibleItemDescriptors': '',\n  'mClassToScanFor': 'None',\n  'mScannableType': 'RTWOT_Default',\n  'mShouldOverrideScannerDisplayText': 'False',\n  'mScannerDisplayText': '',\n  'mScannerLightColor': '(B=0,G=0,R=0,A=0)'},\n 'Desc_WalkwayRamp_C': {'ClassName': 'Desc_WalkwayRamp_C',\n  'mDisplayName': '',\n  'mDescription': '',\n  'mAbbreviatedDisplayName': '',\n  'mStackSize': 'SS_MEDIUM',\n  'mCanBeDiscarded': 'True',\n  'mRememberPickUp': 'False',\n  'mEnergyValue': '0.000000',\n  'mRadioactiveDecay': '0.000000',\n  'mForm': 'RF_INVALID',\n  'mSmallIcon': 'Texture2D /Game/FactoryGame/Buildable/Building/Walkway/UI/IconDesc_WalkwayRamp_256.IconDesc_WalkwayRamp_256',\n  'mPersistentBigIcon': 'Texture2D /Game/FactoryGame/Buildable/Building/Walkway/UI/IconDesc_WalkwayRamp_512.IconDesc_WalkwayRamp_512',\n  'mCrosshairMaterial': 'None',\n  'mDescriptorStatBars': '',\n  'mSubCategories': '(BlueprintGeneratedClass\\'\"/Game/FactoryGame/Interface/UI/InGame/BuildMenu/BuildCategories/Sub_Organisation/SC_Walkways.SC_Walkways_C\"\\')',\n  'mMenuPriority': '5.000000',\n  'mFluidColor': '(B=0,G=0,R=0,A=0)',\n  'mGasColor': '(B=0,G=0,R=0,A=0)',\n  'mCompatibleItemDescriptors': '',\n  'mClassToScanFor': 'None',\n  'mScannableType': 'RTWOT_Default',\n  'mShouldOverrideScannerDisplayText': 'False',\n  'mScannerDisplayText': '',\n  'mScannerLightColor': '(B=0,G=0,R=0,A=0)'},\n 'Desc_WalkwayStraight_C': {'ClassName': 'Desc_WalkwayStraight_C',\n  'mDisplayName': '',\n  'mDescription': '',\n  'mAbbreviatedDisplayName': '',\n  'mStackSize': 'SS_MEDIUM',\n  'mCanBeDiscarded': 'True',\n  'mRememberPickUp': 'False',\n  'mEnergyValue': '0.000000',\n  'mRadioactiveDecay': '0.000000',\n  'mForm': 'RF_INVALID',\n  'mSmallIcon': 'Texture2D /Game/FactoryGame/Buildable/Building/Walkway/UI/IconDesc_WalkwayStraight_256.IconDesc_WalkwayStraight_256',\n  'mPersistentBigIcon': 'Texture2D /Game/FactoryGame/Buildable/Building/Walkway/UI/IconDesc_WalkwayStraight_512.IconDesc_WalkwayStraight_512',\n  'mCrosshairMaterial': 'None',\n  'mDescriptorStatBars': '',\n  'mSubCategories': '(BlueprintGeneratedClass\\'\"/Game/FactoryGame/Interface/UI/InGame/BuildMenu/BuildCategories/Sub_Organisation/SC_Walkways.SC_Walkways_C\"\\')',\n  'mMenuPriority': '1.000000',\n  'mFluidColor': '(B=0,G=0,R=0,A=0)',\n  'mGasColor': '(B=0,G=0,R=0,A=0)',\n  'mCompatibleItemDescriptors': '',\n  'mClassToScanFor': 'None',\n  'mScannableType': 'RTWOT_Default',\n  'mShouldOverrideScannerDisplayText': 'False',\n  'mScannerDisplayText': '',\n  'mScannerLightColor': '(B=0,G=0,R=0,A=0)'},\n 'Desc_WalkwayT_C': {'ClassName': 'Desc_WalkwayT_C',\n  'mDisplayName': '',\n  'mDescription': '',\n  'mAbbreviatedDisplayName': '',\n  'mStackSize': 'SS_MEDIUM',\n  'mCanBeDiscarded': 'True',\n  'mRememberPickUp': 'False',\n  'mEnergyValue': '0.000000',\n  'mRadioactiveDecay': '0.000000',\n  'mForm': 'RF_INVALID',\n  'mSmallIcon': 'Texture2D /Game/FactoryGame/Buildable/Building/Walkway/UI/IconDesc_WalkwayT_256.IconDesc_WalkwayT_256',\n  'mPersistentBigIcon': 'Texture2D /Game/FactoryGame/Buildable/Building/Walkway/UI/IconDesc_WalkwayT_512.IconDesc_WalkwayT_512',\n  'mCrosshairMaterial': 'None',\n  'mDescriptorStatBars': '',\n  'mSubCategories': '(BlueprintGeneratedClass\\'\"/Game/FactoryGame/Interface/UI/InGame/BuildMenu/BuildCategories/Sub_Organisation/SC_Walkways.SC_Walkways_C\"\\')',\n  'mMenuPriority': '3.000000',\n  'mFluidColor': '(B=0,G=0,R=0,A=0)',\n  'mGasColor': '(B=0,G=0,R=0,A=0)',\n  'mCompatibleItemDescriptors': '',\n  'mClassToScanFor': 'None',\n  'mScannableType': 'RTWOT_Default',\n  'mShouldOverrideScannerDisplayText': 'False',\n  'mScannerDisplayText': '',\n  'mScannerLightColor': '(B=0,G=0,R=0,A=0)'},\n 'Desc_WalkwayTurn_C': {'ClassName': 'Desc_WalkwayTurn_C',\n  'mDisplayName': '',\n  'mDescription': '',\n  'mAbbreviatedDisplayName': '',\n  'mStackSize': 'SS_MEDIUM',\n  'mCanBeDiscarded': 'True',\n  'mRememberPickUp': 'False',\n  'mEnergyValue': '0.000000',\n  'mRadioactiveDecay': '0.000000',\n  'mForm': 'RF_INVALID',\n  'mSmallIcon': 'Texture2D /Game/FactoryGame/Buildable/Building/Walkway/UI/IconDesc_WalkwayTurn_256.IconDesc_WalkwayTurn_256',\n  'mPersistentBigIcon': 'Texture2D /Game/FactoryGame/Buildable/Building/Walkway/UI/IconDesc_WalkwayT_512.IconDesc_WalkwayT_512',\n  'mCrosshairMaterial': 'None',\n  'mDescriptorStatBars': '',\n  'mSubCategories': '(BlueprintGeneratedClass\\'\"/Game/FactoryGame/Interface/UI/InGame/BuildMenu/BuildCategories/Sub_Organisation/SC_Walkways.SC_Walkways_C\"\\')',\n  'mMenuPriority': '2.000000',\n  'mFluidColor': '(B=0,G=0,R=0,A=0)',\n  'mGasColor': '(B=0,G=0,R=0,A=0)',\n  'mCompatibleItemDescriptors': '',\n  'mClassToScanFor': 'None',\n  'mScannableType': 'RTWOT_Default',\n  'mShouldOverrideScannerDisplayText': 'False',\n  'mScannerDisplayText': '',\n  'mScannerLightColor': '(B=0,G=0,R=0,A=0)'},\n 'Desc_SteelWall_8x4_C': {'ClassName': 'Desc_SteelWall_8x4_C',\n  'mDisplayName': '',\n  'mDescription': '',\n  'mAbbreviatedDisplayName': '',\n  'mStackSize': 'SS_MEDIUM',\n  'mCanBeDiscarded': 'True',\n  'mRememberPickUp': 'False',\n  'mEnergyValue': '0.000000',\n  'mRadioactiveDecay': '0.000000',\n  'mForm': 'RF_INVALID',\n  'mSmallIcon': 'Texture2D /Game/FactoryGame/Buildable/Building/Wall/UI/Regular/IconDesc_SteelWall8x4_256.IconDesc_SteelWall8x4_256',\n  'mPersistentBigIcon': 'Texture2D /Game/FactoryGame/Buildable/Building/Wall/UI/Regular/IconDesc_SteelWall8x4_512.IconDesc_SteelWall8x4_512',\n  'mCrosshairMaterial': 'None',\n  'mDescriptorStatBars': '',\n  'mSubCategories': '(BlueprintGeneratedClass\\'\"/Game/FactoryGame/Interface/UI/InGame/BuildMenu/BuildCategories/Sub_Walls/SC_Walls.SC_Walls_C\"\\')',\n  'mMenuPriority': '3.000000',\n  'mFluidColor': '(B=0,G=0,R=0,A=0)',\n  'mGasColor': '(B=0,G=0,R=0,A=0)',\n  'mCompatibleItemDescriptors': '',\n  'mClassToScanFor': 'None',\n  'mScannableType': 'RTWOT_Default',\n  'mShouldOverrideScannerDisplayText': 'False',\n  'mScannerDisplayText': '',\n  'mScannerLightColor': '(B=0,G=0,R=0,A=0)'},\n 'Desc_Wall_Conveyor_8x4_04_C': {'ClassName': 'Desc_Wall_Conveyor_8x4_04_C',\n  'mDisplayName': '',\n  'mDescription': '',\n  'mAbbreviatedDisplayName': '',\n  'mStackSize': 'SS_MEDIUM',\n  'mCanBeDiscarded': 'True',\n  'mRememberPickUp': 'False',\n  'mEnergyValue': '0.000000',\n  'mRadioactiveDecay': '0.000000',\n  'mForm': 'RF_INVALID',\n  'mSmallIcon': 'Texture2D /Game/FactoryGame/Interface/UI/Assets/Shared/01_White.01_White',\n  'mPersistentBigIcon': 'Texture2D /Game/FactoryGame/Interface/UI/Assets/Shared/01_White.01_White',\n  'mCrosshairMaterial': 'None',\n  'mDescriptorStatBars': '',\n  'mSubCategories': '(BlueprintGeneratedClass\\'\"/Game/FactoryGame/Interface/UI/InGame/BuildMenu/BuildCategories/Sub_Walls/SC_ConveyorConnections.SC_ConveyorConnections_C\"\\')',\n  'mMenuPriority': '85.000000',\n  'mFluidColor': '(B=0,G=0,R=0,A=0)',\n  'mGasColor': '(B=0,G=0,R=0,A=0)',\n  'mCompatibleItemDescriptors': '',\n  'mClassToScanFor': 'None',\n  'mScannableType': 'RTWOT_Default',\n  'mShouldOverrideScannerDisplayText': 'False',\n  'mScannerDisplayText': '',\n  'mScannerLightColor': '(B=0,G=0,R=0,A=0)'},\n 'Desc_Wall_Conveyor_8x4_04_Steel_C': {'ClassName': 'Desc_Wall_Conveyor_8x4_04_Steel_C',\n  'mDisplayName': '',\n  'mDescription': '',\n  'mAbbreviatedDisplayName': '',\n  'mStackSize': 'SS_MEDIUM',\n  'mCanBeDiscarded': 'True',\n  'mRememberPickUp': 'False',\n  'mEnergyValue': '0.000000',\n  'mRadioactiveDecay': '0.000000',\n  'mForm': 'RF_INVALID',\n  'mSmallIcon': 'None',\n  'mPersistentBigIcon': 'None',\n  'mCrosshairMaterial': 'None',\n  'mDescriptorStatBars': '',\n  'mSubCategories': '(BlueprintGeneratedClass\\'\"/Game/FactoryGame/Interface/UI/InGame/BuildMenu/BuildCategories/Sub_Walls/SC_ConveyorConnections.SC_ConveyorConnections_C\"\\')',\n  'mMenuPriority': '85.000000',\n  'mFluidColor': '(B=0,G=0,R=0,A=0)',\n  'mGasColor': '(B=0,G=0,R=0,A=0)',\n  'mCompatibleItemDescriptors': '',\n  'mClassToScanFor': 'None',\n  'mScannableType': 'RTWOT_Default',\n  'mShouldOverrideScannerDisplayText': 'False',\n  'mScannerDisplayText': '',\n  'mScannerLightColor': '(B=0,G=0,R=0,A=0)'},\n 'Desc_Wall_Window_8x4_03_Steel_C': {'ClassName': 'Desc_Wall_Window_8x4_03_Steel_C',\n  'mDisplayName': '',\n  'mDescription': '',\n  'mAbbreviatedDisplayName': '',\n  'mStackSize': 'SS_MEDIUM',\n  'mCanBeDiscarded': 'True',\n  'mRememberPickUp': 'False',\n  'mEnergyValue': '0.000000',\n  'mRadioactiveDecay': '0.000000',\n  'mForm': 'RF_INVALID',\n  'mSmallIcon': 'None',\n  'mPersistentBigIcon': 'None',\n  'mCrosshairMaterial': 'None',\n  'mDescriptorStatBars': '',\n  'mSubCategories': '(BlueprintGeneratedClass\\'\"/Game/FactoryGame/Interface/UI/InGame/BuildMenu/BuildCategories/Sub_Walls/SC_Windows.SC_Windows_C\"\\')',\n  'mMenuPriority': '85.000000',\n  'mFluidColor': '(B=0,G=0,R=0,A=0)',\n  'mGasColor': '(B=0,G=0,R=0,A=0)',\n  'mCompatibleItemDescriptors': '',\n  'mClassToScanFor': 'None',\n  'mScannableType': 'RTWOT_Default',\n  'mShouldOverrideScannerDisplayText': 'False',\n  'mScannerDisplayText': '',\n  'mScannerLightColor': '(B=0,G=0,R=0,A=0)'},\n 'Desc_OilPump_C': {'ClassName': 'Desc_OilPump_C',\n  'mDisplayName': '',\n  'mDescription': '',\n  'mAbbreviatedDisplayName': '',\n  'mStackSize': 'SS_MEDIUM',\n  'mCanBeDiscarded': 'True',\n  'mRememberPickUp': 'False',\n  'mEnergyValue': '0.000000',\n  'mRadioactiveDecay': '0.000000',\n  'mForm': 'RF_INVALID',\n  'mSmallIcon': 'Texture2D /Game/FactoryGame/Buildable/Factory/OilPump/UI/OilPump_256.OilPump_256',\n  'mPersistentBigIcon': 'Texture2D /Game/FactoryGame/Buildable/Factory/OilPump/UI/OilPump_512.OilPump_512',\n  'mCrosshairMaterial': 'None',\n  'mDescriptorStatBars': '',\n  'mSubCategories': '(BlueprintGeneratedClass\\'\"/Game/FactoryGame/Interface/UI/InGame/BuildMenu/BuildCategories/Sub_Production/SC_OilProduction.SC_OilProduction_C\"\\')',\n  'mMenuPriority': '2.000000',\n  'mFluidColor': '(B=0,G=0,R=0,A=0)',\n  'mGasColor': '(B=0,G=0,R=0,A=0)',\n  'mCompatibleItemDescriptors': '',\n  'mClassToScanFor': 'None',\n  'mScannableType': 'RTWOT_Default',\n  'mShouldOverrideScannerDisplayText': 'False',\n  'mScannerDisplayText': '',\n  'mScannerLightColor': '(B=0,G=0,R=0,A=0)'},\n 'Desc_OilRefinery_C': {'ClassName': 'Desc_OilRefinery_C',\n  'mDisplayName': '',\n  'mDescription': '',\n  'mAbbreviatedDisplayName': '',\n  'mStackSize': 'SS_MEDIUM',\n  'mCanBeDiscarded': 'True',\n  'mRememberPickUp': 'False',\n  'mEnergyValue': '0.000000',\n  'mRadioactiveDecay': '0.000000',\n  'mForm': 'RF_INVALID',\n  'mSmallIcon': 'Texture2D /Game/FactoryGame/Buildable/Factory/OilRefinery/UI/IconDesc_OilRefinery_256.IconDesc_OilRefinery_256',\n  'mPersistentBigIcon': 'Texture2D /Game/FactoryGame/Buildable/Factory/OilRefinery/UI/IconDesc_OilRefinery_512.IconDesc_OilRefinery_512',\n  'mCrosshairMaterial': 'None',\n  'mDescriptorStatBars': '',\n  'mSubCategories': '(BlueprintGeneratedClass\\'\"/Game/FactoryGame/Interface/UI/InGame/BuildMenu/BuildCategories/Sub_Production/SC_Manufacturers.SC_Manufacturers_C\"\\')',\n  'mMenuPriority': '12.000000',\n  'mFluidColor': '(B=0,G=0,R=0,A=0)',\n  'mGasColor': '(B=0,G=0,R=0,A=0)',\n  'mCompatibleItemDescriptors': '',\n  'mClassToScanFor': 'None',\n  'mScannableType': 'RTWOT_Default',\n  'mShouldOverrideScannerDisplayText': 'False',\n  'mScannerDisplayText': '',\n  'mScannerLightColor': '(B=0,G=0,R=0,A=0)'},\n 'Desc_Valve_C': {'ClassName': 'Desc_Valve_C',\n  'mDisplayName': '',\n  'mDescription': '',\n  'mAbbreviatedDisplayName': '',\n  'mStackSize': 'SS_MEDIUM',\n  'mCanBeDiscarded': 'True',\n  'mRememberPickUp': 'False',\n  'mEnergyValue': '0.000000',\n  'mRadioactiveDecay': '0.000000',\n  'mForm': 'RF_INVALID',\n  'mSmallIcon': 'Texture2D /Game/FactoryGame/Buildable/Factory/PipeValve/UI/IconDesc_Valve_256.IconDesc_Valve_256',\n  'mPersistentBigIcon': 'Texture2D /Game/FactoryGame/Buildable/Factory/PipeValve/UI/IconDesc_Valve_512.IconDesc_Valve_512',\n  'mCrosshairMaterial': 'None',\n  'mDescriptorStatBars': '',\n  'mSubCategories': '(BlueprintGeneratedClass\\'\"/Game/FactoryGame/Interface/UI/InGame/BuildMenu/BuildCategories/Sub_Transport/SC_Pipes.SC_Pipes_C\"\\')',\n  'mMenuPriority': '5.000000',\n  'mFluidColor': '(B=0,G=0,R=0,A=0)',\n  'mGasColor': '(B=0,G=0,R=0,A=0)',\n  'mCompatibleItemDescriptors': '',\n  'mClassToScanFor': 'None',\n  'mScannableType': 'RTWOT_Default',\n  'mShouldOverrideScannerDisplayText': 'False',\n  'mScannerDisplayText': '',\n  'mScannerLightColor': '(B=0,G=0,R=0,A=0)'},\n 'Desc_AssemblerMk1_C': {'ClassName': 'Desc_AssemblerMk1_C',\n  'mDisplayName': '',\n  'mDescription': '',\n  'mAbbreviatedDisplayName': '',\n  'mStackSize': 'SS_MEDIUM',\n  'mCanBeDiscarded': 'True',\n  'mRememberPickUp': 'False',\n  'mEnergyValue': '0.000000',\n  'mRadioactiveDecay': '0.000000',\n  'mForm': 'RF_INVALID',\n  'mSmallIcon': 'Texture2D /Game/FactoryGame/Buildable/Factory/AssemblerMk1/UI/IconDesc_AssemblerMk1_256.IconDesc_AssemblerMk1_256',\n  'mPersistentBigIcon': 'Texture2D /Game/FactoryGame/Buildable/Factory/AssemblerMk1/UI/IconDesc_AssemblerMk1_512.IconDesc_AssemblerMk1_512',\n  'mCrosshairMaterial': 'None',\n  'mDescriptorStatBars': '',\n  'mSubCategories': '(BlueprintGeneratedClass\\'\"/Game/FactoryGame/Interface/UI/InGame/BuildMenu/BuildCategories/Sub_Production/SC_Manufacturers.SC_Manufacturers_C\"\\')',\n  'mMenuPriority': '2.000000',\n  'mFluidColor': '(B=0,G=0,R=0,A=0)',\n  'mGasColor': '(B=0,G=0,R=0,A=0)',\n  'mCompatibleItemDescriptors': '',\n  'mClassToScanFor': 'None',\n  'mScannableType': 'RTWOT_Default',\n  'mShouldOverrideScannerDisplayText': 'False',\n  'mScannerDisplayText': '',\n  'mScannerLightColor': '(B=0,G=0,R=0,A=0)'},\n 'Desc_GeneratorCoal_C': {'ClassName': 'Desc_GeneratorCoal_C',\n  'mDisplayName': '',\n  'mDescription': '',\n  'mAbbreviatedDisplayName': '',\n  'mStackSize': 'SS_MEDIUM',\n  'mCanBeDiscarded': 'True',\n  'mRememberPickUp': 'False',\n  'mEnergyValue': '0.000000',\n  'mRadioactiveDecay': '0.000000',\n  'mForm': 'RF_INVALID',\n  'mSmallIcon': 'Texture2D /Game/FactoryGame/Buildable/Factory/GeneratorCoal/UI/IconDesc_CoalGenerator_256.IconDesc_CoalGenerator_256',\n  'mPersistentBigIcon': 'Texture2D /Game/FactoryGame/Buildable/Factory/GeneratorCoal/UI/IconDesc_CoalGenerator_512.IconDesc_CoalGenerator_512',\n  'mCrosshairMaterial': 'None',\n  'mDescriptorStatBars': '',\n  'mSubCategories': '(BlueprintGeneratedClass\\'\"/Game/FactoryGame/Interface/UI/InGame/BuildMenu/BuildCategories/Sub_Power/SC_Generators.SC_Generators_C\"\\')',\n  'mMenuPriority': '3.000000',\n  'mFluidColor': '(B=0,G=0,R=0,A=0)',\n  'mGasColor': '(B=0,G=0,R=0,A=0)',\n  'mCompatibleItemDescriptors': '',\n  'mClassToScanFor': 'None',\n  'mScannableType': 'RTWOT_Default',\n  'mShouldOverrideScannerDisplayText': 'False',\n  'mScannerDisplayText': '',\n  'mScannerLightColor': '(B=0,G=0,R=0,A=0)'},\n 'Desc_PipelineSupportWall_C': {'ClassName': 'Desc_PipelineSupportWall_C',\n  'mDisplayName': '',\n  'mDescription': '',\n  'mAbbreviatedDisplayName': '',\n  'mStackSize': 'SS_MEDIUM',\n  'mCanBeDiscarded': 'True',\n  'mRememberPickUp': 'False',\n  'mEnergyValue': '0.000000',\n  'mRadioactiveDecay': '0.000000',\n  'mForm': 'RF_INVALID',\n  'mSmallIcon': 'Texture2D /Game/FactoryGame/Buildable/Factory/PipelineSupportWall/UI/PipeSupportWall_256.PipeSupportWall_256',\n  'mPersistentBigIcon': 'Texture2D /Game/FactoryGame/Buildable/Factory/PipelineSupportWall/UI/PipeSupportWall_512.PipeSupportWall_512',\n  'mCrosshairMaterial': 'None',\n  'mDescriptorStatBars': '',\n  'mSubCategories': '(BlueprintGeneratedClass\\'\"/Game/FactoryGame/Interface/UI/InGame/BuildMenu/BuildCategories/Sub_Transport/SC_PipeSupport.SC_PipeSupport_C\"\\')',\n  'mMenuPriority': '2.000000',\n  'mFluidColor': '(B=0,G=0,R=0,A=0)',\n  'mGasColor': '(B=0,G=0,R=0,A=0)',\n  'mCompatibleItemDescriptors': '',\n  'mClassToScanFor': 'None',\n  'mScannableType': 'RTWOT_Default',\n  'mShouldOverrideScannerDisplayText': 'False',\n  'mScannerDisplayText': '',\n  'mScannerLightColor': '(B=0,G=0,R=0,A=0)'},\n 'Desc_Pipeline_C': {'ClassName': 'Desc_Pipeline_C',\n  'mDisplayName': '',\n  'mDescription': '',\n  'mAbbreviatedDisplayName': '',\n  'mStackSize': 'SS_MEDIUM',\n  'mCanBeDiscarded': 'True',\n  'mRememberPickUp': 'False',\n  'mEnergyValue': '0.000000',\n  'mRadioactiveDecay': '0.000000',\n  'mForm': 'RF_INVALID',\n  'mSmallIcon': 'Texture2D /Game/FactoryGame/Buildable/Factory/Pipeline/UI/IconDesc_PipeMK1Indicator_256.IconDesc_PipeMK1Indicator_256',\n  'mPersistentBigIcon': 'Texture2D /Game/FactoryGame/Buildable/Factory/Pipeline/UI/IconDesc_PipeMK1Indicator_512.IconDesc_PipeMK1Indicator_512',\n  'mCrosshairMaterial': 'None',\n  'mDescriptorStatBars': '',\n  'mSubCategories': '(BlueprintGeneratedClass\\'\"/Game/FactoryGame/Interface/UI/InGame/BuildMenu/BuildCategories/Sub_Transport/SC_Pipes.SC_Pipes_C\"\\')',\n  'mMenuPriority': '0.000000',\n  'mFluidColor': '(B=0,G=0,R=0,A=0)',\n  'mGasColor': '(B=0,G=0,R=0,A=0)',\n  'mCompatibleItemDescriptors': '',\n  'mClassToScanFor': 'None',\n  'mScannableType': 'RTWOT_Default',\n  'mShouldOverrideScannerDisplayText': 'False',\n  'mScannerDisplayText': '',\n  'mScannerLightColor': '(B=0,G=0,R=0,A=0)'},\n 'Desc_PipelineJunction_Cross_C': {'ClassName': 'Desc_PipelineJunction_Cross_C',\n  'mDisplayName': '',\n  'mDescription': '',\n  'mAbbreviatedDisplayName': '',\n  'mStackSize': 'SS_MEDIUM',\n  'mCanBeDiscarded': 'True',\n  'mRememberPickUp': 'False',\n  'mEnergyValue': '0.000000',\n  'mRadioactiveDecay': '0.000000',\n  'mForm': 'RF_INVALID',\n  'mSmallIcon': 'Texture2D /Game/FactoryGame/Buildable/Factory/PipeJunction/UI/PipelineJunction_256.PipelineJunction_256',\n  'mPersistentBigIcon': 'Texture2D /Game/FactoryGame/Buildable/Factory/PipeJunction/UI/PipelineJunction_512.PipelineJunction_512',\n  'mCrosshairMaterial': 'None',\n  'mDescriptorStatBars': '',\n  'mSubCategories': '(BlueprintGeneratedClass\\'\"/Game/FactoryGame/Interface/UI/InGame/BuildMenu/BuildCategories/Sub_Transport/SC_Pipes.SC_Pipes_C\"\\')',\n  'mMenuPriority': '2.000000',\n  'mFluidColor': '(B=0,G=0,R=0,A=0)',\n  'mGasColor': '(B=0,G=0,R=0,A=0)',\n  'mCompatibleItemDescriptors': '',\n  'mClassToScanFor': 'None',\n  'mScannableType': 'RTWOT_Default',\n  'mShouldOverrideScannerDisplayText': 'False',\n  'mScannerDisplayText': '',\n  'mScannerLightColor': '(B=0,G=0,R=0,A=0)'},\n 'Desc_PipelinePump_C': {'ClassName': 'Desc_PipelinePump_C',\n  'mDisplayName': '',\n  'mDescription': '',\n  'mAbbreviatedDisplayName': '',\n  'mStackSize': 'SS_MEDIUM',\n  'mCanBeDiscarded': 'True',\n  'mRememberPickUp': 'False',\n  'mEnergyValue': '0.000000',\n  'mRadioactiveDecay': '0.000000',\n  'mForm': 'RF_INVALID',\n  'mSmallIcon': 'Texture2D /Game/FactoryGame/Buildable/Factory/PipePump/UI/PipePump_256.PipePump_256',\n  'mPersistentBigIcon': 'Texture2D /Game/FactoryGame/Buildable/Factory/PipePump/UI/PipePump_512.PipePump_512',\n  'mCrosshairMaterial': 'None',\n  'mDescriptorStatBars': '',\n  'mSubCategories': '(BlueprintGeneratedClass\\'\"/Game/FactoryGame/Interface/UI/InGame/BuildMenu/BuildCategories/Sub_Transport/SC_Pipes.SC_Pipes_C\"\\')',\n  'mMenuPriority': '3.000000',\n  'mFluidColor': '(B=0,G=0,R=0,A=0)',\n  'mGasColor': '(B=0,G=0,R=0,A=0)',\n  'mCompatibleItemDescriptors': '',\n  'mClassToScanFor': 'None',\n  'mScannableType': 'RTWOT_Default',\n  'mShouldOverrideScannerDisplayText': 'False',\n  'mScannerDisplayText': '',\n  'mScannerLightColor': '(B=0,G=0,R=0,A=0)'},\n 'Desc_PipeStorageTank_C': {'ClassName': 'Desc_PipeStorageTank_C',\n  'mDisplayName': '',\n  'mDescription': '',\n  'mAbbreviatedDisplayName': '',\n  'mStackSize': 'SS_MEDIUM',\n  'mCanBeDiscarded': 'True',\n  'mRememberPickUp': 'False',\n  'mEnergyValue': '0.000000',\n  'mRadioactiveDecay': '0.000000',\n  'mForm': 'RF_INVALID',\n  'mSmallIcon': 'Texture2D /Game/FactoryGame/Buildable/Factory/StorageTank/UI/FluidStorage_256.FluidStorage_256',\n  'mPersistentBigIcon': 'Texture2D /Game/FactoryGame/Buildable/Factory/StorageTank/UI/IconDesc_FluidStorage_512.IconDesc_FluidStorage_512',\n  'mCrosshairMaterial': 'None',\n  'mDescriptorStatBars': '',\n  'mSubCategories': '(BlueprintGeneratedClass\\'\"/Game/FactoryGame/Interface/UI/InGame/BuildMenu/BuildCategories/Sub_Organisation/SC_Storage.SC_Storage_C\"\\')',\n  'mMenuPriority': '64.000000',\n  'mFluidColor': '(B=0,G=0,R=0,A=0)',\n  'mGasColor': '(B=0,G=0,R=0,A=0)',\n  'mCompatibleItemDescriptors': '',\n  'mClassToScanFor': 'None',\n  'mScannableType': 'RTWOT_Default',\n  'mShouldOverrideScannerDisplayText': 'False',\n  'mScannerDisplayText': '',\n  'mScannerLightColor': '(B=0,G=0,R=0,A=0)'},\n 'Desc_WaterPump_C': {'ClassName': 'Desc_WaterPump_C',\n  'mDisplayName': '',\n  'mDescription': '',\n  'mAbbreviatedDisplayName': '',\n  'mStackSize': 'SS_MEDIUM',\n  'mCanBeDiscarded': 'True',\n  'mRememberPickUp': 'False',\n  'mEnergyValue': '0.000000',\n  'mRadioactiveDecay': '0.000000',\n  'mForm': 'RF_INVALID',\n  'mSmallIcon': 'Texture2D /Game/FactoryGame/Buildable/Factory/WaterPump/UI/Waterpump_256.Waterpump_256',\n  'mPersistentBigIcon': 'Texture2D /Game/FactoryGame/Buildable/Factory/WaterPump/UI/Waterpump_512.Waterpump_512',\n  'mCrosshairMaterial': 'None',\n  'mDescriptorStatBars': '',\n  'mSubCategories': '(BlueprintGeneratedClass\\'\"/Game/FactoryGame/Interface/UI/InGame/BuildMenu/BuildCategories/Sub_Production/SC_OilProduction.SC_OilProduction_C\"\\')',\n  'mMenuPriority': '1.000000',\n  'mFluidColor': '(B=0,G=0,R=0,A=0)',\n  'mGasColor': '(B=0,G=0,R=0,A=0)',\n  'mCompatibleItemDescriptors': '',\n  'mClassToScanFor': 'None',\n  'mScannableType': 'RTWOT_Default',\n  'mShouldOverrideScannerDisplayText': 'False',\n  'mScannerDisplayText': '',\n  'mScannerLightColor': '(B=0,G=0,R=0,A=0)'},\n 'Desc_ResourceSink_C': {'ClassName': 'Desc_ResourceSink_C',\n  'mDisplayName': '',\n  'mDescription': '',\n  'mAbbreviatedDisplayName': '',\n  'mStackSize': 'SS_MEDIUM',\n  'mCanBeDiscarded': 'True',\n  'mRememberPickUp': 'False',\n  'mEnergyValue': '0.000000',\n  'mRadioactiveDecay': '0.000000',\n  'mForm': 'RF_INVALID',\n  'mSmallIcon': 'Texture2D /Game/FactoryGame/Buildable/Factory/ResourceSink/UI/ResourceSink_256.ResourceSink_256',\n  'mPersistentBigIcon': 'Texture2D /Game/FactoryGame/Buildable/Factory/ResourceSink/UI/ResourceSink_512.ResourceSink_512',\n  'mCrosshairMaterial': 'None',\n  'mDescriptorStatBars': '',\n  'mSubCategories': '(BlueprintGeneratedClass\\'\"/Game/FactoryGame/Interface/UI/InGame/BuildMenu/BuildCategories/Sub_Special/SC_AWESOME.SC_AWESOME_C\"\\')',\n  'mMenuPriority': '2.000000',\n  'mFluidColor': '(B=0,G=0,R=0,A=0)',\n  'mGasColor': '(B=0,G=0,R=0,A=0)',\n  'mCompatibleItemDescriptors': '',\n  'mClassToScanFor': 'None',\n  'mScannableType': 'RTWOT_Default',\n  'mShouldOverrideScannerDisplayText': 'False',\n  'mScannerDisplayText': '',\n  'mScannerLightColor': '(B=0,G=0,R=0,A=0)'},\n 'Desc_ResourceSinkShop_C': {'ClassName': 'Desc_ResourceSinkShop_C',\n  'mDisplayName': '',\n  'mDescription': '',\n  'mAbbreviatedDisplayName': '',\n  'mStackSize': 'SS_MEDIUM',\n  'mCanBeDiscarded': 'True',\n  'mRememberPickUp': 'False',\n  'mEnergyValue': '0.000000',\n  'mRadioactiveDecay': '0.000000',\n  'mForm': 'RF_INVALID',\n  'mSmallIcon': 'Texture2D /Game/FactoryGame/Buildable/Factory/ResourceSinkShop/UI/ResourceSinkShop_256.ResourceSinkShop_256',\n  'mPersistentBigIcon': 'Texture2D /Game/FactoryGame/Buildable/Factory/ResourceSinkShop/UI/ResourceSinkShop_512.ResourceSinkShop_512',\n  'mCrosshairMaterial': 'None',\n  'mDescriptorStatBars': '',\n  'mSubCategories': '(BlueprintGeneratedClass\\'\"/Game/FactoryGame/Interface/UI/InGame/BuildMenu/BuildCategories/Sub_Special/SC_AWESOME.SC_AWESOME_C\"\\')',\n  'mMenuPriority': '1.000000',\n  'mFluidColor': '(B=0,G=0,R=0,A=0)',\n  'mGasColor': '(B=0,G=0,R=0,A=0)',\n  'mCompatibleItemDescriptors': '',\n  'mClassToScanFor': 'None',\n  'mScannableType': 'RTWOT_Default',\n  'mShouldOverrideScannerDisplayText': 'False',\n  'mScannerDisplayText': '',\n  'mScannerLightColor': '(B=0,G=0,R=0,A=0)'},\n 'Desc_IndustrialTank_C': {'ClassName': 'Desc_IndustrialTank_C',\n  'mDisplayName': '',\n  'mDescription': '',\n  'mAbbreviatedDisplayName': '',\n  'mStackSize': 'SS_MEDIUM',\n  'mCanBeDiscarded': 'True',\n  'mRememberPickUp': 'False',\n  'mEnergyValue': '0.000000',\n  'mRadioactiveDecay': '0.000000',\n  'mForm': 'RF_INVALID',\n  'mSmallIcon': 'Texture2D /Game/FactoryGame/Buildable/Factory/StorageTank/UI/FluidStorageIndustrial_256.FluidStorageIndustrial_256',\n  'mPersistentBigIcon': 'Texture2D /Game/FactoryGame/Buildable/Factory/StorageTank/UI/FluidStorageIndustrial_512.FluidStorageIndustrial_512',\n  'mCrosshairMaterial': 'None',\n  'mDescriptorStatBars': '',\n  'mSubCategories': '(BlueprintGeneratedClass\\'\"/Game/FactoryGame/Interface/UI/InGame/BuildMenu/BuildCategories/Sub_Organisation/SC_Storage.SC_Storage_C\"\\')',\n  'mMenuPriority': '65.000000',\n  'mFluidColor': '(B=0,G=0,R=0,A=0)',\n  'mGasColor': '(B=0,G=0,R=0,A=0)',\n  'mCompatibleItemDescriptors': '',\n  'mClassToScanFor': 'None',\n  'mScannableType': 'RTWOT_Default',\n  'mShouldOverrideScannerDisplayText': 'False',\n  'mScannerDisplayText': '',\n  'mScannerLightColor': '(B=0,G=0,R=0,A=0)'},\n 'Desc_Packager_C': {'ClassName': 'Desc_Packager_C',\n  'mDisplayName': '',\n  'mDescription': '',\n  'mAbbreviatedDisplayName': '',\n  'mStackSize': 'SS_MEDIUM',\n  'mCanBeDiscarded': 'True',\n  'mRememberPickUp': 'False',\n  'mEnergyValue': '0.000000',\n  'mRadioactiveDecay': '0.000000',\n  'mForm': 'RF_INVALID',\n  'mSmallIcon': 'Texture2D /Game/FactoryGame/Buildable/Factory/Packager/UI/IconDesc_Packager_256.IconDesc_Packager_256',\n  'mPersistentBigIcon': 'Texture2D /Game/FactoryGame/Buildable/Factory/Packager/UI/IconDesc_Packager_512.IconDesc_Packager_512',\n  'mCrosshairMaterial': 'None',\n  'mDescriptorStatBars': '',\n  'mSubCategories': '(BlueprintGeneratedClass\\'\"/Game/FactoryGame/Interface/UI/InGame/BuildMenu/BuildCategories/Sub_Production/SC_Manufacturers.SC_Manufacturers_C\"\\')',\n  'mMenuPriority': '11.000000',\n  'mFluidColor': '(B=0,G=0,R=0,A=0)',\n  'mGasColor': '(B=0,G=0,R=0,A=0)',\n  'mCompatibleItemDescriptors': '',\n  'mClassToScanFor': 'None',\n  'mScannableType': 'RTWOT_Default',\n  'mShouldOverrideScannerDisplayText': 'False',\n  'mScannerDisplayText': '',\n  'mScannerLightColor': '(B=0,G=0,R=0,A=0)'},\n 'Desc_Blender_C': {'ClassName': 'Desc_Blender_C',\n  'mDisplayName': '',\n  'mDescription': '',\n  'mAbbreviatedDisplayName': '',\n  'mStackSize': 'SS_MEDIUM',\n  'mCanBeDiscarded': 'True',\n  'mRememberPickUp': 'False',\n  'mEnergyValue': '0.000000',\n  'mRadioactiveDecay': '0.000000',\n  'mForm': 'RF_INVALID',\n  'mSmallIcon': 'Texture2D /Game/FactoryGame/Buildable/Factory/Blender/UI/IconDesc_Blender_256.IconDesc_Blender_256',\n  'mPersistentBigIcon': 'Texture2D /Game/FactoryGame/Buildable/Factory/Blender/UI/IconDesc_Blender_512.IconDesc_Blender_512',\n  'mCrosshairMaterial': 'None',\n  'mDescriptorStatBars': '',\n  'mSubCategories': '(BlueprintGeneratedClass\\'\"/Game/FactoryGame/Interface/UI/InGame/BuildMenu/BuildCategories/Sub_Production/SC_Manufacturers.SC_Manufacturers_C\"\\')',\n  'mMenuPriority': '13.000000',\n  'mFluidColor': '(B=0,G=0,R=0,A=0)',\n  'mGasColor': '(B=0,G=0,R=0,A=0)',\n  'mCompatibleItemDescriptors': '',\n  'mClassToScanFor': 'None',\n  'mScannableType': 'RTWOT_Default',\n  'mShouldOverrideScannerDisplayText': 'False',\n  'mScannerDisplayText': '',\n  'mScannerLightColor': '(B=0,G=0,R=0,A=0)'},\n 'Desc_ManufacturerMk1_C': {'ClassName': 'Desc_ManufacturerMk1_C',\n  'mDisplayName': '',\n  'mDescription': '',\n  'mAbbreviatedDisplayName': '',\n  'mStackSize': 'SS_MEDIUM',\n  'mCanBeDiscarded': 'True',\n  'mRememberPickUp': 'False',\n  'mEnergyValue': '0.000000',\n  'mRadioactiveDecay': '0.000000',\n  'mForm': 'RF_INVALID',\n  'mSmallIcon': 'Texture2D /Game/FactoryGame/Buildable/Factory/ManufacturerMk1/UI/IconDesc_Manufacturer_256.IconDesc_Manufacturer_256',\n  'mPersistentBigIcon': 'Texture2D /Game/FactoryGame/Buildable/Factory/ManufacturerMk1/UI/IconDesc_Manufacturer_512.IconDesc_Manufacturer_512',\n  'mCrosshairMaterial': 'None',\n  'mDescriptorStatBars': '',\n  'mSubCategories': '(BlueprintGeneratedClass\\'\"/Game/FactoryGame/Interface/UI/InGame/BuildMenu/BuildCategories/Sub_Production/SC_Manufacturers.SC_Manufacturers_C\"\\')',\n  'mMenuPriority': '3.000000',\n  'mFluidColor': '(B=0,G=0,R=0,A=0)',\n  'mGasColor': '(B=0,G=0,R=0,A=0)',\n  'mCompatibleItemDescriptors': '',\n  'mClassToScanFor': 'None',\n  'mScannableType': 'RTWOT_Default',\n  'mShouldOverrideScannerDisplayText': 'False',\n  'mScannerDisplayText': '',\n  'mScannerLightColor': '(B=0,G=0,R=0,A=0)'},\n 'Desc_MinerMk2_C': {'ClassName': 'Desc_MinerMk2_C',\n  'mDisplayName': '',\n  'mDescription': '',\n  'mAbbreviatedDisplayName': '',\n  'mStackSize': 'SS_MEDIUM',\n  'mCanBeDiscarded': 'True',\n  'mRememberPickUp': 'False',\n  'mEnergyValue': '0.000000',\n  'mRadioactiveDecay': '0.000000',\n  'mForm': 'RF_INVALID',\n  'mSmallIcon': 'Texture2D /Game/FactoryGame/Buildable/Factory/MinerMk2/UI/IconDesc_MinerMk2_256.IconDesc_MinerMk2_256',\n  'mPersistentBigIcon': 'Texture2D /Game/FactoryGame/Buildable/Factory/MinerMk2/UI/IconDesc_MinerMk2_512.IconDesc_MinerMk2_512',\n  'mCrosshairMaterial': 'None',\n  'mDescriptorStatBars': '',\n  'mSubCategories': '(BlueprintGeneratedClass\\'\"/Game/FactoryGame/Interface/UI/InGame/BuildMenu/BuildCategories/Sub_Production/SC_Miners.SC_Miners_C\"\\')',\n  'mMenuPriority': '4.000000',\n  'mFluidColor': '(B=0,G=0,R=0,A=0)',\n  'mGasColor': '(B=0,G=0,R=0,A=0)',\n  'mCompatibleItemDescriptors': '',\n  'mClassToScanFor': 'None',\n  'mScannableType': 'RTWOT_Default',\n  'mShouldOverrideScannerDisplayText': 'False',\n  'mScannerDisplayText': '',\n  'mScannerLightColor': '(B=0,G=0,R=0,A=0)'},\n 'Desc_FoundryMk1_C': {'ClassName': 'Desc_FoundryMk1_C',\n  'mDisplayName': '',\n  'mDescription': '',\n  'mAbbreviatedDisplayName': '',\n  'mStackSize': 'SS_MEDIUM',\n  'mCanBeDiscarded': 'True',\n  'mRememberPickUp': 'False',\n  'mEnergyValue': '0.000000',\n  'mRadioactiveDecay': '0.000000',\n  'mForm': 'RF_INVALID',\n  'mSmallIcon': 'Texture2D /Game/FactoryGame/Buildable/Factory/FoundryMk1/UI/IconDesc_Foundry_256.IconDesc_Foundry_256',\n  'mPersistentBigIcon': 'Texture2D /Game/FactoryGame/Buildable/Factory/FoundryMk1/UI/IconDesc_Foundry_512.IconDesc_Foundry_512',\n  'mCrosshairMaterial': 'None',\n  'mDescriptorStatBars': '',\n  'mSubCategories': '(BlueprintGeneratedClass\\'\"/Game/FactoryGame/Interface/UI/InGame/BuildMenu/BuildCategories/Sub_Production/SC_Smelters.SC_Smelters_C\"\\')',\n  'mMenuPriority': '8.000000',\n  'mFluidColor': '(B=0,G=0,R=0,A=0)',\n  'mGasColor': '(B=0,G=0,R=0,A=0)',\n  'mCompatibleItemDescriptors': '',\n  'mClassToScanFor': 'None',\n  'mScannableType': 'RTWOT_Default',\n  'mShouldOverrideScannerDisplayText': 'False',\n  'mScannerDisplayText': '',\n  'mScannerLightColor': '(B=0,G=0,R=0,A=0)'},\n 'Desc_DroneStation_C': {'ClassName': 'Desc_DroneStation_C',\n  'mDisplayName': '',\n  'mDescription': '',\n  'mAbbreviatedDisplayName': '',\n  'mStackSize': 'SS_MEDIUM',\n  'mCanBeDiscarded': 'True',\n  'mRememberPickUp': 'False',\n  'mEnergyValue': '0.000000',\n  'mRadioactiveDecay': '0.000000',\n  'mForm': 'RF_INVALID',\n  'mSmallIcon': 'Texture2D /Game/FactoryGame/Buildable/Factory/DroneStation/UI/IconDesc_DronePort_256.IconDesc_DronePort_256',\n  'mPersistentBigIcon': 'Texture2D /Game/FactoryGame/Buildable/Factory/DroneStation/UI/IconDesc_DronePort_512.IconDesc_DronePort_512',\n  'mCrosshairMaterial': 'None',\n  'mDescriptorStatBars': '',\n  'mSubCategories': '(BlueprintGeneratedClass\\'\"/Game/FactoryGame/Interface/UI/InGame/BuildMenu/BuildCategories/Sub_Transport/SC_Vehicles.SC_Vehicles_C\"\\')',\n  'mMenuPriority': '5.000000',\n  'mFluidColor': '(B=0,G=0,R=0,A=0)',\n  'mGasColor': '(B=0,G=0,R=0,A=0)',\n  'mCompatibleItemDescriptors': '',\n  'mClassToScanFor': 'None',\n  'mScannableType': 'RTWOT_Default',\n  'mShouldOverrideScannerDisplayText': 'False',\n  'mScannerDisplayText': '',\n  'mScannerLightColor': '(B=0,G=0,R=0,A=0)'},\n 'Desc_FrackingExtractor_C': {'ClassName': 'Desc_FrackingExtractor_C',\n  'mDisplayName': '',\n  'mDescription': '',\n  'mAbbreviatedDisplayName': '',\n  'mStackSize': 'SS_MEDIUM',\n  'mCanBeDiscarded': 'True',\n  'mRememberPickUp': 'False',\n  'mEnergyValue': '0.000000',\n  'mRadioactiveDecay': '0.000000',\n  'mForm': 'RF_INVALID',\n  'mSmallIcon': 'Texture2D /Game/FactoryGame/Buildable/Factory/FrackingExtractor/UI/IconDesc_Extractor_256.IconDesc_Extractor_256',\n  'mPersistentBigIcon': 'Texture2D /Game/FactoryGame/Buildable/Factory/FrackingExtractor/UI/IconDesc_Extractor_512.IconDesc_Extractor_512',\n  'mCrosshairMaterial': 'None',\n  'mDescriptorStatBars': '',\n  'mSubCategories': '(BlueprintGeneratedClass\\'\"/Game/FactoryGame/Interface/UI/InGame/BuildMenu/BuildCategories/Sub_Production/SC_OilProduction.SC_OilProduction_C\"\\')',\n  'mMenuPriority': '4.000000',\n  'mFluidColor': '(B=0,G=0,R=0,A=0)',\n  'mGasColor': '(B=0,G=0,R=0,A=0)',\n  'mCompatibleItemDescriptors': '',\n  'mClassToScanFor': 'None',\n  'mScannableType': 'RTWOT_Default',\n  'mShouldOverrideScannerDisplayText': 'False',\n  'mScannerDisplayText': '',\n  'mScannerLightColor': '(B=0,G=0,R=0,A=0)'},\n 'Desc_FrackingSmasher_C': {'ClassName': 'Desc_FrackingSmasher_C',\n  'mDisplayName': '',\n  'mDescription': '',\n  'mAbbreviatedDisplayName': '',\n  'mStackSize': 'SS_MEDIUM',\n  'mCanBeDiscarded': 'True',\n  'mRememberPickUp': 'False',\n  'mEnergyValue': '0.000000',\n  'mRadioactiveDecay': '0.000000',\n  'mForm': 'RF_INVALID',\n  'mSmallIcon': 'Texture2D /Game/FactoryGame/Buildable/Factory/FrackingSmasher/UI/IconDesc_Smasher_256.IconDesc_Smasher_256',\n  'mPersistentBigIcon': 'Texture2D /Game/FactoryGame/Buildable/Factory/FrackingSmasher/UI/IconDesc_Smasher_512.IconDesc_Smasher_512',\n  'mCrosshairMaterial': 'None',\n  'mDescriptorStatBars': '',\n  'mSubCategories': '(BlueprintGeneratedClass\\'\"/Game/FactoryGame/Interface/UI/InGame/BuildMenu/BuildCategories/Sub_Production/SC_OilProduction.SC_OilProduction_C\"\\')',\n  'mMenuPriority': '3.000000',\n  'mFluidColor': '(B=0,G=0,R=0,A=0)',\n  'mGasColor': '(B=0,G=0,R=0,A=0)',\n  'mCompatibleItemDescriptors': '',\n  'mClassToScanFor': 'None',\n  'mScannableType': 'RTWOT_Default',\n  'mShouldOverrideScannerDisplayText': 'False',\n  'mScannerDisplayText': '',\n  'mScannerLightColor': '(B=0,G=0,R=0,A=0)'},\n 'Desc_HadronCollider_C': {'ClassName': 'Desc_HadronCollider_C',\n  'mDisplayName': '',\n  'mDescription': '',\n  'mAbbreviatedDisplayName': '',\n  'mStackSize': 'SS_MEDIUM',\n  'mCanBeDiscarded': 'True',\n  'mRememberPickUp': 'False',\n  'mEnergyValue': '0.000000',\n  'mRadioactiveDecay': '0.000000',\n  'mForm': 'RF_INVALID',\n  'mSmallIcon': 'Texture2D /Game/FactoryGame/Buildable/Factory/HadronCollider/UI/IconDesc_HadronCollider_256.IconDesc_HadronCollider_256',\n  'mPersistentBigIcon': 'Texture2D /Game/FactoryGame/Buildable/Factory/HadronCollider/UI/IconDesc_HadronCollider_512.IconDesc_HadronCollider_512',\n  'mCrosshairMaterial': 'None',\n  'mDescriptorStatBars': '',\n  'mSubCategories': '(BlueprintGeneratedClass\\'\"/Game/FactoryGame/Interface/UI/InGame/BuildMenu/BuildCategories/Sub_Production/SC_Manufacturers.SC_Manufacturers_C\"\\')',\n  'mMenuPriority': '21.000000',\n  'mFluidColor': '(B=0,G=0,R=0,A=0)',\n  'mGasColor': '(B=0,G=0,R=0,A=0)',\n  'mCompatibleItemDescriptors': '',\n  'mClassToScanFor': 'None',\n  'mScannableType': 'RTWOT_Default',\n  'mShouldOverrideScannerDisplayText': 'False',\n  'mScannerDisplayText': '',\n  'mScannerLightColor': '(B=0,G=0,R=0,A=0)'},\n 'Desc_GeneratorNuclear_C': {'ClassName': 'Desc_GeneratorNuclear_C',\n  'mDisplayName': '',\n  'mDescription': '',\n  'mAbbreviatedDisplayName': '',\n  'mStackSize': 'SS_MEDIUM',\n  'mCanBeDiscarded': 'True',\n  'mRememberPickUp': 'False',\n  'mEnergyValue': '0.000000',\n  'mRadioactiveDecay': '0.000000',\n  'mForm': 'RF_INVALID',\n  'mSmallIcon': 'Texture2D /Game/FactoryGame/Buildable/Factory/GeneratorNuclear/UI/NuclearPowerplant_256.NuclearPowerplant_256',\n  'mPersistentBigIcon': 'Texture2D /Game/FactoryGame/Buildable/Factory/GeneratorNuclear/UI/NuclearPowerplant_512.NuclearPowerplant_512',\n  'mCrosshairMaterial': 'None',\n  'mDescriptorStatBars': '',\n  'mSubCategories': '(BlueprintGeneratedClass\\'\"/Game/FactoryGame/Interface/UI/InGame/BuildMenu/BuildCategories/Sub_Power/SC_Generators.SC_Generators_C\"\\')',\n  'mMenuPriority': '8.000000',\n  'mFluidColor': '(B=0,G=0,R=0,A=0)',\n  'mGasColor': '(B=0,G=0,R=0,A=0)',\n  'mCompatibleItemDescriptors': '',\n  'mClassToScanFor': 'None',\n  'mScannableType': 'RTWOT_Default',\n  'mShouldOverrideScannerDisplayText': 'False',\n  'mScannerDisplayText': '',\n  'mScannerLightColor': '(B=0,G=0,R=0,A=0)'},\n 'Desc_ConveyorBeltMk5_C': {'ClassName': 'Desc_ConveyorBeltMk5_C',\n  'mDisplayName': '',\n  'mDescription': '',\n  'mAbbreviatedDisplayName': '',\n  'mStackSize': 'SS_MEDIUM',\n  'mCanBeDiscarded': 'True',\n  'mRememberPickUp': 'False',\n  'mEnergyValue': '0.000000',\n  'mRadioactiveDecay': '0.000000',\n  'mForm': 'RF_INVALID',\n  'mSmallIcon': 'Texture2D /Game/FactoryGame/Buildable/Factory/ConveyorBeltMk5/UI/ConveyorMk5_256.ConveyorMk5_256',\n  'mPersistentBigIcon': 'Texture2D /Game/FactoryGame/Buildable/Factory/ConveyorBeltMk5/UI/ConveyorMk5_512.ConveyorMk5_512',\n  'mCrosshairMaterial': 'None',\n  'mDescriptorStatBars': '',\n  'mSubCategories': '(BlueprintGeneratedClass\\'\"/Game/FactoryGame/Interface/UI/InGame/BuildMenu/BuildCategories/Sub_Transport/SC_ConveyorBelts.SC_ConveyorBelts_C\"\\')',\n  'mMenuPriority': '35.000000',\n  'mFluidColor': '(B=0,G=0,R=0,A=0)',\n  'mGasColor': '(B=0,G=0,R=0,A=0)',\n  'mCompatibleItemDescriptors': '',\n  'mClassToScanFor': 'None',\n  'mScannableType': 'RTWOT_Default',\n  'mShouldOverrideScannerDisplayText': 'False',\n  'mScannerDisplayText': '',\n  'mScannerLightColor': '(B=0,G=0,R=0,A=0)'},\n 'Desc_ConveyorLiftMk5_C': {'ClassName': 'Desc_ConveyorLiftMk5_C',\n  'mDisplayName': '',\n  'mDescription': '',\n  'mAbbreviatedDisplayName': '',\n  'mStackSize': 'SS_MEDIUM',\n  'mCanBeDiscarded': 'True',\n  'mRememberPickUp': 'False',\n  'mEnergyValue': '0.000000',\n  'mRadioactiveDecay': '0.000000',\n  'mForm': 'RF_INVALID',\n  'mSmallIcon': 'Texture2D /Game/FactoryGame/Buildable/Factory/ConveyorLiftMk5/UI/ConveyorLiftMK5_256.ConveyorLiftMK5_256',\n  'mPersistentBigIcon': 'Texture2D /Game/FactoryGame/Buildable/Factory/ConveyorLiftMk5/UI/ConveyorLiftMK5_512.ConveyorLiftMK5_512',\n  'mCrosshairMaterial': 'None',\n  'mDescriptorStatBars': '',\n  'mSubCategories': '(BlueprintGeneratedClass\\'\"/Game/FactoryGame/Interface/UI/InGame/BuildMenu/BuildCategories/Sub_Transport/SC_ConveyLift.SC_ConveyLift_C\"\\')',\n  'mMenuPriority': '5.000000',\n  'mFluidColor': '(B=0,G=0,R=0,A=0)',\n  'mGasColor': '(B=0,G=0,R=0,A=0)',\n  'mCompatibleItemDescriptors': '',\n  'mClassToScanFor': 'None',\n  'mScannableType': 'RTWOT_Default',\n  'mShouldOverrideScannerDisplayText': 'False',\n  'mScannerDisplayText': '',\n  'mScannerLightColor': '(B=0,G=0,R=0,A=0)'},\n 'Desc_MinerMk3_C': {'ClassName': 'Desc_MinerMk3_C',\n  'mDisplayName': '',\n  'mDescription': '',\n  'mAbbreviatedDisplayName': '',\n  'mStackSize': 'SS_MEDIUM',\n  'mCanBeDiscarded': 'True',\n  'mRememberPickUp': 'False',\n  'mEnergyValue': '0.000000',\n  'mRadioactiveDecay': '0.000000',\n  'mForm': 'RF_INVALID',\n  'mSmallIcon': 'Texture2D /Game/FactoryGame/Buildable/Factory/MinerMk3/UI/IconDesc_MinerMk3_256.IconDesc_MinerMk3_256',\n  'mPersistentBigIcon': 'Texture2D /Game/FactoryGame/Buildable/Factory/MinerMk3/UI/IconDesc_MinerMk3_512.IconDesc_MinerMk3_512',\n  'mCrosshairMaterial': 'None',\n  'mDescriptorStatBars': '',\n  'mSubCategories': '(BlueprintGeneratedClass\\'\"/Game/FactoryGame/Interface/UI/InGame/BuildMenu/BuildCategories/Sub_Production/SC_Miners.SC_Miners_C\"\\')',\n  'mMenuPriority': '5.000000',\n  'mFluidColor': '(B=0,G=0,R=0,A=0)',\n  'mGasColor': '(B=0,G=0,R=0,A=0)',\n  'mCompatibleItemDescriptors': '',\n  'mClassToScanFor': 'None',\n  'mScannableType': 'RTWOT_Default',\n  'mShouldOverrideScannerDisplayText': 'False',\n  'mScannerDisplayText': '',\n  'mScannerLightColor': '(B=0,G=0,R=0,A=0)'},\n 'Desc_QuarterPipeMiddle_Ficsit_4x1_C': {'ClassName': 'Desc_QuarterPipeMiddle_Ficsit_4x1_C',\n  'mDisplayName': '',\n  'mDescription': '',\n  'mAbbreviatedDisplayName': '',\n  'mStackSize': 'SS_MEDIUM',\n  'mCanBeDiscarded': 'True',\n  'mRememberPickUp': 'False',\n  'mEnergyValue': '0.000000',\n  'mRadioactiveDecay': '0.000000',\n  'mForm': 'RF_INVALID',\n  'mSmallIcon': 'Texture2D /Game/FactoryGame/Buildable/Building/Foundation/UI/QuarterPipe/IconDesc_QP_Ficsit_Mid_8x1_256.IconDesc_QP_Ficsit_Mid_8x1_256',\n  'mPersistentBigIcon': 'Texture2D /Game/FactoryGame/Buildable/Building/Foundation/UI/QuarterPipe/IconDesc_QP_Ficsit_Mid_8x1_512.IconDesc_QP_Ficsit_Mid_8x1_512',\n  'mCrosshairMaterial': 'None',\n  'mDescriptorStatBars': '',\n  'mSubCategories': '(BlueprintGeneratedClass\\'\"/Game/FactoryGame/Interface/UI/InGame/BuildMenu/BuildCategories/Sub_Organisation/SC_Floors.SC_Floors_C\"\\')',\n  'mMenuPriority': '4.000000',\n  'mFluidColor': '(B=0,G=0,R=0,A=0)',\n  'mGasColor': '(B=0,G=0,R=0,A=0)',\n  'mCompatibleItemDescriptors': '',\n  'mClassToScanFor': 'None',\n  'mScannableType': 'RTWOT_Default',\n  'mShouldOverrideScannerDisplayText': 'False',\n  'mScannerDisplayText': '',\n  'mScannerLightColor': '(B=0,G=0,R=0,A=0)'},\n 'Desc_QuarterPipeMiddle_Ficsit_4x2_C': {'ClassName': 'Desc_QuarterPipeMiddle_Ficsit_4x2_C',\n  'mDisplayName': '',\n  'mDescription': '',\n  'mAbbreviatedDisplayName': '',\n  'mStackSize': 'SS_MEDIUM',\n  'mCanBeDiscarded': 'True',\n  'mRememberPickUp': 'False',\n  'mEnergyValue': '0.000000',\n  'mRadioactiveDecay': '0.000000',\n  'mForm': 'RF_INVALID',\n  'mSmallIcon': 'Texture2D /Game/FactoryGame/Buildable/Building/Foundation/UI/QuarterPipe/IconDesc_QP_Ficsit_Mid_8x2_256.IconDesc_QP_Ficsit_Mid_8x2_256',\n  'mPersistentBigIcon': 'Texture2D /Game/FactoryGame/Buildable/Building/Foundation/UI/QuarterPipe/IconDesc_QP_Ficsit_Mid_8x2_512.IconDesc_QP_Ficsit_Mid_8x2_512',\n  'mCrosshairMaterial': 'None',\n  'mDescriptorStatBars': '',\n  'mSubCategories': '(BlueprintGeneratedClass\\'\"/Game/FactoryGame/Interface/UI/InGame/BuildMenu/BuildCategories/Sub_Organisation/SC_Floors.SC_Floors_C\"\\')',\n  'mMenuPriority': '5.000000',\n  'mFluidColor': '(B=0,G=0,R=0,A=0)',\n  'mGasColor': '(B=0,G=0,R=0,A=0)',\n  'mCompatibleItemDescriptors': '',\n  'mClassToScanFor': 'None',\n  'mScannableType': 'RTWOT_Default',\n  'mShouldOverrideScannerDisplayText': 'False',\n  'mScannerDisplayText': '',\n  'mScannerLightColor': '(B=0,G=0,R=0,A=0)'},\n 'Desc_QuarterPipeMiddle_Ficsit_4x4_C': {'ClassName': 'Desc_QuarterPipeMiddle_Ficsit_4x4_C',\n  'mDisplayName': '',\n  'mDescription': '',\n  'mAbbreviatedDisplayName': '',\n  'mStackSize': 'SS_MEDIUM',\n  'mCanBeDiscarded': 'True',\n  'mRememberPickUp': 'False',\n  'mEnergyValue': '0.000000',\n  'mRadioactiveDecay': '0.000000',\n  'mForm': 'RF_INVALID',\n  'mSmallIcon': 'Texture2D /Game/FactoryGame/Buildable/Building/Foundation/UI/QuarterPipe/IconDesc_QP_Ficsit_Mid_8x4_256.IconDesc_QP_Ficsit_Mid_8x4_256',\n  'mPersistentBigIcon': 'Texture2D /Game/FactoryGame/Buildable/Building/Foundation/UI/QuarterPipe/IconDesc_QP_Ficsit_Mid_8x4_512.IconDesc_QP_Ficsit_Mid_8x4_512',\n  'mCrosshairMaterial': 'None',\n  'mDescriptorStatBars': '',\n  'mSubCategories': '(BlueprintGeneratedClass\\'\"/Game/FactoryGame/Interface/UI/InGame/BuildMenu/BuildCategories/Sub_Organisation/SC_Floors.SC_Floors_C\"\\')',\n  'mMenuPriority': '6.000000',\n  'mFluidColor': '(B=0,G=0,R=0,A=0)',\n  'mGasColor': '(B=0,G=0,R=0,A=0)',\n  'mCompatibleItemDescriptors': '',\n  'mClassToScanFor': 'None',\n  'mScannableType': 'RTWOT_Default',\n  'mShouldOverrideScannerDisplayText': 'False',\n  'mScannerDisplayText': '',\n  'mScannerLightColor': '(B=0,G=0,R=0,A=0)'},\n 'Desc_QuarterPipeMiddleInCorner_Ficsit_8x1_C': {'ClassName': 'Desc_QuarterPipeMiddleInCorner_Ficsit_8x1_C',\n  'mDisplayName': '',\n  'mDescription': '',\n  'mAbbreviatedDisplayName': '',\n  'mStackSize': 'SS_MEDIUM',\n  'mCanBeDiscarded': 'True',\n  'mRememberPickUp': 'False',\n  'mEnergyValue': '0.000000',\n  'mRadioactiveDecay': '0.000000',\n  'mForm': 'RF_INVALID',\n  'mSmallIcon': 'Texture2D /Game/FactoryGame/Buildable/Building/Foundation/UI/QuarterPipe/IconDesc_QP_Ficsit_MidInCorner_8x1_256.IconDesc_QP_Ficsit_MidInCorner_8x1_256',\n  'mPersistentBigIcon': 'Texture2D /Game/FactoryGame/Buildable/Building/Foundation/UI/QuarterPipe/IconDesc_QP_Ficsit_MidInCorner_8x1_512.IconDesc_QP_Ficsit_MidInCorner_8x1_512',\n  'mCrosshairMaterial': 'None',\n  'mDescriptorStatBars': '',\n  'mSubCategories': '(BlueprintGeneratedClass\\'\"/Game/FactoryGame/Interface/UI/InGame/BuildMenu/BuildCategories/Sub_Organisation/SC_QuatPipes.SC_QuatPipes_C\"\\')',\n  'mMenuPriority': '7.000000',\n  'mFluidColor': '(B=0,G=0,R=0,A=0)',\n  'mGasColor': '(B=0,G=0,R=0,A=0)',\n  'mCompatibleItemDescriptors': '',\n  'mClassToScanFor': 'None',\n  'mScannableType': 'RTWOT_Default',\n  'mShouldOverrideScannerDisplayText': 'False',\n  'mScannerDisplayText': '',\n  'mScannerLightColor': '(B=0,G=0,R=0,A=0)'},\n 'Desc_QuarterPipeMiddleInCorner_Ficsit_8x2_C': {'ClassName': 'Desc_QuarterPipeMiddleInCorner_Ficsit_8x2_C',\n  'mDisplayName': '',\n  'mDescription': '',\n  'mAbbreviatedDisplayName': '',\n  'mStackSize': 'SS_MEDIUM',\n  'mCanBeDiscarded': 'True',\n  'mRememberPickUp': 'False',\n  'mEnergyValue': '0.000000',\n  'mRadioactiveDecay': '0.000000',\n  'mForm': 'RF_INVALID',\n  'mSmallIcon': 'Texture2D /Game/FactoryGame/Buildable/Building/Foundation/UI/QuarterPipe/IconDesc_QP_Ficsit_MidInCorner_8x2_256.IconDesc_QP_Ficsit_MidInCorner_8x2_256',\n  'mPersistentBigIcon': 'Texture2D /Game/FactoryGame/Buildable/Building/Foundation/UI/QuarterPipe/IconDesc_QP_Ficsit_MidInCorner_8x2_512.IconDesc_QP_Ficsit_MidInCorner_8x2_512',\n  'mCrosshairMaterial': 'None',\n  'mDescriptorStatBars': '',\n  'mSubCategories': '(BlueprintGeneratedClass\\'\"/Game/FactoryGame/Interface/UI/InGame/BuildMenu/BuildCategories/Sub_Organisation/SC_QuatPipes.SC_QuatPipes_C\"\\')',\n  'mMenuPriority': '8.000000',\n  'mFluidColor': '(B=0,G=0,R=0,A=0)',\n  'mGasColor': '(B=0,G=0,R=0,A=0)',\n  'mCompatibleItemDescriptors': '',\n  'mClassToScanFor': 'None',\n  'mScannableType': 'RTWOT_Default',\n  'mShouldOverrideScannerDisplayText': 'False',\n  'mScannerDisplayText': '',\n  'mScannerLightColor': '(B=0,G=0,R=0,A=0)'},\n 'Desc_QuarterPipeMiddleInCorner_Ficsit_8x4_C': {'ClassName': 'Desc_QuarterPipeMiddleInCorner_Ficsit_8x4_C',\n  'mDisplayName': '',\n  'mDescription': '',\n  'mAbbreviatedDisplayName': '',\n  'mStackSize': 'SS_MEDIUM',\n  'mCanBeDiscarded': 'True',\n  'mRememberPickUp': 'False',\n  'mEnergyValue': '0.000000',\n  'mRadioactiveDecay': '0.000000',\n  'mForm': 'RF_INVALID',\n  'mSmallIcon': 'Texture2D /Game/FactoryGame/Buildable/Building/Foundation/UI/QuarterPipe/IconDesc_QP_Ficsit_MidInCorner_8x4_256.IconDesc_QP_Ficsit_MidInCorner_8x4_256',\n  'mPersistentBigIcon': 'Texture2D /Game/FactoryGame/Buildable/Building/Foundation/UI/QuarterPipe/IconDesc_QP_Ficsit_MidInCorner_8x4_512.IconDesc_QP_Ficsit_MidInCorner_8x4_512',\n  'mCrosshairMaterial': 'None',\n  'mDescriptorStatBars': '',\n  'mSubCategories': '(BlueprintGeneratedClass\\'\"/Game/FactoryGame/Interface/UI/InGame/BuildMenu/BuildCategories/Sub_Organisation/SC_QuatPipes.SC_QuatPipes_C\"\\')',\n  'mMenuPriority': '9.000000',\n  'mFluidColor': '(B=0,G=0,R=0,A=0)',\n  'mGasColor': '(B=0,G=0,R=0,A=0)',\n  'mCompatibleItemDescriptors': '',\n  'mClassToScanFor': 'None',\n  'mScannableType': 'RTWOT_Default',\n  'mShouldOverrideScannerDisplayText': 'False',\n  'mScannerDisplayText': '',\n  'mScannerLightColor': '(B=0,G=0,R=0,A=0)'},\n 'Desc_QuarterPipeMiddleOutCorner_Ficsit_4x1_C': {'ClassName': 'Desc_QuarterPipeMiddleOutCorner_Ficsit_4x1_C',\n  'mDisplayName': '',\n  'mDescription': '',\n  'mAbbreviatedDisplayName': '',\n  'mStackSize': 'SS_MEDIUM',\n  'mCanBeDiscarded': 'True',\n  'mRememberPickUp': 'False',\n  'mEnergyValue': '0.000000',\n  'mRadioactiveDecay': '0.000000',\n  'mForm': 'RF_INVALID',\n  'mSmallIcon': 'Texture2D /Game/FactoryGame/Buildable/Building/Foundation/UI/QuarterPipe/IconDesc_QP_Ficsit_MidOutCorner_8x1_256.IconDesc_QP_Ficsit_MidOutCorner_8x1_256',\n  'mPersistentBigIcon': 'Texture2D /Game/FactoryGame/Buildable/Building/Foundation/UI/QuarterPipe/IconDesc_QP_Ficsit_MidOutCorner_8x1_512.IconDesc_QP_Ficsit_MidOutCorner_8x1_512',\n  'mCrosshairMaterial': 'None',\n  'mDescriptorStatBars': '',\n  'mSubCategories': '(BlueprintGeneratedClass\\'\"/Game/FactoryGame/Interface/UI/InGame/BuildMenu/BuildCategories/Sub_Organisation/SC_QuatPipes.SC_QuatPipes_C\"\\')',\n  'mMenuPriority': '10.000000',\n  'mFluidColor': '(B=0,G=0,R=0,A=0)',\n  'mGasColor': '(B=0,G=0,R=0,A=0)',\n  'mCompatibleItemDescriptors': '',\n  'mClassToScanFor': 'None',\n  'mScannableType': 'RTWOT_Default',\n  'mShouldOverrideScannerDisplayText': 'False',\n  'mScannerDisplayText': '',\n  'mScannerLightColor': '(B=0,G=0,R=0,A=0)'},\n 'Desc_QuarterPipeMiddleOutCorner_Ficsit_4x2_C': {'ClassName': 'Desc_QuarterPipeMiddleOutCorner_Ficsit_4x2_C',\n  'mDisplayName': '',\n  'mDescription': '',\n  'mAbbreviatedDisplayName': '',\n  'mStackSize': 'SS_MEDIUM',\n  'mCanBeDiscarded': 'True',\n  'mRememberPickUp': 'False',\n  'mEnergyValue': '0.000000',\n  'mRadioactiveDecay': '0.000000',\n  'mForm': 'RF_INVALID',\n  'mSmallIcon': 'Texture2D /Game/FactoryGame/Buildable/Building/Foundation/UI/QuarterPipe/IconDesc_QP_Ficsit_MidOutCorner_8x2_256.IconDesc_QP_Ficsit_MidOutCorner_8x2_256',\n  'mPersistentBigIcon': 'Texture2D /Game/FactoryGame/Buildable/Building/Foundation/UI/QuarterPipe/IconDesc_QP_Ficsit_MidOutCorner_8x2_512.IconDesc_QP_Ficsit_MidOutCorner_8x2_512',\n  'mCrosshairMaterial': 'None',\n  'mDescriptorStatBars': '',\n  'mSubCategories': '(BlueprintGeneratedClass\\'\"/Game/FactoryGame/Interface/UI/InGame/BuildMenu/BuildCategories/Sub_Organisation/SC_QuatPipes.SC_QuatPipes_C\"\\')',\n  'mMenuPriority': '11.000000',\n  'mFluidColor': '(B=0,G=0,R=0,A=0)',\n  'mGasColor': '(B=0,G=0,R=0,A=0)',\n  'mCompatibleItemDescriptors': '',\n  'mClassToScanFor': 'None',\n  'mScannableType': 'RTWOT_Default',\n  'mShouldOverrideScannerDisplayText': 'False',\n  'mScannerDisplayText': '',\n  'mScannerLightColor': '(B=0,G=0,R=0,A=0)'},\n 'Desc_QuarterPipeMiddleOutCorner_Ficsit_4x4_C': {'ClassName': 'Desc_QuarterPipeMiddleOutCorner_Ficsit_4x4_C',\n  'mDisplayName': '',\n  'mDescription': '',\n  'mAbbreviatedDisplayName': '',\n  'mStackSize': 'SS_MEDIUM',\n  'mCanBeDiscarded': 'True',\n  'mRememberPickUp': 'False',\n  'mEnergyValue': '0.000000',\n  'mRadioactiveDecay': '0.000000',\n  'mForm': 'RF_INVALID',\n  'mSmallIcon': 'Texture2D /Game/FactoryGame/Buildable/Building/Foundation/UI/QuarterPipe/IconDesc_QP_Ficsit_MidOutCorner_8x4_256.IconDesc_QP_Ficsit_MidOutCorner_8x4_256',\n  'mPersistentBigIcon': 'Texture2D /Game/FactoryGame/Buildable/Building/Foundation/UI/QuarterPipe/IconDesc_QP_Ficsit_MidOutCorner_8x4_512.IconDesc_QP_Ficsit_MidOutCorner_8x4_512',\n  'mCrosshairMaterial': 'None',\n  'mDescriptorStatBars': '',\n  'mSubCategories': '(BlueprintGeneratedClass\\'\"/Game/FactoryGame/Interface/UI/InGame/BuildMenu/BuildCategories/Sub_Organisation/SC_QuatPipes.SC_QuatPipes_C\"\\')',\n  'mMenuPriority': '12.000000',\n  'mFluidColor': '(B=0,G=0,R=0,A=0)',\n  'mGasColor': '(B=0,G=0,R=0,A=0)',\n  'mCompatibleItemDescriptors': '',\n  'mClassToScanFor': 'None',\n  'mScannableType': 'RTWOT_Default',\n  'mShouldOverrideScannerDisplayText': 'False',\n  'mScannerDisplayText': '',\n  'mScannerLightColor': '(B=0,G=0,R=0,A=0)'},\n 'Desc_Foundation_8x1_01_C': {'ClassName': 'Desc_Foundation_8x1_01_C',\n  'mDisplayName': '',\n  'mDescription': '',\n  'mAbbreviatedDisplayName': '',\n  'mStackSize': 'SS_MEDIUM',\n  'mCanBeDiscarded': 'True',\n  'mRememberPickUp': 'False',\n  'mEnergyValue': '0.000000',\n  'mRadioactiveDecay': '0.000000',\n  'mForm': 'RF_INVALID',\n  'mSmallIcon': 'Texture2D /Game/FactoryGame/Buildable/Building/Foundation/UI/U5/IconDesc_FicsitFoundation1m_256.IconDesc_FicsitFoundation1m_256',\n  'mPersistentBigIcon': 'Texture2D /Game/FactoryGame/Buildable/Building/Foundation/UI/U5/IconDesc_FicsitFoundation1m_512.IconDesc_FicsitFoundation1m_512',\n  'mCrosshairMaterial': 'None',\n  'mDescriptorStatBars': '',\n  'mSubCategories': '(BlueprintGeneratedClass\\'\"/Game/FactoryGame/Interface/UI/InGame/BuildMenu/BuildCategories/Sub_Organisation/SC_Floors.SC_Floors_C\"\\')',\n  'mMenuPriority': '1.000000',\n  'mFluidColor': '(B=0,G=0,R=0,A=0)',\n  'mGasColor': '(B=0,G=0,R=0,A=0)',\n  'mCompatibleItemDescriptors': '',\n  'mClassToScanFor': 'None',\n  'mScannableType': 'RTWOT_Default',\n  'mShouldOverrideScannerDisplayText': 'False',\n  'mScannerDisplayText': '',\n  'mScannerLightColor': '(B=0,G=0,R=0,A=0)'},\n 'Desc_Foundation_8x2_01_C': {'ClassName': 'Desc_Foundation_8x2_01_C',\n  'mDisplayName': '',\n  'mDescription': '',\n  'mAbbreviatedDisplayName': '',\n  'mStackSize': 'SS_MEDIUM',\n  'mCanBeDiscarded': 'True',\n  'mRememberPickUp': 'False',\n  'mEnergyValue': '0.000000',\n  'mRadioactiveDecay': '0.000000',\n  'mForm': 'RF_INVALID',\n  'mSmallIcon': 'Texture2D /Game/FactoryGame/Buildable/Building/Foundation/UI/U5/IconDesc_FicsitFoundation2m_256.IconDesc_FicsitFoundation2m_256',\n  'mPersistentBigIcon': 'Texture2D /Game/FactoryGame/Buildable/Building/Foundation/UI/U5/IconDesc_FicsitFoundation2m_512.IconDesc_FicsitFoundation2m_512',\n  'mCrosshairMaterial': 'None',\n  'mDescriptorStatBars': '',\n  'mSubCategories': '(BlueprintGeneratedClass\\'\"/Game/FactoryGame/Interface/UI/InGame/BuildMenu/BuildCategories/Sub_Organisation/SC_Floors.SC_Floors_C\"\\')',\n  'mMenuPriority': '2.000000',\n  'mFluidColor': '(B=0,G=0,R=0,A=0)',\n  'mGasColor': '(B=0,G=0,R=0,A=0)',\n  'mCompatibleItemDescriptors': '',\n  'mClassToScanFor': 'None',\n  'mScannableType': 'RTWOT_Default',\n  'mShouldOverrideScannerDisplayText': 'False',\n  'mScannerDisplayText': '',\n  'mScannerLightColor': '(B=0,G=0,R=0,A=0)'},\n 'Desc_Foundation_8x4_01_C': {'ClassName': 'Desc_Foundation_8x4_01_C',\n  'mDisplayName': '',\n  'mDescription': '',\n  'mAbbreviatedDisplayName': '',\n  'mStackSize': 'SS_MEDIUM',\n  'mCanBeDiscarded': 'True',\n  'mRememberPickUp': 'False',\n  'mEnergyValue': '0.000000',\n  'mRadioactiveDecay': '0.000000',\n  'mForm': 'RF_INVALID',\n  'mSmallIcon': 'Texture2D /Game/FactoryGame/Buildable/Building/Foundation/UI/U5/IconDesc_FicsitFoundation4m_256.IconDesc_FicsitFoundation4m_256',\n  'mPersistentBigIcon': 'Texture2D /Game/FactoryGame/Buildable/Building/Foundation/UI/U5/IconDesc_FicsitFoundation4m_512.IconDesc_FicsitFoundation4m_512',\n  'mCrosshairMaterial': 'None',\n  'mDescriptorStatBars': '',\n  'mSubCategories': '(BlueprintGeneratedClass\\'\"/Game/FactoryGame/Interface/UI/InGame/BuildMenu/BuildCategories/Sub_Organisation/SC_Floors.SC_Floors_C\"\\')',\n  'mMenuPriority': '3.000000',\n  'mFluidColor': '(B=0,G=0,R=0,A=0)',\n  'mGasColor': '(B=0,G=0,R=0,A=0)',\n  'mCompatibleItemDescriptors': '',\n  'mClassToScanFor': 'None',\n  'mScannableType': 'RTWOT_Default',\n  'mShouldOverrideScannerDisplayText': 'False',\n  'mScannerDisplayText': '',\n  'mScannerLightColor': '(B=0,G=0,R=0,A=0)'},\n 'Desc_QuarterPipe_C': {'ClassName': 'Desc_QuarterPipe_C',\n  'mDisplayName': '',\n  'mDescription': '',\n  'mAbbreviatedDisplayName': '',\n  'mStackSize': 'SS_MEDIUM',\n  'mCanBeDiscarded': 'True',\n  'mRememberPickUp': 'False',\n  'mEnergyValue': '0.000000',\n  'mRadioactiveDecay': '0.000000',\n  'mForm': 'RF_INVALID',\n  'mSmallIcon': 'Texture2D /Game/FactoryGame/Buildable/Building/Ramp/UI/QuarterPipes/QuarterPipe_01_256.QuarterPipe_01_256',\n  'mPersistentBigIcon': 'Texture2D /Game/FactoryGame/Buildable/Building/Ramp/UI/QuarterPipes/QuarterPipe_01_512.QuarterPipe_01_512',\n  'mCrosshairMaterial': 'None',\n  'mDescriptorStatBars': '',\n  'mSubCategories': '(BlueprintGeneratedClass\\'\"/Game/FactoryGame/Interface/UI/InGame/BuildMenu/BuildCategories/Sub_Organisation/SC_QuatPipes.SC_QuatPipes_C\"\\')',\n  'mMenuPriority': '1.000000',\n  'mFluidColor': '(B=0,G=0,R=0,A=0)',\n  'mGasColor': '(B=0,G=0,R=0,A=0)',\n  'mCompatibleItemDescriptors': '',\n  'mClassToScanFor': 'None',\n  'mScannableType': 'RTWOT_Default',\n  'mShouldOverrideScannerDisplayText': 'False',\n  'mScannerDisplayText': '',\n  'mScannerLightColor': '(B=0,G=0,R=0,A=0)'},\n 'Desc_QuarterPipe_02_C': {'ClassName': 'Desc_QuarterPipe_02_C',\n  'mDisplayName': '',\n  'mDescription': '',\n  'mAbbreviatedDisplayName': '',\n  'mStackSize': 'SS_MEDIUM',\n  'mCanBeDiscarded': 'True',\n  'mRememberPickUp': 'False',\n  'mEnergyValue': '0.000000',\n  'mRadioactiveDecay': '0.000000',\n  'mForm': 'RF_INVALID',\n  'mSmallIcon': 'Texture2D /Game/FactoryGame/Buildable/Building/Ramp/UI/QuarterPipes/QuarterPipe_02_256.QuarterPipe_02_256',\n  'mPersistentBigIcon': 'Texture2D /Game/FactoryGame/Buildable/Building/Ramp/UI/QuarterPipes/QuarterPipe_02_512.QuarterPipe_02_512',\n  'mCrosshairMaterial': 'None',\n  'mDescriptorStatBars': '',\n  'mSubCategories': '(BlueprintGeneratedClass\\'\"/Game/FactoryGame/Interface/UI/InGame/BuildMenu/BuildCategories/Sub_Organisation/SC_QuatPipes.SC_QuatPipes_C\"\\')',\n  'mMenuPriority': '2.000000',\n  'mFluidColor': '(B=0,G=0,R=0,A=0)',\n  'mGasColor': '(B=0,G=0,R=0,A=0)',\n  'mCompatibleItemDescriptors': '',\n  'mClassToScanFor': 'None',\n  'mScannableType': 'RTWOT_Default',\n  'mShouldOverrideScannerDisplayText': 'False',\n  'mScannerDisplayText': '',\n  'mScannerLightColor': '(B=0,G=0,R=0,A=0)'},\n 'Desc_QuarterPipeCorner_01_C': {'ClassName': 'Desc_QuarterPipeCorner_01_C',\n  'mDisplayName': '',\n  'mDescription': '',\n  'mAbbreviatedDisplayName': '',\n  'mStackSize': 'SS_MEDIUM',\n  'mCanBeDiscarded': 'True',\n  'mRememberPickUp': 'False',\n  'mEnergyValue': '0.000000',\n  'mRadioactiveDecay': '0.000000',\n  'mForm': 'RF_INVALID',\n  'mSmallIcon': 'Texture2D /Game/FactoryGame/Buildable/Building/Ramp/UI/QuarterPipes/QuarterPipe_Corner_01_256.QuarterPipe_Corner_01_256',\n  'mPersistentBigIcon': 'Texture2D /Game/FactoryGame/Buildable/Building/Ramp/UI/QuarterPipes/QuarterPipe_Corner_01_512.QuarterPipe_Corner_01_512',\n  'mCrosshairMaterial': 'None',\n  'mDescriptorStatBars': '',\n  'mSubCategories': '(BlueprintGeneratedClass\\'\"/Game/FactoryGame/Interface/UI/InGame/BuildMenu/BuildCategories/Sub_Organisation/SC_QuatPipes.SC_QuatPipes_C\"\\')',\n  'mMenuPriority': '3.000000',\n  'mFluidColor': '(B=0,G=0,R=0,A=0)',\n  'mGasColor': '(B=0,G=0,R=0,A=0)',\n  'mCompatibleItemDescriptors': '',\n  'mClassToScanFor': 'None',\n  'mScannableType': 'RTWOT_Default',\n  'mShouldOverrideScannerDisplayText': 'False',\n  'mScannerDisplayText': '',\n  'mScannerLightColor': '(B=0,G=0,R=0,A=0)'},\n 'Desc_QuarterPipeCorner_02_C': {'ClassName': 'Desc_QuarterPipeCorner_02_C',\n  'mDisplayName': '',\n  'mDescription': '',\n  'mAbbreviatedDisplayName': '',\n  'mStackSize': 'SS_MEDIUM',\n  'mCanBeDiscarded': 'True',\n  'mRememberPickUp': 'False',\n  'mEnergyValue': '0.000000',\n  'mRadioactiveDecay': '0.000000',\n  'mForm': 'RF_INVALID',\n  'mSmallIcon': 'Texture2D /Game/FactoryGame/Buildable/Building/Ramp/UI/QuarterPipes/QuarterPipe_Corner_02_256.QuarterPipe_Corner_02_256',\n  'mPersistentBigIcon': 'Texture2D /Game/FactoryGame/Buildable/Building/Ramp/UI/QuarterPipes/QuarterPipe_Corner_02_512.QuarterPipe_Corner_02_512',\n  'mCrosshairMaterial': 'None',\n  'mDescriptorStatBars': '',\n  'mSubCategories': '(BlueprintGeneratedClass\\'\"/Game/FactoryGame/Interface/UI/InGame/BuildMenu/BuildCategories/Sub_Organisation/SC_QuatPipes.SC_QuatPipes_C\"\\')',\n  'mMenuPriority': '4.000000',\n  'mFluidColor': '(B=0,G=0,R=0,A=0)',\n  'mGasColor': '(B=0,G=0,R=0,A=0)',\n  'mCompatibleItemDescriptors': '',\n  'mClassToScanFor': 'None',\n  'mScannableType': 'RTWOT_Default',\n  'mShouldOverrideScannerDisplayText': 'False',\n  'mScannerDisplayText': '',\n  'mScannerLightColor': '(B=0,G=0,R=0,A=0)'},\n 'Desc_QuarterPipeCorner_03_C': {'ClassName': 'Desc_QuarterPipeCorner_03_C',\n  'mDisplayName': '',\n  'mDescription': '',\n  'mAbbreviatedDisplayName': '',\n  'mStackSize': 'SS_MEDIUM',\n  'mCanBeDiscarded': 'True',\n  'mRememberPickUp': 'False',\n  'mEnergyValue': '0.000000',\n  'mRadioactiveDecay': '0.000000',\n  'mForm': 'RF_INVALID',\n  'mSmallIcon': 'Texture2D /Game/FactoryGame/Buildable/Building/Ramp/UI/QuarterPipes/IconDesc_Cnr_QuarterPipe_03_256.IconDesc_Cnr_QuarterPipe_03_256',\n  'mPersistentBigIcon': 'Texture2D /Game/FactoryGame/Buildable/Building/Ramp/UI/QuarterPipes/IconDesc_Cnr_QuarterPipe_03_512.IconDesc_Cnr_QuarterPipe_03_512',\n  'mCrosshairMaterial': 'None',\n  'mDescriptorStatBars': '',\n  'mSubCategories': '(BlueprintGeneratedClass\\'\"/Game/FactoryGame/Interface/UI/InGame/BuildMenu/BuildCategories/Sub_Organisation/SC_QuatPipes.SC_QuatPipes_C\"\\')',\n  'mMenuPriority': '5.000000',\n  'mFluidColor': '(B=0,G=0,R=0,A=0)',\n  'mGasColor': '(B=0,G=0,R=0,A=0)',\n  'mCompatibleItemDescriptors': '',\n  'mClassToScanFor': 'None',\n  'mScannableType': 'RTWOT_Default',\n  'mShouldOverrideScannerDisplayText': 'False',\n  'mScannerDisplayText': '',\n  'mScannerLightColor': '(B=0,G=0,R=0,A=0)'},\n 'Desc_QuarterPipeCorner_04_C': {'ClassName': 'Desc_QuarterPipeCorner_04_C',\n  'mDisplayName': '',\n  'mDescription': '',\n  'mAbbreviatedDisplayName': '',\n  'mStackSize': 'SS_MEDIUM',\n  'mCanBeDiscarded': 'True',\n  'mRememberPickUp': 'False',\n  'mEnergyValue': '0.000000',\n  'mRadioactiveDecay': '0.000000',\n  'mForm': 'RF_INVALID',\n  'mSmallIcon': 'Texture2D /Game/FactoryGame/Buildable/Building/Foundation/UI/QuarterPipe/IconDesc_QP_Ficsit_DownOutCorner_8x4_256.IconDesc_QP_Ficsit_DownOutCorner_8x4_256',\n  'mPersistentBigIcon': 'Texture2D /Game/FactoryGame/Buildable/Building/Ramp/UI/QuarterPipes/IconDesc_QP_Ficsit_DownOutCorner_8x4_512.IconDesc_QP_Ficsit_DownOutCorner_8x4_512',\n  'mCrosshairMaterial': 'None',\n  'mDescriptorStatBars': '',\n  'mSubCategories': '(BlueprintGeneratedClass\\'\"/Game/FactoryGame/Interface/UI/InGame/BuildMenu/BuildCategories/Sub_Organisation/SC_QuatPipes.SC_QuatPipes_C\"\\')',\n  'mMenuPriority': '6.000000',\n  'mFluidColor': '(B=0,G=0,R=0,A=0)',\n  'mGasColor': '(B=0,G=0,R=0,A=0)',\n  'mCompatibleItemDescriptors': '',\n  'mClassToScanFor': 'None',\n  'mScannableType': 'RTWOT_Default',\n  'mShouldOverrideScannerDisplayText': 'False',\n  'mScannerDisplayText': '',\n  'mScannerLightColor': '(B=0,G=0,R=0,A=0)'},\n 'Desc_Ramp_8x1_01_C': {'ClassName': 'Desc_Ramp_8x1_01_C',\n  'mDisplayName': '',\n  'mDescription': '',\n  'mAbbreviatedDisplayName': '',\n  'mStackSize': 'SS_MEDIUM',\n  'mCanBeDiscarded': 'True',\n  'mRememberPickUp': 'False',\n  'mEnergyValue': '0.000000',\n  'mRadioactiveDecay': '0.000000',\n  'mForm': 'RF_INVALID',\n  'mSmallIcon': 'Texture2D /Game/FactoryGame/Buildable/Building/Ramp/UI/Regular/IconDesc_FicsitRamp1m_256.IconDesc_FicsitRamp1m_256',\n  'mPersistentBigIcon': 'Texture2D /Game/FactoryGame/Buildable/Building/Ramp/UI/Regular/IconDesc_FicsitRamp1m_512.IconDesc_FicsitRamp1m_512',\n  'mCrosshairMaterial': 'None',\n  'mDescriptorStatBars': '',\n  'mSubCategories': '(BlueprintGeneratedClass\\'\"/Game/FactoryGame/Interface/UI/InGame/BuildMenu/BuildCategories/Sub_Organisation/SC_Ramps.SC_Ramps_C\"\\')',\n  'mMenuPriority': '1.000000',\n  'mFluidColor': '(B=0,G=0,R=0,A=0)',\n  'mGasColor': '(B=0,G=0,R=0,A=0)',\n  'mCompatibleItemDescriptors': '',\n  'mClassToScanFor': 'None',\n  'mScannableType': 'RTWOT_Default',\n  'mShouldOverrideScannerDisplayText': 'False',\n  'mScannerDisplayText': '',\n  'mScannerLightColor': '(B=0,G=0,R=0,A=0)'},\n 'Desc_Ramp_8x2_01_C': {'ClassName': 'Desc_Ramp_8x2_01_C',\n  'mDisplayName': '',\n  'mDescription': '',\n  'mAbbreviatedDisplayName': '',\n  'mStackSize': 'SS_MEDIUM',\n  'mCanBeDiscarded': 'True',\n  'mRememberPickUp': 'False',\n  'mEnergyValue': '0.000000',\n  'mRadioactiveDecay': '0.000000',\n  'mForm': 'RF_INVALID',\n  'mSmallIcon': 'Texture2D /Game/FactoryGame/Buildable/Building/Ramp/UI/Regular/IconDesc_FicsitRamp2m_256.IconDesc_FicsitRamp2m_256',\n  'mPersistentBigIcon': 'Texture2D /Game/FactoryGame/Buildable/Building/Ramp/UI/Regular/IconDesc_FicsitRamp2m_512.IconDesc_FicsitRamp2m_512',\n  'mCrosshairMaterial': 'None',\n  'mDescriptorStatBars': '',\n  'mSubCategories': '(BlueprintGeneratedClass\\'\"/Game/FactoryGame/Interface/UI/InGame/BuildMenu/BuildCategories/Sub_Organisation/SC_Ramps.SC_Ramps_C\"\\')',\n  'mMenuPriority': '2.000000',\n  'mFluidColor': '(B=0,G=0,R=0,A=0)',\n  'mGasColor': '(B=0,G=0,R=0,A=0)',\n  'mCompatibleItemDescriptors': '',\n  'mClassToScanFor': 'None',\n  'mScannableType': 'RTWOT_Default',\n  'mShouldOverrideScannerDisplayText': 'False',\n  'mScannerDisplayText': '',\n  'mScannerLightColor': '(B=0,G=0,R=0,A=0)'},\n 'Desc_Ramp_8x4_01_C': {'ClassName': 'Desc_Ramp_8x4_01_C',\n  'mDisplayName': '',\n  'mDescription': '',\n  'mAbbreviatedDisplayName': '',\n  'mStackSize': 'SS_MEDIUM',\n  'mCanBeDiscarded': 'True',\n  'mRememberPickUp': 'False',\n  'mEnergyValue': '0.000000',\n  'mRadioactiveDecay': '0.000000',\n  'mForm': 'RF_INVALID',\n  'mSmallIcon': 'Texture2D /Game/FactoryGame/Buildable/Building/Ramp/UI/Regular/IconDesc_FicsitRamp4m_256.IconDesc_FicsitRamp4m_256',\n  'mPersistentBigIcon': 'Texture2D /Game/FactoryGame/Buildable/Building/Ramp/UI/Regular/IconDesc_FicsitRamp4m_512.IconDesc_FicsitRamp4m_512',\n  'mCrosshairMaterial': 'None',\n  'mDescriptorStatBars': '',\n  'mSubCategories': '(BlueprintGeneratedClass\\'\"/Game/FactoryGame/Interface/UI/InGame/BuildMenu/BuildCategories/Sub_Organisation/SC_Ramps.SC_Ramps_C\"\\')',\n  'mMenuPriority': '3.000000',\n  'mFluidColor': '(B=0,G=0,R=0,A=0)',\n  'mGasColor': '(B=0,G=0,R=0,A=0)',\n  'mCompatibleItemDescriptors': '',\n  'mClassToScanFor': 'None',\n  'mScannableType': 'RTWOT_Default',\n  'mShouldOverrideScannerDisplayText': 'False',\n  'mScannerDisplayText': '',\n  'mScannerLightColor': '(B=0,G=0,R=0,A=0)'},\n 'Desc_Ramp_8x4_Inverted_01_C': {'ClassName': 'Desc_Ramp_8x4_Inverted_01_C',\n  'mDisplayName': '',\n  'mDescription': '',\n  'mAbbreviatedDisplayName': '',\n  'mStackSize': 'SS_MEDIUM',\n  'mCanBeDiscarded': 'True',\n  'mRememberPickUp': 'False',\n  'mEnergyValue': '0.000000',\n  'mRadioactiveDecay': '0.000000',\n  'mForm': 'RF_INVALID',\n  'mSmallIcon': 'Texture2D /Game/FactoryGame/Buildable/Building/Ramp/UI/Inverted/IconDesc_FicsitInvertRamp4m_256.IconDesc_FicsitInvertRamp4m_256',\n  'mPersistentBigIcon': 'Texture2D /Game/FactoryGame/Buildable/Building/Ramp/UI/Inverted/IconDesc_FicsitInvertRamp4m_512.IconDesc_FicsitInvertRamp4m_512',\n  'mCrosshairMaterial': 'None',\n  'mDescriptorStatBars': '',\n  'mSubCategories': '(BlueprintGeneratedClass\\'\"/Game/FactoryGame/Interface/UI/InGame/BuildMenu/BuildCategories/Sub_Organisation/SC_Inverted.SC_Inverted_C\"\\')',\n  'mMenuPriority': '3.000000',\n  'mFluidColor': '(B=0,G=0,R=0,A=0)',\n  'mGasColor': '(B=0,G=0,R=0,A=0)',\n  'mCompatibleItemDescriptors': '',\n  'mClassToScanFor': 'None',\n  'mScannableType': 'RTWOT_Default',\n  'mShouldOverrideScannerDisplayText': 'False',\n  'mScannerDisplayText': '',\n  'mScannerLightColor': '(B=0,G=0,R=0,A=0)'},\n 'Desc_Ramp_8x8x8_C': {'ClassName': 'Desc_Ramp_8x8x8_C',\n  'mDisplayName': '',\n  'mDescription': '',\n  'mAbbreviatedDisplayName': '',\n  'mStackSize': 'SS_MEDIUM',\n  'mCanBeDiscarded': 'True',\n  'mRememberPickUp': 'False',\n  'mEnergyValue': '0.000000',\n  'mRadioactiveDecay': '0.000000',\n  'mForm': 'RF_INVALID',\n  'mSmallIcon': 'Texture2D /Game/FactoryGame/Buildable/Building/Ramp/UI/Double/IconDesc_FicsitDoubleRamp4m_256.IconDesc_FicsitDoubleRamp4m_256',\n  'mPersistentBigIcon': 'Texture2D /Game/FactoryGame/Buildable/Building/Ramp/UI/Double/IconDesc_FicsitDoubleRamp4m_512.IconDesc_FicsitDoubleRamp4m_512',\n  'mCrosshairMaterial': 'None',\n  'mDescriptorStatBars': '',\n  'mSubCategories': '(BlueprintGeneratedClass\\'\"/Game/FactoryGame/Interface/UI/InGame/BuildMenu/BuildCategories/Sub_Organisation/SC_Ramps.SC_Ramps_C\"\\')',\n  'mMenuPriority': '12.000000',\n  'mFluidColor': '(B=0,G=0,R=0,A=0)',\n  'mGasColor': '(B=0,G=0,R=0,A=0)',\n  'mCompatibleItemDescriptors': '',\n  'mClassToScanFor': 'None',\n  'mScannableType': 'RTWOT_Default',\n  'mShouldOverrideScannerDisplayText': 'False',\n  'mScannerDisplayText': '',\n  'mScannerLightColor': '(B=0,G=0,R=0,A=0)'},\n 'Desc_Ramp_Diagonal_8x1_01_C': {'ClassName': 'Desc_Ramp_Diagonal_8x1_01_C',\n  'mDisplayName': '',\n  'mDescription': '',\n  'mAbbreviatedDisplayName': '',\n  'mStackSize': 'SS_MEDIUM',\n  'mCanBeDiscarded': 'True',\n  'mRememberPickUp': 'False',\n  'mEnergyValue': '0.000000',\n  'mRadioactiveDecay': '0.000000',\n  'mForm': 'RF_INVALID',\n  'mSmallIcon': 'Texture2D /Game/FactoryGame/Buildable/Building/Ramp/UI/CornerDown/IconDesc_FicsitRampDown1m_256.IconDesc_FicsitRampDown1m_256',\n  'mPersistentBigIcon': 'Texture2D /Game/FactoryGame/Buildable/Building/Ramp/UI/CornerDown/IconDesc_FicsitRampDown1m_512.IconDesc_FicsitRampDown1m_512',\n  'mCrosshairMaterial': 'None',\n  'mDescriptorStatBars': '',\n  'mSubCategories': '(BlueprintGeneratedClass\\'\"/Game/FactoryGame/Interface/UI/InGame/BuildMenu/BuildCategories/Sub_Organisation/SC_Ramps.SC_Ramps_C\"\\')',\n  'mMenuPriority': '7.000000',\n  'mFluidColor': '(B=0,G=0,R=0,A=0)',\n  'mGasColor': '(B=0,G=0,R=0,A=0)',\n  'mCompatibleItemDescriptors': '',\n  'mClassToScanFor': 'None',\n  'mScannableType': 'RTWOT_Default',\n  'mShouldOverrideScannerDisplayText': 'False',\n  'mScannerDisplayText': '',\n  'mScannerLightColor': '(B=0,G=0,R=0,A=0)'},\n 'Desc_Ramp_Diagonal_8x1_02_C': {'ClassName': 'Desc_Ramp_Diagonal_8x1_02_C',\n  'mDisplayName': '',\n  'mDescription': '',\n  'mAbbreviatedDisplayName': '',\n  'mStackSize': 'SS_MEDIUM',\n  'mCanBeDiscarded': 'True',\n  'mRememberPickUp': 'False',\n  'mEnergyValue': '0.000000',\n  'mRadioactiveDecay': '0.000000',\n  'mForm': 'RF_INVALID',\n  'mSmallIcon': 'Texture2D /Game/FactoryGame/Buildable/Building/Ramp/UI/CornerUp/IconDesc_FicsitRampUp1m_256.IconDesc_FicsitRampUp1m_256',\n  'mPersistentBigIcon': 'Texture2D /Game/FactoryGame/Buildable/Building/Ramp/UI/CornerUp/IconDesc_FicsitRampUp1m_512.IconDesc_FicsitRampUp1m_512',\n  'mCrosshairMaterial': 'None',\n  'mDescriptorStatBars': '',\n  'mSubCategories': '(BlueprintGeneratedClass\\'\"/Game/FactoryGame/Interface/UI/InGame/BuildMenu/BuildCategories/Sub_Organisation/SC_Ramps.SC_Ramps_C\"\\')',\n  'mMenuPriority': '4.000000',\n  'mFluidColor': '(B=0,G=0,R=0,A=0)',\n  'mGasColor': '(B=0,G=0,R=0,A=0)',\n  'mCompatibleItemDescriptors': '',\n  'mClassToScanFor': 'None',\n  'mScannableType': 'RTWOT_Default',\n  'mShouldOverrideScannerDisplayText': 'False',\n  'mScannerDisplayText': '',\n  'mScannerLightColor': '(B=0,G=0,R=0,A=0)'},\n 'Desc_Ramp_Diagonal_8x2_01_C': {'ClassName': 'Desc_Ramp_Diagonal_8x2_01_C',\n  'mDisplayName': '',\n  'mDescription': '',\n  'mAbbreviatedDisplayName': '',\n  'mStackSize': 'SS_MEDIUM',\n  'mCanBeDiscarded': 'True',\n  'mRememberPickUp': 'False',\n  'mEnergyValue': '0.000000',\n  'mRadioactiveDecay': '0.000000',\n  'mForm': 'RF_INVALID',\n  'mSmallIcon': 'Texture2D /Game/FactoryGame/Buildable/Building/Ramp/UI/CornerDown/IconDesc_FicsitRampDown2m_256.IconDesc_FicsitRampDown2m_256',\n  'mPersistentBigIcon': 'Texture2D /Game/FactoryGame/Buildable/Building/Ramp/UI/CornerDown/IconDesc_FicsitRampDown2m_512.IconDesc_FicsitRampDown2m_512',\n  'mCrosshairMaterial': 'None',\n  'mDescriptorStatBars': '',\n  'mSubCategories': '(BlueprintGeneratedClass\\'\"/Game/FactoryGame/Interface/UI/InGame/BuildMenu/BuildCategories/Sub_Organisation/SC_Ramps.SC_Ramps_C\"\\')',\n  'mMenuPriority': '8.000000',\n  'mFluidColor': '(B=0,G=0,R=0,A=0)',\n  'mGasColor': '(B=0,G=0,R=0,A=0)',\n  'mCompatibleItemDescriptors': '',\n  'mClassToScanFor': 'None',\n  'mScannableType': 'RTWOT_Default',\n  'mShouldOverrideScannerDisplayText': 'False',\n  'mScannerDisplayText': '',\n  'mScannerLightColor': '(B=0,G=0,R=0,A=0)'},\n 'Desc_Ramp_Diagonal_8x2_02_C': {'ClassName': 'Desc_Ramp_Diagonal_8x2_02_C',\n  'mDisplayName': '',\n  'mDescription': '',\n  'mAbbreviatedDisplayName': '',\n  'mStackSize': 'SS_MEDIUM',\n  'mCanBeDiscarded': 'True',\n  'mRememberPickUp': 'False',\n  'mEnergyValue': '0.000000',\n  'mRadioactiveDecay': '0.000000',\n  'mForm': 'RF_INVALID',\n  'mSmallIcon': 'Texture2D /Game/FactoryGame/Buildable/Building/Ramp/UI/CornerUp/IconDesc_FicsitRampUp2m_256.IconDesc_FicsitRampUp2m_256',\n  'mPersistentBigIcon': 'Texture2D /Game/FactoryGame/Buildable/Building/Ramp/UI/CornerUp/IconDesc_FicsitRampUp2m_512.IconDesc_FicsitRampUp2m_512',\n  'mCrosshairMaterial': 'None',\n  'mDescriptorStatBars': '',\n  'mSubCategories': '(BlueprintGeneratedClass\\'\"/Game/FactoryGame/Interface/UI/InGame/BuildMenu/BuildCategories/Sub_Organisation/SC_Ramps.SC_Ramps_C\"\\')',\n  'mMenuPriority': '5.000000',\n  'mFluidColor': '(B=0,G=0,R=0,A=0)',\n  'mGasColor': '(B=0,G=0,R=0,A=0)',\n  'mCompatibleItemDescriptors': '',\n  'mClassToScanFor': 'None',\n  'mScannableType': 'RTWOT_Default',\n  'mShouldOverrideScannerDisplayText': 'False',\n  'mScannerDisplayText': '',\n  'mScannerLightColor': '(B=0,G=0,R=0,A=0)'},\n 'Desc_Ramp_Diagonal_8x4_01_C': {'ClassName': 'Desc_Ramp_Diagonal_8x4_01_C',\n  'mDisplayName': '',\n  'mDescription': '',\n  'mAbbreviatedDisplayName': '',\n  'mStackSize': 'SS_MEDIUM',\n  'mCanBeDiscarded': 'True',\n  'mRememberPickUp': 'False',\n  'mEnergyValue': '0.000000',\n  'mRadioactiveDecay': '0.000000',\n  'mForm': 'RF_INVALID',\n  'mSmallIcon': 'Texture2D /Game/FactoryGame/Buildable/Building/Ramp/UI/CornerDown/IconDesc_FicsitRampDown4m_256.IconDesc_FicsitRampDown4m_256',\n  'mPersistentBigIcon': 'Texture2D /Game/FactoryGame/Buildable/Building/Ramp/UI/CornerDown/IconDesc_FicsitRampDown4m_512.IconDesc_FicsitRampDown4m_512',\n  'mCrosshairMaterial': 'None',\n  'mDescriptorStatBars': '',\n  'mSubCategories': '(BlueprintGeneratedClass\\'\"/Game/FactoryGame/Interface/UI/InGame/BuildMenu/BuildCategories/Sub_Organisation/SC_Ramps.SC_Ramps_C\"\\')',\n  'mMenuPriority': '9.000000',\n  'mFluidColor': '(B=0,G=0,R=0,A=0)',\n  'mGasColor': '(B=0,G=0,R=0,A=0)',\n  'mCompatibleItemDescriptors': '',\n  'mClassToScanFor': 'None',\n  'mScannableType': 'RTWOT_Default',\n  'mShouldOverrideScannerDisplayText': 'False',\n  'mScannerDisplayText': '',\n  'mScannerLightColor': '(B=0,G=0,R=0,A=0)'},\n 'Desc_Ramp_Diagonal_8x4_02_C': {'ClassName': 'Desc_Ramp_Diagonal_8x4_02_C',\n  'mDisplayName': '',\n  'mDescription': '',\n  'mAbbreviatedDisplayName': '',\n  'mStackSize': 'SS_MEDIUM',\n  'mCanBeDiscarded': 'True',\n  'mRememberPickUp': 'False',\n  'mEnergyValue': '0.000000',\n  'mRadioactiveDecay': '0.000000',\n  'mForm': 'RF_INVALID',\n  'mSmallIcon': 'Texture2D /Game/FactoryGame/Buildable/Building/Ramp/UI/CornerUp/IconDesc_FicsitRampUp4m_256.IconDesc_FicsitRampUp4m_256',\n  'mPersistentBigIcon': 'Texture2D /Game/FactoryGame/Buildable/Building/Ramp/UI/CornerUp/IconDesc_FicsitRampUp4m_512.IconDesc_FicsitRampUp4m_512',\n  'mCrosshairMaterial': 'None',\n  'mDescriptorStatBars': '',\n  'mSubCategories': '(BlueprintGeneratedClass\\'\"/Game/FactoryGame/Interface/UI/InGame/BuildMenu/BuildCategories/Sub_Organisation/SC_Ramps.SC_Ramps_C\"\\')',\n  'mMenuPriority': '6.000000',\n  'mFluidColor': '(B=0,G=0,R=0,A=0)',\n  'mGasColor': '(B=0,G=0,R=0,A=0)',\n  'mCompatibleItemDescriptors': '',\n  'mClassToScanFor': 'None',\n  'mScannableType': 'RTWOT_Default',\n  'mShouldOverrideScannerDisplayText': 'False',\n  'mScannerDisplayText': '',\n  'mScannerLightColor': '(B=0,G=0,R=0,A=0)'},\n 'Desc_RampDouble_C': {'ClassName': 'Desc_RampDouble_C',\n  'mDisplayName': '',\n  'mDescription': '',\n  'mAbbreviatedDisplayName': '',\n  'mStackSize': 'SS_MEDIUM',\n  'mCanBeDiscarded': 'True',\n  'mRememberPickUp': 'False',\n  'mEnergyValue': '0.000000',\n  'mRadioactiveDecay': '0.000000',\n  'mForm': 'RF_INVALID',\n  'mSmallIcon': 'Texture2D /Game/FactoryGame/Buildable/Building/Ramp/UI/Double/IconDesc_FicsitDoubleRamp2m_256.IconDesc_FicsitDoubleRamp2m_256',\n  'mPersistentBigIcon': 'Texture2D /Game/FactoryGame/Buildable/Building/Ramp/UI/Double/IconDesc_FicsitDoubleRamp2m_512.IconDesc_FicsitDoubleRamp2m_512',\n  'mCrosshairMaterial': 'None',\n  'mDescriptorStatBars': '',\n  'mSubCategories': '(BlueprintGeneratedClass\\'\"/Game/FactoryGame/Interface/UI/InGame/BuildMenu/BuildCategories/Sub_Organisation/SC_Ramps.SC_Ramps_C\"\\')',\n  'mMenuPriority': '11.000000',\n  'mFluidColor': '(B=0,G=0,R=0,A=0)',\n  'mGasColor': '(B=0,G=0,R=0,A=0)',\n  'mCompatibleItemDescriptors': '',\n  'mClassToScanFor': 'None',\n  'mScannableType': 'RTWOT_Default',\n  'mShouldOverrideScannerDisplayText': 'False',\n  'mScannerDisplayText': '',\n  'mScannerLightColor': '(B=0,G=0,R=0,A=0)'},\n 'Desc_RampDouble_8x1_C': {'ClassName': 'Desc_RampDouble_8x1_C',\n  'mDisplayName': '',\n  'mDescription': '',\n  'mAbbreviatedDisplayName': '',\n  'mStackSize': 'SS_MEDIUM',\n  'mCanBeDiscarded': 'True',\n  'mRememberPickUp': 'False',\n  'mEnergyValue': '0.000000',\n  'mRadioactiveDecay': '0.000000',\n  'mForm': 'RF_INVALID',\n  'mSmallIcon': 'Texture2D /Game/FactoryGame/Buildable/Building/Ramp/UI/Double/IconDesc_FicsitDoubleRamp1m_256.IconDesc_FicsitDoubleRamp1m_256',\n  'mPersistentBigIcon': 'Texture2D /Game/FactoryGame/Buildable/Building/Ramp/UI/Double/IconDesc_FicsitDoubleRamp1m_512.IconDesc_FicsitDoubleRamp1m_512',\n  'mCrosshairMaterial': 'None',\n  'mDescriptorStatBars': '',\n  'mSubCategories': '(BlueprintGeneratedClass\\'\"/Game/FactoryGame/Interface/UI/InGame/BuildMenu/BuildCategories/Sub_Organisation/SC_Ramps.SC_Ramps_C\"\\')',\n  'mMenuPriority': '10.000000',\n  'mFluidColor': '(B=0,G=0,R=0,A=0)',\n  'mGasColor': '(B=0,G=0,R=0,A=0)',\n  'mCompatibleItemDescriptors': '',\n  'mClassToScanFor': 'None',\n  'mScannableType': 'RTWOT_Default',\n  'mShouldOverrideScannerDisplayText': 'False',\n  'mScannerDisplayText': '',\n  'mScannerLightColor': '(B=0,G=0,R=0,A=0)'},\n 'Desc_RampInverted_8x1_C': {'ClassName': 'Desc_RampInverted_8x1_C',\n  'mDisplayName': '',\n  'mDescription': '',\n  'mAbbreviatedDisplayName': '',\n  'mStackSize': 'SS_MEDIUM',\n  'mCanBeDiscarded': 'True',\n  'mRememberPickUp': 'False',\n  'mEnergyValue': '0.000000',\n  'mRadioactiveDecay': '0.000000',\n  'mForm': 'RF_INVALID',\n  'mSmallIcon': 'Texture2D /Game/FactoryGame/Buildable/Building/Ramp/UI/Inverted/IconDesc_FicsitInvertRamp1m_256.IconDesc_FicsitInvertRamp1m_256',\n  'mPersistentBigIcon': 'Texture2D /Game/FactoryGame/Buildable/Building/Ramp/UI/Inverted/IconDesc_FicsitInvertRamp1m_512.IconDesc_FicsitInvertRamp1m_512',\n  'mCrosshairMaterial': 'None',\n  'mDescriptorStatBars': '',\n  'mSubCategories': '(BlueprintGeneratedClass\\'\"/Game/FactoryGame/Interface/UI/InGame/BuildMenu/BuildCategories/Sub_Organisation/SC_Inverted.SC_Inverted_C\"\\')',\n  'mMenuPriority': '1.000000',\n  'mFluidColor': '(B=0,G=0,R=0,A=0)',\n  'mGasColor': '(B=0,G=0,R=0,A=0)',\n  'mCompatibleItemDescriptors': '',\n  'mClassToScanFor': 'None',\n  'mScannableType': 'RTWOT_Default',\n  'mShouldOverrideScannerDisplayText': 'False',\n  'mScannerDisplayText': '',\n  'mScannerLightColor': '(B=0,G=0,R=0,A=0)'},\n 'Desc_RampInverted_8x1_Corner_01_C': {'ClassName': 'Desc_RampInverted_8x1_Corner_01_C',\n  'mDisplayName': '',\n  'mDescription': '',\n  'mAbbreviatedDisplayName': '',\n  'mStackSize': 'SS_MEDIUM',\n  'mCanBeDiscarded': 'True',\n  'mRememberPickUp': 'False',\n  'mEnergyValue': '0.000000',\n  'mRadioactiveDecay': '0.000000',\n  'mForm': 'RF_INVALID',\n  'mSmallIcon': 'Texture2D /Game/FactoryGame/Buildable/Building/Ramp/UI/InvertedUp/IconDesc_FicsitInvURamp1m_256.IconDesc_FicsitInvURamp1m_256',\n  'mPersistentBigIcon': 'Texture2D /Game/FactoryGame/Buildable/Building/Ramp/UI/InvertedUp/IconDesc_FicsitInvURamp1m_512.IconDesc_FicsitInvURamp1m_512',\n  'mCrosshairMaterial': 'None',\n  'mDescriptorStatBars': '',\n  'mSubCategories': '(BlueprintGeneratedClass\\'\"/Game/FactoryGame/Interface/UI/InGame/BuildMenu/BuildCategories/Sub_Organisation/SC_Inverted.SC_Inverted_C\"\\')',\n  'mMenuPriority': '4.000000',\n  'mFluidColor': '(B=0,G=0,R=0,A=0)',\n  'mGasColor': '(B=0,G=0,R=0,A=0)',\n  'mCompatibleItemDescriptors': '',\n  'mClassToScanFor': 'None',\n  'mScannableType': 'RTWOT_Default',\n  'mShouldOverrideScannerDisplayText': 'False',\n  'mScannerDisplayText': '',\n  'mScannerLightColor': '(B=0,G=0,R=0,A=0)'},\n 'Desc_RampInverted_8x1_Corner_02_C': {'ClassName': 'Desc_RampInverted_8x1_Corner_02_C',\n  'mDisplayName': '',\n  'mDescription': '',\n  'mAbbreviatedDisplayName': '',\n  'mStackSize': 'SS_MEDIUM',\n  'mCanBeDiscarded': 'True',\n  'mRememberPickUp': 'False',\n  'mEnergyValue': '0.000000',\n  'mRadioactiveDecay': '0.000000',\n  'mForm': 'RF_INVALID',\n  'mSmallIcon': 'Texture2D /Game/FactoryGame/Buildable/Building/Ramp/UI/InvertedDown/IconDesc_FicsitInvDRamp1m_256.IconDesc_FicsitInvDRamp1m_256',\n  'mPersistentBigIcon': 'Texture2D /Game/FactoryGame/Buildable/Building/Ramp/UI/InvertedDown/IconDesc_FicsitInvDRamp1m_512.IconDesc_FicsitInvDRamp1m_512',\n  'mCrosshairMaterial': 'None',\n  'mDescriptorStatBars': '',\n  'mSubCategories': '(BlueprintGeneratedClass\\'\"/Game/FactoryGame/Interface/UI/InGame/BuildMenu/BuildCategories/Sub_Organisation/SC_Inverted.SC_Inverted_C\"\\')',\n  'mMenuPriority': '7.000000',\n  'mFluidColor': '(B=0,G=0,R=0,A=0)',\n  'mGasColor': '(B=0,G=0,R=0,A=0)',\n  'mCompatibleItemDescriptors': '',\n  'mClassToScanFor': 'None',\n  'mScannableType': 'RTWOT_Default',\n  'mShouldOverrideScannerDisplayText': 'False',\n  'mScannerDisplayText': '',\n  'mScannerLightColor': '(B=0,G=0,R=0,A=0)'},\n 'Desc_RampInverted_8x2_01_C': {'ClassName': 'Desc_RampInverted_8x2_01_C',\n  'mDisplayName': '',\n  'mDescription': '',\n  'mAbbreviatedDisplayName': '',\n  'mStackSize': 'SS_MEDIUM',\n  'mCanBeDiscarded': 'True',\n  'mRememberPickUp': 'False',\n  'mEnergyValue': '0.000000',\n  'mRadioactiveDecay': '0.000000',\n  'mForm': 'RF_INVALID',\n  'mSmallIcon': 'Texture2D /Game/FactoryGame/Buildable/Building/Ramp/UI/Inverted/IconDesc_FicsitInvertRamp2m_256.IconDesc_FicsitInvertRamp2m_256',\n  'mPersistentBigIcon': 'Texture2D /Game/FactoryGame/Buildable/Building/Ramp/UI/Inverted/IconDesc_FicsitInvertRamp2m_512.IconDesc_FicsitInvertRamp2m_512',\n  'mCrosshairMaterial': 'None',\n  'mDescriptorStatBars': '',\n  'mSubCategories': '(BlueprintGeneratedClass\\'\"/Game/FactoryGame/Interface/UI/InGame/BuildMenu/BuildCategories/Sub_Organisation/SC_Inverted.SC_Inverted_C\"\\')',\n  'mMenuPriority': '2.000000',\n  'mFluidColor': '(B=0,G=0,R=0,A=0)',\n  'mGasColor': '(B=0,G=0,R=0,A=0)',\n  'mCompatibleItemDescriptors': '',\n  'mClassToScanFor': 'None',\n  'mScannableType': 'RTWOT_Default',\n  'mShouldOverrideScannerDisplayText': 'False',\n  'mScannerDisplayText': '',\n  'mScannerLightColor': '(B=0,G=0,R=0,A=0)'},\n 'Desc_RampInverted_8x2_Corner_01_C': {'ClassName': 'Desc_RampInverted_8x2_Corner_01_C',\n  'mDisplayName': '',\n  'mDescription': '',\n  'mAbbreviatedDisplayName': '',\n  'mStackSize': 'SS_MEDIUM',\n  'mCanBeDiscarded': 'True',\n  'mRememberPickUp': 'False',\n  'mEnergyValue': '0.000000',\n  'mRadioactiveDecay': '0.000000',\n  'mForm': 'RF_INVALID',\n  'mSmallIcon': 'Texture2D /Game/FactoryGame/Buildable/Building/Ramp/UI/InvertedUp/IconDesc_FicsitInvURamp2m_256.IconDesc_FicsitInvURamp2m_256',\n  'mPersistentBigIcon': 'Texture2D /Game/FactoryGame/Buildable/Building/Ramp/UI/InvertedUp/IconDesc_FicsitInvURamp2m_512.IconDesc_FicsitInvURamp2m_512',\n  'mCrosshairMaterial': 'None',\n  'mDescriptorStatBars': '',\n  'mSubCategories': '(BlueprintGeneratedClass\\'\"/Game/FactoryGame/Interface/UI/InGame/BuildMenu/BuildCategories/Sub_Organisation/SC_Inverted.SC_Inverted_C\"\\')',\n  'mMenuPriority': '5.000000',\n  'mFluidColor': '(B=0,G=0,R=0,A=0)',\n  'mGasColor': '(B=0,G=0,R=0,A=0)',\n  'mCompatibleItemDescriptors': '',\n  'mClassToScanFor': 'None',\n  'mScannableType': 'RTWOT_Default',\n  'mShouldOverrideScannerDisplayText': 'False',\n  'mScannerDisplayText': '',\n  'mScannerLightColor': '(B=0,G=0,R=0,A=0)'},\n 'Desc_RampInverted_8x2_Corner_02_C': {'ClassName': 'Desc_RampInverted_8x2_Corner_02_C',\n  'mDisplayName': '',\n  'mDescription': '',\n  'mAbbreviatedDisplayName': '',\n  'mStackSize': 'SS_MEDIUM',\n  'mCanBeDiscarded': 'True',\n  'mRememberPickUp': 'False',\n  'mEnergyValue': '0.000000',\n  'mRadioactiveDecay': '0.000000',\n  'mForm': 'RF_INVALID',\n  'mSmallIcon': 'Texture2D /Game/FactoryGame/Buildable/Building/Ramp/UI/InvertedDown/IconDesc_FicsitInvDRamp2m_256.IconDesc_FicsitInvDRamp2m_256',\n  'mPersistentBigIcon': 'Texture2D /Game/FactoryGame/Buildable/Building/Ramp/UI/InvertedDown/IconDesc_FicsitInvDRamp2m_512.IconDesc_FicsitInvDRamp2m_512',\n  'mCrosshairMaterial': 'None',\n  'mDescriptorStatBars': '',\n  'mSubCategories': '(BlueprintGeneratedClass\\'\"/Game/FactoryGame/Interface/UI/InGame/BuildMenu/BuildCategories/Sub_Organisation/SC_Inverted.SC_Inverted_C\"\\')',\n  'mMenuPriority': '8.000000',\n  'mFluidColor': '(B=0,G=0,R=0,A=0)',\n  'mGasColor': '(B=0,G=0,R=0,A=0)',\n  'mCompatibleItemDescriptors': '',\n  'mClassToScanFor': 'None',\n  'mScannableType': 'RTWOT_Default',\n  'mShouldOverrideScannerDisplayText': 'False',\n  'mScannerDisplayText': '',\n  'mScannerLightColor': '(B=0,G=0,R=0,A=0)'},\n 'Desc_RampInverted_8x4_Corner_01_C': {'ClassName': 'Desc_RampInverted_8x4_Corner_01_C',\n  'mDisplayName': '',\n  'mDescription': '',\n  'mAbbreviatedDisplayName': '',\n  'mStackSize': 'SS_MEDIUM',\n  'mCanBeDiscarded': 'True',\n  'mRememberPickUp': 'False',\n  'mEnergyValue': '0.000000',\n  'mRadioactiveDecay': '0.000000',\n  'mForm': 'RF_INVALID',\n  'mSmallIcon': 'Texture2D /Game/FactoryGame/Buildable/Building/Ramp/UI/InvertedUp/IconDesc_FicsitInvURamp4m_256.IconDesc_FicsitInvURamp4m_256',\n  'mPersistentBigIcon': 'Texture2D /Game/FactoryGame/Buildable/Building/Ramp/UI/InvertedUp/IconDesc_FicsitInvURamp4m_512.IconDesc_FicsitInvURamp4m_512',\n  'mCrosshairMaterial': 'None',\n  'mDescriptorStatBars': '',\n  'mSubCategories': '(BlueprintGeneratedClass\\'\"/Game/FactoryGame/Interface/UI/InGame/BuildMenu/BuildCategories/Sub_Organisation/SC_Inverted.SC_Inverted_C\"\\')',\n  'mMenuPriority': '6.000000',\n  'mFluidColor': '(B=0,G=0,R=0,A=0)',\n  'mGasColor': '(B=0,G=0,R=0,A=0)',\n  'mCompatibleItemDescriptors': '',\n  'mClassToScanFor': 'None',\n  'mScannableType': 'RTWOT_Default',\n  'mShouldOverrideScannerDisplayText': 'False',\n  'mScannerDisplayText': '',\n  'mScannerLightColor': '(B=0,G=0,R=0,A=0)'},\n 'Desc_RampInverted_8x4_Corner_02_C': {'ClassName': 'Desc_RampInverted_8x4_Corner_02_C',\n  'mDisplayName': '',\n  'mDescription': '',\n  'mAbbreviatedDisplayName': '',\n  'mStackSize': 'SS_MEDIUM',\n  'mCanBeDiscarded': 'True',\n  'mRememberPickUp': 'False',\n  'mEnergyValue': '0.000000',\n  'mRadioactiveDecay': '0.000000',\n  'mForm': 'RF_INVALID',\n  'mSmallIcon': 'Texture2D /Game/FactoryGame/Buildable/Building/Ramp/UI/InvertedDown/IconDesc_FicsitInvDRamp4m_256.IconDesc_FicsitInvDRamp4m_256',\n  'mPersistentBigIcon': 'Texture2D /Game/FactoryGame/Buildable/Building/Ramp/UI/InvertedDown/IconDesc_FicsitInvDRamp4m_512.IconDesc_FicsitInvDRamp4m_512',\n  'mCrosshairMaterial': 'None',\n  'mDescriptorStatBars': '',\n  'mSubCategories': '(BlueprintGeneratedClass\\'\"/Game/FactoryGame/Interface/UI/InGame/BuildMenu/BuildCategories/Sub_Organisation/SC_Inverted.SC_Inverted_C\"\\')',\n  'mMenuPriority': '9.000000',\n  'mFluidColor': '(B=0,G=0,R=0,A=0)',\n  'mGasColor': '(B=0,G=0,R=0,A=0)',\n  'mCompatibleItemDescriptors': '',\n  'mClassToScanFor': 'None',\n  'mScannableType': 'RTWOT_Default',\n  'mShouldOverrideScannerDisplayText': 'False',\n  'mScannerDisplayText': '',\n  'mScannerLightColor': '(B=0,G=0,R=0,A=0)'},\n 'Desc_LookoutTower_C': {'ClassName': 'Desc_LookoutTower_C',\n  'mDisplayName': '',\n  'mDescription': '',\n  'mAbbreviatedDisplayName': '',\n  'mStackSize': 'SS_MEDIUM',\n  'mCanBeDiscarded': 'True',\n  'mRememberPickUp': 'False',\n  'mEnergyValue': '0.000000',\n  'mRadioactiveDecay': '0.000000',\n  'mForm': 'RF_INVALID',\n  'mSmallIcon': 'Texture2D /Game/FactoryGame/Buildable/Factory/LookoutTower/UI/LookOutTower_256.LookOutTower_256',\n  'mPersistentBigIcon': 'Texture2D /Game/FactoryGame/Buildable/Factory/LookoutTower/UI/LookOutTower_512.LookOutTower_512',\n  'mCrosshairMaterial': 'None',\n  'mDescriptorStatBars': '',\n  'mSubCategories': '(BlueprintGeneratedClass\\'\"/Game/FactoryGame/Interface/UI/InGame/BuildMenu/BuildCategories/Sub_Organisation/SC_Towers.SC_Towers_C\"\\')',\n  'mMenuPriority': '0.000000',\n  'mFluidColor': '(B=0,G=0,R=0,A=0)',\n  'mGasColor': '(B=0,G=0,R=0,A=0)',\n  'mCompatibleItemDescriptors': '',\n  'mClassToScanFor': 'None',\n  'mScannableType': 'RTWOT_Default',\n  'mShouldOverrideScannerDisplayText': 'False',\n  'mScannerDisplayText': '',\n  'mScannerLightColor': '(B=0,G=0,R=0,A=0)'},\n 'Desc_DownQuarterPipe_Asphalt_8x4_C': {'ClassName': 'Desc_DownQuarterPipe_Asphalt_8x4_C',\n  'mDisplayName': '',\n  'mDescription': '',\n  'mAbbreviatedDisplayName': '',\n  'mStackSize': 'SS_MEDIUM',\n  'mCanBeDiscarded': 'True',\n  'mRememberPickUp': 'False',\n  'mEnergyValue': '0.000000',\n  'mRadioactiveDecay': '0.000000',\n  'mForm': 'RF_INVALID',\n  'mSmallIcon': 'Texture2D /Game/FactoryGame/Buildable/Building/Foundation/UI/QuarterPipe/IconDesc_QP_Asphalt_Down_8x4_256.IconDesc_QP_Asphalt_Down_8x4_256',\n  'mPersistentBigIcon': 'Texture2D /Game/FactoryGame/Buildable/Building/Foundation/UI/QuarterPipe/IconDesc_QP_Asphalt_Down_8x4_512.IconDesc_QP_Asphalt_Down_8x4_512',\n  'mCrosshairMaterial': 'None',\n  'mDescriptorStatBars': '',\n  'mSubCategories': '(BlueprintGeneratedClass\\'\"/Game/FactoryGame/Interface/UI/InGame/BuildMenu/BuildCategories/Sub_Organisation/SC_QuatPipes.SC_QuatPipes_C\"\\')',\n  'mMenuPriority': '50.000000',\n  'mFluidColor': '(B=0,G=0,R=0,A=0)',\n  'mGasColor': '(B=0,G=0,R=0,A=0)',\n  'mCompatibleItemDescriptors': '',\n  'mClassToScanFor': 'None',\n  'mScannableType': 'RTWOT_Default',\n  'mShouldOverrideScannerDisplayText': 'False',\n  'mScannerDisplayText': '',\n  'mScannerLightColor': '(B=0,G=0,R=0,A=0)'},\n 'Desc_DownQuarterPipeInCorner_Asphalt_8x4_C': {'ClassName': 'Desc_DownQuarterPipeInCorner_Asphalt_8x4_C',\n  'mDisplayName': '',\n  'mDescription': '',\n  'mAbbreviatedDisplayName': '',\n  'mStackSize': 'SS_MEDIUM',\n  'mCanBeDiscarded': 'True',\n  'mRememberPickUp': 'False',\n  'mEnergyValue': '0.000000',\n  'mRadioactiveDecay': '0.000000',\n  'mForm': 'RF_INVALID',\n  'mSmallIcon': 'Texture2D /Game/FactoryGame/Buildable/Building/Foundation/UI/QuarterPipe/IconDesc_QP_Asphalt_DownInCorner_8x4_256.IconDesc_QP_Asphalt_DownInCorner_8x4_256',\n  'mPersistentBigIcon': 'Texture2D /Game/FactoryGame/Buildable/Building/Foundation/UI/QuarterPipe/IconDesc_QP_Asphalt_DownInCorner_8x4_512.IconDesc_QP_Asphalt_DownInCorner_8x4_512',\n  'mCrosshairMaterial': 'None',\n  'mDescriptorStatBars': '',\n  'mSubCategories': '(BlueprintGeneratedClass\\'\"/Game/FactoryGame/Interface/UI/InGame/BuildMenu/BuildCategories/Sub_Organisation/SC_QuatPipes.SC_QuatPipes_C\"\\')',\n  'mMenuPriority': '52.000000',\n  'mFluidColor': '(B=0,G=0,R=0,A=0)',\n  'mGasColor': '(B=0,G=0,R=0,A=0)',\n  'mCompatibleItemDescriptors': '',\n  'mClassToScanFor': 'None',\n  'mScannableType': 'RTWOT_Default',\n  'mShouldOverrideScannerDisplayText': 'False',\n  'mScannerDisplayText': '',\n  'mScannerLightColor': '(B=0,G=0,R=0,A=0)'},\n 'Desc_DownQuarterPipeOutCorner_Asphalt_8x4_C': {'ClassName': 'Desc_DownQuarterPipeOutCorner_Asphalt_8x4_C',\n  'mDisplayName': '',\n  'mDescription': '',\n  'mAbbreviatedDisplayName': '',\n  'mStackSize': 'SS_MEDIUM',\n  'mCanBeDiscarded': 'True',\n  'mRememberPickUp': 'False',\n  'mEnergyValue': '0.000000',\n  'mRadioactiveDecay': '0.000000',\n  'mForm': 'RF_INVALID',\n  'mSmallIcon': 'Texture2D /Game/FactoryGame/Buildable/Building/Foundation/UI/QuarterPipe/IconDesc_QP_Asphalt_DownOutCorner_8x4_256.IconDesc_QP_Asphalt_DownOutCorner_8x4_256',\n  'mPersistentBigIcon': 'Texture2D /Game/FactoryGame/Buildable/Building/Foundation/UI/QuarterPipe/IconDesc_QP_Asphalt_DownOutCorner_8x4_512.IconDesc_QP_Asphalt_DownOutCorner_8x4_512',\n  'mCrosshairMaterial': 'None',\n  'mDescriptorStatBars': '',\n  'mSubCategories': '(BlueprintGeneratedClass\\'\"/Game/FactoryGame/Interface/UI/InGame/BuildMenu/BuildCategories/Sub_Organisation/SC_QuatPipes.SC_QuatPipes_C\"\\')',\n  'mMenuPriority': '54.000000',\n  'mFluidColor': '(B=0,G=0,R=0,A=0)',\n  'mGasColor': '(B=0,G=0,R=0,A=0)',\n  'mCompatibleItemDescriptors': '',\n  'mClassToScanFor': 'None',\n  'mScannableType': 'RTWOT_Default',\n  'mShouldOverrideScannerDisplayText': 'False',\n  'mScannerDisplayText': '',\n  'mScannerLightColor': '(B=0,G=0,R=0,A=0)'},\n 'Desc_Foundation_Asphalt_8x1_C': {'ClassName': 'Desc_Foundation_Asphalt_8x1_C',\n  'mDisplayName': '',\n  'mDescription': '',\n  'mAbbreviatedDisplayName': '',\n  'mStackSize': 'SS_MEDIUM',\n  'mCanBeDiscarded': 'True',\n  'mRememberPickUp': 'False',\n  'mEnergyValue': '0.000000',\n  'mRadioactiveDecay': '0.000000',\n  'mForm': 'RF_INVALID',\n  'mSmallIcon': 'Texture2D /Game/FactoryGame/Buildable/Building/Foundation/AsphaltSet/UI/IconDesc_AsphaltFoundation8x1_256.IconDesc_AsphaltFoundation8x1_256',\n  'mPersistentBigIcon': 'Texture2D /Game/FactoryGame/Buildable/Building/Foundation/AsphaltSet/UI/IconDesc_AsphaltFoundation8x1_512.IconDesc_AsphaltFoundation8x1_512',\n  'mCrosshairMaterial': 'None',\n  'mDescriptorStatBars': '',\n  'mSubCategories': '(BlueprintGeneratedClass\\'\"/Game/FactoryGame/Interface/UI/InGame/BuildMenu/BuildCategories/Sub_Organisation/SC_Floors.SC_Floors_C\"\\')',\n  'mMenuPriority': '25.000000',\n  'mFluidColor': '(B=0,G=0,R=0,A=0)',\n  'mGasColor': '(B=0,G=0,R=0,A=0)',\n  'mCompatibleItemDescriptors': '',\n  'mClassToScanFor': 'None',\n  'mScannableType': 'RTWOT_Default',\n  'mShouldOverrideScannerDisplayText': 'False',\n  'mScannerDisplayText': '',\n  'mScannerLightColor': '(B=0,G=0,R=0,A=0)'},\n 'Desc_Foundation_Asphalt_8x2_C': {'ClassName': 'Desc_Foundation_Asphalt_8x2_C',\n  'mDisplayName': '',\n  'mDescription': '',\n  'mAbbreviatedDisplayName': '',\n  'mStackSize': 'SS_MEDIUM',\n  'mCanBeDiscarded': 'True',\n  'mRememberPickUp': 'False',\n  'mEnergyValue': '0.000000',\n  'mRadioactiveDecay': '0.000000',\n  'mForm': 'RF_INVALID',\n  'mSmallIcon': 'Texture2D /Game/FactoryGame/Buildable/Building/Foundation/AsphaltSet/UI/IconDesc_AsphaltFoundation8x2_256.IconDesc_AsphaltFoundation8x2_256',\n  'mPersistentBigIcon': 'Texture2D /Game/FactoryGame/Buildable/Building/Foundation/AsphaltSet/UI/IconDesc_AsphaltFoundation8x2_512.IconDesc_AsphaltFoundation8x2_512',\n  'mCrosshairMaterial': 'None',\n  'mDescriptorStatBars': '',\n  'mSubCategories': '(BlueprintGeneratedClass\\'\"/Game/FactoryGame/Interface/UI/InGame/BuildMenu/BuildCategories/Sub_Organisation/SC_Floors.SC_Floors_C\"\\')',\n  'mMenuPriority': '26.000000',\n  'mFluidColor': '(B=0,G=0,R=0,A=0)',\n  'mGasColor': '(B=0,G=0,R=0,A=0)',\n  'mCompatibleItemDescriptors': '',\n  'mClassToScanFor': 'None',\n  'mScannableType': 'RTWOT_Default',\n  'mShouldOverrideScannerDisplayText': 'False',\n  'mScannerDisplayText': '',\n  'mScannerLightColor': '(B=0,G=0,R=0,A=0)'},\n 'Desc_Foundation_Asphalt_8x4_C': {'ClassName': 'Desc_Foundation_Asphalt_8x4_C',\n  'mDisplayName': '',\n  'mDescription': '',\n  'mAbbreviatedDisplayName': '',\n  'mStackSize': 'SS_MEDIUM',\n  'mCanBeDiscarded': 'True',\n  'mRememberPickUp': 'False',\n  'mEnergyValue': '0.000000',\n  'mRadioactiveDecay': '0.000000',\n  'mForm': 'RF_INVALID',\n  'mSmallIcon': 'Texture2D /Game/FactoryGame/Buildable/Building/Foundation/AsphaltSet/UI/IconDesc_AsphaltFoundation8x4_256.IconDesc_AsphaltFoundation8x4_256',\n  'mPersistentBigIcon': 'Texture2D /Game/FactoryGame/Buildable/Building/Foundation/AsphaltSet/UI/IconDesc_AsphaltFoundation8x4_512.IconDesc_AsphaltFoundation8x4_512',\n  'mCrosshairMaterial': 'None',\n  'mDescriptorStatBars': '',\n  'mSubCategories': '(BlueprintGeneratedClass\\'\"/Game/FactoryGame/Interface/UI/InGame/BuildMenu/BuildCategories/Sub_Organisation/SC_Floors.SC_Floors_C\"\\')',\n  'mMenuPriority': '27.000000',\n  'mFluidColor': '(B=0,G=0,R=0,A=0)',\n  'mGasColor': '(B=0,G=0,R=0,A=0)',\n  'mCompatibleItemDescriptors': '',\n  'mClassToScanFor': 'None',\n  'mScannableType': 'RTWOT_Default',\n  'mShouldOverrideScannerDisplayText': 'False',\n  'mScannerDisplayText': '',\n  'mScannerLightColor': '(B=0,G=0,R=0,A=0)'},\n 'Desc_InvertedRamp_Asphalt_8x1_C': {'ClassName': 'Desc_InvertedRamp_Asphalt_8x1_C',\n  'mDisplayName': '',\n  'mDescription': '',\n  'mAbbreviatedDisplayName': '',\n  'mStackSize': 'SS_MEDIUM',\n  'mCanBeDiscarded': 'True',\n  'mRememberPickUp': 'False',\n  'mEnergyValue': '0.000000',\n  'mRadioactiveDecay': '0.000000',\n  'mForm': 'RF_INVALID',\n  'mSmallIcon': 'Texture2D /Game/FactoryGame/Buildable/Building/Foundation/AsphaltSet/UI/IconDesc_AsphaltInvertR8x1_256.IconDesc_AsphaltInvertR8x1_256',\n  'mPersistentBigIcon': 'Texture2D /Game/FactoryGame/Buildable/Building/Foundation/AsphaltSet/UI/IconDesc_AsphaltInvertR8x1_512.IconDesc_AsphaltInvertR8x1_512',\n  'mCrosshairMaterial': 'None',\n  'mDescriptorStatBars': '',\n  'mSubCategories': '(BlueprintGeneratedClass\\'\"/Game/FactoryGame/Interface/UI/InGame/BuildMenu/BuildCategories/Sub_Organisation/SC_Inverted.SC_Inverted_C\"\\')',\n  'mMenuPriority': '37.000000',\n  'mFluidColor': '(B=0,G=0,R=0,A=0)',\n  'mGasColor': '(B=0,G=0,R=0,A=0)',\n  'mCompatibleItemDescriptors': '',\n  'mClassToScanFor': 'None',\n  'mScannableType': 'RTWOT_Default',\n  'mShouldOverrideScannerDisplayText': 'False',\n  'mScannerDisplayText': '',\n  'mScannerLightColor': '(B=0,G=0,R=0,A=0)'},\n 'Desc_InvertedRamp_Asphalt_8x2_C': {'ClassName': 'Desc_InvertedRamp_Asphalt_8x2_C',\n  'mDisplayName': '',\n  'mDescription': '',\n  'mAbbreviatedDisplayName': '',\n  'mStackSize': 'SS_MEDIUM',\n  'mCanBeDiscarded': 'True',\n  'mRememberPickUp': 'False',\n  'mEnergyValue': '0.000000',\n  'mRadioactiveDecay': '0.000000',\n  'mForm': 'RF_INVALID',\n  'mSmallIcon': 'Texture2D /Game/FactoryGame/Buildable/Building/Foundation/AsphaltSet/UI/IconDesc_AsphaltInvertR8x2_256.IconDesc_AsphaltInvertR8x2_256',\n  'mPersistentBigIcon': 'Texture2D /Game/FactoryGame/Buildable/Building/Foundation/AsphaltSet/UI/IconDesc_AsphaltInvertR8x2_512.IconDesc_AsphaltInvertR8x2_512',\n  'mCrosshairMaterial': 'None',\n  'mDescriptorStatBars': '',\n  'mSubCategories': '(BlueprintGeneratedClass\\'\"/Game/FactoryGame/Interface/UI/InGame/BuildMenu/BuildCategories/Sub_Organisation/SC_Inverted.SC_Inverted_C\"\\')',\n  'mMenuPriority': '38.000000',\n  'mFluidColor': '(B=0,G=0,R=0,A=0)',\n  'mGasColor': '(B=0,G=0,R=0,A=0)',\n  'mCompatibleItemDescriptors': '',\n  'mClassToScanFor': 'None',\n  'mScannableType': 'RTWOT_Default',\n  'mShouldOverrideScannerDisplayText': 'False',\n  'mScannerDisplayText': '',\n  'mScannerLightColor': '(B=0,G=0,R=0,A=0)'},\n 'Desc_InvertedRamp_Asphalt_8x4_C': {'ClassName': 'Desc_InvertedRamp_Asphalt_8x4_C',\n  'mDisplayName': '',\n  'mDescription': '',\n  'mAbbreviatedDisplayName': '',\n  'mStackSize': 'SS_MEDIUM',\n  'mCanBeDiscarded': 'True',\n  'mRememberPickUp': 'False',\n  'mEnergyValue': '0.000000',\n  'mRadioactiveDecay': '0.000000',\n  'mForm': 'RF_INVALID',\n  'mSmallIcon': 'Texture2D /Game/FactoryGame/Buildable/Building/Foundation/AsphaltSet/UI/IconDesc_AsphaltInvertR8x4_256.IconDesc_AsphaltInvertR8x4_256',\n  'mPersistentBigIcon': 'Texture2D /Game/FactoryGame/Buildable/Building/Foundation/AsphaltSet/UI/IconDesc_AsphaltInvertR8x4_512.IconDesc_AsphaltInvertR8x4_512',\n  'mCrosshairMaterial': 'None',\n  'mDescriptorStatBars': '',\n  'mSubCategories': '(BlueprintGeneratedClass\\'\"/Game/FactoryGame/Interface/UI/InGame/BuildMenu/BuildCategories/Sub_Organisation/SC_Inverted.SC_Inverted_C\"\\')',\n  'mMenuPriority': '39.000000',\n  'mFluidColor': '(B=0,G=0,R=0,A=0)',\n  'mGasColor': '(B=0,G=0,R=0,A=0)',\n  'mCompatibleItemDescriptors': '',\n  'mClassToScanFor': 'None',\n  'mScannableType': 'RTWOT_Default',\n  'mShouldOverrideScannerDisplayText': 'False',\n  'mScannerDisplayText': '',\n  'mScannerLightColor': '(B=0,G=0,R=0,A=0)'},\n 'Desc_InvertedRamp_DCorner_Asphalt_8x1_C': {'ClassName': 'Desc_InvertedRamp_DCorner_Asphalt_8x1_C',\n  'mDisplayName': '',\n  'mDescription': '',\n  'mAbbreviatedDisplayName': '',\n  'mStackSize': 'SS_MEDIUM',\n  'mCanBeDiscarded': 'True',\n  'mRememberPickUp': 'False',\n  'mEnergyValue': '0.000000',\n  'mRadioactiveDecay': '0.000000',\n  'mForm': 'RF_INVALID',\n  'mSmallIcon': 'Texture2D /Game/FactoryGame/Buildable/Building/Foundation/AsphaltSet/UI/IconDesc_AsphaltInvertD8x1_256.IconDesc_AsphaltInvertD8x1_256',\n  'mPersistentBigIcon': 'Texture2D /Game/FactoryGame/Buildable/Building/Foundation/AsphaltSet/UI/IconDesc_AsphaltInvertD8x1_512.IconDesc_AsphaltInvertD8x1_512',\n  'mCrosshairMaterial': 'None',\n  'mDescriptorStatBars': '',\n  'mSubCategories': '(BlueprintGeneratedClass\\'\"/Game/FactoryGame/Interface/UI/InGame/BuildMenu/BuildCategories/Sub_Organisation/SC_Inverted.SC_Inverted_C\"\\')',\n  'mMenuPriority': '43.000000',\n  'mFluidColor': '(B=0,G=0,R=0,A=0)',\n  'mGasColor': '(B=0,G=0,R=0,A=0)',\n  'mCompatibleItemDescriptors': '',\n  'mClassToScanFor': 'None',\n  'mScannableType': 'RTWOT_Default',\n  'mShouldOverrideScannerDisplayText': 'False',\n  'mScannerDisplayText': '',\n  'mScannerLightColor': '(B=0,G=0,R=0,A=0)'},\n 'Desc_InvertedRamp_DCorner_Asphalt_8x2_C': {'ClassName': 'Desc_InvertedRamp_DCorner_Asphalt_8x2_C',\n  'mDisplayName': '',\n  'mDescription': '',\n  'mAbbreviatedDisplayName': '',\n  'mStackSize': 'SS_MEDIUM',\n  'mCanBeDiscarded': 'True',\n  'mRememberPickUp': 'False',\n  'mEnergyValue': '0.000000',\n  'mRadioactiveDecay': '0.000000',\n  'mForm': 'RF_INVALID',\n  'mSmallIcon': 'Texture2D /Game/FactoryGame/Buildable/Building/Foundation/AsphaltSet/UI/IconDesc_AsphaltInvertD8x2_256.IconDesc_AsphaltInvertD8x2_256',\n  'mPersistentBigIcon': 'Texture2D /Game/FactoryGame/Buildable/Building/Foundation/AsphaltSet/UI/IconDesc_AsphaltInvertD8x2_512.IconDesc_AsphaltInvertD8x2_512',\n  'mCrosshairMaterial': 'None',\n  'mDescriptorStatBars': '',\n  'mSubCategories': '(BlueprintGeneratedClass\\'\"/Game/FactoryGame/Interface/UI/InGame/BuildMenu/BuildCategories/Sub_Organisation/SC_Inverted.SC_Inverted_C\"\\')',\n  'mMenuPriority': '44.000000',\n  'mFluidColor': '(B=0,G=0,R=0,A=0)',\n  'mGasColor': '(B=0,G=0,R=0,A=0)',\n  'mCompatibleItemDescriptors': '',\n  'mClassToScanFor': 'None',\n  'mScannableType': 'RTWOT_Default',\n  'mShouldOverrideScannerDisplayText': 'False',\n  'mScannerDisplayText': '',\n  'mScannerLightColor': '(B=0,G=0,R=0,A=0)'},\n 'Desc_InvertedRamp_DCorner_Asphalt_8x4_C': {'ClassName': 'Desc_InvertedRamp_DCorner_Asphalt_8x4_C',\n  'mDisplayName': '',\n  'mDescription': '',\n  'mAbbreviatedDisplayName': '',\n  'mStackSize': 'SS_MEDIUM',\n  'mCanBeDiscarded': 'True',\n  'mRememberPickUp': 'False',\n  'mEnergyValue': '0.000000',\n  'mRadioactiveDecay': '0.000000',\n  'mForm': 'RF_INVALID',\n  'mSmallIcon': 'Texture2D /Game/FactoryGame/Buildable/Building/Foundation/AsphaltSet/UI/IconDesc_AspahltInvertD8x4_256.IconDesc_AspahltInvertD8x4_256',\n  'mPersistentBigIcon': 'Texture2D /Game/FactoryGame/Buildable/Building/Foundation/AsphaltSet/UI/IconDesc_AspahltInvertD8x4_512.IconDesc_AspahltInvertD8x4_512',\n  'mCrosshairMaterial': 'None',\n  'mDescriptorStatBars': '',\n  'mSubCategories': '(BlueprintGeneratedClass\\'\"/Game/FactoryGame/Interface/UI/InGame/BuildMenu/BuildCategories/Sub_Organisation/SC_Inverted.SC_Inverted_C\"\\')',\n  'mMenuPriority': '45.000000',\n  'mFluidColor': '(B=0,G=0,R=0,A=0)',\n  'mGasColor': '(B=0,G=0,R=0,A=0)',\n  'mCompatibleItemDescriptors': '',\n  'mClassToScanFor': 'None',\n  'mScannableType': 'RTWOT_Default',\n  'mShouldOverrideScannerDisplayText': 'False',\n  'mScannerDisplayText': '',\n  'mScannerLightColor': '(B=0,G=0,R=0,A=0)'},\n 'Desc_InvertedRamp_UCorner_Asphalt_8x1_C': {'ClassName': 'Desc_InvertedRamp_UCorner_Asphalt_8x1_C',\n  'mDisplayName': '',\n  'mDescription': '',\n  'mAbbreviatedDisplayName': '',\n  'mStackSize': 'SS_MEDIUM',\n  'mCanBeDiscarded': 'True',\n  'mRememberPickUp': 'False',\n  'mEnergyValue': '0.000000',\n  'mRadioactiveDecay': '0.000000',\n  'mForm': 'RF_INVALID',\n  'mSmallIcon': 'Texture2D /Game/FactoryGame/Buildable/Building/Foundation/AsphaltSet/UI/IconDesc_AsphaltInvertU8x1_256.IconDesc_AsphaltInvertU8x1_256',\n  'mPersistentBigIcon': 'Texture2D /Game/FactoryGame/Buildable/Building/Foundation/AsphaltSet/UI/IconDesc_AsphaltInvertU8x1_512.IconDesc_AsphaltInvertU8x1_512',\n  'mCrosshairMaterial': 'None',\n  'mDescriptorStatBars': '',\n  'mSubCategories': '(BlueprintGeneratedClass\\'\"/Game/FactoryGame/Interface/UI/InGame/BuildMenu/BuildCategories/Sub_Organisation/SC_Inverted.SC_Inverted_C\"\\')',\n  'mMenuPriority': '40.000000',\n  'mFluidColor': '(B=0,G=0,R=0,A=0)',\n  'mGasColor': '(B=0,G=0,R=0,A=0)',\n  'mCompatibleItemDescriptors': '',\n  'mClassToScanFor': 'None',\n  'mScannableType': 'RTWOT_Default',\n  'mShouldOverrideScannerDisplayText': 'False',\n  'mScannerDisplayText': '',\n  'mScannerLightColor': '(B=0,G=0,R=0,A=0)'},\n 'Desc_InvertedRamp_UCorner_Asphalt_8x2_C': {'ClassName': 'Desc_InvertedRamp_UCorner_Asphalt_8x2_C',\n  'mDisplayName': '',\n  'mDescription': '',\n  'mAbbreviatedDisplayName': '',\n  'mStackSize': 'SS_MEDIUM',\n  'mCanBeDiscarded': 'True',\n  'mRememberPickUp': 'False',\n  'mEnergyValue': '0.000000',\n  'mRadioactiveDecay': '0.000000',\n  'mForm': 'RF_INVALID',\n  'mSmallIcon': 'Texture2D /Game/FactoryGame/Buildable/Building/Foundation/AsphaltSet/UI/IconDesc_AsphaltInvertU8x2_256.IconDesc_AsphaltInvertU8x2_256',\n  'mPersistentBigIcon': 'Texture2D /Game/FactoryGame/Buildable/Building/Foundation/AsphaltSet/UI/IconDesc_AsphaltInvertU8x2_512.IconDesc_AsphaltInvertU8x2_512',\n  'mCrosshairMaterial': 'None',\n  'mDescriptorStatBars': '',\n  'mSubCategories': '(BlueprintGeneratedClass\\'\"/Game/FactoryGame/Interface/UI/InGame/BuildMenu/BuildCategories/Sub_Organisation/SC_Inverted.SC_Inverted_C\"\\')',\n  'mMenuPriority': '41.000000',\n  'mFluidColor': '(B=0,G=0,R=0,A=0)',\n  'mGasColor': '(B=0,G=0,R=0,A=0)',\n  'mCompatibleItemDescriptors': '',\n  'mClassToScanFor': 'None',\n  'mScannableType': 'RTWOT_Default',\n  'mShouldOverrideScannerDisplayText': 'False',\n  'mScannerDisplayText': '',\n  'mScannerLightColor': '(B=0,G=0,R=0,A=0)'},\n 'Desc_InvertedRamp_UCorner_Asphalt_8x4_C': {'ClassName': 'Desc_InvertedRamp_UCorner_Asphalt_8x4_C',\n  'mDisplayName': '',\n  'mDescription': '',\n  'mAbbreviatedDisplayName': '',\n  'mStackSize': 'SS_MEDIUM',\n  'mCanBeDiscarded': 'True',\n  'mRememberPickUp': 'False',\n  'mEnergyValue': '0.000000',\n  'mRadioactiveDecay': '0.000000',\n  'mForm': 'RF_INVALID',\n  'mSmallIcon': 'Texture2D /Game/FactoryGame/Buildable/Building/Foundation/AsphaltSet/UI/IconDesc_AsphaltInvertU8x4_256.IconDesc_AsphaltInvertU8x4_256',\n  'mPersistentBigIcon': 'Texture2D /Game/FactoryGame/Buildable/Building/Foundation/AsphaltSet/UI/IconDesc_AsphaltInvertU8x4_512.IconDesc_AsphaltInvertU8x4_512',\n  'mCrosshairMaterial': 'None',\n  'mDescriptorStatBars': '',\n  'mSubCategories': '(BlueprintGeneratedClass\\'\"/Game/FactoryGame/Interface/UI/InGame/BuildMenu/BuildCategories/Sub_Organisation/SC_Inverted.SC_Inverted_C\"\\')',\n  'mMenuPriority': '42.000000',\n  'mFluidColor': '(B=0,G=0,R=0,A=0)',\n  'mGasColor': '(B=0,G=0,R=0,A=0)',\n  'mCompatibleItemDescriptors': '',\n  'mClassToScanFor': 'None',\n  'mScannableType': 'RTWOT_Default',\n  'mShouldOverrideScannerDisplayText': 'False',\n  'mScannerDisplayText': '',\n  'mScannerLightColor': '(B=0,G=0,R=0,A=0)'},\n 'Desc_QuarterPipe_Asphalt_8x4_C': {'ClassName': 'Desc_QuarterPipe_Asphalt_8x4_C',\n  'mDisplayName': '',\n  'mDescription': '',\n  'mAbbreviatedDisplayName': '',\n  'mStackSize': 'SS_MEDIUM',\n  'mCanBeDiscarded': 'True',\n  'mRememberPickUp': 'False',\n  'mEnergyValue': '0.000000',\n  'mRadioactiveDecay': '0.000000',\n  'mForm': 'RF_INVALID',\n  'mSmallIcon': 'Texture2D /Game/FactoryGame/Buildable/Building/Foundation/UI/QuarterPipe/IconDesc_QP_Asphalt_8x4_256.IconDesc_QP_Asphalt_8x4_256',\n  'mPersistentBigIcon': 'Texture2D /Game/FactoryGame/Buildable/Building/Foundation/UI/QuarterPipe/IconDesc_QP_Asphalt_8x4_512.IconDesc_QP_Asphalt_8x4_512',\n  'mCrosshairMaterial': 'None',\n  'mDescriptorStatBars': '',\n  'mSubCategories': '(BlueprintGeneratedClass\\'\"/Game/FactoryGame/Interface/UI/InGame/BuildMenu/BuildCategories/Sub_Organisation/SC_QuatPipes.SC_QuatPipes_C\"\\')',\n  'mMenuPriority': '49.000000',\n  'mFluidColor': '(B=0,G=0,R=0,A=0)',\n  'mGasColor': '(B=0,G=0,R=0,A=0)',\n  'mCompatibleItemDescriptors': '',\n  'mClassToScanFor': 'None',\n  'mScannableType': 'RTWOT_Default',\n  'mShouldOverrideScannerDisplayText': 'False',\n  'mScannerDisplayText': '',\n  'mScannerLightColor': '(B=0,G=0,R=0,A=0)'},\n 'Desc_QuarterPipeInCorner_Asphalt_8x4_C': {'ClassName': 'Desc_QuarterPipeInCorner_Asphalt_8x4_C',\n  'mDisplayName': '',\n  'mDescription': '',\n  'mAbbreviatedDisplayName': '',\n  'mStackSize': 'SS_MEDIUM',\n  'mCanBeDiscarded': 'True',\n  'mRememberPickUp': 'False',\n  'mEnergyValue': '0.000000',\n  'mRadioactiveDecay': '0.000000',\n  'mForm': 'RF_INVALID',\n  'mSmallIcon': 'Texture2D /Game/FactoryGame/Buildable/Building/Foundation/UI/QuarterPipe/IconDesc_QP_Asphalt_InCorner_8x4_256.IconDesc_QP_Asphalt_InCorner_8x4_256',\n  'mPersistentBigIcon': 'Texture2D /Game/FactoryGame/Buildable/Building/Foundation/UI/QuarterPipe/IconDesc_QP_Asphalt_InCorner_8x4_512.IconDesc_QP_Asphalt_InCorner_8x4_512',\n  'mCrosshairMaterial': 'None',\n  'mDescriptorStatBars': '',\n  'mSubCategories': '(BlueprintGeneratedClass\\'\"/Game/FactoryGame/Interface/UI/InGame/BuildMenu/BuildCategories/Sub_Organisation/SC_QuatPipes.SC_QuatPipes_C\"\\')',\n  'mMenuPriority': '51.000000',\n  'mFluidColor': '(B=0,G=0,R=0,A=0)',\n  'mGasColor': '(B=0,G=0,R=0,A=0)',\n  'mCompatibleItemDescriptors': '',\n  'mClassToScanFor': 'None',\n  'mScannableType': 'RTWOT_Default',\n  'mShouldOverrideScannerDisplayText': 'False',\n  'mScannerDisplayText': '',\n  'mScannerLightColor': '(B=0,G=0,R=0,A=0)'},\n 'Desc_QuarterPipeMiddle_Asphalt_8x1_C': {'ClassName': 'Desc_QuarterPipeMiddle_Asphalt_8x1_C',\n  'mDisplayName': '',\n  'mDescription': '',\n  'mAbbreviatedDisplayName': '',\n  'mStackSize': 'SS_MEDIUM',\n  'mCanBeDiscarded': 'True',\n  'mRememberPickUp': 'False',\n  'mEnergyValue': '0.000000',\n  'mRadioactiveDecay': '0.000000',\n  'mForm': 'RF_INVALID',\n  'mSmallIcon': 'Texture2D /Game/FactoryGame/Buildable/Building/Foundation/UI/QuarterPipe/IconDesc_QP_Asphalt_Mid_8x1_256.IconDesc_QP_Asphalt_Mid_8x1_256',\n  'mPersistentBigIcon': 'Texture2D /Game/FactoryGame/Buildable/Building/Foundation/UI/QuarterPipe/IconDesc_QP_Asphalt_Mid_8x1_512.IconDesc_QP_Asphalt_Mid_8x1_512',\n  'mCrosshairMaterial': 'None',\n  'mDescriptorStatBars': '',\n  'mSubCategories': '(BlueprintGeneratedClass\\'\"/Game/FactoryGame/Interface/UI/InGame/BuildMenu/BuildCategories/Sub_Organisation/SC_Floors.SC_Floors_C\"\\')',\n  'mMenuPriority': '28.000000',\n  'mFluidColor': '(B=0,G=0,R=0,A=0)',\n  'mGasColor': '(B=0,G=0,R=0,A=0)',\n  'mCompatibleItemDescriptors': '',\n  'mClassToScanFor': 'None',\n  'mScannableType': 'RTWOT_Default',\n  'mShouldOverrideScannerDisplayText': 'False',\n  'mScannerDisplayText': '',\n  'mScannerLightColor': '(B=0,G=0,R=0,A=0)'},\n 'Desc_QuarterPipeMiddle_Asphalt_8x2_C': {'ClassName': 'Desc_QuarterPipeMiddle_Asphalt_8x2_C',\n  'mDisplayName': '',\n  'mDescription': '',\n  'mAbbreviatedDisplayName': '',\n  'mStackSize': 'SS_MEDIUM',\n  'mCanBeDiscarded': 'True',\n  'mRememberPickUp': 'False',\n  'mEnergyValue': '0.000000',\n  'mRadioactiveDecay': '0.000000',\n  'mForm': 'RF_INVALID',\n  'mSmallIcon': 'Texture2D /Game/FactoryGame/Buildable/Building/Foundation/UI/QuarterPipe/IconDesc_QP_Asphalt_Mid_8x2_256.IconDesc_QP_Asphalt_Mid_8x2_256',\n  'mPersistentBigIcon': 'Texture2D /Game/FactoryGame/Buildable/Building/Foundation/UI/QuarterPipe/IconDesc_QP_Asphalt_Mid_8x2_512.IconDesc_QP_Asphalt_Mid_8x2_512',\n  'mCrosshairMaterial': 'None',\n  'mDescriptorStatBars': '',\n  'mSubCategories': '(BlueprintGeneratedClass\\'\"/Game/FactoryGame/Interface/UI/InGame/BuildMenu/BuildCategories/Sub_Organisation/SC_Floors.SC_Floors_C\"\\')',\n  'mMenuPriority': '29.000000',\n  'mFluidColor': '(B=0,G=0,R=0,A=0)',\n  'mGasColor': '(B=0,G=0,R=0,A=0)',\n  'mCompatibleItemDescriptors': '',\n  'mClassToScanFor': 'None',\n  'mScannableType': 'RTWOT_Default',\n  'mShouldOverrideScannerDisplayText': 'False',\n  'mScannerDisplayText': '',\n  'mScannerLightColor': '(B=0,G=0,R=0,A=0)'},\n 'Desc_QuarterPipeMiddle_Asphalt_8x4_C': {'ClassName': 'Desc_QuarterPipeMiddle_Asphalt_8x4_C',\n  'mDisplayName': '',\n  'mDescription': '',\n  'mAbbreviatedDisplayName': '',\n  'mStackSize': 'SS_MEDIUM',\n  'mCanBeDiscarded': 'True',\n  'mRememberPickUp': 'False',\n  'mEnergyValue': '0.000000',\n  'mRadioactiveDecay': '0.000000',\n  'mForm': 'RF_INVALID',\n  'mSmallIcon': 'Texture2D /Game/FactoryGame/Buildable/Building/Foundation/UI/QuarterPipe/IconDesc_QP_Asphalt_Mid_8x4_256.IconDesc_QP_Asphalt_Mid_8x4_256',\n  'mPersistentBigIcon': 'Texture2D /Game/FactoryGame/Buildable/Building/Foundation/UI/QuarterPipe/IconDesc_QP_Asphalt_Mid_8x4_512.IconDesc_QP_Asphalt_Mid_8x4_512',\n  'mCrosshairMaterial': 'None',\n  'mDescriptorStatBars': '',\n  'mSubCategories': '(BlueprintGeneratedClass\\'\"/Game/FactoryGame/Interface/UI/InGame/BuildMenu/BuildCategories/Sub_Organisation/SC_Floors.SC_Floors_C\"\\')',\n  'mMenuPriority': '30.000000',\n  'mFluidColor': '(B=0,G=0,R=0,A=0)',\n  'mGasColor': '(B=0,G=0,R=0,A=0)',\n  'mCompatibleItemDescriptors': '',\n  'mClassToScanFor': 'None',\n  'mScannableType': 'RTWOT_Default',\n  'mShouldOverrideScannerDisplayText': 'False',\n  'mScannerDisplayText': '',\n  'mScannerLightColor': '(B=0,G=0,R=0,A=0)'},\n 'Desc_QuarterPipeMiddleInCorner_Asphalt_8x1_C': {'ClassName': 'Desc_QuarterPipeMiddleInCorner_Asphalt_8x1_C',\n  'mDisplayName': '',\n  'mDescription': '',\n  'mAbbreviatedDisplayName': '',\n  'mStackSize': 'SS_MEDIUM',\n  'mCanBeDiscarded': 'True',\n  'mRememberPickUp': 'False',\n  'mEnergyValue': '0.000000',\n  'mRadioactiveDecay': '0.000000',\n  'mForm': 'RF_INVALID',\n  'mSmallIcon': 'Texture2D /Game/FactoryGame/Buildable/Building/Foundation/UI/QuarterPipe/IconDesc_QP_Asphalt_Mid_InCorner_8x1_256.IconDesc_QP_Asphalt_Mid_InCorner_8x1_256',\n  'mPersistentBigIcon': 'Texture2D /Game/FactoryGame/Buildable/Building/Foundation/UI/QuarterPipe/IconDesc_QP_Asphalt_Mid_InCorner_8x1_512.IconDesc_QP_Asphalt_Mid_InCorner_8x1_512',\n  'mCrosshairMaterial': 'None',\n  'mDescriptorStatBars': '',\n  'mSubCategories': '(BlueprintGeneratedClass\\'\"/Game/FactoryGame/Interface/UI/InGame/BuildMenu/BuildCategories/Sub_Organisation/SC_QuatPipes.SC_QuatPipes_C\"\\')',\n  'mMenuPriority': '55.000000',\n  'mFluidColor': '(B=0,G=0,R=0,A=0)',\n  'mGasColor': '(B=0,G=0,R=0,A=0)',\n  'mCompatibleItemDescriptors': '',\n  'mClassToScanFor': 'None',\n  'mScannableType': 'RTWOT_Default',\n  'mShouldOverrideScannerDisplayText': 'False',\n  'mScannerDisplayText': '',\n  'mScannerLightColor': '(B=0,G=0,R=0,A=0)'},\n 'Desc_QuarterPipeMiddleInCorner_Asphalt_8x2_C': {'ClassName': 'Desc_QuarterPipeMiddleInCorner_Asphalt_8x2_C',\n  'mDisplayName': '',\n  'mDescription': '',\n  'mAbbreviatedDisplayName': '',\n  'mStackSize': 'SS_MEDIUM',\n  'mCanBeDiscarded': 'True',\n  'mRememberPickUp': 'False',\n  'mEnergyValue': '0.000000',\n  'mRadioactiveDecay': '0.000000',\n  'mForm': 'RF_INVALID',\n  'mSmallIcon': 'Texture2D /Game/FactoryGame/Buildable/Building/Foundation/UI/QuarterPipe/IconDesc_QP_Asphalt_Mid_InCorner_8x2_256.IconDesc_QP_Asphalt_Mid_InCorner_8x2_256',\n  'mPersistentBigIcon': 'Texture2D /Game/FactoryGame/Buildable/Building/Foundation/UI/QuarterPipe/IconDesc_QP_Asphalt_Mid_InCorner_8x2_512.IconDesc_QP_Asphalt_Mid_InCorner_8x2_512',\n  'mCrosshairMaterial': 'None',\n  'mDescriptorStatBars': '',\n  'mSubCategories': '(BlueprintGeneratedClass\\'\"/Game/FactoryGame/Interface/UI/InGame/BuildMenu/BuildCategories/Sub_Organisation/SC_QuatPipes.SC_QuatPipes_C\"\\')',\n  'mMenuPriority': '56.000000',\n  'mFluidColor': '(B=0,G=0,R=0,A=0)',\n  'mGasColor': '(B=0,G=0,R=0,A=0)',\n  'mCompatibleItemDescriptors': '',\n  'mClassToScanFor': 'None',\n  'mScannableType': 'RTWOT_Default',\n  'mShouldOverrideScannerDisplayText': 'False',\n  'mScannerDisplayText': '',\n  'mScannerLightColor': '(B=0,G=0,R=0,A=0)'},\n 'Desc_QuarterPipeMiddleInCorner_Asphalt_8x4_C': {'ClassName': 'Desc_QuarterPipeMiddleInCorner_Asphalt_8x4_C',\n  'mDisplayName': '',\n  'mDescription': '',\n  'mAbbreviatedDisplayName': '',\n  'mStackSize': 'SS_MEDIUM',\n  'mCanBeDiscarded': 'True',\n  'mRememberPickUp': 'False',\n  'mEnergyValue': '0.000000',\n  'mRadioactiveDecay': '0.000000',\n  'mForm': 'RF_INVALID',\n  'mSmallIcon': 'Texture2D /Game/FactoryGame/Buildable/Building/Foundation/UI/QuarterPipe/IconDesc_QP_Asphalt_Mid_InCorner_8x4_256.IconDesc_QP_Asphalt_Mid_InCorner_8x4_256',\n  'mPersistentBigIcon': 'Texture2D /Game/FactoryGame/Buildable/Building/Foundation/UI/QuarterPipe/IconDesc_QP_Asphalt_Mid_InCorner_8x4_512.IconDesc_QP_Asphalt_Mid_InCorner_8x4_512',\n  'mCrosshairMaterial': 'None',\n  'mDescriptorStatBars': '',\n  'mSubCategories': '(BlueprintGeneratedClass\\'\"/Game/FactoryGame/Interface/UI/InGame/BuildMenu/BuildCategories/Sub_Organisation/SC_QuatPipes.SC_QuatPipes_C\"\\')',\n  'mMenuPriority': '57.000000',\n  'mFluidColor': '(B=0,G=0,R=0,A=0)',\n  'mGasColor': '(B=0,G=0,R=0,A=0)',\n  'mCompatibleItemDescriptors': '',\n  'mClassToScanFor': 'None',\n  'mScannableType': 'RTWOT_Default',\n  'mShouldOverrideScannerDisplayText': 'False',\n  'mScannerDisplayText': '',\n  'mScannerLightColor': '(B=0,G=0,R=0,A=0)'},\n 'Desc_QuarterPipeMiddleOutCorner_Asphalt_4x1_C': {'ClassName': 'Desc_QuarterPipeMiddleOutCorner_Asphalt_4x1_C',\n  'mDisplayName': '',\n  'mDescription': '',\n  'mAbbreviatedDisplayName': '',\n  'mStackSize': 'SS_MEDIUM',\n  'mCanBeDiscarded': 'True',\n  'mRememberPickUp': 'False',\n  'mEnergyValue': '0.000000',\n  'mRadioactiveDecay': '0.000000',\n  'mForm': 'RF_INVALID',\n  'mSmallIcon': 'Texture2D /Game/FactoryGame/Buildable/Building/Foundation/UI/QuarterPipe/IconDesc_QP_Asphalt_Mid_OutCorner_8x1_256.IconDesc_QP_Asphalt_Mid_OutCorner_8x1_256',\n  'mPersistentBigIcon': 'Texture2D /Game/FactoryGame/Buildable/Building/Foundation/UI/QuarterPipe/IconDesc_QP_Asphalt_Mid_OutCorner_8x1_512.IconDesc_QP_Asphalt_Mid_OutCorner_8x1_512',\n  'mCrosshairMaterial': 'None',\n  'mDescriptorStatBars': '',\n  'mSubCategories': '(BlueprintGeneratedClass\\'\"/Game/FactoryGame/Interface/UI/InGame/BuildMenu/BuildCategories/Sub_Organisation/SC_QuatPipes.SC_QuatPipes_C\"\\')',\n  'mMenuPriority': '58.000000',\n  'mFluidColor': '(B=0,G=0,R=0,A=0)',\n  'mGasColor': '(B=0,G=0,R=0,A=0)',\n  'mCompatibleItemDescriptors': '',\n  'mClassToScanFor': 'None',\n  'mScannableType': 'RTWOT_Default',\n  'mShouldOverrideScannerDisplayText': 'False',\n  'mScannerDisplayText': '',\n  'mScannerLightColor': '(B=0,G=0,R=0,A=0)'},\n 'Desc_QuarterPipeMiddleOutCorner_Asphalt_4x2_C': {'ClassName': 'Desc_QuarterPipeMiddleOutCorner_Asphalt_4x2_C',\n  'mDisplayName': '',\n  'mDescription': '',\n  'mAbbreviatedDisplayName': '',\n  'mStackSize': 'SS_MEDIUM',\n  'mCanBeDiscarded': 'True',\n  'mRememberPickUp': 'False',\n  'mEnergyValue': '0.000000',\n  'mRadioactiveDecay': '0.000000',\n  'mForm': 'RF_INVALID',\n  'mSmallIcon': 'Texture2D /Game/FactoryGame/Buildable/Building/Foundation/UI/QuarterPipe/IconDesc_QP_Asphalt_Mid_OutCorner_8x2_256.IconDesc_QP_Asphalt_Mid_OutCorner_8x2_256',\n  'mPersistentBigIcon': 'Texture2D /Game/FactoryGame/Buildable/Building/Foundation/UI/QuarterPipe/IconDesc_QP_Asphalt_Mid_OutCorner_8x2_512.IconDesc_QP_Asphalt_Mid_OutCorner_8x2_512',\n  'mCrosshairMaterial': 'None',\n  'mDescriptorStatBars': '',\n  'mSubCategories': '(BlueprintGeneratedClass\\'\"/Game/FactoryGame/Interface/UI/InGame/BuildMenu/BuildCategories/Sub_Organisation/SC_QuatPipes.SC_QuatPipes_C\"\\')',\n  'mMenuPriority': '59.000000',\n  'mFluidColor': '(B=0,G=0,R=0,A=0)',\n  'mGasColor': '(B=0,G=0,R=0,A=0)',\n  'mCompatibleItemDescriptors': '',\n  'mClassToScanFor': 'None',\n  'mScannableType': 'RTWOT_Default',\n  'mShouldOverrideScannerDisplayText': 'False',\n  'mScannerDisplayText': '',\n  'mScannerLightColor': '(B=0,G=0,R=0,A=0)'},\n 'Desc_QuarterPipeMiddleOutCorner_Asphalt_4x4_C': {'ClassName': 'Desc_QuarterPipeMiddleOutCorner_Asphalt_4x4_C',\n  'mDisplayName': '',\n  'mDescription': '',\n  'mAbbreviatedDisplayName': '',\n  'mStackSize': 'SS_MEDIUM',\n  'mCanBeDiscarded': 'True',\n  'mRememberPickUp': 'False',\n  'mEnergyValue': '0.000000',\n  'mRadioactiveDecay': '0.000000',\n  'mForm': 'RF_INVALID',\n  'mSmallIcon': 'Texture2D /Game/FactoryGame/Buildable/Building/Foundation/UI/QuarterPipe/IconDesc_QP_Asphalt_Mid_OutCorner_8x4_256.IconDesc_QP_Asphalt_Mid_OutCorner_8x4_256',\n  'mPersistentBigIcon': 'Texture2D /Game/FactoryGame/Buildable/Building/Foundation/UI/QuarterPipe/IconDesc_QP_Asphalt_Mid_OutCorner_8x4_512.IconDesc_QP_Asphalt_Mid_OutCorner_8x4_512',\n  'mCrosshairMaterial': 'None',\n  'mDescriptorStatBars': '',\n  'mSubCategories': '(BlueprintGeneratedClass\\'\"/Game/FactoryGame/Interface/UI/InGame/BuildMenu/BuildCategories/Sub_Organisation/SC_QuatPipes.SC_QuatPipes_C\"\\')',\n  'mMenuPriority': '60.000000',\n  'mFluidColor': '(B=0,G=0,R=0,A=0)',\n  'mGasColor': '(B=0,G=0,R=0,A=0)',\n  'mCompatibleItemDescriptors': '',\n  'mClassToScanFor': 'None',\n  'mScannableType': 'RTWOT_Default',\n  'mShouldOverrideScannerDisplayText': 'False',\n  'mScannerDisplayText': '',\n  'mScannerLightColor': '(B=0,G=0,R=0,A=0)'},\n 'Desc_QuarterPipeOutCorner_Asphalt_8x4_C': {'ClassName': 'Desc_QuarterPipeOutCorner_Asphalt_8x4_C',\n  'mDisplayName': '',\n  'mDescription': '',\n  'mAbbreviatedDisplayName': '',\n  'mStackSize': 'SS_MEDIUM',\n  'mCanBeDiscarded': 'True',\n  'mRememberPickUp': 'False',\n  'mEnergyValue': '0.000000',\n  'mRadioactiveDecay': '0.000000',\n  'mForm': 'RF_INVALID',\n  'mSmallIcon': 'Texture2D /Game/FactoryGame/Buildable/Building/Foundation/UI/QuarterPipe/IconDesc_QP_Asphalt_Out_8x4_256.IconDesc_QP_Asphalt_Out_8x4_256',\n  'mPersistentBigIcon': 'Texture2D /Game/FactoryGame/Buildable/Building/Foundation/UI/QuarterPipe/IconDesc_QP_Asphalt_Out_8x4_512.IconDesc_QP_Asphalt_Out_8x4_512',\n  'mCrosshairMaterial': 'None',\n  'mDescriptorStatBars': '',\n  'mSubCategories': '(BlueprintGeneratedClass\\'\"/Game/FactoryGame/Interface/UI/InGame/BuildMenu/BuildCategories/Sub_Organisation/SC_QuatPipes.SC_QuatPipes_C\"\\')',\n  'mMenuPriority': '53.000000',\n  'mFluidColor': '(B=0,G=0,R=0,A=0)',\n  'mGasColor': '(B=0,G=0,R=0,A=0)',\n  'mCompatibleItemDescriptors': '',\n  'mClassToScanFor': 'None',\n  'mScannableType': 'RTWOT_Default',\n  'mShouldOverrideScannerDisplayText': 'False',\n  'mScannerDisplayText': '',\n  'mScannerLightColor': '(B=0,G=0,R=0,A=0)'},\n 'Desc_Ramp_Asphalt_8x1_C': {'ClassName': 'Desc_Ramp_Asphalt_8x1_C',\n  'mDisplayName': '',\n  'mDescription': '',\n  'mAbbreviatedDisplayName': '',\n  'mStackSize': 'SS_MEDIUM',\n  'mCanBeDiscarded': 'True',\n  'mRememberPickUp': 'False',\n  'mEnergyValue': '0.000000',\n  'mRadioactiveDecay': '0.000000',\n  'mForm': 'RF_INVALID',\n  'mSmallIcon': 'Texture2D /Game/FactoryGame/Buildable/Building/Foundation/AsphaltSet/UI/IconDesc_AsphaltRamp8x1_512.IconDesc_AsphaltRamp8x1_512',\n  'mPersistentBigIcon': 'Texture2D /Game/FactoryGame/Buildable/Building/Foundation/AsphaltSet/UI/IconDesc_AsphaltRamp8x2_256.IconDesc_AsphaltRamp8x2_256',\n  'mCrosshairMaterial': 'None',\n  'mDescriptorStatBars': '',\n  'mSubCategories': '(BlueprintGeneratedClass\\'\"/Game/FactoryGame/Interface/UI/InGame/BuildMenu/BuildCategories/Sub_Organisation/SC_Ramps.SC_Ramps_C\"\\')',\n  'mMenuPriority': '49.000000',\n  'mFluidColor': '(B=0,G=0,R=0,A=0)',\n  'mGasColor': '(B=0,G=0,R=0,A=0)',\n  'mCompatibleItemDescriptors': '',\n  'mClassToScanFor': 'None',\n  'mScannableType': 'RTWOT_Default',\n  'mShouldOverrideScannerDisplayText': 'False',\n  'mScannerDisplayText': '',\n  'mScannerLightColor': '(B=0,G=0,R=0,A=0)'},\n 'Desc_Ramp_Asphalt_8x2_C': {'ClassName': 'Desc_Ramp_Asphalt_8x2_C',\n  'mDisplayName': '',\n  'mDescription': '',\n  'mAbbreviatedDisplayName': '',\n  'mStackSize': 'SS_MEDIUM',\n  'mCanBeDiscarded': 'True',\n  'mRememberPickUp': 'False',\n  'mEnergyValue': '0.000000',\n  'mRadioactiveDecay': '0.000000',\n  'mForm': 'RF_INVALID',\n  'mSmallIcon': 'Texture2D /Game/FactoryGame/Buildable/Building/Foundation/AsphaltSet/UI/IconDesc_AsphaltRamp8x2_256.IconDesc_AsphaltRamp8x2_256',\n  'mPersistentBigIcon': 'Texture2D /Game/FactoryGame/Buildable/Building/Foundation/AsphaltSet/UI/IconDesc_AsphaltRamp8x2_512.IconDesc_AsphaltRamp8x2_512',\n  'mCrosshairMaterial': 'None',\n  'mDescriptorStatBars': '',\n  'mSubCategories': '(BlueprintGeneratedClass\\'\"/Game/FactoryGame/Interface/UI/InGame/BuildMenu/BuildCategories/Sub_Organisation/SC_Ramps.SC_Ramps_C\"\\')',\n  'mMenuPriority': '50.000000',\n  'mFluidColor': '(B=0,G=0,R=0,A=0)',\n  'mGasColor': '(B=0,G=0,R=0,A=0)',\n  'mCompatibleItemDescriptors': '',\n  'mClassToScanFor': 'None',\n  'mScannableType': 'RTWOT_Default',\n  'mShouldOverrideScannerDisplayText': 'False',\n  'mScannerDisplayText': '',\n  'mScannerLightColor': '(B=0,G=0,R=0,A=0)'},\n 'Desc_Ramp_Asphalt_8x4_C': {'ClassName': 'Desc_Ramp_Asphalt_8x4_C',\n  'mDisplayName': '',\n  'mDescription': '',\n  'mAbbreviatedDisplayName': '',\n  'mStackSize': 'SS_MEDIUM',\n  'mCanBeDiscarded': 'True',\n  'mRememberPickUp': 'False',\n  'mEnergyValue': '0.000000',\n  'mRadioactiveDecay': '0.000000',\n  'mForm': 'RF_INVALID',\n  'mSmallIcon': 'Texture2D /Game/FactoryGame/Buildable/Building/Foundation/AsphaltSet/UI/IconDesc_AsphaltRamp8x4_256.IconDesc_AsphaltRamp8x4_256',\n  'mPersistentBigIcon': 'Texture2D /Game/FactoryGame/Buildable/Building/Foundation/AsphaltSet/UI/IconDesc_AsphaltRamp8x4_512.IconDesc_AsphaltRamp8x4_512',\n  'mCrosshairMaterial': 'None',\n  'mDescriptorStatBars': '',\n  'mSubCategories': '(BlueprintGeneratedClass\\'\"/Game/FactoryGame/Interface/UI/InGame/BuildMenu/BuildCategories/Sub_Organisation/SC_Ramps.SC_Ramps_C\"\\')',\n  'mMenuPriority': '51.000000',\n  'mFluidColor': '(B=0,G=0,R=0,A=0)',\n  'mGasColor': '(B=0,G=0,R=0,A=0)',\n  'mCompatibleItemDescriptors': '',\n  'mClassToScanFor': 'None',\n  'mScannableType': 'RTWOT_Default',\n  'mShouldOverrideScannerDisplayText': 'False',\n  'mScannerDisplayText': '',\n  'mScannerLightColor': '(B=0,G=0,R=0,A=0)'},\n 'Desc_Ramp_DownCorner_Asphalt_8x1_C': {'ClassName': 'Desc_Ramp_DownCorner_Asphalt_8x1_C',\n  'mDisplayName': '',\n  'mDescription': '',\n  'mAbbreviatedDisplayName': '',\n  'mStackSize': 'SS_MEDIUM',\n  'mCanBeDiscarded': 'True',\n  'mRememberPickUp': 'False',\n  'mEnergyValue': '0.000000',\n  'mRadioactiveDecay': '0.000000',\n  'mForm': 'RF_INVALID',\n  'mSmallIcon': 'Texture2D /Game/FactoryGame/Buildable/Building/Foundation/AsphaltSet/UI/IconDesc_Aspha_tRamp8x1_256.IconDesc_Aspha_tRamp8x1_256',\n  'mPersistentBigIcon': 'Texture2D /Game/FactoryGame/Buildable/Building/Foundation/AsphaltSet/UI/IconDesc_Aspha_tRamp8x1_512.IconDesc_Aspha_tRamp8x1_512',\n  'mCrosshairMaterial': 'None',\n  'mDescriptorStatBars': '',\n  'mSubCategories': '(BlueprintGeneratedClass\\'\"/Game/FactoryGame/Interface/UI/InGame/BuildMenu/BuildCategories/Sub_Organisation/SC_Ramps.SC_Ramps_C\"\\')',\n  'mMenuPriority': '55.000000',\n  'mFluidColor': '(B=0,G=0,R=0,A=0)',\n  'mGasColor': '(B=0,G=0,R=0,A=0)',\n  'mCompatibleItemDescriptors': '',\n  'mClassToScanFor': 'None',\n  'mScannableType': 'RTWOT_Default',\n  'mShouldOverrideScannerDisplayText': 'False',\n  'mScannerDisplayText': '',\n  'mScannerLightColor': '(B=0,G=0,R=0,A=0)'},\n 'Desc_Ramp_DownCorner_Asphalt_8x2_C': {'ClassName': 'Desc_Ramp_DownCorner_Asphalt_8x2_C',\n  'mDisplayName': '',\n  'mDescription': '',\n  'mAbbreviatedDisplayName': '',\n  'mStackSize': 'SS_MEDIUM',\n  'mCanBeDiscarded': 'True',\n  'mRememberPickUp': 'False',\n  'mEnergyValue': '0.000000',\n  'mRadioactiveDecay': '0.000000',\n  'mForm': 'RF_INVALID',\n  'mSmallIcon': 'Texture2D /Game/FactoryGame/Buildable/Building/Foundation/AsphaltSet/UI/IconDesc_AsphaltRampD8x2_256.IconDesc_AsphaltRampD8x2_256',\n  'mPersistentBigIcon': 'Texture2D /Game/FactoryGame/Buildable/Building/Foundation/AsphaltSet/UI/IconDesc_AsphaltRampD8x2_512.IconDesc_AsphaltRampD8x2_512',\n  'mCrosshairMaterial': 'None',\n  'mDescriptorStatBars': '',\n  'mSubCategories': '(BlueprintGeneratedClass\\'\"/Game/FactoryGame/Interface/UI/InGame/BuildMenu/BuildCategories/Sub_Organisation/SC_Ramps.SC_Ramps_C\"\\')',\n  'mMenuPriority': '56.000000',\n  'mFluidColor': '(B=0,G=0,R=0,A=0)',\n  'mGasColor': '(B=0,G=0,R=0,A=0)',\n  'mCompatibleItemDescriptors': '',\n  'mClassToScanFor': 'None',\n  'mScannableType': 'RTWOT_Default',\n  'mShouldOverrideScannerDisplayText': 'False',\n  'mScannerDisplayText': '',\n  'mScannerLightColor': '(B=0,G=0,R=0,A=0)'},\n 'Desc_Ramp_DownCorner_Asphalt_8x4_C': {'ClassName': 'Desc_Ramp_DownCorner_Asphalt_8x4_C',\n  'mDisplayName': '',\n  'mDescription': '',\n  'mAbbreviatedDisplayName': '',\n  'mStackSize': 'SS_MEDIUM',\n  'mCanBeDiscarded': 'True',\n  'mRememberPickUp': 'False',\n  'mEnergyValue': '0.000000',\n  'mRadioactiveDecay': '0.000000',\n  'mForm': 'RF_INVALID',\n  'mSmallIcon': 'Texture2D /Game/FactoryGame/Buildable/Building/Foundation/AsphaltSet/UI/IconDesc_AsphaltRampD8x4_256.IconDesc_AsphaltRampD8x4_256',\n  'mPersistentBigIcon': 'Texture2D /Game/FactoryGame/Buildable/Building/Foundation/AsphaltSet/UI/IconDesc_AsphaltRampD8x4_512.IconDesc_AsphaltRampD8x4_512',\n  'mCrosshairMaterial': 'None',\n  'mDescriptorStatBars': '',\n  'mSubCategories': '(BlueprintGeneratedClass\\'\"/Game/FactoryGame/Interface/UI/InGame/BuildMenu/BuildCategories/Sub_Organisation/SC_Ramps.SC_Ramps_C\"\\')',\n  'mMenuPriority': '57.000000',\n  'mFluidColor': '(B=0,G=0,R=0,A=0)',\n  'mGasColor': '(B=0,G=0,R=0,A=0)',\n  'mCompatibleItemDescriptors': '',\n  'mClassToScanFor': 'None',\n  'mScannableType': 'RTWOT_Default',\n  'mShouldOverrideScannerDisplayText': 'False',\n  'mScannerDisplayText': '',\n  'mScannerLightColor': '(B=0,G=0,R=0,A=0)'},\n 'Desc_Ramp_UpCorner_Asphalt_8x1_C': {'ClassName': 'Desc_Ramp_UpCorner_Asphalt_8x1_C',\n  'mDisplayName': '',\n  'mDescription': '',\n  'mAbbreviatedDisplayName': '',\n  'mStackSize': 'SS_MEDIUM',\n  'mCanBeDiscarded': 'True',\n  'mRememberPickUp': 'False',\n  'mEnergyValue': '0.000000',\n  'mRadioactiveDecay': '0.000000',\n  'mForm': 'RF_INVALID',\n  'mSmallIcon': 'Texture2D /Game/FactoryGame/Buildable/Building/Foundation/AsphaltSet/UI/IconDesc_AsphaltCornerU8x1_512.IconDesc_AsphaltCornerU8x1_512',\n  'mPersistentBigIcon': 'Texture2D /Game/FactoryGame/Buildable/Building/Foundation/AsphaltSet/UI/IconDesc_AsphaltCornerU8x2_256.IconDesc_AsphaltCornerU8x2_256',\n  'mCrosshairMaterial': 'None',\n  'mDescriptorStatBars': '',\n  'mSubCategories': '(BlueprintGeneratedClass\\'\"/Game/FactoryGame/Interface/UI/InGame/BuildMenu/BuildCategories/Sub_Organisation/SC_Ramps.SC_Ramps_C\"\\')',\n  'mMenuPriority': '52.000000',\n  'mFluidColor': '(B=0,G=0,R=0,A=0)',\n  'mGasColor': '(B=0,G=0,R=0,A=0)',\n  'mCompatibleItemDescriptors': '',\n  'mClassToScanFor': 'None',\n  'mScannableType': 'RTWOT_Default',\n  'mShouldOverrideScannerDisplayText': 'False',\n  'mScannerDisplayText': '',\n  'mScannerLightColor': '(B=0,G=0,R=0,A=0)'},\n 'Desc_Ramp_UpCorner_Asphalt_8x2_C': {'ClassName': 'Desc_Ramp_UpCorner_Asphalt_8x2_C',\n  'mDisplayName': '',\n  'mDescription': '',\n  'mAbbreviatedDisplayName': '',\n  'mStackSize': 'SS_MEDIUM',\n  'mCanBeDiscarded': 'True',\n  'mRememberPickUp': 'False',\n  'mEnergyValue': '0.000000',\n  'mRadioactiveDecay': '0.000000',\n  'mForm': 'RF_INVALID',\n  'mSmallIcon': 'Texture2D /Game/FactoryGame/Buildable/Building/Foundation/AsphaltSet/UI/IconDesc_AsphaltCornerU8x2_256.IconDesc_AsphaltCornerU8x2_256',\n  'mPersistentBigIcon': 'Texture2D /Game/FactoryGame/Buildable/Building/Foundation/AsphaltSet/UI/IconDesc_AsphaltCornerU8x2_512.IconDesc_AsphaltCornerU8x2_512',\n  'mCrosshairMaterial': 'None',\n  'mDescriptorStatBars': '',\n  'mSubCategories': '(BlueprintGeneratedClass\\'\"/Game/FactoryGame/Interface/UI/InGame/BuildMenu/BuildCategories/Sub_Organisation/SC_Ramps.SC_Ramps_C\"\\')',\n  'mMenuPriority': '53.000000',\n  'mFluidColor': '(B=0,G=0,R=0,A=0)',\n  'mGasColor': '(B=0,G=0,R=0,A=0)',\n  'mCompatibleItemDescriptors': '',\n  'mClassToScanFor': 'None',\n  'mScannableType': 'RTWOT_Default',\n  'mShouldOverrideScannerDisplayText': 'False',\n  'mScannerDisplayText': '',\n  'mScannerLightColor': '(B=0,G=0,R=0,A=0)'},\n 'Desc_Ramp_UpCorner_Asphalt_8x4_C': {'ClassName': 'Desc_Ramp_UpCorner_Asphalt_8x4_C',\n  'mDisplayName': '',\n  'mDescription': '',\n  'mAbbreviatedDisplayName': '',\n  'mStackSize': 'SS_MEDIUM',\n  'mCanBeDiscarded': 'True',\n  'mRememberPickUp': 'False',\n  'mEnergyValue': '0.000000',\n  'mRadioactiveDecay': '0.000000',\n  'mForm': 'RF_INVALID',\n  'mSmallIcon': 'Texture2D /Game/FactoryGame/Buildable/Building/Foundation/AsphaltSet/UI/IconDesc_AsphaltCornerU8x4_256.IconDesc_AsphaltCornerU8x4_256',\n  'mPersistentBigIcon': 'Texture2D /Game/FactoryGame/Buildable/Building/Foundation/AsphaltSet/UI/IconDesc_AsphaltCornerU8x4_512.IconDesc_AsphaltCornerU8x4_512',\n  'mCrosshairMaterial': 'None',\n  'mDescriptorStatBars': '',\n  'mSubCategories': '(BlueprintGeneratedClass\\'\"/Game/FactoryGame/Interface/UI/InGame/BuildMenu/BuildCategories/Sub_Organisation/SC_Ramps.SC_Ramps_C\"\\')',\n  'mMenuPriority': '54.000000',\n  'mFluidColor': '(B=0,G=0,R=0,A=0)',\n  'mGasColor': '(B=0,G=0,R=0,A=0)',\n  'mCompatibleItemDescriptors': '',\n  'mClassToScanFor': 'None',\n  'mScannableType': 'RTWOT_Default',\n  'mShouldOverrideScannerDisplayText': 'False',\n  'mScannerDisplayText': '',\n  'mScannerLightColor': '(B=0,G=0,R=0,A=0)'},\n 'Desc_RampDouble_Asphalt_8x1_C': {'ClassName': 'Desc_RampDouble_Asphalt_8x1_C',\n  'mDisplayName': '',\n  'mDescription': '',\n  'mAbbreviatedDisplayName': '',\n  'mStackSize': 'SS_MEDIUM',\n  'mCanBeDiscarded': 'True',\n  'mRememberPickUp': 'False',\n  'mEnergyValue': '0.000000',\n  'mRadioactiveDecay': '0.000000',\n  'mForm': 'RF_INVALID',\n  'mSmallIcon': 'Texture2D /Game/FactoryGame/Buildable/Building/Foundation/AsphaltSet/UI/IconDesc_AsphaltDouble8x1_256.IconDesc_AsphaltDouble8x1_256',\n  'mPersistentBigIcon': 'Texture2D /Game/FactoryGame/Buildable/Building/Foundation/AsphaltSet/UI/IconDesc_AsphaltDouble8x1_512.IconDesc_AsphaltDouble8x1_512',\n  'mCrosshairMaterial': 'None',\n  'mDescriptorStatBars': '',\n  'mSubCategories': '(BlueprintGeneratedClass\\'\"/Game/FactoryGame/Interface/UI/InGame/BuildMenu/BuildCategories/Sub_Organisation/SC_Ramps.SC_Ramps_C\"\\')',\n  'mMenuPriority': '58.000000',\n  'mFluidColor': '(B=0,G=0,R=0,A=0)',\n  'mGasColor': '(B=0,G=0,R=0,A=0)',\n  'mCompatibleItemDescriptors': '',\n  'mClassToScanFor': 'None',\n  'mScannableType': 'RTWOT_Default',\n  'mShouldOverrideScannerDisplayText': 'False',\n  'mScannerDisplayText': '',\n  'mScannerLightColor': '(B=0,G=0,R=0,A=0)'},\n 'Desc_RampDouble_Asphalt_8x2_C': {'ClassName': 'Desc_RampDouble_Asphalt_8x2_C',\n  'mDisplayName': '',\n  'mDescription': '',\n  'mAbbreviatedDisplayName': '',\n  'mStackSize': 'SS_MEDIUM',\n  'mCanBeDiscarded': 'True',\n  'mRememberPickUp': 'False',\n  'mEnergyValue': '0.000000',\n  'mRadioactiveDecay': '0.000000',\n  'mForm': 'RF_INVALID',\n  'mSmallIcon': 'Texture2D /Game/FactoryGame/Buildable/Building/Foundation/AsphaltSet/UI/IconDesc_AsphaltDouble8x2_256.IconDesc_AsphaltDouble8x2_256',\n  'mPersistentBigIcon': 'Texture2D /Game/FactoryGame/Buildable/Building/Foundation/AsphaltSet/UI/IconDesc_AsphaltDouble8x2_512.IconDesc_AsphaltDouble8x2_512',\n  'mCrosshairMaterial': 'None',\n  'mDescriptorStatBars': '',\n  'mSubCategories': '(BlueprintGeneratedClass\\'\"/Game/FactoryGame/Interface/UI/InGame/BuildMenu/BuildCategories/Sub_Organisation/SC_Ramps.SC_Ramps_C\"\\')',\n  'mMenuPriority': '59.000000',\n  'mFluidColor': '(B=0,G=0,R=0,A=0)',\n  'mGasColor': '(B=0,G=0,R=0,A=0)',\n  'mCompatibleItemDescriptors': '',\n  'mClassToScanFor': 'None',\n  'mScannableType': 'RTWOT_Default',\n  'mShouldOverrideScannerDisplayText': 'False',\n  'mScannerDisplayText': '',\n  'mScannerLightColor': '(B=0,G=0,R=0,A=0)'},\n 'Desc_RampDouble_Asphalt_8x4_C': {'ClassName': 'Desc_RampDouble_Asphalt_8x4_C',\n  'mDisplayName': '',\n  'mDescription': '',\n  'mAbbreviatedDisplayName': '',\n  'mStackSize': 'SS_MEDIUM',\n  'mCanBeDiscarded': 'True',\n  'mRememberPickUp': 'False',\n  'mEnergyValue': '0.000000',\n  'mRadioactiveDecay': '0.000000',\n  'mForm': 'RF_INVALID',\n  'mSmallIcon': 'Texture2D /Game/FactoryGame/Buildable/Building/Foundation/AsphaltSet/UI/IconDesc_AsphaltDouble8x4_256.IconDesc_AsphaltDouble8x4_256',\n  'mPersistentBigIcon': 'Texture2D /Game/FactoryGame/Buildable/Building/Foundation/AsphaltSet/UI/IconDesc_AsphaltDouble8x4_512.IconDesc_AsphaltDouble8x4_512',\n  'mCrosshairMaterial': 'None',\n  'mDescriptorStatBars': '',\n  'mSubCategories': '(BlueprintGeneratedClass\\'\"/Game/FactoryGame/Interface/UI/InGame/BuildMenu/BuildCategories/Sub_Organisation/SC_Ramps.SC_Ramps_C\"\\')',\n  'mMenuPriority': '60.000000',\n  'mFluidColor': '(B=0,G=0,R=0,A=0)',\n  'mGasColor': '(B=0,G=0,R=0,A=0)',\n  'mCompatibleItemDescriptors': '',\n  'mClassToScanFor': 'None',\n  'mScannableType': 'RTWOT_Default',\n  'mShouldOverrideScannerDisplayText': 'False',\n  'mScannerDisplayText': '',\n  'mScannerLightColor': '(B=0,G=0,R=0,A=0)'},\n 'Desc_DownQuarterPipe_Grip_8x4_C': {'ClassName': 'Desc_DownQuarterPipe_Grip_8x4_C',\n  'mDisplayName': '',\n  'mDescription': '',\n  'mAbbreviatedDisplayName': '',\n  'mStackSize': 'SS_MEDIUM',\n  'mCanBeDiscarded': 'True',\n  'mRememberPickUp': 'False',\n  'mEnergyValue': '0.000000',\n  'mRadioactiveDecay': '0.000000',\n  'mForm': 'RF_INVALID',\n  'mSmallIcon': 'Texture2D /Game/FactoryGame/Buildable/Building/Foundation/UI/QuarterPipe/IconDesc_QP_Grip_Down_8x4_256.IconDesc_QP_Grip_Down_8x4_256',\n  'mPersistentBigIcon': 'Texture2D /Game/FactoryGame/Buildable/Building/Foundation/UI/QuarterPipe/IconDesc_QP_Grip_Down_8x4_512.IconDesc_QP_Grip_Down_8x4_512',\n  'mCrosshairMaterial': 'None',\n  'mDescriptorStatBars': '',\n  'mSubCategories': '(BlueprintGeneratedClass\\'\"/Game/FactoryGame/Interface/UI/InGame/BuildMenu/BuildCategories/Sub_Organisation/SC_QuatPipes.SC_QuatPipes_C\"\\')',\n  'mMenuPriority': '26.000000',\n  'mFluidColor': '(B=0,G=0,R=0,A=0)',\n  'mGasColor': '(B=0,G=0,R=0,A=0)',\n  'mCompatibleItemDescriptors': '',\n  'mClassToScanFor': 'None',\n  'mScannableType': 'RTWOT_Default',\n  'mShouldOverrideScannerDisplayText': 'False',\n  'mScannerDisplayText': '',\n  'mScannerLightColor': '(B=0,G=0,R=0,A=0)'},\n 'Desc_DownQuarterPipeInCorner_Grip_8x4_C': {'ClassName': 'Desc_DownQuarterPipeInCorner_Grip_8x4_C',\n  'mDisplayName': '',\n  'mDescription': '',\n  'mAbbreviatedDisplayName': '',\n  'mStackSize': 'SS_MEDIUM',\n  'mCanBeDiscarded': 'True',\n  'mRememberPickUp': 'False',\n  'mEnergyValue': '0.000000',\n  'mRadioactiveDecay': '0.000000',\n  'mForm': 'RF_INVALID',\n  'mSmallIcon': 'Texture2D /Game/FactoryGame/Buildable/Building/Foundation/UI/QuarterPipe/IconDesc_QP_Grip_DownInCorner_8x4_256.IconDesc_QP_Grip_DownInCorner_8x4_256',\n  'mPersistentBigIcon': 'Texture2D /Game/FactoryGame/Buildable/Building/Foundation/UI/QuarterPipe/IconDesc_QP_Grip_DownInCorner_8x4_512.IconDesc_QP_Grip_DownInCorner_8x4_512',\n  'mCrosshairMaterial': 'None',\n  'mDescriptorStatBars': '',\n  'mSubCategories': '(BlueprintGeneratedClass\\'\"/Game/FactoryGame/Interface/UI/InGame/BuildMenu/BuildCategories/Sub_Organisation/SC_QuatPipes.SC_QuatPipes_C\"\\')',\n  'mMenuPriority': '28.000000',\n  'mFluidColor': '(B=0,G=0,R=0,A=0)',\n  'mGasColor': '(B=0,G=0,R=0,A=0)',\n  'mCompatibleItemDescriptors': '',\n  'mClassToScanFor': 'None',\n  'mScannableType': 'RTWOT_Default',\n  'mShouldOverrideScannerDisplayText': 'False',\n  'mScannerDisplayText': '',\n  'mScannerLightColor': '(B=0,G=0,R=0,A=0)'},\n 'Desc_DownQuarterPipeOutCorner_Grip_8x4_C': {'ClassName': 'Desc_DownQuarterPipeOutCorner_Grip_8x4_C',\n  'mDisplayName': '',\n  'mDescription': '',\n  'mAbbreviatedDisplayName': '',\n  'mStackSize': 'SS_MEDIUM',\n  'mCanBeDiscarded': 'True',\n  'mRememberPickUp': 'False',\n  'mEnergyValue': '0.000000',\n  'mRadioactiveDecay': '0.000000',\n  'mForm': 'RF_INVALID',\n  'mSmallIcon': 'Texture2D /Game/FactoryGame/Buildable/Building/Ramp/UI/QuarterPipes/IconDesc_QP_Grip_DownOutCorner_8x4_256.IconDesc_QP_Grip_DownOutCorner_8x4_256',\n  'mPersistentBigIcon': 'Texture2D /Game/FactoryGame/Buildable/Building/Foundation/UI/QuarterPipe/IconDesc_QP_Grip_DownOutCorner_8x4_512.IconDesc_QP_Grip_DownOutCorner_8x4_512',\n  'mCrosshairMaterial': 'None',\n  'mDescriptorStatBars': '',\n  'mSubCategories': '(BlueprintGeneratedClass\\'\"/Game/FactoryGame/Interface/UI/InGame/BuildMenu/BuildCategories/Sub_Organisation/SC_QuatPipes.SC_QuatPipes_C\"\\')',\n  'mMenuPriority': '30.000000',\n  'mFluidColor': '(B=0,G=0,R=0,A=0)',\n  'mGasColor': '(B=0,G=0,R=0,A=0)',\n  'mCompatibleItemDescriptors': '',\n  'mClassToScanFor': 'None',\n  'mScannableType': 'RTWOT_Default',\n  'mShouldOverrideScannerDisplayText': 'False',\n  'mScannerDisplayText': '',\n  'mScannerLightColor': '(B=0,G=0,R=0,A=0)'},\n 'Desc_Foundation_Metal_8x1_C': {'ClassName': 'Desc_Foundation_Metal_8x1_C',\n  'mDisplayName': '',\n  'mDescription': '',\n  'mAbbreviatedDisplayName': '',\n  'mStackSize': 'SS_MEDIUM',\n  'mCanBeDiscarded': 'True',\n  'mRememberPickUp': 'False',\n  'mEnergyValue': '0.000000',\n  'mRadioactiveDecay': '0.000000',\n  'mForm': 'RF_INVALID',\n  'mSmallIcon': 'Texture2D /Game/FactoryGame/Buildable/Building/Foundation/UI/U5/IconDesc_SteelFoundation1m_256.IconDesc_SteelFoundation1m_256',\n  'mPersistentBigIcon': 'Texture2D /Game/FactoryGame/Buildable/Building/Foundation/UI/U5/IconDesc_SteelFoundation1m_512.IconDesc_SteelFoundation1m_512',\n  'mCrosshairMaterial': 'None',\n  'mDescriptorStatBars': '',\n  'mSubCategories': '(BlueprintGeneratedClass\\'\"/Game/FactoryGame/Interface/UI/InGame/BuildMenu/BuildCategories/Sub_Organisation/SC_Floors.SC_Floors_C\"\\')',\n  'mMenuPriority': '13.000000',\n  'mFluidColor': '(B=0,G=0,R=0,A=0)',\n  'mGasColor': '(B=0,G=0,R=0,A=0)',\n  'mCompatibleItemDescriptors': '',\n  'mClassToScanFor': 'None',\n  'mScannableType': 'RTWOT_Default',\n  'mShouldOverrideScannerDisplayText': 'False',\n  'mScannerDisplayText': '',\n  'mScannerLightColor': '(B=0,G=0,R=0,A=0)'},\n 'Desc_Foundation_Metal_8x2_C': {'ClassName': 'Desc_Foundation_Metal_8x2_C',\n  'mDisplayName': '',\n  'mDescription': '',\n  'mAbbreviatedDisplayName': '',\n  'mStackSize': 'SS_MEDIUM',\n  'mCanBeDiscarded': 'True',\n  'mRememberPickUp': 'False',\n  'mEnergyValue': '0.000000',\n  'mRadioactiveDecay': '0.000000',\n  'mForm': 'RF_INVALID',\n  'mSmallIcon': 'Texture2D /Game/FactoryGame/Buildable/Building/Foundation/UI/U5/IconDesc_SteelFoundation2m_256.IconDesc_SteelFoundation2m_256',\n  'mPersistentBigIcon': 'Texture2D /Game/FactoryGame/Buildable/Building/Foundation/UI/U5/IconDesc_SteelFoundation2m_512.IconDesc_SteelFoundation2m_512',\n  'mCrosshairMaterial': 'None',\n  'mDescriptorStatBars': '',\n  'mSubCategories': '(BlueprintGeneratedClass\\'\"/Game/FactoryGame/Interface/UI/InGame/BuildMenu/BuildCategories/Sub_Organisation/SC_Floors.SC_Floors_C\"\\')',\n  'mMenuPriority': '14.000000',\n  'mFluidColor': '(B=0,G=0,R=0,A=0)',\n  'mGasColor': '(B=0,G=0,R=0,A=0)',\n  'mCompatibleItemDescriptors': '',\n  'mClassToScanFor': 'None',\n  'mScannableType': 'RTWOT_Default',\n  'mShouldOverrideScannerDisplayText': 'False',\n  'mScannerDisplayText': '',\n  'mScannerLightColor': '(B=0,G=0,R=0,A=0)'},\n 'Desc_Foundation_Metal_8x4_C': {'ClassName': 'Desc_Foundation_Metal_8x4_C',\n  'mDisplayName': '',\n  'mDescription': '',\n  'mAbbreviatedDisplayName': '',\n  'mStackSize': 'SS_MEDIUM',\n  'mCanBeDiscarded': 'True',\n  'mRememberPickUp': 'False',\n  'mEnergyValue': '0.000000',\n  'mRadioactiveDecay': '0.000000',\n  'mForm': 'RF_INVALID',\n  'mSmallIcon': 'Texture2D /Game/FactoryGame/Buildable/Building/Foundation/UI/U5/IconDesc_SteelFoundation4m_256.IconDesc_SteelFoundation4m_256',\n  'mPersistentBigIcon': 'Texture2D /Game/FactoryGame/Buildable/Building/Foundation/UI/U5/IconDesc_SteelFoundation4m_512.IconDesc_SteelFoundation4m_512',\n  'mCrosshairMaterial': 'None',\n  'mDescriptorStatBars': '',\n  'mSubCategories': '(BlueprintGeneratedClass\\'\"/Game/FactoryGame/Interface/UI/InGame/BuildMenu/BuildCategories/Sub_Organisation/SC_Floors.SC_Floors_C\"\\')',\n  'mMenuPriority': '15.000000',\n  'mFluidColor': '(B=0,G=0,R=0,A=0)',\n  'mGasColor': '(B=0,G=0,R=0,A=0)',\n  'mCompatibleItemDescriptors': '',\n  'mClassToScanFor': 'None',\n  'mScannableType': 'RTWOT_Default',\n  'mShouldOverrideScannerDisplayText': 'False',\n  'mScannerDisplayText': '',\n  'mScannerLightColor': '(B=0,G=0,R=0,A=0)'},\n 'Desc_InvertedRamp_DCorner_Metal_8x1_C': {'ClassName': 'Desc_InvertedRamp_DCorner_Metal_8x1_C',\n  'mDisplayName': '',\n  'mDescription': '',\n  'mAbbreviatedDisplayName': '',\n  'mStackSize': 'SS_MEDIUM',\n  'mCanBeDiscarded': 'True',\n  'mRememberPickUp': 'False',\n  'mEnergyValue': '0.000000',\n  'mRadioactiveDecay': '0.000000',\n  'mForm': 'RF_INVALID',\n  'mSmallIcon': 'Texture2D /Game/FactoryGame/Buildable/Building/Ramp/UI/InvertedDown/IconDesc_SteelInvDRamp1m_256.IconDesc_SteelInvDRamp1m_256',\n  'mPersistentBigIcon': 'Texture2D /Game/FactoryGame/Buildable/Building/Ramp/UI/InvertedDown/IconDesc_SteelInvDRamp1m_512.IconDesc_SteelInvDRamp1m_512',\n  'mCrosshairMaterial': 'None',\n  'mDescriptorStatBars': '',\n  'mSubCategories': '(BlueprintGeneratedClass\\'\"/Game/FactoryGame/Interface/UI/InGame/BuildMenu/BuildCategories/Sub_Organisation/SC_Inverted.SC_Inverted_C\"\\')',\n  'mMenuPriority': '25.000000',\n  'mFluidColor': '(B=0,G=0,R=0,A=0)',\n  'mGasColor': '(B=0,G=0,R=0,A=0)',\n  'mCompatibleItemDescriptors': '',\n  'mClassToScanFor': 'None',\n  'mScannableType': 'RTWOT_Default',\n  'mShouldOverrideScannerDisplayText': 'False',\n  'mScannerDisplayText': '',\n  'mScannerLightColor': '(B=0,G=0,R=0,A=0)'},\n 'Desc_InvertedRamp_DCorner_Metal_8x2_C': {'ClassName': 'Desc_InvertedRamp_DCorner_Metal_8x2_C',\n  'mDisplayName': '',\n  'mDescription': '',\n  'mAbbreviatedDisplayName': '',\n  'mStackSize': 'SS_MEDIUM',\n  'mCanBeDiscarded': 'True',\n  'mRememberPickUp': 'False',\n  'mEnergyValue': '0.000000',\n  'mRadioactiveDecay': '0.000000',\n  'mForm': 'RF_INVALID',\n  'mSmallIcon': 'Texture2D /Game/FactoryGame/Buildable/Building/Ramp/UI/InvertedDown/IconDesc_SteelInvDRamp2m_256.IconDesc_SteelInvDRamp2m_256',\n  'mPersistentBigIcon': 'Texture2D /Game/FactoryGame/Buildable/Building/Ramp/UI/InvertedDown/IconDesc_SteelInvDRamp2m_512.IconDesc_SteelInvDRamp2m_512',\n  'mCrosshairMaterial': 'None',\n  'mDescriptorStatBars': '',\n  'mSubCategories': '(BlueprintGeneratedClass\\'\"/Game/FactoryGame/Interface/UI/InGame/BuildMenu/BuildCategories/Sub_Organisation/SC_Inverted.SC_Inverted_C\"\\')',\n  'mMenuPriority': '26.000000',\n  'mFluidColor': '(B=0,G=0,R=0,A=0)',\n  'mGasColor': '(B=0,G=0,R=0,A=0)',\n  'mCompatibleItemDescriptors': '',\n  'mClassToScanFor': 'None',\n  'mScannableType': 'RTWOT_Default',\n  'mShouldOverrideScannerDisplayText': 'False',\n  'mScannerDisplayText': '',\n  'mScannerLightColor': '(B=0,G=0,R=0,A=0)'},\n 'Desc_InvertedRamp_DCorner_Metal_8x4_C': {'ClassName': 'Desc_InvertedRamp_DCorner_Metal_8x4_C',\n  'mDisplayName': '',\n  'mDescription': '',\n  'mAbbreviatedDisplayName': '',\n  'mStackSize': 'SS_MEDIUM',\n  'mCanBeDiscarded': 'True',\n  'mRememberPickUp': 'False',\n  'mEnergyValue': '0.000000',\n  'mRadioactiveDecay': '0.000000',\n  'mForm': 'RF_INVALID',\n  'mSmallIcon': 'Texture2D /Game/FactoryGame/Buildable/Building/Ramp/UI/InvertedDown/IconDesc_SteelInvDRamp4m_256.IconDesc_SteelInvDRamp4m_256',\n  'mPersistentBigIcon': 'Texture2D /Game/FactoryGame/Buildable/Building/Ramp/UI/InvertedDown/IconDesc_SteelInvDRamp4m_512.IconDesc_SteelInvDRamp4m_512',\n  'mCrosshairMaterial': 'None',\n  'mDescriptorStatBars': '',\n  'mSubCategories': '(BlueprintGeneratedClass\\'\"/Game/FactoryGame/Interface/UI/InGame/BuildMenu/BuildCategories/Sub_Organisation/SC_Inverted.SC_Inverted_C\"\\')',\n  'mMenuPriority': '27.000000',\n  'mFluidColor': '(B=0,G=0,R=0,A=0)',\n  'mGasColor': '(B=0,G=0,R=0,A=0)',\n  'mCompatibleItemDescriptors': '',\n  'mClassToScanFor': 'None',\n  'mScannableType': 'RTWOT_Default',\n  'mShouldOverrideScannerDisplayText': 'False',\n  'mScannerDisplayText': '',\n  'mScannerLightColor': '(B=0,G=0,R=0,A=0)'},\n 'Desc_InvertedRamp_Metal_8x1_C': {'ClassName': 'Desc_InvertedRamp_Metal_8x1_C',\n  'mDisplayName': '',\n  'mDescription': '',\n  'mAbbreviatedDisplayName': '',\n  'mStackSize': 'SS_MEDIUM',\n  'mCanBeDiscarded': 'True',\n  'mRememberPickUp': 'False',\n  'mEnergyValue': '0.000000',\n  'mRadioactiveDecay': '0.000000',\n  'mForm': 'RF_INVALID',\n  'mSmallIcon': 'Texture2D /Game/FactoryGame/Buildable/Building/Ramp/UI/Inverted/IconDesc_SteelInvertRamp2m_256.IconDesc_SteelInvertRamp2m_256',\n  'mPersistentBigIcon': 'Texture2D /Game/FactoryGame/Buildable/Building/Ramp/UI/Inverted/IconDesc_SteelInvertRamp2m_512.IconDesc_SteelInvertRamp2m_512',\n  'mCrosshairMaterial': 'None',\n  'mDescriptorStatBars': '',\n  'mSubCategories': '(BlueprintGeneratedClass\\'\"/Game/FactoryGame/Interface/UI/InGame/BuildMenu/BuildCategories/Sub_Organisation/SC_Inverted.SC_Inverted_C\"\\')',\n  'mMenuPriority': '19.000000',\n  'mFluidColor': '(B=0,G=0,R=0,A=0)',\n  'mGasColor': '(B=0,G=0,R=0,A=0)',\n  'mCompatibleItemDescriptors': '',\n  'mClassToScanFor': 'None',\n  'mScannableType': 'RTWOT_Default',\n  'mShouldOverrideScannerDisplayText': 'False',\n  'mScannerDisplayText': '',\n  'mScannerLightColor': '(B=0,G=0,R=0,A=0)'},\n 'Desc_InvertedRamp_Metal_8x2_C': {'ClassName': 'Desc_InvertedRamp_Metal_8x2_C',\n  'mDisplayName': '',\n  'mDescription': '',\n  'mAbbreviatedDisplayName': '',\n  'mStackSize': 'SS_MEDIUM',\n  'mCanBeDiscarded': 'True',\n  'mRememberPickUp': 'False',\n  'mEnergyValue': '0.000000',\n  'mRadioactiveDecay': '0.000000',\n  'mForm': 'RF_INVALID',\n  'mSmallIcon': 'Texture2D /Game/FactoryGame/Buildable/Building/Ramp/UI/Inverted/IconDesc_SteelInvertRamp1m_256_.IconDesc_SteelInvertRamp1m_256_',\n  'mPersistentBigIcon': 'Texture2D /Game/FactoryGame/Buildable/Building/Ramp/UI/Inverted/IconDesc_SteelInvertRamp1m_512_.IconDesc_SteelInvertRamp1m_512_',\n  'mCrosshairMaterial': 'None',\n  'mDescriptorStatBars': '',\n  'mSubCategories': '(BlueprintGeneratedClass\\'\"/Game/FactoryGame/Interface/UI/InGame/BuildMenu/BuildCategories/Sub_Organisation/SC_Inverted.SC_Inverted_C\"\\')',\n  'mMenuPriority': '20.000000',\n  'mFluidColor': '(B=0,G=0,R=0,A=0)',\n  'mGasColor': '(B=0,G=0,R=0,A=0)',\n  'mCompatibleItemDescriptors': '',\n  'mClassToScanFor': 'None',\n  'mScannableType': 'RTWOT_Default',\n  'mShouldOverrideScannerDisplayText': 'False',\n  'mScannerDisplayText': '',\n  'mScannerLightColor': '(B=0,G=0,R=0,A=0)'},\n 'Desc_InvertedRamp_Metal_8x4_C': {'ClassName': 'Desc_InvertedRamp_Metal_8x4_C',\n  'mDisplayName': '',\n  'mDescription': '',\n  'mAbbreviatedDisplayName': '',\n  'mStackSize': 'SS_MEDIUM',\n  'mCanBeDiscarded': 'True',\n  'mRememberPickUp': 'False',\n  'mEnergyValue': '0.000000',\n  'mRadioactiveDecay': '0.000000',\n  'mForm': 'RF_INVALID',\n  'mSmallIcon': 'Texture2D /Game/FactoryGame/Buildable/Building/Ramp/UI/Inverted/IconDesc_SteelInvertRamp4m_256.IconDesc_SteelInvertRamp4m_256',\n  'mPersistentBigIcon': 'Texture2D /Game/FactoryGame/Buildable/Building/Ramp/UI/Inverted/IconDesc_SteelInvertRamp4m_512.IconDesc_SteelInvertRamp4m_512',\n  'mCrosshairMaterial': 'None',\n  'mDescriptorStatBars': '',\n  'mSubCategories': '(BlueprintGeneratedClass\\'\"/Game/FactoryGame/Interface/UI/InGame/BuildMenu/BuildCategories/Sub_Organisation/SC_Inverted.SC_Inverted_C\"\\')',\n  'mMenuPriority': '21.000000',\n  'mFluidColor': '(B=0,G=0,R=0,A=0)',\n  'mGasColor': '(B=0,G=0,R=0,A=0)',\n  'mCompatibleItemDescriptors': '',\n  'mClassToScanFor': 'None',\n  'mScannableType': 'RTWOT_Default',\n  'mShouldOverrideScannerDisplayText': 'False',\n  'mScannerDisplayText': '',\n  'mScannerLightColor': '(B=0,G=0,R=0,A=0)'},\n 'Desc_InvertedRamp_UCorner_Metal_8x1_C': {'ClassName': 'Desc_InvertedRamp_UCorner_Metal_8x1_C',\n  'mDisplayName': '',\n  'mDescription': '',\n  'mAbbreviatedDisplayName': '',\n  'mStackSize': 'SS_MEDIUM',\n  'mCanBeDiscarded': 'True',\n  'mRememberPickUp': 'False',\n  'mEnergyValue': '0.000000',\n  'mRadioactiveDecay': '0.000000',\n  'mForm': 'RF_INVALID',\n  'mSmallIcon': 'Texture2D /Game/FactoryGame/Buildable/Building/Ramp/UI/InvertedUp/IconDesc_SteelInvURamp1m_256.IconDesc_SteelInvURamp1m_256',\n  'mPersistentBigIcon': 'Texture2D /Game/FactoryGame/Buildable/Building/Ramp/UI/InvertedUp/IconDesc_SteelInvURamp1m_512.IconDesc_SteelInvURamp1m_512',\n  'mCrosshairMaterial': 'None',\n  'mDescriptorStatBars': '',\n  'mSubCategories': '(BlueprintGeneratedClass\\'\"/Game/FactoryGame/Interface/UI/InGame/BuildMenu/BuildCategories/Sub_Organisation/SC_Inverted.SC_Inverted_C\"\\')',\n  'mMenuPriority': '22.000000',\n  'mFluidColor': '(B=0,G=0,R=0,A=0)',\n  'mGasColor': '(B=0,G=0,R=0,A=0)',\n  'mCompatibleItemDescriptors': '',\n  'mClassToScanFor': 'None',\n  'mScannableType': 'RTWOT_Default',\n  'mShouldOverrideScannerDisplayText': 'False',\n  'mScannerDisplayText': '',\n  'mScannerLightColor': '(B=0,G=0,R=0,A=0)'},\n 'Desc_InvertedRamp_UCorner_Metal_8x2_C': {'ClassName': 'Desc_InvertedRamp_UCorner_Metal_8x2_C',\n  'mDisplayName': '',\n  'mDescription': '',\n  'mAbbreviatedDisplayName': '',\n  'mStackSize': 'SS_MEDIUM',\n  'mCanBeDiscarded': 'True',\n  'mRememberPickUp': 'False',\n  'mEnergyValue': '0.000000',\n  'mRadioactiveDecay': '0.000000',\n  'mForm': 'RF_INVALID',\n  'mSmallIcon': 'Texture2D /Game/FactoryGame/Buildable/Building/Ramp/UI/InvertedUp/IconDesc_SteelInvUramp2m_256.IconDesc_SteelInvUramp2m_256',\n  'mPersistentBigIcon': 'Texture2D /Game/FactoryGame/Buildable/Building/Ramp/UI/InvertedUp/IconDesc_SteelInvUramp2m_512.IconDesc_SteelInvUramp2m_512',\n  'mCrosshairMaterial': 'None',\n  'mDescriptorStatBars': '',\n  'mSubCategories': '(BlueprintGeneratedClass\\'\"/Game/FactoryGame/Interface/UI/InGame/BuildMenu/BuildCategories/Sub_Organisation/SC_Inverted.SC_Inverted_C\"\\')',\n  'mMenuPriority': '23.000000',\n  'mFluidColor': '(B=0,G=0,R=0,A=0)',\n  'mGasColor': '(B=0,G=0,R=0,A=0)',\n  'mCompatibleItemDescriptors': '',\n  'mClassToScanFor': 'None',\n  'mScannableType': 'RTWOT_Default',\n  'mShouldOverrideScannerDisplayText': 'False',\n  'mScannerDisplayText': '',\n  'mScannerLightColor': '(B=0,G=0,R=0,A=0)'},\n 'Desc_InvertedRamp_UCorner_Metal_8x4_C': {'ClassName': 'Desc_InvertedRamp_UCorner_Metal_8x4_C',\n  'mDisplayName': '',\n  'mDescription': '',\n  'mAbbreviatedDisplayName': '',\n  'mStackSize': 'SS_MEDIUM',\n  'mCanBeDiscarded': 'True',\n  'mRememberPickUp': 'False',\n  'mEnergyValue': '0.000000',\n  'mRadioactiveDecay': '0.000000',\n  'mForm': 'RF_INVALID',\n  'mSmallIcon': 'Texture2D /Game/FactoryGame/Buildable/Building/Ramp/UI/InvertedUp/IconDesc_SteelInvURamp4m_256.IconDesc_SteelInvURamp4m_256',\n  'mPersistentBigIcon': 'Texture2D /Game/FactoryGame/Buildable/Building/Ramp/UI/InvertedUp/IconDesc_SteelInvURamp4m_512.IconDesc_SteelInvURamp4m_512',\n  'mCrosshairMaterial': 'None',\n  'mDescriptorStatBars': '',\n  'mSubCategories': '(BlueprintGeneratedClass\\'\"/Game/FactoryGame/Interface/UI/InGame/BuildMenu/BuildCategories/Sub_Organisation/SC_Inverted.SC_Inverted_C\"\\')',\n  'mMenuPriority': '24.000000',\n  'mFluidColor': '(B=0,G=0,R=0,A=0)',\n  'mGasColor': '(B=0,G=0,R=0,A=0)',\n  'mCompatibleItemDescriptors': '',\n  'mClassToScanFor': 'None',\n  'mScannableType': 'RTWOT_Default',\n  'mShouldOverrideScannerDisplayText': 'False',\n  'mScannerDisplayText': '',\n  'mScannerLightColor': '(B=0,G=0,R=0,A=0)'},\n 'Desc_QuarterPipe_Grip_8x4_C': {'ClassName': 'Desc_QuarterPipe_Grip_8x4_C',\n  'mDisplayName': '',\n  'mDescription': '',\n  'mAbbreviatedDisplayName': '',\n  'mStackSize': 'SS_MEDIUM',\n  'mCanBeDiscarded': 'True',\n  'mRememberPickUp': 'False',\n  'mEnergyValue': '0.000000',\n  'mRadioactiveDecay': '0.000000',\n  'mForm': 'RF_INVALID',\n  'mSmallIcon': 'Texture2D /Game/FactoryGame/Buildable/Building/Foundation/UI/QuarterPipe/IconDesc_QP_Grip_8x4_256.IconDesc_QP_Grip_8x4_256',\n  'mPersistentBigIcon': 'Texture2D /Game/FactoryGame/Buildable/Building/Foundation/UI/QuarterPipe/IconDesc_QP_Grip_8x4_512.IconDesc_QP_Grip_8x4_512',\n  'mCrosshairMaterial': 'None',\n  'mDescriptorStatBars': '',\n  'mSubCategories': '(BlueprintGeneratedClass\\'\"/Game/FactoryGame/Interface/UI/InGame/BuildMenu/BuildCategories/Sub_Organisation/SC_QuatPipes.SC_QuatPipes_C\"\\')',\n  'mMenuPriority': '25.000000',\n  'mFluidColor': '(B=0,G=0,R=0,A=0)',\n  'mGasColor': '(B=0,G=0,R=0,A=0)',\n  'mCompatibleItemDescriptors': '',\n  'mClassToScanFor': 'None',\n  'mScannableType': 'RTWOT_Default',\n  'mShouldOverrideScannerDisplayText': 'False',\n  'mScannerDisplayText': '',\n  'mScannerLightColor': '(B=0,G=0,R=0,A=0)'},\n 'Desc_QuarterPipeInCorner_Grip_8x4_C': {'ClassName': 'Desc_QuarterPipeInCorner_Grip_8x4_C',\n  'mDisplayName': '',\n  'mDescription': '',\n  'mAbbreviatedDisplayName': '',\n  'mStackSize': 'SS_MEDIUM',\n  'mCanBeDiscarded': 'True',\n  'mRememberPickUp': 'False',\n  'mEnergyValue': '0.000000',\n  'mRadioactiveDecay': '0.000000',\n  'mForm': 'RF_INVALID',\n  'mSmallIcon': 'Texture2D /Game/FactoryGame/Buildable/Building/Foundation/UI/QuarterPipe/IconDesc_QP_Grip_InCorner_8x4_256.IconDesc_QP_Grip_InCorner_8x4_256',\n  'mPersistentBigIcon': 'Texture2D /Game/FactoryGame/Buildable/Building/Foundation/UI/QuarterPipe/IconDesc_QP_Grip_InCorner_8x4_512.IconDesc_QP_Grip_InCorner_8x4_512',\n  'mCrosshairMaterial': 'None',\n  'mDescriptorStatBars': '',\n  'mSubCategories': '(BlueprintGeneratedClass\\'\"/Game/FactoryGame/Interface/UI/InGame/BuildMenu/BuildCategories/Sub_Organisation/SC_QuatPipes.SC_QuatPipes_C\"\\')',\n  'mMenuPriority': '27.000000',\n  'mFluidColor': '(B=0,G=0,R=0,A=0)',\n  'mGasColor': '(B=0,G=0,R=0,A=0)',\n  'mCompatibleItemDescriptors': '',\n  'mClassToScanFor': 'None',\n  'mScannableType': 'RTWOT_Default',\n  'mShouldOverrideScannerDisplayText': 'False',\n  'mScannerDisplayText': '',\n  'mScannerLightColor': '(B=0,G=0,R=0,A=0)'},\n 'Desc_QuarterPipeMiddle_Grip_8x1_C': {'ClassName': 'Desc_QuarterPipeMiddle_Grip_8x1_C',\n  'mDisplayName': '',\n  'mDescription': '',\n  'mAbbreviatedDisplayName': '',\n  'mStackSize': 'SS_MEDIUM',\n  'mCanBeDiscarded': 'True',\n  'mRememberPickUp': 'False',\n  'mEnergyValue': '0.000000',\n  'mRadioactiveDecay': '0.000000',\n  'mForm': 'RF_INVALID',\n  'mSmallIcon': 'Texture2D /Game/FactoryGame/Buildable/Building/Foundation/UI/QuarterPipe/IconDesc_QP_Grip_Mid_8x1_256.IconDesc_QP_Grip_Mid_8x1_256',\n  'mPersistentBigIcon': 'Texture2D /Game/FactoryGame/Buildable/Building/Foundation/UI/QuarterPipe/IconDesc_QP_Grip_Mid_8x1_512.IconDesc_QP_Grip_Mid_8x1_512',\n  'mCrosshairMaterial': 'None',\n  'mDescriptorStatBars': '',\n  'mSubCategories': '(BlueprintGeneratedClass\\'\"/Game/FactoryGame/Interface/UI/InGame/BuildMenu/BuildCategories/Sub_Organisation/SC_Floors.SC_Floors_C\"\\')',\n  'mMenuPriority': '16.000000',\n  'mFluidColor': '(B=0,G=0,R=0,A=0)',\n  'mGasColor': '(B=0,G=0,R=0,A=0)',\n  'mCompatibleItemDescriptors': '',\n  'mClassToScanFor': 'None',\n  'mScannableType': 'RTWOT_Default',\n  'mShouldOverrideScannerDisplayText': 'False',\n  'mScannerDisplayText': '',\n  'mScannerLightColor': '(B=0,G=0,R=0,A=0)'},\n 'Desc_QuarterPipeMiddle_Grip_8x2_C': {'ClassName': 'Desc_QuarterPipeMiddle_Grip_8x2_C',\n  'mDisplayName': '',\n  'mDescription': '',\n  'mAbbreviatedDisplayName': '',\n  'mStackSize': 'SS_MEDIUM',\n  'mCanBeDiscarded': 'True',\n  'mRememberPickUp': 'False',\n  'mEnergyValue': '0.000000',\n  'mRadioactiveDecay': '0.000000',\n  'mForm': 'RF_INVALID',\n  'mSmallIcon': 'Texture2D /Game/FactoryGame/Buildable/Building/Foundation/UI/QuarterPipe/IconDesc_QP_Grip_Mid_8x2_256.IconDesc_QP_Grip_Mid_8x2_256',\n  'mPersistentBigIcon': 'Texture2D /Game/FactoryGame/Buildable/Building/Foundation/UI/QuarterPipe/IconDesc_QP_Grip_Mid_8x2_512.IconDesc_QP_Grip_Mid_8x2_512',\n  'mCrosshairMaterial': 'None',\n  'mDescriptorStatBars': '',\n  'mSubCategories': '(BlueprintGeneratedClass\\'\"/Game/FactoryGame/Interface/UI/InGame/BuildMenu/BuildCategories/Sub_Organisation/SC_Floors.SC_Floors_C\"\\')',\n  'mMenuPriority': '17.000000',\n  'mFluidColor': '(B=0,G=0,R=0,A=0)',\n  'mGasColor': '(B=0,G=0,R=0,A=0)',\n  'mCompatibleItemDescriptors': '',\n  'mClassToScanFor': 'None',\n  'mScannableType': 'RTWOT_Default',\n  'mShouldOverrideScannerDisplayText': 'False',\n  'mScannerDisplayText': '',\n  'mScannerLightColor': '(B=0,G=0,R=0,A=0)'},\n 'Desc_QuarterPipeMiddle_Grip_8x4_C': {'ClassName': 'Desc_QuarterPipeMiddle_Grip_8x4_C',\n  'mDisplayName': '',\n  'mDescription': '',\n  'mAbbreviatedDisplayName': '',\n  'mStackSize': 'SS_MEDIUM',\n  'mCanBeDiscarded': 'True',\n  'mRememberPickUp': 'False',\n  'mEnergyValue': '0.000000',\n  'mRadioactiveDecay': '0.000000',\n  'mForm': 'RF_INVALID',\n  'mSmallIcon': 'Texture2D /Game/FactoryGame/Buildable/Building/Foundation/UI/QuarterPipe/IconDesc_QP_Grip_Mid_8x4_256.IconDesc_QP_Grip_Mid_8x4_256',\n  'mPersistentBigIcon': 'Texture2D /Game/FactoryGame/Buildable/Building/Foundation/UI/QuarterPipe/IconDesc_QP_Grip_Mid_8x4_512.IconDesc_QP_Grip_Mid_8x4_512',\n  'mCrosshairMaterial': 'None',\n  'mDescriptorStatBars': '',\n  'mSubCategories': '(BlueprintGeneratedClass\\'\"/Game/FactoryGame/Interface/UI/InGame/BuildMenu/BuildCategories/Sub_Organisation/SC_Floors.SC_Floors_C\"\\')',\n  'mMenuPriority': '18.000000',\n  'mFluidColor': '(B=0,G=0,R=0,A=0)',\n  'mGasColor': '(B=0,G=0,R=0,A=0)',\n  'mCompatibleItemDescriptors': '',\n  'mClassToScanFor': 'None',\n  'mScannableType': 'RTWOT_Default',\n  'mShouldOverrideScannerDisplayText': 'False',\n  'mScannerDisplayText': '',\n  'mScannerLightColor': '(B=0,G=0,R=0,A=0)'},\n 'Desc_QuarterPipeMiddleInCorner_Grip_8x1_C': {'ClassName': 'Desc_QuarterPipeMiddleInCorner_Grip_8x1_C',\n  'mDisplayName': '',\n  'mDescription': '',\n  'mAbbreviatedDisplayName': '',\n  'mStackSize': 'SS_MEDIUM',\n  'mCanBeDiscarded': 'True',\n  'mRememberPickUp': 'False',\n  'mEnergyValue': '0.000000',\n  'mRadioactiveDecay': '0.000000',\n  'mForm': 'RF_INVALID',\n  'mSmallIcon': 'Texture2D /Game/FactoryGame/Buildable/Building/Foundation/UI/QuarterPipe/IconDesc_QP_Grip_MidInCorner_8x1_256.IconDesc_QP_Grip_MidInCorner_8x1_256',\n  'mPersistentBigIcon': 'Texture2D /Game/FactoryGame/Buildable/Building/Foundation/UI/QuarterPipe/IconDesc_QP_Grip_MidInCorner_8x1_512.IconDesc_QP_Grip_MidInCorner_8x1_512',\n  'mCrosshairMaterial': 'None',\n  'mDescriptorStatBars': '',\n  'mSubCategories': '(BlueprintGeneratedClass\\'\"/Game/FactoryGame/Interface/UI/InGame/BuildMenu/BuildCategories/Sub_Organisation/SC_QuatPipes.SC_QuatPipes_C\"\\')',\n  'mMenuPriority': '31.000000',\n  'mFluidColor': '(B=0,G=0,R=0,A=0)',\n  'mGasColor': '(B=0,G=0,R=0,A=0)',\n  'mCompatibleItemDescriptors': '',\n  'mClassToScanFor': 'None',\n  'mScannableType': 'RTWOT_Default',\n  'mShouldOverrideScannerDisplayText': 'False',\n  'mScannerDisplayText': '',\n  'mScannerLightColor': '(B=0,G=0,R=0,A=0)'},\n 'Desc_QuarterPipeMiddleInCorner_Grip_8x2_C': {'ClassName': 'Desc_QuarterPipeMiddleInCorner_Grip_8x2_C',\n  'mDisplayName': '',\n  'mDescription': '',\n  'mAbbreviatedDisplayName': '',\n  'mStackSize': 'SS_MEDIUM',\n  'mCanBeDiscarded': 'True',\n  'mRememberPickUp': 'False',\n  'mEnergyValue': '0.000000',\n  'mRadioactiveDecay': '0.000000',\n  'mForm': 'RF_INVALID',\n  'mSmallIcon': 'Texture2D /Game/FactoryGame/Buildable/Building/Foundation/UI/QuarterPipe/IconDesc_QP_Grip_MidInCorner_8x2_256.IconDesc_QP_Grip_MidInCorner_8x2_256',\n  'mPersistentBigIcon': 'Texture2D /Game/FactoryGame/Buildable/Building/Foundation/UI/QuarterPipe/IconDesc_QP_Grip_MidInCorner_8x2_512.IconDesc_QP_Grip_MidInCorner_8x2_512',\n  'mCrosshairMaterial': 'None',\n  'mDescriptorStatBars': '',\n  'mSubCategories': '(BlueprintGeneratedClass\\'\"/Game/FactoryGame/Interface/UI/InGame/BuildMenu/BuildCategories/Sub_Organisation/SC_QuatPipes.SC_QuatPipes_C\"\\')',\n  'mMenuPriority': '32.000000',\n  'mFluidColor': '(B=0,G=0,R=0,A=0)',\n  'mGasColor': '(B=0,G=0,R=0,A=0)',\n  'mCompatibleItemDescriptors': '',\n  'mClassToScanFor': 'None',\n  'mScannableType': 'RTWOT_Default',\n  'mShouldOverrideScannerDisplayText': 'False',\n  'mScannerDisplayText': '',\n  'mScannerLightColor': '(B=0,G=0,R=0,A=0)'},\n 'Desc_QuarterPipeMiddleInCorner_Grip_8x4_C': {'ClassName': 'Desc_QuarterPipeMiddleInCorner_Grip_8x4_C',\n  'mDisplayName': '',\n  'mDescription': '',\n  'mAbbreviatedDisplayName': '',\n  'mStackSize': 'SS_MEDIUM',\n  'mCanBeDiscarded': 'True',\n  'mRememberPickUp': 'False',\n  'mEnergyValue': '0.000000',\n  'mRadioactiveDecay': '0.000000',\n  'mForm': 'RF_INVALID',\n  'mSmallIcon': 'Texture2D /Game/FactoryGame/Buildable/Building/Foundation/UI/QuarterPipe/IconDesc_QP_Grip_MidInCorner_8x4_256.IconDesc_QP_Grip_MidInCorner_8x4_256',\n  'mPersistentBigIcon': 'Texture2D /Game/FactoryGame/Buildable/Building/Foundation/UI/QuarterPipe/IconDesc_QP_Grip_MidInCorner_8x4_512.IconDesc_QP_Grip_MidInCorner_8x4_512',\n  'mCrosshairMaterial': 'None',\n  'mDescriptorStatBars': '',\n  'mSubCategories': '(BlueprintGeneratedClass\\'\"/Game/FactoryGame/Interface/UI/InGame/BuildMenu/BuildCategories/Sub_Organisation/SC_QuatPipes.SC_QuatPipes_C\"\\')',\n  'mMenuPriority': '33.000000',\n  'mFluidColor': '(B=0,G=0,R=0,A=0)',\n  'mGasColor': '(B=0,G=0,R=0,A=0)',\n  'mCompatibleItemDescriptors': '',\n  'mClassToScanFor': 'None',\n  'mScannableType': 'RTWOT_Default',\n  'mShouldOverrideScannerDisplayText': 'False',\n  'mScannerDisplayText': '',\n  'mScannerLightColor': '(B=0,G=0,R=0,A=0)'},\n 'Desc_QuarterPipeMiddleOutCorner_Grip_4x1_C': {'ClassName': 'Desc_QuarterPipeMiddleOutCorner_Grip_4x1_C',\n  'mDisplayName': '',\n  'mDescription': '',\n  'mAbbreviatedDisplayName': '',\n  'mStackSize': 'SS_MEDIUM',\n  'mCanBeDiscarded': 'True',\n  'mRememberPickUp': 'False',\n  'mEnergyValue': '0.000000',\n  'mRadioactiveDecay': '0.000000',\n  'mForm': 'RF_INVALID',\n  'mSmallIcon': 'Texture2D /Game/FactoryGame/Buildable/Building/Foundation/UI/QuarterPipe/IconDesc_QP_Grip_MidOutCorner_8x1_256.IconDesc_QP_Grip_MidOutCorner_8x1_256',\n  'mPersistentBigIcon': 'Texture2D /Game/FactoryGame/Buildable/Building/Foundation/UI/QuarterPipe/IconDesc_QP_Grip_MidOutCorner_8x1_512.IconDesc_QP_Grip_MidOutCorner_8x1_512',\n  'mCrosshairMaterial': 'None',\n  'mDescriptorStatBars': '',\n  'mSubCategories': '(BlueprintGeneratedClass\\'\"/Game/FactoryGame/Interface/UI/InGame/BuildMenu/BuildCategories/Sub_Organisation/SC_QuatPipes.SC_QuatPipes_C\"\\')',\n  'mMenuPriority': '34.000000',\n  'mFluidColor': '(B=0,G=0,R=0,A=0)',\n  'mGasColor': '(B=0,G=0,R=0,A=0)',\n  'mCompatibleItemDescriptors': '',\n  'mClassToScanFor': 'None',\n  'mScannableType': 'RTWOT_Default',\n  'mShouldOverrideScannerDisplayText': 'False',\n  'mScannerDisplayText': '',\n  'mScannerLightColor': '(B=0,G=0,R=0,A=0)'},\n 'Desc_QuarterPipeMiddleOutCorner_Grip_4x2_C': {'ClassName': 'Desc_QuarterPipeMiddleOutCorner_Grip_4x2_C',\n  'mDisplayName': '',\n  'mDescription': '',\n  'mAbbreviatedDisplayName': '',\n  'mStackSize': 'SS_MEDIUM',\n  'mCanBeDiscarded': 'True',\n  'mRememberPickUp': 'False',\n  'mEnergyValue': '0.000000',\n  'mRadioactiveDecay': '0.000000',\n  'mForm': 'RF_INVALID',\n  'mSmallIcon': 'Texture2D /Game/FactoryGame/Buildable/Building/Foundation/UI/QuarterPipe/IconDesc_QP_Grip_MidOutCorner_8x2_256.IconDesc_QP_Grip_MidOutCorner_8x2_256',\n  'mPersistentBigIcon': 'Texture2D /Game/FactoryGame/Buildable/Building/Foundation/UI/QuarterPipe/IconDesc_QP_Grip_MidOutCorner_8x2_512.IconDesc_QP_Grip_MidOutCorner_8x2_512',\n  'mCrosshairMaterial': 'None',\n  'mDescriptorStatBars': '',\n  'mSubCategories': '(BlueprintGeneratedClass\\'\"/Game/FactoryGame/Interface/UI/InGame/BuildMenu/BuildCategories/Sub_Organisation/SC_QuatPipes.SC_QuatPipes_C\"\\')',\n  'mMenuPriority': '35.000000',\n  'mFluidColor': '(B=0,G=0,R=0,A=0)',\n  'mGasColor': '(B=0,G=0,R=0,A=0)',\n  'mCompatibleItemDescriptors': '',\n  'mClassToScanFor': 'None',\n  'mScannableType': 'RTWOT_Default',\n  'mShouldOverrideScannerDisplayText': 'False',\n  'mScannerDisplayText': '',\n  'mScannerLightColor': '(B=0,G=0,R=0,A=0)'},\n 'Desc_QuarterPipeMiddleOutCorner_Grip_4x4_C': {'ClassName': 'Desc_QuarterPipeMiddleOutCorner_Grip_4x4_C',\n  'mDisplayName': '',\n  'mDescription': '',\n  'mAbbreviatedDisplayName': '',\n  'mStackSize': 'SS_MEDIUM',\n  'mCanBeDiscarded': 'True',\n  'mRememberPickUp': 'False',\n  'mEnergyValue': '0.000000',\n  'mRadioactiveDecay': '0.000000',\n  'mForm': 'RF_INVALID',\n  'mSmallIcon': 'Texture2D /Game/FactoryGame/Buildable/Building/Foundation/UI/QuarterPipe/IconDesc_QP_Grip_MidOutCorner_8x4_256.IconDesc_QP_Grip_MidOutCorner_8x4_256',\n  'mPersistentBigIcon': 'Texture2D /Game/FactoryGame/Buildable/Building/Foundation/UI/QuarterPipe/IconDesc_QP_Grip_MidOutCorner_8x4_512.IconDesc_QP_Grip_MidOutCorner_8x4_512',\n  'mCrosshairMaterial': 'None',\n  'mDescriptorStatBars': '',\n  'mSubCategories': '(BlueprintGeneratedClass\\'\"/Game/FactoryGame/Interface/UI/InGame/BuildMenu/BuildCategories/Sub_Organisation/SC_QuatPipes.SC_QuatPipes_C\"\\')',\n  'mMenuPriority': '36.000000',\n  'mFluidColor': '(B=0,G=0,R=0,A=0)',\n  'mGasColor': '(B=0,G=0,R=0,A=0)',\n  'mCompatibleItemDescriptors': '',\n  'mClassToScanFor': 'None',\n  'mScannableType': 'RTWOT_Default',\n  'mShouldOverrideScannerDisplayText': 'False',\n  'mScannerDisplayText': '',\n  'mScannerLightColor': '(B=0,G=0,R=0,A=0)'},\n 'Desc_QuarterPipeOutCorner_Grip_8x4_C': {'ClassName': 'Desc_QuarterPipeOutCorner_Grip_8x4_C',\n  'mDisplayName': '',\n  'mDescription': '',\n  'mAbbreviatedDisplayName': '',\n  'mStackSize': 'SS_MEDIUM',\n  'mCanBeDiscarded': 'True',\n  'mRememberPickUp': 'False',\n  'mEnergyValue': '0.000000',\n  'mRadioactiveDecay': '0.000000',\n  'mForm': 'RF_INVALID',\n  'mSmallIcon': 'Texture2D /Game/FactoryGame/Buildable/Building/Foundation/UI/QuarterPipe/IconDesc_QP_Grip_Out_8x4_256.IconDesc_QP_Grip_Out_8x4_256',\n  'mPersistentBigIcon': 'Texture2D /Game/FactoryGame/Buildable/Building/Foundation/UI/QuarterPipe/IconDesc_QP_Grip_Out_8x4_512.IconDesc_QP_Grip_Out_8x4_512',\n  'mCrosshairMaterial': 'None',\n  'mDescriptorStatBars': '',\n  'mSubCategories': '(BlueprintGeneratedClass\\'\"/Game/FactoryGame/Interface/UI/InGame/BuildMenu/BuildCategories/Sub_Organisation/SC_QuatPipes.SC_QuatPipes_C\"\\')',\n  'mMenuPriority': '29.000000',\n  'mFluidColor': '(B=0,G=0,R=0,A=0)',\n  'mGasColor': '(B=0,G=0,R=0,A=0)',\n  'mCompatibleItemDescriptors': '',\n  'mClassToScanFor': 'None',\n  'mScannableType': 'RTWOT_Default',\n  'mShouldOverrideScannerDisplayText': 'False',\n  'mScannerDisplayText': '',\n  'mScannerLightColor': '(B=0,G=0,R=0,A=0)'},\n 'Desc_Ramp_DownCorner_Metal_8x1_C': {'ClassName': 'Desc_Ramp_DownCorner_Metal_8x1_C',\n  'mDisplayName': '',\n  'mDescription': '',\n  'mAbbreviatedDisplayName': '',\n  'mStackSize': 'SS_MEDIUM',\n  'mCanBeDiscarded': 'True',\n  'mRememberPickUp': 'False',\n  'mEnergyValue': '0.000000',\n  'mRadioactiveDecay': '0.000000',\n  'mForm': 'RF_INVALID',\n  'mSmallIcon': 'Texture2D /Game/FactoryGame/Buildable/Building/Ramp/UI/CornerDown/IconDesc_SteelRampDown1m_256.IconDesc_SteelRampDown1m_256',\n  'mPersistentBigIcon': 'Texture2D /Game/FactoryGame/Buildable/Building/Ramp/UI/CornerDown/IconDesc_SteelRampDown1m_512.IconDesc_SteelRampDown1m_512',\n  'mCrosshairMaterial': 'None',\n  'mDescriptorStatBars': '',\n  'mSubCategories': '(BlueprintGeneratedClass\\'\"/Game/FactoryGame/Interface/UI/InGame/BuildMenu/BuildCategories/Sub_Organisation/SC_Ramps.SC_Ramps_C\"\\')',\n  'mMenuPriority': '31.000000',\n  'mFluidColor': '(B=0,G=0,R=0,A=0)',\n  'mGasColor': '(B=0,G=0,R=0,A=0)',\n  'mCompatibleItemDescriptors': '',\n  'mClassToScanFor': 'None',\n  'mScannableType': 'RTWOT_Default',\n  'mShouldOverrideScannerDisplayText': 'False',\n  'mScannerDisplayText': '',\n  'mScannerLightColor': '(B=0,G=0,R=0,A=0)'},\n 'Desc_Ramp_DownCorner_Metal_8x2_C': {'ClassName': 'Desc_Ramp_DownCorner_Metal_8x2_C',\n  'mDisplayName': '',\n  'mDescription': '',\n  'mAbbreviatedDisplayName': '',\n  'mStackSize': 'SS_MEDIUM',\n  'mCanBeDiscarded': 'True',\n  'mRememberPickUp': 'False',\n  'mEnergyValue': '0.000000',\n  'mRadioactiveDecay': '0.000000',\n  'mForm': 'RF_INVALID',\n  'mSmallIcon': 'Texture2D /Game/FactoryGame/Buildable/Building/Ramp/UI/CornerDown/IconDesc_SteelRampDown2m_256.IconDesc_SteelRampDown2m_256',\n  'mPersistentBigIcon': 'Texture2D /Game/FactoryGame/Buildable/Building/Ramp/UI/CornerDown/IconDesc_SteelRampDown2m_512.IconDesc_SteelRampDown2m_512',\n  'mCrosshairMaterial': 'None',\n  'mDescriptorStatBars': '',\n  'mSubCategories': '(BlueprintGeneratedClass\\'\"/Game/FactoryGame/Interface/UI/InGame/BuildMenu/BuildCategories/Sub_Organisation/SC_Ramps.SC_Ramps_C\"\\')',\n  'mMenuPriority': '32.000000',\n  'mFluidColor': '(B=0,G=0,R=0,A=0)',\n  'mGasColor': '(B=0,G=0,R=0,A=0)',\n  'mCompatibleItemDescriptors': '',\n  'mClassToScanFor': 'None',\n  'mScannableType': 'RTWOT_Default',\n  'mShouldOverrideScannerDisplayText': 'False',\n  'mScannerDisplayText': '',\n  'mScannerLightColor': '(B=0,G=0,R=0,A=0)'},\n 'Desc_Ramp_DownCorner_Metal_8x4_C': {'ClassName': 'Desc_Ramp_DownCorner_Metal_8x4_C',\n  'mDisplayName': '',\n  'mDescription': '',\n  'mAbbreviatedDisplayName': '',\n  'mStackSize': 'SS_MEDIUM',\n  'mCanBeDiscarded': 'True',\n  'mRememberPickUp': 'False',\n  'mEnergyValue': '0.000000',\n  'mRadioactiveDecay': '0.000000',\n  'mForm': 'RF_INVALID',\n  'mSmallIcon': 'Texture2D /Game/FactoryGame/Buildable/Building/Ramp/UI/CornerDown/IconDesc_SteelRampDown4m_256.IconDesc_SteelRampDown4m_256',\n  'mPersistentBigIcon': 'Texture2D /Game/FactoryGame/Buildable/Building/Ramp/UI/CornerDown/IconDesc_SteelRampDown4m_512.IconDesc_SteelRampDown4m_512',\n  'mCrosshairMaterial': 'None',\n  'mDescriptorStatBars': '',\n  'mSubCategories': '(BlueprintGeneratedClass\\'\"/Game/FactoryGame/Interface/UI/InGame/BuildMenu/BuildCategories/Sub_Organisation/SC_Ramps.SC_Ramps_C\"\\')',\n  'mMenuPriority': '33.000000',\n  'mFluidColor': '(B=0,G=0,R=0,A=0)',\n  'mGasColor': '(B=0,G=0,R=0,A=0)',\n  'mCompatibleItemDescriptors': '',\n  'mClassToScanFor': 'None',\n  'mScannableType': 'RTWOT_Default',\n  'mShouldOverrideScannerDisplayText': 'False',\n  'mScannerDisplayText': '',\n  'mScannerLightColor': '(B=0,G=0,R=0,A=0)'},\n 'Desc_Ramp_Metal_8x1_C': {'ClassName': 'Desc_Ramp_Metal_8x1_C',\n  'mDisplayName': '',\n  'mDescription': '',\n  'mAbbreviatedDisplayName': '',\n  'mStackSize': 'SS_MEDIUM',\n  'mCanBeDiscarded': 'True',\n  'mRememberPickUp': 'False',\n  'mEnergyValue': '0.000000',\n  'mRadioactiveDecay': '0.000000',\n  'mForm': 'RF_INVALID',\n  'mSmallIcon': 'Texture2D /Game/FactoryGame/Buildable/Building/Ramp/UI/Regular/IconDesc_SteelRamp1m_256.IconDesc_SteelRamp1m_256',\n  'mPersistentBigIcon': 'Texture2D /Game/FactoryGame/Buildable/Building/Ramp/UI/Regular/IconDesc_SteelRamp1m_512.IconDesc_SteelRamp1m_512',\n  'mCrosshairMaterial': 'None',\n  'mDescriptorStatBars': '',\n  'mSubCategories': '(BlueprintGeneratedClass\\'\"/Game/FactoryGame/Interface/UI/InGame/BuildMenu/BuildCategories/Sub_Organisation/SC_Ramps.SC_Ramps_C\"\\')',\n  'mMenuPriority': '25.000000',\n  'mFluidColor': '(B=0,G=0,R=0,A=0)',\n  'mGasColor': '(B=0,G=0,R=0,A=0)',\n  'mCompatibleItemDescriptors': '',\n  'mClassToScanFor': 'None',\n  'mScannableType': 'RTWOT_Default',\n  'mShouldOverrideScannerDisplayText': 'False',\n  'mScannerDisplayText': '',\n  'mScannerLightColor': '(B=0,G=0,R=0,A=0)'},\n 'Desc_Ramp_Metal_8x2_C': {'ClassName': 'Desc_Ramp_Metal_8x2_C',\n  'mDisplayName': '',\n  'mDescription': '',\n  'mAbbreviatedDisplayName': '',\n  'mStackSize': 'SS_MEDIUM',\n  'mCanBeDiscarded': 'True',\n  'mRememberPickUp': 'False',\n  'mEnergyValue': '0.000000',\n  'mRadioactiveDecay': '0.000000',\n  'mForm': 'RF_INVALID',\n  'mSmallIcon': 'Texture2D /Game/FactoryGame/Buildable/Building/Ramp/UI/Regular/IconDesc_SteelRamp2m_256.IconDesc_SteelRamp2m_256',\n  'mPersistentBigIcon': 'Texture2D /Game/FactoryGame/Buildable/Building/Ramp/UI/Regular/IconDesc_SteelRamp2m_512.IconDesc_SteelRamp2m_512',\n  'mCrosshairMaterial': 'None',\n  'mDescriptorStatBars': '',\n  'mSubCategories': '(BlueprintGeneratedClass\\'\"/Game/FactoryGame/Interface/UI/InGame/BuildMenu/BuildCategories/Sub_Organisation/SC_Ramps.SC_Ramps_C\"\\')',\n  'mMenuPriority': '26.000000',\n  'mFluidColor': '(B=0,G=0,R=0,A=0)',\n  'mGasColor': '(B=0,G=0,R=0,A=0)',\n  'mCompatibleItemDescriptors': '',\n  'mClassToScanFor': 'None',\n  'mScannableType': 'RTWOT_Default',\n  'mShouldOverrideScannerDisplayText': 'False',\n  'mScannerDisplayText': '',\n  'mScannerLightColor': '(B=0,G=0,R=0,A=0)'},\n 'Desc_Ramp_Metal_8x4_C': {'ClassName': 'Desc_Ramp_Metal_8x4_C',\n  'mDisplayName': '',\n  'mDescription': '',\n  'mAbbreviatedDisplayName': '',\n  'mStackSize': 'SS_MEDIUM',\n  'mCanBeDiscarded': 'True',\n  'mRememberPickUp': 'False',\n  'mEnergyValue': '0.000000',\n  'mRadioactiveDecay': '0.000000',\n  'mForm': 'RF_INVALID',\n  'mSmallIcon': 'Texture2D /Game/FactoryGame/Buildable/Building/Ramp/UI/Regular/IconDesc_SteelRamp4m_256.IconDesc_SteelRamp4m_256',\n  'mPersistentBigIcon': 'Texture2D /Game/FactoryGame/Buildable/Building/Ramp/UI/Regular/IconDesc_SteelRamp4m_512.IconDesc_SteelRamp4m_512',\n  'mCrosshairMaterial': 'None',\n  'mDescriptorStatBars': '',\n  'mSubCategories': '(BlueprintGeneratedClass\\'\"/Game/FactoryGame/Interface/UI/InGame/BuildMenu/BuildCategories/Sub_Organisation/SC_Ramps.SC_Ramps_C\"\\')',\n  'mMenuPriority': '27.000000',\n  'mFluidColor': '(B=0,G=0,R=0,A=0)',\n  'mGasColor': '(B=0,G=0,R=0,A=0)',\n  'mCompatibleItemDescriptors': '',\n  'mClassToScanFor': 'None',\n  'mScannableType': 'RTWOT_Default',\n  'mShouldOverrideScannerDisplayText': 'False',\n  'mScannerDisplayText': '',\n  'mScannerLightColor': '(B=0,G=0,R=0,A=0)'},\n 'Desc_Ramp_UpCorner_Metal_8x1_C': {'ClassName': 'Desc_Ramp_UpCorner_Metal_8x1_C',\n  'mDisplayName': '',\n  'mDescription': '',\n  'mAbbreviatedDisplayName': '',\n  'mStackSize': 'SS_MEDIUM',\n  'mCanBeDiscarded': 'True',\n  'mRememberPickUp': 'False',\n  'mEnergyValue': '0.000000',\n  'mRadioactiveDecay': '0.000000',\n  'mForm': 'RF_INVALID',\n  'mSmallIcon': 'Texture2D /Game/FactoryGame/Buildable/Building/Ramp/UI/CornerUp/IconDesc_SteelRampUp1m_256.IconDesc_SteelRampUp1m_256',\n  'mPersistentBigIcon': 'Texture2D /Game/FactoryGame/Buildable/Building/Ramp/UI/CornerUp/IconDesc_SteelRampUp1m_512.IconDesc_SteelRampUp1m_512',\n  'mCrosshairMaterial': 'None',\n  'mDescriptorStatBars': '',\n  'mSubCategories': '(BlueprintGeneratedClass\\'\"/Game/FactoryGame/Interface/UI/InGame/BuildMenu/BuildCategories/Sub_Organisation/SC_Ramps.SC_Ramps_C\"\\')',\n  'mMenuPriority': '28.000000',\n  'mFluidColor': '(B=0,G=0,R=0,A=0)',\n  'mGasColor': '(B=0,G=0,R=0,A=0)',\n  'mCompatibleItemDescriptors': '',\n  'mClassToScanFor': 'None',\n  'mScannableType': 'RTWOT_Default',\n  'mShouldOverrideScannerDisplayText': 'False',\n  'mScannerDisplayText': '',\n  'mScannerLightColor': '(B=0,G=0,R=0,A=0)'},\n 'Desc_Ramp_UpCorner_Metal_8x2_C': {'ClassName': 'Desc_Ramp_UpCorner_Metal_8x2_C',\n  'mDisplayName': '',\n  'mDescription': '',\n  'mAbbreviatedDisplayName': '',\n  'mStackSize': 'SS_MEDIUM',\n  'mCanBeDiscarded': 'True',\n  'mRememberPickUp': 'False',\n  'mEnergyValue': '0.000000',\n  'mRadioactiveDecay': '0.000000',\n  'mForm': 'RF_INVALID',\n  'mSmallIcon': 'Texture2D /Game/FactoryGame/Buildable/Building/Ramp/UI/CornerUp/IconDesc_SteelRampUp2m_256.IconDesc_SteelRampUp2m_256',\n  'mPersistentBigIcon': 'Texture2D /Game/FactoryGame/Buildable/Building/Ramp/UI/CornerUp/IconDesc_SteelRampUp2m_512.IconDesc_SteelRampUp2m_512',\n  'mCrosshairMaterial': 'None',\n  'mDescriptorStatBars': '',\n  'mSubCategories': '(BlueprintGeneratedClass\\'\"/Game/FactoryGame/Interface/UI/InGame/BuildMenu/BuildCategories/Sub_Organisation/SC_Ramps.SC_Ramps_C\"\\')',\n  'mMenuPriority': '29.000000',\n  'mFluidColor': '(B=0,G=0,R=0,A=0)',\n  'mGasColor': '(B=0,G=0,R=0,A=0)',\n  'mCompatibleItemDescriptors': '',\n  'mClassToScanFor': 'None',\n  'mScannableType': 'RTWOT_Default',\n  'mShouldOverrideScannerDisplayText': 'False',\n  'mScannerDisplayText': '',\n  'mScannerLightColor': '(B=0,G=0,R=0,A=0)'},\n 'Desc_Ramp_UpCorner_Metal_8x4_C': {'ClassName': 'Desc_Ramp_UpCorner_Metal_8x4_C',\n  'mDisplayName': '',\n  'mDescription': '',\n  'mAbbreviatedDisplayName': '',\n  'mStackSize': 'SS_MEDIUM',\n  'mCanBeDiscarded': 'True',\n  'mRememberPickUp': 'False',\n  'mEnergyValue': '0.000000',\n  'mRadioactiveDecay': '0.000000',\n  'mForm': 'RF_INVALID',\n  'mSmallIcon': 'Texture2D /Game/FactoryGame/Buildable/Building/Ramp/UI/CornerUp/IconDesc_SteelRampUp4m_256.IconDesc_SteelRampUp4m_256',\n  'mPersistentBigIcon': 'Texture2D /Game/FactoryGame/Buildable/Building/Ramp/UI/CornerUp/IconDesc_SteelRampUp4m_512.IconDesc_SteelRampUp4m_512',\n  'mCrosshairMaterial': 'None',\n  'mDescriptorStatBars': '',\n  'mSubCategories': '(BlueprintGeneratedClass\\'\"/Game/FactoryGame/Interface/UI/InGame/BuildMenu/BuildCategories/Sub_Organisation/SC_Ramps.SC_Ramps_C\"\\')',\n  'mMenuPriority': '30.000000',\n  'mFluidColor': '(B=0,G=0,R=0,A=0)',\n  'mGasColor': '(B=0,G=0,R=0,A=0)',\n  'mCompatibleItemDescriptors': '',\n  'mClassToScanFor': 'None',\n  'mScannableType': 'RTWOT_Default',\n  'mShouldOverrideScannerDisplayText': 'False',\n  'mScannerDisplayText': '',\n  'mScannerLightColor': '(B=0,G=0,R=0,A=0)'},\n 'Desc_RampDouble_Metal_8x1_C': {'ClassName': 'Desc_RampDouble_Metal_8x1_C',\n  'mDisplayName': '',\n  'mDescription': '',\n  'mAbbreviatedDisplayName': '',\n  'mStackSize': 'SS_MEDIUM',\n  'mCanBeDiscarded': 'True',\n  'mRememberPickUp': 'False',\n  'mEnergyValue': '0.000000',\n  'mRadioactiveDecay': '0.000000',\n  'mForm': 'RF_INVALID',\n  'mSmallIcon': 'Texture2D /Game/FactoryGame/Buildable/Building/Ramp/UI/Double/IconDesc_MetalDoubleRamp1m_256.IconDesc_MetalDoubleRamp1m_256',\n  'mPersistentBigIcon': 'Texture2D /Game/FactoryGame/Buildable/Building/Ramp/UI/Double/IconDesc_MetalDoubleRamp1m_512.IconDesc_MetalDoubleRamp1m_512',\n  'mCrosshairMaterial': 'None',\n  'mDescriptorStatBars': '',\n  'mSubCategories': '(BlueprintGeneratedClass\\'\"/Game/FactoryGame/Interface/UI/InGame/BuildMenu/BuildCategories/Sub_Organisation/SC_Ramps.SC_Ramps_C\"\\')',\n  'mMenuPriority': '34.000000',\n  'mFluidColor': '(B=0,G=0,R=0,A=0)',\n  'mGasColor': '(B=0,G=0,R=0,A=0)',\n  'mCompatibleItemDescriptors': '',\n  'mClassToScanFor': 'None',\n  'mScannableType': 'RTWOT_Default',\n  'mShouldOverrideScannerDisplayText': 'False',\n  'mScannerDisplayText': '',\n  'mScannerLightColor': '(B=0,G=0,R=0,A=0)'},\n 'Desc_RampDouble_Metal_8x2_C': {'ClassName': 'Desc_RampDouble_Metal_8x2_C',\n  'mDisplayName': '',\n  'mDescription': '',\n  'mAbbreviatedDisplayName': '',\n  'mStackSize': 'SS_MEDIUM',\n  'mCanBeDiscarded': 'True',\n  'mRememberPickUp': 'False',\n  'mEnergyValue': '0.000000',\n  'mRadioactiveDecay': '0.000000',\n  'mForm': 'RF_INVALID',\n  'mSmallIcon': 'Texture2D /Game/FactoryGame/Buildable/Building/Ramp/UI/Double/IconDesc_MetalDoubleRamp2m_256.IconDesc_MetalDoubleRamp2m_256',\n  'mPersistentBigIcon': 'Texture2D /Game/FactoryGame/Buildable/Building/Ramp/UI/Double/IconDesc_MetalDoubleRamp2m_512.IconDesc_MetalDoubleRamp2m_512',\n  'mCrosshairMaterial': 'None',\n  'mDescriptorStatBars': '',\n  'mSubCategories': '(BlueprintGeneratedClass\\'\"/Game/FactoryGame/Interface/UI/InGame/BuildMenu/BuildCategories/Sub_Organisation/SC_Ramps.SC_Ramps_C\"\\')',\n  'mMenuPriority': '35.000000',\n  'mFluidColor': '(B=0,G=0,R=0,A=0)',\n  'mGasColor': '(B=0,G=0,R=0,A=0)',\n  'mCompatibleItemDescriptors': '',\n  'mClassToScanFor': 'None',\n  'mScannableType': 'RTWOT_Default',\n  'mShouldOverrideScannerDisplayText': 'False',\n  'mScannerDisplayText': '',\n  'mScannerLightColor': '(B=0,G=0,R=0,A=0)'},\n 'Desc_RampDouble_Metal_8x4_C': {'ClassName': 'Desc_RampDouble_Metal_8x4_C',\n  'mDisplayName': '',\n  'mDescription': '',\n  'mAbbreviatedDisplayName': '',\n  'mStackSize': 'SS_MEDIUM',\n  'mCanBeDiscarded': 'True',\n  'mRememberPickUp': 'False',\n  'mEnergyValue': '0.000000',\n  'mRadioactiveDecay': '0.000000',\n  'mForm': 'RF_INVALID',\n  'mSmallIcon': 'Texture2D /Game/FactoryGame/Buildable/Building/Ramp/UI/Double/IconDesc_MetalDoubleRamp4m_256.IconDesc_MetalDoubleRamp4m_256',\n  'mPersistentBigIcon': 'Texture2D /Game/FactoryGame/Buildable/Building/Ramp/UI/Double/IconDesc_MetalDoubleRamp4m_512.IconDesc_MetalDoubleRamp4m_512',\n  'mCrosshairMaterial': 'None',\n  'mDescriptorStatBars': '',\n  'mSubCategories': '(BlueprintGeneratedClass\\'\"/Game/FactoryGame/Interface/UI/InGame/BuildMenu/BuildCategories/Sub_Organisation/SC_Ramps.SC_Ramps_C\"\\')',\n  'mMenuPriority': '36.000000',\n  'mFluidColor': '(B=0,G=0,R=0,A=0)',\n  'mGasColor': '(B=0,G=0,R=0,A=0)',\n  'mCompatibleItemDescriptors': '',\n  'mClassToScanFor': 'None',\n  'mScannableType': 'RTWOT_Default',\n  'mShouldOverrideScannerDisplayText': 'False',\n  'mScannerDisplayText': '',\n  'mScannerLightColor': '(B=0,G=0,R=0,A=0)'},\n 'Desc_DownQuarterPipe_ConcretePolished_8x4_C': {'ClassName': 'Desc_DownQuarterPipe_ConcretePolished_8x4_C',\n  'mDisplayName': '',\n  'mDescription': '',\n  'mAbbreviatedDisplayName': '',\n  'mStackSize': 'SS_MEDIUM',\n  'mCanBeDiscarded': 'True',\n  'mRememberPickUp': 'False',\n  'mEnergyValue': '0.000000',\n  'mRadioactiveDecay': '0.000000',\n  'mForm': 'RF_INVALID',\n  'mSmallIcon': 'Texture2D /Game/FactoryGame/Buildable/Building/Foundation/UI/QuarterPipe/IconDesc_QP_PConcrete_Down_8x4_256.IconDesc_QP_PConcrete_Down_8x4_256',\n  'mPersistentBigIcon': 'Texture2D /Game/FactoryGame/Buildable/Building/Foundation/UI/QuarterPipe/IconDesc_QP_PConcrete_Down_8x4_512.IconDesc_QP_PConcrete_Down_8x4_512',\n  'mCrosshairMaterial': 'None',\n  'mDescriptorStatBars': '',\n  'mSubCategories': '(BlueprintGeneratedClass\\'\"/Game/FactoryGame/Interface/UI/InGame/BuildMenu/BuildCategories/Sub_Organisation/SC_QuatPipes.SC_QuatPipes_C\"\\')',\n  'mMenuPriority': '38.000000',\n  'mFluidColor': '(B=0,G=0,R=0,A=0)',\n  'mGasColor': '(B=0,G=0,R=0,A=0)',\n  'mCompatibleItemDescriptors': '',\n  'mClassToScanFor': 'None',\n  'mScannableType': 'RTWOT_Default',\n  'mShouldOverrideScannerDisplayText': 'False',\n  'mScannerDisplayText': '',\n  'mScannerLightColor': '(B=0,G=0,R=0,A=0)'},\n 'Desc_DownQuarterPipeInCorner_ConcretePolished_8x4_C': {'ClassName': 'Desc_DownQuarterPipeInCorner_ConcretePolished_8x4_C',\n  'mDisplayName': '',\n  'mDescription': '',\n  'mAbbreviatedDisplayName': '',\n  'mStackSize': 'SS_MEDIUM',\n  'mCanBeDiscarded': 'True',\n  'mRememberPickUp': 'False',\n  'mEnergyValue': '0.000000',\n  'mRadioactiveDecay': '0.000000',\n  'mForm': 'RF_INVALID',\n  'mSmallIcon': 'Texture2D /Game/FactoryGame/Buildable/Building/Foundation/UI/QuarterPipe/IconDesc_QP_PConcrete_DownInCorner_8x4_256.IconDesc_QP_PConcrete_DownInCorner_8x4_256',\n  'mPersistentBigIcon': 'Texture2D /Game/FactoryGame/Buildable/Building/Foundation/UI/QuarterPipe/IconDesc_QP_PConcrete_DownInCorner_8x4_512.IconDesc_QP_PConcrete_DownInCorner_8x4_512',\n  'mCrosshairMaterial': 'None',\n  'mDescriptorStatBars': '',\n  'mSubCategories': '(BlueprintGeneratedClass\\'\"/Game/FactoryGame/Interface/UI/InGame/BuildMenu/BuildCategories/Sub_Organisation/SC_QuatPipes.SC_QuatPipes_C\"\\')',\n  'mMenuPriority': '40.000000',\n  'mFluidColor': '(B=0,G=0,R=0,A=0)',\n  'mGasColor': '(B=0,G=0,R=0,A=0)',\n  'mCompatibleItemDescriptors': '',\n  'mClassToScanFor': 'None',\n  'mScannableType': 'RTWOT_Default',\n  'mShouldOverrideScannerDisplayText': 'False',\n  'mScannerDisplayText': '',\n  'mScannerLightColor': '(B=0,G=0,R=0,A=0)'},\n 'Desc_DownQuarterPipeOutCorner_ConcretePolished_8x4_C': {'ClassName': 'Desc_DownQuarterPipeOutCorner_ConcretePolished_8x4_C',\n  'mDisplayName': '',\n  'mDescription': '',\n  'mAbbreviatedDisplayName': '',\n  'mStackSize': 'SS_MEDIUM',\n  'mCanBeDiscarded': 'True',\n  'mRememberPickUp': 'False',\n  'mEnergyValue': '0.000000',\n  'mRadioactiveDecay': '0.000000',\n  'mForm': 'RF_INVALID',\n  'mSmallIcon': 'Texture2D /Game/FactoryGame/Buildable/Building/Foundation/UI/QuarterPipe/IconDesc_QP_PConcrete_DownOutCorner_8x4_256.IconDesc_QP_PConcrete_DownOutCorner_8x4_256',\n  'mPersistentBigIcon': 'Texture2D /Game/FactoryGame/Buildable/Building/Foundation/UI/QuarterPipe/IconDesc_QP_PConcrete_DownOutCorner_8x4_512.IconDesc_QP_PConcrete_DownOutCorner_8x4_512',\n  'mCrosshairMaterial': 'None',\n  'mDescriptorStatBars': '',\n  'mSubCategories': '(BlueprintGeneratedClass\\'\"/Game/FactoryGame/Interface/UI/InGame/BuildMenu/BuildCategories/Sub_Organisation/SC_QuatPipes.SC_QuatPipes_C\"\\')',\n  'mMenuPriority': '42.000000',\n  'mFluidColor': '(B=0,G=0,R=0,A=0)',\n  'mGasColor': '(B=0,G=0,R=0,A=0)',\n  'mCompatibleItemDescriptors': '',\n  'mClassToScanFor': 'None',\n  'mScannableType': 'RTWOT_Default',\n  'mShouldOverrideScannerDisplayText': 'False',\n  'mScannerDisplayText': '',\n  'mScannerLightColor': '(B=0,G=0,R=0,A=0)'},\n 'Desc_Foundation_ConcretePolished_8x1_C': {'ClassName': 'Desc_Foundation_ConcretePolished_8x1_C',\n  'mDisplayName': '',\n  'mDescription': '',\n  'mAbbreviatedDisplayName': '',\n  'mStackSize': 'SS_MEDIUM',\n  'mCanBeDiscarded': 'True',\n  'mRememberPickUp': 'False',\n  'mEnergyValue': '0.000000',\n  'mRadioactiveDecay': '0.000000',\n  'mForm': 'RF_INVALID',\n  'mSmallIcon': 'Texture2D /Game/FactoryGame/Buildable/Building/Foundation/UI/U5/IconDesc_PolishFoundation1m_256.IconDesc_PolishFoundation1m_256',\n  'mPersistentBigIcon': 'Texture2D /Game/FactoryGame/Buildable/Building/Foundation/UI/U5/IconDesc_PolishFoundation1m_512.IconDesc_PolishFoundation1m_512',\n  'mCrosshairMaterial': 'None',\n  'mDescriptorStatBars': '',\n  'mSubCategories': '(BlueprintGeneratedClass\\'\"/Game/FactoryGame/Interface/UI/InGame/BuildMenu/BuildCategories/Sub_Organisation/SC_Floors.SC_Floors_C\"\\')',\n  'mMenuPriority': '19.000000',\n  'mFluidColor': '(B=0,G=0,R=0,A=0)',\n  'mGasColor': '(B=0,G=0,R=0,A=0)',\n  'mCompatibleItemDescriptors': '',\n  'mClassToScanFor': 'None',\n  'mScannableType': 'RTWOT_Default',\n  'mShouldOverrideScannerDisplayText': 'False',\n  'mScannerDisplayText': '',\n  'mScannerLightColor': '(B=0,G=0,R=0,A=0)'},\n 'Foundation_ConcretePolished_8x2_C': {'ClassName': 'Foundation_ConcretePolished_8x2_C',\n  'mDisplayName': '',\n  'mDescription': '',\n  'mAbbreviatedDisplayName': '',\n  'mStackSize': 'SS_MEDIUM',\n  'mCanBeDiscarded': 'True',\n  'mRememberPickUp': 'False',\n  'mEnergyValue': '0.000000',\n  'mRadioactiveDecay': '0.000000',\n  'mForm': 'RF_INVALID',\n  'mSmallIcon': 'Texture2D /Game/FactoryGame/Buildable/Building/Foundation/UI/U5/IconDesc_PolishFoundation2m_512.IconDesc_PolishFoundation2m_512',\n  'mPersistentBigIcon': 'Texture2D /Game/FactoryGame/Buildable/Building/Foundation/UI/U5/IconDesc_PolishFoundation4m_256.IconDesc_PolishFoundation4m_256',\n  'mCrosshairMaterial': 'None',\n  'mDescriptorStatBars': '',\n  'mSubCategories': '(BlueprintGeneratedClass\\'\"/Game/FactoryGame/Interface/UI/InGame/BuildMenu/BuildCategories/Sub_Organisation/SC_Floors.SC_Floors_C\"\\')',\n  'mMenuPriority': '20.000000',\n  'mFluidColor': '(B=0,G=0,R=0,A=0)',\n  'mGasColor': '(B=0,G=0,R=0,A=0)',\n  'mCompatibleItemDescriptors': '',\n  'mClassToScanFor': 'None',\n  'mScannableType': 'RTWOT_Default',\n  'mShouldOverrideScannerDisplayText': 'False',\n  'mScannerDisplayText': '',\n  'mScannerLightColor': '(B=0,G=0,R=0,A=0)'},\n 'Foundation_ConcretePolished_8x4_C': {'ClassName': 'Foundation_ConcretePolished_8x4_C',\n  'mDisplayName': '',\n  'mDescription': '',\n  'mAbbreviatedDisplayName': '',\n  'mStackSize': 'SS_MEDIUM',\n  'mCanBeDiscarded': 'True',\n  'mRememberPickUp': 'False',\n  'mEnergyValue': '0.000000',\n  'mRadioactiveDecay': '0.000000',\n  'mForm': 'RF_INVALID',\n  'mSmallIcon': 'Texture2D /Game/FactoryGame/Buildable/Building/Foundation/UI/U5/IconDesc_PolishFoundation4m_256.IconDesc_PolishFoundation4m_256',\n  'mPersistentBigIcon': 'Texture2D /Game/FactoryGame/Buildable/Building/Foundation/UI/U5/IconDesc_PolishFoundation4m_512.IconDesc_PolishFoundation4m_512',\n  'mCrosshairMaterial': 'None',\n  'mDescriptorStatBars': '',\n  'mSubCategories': '(BlueprintGeneratedClass\\'\"/Game/FactoryGame/Interface/UI/InGame/BuildMenu/BuildCategories/Sub_Organisation/SC_Floors.SC_Floors_C\"\\')',\n  'mMenuPriority': '21.000000',\n  'mFluidColor': '(B=0,G=0,R=0,A=0)',\n  'mGasColor': '(B=0,G=0,R=0,A=0)',\n  'mCompatibleItemDescriptors': '',\n  'mClassToScanFor': 'None',\n  'mScannableType': 'RTWOT_Default',\n  'mShouldOverrideScannerDisplayText': 'False',\n  'mScannerDisplayText': '',\n  'mScannerLightColor': '(B=0,G=0,R=0,A=0)'},\n 'Desc_InvertedRamp_DCorner_Polished_8x1_C': {'ClassName': 'Desc_InvertedRamp_DCorner_Polished_8x1_C',\n  'mDisplayName': '',\n  'mDescription': '',\n  'mAbbreviatedDisplayName': '',\n  'mStackSize': 'SS_MEDIUM',\n  'mCanBeDiscarded': 'True',\n  'mRememberPickUp': 'False',\n  'mEnergyValue': '0.000000',\n  'mRadioactiveDecay': '0.000000',\n  'mForm': 'RF_INVALID',\n  'mSmallIcon': 'Texture2D /Game/FactoryGame/Buildable/Building/Ramp/UI/InvertedDown/IconDesc_PolishInvDRamp1m_256.IconDesc_PolishInvDRamp1m_256',\n  'mPersistentBigIcon': 'Texture2D /Game/FactoryGame/Buildable/Building/Ramp/UI/InvertedDown/IconDesc_PolishInvDRamp1m_512.IconDesc_PolishInvDRamp1m_512',\n  'mCrosshairMaterial': 'None',\n  'mDescriptorStatBars': '',\n  'mSubCategories': '(BlueprintGeneratedClass\\'\"/Game/FactoryGame/Interface/UI/InGame/BuildMenu/BuildCategories/Sub_Organisation/SC_Inverted.SC_Inverted_C\"\\')',\n  'mMenuPriority': '34.000000',\n  'mFluidColor': '(B=0,G=0,R=0,A=0)',\n  'mGasColor': '(B=0,G=0,R=0,A=0)',\n  'mCompatibleItemDescriptors': '',\n  'mClassToScanFor': 'None',\n  'mScannableType': 'RTWOT_Default',\n  'mShouldOverrideScannerDisplayText': 'False',\n  'mScannerDisplayText': '',\n  'mScannerLightColor': '(B=0,G=0,R=0,A=0)'},\n 'Desc_InvertedRamp_DCorner_Polished_8x2_C': {'ClassName': 'Desc_InvertedRamp_DCorner_Polished_8x2_C',\n  'mDisplayName': '',\n  'mDescription': '',\n  'mAbbreviatedDisplayName': '',\n  'mStackSize': 'SS_MEDIUM',\n  'mCanBeDiscarded': 'True',\n  'mRememberPickUp': 'False',\n  'mEnergyValue': '0.000000',\n  'mRadioactiveDecay': '0.000000',\n  'mForm': 'RF_INVALID',\n  'mSmallIcon': 'Texture2D /Game/FactoryGame/Buildable/Building/Ramp/UI/InvertedDown/IconDesc_PolishInvDRamp2m_256.IconDesc_PolishInvDRamp2m_256',\n  'mPersistentBigIcon': 'Texture2D /Game/FactoryGame/Buildable/Building/Ramp/UI/InvertedDown/IconDesc_PolishInvDRamp2m_512.IconDesc_PolishInvDRamp2m_512',\n  'mCrosshairMaterial': 'None',\n  'mDescriptorStatBars': '',\n  'mSubCategories': '(BlueprintGeneratedClass\\'\"/Game/FactoryGame/Interface/UI/InGame/BuildMenu/BuildCategories/Sub_Organisation/SC_Inverted.SC_Inverted_C\"\\')',\n  'mMenuPriority': '35.000000',\n  'mFluidColor': '(B=0,G=0,R=0,A=0)',\n  'mGasColor': '(B=0,G=0,R=0,A=0)',\n  'mCompatibleItemDescriptors': '',\n  'mClassToScanFor': 'None',\n  'mScannableType': 'RTWOT_Default',\n  'mShouldOverrideScannerDisplayText': 'False',\n  'mScannerDisplayText': '',\n  'mScannerLightColor': '(B=0,G=0,R=0,A=0)'},\n 'Desc_InvertedRamp_DCorner_Polished_8x4_C': {'ClassName': 'Desc_InvertedRamp_DCorner_Polished_8x4_C',\n  'mDisplayName': '',\n  'mDescription': '',\n  'mAbbreviatedDisplayName': '',\n  'mStackSize': 'SS_MEDIUM',\n  'mCanBeDiscarded': 'True',\n  'mRememberPickUp': 'False',\n  'mEnergyValue': '0.000000',\n  'mRadioactiveDecay': '0.000000',\n  'mForm': 'RF_INVALID',\n  'mSmallIcon': 'Texture2D /Game/FactoryGame/Buildable/Building/Ramp/UI/InvertedDown/IconDesc_PolishInvDRamp4m_256.IconDesc_PolishInvDRamp4m_256',\n  'mPersistentBigIcon': 'Texture2D /Game/FactoryGame/Buildable/Building/Ramp/UI/InvertedDown/IconDesc_PolishInvDRamp4m_512.IconDesc_PolishInvDRamp4m_512',\n  'mCrosshairMaterial': 'None',\n  'mDescriptorStatBars': '',\n  'mSubCategories': '(BlueprintGeneratedClass\\'\"/Game/FactoryGame/Interface/UI/InGame/BuildMenu/BuildCategories/Sub_Organisation/SC_Inverted.SC_Inverted_C\"\\')',\n  'mMenuPriority': '36.000000',\n  'mFluidColor': '(B=0,G=0,R=0,A=0)',\n  'mGasColor': '(B=0,G=0,R=0,A=0)',\n  'mCompatibleItemDescriptors': '',\n  'mClassToScanFor': 'None',\n  'mScannableType': 'RTWOT_Default',\n  'mShouldOverrideScannerDisplayText': 'False',\n  'mScannerDisplayText': '',\n  'mScannerLightColor': '(B=0,G=0,R=0,A=0)'},\n 'Desc_InvertedRamp_Polished_8x1_C': {'ClassName': 'Desc_InvertedRamp_Polished_8x1_C',\n  'mDisplayName': '',\n  'mDescription': '',\n  'mAbbreviatedDisplayName': '',\n  'mStackSize': 'SS_MEDIUM',\n  'mCanBeDiscarded': 'True',\n  'mRememberPickUp': 'False',\n  'mEnergyValue': '0.000000',\n  'mRadioactiveDecay': '0.000000',\n  'mForm': 'RF_INVALID',\n  'mSmallIcon': 'Texture2D /Game/FactoryGame/Buildable/Building/Ramp/UI/Inverted/IconDesc_PolishInvertRamp1m_256.IconDesc_PolishInvertRamp1m_256',\n  'mPersistentBigIcon': 'Texture2D /Game/FactoryGame/Buildable/Building/Ramp/UI/Inverted/IconDesc_PolishInvertRamp1m_512.IconDesc_PolishInvertRamp1m_512',\n  'mCrosshairMaterial': 'None',\n  'mDescriptorStatBars': '',\n  'mSubCategories': '(BlueprintGeneratedClass\\'\"/Game/FactoryGame/Interface/UI/InGame/BuildMenu/BuildCategories/Sub_Organisation/SC_Inverted.SC_Inverted_C\"\\')',\n  'mMenuPriority': '28.000000',\n  'mFluidColor': '(B=0,G=0,R=0,A=0)',\n  'mGasColor': '(B=0,G=0,R=0,A=0)',\n  'mCompatibleItemDescriptors': '',\n  'mClassToScanFor': 'None',\n  'mScannableType': 'RTWOT_Default',\n  'mShouldOverrideScannerDisplayText': 'False',\n  'mScannerDisplayText': '',\n  'mScannerLightColor': '(B=0,G=0,R=0,A=0)'},\n 'Desc_InvertedRamp_Polished_8x2_C': {'ClassName': 'Desc_InvertedRamp_Polished_8x2_C',\n  'mDisplayName': '',\n  'mDescription': '',\n  'mAbbreviatedDisplayName': '',\n  'mStackSize': 'SS_MEDIUM',\n  'mCanBeDiscarded': 'True',\n  'mRememberPickUp': 'False',\n  'mEnergyValue': '0.000000',\n  'mRadioactiveDecay': '0.000000',\n  'mForm': 'RF_INVALID',\n  'mSmallIcon': 'Texture2D /Game/FactoryGame/Buildable/Building/Ramp/UI/Inverted/IconDesc_PolishInvertRamp2m_256.IconDesc_PolishInvertRamp2m_256',\n  'mPersistentBigIcon': 'Texture2D /Game/FactoryGame/Buildable/Building/Ramp/UI/Inverted/IconDesc_PolishInvertRamp2m_512.IconDesc_PolishInvertRamp2m_512',\n  'mCrosshairMaterial': 'None',\n  'mDescriptorStatBars': '',\n  'mSubCategories': '(BlueprintGeneratedClass\\'\"/Game/FactoryGame/Interface/UI/InGame/BuildMenu/BuildCategories/Sub_Organisation/SC_Inverted.SC_Inverted_C\"\\')',\n  'mMenuPriority': '29.000000',\n  'mFluidColor': '(B=0,G=0,R=0,A=0)',\n  'mGasColor': '(B=0,G=0,R=0,A=0)',\n  'mCompatibleItemDescriptors': '',\n  'mClassToScanFor': 'None',\n  'mScannableType': 'RTWOT_Default',\n  'mShouldOverrideScannerDisplayText': 'False',\n  'mScannerDisplayText': '',\n  'mScannerLightColor': '(B=0,G=0,R=0,A=0)'},\n 'Desc_InvertedRamp_Polished_8x4_C': {'ClassName': 'Desc_InvertedRamp_Polished_8x4_C',\n  'mDisplayName': '',\n  'mDescription': '',\n  'mAbbreviatedDisplayName': '',\n  'mStackSize': 'SS_MEDIUM',\n  'mCanBeDiscarded': 'True',\n  'mRememberPickUp': 'False',\n  'mEnergyValue': '0.000000',\n  'mRadioactiveDecay': '0.000000',\n  'mForm': 'RF_INVALID',\n  'mSmallIcon': 'Texture2D /Game/FactoryGame/Buildable/Building/Ramp/UI/Inverted/IconDesc_PolishInvertRamp4m_256.IconDesc_PolishInvertRamp4m_256',\n  'mPersistentBigIcon': 'Texture2D /Game/FactoryGame/Buildable/Building/Ramp/UI/Inverted/IconDesc_PolishInvertRamp4m_512.IconDesc_PolishInvertRamp4m_512',\n  'mCrosshairMaterial': 'None',\n  'mDescriptorStatBars': '',\n  'mSubCategories': '(BlueprintGeneratedClass\\'\"/Game/FactoryGame/Interface/UI/InGame/BuildMenu/BuildCategories/Sub_Organisation/SC_Inverted.SC_Inverted_C\"\\')',\n  'mMenuPriority': '30.000000',\n  'mFluidColor': '(B=0,G=0,R=0,A=0)',\n  'mGasColor': '(B=0,G=0,R=0,A=0)',\n  'mCompatibleItemDescriptors': '',\n  'mClassToScanFor': 'None',\n  'mScannableType': 'RTWOT_Default',\n  'mShouldOverrideScannerDisplayText': 'False',\n  'mScannerDisplayText': '',\n  'mScannerLightColor': '(B=0,G=0,R=0,A=0)'},\n 'Desc_InvertedRamp_UCorner_Polished_8x1_C': {'ClassName': 'Desc_InvertedRamp_UCorner_Polished_8x1_C',\n  'mDisplayName': '',\n  'mDescription': '',\n  'mAbbreviatedDisplayName': '',\n  'mStackSize': 'SS_MEDIUM',\n  'mCanBeDiscarded': 'True',\n  'mRememberPickUp': 'False',\n  'mEnergyValue': '0.000000',\n  'mRadioactiveDecay': '0.000000',\n  'mForm': 'RF_INVALID',\n  'mSmallIcon': 'Texture2D /Game/FactoryGame/Buildable/Building/Ramp/UI/InvertedUp/IconDesc_PolishInvURamp1m_256.IconDesc_PolishInvURamp1m_256',\n  'mPersistentBigIcon': 'Texture2D /Game/FactoryGame/Buildable/Building/Ramp/UI/InvertedUp/IconDesc_PolishInvURamp1m_512.IconDesc_PolishInvURamp1m_512',\n  'mCrosshairMaterial': 'None',\n  'mDescriptorStatBars': '',\n  'mSubCategories': '(BlueprintGeneratedClass\\'\"/Game/FactoryGame/Interface/UI/InGame/BuildMenu/BuildCategories/Sub_Organisation/SC_Inverted.SC_Inverted_C\"\\')',\n  'mMenuPriority': '31.000000',\n  'mFluidColor': '(B=0,G=0,R=0,A=0)',\n  'mGasColor': '(B=0,G=0,R=0,A=0)',\n  'mCompatibleItemDescriptors': '',\n  'mClassToScanFor': 'None',\n  'mScannableType': 'RTWOT_Default',\n  'mShouldOverrideScannerDisplayText': 'False',\n  'mScannerDisplayText': '',\n  'mScannerLightColor': '(B=0,G=0,R=0,A=0)'},\n 'Desc_InvertedRamp_UCorner_Polished_8x2_C': {'ClassName': 'Desc_InvertedRamp_UCorner_Polished_8x2_C',\n  'mDisplayName': '',\n  'mDescription': '',\n  'mAbbreviatedDisplayName': '',\n  'mStackSize': 'SS_MEDIUM',\n  'mCanBeDiscarded': 'True',\n  'mRememberPickUp': 'False',\n  'mEnergyValue': '0.000000',\n  'mRadioactiveDecay': '0.000000',\n  'mForm': 'RF_INVALID',\n  'mSmallIcon': 'Texture2D /Game/FactoryGame/Buildable/Building/Ramp/UI/InvertedUp/IconDesc_PolishInvURamp2m_256.IconDesc_PolishInvURamp2m_256',\n  'mPersistentBigIcon': 'Texture2D /Game/FactoryGame/Buildable/Building/Ramp/UI/InvertedUp/IconDesc_PolishInvURamp2m_512.IconDesc_PolishInvURamp2m_512',\n  'mCrosshairMaterial': 'None',\n  'mDescriptorStatBars': '',\n  'mSubCategories': '(BlueprintGeneratedClass\\'\"/Game/FactoryGame/Interface/UI/InGame/BuildMenu/BuildCategories/Sub_Organisation/SC_Inverted.SC_Inverted_C\"\\')',\n  'mMenuPriority': '32.000000',\n  'mFluidColor': '(B=0,G=0,R=0,A=0)',\n  'mGasColor': '(B=0,G=0,R=0,A=0)',\n  'mCompatibleItemDescriptors': '',\n  'mClassToScanFor': 'None',\n  'mScannableType': 'RTWOT_Default',\n  'mShouldOverrideScannerDisplayText': 'False',\n  'mScannerDisplayText': '',\n  'mScannerLightColor': '(B=0,G=0,R=0,A=0)'},\n 'Desc_InvertedRamp_UCorner_Polished_8x4_C': {'ClassName': 'Desc_InvertedRamp_UCorner_Polished_8x4_C',\n  'mDisplayName': '',\n  'mDescription': '',\n  'mAbbreviatedDisplayName': '',\n  'mStackSize': 'SS_MEDIUM',\n  'mCanBeDiscarded': 'True',\n  'mRememberPickUp': 'False',\n  'mEnergyValue': '0.000000',\n  'mRadioactiveDecay': '0.000000',\n  'mForm': 'RF_INVALID',\n  'mSmallIcon': 'Texture2D /Game/FactoryGame/Buildable/Building/Ramp/UI/InvertedUp/IconDesc_PolishInvURamp4m_256.IconDesc_PolishInvURamp4m_256',\n  'mPersistentBigIcon': 'Texture2D /Game/FactoryGame/Buildable/Building/Ramp/UI/InvertedUp/IconDesc_PolishInvURamp4m_512.IconDesc_PolishInvURamp4m_512',\n  'mCrosshairMaterial': 'None',\n  'mDescriptorStatBars': '',\n  'mSubCategories': '(BlueprintGeneratedClass\\'\"/Game/FactoryGame/Interface/UI/InGame/BuildMenu/BuildCategories/Sub_Organisation/SC_Inverted.SC_Inverted_C\"\\')',\n  'mMenuPriority': '33.000000',\n  'mFluidColor': '(B=0,G=0,R=0,A=0)',\n  'mGasColor': '(B=0,G=0,R=0,A=0)',\n  'mCompatibleItemDescriptors': '',\n  'mClassToScanFor': 'None',\n  'mScannableType': 'RTWOT_Default',\n  'mShouldOverrideScannerDisplayText': 'False',\n  'mScannerDisplayText': '',\n  'mScannerLightColor': '(B=0,G=0,R=0,A=0)'},\n 'Desc_QuarterPipe_ConcretePolished_8x4_C': {'ClassName': 'Desc_QuarterPipe_ConcretePolished_8x4_C',\n  'mDisplayName': '',\n  'mDescription': '',\n  'mAbbreviatedDisplayName': '',\n  'mStackSize': 'SS_MEDIUM',\n  'mCanBeDiscarded': 'True',\n  'mRememberPickUp': 'False',\n  'mEnergyValue': '0.000000',\n  'mRadioactiveDecay': '0.000000',\n  'mForm': 'RF_INVALID',\n  'mSmallIcon': 'Texture2D /Game/FactoryGame/Buildable/Building/Foundation/UI/QuarterPipe/IconDesc_QP_PConcrete_8x4_256.IconDesc_QP_PConcrete_8x4_256',\n  'mPersistentBigIcon': 'Texture2D /Game/FactoryGame/Buildable/Building/Foundation/UI/QuarterPipe/IconDesc_QP_PConcrete_8x4_512.IconDesc_QP_PConcrete_8x4_512',\n  'mCrosshairMaterial': 'None',\n  'mDescriptorStatBars': '',\n  'mSubCategories': '(BlueprintGeneratedClass\\'\"/Game/FactoryGame/Interface/UI/InGame/BuildMenu/BuildCategories/Sub_Organisation/SC_QuatPipes.SC_QuatPipes_C\"\\')',\n  'mMenuPriority': '37.000000',\n  'mFluidColor': '(B=0,G=0,R=0,A=0)',\n  'mGasColor': '(B=0,G=0,R=0,A=0)',\n  'mCompatibleItemDescriptors': '',\n  'mClassToScanFor': 'None',\n  'mScannableType': 'RTWOT_Default',\n  'mShouldOverrideScannerDisplayText': 'False',\n  'mScannerDisplayText': '',\n  'mScannerLightColor': '(B=0,G=0,R=0,A=0)'},\n 'Desc_QuarterPipeInCorner_ConcretePolished_8x4_C': {'ClassName': 'Desc_QuarterPipeInCorner_ConcretePolished_8x4_C',\n  'mDisplayName': '',\n  'mDescription': '',\n  'mAbbreviatedDisplayName': '',\n  'mStackSize': 'SS_MEDIUM',\n  'mCanBeDiscarded': 'True',\n  'mRememberPickUp': 'False',\n  'mEnergyValue': '0.000000',\n  'mRadioactiveDecay': '0.000000',\n  'mForm': 'RF_INVALID',\n  'mSmallIcon': 'Texture2D /Game/FactoryGame/Buildable/Building/Foundation/UI/QuarterPipe/IconDesc_QP_PConcrete_InCorner_8x4_256.IconDesc_QP_PConcrete_InCorner_8x4_256',\n  'mPersistentBigIcon': 'Texture2D /Game/FactoryGame/Buildable/Building/Foundation/UI/QuarterPipe/IconDesc_QP_PConcrete_InCorner_8x4_512.IconDesc_QP_PConcrete_InCorner_8x4_512',\n  'mCrosshairMaterial': 'None',\n  'mDescriptorStatBars': '',\n  'mSubCategories': '(BlueprintGeneratedClass\\'\"/Game/FactoryGame/Interface/UI/InGame/BuildMenu/BuildCategories/Sub_Organisation/SC_QuatPipes.SC_QuatPipes_C\"\\')',\n  'mMenuPriority': '39.000000',\n  'mFluidColor': '(B=0,G=0,R=0,A=0)',\n  'mGasColor': '(B=0,G=0,R=0,A=0)',\n  'mCompatibleItemDescriptors': '',\n  'mClassToScanFor': 'None',\n  'mScannableType': 'RTWOT_Default',\n  'mShouldOverrideScannerDisplayText': 'False',\n  'mScannerDisplayText': '',\n  'mScannerLightColor': '(B=0,G=0,R=0,A=0)'},\n 'Desc_QuarterPipeMiddle_PolishedConcrete_8x1_C': {'ClassName': 'Desc_QuarterPipeMiddle_PolishedConcrete_8x1_C',\n  'mDisplayName': '',\n  'mDescription': '',\n  'mAbbreviatedDisplayName': '',\n  'mStackSize': 'SS_MEDIUM',\n  'mCanBeDiscarded': 'True',\n  'mRememberPickUp': 'False',\n  'mEnergyValue': '0.000000',\n  'mRadioactiveDecay': '0.000000',\n  'mForm': 'RF_INVALID',\n  'mSmallIcon': 'Texture2D /Game/FactoryGame/Buildable/Building/Foundation/UI/QuarterPipe/IconDesc_QP_PConcrete_Mid_8x1_256.IconDesc_QP_PConcrete_Mid_8x1_256',\n  'mPersistentBigIcon': 'Texture2D /Game/FactoryGame/Buildable/Building/Foundation/UI/QuarterPipe/IconDesc_QP_PConcrete_Mid_8x1_512.IconDesc_QP_PConcrete_Mid_8x1_512',\n  'mCrosshairMaterial': 'None',\n  'mDescriptorStatBars': '',\n  'mSubCategories': '(BlueprintGeneratedClass\\'\"/Game/FactoryGame/Interface/UI/InGame/BuildMenu/BuildCategories/Sub_Organisation/SC_Floors.SC_Floors_C\"\\')',\n  'mMenuPriority': '22.000000',\n  'mFluidColor': '(B=0,G=0,R=0,A=0)',\n  'mGasColor': '(B=0,G=0,R=0,A=0)',\n  'mCompatibleItemDescriptors': '',\n  'mClassToScanFor': 'None',\n  'mScannableType': 'RTWOT_Default',\n  'mShouldOverrideScannerDisplayText': 'False',\n  'mScannerDisplayText': '',\n  'mScannerLightColor': '(B=0,G=0,R=0,A=0)'},\n 'Desc_QuarterPipeMiddle_PolishedConcrete_8x2_C': {'ClassName': 'Desc_QuarterPipeMiddle_PolishedConcrete_8x2_C',\n  'mDisplayName': '',\n  'mDescription': '',\n  'mAbbreviatedDisplayName': '',\n  'mStackSize': 'SS_MEDIUM',\n  'mCanBeDiscarded': 'True',\n  'mRememberPickUp': 'False',\n  'mEnergyValue': '0.000000',\n  'mRadioactiveDecay': '0.000000',\n  'mForm': 'RF_INVALID',\n  'mSmallIcon': 'Texture2D /Game/FactoryGame/Buildable/Building/Foundation/UI/QuarterPipe/IconDesc_QP_PConcrete_Mid_8x2_256.IconDesc_QP_PConcrete_Mid_8x2_256',\n  'mPersistentBigIcon': 'Texture2D /Game/FactoryGame/Buildable/Building/Foundation/UI/QuarterPipe/IconDesc_QP_PConcrete_Mid_8x2_512.IconDesc_QP_PConcrete_Mid_8x2_512',\n  'mCrosshairMaterial': 'None',\n  'mDescriptorStatBars': '',\n  'mSubCategories': '(BlueprintGeneratedClass\\'\"/Game/FactoryGame/Interface/UI/InGame/BuildMenu/BuildCategories/Sub_Organisation/SC_Floors.SC_Floors_C\"\\')',\n  'mMenuPriority': '23.000000',\n  'mFluidColor': '(B=0,G=0,R=0,A=0)',\n  'mGasColor': '(B=0,G=0,R=0,A=0)',\n  'mCompatibleItemDescriptors': '',\n  'mClassToScanFor': 'None',\n  'mScannableType': 'RTWOT_Default',\n  'mShouldOverrideScannerDisplayText': 'False',\n  'mScannerDisplayText': '',\n  'mScannerLightColor': '(B=0,G=0,R=0,A=0)'},\n 'Desc_QuarterPipeMiddle_PolishedConcrete_8x4_C': {'ClassName': 'Desc_QuarterPipeMiddle_PolishedConcrete_8x4_C',\n  'mDisplayName': '',\n  'mDescription': '',\n  'mAbbreviatedDisplayName': '',\n  'mStackSize': 'SS_MEDIUM',\n  'mCanBeDiscarded': 'True',\n  'mRememberPickUp': 'False',\n  'mEnergyValue': '0.000000',\n  'mRadioactiveDecay': '0.000000',\n  'mForm': 'RF_INVALID',\n  'mSmallIcon': 'Texture2D /Game/FactoryGame/Buildable/Building/Foundation/UI/QuarterPipe/IconDesc_QP_PConcrete_Mid_8x4_256.IconDesc_QP_PConcrete_Mid_8x4_256',\n  'mPersistentBigIcon': 'Texture2D /Game/FactoryGame/Buildable/Building/Foundation/UI/QuarterPipe/IconDesc_QP_PConcrete_Mid_8x4_512.IconDesc_QP_PConcrete_Mid_8x4_512',\n  'mCrosshairMaterial': 'None',\n  'mDescriptorStatBars': '',\n  'mSubCategories': '(BlueprintGeneratedClass\\'\"/Game/FactoryGame/Interface/UI/InGame/BuildMenu/BuildCategories/Sub_Organisation/SC_Floors.SC_Floors_C\"\\')',\n  'mMenuPriority': '24.000000',\n  'mFluidColor': '(B=0,G=0,R=0,A=0)',\n  'mGasColor': '(B=0,G=0,R=0,A=0)',\n  'mCompatibleItemDescriptors': '',\n  'mClassToScanFor': 'None',\n  'mScannableType': 'RTWOT_Default',\n  'mShouldOverrideScannerDisplayText': 'False',\n  'mScannerDisplayText': '',\n  'mScannerLightColor': '(B=0,G=0,R=0,A=0)'},\n 'Desc_QuarterPipeMiddleInCorner_PolishedConcrete_8x1_C': {'ClassName': 'Desc_QuarterPipeMiddleInCorner_PolishedConcrete_8x1_C',\n  'mDisplayName': '',\n  'mDescription': '',\n  'mAbbreviatedDisplayName': '',\n  'mStackSize': 'SS_MEDIUM',\n  'mCanBeDiscarded': 'True',\n  'mRememberPickUp': 'False',\n  'mEnergyValue': '0.000000',\n  'mRadioactiveDecay': '0.000000',\n  'mForm': 'RF_INVALID',\n  'mSmallIcon': 'Texture2D /Game/FactoryGame/Buildable/Building/Foundation/UI/QuarterPipe/IconDesc_QP_PConcrete_MidInCorner_8x1_256.IconDesc_QP_PConcrete_MidInCorner_8x1_256',\n  'mPersistentBigIcon': 'Texture2D /Game/FactoryGame/Buildable/Building/Foundation/UI/QuarterPipe/IconDesc_QP_PConcrete_MidInCorner_8x1_512.IconDesc_QP_PConcrete_MidInCorner_8x1_512',\n  'mCrosshairMaterial': 'None',\n  'mDescriptorStatBars': '',\n  'mSubCategories': '(BlueprintGeneratedClass\\'\"/Game/FactoryGame/Interface/UI/InGame/BuildMenu/BuildCategories/Sub_Organisation/SC_QuatPipes.SC_QuatPipes_C\"\\')',\n  'mMenuPriority': '43.000000',\n  'mFluidColor': '(B=0,G=0,R=0,A=0)',\n  'mGasColor': '(B=0,G=0,R=0,A=0)',\n  'mCompatibleItemDescriptors': '',\n  'mClassToScanFor': 'None',\n  'mScannableType': 'RTWOT_Default',\n  'mShouldOverrideScannerDisplayText': 'False',\n  'mScannerDisplayText': '',\n  'mScannerLightColor': '(B=0,G=0,R=0,A=0)'},\n 'Desc_QuarterPipeMiddleInCorner_PolishedConcrete_8x2_C': {'ClassName': 'Desc_QuarterPipeMiddleInCorner_PolishedConcrete_8x2_C',\n  'mDisplayName': '',\n  'mDescription': '',\n  'mAbbreviatedDisplayName': '',\n  'mStackSize': 'SS_MEDIUM',\n  'mCanBeDiscarded': 'True',\n  'mRememberPickUp': 'False',\n  'mEnergyValue': '0.000000',\n  'mRadioactiveDecay': '0.000000',\n  'mForm': 'RF_INVALID',\n  'mSmallIcon': 'Texture2D /Game/FactoryGame/Buildable/Building/Foundation/UI/QuarterPipe/IconDesc_QP_PConcrete_MidInCorner_8x2_256.IconDesc_QP_PConcrete_MidInCorner_8x2_256',\n  'mPersistentBigIcon': 'Texture2D /Game/FactoryGame/Buildable/Building/Foundation/UI/QuarterPipe/IconDesc_QP_PConcrete_MidInCorner_8x2_512.IconDesc_QP_PConcrete_MidInCorner_8x2_512',\n  'mCrosshairMaterial': 'None',\n  'mDescriptorStatBars': '',\n  'mSubCategories': '(BlueprintGeneratedClass\\'\"/Game/FactoryGame/Interface/UI/InGame/BuildMenu/BuildCategories/Sub_Organisation/SC_QuatPipes.SC_QuatPipes_C\"\\')',\n  'mMenuPriority': '44.000000',\n  'mFluidColor': '(B=0,G=0,R=0,A=0)',\n  'mGasColor': '(B=0,G=0,R=0,A=0)',\n  'mCompatibleItemDescriptors': '',\n  'mClassToScanFor': 'None',\n  'mScannableType': 'RTWOT_Default',\n  'mShouldOverrideScannerDisplayText': 'False',\n  'mScannerDisplayText': '',\n  'mScannerLightColor': '(B=0,G=0,R=0,A=0)'},\n 'Desc_QuarterPipeMiddleInCorner_PolishedConcrete_8x4_C': {'ClassName': 'Desc_QuarterPipeMiddleInCorner_PolishedConcrete_8x4_C',\n  'mDisplayName': '',\n  'mDescription': '',\n  'mAbbreviatedDisplayName': '',\n  'mStackSize': 'SS_MEDIUM',\n  'mCanBeDiscarded': 'True',\n  'mRememberPickUp': 'False',\n  'mEnergyValue': '0.000000',\n  'mRadioactiveDecay': '0.000000',\n  'mForm': 'RF_INVALID',\n  'mSmallIcon': 'Texture2D /Game/FactoryGame/Buildable/Building/Foundation/UI/QuarterPipe/IconDesc_QP_PConcrete_MidInCorner_8x4_256.IconDesc_QP_PConcrete_MidInCorner_8x4_256',\n  'mPersistentBigIcon': 'Texture2D /Game/FactoryGame/Buildable/Building/Foundation/UI/QuarterPipe/IconDesc_QP_PConcrete_MidInCorner_8x4_512.IconDesc_QP_PConcrete_MidInCorner_8x4_512',\n  'mCrosshairMaterial': 'None',\n  'mDescriptorStatBars': '',\n  'mSubCategories': '(BlueprintGeneratedClass\\'\"/Game/FactoryGame/Interface/UI/InGame/BuildMenu/BuildCategories/Sub_Organisation/SC_QuatPipes.SC_QuatPipes_C\"\\')',\n  'mMenuPriority': '45.000000',\n  'mFluidColor': '(B=0,G=0,R=0,A=0)',\n  'mGasColor': '(B=0,G=0,R=0,A=0)',\n  'mCompatibleItemDescriptors': '',\n  'mClassToScanFor': 'None',\n  'mScannableType': 'RTWOT_Default',\n  'mShouldOverrideScannerDisplayText': 'False',\n  'mScannerDisplayText': '',\n  'mScannerLightColor': '(B=0,G=0,R=0,A=0)'},\n 'Desc_QuarterPipeMiddleOutCorner_PolishedConcrete_4x1_C': {'ClassName': 'Desc_QuarterPipeMiddleOutCorner_PolishedConcrete_4x1_C',\n  'mDisplayName': '',\n  'mDescription': '',\n  'mAbbreviatedDisplayName': '',\n  'mStackSize': 'SS_MEDIUM',\n  'mCanBeDiscarded': 'True',\n  'mRememberPickUp': 'False',\n  'mEnergyValue': '0.000000',\n  'mRadioactiveDecay': '0.000000',\n  'mForm': 'RF_INVALID',\n  'mSmallIcon': 'Texture2D /Game/FactoryGame/Buildable/Building/Foundation/UI/QuarterPipe/IconDesc_QP_PConcrete_MidOutCorner_8x1_256.IconDesc_QP_PConcrete_MidOutCorner_8x1_256',\n  'mPersistentBigIcon': 'Texture2D /Game/FactoryGame/Buildable/Building/Foundation/UI/QuarterPipe/IconDesc_QP_PConcrete_MidOutCorner_8x1_512.IconDesc_QP_PConcrete_MidOutCorner_8x1_512',\n  'mCrosshairMaterial': 'None',\n  'mDescriptorStatBars': '',\n  'mSubCategories': '(BlueprintGeneratedClass\\'\"/Game/FactoryGame/Interface/UI/InGame/BuildMenu/BuildCategories/Sub_Organisation/SC_QuatPipes.SC_QuatPipes_C\"\\')',\n  'mMenuPriority': '46.000000',\n  'mFluidColor': '(B=0,G=0,R=0,A=0)',\n  'mGasColor': '(B=0,G=0,R=0,A=0)',\n  'mCompatibleItemDescriptors': '',\n  'mClassToScanFor': 'None',\n  'mScannableType': 'RTWOT_Default',\n  'mShouldOverrideScannerDisplayText': 'False',\n  'mScannerDisplayText': '',\n  'mScannerLightColor': '(B=0,G=0,R=0,A=0)'},\n 'Desc_QuarterPipeMiddleOutCorner_PolishedConcrete_4x2_C': {'ClassName': 'Desc_QuarterPipeMiddleOutCorner_PolishedConcrete_4x2_C',\n  'mDisplayName': '',\n  'mDescription': '',\n  'mAbbreviatedDisplayName': '',\n  'mStackSize': 'SS_MEDIUM',\n  'mCanBeDiscarded': 'True',\n  'mRememberPickUp': 'False',\n  'mEnergyValue': '0.000000',\n  'mRadioactiveDecay': '0.000000',\n  'mForm': 'RF_INVALID',\n  'mSmallIcon': 'Texture2D /Game/FactoryGame/Buildable/Building/Foundation/UI/QuarterPipe/IconDesc_QP_PConcrete_MidOutCorner_8x2_256.IconDesc_QP_PConcrete_MidOutCorner_8x2_256',\n  'mPersistentBigIcon': 'Texture2D /Game/FactoryGame/Buildable/Building/Foundation/UI/QuarterPipe/IconDesc_QP_PConcrete_MidOutCorner_8x2_512.IconDesc_QP_PConcrete_MidOutCorner_8x2_512',\n  'mCrosshairMaterial': 'None',\n  'mDescriptorStatBars': '',\n  'mSubCategories': '(BlueprintGeneratedClass\\'\"/Game/FactoryGame/Interface/UI/InGame/BuildMenu/BuildCategories/Sub_Organisation/SC_QuatPipes.SC_QuatPipes_C\"\\')',\n  'mMenuPriority': '47.000000',\n  'mFluidColor': '(B=0,G=0,R=0,A=0)',\n  'mGasColor': '(B=0,G=0,R=0,A=0)',\n  'mCompatibleItemDescriptors': '',\n  'mClassToScanFor': 'None',\n  'mScannableType': 'RTWOT_Default',\n  'mShouldOverrideScannerDisplayText': 'False',\n  'mScannerDisplayText': '',\n  'mScannerLightColor': '(B=0,G=0,R=0,A=0)'},\n 'Desc_QuarterPipeMiddleOutCorner_PolishedConcrete_4x4_C': {'ClassName': 'Desc_QuarterPipeMiddleOutCorner_PolishedConcrete_4x4_C',\n  'mDisplayName': '',\n  'mDescription': '',\n  'mAbbreviatedDisplayName': '',\n  'mStackSize': 'SS_MEDIUM',\n  'mCanBeDiscarded': 'True',\n  'mRememberPickUp': 'False',\n  'mEnergyValue': '0.000000',\n  'mRadioactiveDecay': '0.000000',\n  'mForm': 'RF_INVALID',\n  'mSmallIcon': 'Texture2D /Game/FactoryGame/Buildable/Building/Foundation/UI/QuarterPipe/IconDesc_QP_PConcrete_MidOutCorner_8x4_256.IconDesc_QP_PConcrete_MidOutCorner_8x4_256',\n  'mPersistentBigIcon': 'Texture2D /Game/FactoryGame/Buildable/Building/Foundation/UI/QuarterPipe/IconDesc_QP_PConcrete_MidOutCorner_8x4_512.IconDesc_QP_PConcrete_MidOutCorner_8x4_512',\n  'mCrosshairMaterial': 'None',\n  'mDescriptorStatBars': '',\n  'mSubCategories': '(BlueprintGeneratedClass\\'\"/Game/FactoryGame/Interface/UI/InGame/BuildMenu/BuildCategories/Sub_Organisation/SC_QuatPipes.SC_QuatPipes_C\"\\')',\n  'mMenuPriority': '48.000000',\n  'mFluidColor': '(B=0,G=0,R=0,A=0)',\n  'mGasColor': '(B=0,G=0,R=0,A=0)',\n  'mCompatibleItemDescriptors': '',\n  'mClassToScanFor': 'None',\n  'mScannableType': 'RTWOT_Default',\n  'mShouldOverrideScannerDisplayText': 'False',\n  'mScannerDisplayText': '',\n  'mScannerLightColor': '(B=0,G=0,R=0,A=0)'},\n 'Desc_QuarterPipeOutCorner_ConcretePolished_8x4_C': {'ClassName': 'Desc_QuarterPipeOutCorner_ConcretePolished_8x4_C',\n  'mDisplayName': '',\n  'mDescription': '',\n  'mAbbreviatedDisplayName': '',\n  'mStackSize': 'SS_MEDIUM',\n  'mCanBeDiscarded': 'True',\n  'mRememberPickUp': 'False',\n  'mEnergyValue': '0.000000',\n  'mRadioactiveDecay': '0.000000',\n  'mForm': 'RF_INVALID',\n  'mSmallIcon': 'Texture2D /Game/FactoryGame/Buildable/Building/Foundation/UI/QuarterPipe/IconDesc_QP_PConcrete_Out_8x4_256.IconDesc_QP_PConcrete_Out_8x4_256',\n  'mPersistentBigIcon': 'Texture2D /Game/FactoryGame/Buildable/Building/Foundation/UI/QuarterPipe/IconDesc_QP_PConcrete_Out_8x4_512.IconDesc_QP_PConcrete_Out_8x4_512',\n  'mCrosshairMaterial': 'None',\n  'mDescriptorStatBars': '',\n  'mSubCategories': '(BlueprintGeneratedClass\\'\"/Game/FactoryGame/Interface/UI/InGame/BuildMenu/BuildCategories/Sub_Organisation/SC_QuatPipes.SC_QuatPipes_C\"\\')',\n  'mMenuPriority': '41.000000',\n  'mFluidColor': '(B=0,G=0,R=0,A=0)',\n  'mGasColor': '(B=0,G=0,R=0,A=0)',\n  'mCompatibleItemDescriptors': '',\n  'mClassToScanFor': 'None',\n  'mScannableType': 'RTWOT_Default',\n  'mShouldOverrideScannerDisplayText': 'False',\n  'mScannerDisplayText': '',\n  'mScannerLightColor': '(B=0,G=0,R=0,A=0)'},\n 'Desc_Ramp_DownCorner_Polished_8x1_C': {'ClassName': 'Desc_Ramp_DownCorner_Polished_8x1_C',\n  'mDisplayName': '',\n  'mDescription': '',\n  'mAbbreviatedDisplayName': '',\n  'mStackSize': 'SS_MEDIUM',\n  'mCanBeDiscarded': 'True',\n  'mRememberPickUp': 'False',\n  'mEnergyValue': '0.000000',\n  'mRadioactiveDecay': '0.000000',\n  'mForm': 'RF_INVALID',\n  'mSmallIcon': 'Texture2D /Game/FactoryGame/Buildable/Building/Ramp/UI/CornerDown/IconDesc_PolishRampDown1m_256.IconDesc_PolishRampDown1m_256',\n  'mPersistentBigIcon': 'Texture2D /Game/FactoryGame/Buildable/Building/Ramp/UI/CornerDown/IconDesc_PolishRampDown1m_512.IconDesc_PolishRampDown1m_512',\n  'mCrosshairMaterial': 'None',\n  'mDescriptorStatBars': '',\n  'mSubCategories': '(BlueprintGeneratedClass\\'\"/Game/FactoryGame/Interface/UI/InGame/BuildMenu/BuildCategories/Sub_Organisation/SC_Ramps.SC_Ramps_C\"\\')',\n  'mMenuPriority': '43.000000',\n  'mFluidColor': '(B=0,G=0,R=0,A=0)',\n  'mGasColor': '(B=0,G=0,R=0,A=0)',\n  'mCompatibleItemDescriptors': '',\n  'mClassToScanFor': 'None',\n  'mScannableType': 'RTWOT_Default',\n  'mShouldOverrideScannerDisplayText': 'False',\n  'mScannerDisplayText': '',\n  'mScannerLightColor': '(B=0,G=0,R=0,A=0)'},\n 'Desc_Ramp_DownCorner_Polished_8x2_C': {'ClassName': 'Desc_Ramp_DownCorner_Polished_8x2_C',\n  'mDisplayName': '',\n  'mDescription': '',\n  'mAbbreviatedDisplayName': '',\n  'mStackSize': 'SS_MEDIUM',\n  'mCanBeDiscarded': 'True',\n  'mRememberPickUp': 'False',\n  'mEnergyValue': '0.000000',\n  'mRadioactiveDecay': '0.000000',\n  'mForm': 'RF_INVALID',\n  'mSmallIcon': 'Texture2D /Game/FactoryGame/Buildable/Building/Ramp/UI/CornerDown/IconDesc_PolishRampDown2m_256.IconDesc_PolishRampDown2m_256',\n  'mPersistentBigIcon': 'Texture2D /Game/FactoryGame/Buildable/Building/Ramp/UI/CornerDown/IconDesc_PolishRampDown2m_512.IconDesc_PolishRampDown2m_512',\n  'mCrosshairMaterial': 'None',\n  'mDescriptorStatBars': '',\n  'mSubCategories': '(BlueprintGeneratedClass\\'\"/Game/FactoryGame/Interface/UI/InGame/BuildMenu/BuildCategories/Sub_Organisation/SC_Ramps.SC_Ramps_C\"\\')',\n  'mMenuPriority': '44.000000',\n  'mFluidColor': '(B=0,G=0,R=0,A=0)',\n  'mGasColor': '(B=0,G=0,R=0,A=0)',\n  'mCompatibleItemDescriptors': '',\n  'mClassToScanFor': 'None',\n  'mScannableType': 'RTWOT_Default',\n  'mShouldOverrideScannerDisplayText': 'False',\n  'mScannerDisplayText': '',\n  'mScannerLightColor': '(B=0,G=0,R=0,A=0)'},\n 'Desc_Ramp_DownCorner_Polished_8x4_C': {'ClassName': 'Desc_Ramp_DownCorner_Polished_8x4_C',\n  'mDisplayName': '',\n  'mDescription': '',\n  'mAbbreviatedDisplayName': '',\n  'mStackSize': 'SS_MEDIUM',\n  'mCanBeDiscarded': 'True',\n  'mRememberPickUp': 'False',\n  'mEnergyValue': '0.000000',\n  'mRadioactiveDecay': '0.000000',\n  'mForm': 'RF_INVALID',\n  'mSmallIcon': 'Texture2D /Game/FactoryGame/Buildable/Building/Ramp/UI/CornerDown/IconDesc_PolishRampDown4m_256.IconDesc_PolishRampDown4m_256',\n  'mPersistentBigIcon': 'Texture2D /Game/FactoryGame/Buildable/Building/Ramp/UI/CornerDown/IconDesc_PolishRampDown4m_512.IconDesc_PolishRampDown4m_512',\n  'mCrosshairMaterial': 'None',\n  'mDescriptorStatBars': '',\n  'mSubCategories': '(BlueprintGeneratedClass\\'\"/Game/FactoryGame/Interface/UI/InGame/BuildMenu/BuildCategories/Sub_Organisation/SC_Ramps.SC_Ramps_C\"\\')',\n  'mMenuPriority': '45.000000',\n  'mFluidColor': '(B=0,G=0,R=0,A=0)',\n  'mGasColor': '(B=0,G=0,R=0,A=0)',\n  'mCompatibleItemDescriptors': '',\n  'mClassToScanFor': 'None',\n  'mScannableType': 'RTWOT_Default',\n  'mShouldOverrideScannerDisplayText': 'False',\n  'mScannerDisplayText': '',\n  'mScannerLightColor': '(B=0,G=0,R=0,A=0)'},\n 'Desc_Ramp_Polished_8x1_C': {'ClassName': 'Desc_Ramp_Polished_8x1_C',\n  'mDisplayName': '',\n  'mDescription': '',\n  'mAbbreviatedDisplayName': '',\n  'mStackSize': 'SS_MEDIUM',\n  'mCanBeDiscarded': 'True',\n  'mRememberPickUp': 'False',\n  'mEnergyValue': '0.000000',\n  'mRadioactiveDecay': '0.000000',\n  'mForm': 'RF_INVALID',\n  'mSmallIcon': 'Texture2D /Game/FactoryGame/Buildable/Building/Ramp/UI/Regular/IconDesc_PolishRamp1m_256.IconDesc_PolishRamp1m_256',\n  'mPersistentBigIcon': 'Texture2D /Game/FactoryGame/Buildable/Building/Ramp/UI/Regular/IconDesc_PolishRamp1m_512.IconDesc_PolishRamp1m_512',\n  'mCrosshairMaterial': 'None',\n  'mDescriptorStatBars': '',\n  'mSubCategories': '(BlueprintGeneratedClass\\'\"/Game/FactoryGame/Interface/UI/InGame/BuildMenu/BuildCategories/Sub_Organisation/SC_Ramps.SC_Ramps_C\"\\')',\n  'mMenuPriority': '37.000000',\n  'mFluidColor': '(B=0,G=0,R=0,A=0)',\n  'mGasColor': '(B=0,G=0,R=0,A=0)',\n  'mCompatibleItemDescriptors': '',\n  'mClassToScanFor': 'None',\n  'mScannableType': 'RTWOT_Default',\n  'mShouldOverrideScannerDisplayText': 'False',\n  'mScannerDisplayText': '',\n  'mScannerLightColor': '(B=0,G=0,R=0,A=0)'},\n 'Desc_Ramp_Polished_8x2_C': {'ClassName': 'Desc_Ramp_Polished_8x2_C',\n  'mDisplayName': '',\n  'mDescription': '',\n  'mAbbreviatedDisplayName': '',\n  'mStackSize': 'SS_MEDIUM',\n  'mCanBeDiscarded': 'True',\n  'mRememberPickUp': 'False',\n  'mEnergyValue': '0.000000',\n  'mRadioactiveDecay': '0.000000',\n  'mForm': 'RF_INVALID',\n  'mSmallIcon': 'Texture2D /Game/FactoryGame/Buildable/Building/Ramp/UI/Regular/IconDesc_PolishRamp2m_256.IconDesc_PolishRamp2m_256',\n  'mPersistentBigIcon': 'Texture2D /Game/FactoryGame/Buildable/Building/Ramp/UI/Regular/IconDesc_PolishRamp2m_512.IconDesc_PolishRamp2m_512',\n  'mCrosshairMaterial': 'None',\n  'mDescriptorStatBars': '',\n  'mSubCategories': '(BlueprintGeneratedClass\\'\"/Game/FactoryGame/Interface/UI/InGame/BuildMenu/BuildCategories/Sub_Organisation/SC_Ramps.SC_Ramps_C\"\\')',\n  'mMenuPriority': '38.000000',\n  'mFluidColor': '(B=0,G=0,R=0,A=0)',\n  'mGasColor': '(B=0,G=0,R=0,A=0)',\n  'mCompatibleItemDescriptors': '',\n  'mClassToScanFor': 'None',\n  'mScannableType': 'RTWOT_Default',\n  'mShouldOverrideScannerDisplayText': 'False',\n  'mScannerDisplayText': '',\n  'mScannerLightColor': '(B=0,G=0,R=0,A=0)'},\n 'Desc_Ramp_Polished_8x4_C': {'ClassName': 'Desc_Ramp_Polished_8x4_C',\n  'mDisplayName': '',\n  'mDescription': '',\n  'mAbbreviatedDisplayName': '',\n  'mStackSize': 'SS_MEDIUM',\n  'mCanBeDiscarded': 'True',\n  'mRememberPickUp': 'False',\n  'mEnergyValue': '0.000000',\n  'mRadioactiveDecay': '0.000000',\n  'mForm': 'RF_INVALID',\n  'mSmallIcon': 'Texture2D /Game/FactoryGame/Buildable/Building/Ramp/UI/Regular/IconDesc_PolishRamp4m_256.IconDesc_PolishRamp4m_256',\n  'mPersistentBigIcon': 'Texture2D /Game/FactoryGame/Buildable/Building/Ramp/UI/Regular/IconDesc_PolishRamp4m_512.IconDesc_PolishRamp4m_512',\n  'mCrosshairMaterial': 'None',\n  'mDescriptorStatBars': '',\n  'mSubCategories': '(BlueprintGeneratedClass\\'\"/Game/FactoryGame/Interface/UI/InGame/BuildMenu/BuildCategories/Sub_Organisation/SC_Ramps.SC_Ramps_C\"\\')',\n  'mMenuPriority': '39.000000',\n  'mFluidColor': '(B=0,G=0,R=0,A=0)',\n  'mGasColor': '(B=0,G=0,R=0,A=0)',\n  'mCompatibleItemDescriptors': '',\n  'mClassToScanFor': 'None',\n  'mScannableType': 'RTWOT_Default',\n  'mShouldOverrideScannerDisplayText': 'False',\n  'mScannerDisplayText': '',\n  'mScannerLightColor': '(B=0,G=0,R=0,A=0)'},\n 'Desc_Ramp_UpCorner_Polished_8x1_C': {'ClassName': 'Desc_Ramp_UpCorner_Polished_8x1_C',\n  'mDisplayName': '',\n  'mDescription': '',\n  'mAbbreviatedDisplayName': '',\n  'mStackSize': 'SS_MEDIUM',\n  'mCanBeDiscarded': 'True',\n  'mRememberPickUp': 'False',\n  'mEnergyValue': '0.000000',\n  'mRadioactiveDecay': '0.000000',\n  'mForm': 'RF_INVALID',\n  'mSmallIcon': 'Texture2D /Game/FactoryGame/Buildable/Building/Ramp/UI/CornerUp/IconDesc_PolishRampUp1m_256.IconDesc_PolishRampUp1m_256',\n  'mPersistentBigIcon': 'Texture2D /Game/FactoryGame/Buildable/Building/Ramp/UI/CornerUp/IconDesc_PolishRampUp1m_512.IconDesc_PolishRampUp1m_512',\n  'mCrosshairMaterial': 'None',\n  'mDescriptorStatBars': '',\n  'mSubCategories': '(BlueprintGeneratedClass\\'\"/Game/FactoryGame/Interface/UI/InGame/BuildMenu/BuildCategories/Sub_Organisation/SC_Ramps.SC_Ramps_C\"\\')',\n  'mMenuPriority': '40.000000',\n  'mFluidColor': '(B=0,G=0,R=0,A=0)',\n  'mGasColor': '(B=0,G=0,R=0,A=0)',\n  'mCompatibleItemDescriptors': '',\n  'mClassToScanFor': 'None',\n  'mScannableType': 'RTWOT_Default',\n  'mShouldOverrideScannerDisplayText': 'False',\n  'mScannerDisplayText': '',\n  'mScannerLightColor': '(B=0,G=0,R=0,A=0)'},\n 'Desc_Ramp_UpCorner_Polished_8x2_C': {'ClassName': 'Desc_Ramp_UpCorner_Polished_8x2_C',\n  'mDisplayName': '',\n  'mDescription': '',\n  'mAbbreviatedDisplayName': '',\n  'mStackSize': 'SS_MEDIUM',\n  'mCanBeDiscarded': 'True',\n  'mRememberPickUp': 'False',\n  'mEnergyValue': '0.000000',\n  'mRadioactiveDecay': '0.000000',\n  'mForm': 'RF_INVALID',\n  'mSmallIcon': 'Texture2D /Game/FactoryGame/Buildable/Building/Ramp/UI/CornerUp/IconDesc_PolishRampUp2m_256.IconDesc_PolishRampUp2m_256',\n  'mPersistentBigIcon': 'Texture2D /Game/FactoryGame/Buildable/Building/Ramp/UI/CornerUp/IconDesc_PolishRampUp2m_512.IconDesc_PolishRampUp2m_512',\n  'mCrosshairMaterial': 'None',\n  'mDescriptorStatBars': '',\n  'mSubCategories': '(BlueprintGeneratedClass\\'\"/Game/FactoryGame/Interface/UI/InGame/BuildMenu/BuildCategories/Sub_Organisation/SC_Ramps.SC_Ramps_C\"\\')',\n  'mMenuPriority': '41.000000',\n  'mFluidColor': '(B=0,G=0,R=0,A=0)',\n  'mGasColor': '(B=0,G=0,R=0,A=0)',\n  'mCompatibleItemDescriptors': '',\n  'mClassToScanFor': 'None',\n  'mScannableType': 'RTWOT_Default',\n  'mShouldOverrideScannerDisplayText': 'False',\n  'mScannerDisplayText': '',\n  'mScannerLightColor': '(B=0,G=0,R=0,A=0)'},\n 'Desc_Ramp_UpCorner_Polished_8x4_C': {'ClassName': 'Desc_Ramp_UpCorner_Polished_8x4_C',\n  'mDisplayName': '',\n  'mDescription': '',\n  'mAbbreviatedDisplayName': '',\n  'mStackSize': 'SS_MEDIUM',\n  'mCanBeDiscarded': 'True',\n  'mRememberPickUp': 'False',\n  'mEnergyValue': '0.000000',\n  'mRadioactiveDecay': '0.000000',\n  'mForm': 'RF_INVALID',\n  'mSmallIcon': 'Texture2D /Game/FactoryGame/Buildable/Building/Ramp/UI/CornerUp/IconDesc_PolishRampUp4m_256.IconDesc_PolishRampUp4m_256',\n  'mPersistentBigIcon': 'Texture2D /Game/FactoryGame/Buildable/Building/Ramp/UI/CornerUp/IconDesc_PolishRampUp4m_512.IconDesc_PolishRampUp4m_512',\n  'mCrosshairMaterial': 'None',\n  'mDescriptorStatBars': '',\n  'mSubCategories': '(BlueprintGeneratedClass\\'\"/Game/FactoryGame/Interface/UI/InGame/BuildMenu/BuildCategories/Sub_Organisation/SC_Ramps.SC_Ramps_C\"\\')',\n  'mMenuPriority': '42.000000',\n  'mFluidColor': '(B=0,G=0,R=0,A=0)',\n  'mGasColor': '(B=0,G=0,R=0,A=0)',\n  'mCompatibleItemDescriptors': '',\n  'mClassToScanFor': 'None',\n  'mScannableType': 'RTWOT_Default',\n  'mShouldOverrideScannerDisplayText': 'False',\n  'mScannerDisplayText': '',\n  'mScannerLightColor': '(B=0,G=0,R=0,A=0)'},\n 'Desc_RampDouble_Polished_8x1_C': {'ClassName': 'Desc_RampDouble_Polished_8x1_C',\n  'mDisplayName': '',\n  'mDescription': '',\n  'mAbbreviatedDisplayName': '',\n  'mStackSize': 'SS_MEDIUM',\n  'mCanBeDiscarded': 'True',\n  'mRememberPickUp': 'False',\n  'mEnergyValue': '0.000000',\n  'mRadioactiveDecay': '0.000000',\n  'mForm': 'RF_INVALID',\n  'mSmallIcon': 'Texture2D /Game/FactoryGame/Buildable/Building/Ramp/UI/Double/IconDesc_PolishDoubleRamp1m_256.IconDesc_PolishDoubleRamp1m_256',\n  'mPersistentBigIcon': 'Texture2D /Game/FactoryGame/Buildable/Building/Ramp/UI/Double/IconDesc_PolishDoubleRamp1m_512.IconDesc_PolishDoubleRamp1m_512',\n  'mCrosshairMaterial': 'None',\n  'mDescriptorStatBars': '',\n  'mSubCategories': '(BlueprintGeneratedClass\\'\"/Game/FactoryGame/Interface/UI/InGame/BuildMenu/BuildCategories/Sub_Organisation/SC_Ramps.SC_Ramps_C\"\\')',\n  'mMenuPriority': '46.000000',\n  'mFluidColor': '(B=0,G=0,R=0,A=0)',\n  'mGasColor': '(B=0,G=0,R=0,A=0)',\n  'mCompatibleItemDescriptors': '',\n  'mClassToScanFor': 'None',\n  'mScannableType': 'RTWOT_Default',\n  'mShouldOverrideScannerDisplayText': 'False',\n  'mScannerDisplayText': '',\n  'mScannerLightColor': '(B=0,G=0,R=0,A=0)'},\n 'Desc_RampDouble_Polished_8x2_C': {'ClassName': 'Desc_RampDouble_Polished_8x2_C',\n  'mDisplayName': '',\n  'mDescription': '',\n  'mAbbreviatedDisplayName': '',\n  'mStackSize': 'SS_MEDIUM',\n  'mCanBeDiscarded': 'True',\n  'mRememberPickUp': 'False',\n  'mEnergyValue': '0.000000',\n  'mRadioactiveDecay': '0.000000',\n  'mForm': 'RF_INVALID',\n  'mSmallIcon': 'Texture2D /Game/FactoryGame/Buildable/Building/Ramp/UI/Double/IconDesc_PolishDoubleRamp2m_256.IconDesc_PolishDoubleRamp2m_256',\n  'mPersistentBigIcon': 'Texture2D /Game/FactoryGame/Buildable/Building/Ramp/UI/Double/IconDesc_PolishDoubleRamp2m_512.IconDesc_PolishDoubleRamp2m_512',\n  'mCrosshairMaterial': 'None',\n  'mDescriptorStatBars': '',\n  'mSubCategories': '(BlueprintGeneratedClass\\'\"/Game/FactoryGame/Interface/UI/InGame/BuildMenu/BuildCategories/Sub_Organisation/SC_Ramps.SC_Ramps_C\"\\')',\n  'mMenuPriority': '47.000000',\n  'mFluidColor': '(B=0,G=0,R=0,A=0)',\n  'mGasColor': '(B=0,G=0,R=0,A=0)',\n  'mCompatibleItemDescriptors': '',\n  'mClassToScanFor': 'None',\n  'mScannableType': 'RTWOT_Default',\n  'mShouldOverrideScannerDisplayText': 'False',\n  'mScannerDisplayText': '',\n  'mScannerLightColor': '(B=0,G=0,R=0,A=0)'},\n 'Desc_RampDouble_Polished_8x4_C': {'ClassName': 'Desc_RampDouble_Polished_8x4_C',\n  'mDisplayName': '',\n  'mDescription': '',\n  'mAbbreviatedDisplayName': '',\n  'mStackSize': 'SS_MEDIUM',\n  'mCanBeDiscarded': 'True',\n  'mRememberPickUp': 'False',\n  'mEnergyValue': '0.000000',\n  'mRadioactiveDecay': '0.000000',\n  'mForm': 'RF_INVALID',\n  'mSmallIcon': 'Texture2D /Game/FactoryGame/Buildable/Building/Ramp/UI/Double/IconDesc_PolishDoubleRamp4m_256.IconDesc_PolishDoubleRamp4m_256',\n  'mPersistentBigIcon': 'Texture2D /Game/FactoryGame/Buildable/Building/Ramp/UI/Double/IconDesc_PolishDoubleRamp4m_512.IconDesc_PolishDoubleRamp4m_512',\n  'mCrosshairMaterial': 'None',\n  'mDescriptorStatBars': '',\n  'mSubCategories': '(BlueprintGeneratedClass\\'\"/Game/FactoryGame/Interface/UI/InGame/BuildMenu/BuildCategories/Sub_Organisation/SC_Ramps.SC_Ramps_C\"\\')',\n  'mMenuPriority': '48.000000',\n  'mFluidColor': '(B=0,G=0,R=0,A=0)',\n  'mGasColor': '(B=0,G=0,R=0,A=0)',\n  'mCompatibleItemDescriptors': '',\n  'mClassToScanFor': 'None',\n  'mScannableType': 'RTWOT_Default',\n  'mShouldOverrideScannerDisplayText': 'False',\n  'mScannerDisplayText': '',\n  'mScannerLightColor': '(B=0,G=0,R=0,A=0)'},\n 'Desc_DownQuarterPipe_Concrete_8x4_C': {'ClassName': 'Desc_DownQuarterPipe_Concrete_8x4_C',\n  'mDisplayName': '',\n  'mDescription': '',\n  'mAbbreviatedDisplayName': '',\n  'mStackSize': 'SS_MEDIUM',\n  'mCanBeDiscarded': 'True',\n  'mRememberPickUp': 'False',\n  'mEnergyValue': '0.000000',\n  'mRadioactiveDecay': '0.000000',\n  'mForm': 'RF_INVALID',\n  'mSmallIcon': 'Texture2D /Game/FactoryGame/Buildable/Building/Foundation/UI/QuarterPipe/IconDesc_QP_Concrete_Down_8x4_256.IconDesc_QP_Concrete_Down_8x4_256',\n  'mPersistentBigIcon': 'Texture2D /Game/FactoryGame/Buildable/Building/Foundation/UI/QuarterPipe/IconDesc_QP_Concrete_Down_8x4_512.IconDesc_QP_Concrete_Down_8x4_512',\n  'mCrosshairMaterial': 'None',\n  'mDescriptorStatBars': '',\n  'mSubCategories': '(BlueprintGeneratedClass\\'\"/Game/FactoryGame/Interface/UI/InGame/BuildMenu/BuildCategories/Sub_Organisation/SC_QuatPipes.SC_QuatPipes_C\"\\')',\n  'mMenuPriority': '14.000000',\n  'mFluidColor': '(B=0,G=0,R=0,A=0)',\n  'mGasColor': '(B=0,G=0,R=0,A=0)',\n  'mCompatibleItemDescriptors': '',\n  'mClassToScanFor': 'None',\n  'mScannableType': 'RTWOT_Default',\n  'mShouldOverrideScannerDisplayText': 'False',\n  'mScannerDisplayText': '',\n  'mScannerLightColor': '(B=0,G=0,R=0,A=0)'},\n 'Desc_DownQuarterPipeInCorner_Concrete_8x4_C': {'ClassName': 'Desc_DownQuarterPipeInCorner_Concrete_8x4_C',\n  'mDisplayName': '',\n  'mDescription': '',\n  'mAbbreviatedDisplayName': '',\n  'mStackSize': 'SS_MEDIUM',\n  'mCanBeDiscarded': 'True',\n  'mRememberPickUp': 'False',\n  'mEnergyValue': '0.000000',\n  'mRadioactiveDecay': '0.000000',\n  'mForm': 'RF_INVALID',\n  'mSmallIcon': 'Texture2D /Game/FactoryGame/Buildable/Building/Foundation/UI/QuarterPipe/IconDesc_QP_Concrete_DownInCorner_8x4_256.IconDesc_QP_Concrete_DownInCorner_8x4_256',\n  'mPersistentBigIcon': 'Texture2D /Game/FactoryGame/Buildable/Building/Foundation/UI/QuarterPipe/IconDesc_QP_Concrete_DownInCorner_8x4_512.IconDesc_QP_Concrete_DownInCorner_8x4_512',\n  'mCrosshairMaterial': 'None',\n  'mDescriptorStatBars': '',\n  'mSubCategories': '(BlueprintGeneratedClass\\'\"/Game/FactoryGame/Interface/UI/InGame/BuildMenu/BuildCategories/Sub_Organisation/SC_QuatPipes.SC_QuatPipes_C\"\\')',\n  'mMenuPriority': '16.000000',\n  'mFluidColor': '(B=0,G=0,R=0,A=0)',\n  'mGasColor': '(B=0,G=0,R=0,A=0)',\n  'mCompatibleItemDescriptors': '',\n  'mClassToScanFor': 'None',\n  'mScannableType': 'RTWOT_Default',\n  'mShouldOverrideScannerDisplayText': 'False',\n  'mScannerDisplayText': '',\n  'mScannerLightColor': '(B=0,G=0,R=0,A=0)'},\n 'Desc_DownQuarterPipeOutCorner_Concrete_8x4_C': {'ClassName': 'Desc_DownQuarterPipeOutCorner_Concrete_8x4_C',\n  'mDisplayName': '',\n  'mDescription': '',\n  'mAbbreviatedDisplayName': '',\n  'mStackSize': 'SS_MEDIUM',\n  'mCanBeDiscarded': 'True',\n  'mRememberPickUp': 'False',\n  'mEnergyValue': '0.000000',\n  'mRadioactiveDecay': '0.000000',\n  'mForm': 'RF_INVALID',\n  'mSmallIcon': 'Texture2D /Game/FactoryGame/Buildable/Building/Foundation/UI/QuarterPipe/IconDesc_QP_Concrete_DownOutCorner_8x4_256.IconDesc_QP_Concrete_DownOutCorner_8x4_256',\n  'mPersistentBigIcon': 'Texture2D /Game/FactoryGame/Buildable/Building/Foundation/UI/QuarterPipe/IconDesc_QP_Concrete_DownOutCorner_8x4_512.IconDesc_QP_Concrete_DownOutCorner_8x4_512',\n  'mCrosshairMaterial': 'None',\n  'mDescriptorStatBars': '',\n  'mSubCategories': '(BlueprintGeneratedClass\\'\"/Game/FactoryGame/Interface/UI/InGame/BuildMenu/BuildCategories/Sub_Organisation/SC_QuatPipes.SC_QuatPipes_C\"\\')',\n  'mMenuPriority': '18.000000',\n  'mFluidColor': '(B=0,G=0,R=0,A=0)',\n  'mGasColor': '(B=0,G=0,R=0,A=0)',\n  'mCompatibleItemDescriptors': '',\n  'mClassToScanFor': 'None',\n  'mScannableType': 'RTWOT_Default',\n  'mShouldOverrideScannerDisplayText': 'False',\n  'mScannerDisplayText': '',\n  'mScannerLightColor': '(B=0,G=0,R=0,A=0)'},\n 'Desc_Foundation_Concrete_8x1_C': {'ClassName': 'Desc_Foundation_Concrete_8x1_C',\n  'mDisplayName': '',\n  'mDescription': '',\n  'mAbbreviatedDisplayName': '',\n  'mStackSize': 'SS_MEDIUM',\n  'mCanBeDiscarded': 'True',\n  'mRememberPickUp': 'False',\n  'mEnergyValue': '0.000000',\n  'mRadioactiveDecay': '0.000000',\n  'mForm': 'RF_INVALID',\n  'mSmallIcon': 'Texture2D /Game/FactoryGame/Buildable/Building/Foundation/UI/U5/IconDesc_ConcFoundation1m_256.IconDesc_ConcFoundation1m_256',\n  'mPersistentBigIcon': 'Texture2D /Game/FactoryGame/Buildable/Building/Foundation/UI/U5/IconDesc_ConcFoundation1m_512.IconDesc_ConcFoundation1m_512',\n  'mCrosshairMaterial': 'None',\n  'mDescriptorStatBars': '',\n  'mSubCategories': '(BlueprintGeneratedClass\\'\"/Game/FactoryGame/Interface/UI/InGame/BuildMenu/BuildCategories/Sub_Organisation/SC_Floors.SC_Floors_C\"\\')',\n  'mMenuPriority': '7.000000',\n  'mFluidColor': '(B=0,G=0,R=0,A=0)',\n  'mGasColor': '(B=0,G=0,R=0,A=0)',\n  'mCompatibleItemDescriptors': '',\n  'mClassToScanFor': 'None',\n  'mScannableType': 'RTWOT_Default',\n  'mShouldOverrideScannerDisplayText': 'False',\n  'mScannerDisplayText': '',\n  'mScannerLightColor': '(B=0,G=0,R=0,A=0)'},\n 'Desc_Foundation_Concrete_8x2_C': {'ClassName': 'Desc_Foundation_Concrete_8x2_C',\n  'mDisplayName': '',\n  'mDescription': '',\n  'mAbbreviatedDisplayName': '',\n  'mStackSize': 'SS_MEDIUM',\n  'mCanBeDiscarded': 'True',\n  'mRememberPickUp': 'False',\n  'mEnergyValue': '0.000000',\n  'mRadioactiveDecay': '0.000000',\n  'mForm': 'RF_INVALID',\n  'mSmallIcon': 'Texture2D /Game/FactoryGame/Buildable/Building/Foundation/UI/U5/IconDesc_ConcFoundation2m_256.IconDesc_ConcFoundation2m_256',\n  'mPersistentBigIcon': 'Texture2D /Game/FactoryGame/Buildable/Building/Foundation/UI/U5/IconDesc_ConcFoundation2m_512.IconDesc_ConcFoundation2m_512',\n  'mCrosshairMaterial': 'None',\n  'mDescriptorStatBars': '',\n  'mSubCategories': '(BlueprintGeneratedClass\\'\"/Game/FactoryGame/Interface/UI/InGame/BuildMenu/BuildCategories/Sub_Organisation/SC_Floors.SC_Floors_C\"\\')',\n  'mMenuPriority': '8.000000',\n  'mFluidColor': '(B=0,G=0,R=0,A=0)',\n  'mGasColor': '(B=0,G=0,R=0,A=0)',\n  'mCompatibleItemDescriptors': '',\n  'mClassToScanFor': 'None',\n  'mScannableType': 'RTWOT_Default',\n  'mShouldOverrideScannerDisplayText': 'False',\n  'mScannerDisplayText': '',\n  'mScannerLightColor': '(B=0,G=0,R=0,A=0)'},\n 'Desc_Foundation_Concrete_8x4_C': {'ClassName': 'Desc_Foundation_Concrete_8x4_C',\n  'mDisplayName': '',\n  'mDescription': '',\n  'mAbbreviatedDisplayName': '',\n  'mStackSize': 'SS_MEDIUM',\n  'mCanBeDiscarded': 'True',\n  'mRememberPickUp': 'False',\n  'mEnergyValue': '0.000000',\n  'mRadioactiveDecay': '0.000000',\n  'mForm': 'RF_INVALID',\n  'mSmallIcon': 'Texture2D /Game/FactoryGame/Buildable/Building/Foundation/UI/U5/IconDesc_ConcFoundation4m_256.IconDesc_ConcFoundation4m_256',\n  'mPersistentBigIcon': 'Texture2D /Game/FactoryGame/Buildable/Building/Foundation/UI/U5/IconDesc_ConcFoundation4m_512.IconDesc_ConcFoundation4m_512',\n  'mCrosshairMaterial': 'None',\n  'mDescriptorStatBars': '',\n  'mSubCategories': '(BlueprintGeneratedClass\\'\"/Game/FactoryGame/Interface/UI/InGame/BuildMenu/BuildCategories/Sub_Organisation/SC_Floors.SC_Floors_C\"\\')',\n  'mMenuPriority': '9.000000',\n  'mFluidColor': '(B=0,G=0,R=0,A=0)',\n  'mGasColor': '(B=0,G=0,R=0,A=0)',\n  'mCompatibleItemDescriptors': '',\n  'mClassToScanFor': 'None',\n  'mScannableType': 'RTWOT_Default',\n  'mShouldOverrideScannerDisplayText': 'False',\n  'mScannerDisplayText': '',\n  'mScannerLightColor': '(B=0,G=0,R=0,A=0)'},\n 'Desc_InvertedRamp_Concrete_8x1_C': {'ClassName': 'Desc_InvertedRamp_Concrete_8x1_C',\n  'mDisplayName': '',\n  'mDescription': '',\n  'mAbbreviatedDisplayName': '',\n  'mStackSize': 'SS_MEDIUM',\n  'mCanBeDiscarded': 'True',\n  'mRememberPickUp': 'False',\n  'mEnergyValue': '0.000000',\n  'mRadioactiveDecay': '0.000000',\n  'mForm': 'RF_INVALID',\n  'mSmallIcon': 'Texture2D /Game/FactoryGame/Buildable/Building/Ramp/UI/Inverted/IconDesc_ConcInvertRamp1m_256.IconDesc_ConcInvertRamp1m_256',\n  'mPersistentBigIcon': 'Texture2D /Game/FactoryGame/Buildable/Building/Ramp/UI/Inverted/IconDesc_ConcInvertRamp1m_512.IconDesc_ConcInvertRamp1m_512',\n  'mCrosshairMaterial': 'None',\n  'mDescriptorStatBars': '',\n  'mSubCategories': '(BlueprintGeneratedClass\\'\"/Game/FactoryGame/Interface/UI/InGame/BuildMenu/BuildCategories/Sub_Organisation/SC_Inverted.SC_Inverted_C\"\\')',\n  'mMenuPriority': '10.000000',\n  'mFluidColor': '(B=0,G=0,R=0,A=0)',\n  'mGasColor': '(B=0,G=0,R=0,A=0)',\n  'mCompatibleItemDescriptors': '',\n  'mClassToScanFor': 'None',\n  'mScannableType': 'RTWOT_Default',\n  'mShouldOverrideScannerDisplayText': 'False',\n  'mScannerDisplayText': '',\n  'mScannerLightColor': '(B=0,G=0,R=0,A=0)'},\n 'Desc_InvertedRamp_Concrete_8x2_C': {'ClassName': 'Desc_InvertedRamp_Concrete_8x2_C',\n  'mDisplayName': '',\n  'mDescription': '',\n  'mAbbreviatedDisplayName': '',\n  'mStackSize': 'SS_MEDIUM',\n  'mCanBeDiscarded': 'True',\n  'mRememberPickUp': 'False',\n  'mEnergyValue': '0.000000',\n  'mRadioactiveDecay': '0.000000',\n  'mForm': 'RF_INVALID',\n  'mSmallIcon': 'Texture2D /Game/FactoryGame/Buildable/Building/Ramp/UI/Inverted/IconDesc_ConcInvertRamp2m_256.IconDesc_ConcInvertRamp2m_256',\n  'mPersistentBigIcon': 'Texture2D /Game/FactoryGame/Buildable/Building/Ramp/UI/Inverted/IconDesc_ConcInvertRamp2m_512.IconDesc_ConcInvertRamp2m_512',\n  'mCrosshairMaterial': 'None',\n  'mDescriptorStatBars': '',\n  'mSubCategories': '(BlueprintGeneratedClass\\'\"/Game/FactoryGame/Interface/UI/InGame/BuildMenu/BuildCategories/Sub_Organisation/SC_Inverted.SC_Inverted_C\"\\')',\n  'mMenuPriority': '11.000000',\n  'mFluidColor': '(B=0,G=0,R=0,A=0)',\n  'mGasColor': '(B=0,G=0,R=0,A=0)',\n  'mCompatibleItemDescriptors': '',\n  'mClassToScanFor': 'None',\n  'mScannableType': 'RTWOT_Default',\n  'mShouldOverrideScannerDisplayText': 'False',\n  'mScannerDisplayText': '',\n  'mScannerLightColor': '(B=0,G=0,R=0,A=0)'},\n 'Desc_InvertedRamp_Concrete_8x4_C': {'ClassName': 'Desc_InvertedRamp_Concrete_8x4_C',\n  'mDisplayName': '',\n  'mDescription': '',\n  'mAbbreviatedDisplayName': '',\n  'mStackSize': 'SS_MEDIUM',\n  'mCanBeDiscarded': 'True',\n  'mRememberPickUp': 'False',\n  'mEnergyValue': '0.000000',\n  'mRadioactiveDecay': '0.000000',\n  'mForm': 'RF_INVALID',\n  'mSmallIcon': 'Texture2D /Game/FactoryGame/Buildable/Building/Ramp/UI/Inverted/IconDesc_ConcInvertRamp4m_256.IconDesc_ConcInvertRamp4m_256',\n  'mPersistentBigIcon': 'Texture2D /Game/FactoryGame/Buildable/Building/Ramp/UI/Inverted/IconDesc_ConcInvertRamp4m_512.IconDesc_ConcInvertRamp4m_512',\n  'mCrosshairMaterial': 'None',\n  'mDescriptorStatBars': '',\n  'mSubCategories': '(BlueprintGeneratedClass\\'\"/Game/FactoryGame/Interface/UI/InGame/BuildMenu/BuildCategories/Sub_Organisation/SC_Inverted.SC_Inverted_C\"\\')',\n  'mMenuPriority': '12.000000',\n  'mFluidColor': '(B=0,G=0,R=0,A=0)',\n  'mGasColor': '(B=0,G=0,R=0,A=0)',\n  'mCompatibleItemDescriptors': '',\n  'mClassToScanFor': 'None',\n  'mScannableType': 'RTWOT_Default',\n  'mShouldOverrideScannerDisplayText': 'False',\n  'mScannerDisplayText': '',\n  'mScannerLightColor': '(B=0,G=0,R=0,A=0)'},\n 'Desc_InvertedRamp_DCorner_Concrete_8x1_C': {'ClassName': 'Desc_InvertedRamp_DCorner_Concrete_8x1_C',\n  'mDisplayName': '',\n  'mDescription': '',\n  'mAbbreviatedDisplayName': '',\n  'mStackSize': 'SS_MEDIUM',\n  'mCanBeDiscarded': 'True',\n  'mRememberPickUp': 'False',\n  'mEnergyValue': '0.000000',\n  'mRadioactiveDecay': '0.000000',\n  'mForm': 'RF_INVALID',\n  'mSmallIcon': 'Texture2D /Game/FactoryGame/Buildable/Building/Ramp/UI/InvertedDown/IconDesc_ConcInvDRamp1m_256.IconDesc_ConcInvDRamp1m_256',\n  'mPersistentBigIcon': 'Texture2D /Game/FactoryGame/Buildable/Building/Ramp/UI/InvertedDown/IconDesc_ConcInvDRamp1m_512.IconDesc_ConcInvDRamp1m_512',\n  'mCrosshairMaterial': 'None',\n  'mDescriptorStatBars': '',\n  'mSubCategories': '(BlueprintGeneratedClass\\'\"/Game/FactoryGame/Interface/UI/InGame/BuildMenu/BuildCategories/Sub_Organisation/SC_Inverted.SC_Inverted_C\"\\')',\n  'mMenuPriority': '16.000000',\n  'mFluidColor': '(B=0,G=0,R=0,A=0)',\n  'mGasColor': '(B=0,G=0,R=0,A=0)',\n  'mCompatibleItemDescriptors': '',\n  'mClassToScanFor': 'None',\n  'mScannableType': 'RTWOT_Default',\n  'mShouldOverrideScannerDisplayText': 'False',\n  'mScannerDisplayText': '',\n  'mScannerLightColor': '(B=0,G=0,R=0,A=0)'},\n 'Desc_InvertedRamp_DCorner_Concrete_8x2_C': {'ClassName': 'Desc_InvertedRamp_DCorner_Concrete_8x2_C',\n  'mDisplayName': '',\n  'mDescription': '',\n  'mAbbreviatedDisplayName': '',\n  'mStackSize': 'SS_MEDIUM',\n  'mCanBeDiscarded': 'True',\n  'mRememberPickUp': 'False',\n  'mEnergyValue': '0.000000',\n  'mRadioactiveDecay': '0.000000',\n  'mForm': 'RF_INVALID',\n  'mSmallIcon': 'Texture2D /Game/FactoryGame/Buildable/Building/Ramp/UI/InvertedDown/IconDesc_ConcInvDRamp2m_256.IconDesc_ConcInvDRamp2m_256',\n  'mPersistentBigIcon': 'Texture2D /Game/FactoryGame/Buildable/Building/Ramp/UI/InvertedDown/IconDesc_ConcInvDRamp2m_512.IconDesc_ConcInvDRamp2m_512',\n  'mCrosshairMaterial': 'None',\n  'mDescriptorStatBars': '',\n  'mSubCategories': '(BlueprintGeneratedClass\\'\"/Game/FactoryGame/Interface/UI/InGame/BuildMenu/BuildCategories/Sub_Organisation/SC_Inverted.SC_Inverted_C\"\\')',\n  'mMenuPriority': '17.000000',\n  'mFluidColor': '(B=0,G=0,R=0,A=0)',\n  'mGasColor': '(B=0,G=0,R=0,A=0)',\n  'mCompatibleItemDescriptors': '',\n  'mClassToScanFor': 'None',\n  'mScannableType': 'RTWOT_Default',\n  'mShouldOverrideScannerDisplayText': 'False',\n  'mScannerDisplayText': '',\n  'mScannerLightColor': '(B=0,G=0,R=0,A=0)'},\n 'Desc_InvertedRamp_DCorner_Concrete_8x4_C': {'ClassName': 'Desc_InvertedRamp_DCorner_Concrete_8x4_C',\n  'mDisplayName': '',\n  'mDescription': '',\n  'mAbbreviatedDisplayName': '',\n  'mStackSize': 'SS_MEDIUM',\n  'mCanBeDiscarded': 'True',\n  'mRememberPickUp': 'False',\n  'mEnergyValue': '0.000000',\n  'mRadioactiveDecay': '0.000000',\n  'mForm': 'RF_INVALID',\n  'mSmallIcon': 'Texture2D /Game/FactoryGame/Buildable/Building/Ramp/UI/InvertedDown/IconDesc_ConcInvDRamp4m_256.IconDesc_ConcInvDRamp4m_256',\n  'mPersistentBigIcon': 'Texture2D /Game/FactoryGame/Buildable/Building/Ramp/UI/InvertedDown/IconDesc_ConcInvDRamp4m_512.IconDesc_ConcInvDRamp4m_512',\n  'mCrosshairMaterial': 'None',\n  'mDescriptorStatBars': '',\n  'mSubCategories': '(BlueprintGeneratedClass\\'\"/Game/FactoryGame/Interface/UI/InGame/BuildMenu/BuildCategories/Sub_Organisation/SC_Inverted.SC_Inverted_C\"\\')',\n  'mMenuPriority': '18.000000',\n  'mFluidColor': '(B=0,G=0,R=0,A=0)',\n  'mGasColor': '(B=0,G=0,R=0,A=0)',\n  'mCompatibleItemDescriptors': '',\n  'mClassToScanFor': 'None',\n  'mScannableType': 'RTWOT_Default',\n  'mShouldOverrideScannerDisplayText': 'False',\n  'mScannerDisplayText': '',\n  'mScannerLightColor': '(B=0,G=0,R=0,A=0)'},\n 'Desc_InvertedRamp_UCorner_Concrete_8x1_C': {'ClassName': 'Desc_InvertedRamp_UCorner_Concrete_8x1_C',\n  'mDisplayName': '',\n  'mDescription': '',\n  'mAbbreviatedDisplayName': '',\n  'mStackSize': 'SS_MEDIUM',\n  'mCanBeDiscarded': 'True',\n  'mRememberPickUp': 'False',\n  'mEnergyValue': '0.000000',\n  'mRadioactiveDecay': '0.000000',\n  'mForm': 'RF_INVALID',\n  'mSmallIcon': 'Texture2D /Game/FactoryGame/Buildable/Building/Ramp/UI/InvertedUp/IconDesc_ConcInvURamp1m_256.IconDesc_ConcInvURamp1m_256',\n  'mPersistentBigIcon': 'Texture2D /Game/FactoryGame/Buildable/Building/Ramp/UI/InvertedUp/IconDesc_ConcInvURamp1m_512.IconDesc_ConcInvURamp1m_512',\n  'mCrosshairMaterial': 'None',\n  'mDescriptorStatBars': '',\n  'mSubCategories': '(BlueprintGeneratedClass\\'\"/Game/FactoryGame/Interface/UI/InGame/BuildMenu/BuildCategories/Sub_Organisation/SC_Inverted.SC_Inverted_C\"\\')',\n  'mMenuPriority': '13.000000',\n  'mFluidColor': '(B=0,G=0,R=0,A=0)',\n  'mGasColor': '(B=0,G=0,R=0,A=0)',\n  'mCompatibleItemDescriptors': '',\n  'mClassToScanFor': 'None',\n  'mScannableType': 'RTWOT_Default',\n  'mShouldOverrideScannerDisplayText': 'False',\n  'mScannerDisplayText': '',\n  'mScannerLightColor': '(B=0,G=0,R=0,A=0)'},\n 'Desc_InvertedRamp_UCorner_Concrete_8x2_C': {'ClassName': 'Desc_InvertedRamp_UCorner_Concrete_8x2_C',\n  'mDisplayName': '',\n  'mDescription': '',\n  'mAbbreviatedDisplayName': '',\n  'mStackSize': 'SS_MEDIUM',\n  'mCanBeDiscarded': 'True',\n  'mRememberPickUp': 'False',\n  'mEnergyValue': '0.000000',\n  'mRadioactiveDecay': '0.000000',\n  'mForm': 'RF_INVALID',\n  'mSmallIcon': 'Texture2D /Game/FactoryGame/Buildable/Building/Ramp/UI/InvertedUp/IconDesc_ConcInvURamp2m_256.IconDesc_ConcInvURamp2m_256',\n  'mPersistentBigIcon': 'Texture2D /Game/FactoryGame/Buildable/Building/Ramp/UI/InvertedUp/IconDesc_ConcInvURamp2m_512.IconDesc_ConcInvURamp2m_512',\n  'mCrosshairMaterial': 'None',\n  'mDescriptorStatBars': '',\n  'mSubCategories': '(BlueprintGeneratedClass\\'\"/Game/FactoryGame/Interface/UI/InGame/BuildMenu/BuildCategories/Sub_Organisation/SC_Inverted.SC_Inverted_C\"\\')',\n  'mMenuPriority': '14.000000',\n  'mFluidColor': '(B=0,G=0,R=0,A=0)',\n  'mGasColor': '(B=0,G=0,R=0,A=0)',\n  'mCompatibleItemDescriptors': '',\n  'mClassToScanFor': 'None',\n  'mScannableType': 'RTWOT_Default',\n  'mShouldOverrideScannerDisplayText': 'False',\n  'mScannerDisplayText': '',\n  'mScannerLightColor': '(B=0,G=0,R=0,A=0)'},\n 'Desc_InvertedRamp_UCorner_Concrete_8x4_C': {'ClassName': 'Desc_InvertedRamp_UCorner_Concrete_8x4_C',\n  'mDisplayName': '',\n  'mDescription': '',\n  'mAbbreviatedDisplayName': '',\n  'mStackSize': 'SS_MEDIUM',\n  'mCanBeDiscarded': 'True',\n  'mRememberPickUp': 'False',\n  'mEnergyValue': '0.000000',\n  'mRadioactiveDecay': '0.000000',\n  'mForm': 'RF_INVALID',\n  'mSmallIcon': 'Texture2D /Game/FactoryGame/Buildable/Building/Ramp/UI/InvertedUp/IconDesc_ConcInvURamp4m_256.IconDesc_ConcInvURamp4m_256',\n  'mPersistentBigIcon': 'Texture2D /Game/FactoryGame/Buildable/Building/Ramp/UI/InvertedUp/IconDesc_ConcInvURamp4m_512.IconDesc_ConcInvURamp4m_512',\n  'mCrosshairMaterial': 'None',\n  'mDescriptorStatBars': '',\n  'mSubCategories': '(BlueprintGeneratedClass\\'\"/Game/FactoryGame/Interface/UI/InGame/BuildMenu/BuildCategories/Sub_Organisation/SC_Inverted.SC_Inverted_C\"\\')',\n  'mMenuPriority': '15.000000',\n  'mFluidColor': '(B=0,G=0,R=0,A=0)',\n  'mGasColor': '(B=0,G=0,R=0,A=0)',\n  'mCompatibleItemDescriptors': '',\n  'mClassToScanFor': 'None',\n  'mScannableType': 'RTWOT_Default',\n  'mShouldOverrideScannerDisplayText': 'False',\n  'mScannerDisplayText': '',\n  'mScannerLightColor': '(B=0,G=0,R=0,A=0)'},\n 'Desc_QuarterPipe_Concrete_8x4_C': {'ClassName': 'Desc_QuarterPipe_Concrete_8x4_C',\n  'mDisplayName': '',\n  'mDescription': '',\n  'mAbbreviatedDisplayName': '',\n  'mStackSize': 'SS_MEDIUM',\n  'mCanBeDiscarded': 'True',\n  'mRememberPickUp': 'False',\n  'mEnergyValue': '0.000000',\n  'mRadioactiveDecay': '0.000000',\n  'mForm': 'RF_INVALID',\n  'mSmallIcon': 'Texture2D /Game/FactoryGame/Buildable/Building/Foundation/UI/QuarterPipe/IconDesc_QP_Concrete_8x4_256.IconDesc_QP_Concrete_8x4_256',\n  'mPersistentBigIcon': 'Texture2D /Game/FactoryGame/Buildable/Building/Foundation/UI/QuarterPipe/IconDesc_QP_Concrete_8x4_512.IconDesc_QP_Concrete_8x4_512',\n  'mCrosshairMaterial': 'None',\n  'mDescriptorStatBars': '',\n  'mSubCategories': '(BlueprintGeneratedClass\\'\"/Game/FactoryGame/Interface/UI/InGame/BuildMenu/BuildCategories/Sub_Organisation/SC_QuatPipes.SC_QuatPipes_C\"\\')',\n  'mMenuPriority': '13.000000',\n  'mFluidColor': '(B=0,G=0,R=0,A=0)',\n  'mGasColor': '(B=0,G=0,R=0,A=0)',\n  'mCompatibleItemDescriptors': '',\n  'mClassToScanFor': 'None',\n  'mScannableType': 'RTWOT_Default',\n  'mShouldOverrideScannerDisplayText': 'False',\n  'mScannerDisplayText': '',\n  'mScannerLightColor': '(B=0,G=0,R=0,A=0)'},\n 'Desc_QuarterPipeInCorner_Concrete_8x4_C': {'ClassName': 'Desc_QuarterPipeInCorner_Concrete_8x4_C',\n  'mDisplayName': '',\n  'mDescription': '',\n  'mAbbreviatedDisplayName': '',\n  'mStackSize': 'SS_MEDIUM',\n  'mCanBeDiscarded': 'True',\n  'mRememberPickUp': 'False',\n  'mEnergyValue': '0.000000',\n  'mRadioactiveDecay': '0.000000',\n  'mForm': 'RF_INVALID',\n  'mSmallIcon': 'Texture2D /Game/FactoryGame/Buildable/Building/Foundation/UI/QuarterPipe/IconDesc_QP_Concrete_InCorner_8x4_256.IconDesc_QP_Concrete_InCorner_8x4_256',\n  'mPersistentBigIcon': 'Texture2D /Game/FactoryGame/Buildable/Building/Foundation/UI/QuarterPipe/IconDesc_QP_Concrete_InCorner_8x4_512.IconDesc_QP_Concrete_InCorner_8x4_512',\n  'mCrosshairMaterial': 'None',\n  'mDescriptorStatBars': '',\n  'mSubCategories': '(BlueprintGeneratedClass\\'\"/Game/FactoryGame/Interface/UI/InGame/BuildMenu/BuildCategories/Sub_Organisation/SC_QuatPipes.SC_QuatPipes_C\"\\')',\n  'mMenuPriority': '15.000000',\n  'mFluidColor': '(B=0,G=0,R=0,A=0)',\n  'mGasColor': '(B=0,G=0,R=0,A=0)',\n  'mCompatibleItemDescriptors': '',\n  'mClassToScanFor': 'None',\n  'mScannableType': 'RTWOT_Default',\n  'mShouldOverrideScannerDisplayText': 'False',\n  'mScannerDisplayText': '',\n  'mScannerLightColor': '(B=0,G=0,R=0,A=0)'},\n 'Desc_QuarterPipeMiddle_Concrete_8x1_C': {'ClassName': 'Desc_QuarterPipeMiddle_Concrete_8x1_C',\n  'mDisplayName': '',\n  'mDescription': '',\n  'mAbbreviatedDisplayName': '',\n  'mStackSize': 'SS_MEDIUM',\n  'mCanBeDiscarded': 'True',\n  'mRememberPickUp': 'False',\n  'mEnergyValue': '0.000000',\n  'mRadioactiveDecay': '0.000000',\n  'mForm': 'RF_INVALID',\n  'mSmallIcon': 'Texture2D /Game/FactoryGame/Buildable/Building/Foundation/UI/QuarterPipe/IconDesc_QP_Concrete_Mid_8x1_256.IconDesc_QP_Concrete_Mid_8x1_256',\n  'mPersistentBigIcon': 'Texture2D /Game/FactoryGame/Buildable/Building/Foundation/UI/QuarterPipe/IconDesc_QP_Concrete_Mid_8x1_512.IconDesc_QP_Concrete_Mid_8x1_512',\n  'mCrosshairMaterial': 'None',\n  'mDescriptorStatBars': '',\n  'mSubCategories': '(BlueprintGeneratedClass\\'\"/Game/FactoryGame/Interface/UI/InGame/BuildMenu/BuildCategories/Sub_Organisation/SC_Floors.SC_Floors_C\"\\')',\n  'mMenuPriority': '10.000000',\n  'mFluidColor': '(B=0,G=0,R=0,A=0)',\n  'mGasColor': '(B=0,G=0,R=0,A=0)',\n  'mCompatibleItemDescriptors': '',\n  'mClassToScanFor': 'None',\n  'mScannableType': 'RTWOT_Default',\n  'mShouldOverrideScannerDisplayText': 'False',\n  'mScannerDisplayText': '',\n  'mScannerLightColor': '(B=0,G=0,R=0,A=0)'},\n 'Desc_QuarterPipeMiddle_Concrete_8x2_C': {'ClassName': 'Desc_QuarterPipeMiddle_Concrete_8x2_C',\n  'mDisplayName': '',\n  'mDescription': '',\n  'mAbbreviatedDisplayName': '',\n  'mStackSize': 'SS_MEDIUM',\n  'mCanBeDiscarded': 'True',\n  'mRememberPickUp': 'False',\n  'mEnergyValue': '0.000000',\n  'mRadioactiveDecay': '0.000000',\n  'mForm': 'RF_INVALID',\n  'mSmallIcon': 'Texture2D /Game/FactoryGame/Buildable/Building/Foundation/UI/QuarterPipe/IconDesc_QP_Concrete_Mid_8x2_256.IconDesc_QP_Concrete_Mid_8x2_256',\n  'mPersistentBigIcon': 'Texture2D /Game/FactoryGame/Buildable/Building/Foundation/UI/QuarterPipe/IconDesc_QP_Concrete_Mid_8x2_512.IconDesc_QP_Concrete_Mid_8x2_512',\n  'mCrosshairMaterial': 'None',\n  'mDescriptorStatBars': '',\n  'mSubCategories': '(BlueprintGeneratedClass\\'\"/Game/FactoryGame/Interface/UI/InGame/BuildMenu/BuildCategories/Sub_Organisation/SC_Floors.SC_Floors_C\"\\')',\n  'mMenuPriority': '11.000000',\n  'mFluidColor': '(B=0,G=0,R=0,A=0)',\n  'mGasColor': '(B=0,G=0,R=0,A=0)',\n  'mCompatibleItemDescriptors': '',\n  'mClassToScanFor': 'None',\n  'mScannableType': 'RTWOT_Default',\n  'mShouldOverrideScannerDisplayText': 'False',\n  'mScannerDisplayText': '',\n  'mScannerLightColor': '(B=0,G=0,R=0,A=0)'},\n 'Desc_QuarterPipeMiddle_Concrete_8x4_C': {'ClassName': 'Desc_QuarterPipeMiddle_Concrete_8x4_C',\n  'mDisplayName': '',\n  'mDescription': '',\n  'mAbbreviatedDisplayName': '',\n  'mStackSize': 'SS_MEDIUM',\n  'mCanBeDiscarded': 'True',\n  'mRememberPickUp': 'False',\n  'mEnergyValue': '0.000000',\n  'mRadioactiveDecay': '0.000000',\n  'mForm': 'RF_INVALID',\n  'mSmallIcon': 'Texture2D /Game/FactoryGame/Buildable/Building/Foundation/UI/QuarterPipe/IconDesc_QP_Concrete_Mid_8x4_256.IconDesc_QP_Concrete_Mid_8x4_256',\n  'mPersistentBigIcon': 'Texture2D /Game/FactoryGame/Buildable/Building/Foundation/UI/QuarterPipe/IconDesc_QP_Concrete_Mid_8x4_512.IconDesc_QP_Concrete_Mid_8x4_512',\n  'mCrosshairMaterial': 'None',\n  'mDescriptorStatBars': '',\n  'mSubCategories': '(BlueprintGeneratedClass\\'\"/Game/FactoryGame/Interface/UI/InGame/BuildMenu/BuildCategories/Sub_Organisation/SC_Floors.SC_Floors_C\"\\')',\n  'mMenuPriority': '12.000000',\n  'mFluidColor': '(B=0,G=0,R=0,A=0)',\n  'mGasColor': '(B=0,G=0,R=0,A=0)',\n  'mCompatibleItemDescriptors': '',\n  'mClassToScanFor': 'None',\n  'mScannableType': 'RTWOT_Default',\n  'mShouldOverrideScannerDisplayText': 'False',\n  'mScannerDisplayText': '',\n  'mScannerLightColor': '(B=0,G=0,R=0,A=0)'},\n 'Desc_QuarterPipeMiddleInCorner_Concrete_8x1_C': {'ClassName': 'Desc_QuarterPipeMiddleInCorner_Concrete_8x1_C',\n  'mDisplayName': '',\n  'mDescription': '',\n  'mAbbreviatedDisplayName': '',\n  'mStackSize': 'SS_MEDIUM',\n  'mCanBeDiscarded': 'True',\n  'mRememberPickUp': 'False',\n  'mEnergyValue': '0.000000',\n  'mRadioactiveDecay': '0.000000',\n  'mForm': 'RF_INVALID',\n  'mSmallIcon': 'Texture2D /Game/FactoryGame/Buildable/Building/Foundation/UI/QuarterPipe/IconDesc_QP_Concrete_Mid_InCorner_8x1_256.IconDesc_QP_Concrete_Mid_InCorner_8x1_256',\n  'mPersistentBigIcon': 'Texture2D /Game/FactoryGame/Buildable/Building/Foundation/UI/QuarterPipe/IconDesc_QP_Concrete_Mid_InCorner_8x1_512.IconDesc_QP_Concrete_Mid_InCorner_8x1_512',\n  'mCrosshairMaterial': 'None',\n  'mDescriptorStatBars': '',\n  'mSubCategories': '(BlueprintGeneratedClass\\'\"/Game/FactoryGame/Interface/UI/InGame/BuildMenu/BuildCategories/Sub_Organisation/SC_QuatPipes.SC_QuatPipes_C\"\\')',\n  'mMenuPriority': '19.000000',\n  'mFluidColor': '(B=0,G=0,R=0,A=0)',\n  'mGasColor': '(B=0,G=0,R=0,A=0)',\n  'mCompatibleItemDescriptors': '',\n  'mClassToScanFor': 'None',\n  'mScannableType': 'RTWOT_Default',\n  'mShouldOverrideScannerDisplayText': 'False',\n  'mScannerDisplayText': '',\n  'mScannerLightColor': '(B=0,G=0,R=0,A=0)'},\n 'Desc_QuarterPipeMiddleInCorner_Concrete_8x2_C': {'ClassName': 'Desc_QuarterPipeMiddleInCorner_Concrete_8x2_C',\n  'mDisplayName': '',\n  'mDescription': '',\n  'mAbbreviatedDisplayName': '',\n  'mStackSize': 'SS_MEDIUM',\n  'mCanBeDiscarded': 'True',\n  'mRememberPickUp': 'False',\n  'mEnergyValue': '0.000000',\n  'mRadioactiveDecay': '0.000000',\n  'mForm': 'RF_INVALID',\n  'mSmallIcon': 'Texture2D /Game/FactoryGame/Buildable/Building/Foundation/UI/QuarterPipe/IconDesc_QP_Concrete_Mid_InCorner_8x2_256.IconDesc_QP_Concrete_Mid_InCorner_8x2_256',\n  'mPersistentBigIcon': 'Texture2D /Game/FactoryGame/Buildable/Building/Foundation/UI/QuarterPipe/IconDesc_QP_Concrete_Mid_InCorner_8x2_512.IconDesc_QP_Concrete_Mid_InCorner_8x2_512',\n  'mCrosshairMaterial': 'None',\n  'mDescriptorStatBars': '',\n  'mSubCategories': '(BlueprintGeneratedClass\\'\"/Game/FactoryGame/Interface/UI/InGame/BuildMenu/BuildCategories/Sub_Organisation/SC_QuatPipes.SC_QuatPipes_C\"\\')',\n  'mMenuPriority': '20.000000',\n  'mFluidColor': '(B=0,G=0,R=0,A=0)',\n  'mGasColor': '(B=0,G=0,R=0,A=0)',\n  'mCompatibleItemDescriptors': '',\n  'mClassToScanFor': 'None',\n  'mScannableType': 'RTWOT_Default',\n  'mShouldOverrideScannerDisplayText': 'False',\n  'mScannerDisplayText': '',\n  'mScannerLightColor': '(B=0,G=0,R=0,A=0)'},\n 'Desc_QuarterPipeMiddleInCorner_Concrete_8x4_C': {'ClassName': 'Desc_QuarterPipeMiddleInCorner_Concrete_8x4_C',\n  'mDisplayName': '',\n  'mDescription': '',\n  'mAbbreviatedDisplayName': '',\n  'mStackSize': 'SS_MEDIUM',\n  'mCanBeDiscarded': 'True',\n  'mRememberPickUp': 'False',\n  'mEnergyValue': '0.000000',\n  'mRadioactiveDecay': '0.000000',\n  'mForm': 'RF_INVALID',\n  'mSmallIcon': 'Texture2D /Game/FactoryGame/Buildable/Building/Foundation/UI/QuarterPipe/IconDesc_QP_Concrete_Mid_InCorner_8x4_256.IconDesc_QP_Concrete_Mid_InCorner_8x4_256',\n  'mPersistentBigIcon': 'Texture2D /Game/FactoryGame/Buildable/Building/Foundation/UI/QuarterPipe/IconDesc_QP_Concrete_Mid_InCorner_8x4_512.IconDesc_QP_Concrete_Mid_InCorner_8x4_512',\n  'mCrosshairMaterial': 'None',\n  'mDescriptorStatBars': '',\n  'mSubCategories': '(BlueprintGeneratedClass\\'\"/Game/FactoryGame/Interface/UI/InGame/BuildMenu/BuildCategories/Sub_Organisation/SC_QuatPipes.SC_QuatPipes_C\"\\')',\n  'mMenuPriority': '21.000000',\n  'mFluidColor': '(B=0,G=0,R=0,A=0)',\n  'mGasColor': '(B=0,G=0,R=0,A=0)',\n  'mCompatibleItemDescriptors': '',\n  'mClassToScanFor': 'None',\n  'mScannableType': 'RTWOT_Default',\n  'mShouldOverrideScannerDisplayText': 'False',\n  'mScannerDisplayText': '',\n  'mScannerLightColor': '(B=0,G=0,R=0,A=0)'},\n 'Desc_QuarterPipeMiddleOutCorner_Concrete_4x1_C': {'ClassName': 'Desc_QuarterPipeMiddleOutCorner_Concrete_4x1_C',\n  'mDisplayName': '',\n  'mDescription': '',\n  'mAbbreviatedDisplayName': '',\n  'mStackSize': 'SS_MEDIUM',\n  'mCanBeDiscarded': 'True',\n  'mRememberPickUp': 'False',\n  'mEnergyValue': '0.000000',\n  'mRadioactiveDecay': '0.000000',\n  'mForm': 'RF_INVALID',\n  'mSmallIcon': 'Texture2D /Game/FactoryGame/Buildable/Building/Foundation/UI/QuarterPipe/IconDesc_QP_Concrete_Mid_OutCorner_8x1_256.IconDesc_QP_Concrete_Mid_OutCorner_8x1_256',\n  'mPersistentBigIcon': 'Texture2D /Game/FactoryGame/Buildable/Building/Foundation/UI/QuarterPipe/IconDesc_QP_Concrete_Mid_OutCorner_8x1_512.IconDesc_QP_Concrete_Mid_OutCorner_8x1_512',\n  'mCrosshairMaterial': 'None',\n  'mDescriptorStatBars': '',\n  'mSubCategories': '(BlueprintGeneratedClass\\'\"/Game/FactoryGame/Interface/UI/InGame/BuildMenu/BuildCategories/Sub_Organisation/SC_QuatPipes.SC_QuatPipes_C\"\\')',\n  'mMenuPriority': '22.000000',\n  'mFluidColor': '(B=0,G=0,R=0,A=0)',\n  'mGasColor': '(B=0,G=0,R=0,A=0)',\n  'mCompatibleItemDescriptors': '',\n  'mClassToScanFor': 'None',\n  'mScannableType': 'RTWOT_Default',\n  'mShouldOverrideScannerDisplayText': 'False',\n  'mScannerDisplayText': '',\n  'mScannerLightColor': '(B=0,G=0,R=0,A=0)'},\n 'Desc_QuarterPipeMiddleOutCorner_Concrete_4x2_C': {'ClassName': 'Desc_QuarterPipeMiddleOutCorner_Concrete_4x2_C',\n  'mDisplayName': '',\n  'mDescription': '',\n  'mAbbreviatedDisplayName': '',\n  'mStackSize': 'SS_MEDIUM',\n  'mCanBeDiscarded': 'True',\n  'mRememberPickUp': 'False',\n  'mEnergyValue': '0.000000',\n  'mRadioactiveDecay': '0.000000',\n  'mForm': 'RF_INVALID',\n  'mSmallIcon': 'Texture2D /Game/FactoryGame/Buildable/Building/Foundation/UI/QuarterPipe/IconDesc_QP_Concrete_Mid_OutCorner_8x2_256.IconDesc_QP_Concrete_Mid_OutCorner_8x2_256',\n  'mPersistentBigIcon': 'Texture2D /Game/FactoryGame/Buildable/Building/Foundation/UI/QuarterPipe/IconDesc_QP_Concrete_Mid_OutCorner_8x2_512.IconDesc_QP_Concrete_Mid_OutCorner_8x2_512',\n  'mCrosshairMaterial': 'None',\n  'mDescriptorStatBars': '',\n  'mSubCategories': '(BlueprintGeneratedClass\\'\"/Game/FactoryGame/Interface/UI/InGame/BuildMenu/BuildCategories/Sub_Organisation/SC_QuatPipes.SC_QuatPipes_C\"\\')',\n  'mMenuPriority': '23.000000',\n  'mFluidColor': '(B=0,G=0,R=0,A=0)',\n  'mGasColor': '(B=0,G=0,R=0,A=0)',\n  'mCompatibleItemDescriptors': '',\n  'mClassToScanFor': 'None',\n  'mScannableType': 'RTWOT_Default',\n  'mShouldOverrideScannerDisplayText': 'False',\n  'mScannerDisplayText': '',\n  'mScannerLightColor': '(B=0,G=0,R=0,A=0)'},\n 'Desc_QuarterPipeMiddleOutCorner_Concrete_4x4_C': {'ClassName': 'Desc_QuarterPipeMiddleOutCorner_Concrete_4x4_C',\n  'mDisplayName': '',\n  'mDescription': '',\n  'mAbbreviatedDisplayName': '',\n  'mStackSize': 'SS_MEDIUM',\n  'mCanBeDiscarded': 'True',\n  'mRememberPickUp': 'False',\n  'mEnergyValue': '0.000000',\n  'mRadioactiveDecay': '0.000000',\n  'mForm': 'RF_INVALID',\n  'mSmallIcon': 'Texture2D /Game/FactoryGame/Buildable/Building/Foundation/UI/QuarterPipe/IconDesc_QP_Concrete_Mid_OutCorner_8x4_256.IconDesc_QP_Concrete_Mid_OutCorner_8x4_256',\n  'mPersistentBigIcon': 'Texture2D /Game/FactoryGame/Buildable/Building/Foundation/UI/QuarterPipe/IconDesc_QP_Concrete_Mid_OutCorner_8x4_512.IconDesc_QP_Concrete_Mid_OutCorner_8x4_512',\n  'mCrosshairMaterial': 'None',\n  'mDescriptorStatBars': '',\n  'mSubCategories': '(BlueprintGeneratedClass\\'\"/Game/FactoryGame/Interface/UI/InGame/BuildMenu/BuildCategories/Sub_Organisation/SC_QuatPipes.SC_QuatPipes_C\"\\')',\n  'mMenuPriority': '24.000000',\n  'mFluidColor': '(B=0,G=0,R=0,A=0)',\n  'mGasColor': '(B=0,G=0,R=0,A=0)',\n  'mCompatibleItemDescriptors': '',\n  'mClassToScanFor': 'None',\n  'mScannableType': 'RTWOT_Default',\n  'mShouldOverrideScannerDisplayText': 'False',\n  'mScannerDisplayText': '',\n  'mScannerLightColor': '(B=0,G=0,R=0,A=0)'},\n 'Desc_QuarterPipeOutCorner_Concrete_8x4_C': {'ClassName': 'Desc_QuarterPipeOutCorner_Concrete_8x4_C',\n  'mDisplayName': '',\n  'mDescription': '',\n  'mAbbreviatedDisplayName': '',\n  'mStackSize': 'SS_MEDIUM',\n  'mCanBeDiscarded': 'True',\n  'mRememberPickUp': 'False',\n  'mEnergyValue': '0.000000',\n  'mRadioactiveDecay': '0.000000',\n  'mForm': 'RF_INVALID',\n  'mSmallIcon': 'Texture2D /Game/FactoryGame/Buildable/Building/Foundation/UI/QuarterPipe/IconDesc_QP_Concrete_Out_8x4_256.IconDesc_QP_Concrete_Out_8x4_256',\n  'mPersistentBigIcon': 'Texture2D /Game/FactoryGame/Buildable/Building/Foundation/UI/QuarterPipe/IconDesc_QP_Concrete_Out_8x4_512.IconDesc_QP_Concrete_Out_8x4_512',\n  'mCrosshairMaterial': 'None',\n  'mDescriptorStatBars': '',\n  'mSubCategories': '(BlueprintGeneratedClass\\'\"/Game/FactoryGame/Interface/UI/InGame/BuildMenu/BuildCategories/Sub_Organisation/SC_QuatPipes.SC_QuatPipes_C\"\\')',\n  'mMenuPriority': '17.000000',\n  'mFluidColor': '(B=0,G=0,R=0,A=0)',\n  'mGasColor': '(B=0,G=0,R=0,A=0)',\n  'mCompatibleItemDescriptors': '',\n  'mClassToScanFor': 'None',\n  'mScannableType': 'RTWOT_Default',\n  'mShouldOverrideScannerDisplayText': 'False',\n  'mScannerDisplayText': '',\n  'mScannerLightColor': '(B=0,G=0,R=0,A=0)'},\n 'Desc_Ramp_Concrete_8x1_C': {'ClassName': 'Desc_Ramp_Concrete_8x1_C',\n  'mDisplayName': '',\n  'mDescription': '',\n  'mAbbreviatedDisplayName': '',\n  'mStackSize': 'SS_MEDIUM',\n  'mCanBeDiscarded': 'True',\n  'mRememberPickUp': 'False',\n  'mEnergyValue': '0.000000',\n  'mRadioactiveDecay': '0.000000',\n  'mForm': 'RF_INVALID',\n  'mSmallIcon': 'Texture2D /Game/FactoryGame/Buildable/Building/Ramp/UI/Regular/IconDesc_ConcRamp1m_256.IconDesc_ConcRamp1m_256',\n  'mPersistentBigIcon': 'Texture2D /Game/FactoryGame/Buildable/Building/Ramp/UI/Regular/IconDesc_ConcRamp1m_512.IconDesc_ConcRamp1m_512',\n  'mCrosshairMaterial': 'None',\n  'mDescriptorStatBars': '',\n  'mSubCategories': '(BlueprintGeneratedClass\\'\"/Game/FactoryGame/Interface/UI/InGame/BuildMenu/BuildCategories/Sub_Organisation/SC_Ramps.SC_Ramps_C\"\\')',\n  'mMenuPriority': '13.000000',\n  'mFluidColor': '(B=0,G=0,R=0,A=0)',\n  'mGasColor': '(B=0,G=0,R=0,A=0)',\n  'mCompatibleItemDescriptors': '',\n  'mClassToScanFor': 'None',\n  'mScannableType': 'RTWOT_Default',\n  'mShouldOverrideScannerDisplayText': 'False',\n  'mScannerDisplayText': '',\n  'mScannerLightColor': '(B=0,G=0,R=0,A=0)'},\n 'Desc_Ramp_Concrete_8x2_C': {'ClassName': 'Desc_Ramp_Concrete_8x2_C',\n  'mDisplayName': '',\n  'mDescription': '',\n  'mAbbreviatedDisplayName': '',\n  'mStackSize': 'SS_MEDIUM',\n  'mCanBeDiscarded': 'True',\n  'mRememberPickUp': 'False',\n  'mEnergyValue': '0.000000',\n  'mRadioactiveDecay': '0.000000',\n  'mForm': 'RF_INVALID',\n  'mSmallIcon': 'Texture2D /Game/FactoryGame/Buildable/Building/Ramp/UI/Regular/IconDesc_ConcRamp2m_256.IconDesc_ConcRamp2m_256',\n  'mPersistentBigIcon': 'Texture2D /Game/FactoryGame/Buildable/Building/Ramp/UI/Regular/IconDesc_ConcRamp2m_512.IconDesc_ConcRamp2m_512',\n  'mCrosshairMaterial': 'None',\n  'mDescriptorStatBars': '',\n  'mSubCategories': '(BlueprintGeneratedClass\\'\"/Game/FactoryGame/Interface/UI/InGame/BuildMenu/BuildCategories/Sub_Organisation/SC_Ramps.SC_Ramps_C\"\\')',\n  'mMenuPriority': '14.000000',\n  'mFluidColor': '(B=0,G=0,R=0,A=0)',\n  'mGasColor': '(B=0,G=0,R=0,A=0)',\n  'mCompatibleItemDescriptors': '',\n  'mClassToScanFor': 'None',\n  'mScannableType': 'RTWOT_Default',\n  'mShouldOverrideScannerDisplayText': 'False',\n  'mScannerDisplayText': '',\n  'mScannerLightColor': '(B=0,G=0,R=0,A=0)'},\n 'Desc_Ramp_Concrete_8x4_C': {'ClassName': 'Desc_Ramp_Concrete_8x4_C',\n  'mDisplayName': '',\n  'mDescription': '',\n  'mAbbreviatedDisplayName': '',\n  'mStackSize': 'SS_MEDIUM',\n  'mCanBeDiscarded': 'True',\n  'mRememberPickUp': 'False',\n  'mEnergyValue': '0.000000',\n  'mRadioactiveDecay': '0.000000',\n  'mForm': 'RF_INVALID',\n  'mSmallIcon': 'Texture2D /Game/FactoryGame/Buildable/Building/Ramp/UI/Regular/IconDesc_ConcRamp4m_256.IconDesc_ConcRamp4m_256',\n  'mPersistentBigIcon': 'Texture2D /Game/FactoryGame/Buildable/Building/Ramp/UI/Regular/IconDesc_ConcRamp4m_512.IconDesc_ConcRamp4m_512',\n  'mCrosshairMaterial': 'None',\n  'mDescriptorStatBars': '',\n  'mSubCategories': '(BlueprintGeneratedClass\\'\"/Game/FactoryGame/Interface/UI/InGame/BuildMenu/BuildCategories/Sub_Organisation/SC_Ramps.SC_Ramps_C\"\\')',\n  'mMenuPriority': '15.000000',\n  'mFluidColor': '(B=0,G=0,R=0,A=0)',\n  'mGasColor': '(B=0,G=0,R=0,A=0)',\n  'mCompatibleItemDescriptors': '',\n  'mClassToScanFor': 'None',\n  'mScannableType': 'RTWOT_Default',\n  'mShouldOverrideScannerDisplayText': 'False',\n  'mScannerDisplayText': '',\n  'mScannerLightColor': '(B=0,G=0,R=0,A=0)'},\n 'Desc_Ramp_DownCorner_Concrete_8x1_C': {'ClassName': 'Desc_Ramp_DownCorner_Concrete_8x1_C',\n  'mDisplayName': '',\n  'mDescription': '',\n  'mAbbreviatedDisplayName': '',\n  'mStackSize': 'SS_MEDIUM',\n  'mCanBeDiscarded': 'True',\n  'mRememberPickUp': 'False',\n  'mEnergyValue': '0.000000',\n  'mRadioactiveDecay': '0.000000',\n  'mForm': 'RF_INVALID',\n  'mSmallIcon': 'Texture2D /Game/FactoryGame/Buildable/Building/Ramp/UI/CornerDown/IconDesc_ConcRampDown1m_256.IconDesc_ConcRampDown1m_256',\n  'mPersistentBigIcon': 'Texture2D /Game/FactoryGame/Buildable/Building/Ramp/UI/CornerDown/IconDesc_ConcRampDown1m_512.IconDesc_ConcRampDown1m_512',\n  'mCrosshairMaterial': 'None',\n  'mDescriptorStatBars': '',\n  'mSubCategories': '(BlueprintGeneratedClass\\'\"/Game/FactoryGame/Interface/UI/InGame/BuildMenu/BuildCategories/Sub_Organisation/SC_Ramps.SC_Ramps_C\"\\')',\n  'mMenuPriority': '19.000000',\n  'mFluidColor': '(B=0,G=0,R=0,A=0)',\n  'mGasColor': '(B=0,G=0,R=0,A=0)',\n  'mCompatibleItemDescriptors': '',\n  'mClassToScanFor': 'None',\n  'mScannableType': 'RTWOT_Default',\n  'mShouldOverrideScannerDisplayText': 'False',\n  'mScannerDisplayText': '',\n  'mScannerLightColor': '(B=0,G=0,R=0,A=0)'},\n 'Desc_Ramp_DownCorner_Concrete_8x2_C': {'ClassName': 'Desc_Ramp_DownCorner_Concrete_8x2_C',\n  'mDisplayName': '',\n  'mDescription': '',\n  'mAbbreviatedDisplayName': '',\n  'mStackSize': 'SS_MEDIUM',\n  'mCanBeDiscarded': 'True',\n  'mRememberPickUp': 'False',\n  'mEnergyValue': '0.000000',\n  'mRadioactiveDecay': '0.000000',\n  'mForm': 'RF_INVALID',\n  'mSmallIcon': 'Texture2D /Game/FactoryGame/Buildable/Building/Ramp/UI/CornerDown/IconDesc_ConcRampDown2m_256.IconDesc_ConcRampDown2m_256',\n  'mPersistentBigIcon': 'Texture2D /Game/FactoryGame/Buildable/Building/Ramp/UI/CornerDown/IconDesc_ConcRampDown2m_512.IconDesc_ConcRampDown2m_512',\n  'mCrosshairMaterial': 'None',\n  'mDescriptorStatBars': '',\n  'mSubCategories': '(BlueprintGeneratedClass\\'\"/Game/FactoryGame/Interface/UI/InGame/BuildMenu/BuildCategories/Sub_Organisation/SC_Ramps.SC_Ramps_C\"\\')',\n  'mMenuPriority': '20.000000',\n  'mFluidColor': '(B=0,G=0,R=0,A=0)',\n  'mGasColor': '(B=0,G=0,R=0,A=0)',\n  'mCompatibleItemDescriptors': '',\n  'mClassToScanFor': 'None',\n  'mScannableType': 'RTWOT_Default',\n  'mShouldOverrideScannerDisplayText': 'False',\n  'mScannerDisplayText': '',\n  'mScannerLightColor': '(B=0,G=0,R=0,A=0)'},\n 'Desc_Ramp_DownCorner_Concrete_8x4_C': {'ClassName': 'Desc_Ramp_DownCorner_Concrete_8x4_C',\n  'mDisplayName': '',\n  'mDescription': '',\n  'mAbbreviatedDisplayName': '',\n  'mStackSize': 'SS_MEDIUM',\n  'mCanBeDiscarded': 'True',\n  'mRememberPickUp': 'False',\n  'mEnergyValue': '0.000000',\n  'mRadioactiveDecay': '0.000000',\n  'mForm': 'RF_INVALID',\n  'mSmallIcon': 'Texture2D /Game/FactoryGame/Buildable/Building/Ramp/UI/CornerDown/IconDesc_ConcRampDown4m_256.IconDesc_ConcRampDown4m_256',\n  'mPersistentBigIcon': 'Texture2D /Game/FactoryGame/Buildable/Building/Ramp/UI/CornerDown/IconDesc_ConcRampDown4m_512.IconDesc_ConcRampDown4m_512',\n  'mCrosshairMaterial': 'None',\n  'mDescriptorStatBars': '',\n  'mSubCategories': '(BlueprintGeneratedClass\\'\"/Game/FactoryGame/Interface/UI/InGame/BuildMenu/BuildCategories/Sub_Organisation/SC_Ramps.SC_Ramps_C\"\\')',\n  'mMenuPriority': '21.000000',\n  'mFluidColor': '(B=0,G=0,R=0,A=0)',\n  'mGasColor': '(B=0,G=0,R=0,A=0)',\n  'mCompatibleItemDescriptors': '',\n  'mClassToScanFor': 'None',\n  'mScannableType': 'RTWOT_Default',\n  'mShouldOverrideScannerDisplayText': 'False',\n  'mScannerDisplayText': '',\n  'mScannerLightColor': '(B=0,G=0,R=0,A=0)'},\n 'Desc_Ramp_UpCorner_Concrete_8x1_C': {'ClassName': 'Desc_Ramp_UpCorner_Concrete_8x1_C',\n  'mDisplayName': '',\n  'mDescription': '',\n  'mAbbreviatedDisplayName': '',\n  'mStackSize': 'SS_MEDIUM',\n  'mCanBeDiscarded': 'True',\n  'mRememberPickUp': 'False',\n  'mEnergyValue': '0.000000',\n  'mRadioactiveDecay': '0.000000',\n  'mForm': 'RF_INVALID',\n  'mSmallIcon': 'Texture2D /Game/FactoryGame/Buildable/Building/Ramp/UI/CornerUp/IconDesc_ConcRampUp1m_256.IconDesc_ConcRampUp1m_256',\n  'mPersistentBigIcon': 'Texture2D /Game/FactoryGame/Buildable/Building/Ramp/UI/CornerUp/IconDesc_ConcRampUp1m_512.IconDesc_ConcRampUp1m_512',\n  'mCrosshairMaterial': 'None',\n  'mDescriptorStatBars': '',\n  'mSubCategories': '(BlueprintGeneratedClass\\'\"/Game/FactoryGame/Interface/UI/InGame/BuildMenu/BuildCategories/Sub_Organisation/SC_Ramps.SC_Ramps_C\"\\')',\n  'mMenuPriority': '16.000000',\n  'mFluidColor': '(B=0,G=0,R=0,A=0)',\n  'mGasColor': '(B=0,G=0,R=0,A=0)',\n  'mCompatibleItemDescriptors': '',\n  'mClassToScanFor': 'None',\n  'mScannableType': 'RTWOT_Default',\n  'mShouldOverrideScannerDisplayText': 'False',\n  'mScannerDisplayText': '',\n  'mScannerLightColor': '(B=0,G=0,R=0,A=0)'},\n 'Desc_Ramp_UpCorner_Concrete_8x2_C': {'ClassName': 'Desc_Ramp_UpCorner_Concrete_8x2_C',\n  'mDisplayName': '',\n  'mDescription': '',\n  'mAbbreviatedDisplayName': '',\n  'mStackSize': 'SS_MEDIUM',\n  'mCanBeDiscarded': 'True',\n  'mRememberPickUp': 'False',\n  'mEnergyValue': '0.000000',\n  'mRadioactiveDecay': '0.000000',\n  'mForm': 'RF_INVALID',\n  'mSmallIcon': 'Texture2D /Game/FactoryGame/Buildable/Building/Ramp/UI/CornerUp/IconDesc_ConcRampUp2m_256.IconDesc_ConcRampUp2m_256',\n  'mPersistentBigIcon': 'Texture2D /Game/FactoryGame/Buildable/Building/Ramp/UI/CornerUp/IconDesc_ConcRampUp2m_512.IconDesc_ConcRampUp2m_512',\n  'mCrosshairMaterial': 'None',\n  'mDescriptorStatBars': '',\n  'mSubCategories': '(BlueprintGeneratedClass\\'\"/Game/FactoryGame/Interface/UI/InGame/BuildMenu/BuildCategories/Sub_Organisation/SC_Ramps.SC_Ramps_C\"\\')',\n  'mMenuPriority': '17.000000',\n  'mFluidColor': '(B=0,G=0,R=0,A=0)',\n  'mGasColor': '(B=0,G=0,R=0,A=0)',\n  'mCompatibleItemDescriptors': '',\n  'mClassToScanFor': 'None',\n  'mScannableType': 'RTWOT_Default',\n  'mShouldOverrideScannerDisplayText': 'False',\n  'mScannerDisplayText': '',\n  'mScannerLightColor': '(B=0,G=0,R=0,A=0)'},\n 'Desc_Ramp_UpCorner_Concrete_8x4_C': {'ClassName': 'Desc_Ramp_UpCorner_Concrete_8x4_C',\n  'mDisplayName': '',\n  'mDescription': '',\n  'mAbbreviatedDisplayName': '',\n  'mStackSize': 'SS_MEDIUM',\n  'mCanBeDiscarded': 'True',\n  'mRememberPickUp': 'False',\n  'mEnergyValue': '0.000000',\n  'mRadioactiveDecay': '0.000000',\n  'mForm': 'RF_INVALID',\n  'mSmallIcon': 'Texture2D /Game/FactoryGame/Buildable/Building/Ramp/UI/CornerUp/IconDesc_ConcRampUp4m_256.IconDesc_ConcRampUp4m_256',\n  'mPersistentBigIcon': 'Texture2D /Game/FactoryGame/Buildable/Building/Ramp/UI/CornerUp/IconDesc_ConcRampUp4m_512.IconDesc_ConcRampUp4m_512',\n  'mCrosshairMaterial': 'None',\n  'mDescriptorStatBars': '',\n  'mSubCategories': '(BlueprintGeneratedClass\\'\"/Game/FactoryGame/Interface/UI/InGame/BuildMenu/BuildCategories/Sub_Organisation/SC_Ramps.SC_Ramps_C\"\\')',\n  'mMenuPriority': '18.000000',\n  'mFluidColor': '(B=0,G=0,R=0,A=0)',\n  'mGasColor': '(B=0,G=0,R=0,A=0)',\n  'mCompatibleItemDescriptors': '',\n  'mClassToScanFor': 'None',\n  'mScannableType': 'RTWOT_Default',\n  'mShouldOverrideScannerDisplayText': 'False',\n  'mScannerDisplayText': '',\n  'mScannerLightColor': '(B=0,G=0,R=0,A=0)'},\n 'Desc_RampDouble_Concrete_8x1_C': {'ClassName': 'Desc_RampDouble_Concrete_8x1_C',\n  'mDisplayName': '',\n  'mDescription': '',\n  'mAbbreviatedDisplayName': '',\n  'mStackSize': 'SS_MEDIUM',\n  'mCanBeDiscarded': 'True',\n  'mRememberPickUp': 'False',\n  'mEnergyValue': '0.000000',\n  'mRadioactiveDecay': '0.000000',\n  'mForm': 'RF_INVALID',\n  'mSmallIcon': 'Texture2D /Game/FactoryGame/Buildable/Building/Ramp/UI/Double/IconDesc_ConcDoubleRamp1m_256.IconDesc_ConcDoubleRamp1m_256',\n  'mPersistentBigIcon': 'Texture2D /Game/FactoryGame/Buildable/Building/Ramp/UI/Double/IconDesc_ConcDoubleRamp1m_512.IconDesc_ConcDoubleRamp1m_512',\n  'mCrosshairMaterial': 'None',\n  'mDescriptorStatBars': '',\n  'mSubCategories': '(BlueprintGeneratedClass\\'\"/Game/FactoryGame/Interface/UI/InGame/BuildMenu/BuildCategories/Sub_Organisation/SC_Ramps.SC_Ramps_C\"\\')',\n  'mMenuPriority': '22.000000',\n  'mFluidColor': '(B=0,G=0,R=0,A=0)',\n  'mGasColor': '(B=0,G=0,R=0,A=0)',\n  'mCompatibleItemDescriptors': '',\n  'mClassToScanFor': 'None',\n  'mScannableType': 'RTWOT_Default',\n  'mShouldOverrideScannerDisplayText': 'False',\n  'mScannerDisplayText': '',\n  'mScannerLightColor': '(B=0,G=0,R=0,A=0)'},\n 'Desc_RampDouble_Concrete_8x2_C': {'ClassName': 'Desc_RampDouble_Concrete_8x2_C',\n  'mDisplayName': '',\n  'mDescription': '',\n  'mAbbreviatedDisplayName': '',\n  'mStackSize': 'SS_MEDIUM',\n  'mCanBeDiscarded': 'True',\n  'mRememberPickUp': 'False',\n  'mEnergyValue': '0.000000',\n  'mRadioactiveDecay': '0.000000',\n  'mForm': 'RF_INVALID',\n  'mSmallIcon': 'Texture2D /Game/FactoryGame/Buildable/Building/Ramp/UI/Double/IconDesc_ConcDoubleRamp2m_256.IconDesc_ConcDoubleRamp2m_256',\n  'mPersistentBigIcon': 'Texture2D /Game/FactoryGame/Buildable/Building/Ramp/UI/Double/IconDesc_ConcDoubleRamp2m_512.IconDesc_ConcDoubleRamp2m_512',\n  'mCrosshairMaterial': 'None',\n  'mDescriptorStatBars': '',\n  'mSubCategories': '(BlueprintGeneratedClass\\'\"/Game/FactoryGame/Interface/UI/InGame/BuildMenu/BuildCategories/Sub_Organisation/SC_Ramps.SC_Ramps_C\"\\')',\n  'mMenuPriority': '23.000000',\n  'mFluidColor': '(B=0,G=0,R=0,A=0)',\n  'mGasColor': '(B=0,G=0,R=0,A=0)',\n  'mCompatibleItemDescriptors': '',\n  'mClassToScanFor': 'None',\n  'mScannableType': 'RTWOT_Default',\n  'mShouldOverrideScannerDisplayText': 'False',\n  'mScannerDisplayText': '',\n  'mScannerLightColor': '(B=0,G=0,R=0,A=0)'},\n 'Desc_RampDouble_Concrete_8x4_C': {'ClassName': 'Desc_RampDouble_Concrete_8x4_C',\n  'mDisplayName': '',\n  'mDescription': '',\n  'mAbbreviatedDisplayName': '',\n  'mStackSize': 'SS_MEDIUM',\n  'mCanBeDiscarded': 'True',\n  'mRememberPickUp': 'False',\n  'mEnergyValue': '0.000000',\n  'mRadioactiveDecay': '0.000000',\n  'mForm': 'RF_INVALID',\n  'mSmallIcon': 'Texture2D /Game/FactoryGame/Buildable/Building/Ramp/UI/Double/IconDesc_ConcDoubleRamp4m_256.IconDesc_ConcDoubleRamp4m_256',\n  'mPersistentBigIcon': 'Texture2D /Game/FactoryGame/Buildable/Building/Ramp/UI/Double/IconDesc_ConcDoubleRamp4m_512.IconDesc_ConcDoubleRamp4m_512',\n  'mCrosshairMaterial': 'None',\n  'mDescriptorStatBars': '',\n  'mSubCategories': '(BlueprintGeneratedClass\\'\"/Game/FactoryGame/Interface/UI/InGame/BuildMenu/BuildCategories/Sub_Organisation/SC_Ramps.SC_Ramps_C\"\\')',\n  'mMenuPriority': '24.000000',\n  'mFluidColor': '(B=0,G=0,R=0,A=0)',\n  'mGasColor': '(B=0,G=0,R=0,A=0)',\n  'mCompatibleItemDescriptors': '',\n  'mClassToScanFor': 'None',\n  'mScannableType': 'RTWOT_Default',\n  'mShouldOverrideScannerDisplayText': 'False',\n  'mScannerDisplayText': '',\n  'mScannerLightColor': '(B=0,G=0,R=0,A=0)'},\n 'Desc_ConveyorAttachmentMerger_C': {'ClassName': 'Desc_ConveyorAttachmentMerger_C',\n  'mDisplayName': '',\n  'mDescription': '',\n  'mAbbreviatedDisplayName': '',\n  'mStackSize': 'SS_MEDIUM',\n  'mCanBeDiscarded': 'True',\n  'mRememberPickUp': 'False',\n  'mEnergyValue': '0.000000',\n  'mRadioactiveDecay': '0.000000',\n  'mForm': 'RF_INVALID',\n  'mSmallIcon': 'Texture2D /Game/FactoryGame/Buildable/Factory/CA_Merger/UI/IconDesc_ConveyorMerger_256.IconDesc_ConveyorMerger_256',\n  'mPersistentBigIcon': 'Texture2D /Game/FactoryGame/Buildable/Factory/CA_Merger/UI/IconDesc_ConveyorMerger_512.IconDesc_ConveyorMerger_512',\n  'mCrosshairMaterial': 'None',\n  'mDescriptorStatBars': '',\n  'mSubCategories': '(BlueprintGeneratedClass\\'\"/Game/FactoryGame/Interface/UI/InGame/BuildMenu/BuildCategories/Sub_Transport/SC_ConveyorAttachments.SC_ConveyorAttachments_C\"\\')',\n  'mMenuPriority': '1.000000',\n  'mFluidColor': '(B=0,G=0,R=0,A=0)',\n  'mGasColor': '(B=0,G=0,R=0,A=0)',\n  'mCompatibleItemDescriptors': '',\n  'mClassToScanFor': 'None',\n  'mScannableType': 'RTWOT_Default',\n  'mShouldOverrideScannerDisplayText': 'False',\n  'mScannerDisplayText': '',\n  'mScannerLightColor': '(B=0,G=0,R=0,A=0)'},\n 'Desc_ConveyorAttachmentSplitter_C': {'ClassName': 'Desc_ConveyorAttachmentSplitter_C',\n  'mDisplayName': '',\n  'mDescription': '',\n  'mAbbreviatedDisplayName': '',\n  'mStackSize': 'SS_MEDIUM',\n  'mCanBeDiscarded': 'True',\n  'mRememberPickUp': 'False',\n  'mEnergyValue': '0.000000',\n  'mRadioactiveDecay': '0.000000',\n  'mForm': 'RF_INVALID',\n  'mSmallIcon': 'Texture2D /Game/FactoryGame/Buildable/Factory/CA_Splitter/UI/IconDesc_ConveyorSplitter_256.IconDesc_ConveyorSplitter_256',\n  'mPersistentBigIcon': 'Texture2D /Game/FactoryGame/Buildable/Factory/CA_Splitter/UI/IconDesc_ConveyorSplitter_512.IconDesc_ConveyorSplitter_512',\n  'mCrosshairMaterial': 'None',\n  'mDescriptorStatBars': '',\n  'mSubCategories': '(BlueprintGeneratedClass\\'\"/Game/FactoryGame/Interface/UI/InGame/BuildMenu/BuildCategories/Sub_Transport/SC_ConveyorAttachments.SC_ConveyorAttachments_C\"\\')',\n  'mMenuPriority': '2.000000',\n  'mFluidColor': '(B=0,G=0,R=0,A=0)',\n  'mGasColor': '(B=0,G=0,R=0,A=0)',\n  'mCompatibleItemDescriptors': '',\n  'mClassToScanFor': 'None',\n  'mScannableType': 'RTWOT_Default',\n  'mShouldOverrideScannerDisplayText': 'False',\n  'mScannerDisplayText': '',\n  'mScannerLightColor': '(B=0,G=0,R=0,A=0)'},\n 'Desc_ConveyorLiftMk1_C': {'ClassName': 'Desc_ConveyorLiftMk1_C',\n  'mDisplayName': '',\n  'mDescription': '',\n  'mAbbreviatedDisplayName': '',\n  'mStackSize': 'SS_MEDIUM',\n  'mCanBeDiscarded': 'True',\n  'mRememberPickUp': 'False',\n  'mEnergyValue': '0.000000',\n  'mRadioactiveDecay': '0.000000',\n  'mForm': 'RF_INVALID',\n  'mSmallIcon': 'Texture2D /Game/FactoryGame/Buildable/Factory/ConveyorLiftMk1/UI/ConveyorLiftMK1_256.ConveyorLiftMK1_256',\n  'mPersistentBigIcon': 'Texture2D /Game/FactoryGame/Buildable/Factory/ConveyorLiftMk1/UI/ConveyorLiftMK1_512.ConveyorLiftMK1_512',\n  'mCrosshairMaterial': 'None',\n  'mDescriptorStatBars': '',\n  'mSubCategories': '(BlueprintGeneratedClass\\'\"/Game/FactoryGame/Interface/UI/InGame/BuildMenu/BuildCategories/Sub_Transport/SC_ConveyLift.SC_ConveyLift_C\"\\')',\n  'mMenuPriority': '1.000000',\n  'mFluidColor': '(B=0,G=0,R=0,A=0)',\n  'mGasColor': '(B=0,G=0,R=0,A=0)',\n  'mCompatibleItemDescriptors': '',\n  'mClassToScanFor': 'None',\n  'mScannableType': 'RTWOT_Default',\n  'mShouldOverrideScannerDisplayText': 'False',\n  'mScannerDisplayText': '',\n  'mScannerLightColor': '(B=0,G=0,R=0,A=0)'},\n 'Desc_Mam_C': {'ClassName': 'Desc_Mam_C',\n  'mDisplayName': '',\n  'mDescription': '',\n  'mAbbreviatedDisplayName': '',\n  'mStackSize': 'SS_MEDIUM',\n  'mCanBeDiscarded': 'True',\n  'mRememberPickUp': 'False',\n  'mEnergyValue': '0.000000',\n  'mRadioactiveDecay': '0.000000',\n  'mForm': 'RF_INVALID',\n  'mSmallIcon': 'Texture2D /Game/FactoryGame/Buildable/Factory/Mam/UI/MAM_256.MAM_256',\n  'mPersistentBigIcon': 'Texture2D /Game/FactoryGame/Buildable/Factory/Mam/UI/MAM_512.MAM_512',\n  'mCrosshairMaterial': 'None',\n  'mDescriptorStatBars': '',\n  'mSubCategories': '(BlueprintGeneratedClass\\'\"/Game/FactoryGame/Interface/UI/InGame/BuildMenu/BuildCategories/Sub_Special/SC_Progression.SC_Progression_C\"\\')',\n  'mMenuPriority': '3.000000',\n  'mFluidColor': '(B=0,G=0,R=0,A=0)',\n  'mGasColor': '(B=0,G=0,R=0,A=0)',\n  'mCompatibleItemDescriptors': '',\n  'mClassToScanFor': 'None',\n  'mScannableType': 'RTWOT_Default',\n  'mShouldOverrideScannerDisplayText': 'False',\n  'mScannerDisplayText': '',\n  'mScannerLightColor': '(B=0,G=0,R=0,A=0)'},\n 'Desc_StoragePlayer_C': {'ClassName': 'Desc_StoragePlayer_C',\n  'mDisplayName': '',\n  'mDescription': '',\n  'mAbbreviatedDisplayName': '',\n  'mStackSize': 'SS_MEDIUM',\n  'mCanBeDiscarded': 'True',\n  'mRememberPickUp': 'False',\n  'mEnergyValue': '0.000000',\n  'mRadioactiveDecay': '0.000000',\n  'mForm': 'RF_INVALID',\n  'mSmallIcon': 'Texture2D /Game/FactoryGame/Buildable/Factory/StoragePlayer/UI/PlayerStorage_256.PlayerStorage_256',\n  'mPersistentBigIcon': 'Texture2D /Game/FactoryGame/Buildable/Factory/StoragePlayer/UI/PlayerStorage_256.PlayerStorage_256',\n  'mCrosshairMaterial': 'None',\n  'mDescriptorStatBars': '',\n  'mSubCategories': '(BlueprintGeneratedClass\\'\"/Game/FactoryGame/Interface/UI/InGame/BuildMenu/BuildCategories/Sub_Organisation/SC_Storage.SC_Storage_C\"\\')',\n  'mMenuPriority': '1.000000',\n  'mFluidColor': '(B=0,G=0,R=0,A=0)',\n  'mGasColor': '(B=0,G=0,R=0,A=0)',\n  'mCompatibleItemDescriptors': '',\n  'mClassToScanFor': 'None',\n  'mScannableType': 'RTWOT_Default',\n  'mShouldOverrideScannerDisplayText': 'False',\n  'mScannerDisplayText': '',\n  'mScannerLightColor': '(B=0,G=0,R=0,A=0)'},\n 'Desc_JumpPadAdjustable_C': {'ClassName': 'Desc_JumpPadAdjustable_C',\n  'mDisplayName': '',\n  'mDescription': '',\n  'mAbbreviatedDisplayName': '',\n  'mStackSize': 'SS_MEDIUM',\n  'mCanBeDiscarded': 'True',\n  'mRememberPickUp': 'False',\n  'mEnergyValue': '0.000000',\n  'mRadioactiveDecay': '0.000000',\n  'mForm': 'RF_INVALID',\n  'mSmallIcon': 'Texture2D /Game/FactoryGame/Buildable/Factory/JumpPad/UI/IconDesc_JumpPad_256.IconDesc_JumpPad_256',\n  'mPersistentBigIcon': 'Texture2D /Game/FactoryGame/Buildable/Factory/JumpPad/UI/IconDesc_JumpPad_512.IconDesc_JumpPad_512',\n  'mCrosshairMaterial': 'None',\n  'mDescriptorStatBars': '',\n  'mSubCategories': '(BlueprintGeneratedClass\\'\"/Game/FactoryGame/Interface/UI/InGame/BuildMenu/BuildCategories/Sub_Production/SC_JumpPads.SC_JumpPads_C\"\\')',\n  'mMenuPriority': '65.000000',\n  'mFluidColor': '(B=0,G=0,R=0,A=0)',\n  'mGasColor': '(B=0,G=0,R=0,A=0)',\n  'mCompatibleItemDescriptors': '',\n  'mClassToScanFor': 'None',\n  'mScannableType': 'RTWOT_Default',\n  'mShouldOverrideScannerDisplayText': 'False',\n  'mScannerDisplayText': '',\n  'mScannerLightColor': '(B=0,G=0,R=0,A=0)'},\n 'Desc_LandingPad_C': {'ClassName': 'Desc_LandingPad_C',\n  'mDisplayName': '',\n  'mDescription': '',\n  'mAbbreviatedDisplayName': '',\n  'mStackSize': 'SS_MEDIUM',\n  'mCanBeDiscarded': 'True',\n  'mRememberPickUp': 'False',\n  'mEnergyValue': '0.000000',\n  'mRadioactiveDecay': '0.000000',\n  'mForm': 'RF_INVALID',\n  'mSmallIcon': 'Texture2D /Game/FactoryGame/Buildable/Factory/LandingPad/UI/LandingPad_256.LandingPad_256',\n  'mPersistentBigIcon': 'Texture2D /Game/FactoryGame/Buildable/Factory/LandingPad/UI/LandingPad_512.LandingPad_512',\n  'mCrosshairMaterial': 'None',\n  'mDescriptorStatBars': '',\n  'mSubCategories': '(BlueprintGeneratedClass\\'\"/Game/FactoryGame/Interface/UI/InGame/BuildMenu/BuildCategories/Sub_Production/SC_JumpPads.SC_JumpPads_C\"\\')',\n  'mMenuPriority': '66.000000',\n  'mFluidColor': '(B=0,G=0,R=0,A=0)',\n  'mGasColor': '(B=0,G=0,R=0,A=0)',\n  'mCompatibleItemDescriptors': '',\n  'mClassToScanFor': 'None',\n  'mScannableType': 'RTWOT_Default',\n  'mShouldOverrideScannerDisplayText': 'False',\n  'mScannerDisplayText': '',\n  'mScannerLightColor': '(B=0,G=0,R=0,A=0)'},\n 'Desc_ConveyorBeltMk2_C': {'ClassName': 'Desc_ConveyorBeltMk2_C',\n  'mDisplayName': '',\n  'mDescription': '',\n  'mAbbreviatedDisplayName': '',\n  'mStackSize': 'SS_MEDIUM',\n  'mCanBeDiscarded': 'True',\n  'mRememberPickUp': 'False',\n  'mEnergyValue': '0.000000',\n  'mRadioactiveDecay': '0.000000',\n  'mForm': 'RF_INVALID',\n  'mSmallIcon': 'Texture2D /Game/FactoryGame/Buildable/Factory/ConveyorBeltMk2/UI/ConveyorMk2_256.ConveyorMk2_256',\n  'mPersistentBigIcon': 'Texture2D /Game/FactoryGame/Buildable/Factory/ConveyorBeltMk2/UI/ConveyorMk2_512.ConveyorMk2_512',\n  'mCrosshairMaterial': 'None',\n  'mDescriptorStatBars': '',\n  'mSubCategories': '(BlueprintGeneratedClass\\'\"/Game/FactoryGame/Interface/UI/InGame/BuildMenu/BuildCategories/Sub_Transport/SC_ConveyorBelts.SC_ConveyorBelts_C\"\\')',\n  'mMenuPriority': '32.000000',\n  'mFluidColor': '(B=0,G=0,R=0,A=0)',\n  'mGasColor': '(B=0,G=0,R=0,A=0)',\n  'mCompatibleItemDescriptors': '',\n  'mClassToScanFor': 'None',\n  'mScannableType': 'RTWOT_Default',\n  'mShouldOverrideScannerDisplayText': 'False',\n  'mScannerDisplayText': '',\n  'mScannerLightColor': '(B=0,G=0,R=0,A=0)'},\n 'Desc_ConveyorLiftMk2_C': {'ClassName': 'Desc_ConveyorLiftMk2_C',\n  'mDisplayName': '',\n  'mDescription': '',\n  'mAbbreviatedDisplayName': '',\n  'mStackSize': 'SS_MEDIUM',\n  'mCanBeDiscarded': 'True',\n  'mRememberPickUp': 'False',\n  'mEnergyValue': '0.000000',\n  'mRadioactiveDecay': '0.000000',\n  'mForm': 'RF_INVALID',\n  'mSmallIcon': 'Texture2D /Game/FactoryGame/Buildable/Factory/ConveyorLiftMk2/UI/ConveyorLiftMK2_256.ConveyorLiftMK2_256',\n  'mPersistentBigIcon': 'Texture2D /Game/FactoryGame/Buildable/Factory/ConveyorLiftMk2/UI/ConveyorLiftMK2_512.ConveyorLiftMK2_512',\n  'mCrosshairMaterial': 'None',\n  'mDescriptorStatBars': '',\n  'mSubCategories': '(BlueprintGeneratedClass\\'\"/Game/FactoryGame/Interface/UI/InGame/BuildMenu/BuildCategories/Sub_Transport/SC_ConveyLift.SC_ConveyLift_C\"\\')',\n  'mMenuPriority': '2.000000',\n  'mFluidColor': '(B=0,G=0,R=0,A=0)',\n  'mGasColor': '(B=0,G=0,R=0,A=0)',\n  'mCompatibleItemDescriptors': '',\n  'mClassToScanFor': 'None',\n  'mScannableType': 'RTWOT_Default',\n  'mShouldOverrideScannerDisplayText': 'False',\n  'mScannerDisplayText': '',\n  'mScannerLightColor': '(B=0,G=0,R=0,A=0)'},\n 'Desc_TruckStation_C': {'ClassName': 'Desc_TruckStation_C',\n  'mDisplayName': '',\n  'mDescription': '',\n  'mAbbreviatedDisplayName': '',\n  'mStackSize': 'SS_MEDIUM',\n  'mCanBeDiscarded': 'True',\n  'mRememberPickUp': 'False',\n  'mEnergyValue': '0.000000',\n  'mRadioactiveDecay': '0.000000',\n  'mForm': 'RF_INVALID',\n  'mSmallIcon': 'Texture2D /Game/FactoryGame/Buildable/Factory/TruckStation/UI/IconDesc_TruckStation_256.IconDesc_TruckStation_256',\n  'mPersistentBigIcon': 'Texture2D /Game/FactoryGame/Buildable/Factory/TruckStation/UI/IconDesc_TruckStation_512.IconDesc_TruckStation_512',\n  'mCrosshairMaterial': 'None',\n  'mDescriptorStatBars': '',\n  'mSubCategories': '(BlueprintGeneratedClass\\'\"/Game/FactoryGame/Interface/UI/InGame/BuildMenu/BuildCategories/Sub_Transport/SC_Vehicles.SC_Vehicles_C\"\\')',\n  'mMenuPriority': '0.000000',\n  'mFluidColor': '(B=0,G=0,R=0,A=0)',\n  'mGasColor': '(B=0,G=0,R=0,A=0)',\n  'mCompatibleItemDescriptors': '',\n  'mClassToScanFor': 'None',\n  'mScannableType': 'RTWOT_Default',\n  'mShouldOverrideScannerDisplayText': 'False',\n  'mScannerDisplayText': '',\n  'mScannerLightColor': '(B=0,G=0,R=0,A=0)'},\n 'Desc_PipeHyperStart_C': {'ClassName': 'Desc_PipeHyperStart_C',\n  'mDisplayName': '',\n  'mDescription': '',\n  'mAbbreviatedDisplayName': '',\n  'mStackSize': 'SS_MEDIUM',\n  'mCanBeDiscarded': 'True',\n  'mRememberPickUp': 'False',\n  'mEnergyValue': '0.000000',\n  'mRadioactiveDecay': '0.000000',\n  'mForm': 'RF_INVALID',\n  'mSmallIcon': 'Texture2D /Game/FactoryGame/Buildable/Factory/PipeHyperStart/UI/HyperTubeStart_256.HyperTubeStart_256',\n  'mPersistentBigIcon': 'Texture2D /Game/FactoryGame/Buildable/Factory/PipeHyperStart/UI/HyperTubeStart_512.HyperTubeStart_512',\n  'mCrosshairMaterial': 'None',\n  'mDescriptorStatBars': '',\n  'mSubCategories': '(BlueprintGeneratedClass\\'\"/Game/FactoryGame/Interface/UI/InGame/BuildMenu/BuildCategories/Sub_Transport/SC_HyperTubes.SC_HyperTubes_C\"\\')',\n  'mMenuPriority': '2.000000',\n  'mFluidColor': '(B=0,G=0,R=0,A=0)',\n  'mGasColor': '(B=0,G=0,R=0,A=0)',\n  'mCompatibleItemDescriptors': '',\n  'mClassToScanFor': 'None',\n  'mScannableType': 'RTWOT_Default',\n  'mShouldOverrideScannerDisplayText': 'False',\n  'mScannerDisplayText': '',\n  'mScannerLightColor': '(B=0,G=0,R=0,A=0)'},\n 'Desc_HyperTubeWallSupport_C': {'ClassName': 'Desc_HyperTubeWallSupport_C',\n  'mDisplayName': '',\n  'mDescription': '',\n  'mAbbreviatedDisplayName': '',\n  'mStackSize': 'SS_MEDIUM',\n  'mCanBeDiscarded': 'True',\n  'mRememberPickUp': 'False',\n  'mEnergyValue': '0.000000',\n  'mRadioactiveDecay': '0.000000',\n  'mForm': 'RF_INVALID',\n  'mSmallIcon': 'Texture2D /Game/FactoryGame/Buildable/Factory/HyperTubeWallSupport/UI/IconDesc_HyperTube_WallSupport_256.IconDesc_HyperTube_WallSupport_256',\n  'mPersistentBigIcon': 'Texture2D /Game/FactoryGame/Buildable/Factory/HyperTubeWallSupport/UI/IconDesc_HyperTube_WallSupport_512.IconDesc_HyperTube_WallSupport_512',\n  'mCrosshairMaterial': 'None',\n  'mDescriptorStatBars': '',\n  'mSubCategories': '(BlueprintGeneratedClass\\'\"/Game/FactoryGame/Interface/UI/InGame/BuildMenu/BuildCategories/Sub_Transport/SC_HyperTubes.SC_HyperTubes_C\"\\')',\n  'mMenuPriority': '5.000000',\n  'mFluidColor': '(B=0,G=0,R=0,A=0)',\n  'mGasColor': '(B=0,G=0,R=0,A=0)',\n  'mCompatibleItemDescriptors': '',\n  'mClassToScanFor': 'None',\n  'mScannableType': 'RTWOT_Default',\n  'mShouldOverrideScannerDisplayText': 'False',\n  'mScannerDisplayText': '',\n  'mScannerLightColor': '(B=0,G=0,R=0,A=0)'},\n 'Desc_PipeHyper_C': {'ClassName': 'Desc_PipeHyper_C',\n  'mDisplayName': '',\n  'mDescription': '',\n  'mAbbreviatedDisplayName': '',\n  'mStackSize': 'SS_MEDIUM',\n  'mCanBeDiscarded': 'True',\n  'mRememberPickUp': 'False',\n  'mEnergyValue': '0.000000',\n  'mRadioactiveDecay': '0.000000',\n  'mForm': 'RF_INVALID',\n  'mSmallIcon': 'Texture2D /Game/FactoryGame/Buildable/Factory/PipeHyper/UI/HyperTube_256.HyperTube_256',\n  'mPersistentBigIcon': 'Texture2D /Game/FactoryGame/Buildable/Factory/PipeHyper/UI/HyperTube_512.HyperTube_512',\n  'mCrosshairMaterial': 'None',\n  'mDescriptorStatBars': '',\n  'mSubCategories': '(BlueprintGeneratedClass\\'\"/Game/FactoryGame/Interface/UI/InGame/BuildMenu/BuildCategories/Sub_Transport/SC_HyperTubes.SC_HyperTubes_C\"\\')',\n  'mMenuPriority': '1.000000',\n  'mFluidColor': '(B=0,G=0,R=0,A=0)',\n  'mGasColor': '(B=0,G=0,R=0,A=0)',\n  'mCompatibleItemDescriptors': '',\n  'mClassToScanFor': 'None',\n  'mScannableType': 'RTWOT_Default',\n  'mShouldOverrideScannerDisplayText': 'False',\n  'mScannerDisplayText': '',\n  'mScannerLightColor': '(B=0,G=0,R=0,A=0)'},\n 'Desc_ConveyorBeltMk3_C': {'ClassName': 'Desc_ConveyorBeltMk3_C',\n  'mDisplayName': '',\n  'mDescription': '',\n  'mAbbreviatedDisplayName': '',\n  'mStackSize': 'SS_MEDIUM',\n  'mCanBeDiscarded': 'True',\n  'mRememberPickUp': 'False',\n  'mEnergyValue': '0.000000',\n  'mRadioactiveDecay': '0.000000',\n  'mForm': 'RF_INVALID',\n  'mSmallIcon': 'Texture2D /Game/FactoryGame/Buildable/Factory/ConveyorBeltMk3/UI/ConveyorMk3_256.ConveyorMk3_256',\n  'mPersistentBigIcon': 'Texture2D /Game/FactoryGame/Buildable/Factory/ConveyorBeltMk3/UI/ConveyorMk3_512.ConveyorMk3_512',\n  'mCrosshairMaterial': 'None',\n  'mDescriptorStatBars': '',\n  'mSubCategories': '(BlueprintGeneratedClass\\'\"/Game/FactoryGame/Interface/UI/InGame/BuildMenu/BuildCategories/Sub_Transport/SC_ConveyorBelts.SC_ConveyorBelts_C\"\\')',\n  'mMenuPriority': '33.000000',\n  'mFluidColor': '(B=0,G=0,R=0,A=0)',\n  'mGasColor': '(B=0,G=0,R=0,A=0)',\n  'mCompatibleItemDescriptors': '',\n  'mClassToScanFor': 'None',\n  'mScannableType': 'RTWOT_Default',\n  'mShouldOverrideScannerDisplayText': 'False',\n  'mScannerDisplayText': '',\n  'mScannerLightColor': '(B=0,G=0,R=0,A=0)'},\n 'Desc_ConveyorLiftMk3_C': {'ClassName': 'Desc_ConveyorLiftMk3_C',\n  'mDisplayName': '',\n  'mDescription': '',\n  'mAbbreviatedDisplayName': '',\n  'mStackSize': 'SS_MEDIUM',\n  'mCanBeDiscarded': 'True',\n  'mRememberPickUp': 'False',\n  'mEnergyValue': '0.000000',\n  'mRadioactiveDecay': '0.000000',\n  'mForm': 'RF_INVALID',\n  'mSmallIcon': 'Texture2D /Game/FactoryGame/Buildable/Factory/ConveyorLiftMk3/UI/ConveyorLiftMK3_256.ConveyorLiftMK3_256',\n  'mPersistentBigIcon': 'Texture2D /Game/FactoryGame/Buildable/Factory/ConveyorLiftMk3/UI/ConveyorLiftMK3_512.ConveyorLiftMK3_512',\n  'mCrosshairMaterial': 'None',\n  'mDescriptorStatBars': '',\n  'mSubCategories': '(BlueprintGeneratedClass\\'\"/Game/FactoryGame/Interface/UI/InGame/BuildMenu/BuildCategories/Sub_Transport/SC_ConveyLift.SC_ConveyLift_C\"\\')',\n  'mMenuPriority': '3.000000',\n  'mFluidColor': '(B=0,G=0,R=0,A=0)',\n  'mGasColor': '(B=0,G=0,R=0,A=0)',\n  'mCompatibleItemDescriptors': '',\n  'mClassToScanFor': 'None',\n  'mScannableType': 'RTWOT_Default',\n  'mShouldOverrideScannerDisplayText': 'False',\n  'mScannerDisplayText': '',\n  'mScannerLightColor': '(B=0,G=0,R=0,A=0)'},\n 'Desc_PowerStorageMk1_C': {'ClassName': 'Desc_PowerStorageMk1_C',\n  'mDisplayName': '',\n  'mDescription': '',\n  'mAbbreviatedDisplayName': '',\n  'mStackSize': 'SS_MEDIUM',\n  'mCanBeDiscarded': 'True',\n  'mRememberPickUp': 'False',\n  'mEnergyValue': '0.000000',\n  'mRadioactiveDecay': '0.000000',\n  'mForm': 'RF_INVALID',\n  'mSmallIcon': 'Texture2D /Game/FactoryGame/Buildable/Factory/PowerStorage/UI/IconDesc_PowerStorage_256.IconDesc_PowerStorage_256',\n  'mPersistentBigIcon': 'Texture2D /Game/FactoryGame/Buildable/Factory/PowerStorage/UI/IconDesc_PowerStorage_512.IconDesc_PowerStorage_512',\n  'mCrosshairMaterial': 'None',\n  'mDescriptorStatBars': '',\n  'mSubCategories': '(BlueprintGeneratedClass\\'\"/Game/FactoryGame/Interface/UI/InGame/BuildMenu/BuildCategories/Sub_Power/SC_Generators.SC_Generators_C\"\\')',\n  'mMenuPriority': '10.000000',\n  'mFluidColor': '(B=0,G=0,R=0,A=0)',\n  'mGasColor': '(B=0,G=0,R=0,A=0)',\n  'mCompatibleItemDescriptors': '',\n  'mClassToScanFor': 'None',\n  'mScannableType': 'RTWOT_Default',\n  'mShouldOverrideScannerDisplayText': 'False',\n  'mScannerDisplayText': '',\n  'mScannerLightColor': '(B=0,G=0,R=0,A=0)'},\n 'Desc_StorageContainerMk2_C': {'ClassName': 'Desc_StorageContainerMk2_C',\n  'mDisplayName': '',\n  'mDescription': '',\n  'mAbbreviatedDisplayName': '',\n  'mStackSize': 'SS_MEDIUM',\n  'mCanBeDiscarded': 'True',\n  'mRememberPickUp': 'False',\n  'mEnergyValue': '0.000000',\n  'mRadioactiveDecay': '0.000000',\n  'mForm': 'RF_INVALID',\n  'mSmallIcon': 'Texture2D /Game/FactoryGame/Buildable/Factory/StorageContainerMk2/UI/IconDesc_StorageContainerMk2_256.IconDesc_StorageContainerMk2_256',\n  'mPersistentBigIcon': 'Texture2D /Game/FactoryGame/Buildable/Factory/StorageContainerMk2/UI/IconDesc_StorageContainerMk2_512.IconDesc_StorageContainerMk2_512',\n  'mCrosshairMaterial': 'None',\n  'mDescriptorStatBars': '',\n  'mSubCategories': '(BlueprintGeneratedClass\\'\"/Game/FactoryGame/Interface/UI/InGame/BuildMenu/BuildCategories/Sub_Organisation/SC_Storage.SC_Storage_C\"\\')',\n  'mMenuPriority': '63.000000',\n  'mFluidColor': '(B=0,G=0,R=0,A=0)',\n  'mGasColor': '(B=0,G=0,R=0,A=0)',\n  'mCompatibleItemDescriptors': '',\n  'mClassToScanFor': 'None',\n  'mScannableType': 'RTWOT_Default',\n  'mShouldOverrideScannerDisplayText': 'False',\n  'mScannerDisplayText': '',\n  'mScannerLightColor': '(B=0,G=0,R=0,A=0)'},\n 'Desc_ConveyorBeltMk4_C': {'ClassName': 'Desc_ConveyorBeltMk4_C',\n  'mDisplayName': '',\n  'mDescription': '',\n  'mAbbreviatedDisplayName': '',\n  'mStackSize': 'SS_MEDIUM',\n  'mCanBeDiscarded': 'True',\n  'mRememberPickUp': 'False',\n  'mEnergyValue': '0.000000',\n  'mRadioactiveDecay': '0.000000',\n  'mForm': 'RF_INVALID',\n  'mSmallIcon': 'Texture2D /Game/FactoryGame/Buildable/Factory/ConveyorBeltMk4/UI/ConveyorMk4_256.ConveyorMk4_256',\n  'mPersistentBigIcon': 'Texture2D /Game/FactoryGame/Buildable/Factory/ConveyorBeltMk4/UI/ConveyorMk4_512.ConveyorMk4_512',\n  'mCrosshairMaterial': 'None',\n  'mDescriptorStatBars': '',\n  'mSubCategories': '(BlueprintGeneratedClass\\'\"/Game/FactoryGame/Interface/UI/InGame/BuildMenu/BuildCategories/Sub_Transport/SC_ConveyorBelts.SC_ConveyorBelts_C\"\\')',\n  'mMenuPriority': '34.000000',\n  'mFluidColor': '(B=0,G=0,R=0,A=0)',\n  'mGasColor': '(B=0,G=0,R=0,A=0)',\n  'mCompatibleItemDescriptors': '',\n  'mClassToScanFor': 'None',\n  'mScannableType': 'RTWOT_Default',\n  'mShouldOverrideScannerDisplayText': 'False',\n  'mScannerDisplayText': '',\n  'mScannerLightColor': '(B=0,G=0,R=0,A=0)'},\n 'Desc_ConveyorLiftMk4_C': {'ClassName': 'Desc_ConveyorLiftMk4_C',\n  'mDisplayName': '',\n  'mDescription': '',\n  'mAbbreviatedDisplayName': '',\n  'mStackSize': 'SS_MEDIUM',\n  'mCanBeDiscarded': 'True',\n  'mRememberPickUp': 'False',\n  'mEnergyValue': '0.000000',\n  'mRadioactiveDecay': '0.000000',\n  'mForm': 'RF_INVALID',\n  'mSmallIcon': 'Texture2D /Game/FactoryGame/Buildable/Factory/ConveyorLiftMk4/UI/ConveyorLiftMK4_256.ConveyorLiftMK4_256',\n  'mPersistentBigIcon': 'Texture2D /Game/FactoryGame/Buildable/Factory/ConveyorLiftMk4/UI/ConveyorLiftMK4_512.ConveyorLiftMK4_512',\n  'mCrosshairMaterial': 'None',\n  'mDescriptorStatBars': '',\n  'mSubCategories': '(BlueprintGeneratedClass\\'\"/Game/FactoryGame/Interface/UI/InGame/BuildMenu/BuildCategories/Sub_Transport/SC_ConveyLift.SC_ConveyLift_C\"\\')',\n  'mMenuPriority': '4.000000',\n  'mFluidColor': '(B=0,G=0,R=0,A=0)',\n  'mGasColor': '(B=0,G=0,R=0,A=0)',\n  'mCompatibleItemDescriptors': '',\n  'mClassToScanFor': 'None',\n  'mScannableType': 'RTWOT_Default',\n  'mShouldOverrideScannerDisplayText': 'False',\n  'mScannerDisplayText': '',\n  'mScannerLightColor': '(B=0,G=0,R=0,A=0)'},\n 'Desc_GeneratorFuel_C': {'ClassName': 'Desc_GeneratorFuel_C',\n  'mDisplayName': '',\n  'mDescription': '',\n  'mAbbreviatedDisplayName': '',\n  'mStackSize': 'SS_MEDIUM',\n  'mCanBeDiscarded': 'True',\n  'mRememberPickUp': 'False',\n  'mEnergyValue': '0.000000',\n  'mRadioactiveDecay': '0.000000',\n  'mForm': 'RF_INVALID',\n  'mSmallIcon': 'Texture2D /Game/FactoryGame/Buildable/Factory/GeneratorFuel/UI/FuelGenerator_256.FuelGenerator_256',\n  'mPersistentBigIcon': 'Texture2D /Game/FactoryGame/Buildable/Factory/GeneratorFuel/UI/FuelGenerator_512.FuelGenerator_512',\n  'mCrosshairMaterial': 'None',\n  'mDescriptorStatBars': '',\n  'mSubCategories': '(BlueprintGeneratedClass\\'\"/Game/FactoryGame/Interface/UI/InGame/BuildMenu/BuildCategories/Sub_Power/SC_Generators.SC_Generators_C\"\\')',\n  'mMenuPriority': '6.000000',\n  'mFluidColor': '(B=0,G=0,R=0,A=0)',\n  'mGasColor': '(B=0,G=0,R=0,A=0)',\n  'mCompatibleItemDescriptors': '',\n  'mClassToScanFor': 'None',\n  'mScannableType': 'RTWOT_Default',\n  'mShouldOverrideScannerDisplayText': 'False',\n  'mScannerDisplayText': '',\n  'mScannerLightColor': '(B=0,G=0,R=0,A=0)'},\n 'Desc_RailroadBlockSignal_C': {'ClassName': 'Desc_RailroadBlockSignal_C',\n  'mDisplayName': '',\n  'mDescription': '',\n  'mAbbreviatedDisplayName': '',\n  'mStackSize': 'SS_MEDIUM',\n  'mCanBeDiscarded': 'True',\n  'mRememberPickUp': 'False',\n  'mEnergyValue': '0.000000',\n  'mRadioactiveDecay': '0.000000',\n  'mForm': 'RF_INVALID',\n  'mSmallIcon': 'Texture2D /Game/FactoryGame/Buildable/Factory/Train/Signal/UI/IconDesc_BlockSignal_256.IconDesc_BlockSignal_256',\n  'mPersistentBigIcon': 'Texture2D /Game/FactoryGame/Buildable/Factory/Train/Signal/UI/IconDesc_BlockSignal_512.IconDesc_BlockSignal_512',\n  'mCrosshairMaterial': 'None',\n  'mDescriptorStatBars': '',\n  'mSubCategories': '(BlueprintGeneratedClass\\'\"/Game/FactoryGame/Interface/UI/InGame/BuildMenu/BuildCategories/Sub_Transport/SC_Trains.SC_Trains_C\"\\')',\n  'mMenuPriority': '54.000000',\n  'mFluidColor': '(B=0,G=0,R=0,A=0)',\n  'mGasColor': '(B=0,G=0,R=0,A=0)',\n  'mCompatibleItemDescriptors': '',\n  'mClassToScanFor': 'None',\n  'mScannableType': 'RTWOT_Default',\n  'mShouldOverrideScannerDisplayText': 'False',\n  'mScannerDisplayText': '',\n  'mScannerLightColor': '(B=0,G=0,R=0,A=0)'},\n 'Desc_RailroadPathSignal_C': {'ClassName': 'Desc_RailroadPathSignal_C',\n  'mDisplayName': '',\n  'mDescription': '',\n  'mAbbreviatedDisplayName': '',\n  'mStackSize': 'SS_MEDIUM',\n  'mCanBeDiscarded': 'True',\n  'mRememberPickUp': 'False',\n  'mEnergyValue': '0.000000',\n  'mRadioactiveDecay': '0.000000',\n  'mForm': 'RF_INVALID',\n  'mSmallIcon': 'Texture2D /Game/FactoryGame/Buildable/Factory/Train/Signal/UI/IconDesc_PathSignal_256.IconDesc_PathSignal_256',\n  'mPersistentBigIcon': 'Texture2D /Game/FactoryGame/Buildable/Factory/Train/Signal/UI/IconDesc_PathSignal_512.IconDesc_PathSignal_512',\n  'mCrosshairMaterial': 'None',\n  'mDescriptorStatBars': '',\n  'mSubCategories': '(BlueprintGeneratedClass\\'\"/Game/FactoryGame/Interface/UI/InGame/BuildMenu/BuildCategories/Sub_Transport/SC_Trains.SC_Trains_C\"\\')',\n  'mMenuPriority': '54.000000',\n  'mFluidColor': '(B=0,G=0,R=0,A=0)',\n  'mGasColor': '(B=0,G=0,R=0,A=0)',\n  'mCompatibleItemDescriptors': '',\n  'mClassToScanFor': 'None',\n  'mScannableType': 'RTWOT_Default',\n  'mShouldOverrideScannerDisplayText': 'False',\n  'mScannerDisplayText': '',\n  'mScannerLightColor': '(B=0,G=0,R=0,A=0)'},\n 'Desc_TrainDockingStation_C': {'ClassName': 'Desc_TrainDockingStation_C',\n  'mDisplayName': '',\n  'mDescription': '',\n  'mAbbreviatedDisplayName': '',\n  'mStackSize': 'SS_MEDIUM',\n  'mCanBeDiscarded': 'True',\n  'mRememberPickUp': 'False',\n  'mEnergyValue': '0.000000',\n  'mRadioactiveDecay': '0.000000',\n  'mForm': 'RF_INVALID',\n  'mSmallIcon': 'Texture2D /Game/FactoryGame/Buildable/Factory/Train/Station/UI/IconDesc_DockingStation_256.IconDesc_DockingStation_256',\n  'mPersistentBigIcon': 'Texture2D /Game/FactoryGame/Buildable/Factory/Train/Station/UI/IconDesc_DockingStation_512.IconDesc_DockingStation_512',\n  'mCrosshairMaterial': 'None',\n  'mDescriptorStatBars': '',\n  'mSubCategories': '(BlueprintGeneratedClass\\'\"/Game/FactoryGame/Interface/UI/InGame/BuildMenu/BuildCategories/Sub_Transport/SC_Trains.SC_Trains_C\"\\')',\n  'mMenuPriority': '52.000000',\n  'mFluidColor': '(B=0,G=0,R=0,A=0)',\n  'mGasColor': '(B=0,G=0,R=0,A=0)',\n  'mCompatibleItemDescriptors': '',\n  'mClassToScanFor': 'None',\n  'mScannableType': 'RTWOT_Default',\n  'mShouldOverrideScannerDisplayText': 'False',\n  'mScannerDisplayText': '',\n  'mScannerLightColor': '(B=0,G=0,R=0,A=0)'},\n 'Desc_TrainDockingStationLiquid_C': {'ClassName': 'Desc_TrainDockingStationLiquid_C',\n  'mDisplayName': '',\n  'mDescription': '',\n  'mAbbreviatedDisplayName': '',\n  'mStackSize': 'SS_MEDIUM',\n  'mCanBeDiscarded': 'True',\n  'mRememberPickUp': 'False',\n  'mEnergyValue': '0.000000',\n  'mRadioactiveDecay': '0.000000',\n  'mForm': 'RF_INVALID',\n  'mSmallIcon': 'Texture2D /Game/FactoryGame/Buildable/Factory/Train/Station/UI/IconDesc_TrainDockingFluid_256.IconDesc_TrainDockingFluid_256',\n  'mPersistentBigIcon': 'Texture2D /Game/FactoryGame/Buildable/Factory/Train/Station/UI/IconDesc_TrainDockingFluid_512.IconDesc_TrainDockingFluid_512',\n  'mCrosshairMaterial': 'None',\n  'mDescriptorStatBars': '',\n  'mSubCategories': '(BlueprintGeneratedClass\\'\"/Game/FactoryGame/Interface/UI/InGame/BuildMenu/BuildCategories/Sub_Transport/SC_Trains.SC_Trains_C\"\\')',\n  'mMenuPriority': '52.000000',\n  'mFluidColor': '(B=0,G=0,R=0,A=0)',\n  'mGasColor': '(B=0,G=0,R=0,A=0)',\n  'mCompatibleItemDescriptors': '',\n  'mClassToScanFor': 'None',\n  'mScannableType': 'RTWOT_Default',\n  'mShouldOverrideScannerDisplayText': 'False',\n  'mScannerDisplayText': '',\n  'mScannerLightColor': '(B=0,G=0,R=0,A=0)'},\n 'Desc_TrainPlatformEmpty_C': {'ClassName': 'Desc_TrainPlatformEmpty_C',\n  'mDisplayName': '',\n  'mDescription': '',\n  'mAbbreviatedDisplayName': '',\n  'mStackSize': 'SS_MEDIUM',\n  'mCanBeDiscarded': 'True',\n  'mRememberPickUp': 'False',\n  'mEnergyValue': '0.000000',\n  'mRadioactiveDecay': '0.000000',\n  'mForm': 'RF_INVALID',\n  'mSmallIcon': 'Texture2D /Game/FactoryGame/Buildable/Factory/Train/Station/UI/IconDesc_EmptyPlatform_256.IconDesc_EmptyPlatform_256',\n  'mPersistentBigIcon': 'Texture2D /Game/FactoryGame/Buildable/Factory/Train/Station/UI/IconDesc_EmptyPlatform_512.IconDesc_EmptyPlatform_512',\n  'mCrosshairMaterial': 'None',\n  'mDescriptorStatBars': '',\n  'mSubCategories': '(BlueprintGeneratedClass\\'\"/Game/FactoryGame/Interface/UI/InGame/BuildMenu/BuildCategories/Sub_Transport/SC_Trains.SC_Trains_C\"\\')',\n  'mMenuPriority': '52.000000',\n  'mFluidColor': '(B=0,G=0,R=0,A=0)',\n  'mGasColor': '(B=0,G=0,R=0,A=0)',\n  'mCompatibleItemDescriptors': '',\n  'mClassToScanFor': 'None',\n  'mScannableType': 'RTWOT_Default',\n  'mShouldOverrideScannerDisplayText': 'False',\n  'mScannerDisplayText': '',\n  'mScannerLightColor': '(B=0,G=0,R=0,A=0)'},\n 'Desc_TrainPlatformEmpty_02_C': {'ClassName': 'Desc_TrainPlatformEmpty_02_C',\n  'mDisplayName': '',\n  'mDescription': '',\n  'mAbbreviatedDisplayName': '',\n  'mStackSize': 'SS_MEDIUM',\n  'mCanBeDiscarded': 'True',\n  'mRememberPickUp': 'False',\n  'mEnergyValue': '0.000000',\n  'mRadioactiveDecay': '0.000000',\n  'mForm': 'RF_INVALID',\n  'mSmallIcon': 'Texture2D /Game/FactoryGame/Buildable/Factory/Train/Station/UI/IconDesc_PlatformCatwalk_256.IconDesc_PlatformCatwalk_256',\n  'mPersistentBigIcon': 'Texture2D /Game/FactoryGame/Buildable/Factory/Train/Station/UI/IconDesc_PlatformCatwalk_512.IconDesc_PlatformCatwalk_512',\n  'mCrosshairMaterial': 'None',\n  'mDescriptorStatBars': '',\n  'mSubCategories': '(BlueprintGeneratedClass\\'\"/Game/FactoryGame/Interface/UI/InGame/BuildMenu/BuildCategories/Sub_Transport/SC_Trains.SC_Trains_C\"\\')',\n  'mMenuPriority': '52.000000',\n  'mFluidColor': '(B=0,G=0,R=0,A=0)',\n  'mGasColor': '(B=0,G=0,R=0,A=0)',\n  'mCompatibleItemDescriptors': '',\n  'mClassToScanFor': 'None',\n  'mScannableType': 'RTWOT_Default',\n  'mShouldOverrideScannerDisplayText': 'False',\n  'mScannerDisplayText': '',\n  'mScannerLightColor': '(B=0,G=0,R=0,A=0)'},\n 'Desc_TrainStation_C': {'ClassName': 'Desc_TrainStation_C',\n  'mDisplayName': '',\n  'mDescription': '',\n  'mAbbreviatedDisplayName': '',\n  'mStackSize': 'SS_MEDIUM',\n  'mCanBeDiscarded': 'True',\n  'mRememberPickUp': 'False',\n  'mEnergyValue': '0.000000',\n  'mRadioactiveDecay': '0.000000',\n  'mForm': 'RF_INVALID',\n  'mSmallIcon': 'Texture2D /Game/FactoryGame/Buildable/Factory/Train/Station/UI/IconDesc_TrainStation_256.IconDesc_TrainStation_256',\n  'mPersistentBigIcon': 'Texture2D /Game/FactoryGame/Buildable/Factory/Train/Station/UI/IconDesc_TrainStation_512.IconDesc_TrainStation_512',\n  'mCrosshairMaterial': 'None',\n  'mDescriptorStatBars': '',\n  'mSubCategories': '(BlueprintGeneratedClass\\'\"/Game/FactoryGame/Interface/UI/InGame/BuildMenu/BuildCategories/Sub_Transport/SC_Trains.SC_Trains_C\"\\')',\n  'mMenuPriority': '51.000000',\n  'mFluidColor': '(B=0,G=0,R=0,A=0)',\n  'mGasColor': '(B=0,G=0,R=0,A=0)',\n  'mCompatibleItemDescriptors': '',\n  'mClassToScanFor': 'None',\n  'mScannableType': 'RTWOT_Default',\n  'mShouldOverrideScannerDisplayText': 'False',\n  'mScannerDisplayText': '',\n  'mScannerLightColor': '(B=0,G=0,R=0,A=0)'},\n 'Desc_RailroadTrack_C': {'ClassName': 'Desc_RailroadTrack_C',\n  'mDisplayName': '',\n  'mDescription': '',\n  'mAbbreviatedDisplayName': '',\n  'mStackSize': 'SS_ONE',\n  'mCanBeDiscarded': 'True',\n  'mRememberPickUp': 'False',\n  'mEnergyValue': '0.000000',\n  'mRadioactiveDecay': '0.000000',\n  'mForm': 'RF_INVALID',\n  'mSmallIcon': 'Texture2D /Game/FactoryGame/Buildable/Factory/Train/Track/UI/Track_256.Track_256',\n  'mPersistentBigIcon': 'Texture2D /Game/FactoryGame/Buildable/Factory/Train/Track/UI/Track_512.Track_512',\n  'mCrosshairMaterial': 'None',\n  'mDescriptorStatBars': '',\n  'mSubCategories': '(BlueprintGeneratedClass\\'\"/Game/FactoryGame/Interface/UI/InGame/BuildMenu/BuildCategories/Sub_Transport/SC_Trains.SC_Trains_C\"\\')',\n  'mMenuPriority': '53.000000',\n  'mFluidColor': '(B=0,G=0,R=0,A=0)',\n  'mGasColor': '(B=0,G=0,R=0,A=0)',\n  'mCompatibleItemDescriptors': '',\n  'mClassToScanFor': 'None',\n  'mScannableType': 'RTWOT_Default',\n  'mShouldOverrideScannerDisplayText': 'False',\n  'mScannerDisplayText': '',\n  'mScannerLightColor': '(B=0,G=0,R=0,A=0)'},\n 'Desc_PipelineMK2_C': {'ClassName': 'Desc_PipelineMK2_C',\n  'mDisplayName': '',\n  'mDescription': '',\n  'mAbbreviatedDisplayName': '',\n  'mStackSize': 'SS_MEDIUM',\n  'mCanBeDiscarded': 'True',\n  'mRememberPickUp': 'False',\n  'mEnergyValue': '0.000000',\n  'mRadioactiveDecay': '0.000000',\n  'mForm': 'RF_INVALID',\n  'mSmallIcon': 'Texture2D /Game/FactoryGame/Buildable/Factory/Pipeline/UI/IconDesc_PipeMK2Indicator_256.IconDesc_PipeMK2Indicator_256',\n  'mPersistentBigIcon': 'Texture2D /Game/FactoryGame/Buildable/Factory/Pipeline/UI/IconDesc_PipeMK2Indicator_512.IconDesc_PipeMK2Indicator_512',\n  'mCrosshairMaterial': 'None',\n  'mDescriptorStatBars': '',\n  'mSubCategories': '(BlueprintGeneratedClass\\'\"/Game/FactoryGame/Interface/UI/InGame/BuildMenu/BuildCategories/Sub_Transport/SC_Pipes.SC_Pipes_C\"\\')',\n  'mMenuPriority': '1.000000',\n  'mFluidColor': '(B=0,G=0,R=0,A=0)',\n  'mGasColor': '(B=0,G=0,R=0,A=0)',\n  'mCompatibleItemDescriptors': '',\n  'mClassToScanFor': 'None',\n  'mScannableType': 'RTWOT_Default',\n  'mShouldOverrideScannerDisplayText': 'False',\n  'mScannerDisplayText': '',\n  'mScannerLightColor': '(B=0,G=0,R=0,A=0)'},\n 'Desc_PipelinePumpMk2_C': {'ClassName': 'Desc_PipelinePumpMk2_C',\n  'mDisplayName': '',\n  'mDescription': '',\n  'mAbbreviatedDisplayName': '',\n  'mStackSize': 'SS_MEDIUM',\n  'mCanBeDiscarded': 'True',\n  'mRememberPickUp': 'False',\n  'mEnergyValue': '0.000000',\n  'mRadioactiveDecay': '0.000000',\n  'mForm': 'RF_INVALID',\n  'mSmallIcon': 'Texture2D /Game/FactoryGame/Buildable/Factory/PipePumpMk2/UI/IconDesc_PipePumpMK2_256.IconDesc_PipePumpMK2_256',\n  'mPersistentBigIcon': 'Texture2D /Game/FactoryGame/Buildable/Factory/PipePumpMk2/UI/IconDesc_PipePumpMK2_512.IconDesc_PipePumpMK2_512',\n  'mCrosshairMaterial': 'None',\n  'mDescriptorStatBars': '',\n  'mSubCategories': '(BlueprintGeneratedClass\\'\"/Game/FactoryGame/Interface/UI/InGame/BuildMenu/BuildCategories/Sub_Transport/SC_Pipes.SC_Pipes_C\"\\')',\n  'mMenuPriority': '4.000000',\n  'mFluidColor': '(B=0,G=0,R=0,A=0)',\n  'mGasColor': '(B=0,G=0,R=0,A=0)',\n  'mCompatibleItemDescriptors': '',\n  'mClassToScanFor': 'None',\n  'mScannableType': 'RTWOT_Default',\n  'mShouldOverrideScannerDisplayText': 'False',\n  'mScannerDisplayText': '',\n  'mScannerLightColor': '(B=0,G=0,R=0,A=0)'},\n 'Desc_ConveyorAttachmentSplitterSmart_C': {'ClassName': 'Desc_ConveyorAttachmentSplitterSmart_C',\n  'mDisplayName': '',\n  'mDescription': '',\n  'mAbbreviatedDisplayName': '',\n  'mStackSize': 'SS_MEDIUM',\n  'mCanBeDiscarded': 'True',\n  'mRememberPickUp': 'False',\n  'mEnergyValue': '0.000000',\n  'mRadioactiveDecay': '0.000000',\n  'mForm': 'RF_INVALID',\n  'mSmallIcon': 'Texture2D /Game/FactoryGame/Buildable/Factory/CA_SplitterSmart/UI/IconDesc_SmartSplitter_256.IconDesc_SmartSplitter_256',\n  'mPersistentBigIcon': 'Texture2D /Game/FactoryGame/Buildable/Factory/CA_SplitterSmart/UI/IconDesc_SmartSplitter_512.IconDesc_SmartSplitter_512',\n  'mCrosshairMaterial': 'None',\n  'mDescriptorStatBars': '',\n  'mSubCategories': '(BlueprintGeneratedClass\\'\"/Game/FactoryGame/Interface/UI/InGame/BuildMenu/BuildCategories/Sub_Transport/SC_ConveyorAttachments.SC_ConveyorAttachments_C\"\\')',\n  'mMenuPriority': '3.000000',\n  'mFluidColor': '(B=0,G=0,R=0,A=0)',\n  'mGasColor': '(B=0,G=0,R=0,A=0)',\n  'mCompatibleItemDescriptors': '',\n  'mClassToScanFor': 'None',\n  'mScannableType': 'RTWOT_Default',\n  'mShouldOverrideScannerDisplayText': 'False',\n  'mScannerDisplayText': '',\n  'mScannerLightColor': '(B=0,G=0,R=0,A=0)'},\n 'Desc_PowerSwitch_C': {'ClassName': 'Desc_PowerSwitch_C',\n  'mDisplayName': '',\n  'mDescription': '',\n  'mAbbreviatedDisplayName': '',\n  'mStackSize': 'SS_MEDIUM',\n  'mCanBeDiscarded': 'True',\n  'mRememberPickUp': 'False',\n  'mEnergyValue': '0.000000',\n  'mRadioactiveDecay': '0.000000',\n  'mForm': 'RF_INVALID',\n  'mSmallIcon': 'Texture2D /Game/FactoryGame/Buildable/Factory/PowerSwitch/UI/IconDesc_PowerSwitch_256.IconDesc_PowerSwitch_256',\n  'mPersistentBigIcon': 'Texture2D /Game/FactoryGame/Buildable/Factory/PowerSwitch/UI/IconDesc_PowerSwitch_512.IconDesc_PowerSwitch_512',\n  'mCrosshairMaterial': 'None',\n  'mDescriptorStatBars': '',\n  'mSubCategories': '(BlueprintGeneratedClass\\'\"/Game/FactoryGame/Interface/UI/InGame/BuildMenu/BuildCategories/Sub_Power/SC_PowerPoles.SC_PowerPoles_C\"\\')',\n  'mMenuPriority': '4.000000',\n  'mFluidColor': '(B=0,G=0,R=0,A=0)',\n  'mGasColor': '(B=0,G=0,R=0,A=0)',\n  'mCompatibleItemDescriptors': '',\n  'mClassToScanFor': 'None',\n  'mScannableType': 'RTWOT_Default',\n  'mShouldOverrideScannerDisplayText': 'False',\n  'mScannerDisplayText': '',\n  'mScannerLightColor': '(B=0,G=0,R=0,A=0)'},\n 'Desc_PowerPoleMk2_C': {'ClassName': 'Desc_PowerPoleMk2_C',\n  'mDisplayName': '',\n  'mDescription': '',\n  'mAbbreviatedDisplayName': '',\n  'mStackSize': 'SS_MEDIUM',\n  'mCanBeDiscarded': 'True',\n  'mRememberPickUp': 'False',\n  'mEnergyValue': '0.000000',\n  'mRadioactiveDecay': '0.000000',\n  'mForm': 'RF_INVALID',\n  'mSmallIcon': 'Texture2D /Game/FactoryGame/Buildable/Factory/PowerPoleMk2/UI/PowerPoleMk2_256.PowerPoleMk2_256',\n  'mPersistentBigIcon': 'Texture2D /Game/FactoryGame/Buildable/Factory/PowerPoleMk2/UI/PowerPoleMk2_512.PowerPoleMk2_512',\n  'mCrosshairMaterial': 'None',\n  'mDescriptorStatBars': '',\n  'mSubCategories': '(BlueprintGeneratedClass\\'\"/Game/FactoryGame/Interface/UI/InGame/BuildMenu/BuildCategories/Sub_Power/SC_PowerPoles.SC_PowerPoles_C\"\\')',\n  'mMenuPriority': '2.000000',\n  'mFluidColor': '(B=0,G=0,R=0,A=0)',\n  'mGasColor': '(B=0,G=0,R=0,A=0)',\n  'mCompatibleItemDescriptors': '',\n  'mClassToScanFor': 'None',\n  'mScannableType': 'RTWOT_Default',\n  'mShouldOverrideScannerDisplayText': 'False',\n  'mScannerDisplayText': '',\n  'mScannerLightColor': '(B=0,G=0,R=0,A=0)'},\n 'Desc_PowerPoleMk3_C': {'ClassName': 'Desc_PowerPoleMk3_C',\n  'mDisplayName': '',\n  'mDescription': '',\n  'mAbbreviatedDisplayName': '',\n  'mStackSize': 'SS_MEDIUM',\n  'mCanBeDiscarded': 'True',\n  'mRememberPickUp': 'False',\n  'mEnergyValue': '0.000000',\n  'mRadioactiveDecay': '0.000000',\n  'mForm': 'RF_INVALID',\n  'mSmallIcon': 'Texture2D /Game/FactoryGame/Buildable/Factory/PowerPoleMk3/UI/PowerPoleMk3_256.PowerPoleMk3_256',\n  'mPersistentBigIcon': 'Texture2D /Game/FactoryGame/Buildable/Factory/PowerPoleMk3/UI/PowerPoleMk3_512.PowerPoleMk3_512',\n  'mCrosshairMaterial': 'None',\n  'mDescriptorStatBars': '',\n  'mSubCategories': '(BlueprintGeneratedClass\\'\"/Game/FactoryGame/Interface/UI/InGame/BuildMenu/BuildCategories/Sub_Power/SC_PowerPoles.SC_PowerPoles_C\"\\')',\n  'mMenuPriority': '3.000000',\n  'mFluidColor': '(B=0,G=0,R=0,A=0)',\n  'mGasColor': '(B=0,G=0,R=0,A=0)',\n  'mCompatibleItemDescriptors': '',\n  'mClassToScanFor': 'None',\n  'mScannableType': 'RTWOT_Default',\n  'mShouldOverrideScannerDisplayText': 'False',\n  'mScannerDisplayText': '',\n  'mScannerLightColor': '(B=0,G=0,R=0,A=0)'},\n 'Desc_ConveyorAttachmentSplitterProgrammable_C': {'ClassName': 'Desc_ConveyorAttachmentSplitterProgrammable_C',\n  'mDisplayName': '',\n  'mDescription': '',\n  'mAbbreviatedDisplayName': '',\n  'mStackSize': 'SS_MEDIUM',\n  'mCanBeDiscarded': 'True',\n  'mRememberPickUp': 'False',\n  'mEnergyValue': '0.000000',\n  'mRadioactiveDecay': '0.000000',\n  'mForm': 'RF_INVALID',\n  'mSmallIcon': 'Texture2D /Game/FactoryGame/Buildable/Factory/CA_SplitterProgrammable/UI/IconDesc_ProgrammableSplitter_256.IconDesc_ProgrammableSplitter_256',\n  'mPersistentBigIcon': 'Texture2D /Game/FactoryGame/Buildable/Factory/CA_SplitterProgrammable/UI/IconDesc_ProgrammableSplitter_512.IconDesc_ProgrammableSplitter_512',\n  'mCrosshairMaterial': 'None',\n  'mDescriptorStatBars': '',\n  'mSubCategories': '(BlueprintGeneratedClass\\'\"/Game/FactoryGame/Interface/UI/InGame/BuildMenu/BuildCategories/Sub_Transport/SC_ConveyorAttachments.SC_ConveyorAttachments_C\"\\')',\n  'mMenuPriority': '4.000000',\n  'mFluidColor': '(B=0,G=0,R=0,A=0)',\n  'mGasColor': '(B=0,G=0,R=0,A=0)',\n  'mCompatibleItemDescriptors': '',\n  'mClassToScanFor': 'None',\n  'mScannableType': 'RTWOT_Default',\n  'mShouldOverrideScannerDisplayText': 'False',\n  'mScannerDisplayText': '',\n  'mScannerLightColor': '(B=0,G=0,R=0,A=0)'},\n 'Desc_GeneratorGeoThermal_C': {'ClassName': 'Desc_GeneratorGeoThermal_C',\n  'mDisplayName': '',\n  'mDescription': '',\n  'mAbbreviatedDisplayName': '',\n  'mStackSize': 'SS_MEDIUM',\n  'mCanBeDiscarded': 'True',\n  'mRememberPickUp': 'False',\n  'mEnergyValue': '0.000000',\n  'mRadioactiveDecay': '0.000000',\n  'mForm': 'RF_INVALID',\n  'mSmallIcon': 'Texture2D /Game/FactoryGame/Buildable/Factory/GeneratorGeoThermal/UI/GeoThermalPowerGenerator_256.GeoThermalPowerGenerator_256',\n  'mPersistentBigIcon': 'Texture2D /Game/FactoryGame/Buildable/Factory/GeneratorGeoThermal/UI/GeoThermalPowerGenerator_512.GeoThermalPowerGenerator_512',\n  'mCrosshairMaterial': 'None',\n  'mDescriptorStatBars': '',\n  'mSubCategories': '(BlueprintGeneratedClass\\'\"/Game/FactoryGame/Interface/UI/InGame/BuildMenu/BuildCategories/Sub_Power/SC_Generators.SC_Generators_C\"\\')',\n  'mMenuPriority': '7.000000',\n  'mFluidColor': '(B=0,G=0,R=0,A=0)',\n  'mGasColor': '(B=0,G=0,R=0,A=0)',\n  'mCompatibleItemDescriptors': '',\n  'mClassToScanFor': 'None',\n  'mScannableType': 'RTWOT_Default',\n  'mShouldOverrideScannerDisplayText': 'False',\n  'mScannerDisplayText': '',\n  'mScannerLightColor': '(B=0,G=0,R=0,A=0)'},\n 'Desc_RadarTower_C': {'ClassName': 'Desc_RadarTower_C',\n  'mDisplayName': '',\n  'mDescription': '',\n  'mAbbreviatedDisplayName': '',\n  'mStackSize': 'SS_MEDIUM',\n  'mCanBeDiscarded': 'True',\n  'mRememberPickUp': 'False',\n  'mEnergyValue': '0.000000',\n  'mRadioactiveDecay': '0.000000',\n  'mForm': 'RF_INVALID',\n  'mSmallIcon': 'Texture2D /Game/FactoryGame/Buildable/Factory/RadarTower/UI/RadarTower_256.RadarTower_256',\n  'mPersistentBigIcon': 'Texture2D /Game/FactoryGame/Buildable/Factory/RadarTower/UI/RadarTower_512.RadarTower_512',\n  'mCrosshairMaterial': 'None',\n  'mDescriptorStatBars': '',\n  'mSubCategories': '(BlueprintGeneratedClass\\'\"/Game/FactoryGame/Interface/UI/InGame/BuildMenu/BuildCategories/Sub_Organisation/SC_Towers.SC_Towers_C\"\\')',\n  'mMenuPriority': '60.000000',\n  'mFluidColor': '(B=0,G=0,R=0,A=0)',\n  'mGasColor': '(B=0,G=0,R=0,A=0)',\n  'mCompatibleItemDescriptors': '',\n  'mClassToScanFor': 'None',\n  'mScannableType': 'RTWOT_Default',\n  'mShouldOverrideScannerDisplayText': 'False',\n  'mScannerDisplayText': '',\n  'mScannerLightColor': '(B=0,G=0,R=0,A=0)'},\n 'Desc_CandyCaneDecor_C': {'ClassName': 'Desc_CandyCaneDecor_C',\n  'mDisplayName': '',\n  'mDescription': '',\n  'mAbbreviatedDisplayName': '',\n  'mStackSize': 'SS_MEDIUM',\n  'mCanBeDiscarded': 'True',\n  'mRememberPickUp': 'False',\n  'mEnergyValue': '0.000000',\n  'mRadioactiveDecay': '0.000000',\n  'mForm': 'RF_INVALID',\n  'mSmallIcon': 'Texture2D /Game/FactoryGame/Events/Christmas/Buildings/UI/IconDesc_CandyCaneDecor_256.IconDesc_CandyCaneDecor_256',\n  'mPersistentBigIcon': 'Texture2D /Game/FactoryGame/Events/Christmas/Buildings/UI/IconDesc_CandyCaneDecor_512.IconDesc_CandyCaneDecor_512',\n  'mCrosshairMaterial': 'None',\n  'mDescriptorStatBars': '',\n  'mSubCategories': '(BlueprintGeneratedClass\\'\"/Game/FactoryGame/Interface/UI/InGame/BuildMenu/BuildCategories/Sub_Special/SC_Event.SC_Event_C\"\\')',\n  'mMenuPriority': '1.000000',\n  'mFluidColor': '(B=0,G=0,R=0,A=0)',\n  'mGasColor': '(B=0,G=0,R=0,A=0)',\n  'mCompatibleItemDescriptors': '',\n  'mClassToScanFor': 'None',\n  'mScannableType': 'RTWOT_Default',\n  'mShouldOverrideScannerDisplayText': 'False',\n  'mScannerDisplayText': '',\n  'mScannerLightColor': '(B=0,G=0,R=0,A=0)'},\n 'Desc_Snowman_C': {'ClassName': 'Desc_Snowman_C',\n  'mDisplayName': '',\n  'mDescription': '',\n  'mAbbreviatedDisplayName': '',\n  'mStackSize': 'SS_MEDIUM',\n  'mCanBeDiscarded': 'True',\n  'mRememberPickUp': 'False',\n  'mEnergyValue': '0.000000',\n  'mRadioactiveDecay': '0.000000',\n  'mForm': 'RF_INVALID',\n  'mSmallIcon': 'Texture2D /Game/FactoryGame/Events/Christmas/Buildings/UI/IconDesc_Snowman_256.IconDesc_Snowman_256',\n  'mPersistentBigIcon': 'Texture2D /Game/FactoryGame/Events/Christmas/Buildings/UI/IconDesc_Snowman_512.IconDesc_Snowman_512',\n  'mCrosshairMaterial': 'None',\n  'mDescriptorStatBars': '',\n  'mSubCategories': '(BlueprintGeneratedClass\\'\"/Game/FactoryGame/Interface/UI/InGame/BuildMenu/BuildCategories/Sub_Special/SC_Event.SC_Event_C\"\\')',\n  'mMenuPriority': '2.000000',\n  'mFluidColor': '(B=0,G=0,R=0,A=0)',\n  'mGasColor': '(B=0,G=0,R=0,A=0)',\n  'mCompatibleItemDescriptors': '',\n  'mClassToScanFor': 'None',\n  'mScannableType': 'RTWOT_Default',\n  'mShouldOverrideScannerDisplayText': 'False',\n  'mScannerDisplayText': '',\n  'mScannerLightColor': '(B=0,G=0,R=0,A=0)'},\n 'Desc_TreeGiftProducer_C': {'ClassName': 'Desc_TreeGiftProducer_C',\n  'mDisplayName': '',\n  'mDescription': '',\n  'mAbbreviatedDisplayName': '',\n  'mStackSize': 'SS_MEDIUM',\n  'mCanBeDiscarded': 'True',\n  'mRememberPickUp': 'False',\n  'mEnergyValue': '0.000000',\n  'mRadioactiveDecay': '0.000000',\n  'mForm': 'RF_INVALID',\n  'mSmallIcon': 'Texture2D /Game/FactoryGame/Events/Christmas/Parts/UI/IconDesc_ChristmasTree_256.IconDesc_ChristmasTree_256',\n  'mPersistentBigIcon': 'Texture2D /Game/FactoryGame/Events/Christmas/Parts/UI/IconDesc_ChristmasTree_512.IconDesc_ChristmasTree_512',\n  'mCrosshairMaterial': 'None',\n  'mDescriptorStatBars': '',\n  'mSubCategories': '(BlueprintGeneratedClass\\'\"/Game/FactoryGame/Interface/UI/InGame/BuildMenu/BuildCategories/Sub_Special/SC_Event.SC_Event_C\"\\')',\n  'mMenuPriority': '2.000000',\n  'mFluidColor': '(B=0,G=0,R=0,A=0)',\n  'mGasColor': '(B=0,G=0,R=0,A=0)',\n  'mCompatibleItemDescriptors': '',\n  'mClassToScanFor': 'None',\n  'mScannableType': 'RTWOT_Default',\n  'mShouldOverrideScannerDisplayText': 'False',\n  'mScannerDisplayText': '',\n  'mScannerLightColor': '(B=0,G=0,R=0,A=0)'},\n 'Desc_xmassLights_C': {'ClassName': 'Desc_xmassLights_C',\n  'mDisplayName': '',\n  'mDescription': '',\n  'mAbbreviatedDisplayName': '',\n  'mStackSize': 'SS_MEDIUM',\n  'mCanBeDiscarded': 'True',\n  'mRememberPickUp': 'False',\n  'mEnergyValue': '0.000000',\n  'mRadioactiveDecay': '0.000000',\n  'mForm': 'RF_INVALID',\n  'mSmallIcon': 'Texture2D /Game/FactoryGame/Buildable/Factory/PowerLine/UI/Powerline_256.Powerline_256',\n  'mPersistentBigIcon': 'Texture2D /Game/FactoryGame/Buildable/Factory/PowerLine/UI/Powerline_256.Powerline_256',\n  'mCrosshairMaterial': 'None',\n  'mDescriptorStatBars': '',\n  'mSubCategories': '(BlueprintGeneratedClass\\'\"/Game/FactoryGame/Interface/UI/InGame/BuildMenu/BuildCategories/Sub_Special/SC_Event.SC_Event_C\"\\')',\n  'mMenuPriority': '3.000000',\n  'mFluidColor': '(B=0,G=0,R=0,A=0)',\n  'mGasColor': '(B=0,G=0,R=0,A=0)',\n  'mCompatibleItemDescriptors': '',\n  'mClassToScanFor': 'None',\n  'mScannableType': 'RTWOT_Default',\n  'mShouldOverrideScannerDisplayText': 'False',\n  'mScannerDisplayText': '',\n  'mScannerLightColor': '(B=0,G=0,R=0,A=0)'},\n 'Desc_SnowDispenser_C': {'ClassName': 'Desc_SnowDispenser_C',\n  'mDisplayName': '',\n  'mDescription': '',\n  'mAbbreviatedDisplayName': '',\n  'mStackSize': 'SS_MEDIUM',\n  'mCanBeDiscarded': 'True',\n  'mRememberPickUp': 'False',\n  'mEnergyValue': '0.000000',\n  'mRadioactiveDecay': '0.000000',\n  'mForm': 'RF_INVALID',\n  'mSmallIcon': 'Texture2D /Game/FactoryGame/Events/Christmas/Buildings/UI/IconDesc_SnowDispenser_256.IconDesc_SnowDispenser_256',\n  'mPersistentBigIcon': 'Texture2D /Game/FactoryGame/Events/Christmas/Buildings/UI/IconDesc_SnowDispenser_512.IconDesc_SnowDispenser_512',\n  'mCrosshairMaterial': 'None',\n  'mDescriptorStatBars': '',\n  'mSubCategories': '(BlueprintGeneratedClass\\'\"/Game/FactoryGame/Interface/UI/InGame/BuildMenu/BuildCategories/Sub_Special/SC_Event.SC_Event_C\"\\')',\n  'mMenuPriority': '3.000000',\n  'mFluidColor': '(B=0,G=0,R=0,A=0)',\n  'mGasColor': '(B=0,G=0,R=0,A=0)',\n  'mCompatibleItemDescriptors': '',\n  'mClassToScanFor': 'None',\n  'mScannableType': 'RTWOT_Default',\n  'mShouldOverrideScannerDisplayText': 'False',\n  'mScannerDisplayText': '',\n  'mScannerLightColor': '(B=0,G=0,R=0,A=0)'},\n 'Desc_WreathDecor_C': {'ClassName': 'Desc_WreathDecor_C',\n  'mDisplayName': '',\n  'mDescription': '',\n  'mAbbreviatedDisplayName': '',\n  'mStackSize': 'SS_MEDIUM',\n  'mCanBeDiscarded': 'True',\n  'mRememberPickUp': 'False',\n  'mEnergyValue': '0.000000',\n  'mRadioactiveDecay': '0.000000',\n  'mForm': 'RF_INVALID',\n  'mSmallIcon': 'Texture2D /Game/FactoryGame/Events/Christmas/Parts/UI/IconDesc_WreathNoBow_64.IconDesc_WreathNoBow_64',\n  'mPersistentBigIcon': 'Texture2D /Game/FactoryGame/Events/Christmas/Parts/UI/IconDesc_WreathNoBow_256.IconDesc_WreathNoBow_256',\n  'mCrosshairMaterial': 'None',\n  'mDescriptorStatBars': '',\n  'mSubCategories': '(BlueprintGeneratedClass\\'\"/Game/FactoryGame/Interface/UI/InGame/BuildMenu/BuildCategories/Sub_Special/SC_Event.SC_Event_C\"\\')',\n  'mMenuPriority': '4.000000',\n  'mFluidColor': '(B=0,G=0,R=0,A=0)',\n  'mGasColor': '(B=0,G=0,R=0,A=0)',\n  'mCompatibleItemDescriptors': '',\n  'mClassToScanFor': 'None',\n  'mScannableType': 'RTWOT_Default',\n  'mShouldOverrideScannerDisplayText': 'False',\n  'mScannerDisplayText': '',\n  'mScannerLightColor': '(B=0,G=0,R=0,A=0)'},\n 'Desc_Beam_Connector_C': {'ClassName': 'Desc_Beam_Connector_C',\n  'mDisplayName': '',\n  'mDescription': '',\n  'mAbbreviatedDisplayName': '',\n  'mStackSize': 'SS_MEDIUM',\n  'mCanBeDiscarded': 'True',\n  'mRememberPickUp': 'False',\n  'mEnergyValue': '0.000000',\n  'mRadioactiveDecay': '0.000000',\n  'mForm': 'RF_INVALID',\n  'mSmallIcon': 'Texture2D /Game/FactoryGame/Prototype/Buildable/Beams/UI/IconDesc_BeamConnector_256.IconDesc_BeamConnector_256',\n  'mPersistentBigIcon': 'Texture2D /Game/FactoryGame/Prototype/Buildable/Beams/UI/IconDesc_BeamConnector_512.IconDesc_BeamConnector_512',\n  'mCrosshairMaterial': 'None',\n  'mDescriptorStatBars': '',\n  'mSubCategories': '(BlueprintGeneratedClass\\'\"/Game/FactoryGame/Interface/UI/InGame/BuildMenu/BuildCategories/Sub_Organisation/SC_Beams.SC_Beams_C\"\\')',\n  'mMenuPriority': '3.000000',\n  'mFluidColor': '(B=0,G=0,R=0,A=0)',\n  'mGasColor': '(B=0,G=0,R=0,A=0)',\n  'mCompatibleItemDescriptors': '',\n  'mClassToScanFor': 'None',\n  'mScannableType': 'RTWOT_Default',\n  'mShouldOverrideScannerDisplayText': 'False',\n  'mScannerDisplayText': '',\n  'mScannerLightColor': '(B=0,G=0,R=0,A=0)'},\n 'Desc_Beam_Connector_Double_C': {'ClassName': 'Desc_Beam_Connector_Double_C',\n  'mDisplayName': '',\n  'mDescription': '',\n  'mAbbreviatedDisplayName': '',\n  'mStackSize': 'SS_MEDIUM',\n  'mCanBeDiscarded': 'True',\n  'mRememberPickUp': 'False',\n  'mEnergyValue': '0.000000',\n  'mRadioactiveDecay': '0.000000',\n  'mForm': 'RF_INVALID',\n  'mSmallIcon': 'Texture2D /Game/FactoryGame/Prototype/Buildable/Beams/UI/IconDesc_BeamConnectorDouble_256.IconDesc_BeamConnectorDouble_256',\n  'mPersistentBigIcon': 'Texture2D /Game/FactoryGame/Prototype/Buildable/Beams/UI/IconDesc_BeamConnectorDouble_512.IconDesc_BeamConnectorDouble_512',\n  'mCrosshairMaterial': 'None',\n  'mDescriptorStatBars': '',\n  'mSubCategories': '(BlueprintGeneratedClass\\'\"/Game/FactoryGame/Interface/UI/InGame/BuildMenu/BuildCategories/Sub_Organisation/SC_Beams.SC_Beams_C\"\\')',\n  'mMenuPriority': '4.000000',\n  'mFluidColor': '(B=0,G=0,R=0,A=0)',\n  'mGasColor': '(B=0,G=0,R=0,A=0)',\n  'mCompatibleItemDescriptors': '',\n  'mClassToScanFor': 'None',\n  'mScannableType': 'RTWOT_Default',\n  'mShouldOverrideScannerDisplayText': 'False',\n  'mScannerDisplayText': '',\n  'mScannerLightColor': '(B=0,G=0,R=0,A=0)'},\n 'Desc_Beam_Support_C': {'ClassName': 'Desc_Beam_Support_C',\n  'mDisplayName': '',\n  'mDescription': '',\n  'mAbbreviatedDisplayName': '',\n  'mStackSize': 'SS_MEDIUM',\n  'mCanBeDiscarded': 'True',\n  'mRememberPickUp': 'False',\n  'mEnergyValue': '0.000000',\n  'mRadioactiveDecay': '0.000000',\n  'mForm': 'RF_INVALID',\n  'mSmallIcon': 'Texture2D /Game/FactoryGame/Prototype/Buildable/Beams/UI/IconDesc_BeamSupport_256.IconDesc_BeamSupport_256',\n  'mPersistentBigIcon': 'Texture2D /Game/FactoryGame/Prototype/Buildable/Beams/UI/IconDesc_BeamSupport_512.IconDesc_BeamSupport_512',\n  'mCrosshairMaterial': 'None',\n  'mDescriptorStatBars': '',\n  'mSubCategories': '(BlueprintGeneratedClass\\'\"/Game/FactoryGame/Interface/UI/InGame/BuildMenu/BuildCategories/Sub_Organisation/SC_Beams.SC_Beams_C\"\\')',\n  'mMenuPriority': '5.000000',\n  'mFluidColor': '(B=0,G=0,R=0,A=0)',\n  'mGasColor': '(B=0,G=0,R=0,A=0)',\n  'mCompatibleItemDescriptors': '',\n  'mClassToScanFor': 'None',\n  'mScannableType': 'RTWOT_Default',\n  'mShouldOverrideScannerDisplayText': 'False',\n  'mScannerDisplayText': '',\n  'mScannerLightColor': '(B=0,G=0,R=0,A=0)'},\n 'Desc_StandaloneWidgetSign_Huge_C': {'ClassName': 'Desc_StandaloneWidgetSign_Huge_C',\n  'mDisplayName': '',\n  'mDescription': '',\n  'mAbbreviatedDisplayName': '',\n  'mStackSize': 'SS_MEDIUM',\n  'mCanBeDiscarded': 'True',\n  'mRememberPickUp': 'False',\n  'mEnergyValue': '0.000000',\n  'mRadioactiveDecay': '0.000000',\n  'mForm': 'RF_INVALID',\n  'mSmallIcon': 'Texture2D /Game/FactoryGame/Buildable/Factory/StandaloneSign/UI/IconDesc_SignHuge_256.IconDesc_SignHuge_256',\n  'mPersistentBigIcon': 'Texture2D /Game/FactoryGame/Buildable/Factory/StandaloneSign/UI/IconDesc_SignHuge_512.IconDesc_SignHuge_512',\n  'mCrosshairMaterial': 'None',\n  'mDescriptorStatBars': '',\n  'mSubCategories': '(BlueprintGeneratedClass\\'\"/Game/FactoryGame/Interface/UI/InGame/BuildMenu/BuildCategories/Sub_Organisation/SC_Signs.SC_Signs_C\"\\')',\n  'mMenuPriority': '10.000000',\n  'mFluidColor': '(B=0,G=0,R=0,A=0)',\n  'mGasColor': '(B=0,G=0,R=0,A=0)',\n  'mCompatibleItemDescriptors': '',\n  'mClassToScanFor': 'None',\n  'mScannableType': 'RTWOT_Default',\n  'mShouldOverrideScannerDisplayText': 'False',\n  'mScannerDisplayText': '',\n  'mScannerLightColor': '(B=0,G=0,R=0,A=0)'},\n 'Desc_StandaloneWidgetSign_Large_C': {'ClassName': 'Desc_StandaloneWidgetSign_Large_C',\n  'mDisplayName': '',\n  'mDescription': '',\n  'mAbbreviatedDisplayName': '',\n  'mStackSize': 'SS_MEDIUM',\n  'mCanBeDiscarded': 'True',\n  'mRememberPickUp': 'False',\n  'mEnergyValue': '0.000000',\n  'mRadioactiveDecay': '0.000000',\n  'mForm': 'RF_INVALID',\n  'mSmallIcon': 'Texture2D /Game/FactoryGame/Buildable/Factory/StandaloneSign/UI/IconDesc_SignLarge_256.IconDesc_SignLarge_256',\n  'mPersistentBigIcon': 'Texture2D /Game/FactoryGame/Buildable/Factory/StandaloneSign/UI/IconDesc_SignLarge_512.IconDesc_SignLarge_512',\n  'mCrosshairMaterial': 'None',\n  'mDescriptorStatBars': '',\n  'mSubCategories': '(BlueprintGeneratedClass\\'\"/Game/FactoryGame/Interface/UI/InGame/BuildMenu/BuildCategories/Sub_Organisation/SC_Signs.SC_Signs_C\"\\')',\n  'mMenuPriority': '9.000000',\n  'mFluidColor': '(B=0,G=0,R=0,A=0)',\n  'mGasColor': '(B=0,G=0,R=0,A=0)',\n  'mCompatibleItemDescriptors': '',\n  'mClassToScanFor': 'None',\n  'mScannableType': 'RTWOT_Default',\n  'mShouldOverrideScannerDisplayText': 'False',\n  'mScannerDisplayText': '',\n  'mScannerLightColor': '(B=0,G=0,R=0,A=0)'},\n 'Desc_CatwalkCross_C': {'ClassName': 'Desc_CatwalkCross_C',\n  'mDisplayName': '',\n  'mDescription': '',\n  'mAbbreviatedDisplayName': '',\n  'mStackSize': 'SS_MEDIUM',\n  'mCanBeDiscarded': 'True',\n  'mRememberPickUp': 'False',\n  'mEnergyValue': '0.000000',\n  'mRadioactiveDecay': '0.000000',\n  'mForm': 'RF_INVALID',\n  'mSmallIcon': 'Texture2D /Game/FactoryGame/Buildable/Building/Catwalk/UI/IconDesc_CatwalkCross_256.IconDesc_CatwalkCross_256',\n  'mPersistentBigIcon': 'Texture2D /Game/FactoryGame/Buildable/Building/Catwalk/UI/IconDesc_CatwalkCross_512.IconDesc_CatwalkCross_512',\n  'mCrosshairMaterial': 'None',\n  'mDescriptorStatBars': '',\n  'mSubCategories': '(BlueprintGeneratedClass\\'\"/Game/FactoryGame/Interface/UI/InGame/BuildMenu/BuildCategories/Sub_Organisation/SC_Catwalks.SC_Catwalks_C\"\\')',\n  'mMenuPriority': '4.000000',\n  'mFluidColor': '(B=0,G=0,R=0,A=0)',\n  'mGasColor': '(B=0,G=0,R=0,A=0)',\n  'mCompatibleItemDescriptors': '',\n  'mClassToScanFor': 'None',\n  'mScannableType': 'RTWOT_Default',\n  'mShouldOverrideScannerDisplayText': 'False',\n  'mScannerDisplayText': '',\n  'mScannerLightColor': '(B=0,G=0,R=0,A=0)'},\n 'Desc_CatwalkRamp_C': {'ClassName': 'Desc_CatwalkRamp_C',\n  'mDisplayName': '',\n  'mDescription': '',\n  'mAbbreviatedDisplayName': '',\n  'mStackSize': 'SS_MEDIUM',\n  'mCanBeDiscarded': 'True',\n  'mRememberPickUp': 'False',\n  'mEnergyValue': '0.000000',\n  'mRadioactiveDecay': '0.000000',\n  'mForm': 'RF_INVALID',\n  'mSmallIcon': 'Texture2D /Game/FactoryGame/Buildable/Building/Catwalk/UI/IconDesc_CatwalkRamp_256.IconDesc_CatwalkRamp_256',\n  'mPersistentBigIcon': 'Texture2D /Game/FactoryGame/Buildable/Building/Catwalk/UI/IconDesc_CatwalkRamp_512.IconDesc_CatwalkRamp_512',\n  'mCrosshairMaterial': 'None',\n  'mDescriptorStatBars': '',\n  'mSubCategories': '(BlueprintGeneratedClass\\'\"/Game/FactoryGame/Interface/UI/InGame/BuildMenu/BuildCategories/Sub_Organisation/SC_Catwalks.SC_Catwalks_C\"\\')',\n  'mMenuPriority': '5.000000',\n  'mFluidColor': '(B=0,G=0,R=0,A=0)',\n  'mGasColor': '(B=0,G=0,R=0,A=0)',\n  'mCompatibleItemDescriptors': '',\n  'mClassToScanFor': 'None',\n  'mScannableType': 'RTWOT_Default',\n  'mShouldOverrideScannerDisplayText': 'False',\n  'mScannerDisplayText': '',\n  'mScannerLightColor': '(B=0,G=0,R=0,A=0)'},\n 'Desc_CatwalkStairs_C': {'ClassName': 'Desc_CatwalkStairs_C',\n  'mDisplayName': '',\n  'mDescription': '',\n  'mAbbreviatedDisplayName': '',\n  'mStackSize': 'SS_MEDIUM',\n  'mCanBeDiscarded': 'True',\n  'mRememberPickUp': 'False',\n  'mEnergyValue': '0.000000',\n  'mRadioactiveDecay': '0.000000',\n  'mForm': 'RF_INVALID',\n  'mSmallIcon': 'Texture2D /Game/FactoryGame/Buildable/Building/Catwalk/UI/IconDesc_CatwalkStairs_256.IconDesc_CatwalkStairs_256',\n  'mPersistentBigIcon': 'Texture2D /Game/FactoryGame/Buildable/Building/Catwalk/UI/IconDesc_CatwalkStairs_512.IconDesc_CatwalkStairs_512',\n  'mCrosshairMaterial': 'None',\n  'mDescriptorStatBars': '',\n  'mSubCategories': '(BlueprintGeneratedClass\\'\"/Game/FactoryGame/Interface/UI/InGame/BuildMenu/BuildCategories/Sub_Organisation/SC_Catwalks.SC_Catwalks_C\"\\')',\n  'mMenuPriority': '6.000000',\n  'mFluidColor': '(B=0,G=0,R=0,A=0)',\n  'mGasColor': '(B=0,G=0,R=0,A=0)',\n  'mCompatibleItemDescriptors': '',\n  'mClassToScanFor': 'None',\n  'mScannableType': 'RTWOT_Default',\n  'mShouldOverrideScannerDisplayText': 'False',\n  'mScannerDisplayText': '',\n  'mScannerLightColor': '(B=0,G=0,R=0,A=0)'},\n 'Desc_CatwalkStraight_C': {'ClassName': 'Desc_CatwalkStraight_C',\n  'mDisplayName': '',\n  'mDescription': '',\n  'mAbbreviatedDisplayName': '',\n  'mStackSize': 'SS_MEDIUM',\n  'mCanBeDiscarded': 'True',\n  'mRememberPickUp': 'False',\n  'mEnergyValue': '0.000000',\n  'mRadioactiveDecay': '0.000000',\n  'mForm': 'RF_INVALID',\n  'mSmallIcon': 'Texture2D /Game/FactoryGame/Buildable/Building/Catwalk/UI/IconDesc_CatwalkStraight_256.IconDesc_CatwalkStraight_256',\n  'mPersistentBigIcon': 'Texture2D /Game/FactoryGame/Buildable/Building/Catwalk/UI/IconDesc_CatwalkStraight_512.IconDesc_CatwalkStraight_512',\n  'mCrosshairMaterial': 'None',\n  'mDescriptorStatBars': '',\n  'mSubCategories': '(BlueprintGeneratedClass\\'\"/Game/FactoryGame/Interface/UI/InGame/BuildMenu/BuildCategories/Sub_Organisation/SC_Catwalks.SC_Catwalks_C\"\\')',\n  'mMenuPriority': '1.000000',\n  'mFluidColor': '(B=0,G=0,R=0,A=0)',\n  'mGasColor': '(B=0,G=0,R=0,A=0)',\n  'mCompatibleItemDescriptors': '',\n  'mClassToScanFor': 'None',\n  'mScannableType': 'RTWOT_Default',\n  'mShouldOverrideScannerDisplayText': 'False',\n  'mScannerDisplayText': '',\n  'mScannerLightColor': '(B=0,G=0,R=0,A=0)'},\n 'Desc_CatwalkT_C': {'ClassName': 'Desc_CatwalkT_C',\n  'mDisplayName': '',\n  'mDescription': '',\n  'mAbbreviatedDisplayName': '',\n  'mStackSize': 'SS_MEDIUM',\n  'mCanBeDiscarded': 'True',\n  'mRememberPickUp': 'False',\n  'mEnergyValue': '0.000000',\n  'mRadioactiveDecay': '0.000000',\n  'mForm': 'RF_INVALID',\n  'mSmallIcon': 'Texture2D /Game/FactoryGame/Buildable/Building/Catwalk/UI/IconDesc_CatwalkT_256.IconDesc_CatwalkT_256',\n  'mPersistentBigIcon': 'Texture2D /Game/FactoryGame/Buildable/Building/Catwalk/UI/IconDesc_CatwalkT_512.IconDesc_CatwalkT_512',\n  'mCrosshairMaterial': 'None',\n  'mDescriptorStatBars': '',\n  'mSubCategories': '(BlueprintGeneratedClass\\'\"/Game/FactoryGame/Interface/UI/InGame/BuildMenu/BuildCategories/Sub_Organisation/SC_Catwalks.SC_Catwalks_C\"\\')',\n  'mMenuPriority': '3.000000',\n  'mFluidColor': '(B=0,G=0,R=0,A=0)',\n  'mGasColor': '(B=0,G=0,R=0,A=0)',\n  'mCompatibleItemDescriptors': '',\n  'mClassToScanFor': 'None',\n  'mScannableType': 'RTWOT_Default',\n  'mShouldOverrideScannerDisplayText': 'False',\n  'mScannerDisplayText': '',\n  'mScannerLightColor': '(B=0,G=0,R=0,A=0)'},\n 'Desc_CatwalkTurn_C': {'ClassName': 'Desc_CatwalkTurn_C',\n  'mDisplayName': '',\n  'mDescription': '',\n  'mAbbreviatedDisplayName': '',\n  'mStackSize': 'SS_MEDIUM',\n  'mCanBeDiscarded': 'True',\n  'mRememberPickUp': 'False',\n  'mEnergyValue': '0.000000',\n  'mRadioactiveDecay': '0.000000',\n  'mForm': 'RF_INVALID',\n  'mSmallIcon': 'Texture2D /Game/FactoryGame/Buildable/Building/Catwalk/UI/IconDesc_CatwalkTurn_256.IconDesc_CatwalkTurn_256',\n  'mPersistentBigIcon': 'Texture2D /Game/FactoryGame/Buildable/Building/Catwalk/UI/IconDesc_CatwalkTurn_512.IconDesc_CatwalkTurn_512',\n  'mCrosshairMaterial': 'None',\n  'mDescriptorStatBars': '',\n  'mSubCategories': '(BlueprintGeneratedClass\\'\"/Game/FactoryGame/Interface/UI/InGame/BuildMenu/BuildCategories/Sub_Organisation/SC_Catwalks.SC_Catwalks_C\"\\')',\n  'mMenuPriority': '2.000000',\n  'mFluidColor': '(B=0,G=0,R=0,A=0)',\n  'mGasColor': '(B=0,G=0,R=0,A=0)',\n  'mCompatibleItemDescriptors': '',\n  'mClassToScanFor': 'None',\n  'mScannableType': 'RTWOT_Default',\n  'mShouldOverrideScannerDisplayText': 'False',\n  'mScannerDisplayText': '',\n  'mScannerLightColor': '(B=0,G=0,R=0,A=0)'},\n 'Desc_CeilingLight_C': {'ClassName': 'Desc_CeilingLight_C',\n  'mDisplayName': '',\n  'mDescription': '',\n  'mAbbreviatedDisplayName': '',\n  'mStackSize': 'SS_MEDIUM',\n  'mCanBeDiscarded': 'True',\n  'mRememberPickUp': 'False',\n  'mEnergyValue': '0.000000',\n  'mRadioactiveDecay': '0.000000',\n  'mForm': 'RF_INVALID',\n  'mSmallIcon': 'Texture2D /Game/FactoryGame/Buildable/Factory/CeilingLight/UI/IconDesc_CeilingLight_256.IconDesc_CeilingLight_256',\n  'mPersistentBigIcon': 'Texture2D /Game/FactoryGame/Buildable/Factory/CeilingLight/UI/IconDesc_CeilingLight_512.IconDesc_CeilingLight_512',\n  'mCrosshairMaterial': 'None',\n  'mDescriptorStatBars': '',\n  'mSubCategories': '(BlueprintGeneratedClass\\'\"/Game/FactoryGame/Interface/UI/InGame/BuildMenu/BuildCategories/Sub_Organisation/SC_Lights.SC_Lights_C\"\\')',\n  'mMenuPriority': '2.000000',\n  'mFluidColor': '(B=0,G=0,R=0,A=0)',\n  'mGasColor': '(B=0,G=0,R=0,A=0)',\n  'mCompatibleItemDescriptors': '',\n  'mClassToScanFor': 'None',\n  'mScannableType': 'RTWOT_Default',\n  'mShouldOverrideScannerDisplayText': 'False',\n  'mScannerDisplayText': '',\n  'mScannerLightColor': '(B=0,G=0,R=0,A=0)'},\n 'Desc_Flat_Frame_01_C': {'ClassName': 'Desc_Flat_Frame_01_C',\n  'mDisplayName': '',\n  'mDescription': '',\n  'mAbbreviatedDisplayName': '',\n  'mStackSize': 'SS_MEDIUM',\n  'mCanBeDiscarded': 'True',\n  'mRememberPickUp': 'False',\n  'mEnergyValue': '0.000000',\n  'mRadioactiveDecay': '0.000000',\n  'mForm': 'RF_INVALID',\n  'mSmallIcon': 'Texture2D /Game/FactoryGame/Buildable/Building/Foundation/UI/U5/IconDesc_FlatFrame_256.IconDesc_FlatFrame_256',\n  'mPersistentBigIcon': 'Texture2D /Game/FactoryGame/Buildable/Building/Foundation/UI/U5/IconDesc_FlatFrame_512.IconDesc_FlatFrame_512',\n  'mCrosshairMaterial': 'None',\n  'mDescriptorStatBars': '',\n  'mSubCategories': '(BlueprintGeneratedClass\\'\"/Game/FactoryGame/Interface/UI/InGame/BuildMenu/BuildCategories/Sub_Organisation/SC_Frames.SC_Frames_C\"\\')',\n  'mMenuPriority': '0.000000',\n  'mFluidColor': '(B=0,G=0,R=0,A=0)',\n  'mGasColor': '(B=0,G=0,R=0,A=0)',\n  'mCompatibleItemDescriptors': '',\n  'mClassToScanFor': 'None',\n  'mScannableType': 'RTWOT_Default',\n  'mShouldOverrideScannerDisplayText': 'False',\n  'mScannerDisplayText': '',\n  'mScannerLightColor': '(B=0,G=0,R=0,A=0)'},\n 'Desc_Foundation_Frame_01_C': {'ClassName': 'Desc_Foundation_Frame_01_C',\n  'mDisplayName': '',\n  'mDescription': '',\n  'mAbbreviatedDisplayName': '',\n  'mStackSize': 'SS_MEDIUM',\n  'mCanBeDiscarded': 'True',\n  'mRememberPickUp': 'False',\n  'mEnergyValue': '0.000000',\n  'mRadioactiveDecay': '0.000000',\n  'mForm': 'RF_INVALID',\n  'mSmallIcon': 'Texture2D /Game/FactoryGame/Buildable/Building/Foundation/UI/U5/IconDesc_FoundationFrame_256.IconDesc_FoundationFrame_256',\n  'mPersistentBigIcon': 'Texture2D /Game/FactoryGame/Buildable/Building/Foundation/UI/U5/IconDesc_FoundationFrame_512.IconDesc_FoundationFrame_512',\n  'mCrosshairMaterial': 'None',\n  'mDescriptorStatBars': '',\n  'mSubCategories': '(BlueprintGeneratedClass\\'\"/Game/FactoryGame/Interface/UI/InGame/BuildMenu/BuildCategories/Sub_Organisation/SC_Frames.SC_Frames_C\"\\')',\n  'mMenuPriority': '2.000000',\n  'mFluidColor': '(B=0,G=0,R=0,A=0)',\n  'mGasColor': '(B=0,G=0,R=0,A=0)',\n  'mCompatibleItemDescriptors': '',\n  'mClassToScanFor': 'None',\n  'mScannableType': 'RTWOT_Default',\n  'mShouldOverrideScannerDisplayText': 'False',\n  'mScannerDisplayText': '',\n  'mScannerLightColor': '(B=0,G=0,R=0,A=0)'},\n 'Desc_FoundationGlass_01_C': {'ClassName': 'Desc_FoundationGlass_01_C',\n  'mDisplayName': '',\n  'mDescription': '',\n  'mAbbreviatedDisplayName': '',\n  'mStackSize': 'SS_MEDIUM',\n  'mCanBeDiscarded': 'True',\n  'mRememberPickUp': 'False',\n  'mEnergyValue': '0.000000',\n  'mRadioactiveDecay': '0.000000',\n  'mForm': 'RF_INVALID',\n  'mSmallIcon': 'Texture2D /Game/FactoryGame/Buildable/Building/Foundation/UI/Foundation_Glass_256.Foundation_Glass_256',\n  'mPersistentBigIcon': 'Texture2D /Game/FactoryGame/Buildable/Building/Foundation/UI/Foundation_Glass_512.Foundation_Glass_512',\n  'mCrosshairMaterial': 'None',\n  'mDescriptorStatBars': '',\n  'mSubCategories': '(BlueprintGeneratedClass\\'\"/Game/FactoryGame/Interface/UI/InGame/BuildMenu/BuildCategories/Sub_Organisation/SC_Frames.SC_Frames_C\"\\')',\n  'mMenuPriority': '1.000000',\n  'mFluidColor': '(B=0,G=0,R=0,A=0)',\n  'mGasColor': '(B=0,G=0,R=0,A=0)',\n  'mCompatibleItemDescriptors': '',\n  'mClassToScanFor': 'None',\n  'mScannableType': 'RTWOT_Default',\n  'mShouldOverrideScannerDisplayText': 'False',\n  'mScannerDisplayText': '',\n  'mScannerLightColor': '(B=0,G=0,R=0,A=0)'},\n 'Desc_Ramp_Frame_01_C': {'ClassName': 'Desc_Ramp_Frame_01_C',\n  'mDisplayName': '',\n  'mDescription': '',\n  'mAbbreviatedDisplayName': '',\n  'mStackSize': 'SS_MEDIUM',\n  'mCanBeDiscarded': 'True',\n  'mRememberPickUp': 'False',\n  'mEnergyValue': '0.000000',\n  'mRadioactiveDecay': '0.000000',\n  'mForm': 'RF_INVALID',\n  'mSmallIcon': 'Texture2D /Game/FactoryGame/Buildable/Building/Foundation/UI/U5/IconDesc_RampFrame_256.IconDesc_RampFrame_256',\n  'mPersistentBigIcon': 'Texture2D /Game/FactoryGame/Buildable/Building/Foundation/UI/U5/IconDesc_RampFrame_512.IconDesc_RampFrame_512',\n  'mCrosshairMaterial': 'None',\n  'mDescriptorStatBars': '',\n  'mSubCategories': '(BlueprintGeneratedClass\\'\"/Game/FactoryGame/Interface/UI/InGame/BuildMenu/BuildCategories/Sub_Organisation/SC_Frames.SC_Frames_C\"\\')',\n  'mMenuPriority': '4.000000',\n  'mFluidColor': '(B=0,G=0,R=0,A=0)',\n  'mGasColor': '(B=0,G=0,R=0,A=0)',\n  'mCompatibleItemDescriptors': '',\n  'mClassToScanFor': 'None',\n  'mScannableType': 'RTWOT_Default',\n  'mShouldOverrideScannerDisplayText': 'False',\n  'mScannerDisplayText': '',\n  'mScannerLightColor': '(B=0,G=0,R=0,A=0)'},\n 'Desc_Ramp_Frame_Inverted_01_C': {'ClassName': 'Desc_Ramp_Frame_Inverted_01_C',\n  'mDisplayName': '',\n  'mDescription': '',\n  'mAbbreviatedDisplayName': '',\n  'mStackSize': 'SS_MEDIUM',\n  'mCanBeDiscarded': 'True',\n  'mRememberPickUp': 'False',\n  'mEnergyValue': '0.000000',\n  'mRadioactiveDecay': '0.000000',\n  'mForm': 'RF_INVALID',\n  'mSmallIcon': 'Texture2D /Game/FactoryGame/Buildable/Building/Foundation/UI/U5/IconDesc_RampFrameInverted_256.IconDesc_RampFrameInverted_256',\n  'mPersistentBigIcon': 'Texture2D /Game/FactoryGame/Buildable/Building/Foundation/UI/U5/IconDesc_RampFrameInverted_512.IconDesc_RampFrameInverted_512',\n  'mCrosshairMaterial': 'None',\n  'mDescriptorStatBars': '',\n  'mSubCategories': '(BlueprintGeneratedClass\\'\"/Game/FactoryGame/Interface/UI/InGame/BuildMenu/BuildCategories/Sub_Organisation/SC_Frames.SC_Frames_C\"\\')',\n  'mMenuPriority': '5.000000',\n  'mFluidColor': '(B=0,G=0,R=0,A=0)',\n  'mGasColor': '(B=0,G=0,R=0,A=0)',\n  'mCompatibleItemDescriptors': '',\n  'mClassToScanFor': 'None',\n  'mScannableType': 'RTWOT_Default',\n  'mShouldOverrideScannerDisplayText': 'False',\n  'mScannerDisplayText': '',\n  'mScannerLightColor': '(B=0,G=0,R=0,A=0)'},\n 'Desc_Wall_Frame_01_C': {'ClassName': 'Desc_Wall_Frame_01_C',\n  'mDisplayName': '',\n  'mDescription': '',\n  'mAbbreviatedDisplayName': '',\n  'mStackSize': 'SS_MEDIUM',\n  'mCanBeDiscarded': 'True',\n  'mRememberPickUp': 'False',\n  'mEnergyValue': '0.000000',\n  'mRadioactiveDecay': '0.000000',\n  'mForm': 'RF_INVALID',\n  'mSmallIcon': 'Texture2D /Game/FactoryGame/Buildable/Building/Foundation/UI/U5/IconDesc_WallFrame_256.IconDesc_WallFrame_256',\n  'mPersistentBigIcon': 'Texture2D /Game/FactoryGame/Buildable/Building/Foundation/UI/U5/IconDesc_WallFrame_512.IconDesc_WallFrame_512',\n  'mCrosshairMaterial': 'None',\n  'mDescriptorStatBars': '',\n  'mSubCategories': '(BlueprintGeneratedClass\\'\"/Game/FactoryGame/Interface/UI/InGame/BuildMenu/BuildCategories/Sub_Organisation/SC_Frames.SC_Frames_C\"\\')',\n  'mMenuPriority': '7.000000',\n  'mFluidColor': '(B=0,G=0,R=0,A=0)',\n  'mGasColor': '(B=0,G=0,R=0,A=0)',\n  'mCompatibleItemDescriptors': '',\n  'mClassToScanFor': 'None',\n  'mScannableType': 'RTWOT_Default',\n  'mShouldOverrideScannerDisplayText': 'False',\n  'mScannerDisplayText': '',\n  'mScannerLightColor': '(B=0,G=0,R=0,A=0)'},\n 'Desc_Railing_01_C': {'ClassName': 'Desc_Railing_01_C',\n  'mDisplayName': '',\n  'mDescription': '',\n  'mAbbreviatedDisplayName': '',\n  'mStackSize': 'SS_MEDIUM',\n  'mCanBeDiscarded': 'True',\n  'mRememberPickUp': 'False',\n  'mEnergyValue': '0.000000',\n  'mRadioactiveDecay': '0.000000',\n  'mForm': 'RF_INVALID',\n  'mSmallIcon': 'Texture2D /Game/FactoryGame/Buildable/Building/Fence/UI/IconDesc_Railing_256.IconDesc_Railing_256',\n  'mPersistentBigIcon': 'Texture2D /Game/FactoryGame/Buildable/Building/Fence/UI/IconDesc_Railing_512.IconDesc_Railing_512',\n  'mCrosshairMaterial': 'None',\n  'mDescriptorStatBars': '',\n  'mSubCategories': '(BlueprintGeneratedClass\\'\"/Game/FactoryGame/Interface/UI/InGame/BuildMenu/BuildCategories/Sub_Organisation/SC_Attach.SC_Attach_C\"\\')',\n  'mMenuPriority': '1.000000',\n  'mFluidColor': '(B=0,G=0,R=0,A=0)',\n  'mGasColor': '(B=0,G=0,R=0,A=0)',\n  'mCompatibleItemDescriptors': '',\n  'mClassToScanFor': 'None',\n  'mScannableType': 'RTWOT_Default',\n  'mShouldOverrideScannerDisplayText': 'False',\n  'mScannerDisplayText': '',\n  'mScannerLightColor': '(B=0,G=0,R=0,A=0)'},\n 'Desc_Pillar_Small_Metal_C': {'ClassName': 'Desc_Pillar_Small_Metal_C',\n  'mDisplayName': '',\n  'mDescription': '',\n  'mAbbreviatedDisplayName': '',\n  'mStackSize': 'SS_MEDIUM',\n  'mCanBeDiscarded': 'True',\n  'mRememberPickUp': 'False',\n  'mEnergyValue': '0.000000',\n  'mRadioactiveDecay': '0.000000',\n  'mForm': 'RF_INVALID',\n  'mSmallIcon': 'Texture2D /Game/FactoryGame/Buildable/Building/Pillars/UI/IconDesc_PillarMetalSmall_256.IconDesc_PillarMetalSmall_256',\n  'mPersistentBigIcon': 'Texture2D /Game/FactoryGame/Buildable/Building/Pillars/UI/IconDesc_PillarMetalSmall_512.IconDesc_PillarMetalSmall_512',\n  'mCrosshairMaterial': 'None',\n  'mDescriptorStatBars': '',\n  'mSubCategories': '(BlueprintGeneratedClass\\'\"/Game/FactoryGame/Interface/UI/InGame/BuildMenu/BuildCategories/Sub_Organisation/SC_Pillars.SC_Pillars_C\"\\')',\n  'mMenuPriority': '12.000000',\n  'mFluidColor': '(B=0,G=0,R=0,A=0)',\n  'mGasColor': '(B=0,G=0,R=0,A=0)',\n  'mCompatibleItemDescriptors': '',\n  'mClassToScanFor': 'None',\n  'mScannableType': 'RTWOT_Default',\n  'mShouldOverrideScannerDisplayText': 'False',\n  'mScannerDisplayText': '',\n  'mScannerLightColor': '(B=0,G=0,R=0,A=0)'},\n 'Desc_PillarBase_Small_C': {'ClassName': 'Desc_PillarBase_Small_C',\n  'mDisplayName': '',\n  'mDescription': '',\n  'mAbbreviatedDisplayName': '',\n  'mStackSize': 'SS_MEDIUM',\n  'mCanBeDiscarded': 'True',\n  'mRememberPickUp': 'False',\n  'mEnergyValue': '0.000000',\n  'mRadioactiveDecay': '0.000000',\n  'mForm': 'RF_INVALID',\n  'mSmallIcon': 'Texture2D /Game/FactoryGame/Buildable/Building/Pillars/UI/IconDesc_PillarBaseSmall_256.IconDesc_PillarBaseSmall_256',\n  'mPersistentBigIcon': 'Texture2D /Game/FactoryGame/Buildable/Building/Pillars/UI/IconDesc_PillarBaseSmall_512.IconDesc_PillarBaseSmall_512',\n  'mCrosshairMaterial': 'None',\n  'mDescriptorStatBars': '',\n  'mSubCategories': '(BlueprintGeneratedClass\\'\"/Game/FactoryGame/Interface/UI/InGame/BuildMenu/BuildCategories/Sub_Organisation/SC_Pillars.SC_Pillars_C\"\\')',\n  'mMenuPriority': '10.000000',\n  'mFluidColor': '(B=0,G=0,R=0,A=0)',\n  'mGasColor': '(B=0,G=0,R=0,A=0)',\n  'mCompatibleItemDescriptors': '',\n  'mClassToScanFor': 'None',\n  'mScannableType': 'RTWOT_Default',\n  'mShouldOverrideScannerDisplayText': 'False',\n  'mScannerDisplayText': '',\n  'mScannerLightColor': '(B=0,G=0,R=0,A=0)'},\n 'Desc_PillarBase_C': {'ClassName': 'Desc_PillarBase_C',\n  'mDisplayName': '',\n  'mDescription': '',\n  'mAbbreviatedDisplayName': '',\n  'mStackSize': 'SS_MEDIUM',\n  'mCanBeDiscarded': 'True',\n  'mRememberPickUp': 'False',\n  'mEnergyValue': '0.000000',\n  'mRadioactiveDecay': '0.000000',\n  'mForm': 'RF_INVALID',\n  'mSmallIcon': 'Texture2D /Game/FactoryGame/Buildable/Building/Pillars/UI/Pillar_Bottom_256.Pillar_Bottom_256',\n  'mPersistentBigIcon': 'Texture2D /Game/FactoryGame/Buildable/Building/Pillars/UI/Pillar_Bottom_512.Pillar_Bottom_512',\n  'mCrosshairMaterial': 'None',\n  'mDescriptorStatBars': '',\n  'mSubCategories': '(BlueprintGeneratedClass\\'\"/Game/FactoryGame/Interface/UI/InGame/BuildMenu/BuildCategories/Sub_Organisation/SC_Pillars.SC_Pillars_C\"\\')',\n  'mMenuPriority': '0.000000',\n  'mFluidColor': '(B=0,G=0,R=0,A=0)',\n  'mGasColor': '(B=0,G=0,R=0,A=0)',\n  'mCompatibleItemDescriptors': '',\n  'mClassToScanFor': 'None',\n  'mScannableType': 'RTWOT_Default',\n  'mShouldOverrideScannerDisplayText': 'False',\n  'mScannerDisplayText': '',\n  'mScannerLightColor': '(B=0,G=0,R=0,A=0)'},\n 'Desc_PillarMiddle_C': {'ClassName': 'Desc_PillarMiddle_C',\n  'mDisplayName': '',\n  'mDescription': '',\n  'mAbbreviatedDisplayName': '',\n  'mStackSize': 'SS_MEDIUM',\n  'mCanBeDiscarded': 'True',\n  'mRememberPickUp': 'False',\n  'mEnergyValue': '0.000000',\n  'mRadioactiveDecay': '0.000000',\n  'mForm': 'RF_INVALID',\n  'mSmallIcon': 'Texture2D /Game/FactoryGame/Buildable/Building/Pillars/UI/Pillar_Middle_256.Pillar_Middle_256',\n  'mPersistentBigIcon': 'Texture2D /Game/FactoryGame/Buildable/Building/Pillars/UI/Pillar_Middle_512.Pillar_Middle_512',\n  'mCrosshairMaterial': 'None',\n  'mDescriptorStatBars': '',\n  'mSubCategories': '(BlueprintGeneratedClass\\'\"/Game/FactoryGame/Interface/UI/InGame/BuildMenu/BuildCategories/Sub_Organisation/SC_Pillars.SC_Pillars_C\"\\')',\n  'mMenuPriority': '2.000000',\n  'mFluidColor': '(B=0,G=0,R=0,A=0)',\n  'mGasColor': '(B=0,G=0,R=0,A=0)',\n  'mCompatibleItemDescriptors': '',\n  'mClassToScanFor': 'None',\n  'mScannableType': 'RTWOT_Default',\n  'mShouldOverrideScannerDisplayText': 'False',\n  'mScannerDisplayText': '',\n  'mScannerLightColor': '(B=0,G=0,R=0,A=0)'},\n 'Desc_Ladder_C': {'ClassName': 'Desc_Ladder_C',\n  'mDisplayName': '',\n  'mDescription': '',\n  'mAbbreviatedDisplayName': '',\n  'mStackSize': 'SS_MEDIUM',\n  'mCanBeDiscarded': 'True',\n  'mRememberPickUp': 'False',\n  'mEnergyValue': '0.000000',\n  'mRadioactiveDecay': '0.000000',\n  'mForm': 'RF_INVALID',\n  'mSmallIcon': 'Texture2D /Game/FactoryGame/Buildable/Building/Ladder/UI/IconDesc_Ladder_256.IconDesc_Ladder_256',\n  'mPersistentBigIcon': 'Texture2D /Game/FactoryGame/Buildable/Building/Ladder/UI/IconDesc_Ladder_512.IconDesc_Ladder_512',\n  'mCrosshairMaterial': 'None',\n  'mDescriptorStatBars': '',\n  'mSubCategories': '(BlueprintGeneratedClass\\'\"/Game/FactoryGame/Interface/UI/InGame/BuildMenu/BuildCategories/Sub_Organisation/SC_Attach.SC_Attach_C\"\\')',\n  'mMenuPriority': '8.000000',\n  'mFluidColor': '(B=0,G=0,R=0,A=0)',\n  'mGasColor': '(B=0,G=0,R=0,A=0)',\n  'mCompatibleItemDescriptors': '',\n  'mClassToScanFor': 'None',\n  'mScannableType': 'RTWOT_Default',\n  'mShouldOverrideScannerDisplayText': 'False',\n  'mScannerDisplayText': '',\n  'mScannerLightColor': '(B=0,G=0,R=0,A=0)'},\n 'Desc_Stairs_Left_01_C': {'ClassName': 'Desc_Stairs_Left_01_C',\n  'mDisplayName': '',\n  'mDescription': '',\n  'mAbbreviatedDisplayName': '',\n  'mStackSize': 'SS_MEDIUM',\n  'mCanBeDiscarded': 'True',\n  'mRememberPickUp': 'False',\n  'mEnergyValue': '0.000000',\n  'mRadioactiveDecay': '0.000000',\n  'mForm': 'RF_INVALID',\n  'mSmallIcon': 'Texture2D /Game/FactoryGame/Buildable/Building/Stair/UI/StairLeft_256.StairLeft_256',\n  'mPersistentBigIcon': 'Texture2D /Game/FactoryGame/Buildable/Building/Stair/UI/StairLeft_512.StairLeft_512',\n  'mCrosshairMaterial': 'None',\n  'mDescriptorStatBars': '',\n  'mSubCategories': '(BlueprintGeneratedClass\\'\"/Game/FactoryGame/Interface/UI/InGame/BuildMenu/BuildCategories/Sub_Organisation/SC_Attach.SC_Attach_C\"\\')',\n  'mMenuPriority': '6.000000',\n  'mFluidColor': '(B=0,G=0,R=0,A=0)',\n  'mGasColor': '(B=0,G=0,R=0,A=0)',\n  'mCompatibleItemDescriptors': '',\n  'mClassToScanFor': 'None',\n  'mScannableType': 'RTWOT_Default',\n  'mShouldOverrideScannerDisplayText': 'False',\n  'mScannerDisplayText': '',\n  'mScannerLightColor': '(B=0,G=0,R=0,A=0)'},\n 'Desc_Stairs_Right_01_C': {'ClassName': 'Desc_Stairs_Right_01_C',\n  'mDisplayName': '',\n  'mDescription': '',\n  'mAbbreviatedDisplayName': '',\n  'mStackSize': 'SS_MEDIUM',\n  'mCanBeDiscarded': 'True',\n  'mRememberPickUp': 'False',\n  'mEnergyValue': '0.000000',\n  'mRadioactiveDecay': '0.000000',\n  'mForm': 'RF_INVALID',\n  'mSmallIcon': 'Texture2D /Game/FactoryGame/Buildable/Building/Stair/UI/StairRight_256.StairRight_256',\n  'mPersistentBigIcon': 'Texture2D /Game/FactoryGame/Buildable/Building/Stair/UI/StairRight_512.StairRight_512',\n  'mCrosshairMaterial': 'None',\n  'mDescriptorStatBars': '',\n  'mSubCategories': '(BlueprintGeneratedClass\\'\"/Game/FactoryGame/Interface/UI/InGame/BuildMenu/BuildCategories/Sub_Organisation/SC_Attach.SC_Attach_C\"\\')',\n  'mMenuPriority': '7.000000',\n  'mFluidColor': '(B=0,G=0,R=0,A=0)',\n  'mGasColor': '(B=0,G=0,R=0,A=0)',\n  'mCompatibleItemDescriptors': '',\n  'mClassToScanFor': 'None',\n  'mScannableType': 'RTWOT_Default',\n  'mShouldOverrideScannerDisplayText': 'False',\n  'mScannerDisplayText': '',\n  'mScannerLightColor': '(B=0,G=0,R=0,A=0)'},\n 'Desc_FloodlightPole_C': {'ClassName': 'Desc_FloodlightPole_C',\n  'mDisplayName': '',\n  'mDescription': '',\n  'mAbbreviatedDisplayName': '',\n  'mStackSize': 'SS_MEDIUM',\n  'mCanBeDiscarded': 'True',\n  'mRememberPickUp': 'False',\n  'mEnergyValue': '0.000000',\n  'mRadioactiveDecay': '0.000000',\n  'mForm': 'RF_INVALID',\n  'mSmallIcon': 'Texture2D /Game/FactoryGame/Buildable/Factory/Floodlight/UI/IconDesc_FloodLight_256.IconDesc_FloodLight_256',\n  'mPersistentBigIcon': 'Texture2D /Game/FactoryGame/Buildable/Factory/Floodlight/UI/IconDesc_FloodLight_512.IconDesc_FloodLight_512',\n  'mCrosshairMaterial': 'None',\n  'mDescriptorStatBars': '',\n  'mSubCategories': '(BlueprintGeneratedClass\\'\"/Game/FactoryGame/Interface/UI/InGame/BuildMenu/BuildCategories/Sub_Organisation/SC_Lights.SC_Lights_C\"\\')',\n  'mMenuPriority': '3.000000',\n  'mFluidColor': '(B=0,G=0,R=0,A=0)',\n  'mGasColor': '(B=0,G=0,R=0,A=0)',\n  'mCompatibleItemDescriptors': '',\n  'mClassToScanFor': 'None',\n  'mScannableType': 'RTWOT_Default',\n  'mShouldOverrideScannerDisplayText': 'False',\n  'mScannerDisplayText': '',\n  'mScannerLightColor': '(B=0,G=0,R=0,A=0)'},\n 'Desc_FloodlightWall_C': {'ClassName': 'Desc_FloodlightWall_C',\n  'mDisplayName': '',\n  'mDescription': '',\n  'mAbbreviatedDisplayName': '',\n  'mStackSize': 'SS_MEDIUM',\n  'mCanBeDiscarded': 'True',\n  'mRememberPickUp': 'False',\n  'mEnergyValue': '0.000000',\n  'mRadioactiveDecay': '0.000000',\n  'mForm': 'RF_INVALID',\n  'mSmallIcon': 'Texture2D /Game/FactoryGame/Buildable/Factory/Floodlight/UI/IconDesc_FloodlightWall_256.IconDesc_FloodlightWall_256',\n  'mPersistentBigIcon': 'Texture2D /Game/FactoryGame/Buildable/Factory/Floodlight/UI/IconDesc_FloodlightWall_512.IconDesc_FloodlightWall_512',\n  'mCrosshairMaterial': 'None',\n  'mDescriptorStatBars': '',\n  'mSubCategories': '(BlueprintGeneratedClass\\'\"/Game/FactoryGame/Interface/UI/InGame/BuildMenu/BuildCategories/Sub_Organisation/SC_Lights.SC_Lights_C\"\\')',\n  'mMenuPriority': '4.000000',\n  'mFluidColor': '(B=0,G=0,R=0,A=0)',\n  'mGasColor': '(B=0,G=0,R=0,A=0)',\n  'mCompatibleItemDescriptors': '',\n  'mClassToScanFor': 'None',\n  'mScannableType': 'RTWOT_Default',\n  'mShouldOverrideScannerDisplayText': 'False',\n  'mScannerDisplayText': '',\n  'mScannerLightColor': '(B=0,G=0,R=0,A=0)'},\n 'Desc_StreetLight_C': {'ClassName': 'Desc_StreetLight_C',\n  'mDisplayName': '',\n  'mDescription': '',\n  'mAbbreviatedDisplayName': '',\n  'mStackSize': 'SS_MEDIUM',\n  'mCanBeDiscarded': 'True',\n  'mRememberPickUp': 'False',\n  'mEnergyValue': '0.000000',\n  'mRadioactiveDecay': '0.000000',\n  'mForm': 'RF_INVALID',\n  'mSmallIcon': 'Texture2D /Game/FactoryGame/Buildable/Factory/StreetLight/UI/IconDesc_StreetLight_256.IconDesc_StreetLight_256',\n  'mPersistentBigIcon': 'Texture2D /Game/FactoryGame/Buildable/Factory/StreetLight/UI/IconDesc_StreetLight_512.IconDesc_StreetLight_512',\n  'mCrosshairMaterial': 'None',\n  'mDescriptorStatBars': '',\n  'mSubCategories': '(BlueprintGeneratedClass\\'\"/Game/FactoryGame/Interface/UI/InGame/BuildMenu/BuildCategories/Sub_Organisation/SC_Lights.SC_Lights_C\"\\')',\n  'mMenuPriority': '1.000000',\n  'mFluidColor': '(B=0,G=0,R=0,A=0)',\n  'mGasColor': '(B=0,G=0,R=0,A=0)',\n  'mCompatibleItemDescriptors': '',\n  'mClassToScanFor': 'None',\n  'mScannableType': 'RTWOT_Default',\n  'mShouldOverrideScannerDisplayText': 'False',\n  'mScannerDisplayText': '',\n  'mScannerLightColor': '(B=0,G=0,R=0,A=0)'},\n 'Desc_PowerPoleWallDouble_C': {'ClassName': 'Desc_PowerPoleWallDouble_C',\n  'mDisplayName': '',\n  'mDescription': '',\n  'mAbbreviatedDisplayName': '',\n  'mStackSize': 'SS_MEDIUM',\n  'mCanBeDiscarded': 'True',\n  'mRememberPickUp': 'False',\n  'mEnergyValue': '0.000000',\n  'mRadioactiveDecay': '0.000000',\n  'mForm': 'RF_INVALID',\n  'mSmallIcon': 'Texture2D /Game/FactoryGame/Buildable/Factory/PowerPoleWallDouble/UI/PowerPoleWallDouble_MK1_256.PowerPoleWallDouble_MK1_256',\n  'mPersistentBigIcon': 'Texture2D /Game/FactoryGame/Buildable/Factory/PowerPoleWallDouble/UI/PowerPoleWallDouble_MK1_512.PowerPoleWallDouble_MK1_512',\n  'mCrosshairMaterial': 'None',\n  'mDescriptorStatBars': '',\n  'mSubCategories': '(BlueprintGeneratedClass\\'\"/Game/FactoryGame/Interface/UI/InGame/BuildMenu/BuildCategories/Sub_Power/SC_WallPoles.SC_WallPoles_C\"\\')',\n  'mMenuPriority': '4.000000',\n  'mFluidColor': '(B=0,G=0,R=0,A=0)',\n  'mGasColor': '(B=0,G=0,R=0,A=0)',\n  'mCompatibleItemDescriptors': '',\n  'mClassToScanFor': 'None',\n  'mScannableType': 'RTWOT_Default',\n  'mShouldOverrideScannerDisplayText': 'False',\n  'mScannerDisplayText': '',\n  'mScannerLightColor': '(B=0,G=0,R=0,A=0)'},\n 'Desc_HyperTubeWallHole_C': {'ClassName': 'Desc_HyperTubeWallHole_C',\n  'mDisplayName': '',\n  'mDescription': '',\n  'mAbbreviatedDisplayName': '',\n  'mStackSize': 'SS_MEDIUM',\n  'mCanBeDiscarded': 'True',\n  'mRememberPickUp': 'False',\n  'mEnergyValue': '0.000000',\n  'mRadioactiveDecay': '0.000000',\n  'mForm': 'RF_INVALID',\n  'mSmallIcon': 'Texture2D /Game/FactoryGame/Buildable/Factory/HyperTubeWallSupport/UI/IconDesc_HyperTube_WallHole_256.IconDesc_HyperTube_WallHole_256',\n  'mPersistentBigIcon': 'Texture2D /Game/FactoryGame/Buildable/Factory/HyperTubeWallSupport/UI/IconDesc_HyperTube_WallHole_512.IconDesc_HyperTube_WallHole_512',\n  'mCrosshairMaterial': 'None',\n  'mDescriptorStatBars': '',\n  'mSubCategories': '(BlueprintGeneratedClass\\'\"/Game/FactoryGame/Interface/UI/InGame/BuildMenu/BuildCategories/Sub_Transport/SC_HyperTubes.SC_HyperTubes_C\"\\')',\n  'mMenuPriority': '6.000000',\n  'mFluidColor': '(B=0,G=0,R=0,A=0)',\n  'mGasColor': '(B=0,G=0,R=0,A=0)',\n  'mCompatibleItemDescriptors': '',\n  'mClassToScanFor': 'None',\n  'mScannableType': 'RTWOT_Default',\n  'mShouldOverrideScannerDisplayText': 'False',\n  'mScannerDisplayText': '',\n  'mScannerLightColor': '(B=0,G=0,R=0,A=0)'},\n 'Desc_PipelineSupportWallHole_C': {'ClassName': 'Desc_PipelineSupportWallHole_C',\n  'mDisplayName': '',\n  'mDescription': '',\n  'mAbbreviatedDisplayName': '',\n  'mStackSize': 'SS_MEDIUM',\n  'mCanBeDiscarded': 'True',\n  'mRememberPickUp': 'False',\n  'mEnergyValue': '0.000000',\n  'mRadioactiveDecay': '0.000000',\n  'mForm': 'RF_INVALID',\n  'mSmallIcon': 'Texture2D /Game/FactoryGame/Buildable/Factory/PipelineSupportWallHole/UI/PipeSupportWallHole_256.PipeSupportWallHole_256',\n  'mPersistentBigIcon': 'Texture2D /Game/FactoryGame/Buildable/Factory/PipelineSupportWallHole/UI/PipeSupportWallHole_512.PipeSupportWallHole_512',\n  'mCrosshairMaterial': 'None',\n  'mDescriptorStatBars': '',\n  'mSubCategories': '(BlueprintGeneratedClass\\'\"/Game/FactoryGame/Interface/UI/InGame/BuildMenu/BuildCategories/Sub_Transport/SC_PipeSupport.SC_PipeSupport_C\"\\')',\n  'mMenuPriority': '3.000000',\n  'mFluidColor': '(B=0,G=0,R=0,A=0)',\n  'mGasColor': '(B=0,G=0,R=0,A=0)',\n  'mCompatibleItemDescriptors': '',\n  'mClassToScanFor': 'None',\n  'mScannableType': 'RTWOT_Default',\n  'mShouldOverrideScannerDisplayText': 'False',\n  'mScannerDisplayText': '',\n  'mScannerLightColor': '(B=0,G=0,R=0,A=0)'},\n 'Desc_FoundationPassthrough_Pipe_C': {'ClassName': 'Desc_FoundationPassthrough_Pipe_C',\n  'mDisplayName': '',\n  'mDescription': '',\n  'mAbbreviatedDisplayName': '',\n  'mStackSize': 'SS_MEDIUM',\n  'mCanBeDiscarded': 'True',\n  'mRememberPickUp': 'False',\n  'mEnergyValue': '0.000000',\n  'mRadioactiveDecay': '0.000000',\n  'mForm': 'RF_INVALID',\n  'mSmallIcon': 'Texture2D /Game/FactoryGame/Buildable/Factory/FoundationPassthrough/UI/IconDesc_PipeFloorHole_256.IconDesc_PipeFloorHole_256',\n  'mPersistentBigIcon': 'Texture2D /Game/FactoryGame/Buildable/Factory/FoundationPassthrough/UI/IconDesc_PipeFloorHole_512.IconDesc_PipeFloorHole_512',\n  'mCrosshairMaterial': 'None',\n  'mDescriptorStatBars': '',\n  'mSubCategories': '(BlueprintGeneratedClass\\'\"/Game/FactoryGame/Interface/UI/InGame/BuildMenu/BuildCategories/Sub_Transport/SC_PipeSupport.SC_PipeSupport_C\"\\')',\n  'mMenuPriority': '8.000000',\n  'mFluidColor': '(B=0,G=0,R=0,A=0)',\n  'mGasColor': '(B=0,G=0,R=0,A=0)',\n  'mCompatibleItemDescriptors': '',\n  'mClassToScanFor': 'None',\n  'mScannableType': 'RTWOT_Default',\n  'mShouldOverrideScannerDisplayText': 'False',\n  'mScannerDisplayText': '',\n  'mScannerLightColor': '(B=0,G=0,R=0,A=0)'},\n 'Desc_PowerPoleWallDoubleMk2_C': {'ClassName': 'Desc_PowerPoleWallDoubleMk2_C',\n  'mDisplayName': '',\n  'mDescription': '',\n  'mAbbreviatedDisplayName': '',\n  'mStackSize': 'SS_MEDIUM',\n  'mCanBeDiscarded': 'True',\n  'mRememberPickUp': 'False',\n  'mEnergyValue': '0.000000',\n  'mRadioactiveDecay': '0.000000',\n  'mForm': 'RF_INVALID',\n  'mSmallIcon': 'Texture2D /Game/FactoryGame/Buildable/Factory/PowerPoleWallDouble/UI/PowerPoleWallDouble_MK2_256.PowerPoleWallDouble_MK2_256',\n  'mPersistentBigIcon': 'Texture2D /Game/FactoryGame/Buildable/Factory/PowerPoleWallDouble/UI/PowerPoleWallDouble_MK2_512.PowerPoleWallDouble_MK2_512',\n  'mCrosshairMaterial': 'None',\n  'mDescriptorStatBars': '',\n  'mSubCategories': '(BlueprintGeneratedClass\\'\"/Game/FactoryGame/Interface/UI/InGame/BuildMenu/BuildCategories/Sub_Power/SC_WallPoles.SC_WallPoles_C\"\\')',\n  'mMenuPriority': '5.000000',\n  'mFluidColor': '(B=0,G=0,R=0,A=0)',\n  'mGasColor': '(B=0,G=0,R=0,A=0)',\n  'mCompatibleItemDescriptors': '',\n  'mClassToScanFor': 'None',\n  'mScannableType': 'RTWOT_Default',\n  'mShouldOverrideScannerDisplayText': 'False',\n  'mScannerDisplayText': '',\n  'mScannerLightColor': '(B=0,G=0,R=0,A=0)'},\n 'Desc_PowerPoleWallMk2_C': {'ClassName': 'Desc_PowerPoleWallMk2_C',\n  'mDisplayName': '',\n  'mDescription': '',\n  'mAbbreviatedDisplayName': '',\n  'mStackSize': 'SS_MEDIUM',\n  'mCanBeDiscarded': 'True',\n  'mRememberPickUp': 'False',\n  'mEnergyValue': '0.000000',\n  'mRadioactiveDecay': '0.000000',\n  'mForm': 'RF_INVALID',\n  'mSmallIcon': 'Texture2D /Game/FactoryGame/Buildable/Factory/PowerPoleWall/UI/PowerPoleWall_MK2_256.PowerPoleWall_MK2_256',\n  'mPersistentBigIcon': 'Texture2D /Game/FactoryGame/Buildable/Factory/PowerPoleWall/UI/PowerPoleWall_MK2_512.PowerPoleWall_MK2_512',\n  'mCrosshairMaterial': 'None',\n  'mDescriptorStatBars': '',\n  'mSubCategories': '(BlueprintGeneratedClass\\'\"/Game/FactoryGame/Interface/UI/InGame/BuildMenu/BuildCategories/Sub_Power/SC_WallPoles.SC_WallPoles_C\"\\')',\n  'mMenuPriority': '2.000000',\n  'mFluidColor': '(B=0,G=0,R=0,A=0)',\n  'mGasColor': '(B=0,G=0,R=0,A=0)',\n  'mCompatibleItemDescriptors': '',\n  'mClassToScanFor': 'None',\n  'mScannableType': 'RTWOT_Default',\n  'mShouldOverrideScannerDisplayText': 'False',\n  'mScannerDisplayText': '',\n  'mScannerLightColor': '(B=0,G=0,R=0,A=0)'},\n 'Desc_PowerPoleWallDoubleMk3_C': {'ClassName': 'Desc_PowerPoleWallDoubleMk3_C',\n  'mDisplayName': '',\n  'mDescription': '',\n  'mAbbreviatedDisplayName': '',\n  'mStackSize': 'SS_MEDIUM',\n  'mCanBeDiscarded': 'True',\n  'mRememberPickUp': 'False',\n  'mEnergyValue': '0.000000',\n  'mRadioactiveDecay': '0.000000',\n  'mForm': 'RF_INVALID',\n  'mSmallIcon': 'Texture2D /Game/FactoryGame/Buildable/Factory/PowerPoleWallDouble/UI/PowerPoleWallDouble_MK3_256.PowerPoleWallDouble_MK3_256',\n  'mPersistentBigIcon': 'Texture2D /Game/FactoryGame/Buildable/Factory/PowerPoleWallDouble/UI/PowerPoleWallDouble_MK3_512.PowerPoleWallDouble_MK3_512',\n  'mCrosshairMaterial': 'None',\n  'mDescriptorStatBars': '',\n  'mSubCategories': '(BlueprintGeneratedClass\\'\"/Game/FactoryGame/Interface/UI/InGame/BuildMenu/BuildCategories/Sub_Power/SC_WallPoles.SC_WallPoles_C\"\\')',\n  'mMenuPriority': '6.000000',\n  'mFluidColor': '(B=0,G=0,R=0,A=0)',\n  'mGasColor': '(B=0,G=0,R=0,A=0)',\n  'mCompatibleItemDescriptors': '',\n  'mClassToScanFor': 'None',\n  'mScannableType': 'RTWOT_Default',\n  'mShouldOverrideScannerDisplayText': 'False',\n  'mScannerDisplayText': '',\n  'mScannerLightColor': '(B=0,G=0,R=0,A=0)'},\n 'Desc_PowerPoleWallMk3_C': {'ClassName': 'Desc_PowerPoleWallMk3_C',\n  'mDisplayName': '',\n  'mDescription': '',\n  'mAbbreviatedDisplayName': '',\n  'mStackSize': 'SS_MEDIUM',\n  'mCanBeDiscarded': 'True',\n  'mRememberPickUp': 'False',\n  'mEnergyValue': '0.000000',\n  'mRadioactiveDecay': '0.000000',\n  'mForm': 'RF_INVALID',\n  'mSmallIcon': 'Texture2D /Game/FactoryGame/Buildable/Factory/PowerPoleWall/UI/PowerPoleWall_MK3_256.PowerPoleWall_MK3_256',\n  'mPersistentBigIcon': 'Texture2D /Game/FactoryGame/Buildable/Factory/PowerPoleWall/UI/PowerPoleWall_MK3_512.PowerPoleWall_MK3_512',\n  'mCrosshairMaterial': 'None',\n  'mDescriptorStatBars': '',\n  'mSubCategories': '(BlueprintGeneratedClass\\'\"/Game/FactoryGame/Interface/UI/InGame/BuildMenu/BuildCategories/Sub_Power/SC_WallPoles.SC_WallPoles_C\"\\')',\n  'mMenuPriority': '3.000000',\n  'mFluidColor': '(B=0,G=0,R=0,A=0)',\n  'mGasColor': '(B=0,G=0,R=0,A=0)',\n  'mCompatibleItemDescriptors': '',\n  'mClassToScanFor': 'None',\n  'mScannableType': 'RTWOT_Default',\n  'mShouldOverrideScannerDisplayText': 'False',\n  'mScannerDisplayText': '',\n  'mScannerLightColor': '(B=0,G=0,R=0,A=0)'},\n 'Desc_Gate_Automated_8x4_C': {'ClassName': 'Desc_Gate_Automated_8x4_C',\n  'mDisplayName': '',\n  'mDescription': '',\n  'mAbbreviatedDisplayName': '',\n  'mStackSize': 'SS_MEDIUM',\n  'mCanBeDiscarded': 'True',\n  'mRememberPickUp': 'False',\n  'mEnergyValue': '0.000000',\n  'mRadioactiveDecay': '0.000000',\n  'mForm': 'RF_INVALID',\n  'mSmallIcon': 'Texture2D /Game/FactoryGame/Buildable/Building/Doors/UI/IconDesc_AutomatedGate_256.IconDesc_AutomatedGate_256',\n  'mPersistentBigIcon': 'Texture2D /Game/FactoryGame/Buildable/Building/Doors/UI/IconDesc_AutomatedGate_512.IconDesc_AutomatedGate_512',\n  'mCrosshairMaterial': 'None',\n  'mDescriptorStatBars': '',\n  'mSubCategories': '(BlueprintGeneratedClass\\'\"/Game/FactoryGame/Interface/UI/InGame/BuildMenu/BuildCategories/Sub_Walls/SC_Doors.SC_Doors_C\"\\')',\n  'mMenuPriority': '10.000000',\n  'mFluidColor': '(B=0,G=0,R=0,A=0)',\n  'mGasColor': '(B=0,G=0,R=0,A=0)',\n  'mCompatibleItemDescriptors': '',\n  'mClassToScanFor': 'None',\n  'mScannableType': 'RTWOT_Default',\n  'mShouldOverrideScannerDisplayText': 'False',\n  'mScannerDisplayText': '',\n  'mScannerLightColor': '(B=0,G=0,R=0,A=0)'},\n 'Desc_Pillar_Small_Concrete_C': {'ClassName': 'Desc_Pillar_Small_Concrete_C',\n  'mDisplayName': '',\n  'mDescription': '',\n  'mAbbreviatedDisplayName': '',\n  'mStackSize': 'SS_MEDIUM',\n  'mCanBeDiscarded': 'True',\n  'mRememberPickUp': 'False',\n  'mEnergyValue': '0.000000',\n  'mRadioactiveDecay': '0.000000',\n  'mForm': 'RF_INVALID',\n  'mSmallIcon': 'Texture2D /Game/FactoryGame/Buildable/Building/Pillars/UI/IconDesc_PillarConcSmall_256.IconDesc_PillarConcSmall_256',\n  'mPersistentBigIcon': 'Texture2D /Game/FactoryGame/Buildable/Building/Pillars/UI/IconDesc_PillarConcSmall_512.IconDesc_PillarConcSmall_512',\n  'mCrosshairMaterial': 'None',\n  'mDescriptorStatBars': '',\n  'mSubCategories': '(BlueprintGeneratedClass\\'\"/Game/FactoryGame/Interface/UI/InGame/BuildMenu/BuildCategories/Sub_Organisation/SC_Pillars.SC_Pillars_C\"\\')',\n  'mMenuPriority': '13.000000',\n  'mFluidColor': '(B=0,G=0,R=0,A=0)',\n  'mGasColor': '(B=0,G=0,R=0,A=0)',\n  'mCompatibleItemDescriptors': '',\n  'mClassToScanFor': 'None',\n  'mScannableType': 'RTWOT_Default',\n  'mShouldOverrideScannerDisplayText': 'False',\n  'mScannerDisplayText': '',\n  'mScannerLightColor': '(B=0,G=0,R=0,A=0)'},\n 'Desc_PillarMiddle_Concrete_C': {'ClassName': 'Desc_PillarMiddle_Concrete_C',\n  'mDisplayName': '',\n  'mDescription': '',\n  'mAbbreviatedDisplayName': '',\n  'mStackSize': 'SS_MEDIUM',\n  'mCanBeDiscarded': 'True',\n  'mRememberPickUp': 'False',\n  'mEnergyValue': '0.000000',\n  'mRadioactiveDecay': '0.000000',\n  'mForm': 'RF_INVALID',\n  'mSmallIcon': 'Texture2D /Game/FactoryGame/Buildable/Building/Pillars/UI/IconDesc_PillarConcBig_256.IconDesc_PillarConcBig_256',\n  'mPersistentBigIcon': 'Texture2D /Game/FactoryGame/Buildable/Building/Pillars/UI/IconDesc_PillarConcBig_512.IconDesc_PillarConcBig_512',\n  'mCrosshairMaterial': 'None',\n  'mDescriptorStatBars': '',\n  'mSubCategories': '(BlueprintGeneratedClass\\'\"/Game/FactoryGame/Interface/UI/InGame/BuildMenu/BuildCategories/Sub_Organisation/SC_Pillars.SC_Pillars_C\"\\')',\n  'mMenuPriority': '3.000000',\n  'mFluidColor': '(B=0,G=0,R=0,A=0)',\n  'mGasColor': '(B=0,G=0,R=0,A=0)',\n  'mCompatibleItemDescriptors': '',\n  'mClassToScanFor': 'None',\n  'mScannableType': 'RTWOT_Default',\n  'mShouldOverrideScannerDisplayText': 'False',\n  'mScannerDisplayText': '',\n  'mScannerLightColor': '(B=0,G=0,R=0,A=0)'},\n 'Desc_FoundationPassthrough_Lift_C': {'ClassName': 'Desc_FoundationPassthrough_Lift_C',\n  'mDisplayName': '',\n  'mDescription': '',\n  'mAbbreviatedDisplayName': '',\n  'mStackSize': 'SS_MEDIUM',\n  'mCanBeDiscarded': 'True',\n  'mRememberPickUp': 'False',\n  'mEnergyValue': '0.000000',\n  'mRadioactiveDecay': '0.000000',\n  'mForm': 'RF_INVALID',\n  'mSmallIcon': 'Texture2D /Game/FactoryGame/Buildable/Factory/FoundationPassthrough/UI/IconDesc_ConveyorFloorHole_256.IconDesc_ConveyorFloorHole_256',\n  'mPersistentBigIcon': 'Texture2D /Game/FactoryGame/Buildable/Factory/FoundationPassthrough/UI/IconDesc_ConveyorFloorHole_512.IconDesc_ConveyorFloorHole_512',\n  'mCrosshairMaterial': 'None',\n  'mDescriptorStatBars': '',\n  'mSubCategories': '(BlueprintGeneratedClass\\'\"/Game/FactoryGame/Interface/UI/InGame/BuildMenu/BuildCategories/Sub_Transport/SC_ConverPole.SC_ConverPole_C\"\\')',\n  'mMenuPriority': '100.000000',\n  'mFluidColor': '(B=0,G=0,R=0,A=0)',\n  'mGasColor': '(B=0,G=0,R=0,A=0)',\n  'mCompatibleItemDescriptors': '',\n  'mClassToScanFor': 'None',\n  'mScannableType': 'RTWOT_Default',\n  'mShouldOverrideScannerDisplayText': 'False',\n  'mScannerDisplayText': '',\n  'mScannerLightColor': '(B=0,G=0,R=0,A=0)'},\n 'Desc_StandaloneWidgetSign_Medium_C': {'ClassName': 'Desc_StandaloneWidgetSign_Medium_C',\n  'mDisplayName': '',\n  'mDescription': '',\n  'mAbbreviatedDisplayName': '',\n  'mStackSize': 'SS_MEDIUM',\n  'mCanBeDiscarded': 'True',\n  'mRememberPickUp': 'False',\n  'mEnergyValue': '0.000000',\n  'mRadioactiveDecay': '0.000000',\n  'mForm': 'RF_INVALID',\n  'mSmallIcon': 'Texture2D /Game/FactoryGame/Buildable/Factory/StandaloneSign/UI/IconDesc_SignMedium_256.IconDesc_SignMedium_256',\n  'mPersistentBigIcon': 'Texture2D /Game/FactoryGame/Buildable/Factory/StandaloneSign/UI/IconDesc_SignMedium_512.IconDesc_SignMedium_512',\n  'mCrosshairMaterial': 'None',\n  'mDescriptorStatBars': '',\n  'mSubCategories': '(BlueprintGeneratedClass\\'\"/Game/FactoryGame/Interface/UI/InGame/BuildMenu/BuildCategories/Sub_Organisation/SC_Signs.SC_Signs_C\"\\')',\n  'mMenuPriority': '4.000000',\n  'mFluidColor': '(B=0,G=0,R=0,A=0)',\n  'mGasColor': '(B=0,G=0,R=0,A=0)',\n  'mCompatibleItemDescriptors': '',\n  'mClassToScanFor': 'None',\n  'mScannableType': 'RTWOT_Default',\n  'mShouldOverrideScannerDisplayText': 'False',\n  'mScannerDisplayText': '',\n  'mScannerLightColor': '(B=0,G=0,R=0,A=0)'},\n 'Desc_StandaloneWidgetSign_Portrait_C': {'ClassName': 'Desc_StandaloneWidgetSign_Portrait_C',\n  'mDisplayName': '',\n  'mDescription': '',\n  'mAbbreviatedDisplayName': '',\n  'mStackSize': 'SS_MEDIUM',\n  'mCanBeDiscarded': 'True',\n  'mRememberPickUp': 'False',\n  'mEnergyValue': '0.000000',\n  'mRadioactiveDecay': '0.000000',\n  'mForm': 'RF_INVALID',\n  'mSmallIcon': 'Texture2D /Game/FactoryGame/Buildable/Factory/StandaloneSign/UI/IconDesc_SignPortrait_256.IconDesc_SignPortrait_256',\n  'mPersistentBigIcon': 'Texture2D /Game/FactoryGame/Buildable/Factory/StandaloneSign/UI/IconDesc_SignPortrait_512.IconDesc_SignPortrait_512',\n  'mCrosshairMaterial': 'None',\n  'mDescriptorStatBars': '',\n  'mSubCategories': '(BlueprintGeneratedClass\\'\"/Game/FactoryGame/Interface/UI/InGame/BuildMenu/BuildCategories/Sub_Organisation/SC_Signs.SC_Signs_C\"\\')',\n  'mMenuPriority': '5.000000',\n  'mFluidColor': '(B=0,G=0,R=0,A=0)',\n  'mGasColor': '(B=0,G=0,R=0,A=0)',\n  'mCompatibleItemDescriptors': '',\n  'mClassToScanFor': 'None',\n  'mScannableType': 'RTWOT_Default',\n  'mShouldOverrideScannerDisplayText': 'False',\n  'mScannerDisplayText': '',\n  'mScannerLightColor': '(B=0,G=0,R=0,A=0)'},\n 'Desc_StandaloneWidgetSign_Square_C': {'ClassName': 'Desc_StandaloneWidgetSign_Square_C',\n  'mDisplayName': '',\n  'mDescription': '',\n  'mAbbreviatedDisplayName': '',\n  'mStackSize': 'SS_MEDIUM',\n  'mCanBeDiscarded': 'True',\n  'mRememberPickUp': 'False',\n  'mEnergyValue': '0.000000',\n  'mRadioactiveDecay': '0.000000',\n  'mForm': 'RF_INVALID',\n  'mSmallIcon': 'Texture2D /Game/FactoryGame/Buildable/Factory/StandaloneSign/UI/IconDesc_SignSquare_256.IconDesc_SignSquare_256',\n  'mPersistentBigIcon': 'Texture2D /Game/FactoryGame/Buildable/Factory/StandaloneSign/UI/IconDesc_SignSquare_512.IconDesc_SignSquare_512',\n  'mCrosshairMaterial': 'None',\n  'mDescriptorStatBars': '',\n  'mSubCategories': '(BlueprintGeneratedClass\\'\"/Game/FactoryGame/Interface/UI/InGame/BuildMenu/BuildCategories/Sub_Organisation/SC_Signs.SC_Signs_C\"\\')',\n  'mMenuPriority': '8.000000',\n  'mFluidColor': '(B=0,G=0,R=0,A=0)',\n  'mGasColor': '(B=0,G=0,R=0,A=0)',\n  'mCompatibleItemDescriptors': '',\n  'mClassToScanFor': 'None',\n  'mScannableType': 'RTWOT_Default',\n  'mShouldOverrideScannerDisplayText': 'False',\n  'mScannerDisplayText': '',\n  'mScannerLightColor': '(B=0,G=0,R=0,A=0)'},\n 'Desc_StandaloneWidgetSign_Square_Small_C': {'ClassName': 'Desc_StandaloneWidgetSign_Square_Small_C',\n  'mDisplayName': '',\n  'mDescription': '',\n  'mAbbreviatedDisplayName': '',\n  'mStackSize': 'SS_MEDIUM',\n  'mCanBeDiscarded': 'True',\n  'mRememberPickUp': 'False',\n  'mEnergyValue': '0.000000',\n  'mRadioactiveDecay': '0.000000',\n  'mForm': 'RF_INVALID',\n  'mSmallIcon': 'Texture2D /Game/FactoryGame/Buildable/Factory/StandaloneSign/UI/IconDesc_SignSquareSmall_256.IconDesc_SignSquareSmall_256',\n  'mPersistentBigIcon': 'Texture2D /Game/FactoryGame/Buildable/Factory/StandaloneSign/UI/IconDesc_SignSquareSmall_512.IconDesc_SignSquareSmall_512',\n  'mCrosshairMaterial': 'None',\n  'mDescriptorStatBars': '',\n  'mSubCategories': '(BlueprintGeneratedClass\\'\"/Game/FactoryGame/Interface/UI/InGame/BuildMenu/BuildCategories/Sub_Organisation/SC_Signs.SC_Signs_C\"\\')',\n  'mMenuPriority': '7.000000',\n  'mFluidColor': '(B=0,G=0,R=0,A=0)',\n  'mGasColor': '(B=0,G=0,R=0,A=0)',\n  'mCompatibleItemDescriptors': '',\n  'mClassToScanFor': 'None',\n  'mScannableType': 'RTWOT_Default',\n  'mShouldOverrideScannerDisplayText': 'False',\n  'mScannerDisplayText': '',\n  'mScannerLightColor': '(B=0,G=0,R=0,A=0)'},\n 'Desc_Concrete_Barrier_01_C': {'ClassName': 'Desc_Concrete_Barrier_01_C',\n  'mDisplayName': '',\n  'mDescription': '',\n  'mAbbreviatedDisplayName': '',\n  'mStackSize': 'SS_MEDIUM',\n  'mCanBeDiscarded': 'True',\n  'mRememberPickUp': 'False',\n  'mEnergyValue': '0.000000',\n  'mRadioactiveDecay': '0.000000',\n  'mForm': 'RF_INVALID',\n  'mSmallIcon': 'Texture2D /Game/FactoryGame/Buildable/Building/Fence/UI/IconDesc_ConcreteBarrier_256.IconDesc_ConcreteBarrier_256',\n  'mPersistentBigIcon': 'Texture2D /Game/FactoryGame/Buildable/Building/Fence/UI/IconDesc_ConcreteBarrier_512.IconDesc_ConcreteBarrier_512',\n  'mCrosshairMaterial': 'None',\n  'mDescriptorStatBars': '',\n  'mSubCategories': '(BlueprintGeneratedClass\\'\"/Game/FactoryGame/Interface/UI/InGame/BuildMenu/BuildCategories/Sub_Organisation/SC_Attach.SC_Attach_C\"\\')',\n  'mMenuPriority': '3.000000',\n  'mFluidColor': '(B=0,G=0,R=0,A=0)',\n  'mGasColor': '(B=0,G=0,R=0,A=0)',\n  'mCompatibleItemDescriptors': '',\n  'mClassToScanFor': 'None',\n  'mScannableType': 'RTWOT_Default',\n  'mShouldOverrideScannerDisplayText': 'False',\n  'mScannerDisplayText': '',\n  'mScannerLightColor': '(B=0,G=0,R=0,A=0)'},\n 'Desc_Pillar_Small_Frame_C': {'ClassName': 'Desc_Pillar_Small_Frame_C',\n  'mDisplayName': '',\n  'mDescription': '',\n  'mAbbreviatedDisplayName': '',\n  'mStackSize': 'SS_MEDIUM',\n  'mCanBeDiscarded': 'True',\n  'mRememberPickUp': 'False',\n  'mEnergyValue': '0.000000',\n  'mRadioactiveDecay': '0.000000',\n  'mForm': 'RF_INVALID',\n  'mSmallIcon': 'Texture2D /Game/FactoryGame/Buildable/Building/Pillars/UI/IconDesc_PillarFrameSmall_256.IconDesc_PillarFrameSmall_256',\n  'mPersistentBigIcon': 'Texture2D /Game/FactoryGame/Buildable/Building/Pillars/UI/IconDesc_PillarFrameSmall_512.IconDesc_PillarFrameSmall_512',\n  'mCrosshairMaterial': 'None',\n  'mDescriptorStatBars': '',\n  'mSubCategories': '(BlueprintGeneratedClass\\'\"/Game/FactoryGame/Interface/UI/InGame/BuildMenu/BuildCategories/Sub_Organisation/SC_Pillars.SC_Pillars_C\"\\')',\n  'mMenuPriority': '14.000000',\n  'mFluidColor': '(B=0,G=0,R=0,A=0)',\n  'mGasColor': '(B=0,G=0,R=0,A=0)',\n  'mCompatibleItemDescriptors': '',\n  'mClassToScanFor': 'None',\n  'mScannableType': 'RTWOT_Default',\n  'mShouldOverrideScannerDisplayText': 'False',\n  'mScannerDisplayText': '',\n  'mScannerLightColor': '(B=0,G=0,R=0,A=0)'},\n 'Desc_PillarMiddle_Frame_C': {'ClassName': 'Desc_PillarMiddle_Frame_C',\n  'mDisplayName': '',\n  'mDescription': '',\n  'mAbbreviatedDisplayName': '',\n  'mStackSize': 'SS_MEDIUM',\n  'mCanBeDiscarded': 'True',\n  'mRememberPickUp': 'False',\n  'mEnergyValue': '0.000000',\n  'mRadioactiveDecay': '0.000000',\n  'mForm': 'RF_INVALID',\n  'mSmallIcon': 'Texture2D /Game/FactoryGame/Buildable/Building/Pillars/UI/IconDesc_PillarFrameBig_256.IconDesc_PillarFrameBig_256',\n  'mPersistentBigIcon': 'Texture2D /Game/FactoryGame/Buildable/Building/Pillars/UI/IconDesc_PillarFrameBig_512.IconDesc_PillarFrameBig_512',\n  'mCrosshairMaterial': 'None',\n  'mDescriptorStatBars': '',\n  'mSubCategories': '(BlueprintGeneratedClass\\'\"/Game/FactoryGame/Interface/UI/InGame/BuildMenu/BuildCategories/Sub_Organisation/SC_Pillars.SC_Pillars_C\"\\')',\n  'mMenuPriority': '4.000000',\n  'mFluidColor': '(B=0,G=0,R=0,A=0)',\n  'mGasColor': '(B=0,G=0,R=0,A=0)',\n  'mCompatibleItemDescriptors': '',\n  'mClassToScanFor': 'None',\n  'mScannableType': 'RTWOT_Default',\n  'mShouldOverrideScannerDisplayText': 'False',\n  'mScannerDisplayText': '',\n  'mScannerLightColor': '(B=0,G=0,R=0,A=0)'},\n 'Desc_Wall_Window_Thin_8x4_01_C': {'ClassName': 'Desc_Wall_Window_Thin_8x4_01_C',\n  'mDisplayName': '',\n  'mDescription': '',\n  'mAbbreviatedDisplayName': '',\n  'mStackSize': 'SS_MEDIUM',\n  'mCanBeDiscarded': 'True',\n  'mRememberPickUp': 'False',\n  'mEnergyValue': '0.000000',\n  'mRadioactiveDecay': '0.000000',\n  'mForm': 'RF_INVALID',\n  'mSmallIcon': 'Texture2D /Game/FactoryGame/Buildable/Building/Wall/UI/Portholes/IconDesc_FullWindow_256.IconDesc_FullWindow_256',\n  'mPersistentBigIcon': 'Texture2D /Game/FactoryGame/Buildable/Building/Wall/UI/Portholes/IconDesc_FullWindow_512.IconDesc_FullWindow_512',\n  'mCrosshairMaterial': 'None',\n  'mDescriptorStatBars': '',\n  'mSubCategories': '(BlueprintGeneratedClass\\'\"/Game/FactoryGame/Interface/UI/InGame/BuildMenu/BuildCategories/Sub_Walls/SC_Windows.SC_Windows_C\"\\')',\n  'mMenuPriority': '13.000000',\n  'mFluidColor': '(B=0,G=0,R=0,A=0)',\n  'mGasColor': '(B=0,G=0,R=0,A=0)',\n  'mCompatibleItemDescriptors': '',\n  'mClassToScanFor': 'None',\n  'mScannableType': 'RTWOT_Default',\n  'mShouldOverrideScannerDisplayText': 'False',\n  'mScannerDisplayText': '',\n  'mScannerLightColor': '(B=0,G=0,R=0,A=0)'},\n 'Desc_Wall_Window_Thin_8x4_02_C': {'ClassName': 'Desc_Wall_Window_Thin_8x4_02_C',\n  'mDisplayName': '',\n  'mDescription': '',\n  'mAbbreviatedDisplayName': '',\n  'mStackSize': 'SS_MEDIUM',\n  'mCanBeDiscarded': 'True',\n  'mRememberPickUp': 'False',\n  'mEnergyValue': '0.000000',\n  'mRadioactiveDecay': '0.000000',\n  'mForm': 'RF_INVALID',\n  'mSmallIcon': 'Texture2D /Game/FactoryGame/Buildable/Building/Wall/UI/Portholes/IconDesc_HexagonWindow_256.IconDesc_HexagonWindow_256',\n  'mPersistentBigIcon': 'Texture2D /Game/FactoryGame/Buildable/Building/Wall/UI/Portholes/IconDesc_HexagonWindow_512.IconDesc_HexagonWindow_512',\n  'mCrosshairMaterial': 'None',\n  'mDescriptorStatBars': '',\n  'mSubCategories': '(BlueprintGeneratedClass\\'\"/Game/FactoryGame/Interface/UI/InGame/BuildMenu/BuildCategories/Sub_Walls/SC_Windows.SC_Windows_C\"\\')',\n  'mMenuPriority': '14.000000',\n  'mFluidColor': '(B=0,G=0,R=0,A=0)',\n  'mGasColor': '(B=0,G=0,R=0,A=0)',\n  'mCompatibleItemDescriptors': '',\n  'mClassToScanFor': 'None',\n  'mScannableType': 'RTWOT_Default',\n  'mShouldOverrideScannerDisplayText': 'False',\n  'mScannerDisplayText': '',\n  'mScannerLightColor': '(B=0,G=0,R=0,A=0)'},\n 'Desc_StorageHazard_C': {'ClassName': 'Desc_StorageHazard_C',\n  'mDisplayName': '',\n  'mDescription': '',\n  'mAbbreviatedDisplayName': '',\n  'mStackSize': 'SS_MEDIUM',\n  'mCanBeDiscarded': 'True',\n  'mRememberPickUp': 'False',\n  'mEnergyValue': '0.000000',\n  'mRadioactiveDecay': '0.000000',\n  'mForm': 'RF_INVALID',\n  'mSmallIcon': 'Texture2D /Game/FactoryGame/Buildable/Factory/StoragePlayer/UI/IconDesc_StorageHazard_256.IconDesc_StorageHazard_256',\n  'mPersistentBigIcon': 'Texture2D /Game/FactoryGame/Buildable/Factory/StoragePlayer/UI/IconDesc_StorageHazard_512.IconDesc_StorageHazard_512',\n  'mCrosshairMaterial': 'None',\n  'mDescriptorStatBars': '',\n  'mSubCategories': '(BlueprintGeneratedClass\\'\"/Game/FactoryGame/Interface/UI/InGame/BuildMenu/BuildCategories/Sub_Organisation/SC_Storage.SC_Storage_C\"\\')',\n  'mMenuPriority': '3.000000',\n  'mFluidColor': '(B=0,G=0,R=0,A=0)',\n  'mGasColor': '(B=0,G=0,R=0,A=0)',\n  'mCompatibleItemDescriptors': '',\n  'mClassToScanFor': 'None',\n  'mScannableType': 'RTWOT_Default',\n  'mShouldOverrideScannerDisplayText': 'False',\n  'mScannerDisplayText': '',\n  'mScannerLightColor': '(B=0,G=0,R=0,A=0)'},\n 'Desc_FoundationPassthrough_Hypertube_C': {'ClassName': 'Desc_FoundationPassthrough_Hypertube_C',\n  'mDisplayName': '',\n  'mDescription': '',\n  'mAbbreviatedDisplayName': '',\n  'mStackSize': 'SS_MEDIUM',\n  'mCanBeDiscarded': 'True',\n  'mRememberPickUp': 'False',\n  'mEnergyValue': '0.000000',\n  'mRadioactiveDecay': '0.000000',\n  'mForm': 'RF_INVALID',\n  'mSmallIcon': 'Texture2D /Game/FactoryGame/Buildable/Factory/HyperTubeWallSupport/UI/IconDesc_HypertubeFloorHole_256.IconDesc_HypertubeFloorHole_256',\n  'mPersistentBigIcon': 'Texture2D /Game/FactoryGame/Buildable/Factory/HyperTubeWallSupport/UI/IconDesc_HypertubeFloorHole_512.IconDesc_HypertubeFloorHole_512',\n  'mCrosshairMaterial': 'None',\n  'mDescriptorStatBars': '',\n  'mSubCategories': '(BlueprintGeneratedClass\\'\"/Game/FactoryGame/Interface/UI/InGame/BuildMenu/BuildCategories/Sub_Transport/SC_HyperTubes.SC_HyperTubes_C\"\\')',\n  'mMenuPriority': '8.000000',\n  'mFluidColor': '(B=0,G=0,R=0,A=0)',\n  'mGasColor': '(B=0,G=0,R=0,A=0)',\n  'mCompatibleItemDescriptors': '',\n  'mClassToScanFor': 'None',\n  'mScannableType': 'RTWOT_Default',\n  'mShouldOverrideScannerDisplayText': 'False',\n  'mScannerDisplayText': '',\n  'mScannerLightColor': '(B=0,G=0,R=0,A=0)'},\n 'Desc_StandaloneWidgetSign_Small_C': {'ClassName': 'Desc_StandaloneWidgetSign_Small_C',\n  'mDisplayName': '',\n  'mDescription': '',\n  'mAbbreviatedDisplayName': '',\n  'mStackSize': 'SS_MEDIUM',\n  'mCanBeDiscarded': 'True',\n  'mRememberPickUp': 'False',\n  'mEnergyValue': '0.000000',\n  'mRadioactiveDecay': '0.000000',\n  'mForm': 'RF_INVALID',\n  'mSmallIcon': 'Texture2D /Game/FactoryGame/Buildable/Factory/StandaloneSign/UI/IconDesc_SignSmall_256.IconDesc_SignSmall_256',\n  'mPersistentBigIcon': 'Texture2D /Game/FactoryGame/Buildable/Factory/StandaloneSign/UI/IconDesc_SignSmall_512.IconDesc_SignSmall_512',\n  'mCrosshairMaterial': 'None',\n  'mDescriptorStatBars': '',\n  'mSubCategories': '(BlueprintGeneratedClass\\'\"/Game/FactoryGame/Interface/UI/InGame/BuildMenu/BuildCategories/Sub_Organisation/SC_Signs.SC_Signs_C\"\\')',\n  'mMenuPriority': '1.000000',\n  'mFluidColor': '(B=0,G=0,R=0,A=0)',\n  'mGasColor': '(B=0,G=0,R=0,A=0)',\n  'mCompatibleItemDescriptors': '',\n  'mClassToScanFor': 'None',\n  'mScannableType': 'RTWOT_Default',\n  'mShouldOverrideScannerDisplayText': 'False',\n  'mScannerDisplayText': '',\n  'mScannerLightColor': '(B=0,G=0,R=0,A=0)'},\n 'Desc_StandaloneWidgetSign_SmallVeryWide_C': {'ClassName': 'Desc_StandaloneWidgetSign_SmallVeryWide_C',\n  'mDisplayName': '',\n  'mDescription': '',\n  'mAbbreviatedDisplayName': '',\n  'mStackSize': 'SS_MEDIUM',\n  'mCanBeDiscarded': 'True',\n  'mRememberPickUp': 'False',\n  'mEnergyValue': '0.000000',\n  'mRadioactiveDecay': '0.000000',\n  'mForm': 'RF_INVALID',\n  'mSmallIcon': 'Texture2D /Game/FactoryGame/Buildable/Factory/StandaloneSign/UI/IconDesc_SignSmallVeryWide_256.IconDesc_SignSmallVeryWide_256',\n  'mPersistentBigIcon': 'Texture2D /Game/FactoryGame/Buildable/Factory/StandaloneSign/UI/IconDesc_SignSmallVeryWide_512.IconDesc_SignSmallVeryWide_512',\n  'mCrosshairMaterial': 'None',\n  'mDescriptorStatBars': '',\n  'mSubCategories': '(BlueprintGeneratedClass\\'\"/Game/FactoryGame/Interface/UI/InGame/BuildMenu/BuildCategories/Sub_Organisation/SC_Signs.SC_Signs_C\"\\')',\n  'mMenuPriority': '3.000000',\n  'mFluidColor': '(B=0,G=0,R=0,A=0)',\n  'mGasColor': '(B=0,G=0,R=0,A=0)',\n  'mCompatibleItemDescriptors': '',\n  'mClassToScanFor': 'None',\n  'mScannableType': 'RTWOT_Default',\n  'mShouldOverrideScannerDisplayText': 'False',\n  'mScannerDisplayText': '',\n  'mScannerLightColor': '(B=0,G=0,R=0,A=0)'},\n 'Desc_StandaloneWidgetSign_SmallWide_C': {'ClassName': 'Desc_StandaloneWidgetSign_SmallWide_C',\n  'mDisplayName': '',\n  'mDescription': '',\n  'mAbbreviatedDisplayName': '',\n  'mStackSize': 'SS_MEDIUM',\n  'mCanBeDiscarded': 'True',\n  'mRememberPickUp': 'False',\n  'mEnergyValue': '0.000000',\n  'mRadioactiveDecay': '0.000000',\n  'mForm': 'RF_INVALID',\n  'mSmallIcon': 'Texture2D /Game/FactoryGame/Buildable/Factory/StandaloneSign/UI/IconDesc_SignSmallWide_256.IconDesc_SignSmallWide_256',\n  'mPersistentBigIcon': 'Texture2D /Game/FactoryGame/Buildable/Factory/StandaloneSign/UI/IconDesc_SignSmallWide_512.IconDesc_SignSmallWide_512',\n  'mCrosshairMaterial': 'None',\n  'mDescriptorStatBars': '',\n  'mSubCategories': '(BlueprintGeneratedClass\\'\"/Game/FactoryGame/Interface/UI/InGame/BuildMenu/BuildCategories/Sub_Organisation/SC_Signs.SC_Signs_C\"\\')',\n  'mMenuPriority': '2.000000',\n  'mFluidColor': '(B=0,G=0,R=0,A=0)',\n  'mGasColor': '(B=0,G=0,R=0,A=0)',\n  'mCompatibleItemDescriptors': '',\n  'mClassToScanFor': 'None',\n  'mScannableType': 'RTWOT_Default',\n  'mShouldOverrideScannerDisplayText': 'False',\n  'mScannerDisplayText': '',\n  'mScannerLightColor': '(B=0,G=0,R=0,A=0)'},\n 'Desc_StandaloneWidgetSign_Square_Tiny_C': {'ClassName': 'Desc_StandaloneWidgetSign_Square_Tiny_C',\n  'mDisplayName': '',\n  'mDescription': '',\n  'mAbbreviatedDisplayName': '',\n  'mStackSize': 'SS_MEDIUM',\n  'mCanBeDiscarded': 'True',\n  'mRememberPickUp': 'False',\n  'mEnergyValue': '0.000000',\n  'mRadioactiveDecay': '0.000000',\n  'mForm': 'RF_INVALID',\n  'mSmallIcon': 'Texture2D /Game/FactoryGame/Buildable/Factory/StandaloneSign/UI/IconDesc_SignSquareTiny_256.IconDesc_SignSquareTiny_256',\n  'mPersistentBigIcon': 'Texture2D /Game/FactoryGame/Buildable/Factory/StandaloneSign/UI/IconDesc_SignSquareTiny_512.IconDesc_SignSquareTiny_512',\n  'mCrosshairMaterial': 'None',\n  'mDescriptorStatBars': '',\n  'mSubCategories': '(BlueprintGeneratedClass\\'\"/Game/FactoryGame/Interface/UI/InGame/BuildMenu/BuildCategories/Sub_Organisation/SC_Signs.SC_Signs_C\"\\')',\n  'mMenuPriority': '6.000000',\n  'mFluidColor': '(B=0,G=0,R=0,A=0)',\n  'mGasColor': '(B=0,G=0,R=0,A=0)',\n  'mCompatibleItemDescriptors': '',\n  'mClassToScanFor': 'None',\n  'mScannableType': 'RTWOT_Default',\n  'mShouldOverrideScannerDisplayText': 'False',\n  'mScannerDisplayText': '',\n  'mScannerLightColor': '(B=0,G=0,R=0,A=0)'},\n 'Desc_LightsControlPanel_C': {'ClassName': 'Desc_LightsControlPanel_C',\n  'mDisplayName': '',\n  'mDescription': '',\n  'mAbbreviatedDisplayName': '',\n  'mStackSize': 'SS_MEDIUM',\n  'mCanBeDiscarded': 'True',\n  'mRememberPickUp': 'False',\n  'mEnergyValue': '0.000000',\n  'mRadioactiveDecay': '0.000000',\n  'mForm': 'RF_INVALID',\n  'mSmallIcon': 'Texture2D /Game/FactoryGame/Buildable/Factory/LightsControlPanel/UI/IconDesc_LightsControlPanel_256.IconDesc_LightsControlPanel_256',\n  'mPersistentBigIcon': 'Texture2D /Game/FactoryGame/Buildable/Factory/LightsControlPanel/UI/IconDesc_LightsControlPanel_512.IconDesc_LightsControlPanel_512',\n  'mCrosshairMaterial': 'None',\n  'mDescriptorStatBars': '',\n  'mSubCategories': '(BlueprintGeneratedClass\\'\"/Game/FactoryGame/Interface/UI/InGame/BuildMenu/BuildCategories/Sub_Organisation/SC_Lights.SC_Lights_C\"\\')',\n  'mMenuPriority': '10.000000',\n  'mFluidColor': '(B=0,G=0,R=0,A=0)',\n  'mGasColor': '(B=0,G=0,R=0,A=0)',\n  'mCompatibleItemDescriptors': '',\n  'mClassToScanFor': 'None',\n  'mScannableType': 'RTWOT_Default',\n  'mShouldOverrideScannerDisplayText': 'False',\n  'mScannerDisplayText': '',\n  'mScannerLightColor': '(B=0,G=0,R=0,A=0)'},\n 'Desc_StorageMedkit_C': {'ClassName': 'Desc_StorageMedkit_C',\n  'mDisplayName': '',\n  'mDescription': '',\n  'mAbbreviatedDisplayName': '',\n  'mStackSize': 'SS_MEDIUM',\n  'mCanBeDiscarded': 'True',\n  'mRememberPickUp': 'False',\n  'mEnergyValue': '0.000000',\n  'mRadioactiveDecay': '0.000000',\n  'mForm': 'RF_INVALID',\n  'mSmallIcon': 'Texture2D /Game/FactoryGame/Buildable/Factory/StoragePlayer/UI/IconDesc_StorageMedkit_256.IconDesc_StorageMedkit_256',\n  'mPersistentBigIcon': 'Texture2D /Game/FactoryGame/Buildable/Factory/StoragePlayer/UI/IconDesc_StorageMedkit_512.IconDesc_StorageMedkit_512',\n  'mCrosshairMaterial': 'None',\n  'mDescriptorStatBars': '',\n  'mSubCategories': '(BlueprintGeneratedClass\\'\"/Game/FactoryGame/Interface/UI/InGame/BuildMenu/BuildCategories/Sub_Organisation/SC_Storage.SC_Storage_C\"\\')',\n  'mMenuPriority': '2.000000',\n  'mFluidColor': '(B=0,G=0,R=0,A=0)',\n  'mGasColor': '(B=0,G=0,R=0,A=0)',\n  'mCompatibleItemDescriptors': '',\n  'mClassToScanFor': 'None',\n  'mScannableType': 'RTWOT_Default',\n  'mShouldOverrideScannerDisplayText': 'False',\n  'mScannerDisplayText': '',\n  'mScannerLightColor': '(B=0,G=0,R=0,A=0)'},\n 'Desc_Pipeline_NoIndicator_C': {'ClassName': 'Desc_Pipeline_NoIndicator_C',\n  'mDisplayName': '',\n  'mDescription': '',\n  'mAbbreviatedDisplayName': '',\n  'mStackSize': 'SS_MEDIUM',\n  'mCanBeDiscarded': 'True',\n  'mRememberPickUp': 'False',\n  'mEnergyValue': '0.000000',\n  'mRadioactiveDecay': '0.000000',\n  'mForm': 'RF_INVALID',\n  'mSmallIcon': 'Texture2D /Game/FactoryGame/Buildable/Factory/Pipeline/UI/IconDesc_Pipes_256.IconDesc_Pipes_256',\n  'mPersistentBigIcon': 'Texture2D /Game/FactoryGame/Buildable/Factory/Pipeline/UI/IconDesc_Pipes_512.IconDesc_Pipes_512',\n  'mCrosshairMaterial': 'None',\n  'mDescriptorStatBars': '',\n  'mSubCategories': '(BlueprintGeneratedClass\\'\"/Game/FactoryGame/Interface/UI/InGame/BuildMenu/BuildCategories/Sub_Transport/SC_Pipes.SC_Pipes_C\"\\')',\n  'mMenuPriority': '0.000000',\n  'mFluidColor': '(B=0,G=0,R=0,A=0)',\n  'mGasColor': '(B=0,G=0,R=0,A=0)',\n  'mCompatibleItemDescriptors': '',\n  'mClassToScanFor': 'None',\n  'mScannableType': 'RTWOT_Default',\n  'mShouldOverrideScannerDisplayText': 'False',\n  'mScannerDisplayText': '',\n  'mScannerLightColor': '(B=0,G=0,R=0,A=0)'},\n 'Desc_PipelineMK2_NoIndicator_C': {'ClassName': 'Desc_PipelineMK2_NoIndicator_C',\n  'mDisplayName': '',\n  'mDescription': '',\n  'mAbbreviatedDisplayName': '',\n  'mStackSize': 'SS_MEDIUM',\n  'mCanBeDiscarded': 'True',\n  'mRememberPickUp': 'False',\n  'mEnergyValue': '0.000000',\n  'mRadioactiveDecay': '0.000000',\n  'mForm': 'RF_INVALID',\n  'mSmallIcon': 'Texture2D /Game/FactoryGame/Buildable/Factory/Pipeline/UI/IconDesc_PipeMK2_256.IconDesc_PipeMK2_256',\n  'mPersistentBigIcon': 'Texture2D /Game/FactoryGame/Buildable/Factory/Pipeline/UI/IconDesc_PipeMK2_512.IconDesc_PipeMK2_512',\n  'mCrosshairMaterial': 'None',\n  'mDescriptorStatBars': '',\n  'mSubCategories': '(BlueprintGeneratedClass\\'\"/Game/FactoryGame/Interface/UI/InGame/BuildMenu/BuildCategories/Sub_Transport/SC_Pipes.SC_Pipes_C\"\\')',\n  'mMenuPriority': '1.000000',\n  'mFluidColor': '(B=0,G=0,R=0,A=0)',\n  'mGasColor': '(B=0,G=0,R=0,A=0)',\n  'mCompatibleItemDescriptors': '',\n  'mClassToScanFor': 'None',\n  'mScannableType': 'RTWOT_Default',\n  'mShouldOverrideScannerDisplayText': 'False',\n  'mScannerDisplayText': '',\n  'mScannerLightColor': '(B=0,G=0,R=0,A=0)'},\n 'Desc_Roof_Orange_02_C': {'ClassName': 'Desc_Roof_Orange_02_C',\n  'mDisplayName': '',\n  'mDescription': '',\n  'mAbbreviatedDisplayName': '',\n  'mStackSize': 'SS_MEDIUM',\n  'mCanBeDiscarded': 'True',\n  'mRememberPickUp': 'False',\n  'mEnergyValue': '0.000000',\n  'mRadioactiveDecay': '0.000000',\n  'mForm': 'RF_INVALID',\n  'mSmallIcon': 'Texture2D /Game/FactoryGame/Buildable/Building/Roof/UI/IconDesc_FicsitRoof1m_256.IconDesc_FicsitRoof1m_256',\n  'mPersistentBigIcon': 'Texture2D /Game/FactoryGame/Buildable/Building/Roof/UI/IconDesc_FicsitRoof1m_512.IconDesc_FicsitRoof1m_512',\n  'mCrosshairMaterial': 'None',\n  'mDescriptorStatBars': '',\n  'mSubCategories': '(BlueprintGeneratedClass\\'\"/Game/FactoryGame/Interface/UI/InGame/BuildMenu/BuildCategories/Sub_Organisation/SC_Roofs.SC_Roofs_C\"\\')',\n  'mMenuPriority': '3.000000',\n  'mFluidColor': '(B=0,G=0,R=0,A=0)',\n  'mGasColor': '(B=0,G=0,R=0,A=0)',\n  'mCompatibleItemDescriptors': '',\n  'mClassToScanFor': 'None',\n  'mScannableType': 'RTWOT_Default',\n  'mShouldOverrideScannerDisplayText': 'False',\n  'mScannerDisplayText': '',\n  'mScannerLightColor': '(B=0,G=0,R=0,A=0)'},\n 'Desc_Roof_Orange_03_C': {'ClassName': 'Desc_Roof_Orange_03_C',\n  'mDisplayName': '',\n  'mDescription': '',\n  'mAbbreviatedDisplayName': '',\n  'mStackSize': 'SS_MEDIUM',\n  'mCanBeDiscarded': 'True',\n  'mRememberPickUp': 'False',\n  'mEnergyValue': '0.000000',\n  'mRadioactiveDecay': '0.000000',\n  'mForm': 'RF_INVALID',\n  'mSmallIcon': 'Texture2D /Game/FactoryGame/Buildable/Building/Roof/UI/IconDesc_FicsitRoof2m_256.IconDesc_FicsitRoof2m_256',\n  'mPersistentBigIcon': 'Texture2D /Game/FactoryGame/Buildable/Building/Roof/UI/IconDesc_FicsitRoof2m_512.IconDesc_FicsitRoof2m_512',\n  'mCrosshairMaterial': 'None',\n  'mDescriptorStatBars': '',\n  'mSubCategories': '(BlueprintGeneratedClass\\'\"/Game/FactoryGame/Interface/UI/InGame/BuildMenu/BuildCategories/Sub_Organisation/SC_Roofs.SC_Roofs_C\"\\')',\n  'mMenuPriority': '2.000000',\n  'mFluidColor': '(B=0,G=0,R=0,A=0)',\n  'mGasColor': '(B=0,G=0,R=0,A=0)',\n  'mCompatibleItemDescriptors': '',\n  'mClassToScanFor': 'None',\n  'mScannableType': 'RTWOT_Default',\n  'mShouldOverrideScannerDisplayText': 'False',\n  'mScannerDisplayText': '',\n  'mScannerLightColor': '(B=0,G=0,R=0,A=0)'},\n 'Desc_Roof_Orange_04_C': {'ClassName': 'Desc_Roof_Orange_04_C',\n  'mDisplayName': '',\n  'mDescription': '',\n  'mAbbreviatedDisplayName': '',\n  'mStackSize': 'SS_MEDIUM',\n  'mCanBeDiscarded': 'True',\n  'mRememberPickUp': 'False',\n  'mEnergyValue': '0.000000',\n  'mRadioactiveDecay': '0.000000',\n  'mForm': 'RF_INVALID',\n  'mSmallIcon': 'Texture2D /Game/FactoryGame/Buildable/Building/Roof/UI/IconDesc_FicsitRoof4m_256.IconDesc_FicsitRoof4m_256',\n  'mPersistentBigIcon': 'Texture2D /Game/FactoryGame/Buildable/Building/Roof/UI/IconDesc_FicsitRoof4m_512.IconDesc_FicsitRoof4m_512',\n  'mCrosshairMaterial': 'None',\n  'mDescriptorStatBars': '',\n  'mSubCategories': '(BlueprintGeneratedClass\\'\"/Game/FactoryGame/Interface/UI/InGame/BuildMenu/BuildCategories/Sub_Organisation/SC_Roofs.SC_Roofs_C\"\\')',\n  'mMenuPriority': '1.000000',\n  'mFluidColor': '(B=0,G=0,R=0,A=0)',\n  'mGasColor': '(B=0,G=0,R=0,A=0)',\n  'mCompatibleItemDescriptors': '',\n  'mClassToScanFor': 'None',\n  'mScannableType': 'RTWOT_Default',\n  'mShouldOverrideScannerDisplayText': 'False',\n  'mScannerDisplayText': '',\n  'mScannerLightColor': '(B=0,G=0,R=0,A=0)'},\n 'Desc_Roof_Orange_InCorner_01_C': {'ClassName': 'Desc_Roof_Orange_InCorner_01_C',\n  'mDisplayName': '',\n  'mDescription': '',\n  'mAbbreviatedDisplayName': '',\n  'mStackSize': 'SS_MEDIUM',\n  'mCanBeDiscarded': 'True',\n  'mRememberPickUp': 'False',\n  'mEnergyValue': '0.000000',\n  'mRadioactiveDecay': '0.000000',\n  'mForm': 'RF_INVALID',\n  'mSmallIcon': 'Texture2D /Game/FactoryGame/Buildable/Building/Roof/UI/IconDesc_RoofFicsitIn_01_256.IconDesc_RoofFicsitIn_01_256',\n  'mPersistentBigIcon': 'Texture2D /Game/FactoryGame/Buildable/Building/Roof/UI/IconDesc_RoofFicsitIn_01_512.IconDesc_RoofFicsitIn_01_512',\n  'mCrosshairMaterial': 'None',\n  'mDescriptorStatBars': '',\n  'mSubCategories': '(BlueprintGeneratedClass\\'\"/Game/FactoryGame/Interface/UI/InGame/BuildMenu/BuildCategories/Sub_Organisation/SC_Roofs.SC_Roofs_C\"\\')',\n  'mMenuPriority': '10.000000',\n  'mFluidColor': '(B=0,G=0,R=0,A=0)',\n  'mGasColor': '(B=0,G=0,R=0,A=0)',\n  'mCompatibleItemDescriptors': '',\n  'mClassToScanFor': 'None',\n  'mScannableType': 'RTWOT_Default',\n  'mShouldOverrideScannerDisplayText': 'False',\n  'mScannerDisplayText': '',\n  'mScannerLightColor': '(B=0,G=0,R=0,A=0)'},\n 'Desc_Roof_Orange_InCorner_02_C': {'ClassName': 'Desc_Roof_Orange_InCorner_02_C',\n  'mDisplayName': '',\n  'mDescription': '',\n  'mAbbreviatedDisplayName': '',\n  'mStackSize': 'SS_MEDIUM',\n  'mCanBeDiscarded': 'True',\n  'mRememberPickUp': 'False',\n  'mEnergyValue': '0.000000',\n  'mRadioactiveDecay': '0.000000',\n  'mForm': 'RF_INVALID',\n  'mSmallIcon': 'Texture2D /Game/FactoryGame/Buildable/Building/Roof/UI/IconDesc_RoofFicsitIn_02_256.IconDesc_RoofFicsitIn_02_256',\n  'mPersistentBigIcon': 'Texture2D /Game/FactoryGame/Buildable/Building/Roof/UI/IconDesc_RoofFicsitIn_02_512.IconDesc_RoofFicsitIn_02_512',\n  'mCrosshairMaterial': 'None',\n  'mDescriptorStatBars': '',\n  'mSubCategories': '(BlueprintGeneratedClass\\'\"/Game/FactoryGame/Interface/UI/InGame/BuildMenu/BuildCategories/Sub_Organisation/SC_Roofs.SC_Roofs_C\"\\')',\n  'mMenuPriority': '9.000000',\n  'mFluidColor': '(B=0,G=0,R=0,A=0)',\n  'mGasColor': '(B=0,G=0,R=0,A=0)',\n  'mCompatibleItemDescriptors': '',\n  'mClassToScanFor': 'None',\n  'mScannableType': 'RTWOT_Default',\n  'mShouldOverrideScannerDisplayText': 'False',\n  'mScannerDisplayText': '',\n  'mScannerLightColor': '(B=0,G=0,R=0,A=0)'},\n 'Desc_Roof_Orange_InCorner_03_C': {'ClassName': 'Desc_Roof_Orange_InCorner_03_C',\n  'mDisplayName': '',\n  'mDescription': '',\n  'mAbbreviatedDisplayName': '',\n  'mStackSize': 'SS_MEDIUM',\n  'mCanBeDiscarded': 'True',\n  'mRememberPickUp': 'False',\n  'mEnergyValue': '0.000000',\n  'mRadioactiveDecay': '0.000000',\n  'mForm': 'RF_INVALID',\n  'mSmallIcon': 'Texture2D /Game/FactoryGame/Buildable/Building/Roof/UI/IconDesc_RoofFicsitIn_03_256.IconDesc_RoofFicsitIn_03_256',\n  'mPersistentBigIcon': 'Texture2D /Game/FactoryGame/Buildable/Building/Roof/UI/IconDesc_RoofFicsitIn_03_512.IconDesc_RoofFicsitIn_03_512',\n  'mCrosshairMaterial': 'None',\n  'mDescriptorStatBars': '',\n  'mSubCategories': '(BlueprintGeneratedClass\\'\"/Game/FactoryGame/Interface/UI/InGame/BuildMenu/BuildCategories/Sub_Organisation/SC_Roofs.SC_Roofs_C\"\\')',\n  'mMenuPriority': '8.000000',\n  'mFluidColor': '(B=0,G=0,R=0,A=0)',\n  'mGasColor': '(B=0,G=0,R=0,A=0)',\n  'mCompatibleItemDescriptors': '',\n  'mClassToScanFor': 'None',\n  'mScannableType': 'RTWOT_Default',\n  'mShouldOverrideScannerDisplayText': 'False',\n  'mScannerDisplayText': '',\n  'mScannerLightColor': '(B=0,G=0,R=0,A=0)'},\n 'Desc_Roof_Orange_OutCorner_01_C': {'ClassName': 'Desc_Roof_Orange_OutCorner_01_C',\n  'mDisplayName': '',\n  'mDescription': '',\n  'mAbbreviatedDisplayName': '',\n  'mStackSize': 'SS_MEDIUM',\n  'mCanBeDiscarded': 'True',\n  'mRememberPickUp': 'False',\n  'mEnergyValue': '0.000000',\n  'mRadioactiveDecay': '0.000000',\n  'mForm': 'RF_INVALID',\n  'mSmallIcon': 'Texture2D /Game/FactoryGame/Buildable/Building/Roof/UI/IconDesc_FicsitRoofOut_01_256.IconDesc_FicsitRoofOut_01_256',\n  'mPersistentBigIcon': 'Texture2D /Game/FactoryGame/Buildable/Building/Roof/UI/IconDesc_FicsitRoofOut_01_512.IconDesc_FicsitRoofOut_01_512',\n  'mCrosshairMaterial': 'None',\n  'mDescriptorStatBars': '',\n  'mSubCategories': '(BlueprintGeneratedClass\\'\"/Game/FactoryGame/Interface/UI/InGame/BuildMenu/BuildCategories/Sub_Organisation/SC_Roofs.SC_Roofs_C\"\\')',\n  'mMenuPriority': '7.000000',\n  'mFluidColor': '(B=0,G=0,R=0,A=0)',\n  'mGasColor': '(B=0,G=0,R=0,A=0)',\n  'mCompatibleItemDescriptors': '',\n  'mClassToScanFor': 'None',\n  'mScannableType': 'RTWOT_Default',\n  'mShouldOverrideScannerDisplayText': 'False',\n  'mScannerDisplayText': '',\n  'mScannerLightColor': '(B=0,G=0,R=0,A=0)'},\n 'Desc_Roof_Orange_OutCorner_02_C': {'ClassName': 'Desc_Roof_Orange_OutCorner_02_C',\n  'mDisplayName': '',\n  'mDescription': '',\n  'mAbbreviatedDisplayName': '',\n  'mStackSize': 'SS_MEDIUM',\n  'mCanBeDiscarded': 'True',\n  'mRememberPickUp': 'False',\n  'mEnergyValue': '0.000000',\n  'mRadioactiveDecay': '0.000000',\n  'mForm': 'RF_INVALID',\n  'mSmallIcon': 'Texture2D /Game/FactoryGame/Buildable/Building/Roof/UI/IconDesc_FicsitRoofOut_02_256.IconDesc_FicsitRoofOut_02_256',\n  'mPersistentBigIcon': 'Texture2D /Game/FactoryGame/Buildable/Building/Roof/UI/IconDesc_FicsitRoofOut_02_512.IconDesc_FicsitRoofOut_02_512',\n  'mCrosshairMaterial': 'None',\n  'mDescriptorStatBars': '',\n  'mSubCategories': '(BlueprintGeneratedClass\\'\"/Game/FactoryGame/Interface/UI/InGame/BuildMenu/BuildCategories/Sub_Organisation/SC_Roofs.SC_Roofs_C\"\\')',\n  'mMenuPriority': '6.000000',\n  'mFluidColor': '(B=0,G=0,R=0,A=0)',\n  'mGasColor': '(B=0,G=0,R=0,A=0)',\n  'mCompatibleItemDescriptors': '',\n  'mClassToScanFor': 'None',\n  'mScannableType': 'RTWOT_Default',\n  'mShouldOverrideScannerDisplayText': 'False',\n  'mScannerDisplayText': '',\n  'mScannerLightColor': '(B=0,G=0,R=0,A=0)'},\n 'Desc_Roof_Orange_OutCorner_03_C': {'ClassName': 'Desc_Roof_Orange_OutCorner_03_C',\n  'mDisplayName': '',\n  'mDescription': '',\n  'mAbbreviatedDisplayName': '',\n  'mStackSize': 'SS_MEDIUM',\n  'mCanBeDiscarded': 'True',\n  'mRememberPickUp': 'False',\n  'mEnergyValue': '0.000000',\n  'mRadioactiveDecay': '0.000000',\n  'mForm': 'RF_INVALID',\n  'mSmallIcon': 'Texture2D /Game/FactoryGame/Buildable/Building/Roof/UI/IconDesc_FicsitRoofOut_03_256.IconDesc_FicsitRoofOut_03_256',\n  'mPersistentBigIcon': 'Texture2D /Game/FactoryGame/Buildable/Building/Roof/UI/IconDesc_FicsitRoofOut_03_512.IconDesc_FicsitRoofOut_03_512',\n  'mCrosshairMaterial': 'None',\n  'mDescriptorStatBars': '',\n  'mSubCategories': '(BlueprintGeneratedClass\\'\"/Game/FactoryGame/Interface/UI/InGame/BuildMenu/BuildCategories/Sub_Organisation/SC_Roofs.SC_Roofs_C\"\\')',\n  'mMenuPriority': '5.000000',\n  'mFluidColor': '(B=0,G=0,R=0,A=0)',\n  'mGasColor': '(B=0,G=0,R=0,A=0)',\n  'mCompatibleItemDescriptors': '',\n  'mClassToScanFor': 'None',\n  'mScannableType': 'RTWOT_Default',\n  'mShouldOverrideScannerDisplayText': 'False',\n  'mScannerDisplayText': '',\n  'mScannerLightColor': '(B=0,G=0,R=0,A=0)'},\n 'Desc_Roof_Orange_01_C': {'ClassName': 'Desc_Roof_Orange_01_C',\n  'mDisplayName': '',\n  'mDescription': '',\n  'mAbbreviatedDisplayName': '',\n  'mStackSize': 'SS_MEDIUM',\n  'mCanBeDiscarded': 'True',\n  'mRememberPickUp': 'False',\n  'mEnergyValue': '0.000000',\n  'mRadioactiveDecay': '0.000000',\n  'mForm': 'RF_INVALID',\n  'mSmallIcon': 'Texture2D /Game/FactoryGame/Buildable/Building/Roof/UI/IconDesc_FicsitRoofFlat_512.IconDesc_FicsitRoofFlat_512',\n  'mPersistentBigIcon': 'Texture2D /Game/FactoryGame/Buildable/Building/Roof/UI/IconDesc_FicsitRoofFlat_512.IconDesc_FicsitRoofFlat_512',\n  'mCrosshairMaterial': 'None',\n  'mDescriptorStatBars': '',\n  'mSubCategories': '(BlueprintGeneratedClass\\'\"/Game/FactoryGame/Interface/UI/InGame/BuildMenu/BuildCategories/Sub_Organisation/SC_Roofs.SC_Roofs_C\"\\')',\n  'mMenuPriority': '4.000000',\n  'mFluidColor': '(B=0,G=0,R=0,A=0)',\n  'mGasColor': '(B=0,G=0,R=0,A=0)',\n  'mCompatibleItemDescriptors': '',\n  'mClassToScanFor': 'None',\n  'mScannableType': 'RTWOT_Default',\n  'mShouldOverrideScannerDisplayText': 'False',\n  'mScannerDisplayText': '',\n  'mScannerLightColor': '(B=0,G=0,R=0,A=0)'},\n 'Desc_Roof_Window_01_C': {'ClassName': 'Desc_Roof_Window_01_C',\n  'mDisplayName': '',\n  'mDescription': '',\n  'mAbbreviatedDisplayName': '',\n  'mStackSize': 'SS_MEDIUM',\n  'mCanBeDiscarded': 'True',\n  'mRememberPickUp': 'False',\n  'mEnergyValue': '0.000000',\n  'mRadioactiveDecay': '0.000000',\n  'mForm': 'RF_INVALID',\n  'mSmallIcon': 'Texture2D /Game/FactoryGame/Buildable/Building/Roof/UI/IconDesc_GlassRoofFlat_256.IconDesc_GlassRoofFlat_256',\n  'mPersistentBigIcon': 'Texture2D /Game/FactoryGame/Buildable/Building/Roof/UI/IconDesc_GlassRoofFlat_512.IconDesc_GlassRoofFlat_512',\n  'mCrosshairMaterial': 'None',\n  'mDescriptorStatBars': '',\n  'mSubCategories': '(BlueprintGeneratedClass\\'\"/Game/FactoryGame/Interface/UI/InGame/BuildMenu/BuildCategories/Sub_Organisation/SC_Roofs.SC_Roofs_C\"\\')',\n  'mMenuPriority': '34.000000',\n  'mFluidColor': '(B=0,G=0,R=0,A=0)',\n  'mGasColor': '(B=0,G=0,R=0,A=0)',\n  'mCompatibleItemDescriptors': '',\n  'mClassToScanFor': 'None',\n  'mScannableType': 'RTWOT_Default',\n  'mShouldOverrideScannerDisplayText': 'False',\n  'mScannerDisplayText': '',\n  'mScannerLightColor': '(B=0,G=0,R=0,A=0)'},\n 'Desc_Roof_Window_02_C': {'ClassName': 'Desc_Roof_Window_02_C',\n  'mDisplayName': '',\n  'mDescription': '',\n  'mAbbreviatedDisplayName': '',\n  'mStackSize': 'SS_MEDIUM',\n  'mCanBeDiscarded': 'True',\n  'mRememberPickUp': 'False',\n  'mEnergyValue': '0.000000',\n  'mRadioactiveDecay': '0.000000',\n  'mForm': 'RF_INVALID',\n  'mSmallIcon': 'Texture2D /Game/FactoryGame/Buildable/Building/Roof/UI/IconDesc_GlassRoof1m_256.IconDesc_GlassRoof1m_256',\n  'mPersistentBigIcon': 'Texture2D /Game/FactoryGame/Buildable/Building/Roof/UI/IconDesc_GlassRoof1m_512.IconDesc_GlassRoof1m_512',\n  'mCrosshairMaterial': 'None',\n  'mDescriptorStatBars': '',\n  'mSubCategories': '(BlueprintGeneratedClass\\'\"/Game/FactoryGame/Interface/UI/InGame/BuildMenu/BuildCategories/Sub_Organisation/SC_Roofs.SC_Roofs_C\"\\')',\n  'mMenuPriority': '33.000000',\n  'mFluidColor': '(B=0,G=0,R=0,A=0)',\n  'mGasColor': '(B=0,G=0,R=0,A=0)',\n  'mCompatibleItemDescriptors': '',\n  'mClassToScanFor': 'None',\n  'mScannableType': 'RTWOT_Default',\n  'mShouldOverrideScannerDisplayText': 'False',\n  'mScannerDisplayText': '',\n  'mScannerLightColor': '(B=0,G=0,R=0,A=0)'},\n 'Desc_Roof_Window_03_C': {'ClassName': 'Desc_Roof_Window_03_C',\n  'mDisplayName': '',\n  'mDescription': '',\n  'mAbbreviatedDisplayName': '',\n  'mStackSize': 'SS_MEDIUM',\n  'mCanBeDiscarded': 'True',\n  'mRememberPickUp': 'False',\n  'mEnergyValue': '0.000000',\n  'mRadioactiveDecay': '0.000000',\n  'mForm': 'RF_INVALID',\n  'mSmallIcon': 'Texture2D /Game/FactoryGame/Buildable/Building/Roof/UI/IconDesc_GlassRoof2m_256.IconDesc_GlassRoof2m_256',\n  'mPersistentBigIcon': 'Texture2D /Game/FactoryGame/Buildable/Building/Roof/UI/IconDesc_GlassRoof2m_512.IconDesc_GlassRoof2m_512',\n  'mCrosshairMaterial': 'None',\n  'mDescriptorStatBars': '',\n  'mSubCategories': '(BlueprintGeneratedClass\\'\"/Game/FactoryGame/Interface/UI/InGame/BuildMenu/BuildCategories/Sub_Organisation/SC_Roofs.SC_Roofs_C\"\\')',\n  'mMenuPriority': '32.000000',\n  'mFluidColor': '(B=0,G=0,R=0,A=0)',\n  'mGasColor': '(B=0,G=0,R=0,A=0)',\n  'mCompatibleItemDescriptors': '',\n  'mClassToScanFor': 'None',\n  'mScannableType': 'RTWOT_Default',\n  'mShouldOverrideScannerDisplayText': 'False',\n  'mScannerDisplayText': '',\n  'mScannerLightColor': '(B=0,G=0,R=0,A=0)'},\n 'Desc_Roof_Window_04_C': {'ClassName': 'Desc_Roof_Window_04_C',\n  'mDisplayName': '',\n  'mDescription': '',\n  'mAbbreviatedDisplayName': '',\n  'mStackSize': 'SS_MEDIUM',\n  'mCanBeDiscarded': 'True',\n  'mRememberPickUp': 'False',\n  'mEnergyValue': '0.000000',\n  'mRadioactiveDecay': '0.000000',\n  'mForm': 'RF_INVALID',\n  'mSmallIcon': 'Texture2D /Game/FactoryGame/Buildable/Building/Roof/UI/IconDesc_GlassRoof4m_256.IconDesc_GlassRoof4m_256',\n  'mPersistentBigIcon': 'Texture2D /Game/FactoryGame/Buildable/Building/Roof/UI/IconDesc_GlassRoof4m_512.IconDesc_GlassRoof4m_512',\n  'mCrosshairMaterial': 'None',\n  'mDescriptorStatBars': '',\n  'mSubCategories': '(BlueprintGeneratedClass\\'\"/Game/FactoryGame/Interface/UI/InGame/BuildMenu/BuildCategories/Sub_Organisation/SC_Roofs.SC_Roofs_C\"\\')',\n  'mMenuPriority': '31.000000',\n  'mFluidColor': '(B=0,G=0,R=0,A=0)',\n  'mGasColor': '(B=0,G=0,R=0,A=0)',\n  'mCompatibleItemDescriptors': '',\n  'mClassToScanFor': 'None',\n  'mScannableType': 'RTWOT_Default',\n  'mShouldOverrideScannerDisplayText': 'False',\n  'mScannerDisplayText': '',\n  'mScannerLightColor': '(B=0,G=0,R=0,A=0)'},\n 'Desc_Roof_Window_InCorner_01_C': {'ClassName': 'Desc_Roof_Window_InCorner_01_C',\n  'mDisplayName': '',\n  'mDescription': '',\n  'mAbbreviatedDisplayName': '',\n  'mStackSize': 'SS_MEDIUM',\n  'mCanBeDiscarded': 'True',\n  'mRememberPickUp': 'False',\n  'mEnergyValue': '0.000000',\n  'mRadioactiveDecay': '0.000000',\n  'mForm': 'RF_INVALID',\n  'mSmallIcon': 'Texture2D /Game/FactoryGame/Buildable/Building/Roof/UI/IconDesc_RoofWindowIn_01_256.IconDesc_RoofWindowIn_01_256',\n  'mPersistentBigIcon': 'Texture2D /Game/FactoryGame/Buildable/Building/Roof/UI/IconDesc_RoofWindowIn_01_512.IconDesc_RoofWindowIn_01_512',\n  'mCrosshairMaterial': 'None',\n  'mDescriptorStatBars': '',\n  'mSubCategories': '(BlueprintGeneratedClass\\'\"/Game/FactoryGame/Interface/UI/InGame/BuildMenu/BuildCategories/Sub_Organisation/SC_Roofs.SC_Roofs_C\"\\')',\n  'mMenuPriority': '40.000000',\n  'mFluidColor': '(B=0,G=0,R=0,A=0)',\n  'mGasColor': '(B=0,G=0,R=0,A=0)',\n  'mCompatibleItemDescriptors': '',\n  'mClassToScanFor': 'None',\n  'mScannableType': 'RTWOT_Default',\n  'mShouldOverrideScannerDisplayText': 'False',\n  'mScannerDisplayText': '',\n  'mScannerLightColor': '(B=0,G=0,R=0,A=0)'},\n 'Desc_Roof_Window_InCorner_02_C': {'ClassName': 'Desc_Roof_Window_InCorner_02_C',\n  'mDisplayName': '',\n  'mDescription': '',\n  'mAbbreviatedDisplayName': '',\n  'mStackSize': 'SS_MEDIUM',\n  'mCanBeDiscarded': 'True',\n  'mRememberPickUp': 'False',\n  'mEnergyValue': '0.000000',\n  'mRadioactiveDecay': '0.000000',\n  'mForm': 'RF_INVALID',\n  'mSmallIcon': 'Texture2D /Game/FactoryGame/Buildable/Building/Roof/UI/IconDesc_RoofWindowIn_02_256.IconDesc_RoofWindowIn_02_256',\n  'mPersistentBigIcon': 'Texture2D /Game/FactoryGame/Buildable/Building/Roof/UI/IconDesc_RoofWindowIn_02_512.IconDesc_RoofWindowIn_02_512',\n  'mCrosshairMaterial': 'None',\n  'mDescriptorStatBars': '',\n  'mSubCategories': '(BlueprintGeneratedClass\\'\"/Game/FactoryGame/Interface/UI/InGame/BuildMenu/BuildCategories/Sub_Organisation/SC_Roofs.SC_Roofs_C\"\\')',\n  'mMenuPriority': '39.000000',\n  'mFluidColor': '(B=0,G=0,R=0,A=0)',\n  'mGasColor': '(B=0,G=0,R=0,A=0)',\n  'mCompatibleItemDescriptors': '',\n  'mClassToScanFor': 'None',\n  'mScannableType': 'RTWOT_Default',\n  'mShouldOverrideScannerDisplayText': 'False',\n  'mScannerDisplayText': '',\n  'mScannerLightColor': '(B=0,G=0,R=0,A=0)'},\n 'Desc_Roof_Window_InCorner_03_C': {'ClassName': 'Desc_Roof_Window_InCorner_03_C',\n  'mDisplayName': '',\n  'mDescription': '',\n  'mAbbreviatedDisplayName': '',\n  'mStackSize': 'SS_MEDIUM',\n  'mCanBeDiscarded': 'True',\n  'mRememberPickUp': 'False',\n  'mEnergyValue': '0.000000',\n  'mRadioactiveDecay': '0.000000',\n  'mForm': 'RF_INVALID',\n  'mSmallIcon': 'Texture2D /Game/FactoryGame/Buildable/Building/Roof/UI/IconDesc_RoofWindowIn_03_256.IconDesc_RoofWindowIn_03_256',\n  'mPersistentBigIcon': 'Texture2D /Game/FactoryGame/Buildable/Building/Roof/UI/IconDesc_RoofWindowIn_03_512.IconDesc_RoofWindowIn_03_512',\n  'mCrosshairMaterial': 'None',\n  'mDescriptorStatBars': '',\n  'mSubCategories': '(BlueprintGeneratedClass\\'\"/Game/FactoryGame/Interface/UI/InGame/BuildMenu/BuildCategories/Sub_Organisation/SC_Roofs.SC_Roofs_C\"\\')',\n  'mMenuPriority': '38.000000',\n  'mFluidColor': '(B=0,G=0,R=0,A=0)',\n  'mGasColor': '(B=0,G=0,R=0,A=0)',\n  'mCompatibleItemDescriptors': '',\n  'mClassToScanFor': 'None',\n  'mScannableType': 'RTWOT_Default',\n  'mShouldOverrideScannerDisplayText': 'False',\n  'mScannerDisplayText': '',\n  'mScannerLightColor': '(B=0,G=0,R=0,A=0)'},\n 'Desc_Roof_Window_OutCorner_01_C': {'ClassName': 'Desc_Roof_Window_OutCorner_01_C',\n  'mDisplayName': '',\n  'mDescription': '',\n  'mAbbreviatedDisplayName': '',\n  'mStackSize': 'SS_MEDIUM',\n  'mCanBeDiscarded': 'True',\n  'mRememberPickUp': 'False',\n  'mEnergyValue': '0.000000',\n  'mRadioactiveDecay': '0.000000',\n  'mForm': 'RF_INVALID',\n  'mSmallIcon': 'Texture2D /Game/FactoryGame/Buildable/Building/Roof/UI/IconDesc_RoofWindowOut_01_256.IconDesc_RoofWindowOut_01_256',\n  'mPersistentBigIcon': 'Texture2D /Game/FactoryGame/Buildable/Building/Roof/UI/IconDesc_RoofWindowOut_01_512.IconDesc_RoofWindowOut_01_512',\n  'mCrosshairMaterial': 'None',\n  'mDescriptorStatBars': '',\n  'mSubCategories': '(BlueprintGeneratedClass\\'\"/Game/FactoryGame/Interface/UI/InGame/BuildMenu/BuildCategories/Sub_Organisation/SC_Roofs.SC_Roofs_C\"\\')',\n  'mMenuPriority': '37.000000',\n  'mFluidColor': '(B=0,G=0,R=0,A=0)',\n  'mGasColor': '(B=0,G=0,R=0,A=0)',\n  'mCompatibleItemDescriptors': '',\n  'mClassToScanFor': 'None',\n  'mScannableType': 'RTWOT_Default',\n  'mShouldOverrideScannerDisplayText': 'False',\n  'mScannerDisplayText': '',\n  'mScannerLightColor': '(B=0,G=0,R=0,A=0)'},\n 'Desc_Roof_Window_OutCorner_02_C': {'ClassName': 'Desc_Roof_Window_OutCorner_02_C',\n  'mDisplayName': '',\n  'mDescription': '',\n  'mAbbreviatedDisplayName': '',\n  'mStackSize': 'SS_MEDIUM',\n  'mCanBeDiscarded': 'True',\n  'mRememberPickUp': 'False',\n  'mEnergyValue': '0.000000',\n  'mRadioactiveDecay': '0.000000',\n  'mForm': 'RF_INVALID',\n  'mSmallIcon': 'Texture2D /Game/FactoryGame/Buildable/Building/Roof/UI/IconDesc_RoofWindowOut_02_256.IconDesc_RoofWindowOut_02_256',\n  'mPersistentBigIcon': 'Texture2D /Game/FactoryGame/Buildable/Building/Roof/UI/IconDesc_RoofWindowOut_02_512.IconDesc_RoofWindowOut_02_512',\n  'mCrosshairMaterial': 'None',\n  'mDescriptorStatBars': '',\n  'mSubCategories': '(BlueprintGeneratedClass\\'\"/Game/FactoryGame/Interface/UI/InGame/BuildMenu/BuildCategories/Sub_Organisation/SC_Roofs.SC_Roofs_C\"\\')',\n  'mMenuPriority': '36.000000',\n  'mFluidColor': '(B=0,G=0,R=0,A=0)',\n  'mGasColor': '(B=0,G=0,R=0,A=0)',\n  'mCompatibleItemDescriptors': '',\n  'mClassToScanFor': 'None',\n  'mScannableType': 'RTWOT_Default',\n  'mShouldOverrideScannerDisplayText': 'False',\n  'mScannerDisplayText': '',\n  'mScannerLightColor': '(B=0,G=0,R=0,A=0)'},\n 'Desc_Roof_Window_OutCorner_03_C': {'ClassName': 'Desc_Roof_Window_OutCorner_03_C',\n  'mDisplayName': '',\n  'mDescription': '',\n  'mAbbreviatedDisplayName': '',\n  'mStackSize': 'SS_MEDIUM',\n  'mCanBeDiscarded': 'True',\n  'mRememberPickUp': 'False',\n  'mEnergyValue': '0.000000',\n  'mRadioactiveDecay': '0.000000',\n  'mForm': 'RF_INVALID',\n  'mSmallIcon': 'Texture2D /Game/FactoryGame/Buildable/Building/Roof/UI/IconDesc_RoofWindowOut_03_256.IconDesc_RoofWindowOut_03_256',\n  'mPersistentBigIcon': 'Texture2D /Game/FactoryGame/Buildable/Building/Roof/UI/IconDesc_RoofWindowOut_03_512.IconDesc_RoofWindowOut_03_512',\n  'mCrosshairMaterial': 'None',\n  'mDescriptorStatBars': '',\n  'mSubCategories': '(BlueprintGeneratedClass\\'\"/Game/FactoryGame/Interface/UI/InGame/BuildMenu/BuildCategories/Sub_Organisation/SC_Roofs.SC_Roofs_C\"\\')',\n  'mMenuPriority': '35.000000',\n  'mFluidColor': '(B=0,G=0,R=0,A=0)',\n  'mGasColor': '(B=0,G=0,R=0,A=0)',\n  'mCompatibleItemDescriptors': '',\n  'mClassToScanFor': 'None',\n  'mScannableType': 'RTWOT_Default',\n  'mShouldOverrideScannerDisplayText': 'False',\n  'mScannerDisplayText': '',\n  'mScannerLightColor': '(B=0,G=0,R=0,A=0)'},\n 'Desc_Roof_A_01_C': {'ClassName': 'Desc_Roof_A_01_C',\n  'mDisplayName': '',\n  'mDescription': '',\n  'mAbbreviatedDisplayName': '',\n  'mStackSize': 'SS_MEDIUM',\n  'mCanBeDiscarded': 'True',\n  'mRememberPickUp': 'False',\n  'mEnergyValue': '0.000000',\n  'mRadioactiveDecay': '0.000000',\n  'mForm': 'RF_INVALID',\n  'mSmallIcon': 'Texture2D /Game/FactoryGame/Buildable/Building/Roof/UI/IconDesc_SteelRoofFlat_256.IconDesc_SteelRoofFlat_256',\n  'mPersistentBigIcon': 'Texture2D /Game/FactoryGame/Buildable/Building/Roof/UI/IconDesc_SteelRoofFlat_512.IconDesc_SteelRoofFlat_512',\n  'mCrosshairMaterial': 'None',\n  'mDescriptorStatBars': '',\n  'mSubCategories': '(BlueprintGeneratedClass\\'\"/Game/FactoryGame/Interface/UI/InGame/BuildMenu/BuildCategories/Sub_Organisation/SC_Roofs.SC_Roofs_C\"\\')',\n  'mMenuPriority': '24.000000',\n  'mFluidColor': '(B=0,G=0,R=0,A=0)',\n  'mGasColor': '(B=0,G=0,R=0,A=0)',\n  'mCompatibleItemDescriptors': '',\n  'mClassToScanFor': 'None',\n  'mScannableType': 'RTWOT_Default',\n  'mShouldOverrideScannerDisplayText': 'False',\n  'mScannerDisplayText': '',\n  'mScannerLightColor': '(B=0,G=0,R=0,A=0)'},\n 'Desc_Roof_A_02_C': {'ClassName': 'Desc_Roof_A_02_C',\n  'mDisplayName': '',\n  'mDescription': '',\n  'mAbbreviatedDisplayName': '',\n  'mStackSize': 'SS_MEDIUM',\n  'mCanBeDiscarded': 'True',\n  'mRememberPickUp': 'False',\n  'mEnergyValue': '0.000000',\n  'mRadioactiveDecay': '0.000000',\n  'mForm': 'RF_INVALID',\n  'mSmallIcon': 'Texture2D /Game/FactoryGame/Buildable/Building/Roof/UI/IconDesc_SteelRoof1m_256.IconDesc_SteelRoof1m_256',\n  'mPersistentBigIcon': 'Texture2D /Game/FactoryGame/Buildable/Building/Roof/UI/IconDesc_SteelRoof1m_512.IconDesc_SteelRoof1m_512',\n  'mCrosshairMaterial': 'None',\n  'mDescriptorStatBars': '',\n  'mSubCategories': '(BlueprintGeneratedClass\\'\"/Game/FactoryGame/Interface/UI/InGame/BuildMenu/BuildCategories/Sub_Organisation/SC_Roofs.SC_Roofs_C\"\\')',\n  'mMenuPriority': '23.000000',\n  'mFluidColor': '(B=0,G=0,R=0,A=0)',\n  'mGasColor': '(B=0,G=0,R=0,A=0)',\n  'mCompatibleItemDescriptors': '',\n  'mClassToScanFor': 'None',\n  'mScannableType': 'RTWOT_Default',\n  'mShouldOverrideScannerDisplayText': 'False',\n  'mScannerDisplayText': '',\n  'mScannerLightColor': '(B=0,G=0,R=0,A=0)'},\n 'Desc_Roof_A_03_C': {'ClassName': 'Desc_Roof_A_03_C',\n  'mDisplayName': '',\n  'mDescription': '',\n  'mAbbreviatedDisplayName': '',\n  'mStackSize': 'SS_MEDIUM',\n  'mCanBeDiscarded': 'True',\n  'mRememberPickUp': 'False',\n  'mEnergyValue': '0.000000',\n  'mRadioactiveDecay': '0.000000',\n  'mForm': 'RF_INVALID',\n  'mSmallIcon': 'Texture2D /Game/FactoryGame/Buildable/Building/Roof/UI/IconDesc_SteelRoof2m_256.IconDesc_SteelRoof2m_256',\n  'mPersistentBigIcon': 'Texture2D /Game/FactoryGame/Buildable/Building/Roof/UI/IconDesc_SteelRoof2m_512.IconDesc_SteelRoof2m_512',\n  'mCrosshairMaterial': 'None',\n  'mDescriptorStatBars': '',\n  'mSubCategories': '(BlueprintGeneratedClass\\'\"/Game/FactoryGame/Interface/UI/InGame/BuildMenu/BuildCategories/Sub_Organisation/SC_Roofs.SC_Roofs_C\"\\')',\n  'mMenuPriority': '22.000000',\n  'mFluidColor': '(B=0,G=0,R=0,A=0)',\n  'mGasColor': '(B=0,G=0,R=0,A=0)',\n  'mCompatibleItemDescriptors': '',\n  'mClassToScanFor': 'None',\n  'mScannableType': 'RTWOT_Default',\n  'mShouldOverrideScannerDisplayText': 'False',\n  'mScannerDisplayText': '',\n  'mScannerLightColor': '(B=0,G=0,R=0,A=0)'},\n 'Desc_Roof_A_04_C': {'ClassName': 'Desc_Roof_A_04_C',\n  'mDisplayName': '',\n  'mDescription': '',\n  'mAbbreviatedDisplayName': '',\n  'mStackSize': 'SS_MEDIUM',\n  'mCanBeDiscarded': 'True',\n  'mRememberPickUp': 'False',\n  'mEnergyValue': '0.000000',\n  'mRadioactiveDecay': '0.000000',\n  'mForm': 'RF_INVALID',\n  'mSmallIcon': 'Texture2D /Game/FactoryGame/Buildable/Building/Roof/UI/IconDesc_SteelRoof4m_256.IconDesc_SteelRoof4m_256',\n  'mPersistentBigIcon': 'Texture2D /Game/FactoryGame/Buildable/Building/Roof/UI/IconDesc_SteelRoof4m_512.IconDesc_SteelRoof4m_512',\n  'mCrosshairMaterial': 'None',\n  'mDescriptorStatBars': '',\n  'mSubCategories': '(BlueprintGeneratedClass\\'\"/Game/FactoryGame/Interface/UI/InGame/BuildMenu/BuildCategories/Sub_Organisation/SC_Roofs.SC_Roofs_C\"\\')',\n  'mMenuPriority': '21.000000',\n  'mFluidColor': '(B=0,G=0,R=0,A=0)',\n  'mGasColor': '(B=0,G=0,R=0,A=0)',\n  'mCompatibleItemDescriptors': '',\n  'mClassToScanFor': 'None',\n  'mScannableType': 'RTWOT_Default',\n  'mShouldOverrideScannerDisplayText': 'False',\n  'mScannerDisplayText': '',\n  'mScannerLightColor': '(B=0,G=0,R=0,A=0)'},\n 'Desc_Roof_Metal_InCorner_01_C': {'ClassName': 'Desc_Roof_Metal_InCorner_01_C',\n  'mDisplayName': '',\n  'mDescription': '',\n  'mAbbreviatedDisplayName': '',\n  'mStackSize': 'SS_MEDIUM',\n  'mCanBeDiscarded': 'True',\n  'mRememberPickUp': 'False',\n  'mEnergyValue': '0.000000',\n  'mRadioactiveDecay': '0.000000',\n  'mForm': 'RF_INVALID',\n  'mSmallIcon': 'Texture2D /Game/FactoryGame/Buildable/Building/Roof/UI/IconDesc_RoofMetalIn_01_256.IconDesc_RoofMetalIn_01_256',\n  'mPersistentBigIcon': 'Texture2D /Game/FactoryGame/Buildable/Building/Roof/UI/IconDesc_RoofMetalIn_01_512.IconDesc_RoofMetalIn_01_512',\n  'mCrosshairMaterial': 'None',\n  'mDescriptorStatBars': '',\n  'mSubCategories': '(BlueprintGeneratedClass\\'\"/Game/FactoryGame/Interface/UI/InGame/BuildMenu/BuildCategories/Sub_Organisation/SC_Roofs.SC_Roofs_C\"\\')',\n  'mMenuPriority': '30.000000',\n  'mFluidColor': '(B=0,G=0,R=0,A=0)',\n  'mGasColor': '(B=0,G=0,R=0,A=0)',\n  'mCompatibleItemDescriptors': '',\n  'mClassToScanFor': 'None',\n  'mScannableType': 'RTWOT_Default',\n  'mShouldOverrideScannerDisplayText': 'False',\n  'mScannerDisplayText': '',\n  'mScannerLightColor': '(B=0,G=0,R=0,A=0)'},\n 'Desc_Roof_Metal_InCorner_02_C': {'ClassName': 'Desc_Roof_Metal_InCorner_02_C',\n  'mDisplayName': '',\n  'mDescription': '',\n  'mAbbreviatedDisplayName': '',\n  'mStackSize': 'SS_MEDIUM',\n  'mCanBeDiscarded': 'True',\n  'mRememberPickUp': 'False',\n  'mEnergyValue': '0.000000',\n  'mRadioactiveDecay': '0.000000',\n  'mForm': 'RF_INVALID',\n  'mSmallIcon': 'Texture2D /Game/FactoryGame/Buildable/Building/Roof/UI/IconDesc_RoofMetalIn_02_256.IconDesc_RoofMetalIn_02_256',\n  'mPersistentBigIcon': 'Texture2D /Game/FactoryGame/Buildable/Building/Roof/UI/IconDesc_RoofMetalIn_02_512.IconDesc_RoofMetalIn_02_512',\n  'mCrosshairMaterial': 'None',\n  'mDescriptorStatBars': '',\n  'mSubCategories': '(BlueprintGeneratedClass\\'\"/Game/FactoryGame/Interface/UI/InGame/BuildMenu/BuildCategories/Sub_Organisation/SC_Roofs.SC_Roofs_C\"\\')',\n  'mMenuPriority': '29.000000',\n  'mFluidColor': '(B=0,G=0,R=0,A=0)',\n  'mGasColor': '(B=0,G=0,R=0,A=0)',\n  'mCompatibleItemDescriptors': '',\n  'mClassToScanFor': 'None',\n  'mScannableType': 'RTWOT_Default',\n  'mShouldOverrideScannerDisplayText': 'False',\n  'mScannerDisplayText': '',\n  'mScannerLightColor': '(B=0,G=0,R=0,A=0)'},\n 'Desc_Roof_Metal_InCorner_03_C': {'ClassName': 'Desc_Roof_Metal_InCorner_03_C',\n  'mDisplayName': '',\n  'mDescription': '',\n  'mAbbreviatedDisplayName': '',\n  'mStackSize': 'SS_MEDIUM',\n  'mCanBeDiscarded': 'True',\n  'mRememberPickUp': 'False',\n  'mEnergyValue': '0.000000',\n  'mRadioactiveDecay': '0.000000',\n  'mForm': 'RF_INVALID',\n  'mSmallIcon': 'Texture2D /Game/FactoryGame/Buildable/Building/Roof/UI/IconDesc_RoofMetalIn_03_256.IconDesc_RoofMetalIn_03_256',\n  'mPersistentBigIcon': 'Texture2D /Game/FactoryGame/Buildable/Building/Roof/UI/IconDesc_RoofMetalIn_03_512.IconDesc_RoofMetalIn_03_512',\n  'mCrosshairMaterial': 'None',\n  'mDescriptorStatBars': '',\n  'mSubCategories': '(BlueprintGeneratedClass\\'\"/Game/FactoryGame/Interface/UI/InGame/BuildMenu/BuildCategories/Sub_Organisation/SC_Roofs.SC_Roofs_C\"\\')',\n  'mMenuPriority': '28.000000',\n  'mFluidColor': '(B=0,G=0,R=0,A=0)',\n  'mGasColor': '(B=0,G=0,R=0,A=0)',\n  'mCompatibleItemDescriptors': '',\n  'mClassToScanFor': 'None',\n  'mScannableType': 'RTWOT_Default',\n  'mShouldOverrideScannerDisplayText': 'False',\n  'mScannerDisplayText': '',\n  'mScannerLightColor': '(B=0,G=0,R=0,A=0)'},\n 'Desc_Roof_Metal_OutCorner_01_C': {'ClassName': 'Desc_Roof_Metal_OutCorner_01_C',\n  'mDisplayName': '',\n  'mDescription': '',\n  'mAbbreviatedDisplayName': '',\n  'mStackSize': 'SS_MEDIUM',\n  'mCanBeDiscarded': 'True',\n  'mRememberPickUp': 'False',\n  'mEnergyValue': '0.000000',\n  'mRadioactiveDecay': '0.000000',\n  'mForm': 'RF_INVALID',\n  'mSmallIcon': 'Texture2D /Game/FactoryGame/Buildable/Building/Roof/UI/IconDesc_RoofMetalOut_01_256.IconDesc_RoofMetalOut_01_256',\n  'mPersistentBigIcon': 'Texture2D /Game/FactoryGame/Buildable/Building/Roof/UI/IconDesc_RoofMetalOut_01_512.IconDesc_RoofMetalOut_01_512',\n  'mCrosshairMaterial': 'None',\n  'mDescriptorStatBars': '',\n  'mSubCategories': '(BlueprintGeneratedClass\\'\"/Game/FactoryGame/Interface/UI/InGame/BuildMenu/BuildCategories/Sub_Organisation/SC_Roofs.SC_Roofs_C\"\\')',\n  'mMenuPriority': '27.000000',\n  'mFluidColor': '(B=0,G=0,R=0,A=0)',\n  'mGasColor': '(B=0,G=0,R=0,A=0)',\n  'mCompatibleItemDescriptors': '',\n  'mClassToScanFor': 'None',\n  'mScannableType': 'RTWOT_Default',\n  'mShouldOverrideScannerDisplayText': 'False',\n  'mScannerDisplayText': '',\n  'mScannerLightColor': '(B=0,G=0,R=0,A=0)'},\n 'Desc_Roof_Metal_OutCorner_02_C': {'ClassName': 'Desc_Roof_Metal_OutCorner_02_C',\n  'mDisplayName': '',\n  'mDescription': '',\n  'mAbbreviatedDisplayName': '',\n  'mStackSize': 'SS_MEDIUM',\n  'mCanBeDiscarded': 'True',\n  'mRememberPickUp': 'False',\n  'mEnergyValue': '0.000000',\n  'mRadioactiveDecay': '0.000000',\n  'mForm': 'RF_INVALID',\n  'mSmallIcon': 'Texture2D /Game/FactoryGame/Buildable/Building/Roof/UI/IconDesc_RoofMetalOut_02_256.IconDesc_RoofMetalOut_02_256',\n  'mPersistentBigIcon': 'Texture2D /Game/FactoryGame/Buildable/Building/Roof/UI/IconDesc_RoofMetalOut_02_512.IconDesc_RoofMetalOut_02_512',\n  'mCrosshairMaterial': 'None',\n  'mDescriptorStatBars': '',\n  'mSubCategories': '(BlueprintGeneratedClass\\'\"/Game/FactoryGame/Interface/UI/InGame/BuildMenu/BuildCategories/Sub_Organisation/SC_Roofs.SC_Roofs_C\"\\')',\n  'mMenuPriority': '26.000000',\n  'mFluidColor': '(B=0,G=0,R=0,A=0)',\n  'mGasColor': '(B=0,G=0,R=0,A=0)',\n  'mCompatibleItemDescriptors': '',\n  'mClassToScanFor': 'None',\n  'mScannableType': 'RTWOT_Default',\n  'mShouldOverrideScannerDisplayText': 'False',\n  'mScannerDisplayText': '',\n  'mScannerLightColor': '(B=0,G=0,R=0,A=0)'},\n 'Desc_Roof_Metal_OutCorner_03_C': {'ClassName': 'Desc_Roof_Metal_OutCorner_03_C',\n  'mDisplayName': '',\n  'mDescription': '',\n  'mAbbreviatedDisplayName': '',\n  'mStackSize': 'SS_MEDIUM',\n  'mCanBeDiscarded': 'True',\n  'mRememberPickUp': 'False',\n  'mEnergyValue': '0.000000',\n  'mRadioactiveDecay': '0.000000',\n  'mForm': 'RF_INVALID',\n  'mSmallIcon': 'Texture2D /Game/FactoryGame/Buildable/Building/Roof/UI/IconDesc_RoofMetalOut_03_256.IconDesc_RoofMetalOut_03_256',\n  'mPersistentBigIcon': 'Texture2D /Game/FactoryGame/Buildable/Building/Roof/UI/IconDesc_RoofMetalOut_03_512.IconDesc_RoofMetalOut_03_512',\n  'mCrosshairMaterial': 'None',\n  'mDescriptorStatBars': '',\n  'mSubCategories': '(BlueprintGeneratedClass\\'\"/Game/FactoryGame/Interface/UI/InGame/BuildMenu/BuildCategories/Sub_Organisation/SC_Roofs.SC_Roofs_C\"\\')',\n  'mMenuPriority': '25.000000',\n  'mFluidColor': '(B=0,G=0,R=0,A=0)',\n  'mGasColor': '(B=0,G=0,R=0,A=0)',\n  'mCompatibleItemDescriptors': '',\n  'mClassToScanFor': 'None',\n  'mScannableType': 'RTWOT_Default',\n  'mShouldOverrideScannerDisplayText': 'False',\n  'mScannerDisplayText': '',\n  'mScannerLightColor': '(B=0,G=0,R=0,A=0)'},\n 'Desc_Roof_Tar_01_C': {'ClassName': 'Desc_Roof_Tar_01_C',\n  'mDisplayName': '',\n  'mDescription': '',\n  'mAbbreviatedDisplayName': '',\n  'mStackSize': 'SS_MEDIUM',\n  'mCanBeDiscarded': 'True',\n  'mRememberPickUp': 'False',\n  'mEnergyValue': '0.000000',\n  'mRadioactiveDecay': '0.000000',\n  'mForm': 'RF_INVALID',\n  'mSmallIcon': 'Texture2D /Game/FactoryGame/Buildable/Building/Roof/UI/IconDesc_TarRoofFlat_256.IconDesc_TarRoofFlat_256',\n  'mPersistentBigIcon': 'Texture2D /Game/FactoryGame/Buildable/Building/Roof/UI/IconDesc_TarRoofFlat_512.IconDesc_TarRoofFlat_512',\n  'mCrosshairMaterial': 'None',\n  'mDescriptorStatBars': '',\n  'mSubCategories': '(BlueprintGeneratedClass\\'\"/Game/FactoryGame/Interface/UI/InGame/BuildMenu/BuildCategories/Sub_Organisation/SC_Roofs.SC_Roofs_C\"\\')',\n  'mMenuPriority': '14.000000',\n  'mFluidColor': '(B=0,G=0,R=0,A=0)',\n  'mGasColor': '(B=0,G=0,R=0,A=0)',\n  'mCompatibleItemDescriptors': '',\n  'mClassToScanFor': 'None',\n  'mScannableType': 'RTWOT_Default',\n  'mShouldOverrideScannerDisplayText': 'False',\n  'mScannerDisplayText': '',\n  'mScannerLightColor': '(B=0,G=0,R=0,A=0)'},\n 'Desc_Roof_Tar_02_C': {'ClassName': 'Desc_Roof_Tar_02_C',\n  'mDisplayName': '',\n  'mDescription': '',\n  'mAbbreviatedDisplayName': '',\n  'mStackSize': 'SS_MEDIUM',\n  'mCanBeDiscarded': 'True',\n  'mRememberPickUp': 'False',\n  'mEnergyValue': '0.000000',\n  'mRadioactiveDecay': '0.000000',\n  'mForm': 'RF_INVALID',\n  'mSmallIcon': 'Texture2D /Game/FactoryGame/Buildable/Building/Roof/UI/IconDesc_TarRoof1m_256.IconDesc_TarRoof1m_256',\n  'mPersistentBigIcon': 'Texture2D /Game/FactoryGame/Buildable/Building/Roof/UI/IconDesc_TarRoof1m_512.IconDesc_TarRoof1m_512',\n  'mCrosshairMaterial': 'None',\n  'mDescriptorStatBars': '',\n  'mSubCategories': '(BlueprintGeneratedClass\\'\"/Game/FactoryGame/Interface/UI/InGame/BuildMenu/BuildCategories/Sub_Organisation/SC_Roofs.SC_Roofs_C\"\\')',\n  'mMenuPriority': '13.000000',\n  'mFluidColor': '(B=0,G=0,R=0,A=0)',\n  'mGasColor': '(B=0,G=0,R=0,A=0)',\n  'mCompatibleItemDescriptors': '',\n  'mClassToScanFor': 'None',\n  'mScannableType': 'RTWOT_Default',\n  'mShouldOverrideScannerDisplayText': 'False',\n  'mScannerDisplayText': '',\n  'mScannerLightColor': '(B=0,G=0,R=0,A=0)'},\n 'Desc_Roof_Tar_03_C': {'ClassName': 'Desc_Roof_Tar_03_C',\n  'mDisplayName': '',\n  'mDescription': '',\n  'mAbbreviatedDisplayName': '',\n  'mStackSize': 'SS_MEDIUM',\n  'mCanBeDiscarded': 'True',\n  'mRememberPickUp': 'False',\n  'mEnergyValue': '0.000000',\n  'mRadioactiveDecay': '0.000000',\n  'mForm': 'RF_INVALID',\n  'mSmallIcon': 'Texture2D /Game/FactoryGame/Buildable/Building/Roof/UI/IconDesc_TarRoof2m_256.IconDesc_TarRoof2m_256',\n  'mPersistentBigIcon': 'Texture2D /Game/FactoryGame/Buildable/Building/Roof/UI/IconDesc_TarRoof2m_512.IconDesc_TarRoof2m_512',\n  'mCrosshairMaterial': 'None',\n  'mDescriptorStatBars': '',\n  'mSubCategories': '(BlueprintGeneratedClass\\'\"/Game/FactoryGame/Interface/UI/InGame/BuildMenu/BuildCategories/Sub_Organisation/SC_Roofs.SC_Roofs_C\"\\')',\n  'mMenuPriority': '12.000000',\n  'mFluidColor': '(B=0,G=0,R=0,A=0)',\n  'mGasColor': '(B=0,G=0,R=0,A=0)',\n  'mCompatibleItemDescriptors': '',\n  'mClassToScanFor': 'None',\n  'mScannableType': 'RTWOT_Default',\n  'mShouldOverrideScannerDisplayText': 'False',\n  'mScannerDisplayText': '',\n  'mScannerLightColor': '(B=0,G=0,R=0,A=0)'},\n 'Desc_Roof_Tar_04_C': {'ClassName': 'Desc_Roof_Tar_04_C',\n  'mDisplayName': '',\n  'mDescription': '',\n  'mAbbreviatedDisplayName': '',\n  'mStackSize': 'SS_MEDIUM',\n  'mCanBeDiscarded': 'True',\n  'mRememberPickUp': 'False',\n  'mEnergyValue': '0.000000',\n  'mRadioactiveDecay': '0.000000',\n  'mForm': 'RF_INVALID',\n  'mSmallIcon': 'Texture2D /Game/FactoryGame/Buildable/Building/Roof/UI/IconDesc_TarRoof4m_256.IconDesc_TarRoof4m_256',\n  'mPersistentBigIcon': 'Texture2D /Game/FactoryGame/Buildable/Building/Roof/UI/IconDesc_TarRoof4m_512.IconDesc_TarRoof4m_512',\n  'mCrosshairMaterial': 'None',\n  'mDescriptorStatBars': '',\n  'mSubCategories': '(BlueprintGeneratedClass\\'\"/Game/FactoryGame/Interface/UI/InGame/BuildMenu/BuildCategories/Sub_Organisation/SC_Roofs.SC_Roofs_C\"\\')',\n  'mMenuPriority': '11.000000',\n  'mFluidColor': '(B=0,G=0,R=0,A=0)',\n  'mGasColor': '(B=0,G=0,R=0,A=0)',\n  'mCompatibleItemDescriptors': '',\n  'mClassToScanFor': 'None',\n  'mScannableType': 'RTWOT_Default',\n  'mShouldOverrideScannerDisplayText': 'False',\n  'mScannerDisplayText': '',\n  'mScannerLightColor': '(B=0,G=0,R=0,A=0)'},\n 'Desc_Roof_Tar_InCorner_01_C': {'ClassName': 'Desc_Roof_Tar_InCorner_01_C',\n  'mDisplayName': '',\n  'mDescription': '',\n  'mAbbreviatedDisplayName': '',\n  'mStackSize': 'SS_MEDIUM',\n  'mCanBeDiscarded': 'True',\n  'mRememberPickUp': 'False',\n  'mEnergyValue': '0.000000',\n  'mRadioactiveDecay': '0.000000',\n  'mForm': 'RF_INVALID',\n  'mSmallIcon': 'Texture2D /Game/FactoryGame/Buildable/Building/Roof/UI/IconDesc_RoofTarInCorner_01_256.IconDesc_RoofTarInCorner_01_256',\n  'mPersistentBigIcon': 'Texture2D /Game/FactoryGame/Buildable/Building/Roof/UI/IconDesc_RoofTarInCorner_01_512.IconDesc_RoofTarInCorner_01_512',\n  'mCrosshairMaterial': 'None',\n  'mDescriptorStatBars': '',\n  'mSubCategories': '(BlueprintGeneratedClass\\'\"/Game/FactoryGame/Interface/UI/InGame/BuildMenu/BuildCategories/Sub_Organisation/SC_Roofs.SC_Roofs_C\"\\')',\n  'mMenuPriority': '20.000000',\n  'mFluidColor': '(B=0,G=0,R=0,A=0)',\n  'mGasColor': '(B=0,G=0,R=0,A=0)',\n  'mCompatibleItemDescriptors': '',\n  'mClassToScanFor': 'None',\n  'mScannableType': 'RTWOT_Default',\n  'mShouldOverrideScannerDisplayText': 'False',\n  'mScannerDisplayText': '',\n  'mScannerLightColor': '(B=0,G=0,R=0,A=0)'},\n 'Desc_Roof_Tar_InCorner_02_C': {'ClassName': 'Desc_Roof_Tar_InCorner_02_C',\n  'mDisplayName': '',\n  'mDescription': '',\n  'mAbbreviatedDisplayName': '',\n  'mStackSize': 'SS_MEDIUM',\n  'mCanBeDiscarded': 'True',\n  'mRememberPickUp': 'False',\n  'mEnergyValue': '0.000000',\n  'mRadioactiveDecay': '0.000000',\n  'mForm': 'RF_INVALID',\n  'mSmallIcon': 'Texture2D /Game/FactoryGame/Buildable/Building/Roof/UI/IconDesc_RoofTarInCorner_02_256.IconDesc_RoofTarInCorner_02_256',\n  'mPersistentBigIcon': 'Texture2D /Game/FactoryGame/Buildable/Building/Roof/UI/IconDesc_RoofTarInCorner_02_512.IconDesc_RoofTarInCorner_02_512',\n  'mCrosshairMaterial': 'None',\n  'mDescriptorStatBars': '',\n  'mSubCategories': '(BlueprintGeneratedClass\\'\"/Game/FactoryGame/Interface/UI/InGame/BuildMenu/BuildCategories/Sub_Organisation/SC_Roofs.SC_Roofs_C\"\\')',\n  'mMenuPriority': '19.000000',\n  'mFluidColor': '(B=0,G=0,R=0,A=0)',\n  'mGasColor': '(B=0,G=0,R=0,A=0)',\n  'mCompatibleItemDescriptors': '',\n  'mClassToScanFor': 'None',\n  'mScannableType': 'RTWOT_Default',\n  'mShouldOverrideScannerDisplayText': 'False',\n  'mScannerDisplayText': '',\n  'mScannerLightColor': '(B=0,G=0,R=0,A=0)'},\n 'Desc_Roof_Tar_InCorner_03_C': {'ClassName': 'Desc_Roof_Tar_InCorner_03_C',\n  'mDisplayName': '',\n  'mDescription': '',\n  'mAbbreviatedDisplayName': '',\n  'mStackSize': 'SS_MEDIUM',\n  'mCanBeDiscarded': 'True',\n  'mRememberPickUp': 'False',\n  'mEnergyValue': '0.000000',\n  'mRadioactiveDecay': '0.000000',\n  'mForm': 'RF_INVALID',\n  'mSmallIcon': 'Texture2D /Game/FactoryGame/Buildable/Building/Roof/UI/IconDesc_RoofTarInCorner_03_256.IconDesc_RoofTarInCorner_03_256',\n  'mPersistentBigIcon': 'Texture2D /Game/FactoryGame/Buildable/Building/Roof/UI/IconDesc_RoofTarInCorner_03_512.IconDesc_RoofTarInCorner_03_512',\n  'mCrosshairMaterial': 'None',\n  'mDescriptorStatBars': '',\n  'mSubCategories': '(BlueprintGeneratedClass\\'\"/Game/FactoryGame/Interface/UI/InGame/BuildMenu/BuildCategories/Sub_Organisation/SC_Roofs.SC_Roofs_C\"\\')',\n  'mMenuPriority': '18.000000',\n  'mFluidColor': '(B=0,G=0,R=0,A=0)',\n  'mGasColor': '(B=0,G=0,R=0,A=0)',\n  'mCompatibleItemDescriptors': '',\n  'mClassToScanFor': 'None',\n  'mScannableType': 'RTWOT_Default',\n  'mShouldOverrideScannerDisplayText': 'False',\n  'mScannerDisplayText': '',\n  'mScannerLightColor': '(B=0,G=0,R=0,A=0)'},\n 'Desc_Roof_Tar_OutCorner_01_C': {'ClassName': 'Desc_Roof_Tar_OutCorner_01_C',\n  'mDisplayName': '',\n  'mDescription': '',\n  'mAbbreviatedDisplayName': '',\n  'mStackSize': 'SS_MEDIUM',\n  'mCanBeDiscarded': 'True',\n  'mRememberPickUp': 'False',\n  'mEnergyValue': '0.000000',\n  'mRadioactiveDecay': '0.000000',\n  'mForm': 'RF_INVALID',\n  'mSmallIcon': 'Texture2D /Game/FactoryGame/Buildable/Building/Roof/UI/IconDesc_RoofTarOutCorner_01_256.IconDesc_RoofTarOutCorner_01_256',\n  'mPersistentBigIcon': 'Texture2D /Game/FactoryGame/Buildable/Building/Roof/UI/IconDesc_RoofTarOutCorner_01_512.IconDesc_RoofTarOutCorner_01_512',\n  'mCrosshairMaterial': 'None',\n  'mDescriptorStatBars': '',\n  'mSubCategories': '(BlueprintGeneratedClass\\'\"/Game/FactoryGame/Interface/UI/InGame/BuildMenu/BuildCategories/Sub_Organisation/SC_Roofs.SC_Roofs_C\"\\')',\n  'mMenuPriority': '17.000000',\n  'mFluidColor': '(B=0,G=0,R=0,A=0)',\n  'mGasColor': '(B=0,G=0,R=0,A=0)',\n  'mCompatibleItemDescriptors': '',\n  'mClassToScanFor': 'None',\n  'mScannableType': 'RTWOT_Default',\n  'mShouldOverrideScannerDisplayText': 'False',\n  'mScannerDisplayText': '',\n  'mScannerLightColor': '(B=0,G=0,R=0,A=0)'},\n 'Desc_Roof_Tar_OutCorner_02_C': {'ClassName': 'Desc_Roof_Tar_OutCorner_02_C',\n  'mDisplayName': '',\n  'mDescription': '',\n  'mAbbreviatedDisplayName': '',\n  'mStackSize': 'SS_MEDIUM',\n  'mCanBeDiscarded': 'True',\n  'mRememberPickUp': 'False',\n  'mEnergyValue': '0.000000',\n  'mRadioactiveDecay': '0.000000',\n  'mForm': 'RF_INVALID',\n  'mSmallIcon': 'Texture2D /Game/FactoryGame/Buildable/Building/Roof/UI/IconDesc_RoofTarOutCorner_02_256.IconDesc_RoofTarOutCorner_02_256',\n  'mPersistentBigIcon': 'Texture2D /Game/FactoryGame/Buildable/Building/Roof/UI/IconDesc_RoofTarOutCorner_02_512.IconDesc_RoofTarOutCorner_02_512',\n  'mCrosshairMaterial': 'None',\n  'mDescriptorStatBars': '',\n  'mSubCategories': '(BlueprintGeneratedClass\\'\"/Game/FactoryGame/Interface/UI/InGame/BuildMenu/BuildCategories/Sub_Organisation/SC_Roofs.SC_Roofs_C\"\\')',\n  'mMenuPriority': '16.000000',\n  'mFluidColor': '(B=0,G=0,R=0,A=0)',\n  'mGasColor': '(B=0,G=0,R=0,A=0)',\n  'mCompatibleItemDescriptors': '',\n  'mClassToScanFor': 'None',\n  'mScannableType': 'RTWOT_Default',\n  'mShouldOverrideScannerDisplayText': 'False',\n  'mScannerDisplayText': '',\n  'mScannerLightColor': '(B=0,G=0,R=0,A=0)'},\n 'Desc_Roof_Tar_OutCorner_03_C': {'ClassName': 'Desc_Roof_Tar_OutCorner_03_C',\n  'mDisplayName': '',\n  'mDescription': '',\n  'mAbbreviatedDisplayName': '',\n  'mStackSize': 'SS_MEDIUM',\n  'mCanBeDiscarded': 'True',\n  'mRememberPickUp': 'False',\n  'mEnergyValue': '0.000000',\n  'mRadioactiveDecay': '0.000000',\n  'mForm': 'RF_INVALID',\n  'mSmallIcon': 'Texture2D /Game/FactoryGame/Buildable/Building/Roof/UI/IconDesc_RoofTarOutCorner_03_256.IconDesc_RoofTarOutCorner_03_256',\n  'mPersistentBigIcon': 'Texture2D /Game/FactoryGame/Buildable/Building/Roof/UI/IconDesc_RoofTarOutCorner_03_512.IconDesc_RoofTarOutCorner_03_512',\n  'mCrosshairMaterial': 'None',\n  'mDescriptorStatBars': '',\n  'mSubCategories': '(BlueprintGeneratedClass\\'\"/Game/FactoryGame/Interface/UI/InGame/BuildMenu/BuildCategories/Sub_Organisation/SC_Roofs.SC_Roofs_C\"\\')',\n  'mMenuPriority': '15.000000',\n  'mFluidColor': '(B=0,G=0,R=0,A=0)',\n  'mGasColor': '(B=0,G=0,R=0,A=0)',\n  'mCompatibleItemDescriptors': '',\n  'mClassToScanFor': 'None',\n  'mScannableType': 'RTWOT_Default',\n  'mShouldOverrideScannerDisplayText': 'False',\n  'mScannerDisplayText': '',\n  'mScannerLightColor': '(B=0,G=0,R=0,A=0)'}}"
     },
     "execution_count": 6,
     "metadata": {},
     "output_type": "execute_result"
    }
   ],
   "source": [
    "BASE_CONFIG[\"Class'/Script/FactoryGame.FGBuildingDescriptor'\"]"
   ],
   "metadata": {
    "collapsed": false
   }
  },
  {
   "cell_type": "code",
   "execution_count": 10,
   "id": "8e933410-e642-4af2-88df-a63d520f4819",
   "metadata": {},
   "outputs": [],
   "source": [
    "# TODO: make an intermediate config with cleaned up keys\n",
    "# material/recipe: internal_name: useful info\n",
    "import itertools\n",
    "\n",
    "def get_materials(simple_config: dict) -> list[str]:\n",
    "    resources = []\n",
    "    for item in itertools.chain.from_iterable((simple_config[key].values() for key in RESOURCE_KEYS)):\n",
    "        resources.append(standardize(item[\"mDisplayName\"]))\n",
    "    return resources\n",
    "\n",
    "def get_recipes(simple_config: dict) -> list[str]:\n",
    "    pass\n",
    "\n",
    "def get_extractors():\n",
    "    pass\n",
    "\n",
    "def get_generators():\n",
    "    pass"
   ]
  },
  {
   "cell_type": "code",
   "execution_count": 11,
   "id": "aaf61b04-6df0-4438-988f-0e938141aeab",
   "metadata": {
    "tags": []
   },
   "outputs": [],
   "source": [
    "from abc import ABC\n",
    "from dataclasses import dataclass, fields, make_dataclass\n",
    "from enum import Enum, auto\n",
    "from collections import deque\n",
    "from typing import Optional\n",
    "from itertools import zip_longest\n",
    "import plotly.express as px\n",
    "import numpy as np\n",
    "from scipy.optimize import linprog\n",
    "\n",
    "# TODO: how much of this can be expressed/solved with matrices?\n",
    "\n",
    "class ConfigurationError(Exception):\n",
    "    pass\n",
    "\n",
    "class __MaterialSpec:\n",
    "    \"\"\"\n",
    "    TODO: give this a widget\n",
    "    \"\"\"    \n",
    "    def __add__(self, other):\n",
    "        if not isinstance(other, type(self)):\n",
    "            return NotImplemented\n",
    "        \n",
    "        result = {}\n",
    "        for name, value in self:\n",
    "            result[name] = value + getattr(other, name)\n",
    "        return type(self)(**result)\n",
    "    \n",
    "    def __sub__(self, other):\n",
    "        if not isinstance(other, type(self)):\n",
    "            return NotImplemented\n",
    "        \n",
    "        result = {}\n",
    "        for name, value in self:\n",
    "            result[name] = value - getattr(other, name)\n",
    "        return type(self)(**result)\n",
    "    \n",
    "    def __mul__(self, scalar):\n",
    "        result = {}\n",
    "        for name, value in self:\n",
    "            result[name] = value * scalar \n",
    "        return type(self)(**result)\n",
    "    \n",
    "    def __iter__(self):\n",
    "        for f in fields(self):\n",
    "            yield f.name, getattr(self, f.name)\n",
    "                       \n",
    "    def __or__(self, other):\n",
    "        if isinstance(other, type(self)):\n",
    "            return type(self)(**{name: value for (name, value), (_, matched_value) in zip(self, other) if matched_value > 0})\n",
    "        # elif isinstance(other, Material):\n",
    "        #     return type(self)(**{other.name: getattr(self, other.name)})\n",
    "        elif isinstance(other, str):\n",
    "            return type(self)(**{other: getattr(self, other)})\n",
    "        \n",
    "        return NotImplemented\n",
    "    \n",
    "    def __repr__(self):\n",
    "        return \"\\n\".join(f\"{name}: {value}\" for name, value in self if value > 0)\n",
    "\n",
    "MaterialSpec = make_dataclass(\"MaterialSpec\", [(mat, float, 0) for mat in get_materials(BASE_CONFIG)], bases=(__MaterialSpec,), repr=False)\n",
    "    \n",
    "class Recipe:\n",
    "    name: str\n",
    "    # TODO: duration: float\n",
    "    \n",
    "    def __init__(self, name: str, ingredients: MaterialSpec, products: MaterialSpec):\n",
    "        self.ingredients = ingredients\n",
    "        self.products = products\n",
    "        self.name = name\n",
    "        \n",
    "    def __add__(self, material_spec: MaterialSpec):\n",
    "        return material_spec + self.products - self.ingredients\n",
    "    \n",
    "    def __radd__(self, material_spec: MaterialSpec):\n",
    "        return self + material_spec\n",
    "    \n",
    "    def __rsub__(self, material_spec: MaterialSpec):\n",
    "        return material_spec + self.ingredients - self.products\n",
    "    \n",
    "    def __mul__(self, scalar: float):\n",
    "        \"\"\"\n",
    "        Scale up this recipe\n",
    "        \"\"\"\n",
    "        return type(self)(self.name, self.ingredients * scalar, self.products * scalar)\n",
    "    \n",
    "    def __rtruediv__(self, material_spec: MaterialSpec):\n",
    "        \"\"\"\n",
    "        Get the number of iterations of this recipe that can be produced from the given material_spec\n",
    "        \"\"\"\n",
    "        return min(getattr(material_spec, name) / value for name, value in self.ingredients if value > 0)\n",
    "    \n",
    "    def __repr__(self):\n",
    "        ingredients = \" \".join(repr(self.ingredients).splitlines())\n",
    "        products = \" \".join(repr(self.products).splitlines())\n",
    "                \n",
    "        return f\"{ingredients} >> {products}\"\n",
    "        \n",
    "        \n",
    "class Machine(ABC):\n",
    "    # TODO: don't subclass machines, just take a category argument and set parameters from config/recipe. It doesn't matter what the number of outputs is\n",
    "    \n",
    "    # TODO: weakref these\n",
    "    input_producers: dict[\"Machine\", str]\n",
    "    output_consumers: dict[\"Machine\", str]\n",
    "    \n",
    "    power_consumption: float\n",
    "    power_production: float\n",
    "    \n",
    "    clock_speed: float # TODO\n",
    "    _consumption_exponent: float # TODO\n",
    "    inputs: int\n",
    "    outputs: int\n",
    "    color: str\n",
    "    \n",
    "    _color_generator = iter(px.colors.qualitative.Dark24)\n",
    "    \n",
    "    def __init__(self, recipe: Recipe):\n",
    "        inputs = sum(material > 0 for _, material in recipe.ingredients)\n",
    "        outputs = sum(material > 0 for _, material in recipe.products)\n",
    "        self.input_producers = {}\n",
    "        self.output_consumers = {}\n",
    "        \n",
    "        if inputs != self.inputs or outputs != self.outputs:\n",
    "            raise ConfigurationError(f\"{self.__class__} must have {self.inputs} inputs and {self.outputs} outputs\")\n",
    "            \n",
    "        self.recipe = recipe\n",
    "        \n",
    "    def __init_subclass__(cls, skip_color=False):\n",
    "        if not skip_color:\n",
    "            cls.color = next(cls._color_generator)\n",
    "        \n",
    "    def __str__(self):\n",
    "        return f\"<{self.__class__.__name__}: {self.recipe}>\"\n",
    "        \n",
    "    def __repr__(self):\n",
    "        return str(self)\n",
    "        \n",
    "    def __rshift__(self, material_spec: MaterialSpec):\n",
    "        \"\"\"\n",
    "        Solve for inputs\n",
    "        Recipe >> MaterialSpec\n",
    "        \"\"\"\n",
    "        # TODO: what should the inverse of div be?\n",
    "        scale = max(getattr(material_spec, name) / value for name, value in self.recipe.products if value > 0)\n",
    "        scaled = self.recipe * scale\n",
    "        return material_spec - scaled\n",
    "    \n",
    "    def __lshift__(self, material_spec: MaterialSpec):\n",
    "        \"\"\"\n",
    "        Solve for outputs\n",
    "        Recipe << MaterialSpec\n",
    "        \"\"\"\n",
    "        scale = material_spec / self.recipe\n",
    "        scaled = self.recipe * scale\n",
    "        return material_spec + scaled\n",
    "        \n",
    "    def __rrshift__(self, material_spec: MaterialSpec):\n",
    "        \"\"\"\n",
    "        Solve for inputs\n",
    "        MaterialSpec << Recipe\n",
    "        \"\"\"\n",
    "        return self << material_spec\n",
    "    \n",
    "    def __rlshift__(self, material_spec: MaterialSpec):\n",
    "        \"\"\"\n",
    "        Solve for outputs\n",
    "        MaterialSpec >> Recipe\n",
    "        \"\"\"\n",
    "        return self >> material_spec\n",
    "        \n",
    "    def has_input(self, material: str):\n",
    "        return getattr(self.recipe.ingredients, material) > 0\n",
    "    \n",
    "    def has_output(self, material: str):\n",
    "        return getattr(self.recipe.products, material) > 0\n",
    "    \n",
    "    # TODO: there's some serious confusion of responsibilities between this and recipe\n",
    "    def products(self):\n",
    "        return [product for product, value in self.recipe.products if value > 0]\n",
    "    \n",
    "    def ingredients(self):\n",
    "        return [ingredient for ingredient, value in self.recipe.ingredients if value > 0]\n",
    "    \n",
    "    def bind(self, other: \"Machine\", material: str):\n",
    "        \"\"\"\n",
    "        Verify that there is a matching input-output pair for these two machines\n",
    "        \n",
    "        # TODO: can only handle binding one output to a given machine\n",
    "        \"\"\"\n",
    "        if self.has_output(material) and other.has_input(material):\n",
    "            other.input_producers[self] = material\n",
    "            self.output_consumers[other] = material\n",
    "        elif self.has_input(material) and other.has_output(material):\n",
    "            self.input_producers[other] = material\n",
    "            other.output_consumers[self] = material\n",
    "        else:\n",
    "            raise ConfigurationError(f\"{self} and {other} do not have a matching input and output.\")\n",
    "            \n",
    "        return self\n",
    "    \n",
    "    @staticmethod\n",
    "    def autobind(machines: list[\"Self\"]):\n",
    "        for i, machine in enumerate(machines):\n",
    "            for other_machine in machines[i:]:\n",
    "                for ingredient in machine.ingredients():\n",
    "                    if other_machine.has_output(ingredient):\n",
    "                        machine.bind(other_machine, ingredient)\n",
    "                for product in machine.products():\n",
    "                    if other_machine.has_input(product):\n",
    "                        machine.bind(other_machine, product)\n",
    "        \n",
    "\n",
    "def dataclass_to_list(cd: \"dataclass\"):\n",
    "    return [getattr(cd, f.name) for f in sorted(fields(cd), key=lambda f: f.name)]\n",
    "    "
   ]
  },
  {
   "cell_type": "code",
   "execution_count": 12,
   "id": "1185d670-8b54-4e17-9d2e-679fc55726c7",
   "metadata": {
    "tags": []
   },
   "outputs": [],
   "source": [
    "class Process:\n",
    "    \"\"\"\n",
    "    TODO: power\n",
    "    \"\"\"\n",
    "    scale: int\n",
    "    power: float = 0\n",
    "    process_root: Machine\n",
    "    input_materials: MaterialSpec\n",
    "    output_materials: MaterialSpec\n",
    "    \n",
    "    def __init__(self, process_root: Machine, registry, scale: float=1):\n",
    "        self.process_root = process_root\n",
    "        self.scale = scale\n",
    "        self.input_materials = process_root.recipe.ingredients * scale\n",
    "        self.output_materials = process_root.recipe.products * scale\n",
    "        \n",
    "        # TODO: this is terrible\n",
    "        self.process_registry = registry\n",
    "        registry[process_root] = self\n",
    "        \n",
    "        \n",
    "    @classmethod\n",
    "    def from_outputs(cls, target_output: MaterialSpec, machines: list[Machine], include_power=False):\n",
    "        \"\"\"\n",
    "        Builds a process tree from a list of machines\n",
    "        \n",
    "        TODO: co-optimize generation, use less than constraint, multiple gen/load by -1 to ensure excess consumption\n",
    "        TODO: allow surplos\n",
    "        \"\"\"\n",
    "        output = Aggregator(Recipe(\"output\", target_output, target_output))\n",
    "        nodes = deque([output])\n",
    "        visited = set()\n",
    "        registry = {}\n",
    "\n",
    "        # collect possible nodes in tree\n",
    "        while len(nodes):\n",
    "            current_node = nodes.popleft()\n",
    "            visited.add(current_node)\n",
    "            \n",
    "            for machine in machines:\n",
    "                for ingredient in current_node.ingredients():\n",
    "                    if machine.has_output(ingredient):\n",
    "                        if machine not in visited:\n",
    "                            nodes.append(machine)\n",
    "        \n",
    "        visited = list(visited)\n",
    "        costs = [1 for _ in visited] # TODO: pre-process cost per recipe\n",
    "        output_equals = dataclass_to_list(target_output)\n",
    "        \n",
    "        material_constraints = np.array([dataclass_to_list(m.recipe.products - m.recipe.ingredients) for m in visited]).T\n",
    "        \n",
    "        if include_power:\n",
    "            A_ub = [m.power_consumption - m.power_production for m in visited]\n",
    "            b_ub = [0]\n",
    "            solution = linprog(c=costs, A_eq=material_constraints, b_eq=output_equals, A_ub=A_ub, b_ub=b_ub)\n",
    "        else:\n",
    "            solution = linprog(c=costs, A_eq=material_constraints, b_eq=output_equals)\n",
    "        \n",
    "        for m, s in zip(visited, solution.x.round(4)):\n",
    "            cls(m, registry, s)\n",
    "                \n",
    "        cls(output, registry, 1)\n",
    "            \n",
    "        return registry[output]\n",
    "    \n",
    "    \n",
    "    @classmethod\n",
    "    def from_inputs(cls, available_materials, target_output, machines, generators=None):\n",
    "        \"\"\"\n",
    "        NOTE: if extractors are passed in here, this optimization is unbounded, since extractors are currently modelled as requiring no resources\n",
    "              to output their expected output. This may be why extractors in the config have a balanced in and output rate. In the case of this\n",
    "              problem, however, the optimizer will ignore extractors since consuming materials directly is equivalent.\n",
    "              FIXME: this can be addressed by adding an additional constraint on producers/extractors. May be trick for intermediate products\n",
    "        \"\"\"\n",
    "        inputs = Aggregator(Recipe(\"input\", available_materials, available_materials))\n",
    "        nodes = deque([inputs])\n",
    "        visited = set()\n",
    "        registry = {}\n",
    "\n",
    "        # collect possible nodes in tree\n",
    "        while len(nodes):\n",
    "            current_node = nodes.popleft()\n",
    "            visited.add(current_node)\n",
    "            for machine in machines:\n",
    "                for product in current_node.products():\n",
    "                    # TODO: this works, for unknown reasons. Without this, solution includes extraneous recipes, seemingly\n",
    "                    # to balance consumption\n",
    "                    if machine.has_input(product):\n",
    "                        if machine not in visited:\n",
    "                            nodes.append(machine)\n",
    "        \n",
    "        visited = list(visited)\n",
    "        \n",
    "        # FIXME: this setup of getattrs/weird loop order is heinous, even by the standards of this project\n",
    "        costs = np.array([*[sum((getattr(target_output, mat) > 0) * getattr(m.recipe.ingredients - m.recipe.products, mat) for mat in [*m.products(), *m.ingredients()]) for m in visited], *[.001 for _ in visited]])\n",
    "        \n",
    "        connect_eq_constraints = [[(j == i % len(visited)) * (1 - 2*(i // len(visited))) for i, _ in enumerate([*visited, *visited])] for j, _ in enumerate(visited)]\n",
    "        connect_eq_bounds = [0 for _ in range(len(visited))]\n",
    "        \n",
    "        production_matrix = np.array([dataclass_to_list(m.recipe.ingredients - m.recipe.products) for m in visited]).T\n",
    "        production_matrix = np.concatenate((production_matrix, np.zeros_like(production_matrix)), axis=1)\n",
    "        \n",
    "        production_amounts = dataclass_to_list(target_output)\n",
    "        production_indices, *_ = np.nonzero(production_amounts)\n",
    "        \n",
    "        for mat_1_idx, mat_2_idx in zip(production_indices[:-1], production_indices[1:]):\n",
    "            ratio = production_amounts[mat_1_idx] / production_amounts[mat_2_idx]\n",
    "            connect_eq_constraints.append(-1*production_matrix[mat_1_idx, :] + ratio * production_matrix[mat_2_idx, :])\n",
    "            connect_eq_bounds.append(0)\n",
    "            \n",
    "        connect_eq_constraints = np.array(connect_eq_constraints)\n",
    "        connect_eq_bounds = np.array(connect_eq_bounds)\n",
    "        \n",
    "        \n",
    "        # make products hove positive value, require consumption to be <= available\n",
    "        output_bounds = np.array([*[material - .001 * (i in production_indices) for i, material in enumerate(dataclass_to_list(available_materials))]])                        \n",
    "\n",
    "        solution = linprog(c=costs, A_ub=production_matrix, b_ub=output_bounds, A_eq=connect_eq_constraints, b_eq=connect_eq_bounds)\n",
    "                \n",
    "        for m, s in zip(visited, solution.x.round(4)):\n",
    "            cls(m, registry, s)\n",
    "                \n",
    "        cls(inputs, registry, 1)\n",
    "        \n",
    "        return registry[inputs]"
   ]
  },
  {
   "cell_type": "code",
   "execution_count": 13,
   "id": "48f5f301-9c2d-4a3c-9f4d-9bfcf29aca18",
   "metadata": {
    "tags": []
   },
   "outputs": [],
   "source": [
    "class VariableOutputMachine(Machine, skip_color=True):\n",
    "        \n",
    "    def __init__(self, recipe: Recipe):\n",
    "        self.outputs = min(sum(material > 0 for _, material in recipe.products), self.outputs)\n",
    "        \n",
    "        super().__init__(recipe)\n",
    "        \n",
    "class VariableInputMachine(Machine, skip_color=True):\n",
    "        \n",
    "    def __init__(self, recipe: Recipe):\n",
    "        self.inputs = min(sum(material > 0 for _, material in recipe.ingredients), self.inputs)\n",
    "        \n",
    "        super().__init__(recipe)\n",
    "                                                                                  \n",
    "    \n",
    "class Constructor(Machine):\n",
    "    power_consumption = 4\n",
    "    inputs = 1\n",
    "    outputs = 1\n",
    "    \n",
    "    \n",
    "class Assembler(Machine):\n",
    "    power_consumption = 15\n",
    "    inputs = 2\n",
    "    outputs = 1\n",
    "    \n",
    "    \n",
    "class Manufacturer(VariableInputMachine):\n",
    "    power_consumption = 55\n",
    "    inputs = 4\n",
    "    outputs = 1\n",
    "    \n",
    "    \n",
    "class Smelter(Machine):\n",
    "    power_consumption = 4\n",
    "    inputs = 1\n",
    "    outputs = 1\n",
    "    \n",
    "    \n",
    "class Foundry(Machine):\n",
    "    power_consumption = 16 \n",
    "    inputs = 2\n",
    "    outputs = 1\n",
    "    \n",
    "    \n",
    "class Packager(VariableOutputMachine, VariableInputMachine):\n",
    "    power_consumption = 10\n",
    "    inputs = 2\n",
    "    outputs = 2\n",
    "    \n",
    "    \n",
    "class Refinery(VariableOutputMachine, VariableInputMachine):\n",
    "    power_consumption = 30\n",
    "    inputs = 2\n",
    "    outputs = 2\n",
    "\n",
    "    \n",
    "class Extractor(Machine):\n",
    "    # TODO: different extractor types have different consumption\n",
    "    power_consumption = 10\n",
    "    inputs = 0\n",
    "    outputs = 1\n",
    "    \n",
    "    \n",
    "class Blender(VariableOutputMachine, VariableInputMachine):\n",
    "    # TODO: power consumption varies by recipe\n",
    "    power_consumption = 1500\n",
    "    inputs = 4\n",
    "    outputs = 2\n",
    "    \n",
    "    \n",
    "class Aggregator(Machine):\n",
    "    \"\"\"\n",
    "    Special class to join disjoint trees so that every process can be expressed as a tree, \n",
    "    regardless of desired outputs. Can be used, for example, to represent a factory floor as a 'Machine'\n",
    "    \"\"\"\n",
    "    power_consumption = 0\n",
    "    def __init__(self, recipe: Recipe):\n",
    "        self.inputs = sum(material > 0 for _, material in recipe.ingredients)\n",
    "        self.outputs = sum(material > 0 for _, material in recipe.products)\n",
    "        super().__init__(recipe)\n",
    "        \n",
    "    \n",
    "class ParticleAccelerator(VariableInputMachine):\n",
    "    power_consumption = 300\n",
    "    inputs = 3\n",
    "    outputs = 1\n",
    "    \n",
    "# TODO: get resource cost for proposed factory (buildings)"
   ]
  },
  {
   "cell_type": "code",
   "execution_count": 14,
   "id": "6cc2276c-b062-47da-941b-ad5457cbd63f",
   "metadata": {
    "tags": []
   },
   "outputs": [],
   "source": [
    "import re\n",
    "from dataclasses import dataclass, field\n",
    "\n",
    "machine_mapping = {\"/Game/FactoryGame/Buildable/Factory/AssemblerMk1/Build_AssemblerMk1.Build_AssemblerMk1_C\": Assembler, \n",
    " \"/Game/FactoryGame/Buildable/Factory/ManufacturerMk1/Build_ManufacturerMk1.Build_ManufacturerMk1_C\": Manufacturer, \n",
    " \"/Game/FactoryGame/Buildable/Factory/SmelterMk1/Build_SmelterMk1.Build_SmelterMk1_C\": Smelter,\n",
    " \"/Game/FactoryGame/Buildable/Factory/ConstructorMk1/Build_ConstructorMk1.Build_ConstructorMk1_C\": Constructor, \n",
    " \"/Game/FactoryGame/Buildable/Factory/FoundryMk1/Build_FoundryMk1.Build_FoundryMk1_C\": Foundry,\n",
    " \"/Game/FactoryGame/Buildable/Factory/HadronCollider/Build_HadronCollider.Build_HadronCollider_C\": ParticleAccelerator,\n",
    " \"/Game/FactoryGame/Buildable/Factory/Blender/Build_Blender.Build_Blender_C\": Blender,\n",
    " \"/Game/FactoryGame/Buildable/Factory/Packager/Build_Packager.Build_Packager_C\": Packager,\n",
    " \"/Game/FactoryGame/Buildable/Factory/OilRefinery/Build_OilRefinery.Build_OilRefinery_C\": Refinery}\n",
    "\n",
    "@dataclass\n",
    "class Machines:\n",
    "    alternates: list[Machine] = field(default_factory=list)\n",
    "    core: list[Machine] = field(default_factory=list)\n",
    "    fluid_extractors: list[Machine] = field(default_factory=list)\n",
    "    extractors_mk1: list[Machine] = field(default_factory=list)\n",
    "    extractors_mk2: list[Machine] = field(default_factory=list)\n",
    "    extractors_mk3: list[Machine] = field(default_factory=list)\n",
    "    \n",
    "    \n",
    "# TODO: keep dict of recipes, store collections of core/alternate as strings so that available recipes can be specified as a collection of strings\n",
    "# TOODO: use recipes config key, rather than all of this nonsense--retain class name to material name\n",
    "# FIXME: smelters are 1:1\n",
    "# FIXME: add generators\n",
    "def make_recipes(simple_config: dict, machine_mapping: dict[str, Machine]) -> list:\n",
    "    resource_capture_group = r\".*?\\.(\\w+).*?\"\n",
    "    ingredients_pattern = rf\"\\(ItemClass={resource_capture_group},Amount=(\\d+)\\)\"\n",
    "    machines_pattern = fr\"({'|'.join(re.escape(m) for m in machine_mapping.keys())})\"\n",
    "    known_crafters = (\"Smelter\", \"Manufacturer\", \"Assembler\", \"Packager\", \"Refinery\", \"Collider\", \"Foundry\", \"Blender\", \"Constructor\")\n",
    "    \n",
    "    machines = Machines()\n",
    "    material_config = {}\n",
    "    for key in RESOURCE_KEYS:\n",
    "        material_config.update(simple_config[key])\n",
    "\n",
    "    for config in simple_config[\"Class'/Script/FactoryGame.FGRecipe'\"].values():\n",
    "        machine = re.search(machines_pattern, config[\"mProducedIn\"])\n",
    "        \n",
    "        if machine is None:\n",
    "            continue\n",
    "\n",
    "        machine = machine_mapping[machine[0]]\n",
    "            \n",
    "        # TODO: convert resources to friendly names\n",
    "        try:\n",
    "            ingredients = {standardize(material_config[name][\"mDisplayName\"]): float(amt) / 1000 if material_config[name][\"mForm\"] in [\"RF_LIQUID\", \"RF_GAS\"] else float(amt) for name, amt in re.findall(ingredients_pattern, config[\"mIngredients\"])}\n",
    "            products = {standardize(material_config[name][\"mDisplayName\"]): float(amt) / 1000 if material_config[name][\"mForm\"] in [\"RF_LIQUID\", \"RF_GAS\"] else float(amt) for name, amt in re.findall(ingredients_pattern, config[\"mProduct\"])}\n",
    "            if \"alternate\" in config[\"FullName\"].lower():\n",
    "                machines.alternates.append(machine(Recipe(standardize(config[\"mDisplayName\"]), MaterialSpec(**ingredients), MaterialSpec(**products)) * (60 / float(config[\"mManufactoringDuration\"]))))\n",
    "            else:\n",
    "                machines.core.append(machine(Recipe(standardize(config[\"mDisplayName\"]), MaterialSpec(**ingredients), MaterialSpec(**products)) * (60 / float(config[\"mManufactoringDuration\"]))))\n",
    "                                \n",
    "        except Exception as e:\n",
    "            print(f\"missing: {e}\")\n",
    "            print()\n",
    "            \n",
    "    def get_production_rate(config):\n",
    "        return (60 / float(config[\"mExtractCycleTime\"])) * float(config[\"mItemsPerCycle\"])\n",
    "            \n",
    "    # FIXME: I think this qualifies as a mess\n",
    "    for key in EXTRACTOR_KEYS:\n",
    "        for extractor in simple_config[key].values():\n",
    "            if \"RF_SOLID\" in extractor[\"mAllowedResourceForms\"]:\n",
    "                for material in map(lambda x:standardize(material_config[x][\"mDisplayName\"]), simple_config[\"Class'/Script/FactoryGame.FGResourceDescriptor'\"].keys()):\n",
    "                    if \"mk1\" in  extractor[\"ClassName\"].lower():\n",
    "                        machines.extractors_mk1.append(Extractor(Recipe(material, MaterialSpec(), MaterialSpec(**{material: get_production_rate(extractor)}))))\n",
    "                    elif \"mk2\" in  extractor[\"ClassName\"].lower():\n",
    "                        machines.extractors_mk2.append(Extractor(Recipe(material, MaterialSpec(), MaterialSpec(**{material: get_production_rate(extractor)}))))\n",
    "                    elif \"mk3\" in  extractor[\"ClassName\"].lower():\n",
    "                        machines.extractors_mk3.append(Extractor(Recipe(material, MaterialSpec(), MaterialSpec(**{material: get_production_rate(extractor)}))))\n",
    "            elif \"RF_LIQUID\" in extractor[\"mAllowedResourceForms\"] or \"RF_GAS\" in extractor[\"mAllowedResourceForms\"]:\n",
    "                for material in map(lambda x: standardize(material_config[re.search(resource_capture_group, x)[1]][\"mDisplayName\"]), extractor[\"mAllowedResources\"].strip(\"()\").split(\",\")):\n",
    "                    machines.fluid_extractors.append(Extractor(Recipe(material, MaterialSpec(), MaterialSpec(**{material: get_production_rate(extractor) / 1000}))))\n",
    "        \n",
    "        \n",
    "    return machines"
   ]
  },
  {
   "cell_type": "code",
   "execution_count": 15,
   "id": "dc2a6928-99f7-4018-968d-c369e3e1d824",
   "metadata": {
    "tags": []
   },
   "outputs": [],
   "source": [
    "import igraph\n",
    "from igraph import Graph, EdgeSeq\n",
    "import itertools\n",
    "import plotly.graph_objects as go\n",
    "import os\n",
    "from textwrap import dedent\n",
    "import numpy as np\n",
    "\n",
    "import math\n",
    "\n",
    "def make_hover_label(process: Process):\n",
    "    return dedent(f\"\"\"\n",
    "    {process.process_root.__class__.__name__}<br>\n",
    "    Recipe: {process.process_root.recipe.name}<br>\n",
    "    Scale: {process.scale}\n",
    "    \"\"\")\n",
    "\n",
    "\n",
    "# TODO: show machine types in legend\n",
    "def plot_process(process: Process, layout=Graph.layout_auto):\n",
    "    ordered_vertices = [m for m in process.process_registry.values() if m.scale > 0]\n",
    "    n_vertices = len(ordered_vertices)\n",
    "    \n",
    "    edges = [(ordered_vertices.index(process.process_registry[other]), ordered_vertices.index(self)) for self in ordered_vertices for other in self.process_root.input_producers if process.process_registry[other] in ordered_vertices]\n",
    "    breakpoint()\n",
    "\n",
    "    G = Graph(n_vertices, edges)\n",
    "    layout = G.layout(layout)\n",
    "    Xn, Yn = list(zip(*layout))\n",
    "    edge_coords = itertools.chain.from_iterable([[(Xn[n], Yn[n]) for n in e] + [(None, None)] for e in edges])\n",
    "    Xe, Ye = list(zip(*edge_coords))\n",
    "    \n",
    "    max_scale = max(n.scale for n in ordered_vertices)\n",
    "    point_scale = 20\n",
    "    point_sizes = [(math.tanh(n.scale  / max_scale) + 1) * point_scale for n in ordered_vertices]\n",
    "\n",
    "    fig = go.Figure()\n",
    "    fig.add_trace(go.Scatter(\n",
    "                       x=Xe,\n",
    "                       y=Ye,\n",
    "                       mode='lines+markers',\n",
    "                       hoverinfo='none',\n",
    "                       line_shape='spline',\n",
    "                       marker=dict(\n",
    "                            symbol=\"arrow-wide\",\n",
    "                            size=10,\n",
    "                            color=\"black\",\n",
    "                            angleref=\"previous\",\n",
    "                            standoff=point_scale//2\n",
    "                        ),\n",
    "                        showlegend=False\n",
    "                    ),\n",
    "                    \n",
    "                 )\n",
    "\n",
    "    fig.add_trace(go.Scatter(x=Xn,\n",
    "                      y=Yn,\n",
    "                      mode='markers',\n",
    "                      marker=dict(symbol='circle-dot',\n",
    "                                  size=point_sizes,\n",
    "                                  color=[m.process_root.color for m in ordered_vertices],\n",
    "                                ),\n",
    "                      text=[make_hover_label(v) for v in ordered_vertices],\n",
    "                      hovertemplate=\"%{text}<extra></extra>\",\n",
    "                      showlegend=False,\n",
    "                      )\n",
    "                 )\n",
    "\n",
    "    # TODO: better sizing\n",
    "    fig.update_layout(\n",
    "        autosize=True,\n",
    "        xaxis= {\n",
    "            'showgrid': False, # thin lines in the background\n",
    "            'zeroline': False, # thick line at x=0\n",
    "            'visible': False,  # numbers below\n",
    "        },\n",
    "        yaxis= {\n",
    "            'showgrid': False, # thin lines in the background\n",
    "            'zeroline': False, # thick line at x=0\n",
    "            'visible': False,  # numbers below\n",
    "        },\n",
    "        height=1000\n",
    "    )\n",
    "\n",
    "    fig.show()\n",
    "    \n",
    "    \n",
    "def plot_sankey(process: Process):\n",
    "    ordered_vertices = [m for m in process.process_registry.values() if m.scale > 0]\n",
    "    n_vertices = len(ordered_vertices)\n",
    "    \n",
    "    edges = [(ordered_vertices.index(process.process_registry[other]), ordered_vertices.index(self)) for self in ordered_vertices for other in self.process_root.input_producers if process.process_registry[other] in ordered_vertices]\n",
    "    source, target = zip(*edges)\n",
    "    # TODO: get the bound resource and multiply by the source scale\n",
    "    \n",
    "    def get_materials_for_link(start: int, end: int, vertices: list[Process]):\n",
    "        start_process = vertices[start]\n",
    "        end_process = vertices[end]\n",
    "        bound_material = start_process.process_root.output_consumers[end_process.process_root]\n",
    "        return bound_material, (getattr(end_process.process_root.recipe.ingredients, bound_material) * end_process.scale)\n",
    "    \n",
    "    labels, weights = zip(*[get_materials_for_link(start, end, ordered_vertices) for (start, end) in edges])\n",
    "    \n",
    "    fig = go.Figure()\n",
    "    fig.add_trace(\n",
    "        go.Sankey(\n",
    "            node=dict(\n",
    "                label = [f\"{v.process_root.__class__.__name__}: {v.process_root.recipe.name}\" for v in ordered_vertices]\n",
    "            ),\n",
    "            link=dict(\n",
    "                source=source,\n",
    "                target=target,\n",
    "                value=weights,\n",
    "                label=labels\n",
    "            )\n",
    "        )\n",
    "    )\n",
    "    fig.show()\n",
    "\n",
    "# TODO: use plotly tables and link rows to scatter/sankey nodes\n",
    "def make_row(values: list[str]):\n",
    "    return \"<tr>\" + \"\".join([f\"<td>{v}</td>\" for v in values]) + \"</tr>\"\n",
    "\n",
    "def make_table(headers: list[str], values: list[list[str]]):\n",
    "    header = make_row(headers)\n",
    "    rows = \"\\n\".join([make_row(row) for row in values])\n",
    "    \n",
    "    return dedent(f\"\"\"\n",
    "    <table>\n",
    "    <thead>\n",
    "    {header}\n",
    "    </thead>\n",
    "    <tbody>\n",
    "    {rows}\n",
    "    </tbody>\n",
    "    </table>\"\"\")\n",
    "\n",
    "def recipe_summary(process: Process):\n",
    "    headers = [\"Machine Type\", \"Count\", \"Recipe\", \"Ingredients\", \"Products\"]\n",
    "    rows = []\n",
    "    for process in process.process_registry.values():\n",
    "        if process.scale > 0:\n",
    "            rows.append([process.process_root.__class__.__name__,\n",
    "                         process.scale,\n",
    "                         process.process_root.recipe.name,\n",
    "                         \"<br>\".join([f\"{name}: {value * process.scale:.2f}\" for name, value in process.process_root.recipe.ingredients if value > 0]),\n",
    "                         \"<br>\".join([f\"{name}: {value * process.scale:.2f}\" for name, value in process.process_root.recipe.products if value > 0]),\n",
    "                        ])\n",
    "                     \n",
    "    return make_table(headers, rows)\n",
    "    \n",
    "\n",
    "def total_power(process: Process):\n",
    "    total =  sum(p.scale * p.process_root.power_consumption for p in filter(lambda p: p.scale > 0, process.process_registry.values()))\n",
    "    print(f\"Total Power: {total}\")\n"
   ]
  },
  {
   "cell_type": "code",
   "execution_count": 16,
   "id": "664fdbdf-85ca-41f3-b53d-5f981e8fbe09",
   "metadata": {
    "tags": []
   },
   "outputs": [
    {
     "name": "stderr",
     "output_type": "stream",
     "text": [
      "/tmp/ipykernel_401496/2770569113.py:1: DeprecationWarning:\n",
      "\n",
      "Importing display from IPython.core.display is deprecated since IPython 7.14, please import from IPython display\n",
      "\n"
     ]
    }
   ],
   "source": [
    "from IPython.core.display import display, HTML\n",
    "\n",
    "def factory_plan(target):\n",
    "    available_machines = make_recipes(BASE_CONFIG, machine_mapping)\n",
    "    # stator?\n",
    "    #target_product = MaterialSpec(steel_beam=5, encased_industrial_beam=5, modular_frame=2, heavy_modular_frame=2)\n",
    "    available_machines = [*available_machines.core,\n",
    "                                     *available_machines.extractors_mk1,\n",
    "                                     *available_machines.fluid_extractors]\n",
    "    Machine.autobind(available_machines)\n",
    "    \n",
    "\n",
    "    solution = Process.from_outputs(target, \n",
    "                                    available_machines\n",
    "                                    )\n",
    "    \n",
    "    plot_process(solution, Graph.layout_reingold_tilford)\n",
    "    plot_sankey(solution)\n",
    "    display(HTML(recipe_summary(solution)))\n",
    "    total_power(solution)\n",
    "    return solution"
   ]
  },
  {
   "cell_type": "code",
   "execution_count": 17,
   "id": "06ecc772-14d6-4fec-9150-dd85fc546ba8",
   "metadata": {
    "tags": []
   },
   "outputs": [
    {
     "name": "stdout",
     "output_type": "stream",
     "text": [
      "missing: 'BP_ItemDescriptorPortableMiner_C'\n",
      "\n"
     ]
    },
    {
     "data": {
      "application/vnd.plotly.v1+json": {
       "data": [
        {
         "hoverinfo": "none",
         "line": {
          "shape": "spline"
         },
         "marker": {
          "angleref": "previous",
          "color": "black",
          "size": 10,
          "standoff": 10,
          "symbol": "arrow-wide"
         },
         "mode": "lines+markers",
         "showlegend": false,
         "x": [
          -0.5,
          -2.0,
          null,
          -2.0,
          -2.5,
          null,
          1.0,
          -2.5,
          null,
          -3.0,
          -2.5,
          null,
          -2.0,
          -2.5,
          null,
          -0.5,
          -3.5,
          null,
          -0.5,
          -0.5,
          null,
          -0.5,
          -0.5,
          null,
          0.0,
          -0.5,
          null,
          0.0,
          0.5,
          null,
          -2.0,
          -1.0,
          null,
          -0.5,
          -1.0,
          null,
          -2.5,
          -3.0,
          null,
          -3.5,
          -3.0,
          null,
          -0.5,
          -2.0,
          null,
          -0.5,
          0.0,
          null,
          -2.5,
          -2.5,
          null,
          -2.0,
          -1.5,
          null,
          0.5,
          -1.5,
          null,
          -1.5,
          1.0,
          null,
          -0.5,
          1.0,
          null
         ],
         "y": [
          1.0,
          2.0,
          null,
          2.0,
          3.0,
          null,
          2.0,
          3.0,
          null,
          4.0,
          3.0,
          null,
          4.0,
          3.0,
          null,
          4.0,
          5.0,
          null,
          5.0,
          4.0,
          null,
          3.0,
          4.0,
          null,
          2.0,
          1.0,
          null,
          2.0,
          3.0,
          null,
          2.0,
          2.0,
          null,
          1.0,
          2.0,
          null,
          5.0,
          4.0,
          null,
          5.0,
          4.0,
          null,
          4.0,
          4.0,
          null,
          3.0,
          2.0,
          null,
          6.0,
          5.0,
          null,
          2.0,
          3.0,
          null,
          3.0,
          3.0,
          null,
          3.0,
          2.0,
          null,
          1.0,
          2.0,
          null
         ],
         "type": "scatter"
        },
        {
         "hovertemplate": "%{text}<extra></extra>",
         "marker": {
          "color": [
           "#2E91E5",
           "#1CA71C",
           "#2E91E5",
           "#DA16FF",
           "#2E91E5",
           "#750D86",
           "#2E91E5",
           "#E15F99",
           "#750D86",
           "#E15F99",
           "#511CFB",
           "#2E91E5",
           "#750D86",
           "#FB0D0D",
           "#2E91E5",
           "#E15F99",
           "#E15F99"
          ],
          "size": [
           34.14134935011215,
           21.436371691735832,
           24.26904481188341,
           26.921713832043892,
           35.231883119115295,
           32.62827830489215,
           28.3728212128055,
           20.71911432625049,
           23.836758167595214,
           22.575547401999305,
           20.57538075006824,
           22.149934267122845,
           25.286310952843532,
           34.75972918870305,
           25.06706457590722,
           25.601616662731054,
           28.13406435568603
          ],
          "symbol": "circle-dot"
         },
         "mode": "markers",
         "showlegend": false,
         "text": [
          "\nConstructor<br>\nRecipe: screw<br>\nScale: 30.625\n",
          "\nManufacturer<br>\nRecipe: heavy_modular_frame<br>\nScale: 2.5\n",
          "\nConstructor<br>\nRecipe: steel_beam<br>\nScale: 7.5333\n",
          "\nFoundry<br>\nRecipe: steel_ingot<br>\nScale: 12.5444\n",
          "\nConstructor<br>\nRecipe: iron_rod<br>\nScale: 34.75\n",
          "\nExtractor<br>\nRecipe: iron_ore<br>\nScale: 25.8458\n",
          "\nConstructor<br>\nRecipe: iron_plate<br>\nScale: 15.5\n",
          "\nAssembler<br>\nRecipe: rotor<br>\nScale: 1.25\n",
          "\nExtractor<br>\nRecipe: limestone<br>\nScale: 6.75\n",
          "\nAssembler<br>\nRecipe: encased_industrial_beam<br>\nScale: 4.5\n",
          "\nAggregator<br>\nRecipe: output<br>\nScale: 1\n",
          "\nConstructor<br>\nRecipe: steel_pipe<br>\nScale: 3.75\n",
          "\nExtractor<br>\nRecipe: coal<br>\nScale: 9.4083\n",
          "\nSmelter<br>\nRecipe: iron_ingot<br>\nScale: 32.875\n",
          "\nConstructor<br>\nRecipe: concrete<br>\nScale: 9.0\n",
          "\nAssembler<br>\nRecipe: reinforced_iron_plate<br>\nScale: 10.0\n",
          "\nAssembler<br>\nRecipe: modular_frame<br>\nScale: 15.0\n"
         ],
         "x": [
          -2.0,
          -2.5,
          -3.5,
          -0.5,
          -0.5,
          -0.5,
          0.5,
          -1.0,
          -2.5,
          -3.0,
          0.5,
          -2.0,
          -0.5,
          0.0,
          -2.5,
          -1.5,
          1.0
         ],
         "y": [
          2.0,
          3.0,
          5.0,
          4.0,
          1.0,
          3.0,
          3.0,
          2.0,
          6.0,
          4.0,
          1.0,
          4.0,
          5.0,
          2.0,
          5.0,
          3.0,
          2.0
         ],
         "type": "scatter"
        }
       ],
       "layout": {
        "template": {
         "data": {
          "histogram2dcontour": [
           {
            "type": "histogram2dcontour",
            "colorbar": {
             "outlinewidth": 0,
             "ticks": ""
            },
            "colorscale": [
             [
              0.0,
              "#0d0887"
             ],
             [
              0.1111111111111111,
              "#46039f"
             ],
             [
              0.2222222222222222,
              "#7201a8"
             ],
             [
              0.3333333333333333,
              "#9c179e"
             ],
             [
              0.4444444444444444,
              "#bd3786"
             ],
             [
              0.5555555555555556,
              "#d8576b"
             ],
             [
              0.6666666666666666,
              "#ed7953"
             ],
             [
              0.7777777777777778,
              "#fb9f3a"
             ],
             [
              0.8888888888888888,
              "#fdca26"
             ],
             [
              1.0,
              "#f0f921"
             ]
            ]
           }
          ],
          "choropleth": [
           {
            "type": "choropleth",
            "colorbar": {
             "outlinewidth": 0,
             "ticks": ""
            }
           }
          ],
          "histogram2d": [
           {
            "type": "histogram2d",
            "colorbar": {
             "outlinewidth": 0,
             "ticks": ""
            },
            "colorscale": [
             [
              0.0,
              "#0d0887"
             ],
             [
              0.1111111111111111,
              "#46039f"
             ],
             [
              0.2222222222222222,
              "#7201a8"
             ],
             [
              0.3333333333333333,
              "#9c179e"
             ],
             [
              0.4444444444444444,
              "#bd3786"
             ],
             [
              0.5555555555555556,
              "#d8576b"
             ],
             [
              0.6666666666666666,
              "#ed7953"
             ],
             [
              0.7777777777777778,
              "#fb9f3a"
             ],
             [
              0.8888888888888888,
              "#fdca26"
             ],
             [
              1.0,
              "#f0f921"
             ]
            ]
           }
          ],
          "heatmap": [
           {
            "type": "heatmap",
            "colorbar": {
             "outlinewidth": 0,
             "ticks": ""
            },
            "colorscale": [
             [
              0.0,
              "#0d0887"
             ],
             [
              0.1111111111111111,
              "#46039f"
             ],
             [
              0.2222222222222222,
              "#7201a8"
             ],
             [
              0.3333333333333333,
              "#9c179e"
             ],
             [
              0.4444444444444444,
              "#bd3786"
             ],
             [
              0.5555555555555556,
              "#d8576b"
             ],
             [
              0.6666666666666666,
              "#ed7953"
             ],
             [
              0.7777777777777778,
              "#fb9f3a"
             ],
             [
              0.8888888888888888,
              "#fdca26"
             ],
             [
              1.0,
              "#f0f921"
             ]
            ]
           }
          ],
          "heatmapgl": [
           {
            "type": "heatmapgl",
            "colorbar": {
             "outlinewidth": 0,
             "ticks": ""
            },
            "colorscale": [
             [
              0.0,
              "#0d0887"
             ],
             [
              0.1111111111111111,
              "#46039f"
             ],
             [
              0.2222222222222222,
              "#7201a8"
             ],
             [
              0.3333333333333333,
              "#9c179e"
             ],
             [
              0.4444444444444444,
              "#bd3786"
             ],
             [
              0.5555555555555556,
              "#d8576b"
             ],
             [
              0.6666666666666666,
              "#ed7953"
             ],
             [
              0.7777777777777778,
              "#fb9f3a"
             ],
             [
              0.8888888888888888,
              "#fdca26"
             ],
             [
              1.0,
              "#f0f921"
             ]
            ]
           }
          ],
          "contourcarpet": [
           {
            "type": "contourcarpet",
            "colorbar": {
             "outlinewidth": 0,
             "ticks": ""
            }
           }
          ],
          "contour": [
           {
            "type": "contour",
            "colorbar": {
             "outlinewidth": 0,
             "ticks": ""
            },
            "colorscale": [
             [
              0.0,
              "#0d0887"
             ],
             [
              0.1111111111111111,
              "#46039f"
             ],
             [
              0.2222222222222222,
              "#7201a8"
             ],
             [
              0.3333333333333333,
              "#9c179e"
             ],
             [
              0.4444444444444444,
              "#bd3786"
             ],
             [
              0.5555555555555556,
              "#d8576b"
             ],
             [
              0.6666666666666666,
              "#ed7953"
             ],
             [
              0.7777777777777778,
              "#fb9f3a"
             ],
             [
              0.8888888888888888,
              "#fdca26"
             ],
             [
              1.0,
              "#f0f921"
             ]
            ]
           }
          ],
          "surface": [
           {
            "type": "surface",
            "colorbar": {
             "outlinewidth": 0,
             "ticks": ""
            },
            "colorscale": [
             [
              0.0,
              "#0d0887"
             ],
             [
              0.1111111111111111,
              "#46039f"
             ],
             [
              0.2222222222222222,
              "#7201a8"
             ],
             [
              0.3333333333333333,
              "#9c179e"
             ],
             [
              0.4444444444444444,
              "#bd3786"
             ],
             [
              0.5555555555555556,
              "#d8576b"
             ],
             [
              0.6666666666666666,
              "#ed7953"
             ],
             [
              0.7777777777777778,
              "#fb9f3a"
             ],
             [
              0.8888888888888888,
              "#fdca26"
             ],
             [
              1.0,
              "#f0f921"
             ]
            ]
           }
          ],
          "mesh3d": [
           {
            "type": "mesh3d",
            "colorbar": {
             "outlinewidth": 0,
             "ticks": ""
            }
           }
          ],
          "scatter": [
           {
            "marker": {
             "line": {
              "color": "#283442"
             }
            },
            "type": "scatter"
           }
          ],
          "parcoords": [
           {
            "type": "parcoords",
            "line": {
             "colorbar": {
              "outlinewidth": 0,
              "ticks": ""
             }
            }
           }
          ],
          "scatterpolargl": [
           {
            "type": "scatterpolargl",
            "marker": {
             "colorbar": {
              "outlinewidth": 0,
              "ticks": ""
             }
            }
           }
          ],
          "bar": [
           {
            "error_x": {
             "color": "#f2f5fa"
            },
            "error_y": {
             "color": "#f2f5fa"
            },
            "marker": {
             "line": {
              "color": "rgb(17,17,17)",
              "width": 0.5
             },
             "pattern": {
              "fillmode": "overlay",
              "size": 10,
              "solidity": 0.2
             }
            },
            "type": "bar"
           }
          ],
          "scattergeo": [
           {
            "type": "scattergeo",
            "marker": {
             "colorbar": {
              "outlinewidth": 0,
              "ticks": ""
             }
            }
           }
          ],
          "scatterpolar": [
           {
            "type": "scatterpolar",
            "marker": {
             "colorbar": {
              "outlinewidth": 0,
              "ticks": ""
             }
            }
           }
          ],
          "histogram": [
           {
            "marker": {
             "pattern": {
              "fillmode": "overlay",
              "size": 10,
              "solidity": 0.2
             }
            },
            "type": "histogram"
           }
          ],
          "scattergl": [
           {
            "marker": {
             "line": {
              "color": "#283442"
             }
            },
            "type": "scattergl"
           }
          ],
          "scatter3d": [
           {
            "type": "scatter3d",
            "line": {
             "colorbar": {
              "outlinewidth": 0,
              "ticks": ""
             }
            },
            "marker": {
             "colorbar": {
              "outlinewidth": 0,
              "ticks": ""
             }
            }
           }
          ],
          "scattermapbox": [
           {
            "type": "scattermapbox",
            "marker": {
             "colorbar": {
              "outlinewidth": 0,
              "ticks": ""
             }
            }
           }
          ],
          "scatterternary": [
           {
            "type": "scatterternary",
            "marker": {
             "colorbar": {
              "outlinewidth": 0,
              "ticks": ""
             }
            }
           }
          ],
          "scattercarpet": [
           {
            "type": "scattercarpet",
            "marker": {
             "colorbar": {
              "outlinewidth": 0,
              "ticks": ""
             }
            }
           }
          ],
          "carpet": [
           {
            "aaxis": {
             "endlinecolor": "#A2B1C6",
             "gridcolor": "#506784",
             "linecolor": "#506784",
             "minorgridcolor": "#506784",
             "startlinecolor": "#A2B1C6"
            },
            "baxis": {
             "endlinecolor": "#A2B1C6",
             "gridcolor": "#506784",
             "linecolor": "#506784",
             "minorgridcolor": "#506784",
             "startlinecolor": "#A2B1C6"
            },
            "type": "carpet"
           }
          ],
          "table": [
           {
            "cells": {
             "fill": {
              "color": "#506784"
             },
             "line": {
              "color": "rgb(17,17,17)"
             }
            },
            "header": {
             "fill": {
              "color": "#2a3f5f"
             },
             "line": {
              "color": "rgb(17,17,17)"
             }
            },
            "type": "table"
           }
          ],
          "barpolar": [
           {
            "marker": {
             "line": {
              "color": "rgb(17,17,17)",
              "width": 0.5
             },
             "pattern": {
              "fillmode": "overlay",
              "size": 10,
              "solidity": 0.2
             }
            },
            "type": "barpolar"
           }
          ],
          "pie": [
           {
            "automargin": true,
            "type": "pie"
           }
          ]
         },
         "layout": {
          "autotypenumbers": "strict",
          "colorway": [
           "#636efa",
           "#EF553B",
           "#00cc96",
           "#ab63fa",
           "#FFA15A",
           "#19d3f3",
           "#FF6692",
           "#B6E880",
           "#FF97FF",
           "#FECB52"
          ],
          "font": {
           "color": "#f2f5fa"
          },
          "hovermode": "closest",
          "hoverlabel": {
           "align": "left"
          },
          "paper_bgcolor": "rgb(17,17,17)",
          "plot_bgcolor": "rgb(17,17,17)",
          "polar": {
           "bgcolor": "rgb(17,17,17)",
           "angularaxis": {
            "gridcolor": "#506784",
            "linecolor": "#506784",
            "ticks": ""
           },
           "radialaxis": {
            "gridcolor": "#506784",
            "linecolor": "#506784",
            "ticks": ""
           }
          },
          "ternary": {
           "bgcolor": "rgb(17,17,17)",
           "aaxis": {
            "gridcolor": "#506784",
            "linecolor": "#506784",
            "ticks": ""
           },
           "baxis": {
            "gridcolor": "#506784",
            "linecolor": "#506784",
            "ticks": ""
           },
           "caxis": {
            "gridcolor": "#506784",
            "linecolor": "#506784",
            "ticks": ""
           }
          },
          "coloraxis": {
           "colorbar": {
            "outlinewidth": 0,
            "ticks": ""
           }
          },
          "colorscale": {
           "sequential": [
            [
             0.0,
             "#0d0887"
            ],
            [
             0.1111111111111111,
             "#46039f"
            ],
            [
             0.2222222222222222,
             "#7201a8"
            ],
            [
             0.3333333333333333,
             "#9c179e"
            ],
            [
             0.4444444444444444,
             "#bd3786"
            ],
            [
             0.5555555555555556,
             "#d8576b"
            ],
            [
             0.6666666666666666,
             "#ed7953"
            ],
            [
             0.7777777777777778,
             "#fb9f3a"
            ],
            [
             0.8888888888888888,
             "#fdca26"
            ],
            [
             1.0,
             "#f0f921"
            ]
           ],
           "sequentialminus": [
            [
             0.0,
             "#0d0887"
            ],
            [
             0.1111111111111111,
             "#46039f"
            ],
            [
             0.2222222222222222,
             "#7201a8"
            ],
            [
             0.3333333333333333,
             "#9c179e"
            ],
            [
             0.4444444444444444,
             "#bd3786"
            ],
            [
             0.5555555555555556,
             "#d8576b"
            ],
            [
             0.6666666666666666,
             "#ed7953"
            ],
            [
             0.7777777777777778,
             "#fb9f3a"
            ],
            [
             0.8888888888888888,
             "#fdca26"
            ],
            [
             1.0,
             "#f0f921"
            ]
           ],
           "diverging": [
            [
             0,
             "#8e0152"
            ],
            [
             0.1,
             "#c51b7d"
            ],
            [
             0.2,
             "#de77ae"
            ],
            [
             0.3,
             "#f1b6da"
            ],
            [
             0.4,
             "#fde0ef"
            ],
            [
             0.5,
             "#f7f7f7"
            ],
            [
             0.6,
             "#e6f5d0"
            ],
            [
             0.7,
             "#b8e186"
            ],
            [
             0.8,
             "#7fbc41"
            ],
            [
             0.9,
             "#4d9221"
            ],
            [
             1,
             "#276419"
            ]
           ]
          },
          "xaxis": {
           "gridcolor": "#283442",
           "linecolor": "#506784",
           "ticks": "",
           "title": {
            "standoff": 15
           },
           "zerolinecolor": "#283442",
           "automargin": true,
           "zerolinewidth": 2
          },
          "yaxis": {
           "gridcolor": "#283442",
           "linecolor": "#506784",
           "ticks": "",
           "title": {
            "standoff": 15
           },
           "zerolinecolor": "#283442",
           "automargin": true,
           "zerolinewidth": 2
          },
          "scene": {
           "xaxis": {
            "backgroundcolor": "rgb(17,17,17)",
            "gridcolor": "#506784",
            "linecolor": "#506784",
            "showbackground": true,
            "ticks": "",
            "zerolinecolor": "#C8D4E3",
            "gridwidth": 2
           },
           "yaxis": {
            "backgroundcolor": "rgb(17,17,17)",
            "gridcolor": "#506784",
            "linecolor": "#506784",
            "showbackground": true,
            "ticks": "",
            "zerolinecolor": "#C8D4E3",
            "gridwidth": 2
           },
           "zaxis": {
            "backgroundcolor": "rgb(17,17,17)",
            "gridcolor": "#506784",
            "linecolor": "#506784",
            "showbackground": true,
            "ticks": "",
            "zerolinecolor": "#C8D4E3",
            "gridwidth": 2
           }
          },
          "shapedefaults": {
           "line": {
            "color": "#f2f5fa"
           }
          },
          "annotationdefaults": {
           "arrowcolor": "#f2f5fa",
           "arrowhead": 0,
           "arrowwidth": 1
          },
          "geo": {
           "bgcolor": "rgb(17,17,17)",
           "landcolor": "rgb(17,17,17)",
           "subunitcolor": "#506784",
           "showland": true,
           "showlakes": true,
           "lakecolor": "rgb(17,17,17)"
          },
          "title": {
           "x": 0.05
          },
          "updatemenudefaults": {
           "bgcolor": "#506784",
           "borderwidth": 0
          },
          "sliderdefaults": {
           "bgcolor": "#C8D4E3",
           "borderwidth": 1,
           "bordercolor": "rgb(17,17,17)",
           "tickwidth": 0
          },
          "mapbox": {
           "style": "dark"
          }
         }
        },
        "xaxis": {
         "showgrid": false,
         "zeroline": false,
         "visible": false
        },
        "yaxis": {
         "showgrid": false,
         "zeroline": false,
         "visible": false
        },
        "autosize": true,
        "height": 1000
       },
       "config": {
        "plotlyServerURL": "https://plot.ly"
       }
      }
     },
     "metadata": {},
     "output_type": "display_data"
    },
    {
     "data": {
      "application/vnd.plotly.v1+json": {
       "data": [
        {
         "link": {
          "label": [
           "iron_rod",
           "screw",
           "modular_frame",
           "encased_industrial_beam",
           "steel_pipe",
           "steel_ingot",
           "coal",
           "iron_ore",
           "iron_ingot",
           "iron_ingot",
           "screw",
           "iron_rod",
           "concrete",
           "steel_beam",
           "steel_ingot",
           "iron_ore",
           "limestone",
           "screw",
           "iron_plate",
           "reinforced_iron_plate",
           "iron_rod"
          ],
          "source": [
           4,
           0,
           16,
           9,
           11,
           3,
           12,
           5,
           13,
           13,
           0,
           4,
           14,
           2,
           3,
           5,
           8,
           0,
           6,
           15,
           4
          ],
          "target": [
           0,
           1,
           1,
           1,
           1,
           2,
           3,
           3,
           4,
           6,
           7,
           7,
           9,
           9,
           11,
           13,
           14,
           15,
           15,
           16,
           16
          ],
          "value": [
           306.25,
           500.0,
           25.0,
           25.0,
           75.0,
           451.998,
           564.4979999999999,
           564.4979999999999,
           521.25,
           465.0,
           125.0,
           25.0,
           135.0,
           108.0,
           112.5,
           986.25,
           405.0,
           600.0,
           300.0,
           45.0,
           180.0
          ]
         },
         "node": {
          "label": [
           "Constructor: screw",
           "Manufacturer: heavy_modular_frame",
           "Constructor: steel_beam",
           "Foundry: steel_ingot",
           "Constructor: iron_rod",
           "Extractor: iron_ore",
           "Constructor: iron_plate",
           "Assembler: rotor",
           "Extractor: limestone",
           "Assembler: encased_industrial_beam",
           "Aggregator: output",
           "Constructor: steel_pipe",
           "Extractor: coal",
           "Smelter: iron_ingot",
           "Constructor: concrete",
           "Assembler: reinforced_iron_plate",
           "Assembler: modular_frame"
          ]
         },
         "type": "sankey"
        }
       ],
       "layout": {
        "template": {
         "data": {
          "histogram2dcontour": [
           {
            "type": "histogram2dcontour",
            "colorbar": {
             "outlinewidth": 0,
             "ticks": ""
            },
            "colorscale": [
             [
              0.0,
              "#0d0887"
             ],
             [
              0.1111111111111111,
              "#46039f"
             ],
             [
              0.2222222222222222,
              "#7201a8"
             ],
             [
              0.3333333333333333,
              "#9c179e"
             ],
             [
              0.4444444444444444,
              "#bd3786"
             ],
             [
              0.5555555555555556,
              "#d8576b"
             ],
             [
              0.6666666666666666,
              "#ed7953"
             ],
             [
              0.7777777777777778,
              "#fb9f3a"
             ],
             [
              0.8888888888888888,
              "#fdca26"
             ],
             [
              1.0,
              "#f0f921"
             ]
            ]
           }
          ],
          "choropleth": [
           {
            "type": "choropleth",
            "colorbar": {
             "outlinewidth": 0,
             "ticks": ""
            }
           }
          ],
          "histogram2d": [
           {
            "type": "histogram2d",
            "colorbar": {
             "outlinewidth": 0,
             "ticks": ""
            },
            "colorscale": [
             [
              0.0,
              "#0d0887"
             ],
             [
              0.1111111111111111,
              "#46039f"
             ],
             [
              0.2222222222222222,
              "#7201a8"
             ],
             [
              0.3333333333333333,
              "#9c179e"
             ],
             [
              0.4444444444444444,
              "#bd3786"
             ],
             [
              0.5555555555555556,
              "#d8576b"
             ],
             [
              0.6666666666666666,
              "#ed7953"
             ],
             [
              0.7777777777777778,
              "#fb9f3a"
             ],
             [
              0.8888888888888888,
              "#fdca26"
             ],
             [
              1.0,
              "#f0f921"
             ]
            ]
           }
          ],
          "heatmap": [
           {
            "type": "heatmap",
            "colorbar": {
             "outlinewidth": 0,
             "ticks": ""
            },
            "colorscale": [
             [
              0.0,
              "#0d0887"
             ],
             [
              0.1111111111111111,
              "#46039f"
             ],
             [
              0.2222222222222222,
              "#7201a8"
             ],
             [
              0.3333333333333333,
              "#9c179e"
             ],
             [
              0.4444444444444444,
              "#bd3786"
             ],
             [
              0.5555555555555556,
              "#d8576b"
             ],
             [
              0.6666666666666666,
              "#ed7953"
             ],
             [
              0.7777777777777778,
              "#fb9f3a"
             ],
             [
              0.8888888888888888,
              "#fdca26"
             ],
             [
              1.0,
              "#f0f921"
             ]
            ]
           }
          ],
          "heatmapgl": [
           {
            "type": "heatmapgl",
            "colorbar": {
             "outlinewidth": 0,
             "ticks": ""
            },
            "colorscale": [
             [
              0.0,
              "#0d0887"
             ],
             [
              0.1111111111111111,
              "#46039f"
             ],
             [
              0.2222222222222222,
              "#7201a8"
             ],
             [
              0.3333333333333333,
              "#9c179e"
             ],
             [
              0.4444444444444444,
              "#bd3786"
             ],
             [
              0.5555555555555556,
              "#d8576b"
             ],
             [
              0.6666666666666666,
              "#ed7953"
             ],
             [
              0.7777777777777778,
              "#fb9f3a"
             ],
             [
              0.8888888888888888,
              "#fdca26"
             ],
             [
              1.0,
              "#f0f921"
             ]
            ]
           }
          ],
          "contourcarpet": [
           {
            "type": "contourcarpet",
            "colorbar": {
             "outlinewidth": 0,
             "ticks": ""
            }
           }
          ],
          "contour": [
           {
            "type": "contour",
            "colorbar": {
             "outlinewidth": 0,
             "ticks": ""
            },
            "colorscale": [
             [
              0.0,
              "#0d0887"
             ],
             [
              0.1111111111111111,
              "#46039f"
             ],
             [
              0.2222222222222222,
              "#7201a8"
             ],
             [
              0.3333333333333333,
              "#9c179e"
             ],
             [
              0.4444444444444444,
              "#bd3786"
             ],
             [
              0.5555555555555556,
              "#d8576b"
             ],
             [
              0.6666666666666666,
              "#ed7953"
             ],
             [
              0.7777777777777778,
              "#fb9f3a"
             ],
             [
              0.8888888888888888,
              "#fdca26"
             ],
             [
              1.0,
              "#f0f921"
             ]
            ]
           }
          ],
          "surface": [
           {
            "type": "surface",
            "colorbar": {
             "outlinewidth": 0,
             "ticks": ""
            },
            "colorscale": [
             [
              0.0,
              "#0d0887"
             ],
             [
              0.1111111111111111,
              "#46039f"
             ],
             [
              0.2222222222222222,
              "#7201a8"
             ],
             [
              0.3333333333333333,
              "#9c179e"
             ],
             [
              0.4444444444444444,
              "#bd3786"
             ],
             [
              0.5555555555555556,
              "#d8576b"
             ],
             [
              0.6666666666666666,
              "#ed7953"
             ],
             [
              0.7777777777777778,
              "#fb9f3a"
             ],
             [
              0.8888888888888888,
              "#fdca26"
             ],
             [
              1.0,
              "#f0f921"
             ]
            ]
           }
          ],
          "mesh3d": [
           {
            "type": "mesh3d",
            "colorbar": {
             "outlinewidth": 0,
             "ticks": ""
            }
           }
          ],
          "scatter": [
           {
            "marker": {
             "line": {
              "color": "#283442"
             }
            },
            "type": "scatter"
           }
          ],
          "parcoords": [
           {
            "type": "parcoords",
            "line": {
             "colorbar": {
              "outlinewidth": 0,
              "ticks": ""
             }
            }
           }
          ],
          "scatterpolargl": [
           {
            "type": "scatterpolargl",
            "marker": {
             "colorbar": {
              "outlinewidth": 0,
              "ticks": ""
             }
            }
           }
          ],
          "bar": [
           {
            "error_x": {
             "color": "#f2f5fa"
            },
            "error_y": {
             "color": "#f2f5fa"
            },
            "marker": {
             "line": {
              "color": "rgb(17,17,17)",
              "width": 0.5
             },
             "pattern": {
              "fillmode": "overlay",
              "size": 10,
              "solidity": 0.2
             }
            },
            "type": "bar"
           }
          ],
          "scattergeo": [
           {
            "type": "scattergeo",
            "marker": {
             "colorbar": {
              "outlinewidth": 0,
              "ticks": ""
             }
            }
           }
          ],
          "scatterpolar": [
           {
            "type": "scatterpolar",
            "marker": {
             "colorbar": {
              "outlinewidth": 0,
              "ticks": ""
             }
            }
           }
          ],
          "histogram": [
           {
            "marker": {
             "pattern": {
              "fillmode": "overlay",
              "size": 10,
              "solidity": 0.2
             }
            },
            "type": "histogram"
           }
          ],
          "scattergl": [
           {
            "marker": {
             "line": {
              "color": "#283442"
             }
            },
            "type": "scattergl"
           }
          ],
          "scatter3d": [
           {
            "type": "scatter3d",
            "line": {
             "colorbar": {
              "outlinewidth": 0,
              "ticks": ""
             }
            },
            "marker": {
             "colorbar": {
              "outlinewidth": 0,
              "ticks": ""
             }
            }
           }
          ],
          "scattermapbox": [
           {
            "type": "scattermapbox",
            "marker": {
             "colorbar": {
              "outlinewidth": 0,
              "ticks": ""
             }
            }
           }
          ],
          "scatterternary": [
           {
            "type": "scatterternary",
            "marker": {
             "colorbar": {
              "outlinewidth": 0,
              "ticks": ""
             }
            }
           }
          ],
          "scattercarpet": [
           {
            "type": "scattercarpet",
            "marker": {
             "colorbar": {
              "outlinewidth": 0,
              "ticks": ""
             }
            }
           }
          ],
          "carpet": [
           {
            "aaxis": {
             "endlinecolor": "#A2B1C6",
             "gridcolor": "#506784",
             "linecolor": "#506784",
             "minorgridcolor": "#506784",
             "startlinecolor": "#A2B1C6"
            },
            "baxis": {
             "endlinecolor": "#A2B1C6",
             "gridcolor": "#506784",
             "linecolor": "#506784",
             "minorgridcolor": "#506784",
             "startlinecolor": "#A2B1C6"
            },
            "type": "carpet"
           }
          ],
          "table": [
           {
            "cells": {
             "fill": {
              "color": "#506784"
             },
             "line": {
              "color": "rgb(17,17,17)"
             }
            },
            "header": {
             "fill": {
              "color": "#2a3f5f"
             },
             "line": {
              "color": "rgb(17,17,17)"
             }
            },
            "type": "table"
           }
          ],
          "barpolar": [
           {
            "marker": {
             "line": {
              "color": "rgb(17,17,17)",
              "width": 0.5
             },
             "pattern": {
              "fillmode": "overlay",
              "size": 10,
              "solidity": 0.2
             }
            },
            "type": "barpolar"
           }
          ],
          "pie": [
           {
            "automargin": true,
            "type": "pie"
           }
          ]
         },
         "layout": {
          "autotypenumbers": "strict",
          "colorway": [
           "#636efa",
           "#EF553B",
           "#00cc96",
           "#ab63fa",
           "#FFA15A",
           "#19d3f3",
           "#FF6692",
           "#B6E880",
           "#FF97FF",
           "#FECB52"
          ],
          "font": {
           "color": "#f2f5fa"
          },
          "hovermode": "closest",
          "hoverlabel": {
           "align": "left"
          },
          "paper_bgcolor": "rgb(17,17,17)",
          "plot_bgcolor": "rgb(17,17,17)",
          "polar": {
           "bgcolor": "rgb(17,17,17)",
           "angularaxis": {
            "gridcolor": "#506784",
            "linecolor": "#506784",
            "ticks": ""
           },
           "radialaxis": {
            "gridcolor": "#506784",
            "linecolor": "#506784",
            "ticks": ""
           }
          },
          "ternary": {
           "bgcolor": "rgb(17,17,17)",
           "aaxis": {
            "gridcolor": "#506784",
            "linecolor": "#506784",
            "ticks": ""
           },
           "baxis": {
            "gridcolor": "#506784",
            "linecolor": "#506784",
            "ticks": ""
           },
           "caxis": {
            "gridcolor": "#506784",
            "linecolor": "#506784",
            "ticks": ""
           }
          },
          "coloraxis": {
           "colorbar": {
            "outlinewidth": 0,
            "ticks": ""
           }
          },
          "colorscale": {
           "sequential": [
            [
             0.0,
             "#0d0887"
            ],
            [
             0.1111111111111111,
             "#46039f"
            ],
            [
             0.2222222222222222,
             "#7201a8"
            ],
            [
             0.3333333333333333,
             "#9c179e"
            ],
            [
             0.4444444444444444,
             "#bd3786"
            ],
            [
             0.5555555555555556,
             "#d8576b"
            ],
            [
             0.6666666666666666,
             "#ed7953"
            ],
            [
             0.7777777777777778,
             "#fb9f3a"
            ],
            [
             0.8888888888888888,
             "#fdca26"
            ],
            [
             1.0,
             "#f0f921"
            ]
           ],
           "sequentialminus": [
            [
             0.0,
             "#0d0887"
            ],
            [
             0.1111111111111111,
             "#46039f"
            ],
            [
             0.2222222222222222,
             "#7201a8"
            ],
            [
             0.3333333333333333,
             "#9c179e"
            ],
            [
             0.4444444444444444,
             "#bd3786"
            ],
            [
             0.5555555555555556,
             "#d8576b"
            ],
            [
             0.6666666666666666,
             "#ed7953"
            ],
            [
             0.7777777777777778,
             "#fb9f3a"
            ],
            [
             0.8888888888888888,
             "#fdca26"
            ],
            [
             1.0,
             "#f0f921"
            ]
           ],
           "diverging": [
            [
             0,
             "#8e0152"
            ],
            [
             0.1,
             "#c51b7d"
            ],
            [
             0.2,
             "#de77ae"
            ],
            [
             0.3,
             "#f1b6da"
            ],
            [
             0.4,
             "#fde0ef"
            ],
            [
             0.5,
             "#f7f7f7"
            ],
            [
             0.6,
             "#e6f5d0"
            ],
            [
             0.7,
             "#b8e186"
            ],
            [
             0.8,
             "#7fbc41"
            ],
            [
             0.9,
             "#4d9221"
            ],
            [
             1,
             "#276419"
            ]
           ]
          },
          "xaxis": {
           "gridcolor": "#283442",
           "linecolor": "#506784",
           "ticks": "",
           "title": {
            "standoff": 15
           },
           "zerolinecolor": "#283442",
           "automargin": true,
           "zerolinewidth": 2
          },
          "yaxis": {
           "gridcolor": "#283442",
           "linecolor": "#506784",
           "ticks": "",
           "title": {
            "standoff": 15
           },
           "zerolinecolor": "#283442",
           "automargin": true,
           "zerolinewidth": 2
          },
          "scene": {
           "xaxis": {
            "backgroundcolor": "rgb(17,17,17)",
            "gridcolor": "#506784",
            "linecolor": "#506784",
            "showbackground": true,
            "ticks": "",
            "zerolinecolor": "#C8D4E3",
            "gridwidth": 2
           },
           "yaxis": {
            "backgroundcolor": "rgb(17,17,17)",
            "gridcolor": "#506784",
            "linecolor": "#506784",
            "showbackground": true,
            "ticks": "",
            "zerolinecolor": "#C8D4E3",
            "gridwidth": 2
           },
           "zaxis": {
            "backgroundcolor": "rgb(17,17,17)",
            "gridcolor": "#506784",
            "linecolor": "#506784",
            "showbackground": true,
            "ticks": "",
            "zerolinecolor": "#C8D4E3",
            "gridwidth": 2
           }
          },
          "shapedefaults": {
           "line": {
            "color": "#f2f5fa"
           }
          },
          "annotationdefaults": {
           "arrowcolor": "#f2f5fa",
           "arrowhead": 0,
           "arrowwidth": 1
          },
          "geo": {
           "bgcolor": "rgb(17,17,17)",
           "landcolor": "rgb(17,17,17)",
           "subunitcolor": "#506784",
           "showland": true,
           "showlakes": true,
           "lakecolor": "rgb(17,17,17)"
          },
          "title": {
           "x": 0.05
          },
          "updatemenudefaults": {
           "bgcolor": "#506784",
           "borderwidth": 0
          },
          "sliderdefaults": {
           "bgcolor": "#C8D4E3",
           "borderwidth": 1,
           "bordercolor": "rgb(17,17,17)",
           "tickwidth": 0
          },
          "mapbox": {
           "style": "dark"
          }
         }
        }
       },
       "config": {
        "plotlyServerURL": "https://plot.ly"
       }
      }
     },
     "metadata": {},
     "output_type": "display_data"
    },
    {
     "data": {
      "text/plain": "<IPython.core.display.HTML object>",
      "text/html": "\n    <table>\n    <thead>\n    <tr><td>Machine Type</td><td>Count</td><td>Recipe</td><td>Ingredients</td><td>Products</td></tr>\n    </thead>\n    <tbody>\n    <tr><td>Constructor</td><td>30.625</td><td>screw</td><td>iron_rod: 306.25</td><td>screw: 1225.00</td></tr>\n<tr><td>Manufacturer</td><td>2.5</td><td>heavy_modular_frame</td><td>screw: 500.00<br>modular_frame: 25.00<br>encased_industrial_beam: 25.00<br>steel_pipe: 75.00</td><td>heavy_modular_frame: 5.00</td></tr>\n<tr><td>Constructor</td><td>7.5333</td><td>steel_beam</td><td>steel_ingot: 452.00</td><td>steel_beam: 113.00</td></tr>\n<tr><td>Foundry</td><td>12.5444</td><td>steel_ingot</td><td>coal: 564.50<br>iron_ore: 564.50</td><td>steel_ingot: 564.50</td></tr>\n<tr><td>Constructor</td><td>34.75</td><td>iron_rod</td><td>iron_ingot: 521.25</td><td>iron_rod: 521.25</td></tr>\n<tr><td>Extractor</td><td>25.8458</td><td>iron_ore</td><td></td><td>iron_ore: 1550.75</td></tr>\n<tr><td>Constructor</td><td>15.5</td><td>iron_plate</td><td>iron_ingot: 465.00</td><td>iron_plate: 310.00</td></tr>\n<tr><td>Assembler</td><td>1.25</td><td>rotor</td><td>iron_rod: 25.00<br>screw: 125.00</td><td>rotor: 5.00</td></tr>\n<tr><td>Extractor</td><td>6.75</td><td>limestone</td><td></td><td>limestone: 405.00</td></tr>\n<tr><td>Assembler</td><td>4.5</td><td>encased_industrial_beam</td><td>concrete: 135.00<br>steel_beam: 108.00</td><td>encased_industrial_beam: 27.00</td></tr>\n<tr><td>Aggregator</td><td>1</td><td>output</td><td>iron_rod: 10.00<br>iron_plate: 10.00<br>steel_beam: 5.00<br>modular_frame: 5.00<br>reinforced_iron_plate: 5.00<br>rotor: 5.00<br>encased_industrial_beam: 2.00<br>heavy_modular_frame: 5.00</td><td>iron_rod: 10.00<br>iron_plate: 10.00<br>steel_beam: 5.00<br>modular_frame: 5.00<br>reinforced_iron_plate: 5.00<br>rotor: 5.00<br>encased_industrial_beam: 2.00<br>heavy_modular_frame: 5.00</td></tr>\n<tr><td>Constructor</td><td>3.75</td><td>steel_pipe</td><td>steel_ingot: 112.50</td><td>steel_pipe: 75.00</td></tr>\n<tr><td>Extractor</td><td>9.4083</td><td>coal</td><td></td><td>coal: 564.50</td></tr>\n<tr><td>Smelter</td><td>32.875</td><td>iron_ingot</td><td>iron_ore: 986.25</td><td>iron_ingot: 986.25</td></tr>\n<tr><td>Constructor</td><td>9.0</td><td>concrete</td><td>limestone: 405.00</td><td>concrete: 135.00</td></tr>\n<tr><td>Assembler</td><td>10.0</td><td>reinforced_iron_plate</td><td>screw: 600.00<br>iron_plate: 300.00</td><td>reinforced_iron_plate: 50.00</td></tr>\n<tr><td>Assembler</td><td>15.0</td><td>modular_frame</td><td>iron_rod: 180.00<br>reinforced_iron_plate: 45.00</td><td>modular_frame: 30.00</td></tr>\n    </tbody>\n    </table>"
     },
     "metadata": {},
     "output_type": "display_data"
    },
    {
     "name": "stdout",
     "output_type": "stream",
     "text": [
      "Total Power: 1755.6346\n"
     ]
    },
    {
     "data": {
      "text/plain": "<__main__.Process at 0x7f7a14906950>"
     },
     "execution_count": 17,
     "metadata": {},
     "output_type": "execute_result"
    }
   ],
   "source": [
    "# total production\n",
    "target_product = MaterialSpec(iron_rod=10, iron_plate=10, reinforced_iron_plate=5, rotor=5,\n",
    "                                  steel_beam=5, encased_industrial_beam=2, modular_frame=5, heavy_modular_frame=5)\n",
    "\n",
    "factory_plan(target_product)"
   ]
  },
  {
   "cell_type": "code",
   "execution_count": 18,
   "id": "2ebd00f4-afb7-4e09-b607-e6758c00a32d",
   "metadata": {
    "tags": []
   },
   "outputs": [
    {
     "name": "stdout",
     "output_type": "stream",
     "text": [
      "missing: 'BP_ItemDescriptorPortableMiner_C'\n",
      "\n"
     ]
    },
    {
     "data": {
      "application/vnd.plotly.v1+json": {
       "data": [
        {
         "hoverinfo": "none",
         "line": {
          "shape": "spline"
         },
         "marker": {
          "angleref": "previous",
          "color": "black",
          "size": 10,
          "standoff": 10,
          "symbol": "arrow-wide"
         },
         "mode": "lines+markers",
         "showlegend": false,
         "x": [
          0.5,
          1.5,
          null,
          1.5,
          1.5,
          null,
          0.5,
          0.5,
          null,
          0.5,
          0.5,
          null,
          0.5,
          1.5,
          null,
          -0.5,
          0.5,
          null
         ],
         "y": [
          3.0,
          3.0,
          null,
          2.0,
          3.0,
          null,
          1.0,
          2.0,
          null,
          2.0,
          3.0,
          null,
          1.0,
          2.0,
          null,
          2.0,
          1.0,
          null
         ],
         "type": "scatter"
        },
        {
         "hovertemplate": "%{text}<extra></extra>",
         "marker": {
          "color": [
           "#750D86",
           "#E15F99",
           "#2E91E5",
           "#2E91E5",
           "#2E91E5",
           "#511CFB",
           "#FB0D0D"
          ],
          "size": [
           29.242343145200195,
           25.96672499955091,
           30.958127171467464,
           28.62674539751169,
           31.989249137763153,
           21.53543426250563,
           35.231883119115295
          ],
          "symbol": "circle-dot"
         },
         "mode": "markers",
         "showlegend": false,
         "text": [
          "\nExtractor<br>\nRecipe: iron_ore<br>\nScale: 6.5\n",
          "\nAssembler<br>\nRecipe: reinforced_iron_plate<br>\nScale: 4.0\n",
          "\nConstructor<br>\nRecipe: iron_rod<br>\nScale: 8.0\n",
          "\nConstructor<br>\nRecipe: screw<br>\nScale: 6.0\n",
          "\nConstructor<br>\nRecipe: iron_plate<br>\nScale: 9.0\n",
          "\nAggregator<br>\nRecipe: output<br>\nScale: 1\n",
          "\nSmelter<br>\nRecipe: iron_ingot<br>\nScale: 13.0\n"
         ],
         "x": [
          -0.5,
          1.5,
          0.5,
          0.5,
          1.5,
          -0.5,
          0.5
         ],
         "y": [
          2.0,
          3.0,
          2.0,
          3.0,
          2.0,
          1.0,
          1.0
         ],
         "type": "scatter"
        }
       ],
       "layout": {
        "template": {
         "data": {
          "histogram2dcontour": [
           {
            "type": "histogram2dcontour",
            "colorbar": {
             "outlinewidth": 0,
             "ticks": ""
            },
            "colorscale": [
             [
              0.0,
              "#0d0887"
             ],
             [
              0.1111111111111111,
              "#46039f"
             ],
             [
              0.2222222222222222,
              "#7201a8"
             ],
             [
              0.3333333333333333,
              "#9c179e"
             ],
             [
              0.4444444444444444,
              "#bd3786"
             ],
             [
              0.5555555555555556,
              "#d8576b"
             ],
             [
              0.6666666666666666,
              "#ed7953"
             ],
             [
              0.7777777777777778,
              "#fb9f3a"
             ],
             [
              0.8888888888888888,
              "#fdca26"
             ],
             [
              1.0,
              "#f0f921"
             ]
            ]
           }
          ],
          "choropleth": [
           {
            "type": "choropleth",
            "colorbar": {
             "outlinewidth": 0,
             "ticks": ""
            }
           }
          ],
          "histogram2d": [
           {
            "type": "histogram2d",
            "colorbar": {
             "outlinewidth": 0,
             "ticks": ""
            },
            "colorscale": [
             [
              0.0,
              "#0d0887"
             ],
             [
              0.1111111111111111,
              "#46039f"
             ],
             [
              0.2222222222222222,
              "#7201a8"
             ],
             [
              0.3333333333333333,
              "#9c179e"
             ],
             [
              0.4444444444444444,
              "#bd3786"
             ],
             [
              0.5555555555555556,
              "#d8576b"
             ],
             [
              0.6666666666666666,
              "#ed7953"
             ],
             [
              0.7777777777777778,
              "#fb9f3a"
             ],
             [
              0.8888888888888888,
              "#fdca26"
             ],
             [
              1.0,
              "#f0f921"
             ]
            ]
           }
          ],
          "heatmap": [
           {
            "type": "heatmap",
            "colorbar": {
             "outlinewidth": 0,
             "ticks": ""
            },
            "colorscale": [
             [
              0.0,
              "#0d0887"
             ],
             [
              0.1111111111111111,
              "#46039f"
             ],
             [
              0.2222222222222222,
              "#7201a8"
             ],
             [
              0.3333333333333333,
              "#9c179e"
             ],
             [
              0.4444444444444444,
              "#bd3786"
             ],
             [
              0.5555555555555556,
              "#d8576b"
             ],
             [
              0.6666666666666666,
              "#ed7953"
             ],
             [
              0.7777777777777778,
              "#fb9f3a"
             ],
             [
              0.8888888888888888,
              "#fdca26"
             ],
             [
              1.0,
              "#f0f921"
             ]
            ]
           }
          ],
          "heatmapgl": [
           {
            "type": "heatmapgl",
            "colorbar": {
             "outlinewidth": 0,
             "ticks": ""
            },
            "colorscale": [
             [
              0.0,
              "#0d0887"
             ],
             [
              0.1111111111111111,
              "#46039f"
             ],
             [
              0.2222222222222222,
              "#7201a8"
             ],
             [
              0.3333333333333333,
              "#9c179e"
             ],
             [
              0.4444444444444444,
              "#bd3786"
             ],
             [
              0.5555555555555556,
              "#d8576b"
             ],
             [
              0.6666666666666666,
              "#ed7953"
             ],
             [
              0.7777777777777778,
              "#fb9f3a"
             ],
             [
              0.8888888888888888,
              "#fdca26"
             ],
             [
              1.0,
              "#f0f921"
             ]
            ]
           }
          ],
          "contourcarpet": [
           {
            "type": "contourcarpet",
            "colorbar": {
             "outlinewidth": 0,
             "ticks": ""
            }
           }
          ],
          "contour": [
           {
            "type": "contour",
            "colorbar": {
             "outlinewidth": 0,
             "ticks": ""
            },
            "colorscale": [
             [
              0.0,
              "#0d0887"
             ],
             [
              0.1111111111111111,
              "#46039f"
             ],
             [
              0.2222222222222222,
              "#7201a8"
             ],
             [
              0.3333333333333333,
              "#9c179e"
             ],
             [
              0.4444444444444444,
              "#bd3786"
             ],
             [
              0.5555555555555556,
              "#d8576b"
             ],
             [
              0.6666666666666666,
              "#ed7953"
             ],
             [
              0.7777777777777778,
              "#fb9f3a"
             ],
             [
              0.8888888888888888,
              "#fdca26"
             ],
             [
              1.0,
              "#f0f921"
             ]
            ]
           }
          ],
          "surface": [
           {
            "type": "surface",
            "colorbar": {
             "outlinewidth": 0,
             "ticks": ""
            },
            "colorscale": [
             [
              0.0,
              "#0d0887"
             ],
             [
              0.1111111111111111,
              "#46039f"
             ],
             [
              0.2222222222222222,
              "#7201a8"
             ],
             [
              0.3333333333333333,
              "#9c179e"
             ],
             [
              0.4444444444444444,
              "#bd3786"
             ],
             [
              0.5555555555555556,
              "#d8576b"
             ],
             [
              0.6666666666666666,
              "#ed7953"
             ],
             [
              0.7777777777777778,
              "#fb9f3a"
             ],
             [
              0.8888888888888888,
              "#fdca26"
             ],
             [
              1.0,
              "#f0f921"
             ]
            ]
           }
          ],
          "mesh3d": [
           {
            "type": "mesh3d",
            "colorbar": {
             "outlinewidth": 0,
             "ticks": ""
            }
           }
          ],
          "scatter": [
           {
            "marker": {
             "line": {
              "color": "#283442"
             }
            },
            "type": "scatter"
           }
          ],
          "parcoords": [
           {
            "type": "parcoords",
            "line": {
             "colorbar": {
              "outlinewidth": 0,
              "ticks": ""
             }
            }
           }
          ],
          "scatterpolargl": [
           {
            "type": "scatterpolargl",
            "marker": {
             "colorbar": {
              "outlinewidth": 0,
              "ticks": ""
             }
            }
           }
          ],
          "bar": [
           {
            "error_x": {
             "color": "#f2f5fa"
            },
            "error_y": {
             "color": "#f2f5fa"
            },
            "marker": {
             "line": {
              "color": "rgb(17,17,17)",
              "width": 0.5
             },
             "pattern": {
              "fillmode": "overlay",
              "size": 10,
              "solidity": 0.2
             }
            },
            "type": "bar"
           }
          ],
          "scattergeo": [
           {
            "type": "scattergeo",
            "marker": {
             "colorbar": {
              "outlinewidth": 0,
              "ticks": ""
             }
            }
           }
          ],
          "scatterpolar": [
           {
            "type": "scatterpolar",
            "marker": {
             "colorbar": {
              "outlinewidth": 0,
              "ticks": ""
             }
            }
           }
          ],
          "histogram": [
           {
            "marker": {
             "pattern": {
              "fillmode": "overlay",
              "size": 10,
              "solidity": 0.2
             }
            },
            "type": "histogram"
           }
          ],
          "scattergl": [
           {
            "marker": {
             "line": {
              "color": "#283442"
             }
            },
            "type": "scattergl"
           }
          ],
          "scatter3d": [
           {
            "type": "scatter3d",
            "line": {
             "colorbar": {
              "outlinewidth": 0,
              "ticks": ""
             }
            },
            "marker": {
             "colorbar": {
              "outlinewidth": 0,
              "ticks": ""
             }
            }
           }
          ],
          "scattermapbox": [
           {
            "type": "scattermapbox",
            "marker": {
             "colorbar": {
              "outlinewidth": 0,
              "ticks": ""
             }
            }
           }
          ],
          "scatterternary": [
           {
            "type": "scatterternary",
            "marker": {
             "colorbar": {
              "outlinewidth": 0,
              "ticks": ""
             }
            }
           }
          ],
          "scattercarpet": [
           {
            "type": "scattercarpet",
            "marker": {
             "colorbar": {
              "outlinewidth": 0,
              "ticks": ""
             }
            }
           }
          ],
          "carpet": [
           {
            "aaxis": {
             "endlinecolor": "#A2B1C6",
             "gridcolor": "#506784",
             "linecolor": "#506784",
             "minorgridcolor": "#506784",
             "startlinecolor": "#A2B1C6"
            },
            "baxis": {
             "endlinecolor": "#A2B1C6",
             "gridcolor": "#506784",
             "linecolor": "#506784",
             "minorgridcolor": "#506784",
             "startlinecolor": "#A2B1C6"
            },
            "type": "carpet"
           }
          ],
          "table": [
           {
            "cells": {
             "fill": {
              "color": "#506784"
             },
             "line": {
              "color": "rgb(17,17,17)"
             }
            },
            "header": {
             "fill": {
              "color": "#2a3f5f"
             },
             "line": {
              "color": "rgb(17,17,17)"
             }
            },
            "type": "table"
           }
          ],
          "barpolar": [
           {
            "marker": {
             "line": {
              "color": "rgb(17,17,17)",
              "width": 0.5
             },
             "pattern": {
              "fillmode": "overlay",
              "size": 10,
              "solidity": 0.2
             }
            },
            "type": "barpolar"
           }
          ],
          "pie": [
           {
            "automargin": true,
            "type": "pie"
           }
          ]
         },
         "layout": {
          "autotypenumbers": "strict",
          "colorway": [
           "#636efa",
           "#EF553B",
           "#00cc96",
           "#ab63fa",
           "#FFA15A",
           "#19d3f3",
           "#FF6692",
           "#B6E880",
           "#FF97FF",
           "#FECB52"
          ],
          "font": {
           "color": "#f2f5fa"
          },
          "hovermode": "closest",
          "hoverlabel": {
           "align": "left"
          },
          "paper_bgcolor": "rgb(17,17,17)",
          "plot_bgcolor": "rgb(17,17,17)",
          "polar": {
           "bgcolor": "rgb(17,17,17)",
           "angularaxis": {
            "gridcolor": "#506784",
            "linecolor": "#506784",
            "ticks": ""
           },
           "radialaxis": {
            "gridcolor": "#506784",
            "linecolor": "#506784",
            "ticks": ""
           }
          },
          "ternary": {
           "bgcolor": "rgb(17,17,17)",
           "aaxis": {
            "gridcolor": "#506784",
            "linecolor": "#506784",
            "ticks": ""
           },
           "baxis": {
            "gridcolor": "#506784",
            "linecolor": "#506784",
            "ticks": ""
           },
           "caxis": {
            "gridcolor": "#506784",
            "linecolor": "#506784",
            "ticks": ""
           }
          },
          "coloraxis": {
           "colorbar": {
            "outlinewidth": 0,
            "ticks": ""
           }
          },
          "colorscale": {
           "sequential": [
            [
             0.0,
             "#0d0887"
            ],
            [
             0.1111111111111111,
             "#46039f"
            ],
            [
             0.2222222222222222,
             "#7201a8"
            ],
            [
             0.3333333333333333,
             "#9c179e"
            ],
            [
             0.4444444444444444,
             "#bd3786"
            ],
            [
             0.5555555555555556,
             "#d8576b"
            ],
            [
             0.6666666666666666,
             "#ed7953"
            ],
            [
             0.7777777777777778,
             "#fb9f3a"
            ],
            [
             0.8888888888888888,
             "#fdca26"
            ],
            [
             1.0,
             "#f0f921"
            ]
           ],
           "sequentialminus": [
            [
             0.0,
             "#0d0887"
            ],
            [
             0.1111111111111111,
             "#46039f"
            ],
            [
             0.2222222222222222,
             "#7201a8"
            ],
            [
             0.3333333333333333,
             "#9c179e"
            ],
            [
             0.4444444444444444,
             "#bd3786"
            ],
            [
             0.5555555555555556,
             "#d8576b"
            ],
            [
             0.6666666666666666,
             "#ed7953"
            ],
            [
             0.7777777777777778,
             "#fb9f3a"
            ],
            [
             0.8888888888888888,
             "#fdca26"
            ],
            [
             1.0,
             "#f0f921"
            ]
           ],
           "diverging": [
            [
             0,
             "#8e0152"
            ],
            [
             0.1,
             "#c51b7d"
            ],
            [
             0.2,
             "#de77ae"
            ],
            [
             0.3,
             "#f1b6da"
            ],
            [
             0.4,
             "#fde0ef"
            ],
            [
             0.5,
             "#f7f7f7"
            ],
            [
             0.6,
             "#e6f5d0"
            ],
            [
             0.7,
             "#b8e186"
            ],
            [
             0.8,
             "#7fbc41"
            ],
            [
             0.9,
             "#4d9221"
            ],
            [
             1,
             "#276419"
            ]
           ]
          },
          "xaxis": {
           "gridcolor": "#283442",
           "linecolor": "#506784",
           "ticks": "",
           "title": {
            "standoff": 15
           },
           "zerolinecolor": "#283442",
           "automargin": true,
           "zerolinewidth": 2
          },
          "yaxis": {
           "gridcolor": "#283442",
           "linecolor": "#506784",
           "ticks": "",
           "title": {
            "standoff": 15
           },
           "zerolinecolor": "#283442",
           "automargin": true,
           "zerolinewidth": 2
          },
          "scene": {
           "xaxis": {
            "backgroundcolor": "rgb(17,17,17)",
            "gridcolor": "#506784",
            "linecolor": "#506784",
            "showbackground": true,
            "ticks": "",
            "zerolinecolor": "#C8D4E3",
            "gridwidth": 2
           },
           "yaxis": {
            "backgroundcolor": "rgb(17,17,17)",
            "gridcolor": "#506784",
            "linecolor": "#506784",
            "showbackground": true,
            "ticks": "",
            "zerolinecolor": "#C8D4E3",
            "gridwidth": 2
           },
           "zaxis": {
            "backgroundcolor": "rgb(17,17,17)",
            "gridcolor": "#506784",
            "linecolor": "#506784",
            "showbackground": true,
            "ticks": "",
            "zerolinecolor": "#C8D4E3",
            "gridwidth": 2
           }
          },
          "shapedefaults": {
           "line": {
            "color": "#f2f5fa"
           }
          },
          "annotationdefaults": {
           "arrowcolor": "#f2f5fa",
           "arrowhead": 0,
           "arrowwidth": 1
          },
          "geo": {
           "bgcolor": "rgb(17,17,17)",
           "landcolor": "rgb(17,17,17)",
           "subunitcolor": "#506784",
           "showland": true,
           "showlakes": true,
           "lakecolor": "rgb(17,17,17)"
          },
          "title": {
           "x": 0.05
          },
          "updatemenudefaults": {
           "bgcolor": "#506784",
           "borderwidth": 0
          },
          "sliderdefaults": {
           "bgcolor": "#C8D4E3",
           "borderwidth": 1,
           "bordercolor": "rgb(17,17,17)",
           "tickwidth": 0
          },
          "mapbox": {
           "style": "dark"
          }
         }
        },
        "xaxis": {
         "showgrid": false,
         "zeroline": false,
         "visible": false
        },
        "yaxis": {
         "showgrid": false,
         "zeroline": false,
         "visible": false
        },
        "autosize": true,
        "height": 1000
       },
       "config": {
        "plotlyServerURL": "https://plot.ly"
       }
      }
     },
     "metadata": {},
     "output_type": "display_data"
    },
    {
     "data": {
      "application/vnd.plotly.v1+json": {
       "data": [
        {
         "link": {
          "label": [
           "screw",
           "iron_plate",
           "iron_ingot",
           "iron_rod",
           "iron_ingot",
           "iron_ore"
          ],
          "source": [
           3,
           4,
           6,
           2,
           6,
           0
          ],
          "target": [
           1,
           1,
           2,
           3,
           4,
           6
          ],
          "value": [
           240.0,
           120.0,
           120.0,
           60.0,
           270.0,
           390.0
          ]
         },
         "node": {
          "label": [
           "Extractor: iron_ore",
           "Assembler: reinforced_iron_plate",
           "Constructor: iron_rod",
           "Constructor: screw",
           "Constructor: iron_plate",
           "Aggregator: output",
           "Smelter: iron_ingot"
          ]
         },
         "type": "sankey"
        }
       ],
       "layout": {
        "template": {
         "data": {
          "histogram2dcontour": [
           {
            "type": "histogram2dcontour",
            "colorbar": {
             "outlinewidth": 0,
             "ticks": ""
            },
            "colorscale": [
             [
              0.0,
              "#0d0887"
             ],
             [
              0.1111111111111111,
              "#46039f"
             ],
             [
              0.2222222222222222,
              "#7201a8"
             ],
             [
              0.3333333333333333,
              "#9c179e"
             ],
             [
              0.4444444444444444,
              "#bd3786"
             ],
             [
              0.5555555555555556,
              "#d8576b"
             ],
             [
              0.6666666666666666,
              "#ed7953"
             ],
             [
              0.7777777777777778,
              "#fb9f3a"
             ],
             [
              0.8888888888888888,
              "#fdca26"
             ],
             [
              1.0,
              "#f0f921"
             ]
            ]
           }
          ],
          "choropleth": [
           {
            "type": "choropleth",
            "colorbar": {
             "outlinewidth": 0,
             "ticks": ""
            }
           }
          ],
          "histogram2d": [
           {
            "type": "histogram2d",
            "colorbar": {
             "outlinewidth": 0,
             "ticks": ""
            },
            "colorscale": [
             [
              0.0,
              "#0d0887"
             ],
             [
              0.1111111111111111,
              "#46039f"
             ],
             [
              0.2222222222222222,
              "#7201a8"
             ],
             [
              0.3333333333333333,
              "#9c179e"
             ],
             [
              0.4444444444444444,
              "#bd3786"
             ],
             [
              0.5555555555555556,
              "#d8576b"
             ],
             [
              0.6666666666666666,
              "#ed7953"
             ],
             [
              0.7777777777777778,
              "#fb9f3a"
             ],
             [
              0.8888888888888888,
              "#fdca26"
             ],
             [
              1.0,
              "#f0f921"
             ]
            ]
           }
          ],
          "heatmap": [
           {
            "type": "heatmap",
            "colorbar": {
             "outlinewidth": 0,
             "ticks": ""
            },
            "colorscale": [
             [
              0.0,
              "#0d0887"
             ],
             [
              0.1111111111111111,
              "#46039f"
             ],
             [
              0.2222222222222222,
              "#7201a8"
             ],
             [
              0.3333333333333333,
              "#9c179e"
             ],
             [
              0.4444444444444444,
              "#bd3786"
             ],
             [
              0.5555555555555556,
              "#d8576b"
             ],
             [
              0.6666666666666666,
              "#ed7953"
             ],
             [
              0.7777777777777778,
              "#fb9f3a"
             ],
             [
              0.8888888888888888,
              "#fdca26"
             ],
             [
              1.0,
              "#f0f921"
             ]
            ]
           }
          ],
          "heatmapgl": [
           {
            "type": "heatmapgl",
            "colorbar": {
             "outlinewidth": 0,
             "ticks": ""
            },
            "colorscale": [
             [
              0.0,
              "#0d0887"
             ],
             [
              0.1111111111111111,
              "#46039f"
             ],
             [
              0.2222222222222222,
              "#7201a8"
             ],
             [
              0.3333333333333333,
              "#9c179e"
             ],
             [
              0.4444444444444444,
              "#bd3786"
             ],
             [
              0.5555555555555556,
              "#d8576b"
             ],
             [
              0.6666666666666666,
              "#ed7953"
             ],
             [
              0.7777777777777778,
              "#fb9f3a"
             ],
             [
              0.8888888888888888,
              "#fdca26"
             ],
             [
              1.0,
              "#f0f921"
             ]
            ]
           }
          ],
          "contourcarpet": [
           {
            "type": "contourcarpet",
            "colorbar": {
             "outlinewidth": 0,
             "ticks": ""
            }
           }
          ],
          "contour": [
           {
            "type": "contour",
            "colorbar": {
             "outlinewidth": 0,
             "ticks": ""
            },
            "colorscale": [
             [
              0.0,
              "#0d0887"
             ],
             [
              0.1111111111111111,
              "#46039f"
             ],
             [
              0.2222222222222222,
              "#7201a8"
             ],
             [
              0.3333333333333333,
              "#9c179e"
             ],
             [
              0.4444444444444444,
              "#bd3786"
             ],
             [
              0.5555555555555556,
              "#d8576b"
             ],
             [
              0.6666666666666666,
              "#ed7953"
             ],
             [
              0.7777777777777778,
              "#fb9f3a"
             ],
             [
              0.8888888888888888,
              "#fdca26"
             ],
             [
              1.0,
              "#f0f921"
             ]
            ]
           }
          ],
          "surface": [
           {
            "type": "surface",
            "colorbar": {
             "outlinewidth": 0,
             "ticks": ""
            },
            "colorscale": [
             [
              0.0,
              "#0d0887"
             ],
             [
              0.1111111111111111,
              "#46039f"
             ],
             [
              0.2222222222222222,
              "#7201a8"
             ],
             [
              0.3333333333333333,
              "#9c179e"
             ],
             [
              0.4444444444444444,
              "#bd3786"
             ],
             [
              0.5555555555555556,
              "#d8576b"
             ],
             [
              0.6666666666666666,
              "#ed7953"
             ],
             [
              0.7777777777777778,
              "#fb9f3a"
             ],
             [
              0.8888888888888888,
              "#fdca26"
             ],
             [
              1.0,
              "#f0f921"
             ]
            ]
           }
          ],
          "mesh3d": [
           {
            "type": "mesh3d",
            "colorbar": {
             "outlinewidth": 0,
             "ticks": ""
            }
           }
          ],
          "scatter": [
           {
            "marker": {
             "line": {
              "color": "#283442"
             }
            },
            "type": "scatter"
           }
          ],
          "parcoords": [
           {
            "type": "parcoords",
            "line": {
             "colorbar": {
              "outlinewidth": 0,
              "ticks": ""
             }
            }
           }
          ],
          "scatterpolargl": [
           {
            "type": "scatterpolargl",
            "marker": {
             "colorbar": {
              "outlinewidth": 0,
              "ticks": ""
             }
            }
           }
          ],
          "bar": [
           {
            "error_x": {
             "color": "#f2f5fa"
            },
            "error_y": {
             "color": "#f2f5fa"
            },
            "marker": {
             "line": {
              "color": "rgb(17,17,17)",
              "width": 0.5
             },
             "pattern": {
              "fillmode": "overlay",
              "size": 10,
              "solidity": 0.2
             }
            },
            "type": "bar"
           }
          ],
          "scattergeo": [
           {
            "type": "scattergeo",
            "marker": {
             "colorbar": {
              "outlinewidth": 0,
              "ticks": ""
             }
            }
           }
          ],
          "scatterpolar": [
           {
            "type": "scatterpolar",
            "marker": {
             "colorbar": {
              "outlinewidth": 0,
              "ticks": ""
             }
            }
           }
          ],
          "histogram": [
           {
            "marker": {
             "pattern": {
              "fillmode": "overlay",
              "size": 10,
              "solidity": 0.2
             }
            },
            "type": "histogram"
           }
          ],
          "scattergl": [
           {
            "marker": {
             "line": {
              "color": "#283442"
             }
            },
            "type": "scattergl"
           }
          ],
          "scatter3d": [
           {
            "type": "scatter3d",
            "line": {
             "colorbar": {
              "outlinewidth": 0,
              "ticks": ""
             }
            },
            "marker": {
             "colorbar": {
              "outlinewidth": 0,
              "ticks": ""
             }
            }
           }
          ],
          "scattermapbox": [
           {
            "type": "scattermapbox",
            "marker": {
             "colorbar": {
              "outlinewidth": 0,
              "ticks": ""
             }
            }
           }
          ],
          "scatterternary": [
           {
            "type": "scatterternary",
            "marker": {
             "colorbar": {
              "outlinewidth": 0,
              "ticks": ""
             }
            }
           }
          ],
          "scattercarpet": [
           {
            "type": "scattercarpet",
            "marker": {
             "colorbar": {
              "outlinewidth": 0,
              "ticks": ""
             }
            }
           }
          ],
          "carpet": [
           {
            "aaxis": {
             "endlinecolor": "#A2B1C6",
             "gridcolor": "#506784",
             "linecolor": "#506784",
             "minorgridcolor": "#506784",
             "startlinecolor": "#A2B1C6"
            },
            "baxis": {
             "endlinecolor": "#A2B1C6",
             "gridcolor": "#506784",
             "linecolor": "#506784",
             "minorgridcolor": "#506784",
             "startlinecolor": "#A2B1C6"
            },
            "type": "carpet"
           }
          ],
          "table": [
           {
            "cells": {
             "fill": {
              "color": "#506784"
             },
             "line": {
              "color": "rgb(17,17,17)"
             }
            },
            "header": {
             "fill": {
              "color": "#2a3f5f"
             },
             "line": {
              "color": "rgb(17,17,17)"
             }
            },
            "type": "table"
           }
          ],
          "barpolar": [
           {
            "marker": {
             "line": {
              "color": "rgb(17,17,17)",
              "width": 0.5
             },
             "pattern": {
              "fillmode": "overlay",
              "size": 10,
              "solidity": 0.2
             }
            },
            "type": "barpolar"
           }
          ],
          "pie": [
           {
            "automargin": true,
            "type": "pie"
           }
          ]
         },
         "layout": {
          "autotypenumbers": "strict",
          "colorway": [
           "#636efa",
           "#EF553B",
           "#00cc96",
           "#ab63fa",
           "#FFA15A",
           "#19d3f3",
           "#FF6692",
           "#B6E880",
           "#FF97FF",
           "#FECB52"
          ],
          "font": {
           "color": "#f2f5fa"
          },
          "hovermode": "closest",
          "hoverlabel": {
           "align": "left"
          },
          "paper_bgcolor": "rgb(17,17,17)",
          "plot_bgcolor": "rgb(17,17,17)",
          "polar": {
           "bgcolor": "rgb(17,17,17)",
           "angularaxis": {
            "gridcolor": "#506784",
            "linecolor": "#506784",
            "ticks": ""
           },
           "radialaxis": {
            "gridcolor": "#506784",
            "linecolor": "#506784",
            "ticks": ""
           }
          },
          "ternary": {
           "bgcolor": "rgb(17,17,17)",
           "aaxis": {
            "gridcolor": "#506784",
            "linecolor": "#506784",
            "ticks": ""
           },
           "baxis": {
            "gridcolor": "#506784",
            "linecolor": "#506784",
            "ticks": ""
           },
           "caxis": {
            "gridcolor": "#506784",
            "linecolor": "#506784",
            "ticks": ""
           }
          },
          "coloraxis": {
           "colorbar": {
            "outlinewidth": 0,
            "ticks": ""
           }
          },
          "colorscale": {
           "sequential": [
            [
             0.0,
             "#0d0887"
            ],
            [
             0.1111111111111111,
             "#46039f"
            ],
            [
             0.2222222222222222,
             "#7201a8"
            ],
            [
             0.3333333333333333,
             "#9c179e"
            ],
            [
             0.4444444444444444,
             "#bd3786"
            ],
            [
             0.5555555555555556,
             "#d8576b"
            ],
            [
             0.6666666666666666,
             "#ed7953"
            ],
            [
             0.7777777777777778,
             "#fb9f3a"
            ],
            [
             0.8888888888888888,
             "#fdca26"
            ],
            [
             1.0,
             "#f0f921"
            ]
           ],
           "sequentialminus": [
            [
             0.0,
             "#0d0887"
            ],
            [
             0.1111111111111111,
             "#46039f"
            ],
            [
             0.2222222222222222,
             "#7201a8"
            ],
            [
             0.3333333333333333,
             "#9c179e"
            ],
            [
             0.4444444444444444,
             "#bd3786"
            ],
            [
             0.5555555555555556,
             "#d8576b"
            ],
            [
             0.6666666666666666,
             "#ed7953"
            ],
            [
             0.7777777777777778,
             "#fb9f3a"
            ],
            [
             0.8888888888888888,
             "#fdca26"
            ],
            [
             1.0,
             "#f0f921"
            ]
           ],
           "diverging": [
            [
             0,
             "#8e0152"
            ],
            [
             0.1,
             "#c51b7d"
            ],
            [
             0.2,
             "#de77ae"
            ],
            [
             0.3,
             "#f1b6da"
            ],
            [
             0.4,
             "#fde0ef"
            ],
            [
             0.5,
             "#f7f7f7"
            ],
            [
             0.6,
             "#e6f5d0"
            ],
            [
             0.7,
             "#b8e186"
            ],
            [
             0.8,
             "#7fbc41"
            ],
            [
             0.9,
             "#4d9221"
            ],
            [
             1,
             "#276419"
            ]
           ]
          },
          "xaxis": {
           "gridcolor": "#283442",
           "linecolor": "#506784",
           "ticks": "",
           "title": {
            "standoff": 15
           },
           "zerolinecolor": "#283442",
           "automargin": true,
           "zerolinewidth": 2
          },
          "yaxis": {
           "gridcolor": "#283442",
           "linecolor": "#506784",
           "ticks": "",
           "title": {
            "standoff": 15
           },
           "zerolinecolor": "#283442",
           "automargin": true,
           "zerolinewidth": 2
          },
          "scene": {
           "xaxis": {
            "backgroundcolor": "rgb(17,17,17)",
            "gridcolor": "#506784",
            "linecolor": "#506784",
            "showbackground": true,
            "ticks": "",
            "zerolinecolor": "#C8D4E3",
            "gridwidth": 2
           },
           "yaxis": {
            "backgroundcolor": "rgb(17,17,17)",
            "gridcolor": "#506784",
            "linecolor": "#506784",
            "showbackground": true,
            "ticks": "",
            "zerolinecolor": "#C8D4E3",
            "gridwidth": 2
           },
           "zaxis": {
            "backgroundcolor": "rgb(17,17,17)",
            "gridcolor": "#506784",
            "linecolor": "#506784",
            "showbackground": true,
            "ticks": "",
            "zerolinecolor": "#C8D4E3",
            "gridwidth": 2
           }
          },
          "shapedefaults": {
           "line": {
            "color": "#f2f5fa"
           }
          },
          "annotationdefaults": {
           "arrowcolor": "#f2f5fa",
           "arrowhead": 0,
           "arrowwidth": 1
          },
          "geo": {
           "bgcolor": "rgb(17,17,17)",
           "landcolor": "rgb(17,17,17)",
           "subunitcolor": "#506784",
           "showland": true,
           "showlakes": true,
           "lakecolor": "rgb(17,17,17)"
          },
          "title": {
           "x": 0.05
          },
          "updatemenudefaults": {
           "bgcolor": "#506784",
           "borderwidth": 0
          },
          "sliderdefaults": {
           "bgcolor": "#C8D4E3",
           "borderwidth": 1,
           "bordercolor": "rgb(17,17,17)",
           "tickwidth": 0
          },
          "mapbox": {
           "style": "dark"
          }
         }
        }
       },
       "config": {
        "plotlyServerURL": "https://plot.ly"
       }
      }
     },
     "metadata": {},
     "output_type": "display_data"
    },
    {
     "data": {
      "text/plain": "<IPython.core.display.HTML object>",
      "text/html": "\n    <table>\n    <thead>\n    <tr><td>Machine Type</td><td>Count</td><td>Recipe</td><td>Ingredients</td><td>Products</td></tr>\n    </thead>\n    <tbody>\n    <tr><td>Extractor</td><td>6.5</td><td>iron_ore</td><td></td><td>iron_ore: 390.00</td></tr>\n<tr><td>Assembler</td><td>4.0</td><td>reinforced_iron_plate</td><td>screw: 240.00<br>iron_plate: 120.00</td><td>reinforced_iron_plate: 20.00</td></tr>\n<tr><td>Constructor</td><td>8.0</td><td>iron_rod</td><td>iron_ingot: 120.00</td><td>iron_rod: 120.00</td></tr>\n<tr><td>Constructor</td><td>6.0</td><td>screw</td><td>iron_rod: 60.00</td><td>screw: 240.00</td></tr>\n<tr><td>Constructor</td><td>9.0</td><td>iron_plate</td><td>iron_ingot: 270.00</td><td>iron_plate: 180.00</td></tr>\n<tr><td>Aggregator</td><td>1</td><td>output</td><td>iron_rod: 60.00<br>iron_plate: 60.00<br>reinforced_iron_plate: 20.00</td><td>iron_rod: 60.00<br>iron_plate: 60.00<br>reinforced_iron_plate: 20.00</td></tr>\n<tr><td>Smelter</td><td>13.0</td><td>iron_ingot</td><td>iron_ore: 390.00</td><td>iron_ingot: 390.00</td></tr>\n    </tbody>\n    </table>"
     },
     "metadata": {},
     "output_type": "display_data"
    },
    {
     "name": "stdout",
     "output_type": "stream",
     "text": [
      "Total Power: 269.0\n"
     ]
    },
    {
     "data": {
      "text/plain": "<__main__.Process at 0x7f79ea77e140>"
     },
     "execution_count": 18,
     "metadata": {},
     "output_type": "execute_result"
    }
   ],
   "source": [
    "# small iron factory\n",
    "target_product = MaterialSpec(iron_rod=60, iron_plate=60, reinforced_iron_plate=20)\n",
    "\n",
    "factory_plan(target_product)"
   ]
  },
  {
   "cell_type": "code",
   "execution_count": 19,
   "id": "179999f0-e114-4994-b6b4-34a618dba542",
   "metadata": {
    "tags": []
   },
   "outputs": [
    {
     "name": "stdout",
     "output_type": "stream",
     "text": [
      "missing: 'BP_ItemDescriptorPortableMiner_C'\n",
      "\n"
     ]
    },
    {
     "data": {
      "application/vnd.plotly.v1+json": {
       "data": [
        {
         "hoverinfo": "none",
         "line": {
          "shape": "spline"
         },
         "marker": {
          "angleref": "previous",
          "color": "black",
          "size": 10,
          "standoff": 10,
          "symbol": "arrow-wide"
         },
         "mode": "lines+markers",
         "showlegend": false,
         "x": [
          0.5,
          0.0,
          null,
          0.5,
          1.0,
          null
         ],
         "y": [
          1.0,
          2.0,
          null,
          1.0,
          2.0,
          null
         ],
         "type": "scatter"
        },
        {
         "hovertemplate": "%{text}<extra></extra>",
         "marker": {
          "color": [
           "#511CFB",
           "#FB0D0D",
           "#2E91E5",
           "#2E91E5"
          ],
          "size": [
           21.455752732056386,
           34.078102881813436,
           35.231883119115295,
           27.167195631449246
          ],
          "symbol": "circle-dot"
         },
         "mode": "markers",
         "showlegend": false,
         "text": [
          "\nAggregator<br>\nRecipe: input<br>\nScale: 1\n",
          "\nSmelter<br>\nRecipe: iron_ingot<br>\nScale: 12.0\n",
          "\nConstructor<br>\nRecipe: iron_rod<br>\nScale: 13.7143\n",
          "\nConstructor<br>\nRecipe: iron_plate<br>\nScale: 5.1429\n"
         ],
         "x": [
          -0.5,
          0.5,
          0.0,
          1.0
         ],
         "y": [
          1.0,
          1.0,
          2.0,
          2.0
         ],
         "type": "scatter"
        }
       ],
       "layout": {
        "template": {
         "data": {
          "histogram2dcontour": [
           {
            "type": "histogram2dcontour",
            "colorbar": {
             "outlinewidth": 0,
             "ticks": ""
            },
            "colorscale": [
             [
              0.0,
              "#0d0887"
             ],
             [
              0.1111111111111111,
              "#46039f"
             ],
             [
              0.2222222222222222,
              "#7201a8"
             ],
             [
              0.3333333333333333,
              "#9c179e"
             ],
             [
              0.4444444444444444,
              "#bd3786"
             ],
             [
              0.5555555555555556,
              "#d8576b"
             ],
             [
              0.6666666666666666,
              "#ed7953"
             ],
             [
              0.7777777777777778,
              "#fb9f3a"
             ],
             [
              0.8888888888888888,
              "#fdca26"
             ],
             [
              1.0,
              "#f0f921"
             ]
            ]
           }
          ],
          "choropleth": [
           {
            "type": "choropleth",
            "colorbar": {
             "outlinewidth": 0,
             "ticks": ""
            }
           }
          ],
          "histogram2d": [
           {
            "type": "histogram2d",
            "colorbar": {
             "outlinewidth": 0,
             "ticks": ""
            },
            "colorscale": [
             [
              0.0,
              "#0d0887"
             ],
             [
              0.1111111111111111,
              "#46039f"
             ],
             [
              0.2222222222222222,
              "#7201a8"
             ],
             [
              0.3333333333333333,
              "#9c179e"
             ],
             [
              0.4444444444444444,
              "#bd3786"
             ],
             [
              0.5555555555555556,
              "#d8576b"
             ],
             [
              0.6666666666666666,
              "#ed7953"
             ],
             [
              0.7777777777777778,
              "#fb9f3a"
             ],
             [
              0.8888888888888888,
              "#fdca26"
             ],
             [
              1.0,
              "#f0f921"
             ]
            ]
           }
          ],
          "heatmap": [
           {
            "type": "heatmap",
            "colorbar": {
             "outlinewidth": 0,
             "ticks": ""
            },
            "colorscale": [
             [
              0.0,
              "#0d0887"
             ],
             [
              0.1111111111111111,
              "#46039f"
             ],
             [
              0.2222222222222222,
              "#7201a8"
             ],
             [
              0.3333333333333333,
              "#9c179e"
             ],
             [
              0.4444444444444444,
              "#bd3786"
             ],
             [
              0.5555555555555556,
              "#d8576b"
             ],
             [
              0.6666666666666666,
              "#ed7953"
             ],
             [
              0.7777777777777778,
              "#fb9f3a"
             ],
             [
              0.8888888888888888,
              "#fdca26"
             ],
             [
              1.0,
              "#f0f921"
             ]
            ]
           }
          ],
          "heatmapgl": [
           {
            "type": "heatmapgl",
            "colorbar": {
             "outlinewidth": 0,
             "ticks": ""
            },
            "colorscale": [
             [
              0.0,
              "#0d0887"
             ],
             [
              0.1111111111111111,
              "#46039f"
             ],
             [
              0.2222222222222222,
              "#7201a8"
             ],
             [
              0.3333333333333333,
              "#9c179e"
             ],
             [
              0.4444444444444444,
              "#bd3786"
             ],
             [
              0.5555555555555556,
              "#d8576b"
             ],
             [
              0.6666666666666666,
              "#ed7953"
             ],
             [
              0.7777777777777778,
              "#fb9f3a"
             ],
             [
              0.8888888888888888,
              "#fdca26"
             ],
             [
              1.0,
              "#f0f921"
             ]
            ]
           }
          ],
          "contourcarpet": [
           {
            "type": "contourcarpet",
            "colorbar": {
             "outlinewidth": 0,
             "ticks": ""
            }
           }
          ],
          "contour": [
           {
            "type": "contour",
            "colorbar": {
             "outlinewidth": 0,
             "ticks": ""
            },
            "colorscale": [
             [
              0.0,
              "#0d0887"
             ],
             [
              0.1111111111111111,
              "#46039f"
             ],
             [
              0.2222222222222222,
              "#7201a8"
             ],
             [
              0.3333333333333333,
              "#9c179e"
             ],
             [
              0.4444444444444444,
              "#bd3786"
             ],
             [
              0.5555555555555556,
              "#d8576b"
             ],
             [
              0.6666666666666666,
              "#ed7953"
             ],
             [
              0.7777777777777778,
              "#fb9f3a"
             ],
             [
              0.8888888888888888,
              "#fdca26"
             ],
             [
              1.0,
              "#f0f921"
             ]
            ]
           }
          ],
          "surface": [
           {
            "type": "surface",
            "colorbar": {
             "outlinewidth": 0,
             "ticks": ""
            },
            "colorscale": [
             [
              0.0,
              "#0d0887"
             ],
             [
              0.1111111111111111,
              "#46039f"
             ],
             [
              0.2222222222222222,
              "#7201a8"
             ],
             [
              0.3333333333333333,
              "#9c179e"
             ],
             [
              0.4444444444444444,
              "#bd3786"
             ],
             [
              0.5555555555555556,
              "#d8576b"
             ],
             [
              0.6666666666666666,
              "#ed7953"
             ],
             [
              0.7777777777777778,
              "#fb9f3a"
             ],
             [
              0.8888888888888888,
              "#fdca26"
             ],
             [
              1.0,
              "#f0f921"
             ]
            ]
           }
          ],
          "mesh3d": [
           {
            "type": "mesh3d",
            "colorbar": {
             "outlinewidth": 0,
             "ticks": ""
            }
           }
          ],
          "scatter": [
           {
            "marker": {
             "line": {
              "color": "#283442"
             }
            },
            "type": "scatter"
           }
          ],
          "parcoords": [
           {
            "type": "parcoords",
            "line": {
             "colorbar": {
              "outlinewidth": 0,
              "ticks": ""
             }
            }
           }
          ],
          "scatterpolargl": [
           {
            "type": "scatterpolargl",
            "marker": {
             "colorbar": {
              "outlinewidth": 0,
              "ticks": ""
             }
            }
           }
          ],
          "bar": [
           {
            "error_x": {
             "color": "#f2f5fa"
            },
            "error_y": {
             "color": "#f2f5fa"
            },
            "marker": {
             "line": {
              "color": "rgb(17,17,17)",
              "width": 0.5
             },
             "pattern": {
              "fillmode": "overlay",
              "size": 10,
              "solidity": 0.2
             }
            },
            "type": "bar"
           }
          ],
          "scattergeo": [
           {
            "type": "scattergeo",
            "marker": {
             "colorbar": {
              "outlinewidth": 0,
              "ticks": ""
             }
            }
           }
          ],
          "scatterpolar": [
           {
            "type": "scatterpolar",
            "marker": {
             "colorbar": {
              "outlinewidth": 0,
              "ticks": ""
             }
            }
           }
          ],
          "histogram": [
           {
            "marker": {
             "pattern": {
              "fillmode": "overlay",
              "size": 10,
              "solidity": 0.2
             }
            },
            "type": "histogram"
           }
          ],
          "scattergl": [
           {
            "marker": {
             "line": {
              "color": "#283442"
             }
            },
            "type": "scattergl"
           }
          ],
          "scatter3d": [
           {
            "type": "scatter3d",
            "line": {
             "colorbar": {
              "outlinewidth": 0,
              "ticks": ""
             }
            },
            "marker": {
             "colorbar": {
              "outlinewidth": 0,
              "ticks": ""
             }
            }
           }
          ],
          "scattermapbox": [
           {
            "type": "scattermapbox",
            "marker": {
             "colorbar": {
              "outlinewidth": 0,
              "ticks": ""
             }
            }
           }
          ],
          "scatterternary": [
           {
            "type": "scatterternary",
            "marker": {
             "colorbar": {
              "outlinewidth": 0,
              "ticks": ""
             }
            }
           }
          ],
          "scattercarpet": [
           {
            "type": "scattercarpet",
            "marker": {
             "colorbar": {
              "outlinewidth": 0,
              "ticks": ""
             }
            }
           }
          ],
          "carpet": [
           {
            "aaxis": {
             "endlinecolor": "#A2B1C6",
             "gridcolor": "#506784",
             "linecolor": "#506784",
             "minorgridcolor": "#506784",
             "startlinecolor": "#A2B1C6"
            },
            "baxis": {
             "endlinecolor": "#A2B1C6",
             "gridcolor": "#506784",
             "linecolor": "#506784",
             "minorgridcolor": "#506784",
             "startlinecolor": "#A2B1C6"
            },
            "type": "carpet"
           }
          ],
          "table": [
           {
            "cells": {
             "fill": {
              "color": "#506784"
             },
             "line": {
              "color": "rgb(17,17,17)"
             }
            },
            "header": {
             "fill": {
              "color": "#2a3f5f"
             },
             "line": {
              "color": "rgb(17,17,17)"
             }
            },
            "type": "table"
           }
          ],
          "barpolar": [
           {
            "marker": {
             "line": {
              "color": "rgb(17,17,17)",
              "width": 0.5
             },
             "pattern": {
              "fillmode": "overlay",
              "size": 10,
              "solidity": 0.2
             }
            },
            "type": "barpolar"
           }
          ],
          "pie": [
           {
            "automargin": true,
            "type": "pie"
           }
          ]
         },
         "layout": {
          "autotypenumbers": "strict",
          "colorway": [
           "#636efa",
           "#EF553B",
           "#00cc96",
           "#ab63fa",
           "#FFA15A",
           "#19d3f3",
           "#FF6692",
           "#B6E880",
           "#FF97FF",
           "#FECB52"
          ],
          "font": {
           "color": "#f2f5fa"
          },
          "hovermode": "closest",
          "hoverlabel": {
           "align": "left"
          },
          "paper_bgcolor": "rgb(17,17,17)",
          "plot_bgcolor": "rgb(17,17,17)",
          "polar": {
           "bgcolor": "rgb(17,17,17)",
           "angularaxis": {
            "gridcolor": "#506784",
            "linecolor": "#506784",
            "ticks": ""
           },
           "radialaxis": {
            "gridcolor": "#506784",
            "linecolor": "#506784",
            "ticks": ""
           }
          },
          "ternary": {
           "bgcolor": "rgb(17,17,17)",
           "aaxis": {
            "gridcolor": "#506784",
            "linecolor": "#506784",
            "ticks": ""
           },
           "baxis": {
            "gridcolor": "#506784",
            "linecolor": "#506784",
            "ticks": ""
           },
           "caxis": {
            "gridcolor": "#506784",
            "linecolor": "#506784",
            "ticks": ""
           }
          },
          "coloraxis": {
           "colorbar": {
            "outlinewidth": 0,
            "ticks": ""
           }
          },
          "colorscale": {
           "sequential": [
            [
             0.0,
             "#0d0887"
            ],
            [
             0.1111111111111111,
             "#46039f"
            ],
            [
             0.2222222222222222,
             "#7201a8"
            ],
            [
             0.3333333333333333,
             "#9c179e"
            ],
            [
             0.4444444444444444,
             "#bd3786"
            ],
            [
             0.5555555555555556,
             "#d8576b"
            ],
            [
             0.6666666666666666,
             "#ed7953"
            ],
            [
             0.7777777777777778,
             "#fb9f3a"
            ],
            [
             0.8888888888888888,
             "#fdca26"
            ],
            [
             1.0,
             "#f0f921"
            ]
           ],
           "sequentialminus": [
            [
             0.0,
             "#0d0887"
            ],
            [
             0.1111111111111111,
             "#46039f"
            ],
            [
             0.2222222222222222,
             "#7201a8"
            ],
            [
             0.3333333333333333,
             "#9c179e"
            ],
            [
             0.4444444444444444,
             "#bd3786"
            ],
            [
             0.5555555555555556,
             "#d8576b"
            ],
            [
             0.6666666666666666,
             "#ed7953"
            ],
            [
             0.7777777777777778,
             "#fb9f3a"
            ],
            [
             0.8888888888888888,
             "#fdca26"
            ],
            [
             1.0,
             "#f0f921"
            ]
           ],
           "diverging": [
            [
             0,
             "#8e0152"
            ],
            [
             0.1,
             "#c51b7d"
            ],
            [
             0.2,
             "#de77ae"
            ],
            [
             0.3,
             "#f1b6da"
            ],
            [
             0.4,
             "#fde0ef"
            ],
            [
             0.5,
             "#f7f7f7"
            ],
            [
             0.6,
             "#e6f5d0"
            ],
            [
             0.7,
             "#b8e186"
            ],
            [
             0.8,
             "#7fbc41"
            ],
            [
             0.9,
             "#4d9221"
            ],
            [
             1,
             "#276419"
            ]
           ]
          },
          "xaxis": {
           "gridcolor": "#283442",
           "linecolor": "#506784",
           "ticks": "",
           "title": {
            "standoff": 15
           },
           "zerolinecolor": "#283442",
           "automargin": true,
           "zerolinewidth": 2
          },
          "yaxis": {
           "gridcolor": "#283442",
           "linecolor": "#506784",
           "ticks": "",
           "title": {
            "standoff": 15
           },
           "zerolinecolor": "#283442",
           "automargin": true,
           "zerolinewidth": 2
          },
          "scene": {
           "xaxis": {
            "backgroundcolor": "rgb(17,17,17)",
            "gridcolor": "#506784",
            "linecolor": "#506784",
            "showbackground": true,
            "ticks": "",
            "zerolinecolor": "#C8D4E3",
            "gridwidth": 2
           },
           "yaxis": {
            "backgroundcolor": "rgb(17,17,17)",
            "gridcolor": "#506784",
            "linecolor": "#506784",
            "showbackground": true,
            "ticks": "",
            "zerolinecolor": "#C8D4E3",
            "gridwidth": 2
           },
           "zaxis": {
            "backgroundcolor": "rgb(17,17,17)",
            "gridcolor": "#506784",
            "linecolor": "#506784",
            "showbackground": true,
            "ticks": "",
            "zerolinecolor": "#C8D4E3",
            "gridwidth": 2
           }
          },
          "shapedefaults": {
           "line": {
            "color": "#f2f5fa"
           }
          },
          "annotationdefaults": {
           "arrowcolor": "#f2f5fa",
           "arrowhead": 0,
           "arrowwidth": 1
          },
          "geo": {
           "bgcolor": "rgb(17,17,17)",
           "landcolor": "rgb(17,17,17)",
           "subunitcolor": "#506784",
           "showland": true,
           "showlakes": true,
           "lakecolor": "rgb(17,17,17)"
          },
          "title": {
           "x": 0.05
          },
          "updatemenudefaults": {
           "bgcolor": "#506784",
           "borderwidth": 0
          },
          "sliderdefaults": {
           "bgcolor": "#C8D4E3",
           "borderwidth": 1,
           "bordercolor": "rgb(17,17,17)",
           "tickwidth": 0
          },
          "mapbox": {
           "style": "dark"
          }
         }
        },
        "xaxis": {
         "showgrid": false,
         "zeroline": false,
         "visible": false
        },
        "yaxis": {
         "showgrid": false,
         "zeroline": false,
         "visible": false
        },
        "autosize": true,
        "height": 1000
       },
       "config": {
        "plotlyServerURL": "https://plot.ly"
       }
      }
     },
     "metadata": {},
     "output_type": "display_data"
    },
    {
     "data": {
      "application/vnd.plotly.v1+json": {
       "data": [
        {
         "link": {
          "label": [
           "iron_ingot",
           "iron_ingot"
          ],
          "source": [
           1,
           1
          ],
          "target": [
           2,
           3
          ],
          "value": [
           205.7145,
           154.287
          ]
         },
         "node": {
          "label": [
           "Aggregator: input",
           "Smelter: iron_ingot",
           "Constructor: iron_rod",
           "Constructor: iron_plate"
          ]
         },
         "type": "sankey"
        }
       ],
       "layout": {
        "template": {
         "data": {
          "histogram2dcontour": [
           {
            "type": "histogram2dcontour",
            "colorbar": {
             "outlinewidth": 0,
             "ticks": ""
            },
            "colorscale": [
             [
              0.0,
              "#0d0887"
             ],
             [
              0.1111111111111111,
              "#46039f"
             ],
             [
              0.2222222222222222,
              "#7201a8"
             ],
             [
              0.3333333333333333,
              "#9c179e"
             ],
             [
              0.4444444444444444,
              "#bd3786"
             ],
             [
              0.5555555555555556,
              "#d8576b"
             ],
             [
              0.6666666666666666,
              "#ed7953"
             ],
             [
              0.7777777777777778,
              "#fb9f3a"
             ],
             [
              0.8888888888888888,
              "#fdca26"
             ],
             [
              1.0,
              "#f0f921"
             ]
            ]
           }
          ],
          "choropleth": [
           {
            "type": "choropleth",
            "colorbar": {
             "outlinewidth": 0,
             "ticks": ""
            }
           }
          ],
          "histogram2d": [
           {
            "type": "histogram2d",
            "colorbar": {
             "outlinewidth": 0,
             "ticks": ""
            },
            "colorscale": [
             [
              0.0,
              "#0d0887"
             ],
             [
              0.1111111111111111,
              "#46039f"
             ],
             [
              0.2222222222222222,
              "#7201a8"
             ],
             [
              0.3333333333333333,
              "#9c179e"
             ],
             [
              0.4444444444444444,
              "#bd3786"
             ],
             [
              0.5555555555555556,
              "#d8576b"
             ],
             [
              0.6666666666666666,
              "#ed7953"
             ],
             [
              0.7777777777777778,
              "#fb9f3a"
             ],
             [
              0.8888888888888888,
              "#fdca26"
             ],
             [
              1.0,
              "#f0f921"
             ]
            ]
           }
          ],
          "heatmap": [
           {
            "type": "heatmap",
            "colorbar": {
             "outlinewidth": 0,
             "ticks": ""
            },
            "colorscale": [
             [
              0.0,
              "#0d0887"
             ],
             [
              0.1111111111111111,
              "#46039f"
             ],
             [
              0.2222222222222222,
              "#7201a8"
             ],
             [
              0.3333333333333333,
              "#9c179e"
             ],
             [
              0.4444444444444444,
              "#bd3786"
             ],
             [
              0.5555555555555556,
              "#d8576b"
             ],
             [
              0.6666666666666666,
              "#ed7953"
             ],
             [
              0.7777777777777778,
              "#fb9f3a"
             ],
             [
              0.8888888888888888,
              "#fdca26"
             ],
             [
              1.0,
              "#f0f921"
             ]
            ]
           }
          ],
          "heatmapgl": [
           {
            "type": "heatmapgl",
            "colorbar": {
             "outlinewidth": 0,
             "ticks": ""
            },
            "colorscale": [
             [
              0.0,
              "#0d0887"
             ],
             [
              0.1111111111111111,
              "#46039f"
             ],
             [
              0.2222222222222222,
              "#7201a8"
             ],
             [
              0.3333333333333333,
              "#9c179e"
             ],
             [
              0.4444444444444444,
              "#bd3786"
             ],
             [
              0.5555555555555556,
              "#d8576b"
             ],
             [
              0.6666666666666666,
              "#ed7953"
             ],
             [
              0.7777777777777778,
              "#fb9f3a"
             ],
             [
              0.8888888888888888,
              "#fdca26"
             ],
             [
              1.0,
              "#f0f921"
             ]
            ]
           }
          ],
          "contourcarpet": [
           {
            "type": "contourcarpet",
            "colorbar": {
             "outlinewidth": 0,
             "ticks": ""
            }
           }
          ],
          "contour": [
           {
            "type": "contour",
            "colorbar": {
             "outlinewidth": 0,
             "ticks": ""
            },
            "colorscale": [
             [
              0.0,
              "#0d0887"
             ],
             [
              0.1111111111111111,
              "#46039f"
             ],
             [
              0.2222222222222222,
              "#7201a8"
             ],
             [
              0.3333333333333333,
              "#9c179e"
             ],
             [
              0.4444444444444444,
              "#bd3786"
             ],
             [
              0.5555555555555556,
              "#d8576b"
             ],
             [
              0.6666666666666666,
              "#ed7953"
             ],
             [
              0.7777777777777778,
              "#fb9f3a"
             ],
             [
              0.8888888888888888,
              "#fdca26"
             ],
             [
              1.0,
              "#f0f921"
             ]
            ]
           }
          ],
          "surface": [
           {
            "type": "surface",
            "colorbar": {
             "outlinewidth": 0,
             "ticks": ""
            },
            "colorscale": [
             [
              0.0,
              "#0d0887"
             ],
             [
              0.1111111111111111,
              "#46039f"
             ],
             [
              0.2222222222222222,
              "#7201a8"
             ],
             [
              0.3333333333333333,
              "#9c179e"
             ],
             [
              0.4444444444444444,
              "#bd3786"
             ],
             [
              0.5555555555555556,
              "#d8576b"
             ],
             [
              0.6666666666666666,
              "#ed7953"
             ],
             [
              0.7777777777777778,
              "#fb9f3a"
             ],
             [
              0.8888888888888888,
              "#fdca26"
             ],
             [
              1.0,
              "#f0f921"
             ]
            ]
           }
          ],
          "mesh3d": [
           {
            "type": "mesh3d",
            "colorbar": {
             "outlinewidth": 0,
             "ticks": ""
            }
           }
          ],
          "scatter": [
           {
            "marker": {
             "line": {
              "color": "#283442"
             }
            },
            "type": "scatter"
           }
          ],
          "parcoords": [
           {
            "type": "parcoords",
            "line": {
             "colorbar": {
              "outlinewidth": 0,
              "ticks": ""
             }
            }
           }
          ],
          "scatterpolargl": [
           {
            "type": "scatterpolargl",
            "marker": {
             "colorbar": {
              "outlinewidth": 0,
              "ticks": ""
             }
            }
           }
          ],
          "bar": [
           {
            "error_x": {
             "color": "#f2f5fa"
            },
            "error_y": {
             "color": "#f2f5fa"
            },
            "marker": {
             "line": {
              "color": "rgb(17,17,17)",
              "width": 0.5
             },
             "pattern": {
              "fillmode": "overlay",
              "size": 10,
              "solidity": 0.2
             }
            },
            "type": "bar"
           }
          ],
          "scattergeo": [
           {
            "type": "scattergeo",
            "marker": {
             "colorbar": {
              "outlinewidth": 0,
              "ticks": ""
             }
            }
           }
          ],
          "scatterpolar": [
           {
            "type": "scatterpolar",
            "marker": {
             "colorbar": {
              "outlinewidth": 0,
              "ticks": ""
             }
            }
           }
          ],
          "histogram": [
           {
            "marker": {
             "pattern": {
              "fillmode": "overlay",
              "size": 10,
              "solidity": 0.2
             }
            },
            "type": "histogram"
           }
          ],
          "scattergl": [
           {
            "marker": {
             "line": {
              "color": "#283442"
             }
            },
            "type": "scattergl"
           }
          ],
          "scatter3d": [
           {
            "type": "scatter3d",
            "line": {
             "colorbar": {
              "outlinewidth": 0,
              "ticks": ""
             }
            },
            "marker": {
             "colorbar": {
              "outlinewidth": 0,
              "ticks": ""
             }
            }
           }
          ],
          "scattermapbox": [
           {
            "type": "scattermapbox",
            "marker": {
             "colorbar": {
              "outlinewidth": 0,
              "ticks": ""
             }
            }
           }
          ],
          "scatterternary": [
           {
            "type": "scatterternary",
            "marker": {
             "colorbar": {
              "outlinewidth": 0,
              "ticks": ""
             }
            }
           }
          ],
          "scattercarpet": [
           {
            "type": "scattercarpet",
            "marker": {
             "colorbar": {
              "outlinewidth": 0,
              "ticks": ""
             }
            }
           }
          ],
          "carpet": [
           {
            "aaxis": {
             "endlinecolor": "#A2B1C6",
             "gridcolor": "#506784",
             "linecolor": "#506784",
             "minorgridcolor": "#506784",
             "startlinecolor": "#A2B1C6"
            },
            "baxis": {
             "endlinecolor": "#A2B1C6",
             "gridcolor": "#506784",
             "linecolor": "#506784",
             "minorgridcolor": "#506784",
             "startlinecolor": "#A2B1C6"
            },
            "type": "carpet"
           }
          ],
          "table": [
           {
            "cells": {
             "fill": {
              "color": "#506784"
             },
             "line": {
              "color": "rgb(17,17,17)"
             }
            },
            "header": {
             "fill": {
              "color": "#2a3f5f"
             },
             "line": {
              "color": "rgb(17,17,17)"
             }
            },
            "type": "table"
           }
          ],
          "barpolar": [
           {
            "marker": {
             "line": {
              "color": "rgb(17,17,17)",
              "width": 0.5
             },
             "pattern": {
              "fillmode": "overlay",
              "size": 10,
              "solidity": 0.2
             }
            },
            "type": "barpolar"
           }
          ],
          "pie": [
           {
            "automargin": true,
            "type": "pie"
           }
          ]
         },
         "layout": {
          "autotypenumbers": "strict",
          "colorway": [
           "#636efa",
           "#EF553B",
           "#00cc96",
           "#ab63fa",
           "#FFA15A",
           "#19d3f3",
           "#FF6692",
           "#B6E880",
           "#FF97FF",
           "#FECB52"
          ],
          "font": {
           "color": "#f2f5fa"
          },
          "hovermode": "closest",
          "hoverlabel": {
           "align": "left"
          },
          "paper_bgcolor": "rgb(17,17,17)",
          "plot_bgcolor": "rgb(17,17,17)",
          "polar": {
           "bgcolor": "rgb(17,17,17)",
           "angularaxis": {
            "gridcolor": "#506784",
            "linecolor": "#506784",
            "ticks": ""
           },
           "radialaxis": {
            "gridcolor": "#506784",
            "linecolor": "#506784",
            "ticks": ""
           }
          },
          "ternary": {
           "bgcolor": "rgb(17,17,17)",
           "aaxis": {
            "gridcolor": "#506784",
            "linecolor": "#506784",
            "ticks": ""
           },
           "baxis": {
            "gridcolor": "#506784",
            "linecolor": "#506784",
            "ticks": ""
           },
           "caxis": {
            "gridcolor": "#506784",
            "linecolor": "#506784",
            "ticks": ""
           }
          },
          "coloraxis": {
           "colorbar": {
            "outlinewidth": 0,
            "ticks": ""
           }
          },
          "colorscale": {
           "sequential": [
            [
             0.0,
             "#0d0887"
            ],
            [
             0.1111111111111111,
             "#46039f"
            ],
            [
             0.2222222222222222,
             "#7201a8"
            ],
            [
             0.3333333333333333,
             "#9c179e"
            ],
            [
             0.4444444444444444,
             "#bd3786"
            ],
            [
             0.5555555555555556,
             "#d8576b"
            ],
            [
             0.6666666666666666,
             "#ed7953"
            ],
            [
             0.7777777777777778,
             "#fb9f3a"
            ],
            [
             0.8888888888888888,
             "#fdca26"
            ],
            [
             1.0,
             "#f0f921"
            ]
           ],
           "sequentialminus": [
            [
             0.0,
             "#0d0887"
            ],
            [
             0.1111111111111111,
             "#46039f"
            ],
            [
             0.2222222222222222,
             "#7201a8"
            ],
            [
             0.3333333333333333,
             "#9c179e"
            ],
            [
             0.4444444444444444,
             "#bd3786"
            ],
            [
             0.5555555555555556,
             "#d8576b"
            ],
            [
             0.6666666666666666,
             "#ed7953"
            ],
            [
             0.7777777777777778,
             "#fb9f3a"
            ],
            [
             0.8888888888888888,
             "#fdca26"
            ],
            [
             1.0,
             "#f0f921"
            ]
           ],
           "diverging": [
            [
             0,
             "#8e0152"
            ],
            [
             0.1,
             "#c51b7d"
            ],
            [
             0.2,
             "#de77ae"
            ],
            [
             0.3,
             "#f1b6da"
            ],
            [
             0.4,
             "#fde0ef"
            ],
            [
             0.5,
             "#f7f7f7"
            ],
            [
             0.6,
             "#e6f5d0"
            ],
            [
             0.7,
             "#b8e186"
            ],
            [
             0.8,
             "#7fbc41"
            ],
            [
             0.9,
             "#4d9221"
            ],
            [
             1,
             "#276419"
            ]
           ]
          },
          "xaxis": {
           "gridcolor": "#283442",
           "linecolor": "#506784",
           "ticks": "",
           "title": {
            "standoff": 15
           },
           "zerolinecolor": "#283442",
           "automargin": true,
           "zerolinewidth": 2
          },
          "yaxis": {
           "gridcolor": "#283442",
           "linecolor": "#506784",
           "ticks": "",
           "title": {
            "standoff": 15
           },
           "zerolinecolor": "#283442",
           "automargin": true,
           "zerolinewidth": 2
          },
          "scene": {
           "xaxis": {
            "backgroundcolor": "rgb(17,17,17)",
            "gridcolor": "#506784",
            "linecolor": "#506784",
            "showbackground": true,
            "ticks": "",
            "zerolinecolor": "#C8D4E3",
            "gridwidth": 2
           },
           "yaxis": {
            "backgroundcolor": "rgb(17,17,17)",
            "gridcolor": "#506784",
            "linecolor": "#506784",
            "showbackground": true,
            "ticks": "",
            "zerolinecolor": "#C8D4E3",
            "gridwidth": 2
           },
           "zaxis": {
            "backgroundcolor": "rgb(17,17,17)",
            "gridcolor": "#506784",
            "linecolor": "#506784",
            "showbackground": true,
            "ticks": "",
            "zerolinecolor": "#C8D4E3",
            "gridwidth": 2
           }
          },
          "shapedefaults": {
           "line": {
            "color": "#f2f5fa"
           }
          },
          "annotationdefaults": {
           "arrowcolor": "#f2f5fa",
           "arrowhead": 0,
           "arrowwidth": 1
          },
          "geo": {
           "bgcolor": "rgb(17,17,17)",
           "landcolor": "rgb(17,17,17)",
           "subunitcolor": "#506784",
           "showland": true,
           "showlakes": true,
           "lakecolor": "rgb(17,17,17)"
          },
          "title": {
           "x": 0.05
          },
          "updatemenudefaults": {
           "bgcolor": "#506784",
           "borderwidth": 0
          },
          "sliderdefaults": {
           "bgcolor": "#C8D4E3",
           "borderwidth": 1,
           "bordercolor": "rgb(17,17,17)",
           "tickwidth": 0
          },
          "mapbox": {
           "style": "dark"
          }
         }
        }
       },
       "config": {
        "plotlyServerURL": "https://plot.ly"
       }
      }
     },
     "metadata": {},
     "output_type": "display_data"
    },
    {
     "data": {
      "text/plain": "<IPython.core.display.HTML object>",
      "text/html": "\n    <table>\n    <thead>\n    <tr><td>Machine Type</td><td>Count</td><td>Recipe</td><td>Ingredients</td><td>Products</td></tr>\n    </thead>\n    <tbody>\n    <tr><td>Aggregator</td><td>1</td><td>input</td><td>iron_ore: 360.00</td><td>iron_ore: 360.00</td></tr>\n<tr><td>Smelter</td><td>12.0</td><td>iron_ingot</td><td>iron_ore: 360.00</td><td>iron_ingot: 360.00</td></tr>\n<tr><td>Constructor</td><td>13.7143</td><td>iron_rod</td><td>iron_ingot: 205.71</td><td>iron_rod: 205.71</td></tr>\n<tr><td>Constructor</td><td>5.1429</td><td>iron_plate</td><td>iron_ingot: 154.29</td><td>iron_plate: 102.86</td></tr>\n    </tbody>\n    </table>"
     },
     "metadata": {},
     "output_type": "display_data"
    }
   ],
   "source": [
    "available_machines = make_recipes(BASE_CONFIG, machine_mapping)\n",
    "available_machines = [*available_machines.core]\n",
    "Machine.autobind(available_machines)\n",
    "\n",
    "target_product = MaterialSpec(iron_plate=1, iron_rod=2)\n",
    "target_available = MaterialSpec(iron_ore=360)\n",
    "solution = Process.from_inputs(target_available,\n",
    "                               target_product,\n",
    "                               available_machines)\n",
    "\n",
    "plot_process(solution, Graph.layout_reingold_tilford)\n",
    "plot_sankey(solution)\n",
    "display(HTML(recipe_summary(solution)))"
   ]
  },
  {
   "cell_type": "code",
   "execution_count": 450,
   "id": "a2e4bd07-617b-494f-8456-bcbe02b966a5",
   "metadata": {},
   "outputs": [],
   "source": [
    "# small steel factory"
   ]
  },
  {
   "cell_type": "code",
   "execution_count": 451,
   "id": "033c0c55-604c-41c3-9309-721c2facc47c",
   "metadata": {},
   "outputs": [],
   "source": [
    "# big steel factory"
   ]
  },
  {
   "cell_type": "code",
   "execution_count": null,
   "id": "c050adf2-9bf8-4ce9-b1f6-3a458cb837f0",
   "metadata": {},
   "outputs": [],
   "source": []
  }
 ],
 "metadata": {
  "kernelspec": {
   "display_name": "Python 3 (ipykernel)",
   "language": "python",
   "name": "python3"
  },
  "language_info": {
   "codemirror_mode": {
    "name": "ipython",
    "version": 3
   },
   "file_extension": ".py",
   "mimetype": "text/x-python",
   "name": "python",
   "nbconvert_exporter": "python",
   "pygments_lexer": "ipython3",
   "version": "3.9.13"
  }
 },
 "nbformat": 4,
 "nbformat_minor": 5
}
